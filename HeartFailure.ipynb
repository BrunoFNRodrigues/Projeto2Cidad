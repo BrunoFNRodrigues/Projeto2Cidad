{
 "metadata": {
  "language_info": {
   "codemirror_mode": {
    "name": "ipython",
    "version": 3
   },
   "file_extension": ".py",
   "mimetype": "text/x-python",
   "name": "python",
   "nbconvert_exporter": "python",
   "pygments_lexer": "ipython3",
   "version": "3.8.3-final"
  },
  "orig_nbformat": 2,
  "kernelspec": {
   "name": "python3",
   "display_name": "Python 3"
  }
 },
 "nbformat": 4,
 "nbformat_minor": 2,
 "cells": [
  {
   "source": [
    "# Projeto 2 - Ciência dos Dados\n",
    "\n",
    "\n"
   ],
   "cell_type": "markdown",
   "metadata": {}
  },
  {
   "source": [
    "Nome: Bruno Freitas do Nascimento Rodrigues\n",
    "\n",
    "Nome: Paulo Augusto dos Passos Oliveira"
   ],
   "cell_type": "markdown",
   "metadata": {}
  },
  {
   "source": [
    "___\n",
    "Importando Bibliotecas necessárias:"
   ],
   "cell_type": "markdown",
   "metadata": {}
  },
  {
   "cell_type": "code",
   "execution_count": 10,
   "metadata": {},
   "outputs": [],
   "source": [
    "%matplotlib inline\n",
    "import pandas as pd\n",
    "import matplotlib.pyplot as plt\n",
    "import numpy as np\n",
    "import os\n",
    "import re\n",
    "import plotly.graph_objects as go\n",
    "import plotly.express as px \n",
    "from IPython.display import display\n",
    "from sklearn.model_selection import train_test_split, cross_validate\n",
    "from sklearn.metrics import confusion_matrix, accuracy_score\n",
    "from sklearn.linear_model import LogisticRegression\n",
    "from sklearn.ensemble import RandomForestClassifier\n",
    "from sklearn.tree import DecisionTreeClassifier, plot_tree"
   ]
  },
  {
   "source": [
    "Checando se dataset foi encontrado:"
   ],
   "cell_type": "markdown",
   "metadata": {}
  },
  {
   "cell_type": "code",
   "execution_count": 11,
   "metadata": {},
   "outputs": [
    {
     "output_type": "stream",
     "name": "stdout",
     "text": [
      "O arquivo heart_failure.csv foi encontrado, tudo certo para prosseguir!\n"
     ]
    }
   ],
   "source": [
    "filename = 'heart_failure.csv'\n",
    "if filename in os.listdir():\n",
    "    print(f'O arquivo {filename} foi encontrado, tudo certo para prosseguir!')\n",
    "else:\n",
    "    print(f'Não encontrei o arquivo {filename} aqui no diretório {os.getcwd()}, será que você não baixou o arquivo?')"
   ]
  },
  {
   "source": [
    "## Descrição das colunas do conjunto de dados:\n",
    "\n",
    "** age**: idade da pessoa em anos.<br>\n",
    "** anamia**: se a pessoa está animica ou não (booleana).<br>\n",
    "** creatinine_phosphokinase**: contidade de Creatinofosfoquinase presente no sangue em microgramas por litro (mcg/L).<br>\n",
    "** diabetes**: se a pessoa é diabética ou não (booleana).<br>\n",
    "** ejection_fraction**: porcetagem do sangue deixa o coração a após a contração.<br>\n",
    "** high_blood_pressure**: se a pessoa tem hipertensão ou não (booleana).<br>\n",
    "** platelets**: quantidade de plaquetas no sangue em kiloplaquetas por mililitro (kplaquetas/mL).<br>\n",
    "** serum_creatinine**: quantidade de creatinina no sangue em miligramas por decilitro (mg/dL).<br>\n",
    "** serum_sodium**: quantidade de sódio no sangue em miliequivalentes por litro (mEq/L).<br>\n",
    "** sex**: sexo da pessoa dividido em feminino e masculino, sendo 0=feminino e 1=masculino (binário).<br>\n",
    "** smoking**: se a pessoa fuma ou não (booleana).<br>\n",
    "** time**: tempo de acompanhamento após a falha cardíaca em dias.<br>\n",
    "** DEATH_EVENT**: se a pessoa foi a óbito ou não (booleana)."
   ],
   "cell_type": "markdown",
   "metadata": {}
  },
  {
   "source": [
    "** Configuração do arquivo: **"
   ],
   "cell_type": "markdown",
   "metadata": {}
  },
  {
   "cell_type": "code",
   "execution_count": 12,
   "metadata": {},
   "outputs": [
    {
     "output_type": "execute_result",
     "data": {
      "text/plain": [
       "    age  anaemia  creatinine_phosphokinase  diabetes  ejection_fraction  \\\n",
       "0  75.0        0                       582         0                 20   \n",
       "1  55.0        0                      7861         0                 38   \n",
       "2  65.0        0                       146         0                 20   \n",
       "3  50.0        1                       111         0                 20   \n",
       "4  65.0        1                       160         1                 20   \n",
       "\n",
       "   high_blood_pressure  platelets  serum_creatinine  serum_sodium  sex  \\\n",
       "0                    1  265000.00               1.9           130    1   \n",
       "1                    0  263358.03               1.1           136    1   \n",
       "2                    0  162000.00               1.3           129    1   \n",
       "3                    0  210000.00               1.9           137    1   \n",
       "4                    0  327000.00               2.7           116    0   \n",
       "\n",
       "   smoking  time  DEATH_EVENT  \n",
       "0        0     4            1  \n",
       "1        0     6            1  \n",
       "2        1     7            1  \n",
       "3        0     7            1  \n",
       "4        0     8            1  "
      ],
      "text/html": "<div>\n<style scoped>\n    .dataframe tbody tr th:only-of-type {\n        vertical-align: middle;\n    }\n\n    .dataframe tbody tr th {\n        vertical-align: top;\n    }\n\n    .dataframe thead th {\n        text-align: right;\n    }\n</style>\n<table border=\"1\" class=\"dataframe\">\n  <thead>\n    <tr style=\"text-align: right;\">\n      <th></th>\n      <th>age</th>\n      <th>anaemia</th>\n      <th>creatinine_phosphokinase</th>\n      <th>diabetes</th>\n      <th>ejection_fraction</th>\n      <th>high_blood_pressure</th>\n      <th>platelets</th>\n      <th>serum_creatinine</th>\n      <th>serum_sodium</th>\n      <th>sex</th>\n      <th>smoking</th>\n      <th>time</th>\n      <th>DEATH_EVENT</th>\n    </tr>\n  </thead>\n  <tbody>\n    <tr>\n      <th>0</th>\n      <td>75.0</td>\n      <td>0</td>\n      <td>582</td>\n      <td>0</td>\n      <td>20</td>\n      <td>1</td>\n      <td>265000.00</td>\n      <td>1.9</td>\n      <td>130</td>\n      <td>1</td>\n      <td>0</td>\n      <td>4</td>\n      <td>1</td>\n    </tr>\n    <tr>\n      <th>1</th>\n      <td>55.0</td>\n      <td>0</td>\n      <td>7861</td>\n      <td>0</td>\n      <td>38</td>\n      <td>0</td>\n      <td>263358.03</td>\n      <td>1.1</td>\n      <td>136</td>\n      <td>1</td>\n      <td>0</td>\n      <td>6</td>\n      <td>1</td>\n    </tr>\n    <tr>\n      <th>2</th>\n      <td>65.0</td>\n      <td>0</td>\n      <td>146</td>\n      <td>0</td>\n      <td>20</td>\n      <td>0</td>\n      <td>162000.00</td>\n      <td>1.3</td>\n      <td>129</td>\n      <td>1</td>\n      <td>1</td>\n      <td>7</td>\n      <td>1</td>\n    </tr>\n    <tr>\n      <th>3</th>\n      <td>50.0</td>\n      <td>1</td>\n      <td>111</td>\n      <td>0</td>\n      <td>20</td>\n      <td>0</td>\n      <td>210000.00</td>\n      <td>1.9</td>\n      <td>137</td>\n      <td>1</td>\n      <td>0</td>\n      <td>7</td>\n      <td>1</td>\n    </tr>\n    <tr>\n      <th>4</th>\n      <td>65.0</td>\n      <td>1</td>\n      <td>160</td>\n      <td>1</td>\n      <td>20</td>\n      <td>0</td>\n      <td>327000.00</td>\n      <td>2.7</td>\n      <td>116</td>\n      <td>0</td>\n      <td>0</td>\n      <td>8</td>\n      <td>1</td>\n    </tr>\n  </tbody>\n</table>\n</div>"
     },
     "metadata": {},
     "execution_count": 12
    }
   ],
   "source": [
    "dados = pd.read_csv(filename)\n",
    "dados.head(5)"
   ]
  },
  {
   "cell_type": "code",
   "execution_count": 13,
   "metadata": {},
   "outputs": [],
   "source": [
    "#Assegurando que todas as gategorias sejam intrepetadas corretamente\n",
    "dados['age'] = dados['age'].astype('float64')\n",
    "dados['anaemia'] = dados['anaemia'].astype('category')\n",
    "dados['creatinine_phosphokinase'] = dados['creatinine_phosphokinase'].astype('float64')\n",
    "dados['diabetes'] = dados['diabetes'].astype('category')\n",
    "dados['ejection_fraction'] = dados['ejection_fraction'].astype('float64')\n",
    "dados['high_blood_pressure'] = dados['high_blood_pressure'].astype('category')\n",
    "dados['platelets'] = dados['platelets'].astype('float64')\n",
    "dados['serum_sodium'] = dados['serum_sodium'].astype('float64')\n",
    "dados['sex'] = dados['sex'].astype('category')\n",
    "dados['smoking'] = dados['smoking'].astype('category')\n",
    "dados['time'] = dados['time'].astype('float64')\n",
    "dados['DEATH_EVENT'] = dados['DEATH_EVENT'].astype('category')"
   ]
  },
  {
   "cell_type": "code",
   "execution_count": 6,
   "metadata": {},
   "outputs": [],
   "source": [
    "#Motificando os parametros 0 e 1 para sim e não\n",
    "dados.anaemia.cat.categories = ['não', 'sim']\n",
    "dados.diabetes.cat.categories = ['não', 'sim']\n",
    "dados.high_blood_pressure.cat.categories = ['não', 'sim']\n",
    "dados.sex.cat.categories = ['M', 'F']\n",
    "dados.smoking.cat.categories = ['não', 'sim']\n",
    "dados.DEATH_EVENT.cat.categories = ['não', 'sim']\n",
    "\n",
    "\n",
    "dados.anaemia = pd.Categorical(dados.anaemia, categories=['não', 'sim'], ordered=False)\n",
    "dados.diabetes = pd.Categorical(dados.diabetes, categories=['não', 'sim'], ordered=False)\n",
    "dados.high_blood_pressure = pd.Categorical(dados.high_blood_pressure, categories=['não', 'sim'], ordered=False)\n",
    "dados.smoking = pd.Categorical(dados.smoking, categories=['não', 'sim'], ordered=False)\n",
    "dados.DEATH_EVENT = pd.Categorical(dados.DEATH_EVENT, categories=['não', 'sim'], ordered=False)"
   ]
  },
  {
   "source": [
    "## Histogramas\n",
    "\n",
    "Análise comparattiva de histogramas das features entre caso DEATH_EVENT = True e DEATH_EVENT = False"
   ],
   "cell_type": "markdown",
   "metadata": {}
  },
  {
   "cell_type": "code",
   "execution_count": 7,
   "metadata": {},
   "outputs": [],
   "source": [
    "#Divisão entre sobreviventes e mortos\n",
    "dead = dados[dados[\"DEATH_EVENT\"]=='sim']\n",
    "not_dead = dados[dados[\"DEATH_EVENT\"]=='não']"
   ]
  },
  {
   "cell_type": "code",
   "execution_count": 111,
   "metadata": {},
   "outputs": [
    {
     "output_type": "display_data",
     "data": {
      "text/plain": "<Figure size 1008x360 with 1 Axes>",
      "image/svg+xml": "<?xml version=\"1.0\" encoding=\"utf-8\" standalone=\"no\"?>\r\n<!DOCTYPE svg PUBLIC \"-//W3C//DTD SVG 1.1//EN\"\r\n  \"http://www.w3.org/Graphics/SVG/1.1/DTD/svg11.dtd\">\r\n<!-- Created with matplotlib (https://matplotlib.org/) -->\r\n<svg height=\"331.674375pt\" version=\"1.1\" viewBox=\"0 0 844.90625 331.674375\" width=\"844.90625pt\" xmlns=\"http://www.w3.org/2000/svg\" xmlns:xlink=\"http://www.w3.org/1999/xlink\">\r\n <defs>\r\n  <style type=\"text/css\">\r\n*{stroke-linecap:butt;stroke-linejoin:round;}\r\n  </style>\r\n </defs>\r\n <g id=\"figure_1\">\r\n  <g id=\"patch_1\">\r\n   <path d=\"M 0 331.674375 \r\nL 844.90625 331.674375 \r\nL 844.90625 0 \r\nL 0 0 \r\nz\r\n\" style=\"fill:none;\"/>\r\n  </g>\r\n  <g id=\"axes_1\">\r\n   <g id=\"patch_2\">\r\n    <path d=\"M 56.50625 294.118125 \r\nL 837.70625 294.118125 \r\nL 837.70625 22.318125 \r\nL 56.50625 22.318125 \r\nz\r\n\" style=\"fill:#ffffff;\"/>\r\n   </g>\r\n   <g id=\"patch_3\">\r\n    <path clip-path=\"url(#pe708a8ed71)\" d=\"M 92.015341 294.118125 \r\nL 163.033523 294.118125 \r\nL 163.033523 279.992319 \r\nL 92.015341 279.992319 \r\nz\r\n\" style=\"fill:#ff0000;stroke:#ffffff;stroke-linejoin:miter;\"/>\r\n   </g>\r\n   <g id=\"patch_4\">\r\n    <path clip-path=\"url(#pe708a8ed71)\" d=\"M 163.033523 294.118125 \r\nL 234.051705 294.118125 \r\nL 234.051705 152.86006 \r\nL 163.033523 152.86006 \r\nz\r\n\" style=\"fill:#ff0000;stroke:#ffffff;stroke-linejoin:miter;\"/>\r\n   </g>\r\n   <g id=\"patch_5\">\r\n    <path clip-path=\"url(#pe708a8ed71)\" d=\"M 234.051705 294.118125 \r\nL 305.069886 294.118125 \r\nL 305.069886 138.734254 \r\nL 234.051705 138.734254 \r\nz\r\n\" style=\"fill:#ff0000;stroke:#ffffff;stroke-linejoin:miter;\"/>\r\n   </g>\r\n   <g id=\"patch_6\">\r\n    <path clip-path=\"url(#pe708a8ed71)\" d=\"M 305.069886 294.118125 \r\nL 376.088068 294.118125 \r\nL 376.088068 166.985867 \r\nL 305.069886 166.985867 \r\nz\r\n\" style=\"fill:#ff0000;stroke:#ffffff;stroke-linejoin:miter;\"/>\r\n   </g>\r\n   <g id=\"patch_7\">\r\n    <path clip-path=\"url(#pe708a8ed71)\" d=\"M 376.088068 294.118125 \r\nL 447.10625 294.118125 \r\nL 447.10625 82.231028 \r\nL 376.088068 82.231028 \r\nz\r\n\" style=\"fill:#ff0000;stroke:#ffffff;stroke-linejoin:miter;\"/>\r\n   </g>\r\n   <g id=\"patch_8\">\r\n    <path clip-path=\"url(#pe708a8ed71)\" d=\"M 447.10625 294.118125 \r\nL 518.124432 294.118125 \r\nL 518.124432 124.608448 \r\nL 447.10625 124.608448 \r\nz\r\n\" style=\"fill:#ff0000;stroke:#ffffff;stroke-linejoin:miter;\"/>\r\n   </g>\r\n   <g id=\"patch_9\">\r\n    <path clip-path=\"url(#pe708a8ed71)\" d=\"M 518.124432 294.118125 \r\nL 589.142614 294.118125 \r\nL 589.142614 110.482641 \r\nL 518.124432 110.482641 \r\nz\r\n\" style=\"fill:#ff0000;stroke:#ffffff;stroke-linejoin:miter;\"/>\r\n   </g>\r\n   <g id=\"patch_10\">\r\n    <path clip-path=\"url(#pe708a8ed71)\" d=\"M 589.142614 294.118125 \r\nL 660.160795 294.118125 \r\nL 660.160795 195.23748 \r\nL 589.142614 195.23748 \r\nz\r\n\" style=\"fill:#ff0000;stroke:#ffffff;stroke-linejoin:miter;\"/>\r\n   </g>\r\n   <g id=\"patch_11\">\r\n    <path clip-path=\"url(#pe708a8ed71)\" d=\"M 660.160795 294.118125 \r\nL 731.178977 294.118125 \r\nL 731.178977 181.111673 \r\nL 660.160795 181.111673 \r\nz\r\n\" style=\"fill:#ff0000;stroke:#ffffff;stroke-linejoin:miter;\"/>\r\n   </g>\r\n   <g id=\"patch_12\">\r\n    <path clip-path=\"url(#pe708a8ed71)\" d=\"M 731.178977 294.118125 \r\nL 802.197159 294.118125 \r\nL 802.197159 195.23748 \r\nL 731.178977 195.23748 \r\nz\r\n\" style=\"fill:#ff0000;stroke:#ffffff;stroke-linejoin:miter;\"/>\r\n   </g>\r\n   <g id=\"patch_13\">\r\n    <path clip-path=\"url(#pe708a8ed71)\" d=\"M 92.015341 294.118125 \r\nL 163.033523 294.118125 \r\nL 163.033523 184.103839 \r\nL 92.015341 184.103839 \r\nz\r\n\" style=\"fill:#87ceeb;opacity:0.8;stroke:#ffffff;stroke-linejoin:miter;\"/>\r\n   </g>\r\n   <g id=\"patch_14\">\r\n    <path clip-path=\"url(#pe708a8ed71)\" d=\"M 163.033523 294.118125 \r\nL 234.051705 294.118125 \r\nL 234.051705 171.160982 \r\nL 163.033523 171.160982 \r\nz\r\n\" style=\"fill:#87ceeb;opacity:0.8;stroke:#ffffff;stroke-linejoin:miter;\"/>\r\n   </g>\r\n   <g id=\"patch_15\">\r\n    <path clip-path=\"url(#pe708a8ed71)\" d=\"M 234.051705 294.118125 \r\nL 305.069886 294.118125 \r\nL 305.069886 54.675268 \r\nL 234.051705 54.675268 \r\nz\r\n\" style=\"fill:#87ceeb;opacity:0.8;stroke:#ffffff;stroke-linejoin:miter;\"/>\r\n   </g>\r\n   <g id=\"patch_16\">\r\n    <path clip-path=\"url(#pe708a8ed71)\" d=\"M 305.069886 294.118125 \r\nL 376.088068 294.118125 \r\nL 376.088068 132.332411 \r\nL 305.069886 132.332411 \r\nz\r\n\" style=\"fill:#87ceeb;opacity:0.8;stroke:#ffffff;stroke-linejoin:miter;\"/>\r\n   </g>\r\n   <g id=\"patch_17\">\r\n    <path clip-path=\"url(#pe708a8ed71)\" d=\"M 376.088068 294.118125 \r\nL 447.10625 294.118125 \r\nL 447.10625 35.260982 \r\nL 376.088068 35.260982 \r\nz\r\n\" style=\"fill:#87ceeb;opacity:0.8;stroke:#ffffff;stroke-linejoin:miter;\"/>\r\n   </g>\r\n   <g id=\"patch_18\">\r\n    <path clip-path=\"url(#pe708a8ed71)\" d=\"M 447.10625 294.118125 \r\nL 518.124432 294.118125 \r\nL 518.124432 125.860982 \r\nL 447.10625 125.860982 \r\nz\r\n\" style=\"fill:#87ceeb;opacity:0.8;stroke:#ffffff;stroke-linejoin:miter;\"/>\r\n   </g>\r\n   <g id=\"patch_19\">\r\n    <path clip-path=\"url(#pe708a8ed71)\" d=\"M 518.124432 294.118125 \r\nL 589.142614 294.118125 \r\nL 589.142614 145.275268 \r\nL 518.124432 145.275268 \r\nz\r\n\" style=\"fill:#87ceeb;opacity:0.8;stroke:#ffffff;stroke-linejoin:miter;\"/>\r\n   </g>\r\n   <g id=\"patch_20\">\r\n    <path clip-path=\"url(#pe708a8ed71)\" d=\"M 589.142614 294.118125 \r\nL 660.160795 294.118125 \r\nL 660.160795 235.875268 \r\nL 589.142614 235.875268 \r\nz\r\n\" style=\"fill:#87ceeb;opacity:0.8;stroke:#ffffff;stroke-linejoin:miter;\"/>\r\n   </g>\r\n   <g id=\"patch_21\">\r\n    <path clip-path=\"url(#pe708a8ed71)\" d=\"M 660.160795 294.118125 \r\nL 731.178977 294.118125 \r\nL 731.178977 274.703839 \r\nL 660.160795 274.703839 \r\nz\r\n\" style=\"fill:#87ceeb;opacity:0.8;stroke:#ffffff;stroke-linejoin:miter;\"/>\r\n   </g>\r\n   <g id=\"patch_22\">\r\n    <path clip-path=\"url(#pe708a8ed71)\" d=\"M 731.178977 294.118125 \r\nL 802.197159 294.118125 \r\nL 802.197159 268.232411 \r\nL 731.178977 268.232411 \r\nz\r\n\" style=\"fill:#87ceeb;opacity:0.8;stroke:#ffffff;stroke-linejoin:miter;\"/>\r\n   </g>\r\n   <g id=\"matplotlib.axis_1\">\r\n    <g id=\"xtick_1\">\r\n     <g id=\"line2d_1\">\r\n      <defs>\r\n       <path d=\"M 0 0 \r\nL 0 3.5 \r\n\" id=\"m35c55e4680\" style=\"stroke:#000000;stroke-width:0.8;\"/>\r\n      </defs>\r\n      <g>\r\n       <use style=\"stroke:#000000;stroke-width:0.8;\" x=\"92.015341\" xlink:href=\"#m35c55e4680\" y=\"294.118125\"/>\r\n      </g>\r\n     </g>\r\n     <g id=\"text_1\">\r\n      <!-- 40 -->\r\n      <defs>\r\n       <path d=\"M 37.796875 64.3125 \r\nL 12.890625 25.390625 \r\nL 37.796875 25.390625 \r\nz\r\nM 35.203125 72.90625 \r\nL 47.609375 72.90625 \r\nL 47.609375 25.390625 \r\nL 58.015625 25.390625 \r\nL 58.015625 17.1875 \r\nL 47.609375 17.1875 \r\nL 47.609375 0 \r\nL 37.796875 0 \r\nL 37.796875 17.1875 \r\nL 4.890625 17.1875 \r\nL 4.890625 26.703125 \r\nz\r\n\" id=\"DejaVuSans-52\"/>\r\n       <path d=\"M 31.78125 66.40625 \r\nQ 24.171875 66.40625 20.328125 58.90625 \r\nQ 16.5 51.421875 16.5 36.375 \r\nQ 16.5 21.390625 20.328125 13.890625 \r\nQ 24.171875 6.390625 31.78125 6.390625 \r\nQ 39.453125 6.390625 43.28125 13.890625 \r\nQ 47.125 21.390625 47.125 36.375 \r\nQ 47.125 51.421875 43.28125 58.90625 \r\nQ 39.453125 66.40625 31.78125 66.40625 \r\nz\r\nM 31.78125 74.21875 \r\nQ 44.046875 74.21875 50.515625 64.515625 \r\nQ 56.984375 54.828125 56.984375 36.375 \r\nQ 56.984375 17.96875 50.515625 8.265625 \r\nQ 44.046875 -1.421875 31.78125 -1.421875 \r\nQ 19.53125 -1.421875 13.0625 8.265625 \r\nQ 6.59375 17.96875 6.59375 36.375 \r\nQ 6.59375 54.828125 13.0625 64.515625 \r\nQ 19.53125 74.21875 31.78125 74.21875 \r\nz\r\n\" id=\"DejaVuSans-48\"/>\r\n      </defs>\r\n      <g transform=\"translate(85.652841 308.716563)scale(0.1 -0.1)\">\r\n       <use xlink:href=\"#DejaVuSans-52\"/>\r\n       <use x=\"63.623047\" xlink:href=\"#DejaVuSans-48\"/>\r\n      </g>\r\n     </g>\r\n    </g>\r\n    <g id=\"xtick_2\">\r\n     <g id=\"line2d_2\">\r\n      <g>\r\n       <use style=\"stroke:#000000;stroke-width:0.8;\" x=\"234.051705\" xlink:href=\"#m35c55e4680\" y=\"294.118125\"/>\r\n      </g>\r\n     </g>\r\n     <g id=\"text_2\">\r\n      <!-- 50 -->\r\n      <defs>\r\n       <path d=\"M 10.796875 72.90625 \r\nL 49.515625 72.90625 \r\nL 49.515625 64.59375 \r\nL 19.828125 64.59375 \r\nL 19.828125 46.734375 \r\nQ 21.96875 47.46875 24.109375 47.828125 \r\nQ 26.265625 48.1875 28.421875 48.1875 \r\nQ 40.625 48.1875 47.75 41.5 \r\nQ 54.890625 34.8125 54.890625 23.390625 \r\nQ 54.890625 11.625 47.5625 5.09375 \r\nQ 40.234375 -1.421875 26.90625 -1.421875 \r\nQ 22.3125 -1.421875 17.546875 -0.640625 \r\nQ 12.796875 0.140625 7.71875 1.703125 \r\nL 7.71875 11.625 \r\nQ 12.109375 9.234375 16.796875 8.0625 \r\nQ 21.484375 6.890625 26.703125 6.890625 \r\nQ 35.15625 6.890625 40.078125 11.328125 \r\nQ 45.015625 15.765625 45.015625 23.390625 \r\nQ 45.015625 31 40.078125 35.4375 \r\nQ 35.15625 39.890625 26.703125 39.890625 \r\nQ 22.75 39.890625 18.8125 39.015625 \r\nQ 14.890625 38.140625 10.796875 36.28125 \r\nz\r\n\" id=\"DejaVuSans-53\"/>\r\n      </defs>\r\n      <g transform=\"translate(227.689205 308.716563)scale(0.1 -0.1)\">\r\n       <use xlink:href=\"#DejaVuSans-53\"/>\r\n       <use x=\"63.623047\" xlink:href=\"#DejaVuSans-48\"/>\r\n      </g>\r\n     </g>\r\n    </g>\r\n    <g id=\"xtick_3\">\r\n     <g id=\"line2d_3\">\r\n      <g>\r\n       <use style=\"stroke:#000000;stroke-width:0.8;\" x=\"376.088068\" xlink:href=\"#m35c55e4680\" y=\"294.118125\"/>\r\n      </g>\r\n     </g>\r\n     <g id=\"text_3\">\r\n      <!-- 60 -->\r\n      <defs>\r\n       <path d=\"M 33.015625 40.375 \r\nQ 26.375 40.375 22.484375 35.828125 \r\nQ 18.609375 31.296875 18.609375 23.390625 \r\nQ 18.609375 15.53125 22.484375 10.953125 \r\nQ 26.375 6.390625 33.015625 6.390625 \r\nQ 39.65625 6.390625 43.53125 10.953125 \r\nQ 47.40625 15.53125 47.40625 23.390625 \r\nQ 47.40625 31.296875 43.53125 35.828125 \r\nQ 39.65625 40.375 33.015625 40.375 \r\nz\r\nM 52.59375 71.296875 \r\nL 52.59375 62.3125 \r\nQ 48.875 64.0625 45.09375 64.984375 \r\nQ 41.3125 65.921875 37.59375 65.921875 \r\nQ 27.828125 65.921875 22.671875 59.328125 \r\nQ 17.53125 52.734375 16.796875 39.40625 \r\nQ 19.671875 43.65625 24.015625 45.921875 \r\nQ 28.375 48.1875 33.59375 48.1875 \r\nQ 44.578125 48.1875 50.953125 41.515625 \r\nQ 57.328125 34.859375 57.328125 23.390625 \r\nQ 57.328125 12.15625 50.6875 5.359375 \r\nQ 44.046875 -1.421875 33.015625 -1.421875 \r\nQ 20.359375 -1.421875 13.671875 8.265625 \r\nQ 6.984375 17.96875 6.984375 36.375 \r\nQ 6.984375 53.65625 15.1875 63.9375 \r\nQ 23.390625 74.21875 37.203125 74.21875 \r\nQ 40.921875 74.21875 44.703125 73.484375 \r\nQ 48.484375 72.75 52.59375 71.296875 \r\nz\r\n\" id=\"DejaVuSans-54\"/>\r\n      </defs>\r\n      <g transform=\"translate(369.725568 308.716563)scale(0.1 -0.1)\">\r\n       <use xlink:href=\"#DejaVuSans-54\"/>\r\n       <use x=\"63.623047\" xlink:href=\"#DejaVuSans-48\"/>\r\n      </g>\r\n     </g>\r\n    </g>\r\n    <g id=\"xtick_4\">\r\n     <g id=\"line2d_4\">\r\n      <g>\r\n       <use style=\"stroke:#000000;stroke-width:0.8;\" x=\"518.124432\" xlink:href=\"#m35c55e4680\" y=\"294.118125\"/>\r\n      </g>\r\n     </g>\r\n     <g id=\"text_4\">\r\n      <!-- 70 -->\r\n      <defs>\r\n       <path d=\"M 8.203125 72.90625 \r\nL 55.078125 72.90625 \r\nL 55.078125 68.703125 \r\nL 28.609375 0 \r\nL 18.3125 0 \r\nL 43.21875 64.59375 \r\nL 8.203125 64.59375 \r\nz\r\n\" id=\"DejaVuSans-55\"/>\r\n      </defs>\r\n      <g transform=\"translate(511.761932 308.716563)scale(0.1 -0.1)\">\r\n       <use xlink:href=\"#DejaVuSans-55\"/>\r\n       <use x=\"63.623047\" xlink:href=\"#DejaVuSans-48\"/>\r\n      </g>\r\n     </g>\r\n    </g>\r\n    <g id=\"xtick_5\">\r\n     <g id=\"line2d_5\">\r\n      <g>\r\n       <use style=\"stroke:#000000;stroke-width:0.8;\" x=\"660.160795\" xlink:href=\"#m35c55e4680\" y=\"294.118125\"/>\r\n      </g>\r\n     </g>\r\n     <g id=\"text_5\">\r\n      <!-- 80 -->\r\n      <defs>\r\n       <path d=\"M 31.78125 34.625 \r\nQ 24.75 34.625 20.71875 30.859375 \r\nQ 16.703125 27.09375 16.703125 20.515625 \r\nQ 16.703125 13.921875 20.71875 10.15625 \r\nQ 24.75 6.390625 31.78125 6.390625 \r\nQ 38.8125 6.390625 42.859375 10.171875 \r\nQ 46.921875 13.96875 46.921875 20.515625 \r\nQ 46.921875 27.09375 42.890625 30.859375 \r\nQ 38.875 34.625 31.78125 34.625 \r\nz\r\nM 21.921875 38.8125 \r\nQ 15.578125 40.375 12.03125 44.71875 \r\nQ 8.5 49.078125 8.5 55.328125 \r\nQ 8.5 64.0625 14.71875 69.140625 \r\nQ 20.953125 74.21875 31.78125 74.21875 \r\nQ 42.671875 74.21875 48.875 69.140625 \r\nQ 55.078125 64.0625 55.078125 55.328125 \r\nQ 55.078125 49.078125 51.53125 44.71875 \r\nQ 48 40.375 41.703125 38.8125 \r\nQ 48.828125 37.15625 52.796875 32.3125 \r\nQ 56.78125 27.484375 56.78125 20.515625 \r\nQ 56.78125 9.90625 50.3125 4.234375 \r\nQ 43.84375 -1.421875 31.78125 -1.421875 \r\nQ 19.734375 -1.421875 13.25 4.234375 \r\nQ 6.78125 9.90625 6.78125 20.515625 \r\nQ 6.78125 27.484375 10.78125 32.3125 \r\nQ 14.796875 37.15625 21.921875 38.8125 \r\nz\r\nM 18.3125 54.390625 \r\nQ 18.3125 48.734375 21.84375 45.5625 \r\nQ 25.390625 42.390625 31.78125 42.390625 \r\nQ 38.140625 42.390625 41.71875 45.5625 \r\nQ 45.3125 48.734375 45.3125 54.390625 \r\nQ 45.3125 60.0625 41.71875 63.234375 \r\nQ 38.140625 66.40625 31.78125 66.40625 \r\nQ 25.390625 66.40625 21.84375 63.234375 \r\nQ 18.3125 60.0625 18.3125 54.390625 \r\nz\r\n\" id=\"DejaVuSans-56\"/>\r\n      </defs>\r\n      <g transform=\"translate(653.798295 308.716563)scale(0.1 -0.1)\">\r\n       <use xlink:href=\"#DejaVuSans-56\"/>\r\n       <use x=\"63.623047\" xlink:href=\"#DejaVuSans-48\"/>\r\n      </g>\r\n     </g>\r\n    </g>\r\n    <g id=\"xtick_6\">\r\n     <g id=\"line2d_6\">\r\n      <g>\r\n       <use style=\"stroke:#000000;stroke-width:0.8;\" x=\"802.197159\" xlink:href=\"#m35c55e4680\" y=\"294.118125\"/>\r\n      </g>\r\n     </g>\r\n     <g id=\"text_6\">\r\n      <!-- 90 -->\r\n      <defs>\r\n       <path d=\"M 10.984375 1.515625 \r\nL 10.984375 10.5 \r\nQ 14.703125 8.734375 18.5 7.8125 \r\nQ 22.3125 6.890625 25.984375 6.890625 \r\nQ 35.75 6.890625 40.890625 13.453125 \r\nQ 46.046875 20.015625 46.78125 33.40625 \r\nQ 43.953125 29.203125 39.59375 26.953125 \r\nQ 35.25 24.703125 29.984375 24.703125 \r\nQ 19.046875 24.703125 12.671875 31.3125 \r\nQ 6.296875 37.9375 6.296875 49.421875 \r\nQ 6.296875 60.640625 12.9375 67.421875 \r\nQ 19.578125 74.21875 30.609375 74.21875 \r\nQ 43.265625 74.21875 49.921875 64.515625 \r\nQ 56.59375 54.828125 56.59375 36.375 \r\nQ 56.59375 19.140625 48.40625 8.859375 \r\nQ 40.234375 -1.421875 26.421875 -1.421875 \r\nQ 22.703125 -1.421875 18.890625 -0.6875 \r\nQ 15.09375 0.046875 10.984375 1.515625 \r\nz\r\nM 30.609375 32.421875 \r\nQ 37.25 32.421875 41.125 36.953125 \r\nQ 45.015625 41.5 45.015625 49.421875 \r\nQ 45.015625 57.28125 41.125 61.84375 \r\nQ 37.25 66.40625 30.609375 66.40625 \r\nQ 23.96875 66.40625 20.09375 61.84375 \r\nQ 16.21875 57.28125 16.21875 49.421875 \r\nQ 16.21875 41.5 20.09375 36.953125 \r\nQ 23.96875 32.421875 30.609375 32.421875 \r\nz\r\n\" id=\"DejaVuSans-57\"/>\r\n      </defs>\r\n      <g transform=\"translate(795.834659 308.716563)scale(0.1 -0.1)\">\r\n       <use xlink:href=\"#DejaVuSans-57\"/>\r\n       <use x=\"63.623047\" xlink:href=\"#DejaVuSans-48\"/>\r\n      </g>\r\n     </g>\r\n    </g>\r\n    <g id=\"text_7\">\r\n     <!-- idade[anos] -->\r\n     <defs>\r\n      <path d=\"M 9.421875 54.6875 \r\nL 18.40625 54.6875 \r\nL 18.40625 0 \r\nL 9.421875 0 \r\nz\r\nM 9.421875 75.984375 \r\nL 18.40625 75.984375 \r\nL 18.40625 64.59375 \r\nL 9.421875 64.59375 \r\nz\r\n\" id=\"DejaVuSans-105\"/>\r\n      <path d=\"M 45.40625 46.390625 \r\nL 45.40625 75.984375 \r\nL 54.390625 75.984375 \r\nL 54.390625 0 \r\nL 45.40625 0 \r\nL 45.40625 8.203125 \r\nQ 42.578125 3.328125 38.25 0.953125 \r\nQ 33.9375 -1.421875 27.875 -1.421875 \r\nQ 17.96875 -1.421875 11.734375 6.484375 \r\nQ 5.515625 14.40625 5.515625 27.296875 \r\nQ 5.515625 40.1875 11.734375 48.09375 \r\nQ 17.96875 56 27.875 56 \r\nQ 33.9375 56 38.25 53.625 \r\nQ 42.578125 51.265625 45.40625 46.390625 \r\nz\r\nM 14.796875 27.296875 \r\nQ 14.796875 17.390625 18.875 11.75 \r\nQ 22.953125 6.109375 30.078125 6.109375 \r\nQ 37.203125 6.109375 41.296875 11.75 \r\nQ 45.40625 17.390625 45.40625 27.296875 \r\nQ 45.40625 37.203125 41.296875 42.84375 \r\nQ 37.203125 48.484375 30.078125 48.484375 \r\nQ 22.953125 48.484375 18.875 42.84375 \r\nQ 14.796875 37.203125 14.796875 27.296875 \r\nz\r\n\" id=\"DejaVuSans-100\"/>\r\n      <path d=\"M 34.28125 27.484375 \r\nQ 23.390625 27.484375 19.1875 25 \r\nQ 14.984375 22.515625 14.984375 16.5 \r\nQ 14.984375 11.71875 18.140625 8.90625 \r\nQ 21.296875 6.109375 26.703125 6.109375 \r\nQ 34.1875 6.109375 38.703125 11.40625 \r\nQ 43.21875 16.703125 43.21875 25.484375 \r\nL 43.21875 27.484375 \r\nz\r\nM 52.203125 31.203125 \r\nL 52.203125 0 \r\nL 43.21875 0 \r\nL 43.21875 8.296875 \r\nQ 40.140625 3.328125 35.546875 0.953125 \r\nQ 30.953125 -1.421875 24.3125 -1.421875 \r\nQ 15.921875 -1.421875 10.953125 3.296875 \r\nQ 6 8.015625 6 15.921875 \r\nQ 6 25.140625 12.171875 29.828125 \r\nQ 18.359375 34.515625 30.609375 34.515625 \r\nL 43.21875 34.515625 \r\nL 43.21875 35.40625 \r\nQ 43.21875 41.609375 39.140625 45 \r\nQ 35.0625 48.390625 27.6875 48.390625 \r\nQ 23 48.390625 18.546875 47.265625 \r\nQ 14.109375 46.140625 10.015625 43.890625 \r\nL 10.015625 52.203125 \r\nQ 14.9375 54.109375 19.578125 55.046875 \r\nQ 24.21875 56 28.609375 56 \r\nQ 40.484375 56 46.34375 49.84375 \r\nQ 52.203125 43.703125 52.203125 31.203125 \r\nz\r\n\" id=\"DejaVuSans-97\"/>\r\n      <path d=\"M 56.203125 29.59375 \r\nL 56.203125 25.203125 \r\nL 14.890625 25.203125 \r\nQ 15.484375 15.921875 20.484375 11.0625 \r\nQ 25.484375 6.203125 34.421875 6.203125 \r\nQ 39.59375 6.203125 44.453125 7.46875 \r\nQ 49.3125 8.734375 54.109375 11.28125 \r\nL 54.109375 2.78125 \r\nQ 49.265625 0.734375 44.1875 -0.34375 \r\nQ 39.109375 -1.421875 33.890625 -1.421875 \r\nQ 20.796875 -1.421875 13.15625 6.1875 \r\nQ 5.515625 13.8125 5.515625 26.8125 \r\nQ 5.515625 40.234375 12.765625 48.109375 \r\nQ 20.015625 56 32.328125 56 \r\nQ 43.359375 56 49.78125 48.890625 \r\nQ 56.203125 41.796875 56.203125 29.59375 \r\nz\r\nM 47.21875 32.234375 \r\nQ 47.125 39.59375 43.09375 43.984375 \r\nQ 39.0625 48.390625 32.421875 48.390625 \r\nQ 24.90625 48.390625 20.390625 44.140625 \r\nQ 15.875 39.890625 15.1875 32.171875 \r\nz\r\n\" id=\"DejaVuSans-101\"/>\r\n      <path d=\"M 8.59375 75.984375 \r\nL 29.296875 75.984375 \r\nL 29.296875 69 \r\nL 17.578125 69 \r\nL 17.578125 -6.203125 \r\nL 29.296875 -6.203125 \r\nL 29.296875 -13.1875 \r\nL 8.59375 -13.1875 \r\nz\r\n\" id=\"DejaVuSans-91\"/>\r\n      <path d=\"M 54.890625 33.015625 \r\nL 54.890625 0 \r\nL 45.90625 0 \r\nL 45.90625 32.71875 \r\nQ 45.90625 40.484375 42.875 44.328125 \r\nQ 39.84375 48.1875 33.796875 48.1875 \r\nQ 26.515625 48.1875 22.3125 43.546875 \r\nQ 18.109375 38.921875 18.109375 30.90625 \r\nL 18.109375 0 \r\nL 9.078125 0 \r\nL 9.078125 54.6875 \r\nL 18.109375 54.6875 \r\nL 18.109375 46.1875 \r\nQ 21.34375 51.125 25.703125 53.5625 \r\nQ 30.078125 56 35.796875 56 \r\nQ 45.21875 56 50.046875 50.171875 \r\nQ 54.890625 44.34375 54.890625 33.015625 \r\nz\r\n\" id=\"DejaVuSans-110\"/>\r\n      <path d=\"M 30.609375 48.390625 \r\nQ 23.390625 48.390625 19.1875 42.75 \r\nQ 14.984375 37.109375 14.984375 27.296875 \r\nQ 14.984375 17.484375 19.15625 11.84375 \r\nQ 23.34375 6.203125 30.609375 6.203125 \r\nQ 37.796875 6.203125 41.984375 11.859375 \r\nQ 46.1875 17.53125 46.1875 27.296875 \r\nQ 46.1875 37.015625 41.984375 42.703125 \r\nQ 37.796875 48.390625 30.609375 48.390625 \r\nz\r\nM 30.609375 56 \r\nQ 42.328125 56 49.015625 48.375 \r\nQ 55.71875 40.765625 55.71875 27.296875 \r\nQ 55.71875 13.875 49.015625 6.21875 \r\nQ 42.328125 -1.421875 30.609375 -1.421875 \r\nQ 18.84375 -1.421875 12.171875 6.21875 \r\nQ 5.515625 13.875 5.515625 27.296875 \r\nQ 5.515625 40.765625 12.171875 48.375 \r\nQ 18.84375 56 30.609375 56 \r\nz\r\n\" id=\"DejaVuSans-111\"/>\r\n      <path d=\"M 44.28125 53.078125 \r\nL 44.28125 44.578125 \r\nQ 40.484375 46.53125 36.375 47.5 \r\nQ 32.28125 48.484375 27.875 48.484375 \r\nQ 21.1875 48.484375 17.84375 46.4375 \r\nQ 14.5 44.390625 14.5 40.28125 \r\nQ 14.5 37.15625 16.890625 35.375 \r\nQ 19.28125 33.59375 26.515625 31.984375 \r\nL 29.59375 31.296875 \r\nQ 39.15625 29.25 43.1875 25.515625 \r\nQ 47.21875 21.78125 47.21875 15.09375 \r\nQ 47.21875 7.46875 41.1875 3.015625 \r\nQ 35.15625 -1.421875 24.609375 -1.421875 \r\nQ 20.21875 -1.421875 15.453125 -0.5625 \r\nQ 10.6875 0.296875 5.421875 2 \r\nL 5.421875 11.28125 \r\nQ 10.40625 8.6875 15.234375 7.390625 \r\nQ 20.0625 6.109375 24.8125 6.109375 \r\nQ 31.15625 6.109375 34.5625 8.28125 \r\nQ 37.984375 10.453125 37.984375 14.40625 \r\nQ 37.984375 18.0625 35.515625 20.015625 \r\nQ 33.0625 21.96875 24.703125 23.78125 \r\nL 21.578125 24.515625 \r\nQ 13.234375 26.265625 9.515625 29.90625 \r\nQ 5.8125 33.546875 5.8125 39.890625 \r\nQ 5.8125 47.609375 11.28125 51.796875 \r\nQ 16.75 56 26.8125 56 \r\nQ 31.78125 56 36.171875 55.265625 \r\nQ 40.578125 54.546875 44.28125 53.078125 \r\nz\r\n\" id=\"DejaVuSans-115\"/>\r\n      <path d=\"M 30.421875 75.984375 \r\nL 30.421875 -13.1875 \r\nL 9.71875 -13.1875 \r\nL 9.71875 -6.203125 \r\nL 21.390625 -6.203125 \r\nL 21.390625 69 \r\nL 9.71875 69 \r\nL 9.71875 75.984375 \r\nz\r\n\" id=\"DejaVuSans-93\"/>\r\n     </defs>\r\n     <g transform=\"translate(417.429688 322.394687)scale(0.1 -0.1)\">\r\n      <use xlink:href=\"#DejaVuSans-105\"/>\r\n      <use x=\"27.783203\" xlink:href=\"#DejaVuSans-100\"/>\r\n      <use x=\"91.259766\" xlink:href=\"#DejaVuSans-97\"/>\r\n      <use x=\"152.539062\" xlink:href=\"#DejaVuSans-100\"/>\r\n      <use x=\"216.015625\" xlink:href=\"#DejaVuSans-101\"/>\r\n      <use x=\"277.539062\" xlink:href=\"#DejaVuSans-91\"/>\r\n      <use x=\"316.552734\" xlink:href=\"#DejaVuSans-97\"/>\r\n      <use x=\"377.832031\" xlink:href=\"#DejaVuSans-110\"/>\r\n      <use x=\"441.210938\" xlink:href=\"#DejaVuSans-111\"/>\r\n      <use x=\"502.392578\" xlink:href=\"#DejaVuSans-115\"/>\r\n      <use x=\"554.492188\" xlink:href=\"#DejaVuSans-93\"/>\r\n     </g>\r\n    </g>\r\n   </g>\r\n   <g id=\"matplotlib.axis_2\">\r\n    <g id=\"ytick_1\">\r\n     <g id=\"line2d_7\">\r\n      <defs>\r\n       <path d=\"M 0 0 \r\nL -3.5 0 \r\n\" id=\"m66bc7d4f83\" style=\"stroke:#000000;stroke-width:0.8;\"/>\r\n      </defs>\r\n      <g>\r\n       <use style=\"stroke:#000000;stroke-width:0.8;\" x=\"56.50625\" xlink:href=\"#m66bc7d4f83\" y=\"294.118125\"/>\r\n      </g>\r\n     </g>\r\n     <g id=\"text_8\">\r\n      <!-- 0.000 -->\r\n      <defs>\r\n       <path d=\"M 10.6875 12.40625 \r\nL 21 12.40625 \r\nL 21 0 \r\nL 10.6875 0 \r\nz\r\n\" id=\"DejaVuSans-46\"/>\r\n      </defs>\r\n      <g transform=\"translate(20.878125 297.917344)scale(0.1 -0.1)\">\r\n       <use xlink:href=\"#DejaVuSans-48\"/>\r\n       <use x=\"63.623047\" xlink:href=\"#DejaVuSans-46\"/>\r\n       <use x=\"95.410156\" xlink:href=\"#DejaVuSans-48\"/>\r\n       <use x=\"159.033203\" xlink:href=\"#DejaVuSans-48\"/>\r\n       <use x=\"222.65625\" xlink:href=\"#DejaVuSans-48\"/>\r\n      </g>\r\n     </g>\r\n    </g>\r\n    <g id=\"ytick_2\">\r\n     <g id=\"line2d_8\">\r\n      <g>\r\n       <use style=\"stroke:#000000;stroke-width:0.8;\" x=\"56.50625\" xlink:href=\"#m66bc7d4f83\" y=\"261.275625\"/>\r\n      </g>\r\n     </g>\r\n     <g id=\"text_9\">\r\n      <!-- 0.005 -->\r\n      <g transform=\"translate(20.878125 265.074844)scale(0.1 -0.1)\">\r\n       <use xlink:href=\"#DejaVuSans-48\"/>\r\n       <use x=\"63.623047\" xlink:href=\"#DejaVuSans-46\"/>\r\n       <use x=\"95.410156\" xlink:href=\"#DejaVuSans-48\"/>\r\n       <use x=\"159.033203\" xlink:href=\"#DejaVuSans-48\"/>\r\n       <use x=\"222.65625\" xlink:href=\"#DejaVuSans-53\"/>\r\n      </g>\r\n     </g>\r\n    </g>\r\n    <g id=\"ytick_3\">\r\n     <g id=\"line2d_9\">\r\n      <g>\r\n       <use style=\"stroke:#000000;stroke-width:0.8;\" x=\"56.50625\" xlink:href=\"#m66bc7d4f83\" y=\"228.433125\"/>\r\n      </g>\r\n     </g>\r\n     <g id=\"text_10\">\r\n      <!-- 0.010 -->\r\n      <defs>\r\n       <path d=\"M 12.40625 8.296875 \r\nL 28.515625 8.296875 \r\nL 28.515625 63.921875 \r\nL 10.984375 60.40625 \r\nL 10.984375 69.390625 \r\nL 28.421875 72.90625 \r\nL 38.28125 72.90625 \r\nL 38.28125 8.296875 \r\nL 54.390625 8.296875 \r\nL 54.390625 0 \r\nL 12.40625 0 \r\nz\r\n\" id=\"DejaVuSans-49\"/>\r\n      </defs>\r\n      <g transform=\"translate(20.878125 232.232344)scale(0.1 -0.1)\">\r\n       <use xlink:href=\"#DejaVuSans-48\"/>\r\n       <use x=\"63.623047\" xlink:href=\"#DejaVuSans-46\"/>\r\n       <use x=\"95.410156\" xlink:href=\"#DejaVuSans-48\"/>\r\n       <use x=\"159.033203\" xlink:href=\"#DejaVuSans-49\"/>\r\n       <use x=\"222.65625\" xlink:href=\"#DejaVuSans-48\"/>\r\n      </g>\r\n     </g>\r\n    </g>\r\n    <g id=\"ytick_4\">\r\n     <g id=\"line2d_10\">\r\n      <g>\r\n       <use style=\"stroke:#000000;stroke-width:0.8;\" x=\"56.50625\" xlink:href=\"#m66bc7d4f83\" y=\"195.590625\"/>\r\n      </g>\r\n     </g>\r\n     <g id=\"text_11\">\r\n      <!-- 0.015 -->\r\n      <g transform=\"translate(20.878125 199.389844)scale(0.1 -0.1)\">\r\n       <use xlink:href=\"#DejaVuSans-48\"/>\r\n       <use x=\"63.623047\" xlink:href=\"#DejaVuSans-46\"/>\r\n       <use x=\"95.410156\" xlink:href=\"#DejaVuSans-48\"/>\r\n       <use x=\"159.033203\" xlink:href=\"#DejaVuSans-49\"/>\r\n       <use x=\"222.65625\" xlink:href=\"#DejaVuSans-53\"/>\r\n      </g>\r\n     </g>\r\n    </g>\r\n    <g id=\"ytick_5\">\r\n     <g id=\"line2d_11\">\r\n      <g>\r\n       <use style=\"stroke:#000000;stroke-width:0.8;\" x=\"56.50625\" xlink:href=\"#m66bc7d4f83\" y=\"162.748125\"/>\r\n      </g>\r\n     </g>\r\n     <g id=\"text_12\">\r\n      <!-- 0.020 -->\r\n      <defs>\r\n       <path d=\"M 19.1875 8.296875 \r\nL 53.609375 8.296875 \r\nL 53.609375 0 \r\nL 7.328125 0 \r\nL 7.328125 8.296875 \r\nQ 12.9375 14.109375 22.625 23.890625 \r\nQ 32.328125 33.6875 34.8125 36.53125 \r\nQ 39.546875 41.84375 41.421875 45.53125 \r\nQ 43.3125 49.21875 43.3125 52.78125 \r\nQ 43.3125 58.59375 39.234375 62.25 \r\nQ 35.15625 65.921875 28.609375 65.921875 \r\nQ 23.96875 65.921875 18.8125 64.3125 \r\nQ 13.671875 62.703125 7.8125 59.421875 \r\nL 7.8125 69.390625 \r\nQ 13.765625 71.78125 18.9375 73 \r\nQ 24.125 74.21875 28.421875 74.21875 \r\nQ 39.75 74.21875 46.484375 68.546875 \r\nQ 53.21875 62.890625 53.21875 53.421875 \r\nQ 53.21875 48.921875 51.53125 44.890625 \r\nQ 49.859375 40.875 45.40625 35.40625 \r\nQ 44.1875 33.984375 37.640625 27.21875 \r\nQ 31.109375 20.453125 19.1875 8.296875 \r\nz\r\n\" id=\"DejaVuSans-50\"/>\r\n      </defs>\r\n      <g transform=\"translate(20.878125 166.547344)scale(0.1 -0.1)\">\r\n       <use xlink:href=\"#DejaVuSans-48\"/>\r\n       <use x=\"63.623047\" xlink:href=\"#DejaVuSans-46\"/>\r\n       <use x=\"95.410156\" xlink:href=\"#DejaVuSans-48\"/>\r\n       <use x=\"159.033203\" xlink:href=\"#DejaVuSans-50\"/>\r\n       <use x=\"222.65625\" xlink:href=\"#DejaVuSans-48\"/>\r\n      </g>\r\n     </g>\r\n    </g>\r\n    <g id=\"ytick_6\">\r\n     <g id=\"line2d_12\">\r\n      <g>\r\n       <use style=\"stroke:#000000;stroke-width:0.8;\" x=\"56.50625\" xlink:href=\"#m66bc7d4f83\" y=\"129.905625\"/>\r\n      </g>\r\n     </g>\r\n     <g id=\"text_13\">\r\n      <!-- 0.025 -->\r\n      <g transform=\"translate(20.878125 133.704844)scale(0.1 -0.1)\">\r\n       <use xlink:href=\"#DejaVuSans-48\"/>\r\n       <use x=\"63.623047\" xlink:href=\"#DejaVuSans-46\"/>\r\n       <use x=\"95.410156\" xlink:href=\"#DejaVuSans-48\"/>\r\n       <use x=\"159.033203\" xlink:href=\"#DejaVuSans-50\"/>\r\n       <use x=\"222.65625\" xlink:href=\"#DejaVuSans-53\"/>\r\n      </g>\r\n     </g>\r\n    </g>\r\n    <g id=\"ytick_7\">\r\n     <g id=\"line2d_13\">\r\n      <g>\r\n       <use style=\"stroke:#000000;stroke-width:0.8;\" x=\"56.50625\" xlink:href=\"#m66bc7d4f83\" y=\"97.063125\"/>\r\n      </g>\r\n     </g>\r\n     <g id=\"text_14\">\r\n      <!-- 0.030 -->\r\n      <defs>\r\n       <path d=\"M 40.578125 39.3125 \r\nQ 47.65625 37.796875 51.625 33 \r\nQ 55.609375 28.21875 55.609375 21.1875 \r\nQ 55.609375 10.40625 48.1875 4.484375 \r\nQ 40.765625 -1.421875 27.09375 -1.421875 \r\nQ 22.515625 -1.421875 17.65625 -0.515625 \r\nQ 12.796875 0.390625 7.625 2.203125 \r\nL 7.625 11.71875 \r\nQ 11.71875 9.328125 16.59375 8.109375 \r\nQ 21.484375 6.890625 26.8125 6.890625 \r\nQ 36.078125 6.890625 40.9375 10.546875 \r\nQ 45.796875 14.203125 45.796875 21.1875 \r\nQ 45.796875 27.640625 41.28125 31.265625 \r\nQ 36.765625 34.90625 28.71875 34.90625 \r\nL 20.21875 34.90625 \r\nL 20.21875 43.015625 \r\nL 29.109375 43.015625 \r\nQ 36.375 43.015625 40.234375 45.921875 \r\nQ 44.09375 48.828125 44.09375 54.296875 \r\nQ 44.09375 59.90625 40.109375 62.90625 \r\nQ 36.140625 65.921875 28.71875 65.921875 \r\nQ 24.65625 65.921875 20.015625 65.03125 \r\nQ 15.375 64.15625 9.8125 62.3125 \r\nL 9.8125 71.09375 \r\nQ 15.4375 72.65625 20.34375 73.4375 \r\nQ 25.25 74.21875 29.59375 74.21875 \r\nQ 40.828125 74.21875 47.359375 69.109375 \r\nQ 53.90625 64.015625 53.90625 55.328125 \r\nQ 53.90625 49.265625 50.4375 45.09375 \r\nQ 46.96875 40.921875 40.578125 39.3125 \r\nz\r\n\" id=\"DejaVuSans-51\"/>\r\n      </defs>\r\n      <g transform=\"translate(20.878125 100.862344)scale(0.1 -0.1)\">\r\n       <use xlink:href=\"#DejaVuSans-48\"/>\r\n       <use x=\"63.623047\" xlink:href=\"#DejaVuSans-46\"/>\r\n       <use x=\"95.410156\" xlink:href=\"#DejaVuSans-48\"/>\r\n       <use x=\"159.033203\" xlink:href=\"#DejaVuSans-51\"/>\r\n       <use x=\"222.65625\" xlink:href=\"#DejaVuSans-48\"/>\r\n      </g>\r\n     </g>\r\n    </g>\r\n    <g id=\"ytick_8\">\r\n     <g id=\"line2d_14\">\r\n      <g>\r\n       <use style=\"stroke:#000000;stroke-width:0.8;\" x=\"56.50625\" xlink:href=\"#m66bc7d4f83\" y=\"64.220625\"/>\r\n      </g>\r\n     </g>\r\n     <g id=\"text_15\">\r\n      <!-- 0.035 -->\r\n      <g transform=\"translate(20.878125 68.019844)scale(0.1 -0.1)\">\r\n       <use xlink:href=\"#DejaVuSans-48\"/>\r\n       <use x=\"63.623047\" xlink:href=\"#DejaVuSans-46\"/>\r\n       <use x=\"95.410156\" xlink:href=\"#DejaVuSans-48\"/>\r\n       <use x=\"159.033203\" xlink:href=\"#DejaVuSans-51\"/>\r\n       <use x=\"222.65625\" xlink:href=\"#DejaVuSans-53\"/>\r\n      </g>\r\n     </g>\r\n    </g>\r\n    <g id=\"ytick_9\">\r\n     <g id=\"line2d_15\">\r\n      <g>\r\n       <use style=\"stroke:#000000;stroke-width:0.8;\" x=\"56.50625\" xlink:href=\"#m66bc7d4f83\" y=\"31.378125\"/>\r\n      </g>\r\n     </g>\r\n     <g id=\"text_16\">\r\n      <!-- 0.040 -->\r\n      <g transform=\"translate(20.878125 35.177344)scale(0.1 -0.1)\">\r\n       <use xlink:href=\"#DejaVuSans-48\"/>\r\n       <use x=\"63.623047\" xlink:href=\"#DejaVuSans-46\"/>\r\n       <use x=\"95.410156\" xlink:href=\"#DejaVuSans-48\"/>\r\n       <use x=\"159.033203\" xlink:href=\"#DejaVuSans-52\"/>\r\n       <use x=\"222.65625\" xlink:href=\"#DejaVuSans-48\"/>\r\n      </g>\r\n     </g>\r\n    </g>\r\n    <g id=\"text_17\">\r\n     <!-- densidade -->\r\n     <g transform=\"translate(14.798438 184.120469)rotate(-90)scale(0.1 -0.1)\">\r\n      <use xlink:href=\"#DejaVuSans-100\"/>\r\n      <use x=\"63.476562\" xlink:href=\"#DejaVuSans-101\"/>\r\n      <use x=\"125\" xlink:href=\"#DejaVuSans-110\"/>\r\n      <use x=\"188.378906\" xlink:href=\"#DejaVuSans-115\"/>\r\n      <use x=\"240.478516\" xlink:href=\"#DejaVuSans-105\"/>\r\n      <use x=\"268.261719\" xlink:href=\"#DejaVuSans-100\"/>\r\n      <use x=\"331.738281\" xlink:href=\"#DejaVuSans-97\"/>\r\n      <use x=\"393.017578\" xlink:href=\"#DejaVuSans-100\"/>\r\n      <use x=\"456.494141\" xlink:href=\"#DejaVuSans-101\"/>\r\n     </g>\r\n    </g>\r\n   </g>\r\n   <g id=\"patch_23\">\r\n    <path d=\"M 56.50625 294.118125 \r\nL 56.50625 22.318125 \r\n\" style=\"fill:none;stroke:#000000;stroke-linecap:square;stroke-linejoin:miter;stroke-width:0.8;\"/>\r\n   </g>\r\n   <g id=\"patch_24\">\r\n    <path d=\"M 837.70625 294.118125 \r\nL 837.70625 22.318125 \r\n\" style=\"fill:none;stroke:#000000;stroke-linecap:square;stroke-linejoin:miter;stroke-width:0.8;\"/>\r\n   </g>\r\n   <g id=\"patch_25\">\r\n    <path d=\"M 56.50625 294.118125 \r\nL 837.70625 294.118125 \r\n\" style=\"fill:none;stroke:#000000;stroke-linecap:square;stroke-linejoin:miter;stroke-width:0.8;\"/>\r\n   </g>\r\n   <g id=\"patch_26\">\r\n    <path d=\"M 56.50625 22.318125 \r\nL 837.70625 22.318125 \r\n\" style=\"fill:none;stroke:#000000;stroke-linecap:square;stroke-linejoin:miter;stroke-width:0.8;\"/>\r\n   </g>\r\n   <g id=\"text_18\">\r\n    <!-- Idade -->\r\n    <defs>\r\n     <path d=\"M 9.8125 72.90625 \r\nL 19.671875 72.90625 \r\nL 19.671875 0 \r\nL 9.8125 0 \r\nz\r\n\" id=\"DejaVuSans-73\"/>\r\n    </defs>\r\n    <g transform=\"translate(430.349375 16.318125)scale(0.12 -0.12)\">\r\n     <use xlink:href=\"#DejaVuSans-73\"/>\r\n     <use x=\"29.492188\" xlink:href=\"#DejaVuSans-100\"/>\r\n     <use x=\"92.96875\" xlink:href=\"#DejaVuSans-97\"/>\r\n     <use x=\"154.248047\" xlink:href=\"#DejaVuSans-100\"/>\r\n     <use x=\"217.724609\" xlink:href=\"#DejaVuSans-101\"/>\r\n    </g>\r\n   </g>\r\n   <g id=\"legend_1\">\r\n    <g id=\"patch_27\">\r\n     <path d=\"M 792.34375 59.674375 \r\nL 830.70625 59.674375 \r\nQ 832.70625 59.674375 832.70625 57.674375 \r\nL 832.70625 29.318125 \r\nQ 832.70625 27.318125 830.70625 27.318125 \r\nL 792.34375 27.318125 \r\nQ 790.34375 27.318125 790.34375 29.318125 \r\nL 790.34375 57.674375 \r\nQ 790.34375 59.674375 792.34375 59.674375 \r\nz\r\n\" style=\"fill:#ffffff;opacity:0.8;stroke:#cccccc;stroke-linejoin:miter;\"/>\r\n    </g>\r\n    <g id=\"patch_28\">\r\n     <path d=\"M 794.34375 38.916562 \r\nL 814.34375 38.916562 \r\nL 814.34375 31.916562 \r\nL 794.34375 31.916562 \r\nz\r\n\" style=\"fill:#ff0000;stroke:#ffffff;stroke-linejoin:miter;\"/>\r\n    </g>\r\n    <g id=\"text_19\">\r\n     <!-- 1 -->\r\n     <g transform=\"translate(822.34375 38.916562)scale(0.1 -0.1)\">\r\n      <use xlink:href=\"#DejaVuSans-49\"/>\r\n     </g>\r\n    </g>\r\n    <g id=\"patch_29\">\r\n     <path d=\"M 794.34375 53.594688 \r\nL 814.34375 53.594688 \r\nL 814.34375 46.594688 \r\nL 794.34375 46.594688 \r\nz\r\n\" style=\"fill:#87ceeb;opacity:0.8;stroke:#ffffff;stroke-linejoin:miter;\"/>\r\n    </g>\r\n    <g id=\"text_20\">\r\n     <!-- 0 -->\r\n     <g transform=\"translate(822.34375 53.594688)scale(0.1 -0.1)\">\r\n      <use xlink:href=\"#DejaVuSans-48\"/>\r\n     </g>\r\n    </g>\r\n   </g>\r\n  </g>\r\n </g>\r\n <defs>\r\n  <clipPath id=\"pe708a8ed71\">\r\n   <rect height=\"271.8\" width=\"781.2\" x=\"56.50625\" y=\"22.318125\"/>\r\n  </clipPath>\r\n </defs>\r\n</svg>\r\n",
      "image/png": "[encoded data removed]"
     },
     "metadata": {
      "needs_background": "light"
     }
    }
   ],
   "source": [
    "#Histograma da idade dos sobreviventes e não sobreviventes\n",
    "faixas = np.arange(40,95,5)\n",
    "plt.figure(figsize=(14, 5))\n",
    "plt.hist(dead.age, bins=faixas, density=True, color='red', edgecolor='white', linewidth=1)\n",
    "plt.hist(not_dead.age, bins=faixas, density=True, color='skyblue', edgecolor='white', linewidth=1, alpha=0.8)\n",
    "plt.legend('10')\n",
    "plt.title('Idade')\n",
    "plt.xlabel('idade[anos]')\n",
    "plt.ylabel('densidade')\n",
    "plt.show()"
   ]
  },
  {
   "source": [
    "O histograma mostra que a idade não aparenta ser um fator determininante para a sobrevivência, tendo um pouco de influência para idades mais altas."
   ],
   "cell_type": "markdown",
   "metadata": {}
  },
  {
   "cell_type": "code",
   "execution_count": 112,
   "metadata": {},
   "outputs": [
    {
     "output_type": "display_data",
     "data": {
      "text/plain": "<Figure size 1008x360 with 1 Axes>",
      "image/svg+xml": "<?xml version=\"1.0\" encoding=\"utf-8\" standalone=\"no\"?>\r\n<!DOCTYPE svg PUBLIC \"-//W3C//DTD SVG 1.1//EN\"\r\n  \"http://www.w3.org/Graphics/SVG/1.1/DTD/svg11.dtd\">\r\n<!-- Created with matplotlib (https://matplotlib.org/) -->\r\n<svg height=\"332.049062pt\" version=\"1.1\" viewBox=\"0 0 851.26875 332.049062\" width=\"851.26875pt\" xmlns=\"http://www.w3.org/2000/svg\" xmlns:xlink=\"http://www.w3.org/1999/xlink\">\r\n <defs>\r\n  <style type=\"text/css\">\r\n*{stroke-linecap:butt;stroke-linejoin:round;}\r\n  </style>\r\n </defs>\r\n <g id=\"figure_1\">\r\n  <g id=\"patch_1\">\r\n   <path d=\"M 0 332.049062 \r\nL 851.26875 332.049062 \r\nL 851.26875 0 \r\nL 0 0 \r\nz\r\n\" style=\"fill:none;\"/>\r\n  </g>\r\n  <g id=\"axes_1\">\r\n   <g id=\"patch_2\">\r\n    <path d=\"M 62.86875 294.3225 \r\nL 844.06875 294.3225 \r\nL 844.06875 22.5225 \r\nL 62.86875 22.5225 \r\nz\r\n\" style=\"fill:#ffffff;\"/>\r\n   </g>\r\n   <g id=\"patch_3\">\r\n    <path clip-path=\"url(#p1b47b8c5c8)\" d=\"M 98.377841 294.3225 \r\nL 145.723295 294.3225 \r\nL 145.723295 35.465357 \r\nL 98.377841 35.465357 \r\nz\r\n\" style=\"fill:#ff0000;stroke:#ffffff;stroke-linejoin:miter;\"/>\r\n   </g>\r\n   <g id=\"patch_4\">\r\n    <path clip-path=\"url(#p1b47b8c5c8)\" d=\"M 145.723295 294.3225 \r\nL 193.06875 294.3225 \r\nL 193.06875 175.862452 \r\nL 145.723295 175.862452 \r\nz\r\n\" style=\"fill:#ff0000;stroke:#ffffff;stroke-linejoin:miter;\"/>\r\n   </g>\r\n   <g id=\"patch_5\">\r\n    <path clip-path=\"url(#p1b47b8c5c8)\" d=\"M 193.06875 294.3225 \r\nL 240.414205 294.3225 \r\nL 240.414205 285.547682 \r\nL 193.06875 285.547682 \r\nz\r\n\" style=\"fill:#ff0000;stroke:#ffffff;stroke-linejoin:miter;\"/>\r\n   </g>\r\n   <g id=\"patch_6\">\r\n    <path clip-path=\"url(#p1b47b8c5c8)\" d=\"M 240.414205 294.3225 \r\nL 287.759659 294.3225 \r\nL 287.759659 285.547682 \r\nL 240.414205 285.547682 \r\nz\r\n\" style=\"fill:#ff0000;stroke:#ffffff;stroke-linejoin:miter;\"/>\r\n   </g>\r\n   <g id=\"patch_7\">\r\n    <path clip-path=\"url(#p1b47b8c5c8)\" d=\"M 287.759659 294.3225 \r\nL 335.105114 294.3225 \r\nL 335.105114 285.547682 \r\nL 287.759659 285.547682 \r\nz\r\n\" style=\"fill:#ff0000;stroke:#ffffff;stroke-linejoin:miter;\"/>\r\n   </g>\r\n   <g id=\"patch_8\">\r\n    <path clip-path=\"url(#p1b47b8c5c8)\" d=\"M 335.105114 294.3225 \r\nL 382.450568 294.3225 \r\nL 382.450568 294.3225 \r\nL 335.105114 294.3225 \r\nz\r\n\" style=\"fill:#ff0000;stroke:#ffffff;stroke-linejoin:miter;\"/>\r\n   </g>\r\n   <g id=\"patch_9\">\r\n    <path clip-path=\"url(#p1b47b8c5c8)\" d=\"M 382.450568 294.3225 \r\nL 429.796023 294.3225 \r\nL 429.796023 294.3225 \r\nL 382.450568 294.3225 \r\nz\r\n\" style=\"fill:#ff0000;stroke:#ffffff;stroke-linejoin:miter;\"/>\r\n   </g>\r\n   <g id=\"patch_10\">\r\n    <path clip-path=\"url(#p1b47b8c5c8)\" d=\"M 429.796023 294.3225 \r\nL 477.141477 294.3225 \r\nL 477.141477 289.935091 \r\nL 429.796023 289.935091 \r\nz\r\n\" style=\"fill:#ff0000;stroke:#ffffff;stroke-linejoin:miter;\"/>\r\n   </g>\r\n   <g id=\"patch_11\">\r\n    <path clip-path=\"url(#p1b47b8c5c8)\" d=\"M 477.141477 294.3225 \r\nL 524.486932 294.3225 \r\nL 524.486932 294.3225 \r\nL 477.141477 294.3225 \r\nz\r\n\" style=\"fill:#ff0000;stroke:#ffffff;stroke-linejoin:miter;\"/>\r\n   </g>\r\n   <g id=\"patch_12\">\r\n    <path clip-path=\"url(#p1b47b8c5c8)\" d=\"M 524.486932 294.3225 \r\nL 571.832386 294.3225 \r\nL 571.832386 294.3225 \r\nL 524.486932 294.3225 \r\nz\r\n\" style=\"fill:#ff0000;stroke:#ffffff;stroke-linejoin:miter;\"/>\r\n   </g>\r\n   <g id=\"patch_13\">\r\n    <path clip-path=\"url(#p1b47b8c5c8)\" d=\"M 571.832386 294.3225 \r\nL 619.177841 294.3225 \r\nL 619.177841 294.3225 \r\nL 571.832386 294.3225 \r\nz\r\n\" style=\"fill:#ff0000;stroke:#ffffff;stroke-linejoin:miter;\"/>\r\n   </g>\r\n   <g id=\"patch_14\">\r\n    <path clip-path=\"url(#p1b47b8c5c8)\" d=\"M 619.177841 294.3225 \r\nL 666.523295 294.3225 \r\nL 666.523295 289.935091 \r\nL 619.177841 289.935091 \r\nz\r\n\" style=\"fill:#ff0000;stroke:#ffffff;stroke-linejoin:miter;\"/>\r\n   </g>\r\n   <g id=\"patch_15\">\r\n    <path clip-path=\"url(#p1b47b8c5c8)\" d=\"M 666.523295 294.3225 \r\nL 713.86875 294.3225 \r\nL 713.86875 294.3225 \r\nL 666.523295 294.3225 \r\nz\r\n\" style=\"fill:#ff0000;stroke:#ffffff;stroke-linejoin:miter;\"/>\r\n   </g>\r\n   <g id=\"patch_16\">\r\n    <path clip-path=\"url(#p1b47b8c5c8)\" d=\"M 713.86875 294.3225 \r\nL 761.214205 294.3225 \r\nL 761.214205 294.3225 \r\nL 713.86875 294.3225 \r\nz\r\n\" style=\"fill:#ff0000;stroke:#ffffff;stroke-linejoin:miter;\"/>\r\n   </g>\r\n   <g id=\"patch_17\">\r\n    <path clip-path=\"url(#p1b47b8c5c8)\" d=\"M 761.214205 294.3225 \r\nL 808.559659 294.3225 \r\nL 808.559659 294.3225 \r\nL 761.214205 294.3225 \r\nz\r\n\" style=\"fill:#ff0000;stroke:#ffffff;stroke-linejoin:miter;\"/>\r\n   </g>\r\n   <g id=\"patch_18\">\r\n    <path clip-path=\"url(#p1b47b8c5c8)\" d=\"M 98.377841 294.3225 \r\nL 145.723295 294.3225 \r\nL 145.723295 40.371475 \r\nL 98.377841 40.371475 \r\nz\r\n\" style=\"fill:#87ceeb;opacity:0.8;stroke:#ffffff;stroke-linejoin:miter;\"/>\r\n   </g>\r\n   <g id=\"patch_19\">\r\n    <path clip-path=\"url(#p1b47b8c5c8)\" d=\"M 145.723295 294.3225 \r\nL 193.06875 294.3225 \r\nL 193.06875 186.647265 \r\nL 145.723295 186.647265 \r\nz\r\n\" style=\"fill:#87ceeb;opacity:0.8;stroke:#ffffff;stroke-linejoin:miter;\"/>\r\n   </g>\r\n   <g id=\"patch_20\">\r\n    <path clip-path=\"url(#p1b47b8c5c8)\" d=\"M 193.06875 294.3225 \r\nL 240.414205 294.3225 \r\nL 240.414205 282.132851 \r\nL 193.06875 282.132851 \r\nz\r\n\" style=\"fill:#87ceeb;opacity:0.8;stroke:#ffffff;stroke-linejoin:miter;\"/>\r\n   </g>\r\n   <g id=\"patch_21\">\r\n    <path clip-path=\"url(#p1b47b8c5c8)\" d=\"M 240.414205 294.3225 \r\nL 287.759659 294.3225 \r\nL 287.759659 278.069634 \r\nL 240.414205 278.069634 \r\nz\r\n\" style=\"fill:#87ceeb;opacity:0.8;stroke:#ffffff;stroke-linejoin:miter;\"/>\r\n   </g>\r\n   <g id=\"patch_22\">\r\n    <path clip-path=\"url(#p1b47b8c5c8)\" d=\"M 287.759659 294.3225 \r\nL 335.105114 294.3225 \r\nL 335.105114 284.164459 \r\nL 287.759659 284.164459 \r\nz\r\n\" style=\"fill:#87ceeb;opacity:0.8;stroke:#ffffff;stroke-linejoin:miter;\"/>\r\n   </g>\r\n   <g id=\"patch_23\">\r\n    <path clip-path=\"url(#p1b47b8c5c8)\" d=\"M 335.105114 294.3225 \r\nL 382.450568 294.3225 \r\nL 382.450568 288.227675 \r\nL 335.105114 288.227675 \r\nz\r\n\" style=\"fill:#87ceeb;opacity:0.8;stroke:#ffffff;stroke-linejoin:miter;\"/>\r\n   </g>\r\n   <g id=\"patch_24\">\r\n    <path clip-path=\"url(#p1b47b8c5c8)\" d=\"M 382.450568 294.3225 \r\nL 429.796023 294.3225 \r\nL 429.796023 294.3225 \r\nL 382.450568 294.3225 \r\nz\r\n\" style=\"fill:#87ceeb;opacity:0.8;stroke:#ffffff;stroke-linejoin:miter;\"/>\r\n   </g>\r\n   <g id=\"patch_25\">\r\n    <path clip-path=\"url(#p1b47b8c5c8)\" d=\"M 429.796023 294.3225 \r\nL 477.141477 294.3225 \r\nL 477.141477 292.290892 \r\nL 429.796023 292.290892 \r\nz\r\n\" style=\"fill:#87ceeb;opacity:0.8;stroke:#ffffff;stroke-linejoin:miter;\"/>\r\n   </g>\r\n   <g id=\"patch_26\">\r\n    <path clip-path=\"url(#p1b47b8c5c8)\" d=\"M 477.141477 294.3225 \r\nL 524.486932 294.3225 \r\nL 524.486932 294.3225 \r\nL 477.141477 294.3225 \r\nz\r\n\" style=\"fill:#87ceeb;opacity:0.8;stroke:#ffffff;stroke-linejoin:miter;\"/>\r\n   </g>\r\n   <g id=\"patch_27\">\r\n    <path clip-path=\"url(#p1b47b8c5c8)\" d=\"M 524.486932 294.3225 \r\nL 571.832386 294.3225 \r\nL 571.832386 292.290892 \r\nL 524.486932 292.290892 \r\nz\r\n\" style=\"fill:#87ceeb;opacity:0.8;stroke:#ffffff;stroke-linejoin:miter;\"/>\r\n   </g>\r\n   <g id=\"patch_28\">\r\n    <path clip-path=\"url(#p1b47b8c5c8)\" d=\"M 571.832386 294.3225 \r\nL 619.177841 294.3225 \r\nL 619.177841 292.290892 \r\nL 571.832386 292.290892 \r\nz\r\n\" style=\"fill:#87ceeb;opacity:0.8;stroke:#ffffff;stroke-linejoin:miter;\"/>\r\n   </g>\r\n   <g id=\"patch_29\">\r\n    <path clip-path=\"url(#p1b47b8c5c8)\" d=\"M 619.177841 294.3225 \r\nL 666.523295 294.3225 \r\nL 666.523295 294.3225 \r\nL 619.177841 294.3225 \r\nz\r\n\" style=\"fill:#87ceeb;opacity:0.8;stroke:#ffffff;stroke-linejoin:miter;\"/>\r\n   </g>\r\n   <g id=\"patch_30\">\r\n    <path clip-path=\"url(#p1b47b8c5c8)\" d=\"M 666.523295 294.3225 \r\nL 713.86875 294.3225 \r\nL 713.86875 294.3225 \r\nL 666.523295 294.3225 \r\nz\r\n\" style=\"fill:#87ceeb;opacity:0.8;stroke:#ffffff;stroke-linejoin:miter;\"/>\r\n   </g>\r\n   <g id=\"patch_31\">\r\n    <path clip-path=\"url(#p1b47b8c5c8)\" d=\"M 713.86875 294.3225 \r\nL 761.214205 294.3225 \r\nL 761.214205 294.3225 \r\nL 713.86875 294.3225 \r\nz\r\n\" style=\"fill:#87ceeb;opacity:0.8;stroke:#ffffff;stroke-linejoin:miter;\"/>\r\n   </g>\r\n   <g id=\"patch_32\">\r\n    <path clip-path=\"url(#p1b47b8c5c8)\" d=\"M 761.214205 294.3225 \r\nL 808.559659 294.3225 \r\nL 808.559659 294.3225 \r\nL 761.214205 294.3225 \r\nz\r\n\" style=\"fill:#87ceeb;opacity:0.8;stroke:#ffffff;stroke-linejoin:miter;\"/>\r\n   </g>\r\n   <g id=\"matplotlib.axis_1\">\r\n    <g id=\"xtick_1\">\r\n     <g id=\"line2d_1\">\r\n      <defs>\r\n       <path d=\"M 0 0 \r\nL 0 3.5 \r\n\" id=\"m78cb3d4508\" style=\"stroke:#000000;stroke-width:0.8;\"/>\r\n      </defs>\r\n      <g>\r\n       <use style=\"stroke:#000000;stroke-width:0.8;\" x=\"96.19995\" xlink:href=\"#m78cb3d4508\" y=\"294.3225\"/>\r\n      </g>\r\n     </g>\r\n     <g id=\"text_1\">\r\n      <!-- 0 -->\r\n      <defs>\r\n       <path d=\"M 31.78125 66.40625 \r\nQ 24.171875 66.40625 20.328125 58.90625 \r\nQ 16.5 51.421875 16.5 36.375 \r\nQ 16.5 21.390625 20.328125 13.890625 \r\nQ 24.171875 6.390625 31.78125 6.390625 \r\nQ 39.453125 6.390625 43.28125 13.890625 \r\nQ 47.125 21.390625 47.125 36.375 \r\nQ 47.125 51.421875 43.28125 58.90625 \r\nQ 39.453125 66.40625 31.78125 66.40625 \r\nz\r\nM 31.78125 74.21875 \r\nQ 44.046875 74.21875 50.515625 64.515625 \r\nQ 56.984375 54.828125 56.984375 36.375 \r\nQ 56.984375 17.96875 50.515625 8.265625 \r\nQ 44.046875 -1.421875 31.78125 -1.421875 \r\nQ 19.53125 -1.421875 13.0625 8.265625 \r\nQ 6.59375 17.96875 6.59375 36.375 \r\nQ 6.59375 54.828125 13.0625 64.515625 \r\nQ 19.53125 74.21875 31.78125 74.21875 \r\nz\r\n\" id=\"DejaVuSans-48\"/>\r\n      </defs>\r\n      <g transform=\"translate(93.0187 308.920937)scale(0.1 -0.1)\">\r\n       <use xlink:href=\"#DejaVuSans-48\"/>\r\n      </g>\r\n     </g>\r\n    </g>\r\n    <g id=\"xtick_2\">\r\n     <g id=\"line2d_2\">\r\n      <g>\r\n       <use style=\"stroke:#000000;stroke-width:0.8;\" x=\"190.890859\" xlink:href=\"#m78cb3d4508\" y=\"294.3225\"/>\r\n      </g>\r\n     </g>\r\n     <g id=\"text_2\">\r\n      <!-- 1000 -->\r\n      <defs>\r\n       <path d=\"M 12.40625 8.296875 \r\nL 28.515625 8.296875 \r\nL 28.515625 63.921875 \r\nL 10.984375 60.40625 \r\nL 10.984375 69.390625 \r\nL 28.421875 72.90625 \r\nL 38.28125 72.90625 \r\nL 38.28125 8.296875 \r\nL 54.390625 8.296875 \r\nL 54.390625 0 \r\nL 12.40625 0 \r\nz\r\n\" id=\"DejaVuSans-49\"/>\r\n      </defs>\r\n      <g transform=\"translate(178.165859 308.920937)scale(0.1 -0.1)\">\r\n       <use xlink:href=\"#DejaVuSans-49\"/>\r\n       <use x=\"63.623047\" xlink:href=\"#DejaVuSans-48\"/>\r\n       <use x=\"127.246094\" xlink:href=\"#DejaVuSans-48\"/>\r\n       <use x=\"190.869141\" xlink:href=\"#DejaVuSans-48\"/>\r\n      </g>\r\n     </g>\r\n    </g>\r\n    <g id=\"xtick_3\">\r\n     <g id=\"line2d_3\">\r\n      <g>\r\n       <use style=\"stroke:#000000;stroke-width:0.8;\" x=\"285.581768\" xlink:href=\"#m78cb3d4508\" y=\"294.3225\"/>\r\n      </g>\r\n     </g>\r\n     <g id=\"text_3\">\r\n      <!-- 2000 -->\r\n      <defs>\r\n       <path d=\"M 19.1875 8.296875 \r\nL 53.609375 8.296875 \r\nL 53.609375 0 \r\nL 7.328125 0 \r\nL 7.328125 8.296875 \r\nQ 12.9375 14.109375 22.625 23.890625 \r\nQ 32.328125 33.6875 34.8125 36.53125 \r\nQ 39.546875 41.84375 41.421875 45.53125 \r\nQ 43.3125 49.21875 43.3125 52.78125 \r\nQ 43.3125 58.59375 39.234375 62.25 \r\nQ 35.15625 65.921875 28.609375 65.921875 \r\nQ 23.96875 65.921875 18.8125 64.3125 \r\nQ 13.671875 62.703125 7.8125 59.421875 \r\nL 7.8125 69.390625 \r\nQ 13.765625 71.78125 18.9375 73 \r\nQ 24.125 74.21875 28.421875 74.21875 \r\nQ 39.75 74.21875 46.484375 68.546875 \r\nQ 53.21875 62.890625 53.21875 53.421875 \r\nQ 53.21875 48.921875 51.53125 44.890625 \r\nQ 49.859375 40.875 45.40625 35.40625 \r\nQ 44.1875 33.984375 37.640625 27.21875 \r\nQ 31.109375 20.453125 19.1875 8.296875 \r\nz\r\n\" id=\"DejaVuSans-50\"/>\r\n      </defs>\r\n      <g transform=\"translate(272.856768 308.920937)scale(0.1 -0.1)\">\r\n       <use xlink:href=\"#DejaVuSans-50\"/>\r\n       <use x=\"63.623047\" xlink:href=\"#DejaVuSans-48\"/>\r\n       <use x=\"127.246094\" xlink:href=\"#DejaVuSans-48\"/>\r\n       <use x=\"190.869141\" xlink:href=\"#DejaVuSans-48\"/>\r\n      </g>\r\n     </g>\r\n    </g>\r\n    <g id=\"xtick_4\">\r\n     <g id=\"line2d_4\">\r\n      <g>\r\n       <use style=\"stroke:#000000;stroke-width:0.8;\" x=\"380.272677\" xlink:href=\"#m78cb3d4508\" y=\"294.3225\"/>\r\n      </g>\r\n     </g>\r\n     <g id=\"text_4\">\r\n      <!-- 3000 -->\r\n      <defs>\r\n       <path d=\"M 40.578125 39.3125 \r\nQ 47.65625 37.796875 51.625 33 \r\nQ 55.609375 28.21875 55.609375 21.1875 \r\nQ 55.609375 10.40625 48.1875 4.484375 \r\nQ 40.765625 -1.421875 27.09375 -1.421875 \r\nQ 22.515625 -1.421875 17.65625 -0.515625 \r\nQ 12.796875 0.390625 7.625 2.203125 \r\nL 7.625 11.71875 \r\nQ 11.71875 9.328125 16.59375 8.109375 \r\nQ 21.484375 6.890625 26.8125 6.890625 \r\nQ 36.078125 6.890625 40.9375 10.546875 \r\nQ 45.796875 14.203125 45.796875 21.1875 \r\nQ 45.796875 27.640625 41.28125 31.265625 \r\nQ 36.765625 34.90625 28.71875 34.90625 \r\nL 20.21875 34.90625 \r\nL 20.21875 43.015625 \r\nL 29.109375 43.015625 \r\nQ 36.375 43.015625 40.234375 45.921875 \r\nQ 44.09375 48.828125 44.09375 54.296875 \r\nQ 44.09375 59.90625 40.109375 62.90625 \r\nQ 36.140625 65.921875 28.71875 65.921875 \r\nQ 24.65625 65.921875 20.015625 65.03125 \r\nQ 15.375 64.15625 9.8125 62.3125 \r\nL 9.8125 71.09375 \r\nQ 15.4375 72.65625 20.34375 73.4375 \r\nQ 25.25 74.21875 29.59375 74.21875 \r\nQ 40.828125 74.21875 47.359375 69.109375 \r\nQ 53.90625 64.015625 53.90625 55.328125 \r\nQ 53.90625 49.265625 50.4375 45.09375 \r\nQ 46.96875 40.921875 40.578125 39.3125 \r\nz\r\n\" id=\"DejaVuSans-51\"/>\r\n      </defs>\r\n      <g transform=\"translate(367.547677 308.920937)scale(0.1 -0.1)\">\r\n       <use xlink:href=\"#DejaVuSans-51\"/>\r\n       <use x=\"63.623047\" xlink:href=\"#DejaVuSans-48\"/>\r\n       <use x=\"127.246094\" xlink:href=\"#DejaVuSans-48\"/>\r\n       <use x=\"190.869141\" xlink:href=\"#DejaVuSans-48\"/>\r\n      </g>\r\n     </g>\r\n    </g>\r\n    <g id=\"xtick_5\">\r\n     <g id=\"line2d_5\">\r\n      <g>\r\n       <use style=\"stroke:#000000;stroke-width:0.8;\" x=\"474.963586\" xlink:href=\"#m78cb3d4508\" y=\"294.3225\"/>\r\n      </g>\r\n     </g>\r\n     <g id=\"text_5\">\r\n      <!-- 4000 -->\r\n      <defs>\r\n       <path d=\"M 37.796875 64.3125 \r\nL 12.890625 25.390625 \r\nL 37.796875 25.390625 \r\nz\r\nM 35.203125 72.90625 \r\nL 47.609375 72.90625 \r\nL 47.609375 25.390625 \r\nL 58.015625 25.390625 \r\nL 58.015625 17.1875 \r\nL 47.609375 17.1875 \r\nL 47.609375 0 \r\nL 37.796875 0 \r\nL 37.796875 17.1875 \r\nL 4.890625 17.1875 \r\nL 4.890625 26.703125 \r\nz\r\n\" id=\"DejaVuSans-52\"/>\r\n      </defs>\r\n      <g transform=\"translate(462.238586 308.920937)scale(0.1 -0.1)\">\r\n       <use xlink:href=\"#DejaVuSans-52\"/>\r\n       <use x=\"63.623047\" xlink:href=\"#DejaVuSans-48\"/>\r\n       <use x=\"127.246094\" xlink:href=\"#DejaVuSans-48\"/>\r\n       <use x=\"190.869141\" xlink:href=\"#DejaVuSans-48\"/>\r\n      </g>\r\n     </g>\r\n    </g>\r\n    <g id=\"xtick_6\">\r\n     <g id=\"line2d_6\">\r\n      <g>\r\n       <use style=\"stroke:#000000;stroke-width:0.8;\" x=\"569.654495\" xlink:href=\"#m78cb3d4508\" y=\"294.3225\"/>\r\n      </g>\r\n     </g>\r\n     <g id=\"text_6\">\r\n      <!-- 5000 -->\r\n      <defs>\r\n       <path d=\"M 10.796875 72.90625 \r\nL 49.515625 72.90625 \r\nL 49.515625 64.59375 \r\nL 19.828125 64.59375 \r\nL 19.828125 46.734375 \r\nQ 21.96875 47.46875 24.109375 47.828125 \r\nQ 26.265625 48.1875 28.421875 48.1875 \r\nQ 40.625 48.1875 47.75 41.5 \r\nQ 54.890625 34.8125 54.890625 23.390625 \r\nQ 54.890625 11.625 47.5625 5.09375 \r\nQ 40.234375 -1.421875 26.90625 -1.421875 \r\nQ 22.3125 -1.421875 17.546875 -0.640625 \r\nQ 12.796875 0.140625 7.71875 1.703125 \r\nL 7.71875 11.625 \r\nQ 12.109375 9.234375 16.796875 8.0625 \r\nQ 21.484375 6.890625 26.703125 6.890625 \r\nQ 35.15625 6.890625 40.078125 11.328125 \r\nQ 45.015625 15.765625 45.015625 23.390625 \r\nQ 45.015625 31 40.078125 35.4375 \r\nQ 35.15625 39.890625 26.703125 39.890625 \r\nQ 22.75 39.890625 18.8125 39.015625 \r\nQ 14.890625 38.140625 10.796875 36.28125 \r\nz\r\n\" id=\"DejaVuSans-53\"/>\r\n      </defs>\r\n      <g transform=\"translate(556.929495 308.920937)scale(0.1 -0.1)\">\r\n       <use xlink:href=\"#DejaVuSans-53\"/>\r\n       <use x=\"63.623047\" xlink:href=\"#DejaVuSans-48\"/>\r\n       <use x=\"127.246094\" xlink:href=\"#DejaVuSans-48\"/>\r\n       <use x=\"190.869141\" xlink:href=\"#DejaVuSans-48\"/>\r\n      </g>\r\n     </g>\r\n    </g>\r\n    <g id=\"xtick_7\">\r\n     <g id=\"line2d_7\">\r\n      <g>\r\n       <use style=\"stroke:#000000;stroke-width:0.8;\" x=\"664.345405\" xlink:href=\"#m78cb3d4508\" y=\"294.3225\"/>\r\n      </g>\r\n     </g>\r\n     <g id=\"text_7\">\r\n      <!-- 6000 -->\r\n      <defs>\r\n       <path d=\"M 33.015625 40.375 \r\nQ 26.375 40.375 22.484375 35.828125 \r\nQ 18.609375 31.296875 18.609375 23.390625 \r\nQ 18.609375 15.53125 22.484375 10.953125 \r\nQ 26.375 6.390625 33.015625 6.390625 \r\nQ 39.65625 6.390625 43.53125 10.953125 \r\nQ 47.40625 15.53125 47.40625 23.390625 \r\nQ 47.40625 31.296875 43.53125 35.828125 \r\nQ 39.65625 40.375 33.015625 40.375 \r\nz\r\nM 52.59375 71.296875 \r\nL 52.59375 62.3125 \r\nQ 48.875 64.0625 45.09375 64.984375 \r\nQ 41.3125 65.921875 37.59375 65.921875 \r\nQ 27.828125 65.921875 22.671875 59.328125 \r\nQ 17.53125 52.734375 16.796875 39.40625 \r\nQ 19.671875 43.65625 24.015625 45.921875 \r\nQ 28.375 48.1875 33.59375 48.1875 \r\nQ 44.578125 48.1875 50.953125 41.515625 \r\nQ 57.328125 34.859375 57.328125 23.390625 \r\nQ 57.328125 12.15625 50.6875 5.359375 \r\nQ 44.046875 -1.421875 33.015625 -1.421875 \r\nQ 20.359375 -1.421875 13.671875 8.265625 \r\nQ 6.984375 17.96875 6.984375 36.375 \r\nQ 6.984375 53.65625 15.1875 63.9375 \r\nQ 23.390625 74.21875 37.203125 74.21875 \r\nQ 40.921875 74.21875 44.703125 73.484375 \r\nQ 48.484375 72.75 52.59375 71.296875 \r\nz\r\n\" id=\"DejaVuSans-54\"/>\r\n      </defs>\r\n      <g transform=\"translate(651.620405 308.920937)scale(0.1 -0.1)\">\r\n       <use xlink:href=\"#DejaVuSans-54\"/>\r\n       <use x=\"63.623047\" xlink:href=\"#DejaVuSans-48\"/>\r\n       <use x=\"127.246094\" xlink:href=\"#DejaVuSans-48\"/>\r\n       <use x=\"190.869141\" xlink:href=\"#DejaVuSans-48\"/>\r\n      </g>\r\n     </g>\r\n    </g>\r\n    <g id=\"xtick_8\">\r\n     <g id=\"line2d_8\">\r\n      <g>\r\n       <use style=\"stroke:#000000;stroke-width:0.8;\" x=\"759.036314\" xlink:href=\"#m78cb3d4508\" y=\"294.3225\"/>\r\n      </g>\r\n     </g>\r\n     <g id=\"text_8\">\r\n      <!-- 7000 -->\r\n      <defs>\r\n       <path d=\"M 8.203125 72.90625 \r\nL 55.078125 72.90625 \r\nL 55.078125 68.703125 \r\nL 28.609375 0 \r\nL 18.3125 0 \r\nL 43.21875 64.59375 \r\nL 8.203125 64.59375 \r\nz\r\n\" id=\"DejaVuSans-55\"/>\r\n      </defs>\r\n      <g transform=\"translate(746.311314 308.920937)scale(0.1 -0.1)\">\r\n       <use xlink:href=\"#DejaVuSans-55\"/>\r\n       <use x=\"63.623047\" xlink:href=\"#DejaVuSans-48\"/>\r\n       <use x=\"127.246094\" xlink:href=\"#DejaVuSans-48\"/>\r\n       <use x=\"190.869141\" xlink:href=\"#DejaVuSans-48\"/>\r\n      </g>\r\n     </g>\r\n    </g>\r\n    <g id=\"text_9\">\r\n     <!-- concentração[mcg/L] -->\r\n     <defs>\r\n      <path d=\"M 48.78125 52.59375 \r\nL 48.78125 44.1875 \r\nQ 44.96875 46.296875 41.140625 47.34375 \r\nQ 37.3125 48.390625 33.40625 48.390625 \r\nQ 24.65625 48.390625 19.8125 42.84375 \r\nQ 14.984375 37.3125 14.984375 27.296875 \r\nQ 14.984375 17.28125 19.8125 11.734375 \r\nQ 24.65625 6.203125 33.40625 6.203125 \r\nQ 37.3125 6.203125 41.140625 7.25 \r\nQ 44.96875 8.296875 48.78125 10.40625 \r\nL 48.78125 2.09375 \r\nQ 45.015625 0.34375 40.984375 -0.53125 \r\nQ 36.96875 -1.421875 32.421875 -1.421875 \r\nQ 20.0625 -1.421875 12.78125 6.34375 \r\nQ 5.515625 14.109375 5.515625 27.296875 \r\nQ 5.515625 40.671875 12.859375 48.328125 \r\nQ 20.21875 56 33.015625 56 \r\nQ 37.15625 56 41.109375 55.140625 \r\nQ 45.0625 54.296875 48.78125 52.59375 \r\nz\r\n\" id=\"DejaVuSans-99\"/>\r\n      <path d=\"M 30.609375 48.390625 \r\nQ 23.390625 48.390625 19.1875 42.75 \r\nQ 14.984375 37.109375 14.984375 27.296875 \r\nQ 14.984375 17.484375 19.15625 11.84375 \r\nQ 23.34375 6.203125 30.609375 6.203125 \r\nQ 37.796875 6.203125 41.984375 11.859375 \r\nQ 46.1875 17.53125 46.1875 27.296875 \r\nQ 46.1875 37.015625 41.984375 42.703125 \r\nQ 37.796875 48.390625 30.609375 48.390625 \r\nz\r\nM 30.609375 56 \r\nQ 42.328125 56 49.015625 48.375 \r\nQ 55.71875 40.765625 55.71875 27.296875 \r\nQ 55.71875 13.875 49.015625 6.21875 \r\nQ 42.328125 -1.421875 30.609375 -1.421875 \r\nQ 18.84375 -1.421875 12.171875 6.21875 \r\nQ 5.515625 13.875 5.515625 27.296875 \r\nQ 5.515625 40.765625 12.171875 48.375 \r\nQ 18.84375 56 30.609375 56 \r\nz\r\n\" id=\"DejaVuSans-111\"/>\r\n      <path d=\"M 54.890625 33.015625 \r\nL 54.890625 0 \r\nL 45.90625 0 \r\nL 45.90625 32.71875 \r\nQ 45.90625 40.484375 42.875 44.328125 \r\nQ 39.84375 48.1875 33.796875 48.1875 \r\nQ 26.515625 48.1875 22.3125 43.546875 \r\nQ 18.109375 38.921875 18.109375 30.90625 \r\nL 18.109375 0 \r\nL 9.078125 0 \r\nL 9.078125 54.6875 \r\nL 18.109375 54.6875 \r\nL 18.109375 46.1875 \r\nQ 21.34375 51.125 25.703125 53.5625 \r\nQ 30.078125 56 35.796875 56 \r\nQ 45.21875 56 50.046875 50.171875 \r\nQ 54.890625 44.34375 54.890625 33.015625 \r\nz\r\n\" id=\"DejaVuSans-110\"/>\r\n      <path d=\"M 56.203125 29.59375 \r\nL 56.203125 25.203125 \r\nL 14.890625 25.203125 \r\nQ 15.484375 15.921875 20.484375 11.0625 \r\nQ 25.484375 6.203125 34.421875 6.203125 \r\nQ 39.59375 6.203125 44.453125 7.46875 \r\nQ 49.3125 8.734375 54.109375 11.28125 \r\nL 54.109375 2.78125 \r\nQ 49.265625 0.734375 44.1875 -0.34375 \r\nQ 39.109375 -1.421875 33.890625 -1.421875 \r\nQ 20.796875 -1.421875 13.15625 6.1875 \r\nQ 5.515625 13.8125 5.515625 26.8125 \r\nQ 5.515625 40.234375 12.765625 48.109375 \r\nQ 20.015625 56 32.328125 56 \r\nQ 43.359375 56 49.78125 48.890625 \r\nQ 56.203125 41.796875 56.203125 29.59375 \r\nz\r\nM 47.21875 32.234375 \r\nQ 47.125 39.59375 43.09375 43.984375 \r\nQ 39.0625 48.390625 32.421875 48.390625 \r\nQ 24.90625 48.390625 20.390625 44.140625 \r\nQ 15.875 39.890625 15.1875 32.171875 \r\nz\r\n\" id=\"DejaVuSans-101\"/>\r\n      <path d=\"M 18.3125 70.21875 \r\nL 18.3125 54.6875 \r\nL 36.8125 54.6875 \r\nL 36.8125 47.703125 \r\nL 18.3125 47.703125 \r\nL 18.3125 18.015625 \r\nQ 18.3125 11.328125 20.140625 9.421875 \r\nQ 21.96875 7.515625 27.59375 7.515625 \r\nL 36.8125 7.515625 \r\nL 36.8125 0 \r\nL 27.59375 0 \r\nQ 17.1875 0 13.234375 3.875 \r\nQ 9.28125 7.765625 9.28125 18.015625 \r\nL 9.28125 47.703125 \r\nL 2.6875 47.703125 \r\nL 2.6875 54.6875 \r\nL 9.28125 54.6875 \r\nL 9.28125 70.21875 \r\nz\r\n\" id=\"DejaVuSans-116\"/>\r\n      <path d=\"M 41.109375 46.296875 \r\nQ 39.59375 47.171875 37.8125 47.578125 \r\nQ 36.03125 48 33.890625 48 \r\nQ 26.265625 48 22.1875 43.046875 \r\nQ 18.109375 38.09375 18.109375 28.8125 \r\nL 18.109375 0 \r\nL 9.078125 0 \r\nL 9.078125 54.6875 \r\nL 18.109375 54.6875 \r\nL 18.109375 46.1875 \r\nQ 20.953125 51.171875 25.484375 53.578125 \r\nQ 30.03125 56 36.53125 56 \r\nQ 37.453125 56 38.578125 55.875 \r\nQ 39.703125 55.765625 41.0625 55.515625 \r\nz\r\n\" id=\"DejaVuSans-114\"/>\r\n      <path d=\"M 34.28125 27.484375 \r\nQ 23.390625 27.484375 19.1875 25 \r\nQ 14.984375 22.515625 14.984375 16.5 \r\nQ 14.984375 11.71875 18.140625 8.90625 \r\nQ 21.296875 6.109375 26.703125 6.109375 \r\nQ 34.1875 6.109375 38.703125 11.40625 \r\nQ 43.21875 16.703125 43.21875 25.484375 \r\nL 43.21875 27.484375 \r\nz\r\nM 52.203125 31.203125 \r\nL 52.203125 0 \r\nL 43.21875 0 \r\nL 43.21875 8.296875 \r\nQ 40.140625 3.328125 35.546875 0.953125 \r\nQ 30.953125 -1.421875 24.3125 -1.421875 \r\nQ 15.921875 -1.421875 10.953125 3.296875 \r\nQ 6 8.015625 6 15.921875 \r\nQ 6 25.140625 12.171875 29.828125 \r\nQ 18.359375 34.515625 30.609375 34.515625 \r\nL 43.21875 34.515625 \r\nL 43.21875 35.40625 \r\nQ 43.21875 41.609375 39.140625 45 \r\nQ 35.0625 48.390625 27.6875 48.390625 \r\nQ 23 48.390625 18.546875 47.265625 \r\nQ 14.109375 46.140625 10.015625 43.890625 \r\nL 10.015625 52.203125 \r\nQ 14.9375 54.109375 19.578125 55.046875 \r\nQ 24.21875 56 28.609375 56 \r\nQ 40.484375 56 46.34375 49.84375 \r\nQ 52.203125 43.703125 52.203125 31.203125 \r\nz\r\n\" id=\"DejaVuSans-97\"/>\r\n      <path d=\"M 48.78125 52.59375 \r\nL 48.78125 44.1875 \r\nQ 44.96875 46.296875 41.140625 47.34375 \r\nQ 37.3125 48.390625 33.40625 48.390625 \r\nQ 24.65625 48.390625 19.8125 42.84375 \r\nQ 14.984375 37.3125 14.984375 27.296875 \r\nQ 14.984375 17.28125 19.8125 11.734375 \r\nQ 24.65625 6.203125 33.40625 6.203125 \r\nQ 37.3125 6.203125 41.140625 7.25 \r\nQ 44.96875 8.296875 48.78125 10.40625 \r\nL 48.78125 2.09375 \r\nQ 45.015625 0.34375 40.984375 -0.53125 \r\nQ 36.96875 -1.421875 32.421875 -1.421875 \r\nQ 20.0625 -1.421875 12.78125 6.34375 \r\nQ 5.515625 14.109375 5.515625 27.296875 \r\nQ 5.515625 40.671875 12.859375 48.328125 \r\nQ 20.21875 56 33.015625 56 \r\nQ 37.15625 56 41.109375 55.140625 \r\nQ 45.0625 54.296875 48.78125 52.59375 \r\nz\r\nM 36.078125 0 \r\nQ 38.765625 -3.03125 40.078125 -5.59375 \r\nQ 41.40625 -8.15625 41.40625 -10.5 \r\nQ 41.40625 -14.84375 38.46875 -17.0625 \r\nQ 35.546875 -19.28125 29.78125 -19.28125 \r\nQ 27.546875 -19.28125 25.421875 -18.984375 \r\nQ 23.296875 -18.703125 21.1875 -18.109375 \r\nL 21.1875 -11.71875 \r\nQ 22.859375 -12.546875 24.65625 -12.90625 \r\nQ 26.46875 -13.28125 28.765625 -13.28125 \r\nQ 31.640625 -13.28125 33.109375 -12.109375 \r\nQ 34.578125 -10.9375 34.578125 -8.6875 \r\nQ 34.578125 -7.234375 33.515625 -5.109375 \r\nQ 32.46875 -2.984375 30.28125 0 \r\nz\r\n\" id=\"DejaVuSans-231\"/>\r\n      <path d=\"M 34.28125 27.484375 \r\nQ 23.390625 27.484375 19.1875 25 \r\nQ 14.984375 22.515625 14.984375 16.5 \r\nQ 14.984375 11.71875 18.140625 8.90625 \r\nQ 21.296875 6.109375 26.703125 6.109375 \r\nQ 34.1875 6.109375 38.703125 11.40625 \r\nQ 43.21875 16.703125 43.21875 25.484375 \r\nL 43.21875 27.484375 \r\nz\r\nM 52.203125 31.203125 \r\nL 52.203125 0 \r\nL 43.21875 0 \r\nL 43.21875 8.296875 \r\nQ 40.140625 3.328125 35.546875 0.953125 \r\nQ 30.953125 -1.421875 24.3125 -1.421875 \r\nQ 15.921875 -1.421875 10.953125 3.296875 \r\nQ 6 8.015625 6 15.921875 \r\nQ 6 25.140625 12.171875 29.828125 \r\nQ 18.359375 34.515625 30.609375 34.515625 \r\nL 43.21875 34.515625 \r\nL 43.21875 35.40625 \r\nQ 43.21875 41.609375 39.140625 45 \r\nQ 35.0625 48.390625 27.6875 48.390625 \r\nQ 23 48.390625 18.546875 47.265625 \r\nQ 14.109375 46.140625 10.015625 43.890625 \r\nL 10.015625 52.203125 \r\nQ 14.9375 54.109375 19.578125 55.046875 \r\nQ 24.21875 56 28.609375 56 \r\nQ 40.484375 56 46.34375 49.84375 \r\nQ 52.203125 43.703125 52.203125 31.203125 \r\nz\r\nM 28.8125 66.890625 \r\nL 26.03125 69.578125 \r\nQ 24.953125 70.5625 24.140625 71.015625 \r\nQ 23.34375 71.484375 22.703125 71.484375 \r\nQ 20.84375 71.484375 19.96875 69.703125 \r\nQ 19.09375 67.921875 19 63.921875 \r\nL 12.890625 63.921875 \r\nQ 12.984375 70.515625 15.46875 74.09375 \r\nQ 17.96875 77.6875 22.40625 77.6875 \r\nQ 24.265625 77.6875 25.828125 77 \r\nQ 27.390625 76.3125 29.203125 74.703125 \r\nL 31.984375 72.015625 \r\nQ 33.0625 71.046875 33.859375 70.578125 \r\nQ 34.671875 70.125 35.296875 70.125 \r\nQ 37.15625 70.125 38.03125 71.90625 \r\nQ 38.921875 73.6875 39.015625 77.6875 \r\nL 45.125 77.6875 \r\nQ 45.015625 71.09375 42.53125 67.5 \r\nQ 40.046875 63.921875 35.59375 63.921875 \r\nQ 33.734375 63.921875 32.171875 64.59375 \r\nQ 30.609375 65.28125 28.8125 66.890625 \r\nz\r\n\" id=\"DejaVuSans-227\"/>\r\n      <path d=\"M 8.59375 75.984375 \r\nL 29.296875 75.984375 \r\nL 29.296875 69 \r\nL 17.578125 69 \r\nL 17.578125 -6.203125 \r\nL 29.296875 -6.203125 \r\nL 29.296875 -13.1875 \r\nL 8.59375 -13.1875 \r\nz\r\n\" id=\"DejaVuSans-91\"/>\r\n      <path d=\"M 52 44.1875 \r\nQ 55.375 50.25 60.0625 53.125 \r\nQ 64.75 56 71.09375 56 \r\nQ 79.640625 56 84.28125 50.015625 \r\nQ 88.921875 44.046875 88.921875 33.015625 \r\nL 88.921875 0 \r\nL 79.890625 0 \r\nL 79.890625 32.71875 \r\nQ 79.890625 40.578125 77.09375 44.375 \r\nQ 74.3125 48.1875 68.609375 48.1875 \r\nQ 61.625 48.1875 57.5625 43.546875 \r\nQ 53.515625 38.921875 53.515625 30.90625 \r\nL 53.515625 0 \r\nL 44.484375 0 \r\nL 44.484375 32.71875 \r\nQ 44.484375 40.625 41.703125 44.40625 \r\nQ 38.921875 48.1875 33.109375 48.1875 \r\nQ 26.21875 48.1875 22.15625 43.53125 \r\nQ 18.109375 38.875 18.109375 30.90625 \r\nL 18.109375 0 \r\nL 9.078125 0 \r\nL 9.078125 54.6875 \r\nL 18.109375 54.6875 \r\nL 18.109375 46.1875 \r\nQ 21.1875 51.21875 25.484375 53.609375 \r\nQ 29.78125 56 35.6875 56 \r\nQ 41.65625 56 45.828125 52.96875 \r\nQ 50 49.953125 52 44.1875 \r\nz\r\n\" id=\"DejaVuSans-109\"/>\r\n      <path d=\"M 45.40625 27.984375 \r\nQ 45.40625 37.75 41.375 43.109375 \r\nQ 37.359375 48.484375 30.078125 48.484375 \r\nQ 22.859375 48.484375 18.828125 43.109375 \r\nQ 14.796875 37.75 14.796875 27.984375 \r\nQ 14.796875 18.265625 18.828125 12.890625 \r\nQ 22.859375 7.515625 30.078125 7.515625 \r\nQ 37.359375 7.515625 41.375 12.890625 \r\nQ 45.40625 18.265625 45.40625 27.984375 \r\nz\r\nM 54.390625 6.78125 \r\nQ 54.390625 -7.171875 48.1875 -13.984375 \r\nQ 42 -20.796875 29.203125 -20.796875 \r\nQ 24.46875 -20.796875 20.265625 -20.09375 \r\nQ 16.0625 -19.390625 12.109375 -17.921875 \r\nL 12.109375 -9.1875 \r\nQ 16.0625 -11.328125 19.921875 -12.34375 \r\nQ 23.78125 -13.375 27.78125 -13.375 \r\nQ 36.625 -13.375 41.015625 -8.765625 \r\nQ 45.40625 -4.15625 45.40625 5.171875 \r\nL 45.40625 9.625 \r\nQ 42.625 4.78125 38.28125 2.390625 \r\nQ 33.9375 0 27.875 0 \r\nQ 17.828125 0 11.671875 7.65625 \r\nQ 5.515625 15.328125 5.515625 27.984375 \r\nQ 5.515625 40.671875 11.671875 48.328125 \r\nQ 17.828125 56 27.875 56 \r\nQ 33.9375 56 38.28125 53.609375 \r\nQ 42.625 51.21875 45.40625 46.390625 \r\nL 45.40625 54.6875 \r\nL 54.390625 54.6875 \r\nz\r\n\" id=\"DejaVuSans-103\"/>\r\n      <path d=\"M 25.390625 72.90625 \r\nL 33.6875 72.90625 \r\nL 8.296875 -9.28125 \r\nL 0 -9.28125 \r\nz\r\n\" id=\"DejaVuSans-47\"/>\r\n      <path d=\"M 9.8125 72.90625 \r\nL 19.671875 72.90625 \r\nL 19.671875 8.296875 \r\nL 55.171875 8.296875 \r\nL 55.171875 0 \r\nL 9.8125 0 \r\nz\r\n\" id=\"DejaVuSans-76\"/>\r\n      <path d=\"M 30.421875 75.984375 \r\nL 30.421875 -13.1875 \r\nL 9.71875 -13.1875 \r\nL 9.71875 -6.203125 \r\nL 21.390625 -6.203125 \r\nL 21.390625 69 \r\nL 9.71875 69 \r\nL 9.71875 75.984375 \r\nz\r\n\" id=\"DejaVuSans-93\"/>\r\n     </defs>\r\n     <g transform=\"translate(400.378906 322.769375)scale(0.1 -0.1)\">\r\n      <use xlink:href=\"#DejaVuSans-99\"/>\r\n      <use x=\"54.980469\" xlink:href=\"#DejaVuSans-111\"/>\r\n      <use x=\"116.162109\" xlink:href=\"#DejaVuSans-110\"/>\r\n      <use x=\"179.541016\" xlink:href=\"#DejaVuSans-99\"/>\r\n      <use x=\"234.521484\" xlink:href=\"#DejaVuSans-101\"/>\r\n      <use x=\"296.044922\" xlink:href=\"#DejaVuSans-110\"/>\r\n      <use x=\"359.423828\" xlink:href=\"#DejaVuSans-116\"/>\r\n      <use x=\"398.632812\" xlink:href=\"#DejaVuSans-114\"/>\r\n      <use x=\"439.746094\" xlink:href=\"#DejaVuSans-97\"/>\r\n      <use x=\"501.025391\" xlink:href=\"#DejaVuSans-231\"/>\r\n      <use x=\"556.005859\" xlink:href=\"#DejaVuSans-227\"/>\r\n      <use x=\"617.285156\" xlink:href=\"#DejaVuSans-111\"/>\r\n      <use x=\"678.466797\" xlink:href=\"#DejaVuSans-91\"/>\r\n      <use x=\"717.480469\" xlink:href=\"#DejaVuSans-109\"/>\r\n      <use x=\"814.892578\" xlink:href=\"#DejaVuSans-99\"/>\r\n      <use x=\"869.873047\" xlink:href=\"#DejaVuSans-103\"/>\r\n      <use x=\"933.349609\" xlink:href=\"#DejaVuSans-47\"/>\r\n      <use x=\"967.041016\" xlink:href=\"#DejaVuSans-76\"/>\r\n      <use x=\"1022.753906\" xlink:href=\"#DejaVuSans-93\"/>\r\n     </g>\r\n    </g>\r\n   </g>\r\n   <g id=\"matplotlib.axis_2\">\r\n    <g id=\"ytick_1\">\r\n     <g id=\"line2d_9\">\r\n      <defs>\r\n       <path d=\"M 0 0 \r\nL -3.5 0 \r\n\" id=\"m7be1e60248\" style=\"stroke:#000000;stroke-width:0.8;\"/>\r\n      </defs>\r\n      <g>\r\n       <use style=\"stroke:#000000;stroke-width:0.8;\" x=\"62.86875\" xlink:href=\"#m7be1e60248\" y=\"294.3225\"/>\r\n      </g>\r\n     </g>\r\n     <g id=\"text_10\">\r\n      <!-- 0.0000 -->\r\n      <defs>\r\n       <path d=\"M 10.6875 12.40625 \r\nL 21 12.40625 \r\nL 21 0 \r\nL 10.6875 0 \r\nz\r\n\" id=\"DejaVuSans-46\"/>\r\n      </defs>\r\n      <g transform=\"translate(20.878125 298.121719)scale(0.1 -0.1)\">\r\n       <use xlink:href=\"#DejaVuSans-48\"/>\r\n       <use x=\"63.623047\" xlink:href=\"#DejaVuSans-46\"/>\r\n       <use x=\"95.410156\" xlink:href=\"#DejaVuSans-48\"/>\r\n       <use x=\"159.033203\" xlink:href=\"#DejaVuSans-48\"/>\r\n       <use x=\"222.65625\" xlink:href=\"#DejaVuSans-48\"/>\r\n       <use x=\"286.279297\" xlink:href=\"#DejaVuSans-48\"/>\r\n      </g>\r\n     </g>\r\n    </g>\r\n    <g id=\"ytick_2\">\r\n     <g id=\"line2d_10\">\r\n      <g>\r\n       <use style=\"stroke:#000000;stroke-width:0.8;\" x=\"62.86875\" xlink:href=\"#m7be1e60248\" y=\"253.080854\"/>\r\n      </g>\r\n     </g>\r\n     <g id=\"text_11\">\r\n      <!-- 0.0002 -->\r\n      <g transform=\"translate(20.878125 256.880072)scale(0.1 -0.1)\">\r\n       <use xlink:href=\"#DejaVuSans-48\"/>\r\n       <use x=\"63.623047\" xlink:href=\"#DejaVuSans-46\"/>\r\n       <use x=\"95.410156\" xlink:href=\"#DejaVuSans-48\"/>\r\n       <use x=\"159.033203\" xlink:href=\"#DejaVuSans-48\"/>\r\n       <use x=\"222.65625\" xlink:href=\"#DejaVuSans-48\"/>\r\n       <use x=\"286.279297\" xlink:href=\"#DejaVuSans-50\"/>\r\n      </g>\r\n     </g>\r\n    </g>\r\n    <g id=\"ytick_3\">\r\n     <g id=\"line2d_11\">\r\n      <g>\r\n       <use style=\"stroke:#000000;stroke-width:0.8;\" x=\"62.86875\" xlink:href=\"#m7be1e60248\" y=\"211.839207\"/>\r\n      </g>\r\n     </g>\r\n     <g id=\"text_12\">\r\n      <!-- 0.0004 -->\r\n      <g transform=\"translate(20.878125 215.638426)scale(0.1 -0.1)\">\r\n       <use xlink:href=\"#DejaVuSans-48\"/>\r\n       <use x=\"63.623047\" xlink:href=\"#DejaVuSans-46\"/>\r\n       <use x=\"95.410156\" xlink:href=\"#DejaVuSans-48\"/>\r\n       <use x=\"159.033203\" xlink:href=\"#DejaVuSans-48\"/>\r\n       <use x=\"222.65625\" xlink:href=\"#DejaVuSans-48\"/>\r\n       <use x=\"286.279297\" xlink:href=\"#DejaVuSans-52\"/>\r\n      </g>\r\n     </g>\r\n    </g>\r\n    <g id=\"ytick_4\">\r\n     <g id=\"line2d_12\">\r\n      <g>\r\n       <use style=\"stroke:#000000;stroke-width:0.8;\" x=\"62.86875\" xlink:href=\"#m7be1e60248\" y=\"170.597561\"/>\r\n      </g>\r\n     </g>\r\n     <g id=\"text_13\">\r\n      <!-- 0.0006 -->\r\n      <g transform=\"translate(20.878125 174.396779)scale(0.1 -0.1)\">\r\n       <use xlink:href=\"#DejaVuSans-48\"/>\r\n       <use x=\"63.623047\" xlink:href=\"#DejaVuSans-46\"/>\r\n       <use x=\"95.410156\" xlink:href=\"#DejaVuSans-48\"/>\r\n       <use x=\"159.033203\" xlink:href=\"#DejaVuSans-48\"/>\r\n       <use x=\"222.65625\" xlink:href=\"#DejaVuSans-48\"/>\r\n       <use x=\"286.279297\" xlink:href=\"#DejaVuSans-54\"/>\r\n      </g>\r\n     </g>\r\n    </g>\r\n    <g id=\"ytick_5\">\r\n     <g id=\"line2d_13\">\r\n      <g>\r\n       <use style=\"stroke:#000000;stroke-width:0.8;\" x=\"62.86875\" xlink:href=\"#m7be1e60248\" y=\"129.355914\"/>\r\n      </g>\r\n     </g>\r\n     <g id=\"text_14\">\r\n      <!-- 0.0008 -->\r\n      <defs>\r\n       <path d=\"M 31.78125 34.625 \r\nQ 24.75 34.625 20.71875 30.859375 \r\nQ 16.703125 27.09375 16.703125 20.515625 \r\nQ 16.703125 13.921875 20.71875 10.15625 \r\nQ 24.75 6.390625 31.78125 6.390625 \r\nQ 38.8125 6.390625 42.859375 10.171875 \r\nQ 46.921875 13.96875 46.921875 20.515625 \r\nQ 46.921875 27.09375 42.890625 30.859375 \r\nQ 38.875 34.625 31.78125 34.625 \r\nz\r\nM 21.921875 38.8125 \r\nQ 15.578125 40.375 12.03125 44.71875 \r\nQ 8.5 49.078125 8.5 55.328125 \r\nQ 8.5 64.0625 14.71875 69.140625 \r\nQ 20.953125 74.21875 31.78125 74.21875 \r\nQ 42.671875 74.21875 48.875 69.140625 \r\nQ 55.078125 64.0625 55.078125 55.328125 \r\nQ 55.078125 49.078125 51.53125 44.71875 \r\nQ 48 40.375 41.703125 38.8125 \r\nQ 48.828125 37.15625 52.796875 32.3125 \r\nQ 56.78125 27.484375 56.78125 20.515625 \r\nQ 56.78125 9.90625 50.3125 4.234375 \r\nQ 43.84375 -1.421875 31.78125 -1.421875 \r\nQ 19.734375 -1.421875 13.25 4.234375 \r\nQ 6.78125 9.90625 6.78125 20.515625 \r\nQ 6.78125 27.484375 10.78125 32.3125 \r\nQ 14.796875 37.15625 21.921875 38.8125 \r\nz\r\nM 18.3125 54.390625 \r\nQ 18.3125 48.734375 21.84375 45.5625 \r\nQ 25.390625 42.390625 31.78125 42.390625 \r\nQ 38.140625 42.390625 41.71875 45.5625 \r\nQ 45.3125 48.734375 45.3125 54.390625 \r\nQ 45.3125 60.0625 41.71875 63.234375 \r\nQ 38.140625 66.40625 31.78125 66.40625 \r\nQ 25.390625 66.40625 21.84375 63.234375 \r\nQ 18.3125 60.0625 18.3125 54.390625 \r\nz\r\n\" id=\"DejaVuSans-56\"/>\r\n      </defs>\r\n      <g transform=\"translate(20.878125 133.155133)scale(0.1 -0.1)\">\r\n       <use xlink:href=\"#DejaVuSans-48\"/>\r\n       <use x=\"63.623047\" xlink:href=\"#DejaVuSans-46\"/>\r\n       <use x=\"95.410156\" xlink:href=\"#DejaVuSans-48\"/>\r\n       <use x=\"159.033203\" xlink:href=\"#DejaVuSans-48\"/>\r\n       <use x=\"222.65625\" xlink:href=\"#DejaVuSans-48\"/>\r\n       <use x=\"286.279297\" xlink:href=\"#DejaVuSans-56\"/>\r\n      </g>\r\n     </g>\r\n    </g>\r\n    <g id=\"ytick_6\">\r\n     <g id=\"line2d_14\">\r\n      <g>\r\n       <use style=\"stroke:#000000;stroke-width:0.8;\" x=\"62.86875\" xlink:href=\"#m7be1e60248\" y=\"88.114268\"/>\r\n      </g>\r\n     </g>\r\n     <g id=\"text_15\">\r\n      <!-- 0.0010 -->\r\n      <g transform=\"translate(20.878125 91.913486)scale(0.1 -0.1)\">\r\n       <use xlink:href=\"#DejaVuSans-48\"/>\r\n       <use x=\"63.623047\" xlink:href=\"#DejaVuSans-46\"/>\r\n       <use x=\"95.410156\" xlink:href=\"#DejaVuSans-48\"/>\r\n       <use x=\"159.033203\" xlink:href=\"#DejaVuSans-48\"/>\r\n       <use x=\"222.65625\" xlink:href=\"#DejaVuSans-49\"/>\r\n       <use x=\"286.279297\" xlink:href=\"#DejaVuSans-48\"/>\r\n      </g>\r\n     </g>\r\n    </g>\r\n    <g id=\"ytick_7\">\r\n     <g id=\"line2d_15\">\r\n      <g>\r\n       <use style=\"stroke:#000000;stroke-width:0.8;\" x=\"62.86875\" xlink:href=\"#m7be1e60248\" y=\"46.872621\"/>\r\n      </g>\r\n     </g>\r\n     <g id=\"text_16\">\r\n      <!-- 0.0012 -->\r\n      <g transform=\"translate(20.878125 50.67184)scale(0.1 -0.1)\">\r\n       <use xlink:href=\"#DejaVuSans-48\"/>\r\n       <use x=\"63.623047\" xlink:href=\"#DejaVuSans-46\"/>\r\n       <use x=\"95.410156\" xlink:href=\"#DejaVuSans-48\"/>\r\n       <use x=\"159.033203\" xlink:href=\"#DejaVuSans-48\"/>\r\n       <use x=\"222.65625\" xlink:href=\"#DejaVuSans-49\"/>\r\n       <use x=\"286.279297\" xlink:href=\"#DejaVuSans-50\"/>\r\n      </g>\r\n     </g>\r\n    </g>\r\n    <g id=\"text_17\">\r\n     <!-- densidade -->\r\n     <defs>\r\n      <path d=\"M 45.40625 46.390625 \r\nL 45.40625 75.984375 \r\nL 54.390625 75.984375 \r\nL 54.390625 0 \r\nL 45.40625 0 \r\nL 45.40625 8.203125 \r\nQ 42.578125 3.328125 38.25 0.953125 \r\nQ 33.9375 -1.421875 27.875 -1.421875 \r\nQ 17.96875 -1.421875 11.734375 6.484375 \r\nQ 5.515625 14.40625 5.515625 27.296875 \r\nQ 5.515625 40.1875 11.734375 48.09375 \r\nQ 17.96875 56 27.875 56 \r\nQ 33.9375 56 38.25 53.625 \r\nQ 42.578125 51.265625 45.40625 46.390625 \r\nz\r\nM 14.796875 27.296875 \r\nQ 14.796875 17.390625 18.875 11.75 \r\nQ 22.953125 6.109375 30.078125 6.109375 \r\nQ 37.203125 6.109375 41.296875 11.75 \r\nQ 45.40625 17.390625 45.40625 27.296875 \r\nQ 45.40625 37.203125 41.296875 42.84375 \r\nQ 37.203125 48.484375 30.078125 48.484375 \r\nQ 22.953125 48.484375 18.875 42.84375 \r\nQ 14.796875 37.203125 14.796875 27.296875 \r\nz\r\n\" id=\"DejaVuSans-100\"/>\r\n      <path d=\"M 44.28125 53.078125 \r\nL 44.28125 44.578125 \r\nQ 40.484375 46.53125 36.375 47.5 \r\nQ 32.28125 48.484375 27.875 48.484375 \r\nQ 21.1875 48.484375 17.84375 46.4375 \r\nQ 14.5 44.390625 14.5 40.28125 \r\nQ 14.5 37.15625 16.890625 35.375 \r\nQ 19.28125 33.59375 26.515625 31.984375 \r\nL 29.59375 31.296875 \r\nQ 39.15625 29.25 43.1875 25.515625 \r\nQ 47.21875 21.78125 47.21875 15.09375 \r\nQ 47.21875 7.46875 41.1875 3.015625 \r\nQ 35.15625 -1.421875 24.609375 -1.421875 \r\nQ 20.21875 -1.421875 15.453125 -0.5625 \r\nQ 10.6875 0.296875 5.421875 2 \r\nL 5.421875 11.28125 \r\nQ 10.40625 8.6875 15.234375 7.390625 \r\nQ 20.0625 6.109375 24.8125 6.109375 \r\nQ 31.15625 6.109375 34.5625 8.28125 \r\nQ 37.984375 10.453125 37.984375 14.40625 \r\nQ 37.984375 18.0625 35.515625 20.015625 \r\nQ 33.0625 21.96875 24.703125 23.78125 \r\nL 21.578125 24.515625 \r\nQ 13.234375 26.265625 9.515625 29.90625 \r\nQ 5.8125 33.546875 5.8125 39.890625 \r\nQ 5.8125 47.609375 11.28125 51.796875 \r\nQ 16.75 56 26.8125 56 \r\nQ 31.78125 56 36.171875 55.265625 \r\nQ 40.578125 54.546875 44.28125 53.078125 \r\nz\r\n\" id=\"DejaVuSans-115\"/>\r\n      <path d=\"M 9.421875 54.6875 \r\nL 18.40625 54.6875 \r\nL 18.40625 0 \r\nL 9.421875 0 \r\nz\r\nM 9.421875 75.984375 \r\nL 18.40625 75.984375 \r\nL 18.40625 64.59375 \r\nL 9.421875 64.59375 \r\nz\r\n\" id=\"DejaVuSans-105\"/>\r\n     </defs>\r\n     <g transform=\"translate(14.798438 184.324844)rotate(-90)scale(0.1 -0.1)\">\r\n      <use xlink:href=\"#DejaVuSans-100\"/>\r\n      <use x=\"63.476562\" xlink:href=\"#DejaVuSans-101\"/>\r\n      <use x=\"125\" xlink:href=\"#DejaVuSans-110\"/>\r\n      <use x=\"188.378906\" xlink:href=\"#DejaVuSans-115\"/>\r\n      <use x=\"240.478516\" xlink:href=\"#DejaVuSans-105\"/>\r\n      <use x=\"268.261719\" xlink:href=\"#DejaVuSans-100\"/>\r\n      <use x=\"331.738281\" xlink:href=\"#DejaVuSans-97\"/>\r\n      <use x=\"393.017578\" xlink:href=\"#DejaVuSans-100\"/>\r\n      <use x=\"456.494141\" xlink:href=\"#DejaVuSans-101\"/>\r\n     </g>\r\n    </g>\r\n   </g>\r\n   <g id=\"patch_33\">\r\n    <path d=\"M 62.86875 294.3225 \r\nL 62.86875 22.5225 \r\n\" style=\"fill:none;stroke:#000000;stroke-linecap:square;stroke-linejoin:miter;stroke-width:0.8;\"/>\r\n   </g>\r\n   <g id=\"patch_34\">\r\n    <path d=\"M 844.06875 294.3225 \r\nL 844.06875 22.5225 \r\n\" style=\"fill:none;stroke:#000000;stroke-linecap:square;stroke-linejoin:miter;stroke-width:0.8;\"/>\r\n   </g>\r\n   <g id=\"patch_35\">\r\n    <path d=\"M 62.86875 294.3225 \r\nL 844.06875 294.3225 \r\n\" style=\"fill:none;stroke:#000000;stroke-linecap:square;stroke-linejoin:miter;stroke-width:0.8;\"/>\r\n   </g>\r\n   <g id=\"patch_36\">\r\n    <path d=\"M 62.86875 22.5225 \r\nL 844.06875 22.5225 \r\n\" style=\"fill:none;stroke:#000000;stroke-linecap:square;stroke-linejoin:miter;stroke-width:0.8;\"/>\r\n   </g>\r\n   <g id=\"text_18\">\r\n    <!-- Concentração de Creatinofosfoquinase no sangue -->\r\n    <defs>\r\n     <path d=\"M 64.40625 67.28125 \r\nL 64.40625 56.890625 \r\nQ 59.421875 61.53125 53.78125 63.8125 \r\nQ 48.140625 66.109375 41.796875 66.109375 \r\nQ 29.296875 66.109375 22.65625 58.46875 \r\nQ 16.015625 50.828125 16.015625 36.375 \r\nQ 16.015625 21.96875 22.65625 14.328125 \r\nQ 29.296875 6.6875 41.796875 6.6875 \r\nQ 48.140625 6.6875 53.78125 8.984375 \r\nQ 59.421875 11.28125 64.40625 15.921875 \r\nL 64.40625 5.609375 \r\nQ 59.234375 2.09375 53.4375 0.328125 \r\nQ 47.65625 -1.421875 41.21875 -1.421875 \r\nQ 24.65625 -1.421875 15.125 8.703125 \r\nQ 5.609375 18.84375 5.609375 36.375 \r\nQ 5.609375 53.953125 15.125 64.078125 \r\nQ 24.65625 74.21875 41.21875 74.21875 \r\nQ 47.75 74.21875 53.53125 72.484375 \r\nQ 59.328125 70.75 64.40625 67.28125 \r\nz\r\n\" id=\"DejaVuSans-67\"/>\r\n     <path id=\"DejaVuSans-32\"/>\r\n     <path d=\"M 37.109375 75.984375 \r\nL 37.109375 68.5 \r\nL 28.515625 68.5 \r\nQ 23.6875 68.5 21.796875 66.546875 \r\nQ 19.921875 64.59375 19.921875 59.515625 \r\nL 19.921875 54.6875 \r\nL 34.71875 54.6875 \r\nL 34.71875 47.703125 \r\nL 19.921875 47.703125 \r\nL 19.921875 0 \r\nL 10.890625 0 \r\nL 10.890625 47.703125 \r\nL 2.296875 47.703125 \r\nL 2.296875 54.6875 \r\nL 10.890625 54.6875 \r\nL 10.890625 58.5 \r\nQ 10.890625 67.625 15.140625 71.796875 \r\nQ 19.390625 75.984375 28.609375 75.984375 \r\nz\r\n\" id=\"DejaVuSans-102\"/>\r\n     <path d=\"M 14.796875 27.296875 \r\nQ 14.796875 17.390625 18.875 11.75 \r\nQ 22.953125 6.109375 30.078125 6.109375 \r\nQ 37.203125 6.109375 41.296875 11.75 \r\nQ 45.40625 17.390625 45.40625 27.296875 \r\nQ 45.40625 37.203125 41.296875 42.84375 \r\nQ 37.203125 48.484375 30.078125 48.484375 \r\nQ 22.953125 48.484375 18.875 42.84375 \r\nQ 14.796875 37.203125 14.796875 27.296875 \r\nz\r\nM 45.40625 8.203125 \r\nQ 42.578125 3.328125 38.25 0.953125 \r\nQ 33.9375 -1.421875 27.875 -1.421875 \r\nQ 17.96875 -1.421875 11.734375 6.484375 \r\nQ 5.515625 14.40625 5.515625 27.296875 \r\nQ 5.515625 40.1875 11.734375 48.09375 \r\nQ 17.96875 56 27.875 56 \r\nQ 33.9375 56 38.25 53.625 \r\nQ 42.578125 51.265625 45.40625 46.390625 \r\nL 45.40625 54.6875 \r\nL 54.390625 54.6875 \r\nL 54.390625 -20.796875 \r\nL 45.40625 -20.796875 \r\nz\r\n\" id=\"DejaVuSans-113\"/>\r\n     <path d=\"M 8.5 21.578125 \r\nL 8.5 54.6875 \r\nL 17.484375 54.6875 \r\nL 17.484375 21.921875 \r\nQ 17.484375 14.15625 20.5 10.265625 \r\nQ 23.53125 6.390625 29.59375 6.390625 \r\nQ 36.859375 6.390625 41.078125 11.03125 \r\nQ 45.3125 15.671875 45.3125 23.6875 \r\nL 45.3125 54.6875 \r\nL 54.296875 54.6875 \r\nL 54.296875 0 \r\nL 45.3125 0 \r\nL 45.3125 8.40625 \r\nQ 42.046875 3.421875 37.71875 1 \r\nQ 33.40625 -1.421875 27.6875 -1.421875 \r\nQ 18.265625 -1.421875 13.375 4.4375 \r\nQ 8.5 10.296875 8.5 21.578125 \r\nz\r\nM 31.109375 56 \r\nz\r\n\" id=\"DejaVuSans-117\"/>\r\n    </defs>\r\n    <g transform=\"translate(303.707813 16.5225)scale(0.12 -0.12)\">\r\n     <use xlink:href=\"#DejaVuSans-67\"/>\r\n     <use x=\"69.824219\" xlink:href=\"#DejaVuSans-111\"/>\r\n     <use x=\"131.005859\" xlink:href=\"#DejaVuSans-110\"/>\r\n     <use x=\"194.384766\" xlink:href=\"#DejaVuSans-99\"/>\r\n     <use x=\"249.365234\" xlink:href=\"#DejaVuSans-101\"/>\r\n     <use x=\"310.888672\" xlink:href=\"#DejaVuSans-110\"/>\r\n     <use x=\"374.267578\" xlink:href=\"#DejaVuSans-116\"/>\r\n     <use x=\"413.476562\" xlink:href=\"#DejaVuSans-114\"/>\r\n     <use x=\"454.589844\" xlink:href=\"#DejaVuSans-97\"/>\r\n     <use x=\"515.869141\" xlink:href=\"#DejaVuSans-231\"/>\r\n     <use x=\"570.849609\" xlink:href=\"#DejaVuSans-227\"/>\r\n     <use x=\"632.128906\" xlink:href=\"#DejaVuSans-111\"/>\r\n     <use x=\"693.310547\" xlink:href=\"#DejaVuSans-32\"/>\r\n     <use x=\"725.097656\" xlink:href=\"#DejaVuSans-100\"/>\r\n     <use x=\"788.574219\" xlink:href=\"#DejaVuSans-101\"/>\r\n     <use x=\"850.097656\" xlink:href=\"#DejaVuSans-32\"/>\r\n     <use x=\"881.884766\" xlink:href=\"#DejaVuSans-67\"/>\r\n     <use x=\"951.708984\" xlink:href=\"#DejaVuSans-114\"/>\r\n     <use x=\"990.572266\" xlink:href=\"#DejaVuSans-101\"/>\r\n     <use x=\"1052.095703\" xlink:href=\"#DejaVuSans-97\"/>\r\n     <use x=\"1113.375\" xlink:href=\"#DejaVuSans-116\"/>\r\n     <use x=\"1152.583984\" xlink:href=\"#DejaVuSans-105\"/>\r\n     <use x=\"1180.367188\" xlink:href=\"#DejaVuSans-110\"/>\r\n     <use x=\"1243.746094\" xlink:href=\"#DejaVuSans-111\"/>\r\n     <use x=\"1304.927734\" xlink:href=\"#DejaVuSans-102\"/>\r\n     <use x=\"1340.132812\" xlink:href=\"#DejaVuSans-111\"/>\r\n     <use x=\"1401.314453\" xlink:href=\"#DejaVuSans-115\"/>\r\n     <use x=\"1453.414062\" xlink:href=\"#DejaVuSans-102\"/>\r\n     <use x=\"1488.619141\" xlink:href=\"#DejaVuSans-111\"/>\r\n     <use x=\"1549.800781\" xlink:href=\"#DejaVuSans-113\"/>\r\n     <use x=\"1613.277344\" xlink:href=\"#DejaVuSans-117\"/>\r\n     <use x=\"1676.65625\" xlink:href=\"#DejaVuSans-105\"/>\r\n     <use x=\"1704.439453\" xlink:href=\"#DejaVuSans-110\"/>\r\n     <use x=\"1767.818359\" xlink:href=\"#DejaVuSans-97\"/>\r\n     <use x=\"1829.097656\" xlink:href=\"#DejaVuSans-115\"/>\r\n     <use x=\"1881.197266\" xlink:href=\"#DejaVuSans-101\"/>\r\n     <use x=\"1942.720703\" xlink:href=\"#DejaVuSans-32\"/>\r\n     <use x=\"1974.507812\" xlink:href=\"#DejaVuSans-110\"/>\r\n     <use x=\"2037.886719\" xlink:href=\"#DejaVuSans-111\"/>\r\n     <use x=\"2099.068359\" xlink:href=\"#DejaVuSans-32\"/>\r\n     <use x=\"2130.855469\" xlink:href=\"#DejaVuSans-115\"/>\r\n     <use x=\"2182.955078\" xlink:href=\"#DejaVuSans-97\"/>\r\n     <use x=\"2244.234375\" xlink:href=\"#DejaVuSans-110\"/>\r\n     <use x=\"2307.613281\" xlink:href=\"#DejaVuSans-103\"/>\r\n     <use x=\"2371.089844\" xlink:href=\"#DejaVuSans-117\"/>\r\n     <use x=\"2434.46875\" xlink:href=\"#DejaVuSans-101\"/>\r\n    </g>\r\n   </g>\r\n   <g id=\"legend_1\">\r\n    <g id=\"patch_37\">\r\n     <path d=\"M 798.70625 59.87875 \r\nL 837.06875 59.87875 \r\nQ 839.06875 59.87875 839.06875 57.87875 \r\nL 839.06875 29.5225 \r\nQ 839.06875 27.5225 837.06875 27.5225 \r\nL 798.70625 27.5225 \r\nQ 796.70625 27.5225 796.70625 29.5225 \r\nL 796.70625 57.87875 \r\nQ 796.70625 59.87875 798.70625 59.87875 \r\nz\r\n\" style=\"fill:#ffffff;opacity:0.8;stroke:#cccccc;stroke-linejoin:miter;\"/>\r\n    </g>\r\n    <g id=\"patch_38\">\r\n     <path d=\"M 800.70625 39.120937 \r\nL 820.70625 39.120937 \r\nL 820.70625 32.120937 \r\nL 800.70625 32.120937 \r\nz\r\n\" style=\"fill:#ff0000;stroke:#ffffff;stroke-linejoin:miter;\"/>\r\n    </g>\r\n    <g id=\"text_19\">\r\n     <!-- 1 -->\r\n     <g transform=\"translate(828.70625 39.120937)scale(0.1 -0.1)\">\r\n      <use xlink:href=\"#DejaVuSans-49\"/>\r\n     </g>\r\n    </g>\r\n    <g id=\"patch_39\">\r\n     <path d=\"M 800.70625 53.799062 \r\nL 820.70625 53.799062 \r\nL 820.70625 46.799062 \r\nL 800.70625 46.799062 \r\nz\r\n\" style=\"fill:#87ceeb;opacity:0.8;stroke:#ffffff;stroke-linejoin:miter;\"/>\r\n    </g>\r\n    <g id=\"text_20\">\r\n     <!-- 0 -->\r\n     <g transform=\"translate(828.70625 53.799062)scale(0.1 -0.1)\">\r\n      <use xlink:href=\"#DejaVuSans-48\"/>\r\n     </g>\r\n    </g>\r\n   </g>\r\n  </g>\r\n </g>\r\n <defs>\r\n  <clipPath id=\"p1b47b8c5c8\">\r\n   <rect height=\"271.8\" width=\"781.2\" x=\"62.86875\" y=\"22.5225\"/>\r\n  </clipPath>\r\n </defs>\r\n</svg>\r\n",
      "image/png": "[encoded data removed]"
     },
     "metadata": {
      "needs_background": "light"
     }
    }
   ],
   "source": [
    "#Histograma da idade dos sobreviventes e não sobreviventes\n",
    "faixas = np.arange(23,7861,500)\n",
    "plt.figure(figsize=(14, 5))\n",
    "plt.hist(dead.creatinine_phosphokinase, bins=faixas, density=True, color='red', edgecolor='white', linewidth=1)\n",
    "plt.hist(not_dead.creatinine_phosphokinase, bins=faixas, density=True, color='skyblue', edgecolor='white', linewidth=1, alpha=0.8)\n",
    "plt.legend('10')\n",
    "plt.title('Concentração de Creatinofosfoquinase no sangue')\n",
    "plt.xlabel('concentração[mcg/L]')\n",
    "plt.ylabel('densidade')\n",
    "plt.show()"
   ]
  },
  {
   "source": [
    "Com este histograma foi possível compreender que as taxas de concentração de creatinofosfoquinase não interferem de maneira expressiva nas taxas de mortalidade.\n"
   ],
   "cell_type": "markdown",
   "metadata": {}
  },
  {
   "source": [],
   "cell_type": "markdown",
   "metadata": {}
  },
  {
   "cell_type": "code",
   "execution_count": 113,
   "metadata": {},
   "outputs": [
    {
     "output_type": "display_data",
     "data": {
      "text/plain": "<Figure size 1008x360 with 1 Axes>",
      "image/svg+xml": "<?xml version=\"1.0\" encoding=\"utf-8\" standalone=\"no\"?>\r\n<!DOCTYPE svg PUBLIC \"-//W3C//DTD SVG 1.1//EN\"\r\n  \"http://www.w3.org/Graphics/SVG/1.1/DTD/svg11.dtd\">\r\n<!-- Created with matplotlib (https://matplotlib.org/) -->\r\n<svg height=\"331.9525pt\" version=\"1.1\" viewBox=\"0 0 838.54375 331.9525\" width=\"838.54375pt\" xmlns=\"http://www.w3.org/2000/svg\" xmlns:xlink=\"http://www.w3.org/1999/xlink\">\r\n <defs>\r\n  <style type=\"text/css\">\r\n*{stroke-linecap:butt;stroke-linejoin:round;}\r\n  </style>\r\n </defs>\r\n <g id=\"figure_1\">\r\n  <g id=\"patch_1\">\r\n   <path d=\"M 0 331.9525 \r\nL 838.54375 331.9525 \r\nL 838.54375 0 \r\nL 0 0 \r\nz\r\n\" style=\"fill:none;\"/>\r\n  </g>\r\n  <g id=\"axes_1\">\r\n   <g id=\"patch_2\">\r\n    <path d=\"M 50.14375 294.118125 \r\nL 831.34375 294.118125 \r\nL 831.34375 22.318125 \r\nL 50.14375 22.318125 \r\nz\r\n\" style=\"fill:#ffffff;\"/>\r\n   </g>\r\n   <g id=\"patch_3\">\r\n    <path clip-path=\"url(#p1761a5334a)\" d=\"M 85.652841 294.118125 \r\nL 140.282212 294.118125 \r\nL 140.282212 261.600001 \r\nL 85.652841 261.600001 \r\nz\r\n\" style=\"fill:#ff0000;stroke:#ffffff;stroke-linejoin:miter;\"/>\r\n   </g>\r\n   <g id=\"patch_4\">\r\n    <path clip-path=\"url(#p1761a5334a)\" d=\"M 140.282212 294.118125 \r\nL 194.911582 294.118125 \r\nL 194.911582 164.04563 \r\nL 140.282212 164.04563 \r\nz\r\n\" style=\"fill:#ff0000;stroke:#ffffff;stroke-linejoin:miter;\"/>\r\n   </g>\r\n   <g id=\"patch_5\">\r\n    <path clip-path=\"url(#p1761a5334a)\" d=\"M 194.911582 294.118125 \r\nL 249.540953 294.118125 \r\nL 249.540953 147.786568 \r\nL 194.911582 147.786568 \r\nz\r\n\" style=\"fill:#ff0000;stroke:#ffffff;stroke-linejoin:miter;\"/>\r\n   </g>\r\n   <g id=\"patch_6\">\r\n    <path clip-path=\"url(#p1761a5334a)\" d=\"M 249.540953 294.118125 \r\nL 304.170323 294.118125 \r\nL 304.170323 188.434223 \r\nL 249.540953 188.434223 \r\nz\r\n\" style=\"fill:#ff0000;stroke:#ffffff;stroke-linejoin:miter;\"/>\r\n   </g>\r\n   <g id=\"patch_7\">\r\n    <path clip-path=\"url(#p1761a5334a)\" d=\"M 304.170323 294.118125 \r\nL 358.799694 294.118125 \r\nL 358.799694 115.268445 \r\nL 304.170323 115.268445 \r\nz\r\n\" style=\"fill:#ff0000;stroke:#ffffff;stroke-linejoin:miter;\"/>\r\n   </g>\r\n   <g id=\"patch_8\">\r\n    <path clip-path=\"url(#p1761a5334a)\" d=\"M 358.799694 294.118125 \r\nL 413.429065 294.118125 \r\nL 413.429065 261.600001 \r\nL 358.799694 261.600001 \r\nz\r\n\" style=\"fill:#ff0000;stroke:#ffffff;stroke-linejoin:miter;\"/>\r\n   </g>\r\n   <g id=\"patch_9\">\r\n    <path clip-path=\"url(#p1761a5334a)\" d=\"M 413.429065 294.118125 \r\nL 468.058435 294.118125 \r\nL 468.058435 253.47047 \r\nL 413.429065 253.47047 \r\nz\r\n\" style=\"fill:#ff0000;stroke:#ffffff;stroke-linejoin:miter;\"/>\r\n   </g>\r\n   <g id=\"patch_10\">\r\n    <path clip-path=\"url(#p1761a5334a)\" d=\"M 468.058435 294.118125 \r\nL 522.687806 294.118125 \r\nL 522.687806 245.340939 \r\nL 468.058435 245.340939 \r\nz\r\n\" style=\"fill:#ff0000;stroke:#ffffff;stroke-linejoin:miter;\"/>\r\n   </g>\r\n   <g id=\"patch_11\">\r\n    <path clip-path=\"url(#p1761a5334a)\" d=\"M 522.687806 294.118125 \r\nL 577.317177 294.118125 \r\nL 577.317177 285.988594 \r\nL 522.687806 285.988594 \r\nz\r\n\" style=\"fill:#ff0000;stroke:#ffffff;stroke-linejoin:miter;\"/>\r\n   </g>\r\n   <g id=\"patch_12\">\r\n    <path clip-path=\"url(#p1761a5334a)\" d=\"M 577.317177 294.118125 \r\nL 631.946547 294.118125 \r\nL 631.946547 253.47047 \r\nL 577.317177 253.47047 \r\nz\r\n\" style=\"fill:#ff0000;stroke:#ffffff;stroke-linejoin:miter;\"/>\r\n   </g>\r\n   <g id=\"patch_13\">\r\n    <path clip-path=\"url(#p1761a5334a)\" d=\"M 631.946547 294.118125 \r\nL 686.575918 294.118125 \r\nL 686.575918 285.988594 \r\nL 631.946547 285.988594 \r\nz\r\n\" style=\"fill:#ff0000;stroke:#ffffff;stroke-linejoin:miter;\"/>\r\n   </g>\r\n   <g id=\"patch_14\">\r\n    <path clip-path=\"url(#p1761a5334a)\" d=\"M 686.575918 294.118125 \r\nL 741.205288 294.118125 \r\nL 741.205288 285.988594 \r\nL 686.575918 285.988594 \r\nz\r\n\" style=\"fill:#ff0000;stroke:#ffffff;stroke-linejoin:miter;\"/>\r\n   </g>\r\n   <g id=\"patch_15\">\r\n    <path clip-path=\"url(#p1761a5334a)\" d=\"M 741.205288 294.118125 \r\nL 795.834659 294.118125 \r\nL 795.834659 294.118125 \r\nL 741.205288 294.118125 \r\nz\r\n\" style=\"fill:#ff0000;stroke:#ffffff;stroke-linejoin:miter;\"/>\r\n   </g>\r\n   <g id=\"patch_16\">\r\n    <path clip-path=\"url(#p1761a5334a)\" d=\"M 85.652841 294.118125 \r\nL 140.282212 294.118125 \r\nL 140.282212 290.254586 \r\nL 85.652841 290.254586 \r\nz\r\n\" style=\"fill:#87ceeb;opacity:0.8;stroke:#ffffff;stroke-linejoin:miter;\"/>\r\n   </g>\r\n   <g id=\"patch_17\">\r\n    <path clip-path=\"url(#p1761a5334a)\" d=\"M 140.282212 294.118125 \r\nL 194.911582 294.118125 \r\nL 194.911582 286.391046 \r\nL 140.282212 286.391046 \r\nz\r\n\" style=\"fill:#87ceeb;opacity:0.8;stroke:#ffffff;stroke-linejoin:miter;\"/>\r\n   </g>\r\n   <g id=\"patch_18\">\r\n    <path clip-path=\"url(#p1761a5334a)\" d=\"M 194.911582 294.118125 \r\nL 249.540953 294.118125 \r\nL 249.540953 224.574415 \r\nL 194.911582 224.574415 \r\nz\r\n\" style=\"fill:#87ceeb;opacity:0.8;stroke:#ffffff;stroke-linejoin:miter;\"/>\r\n   </g>\r\n   <g id=\"patch_19\">\r\n    <path clip-path=\"url(#p1761a5334a)\" d=\"M 249.540953 294.118125 \r\nL 304.170323 294.118125 \r\nL 304.170323 212.983797 \r\nL 249.540953 212.983797 \r\nz\r\n\" style=\"fill:#87ceeb;opacity:0.8;stroke:#ffffff;stroke-linejoin:miter;\"/>\r\n   </g>\r\n   <g id=\"patch_20\">\r\n    <path clip-path=\"url(#p1761a5334a)\" d=\"M 304.170323 294.118125 \r\nL 358.799694 294.118125 \r\nL 358.799694 35.260982 \r\nL 304.170323 35.260982 \r\nz\r\n\" style=\"fill:#87ceeb;opacity:0.8;stroke:#ffffff;stroke-linejoin:miter;\"/>\r\n   </g>\r\n   <g id=\"patch_21\">\r\n    <path clip-path=\"url(#p1761a5334a)\" d=\"M 358.799694 294.118125 \r\nL 413.429065 294.118125 \r\nL 413.429065 166.621323 \r\nL 358.799694 166.621323 \r\nz\r\n\" style=\"fill:#87ceeb;opacity:0.8;stroke:#ffffff;stroke-linejoin:miter;\"/>\r\n   </g>\r\n   <g id=\"patch_22\">\r\n    <path clip-path=\"url(#p1761a5334a)\" d=\"M 413.429065 294.118125 \r\nL 468.058435 294.118125 \r\nL 468.058435 236.165033 \r\nL 413.429065 236.165033 \r\nz\r\n\" style=\"fill:#87ceeb;opacity:0.8;stroke:#ffffff;stroke-linejoin:miter;\"/>\r\n   </g>\r\n   <g id=\"patch_23\">\r\n    <path clip-path=\"url(#p1761a5334a)\" d=\"M 468.058435 294.118125 \r\nL 522.687806 294.118125 \r\nL 522.687806 236.165033 \r\nL 468.058435 236.165033 \r\nz\r\n\" style=\"fill:#87ceeb;opacity:0.8;stroke:#ffffff;stroke-linejoin:miter;\"/>\r\n   </g>\r\n   <g id=\"patch_24\">\r\n    <path clip-path=\"url(#p1761a5334a)\" d=\"M 522.687806 294.118125 \r\nL 577.317177 294.118125 \r\nL 577.317177 286.391046 \r\nL 522.687806 286.391046 \r\nz\r\n\" style=\"fill:#87ceeb;opacity:0.8;stroke:#ffffff;stroke-linejoin:miter;\"/>\r\n   </g>\r\n   <g id=\"patch_25\">\r\n    <path clip-path=\"url(#p1761a5334a)\" d=\"M 577.317177 294.118125 \r\nL 631.946547 294.118125 \r\nL 631.946547 185.939021 \r\nL 577.317177 185.939021 \r\nz\r\n\" style=\"fill:#87ceeb;opacity:0.8;stroke:#ffffff;stroke-linejoin:miter;\"/>\r\n   </g>\r\n   <g id=\"patch_26\">\r\n    <path clip-path=\"url(#p1761a5334a)\" d=\"M 631.946547 294.118125 \r\nL 686.575918 294.118125 \r\nL 686.575918 294.118125 \r\nL 631.946547 294.118125 \r\nz\r\n\" style=\"fill:#87ceeb;opacity:0.8;stroke:#ffffff;stroke-linejoin:miter;\"/>\r\n   </g>\r\n   <g id=\"patch_27\">\r\n    <path clip-path=\"url(#p1761a5334a)\" d=\"M 686.575918 294.118125 \r\nL 741.205288 294.118125 \r\nL 741.205288 294.118125 \r\nL 686.575918 294.118125 \r\nz\r\n\" style=\"fill:#87ceeb;opacity:0.8;stroke:#ffffff;stroke-linejoin:miter;\"/>\r\n   </g>\r\n   <g id=\"patch_28\">\r\n    <path clip-path=\"url(#p1761a5334a)\" d=\"M 741.205288 294.118125 \r\nL 795.834659 294.118125 \r\nL 795.834659 294.118125 \r\nL 741.205288 294.118125 \r\nz\r\n\" style=\"fill:#87ceeb;opacity:0.8;stroke:#ffffff;stroke-linejoin:miter;\"/>\r\n   </g>\r\n   <g id=\"matplotlib.axis_1\">\r\n    <g id=\"xtick_1\">\r\n     <g id=\"line2d_1\">\r\n      <defs>\r\n       <path d=\"M 0 0 \r\nL 0 3.5 \r\n\" id=\"m8bfbb28822\" style=\"stroke:#000000;stroke-width:0.8;\"/>\r\n      </defs>\r\n      <g>\r\n       <use style=\"stroke:#000000;stroke-width:0.8;\" x=\"151.208086\" xlink:href=\"#m8bfbb28822\" y=\"294.118125\"/>\r\n      </g>\r\n     </g>\r\n     <g id=\"text_1\">\r\n      <!-- 20 -->\r\n      <defs>\r\n       <path d=\"M 19.1875 8.296875 \r\nL 53.609375 8.296875 \r\nL 53.609375 0 \r\nL 7.328125 0 \r\nL 7.328125 8.296875 \r\nQ 12.9375 14.109375 22.625 23.890625 \r\nQ 32.328125 33.6875 34.8125 36.53125 \r\nQ 39.546875 41.84375 41.421875 45.53125 \r\nQ 43.3125 49.21875 43.3125 52.78125 \r\nQ 43.3125 58.59375 39.234375 62.25 \r\nQ 35.15625 65.921875 28.609375 65.921875 \r\nQ 23.96875 65.921875 18.8125 64.3125 \r\nQ 13.671875 62.703125 7.8125 59.421875 \r\nL 7.8125 69.390625 \r\nQ 13.765625 71.78125 18.9375 73 \r\nQ 24.125 74.21875 28.421875 74.21875 \r\nQ 39.75 74.21875 46.484375 68.546875 \r\nQ 53.21875 62.890625 53.21875 53.421875 \r\nQ 53.21875 48.921875 51.53125 44.890625 \r\nQ 49.859375 40.875 45.40625 35.40625 \r\nQ 44.1875 33.984375 37.640625 27.21875 \r\nQ 31.109375 20.453125 19.1875 8.296875 \r\nz\r\n\" id=\"DejaVuSans-50\"/>\r\n       <path d=\"M 31.78125 66.40625 \r\nQ 24.171875 66.40625 20.328125 58.90625 \r\nQ 16.5 51.421875 16.5 36.375 \r\nQ 16.5 21.390625 20.328125 13.890625 \r\nQ 24.171875 6.390625 31.78125 6.390625 \r\nQ 39.453125 6.390625 43.28125 13.890625 \r\nQ 47.125 21.390625 47.125 36.375 \r\nQ 47.125 51.421875 43.28125 58.90625 \r\nQ 39.453125 66.40625 31.78125 66.40625 \r\nz\r\nM 31.78125 74.21875 \r\nQ 44.046875 74.21875 50.515625 64.515625 \r\nQ 56.984375 54.828125 56.984375 36.375 \r\nQ 56.984375 17.96875 50.515625 8.265625 \r\nQ 44.046875 -1.421875 31.78125 -1.421875 \r\nQ 19.53125 -1.421875 13.0625 8.265625 \r\nQ 6.59375 17.96875 6.59375 36.375 \r\nQ 6.59375 54.828125 13.0625 64.515625 \r\nQ 19.53125 74.21875 31.78125 74.21875 \r\nz\r\n\" id=\"DejaVuSans-48\"/>\r\n      </defs>\r\n      <g transform=\"translate(144.845586 308.716563)scale(0.1 -0.1)\">\r\n       <use xlink:href=\"#DejaVuSans-50\"/>\r\n       <use x=\"63.623047\" xlink:href=\"#DejaVuSans-48\"/>\r\n      </g>\r\n     </g>\r\n    </g>\r\n    <g id=\"xtick_2\">\r\n     <g id=\"line2d_2\">\r\n      <g>\r\n       <use style=\"stroke:#000000;stroke-width:0.8;\" x=\"260.466827\" xlink:href=\"#m8bfbb28822\" y=\"294.118125\"/>\r\n      </g>\r\n     </g>\r\n     <g id=\"text_2\">\r\n      <!-- 30 -->\r\n      <defs>\r\n       <path d=\"M 40.578125 39.3125 \r\nQ 47.65625 37.796875 51.625 33 \r\nQ 55.609375 28.21875 55.609375 21.1875 \r\nQ 55.609375 10.40625 48.1875 4.484375 \r\nQ 40.765625 -1.421875 27.09375 -1.421875 \r\nQ 22.515625 -1.421875 17.65625 -0.515625 \r\nQ 12.796875 0.390625 7.625 2.203125 \r\nL 7.625 11.71875 \r\nQ 11.71875 9.328125 16.59375 8.109375 \r\nQ 21.484375 6.890625 26.8125 6.890625 \r\nQ 36.078125 6.890625 40.9375 10.546875 \r\nQ 45.796875 14.203125 45.796875 21.1875 \r\nQ 45.796875 27.640625 41.28125 31.265625 \r\nQ 36.765625 34.90625 28.71875 34.90625 \r\nL 20.21875 34.90625 \r\nL 20.21875 43.015625 \r\nL 29.109375 43.015625 \r\nQ 36.375 43.015625 40.234375 45.921875 \r\nQ 44.09375 48.828125 44.09375 54.296875 \r\nQ 44.09375 59.90625 40.109375 62.90625 \r\nQ 36.140625 65.921875 28.71875 65.921875 \r\nQ 24.65625 65.921875 20.015625 65.03125 \r\nQ 15.375 64.15625 9.8125 62.3125 \r\nL 9.8125 71.09375 \r\nQ 15.4375 72.65625 20.34375 73.4375 \r\nQ 25.25 74.21875 29.59375 74.21875 \r\nQ 40.828125 74.21875 47.359375 69.109375 \r\nQ 53.90625 64.015625 53.90625 55.328125 \r\nQ 53.90625 49.265625 50.4375 45.09375 \r\nQ 46.96875 40.921875 40.578125 39.3125 \r\nz\r\n\" id=\"DejaVuSans-51\"/>\r\n      </defs>\r\n      <g transform=\"translate(254.104327 308.716563)scale(0.1 -0.1)\">\r\n       <use xlink:href=\"#DejaVuSans-51\"/>\r\n       <use x=\"63.623047\" xlink:href=\"#DejaVuSans-48\"/>\r\n      </g>\r\n     </g>\r\n    </g>\r\n    <g id=\"xtick_3\">\r\n     <g id=\"line2d_3\">\r\n      <g>\r\n       <use style=\"stroke:#000000;stroke-width:0.8;\" x=\"369.725568\" xlink:href=\"#m8bfbb28822\" y=\"294.118125\"/>\r\n      </g>\r\n     </g>\r\n     <g id=\"text_3\">\r\n      <!-- 40 -->\r\n      <defs>\r\n       <path d=\"M 37.796875 64.3125 \r\nL 12.890625 25.390625 \r\nL 37.796875 25.390625 \r\nz\r\nM 35.203125 72.90625 \r\nL 47.609375 72.90625 \r\nL 47.609375 25.390625 \r\nL 58.015625 25.390625 \r\nL 58.015625 17.1875 \r\nL 47.609375 17.1875 \r\nL 47.609375 0 \r\nL 37.796875 0 \r\nL 37.796875 17.1875 \r\nL 4.890625 17.1875 \r\nL 4.890625 26.703125 \r\nz\r\n\" id=\"DejaVuSans-52\"/>\r\n      </defs>\r\n      <g transform=\"translate(363.363068 308.716563)scale(0.1 -0.1)\">\r\n       <use xlink:href=\"#DejaVuSans-52\"/>\r\n       <use x=\"63.623047\" xlink:href=\"#DejaVuSans-48\"/>\r\n      </g>\r\n     </g>\r\n    </g>\r\n    <g id=\"xtick_4\">\r\n     <g id=\"line2d_4\">\r\n      <g>\r\n       <use style=\"stroke:#000000;stroke-width:0.8;\" x=\"478.984309\" xlink:href=\"#m8bfbb28822\" y=\"294.118125\"/>\r\n      </g>\r\n     </g>\r\n     <g id=\"text_4\">\r\n      <!-- 50 -->\r\n      <defs>\r\n       <path d=\"M 10.796875 72.90625 \r\nL 49.515625 72.90625 \r\nL 49.515625 64.59375 \r\nL 19.828125 64.59375 \r\nL 19.828125 46.734375 \r\nQ 21.96875 47.46875 24.109375 47.828125 \r\nQ 26.265625 48.1875 28.421875 48.1875 \r\nQ 40.625 48.1875 47.75 41.5 \r\nQ 54.890625 34.8125 54.890625 23.390625 \r\nQ 54.890625 11.625 47.5625 5.09375 \r\nQ 40.234375 -1.421875 26.90625 -1.421875 \r\nQ 22.3125 -1.421875 17.546875 -0.640625 \r\nQ 12.796875 0.140625 7.71875 1.703125 \r\nL 7.71875 11.625 \r\nQ 12.109375 9.234375 16.796875 8.0625 \r\nQ 21.484375 6.890625 26.703125 6.890625 \r\nQ 35.15625 6.890625 40.078125 11.328125 \r\nQ 45.015625 15.765625 45.015625 23.390625 \r\nQ 45.015625 31 40.078125 35.4375 \r\nQ 35.15625 39.890625 26.703125 39.890625 \r\nQ 22.75 39.890625 18.8125 39.015625 \r\nQ 14.890625 38.140625 10.796875 36.28125 \r\nz\r\n\" id=\"DejaVuSans-53\"/>\r\n      </defs>\r\n      <g transform=\"translate(472.621809 308.716563)scale(0.1 -0.1)\">\r\n       <use xlink:href=\"#DejaVuSans-53\"/>\r\n       <use x=\"63.623047\" xlink:href=\"#DejaVuSans-48\"/>\r\n      </g>\r\n     </g>\r\n    </g>\r\n    <g id=\"xtick_5\">\r\n     <g id=\"line2d_5\">\r\n      <g>\r\n       <use style=\"stroke:#000000;stroke-width:0.8;\" x=\"588.243051\" xlink:href=\"#m8bfbb28822\" y=\"294.118125\"/>\r\n      </g>\r\n     </g>\r\n     <g id=\"text_5\">\r\n      <!-- 60 -->\r\n      <defs>\r\n       <path d=\"M 33.015625 40.375 \r\nQ 26.375 40.375 22.484375 35.828125 \r\nQ 18.609375 31.296875 18.609375 23.390625 \r\nQ 18.609375 15.53125 22.484375 10.953125 \r\nQ 26.375 6.390625 33.015625 6.390625 \r\nQ 39.65625 6.390625 43.53125 10.953125 \r\nQ 47.40625 15.53125 47.40625 23.390625 \r\nQ 47.40625 31.296875 43.53125 35.828125 \r\nQ 39.65625 40.375 33.015625 40.375 \r\nz\r\nM 52.59375 71.296875 \r\nL 52.59375 62.3125 \r\nQ 48.875 64.0625 45.09375 64.984375 \r\nQ 41.3125 65.921875 37.59375 65.921875 \r\nQ 27.828125 65.921875 22.671875 59.328125 \r\nQ 17.53125 52.734375 16.796875 39.40625 \r\nQ 19.671875 43.65625 24.015625 45.921875 \r\nQ 28.375 48.1875 33.59375 48.1875 \r\nQ 44.578125 48.1875 50.953125 41.515625 \r\nQ 57.328125 34.859375 57.328125 23.390625 \r\nQ 57.328125 12.15625 50.6875 5.359375 \r\nQ 44.046875 -1.421875 33.015625 -1.421875 \r\nQ 20.359375 -1.421875 13.671875 8.265625 \r\nQ 6.984375 17.96875 6.984375 36.375 \r\nQ 6.984375 53.65625 15.1875 63.9375 \r\nQ 23.390625 74.21875 37.203125 74.21875 \r\nQ 40.921875 74.21875 44.703125 73.484375 \r\nQ 48.484375 72.75 52.59375 71.296875 \r\nz\r\n\" id=\"DejaVuSans-54\"/>\r\n      </defs>\r\n      <g transform=\"translate(581.880551 308.716563)scale(0.1 -0.1)\">\r\n       <use xlink:href=\"#DejaVuSans-54\"/>\r\n       <use x=\"63.623047\" xlink:href=\"#DejaVuSans-48\"/>\r\n      </g>\r\n     </g>\r\n    </g>\r\n    <g id=\"xtick_6\">\r\n     <g id=\"line2d_6\">\r\n      <g>\r\n       <use style=\"stroke:#000000;stroke-width:0.8;\" x=\"697.501792\" xlink:href=\"#m8bfbb28822\" y=\"294.118125\"/>\r\n      </g>\r\n     </g>\r\n     <g id=\"text_6\">\r\n      <!-- 70 -->\r\n      <defs>\r\n       <path d=\"M 8.203125 72.90625 \r\nL 55.078125 72.90625 \r\nL 55.078125 68.703125 \r\nL 28.609375 0 \r\nL 18.3125 0 \r\nL 43.21875 64.59375 \r\nL 8.203125 64.59375 \r\nz\r\n\" id=\"DejaVuSans-55\"/>\r\n      </defs>\r\n      <g transform=\"translate(691.139292 308.716563)scale(0.1 -0.1)\">\r\n       <use xlink:href=\"#DejaVuSans-55\"/>\r\n       <use x=\"63.623047\" xlink:href=\"#DejaVuSans-48\"/>\r\n      </g>\r\n     </g>\r\n    </g>\r\n    <g id=\"xtick_7\">\r\n     <g id=\"line2d_7\">\r\n      <g>\r\n       <use style=\"stroke:#000000;stroke-width:0.8;\" x=\"806.760533\" xlink:href=\"#m8bfbb28822\" y=\"294.118125\"/>\r\n      </g>\r\n     </g>\r\n     <g id=\"text_7\">\r\n      <!-- 80 -->\r\n      <defs>\r\n       <path d=\"M 31.78125 34.625 \r\nQ 24.75 34.625 20.71875 30.859375 \r\nQ 16.703125 27.09375 16.703125 20.515625 \r\nQ 16.703125 13.921875 20.71875 10.15625 \r\nQ 24.75 6.390625 31.78125 6.390625 \r\nQ 38.8125 6.390625 42.859375 10.171875 \r\nQ 46.921875 13.96875 46.921875 20.515625 \r\nQ 46.921875 27.09375 42.890625 30.859375 \r\nQ 38.875 34.625 31.78125 34.625 \r\nz\r\nM 21.921875 38.8125 \r\nQ 15.578125 40.375 12.03125 44.71875 \r\nQ 8.5 49.078125 8.5 55.328125 \r\nQ 8.5 64.0625 14.71875 69.140625 \r\nQ 20.953125 74.21875 31.78125 74.21875 \r\nQ 42.671875 74.21875 48.875 69.140625 \r\nQ 55.078125 64.0625 55.078125 55.328125 \r\nQ 55.078125 49.078125 51.53125 44.71875 \r\nQ 48 40.375 41.703125 38.8125 \r\nQ 48.828125 37.15625 52.796875 32.3125 \r\nQ 56.78125 27.484375 56.78125 20.515625 \r\nQ 56.78125 9.90625 50.3125 4.234375 \r\nQ 43.84375 -1.421875 31.78125 -1.421875 \r\nQ 19.734375 -1.421875 13.25 4.234375 \r\nQ 6.78125 9.90625 6.78125 20.515625 \r\nQ 6.78125 27.484375 10.78125 32.3125 \r\nQ 14.796875 37.15625 21.921875 38.8125 \r\nz\r\nM 18.3125 54.390625 \r\nQ 18.3125 48.734375 21.84375 45.5625 \r\nQ 25.390625 42.390625 31.78125 42.390625 \r\nQ 38.140625 42.390625 41.71875 45.5625 \r\nQ 45.3125 48.734375 45.3125 54.390625 \r\nQ 45.3125 60.0625 41.71875 63.234375 \r\nQ 38.140625 66.40625 31.78125 66.40625 \r\nQ 25.390625 66.40625 21.84375 63.234375 \r\nQ 18.3125 60.0625 18.3125 54.390625 \r\nz\r\n\" id=\"DejaVuSans-56\"/>\r\n      </defs>\r\n      <g transform=\"translate(800.398033 308.716563)scale(0.1 -0.1)\">\r\n       <use xlink:href=\"#DejaVuSans-56\"/>\r\n       <use x=\"63.623047\" xlink:href=\"#DejaVuSans-48\"/>\r\n      </g>\r\n     </g>\r\n    </g>\r\n    <g id=\"text_8\">\r\n     <!-- ejection_fraction[%] -->\r\n     <defs>\r\n      <path d=\"M 56.203125 29.59375 \r\nL 56.203125 25.203125 \r\nL 14.890625 25.203125 \r\nQ 15.484375 15.921875 20.484375 11.0625 \r\nQ 25.484375 6.203125 34.421875 6.203125 \r\nQ 39.59375 6.203125 44.453125 7.46875 \r\nQ 49.3125 8.734375 54.109375 11.28125 \r\nL 54.109375 2.78125 \r\nQ 49.265625 0.734375 44.1875 -0.34375 \r\nQ 39.109375 -1.421875 33.890625 -1.421875 \r\nQ 20.796875 -1.421875 13.15625 6.1875 \r\nQ 5.515625 13.8125 5.515625 26.8125 \r\nQ 5.515625 40.234375 12.765625 48.109375 \r\nQ 20.015625 56 32.328125 56 \r\nQ 43.359375 56 49.78125 48.890625 \r\nQ 56.203125 41.796875 56.203125 29.59375 \r\nz\r\nM 47.21875 32.234375 \r\nQ 47.125 39.59375 43.09375 43.984375 \r\nQ 39.0625 48.390625 32.421875 48.390625 \r\nQ 24.90625 48.390625 20.390625 44.140625 \r\nQ 15.875 39.890625 15.1875 32.171875 \r\nz\r\n\" id=\"DejaVuSans-101\"/>\r\n      <path d=\"M 9.421875 54.6875 \r\nL 18.40625 54.6875 \r\nL 18.40625 -0.984375 \r\nQ 18.40625 -11.421875 14.421875 -16.109375 \r\nQ 10.453125 -20.796875 1.609375 -20.796875 \r\nL -1.8125 -20.796875 \r\nL -1.8125 -13.1875 \r\nL 0.59375 -13.1875 \r\nQ 5.71875 -13.1875 7.5625 -10.8125 \r\nQ 9.421875 -8.453125 9.421875 -0.984375 \r\nz\r\nM 9.421875 75.984375 \r\nL 18.40625 75.984375 \r\nL 18.40625 64.59375 \r\nL 9.421875 64.59375 \r\nz\r\n\" id=\"DejaVuSans-106\"/>\r\n      <path d=\"M 48.78125 52.59375 \r\nL 48.78125 44.1875 \r\nQ 44.96875 46.296875 41.140625 47.34375 \r\nQ 37.3125 48.390625 33.40625 48.390625 \r\nQ 24.65625 48.390625 19.8125 42.84375 \r\nQ 14.984375 37.3125 14.984375 27.296875 \r\nQ 14.984375 17.28125 19.8125 11.734375 \r\nQ 24.65625 6.203125 33.40625 6.203125 \r\nQ 37.3125 6.203125 41.140625 7.25 \r\nQ 44.96875 8.296875 48.78125 10.40625 \r\nL 48.78125 2.09375 \r\nQ 45.015625 0.34375 40.984375 -0.53125 \r\nQ 36.96875 -1.421875 32.421875 -1.421875 \r\nQ 20.0625 -1.421875 12.78125 6.34375 \r\nQ 5.515625 14.109375 5.515625 27.296875 \r\nQ 5.515625 40.671875 12.859375 48.328125 \r\nQ 20.21875 56 33.015625 56 \r\nQ 37.15625 56 41.109375 55.140625 \r\nQ 45.0625 54.296875 48.78125 52.59375 \r\nz\r\n\" id=\"DejaVuSans-99\"/>\r\n      <path d=\"M 18.3125 70.21875 \r\nL 18.3125 54.6875 \r\nL 36.8125 54.6875 \r\nL 36.8125 47.703125 \r\nL 18.3125 47.703125 \r\nL 18.3125 18.015625 \r\nQ 18.3125 11.328125 20.140625 9.421875 \r\nQ 21.96875 7.515625 27.59375 7.515625 \r\nL 36.8125 7.515625 \r\nL 36.8125 0 \r\nL 27.59375 0 \r\nQ 17.1875 0 13.234375 3.875 \r\nQ 9.28125 7.765625 9.28125 18.015625 \r\nL 9.28125 47.703125 \r\nL 2.6875 47.703125 \r\nL 2.6875 54.6875 \r\nL 9.28125 54.6875 \r\nL 9.28125 70.21875 \r\nz\r\n\" id=\"DejaVuSans-116\"/>\r\n      <path d=\"M 9.421875 54.6875 \r\nL 18.40625 54.6875 \r\nL 18.40625 0 \r\nL 9.421875 0 \r\nz\r\nM 9.421875 75.984375 \r\nL 18.40625 75.984375 \r\nL 18.40625 64.59375 \r\nL 9.421875 64.59375 \r\nz\r\n\" id=\"DejaVuSans-105\"/>\r\n      <path d=\"M 30.609375 48.390625 \r\nQ 23.390625 48.390625 19.1875 42.75 \r\nQ 14.984375 37.109375 14.984375 27.296875 \r\nQ 14.984375 17.484375 19.15625 11.84375 \r\nQ 23.34375 6.203125 30.609375 6.203125 \r\nQ 37.796875 6.203125 41.984375 11.859375 \r\nQ 46.1875 17.53125 46.1875 27.296875 \r\nQ 46.1875 37.015625 41.984375 42.703125 \r\nQ 37.796875 48.390625 30.609375 48.390625 \r\nz\r\nM 30.609375 56 \r\nQ 42.328125 56 49.015625 48.375 \r\nQ 55.71875 40.765625 55.71875 27.296875 \r\nQ 55.71875 13.875 49.015625 6.21875 \r\nQ 42.328125 -1.421875 30.609375 -1.421875 \r\nQ 18.84375 -1.421875 12.171875 6.21875 \r\nQ 5.515625 13.875 5.515625 27.296875 \r\nQ 5.515625 40.765625 12.171875 48.375 \r\nQ 18.84375 56 30.609375 56 \r\nz\r\n\" id=\"DejaVuSans-111\"/>\r\n      <path d=\"M 54.890625 33.015625 \r\nL 54.890625 0 \r\nL 45.90625 0 \r\nL 45.90625 32.71875 \r\nQ 45.90625 40.484375 42.875 44.328125 \r\nQ 39.84375 48.1875 33.796875 48.1875 \r\nQ 26.515625 48.1875 22.3125 43.546875 \r\nQ 18.109375 38.921875 18.109375 30.90625 \r\nL 18.109375 0 \r\nL 9.078125 0 \r\nL 9.078125 54.6875 \r\nL 18.109375 54.6875 \r\nL 18.109375 46.1875 \r\nQ 21.34375 51.125 25.703125 53.5625 \r\nQ 30.078125 56 35.796875 56 \r\nQ 45.21875 56 50.046875 50.171875 \r\nQ 54.890625 44.34375 54.890625 33.015625 \r\nz\r\n\" id=\"DejaVuSans-110\"/>\r\n      <path d=\"M 50.984375 -16.609375 \r\nL 50.984375 -23.578125 \r\nL -0.984375 -23.578125 \r\nL -0.984375 -16.609375 \r\nz\r\n\" id=\"DejaVuSans-95\"/>\r\n      <path d=\"M 37.109375 75.984375 \r\nL 37.109375 68.5 \r\nL 28.515625 68.5 \r\nQ 23.6875 68.5 21.796875 66.546875 \r\nQ 19.921875 64.59375 19.921875 59.515625 \r\nL 19.921875 54.6875 \r\nL 34.71875 54.6875 \r\nL 34.71875 47.703125 \r\nL 19.921875 47.703125 \r\nL 19.921875 0 \r\nL 10.890625 0 \r\nL 10.890625 47.703125 \r\nL 2.296875 47.703125 \r\nL 2.296875 54.6875 \r\nL 10.890625 54.6875 \r\nL 10.890625 58.5 \r\nQ 10.890625 67.625 15.140625 71.796875 \r\nQ 19.390625 75.984375 28.609375 75.984375 \r\nz\r\n\" id=\"DejaVuSans-102\"/>\r\n      <path d=\"M 41.109375 46.296875 \r\nQ 39.59375 47.171875 37.8125 47.578125 \r\nQ 36.03125 48 33.890625 48 \r\nQ 26.265625 48 22.1875 43.046875 \r\nQ 18.109375 38.09375 18.109375 28.8125 \r\nL 18.109375 0 \r\nL 9.078125 0 \r\nL 9.078125 54.6875 \r\nL 18.109375 54.6875 \r\nL 18.109375 46.1875 \r\nQ 20.953125 51.171875 25.484375 53.578125 \r\nQ 30.03125 56 36.53125 56 \r\nQ 37.453125 56 38.578125 55.875 \r\nQ 39.703125 55.765625 41.0625 55.515625 \r\nz\r\n\" id=\"DejaVuSans-114\"/>\r\n      <path d=\"M 34.28125 27.484375 \r\nQ 23.390625 27.484375 19.1875 25 \r\nQ 14.984375 22.515625 14.984375 16.5 \r\nQ 14.984375 11.71875 18.140625 8.90625 \r\nQ 21.296875 6.109375 26.703125 6.109375 \r\nQ 34.1875 6.109375 38.703125 11.40625 \r\nQ 43.21875 16.703125 43.21875 25.484375 \r\nL 43.21875 27.484375 \r\nz\r\nM 52.203125 31.203125 \r\nL 52.203125 0 \r\nL 43.21875 0 \r\nL 43.21875 8.296875 \r\nQ 40.140625 3.328125 35.546875 0.953125 \r\nQ 30.953125 -1.421875 24.3125 -1.421875 \r\nQ 15.921875 -1.421875 10.953125 3.296875 \r\nQ 6 8.015625 6 15.921875 \r\nQ 6 25.140625 12.171875 29.828125 \r\nQ 18.359375 34.515625 30.609375 34.515625 \r\nL 43.21875 34.515625 \r\nL 43.21875 35.40625 \r\nQ 43.21875 41.609375 39.140625 45 \r\nQ 35.0625 48.390625 27.6875 48.390625 \r\nQ 23 48.390625 18.546875 47.265625 \r\nQ 14.109375 46.140625 10.015625 43.890625 \r\nL 10.015625 52.203125 \r\nQ 14.9375 54.109375 19.578125 55.046875 \r\nQ 24.21875 56 28.609375 56 \r\nQ 40.484375 56 46.34375 49.84375 \r\nQ 52.203125 43.703125 52.203125 31.203125 \r\nz\r\n\" id=\"DejaVuSans-97\"/>\r\n      <path d=\"M 8.59375 75.984375 \r\nL 29.296875 75.984375 \r\nL 29.296875 69 \r\nL 17.578125 69 \r\nL 17.578125 -6.203125 \r\nL 29.296875 -6.203125 \r\nL 29.296875 -13.1875 \r\nL 8.59375 -13.1875 \r\nz\r\n\" id=\"DejaVuSans-91\"/>\r\n      <path d=\"M 72.703125 32.078125 \r\nQ 68.453125 32.078125 66.03125 28.46875 \r\nQ 63.625 24.859375 63.625 18.40625 \r\nQ 63.625 12.0625 66.03125 8.421875 \r\nQ 68.453125 4.78125 72.703125 4.78125 \r\nQ 76.859375 4.78125 79.265625 8.421875 \r\nQ 81.6875 12.0625 81.6875 18.40625 \r\nQ 81.6875 24.8125 79.265625 28.4375 \r\nQ 76.859375 32.078125 72.703125 32.078125 \r\nz\r\nM 72.703125 38.28125 \r\nQ 80.421875 38.28125 84.953125 32.90625 \r\nQ 89.5 27.546875 89.5 18.40625 \r\nQ 89.5 9.28125 84.9375 3.921875 \r\nQ 80.375 -1.421875 72.703125 -1.421875 \r\nQ 64.890625 -1.421875 60.34375 3.921875 \r\nQ 55.8125 9.28125 55.8125 18.40625 \r\nQ 55.8125 27.59375 60.375 32.9375 \r\nQ 64.9375 38.28125 72.703125 38.28125 \r\nz\r\nM 22.3125 68.015625 \r\nQ 18.109375 68.015625 15.6875 64.375 \r\nQ 13.28125 60.75 13.28125 54.390625 \r\nQ 13.28125 47.953125 15.671875 44.328125 \r\nQ 18.0625 40.71875 22.3125 40.71875 \r\nQ 26.5625 40.71875 28.96875 44.328125 \r\nQ 31.390625 47.953125 31.390625 54.390625 \r\nQ 31.390625 60.6875 28.953125 64.34375 \r\nQ 26.515625 68.015625 22.3125 68.015625 \r\nz\r\nM 66.40625 74.21875 \r\nL 74.21875 74.21875 \r\nL 28.609375 -1.421875 \r\nL 20.796875 -1.421875 \r\nz\r\nM 22.3125 74.21875 \r\nQ 30.03125 74.21875 34.609375 68.875 \r\nQ 39.203125 63.53125 39.203125 54.390625 \r\nQ 39.203125 45.171875 34.640625 39.84375 \r\nQ 30.078125 34.515625 22.3125 34.515625 \r\nQ 14.546875 34.515625 10.03125 39.859375 \r\nQ 5.515625 45.21875 5.515625 54.390625 \r\nQ 5.515625 63.484375 10.046875 68.84375 \r\nQ 14.59375 74.21875 22.3125 74.21875 \r\nz\r\n\" id=\"DejaVuSans-37\"/>\r\n      <path d=\"M 30.421875 75.984375 \r\nL 30.421875 -13.1875 \r\nL 9.71875 -13.1875 \r\nL 9.71875 -6.203125 \r\nL 21.390625 -6.203125 \r\nL 21.390625 69 \r\nL 9.71875 69 \r\nL 9.71875 75.984375 \r\nz\r\n\" id=\"DejaVuSans-93\"/>\r\n     </defs>\r\n     <g transform=\"translate(390.516406 322.394687)scale(0.1 -0.1)\">\r\n      <use xlink:href=\"#DejaVuSans-101\"/>\r\n      <use x=\"61.523438\" xlink:href=\"#DejaVuSans-106\"/>\r\n      <use x=\"89.306641\" xlink:href=\"#DejaVuSans-101\"/>\r\n      <use x=\"150.830078\" xlink:href=\"#DejaVuSans-99\"/>\r\n      <use x=\"205.810547\" xlink:href=\"#DejaVuSans-116\"/>\r\n      <use x=\"245.019531\" xlink:href=\"#DejaVuSans-105\"/>\r\n      <use x=\"272.802734\" xlink:href=\"#DejaVuSans-111\"/>\r\n      <use x=\"333.984375\" xlink:href=\"#DejaVuSans-110\"/>\r\n      <use x=\"397.363281\" xlink:href=\"#DejaVuSans-95\"/>\r\n      <use x=\"447.363281\" xlink:href=\"#DejaVuSans-102\"/>\r\n      <use x=\"482.568359\" xlink:href=\"#DejaVuSans-114\"/>\r\n      <use x=\"523.681641\" xlink:href=\"#DejaVuSans-97\"/>\r\n      <use x=\"584.960938\" xlink:href=\"#DejaVuSans-99\"/>\r\n      <use x=\"639.941406\" xlink:href=\"#DejaVuSans-116\"/>\r\n      <use x=\"679.150391\" xlink:href=\"#DejaVuSans-105\"/>\r\n      <use x=\"706.933594\" xlink:href=\"#DejaVuSans-111\"/>\r\n      <use x=\"768.115234\" xlink:href=\"#DejaVuSans-110\"/>\r\n      <use x=\"831.494141\" xlink:href=\"#DejaVuSans-91\"/>\r\n      <use x=\"870.507812\" xlink:href=\"#DejaVuSans-37\"/>\r\n      <use x=\"965.527344\" xlink:href=\"#DejaVuSans-93\"/>\r\n     </g>\r\n    </g>\r\n   </g>\r\n   <g id=\"matplotlib.axis_2\">\r\n    <g id=\"ytick_1\">\r\n     <g id=\"line2d_8\">\r\n      <defs>\r\n       <path d=\"M 0 0 \r\nL -3.5 0 \r\n\" id=\"m16e8f35b3f\" style=\"stroke:#000000;stroke-width:0.8;\"/>\r\n      </defs>\r\n      <g>\r\n       <use style=\"stroke:#000000;stroke-width:0.8;\" x=\"50.14375\" xlink:href=\"#m16e8f35b3f\" y=\"294.118125\"/>\r\n      </g>\r\n     </g>\r\n     <g id=\"text_9\">\r\n      <!-- 0.00 -->\r\n      <defs>\r\n       <path d=\"M 10.6875 12.40625 \r\nL 21 12.40625 \r\nL 21 0 \r\nL 10.6875 0 \r\nz\r\n\" id=\"DejaVuSans-46\"/>\r\n      </defs>\r\n      <g transform=\"translate(20.878125 297.917344)scale(0.1 -0.1)\">\r\n       <use xlink:href=\"#DejaVuSans-48\"/>\r\n       <use x=\"63.623047\" xlink:href=\"#DejaVuSans-46\"/>\r\n       <use x=\"95.410156\" xlink:href=\"#DejaVuSans-48\"/>\r\n       <use x=\"159.033203\" xlink:href=\"#DejaVuSans-48\"/>\r\n      </g>\r\n     </g>\r\n    </g>\r\n    <g id=\"ytick_2\">\r\n     <g id=\"line2d_9\">\r\n      <g>\r\n       <use style=\"stroke:#000000;stroke-width:0.8;\" x=\"50.14375\" xlink:href=\"#m16e8f35b3f\" y=\"255.096377\"/>\r\n      </g>\r\n     </g>\r\n     <g id=\"text_10\">\r\n      <!-- 0.01 -->\r\n      <defs>\r\n       <path d=\"M 12.40625 8.296875 \r\nL 28.515625 8.296875 \r\nL 28.515625 63.921875 \r\nL 10.984375 60.40625 \r\nL 10.984375 69.390625 \r\nL 28.421875 72.90625 \r\nL 38.28125 72.90625 \r\nL 38.28125 8.296875 \r\nL 54.390625 8.296875 \r\nL 54.390625 0 \r\nL 12.40625 0 \r\nz\r\n\" id=\"DejaVuSans-49\"/>\r\n      </defs>\r\n      <g transform=\"translate(20.878125 258.895595)scale(0.1 -0.1)\">\r\n       <use xlink:href=\"#DejaVuSans-48\"/>\r\n       <use x=\"63.623047\" xlink:href=\"#DejaVuSans-46\"/>\r\n       <use x=\"95.410156\" xlink:href=\"#DejaVuSans-48\"/>\r\n       <use x=\"159.033203\" xlink:href=\"#DejaVuSans-49\"/>\r\n      </g>\r\n     </g>\r\n    </g>\r\n    <g id=\"ytick_3\">\r\n     <g id=\"line2d_10\">\r\n      <g>\r\n       <use style=\"stroke:#000000;stroke-width:0.8;\" x=\"50.14375\" xlink:href=\"#m16e8f35b3f\" y=\"216.074628\"/>\r\n      </g>\r\n     </g>\r\n     <g id=\"text_11\">\r\n      <!-- 0.02 -->\r\n      <g transform=\"translate(20.878125 219.873847)scale(0.1 -0.1)\">\r\n       <use xlink:href=\"#DejaVuSans-48\"/>\r\n       <use x=\"63.623047\" xlink:href=\"#DejaVuSans-46\"/>\r\n       <use x=\"95.410156\" xlink:href=\"#DejaVuSans-48\"/>\r\n       <use x=\"159.033203\" xlink:href=\"#DejaVuSans-50\"/>\r\n      </g>\r\n     </g>\r\n    </g>\r\n    <g id=\"ytick_4\">\r\n     <g id=\"line2d_11\">\r\n      <g>\r\n       <use style=\"stroke:#000000;stroke-width:0.8;\" x=\"50.14375\" xlink:href=\"#m16e8f35b3f\" y=\"177.05288\"/>\r\n      </g>\r\n     </g>\r\n     <g id=\"text_12\">\r\n      <!-- 0.03 -->\r\n      <g transform=\"translate(20.878125 180.852099)scale(0.1 -0.1)\">\r\n       <use xlink:href=\"#DejaVuSans-48\"/>\r\n       <use x=\"63.623047\" xlink:href=\"#DejaVuSans-46\"/>\r\n       <use x=\"95.410156\" xlink:href=\"#DejaVuSans-48\"/>\r\n       <use x=\"159.033203\" xlink:href=\"#DejaVuSans-51\"/>\r\n      </g>\r\n     </g>\r\n    </g>\r\n    <g id=\"ytick_5\">\r\n     <g id=\"line2d_12\">\r\n      <g>\r\n       <use style=\"stroke:#000000;stroke-width:0.8;\" x=\"50.14375\" xlink:href=\"#m16e8f35b3f\" y=\"138.031131\"/>\r\n      </g>\r\n     </g>\r\n     <g id=\"text_13\">\r\n      <!-- 0.04 -->\r\n      <g transform=\"translate(20.878125 141.83035)scale(0.1 -0.1)\">\r\n       <use xlink:href=\"#DejaVuSans-48\"/>\r\n       <use x=\"63.623047\" xlink:href=\"#DejaVuSans-46\"/>\r\n       <use x=\"95.410156\" xlink:href=\"#DejaVuSans-48\"/>\r\n       <use x=\"159.033203\" xlink:href=\"#DejaVuSans-52\"/>\r\n      </g>\r\n     </g>\r\n    </g>\r\n    <g id=\"ytick_6\">\r\n     <g id=\"line2d_13\">\r\n      <g>\r\n       <use style=\"stroke:#000000;stroke-width:0.8;\" x=\"50.14375\" xlink:href=\"#m16e8f35b3f\" y=\"99.009383\"/>\r\n      </g>\r\n     </g>\r\n     <g id=\"text_14\">\r\n      <!-- 0.05 -->\r\n      <g transform=\"translate(20.878125 102.808602)scale(0.1 -0.1)\">\r\n       <use xlink:href=\"#DejaVuSans-48\"/>\r\n       <use x=\"63.623047\" xlink:href=\"#DejaVuSans-46\"/>\r\n       <use x=\"95.410156\" xlink:href=\"#DejaVuSans-48\"/>\r\n       <use x=\"159.033203\" xlink:href=\"#DejaVuSans-53\"/>\r\n      </g>\r\n     </g>\r\n    </g>\r\n    <g id=\"ytick_7\">\r\n     <g id=\"line2d_14\">\r\n      <g>\r\n       <use style=\"stroke:#000000;stroke-width:0.8;\" x=\"50.14375\" xlink:href=\"#m16e8f35b3f\" y=\"59.987635\"/>\r\n      </g>\r\n     </g>\r\n     <g id=\"text_15\">\r\n      <!-- 0.06 -->\r\n      <g transform=\"translate(20.878125 63.786853)scale(0.1 -0.1)\">\r\n       <use xlink:href=\"#DejaVuSans-48\"/>\r\n       <use x=\"63.623047\" xlink:href=\"#DejaVuSans-46\"/>\r\n       <use x=\"95.410156\" xlink:href=\"#DejaVuSans-48\"/>\r\n       <use x=\"159.033203\" xlink:href=\"#DejaVuSans-54\"/>\r\n      </g>\r\n     </g>\r\n    </g>\r\n    <g id=\"text_16\">\r\n     <!-- densidade -->\r\n     <defs>\r\n      <path d=\"M 45.40625 46.390625 \r\nL 45.40625 75.984375 \r\nL 54.390625 75.984375 \r\nL 54.390625 0 \r\nL 45.40625 0 \r\nL 45.40625 8.203125 \r\nQ 42.578125 3.328125 38.25 0.953125 \r\nQ 33.9375 -1.421875 27.875 -1.421875 \r\nQ 17.96875 -1.421875 11.734375 6.484375 \r\nQ 5.515625 14.40625 5.515625 27.296875 \r\nQ 5.515625 40.1875 11.734375 48.09375 \r\nQ 17.96875 56 27.875 56 \r\nQ 33.9375 56 38.25 53.625 \r\nQ 42.578125 51.265625 45.40625 46.390625 \r\nz\r\nM 14.796875 27.296875 \r\nQ 14.796875 17.390625 18.875 11.75 \r\nQ 22.953125 6.109375 30.078125 6.109375 \r\nQ 37.203125 6.109375 41.296875 11.75 \r\nQ 45.40625 17.390625 45.40625 27.296875 \r\nQ 45.40625 37.203125 41.296875 42.84375 \r\nQ 37.203125 48.484375 30.078125 48.484375 \r\nQ 22.953125 48.484375 18.875 42.84375 \r\nQ 14.796875 37.203125 14.796875 27.296875 \r\nz\r\n\" id=\"DejaVuSans-100\"/>\r\n      <path d=\"M 44.28125 53.078125 \r\nL 44.28125 44.578125 \r\nQ 40.484375 46.53125 36.375 47.5 \r\nQ 32.28125 48.484375 27.875 48.484375 \r\nQ 21.1875 48.484375 17.84375 46.4375 \r\nQ 14.5 44.390625 14.5 40.28125 \r\nQ 14.5 37.15625 16.890625 35.375 \r\nQ 19.28125 33.59375 26.515625 31.984375 \r\nL 29.59375 31.296875 \r\nQ 39.15625 29.25 43.1875 25.515625 \r\nQ 47.21875 21.78125 47.21875 15.09375 \r\nQ 47.21875 7.46875 41.1875 3.015625 \r\nQ 35.15625 -1.421875 24.609375 -1.421875 \r\nQ 20.21875 -1.421875 15.453125 -0.5625 \r\nQ 10.6875 0.296875 5.421875 2 \r\nL 5.421875 11.28125 \r\nQ 10.40625 8.6875 15.234375 7.390625 \r\nQ 20.0625 6.109375 24.8125 6.109375 \r\nQ 31.15625 6.109375 34.5625 8.28125 \r\nQ 37.984375 10.453125 37.984375 14.40625 \r\nQ 37.984375 18.0625 35.515625 20.015625 \r\nQ 33.0625 21.96875 24.703125 23.78125 \r\nL 21.578125 24.515625 \r\nQ 13.234375 26.265625 9.515625 29.90625 \r\nQ 5.8125 33.546875 5.8125 39.890625 \r\nQ 5.8125 47.609375 11.28125 51.796875 \r\nQ 16.75 56 26.8125 56 \r\nQ 31.78125 56 36.171875 55.265625 \r\nQ 40.578125 54.546875 44.28125 53.078125 \r\nz\r\n\" id=\"DejaVuSans-115\"/>\r\n     </defs>\r\n     <g transform=\"translate(14.798438 184.120469)rotate(-90)scale(0.1 -0.1)\">\r\n      <use xlink:href=\"#DejaVuSans-100\"/>\r\n      <use x=\"63.476562\" xlink:href=\"#DejaVuSans-101\"/>\r\n      <use x=\"125\" xlink:href=\"#DejaVuSans-110\"/>\r\n      <use x=\"188.378906\" xlink:href=\"#DejaVuSans-115\"/>\r\n      <use x=\"240.478516\" xlink:href=\"#DejaVuSans-105\"/>\r\n      <use x=\"268.261719\" xlink:href=\"#DejaVuSans-100\"/>\r\n      <use x=\"331.738281\" xlink:href=\"#DejaVuSans-97\"/>\r\n      <use x=\"393.017578\" xlink:href=\"#DejaVuSans-100\"/>\r\n      <use x=\"456.494141\" xlink:href=\"#DejaVuSans-101\"/>\r\n     </g>\r\n    </g>\r\n   </g>\r\n   <g id=\"patch_29\">\r\n    <path d=\"M 50.14375 294.118125 \r\nL 50.14375 22.318125 \r\n\" style=\"fill:none;stroke:#000000;stroke-linecap:square;stroke-linejoin:miter;stroke-width:0.8;\"/>\r\n   </g>\r\n   <g id=\"patch_30\">\r\n    <path d=\"M 831.34375 294.118125 \r\nL 831.34375 22.318125 \r\n\" style=\"fill:none;stroke:#000000;stroke-linecap:square;stroke-linejoin:miter;stroke-width:0.8;\"/>\r\n   </g>\r\n   <g id=\"patch_31\">\r\n    <path d=\"M 50.14375 294.118125 \r\nL 831.34375 294.118125 \r\n\" style=\"fill:none;stroke:#000000;stroke-linecap:square;stroke-linejoin:miter;stroke-width:0.8;\"/>\r\n   </g>\r\n   <g id=\"patch_32\">\r\n    <path d=\"M 50.14375 22.318125 \r\nL 831.34375 22.318125 \r\n\" style=\"fill:none;stroke:#000000;stroke-linecap:square;stroke-linejoin:miter;stroke-width:0.8;\"/>\r\n   </g>\r\n   <g id=\"text_17\">\r\n    <!-- ejection_fraction -->\r\n    <g transform=\"translate(390.85375 16.318125)scale(0.12 -0.12)\">\r\n     <use xlink:href=\"#DejaVuSans-101\"/>\r\n     <use x=\"61.523438\" xlink:href=\"#DejaVuSans-106\"/>\r\n     <use x=\"89.306641\" xlink:href=\"#DejaVuSans-101\"/>\r\n     <use x=\"150.830078\" xlink:href=\"#DejaVuSans-99\"/>\r\n     <use x=\"205.810547\" xlink:href=\"#DejaVuSans-116\"/>\r\n     <use x=\"245.019531\" xlink:href=\"#DejaVuSans-105\"/>\r\n     <use x=\"272.802734\" xlink:href=\"#DejaVuSans-111\"/>\r\n     <use x=\"333.984375\" xlink:href=\"#DejaVuSans-110\"/>\r\n     <use x=\"397.363281\" xlink:href=\"#DejaVuSans-95\"/>\r\n     <use x=\"447.363281\" xlink:href=\"#DejaVuSans-102\"/>\r\n     <use x=\"482.568359\" xlink:href=\"#DejaVuSans-114\"/>\r\n     <use x=\"523.681641\" xlink:href=\"#DejaVuSans-97\"/>\r\n     <use x=\"584.960938\" xlink:href=\"#DejaVuSans-99\"/>\r\n     <use x=\"639.941406\" xlink:href=\"#DejaVuSans-116\"/>\r\n     <use x=\"679.150391\" xlink:href=\"#DejaVuSans-105\"/>\r\n     <use x=\"706.933594\" xlink:href=\"#DejaVuSans-111\"/>\r\n     <use x=\"768.115234\" xlink:href=\"#DejaVuSans-110\"/>\r\n    </g>\r\n   </g>\r\n   <g id=\"legend_1\">\r\n    <g id=\"patch_33\">\r\n     <path d=\"M 785.98125 59.674375 \r\nL 824.34375 59.674375 \r\nQ 826.34375 59.674375 826.34375 57.674375 \r\nL 826.34375 29.318125 \r\nQ 826.34375 27.318125 824.34375 27.318125 \r\nL 785.98125 27.318125 \r\nQ 783.98125 27.318125 783.98125 29.318125 \r\nL 783.98125 57.674375 \r\nQ 783.98125 59.674375 785.98125 59.674375 \r\nz\r\n\" style=\"fill:#ffffff;opacity:0.8;stroke:#cccccc;stroke-linejoin:miter;\"/>\r\n    </g>\r\n    <g id=\"patch_34\">\r\n     <path d=\"M 787.98125 38.916562 \r\nL 807.98125 38.916562 \r\nL 807.98125 31.916562 \r\nL 787.98125 31.916562 \r\nz\r\n\" style=\"fill:#ff0000;stroke:#ffffff;stroke-linejoin:miter;\"/>\r\n    </g>\r\n    <g id=\"text_18\">\r\n     <!-- 1 -->\r\n     <g transform=\"translate(815.98125 38.916562)scale(0.1 -0.1)\">\r\n      <use xlink:href=\"#DejaVuSans-49\"/>\r\n     </g>\r\n    </g>\r\n    <g id=\"patch_35\">\r\n     <path d=\"M 787.98125 53.594687 \r\nL 807.98125 53.594687 \r\nL 807.98125 46.594687 \r\nL 787.98125 46.594687 \r\nz\r\n\" style=\"fill:#87ceeb;opacity:0.8;stroke:#ffffff;stroke-linejoin:miter;\"/>\r\n    </g>\r\n    <g id=\"text_19\">\r\n     <!-- 0 -->\r\n     <g transform=\"translate(815.98125 53.594687)scale(0.1 -0.1)\">\r\n      <use xlink:href=\"#DejaVuSans-48\"/>\r\n     </g>\r\n    </g>\r\n   </g>\r\n  </g>\r\n </g>\r\n <defs>\r\n  <clipPath id=\"p1761a5334a\">\r\n   <rect height=\"271.8\" width=\"781.2\" x=\"50.14375\" y=\"22.318125\"/>\r\n  </clipPath>\r\n </defs>\r\n</svg>\r\n",
      "image/png": "[encoded data removed]"
     },
     "metadata": {
      "needs_background": "light"
     }
    }
   ],
   "source": [
    "#Histograma da idade dos sobreviventes e não sobreviventes\n",
    "faixas = np.arange(14,80,5)\n",
    "plt.figure(figsize=(14, 5))\n",
    "plt.hist(dead.ejection_fraction, bins=faixas, density=True, color='red', edgecolor='white', linewidth=1)\n",
    "plt.hist(not_dead.ejection_fraction, bins=faixas, density=True, color='skyblue', edgecolor='white', linewidth=1, alpha=0.8)\n",
    "plt.legend('10')\n",
    "plt.title('ejection_fraction')\n",
    "plt.xlabel('ejection_fraction[%]')\n",
    "plt.ylabel('densidade')\n",
    "plt.show()"
   ]
  },
  {
   "source": [
    "Com este, é possível perceber que quanto menor a porcentagem de sangue que sai em relação ao que entra, maior será a probabilidade de morte.\n"
   ],
   "cell_type": "markdown",
   "metadata": {}
  },
  {
   "cell_type": "code",
   "execution_count": 114,
   "metadata": {},
   "outputs": [
    {
     "output_type": "display_data",
     "data": {
      "text/plain": "<Figure size 1008x360 with 1 Axes>",
      "image/svg+xml": "<?xml version=\"1.0\" encoding=\"utf-8\" standalone=\"no\"?>\r\n<!DOCTYPE svg PUBLIC \"-//W3C//DTD SVG 1.1//EN\"\r\n  \"http://www.w3.org/Graphics/SVG/1.1/DTD/svg11.dtd\">\r\n<!-- Created with matplotlib (https://matplotlib.org/) -->\r\n<svg height=\"331.674375pt\" version=\"1.1\" viewBox=\"0 0 857.63125 331.674375\" width=\"857.63125pt\" xmlns=\"http://www.w3.org/2000/svg\" xmlns:xlink=\"http://www.w3.org/1999/xlink\">\r\n <defs>\r\n  <style type=\"text/css\">\r\n*{stroke-linecap:butt;stroke-linejoin:round;}\r\n  </style>\r\n </defs>\r\n <g id=\"figure_1\">\r\n  <g id=\"patch_1\">\r\n   <path d=\"M 0 331.674375 \r\nL 857.63125 331.674375 \r\nL 857.63125 0 \r\nL 0 0 \r\nz\r\n\" style=\"fill:none;\"/>\r\n  </g>\r\n  <g id=\"axes_1\">\r\n   <g id=\"patch_2\">\r\n    <path d=\"M 69.23125 294.118125 \r\nL 850.43125 294.118125 \r\nL 850.43125 22.318125 \r\nL 69.23125 22.318125 \r\nz\r\n\" style=\"fill:#ffffff;\"/>\r\n   </g>\r\n   <g id=\"patch_3\">\r\n    <path clip-path=\"url(#p20b1c0249e)\" d=\"M 104.740341 294.118125 \r\nL 135.617811 294.118125 \r\nL 135.617811 294.118125 \r\nL 104.740341 294.118125 \r\nz\r\n\" style=\"fill:#ff0000;stroke:#ffffff;stroke-linejoin:miter;\"/>\r\n   </g>\r\n   <g id=\"patch_4\">\r\n    <path clip-path=\"url(#p20b1c0249e)\" d=\"M 135.617811 294.118125 \r\nL 166.495282 294.118125 \r\nL 166.495282 294.118125 \r\nL 135.617811 294.118125 \r\nz\r\n\" style=\"fill:#ff0000;stroke:#ffffff;stroke-linejoin:miter;\"/>\r\n   </g>\r\n   <g id=\"patch_5\">\r\n    <path clip-path=\"url(#p20b1c0249e)\" d=\"M 166.495282 294.118125 \r\nL 197.372752 294.118125 \r\nL 197.372752 294.118125 \r\nL 166.495282 294.118125 \r\nz\r\n\" style=\"fill:#ff0000;stroke:#ffffff;stroke-linejoin:miter;\"/>\r\n   </g>\r\n   <g id=\"patch_6\">\r\n    <path clip-path=\"url(#p20b1c0249e)\" d=\"M 197.372752 294.118125 \r\nL 228.250222 294.118125 \r\nL 228.250222 294.118125 \r\nL 197.372752 294.118125 \r\nz\r\n\" style=\"fill:#ff0000;stroke:#ffffff;stroke-linejoin:miter;\"/>\r\n   </g>\r\n   <g id=\"patch_7\">\r\n    <path clip-path=\"url(#p20b1c0249e)\" d=\"M 228.250222 294.118125 \r\nL 259.127693 294.118125 \r\nL 259.127693 294.118125 \r\nL 228.250222 294.118125 \r\nz\r\n\" style=\"fill:#ff0000;stroke:#ffffff;stroke-linejoin:miter;\"/>\r\n   </g>\r\n   <g id=\"patch_8\">\r\n    <path clip-path=\"url(#p20b1c0249e)\" d=\"M 259.127693 294.118125 \r\nL 290.005163 294.118125 \r\nL 290.005163 294.118125 \r\nL 259.127693 294.118125 \r\nz\r\n\" style=\"fill:#ff0000;stroke:#ffffff;stroke-linejoin:miter;\"/>\r\n   </g>\r\n   <g id=\"patch_9\">\r\n    <path clip-path=\"url(#p20b1c0249e)\" d=\"M 290.005163 294.118125 \r\nL 320.882633 294.118125 \r\nL 320.882633 294.118125 \r\nL 290.005163 294.118125 \r\nz\r\n\" style=\"fill:#ff0000;stroke:#ffffff;stroke-linejoin:miter;\"/>\r\n   </g>\r\n   <g id=\"patch_10\">\r\n    <path clip-path=\"url(#p20b1c0249e)\" d=\"M 320.882633 294.118125 \r\nL 351.760104 294.118125 \r\nL 351.760104 294.118125 \r\nL 320.882633 294.118125 \r\nz\r\n\" style=\"fill:#ff0000;stroke:#ffffff;stroke-linejoin:miter;\"/>\r\n   </g>\r\n   <g id=\"patch_11\">\r\n    <path clip-path=\"url(#p20b1c0249e)\" d=\"M 351.760104 294.118125 \r\nL 382.637574 294.118125 \r\nL 382.637574 99.975268 \r\nL 351.760104 99.975268 \r\nz\r\n\" style=\"fill:#ff0000;stroke:#ffffff;stroke-linejoin:miter;\"/>\r\n   </g>\r\n   <g id=\"patch_12\">\r\n    <path clip-path=\"url(#p20b1c0249e)\" d=\"M 382.637574 294.118125 \r\nL 413.515044 294.118125 \r\nL 413.515044 294.118125 \r\nL 382.637574 294.118125 \r\nz\r\n\" style=\"fill:#ff0000;stroke:#ffffff;stroke-linejoin:miter;\"/>\r\n   </g>\r\n   <g id=\"patch_13\">\r\n    <path clip-path=\"url(#p20b1c0249e)\" d=\"M 413.515044 294.118125 \r\nL 444.392515 294.118125 \r\nL 444.392515 294.118125 \r\nL 413.515044 294.118125 \r\nz\r\n\" style=\"fill:#ff0000;stroke:#ffffff;stroke-linejoin:miter;\"/>\r\n   </g>\r\n   <g id=\"patch_14\">\r\n    <path clip-path=\"url(#p20b1c0249e)\" d=\"M 444.392515 294.118125 \r\nL 475.269985 294.118125 \r\nL 475.269985 294.118125 \r\nL 444.392515 294.118125 \r\nz\r\n\" style=\"fill:#ff0000;stroke:#ffffff;stroke-linejoin:miter;\"/>\r\n   </g>\r\n   <g id=\"patch_15\">\r\n    <path clip-path=\"url(#p20b1c0249e)\" d=\"M 475.269985 294.118125 \r\nL 506.147456 294.118125 \r\nL 506.147456 294.118125 \r\nL 475.269985 294.118125 \r\nz\r\n\" style=\"fill:#ff0000;stroke:#ffffff;stroke-linejoin:miter;\"/>\r\n   </g>\r\n   <g id=\"patch_16\">\r\n    <path clip-path=\"url(#p20b1c0249e)\" d=\"M 506.147456 294.118125 \r\nL 537.024926 294.118125 \r\nL 537.024926 294.118125 \r\nL 506.147456 294.118125 \r\nz\r\n\" style=\"fill:#ff0000;stroke:#ffffff;stroke-linejoin:miter;\"/>\r\n   </g>\r\n   <g id=\"patch_17\">\r\n    <path clip-path=\"url(#p20b1c0249e)\" d=\"M 537.024926 294.118125 \r\nL 567.902396 294.118125 \r\nL 567.902396 99.975268 \r\nL 537.024926 99.975268 \r\nz\r\n\" style=\"fill:#ff0000;stroke:#ffffff;stroke-linejoin:miter;\"/>\r\n   </g>\r\n   <g id=\"patch_18\">\r\n    <path clip-path=\"url(#p20b1c0249e)\" d=\"M 567.902396 294.118125 \r\nL 598.779867 294.118125 \r\nL 598.779867 294.118125 \r\nL 567.902396 294.118125 \r\nz\r\n\" style=\"fill:#ff0000;stroke:#ffffff;stroke-linejoin:miter;\"/>\r\n   </g>\r\n   <g id=\"patch_19\">\r\n    <path clip-path=\"url(#p20b1c0249e)\" d=\"M 598.779867 294.118125 \r\nL 629.657337 294.118125 \r\nL 629.657337 294.118125 \r\nL 598.779867 294.118125 \r\nz\r\n\" style=\"fill:#ff0000;stroke:#ffffff;stroke-linejoin:miter;\"/>\r\n   </g>\r\n   <g id=\"patch_20\">\r\n    <path clip-path=\"url(#p20b1c0249e)\" d=\"M 629.657337 294.118125 \r\nL 660.534807 294.118125 \r\nL 660.534807 294.118125 \r\nL 629.657337 294.118125 \r\nz\r\n\" style=\"fill:#ff0000;stroke:#ffffff;stroke-linejoin:miter;\"/>\r\n   </g>\r\n   <g id=\"patch_21\">\r\n    <path clip-path=\"url(#p20b1c0249e)\" d=\"M 660.534807 294.118125 \r\nL 691.412278 294.118125 \r\nL 691.412278 99.975268 \r\nL 660.534807 99.975268 \r\nz\r\n\" style=\"fill:#ff0000;stroke:#ffffff;stroke-linejoin:miter;\"/>\r\n   </g>\r\n   <g id=\"patch_22\">\r\n    <path clip-path=\"url(#p20b1c0249e)\" d=\"M 691.412278 294.118125 \r\nL 722.289748 294.118125 \r\nL 722.289748 294.118125 \r\nL 691.412278 294.118125 \r\nz\r\n\" style=\"fill:#ff0000;stroke:#ffffff;stroke-linejoin:miter;\"/>\r\n   </g>\r\n   <g id=\"patch_23\">\r\n    <path clip-path=\"url(#p20b1c0249e)\" d=\"M 722.289748 294.118125 \r\nL 753.167218 294.118125 \r\nL 753.167218 99.975268 \r\nL 722.289748 99.975268 \r\nz\r\n\" style=\"fill:#ff0000;stroke:#ffffff;stroke-linejoin:miter;\"/>\r\n   </g>\r\n   <g id=\"patch_24\">\r\n    <path clip-path=\"url(#p20b1c0249e)\" d=\"M 753.167218 294.118125 \r\nL 784.044689 294.118125 \r\nL 784.044689 294.118125 \r\nL 753.167218 294.118125 \r\nz\r\n\" style=\"fill:#ff0000;stroke:#ffffff;stroke-linejoin:miter;\"/>\r\n   </g>\r\n   <g id=\"patch_25\">\r\n    <path clip-path=\"url(#p20b1c0249e)\" d=\"M 784.044689 294.118125 \r\nL 814.922159 294.118125 \r\nL 814.922159 294.118125 \r\nL 784.044689 294.118125 \r\nz\r\n\" style=\"fill:#ff0000;stroke:#ffffff;stroke-linejoin:miter;\"/>\r\n   </g>\r\n   <g id=\"patch_26\">\r\n    <path clip-path=\"url(#p20b1c0249e)\" d=\"M 104.740341 294.118125 \r\nL 135.617811 294.118125 \r\nL 135.617811 35.260982 \r\nL 104.740341 35.260982 \r\nz\r\n\" style=\"fill:#87ceeb;opacity:0.8;stroke:#ffffff;stroke-linejoin:miter;\"/>\r\n   </g>\r\n   <g id=\"patch_27\">\r\n    <path clip-path=\"url(#p20b1c0249e)\" d=\"M 135.617811 294.118125 \r\nL 166.495282 294.118125 \r\nL 166.495282 294.118125 \r\nL 135.617811 294.118125 \r\nz\r\n\" style=\"fill:#87ceeb;opacity:0.8;stroke:#ffffff;stroke-linejoin:miter;\"/>\r\n   </g>\r\n   <g id=\"patch_28\">\r\n    <path clip-path=\"url(#p20b1c0249e)\" d=\"M 166.495282 294.118125 \r\nL 197.372752 294.118125 \r\nL 197.372752 294.118125 \r\nL 166.495282 294.118125 \r\nz\r\n\" style=\"fill:#87ceeb;opacity:0.8;stroke:#ffffff;stroke-linejoin:miter;\"/>\r\n   </g>\r\n   <g id=\"patch_29\">\r\n    <path clip-path=\"url(#p20b1c0249e)\" d=\"M 197.372752 294.118125 \r\nL 228.250222 294.118125 \r\nL 228.250222 294.118125 \r\nL 197.372752 294.118125 \r\nz\r\n\" style=\"fill:#87ceeb;opacity:0.8;stroke:#ffffff;stroke-linejoin:miter;\"/>\r\n   </g>\r\n   <g id=\"patch_30\">\r\n    <path clip-path=\"url(#p20b1c0249e)\" d=\"M 228.250222 294.118125 \r\nL 259.127693 294.118125 \r\nL 259.127693 294.118125 \r\nL 228.250222 294.118125 \r\nz\r\n\" style=\"fill:#87ceeb;opacity:0.8;stroke:#ffffff;stroke-linejoin:miter;\"/>\r\n   </g>\r\n   <g id=\"patch_31\">\r\n    <path clip-path=\"url(#p20b1c0249e)\" d=\"M 259.127693 294.118125 \r\nL 290.005163 294.118125 \r\nL 290.005163 294.118125 \r\nL 259.127693 294.118125 \r\nz\r\n\" style=\"fill:#87ceeb;opacity:0.8;stroke:#ffffff;stroke-linejoin:miter;\"/>\r\n   </g>\r\n   <g id=\"patch_32\">\r\n    <path clip-path=\"url(#p20b1c0249e)\" d=\"M 290.005163 294.118125 \r\nL 320.882633 294.118125 \r\nL 320.882633 294.118125 \r\nL 290.005163 294.118125 \r\nz\r\n\" style=\"fill:#87ceeb;opacity:0.8;stroke:#ffffff;stroke-linejoin:miter;\"/>\r\n   </g>\r\n   <g id=\"patch_33\">\r\n    <path clip-path=\"url(#p20b1c0249e)\" d=\"M 320.882633 294.118125 \r\nL 351.760104 294.118125 \r\nL 351.760104 294.118125 \r\nL 320.882633 294.118125 \r\nz\r\n\" style=\"fill:#87ceeb;opacity:0.8;stroke:#ffffff;stroke-linejoin:miter;\"/>\r\n   </g>\r\n   <g id=\"patch_34\">\r\n    <path clip-path=\"url(#p20b1c0249e)\" d=\"M 351.760104 294.118125 \r\nL 382.637574 294.118125 \r\nL 382.637574 294.118125 \r\nL 351.760104 294.118125 \r\nz\r\n\" style=\"fill:#87ceeb;opacity:0.8;stroke:#ffffff;stroke-linejoin:miter;\"/>\r\n   </g>\r\n   <g id=\"patch_35\">\r\n    <path clip-path=\"url(#p20b1c0249e)\" d=\"M 382.637574 294.118125 \r\nL 413.515044 294.118125 \r\nL 413.515044 294.118125 \r\nL 382.637574 294.118125 \r\nz\r\n\" style=\"fill:#87ceeb;opacity:0.8;stroke:#ffffff;stroke-linejoin:miter;\"/>\r\n   </g>\r\n   <g id=\"patch_36\">\r\n    <path clip-path=\"url(#p20b1c0249e)\" d=\"M 413.515044 294.118125 \r\nL 444.392515 294.118125 \r\nL 444.392515 35.260982 \r\nL 413.515044 35.260982 \r\nz\r\n\" style=\"fill:#87ceeb;opacity:0.8;stroke:#ffffff;stroke-linejoin:miter;\"/>\r\n   </g>\r\n   <g id=\"patch_37\">\r\n    <path clip-path=\"url(#p20b1c0249e)\" d=\"M 444.392515 294.118125 \r\nL 475.269985 294.118125 \r\nL 475.269985 294.118125 \r\nL 444.392515 294.118125 \r\nz\r\n\" style=\"fill:#87ceeb;opacity:0.8;stroke:#ffffff;stroke-linejoin:miter;\"/>\r\n   </g>\r\n   <g id=\"patch_38\">\r\n    <path clip-path=\"url(#p20b1c0249e)\" d=\"M 475.269985 294.118125 \r\nL 506.147456 294.118125 \r\nL 506.147456 294.118125 \r\nL 475.269985 294.118125 \r\nz\r\n\" style=\"fill:#87ceeb;opacity:0.8;stroke:#ffffff;stroke-linejoin:miter;\"/>\r\n   </g>\r\n   <g id=\"patch_39\">\r\n    <path clip-path=\"url(#p20b1c0249e)\" d=\"M 506.147456 294.118125 \r\nL 537.024926 294.118125 \r\nL 537.024926 294.118125 \r\nL 506.147456 294.118125 \r\nz\r\n\" style=\"fill:#87ceeb;opacity:0.8;stroke:#ffffff;stroke-linejoin:miter;\"/>\r\n   </g>\r\n   <g id=\"patch_40\">\r\n    <path clip-path=\"url(#p20b1c0249e)\" d=\"M 537.024926 294.118125 \r\nL 567.902396 294.118125 \r\nL 567.902396 294.118125 \r\nL 537.024926 294.118125 \r\nz\r\n\" style=\"fill:#87ceeb;opacity:0.8;stroke:#ffffff;stroke-linejoin:miter;\"/>\r\n   </g>\r\n   <g id=\"patch_41\">\r\n    <path clip-path=\"url(#p20b1c0249e)\" d=\"M 567.902396 294.118125 \r\nL 598.779867 294.118125 \r\nL 598.779867 294.118125 \r\nL 567.902396 294.118125 \r\nz\r\n\" style=\"fill:#87ceeb;opacity:0.8;stroke:#ffffff;stroke-linejoin:miter;\"/>\r\n   </g>\r\n   <g id=\"patch_42\">\r\n    <path clip-path=\"url(#p20b1c0249e)\" d=\"M 598.779867 294.118125 \r\nL 629.657337 294.118125 \r\nL 629.657337 294.118125 \r\nL 598.779867 294.118125 \r\nz\r\n\" style=\"fill:#87ceeb;opacity:0.8;stroke:#ffffff;stroke-linejoin:miter;\"/>\r\n   </g>\r\n   <g id=\"patch_43\">\r\n    <path clip-path=\"url(#p20b1c0249e)\" d=\"M 629.657337 294.118125 \r\nL 660.534807 294.118125 \r\nL 660.534807 294.118125 \r\nL 629.657337 294.118125 \r\nz\r\n\" style=\"fill:#87ceeb;opacity:0.8;stroke:#ffffff;stroke-linejoin:miter;\"/>\r\n   </g>\r\n   <g id=\"patch_44\">\r\n    <path clip-path=\"url(#p20b1c0249e)\" d=\"M 660.534807 294.118125 \r\nL 691.412278 294.118125 \r\nL 691.412278 294.118125 \r\nL 660.534807 294.118125 \r\nz\r\n\" style=\"fill:#87ceeb;opacity:0.8;stroke:#ffffff;stroke-linejoin:miter;\"/>\r\n   </g>\r\n   <g id=\"patch_45\">\r\n    <path clip-path=\"url(#p20b1c0249e)\" d=\"M 691.412278 294.118125 \r\nL 722.289748 294.118125 \r\nL 722.289748 35.260982 \r\nL 691.412278 35.260982 \r\nz\r\n\" style=\"fill:#87ceeb;opacity:0.8;stroke:#ffffff;stroke-linejoin:miter;\"/>\r\n   </g>\r\n   <g id=\"patch_46\">\r\n    <path clip-path=\"url(#p20b1c0249e)\" d=\"M 722.289748 294.118125 \r\nL 753.167218 294.118125 \r\nL 753.167218 294.118125 \r\nL 722.289748 294.118125 \r\nz\r\n\" style=\"fill:#87ceeb;opacity:0.8;stroke:#ffffff;stroke-linejoin:miter;\"/>\r\n   </g>\r\n   <g id=\"patch_47\">\r\n    <path clip-path=\"url(#p20b1c0249e)\" d=\"M 753.167218 294.118125 \r\nL 784.044689 294.118125 \r\nL 784.044689 294.118125 \r\nL 753.167218 294.118125 \r\nz\r\n\" style=\"fill:#87ceeb;opacity:0.8;stroke:#ffffff;stroke-linejoin:miter;\"/>\r\n   </g>\r\n   <g id=\"patch_48\">\r\n    <path clip-path=\"url(#p20b1c0249e)\" d=\"M 784.044689 294.118125 \r\nL 814.922159 294.118125 \r\nL 814.922159 294.118125 \r\nL 784.044689 294.118125 \r\nz\r\n\" style=\"fill:#87ceeb;opacity:0.8;stroke:#ffffff;stroke-linejoin:miter;\"/>\r\n   </g>\r\n   <g id=\"matplotlib.axis_1\">\r\n    <g id=\"xtick_1\">\r\n     <g id=\"line2d_1\">\r\n      <defs>\r\n       <path d=\"M 0 0 \r\nL 0 3.5 \r\n\" id=\"mac4cfd4a39\" style=\"stroke:#000000;stroke-width:0.8;\"/>\r\n      </defs>\r\n      <g>\r\n       <use style=\"stroke:#000000;stroke-width:0.8;\" x=\"166.495282\" xlink:href=\"#mac4cfd4a39\" y=\"294.118125\"/>\r\n      </g>\r\n     </g>\r\n     <g id=\"text_1\">\r\n      <!-- 30000 -->\r\n      <defs>\r\n       <path d=\"M 40.578125 39.3125 \r\nQ 47.65625 37.796875 51.625 33 \r\nQ 55.609375 28.21875 55.609375 21.1875 \r\nQ 55.609375 10.40625 48.1875 4.484375 \r\nQ 40.765625 -1.421875 27.09375 -1.421875 \r\nQ 22.515625 -1.421875 17.65625 -0.515625 \r\nQ 12.796875 0.390625 7.625 2.203125 \r\nL 7.625 11.71875 \r\nQ 11.71875 9.328125 16.59375 8.109375 \r\nQ 21.484375 6.890625 26.8125 6.890625 \r\nQ 36.078125 6.890625 40.9375 10.546875 \r\nQ 45.796875 14.203125 45.796875 21.1875 \r\nQ 45.796875 27.640625 41.28125 31.265625 \r\nQ 36.765625 34.90625 28.71875 34.90625 \r\nL 20.21875 34.90625 \r\nL 20.21875 43.015625 \r\nL 29.109375 43.015625 \r\nQ 36.375 43.015625 40.234375 45.921875 \r\nQ 44.09375 48.828125 44.09375 54.296875 \r\nQ 44.09375 59.90625 40.109375 62.90625 \r\nQ 36.140625 65.921875 28.71875 65.921875 \r\nQ 24.65625 65.921875 20.015625 65.03125 \r\nQ 15.375 64.15625 9.8125 62.3125 \r\nL 9.8125 71.09375 \r\nQ 15.4375 72.65625 20.34375 73.4375 \r\nQ 25.25 74.21875 29.59375 74.21875 \r\nQ 40.828125 74.21875 47.359375 69.109375 \r\nQ 53.90625 64.015625 53.90625 55.328125 \r\nQ 53.90625 49.265625 50.4375 45.09375 \r\nQ 46.96875 40.921875 40.578125 39.3125 \r\nz\r\n\" id=\"DejaVuSans-51\"/>\r\n       <path d=\"M 31.78125 66.40625 \r\nQ 24.171875 66.40625 20.328125 58.90625 \r\nQ 16.5 51.421875 16.5 36.375 \r\nQ 16.5 21.390625 20.328125 13.890625 \r\nQ 24.171875 6.390625 31.78125 6.390625 \r\nQ 39.453125 6.390625 43.28125 13.890625 \r\nQ 47.125 21.390625 47.125 36.375 \r\nQ 47.125 51.421875 43.28125 58.90625 \r\nQ 39.453125 66.40625 31.78125 66.40625 \r\nz\r\nM 31.78125 74.21875 \r\nQ 44.046875 74.21875 50.515625 64.515625 \r\nQ 56.984375 54.828125 56.984375 36.375 \r\nQ 56.984375 17.96875 50.515625 8.265625 \r\nQ 44.046875 -1.421875 31.78125 -1.421875 \r\nQ 19.53125 -1.421875 13.0625 8.265625 \r\nQ 6.59375 17.96875 6.59375 36.375 \r\nQ 6.59375 54.828125 13.0625 64.515625 \r\nQ 19.53125 74.21875 31.78125 74.21875 \r\nz\r\n\" id=\"DejaVuSans-48\"/>\r\n      </defs>\r\n      <g transform=\"translate(150.589032 308.716563)scale(0.1 -0.1)\">\r\n       <use xlink:href=\"#DejaVuSans-51\"/>\r\n       <use x=\"63.623047\" xlink:href=\"#DejaVuSans-48\"/>\r\n       <use x=\"127.246094\" xlink:href=\"#DejaVuSans-48\"/>\r\n       <use x=\"190.869141\" xlink:href=\"#DejaVuSans-48\"/>\r\n       <use x=\"254.492188\" xlink:href=\"#DejaVuSans-48\"/>\r\n      </g>\r\n     </g>\r\n    </g>\r\n    <g id=\"xtick_2\">\r\n     <g id=\"line2d_2\">\r\n      <g>\r\n       <use style=\"stroke:#000000;stroke-width:0.8;\" x=\"290.005163\" xlink:href=\"#mac4cfd4a39\" y=\"294.118125\"/>\r\n      </g>\r\n     </g>\r\n     <g id=\"text_2\">\r\n      <!-- 40000 -->\r\n      <defs>\r\n       <path d=\"M 37.796875 64.3125 \r\nL 12.890625 25.390625 \r\nL 37.796875 25.390625 \r\nz\r\nM 35.203125 72.90625 \r\nL 47.609375 72.90625 \r\nL 47.609375 25.390625 \r\nL 58.015625 25.390625 \r\nL 58.015625 17.1875 \r\nL 47.609375 17.1875 \r\nL 47.609375 0 \r\nL 37.796875 0 \r\nL 37.796875 17.1875 \r\nL 4.890625 17.1875 \r\nL 4.890625 26.703125 \r\nz\r\n\" id=\"DejaVuSans-52\"/>\r\n      </defs>\r\n      <g transform=\"translate(274.098913 308.716563)scale(0.1 -0.1)\">\r\n       <use xlink:href=\"#DejaVuSans-52\"/>\r\n       <use x=\"63.623047\" xlink:href=\"#DejaVuSans-48\"/>\r\n       <use x=\"127.246094\" xlink:href=\"#DejaVuSans-48\"/>\r\n       <use x=\"190.869141\" xlink:href=\"#DejaVuSans-48\"/>\r\n       <use x=\"254.492188\" xlink:href=\"#DejaVuSans-48\"/>\r\n      </g>\r\n     </g>\r\n    </g>\r\n    <g id=\"xtick_3\">\r\n     <g id=\"line2d_3\">\r\n      <g>\r\n       <use style=\"stroke:#000000;stroke-width:0.8;\" x=\"413.515044\" xlink:href=\"#mac4cfd4a39\" y=\"294.118125\"/>\r\n      </g>\r\n     </g>\r\n     <g id=\"text_3\">\r\n      <!-- 50000 -->\r\n      <defs>\r\n       <path d=\"M 10.796875 72.90625 \r\nL 49.515625 72.90625 \r\nL 49.515625 64.59375 \r\nL 19.828125 64.59375 \r\nL 19.828125 46.734375 \r\nQ 21.96875 47.46875 24.109375 47.828125 \r\nQ 26.265625 48.1875 28.421875 48.1875 \r\nQ 40.625 48.1875 47.75 41.5 \r\nQ 54.890625 34.8125 54.890625 23.390625 \r\nQ 54.890625 11.625 47.5625 5.09375 \r\nQ 40.234375 -1.421875 26.90625 -1.421875 \r\nQ 22.3125 -1.421875 17.546875 -0.640625 \r\nQ 12.796875 0.140625 7.71875 1.703125 \r\nL 7.71875 11.625 \r\nQ 12.109375 9.234375 16.796875 8.0625 \r\nQ 21.484375 6.890625 26.703125 6.890625 \r\nQ 35.15625 6.890625 40.078125 11.328125 \r\nQ 45.015625 15.765625 45.015625 23.390625 \r\nQ 45.015625 31 40.078125 35.4375 \r\nQ 35.15625 39.890625 26.703125 39.890625 \r\nQ 22.75 39.890625 18.8125 39.015625 \r\nQ 14.890625 38.140625 10.796875 36.28125 \r\nz\r\n\" id=\"DejaVuSans-53\"/>\r\n      </defs>\r\n      <g transform=\"translate(397.608794 308.716563)scale(0.1 -0.1)\">\r\n       <use xlink:href=\"#DejaVuSans-53\"/>\r\n       <use x=\"63.623047\" xlink:href=\"#DejaVuSans-48\"/>\r\n       <use x=\"127.246094\" xlink:href=\"#DejaVuSans-48\"/>\r\n       <use x=\"190.869141\" xlink:href=\"#DejaVuSans-48\"/>\r\n       <use x=\"254.492188\" xlink:href=\"#DejaVuSans-48\"/>\r\n      </g>\r\n     </g>\r\n    </g>\r\n    <g id=\"xtick_4\">\r\n     <g id=\"line2d_4\">\r\n      <g>\r\n       <use style=\"stroke:#000000;stroke-width:0.8;\" x=\"537.024926\" xlink:href=\"#mac4cfd4a39\" y=\"294.118125\"/>\r\n      </g>\r\n     </g>\r\n     <g id=\"text_4\">\r\n      <!-- 60000 -->\r\n      <defs>\r\n       <path d=\"M 33.015625 40.375 \r\nQ 26.375 40.375 22.484375 35.828125 \r\nQ 18.609375 31.296875 18.609375 23.390625 \r\nQ 18.609375 15.53125 22.484375 10.953125 \r\nQ 26.375 6.390625 33.015625 6.390625 \r\nQ 39.65625 6.390625 43.53125 10.953125 \r\nQ 47.40625 15.53125 47.40625 23.390625 \r\nQ 47.40625 31.296875 43.53125 35.828125 \r\nQ 39.65625 40.375 33.015625 40.375 \r\nz\r\nM 52.59375 71.296875 \r\nL 52.59375 62.3125 \r\nQ 48.875 64.0625 45.09375 64.984375 \r\nQ 41.3125 65.921875 37.59375 65.921875 \r\nQ 27.828125 65.921875 22.671875 59.328125 \r\nQ 17.53125 52.734375 16.796875 39.40625 \r\nQ 19.671875 43.65625 24.015625 45.921875 \r\nQ 28.375 48.1875 33.59375 48.1875 \r\nQ 44.578125 48.1875 50.953125 41.515625 \r\nQ 57.328125 34.859375 57.328125 23.390625 \r\nQ 57.328125 12.15625 50.6875 5.359375 \r\nQ 44.046875 -1.421875 33.015625 -1.421875 \r\nQ 20.359375 -1.421875 13.671875 8.265625 \r\nQ 6.984375 17.96875 6.984375 36.375 \r\nQ 6.984375 53.65625 15.1875 63.9375 \r\nQ 23.390625 74.21875 37.203125 74.21875 \r\nQ 40.921875 74.21875 44.703125 73.484375 \r\nQ 48.484375 72.75 52.59375 71.296875 \r\nz\r\n\" id=\"DejaVuSans-54\"/>\r\n      </defs>\r\n      <g transform=\"translate(521.118676 308.716563)scale(0.1 -0.1)\">\r\n       <use xlink:href=\"#DejaVuSans-54\"/>\r\n       <use x=\"63.623047\" xlink:href=\"#DejaVuSans-48\"/>\r\n       <use x=\"127.246094\" xlink:href=\"#DejaVuSans-48\"/>\r\n       <use x=\"190.869141\" xlink:href=\"#DejaVuSans-48\"/>\r\n       <use x=\"254.492188\" xlink:href=\"#DejaVuSans-48\"/>\r\n      </g>\r\n     </g>\r\n    </g>\r\n    <g id=\"xtick_5\">\r\n     <g id=\"line2d_5\">\r\n      <g>\r\n       <use style=\"stroke:#000000;stroke-width:0.8;\" x=\"660.534807\" xlink:href=\"#mac4cfd4a39\" y=\"294.118125\"/>\r\n      </g>\r\n     </g>\r\n     <g id=\"text_5\">\r\n      <!-- 70000 -->\r\n      <defs>\r\n       <path d=\"M 8.203125 72.90625 \r\nL 55.078125 72.90625 \r\nL 55.078125 68.703125 \r\nL 28.609375 0 \r\nL 18.3125 0 \r\nL 43.21875 64.59375 \r\nL 8.203125 64.59375 \r\nz\r\n\" id=\"DejaVuSans-55\"/>\r\n      </defs>\r\n      <g transform=\"translate(644.628557 308.716563)scale(0.1 -0.1)\">\r\n       <use xlink:href=\"#DejaVuSans-55\"/>\r\n       <use x=\"63.623047\" xlink:href=\"#DejaVuSans-48\"/>\r\n       <use x=\"127.246094\" xlink:href=\"#DejaVuSans-48\"/>\r\n       <use x=\"190.869141\" xlink:href=\"#DejaVuSans-48\"/>\r\n       <use x=\"254.492188\" xlink:href=\"#DejaVuSans-48\"/>\r\n      </g>\r\n     </g>\r\n    </g>\r\n    <g id=\"xtick_6\">\r\n     <g id=\"line2d_6\">\r\n      <g>\r\n       <use style=\"stroke:#000000;stroke-width:0.8;\" x=\"784.044689\" xlink:href=\"#mac4cfd4a39\" y=\"294.118125\"/>\r\n      </g>\r\n     </g>\r\n     <g id=\"text_6\">\r\n      <!-- 80000 -->\r\n      <defs>\r\n       <path d=\"M 31.78125 34.625 \r\nQ 24.75 34.625 20.71875 30.859375 \r\nQ 16.703125 27.09375 16.703125 20.515625 \r\nQ 16.703125 13.921875 20.71875 10.15625 \r\nQ 24.75 6.390625 31.78125 6.390625 \r\nQ 38.8125 6.390625 42.859375 10.171875 \r\nQ 46.921875 13.96875 46.921875 20.515625 \r\nQ 46.921875 27.09375 42.890625 30.859375 \r\nQ 38.875 34.625 31.78125 34.625 \r\nz\r\nM 21.921875 38.8125 \r\nQ 15.578125 40.375 12.03125 44.71875 \r\nQ 8.5 49.078125 8.5 55.328125 \r\nQ 8.5 64.0625 14.71875 69.140625 \r\nQ 20.953125 74.21875 31.78125 74.21875 \r\nQ 42.671875 74.21875 48.875 69.140625 \r\nQ 55.078125 64.0625 55.078125 55.328125 \r\nQ 55.078125 49.078125 51.53125 44.71875 \r\nQ 48 40.375 41.703125 38.8125 \r\nQ 48.828125 37.15625 52.796875 32.3125 \r\nQ 56.78125 27.484375 56.78125 20.515625 \r\nQ 56.78125 9.90625 50.3125 4.234375 \r\nQ 43.84375 -1.421875 31.78125 -1.421875 \r\nQ 19.734375 -1.421875 13.25 4.234375 \r\nQ 6.78125 9.90625 6.78125 20.515625 \r\nQ 6.78125 27.484375 10.78125 32.3125 \r\nQ 14.796875 37.15625 21.921875 38.8125 \r\nz\r\nM 18.3125 54.390625 \r\nQ 18.3125 48.734375 21.84375 45.5625 \r\nQ 25.390625 42.390625 31.78125 42.390625 \r\nQ 38.140625 42.390625 41.71875 45.5625 \r\nQ 45.3125 48.734375 45.3125 54.390625 \r\nQ 45.3125 60.0625 41.71875 63.234375 \r\nQ 38.140625 66.40625 31.78125 66.40625 \r\nQ 25.390625 66.40625 21.84375 63.234375 \r\nQ 18.3125 60.0625 18.3125 54.390625 \r\nz\r\n\" id=\"DejaVuSans-56\"/>\r\n      </defs>\r\n      <g transform=\"translate(768.138439 308.716563)scale(0.1 -0.1)\">\r\n       <use xlink:href=\"#DejaVuSans-56\"/>\r\n       <use x=\"63.623047\" xlink:href=\"#DejaVuSans-48\"/>\r\n       <use x=\"127.246094\" xlink:href=\"#DejaVuSans-48\"/>\r\n       <use x=\"190.869141\" xlink:href=\"#DejaVuSans-48\"/>\r\n       <use x=\"254.492188\" xlink:href=\"#DejaVuSans-48\"/>\r\n      </g>\r\n     </g>\r\n    </g>\r\n    <g id=\"text_7\">\r\n     <!-- plaquetas[kplaquetas/mL] -->\r\n     <defs>\r\n      <path d=\"M 18.109375 8.203125 \r\nL 18.109375 -20.796875 \r\nL 9.078125 -20.796875 \r\nL 9.078125 54.6875 \r\nL 18.109375 54.6875 \r\nL 18.109375 46.390625 \r\nQ 20.953125 51.265625 25.265625 53.625 \r\nQ 29.59375 56 35.59375 56 \r\nQ 45.5625 56 51.78125 48.09375 \r\nQ 58.015625 40.1875 58.015625 27.296875 \r\nQ 58.015625 14.40625 51.78125 6.484375 \r\nQ 45.5625 -1.421875 35.59375 -1.421875 \r\nQ 29.59375 -1.421875 25.265625 0.953125 \r\nQ 20.953125 3.328125 18.109375 8.203125 \r\nz\r\nM 48.6875 27.296875 \r\nQ 48.6875 37.203125 44.609375 42.84375 \r\nQ 40.53125 48.484375 33.40625 48.484375 \r\nQ 26.265625 48.484375 22.1875 42.84375 \r\nQ 18.109375 37.203125 18.109375 27.296875 \r\nQ 18.109375 17.390625 22.1875 11.75 \r\nQ 26.265625 6.109375 33.40625 6.109375 \r\nQ 40.53125 6.109375 44.609375 11.75 \r\nQ 48.6875 17.390625 48.6875 27.296875 \r\nz\r\n\" id=\"DejaVuSans-112\"/>\r\n      <path d=\"M 9.421875 75.984375 \r\nL 18.40625 75.984375 \r\nL 18.40625 0 \r\nL 9.421875 0 \r\nz\r\n\" id=\"DejaVuSans-108\"/>\r\n      <path d=\"M 34.28125 27.484375 \r\nQ 23.390625 27.484375 19.1875 25 \r\nQ 14.984375 22.515625 14.984375 16.5 \r\nQ 14.984375 11.71875 18.140625 8.90625 \r\nQ 21.296875 6.109375 26.703125 6.109375 \r\nQ 34.1875 6.109375 38.703125 11.40625 \r\nQ 43.21875 16.703125 43.21875 25.484375 \r\nL 43.21875 27.484375 \r\nz\r\nM 52.203125 31.203125 \r\nL 52.203125 0 \r\nL 43.21875 0 \r\nL 43.21875 8.296875 \r\nQ 40.140625 3.328125 35.546875 0.953125 \r\nQ 30.953125 -1.421875 24.3125 -1.421875 \r\nQ 15.921875 -1.421875 10.953125 3.296875 \r\nQ 6 8.015625 6 15.921875 \r\nQ 6 25.140625 12.171875 29.828125 \r\nQ 18.359375 34.515625 30.609375 34.515625 \r\nL 43.21875 34.515625 \r\nL 43.21875 35.40625 \r\nQ 43.21875 41.609375 39.140625 45 \r\nQ 35.0625 48.390625 27.6875 48.390625 \r\nQ 23 48.390625 18.546875 47.265625 \r\nQ 14.109375 46.140625 10.015625 43.890625 \r\nL 10.015625 52.203125 \r\nQ 14.9375 54.109375 19.578125 55.046875 \r\nQ 24.21875 56 28.609375 56 \r\nQ 40.484375 56 46.34375 49.84375 \r\nQ 52.203125 43.703125 52.203125 31.203125 \r\nz\r\n\" id=\"DejaVuSans-97\"/>\r\n      <path d=\"M 14.796875 27.296875 \r\nQ 14.796875 17.390625 18.875 11.75 \r\nQ 22.953125 6.109375 30.078125 6.109375 \r\nQ 37.203125 6.109375 41.296875 11.75 \r\nQ 45.40625 17.390625 45.40625 27.296875 \r\nQ 45.40625 37.203125 41.296875 42.84375 \r\nQ 37.203125 48.484375 30.078125 48.484375 \r\nQ 22.953125 48.484375 18.875 42.84375 \r\nQ 14.796875 37.203125 14.796875 27.296875 \r\nz\r\nM 45.40625 8.203125 \r\nQ 42.578125 3.328125 38.25 0.953125 \r\nQ 33.9375 -1.421875 27.875 -1.421875 \r\nQ 17.96875 -1.421875 11.734375 6.484375 \r\nQ 5.515625 14.40625 5.515625 27.296875 \r\nQ 5.515625 40.1875 11.734375 48.09375 \r\nQ 17.96875 56 27.875 56 \r\nQ 33.9375 56 38.25 53.625 \r\nQ 42.578125 51.265625 45.40625 46.390625 \r\nL 45.40625 54.6875 \r\nL 54.390625 54.6875 \r\nL 54.390625 -20.796875 \r\nL 45.40625 -20.796875 \r\nz\r\n\" id=\"DejaVuSans-113\"/>\r\n      <path d=\"M 8.5 21.578125 \r\nL 8.5 54.6875 \r\nL 17.484375 54.6875 \r\nL 17.484375 21.921875 \r\nQ 17.484375 14.15625 20.5 10.265625 \r\nQ 23.53125 6.390625 29.59375 6.390625 \r\nQ 36.859375 6.390625 41.078125 11.03125 \r\nQ 45.3125 15.671875 45.3125 23.6875 \r\nL 45.3125 54.6875 \r\nL 54.296875 54.6875 \r\nL 54.296875 0 \r\nL 45.3125 0 \r\nL 45.3125 8.40625 \r\nQ 42.046875 3.421875 37.71875 1 \r\nQ 33.40625 -1.421875 27.6875 -1.421875 \r\nQ 18.265625 -1.421875 13.375 4.4375 \r\nQ 8.5 10.296875 8.5 21.578125 \r\nz\r\nM 31.109375 56 \r\nz\r\n\" id=\"DejaVuSans-117\"/>\r\n      <path d=\"M 56.203125 29.59375 \r\nL 56.203125 25.203125 \r\nL 14.890625 25.203125 \r\nQ 15.484375 15.921875 20.484375 11.0625 \r\nQ 25.484375 6.203125 34.421875 6.203125 \r\nQ 39.59375 6.203125 44.453125 7.46875 \r\nQ 49.3125 8.734375 54.109375 11.28125 \r\nL 54.109375 2.78125 \r\nQ 49.265625 0.734375 44.1875 -0.34375 \r\nQ 39.109375 -1.421875 33.890625 -1.421875 \r\nQ 20.796875 -1.421875 13.15625 6.1875 \r\nQ 5.515625 13.8125 5.515625 26.8125 \r\nQ 5.515625 40.234375 12.765625 48.109375 \r\nQ 20.015625 56 32.328125 56 \r\nQ 43.359375 56 49.78125 48.890625 \r\nQ 56.203125 41.796875 56.203125 29.59375 \r\nz\r\nM 47.21875 32.234375 \r\nQ 47.125 39.59375 43.09375 43.984375 \r\nQ 39.0625 48.390625 32.421875 48.390625 \r\nQ 24.90625 48.390625 20.390625 44.140625 \r\nQ 15.875 39.890625 15.1875 32.171875 \r\nz\r\n\" id=\"DejaVuSans-101\"/>\r\n      <path d=\"M 18.3125 70.21875 \r\nL 18.3125 54.6875 \r\nL 36.8125 54.6875 \r\nL 36.8125 47.703125 \r\nL 18.3125 47.703125 \r\nL 18.3125 18.015625 \r\nQ 18.3125 11.328125 20.140625 9.421875 \r\nQ 21.96875 7.515625 27.59375 7.515625 \r\nL 36.8125 7.515625 \r\nL 36.8125 0 \r\nL 27.59375 0 \r\nQ 17.1875 0 13.234375 3.875 \r\nQ 9.28125 7.765625 9.28125 18.015625 \r\nL 9.28125 47.703125 \r\nL 2.6875 47.703125 \r\nL 2.6875 54.6875 \r\nL 9.28125 54.6875 \r\nL 9.28125 70.21875 \r\nz\r\n\" id=\"DejaVuSans-116\"/>\r\n      <path d=\"M 44.28125 53.078125 \r\nL 44.28125 44.578125 \r\nQ 40.484375 46.53125 36.375 47.5 \r\nQ 32.28125 48.484375 27.875 48.484375 \r\nQ 21.1875 48.484375 17.84375 46.4375 \r\nQ 14.5 44.390625 14.5 40.28125 \r\nQ 14.5 37.15625 16.890625 35.375 \r\nQ 19.28125 33.59375 26.515625 31.984375 \r\nL 29.59375 31.296875 \r\nQ 39.15625 29.25 43.1875 25.515625 \r\nQ 47.21875 21.78125 47.21875 15.09375 \r\nQ 47.21875 7.46875 41.1875 3.015625 \r\nQ 35.15625 -1.421875 24.609375 -1.421875 \r\nQ 20.21875 -1.421875 15.453125 -0.5625 \r\nQ 10.6875 0.296875 5.421875 2 \r\nL 5.421875 11.28125 \r\nQ 10.40625 8.6875 15.234375 7.390625 \r\nQ 20.0625 6.109375 24.8125 6.109375 \r\nQ 31.15625 6.109375 34.5625 8.28125 \r\nQ 37.984375 10.453125 37.984375 14.40625 \r\nQ 37.984375 18.0625 35.515625 20.015625 \r\nQ 33.0625 21.96875 24.703125 23.78125 \r\nL 21.578125 24.515625 \r\nQ 13.234375 26.265625 9.515625 29.90625 \r\nQ 5.8125 33.546875 5.8125 39.890625 \r\nQ 5.8125 47.609375 11.28125 51.796875 \r\nQ 16.75 56 26.8125 56 \r\nQ 31.78125 56 36.171875 55.265625 \r\nQ 40.578125 54.546875 44.28125 53.078125 \r\nz\r\n\" id=\"DejaVuSans-115\"/>\r\n      <path d=\"M 8.59375 75.984375 \r\nL 29.296875 75.984375 \r\nL 29.296875 69 \r\nL 17.578125 69 \r\nL 17.578125 -6.203125 \r\nL 29.296875 -6.203125 \r\nL 29.296875 -13.1875 \r\nL 8.59375 -13.1875 \r\nz\r\n\" id=\"DejaVuSans-91\"/>\r\n      <path d=\"M 9.078125 75.984375 \r\nL 18.109375 75.984375 \r\nL 18.109375 31.109375 \r\nL 44.921875 54.6875 \r\nL 56.390625 54.6875 \r\nL 27.390625 29.109375 \r\nL 57.625 0 \r\nL 45.90625 0 \r\nL 18.109375 26.703125 \r\nL 18.109375 0 \r\nL 9.078125 0 \r\nz\r\n\" id=\"DejaVuSans-107\"/>\r\n      <path d=\"M 25.390625 72.90625 \r\nL 33.6875 72.90625 \r\nL 8.296875 -9.28125 \r\nL 0 -9.28125 \r\nz\r\n\" id=\"DejaVuSans-47\"/>\r\n      <path d=\"M 52 44.1875 \r\nQ 55.375 50.25 60.0625 53.125 \r\nQ 64.75 56 71.09375 56 \r\nQ 79.640625 56 84.28125 50.015625 \r\nQ 88.921875 44.046875 88.921875 33.015625 \r\nL 88.921875 0 \r\nL 79.890625 0 \r\nL 79.890625 32.71875 \r\nQ 79.890625 40.578125 77.09375 44.375 \r\nQ 74.3125 48.1875 68.609375 48.1875 \r\nQ 61.625 48.1875 57.5625 43.546875 \r\nQ 53.515625 38.921875 53.515625 30.90625 \r\nL 53.515625 0 \r\nL 44.484375 0 \r\nL 44.484375 32.71875 \r\nQ 44.484375 40.625 41.703125 44.40625 \r\nQ 38.921875 48.1875 33.109375 48.1875 \r\nQ 26.21875 48.1875 22.15625 43.53125 \r\nQ 18.109375 38.875 18.109375 30.90625 \r\nL 18.109375 0 \r\nL 9.078125 0 \r\nL 9.078125 54.6875 \r\nL 18.109375 54.6875 \r\nL 18.109375 46.1875 \r\nQ 21.1875 51.21875 25.484375 53.609375 \r\nQ 29.78125 56 35.6875 56 \r\nQ 41.65625 56 45.828125 52.96875 \r\nQ 50 49.953125 52 44.1875 \r\nz\r\n\" id=\"DejaVuSans-109\"/>\r\n      <path d=\"M 9.8125 72.90625 \r\nL 19.671875 72.90625 \r\nL 19.671875 8.296875 \r\nL 55.171875 8.296875 \r\nL 55.171875 0 \r\nL 9.8125 0 \r\nz\r\n\" id=\"DejaVuSans-76\"/>\r\n      <path d=\"M 30.421875 75.984375 \r\nL 30.421875 -13.1875 \r\nL 9.71875 -13.1875 \r\nL 9.71875 -6.203125 \r\nL 21.390625 -6.203125 \r\nL 21.390625 69 \r\nL 9.71875 69 \r\nL 9.71875 75.984375 \r\nz\r\n\" id=\"DejaVuSans-93\"/>\r\n     </defs>\r\n     <g transform=\"translate(394.342188 322.394687)scale(0.1 -0.1)\">\r\n      <use xlink:href=\"#DejaVuSans-112\"/>\r\n      <use x=\"63.476562\" xlink:href=\"#DejaVuSans-108\"/>\r\n      <use x=\"91.259766\" xlink:href=\"#DejaVuSans-97\"/>\r\n      <use x=\"152.539062\" xlink:href=\"#DejaVuSans-113\"/>\r\n      <use x=\"216.015625\" xlink:href=\"#DejaVuSans-117\"/>\r\n      <use x=\"279.394531\" xlink:href=\"#DejaVuSans-101\"/>\r\n      <use x=\"340.917969\" xlink:href=\"#DejaVuSans-116\"/>\r\n      <use x=\"380.126953\" xlink:href=\"#DejaVuSans-97\"/>\r\n      <use x=\"441.40625\" xlink:href=\"#DejaVuSans-115\"/>\r\n      <use x=\"493.505859\" xlink:href=\"#DejaVuSans-91\"/>\r\n      <use x=\"532.519531\" xlink:href=\"#DejaVuSans-107\"/>\r\n      <use x=\"590.429688\" xlink:href=\"#DejaVuSans-112\"/>\r\n      <use x=\"653.90625\" xlink:href=\"#DejaVuSans-108\"/>\r\n      <use x=\"681.689453\" xlink:href=\"#DejaVuSans-97\"/>\r\n      <use x=\"742.96875\" xlink:href=\"#DejaVuSans-113\"/>\r\n      <use x=\"806.445312\" xlink:href=\"#DejaVuSans-117\"/>\r\n      <use x=\"869.824219\" xlink:href=\"#DejaVuSans-101\"/>\r\n      <use x=\"931.347656\" xlink:href=\"#DejaVuSans-116\"/>\r\n      <use x=\"970.556641\" xlink:href=\"#DejaVuSans-97\"/>\r\n      <use x=\"1031.835938\" xlink:href=\"#DejaVuSans-115\"/>\r\n      <use x=\"1083.935547\" xlink:href=\"#DejaVuSans-47\"/>\r\n      <use x=\"1117.626953\" xlink:href=\"#DejaVuSans-109\"/>\r\n      <use x=\"1215.039062\" xlink:href=\"#DejaVuSans-76\"/>\r\n      <use x=\"1270.751953\" xlink:href=\"#DejaVuSans-93\"/>\r\n     </g>\r\n    </g>\r\n   </g>\r\n   <g id=\"matplotlib.axis_2\">\r\n    <g id=\"ytick_1\">\r\n     <g id=\"line2d_7\">\r\n      <defs>\r\n       <path d=\"M 0 0 \r\nL -3.5 0 \r\n\" id=\"m1b3b173221\" style=\"stroke:#000000;stroke-width:0.8;\"/>\r\n      </defs>\r\n      <g>\r\n       <use style=\"stroke:#000000;stroke-width:0.8;\" x=\"69.23125\" xlink:href=\"#m1b3b173221\" y=\"294.118125\"/>\r\n      </g>\r\n     </g>\r\n     <g id=\"text_8\">\r\n      <!-- 0.00000 -->\r\n      <defs>\r\n       <path d=\"M 10.6875 12.40625 \r\nL 21 12.40625 \r\nL 21 0 \r\nL 10.6875 0 \r\nz\r\n\" id=\"DejaVuSans-46\"/>\r\n      </defs>\r\n      <g transform=\"translate(20.878125 297.917344)scale(0.1 -0.1)\">\r\n       <use xlink:href=\"#DejaVuSans-48\"/>\r\n       <use x=\"63.623047\" xlink:href=\"#DejaVuSans-46\"/>\r\n       <use x=\"95.410156\" xlink:href=\"#DejaVuSans-48\"/>\r\n       <use x=\"159.033203\" xlink:href=\"#DejaVuSans-48\"/>\r\n       <use x=\"222.65625\" xlink:href=\"#DejaVuSans-48\"/>\r\n       <use x=\"286.279297\" xlink:href=\"#DejaVuSans-48\"/>\r\n       <use x=\"349.902344\" xlink:href=\"#DejaVuSans-48\"/>\r\n      </g>\r\n     </g>\r\n    </g>\r\n    <g id=\"ytick_2\">\r\n     <g id=\"line2d_8\">\r\n      <g>\r\n       <use style=\"stroke:#000000;stroke-width:0.8;\" x=\"69.23125\" xlink:href=\"#m1b3b173221\" y=\"255.289554\"/>\r\n      </g>\r\n     </g>\r\n     <g id=\"text_9\">\r\n      <!-- 0.00002 -->\r\n      <defs>\r\n       <path d=\"M 19.1875 8.296875 \r\nL 53.609375 8.296875 \r\nL 53.609375 0 \r\nL 7.328125 0 \r\nL 7.328125 8.296875 \r\nQ 12.9375 14.109375 22.625 23.890625 \r\nQ 32.328125 33.6875 34.8125 36.53125 \r\nQ 39.546875 41.84375 41.421875 45.53125 \r\nQ 43.3125 49.21875 43.3125 52.78125 \r\nQ 43.3125 58.59375 39.234375 62.25 \r\nQ 35.15625 65.921875 28.609375 65.921875 \r\nQ 23.96875 65.921875 18.8125 64.3125 \r\nQ 13.671875 62.703125 7.8125 59.421875 \r\nL 7.8125 69.390625 \r\nQ 13.765625 71.78125 18.9375 73 \r\nQ 24.125 74.21875 28.421875 74.21875 \r\nQ 39.75 74.21875 46.484375 68.546875 \r\nQ 53.21875 62.890625 53.21875 53.421875 \r\nQ 53.21875 48.921875 51.53125 44.890625 \r\nQ 49.859375 40.875 45.40625 35.40625 \r\nQ 44.1875 33.984375 37.640625 27.21875 \r\nQ 31.109375 20.453125 19.1875 8.296875 \r\nz\r\n\" id=\"DejaVuSans-50\"/>\r\n      </defs>\r\n      <g transform=\"translate(20.878125 259.088772)scale(0.1 -0.1)\">\r\n       <use xlink:href=\"#DejaVuSans-48\"/>\r\n       <use x=\"63.623047\" xlink:href=\"#DejaVuSans-46\"/>\r\n       <use x=\"95.410156\" xlink:href=\"#DejaVuSans-48\"/>\r\n       <use x=\"159.033203\" xlink:href=\"#DejaVuSans-48\"/>\r\n       <use x=\"222.65625\" xlink:href=\"#DejaVuSans-48\"/>\r\n       <use x=\"286.279297\" xlink:href=\"#DejaVuSans-48\"/>\r\n       <use x=\"349.902344\" xlink:href=\"#DejaVuSans-50\"/>\r\n      </g>\r\n     </g>\r\n    </g>\r\n    <g id=\"ytick_3\">\r\n     <g id=\"line2d_9\">\r\n      <g>\r\n       <use style=\"stroke:#000000;stroke-width:0.8;\" x=\"69.23125\" xlink:href=\"#m1b3b173221\" y=\"216.460982\"/>\r\n      </g>\r\n     </g>\r\n     <g id=\"text_10\">\r\n      <!-- 0.00004 -->\r\n      <g transform=\"translate(20.878125 220.260201)scale(0.1 -0.1)\">\r\n       <use xlink:href=\"#DejaVuSans-48\"/>\r\n       <use x=\"63.623047\" xlink:href=\"#DejaVuSans-46\"/>\r\n       <use x=\"95.410156\" xlink:href=\"#DejaVuSans-48\"/>\r\n       <use x=\"159.033203\" xlink:href=\"#DejaVuSans-48\"/>\r\n       <use x=\"222.65625\" xlink:href=\"#DejaVuSans-48\"/>\r\n       <use x=\"286.279297\" xlink:href=\"#DejaVuSans-48\"/>\r\n       <use x=\"349.902344\" xlink:href=\"#DejaVuSans-52\"/>\r\n      </g>\r\n     </g>\r\n    </g>\r\n    <g id=\"ytick_4\">\r\n     <g id=\"line2d_10\">\r\n      <g>\r\n       <use style=\"stroke:#000000;stroke-width:0.8;\" x=\"69.23125\" xlink:href=\"#m1b3b173221\" y=\"177.632411\"/>\r\n      </g>\r\n     </g>\r\n     <g id=\"text_11\">\r\n      <!-- 0.00006 -->\r\n      <g transform=\"translate(20.878125 181.431629)scale(0.1 -0.1)\">\r\n       <use xlink:href=\"#DejaVuSans-48\"/>\r\n       <use x=\"63.623047\" xlink:href=\"#DejaVuSans-46\"/>\r\n       <use x=\"95.410156\" xlink:href=\"#DejaVuSans-48\"/>\r\n       <use x=\"159.033203\" xlink:href=\"#DejaVuSans-48\"/>\r\n       <use x=\"222.65625\" xlink:href=\"#DejaVuSans-48\"/>\r\n       <use x=\"286.279297\" xlink:href=\"#DejaVuSans-48\"/>\r\n       <use x=\"349.902344\" xlink:href=\"#DejaVuSans-54\"/>\r\n      </g>\r\n     </g>\r\n    </g>\r\n    <g id=\"ytick_5\">\r\n     <g id=\"line2d_11\">\r\n      <g>\r\n       <use style=\"stroke:#000000;stroke-width:0.8;\" x=\"69.23125\" xlink:href=\"#m1b3b173221\" y=\"138.803839\"/>\r\n      </g>\r\n     </g>\r\n     <g id=\"text_12\">\r\n      <!-- 0.00008 -->\r\n      <g transform=\"translate(20.878125 142.603058)scale(0.1 -0.1)\">\r\n       <use xlink:href=\"#DejaVuSans-48\"/>\r\n       <use x=\"63.623047\" xlink:href=\"#DejaVuSans-46\"/>\r\n       <use x=\"95.410156\" xlink:href=\"#DejaVuSans-48\"/>\r\n       <use x=\"159.033203\" xlink:href=\"#DejaVuSans-48\"/>\r\n       <use x=\"222.65625\" xlink:href=\"#DejaVuSans-48\"/>\r\n       <use x=\"286.279297\" xlink:href=\"#DejaVuSans-48\"/>\r\n       <use x=\"349.902344\" xlink:href=\"#DejaVuSans-56\"/>\r\n      </g>\r\n     </g>\r\n    </g>\r\n    <g id=\"ytick_6\">\r\n     <g id=\"line2d_12\">\r\n      <g>\r\n       <use style=\"stroke:#000000;stroke-width:0.8;\" x=\"69.23125\" xlink:href=\"#m1b3b173221\" y=\"99.975268\"/>\r\n      </g>\r\n     </g>\r\n     <g id=\"text_13\">\r\n      <!-- 0.00010 -->\r\n      <defs>\r\n       <path d=\"M 12.40625 8.296875 \r\nL 28.515625 8.296875 \r\nL 28.515625 63.921875 \r\nL 10.984375 60.40625 \r\nL 10.984375 69.390625 \r\nL 28.421875 72.90625 \r\nL 38.28125 72.90625 \r\nL 38.28125 8.296875 \r\nL 54.390625 8.296875 \r\nL 54.390625 0 \r\nL 12.40625 0 \r\nz\r\n\" id=\"DejaVuSans-49\"/>\r\n      </defs>\r\n      <g transform=\"translate(20.878125 103.774487)scale(0.1 -0.1)\">\r\n       <use xlink:href=\"#DejaVuSans-48\"/>\r\n       <use x=\"63.623047\" xlink:href=\"#DejaVuSans-46\"/>\r\n       <use x=\"95.410156\" xlink:href=\"#DejaVuSans-48\"/>\r\n       <use x=\"159.033203\" xlink:href=\"#DejaVuSans-48\"/>\r\n       <use x=\"222.65625\" xlink:href=\"#DejaVuSans-48\"/>\r\n       <use x=\"286.279297\" xlink:href=\"#DejaVuSans-49\"/>\r\n       <use x=\"349.902344\" xlink:href=\"#DejaVuSans-48\"/>\r\n      </g>\r\n     </g>\r\n    </g>\r\n    <g id=\"ytick_7\">\r\n     <g id=\"line2d_13\">\r\n      <g>\r\n       <use style=\"stroke:#000000;stroke-width:0.8;\" x=\"69.23125\" xlink:href=\"#m1b3b173221\" y=\"61.146696\"/>\r\n      </g>\r\n     </g>\r\n     <g id=\"text_14\">\r\n      <!-- 0.00012 -->\r\n      <g transform=\"translate(20.878125 64.945915)scale(0.1 -0.1)\">\r\n       <use xlink:href=\"#DejaVuSans-48\"/>\r\n       <use x=\"63.623047\" xlink:href=\"#DejaVuSans-46\"/>\r\n       <use x=\"95.410156\" xlink:href=\"#DejaVuSans-48\"/>\r\n       <use x=\"159.033203\" xlink:href=\"#DejaVuSans-48\"/>\r\n       <use x=\"222.65625\" xlink:href=\"#DejaVuSans-48\"/>\r\n       <use x=\"286.279297\" xlink:href=\"#DejaVuSans-49\"/>\r\n       <use x=\"349.902344\" xlink:href=\"#DejaVuSans-50\"/>\r\n      </g>\r\n     </g>\r\n    </g>\r\n    <g id=\"ytick_8\">\r\n     <g id=\"line2d_14\">\r\n      <g>\r\n       <use style=\"stroke:#000000;stroke-width:0.8;\" x=\"69.23125\" xlink:href=\"#m1b3b173221\" y=\"22.318125\"/>\r\n      </g>\r\n     </g>\r\n     <g id=\"text_15\">\r\n      <!-- 0.00014 -->\r\n      <g transform=\"translate(20.878125 26.117344)scale(0.1 -0.1)\">\r\n       <use xlink:href=\"#DejaVuSans-48\"/>\r\n       <use x=\"63.623047\" xlink:href=\"#DejaVuSans-46\"/>\r\n       <use x=\"95.410156\" xlink:href=\"#DejaVuSans-48\"/>\r\n       <use x=\"159.033203\" xlink:href=\"#DejaVuSans-48\"/>\r\n       <use x=\"222.65625\" xlink:href=\"#DejaVuSans-48\"/>\r\n       <use x=\"286.279297\" xlink:href=\"#DejaVuSans-49\"/>\r\n       <use x=\"349.902344\" xlink:href=\"#DejaVuSans-52\"/>\r\n      </g>\r\n     </g>\r\n    </g>\r\n    <g id=\"text_16\">\r\n     <!-- densidade -->\r\n     <defs>\r\n      <path d=\"M 45.40625 46.390625 \r\nL 45.40625 75.984375 \r\nL 54.390625 75.984375 \r\nL 54.390625 0 \r\nL 45.40625 0 \r\nL 45.40625 8.203125 \r\nQ 42.578125 3.328125 38.25 0.953125 \r\nQ 33.9375 -1.421875 27.875 -1.421875 \r\nQ 17.96875 -1.421875 11.734375 6.484375 \r\nQ 5.515625 14.40625 5.515625 27.296875 \r\nQ 5.515625 40.1875 11.734375 48.09375 \r\nQ 17.96875 56 27.875 56 \r\nQ 33.9375 56 38.25 53.625 \r\nQ 42.578125 51.265625 45.40625 46.390625 \r\nz\r\nM 14.796875 27.296875 \r\nQ 14.796875 17.390625 18.875 11.75 \r\nQ 22.953125 6.109375 30.078125 6.109375 \r\nQ 37.203125 6.109375 41.296875 11.75 \r\nQ 45.40625 17.390625 45.40625 27.296875 \r\nQ 45.40625 37.203125 41.296875 42.84375 \r\nQ 37.203125 48.484375 30.078125 48.484375 \r\nQ 22.953125 48.484375 18.875 42.84375 \r\nQ 14.796875 37.203125 14.796875 27.296875 \r\nz\r\n\" id=\"DejaVuSans-100\"/>\r\n      <path d=\"M 54.890625 33.015625 \r\nL 54.890625 0 \r\nL 45.90625 0 \r\nL 45.90625 32.71875 \r\nQ 45.90625 40.484375 42.875 44.328125 \r\nQ 39.84375 48.1875 33.796875 48.1875 \r\nQ 26.515625 48.1875 22.3125 43.546875 \r\nQ 18.109375 38.921875 18.109375 30.90625 \r\nL 18.109375 0 \r\nL 9.078125 0 \r\nL 9.078125 54.6875 \r\nL 18.109375 54.6875 \r\nL 18.109375 46.1875 \r\nQ 21.34375 51.125 25.703125 53.5625 \r\nQ 30.078125 56 35.796875 56 \r\nQ 45.21875 56 50.046875 50.171875 \r\nQ 54.890625 44.34375 54.890625 33.015625 \r\nz\r\n\" id=\"DejaVuSans-110\"/>\r\n      <path d=\"M 9.421875 54.6875 \r\nL 18.40625 54.6875 \r\nL 18.40625 0 \r\nL 9.421875 0 \r\nz\r\nM 9.421875 75.984375 \r\nL 18.40625 75.984375 \r\nL 18.40625 64.59375 \r\nL 9.421875 64.59375 \r\nz\r\n\" id=\"DejaVuSans-105\"/>\r\n     </defs>\r\n     <g transform=\"translate(14.798438 184.120469)rotate(-90)scale(0.1 -0.1)\">\r\n      <use xlink:href=\"#DejaVuSans-100\"/>\r\n      <use x=\"63.476562\" xlink:href=\"#DejaVuSans-101\"/>\r\n      <use x=\"125\" xlink:href=\"#DejaVuSans-110\"/>\r\n      <use x=\"188.378906\" xlink:href=\"#DejaVuSans-115\"/>\r\n      <use x=\"240.478516\" xlink:href=\"#DejaVuSans-105\"/>\r\n      <use x=\"268.261719\" xlink:href=\"#DejaVuSans-100\"/>\r\n      <use x=\"331.738281\" xlink:href=\"#DejaVuSans-97\"/>\r\n      <use x=\"393.017578\" xlink:href=\"#DejaVuSans-100\"/>\r\n      <use x=\"456.494141\" xlink:href=\"#DejaVuSans-101\"/>\r\n     </g>\r\n    </g>\r\n   </g>\r\n   <g id=\"patch_49\">\r\n    <path d=\"M 69.23125 294.118125 \r\nL 69.23125 22.318125 \r\n\" style=\"fill:none;stroke:#000000;stroke-linecap:square;stroke-linejoin:miter;stroke-width:0.8;\"/>\r\n   </g>\r\n   <g id=\"patch_50\">\r\n    <path d=\"M 850.43125 294.118125 \r\nL 850.43125 22.318125 \r\n\" style=\"fill:none;stroke:#000000;stroke-linecap:square;stroke-linejoin:miter;stroke-width:0.8;\"/>\r\n   </g>\r\n   <g id=\"patch_51\">\r\n    <path d=\"M 69.23125 294.118125 \r\nL 850.43125 294.118125 \r\n\" style=\"fill:none;stroke:#000000;stroke-linecap:square;stroke-linejoin:miter;stroke-width:0.8;\"/>\r\n   </g>\r\n   <g id=\"patch_52\">\r\n    <path d=\"M 69.23125 22.318125 \r\nL 850.43125 22.318125 \r\n\" style=\"fill:none;stroke:#000000;stroke-linecap:square;stroke-linejoin:miter;stroke-width:0.8;\"/>\r\n   </g>\r\n   <g id=\"text_17\">\r\n    <!-- plaquetas -->\r\n    <g transform=\"translate(430.220313 16.318125)scale(0.12 -0.12)\">\r\n     <use xlink:href=\"#DejaVuSans-112\"/>\r\n     <use x=\"63.476562\" xlink:href=\"#DejaVuSans-108\"/>\r\n     <use x=\"91.259766\" xlink:href=\"#DejaVuSans-97\"/>\r\n     <use x=\"152.539062\" xlink:href=\"#DejaVuSans-113\"/>\r\n     <use x=\"216.015625\" xlink:href=\"#DejaVuSans-117\"/>\r\n     <use x=\"279.394531\" xlink:href=\"#DejaVuSans-101\"/>\r\n     <use x=\"340.917969\" xlink:href=\"#DejaVuSans-116\"/>\r\n     <use x=\"380.126953\" xlink:href=\"#DejaVuSans-97\"/>\r\n     <use x=\"441.40625\" xlink:href=\"#DejaVuSans-115\"/>\r\n    </g>\r\n   </g>\r\n   <g id=\"legend_1\">\r\n    <g id=\"patch_53\">\r\n     <path d=\"M 805.06875 59.674375 \r\nL 843.43125 59.674375 \r\nQ 845.43125 59.674375 845.43125 57.674375 \r\nL 845.43125 29.318125 \r\nQ 845.43125 27.318125 843.43125 27.318125 \r\nL 805.06875 27.318125 \r\nQ 803.06875 27.318125 803.06875 29.318125 \r\nL 803.06875 57.674375 \r\nQ 803.06875 59.674375 805.06875 59.674375 \r\nz\r\n\" style=\"fill:#ffffff;opacity:0.8;stroke:#cccccc;stroke-linejoin:miter;\"/>\r\n    </g>\r\n    <g id=\"patch_54\">\r\n     <path d=\"M 807.06875 38.916562 \r\nL 827.06875 38.916562 \r\nL 827.06875 31.916562 \r\nL 807.06875 31.916562 \r\nz\r\n\" style=\"fill:#ff0000;stroke:#ffffff;stroke-linejoin:miter;\"/>\r\n    </g>\r\n    <g id=\"text_18\">\r\n     <!-- 1 -->\r\n     <g transform=\"translate(835.06875 38.916562)scale(0.1 -0.1)\">\r\n      <use xlink:href=\"#DejaVuSans-49\"/>\r\n     </g>\r\n    </g>\r\n    <g id=\"patch_55\">\r\n     <path d=\"M 807.06875 53.594688 \r\nL 827.06875 53.594688 \r\nL 827.06875 46.594688 \r\nL 807.06875 46.594688 \r\nz\r\n\" style=\"fill:#87ceeb;opacity:0.8;stroke:#ffffff;stroke-linejoin:miter;\"/>\r\n    </g>\r\n    <g id=\"text_19\">\r\n     <!-- 0 -->\r\n     <g transform=\"translate(835.06875 53.594688)scale(0.1 -0.1)\">\r\n      <use xlink:href=\"#DejaVuSans-48\"/>\r\n     </g>\r\n    </g>\r\n   </g>\r\n  </g>\r\n </g>\r\n <defs>\r\n  <clipPath id=\"p20b1c0249e\">\r\n   <rect height=\"271.8\" width=\"781.2\" x=\"69.23125\" y=\"22.318125\"/>\r\n  </clipPath>\r\n </defs>\r\n</svg>\r\n",
      "image/png": "[encoded data removed]"
     },
     "metadata": {
      "needs_background": "light"
     }
    }
   ],
   "source": [
    "#Histograma de plaquetas no sangue de sobreviventes e não sobreviventes\n",
    "faixas = np.arange(25000,85000,2500)\n",
    "plt.figure(figsize=(14, 5))\n",
    "plt.hist(dead.platelets, bins=faixas, density=True, color='red', edgecolor='white', linewidth=1)\n",
    "plt.hist(not_dead.platelets, bins=faixas, density=True, color='skyblue', edgecolor='white', linewidth=1, alpha=0.8)\n",
    "plt.legend('10')\n",
    "plt.title('plaquetas')\n",
    "plt.xlabel('plaquetas[kplaquetas/mL]')\n",
    "plt.ylabel('densidade')\n",
    "plt.show()"
   ]
  },
  {
   "source": [
    "Observando o gráfico, não foi possível concluir nehuma análise concreta, uma vez que há muita dispersão e poucos focos dos valores.\n"
   ],
   "cell_type": "markdown",
   "metadata": {}
  },
  {
   "cell_type": "code",
   "execution_count": 110,
   "metadata": {},
   "outputs": [
    {
     "output_type": "display_data",
     "data": {
      "text/plain": "<Figure size 1008x360 with 1 Axes>",
      "image/svg+xml": "<?xml version=\"1.0\" encoding=\"utf-8\" standalone=\"no\"?>\r\n<!DOCTYPE svg PUBLIC \"-//W3C//DTD SVG 1.1//EN\"\r\n  \"http://www.w3.org/Graphics/SVG/1.1/DTD/svg11.dtd\">\r\n<!-- Created with matplotlib (https://matplotlib.org/) -->\r\n<svg height=\"331.674375pt\" version=\"1.1\" viewBox=\"0 0 832.18125 331.674375\" width=\"832.18125pt\" xmlns=\"http://www.w3.org/2000/svg\" xmlns:xlink=\"http://www.w3.org/1999/xlink\">\r\n <defs>\r\n  <style type=\"text/css\">\r\n*{stroke-linecap:butt;stroke-linejoin:round;}\r\n  </style>\r\n </defs>\r\n <g id=\"figure_1\">\r\n  <g id=\"patch_1\">\r\n   <path d=\"M 0 331.674375 \r\nL 832.18125 331.674375 \r\nL 832.18125 0 \r\nL 0 0 \r\nz\r\n\" style=\"fill:none;\"/>\r\n  </g>\r\n  <g id=\"axes_1\">\r\n   <g id=\"patch_2\">\r\n    <path d=\"M 43.78125 294.118125 \r\nL 824.98125 294.118125 \r\nL 824.98125 22.318125 \r\nL 43.78125 22.318125 \r\nz\r\n\" style=\"fill:#ffffff;\"/>\r\n   </g>\r\n   <g id=\"patch_3\">\r\n    <path clip-path=\"url(#pdc2f1e832a)\" d=\"M 79.290341 294.118125 \r\nL 121.065742 294.118125 \r\nL 121.065742 246.250514 \r\nL 79.290341 246.250514 \r\nz\r\n\" style=\"fill:#ff0000;stroke:#ffffff;stroke-linejoin:miter;\"/>\r\n   </g>\r\n   <g id=\"patch_4\">\r\n    <path clip-path=\"url(#pdc2f1e832a)\" d=\"M 121.065742 294.118125 \r\nL 162.841143 294.118125 \r\nL 162.841143 70.735939 \r\nL 121.065742 70.735939 \r\nz\r\n\" style=\"fill:#ff0000;stroke:#ffffff;stroke-linejoin:miter;\"/>\r\n   </g>\r\n   <g id=\"patch_5\">\r\n    <path clip-path=\"url(#pdc2f1e832a)\" d=\"M 162.841143 294.118125 \r\nL 204.616544 294.118125 \r\nL 204.616544 171.789785 \r\nL 162.841143 171.789785 \r\nz\r\n\" style=\"fill:#ff0000;stroke:#ffffff;stroke-linejoin:miter;\"/>\r\n   </g>\r\n   <g id=\"patch_6\">\r\n    <path clip-path=\"url(#pdc2f1e832a)\" d=\"M 204.616544 294.118125 \r\nL 246.391945 294.118125 \r\nL 246.391945 256.887761 \r\nL 204.616544 256.887761 \r\nz\r\n\" style=\"fill:#ff0000;stroke:#ffffff;stroke-linejoin:miter;\"/>\r\n   </g>\r\n   <g id=\"patch_7\">\r\n    <path clip-path=\"url(#pdc2f1e832a)\" d=\"M 246.391945 294.118125 \r\nL 288.167346 294.118125 \r\nL 288.167346 267.525008 \r\nL 246.391945 267.525008 \r\nz\r\n\" style=\"fill:#ff0000;stroke:#ffffff;stroke-linejoin:miter;\"/>\r\n   </g>\r\n   <g id=\"patch_8\">\r\n    <path clip-path=\"url(#pdc2f1e832a)\" d=\"M 288.167346 294.118125 \r\nL 329.942747 294.118125 \r\nL 329.942747 283.480878 \r\nL 288.167346 283.480878 \r\nz\r\n\" style=\"fill:#ff0000;stroke:#ffffff;stroke-linejoin:miter;\"/>\r\n   </g>\r\n   <g id=\"patch_9\">\r\n    <path clip-path=\"url(#pdc2f1e832a)\" d=\"M 329.942747 294.118125 \r\nL 371.718148 294.118125 \r\nL 371.718148 283.480878 \r\nL 329.942747 283.480878 \r\nz\r\n\" style=\"fill:#ff0000;stroke:#ffffff;stroke-linejoin:miter;\"/>\r\n   </g>\r\n   <g id=\"patch_10\">\r\n    <path clip-path=\"url(#pdc2f1e832a)\" d=\"M 371.718148 294.118125 \r\nL 413.493549 294.118125 \r\nL 413.493549 283.480878 \r\nL 371.718148 283.480878 \r\nz\r\n\" style=\"fill:#ff0000;stroke:#ffffff;stroke-linejoin:miter;\"/>\r\n   </g>\r\n   <g id=\"patch_11\">\r\n    <path clip-path=\"url(#pdc2f1e832a)\" d=\"M 413.493549 294.118125 \r\nL 455.268951 294.118125 \r\nL 455.268951 294.118125 \r\nL 413.493549 294.118125 \r\nz\r\n\" style=\"fill:#ff0000;stroke:#ffffff;stroke-linejoin:miter;\"/>\r\n   </g>\r\n   <g id=\"patch_12\">\r\n    <path clip-path=\"url(#pdc2f1e832a)\" d=\"M 455.268951 294.118125 \r\nL 497.044352 294.118125 \r\nL 497.044352 294.118125 \r\nL 455.268951 294.118125 \r\nz\r\n\" style=\"fill:#ff0000;stroke:#ffffff;stroke-linejoin:miter;\"/>\r\n   </g>\r\n   <g id=\"patch_13\">\r\n    <path clip-path=\"url(#pdc2f1e832a)\" d=\"M 497.044352 294.118125 \r\nL 538.819753 294.118125 \r\nL 538.819753 288.799502 \r\nL 497.044352 288.799502 \r\nz\r\n\" style=\"fill:#ff0000;stroke:#ffffff;stroke-linejoin:miter;\"/>\r\n   </g>\r\n   <g id=\"patch_14\">\r\n    <path clip-path=\"url(#pdc2f1e832a)\" d=\"M 538.819753 294.118125 \r\nL 580.595154 294.118125 \r\nL 580.595154 294.118125 \r\nL 538.819753 294.118125 \r\nz\r\n\" style=\"fill:#ff0000;stroke:#ffffff;stroke-linejoin:miter;\"/>\r\n   </g>\r\n   <g id=\"patch_15\">\r\n    <path clip-path=\"url(#pdc2f1e832a)\" d=\"M 580.595154 294.118125 \r\nL 622.370555 294.118125 \r\nL 622.370555 288.799502 \r\nL 580.595154 288.799502 \r\nz\r\n\" style=\"fill:#ff0000;stroke:#ffffff;stroke-linejoin:miter;\"/>\r\n   </g>\r\n   <g id=\"patch_16\">\r\n    <path clip-path=\"url(#pdc2f1e832a)\" d=\"M 622.370555 294.118125 \r\nL 664.145956 294.118125 \r\nL 664.145956 294.118125 \r\nL 622.370555 294.118125 \r\nz\r\n\" style=\"fill:#ff0000;stroke:#ffffff;stroke-linejoin:miter;\"/>\r\n   </g>\r\n   <g id=\"patch_17\">\r\n    <path clip-path=\"url(#pdc2f1e832a)\" d=\"M 664.145956 294.118125 \r\nL 705.921357 294.118125 \r\nL 705.921357 294.118125 \r\nL 664.145956 294.118125 \r\nz\r\n\" style=\"fill:#ff0000;stroke:#ffffff;stroke-linejoin:miter;\"/>\r\n   </g>\r\n   <g id=\"patch_18\">\r\n    <path clip-path=\"url(#pdc2f1e832a)\" d=\"M 705.921357 294.118125 \r\nL 747.696758 294.118125 \r\nL 747.696758 294.118125 \r\nL 705.921357 294.118125 \r\nz\r\n\" style=\"fill:#ff0000;stroke:#ffffff;stroke-linejoin:miter;\"/>\r\n   </g>\r\n   <g id=\"patch_19\">\r\n    <path clip-path=\"url(#pdc2f1e832a)\" d=\"M 747.696758 294.118125 \r\nL 789.472159 294.118125 \r\nL 789.472159 288.799502 \r\nL 747.696758 288.799502 \r\nz\r\n\" style=\"fill:#ff0000;stroke:#ffffff;stroke-linejoin:miter;\"/>\r\n   </g>\r\n   <g id=\"patch_20\">\r\n    <path clip-path=\"url(#pdc2f1e832a)\" d=\"M 79.290341 294.118125 \r\nL 121.065742 294.118125 \r\nL 121.065742 114.909334 \r\nL 79.290341 114.909334 \r\nz\r\n\" style=\"fill:#87ceeb;opacity:0.8;stroke:#ffffff;stroke-linejoin:miter;\"/>\r\n   </g>\r\n   <g id=\"patch_21\">\r\n    <path clip-path=\"url(#pdc2f1e832a)\" d=\"M 121.065742 294.118125 \r\nL 162.841143 294.118125 \r\nL 162.841143 35.260982 \r\nL 121.065742 35.260982 \r\nz\r\n\" style=\"fill:#87ceeb;opacity:0.8;stroke:#ffffff;stroke-linejoin:miter;\"/>\r\n   </g>\r\n   <g id=\"patch_22\">\r\n    <path clip-path=\"url(#pdc2f1e832a)\" d=\"M 162.841143 294.118125 \r\nL 204.616544 294.118125 \r\nL 204.616544 259.271971 \r\nL 162.841143 259.271971 \r\nz\r\n\" style=\"fill:#87ceeb;opacity:0.8;stroke:#ffffff;stroke-linejoin:miter;\"/>\r\n   </g>\r\n   <g id=\"patch_23\">\r\n    <path clip-path=\"url(#pdc2f1e832a)\" d=\"M 204.616544 294.118125 \r\nL 246.391945 294.118125 \r\nL 246.391945 281.67307 \r\nL 204.616544 281.67307 \r\nz\r\n\" style=\"fill:#87ceeb;opacity:0.8;stroke:#ffffff;stroke-linejoin:miter;\"/>\r\n   </g>\r\n   <g id=\"patch_24\">\r\n    <path clip-path=\"url(#pdc2f1e832a)\" d=\"M 246.391945 294.118125 \r\nL 288.167346 294.118125 \r\nL 288.167346 289.140103 \r\nL 246.391945 289.140103 \r\nz\r\n\" style=\"fill:#87ceeb;opacity:0.8;stroke:#ffffff;stroke-linejoin:miter;\"/>\r\n   </g>\r\n   <g id=\"patch_25\">\r\n    <path clip-path=\"url(#pdc2f1e832a)\" d=\"M 288.167346 294.118125 \r\nL 329.942747 294.118125 \r\nL 329.942747 289.140103 \r\nL 288.167346 289.140103 \r\nz\r\n\" style=\"fill:#87ceeb;opacity:0.8;stroke:#ffffff;stroke-linejoin:miter;\"/>\r\n   </g>\r\n   <g id=\"patch_26\">\r\n    <path clip-path=\"url(#pdc2f1e832a)\" d=\"M 329.942747 294.118125 \r\nL 371.718148 294.118125 \r\nL 371.718148 289.140103 \r\nL 329.942747 289.140103 \r\nz\r\n\" style=\"fill:#87ceeb;opacity:0.8;stroke:#ffffff;stroke-linejoin:miter;\"/>\r\n   </g>\r\n   <g id=\"patch_27\">\r\n    <path clip-path=\"url(#pdc2f1e832a)\" d=\"M 371.718148 294.118125 \r\nL 413.493549 294.118125 \r\nL 413.493549 294.118125 \r\nL 371.718148 294.118125 \r\nz\r\n\" style=\"fill:#87ceeb;opacity:0.8;stroke:#ffffff;stroke-linejoin:miter;\"/>\r\n   </g>\r\n   <g id=\"patch_28\">\r\n    <path clip-path=\"url(#pdc2f1e832a)\" d=\"M 413.493549 294.118125 \r\nL 455.268951 294.118125 \r\nL 455.268951 294.118125 \r\nL 413.493549 294.118125 \r\nz\r\n\" style=\"fill:#87ceeb;opacity:0.8;stroke:#ffffff;stroke-linejoin:miter;\"/>\r\n   </g>\r\n   <g id=\"patch_29\">\r\n    <path clip-path=\"url(#pdc2f1e832a)\" d=\"M 455.268951 294.118125 \r\nL 497.044352 294.118125 \r\nL 497.044352 291.629114 \r\nL 455.268951 291.629114 \r\nz\r\n\" style=\"fill:#87ceeb;opacity:0.8;stroke:#ffffff;stroke-linejoin:miter;\"/>\r\n   </g>\r\n   <g id=\"patch_30\">\r\n    <path clip-path=\"url(#pdc2f1e832a)\" d=\"M 497.044352 294.118125 \r\nL 538.819753 294.118125 \r\nL 538.819753 294.118125 \r\nL 497.044352 294.118125 \r\nz\r\n\" style=\"fill:#87ceeb;opacity:0.8;stroke:#ffffff;stroke-linejoin:miter;\"/>\r\n   </g>\r\n   <g id=\"patch_31\">\r\n    <path clip-path=\"url(#pdc2f1e832a)\" d=\"M 538.819753 294.118125 \r\nL 580.595154 294.118125 \r\nL 580.595154 291.629114 \r\nL 538.819753 291.629114 \r\nz\r\n\" style=\"fill:#87ceeb;opacity:0.8;stroke:#ffffff;stroke-linejoin:miter;\"/>\r\n   </g>\r\n   <g id=\"patch_32\">\r\n    <path clip-path=\"url(#pdc2f1e832a)\" d=\"M 580.595154 294.118125 \r\nL 622.370555 294.118125 \r\nL 622.370555 294.118125 \r\nL 580.595154 294.118125 \r\nz\r\n\" style=\"fill:#87ceeb;opacity:0.8;stroke:#ffffff;stroke-linejoin:miter;\"/>\r\n   </g>\r\n   <g id=\"patch_33\">\r\n    <path clip-path=\"url(#pdc2f1e832a)\" d=\"M 622.370555 294.118125 \r\nL 664.145956 294.118125 \r\nL 664.145956 294.118125 \r\nL 622.370555 294.118125 \r\nz\r\n\" style=\"fill:#87ceeb;opacity:0.8;stroke:#ffffff;stroke-linejoin:miter;\"/>\r\n   </g>\r\n   <g id=\"patch_34\">\r\n    <path clip-path=\"url(#pdc2f1e832a)\" d=\"M 664.145956 294.118125 \r\nL 705.921357 294.118125 \r\nL 705.921357 294.118125 \r\nL 664.145956 294.118125 \r\nz\r\n\" style=\"fill:#87ceeb;opacity:0.8;stroke:#ffffff;stroke-linejoin:miter;\"/>\r\n   </g>\r\n   <g id=\"patch_35\">\r\n    <path clip-path=\"url(#pdc2f1e832a)\" d=\"M 705.921357 294.118125 \r\nL 747.696758 294.118125 \r\nL 747.696758 294.118125 \r\nL 705.921357 294.118125 \r\nz\r\n\" style=\"fill:#87ceeb;opacity:0.8;stroke:#ffffff;stroke-linejoin:miter;\"/>\r\n   </g>\r\n   <g id=\"patch_36\">\r\n    <path clip-path=\"url(#pdc2f1e832a)\" d=\"M 747.696758 294.118125 \r\nL 789.472159 294.118125 \r\nL 789.472159 294.118125 \r\nL 747.696758 294.118125 \r\nz\r\n\" style=\"fill:#87ceeb;opacity:0.8;stroke:#ffffff;stroke-linejoin:miter;\"/>\r\n   </g>\r\n   <g id=\"matplotlib.axis_1\">\r\n    <g id=\"xtick_1\">\r\n     <g id=\"line2d_1\">\r\n      <defs>\r\n       <path d=\"M 0 0 \r\nL 0 3.5 \r\n\" id=\"m5322585644\" style=\"stroke:#000000;stroke-width:0.8;\"/>\r\n      </defs>\r\n      <g>\r\n       <use style=\"stroke:#000000;stroke-width:0.8;\" x=\"204.616544\" xlink:href=\"#m5322585644\" y=\"294.118125\"/>\r\n      </g>\r\n     </g>\r\n     <g id=\"text_1\">\r\n      <!-- 2 -->\r\n      <defs>\r\n       <path d=\"M 19.1875 8.296875 \r\nL 53.609375 8.296875 \r\nL 53.609375 0 \r\nL 7.328125 0 \r\nL 7.328125 8.296875 \r\nQ 12.9375 14.109375 22.625 23.890625 \r\nQ 32.328125 33.6875 34.8125 36.53125 \r\nQ 39.546875 41.84375 41.421875 45.53125 \r\nQ 43.3125 49.21875 43.3125 52.78125 \r\nQ 43.3125 58.59375 39.234375 62.25 \r\nQ 35.15625 65.921875 28.609375 65.921875 \r\nQ 23.96875 65.921875 18.8125 64.3125 \r\nQ 13.671875 62.703125 7.8125 59.421875 \r\nL 7.8125 69.390625 \r\nQ 13.765625 71.78125 18.9375 73 \r\nQ 24.125 74.21875 28.421875 74.21875 \r\nQ 39.75 74.21875 46.484375 68.546875 \r\nQ 53.21875 62.890625 53.21875 53.421875 \r\nQ 53.21875 48.921875 51.53125 44.890625 \r\nQ 49.859375 40.875 45.40625 35.40625 \r\nQ 44.1875 33.984375 37.640625 27.21875 \r\nQ 31.109375 20.453125 19.1875 8.296875 \r\nz\r\n\" id=\"DejaVuSans-50\"/>\r\n      </defs>\r\n      <g transform=\"translate(201.435294 308.716563)scale(0.1 -0.1)\">\r\n       <use xlink:href=\"#DejaVuSans-50\"/>\r\n      </g>\r\n     </g>\r\n    </g>\r\n    <g id=\"xtick_2\">\r\n     <g id=\"line2d_2\">\r\n      <g>\r\n       <use style=\"stroke:#000000;stroke-width:0.8;\" x=\"371.718148\" xlink:href=\"#m5322585644\" y=\"294.118125\"/>\r\n      </g>\r\n     </g>\r\n     <g id=\"text_2\">\r\n      <!-- 4 -->\r\n      <defs>\r\n       <path d=\"M 37.796875 64.3125 \r\nL 12.890625 25.390625 \r\nL 37.796875 25.390625 \r\nz\r\nM 35.203125 72.90625 \r\nL 47.609375 72.90625 \r\nL 47.609375 25.390625 \r\nL 58.015625 25.390625 \r\nL 58.015625 17.1875 \r\nL 47.609375 17.1875 \r\nL 47.609375 0 \r\nL 37.796875 0 \r\nL 37.796875 17.1875 \r\nL 4.890625 17.1875 \r\nL 4.890625 26.703125 \r\nz\r\n\" id=\"DejaVuSans-52\"/>\r\n      </defs>\r\n      <g transform=\"translate(368.536898 308.716563)scale(0.1 -0.1)\">\r\n       <use xlink:href=\"#DejaVuSans-52\"/>\r\n      </g>\r\n     </g>\r\n    </g>\r\n    <g id=\"xtick_3\">\r\n     <g id=\"line2d_3\">\r\n      <g>\r\n       <use style=\"stroke:#000000;stroke-width:0.8;\" x=\"538.819753\" xlink:href=\"#m5322585644\" y=\"294.118125\"/>\r\n      </g>\r\n     </g>\r\n     <g id=\"text_3\">\r\n      <!-- 6 -->\r\n      <defs>\r\n       <path d=\"M 33.015625 40.375 \r\nQ 26.375 40.375 22.484375 35.828125 \r\nQ 18.609375 31.296875 18.609375 23.390625 \r\nQ 18.609375 15.53125 22.484375 10.953125 \r\nQ 26.375 6.390625 33.015625 6.390625 \r\nQ 39.65625 6.390625 43.53125 10.953125 \r\nQ 47.40625 15.53125 47.40625 23.390625 \r\nQ 47.40625 31.296875 43.53125 35.828125 \r\nQ 39.65625 40.375 33.015625 40.375 \r\nz\r\nM 52.59375 71.296875 \r\nL 52.59375 62.3125 \r\nQ 48.875 64.0625 45.09375 64.984375 \r\nQ 41.3125 65.921875 37.59375 65.921875 \r\nQ 27.828125 65.921875 22.671875 59.328125 \r\nQ 17.53125 52.734375 16.796875 39.40625 \r\nQ 19.671875 43.65625 24.015625 45.921875 \r\nQ 28.375 48.1875 33.59375 48.1875 \r\nQ 44.578125 48.1875 50.953125 41.515625 \r\nQ 57.328125 34.859375 57.328125 23.390625 \r\nQ 57.328125 12.15625 50.6875 5.359375 \r\nQ 44.046875 -1.421875 33.015625 -1.421875 \r\nQ 20.359375 -1.421875 13.671875 8.265625 \r\nQ 6.984375 17.96875 6.984375 36.375 \r\nQ 6.984375 53.65625 15.1875 63.9375 \r\nQ 23.390625 74.21875 37.203125 74.21875 \r\nQ 40.921875 74.21875 44.703125 73.484375 \r\nQ 48.484375 72.75 52.59375 71.296875 \r\nz\r\n\" id=\"DejaVuSans-54\"/>\r\n      </defs>\r\n      <g transform=\"translate(535.638503 308.716563)scale(0.1 -0.1)\">\r\n       <use xlink:href=\"#DejaVuSans-54\"/>\r\n      </g>\r\n     </g>\r\n    </g>\r\n    <g id=\"xtick_4\">\r\n     <g id=\"line2d_4\">\r\n      <g>\r\n       <use style=\"stroke:#000000;stroke-width:0.8;\" x=\"705.921357\" xlink:href=\"#m5322585644\" y=\"294.118125\"/>\r\n      </g>\r\n     </g>\r\n     <g id=\"text_4\">\r\n      <!-- 8 -->\r\n      <defs>\r\n       <path d=\"M 31.78125 34.625 \r\nQ 24.75 34.625 20.71875 30.859375 \r\nQ 16.703125 27.09375 16.703125 20.515625 \r\nQ 16.703125 13.921875 20.71875 10.15625 \r\nQ 24.75 6.390625 31.78125 6.390625 \r\nQ 38.8125 6.390625 42.859375 10.171875 \r\nQ 46.921875 13.96875 46.921875 20.515625 \r\nQ 46.921875 27.09375 42.890625 30.859375 \r\nQ 38.875 34.625 31.78125 34.625 \r\nz\r\nM 21.921875 38.8125 \r\nQ 15.578125 40.375 12.03125 44.71875 \r\nQ 8.5 49.078125 8.5 55.328125 \r\nQ 8.5 64.0625 14.71875 69.140625 \r\nQ 20.953125 74.21875 31.78125 74.21875 \r\nQ 42.671875 74.21875 48.875 69.140625 \r\nQ 55.078125 64.0625 55.078125 55.328125 \r\nQ 55.078125 49.078125 51.53125 44.71875 \r\nQ 48 40.375 41.703125 38.8125 \r\nQ 48.828125 37.15625 52.796875 32.3125 \r\nQ 56.78125 27.484375 56.78125 20.515625 \r\nQ 56.78125 9.90625 50.3125 4.234375 \r\nQ 43.84375 -1.421875 31.78125 -1.421875 \r\nQ 19.734375 -1.421875 13.25 4.234375 \r\nQ 6.78125 9.90625 6.78125 20.515625 \r\nQ 6.78125 27.484375 10.78125 32.3125 \r\nQ 14.796875 37.15625 21.921875 38.8125 \r\nz\r\nM 18.3125 54.390625 \r\nQ 18.3125 48.734375 21.84375 45.5625 \r\nQ 25.390625 42.390625 31.78125 42.390625 \r\nQ 38.140625 42.390625 41.71875 45.5625 \r\nQ 45.3125 48.734375 45.3125 54.390625 \r\nQ 45.3125 60.0625 41.71875 63.234375 \r\nQ 38.140625 66.40625 31.78125 66.40625 \r\nQ 25.390625 66.40625 21.84375 63.234375 \r\nQ 18.3125 60.0625 18.3125 54.390625 \r\nz\r\n\" id=\"DejaVuSans-56\"/>\r\n      </defs>\r\n      <g transform=\"translate(702.740107 308.716563)scale(0.1 -0.1)\">\r\n       <use xlink:href=\"#DejaVuSans-56\"/>\r\n      </g>\r\n     </g>\r\n    </g>\r\n    <g id=\"text_5\">\r\n     <!-- creatinina[mg/dL] -->\r\n     <defs>\r\n      <path d=\"M 48.78125 52.59375 \r\nL 48.78125 44.1875 \r\nQ 44.96875 46.296875 41.140625 47.34375 \r\nQ 37.3125 48.390625 33.40625 48.390625 \r\nQ 24.65625 48.390625 19.8125 42.84375 \r\nQ 14.984375 37.3125 14.984375 27.296875 \r\nQ 14.984375 17.28125 19.8125 11.734375 \r\nQ 24.65625 6.203125 33.40625 6.203125 \r\nQ 37.3125 6.203125 41.140625 7.25 \r\nQ 44.96875 8.296875 48.78125 10.40625 \r\nL 48.78125 2.09375 \r\nQ 45.015625 0.34375 40.984375 -0.53125 \r\nQ 36.96875 -1.421875 32.421875 -1.421875 \r\nQ 20.0625 -1.421875 12.78125 6.34375 \r\nQ 5.515625 14.109375 5.515625 27.296875 \r\nQ 5.515625 40.671875 12.859375 48.328125 \r\nQ 20.21875 56 33.015625 56 \r\nQ 37.15625 56 41.109375 55.140625 \r\nQ 45.0625 54.296875 48.78125 52.59375 \r\nz\r\n\" id=\"DejaVuSans-99\"/>\r\n      <path d=\"M 41.109375 46.296875 \r\nQ 39.59375 47.171875 37.8125 47.578125 \r\nQ 36.03125 48 33.890625 48 \r\nQ 26.265625 48 22.1875 43.046875 \r\nQ 18.109375 38.09375 18.109375 28.8125 \r\nL 18.109375 0 \r\nL 9.078125 0 \r\nL 9.078125 54.6875 \r\nL 18.109375 54.6875 \r\nL 18.109375 46.1875 \r\nQ 20.953125 51.171875 25.484375 53.578125 \r\nQ 30.03125 56 36.53125 56 \r\nQ 37.453125 56 38.578125 55.875 \r\nQ 39.703125 55.765625 41.0625 55.515625 \r\nz\r\n\" id=\"DejaVuSans-114\"/>\r\n      <path d=\"M 56.203125 29.59375 \r\nL 56.203125 25.203125 \r\nL 14.890625 25.203125 \r\nQ 15.484375 15.921875 20.484375 11.0625 \r\nQ 25.484375 6.203125 34.421875 6.203125 \r\nQ 39.59375 6.203125 44.453125 7.46875 \r\nQ 49.3125 8.734375 54.109375 11.28125 \r\nL 54.109375 2.78125 \r\nQ 49.265625 0.734375 44.1875 -0.34375 \r\nQ 39.109375 -1.421875 33.890625 -1.421875 \r\nQ 20.796875 -1.421875 13.15625 6.1875 \r\nQ 5.515625 13.8125 5.515625 26.8125 \r\nQ 5.515625 40.234375 12.765625 48.109375 \r\nQ 20.015625 56 32.328125 56 \r\nQ 43.359375 56 49.78125 48.890625 \r\nQ 56.203125 41.796875 56.203125 29.59375 \r\nz\r\nM 47.21875 32.234375 \r\nQ 47.125 39.59375 43.09375 43.984375 \r\nQ 39.0625 48.390625 32.421875 48.390625 \r\nQ 24.90625 48.390625 20.390625 44.140625 \r\nQ 15.875 39.890625 15.1875 32.171875 \r\nz\r\n\" id=\"DejaVuSans-101\"/>\r\n      <path d=\"M 34.28125 27.484375 \r\nQ 23.390625 27.484375 19.1875 25 \r\nQ 14.984375 22.515625 14.984375 16.5 \r\nQ 14.984375 11.71875 18.140625 8.90625 \r\nQ 21.296875 6.109375 26.703125 6.109375 \r\nQ 34.1875 6.109375 38.703125 11.40625 \r\nQ 43.21875 16.703125 43.21875 25.484375 \r\nL 43.21875 27.484375 \r\nz\r\nM 52.203125 31.203125 \r\nL 52.203125 0 \r\nL 43.21875 0 \r\nL 43.21875 8.296875 \r\nQ 40.140625 3.328125 35.546875 0.953125 \r\nQ 30.953125 -1.421875 24.3125 -1.421875 \r\nQ 15.921875 -1.421875 10.953125 3.296875 \r\nQ 6 8.015625 6 15.921875 \r\nQ 6 25.140625 12.171875 29.828125 \r\nQ 18.359375 34.515625 30.609375 34.515625 \r\nL 43.21875 34.515625 \r\nL 43.21875 35.40625 \r\nQ 43.21875 41.609375 39.140625 45 \r\nQ 35.0625 48.390625 27.6875 48.390625 \r\nQ 23 48.390625 18.546875 47.265625 \r\nQ 14.109375 46.140625 10.015625 43.890625 \r\nL 10.015625 52.203125 \r\nQ 14.9375 54.109375 19.578125 55.046875 \r\nQ 24.21875 56 28.609375 56 \r\nQ 40.484375 56 46.34375 49.84375 \r\nQ 52.203125 43.703125 52.203125 31.203125 \r\nz\r\n\" id=\"DejaVuSans-97\"/>\r\n      <path d=\"M 18.3125 70.21875 \r\nL 18.3125 54.6875 \r\nL 36.8125 54.6875 \r\nL 36.8125 47.703125 \r\nL 18.3125 47.703125 \r\nL 18.3125 18.015625 \r\nQ 18.3125 11.328125 20.140625 9.421875 \r\nQ 21.96875 7.515625 27.59375 7.515625 \r\nL 36.8125 7.515625 \r\nL 36.8125 0 \r\nL 27.59375 0 \r\nQ 17.1875 0 13.234375 3.875 \r\nQ 9.28125 7.765625 9.28125 18.015625 \r\nL 9.28125 47.703125 \r\nL 2.6875 47.703125 \r\nL 2.6875 54.6875 \r\nL 9.28125 54.6875 \r\nL 9.28125 70.21875 \r\nz\r\n\" id=\"DejaVuSans-116\"/>\r\n      <path d=\"M 9.421875 54.6875 \r\nL 18.40625 54.6875 \r\nL 18.40625 0 \r\nL 9.421875 0 \r\nz\r\nM 9.421875 75.984375 \r\nL 18.40625 75.984375 \r\nL 18.40625 64.59375 \r\nL 9.421875 64.59375 \r\nz\r\n\" id=\"DejaVuSans-105\"/>\r\n      <path d=\"M 54.890625 33.015625 \r\nL 54.890625 0 \r\nL 45.90625 0 \r\nL 45.90625 32.71875 \r\nQ 45.90625 40.484375 42.875 44.328125 \r\nQ 39.84375 48.1875 33.796875 48.1875 \r\nQ 26.515625 48.1875 22.3125 43.546875 \r\nQ 18.109375 38.921875 18.109375 30.90625 \r\nL 18.109375 0 \r\nL 9.078125 0 \r\nL 9.078125 54.6875 \r\nL 18.109375 54.6875 \r\nL 18.109375 46.1875 \r\nQ 21.34375 51.125 25.703125 53.5625 \r\nQ 30.078125 56 35.796875 56 \r\nQ 45.21875 56 50.046875 50.171875 \r\nQ 54.890625 44.34375 54.890625 33.015625 \r\nz\r\n\" id=\"DejaVuSans-110\"/>\r\n      <path d=\"M 8.59375 75.984375 \r\nL 29.296875 75.984375 \r\nL 29.296875 69 \r\nL 17.578125 69 \r\nL 17.578125 -6.203125 \r\nL 29.296875 -6.203125 \r\nL 29.296875 -13.1875 \r\nL 8.59375 -13.1875 \r\nz\r\n\" id=\"DejaVuSans-91\"/>\r\n      <path d=\"M 52 44.1875 \r\nQ 55.375 50.25 60.0625 53.125 \r\nQ 64.75 56 71.09375 56 \r\nQ 79.640625 56 84.28125 50.015625 \r\nQ 88.921875 44.046875 88.921875 33.015625 \r\nL 88.921875 0 \r\nL 79.890625 0 \r\nL 79.890625 32.71875 \r\nQ 79.890625 40.578125 77.09375 44.375 \r\nQ 74.3125 48.1875 68.609375 48.1875 \r\nQ 61.625 48.1875 57.5625 43.546875 \r\nQ 53.515625 38.921875 53.515625 30.90625 \r\nL 53.515625 0 \r\nL 44.484375 0 \r\nL 44.484375 32.71875 \r\nQ 44.484375 40.625 41.703125 44.40625 \r\nQ 38.921875 48.1875 33.109375 48.1875 \r\nQ 26.21875 48.1875 22.15625 43.53125 \r\nQ 18.109375 38.875 18.109375 30.90625 \r\nL 18.109375 0 \r\nL 9.078125 0 \r\nL 9.078125 54.6875 \r\nL 18.109375 54.6875 \r\nL 18.109375 46.1875 \r\nQ 21.1875 51.21875 25.484375 53.609375 \r\nQ 29.78125 56 35.6875 56 \r\nQ 41.65625 56 45.828125 52.96875 \r\nQ 50 49.953125 52 44.1875 \r\nz\r\n\" id=\"DejaVuSans-109\"/>\r\n      <path d=\"M 45.40625 27.984375 \r\nQ 45.40625 37.75 41.375 43.109375 \r\nQ 37.359375 48.484375 30.078125 48.484375 \r\nQ 22.859375 48.484375 18.828125 43.109375 \r\nQ 14.796875 37.75 14.796875 27.984375 \r\nQ 14.796875 18.265625 18.828125 12.890625 \r\nQ 22.859375 7.515625 30.078125 7.515625 \r\nQ 37.359375 7.515625 41.375 12.890625 \r\nQ 45.40625 18.265625 45.40625 27.984375 \r\nz\r\nM 54.390625 6.78125 \r\nQ 54.390625 -7.171875 48.1875 -13.984375 \r\nQ 42 -20.796875 29.203125 -20.796875 \r\nQ 24.46875 -20.796875 20.265625 -20.09375 \r\nQ 16.0625 -19.390625 12.109375 -17.921875 \r\nL 12.109375 -9.1875 \r\nQ 16.0625 -11.328125 19.921875 -12.34375 \r\nQ 23.78125 -13.375 27.78125 -13.375 \r\nQ 36.625 -13.375 41.015625 -8.765625 \r\nQ 45.40625 -4.15625 45.40625 5.171875 \r\nL 45.40625 9.625 \r\nQ 42.625 4.78125 38.28125 2.390625 \r\nQ 33.9375 0 27.875 0 \r\nQ 17.828125 0 11.671875 7.65625 \r\nQ 5.515625 15.328125 5.515625 27.984375 \r\nQ 5.515625 40.671875 11.671875 48.328125 \r\nQ 17.828125 56 27.875 56 \r\nQ 33.9375 56 38.28125 53.609375 \r\nQ 42.625 51.21875 45.40625 46.390625 \r\nL 45.40625 54.6875 \r\nL 54.390625 54.6875 \r\nz\r\n\" id=\"DejaVuSans-103\"/>\r\n      <path d=\"M 25.390625 72.90625 \r\nL 33.6875 72.90625 \r\nL 8.296875 -9.28125 \r\nL 0 -9.28125 \r\nz\r\n\" id=\"DejaVuSans-47\"/>\r\n      <path d=\"M 45.40625 46.390625 \r\nL 45.40625 75.984375 \r\nL 54.390625 75.984375 \r\nL 54.390625 0 \r\nL 45.40625 0 \r\nL 45.40625 8.203125 \r\nQ 42.578125 3.328125 38.25 0.953125 \r\nQ 33.9375 -1.421875 27.875 -1.421875 \r\nQ 17.96875 -1.421875 11.734375 6.484375 \r\nQ 5.515625 14.40625 5.515625 27.296875 \r\nQ 5.515625 40.1875 11.734375 48.09375 \r\nQ 17.96875 56 27.875 56 \r\nQ 33.9375 56 38.25 53.625 \r\nQ 42.578125 51.265625 45.40625 46.390625 \r\nz\r\nM 14.796875 27.296875 \r\nQ 14.796875 17.390625 18.875 11.75 \r\nQ 22.953125 6.109375 30.078125 6.109375 \r\nQ 37.203125 6.109375 41.296875 11.75 \r\nQ 45.40625 17.390625 45.40625 27.296875 \r\nQ 45.40625 37.203125 41.296875 42.84375 \r\nQ 37.203125 48.484375 30.078125 48.484375 \r\nQ 22.953125 48.484375 18.875 42.84375 \r\nQ 14.796875 37.203125 14.796875 27.296875 \r\nz\r\n\" id=\"DejaVuSans-100\"/>\r\n      <path d=\"M 9.8125 72.90625 \r\nL 19.671875 72.90625 \r\nL 19.671875 8.296875 \r\nL 55.171875 8.296875 \r\nL 55.171875 0 \r\nL 9.8125 0 \r\nz\r\n\" id=\"DejaVuSans-76\"/>\r\n      <path d=\"M 30.421875 75.984375 \r\nL 30.421875 -13.1875 \r\nL 9.71875 -13.1875 \r\nL 9.71875 -6.203125 \r\nL 21.390625 -6.203125 \r\nL 21.390625 69 \r\nL 9.71875 69 \r\nL 9.71875 75.984375 \r\nz\r\n\" id=\"DejaVuSans-93\"/>\r\n     </defs>\r\n     <g transform=\"translate(389.817969 322.394687)scale(0.1 -0.1)\">\r\n      <use xlink:href=\"#DejaVuSans-99\"/>\r\n      <use x=\"54.980469\" xlink:href=\"#DejaVuSans-114\"/>\r\n      <use x=\"93.84375\" xlink:href=\"#DejaVuSans-101\"/>\r\n      <use x=\"155.367188\" xlink:href=\"#DejaVuSans-97\"/>\r\n      <use x=\"216.646484\" xlink:href=\"#DejaVuSans-116\"/>\r\n      <use x=\"255.855469\" xlink:href=\"#DejaVuSans-105\"/>\r\n      <use x=\"283.638672\" xlink:href=\"#DejaVuSans-110\"/>\r\n      <use x=\"347.017578\" xlink:href=\"#DejaVuSans-105\"/>\r\n      <use x=\"374.800781\" xlink:href=\"#DejaVuSans-110\"/>\r\n      <use x=\"438.179688\" xlink:href=\"#DejaVuSans-97\"/>\r\n      <use x=\"499.458984\" xlink:href=\"#DejaVuSans-91\"/>\r\n      <use x=\"538.472656\" xlink:href=\"#DejaVuSans-109\"/>\r\n      <use x=\"635.884766\" xlink:href=\"#DejaVuSans-103\"/>\r\n      <use x=\"699.361328\" xlink:href=\"#DejaVuSans-47\"/>\r\n      <use x=\"733.052734\" xlink:href=\"#DejaVuSans-100\"/>\r\n      <use x=\"796.529297\" xlink:href=\"#DejaVuSans-76\"/>\r\n      <use x=\"852.242188\" xlink:href=\"#DejaVuSans-93\"/>\r\n     </g>\r\n    </g>\r\n   </g>\r\n   <g id=\"matplotlib.axis_2\">\r\n    <g id=\"ytick_1\">\r\n     <g id=\"line2d_5\">\r\n      <defs>\r\n       <path d=\"M 0 0 \r\nL -3.5 0 \r\n\" id=\"m6099ef7c7b\" style=\"stroke:#000000;stroke-width:0.8;\"/>\r\n      </defs>\r\n      <g>\r\n       <use style=\"stroke:#000000;stroke-width:0.8;\" x=\"43.78125\" xlink:href=\"#m6099ef7c7b\" y=\"294.118125\"/>\r\n      </g>\r\n     </g>\r\n     <g id=\"text_6\">\r\n      <!-- 0.0 -->\r\n      <defs>\r\n       <path d=\"M 31.78125 66.40625 \r\nQ 24.171875 66.40625 20.328125 58.90625 \r\nQ 16.5 51.421875 16.5 36.375 \r\nQ 16.5 21.390625 20.328125 13.890625 \r\nQ 24.171875 6.390625 31.78125 6.390625 \r\nQ 39.453125 6.390625 43.28125 13.890625 \r\nQ 47.125 21.390625 47.125 36.375 \r\nQ 47.125 51.421875 43.28125 58.90625 \r\nQ 39.453125 66.40625 31.78125 66.40625 \r\nz\r\nM 31.78125 74.21875 \r\nQ 44.046875 74.21875 50.515625 64.515625 \r\nQ 56.984375 54.828125 56.984375 36.375 \r\nQ 56.984375 17.96875 50.515625 8.265625 \r\nQ 44.046875 -1.421875 31.78125 -1.421875 \r\nQ 19.53125 -1.421875 13.0625 8.265625 \r\nQ 6.59375 17.96875 6.59375 36.375 \r\nQ 6.59375 54.828125 13.0625 64.515625 \r\nQ 19.53125 74.21875 31.78125 74.21875 \r\nz\r\n\" id=\"DejaVuSans-48\"/>\r\n       <path d=\"M 10.6875 12.40625 \r\nL 21 12.40625 \r\nL 21 0 \r\nL 10.6875 0 \r\nz\r\n\" id=\"DejaVuSans-46\"/>\r\n      </defs>\r\n      <g transform=\"translate(20.878125 297.917344)scale(0.1 -0.1)\">\r\n       <use xlink:href=\"#DejaVuSans-48\"/>\r\n       <use x=\"63.623047\" xlink:href=\"#DejaVuSans-46\"/>\r\n       <use x=\"95.410156\" xlink:href=\"#DejaVuSans-48\"/>\r\n      </g>\r\n     </g>\r\n    </g>\r\n    <g id=\"ytick_2\">\r\n     <g id=\"line2d_6\">\r\n      <g>\r\n       <use style=\"stroke:#000000;stroke-width:0.8;\" x=\"43.78125\" xlink:href=\"#m6099ef7c7b\" y=\"243.591202\"/>\r\n      </g>\r\n     </g>\r\n     <g id=\"text_7\">\r\n      <!-- 0.2 -->\r\n      <g transform=\"translate(20.878125 247.390421)scale(0.1 -0.1)\">\r\n       <use xlink:href=\"#DejaVuSans-48\"/>\r\n       <use x=\"63.623047\" xlink:href=\"#DejaVuSans-46\"/>\r\n       <use x=\"95.410156\" xlink:href=\"#DejaVuSans-50\"/>\r\n      </g>\r\n     </g>\r\n    </g>\r\n    <g id=\"ytick_3\">\r\n     <g id=\"line2d_7\">\r\n      <g>\r\n       <use style=\"stroke:#000000;stroke-width:0.8;\" x=\"43.78125\" xlink:href=\"#m6099ef7c7b\" y=\"193.064279\"/>\r\n      </g>\r\n     </g>\r\n     <g id=\"text_8\">\r\n      <!-- 0.4 -->\r\n      <g transform=\"translate(20.878125 196.863498)scale(0.1 -0.1)\">\r\n       <use xlink:href=\"#DejaVuSans-48\"/>\r\n       <use x=\"63.623047\" xlink:href=\"#DejaVuSans-46\"/>\r\n       <use x=\"95.410156\" xlink:href=\"#DejaVuSans-52\"/>\r\n      </g>\r\n     </g>\r\n    </g>\r\n    <g id=\"ytick_4\">\r\n     <g id=\"line2d_8\">\r\n      <g>\r\n       <use style=\"stroke:#000000;stroke-width:0.8;\" x=\"43.78125\" xlink:href=\"#m6099ef7c7b\" y=\"142.537356\"/>\r\n      </g>\r\n     </g>\r\n     <g id=\"text_9\">\r\n      <!-- 0.6 -->\r\n      <g transform=\"translate(20.878125 146.336575)scale(0.1 -0.1)\">\r\n       <use xlink:href=\"#DejaVuSans-48\"/>\r\n       <use x=\"63.623047\" xlink:href=\"#DejaVuSans-46\"/>\r\n       <use x=\"95.410156\" xlink:href=\"#DejaVuSans-54\"/>\r\n      </g>\r\n     </g>\r\n    </g>\r\n    <g id=\"ytick_5\">\r\n     <g id=\"line2d_9\">\r\n      <g>\r\n       <use style=\"stroke:#000000;stroke-width:0.8;\" x=\"43.78125\" xlink:href=\"#m6099ef7c7b\" y=\"92.010433\"/>\r\n      </g>\r\n     </g>\r\n     <g id=\"text_10\">\r\n      <!-- 0.8 -->\r\n      <g transform=\"translate(20.878125 95.809651)scale(0.1 -0.1)\">\r\n       <use xlink:href=\"#DejaVuSans-48\"/>\r\n       <use x=\"63.623047\" xlink:href=\"#DejaVuSans-46\"/>\r\n       <use x=\"95.410156\" xlink:href=\"#DejaVuSans-56\"/>\r\n      </g>\r\n     </g>\r\n    </g>\r\n    <g id=\"ytick_6\">\r\n     <g id=\"line2d_10\">\r\n      <g>\r\n       <use style=\"stroke:#000000;stroke-width:0.8;\" x=\"43.78125\" xlink:href=\"#m6099ef7c7b\" y=\"41.48351\"/>\r\n      </g>\r\n     </g>\r\n     <g id=\"text_11\">\r\n      <!-- 1.0 -->\r\n      <defs>\r\n       <path d=\"M 12.40625 8.296875 \r\nL 28.515625 8.296875 \r\nL 28.515625 63.921875 \r\nL 10.984375 60.40625 \r\nL 10.984375 69.390625 \r\nL 28.421875 72.90625 \r\nL 38.28125 72.90625 \r\nL 38.28125 8.296875 \r\nL 54.390625 8.296875 \r\nL 54.390625 0 \r\nL 12.40625 0 \r\nz\r\n\" id=\"DejaVuSans-49\"/>\r\n      </defs>\r\n      <g transform=\"translate(20.878125 45.282728)scale(0.1 -0.1)\">\r\n       <use xlink:href=\"#DejaVuSans-49\"/>\r\n       <use x=\"63.623047\" xlink:href=\"#DejaVuSans-46\"/>\r\n       <use x=\"95.410156\" xlink:href=\"#DejaVuSans-48\"/>\r\n      </g>\r\n     </g>\r\n    </g>\r\n    <g id=\"text_12\">\r\n     <!-- densidade -->\r\n     <defs>\r\n      <path d=\"M 44.28125 53.078125 \r\nL 44.28125 44.578125 \r\nQ 40.484375 46.53125 36.375 47.5 \r\nQ 32.28125 48.484375 27.875 48.484375 \r\nQ 21.1875 48.484375 17.84375 46.4375 \r\nQ 14.5 44.390625 14.5 40.28125 \r\nQ 14.5 37.15625 16.890625 35.375 \r\nQ 19.28125 33.59375 26.515625 31.984375 \r\nL 29.59375 31.296875 \r\nQ 39.15625 29.25 43.1875 25.515625 \r\nQ 47.21875 21.78125 47.21875 15.09375 \r\nQ 47.21875 7.46875 41.1875 3.015625 \r\nQ 35.15625 -1.421875 24.609375 -1.421875 \r\nQ 20.21875 -1.421875 15.453125 -0.5625 \r\nQ 10.6875 0.296875 5.421875 2 \r\nL 5.421875 11.28125 \r\nQ 10.40625 8.6875 15.234375 7.390625 \r\nQ 20.0625 6.109375 24.8125 6.109375 \r\nQ 31.15625 6.109375 34.5625 8.28125 \r\nQ 37.984375 10.453125 37.984375 14.40625 \r\nQ 37.984375 18.0625 35.515625 20.015625 \r\nQ 33.0625 21.96875 24.703125 23.78125 \r\nL 21.578125 24.515625 \r\nQ 13.234375 26.265625 9.515625 29.90625 \r\nQ 5.8125 33.546875 5.8125 39.890625 \r\nQ 5.8125 47.609375 11.28125 51.796875 \r\nQ 16.75 56 26.8125 56 \r\nQ 31.78125 56 36.171875 55.265625 \r\nQ 40.578125 54.546875 44.28125 53.078125 \r\nz\r\n\" id=\"DejaVuSans-115\"/>\r\n     </defs>\r\n     <g transform=\"translate(14.798438 184.120469)rotate(-90)scale(0.1 -0.1)\">\r\n      <use xlink:href=\"#DejaVuSans-100\"/>\r\n      <use x=\"63.476562\" xlink:href=\"#DejaVuSans-101\"/>\r\n      <use x=\"125\" xlink:href=\"#DejaVuSans-110\"/>\r\n      <use x=\"188.378906\" xlink:href=\"#DejaVuSans-115\"/>\r\n      <use x=\"240.478516\" xlink:href=\"#DejaVuSans-105\"/>\r\n      <use x=\"268.261719\" xlink:href=\"#DejaVuSans-100\"/>\r\n      <use x=\"331.738281\" xlink:href=\"#DejaVuSans-97\"/>\r\n      <use x=\"393.017578\" xlink:href=\"#DejaVuSans-100\"/>\r\n      <use x=\"456.494141\" xlink:href=\"#DejaVuSans-101\"/>\r\n     </g>\r\n    </g>\r\n   </g>\r\n   <g id=\"patch_37\">\r\n    <path d=\"M 43.78125 294.118125 \r\nL 43.78125 22.318125 \r\n\" style=\"fill:none;stroke:#000000;stroke-linecap:square;stroke-linejoin:miter;stroke-width:0.8;\"/>\r\n   </g>\r\n   <g id=\"patch_38\">\r\n    <path d=\"M 824.98125 294.118125 \r\nL 824.98125 22.318125 \r\n\" style=\"fill:none;stroke:#000000;stroke-linecap:square;stroke-linejoin:miter;stroke-width:0.8;\"/>\r\n   </g>\r\n   <g id=\"patch_39\">\r\n    <path d=\"M 43.78125 294.118125 \r\nL 824.98125 294.118125 \r\n\" style=\"fill:none;stroke:#000000;stroke-linecap:square;stroke-linejoin:miter;stroke-width:0.8;\"/>\r\n   </g>\r\n   <g id=\"patch_40\">\r\n    <path d=\"M 43.78125 22.318125 \r\nL 824.98125 22.318125 \r\n\" style=\"fill:none;stroke:#000000;stroke-linecap:square;stroke-linejoin:miter;stroke-width:0.8;\"/>\r\n   </g>\r\n   <g id=\"text_13\">\r\n    <!-- Creatinina -->\r\n    <defs>\r\n     <path d=\"M 64.40625 67.28125 \r\nL 64.40625 56.890625 \r\nQ 59.421875 61.53125 53.78125 63.8125 \r\nQ 48.140625 66.109375 41.796875 66.109375 \r\nQ 29.296875 66.109375 22.65625 58.46875 \r\nQ 16.015625 50.828125 16.015625 36.375 \r\nQ 16.015625 21.96875 22.65625 14.328125 \r\nQ 29.296875 6.6875 41.796875 6.6875 \r\nQ 48.140625 6.6875 53.78125 8.984375 \r\nQ 59.421875 11.28125 64.40625 15.921875 \r\nL 64.40625 5.609375 \r\nQ 59.234375 2.09375 53.4375 0.328125 \r\nQ 47.65625 -1.421875 41.21875 -1.421875 \r\nQ 24.65625 -1.421875 15.125 8.703125 \r\nQ 5.609375 18.84375 5.609375 36.375 \r\nQ 5.609375 53.953125 15.125 64.078125 \r\nQ 24.65625 74.21875 41.21875 74.21875 \r\nQ 47.75 74.21875 53.53125 72.484375 \r\nQ 59.328125 70.75 64.40625 67.28125 \r\nz\r\n\" id=\"DejaVuSans-67\"/>\r\n    </defs>\r\n    <g transform=\"translate(403.523438 16.318125)scale(0.12 -0.12)\">\r\n     <use xlink:href=\"#DejaVuSans-67\"/>\r\n     <use x=\"69.824219\" xlink:href=\"#DejaVuSans-114\"/>\r\n     <use x=\"108.6875\" xlink:href=\"#DejaVuSans-101\"/>\r\n     <use x=\"170.210938\" xlink:href=\"#DejaVuSans-97\"/>\r\n     <use x=\"231.490234\" xlink:href=\"#DejaVuSans-116\"/>\r\n     <use x=\"270.699219\" xlink:href=\"#DejaVuSans-105\"/>\r\n     <use x=\"298.482422\" xlink:href=\"#DejaVuSans-110\"/>\r\n     <use x=\"361.861328\" xlink:href=\"#DejaVuSans-105\"/>\r\n     <use x=\"389.644531\" xlink:href=\"#DejaVuSans-110\"/>\r\n     <use x=\"453.023438\" xlink:href=\"#DejaVuSans-97\"/>\r\n    </g>\r\n   </g>\r\n   <g id=\"legend_1\">\r\n    <g id=\"patch_41\">\r\n     <path d=\"M 779.61875 59.674375 \r\nL 817.98125 59.674375 \r\nQ 819.98125 59.674375 819.98125 57.674375 \r\nL 819.98125 29.318125 \r\nQ 819.98125 27.318125 817.98125 27.318125 \r\nL 779.61875 27.318125 \r\nQ 777.61875 27.318125 777.61875 29.318125 \r\nL 777.61875 57.674375 \r\nQ 777.61875 59.674375 779.61875 59.674375 \r\nz\r\n\" style=\"fill:#ffffff;opacity:0.8;stroke:#cccccc;stroke-linejoin:miter;\"/>\r\n    </g>\r\n    <g id=\"patch_42\">\r\n     <path d=\"M 781.61875 38.916562 \r\nL 801.61875 38.916562 \r\nL 801.61875 31.916562 \r\nL 781.61875 31.916562 \r\nz\r\n\" style=\"fill:#ff0000;stroke:#ffffff;stroke-linejoin:miter;\"/>\r\n    </g>\r\n    <g id=\"text_14\">\r\n     <!-- 1 -->\r\n     <g transform=\"translate(809.61875 38.916562)scale(0.1 -0.1)\">\r\n      <use xlink:href=\"#DejaVuSans-49\"/>\r\n     </g>\r\n    </g>\r\n    <g id=\"patch_43\">\r\n     <path d=\"M 781.61875 53.594688 \r\nL 801.61875 53.594688 \r\nL 801.61875 46.594688 \r\nL 781.61875 46.594688 \r\nz\r\n\" style=\"fill:#87ceeb;opacity:0.8;stroke:#ffffff;stroke-linejoin:miter;\"/>\r\n    </g>\r\n    <g id=\"text_15\">\r\n     <!-- 0 -->\r\n     <g transform=\"translate(809.61875 53.594688)scale(0.1 -0.1)\">\r\n      <use xlink:href=\"#DejaVuSans-48\"/>\r\n     </g>\r\n    </g>\r\n   </g>\r\n  </g>\r\n </g>\r\n <defs>\r\n  <clipPath id=\"pdc2f1e832a\">\r\n   <rect height=\"271.8\" width=\"781.2\" x=\"43.78125\" y=\"22.318125\"/>\r\n  </clipPath>\r\n </defs>\r\n</svg>\r\n",
      "image/png": "[encoded data removed]"
     },
     "metadata": {
      "needs_background": "light"
     }
    }
   ],
   "source": [
    "#Histograma de cretinina no sangue de sobreviventes e não sobreviventes\n",
    "faixas = np.arange(0.5,9.5,0.5)\n",
    "plt.figure(figsize=(14, 5))\n",
    "plt.hist(dead.serum_creatinine, bins=faixas, density=True, color='red', edgecolor='white', linewidth=1)\n",
    "plt.hist(not_dead.serum_creatinine, bins=faixas, density=True, color='skyblue', edgecolor='white', linewidth=1, alpha=0.8)\n",
    "plt.legend('10')\n",
    "plt.title('Creatinina')\n",
    "plt.xlabel('creatinina[mg/dL]')\n",
    "plt.ylabel('densidade')\n",
    "plt.show()\n"
   ]
  },
  {
   "source": [
    "Com este gráfico, foi possível concluir que taixas de creatina[mg/dL] maiores que 1.5[mg/dL] influênciam na taxa de sobrevivência."
   ],
   "cell_type": "markdown",
   "metadata": {}
  },
  {
   "cell_type": "code",
   "execution_count": 109,
   "metadata": {},
   "outputs": [
    {
     "output_type": "display_data",
     "data": {
      "text/plain": "<Figure size 1008x360 with 1 Axes>",
      "image/svg+xml": "<?xml version=\"1.0\" encoding=\"utf-8\" standalone=\"no\"?>\r\n<!DOCTYPE svg PUBLIC \"-//W3C//DTD SVG 1.1//EN\"\r\n  \"http://www.w3.org/Graphics/SVG/1.1/DTD/svg11.dtd\">\r\n<!-- Created with matplotlib (https://matplotlib.org/) -->\r\n<svg height=\"332.074375pt\" version=\"1.1\" viewBox=\"0 0 838.54375 332.074375\" width=\"838.54375pt\" xmlns=\"http://www.w3.org/2000/svg\" xmlns:xlink=\"http://www.w3.org/1999/xlink\">\r\n <defs>\r\n  <style type=\"text/css\">\r\n*{stroke-linecap:butt;stroke-linejoin:round;}\r\n  </style>\r\n </defs>\r\n <g id=\"figure_1\">\r\n  <g id=\"patch_1\">\r\n   <path d=\"M 0 332.074375 \r\nL 838.54375 332.074375 \r\nL 838.54375 0 \r\nL 0 0 \r\nz\r\n\" style=\"fill:none;\"/>\r\n  </g>\r\n  <g id=\"axes_1\">\r\n   <g id=\"patch_2\">\r\n    <path d=\"M 50.14375 294.118125 \r\nL 831.34375 294.118125 \r\nL 831.34375 22.318125 \r\nL 50.14375 22.318125 \r\nz\r\n\" style=\"fill:#ffffff;\"/>\r\n   </g>\r\n   <g id=\"patch_3\">\r\n    <path clip-path=\"url(#p53fc4c2ae8)\" d=\"M 85.652841 294.118125 \r\nL 132.998295 294.118125 \r\nL 132.998295 294.118125 \r\nL 85.652841 294.118125 \r\nz\r\n\" style=\"fill:#ff0000;stroke:#ffffff;stroke-linejoin:miter;\"/>\r\n   </g>\r\n   <g id=\"patch_4\">\r\n    <path clip-path=\"url(#p53fc4c2ae8)\" d=\"M 132.998295 294.118125 \r\nL 180.34375 294.118125 \r\nL 180.34375 294.118125 \r\nL 132.998295 294.118125 \r\nz\r\n\" style=\"fill:#ff0000;stroke:#ffffff;stroke-linejoin:miter;\"/>\r\n   </g>\r\n   <g id=\"patch_5\">\r\n    <path clip-path=\"url(#p53fc4c2ae8)\" d=\"M 180.34375 294.118125 \r\nL 227.689205 294.118125 \r\nL 227.689205 286.337003 \r\nL 180.34375 286.337003 \r\nz\r\n\" style=\"fill:#ff0000;stroke:#ffffff;stroke-linejoin:miter;\"/>\r\n   </g>\r\n   <g id=\"patch_6\">\r\n    <path clip-path=\"url(#p53fc4c2ae8)\" d=\"M 227.689205 294.118125 \r\nL 275.034659 294.118125 \r\nL 275.034659 294.118125 \r\nL 227.689205 294.118125 \r\nz\r\n\" style=\"fill:#ff0000;stroke:#ffffff;stroke-linejoin:miter;\"/>\r\n   </g>\r\n   <g id=\"patch_7\">\r\n    <path clip-path=\"url(#p53fc4c2ae8)\" d=\"M 275.034659 294.118125 \r\nL 322.380114 294.118125 \r\nL 322.380114 286.337003 \r\nL 275.034659 286.337003 \r\nz\r\n\" style=\"fill:#ff0000;stroke:#ffffff;stroke-linejoin:miter;\"/>\r\n   </g>\r\n   <g id=\"patch_8\">\r\n    <path clip-path=\"url(#p53fc4c2ae8)\" d=\"M 322.380114 294.118125 \r\nL 369.725568 294.118125 \r\nL 369.725568 286.337003 \r\nL 322.380114 286.337003 \r\nz\r\n\" style=\"fill:#ff0000;stroke:#ffffff;stroke-linejoin:miter;\"/>\r\n   </g>\r\n   <g id=\"patch_9\">\r\n    <path clip-path=\"url(#p53fc4c2ae8)\" d=\"M 369.725568 294.118125 \r\nL 417.071023 294.118125 \r\nL 417.071023 270.774758 \r\nL 369.725568 270.774758 \r\nz\r\n\" style=\"fill:#ff0000;stroke:#ffffff;stroke-linejoin:miter;\"/>\r\n   </g>\r\n   <g id=\"patch_10\">\r\n    <path clip-path=\"url(#p53fc4c2ae8)\" d=\"M 417.071023 294.118125 \r\nL 464.416477 294.118125 \r\nL 464.416477 270.774758 \r\nL 417.071023 270.774758 \r\nz\r\n\" style=\"fill:#ff0000;stroke:#ffffff;stroke-linejoin:miter;\"/>\r\n   </g>\r\n   <g id=\"patch_11\">\r\n    <path clip-path=\"url(#p53fc4c2ae8)\" d=\"M 464.416477 294.118125 \r\nL 511.761932 294.118125 \r\nL 511.761932 185.182411 \r\nL 464.416477 185.182411 \r\nz\r\n\" style=\"fill:#ff0000;stroke:#ffffff;stroke-linejoin:miter;\"/>\r\n   </g>\r\n   <g id=\"patch_12\">\r\n    <path clip-path=\"url(#p53fc4c2ae8)\" d=\"M 511.761932 294.118125 \r\nL 559.107386 294.118125 \r\nL 559.107386 146.276798 \r\nL 511.761932 146.276798 \r\nz\r\n\" style=\"fill:#ff0000;stroke:#ffffff;stroke-linejoin:miter;\"/>\r\n   </g>\r\n   <g id=\"patch_13\">\r\n    <path clip-path=\"url(#p53fc4c2ae8)\" d=\"M 559.107386 294.118125 \r\nL 606.452841 294.118125 \r\nL 606.452841 107.371186 \r\nL 559.107386 107.371186 \r\nz\r\n\" style=\"fill:#ff0000;stroke:#ffffff;stroke-linejoin:miter;\"/>\r\n   </g>\r\n   <g id=\"patch_14\">\r\n    <path clip-path=\"url(#p53fc4c2ae8)\" d=\"M 606.452841 294.118125 \r\nL 653.798295 294.118125 \r\nL 653.798295 200.744656 \r\nL 606.452841 200.744656 \r\nz\r\n\" style=\"fill:#ff0000;stroke:#ffffff;stroke-linejoin:miter;\"/>\r\n   </g>\r\n   <g id=\"patch_15\">\r\n    <path clip-path=\"url(#p53fc4c2ae8)\" d=\"M 653.798295 294.118125 \r\nL 701.14375 294.118125 \r\nL 701.14375 200.744656 \r\nL 653.798295 200.744656 \r\nz\r\n\" style=\"fill:#ff0000;stroke:#ffffff;stroke-linejoin:miter;\"/>\r\n   </g>\r\n   <g id=\"patch_16\">\r\n    <path clip-path=\"url(#p53fc4c2ae8)\" d=\"M 701.14375 294.118125 \r\nL 748.489205 294.118125 \r\nL 748.489205 278.55588 \r\nL 701.14375 278.55588 \r\nz\r\n\" style=\"fill:#ff0000;stroke:#ffffff;stroke-linejoin:miter;\"/>\r\n   </g>\r\n   <g id=\"patch_17\">\r\n    <path clip-path=\"url(#p53fc4c2ae8)\" d=\"M 748.489205 294.118125 \r\nL 795.834659 294.118125 \r\nL 795.834659 262.993635 \r\nL 748.489205 262.993635 \r\nz\r\n\" style=\"fill:#ff0000;stroke:#ffffff;stroke-linejoin:miter;\"/>\r\n   </g>\r\n   <g id=\"patch_18\">\r\n    <path clip-path=\"url(#p53fc4c2ae8)\" d=\"M 85.652841 294.118125 \r\nL 132.998295 294.118125 \r\nL 132.998295 294.118125 \r\nL 85.652841 294.118125 \r\nz\r\n\" style=\"fill:#87ceeb;opacity:0.8;stroke:#ffffff;stroke-linejoin:miter;\"/>\r\n   </g>\r\n   <g id=\"patch_19\">\r\n    <path clip-path=\"url(#p53fc4c2ae8)\" d=\"M 132.998295 294.118125 \r\nL 180.34375 294.118125 \r\nL 180.34375 290.420166 \r\nL 132.998295 290.420166 \r\nz\r\n\" style=\"fill:#87ceeb;opacity:0.8;stroke:#ffffff;stroke-linejoin:miter;\"/>\r\n   </g>\r\n   <g id=\"patch_20\">\r\n    <path clip-path=\"url(#p53fc4c2ae8)\" d=\"M 180.34375 294.118125 \r\nL 227.689205 294.118125 \r\nL 227.689205 294.118125 \r\nL 180.34375 294.118125 \r\nz\r\n\" style=\"fill:#87ceeb;opacity:0.8;stroke:#ffffff;stroke-linejoin:miter;\"/>\r\n   </g>\r\n   <g id=\"patch_21\">\r\n    <path clip-path=\"url(#p53fc4c2ae8)\" d=\"M 227.689205 294.118125 \r\nL 275.034659 294.118125 \r\nL 275.034659 294.118125 \r\nL 227.689205 294.118125 \r\nz\r\n\" style=\"fill:#87ceeb;opacity:0.8;stroke:#ffffff;stroke-linejoin:miter;\"/>\r\n   </g>\r\n   <g id=\"patch_22\">\r\n    <path clip-path=\"url(#p53fc4c2ae8)\" d=\"M 275.034659 294.118125 \r\nL 322.380114 294.118125 \r\nL 322.380114 294.118125 \r\nL 275.034659 294.118125 \r\nz\r\n\" style=\"fill:#87ceeb;opacity:0.8;stroke:#ffffff;stroke-linejoin:miter;\"/>\r\n   </g>\r\n   <g id=\"patch_23\">\r\n    <path clip-path=\"url(#p53fc4c2ae8)\" d=\"M 322.380114 294.118125 \r\nL 369.725568 294.118125 \r\nL 369.725568 294.118125 \r\nL 322.380114 294.118125 \r\nz\r\n\" style=\"fill:#87ceeb;opacity:0.8;stroke:#ffffff;stroke-linejoin:miter;\"/>\r\n   </g>\r\n   <g id=\"patch_24\">\r\n    <path clip-path=\"url(#p53fc4c2ae8)\" d=\"M 369.725568 294.118125 \r\nL 417.071023 294.118125 \r\nL 417.071023 286.722207 \r\nL 369.725568 286.722207 \r\nz\r\n\" style=\"fill:#87ceeb;opacity:0.8;stroke:#ffffff;stroke-linejoin:miter;\"/>\r\n   </g>\r\n   <g id=\"patch_25\">\r\n    <path clip-path=\"url(#p53fc4c2ae8)\" d=\"M 417.071023 294.118125 \r\nL 464.416477 294.118125 \r\nL 464.416477 290.420166 \r\nL 417.071023 290.420166 \r\nz\r\n\" style=\"fill:#87ceeb;opacity:0.8;stroke:#ffffff;stroke-linejoin:miter;\"/>\r\n   </g>\r\n   <g id=\"patch_26\">\r\n    <path clip-path=\"url(#p53fc4c2ae8)\" d=\"M 464.416477 294.118125 \r\nL 511.761932 294.118125 \r\nL 511.761932 242.346696 \r\nL 464.416477 242.346696 \r\nz\r\n\" style=\"fill:#87ceeb;opacity:0.8;stroke:#ffffff;stroke-linejoin:miter;\"/>\r\n   </g>\r\n   <g id=\"patch_27\">\r\n    <path clip-path=\"url(#p53fc4c2ae8)\" d=\"M 511.761932 294.118125 \r\nL 559.107386 294.118125 \r\nL 559.107386 209.065064 \r\nL 511.761932 209.065064 \r\nz\r\n\" style=\"fill:#87ceeb;opacity:0.8;stroke:#ffffff;stroke-linejoin:miter;\"/>\r\n   </g>\r\n   <g id=\"patch_28\">\r\n    <path clip-path=\"url(#p53fc4c2ae8)\" d=\"M 559.107386 294.118125 \r\nL 606.452841 294.118125 \r\nL 606.452841 35.260982 \r\nL 559.107386 35.260982 \r\nz\r\n\" style=\"fill:#87ceeb;opacity:0.8;stroke:#ffffff;stroke-linejoin:miter;\"/>\r\n   </g>\r\n   <g id=\"patch_29\">\r\n    <path clip-path=\"url(#p53fc4c2ae8)\" d=\"M 606.452841 294.118125 \r\nL 653.798295 294.118125 \r\nL 653.798295 172.085472 \r\nL 606.452841 172.085472 \r\nz\r\n\" style=\"fill:#87ceeb;opacity:0.8;stroke:#ffffff;stroke-linejoin:miter;\"/>\r\n   </g>\r\n   <g id=\"patch_30\">\r\n    <path clip-path=\"url(#p53fc4c2ae8)\" d=\"M 653.798295 294.118125 \r\nL 701.14375 294.118125 \r\nL 701.14375 124.012003 \r\nL 653.798295 124.012003 \r\nz\r\n\" style=\"fill:#87ceeb;opacity:0.8;stroke:#ffffff;stroke-linejoin:miter;\"/>\r\n   </g>\r\n   <g id=\"patch_31\">\r\n    <path clip-path=\"url(#p53fc4c2ae8)\" d=\"M 701.14375 294.118125 \r\nL 748.489205 294.118125 \r\nL 748.489205 271.93037 \r\nL 701.14375 271.93037 \r\nz\r\n\" style=\"fill:#87ceeb;opacity:0.8;stroke:#ffffff;stroke-linejoin:miter;\"/>\r\n   </g>\r\n   <g id=\"patch_32\">\r\n    <path clip-path=\"url(#p53fc4c2ae8)\" d=\"M 748.489205 294.118125 \r\nL 795.834659 294.118125 \r\nL 795.834659 271.93037 \r\nL 748.489205 271.93037 \r\nz\r\n\" style=\"fill:#87ceeb;opacity:0.8;stroke:#ffffff;stroke-linejoin:miter;\"/>\r\n   </g>\r\n   <g id=\"matplotlib.axis_1\">\r\n    <g id=\"xtick_1\">\r\n     <g id=\"line2d_1\">\r\n      <defs>\r\n       <path d=\"M 0 0 \r\nL 0 3.5 \r\n\" id=\"m7ea194ee28\" style=\"stroke:#000000;stroke-width:0.8;\"/>\r\n      </defs>\r\n      <g>\r\n       <use style=\"stroke:#000000;stroke-width:0.8;\" x=\"85.652841\" xlink:href=\"#m7ea194ee28\" y=\"294.118125\"/>\r\n      </g>\r\n     </g>\r\n     <g id=\"text_1\">\r\n      <!-- 110 -->\r\n      <defs>\r\n       <path d=\"M 12.40625 8.296875 \r\nL 28.515625 8.296875 \r\nL 28.515625 63.921875 \r\nL 10.984375 60.40625 \r\nL 10.984375 69.390625 \r\nL 28.421875 72.90625 \r\nL 38.28125 72.90625 \r\nL 38.28125 8.296875 \r\nL 54.390625 8.296875 \r\nL 54.390625 0 \r\nL 12.40625 0 \r\nz\r\n\" id=\"DejaVuSans-49\"/>\r\n       <path d=\"M 31.78125 66.40625 \r\nQ 24.171875 66.40625 20.328125 58.90625 \r\nQ 16.5 51.421875 16.5 36.375 \r\nQ 16.5 21.390625 20.328125 13.890625 \r\nQ 24.171875 6.390625 31.78125 6.390625 \r\nQ 39.453125 6.390625 43.28125 13.890625 \r\nQ 47.125 21.390625 47.125 36.375 \r\nQ 47.125 51.421875 43.28125 58.90625 \r\nQ 39.453125 66.40625 31.78125 66.40625 \r\nz\r\nM 31.78125 74.21875 \r\nQ 44.046875 74.21875 50.515625 64.515625 \r\nQ 56.984375 54.828125 56.984375 36.375 \r\nQ 56.984375 17.96875 50.515625 8.265625 \r\nQ 44.046875 -1.421875 31.78125 -1.421875 \r\nQ 19.53125 -1.421875 13.0625 8.265625 \r\nQ 6.59375 17.96875 6.59375 36.375 \r\nQ 6.59375 54.828125 13.0625 64.515625 \r\nQ 19.53125 74.21875 31.78125 74.21875 \r\nz\r\n\" id=\"DejaVuSans-48\"/>\r\n      </defs>\r\n      <g transform=\"translate(76.109091 308.716562)scale(0.1 -0.1)\">\r\n       <use xlink:href=\"#DejaVuSans-49\"/>\r\n       <use x=\"63.623047\" xlink:href=\"#DejaVuSans-49\"/>\r\n       <use x=\"127.246094\" xlink:href=\"#DejaVuSans-48\"/>\r\n      </g>\r\n     </g>\r\n    </g>\r\n    <g id=\"xtick_2\">\r\n     <g id=\"line2d_2\">\r\n      <g>\r\n       <use style=\"stroke:#000000;stroke-width:0.8;\" x=\"180.34375\" xlink:href=\"#m7ea194ee28\" y=\"294.118125\"/>\r\n      </g>\r\n     </g>\r\n     <g id=\"text_2\">\r\n      <!-- 115 -->\r\n      <defs>\r\n       <path d=\"M 10.796875 72.90625 \r\nL 49.515625 72.90625 \r\nL 49.515625 64.59375 \r\nL 19.828125 64.59375 \r\nL 19.828125 46.734375 \r\nQ 21.96875 47.46875 24.109375 47.828125 \r\nQ 26.265625 48.1875 28.421875 48.1875 \r\nQ 40.625 48.1875 47.75 41.5 \r\nQ 54.890625 34.8125 54.890625 23.390625 \r\nQ 54.890625 11.625 47.5625 5.09375 \r\nQ 40.234375 -1.421875 26.90625 -1.421875 \r\nQ 22.3125 -1.421875 17.546875 -0.640625 \r\nQ 12.796875 0.140625 7.71875 1.703125 \r\nL 7.71875 11.625 \r\nQ 12.109375 9.234375 16.796875 8.0625 \r\nQ 21.484375 6.890625 26.703125 6.890625 \r\nQ 35.15625 6.890625 40.078125 11.328125 \r\nQ 45.015625 15.765625 45.015625 23.390625 \r\nQ 45.015625 31 40.078125 35.4375 \r\nQ 35.15625 39.890625 26.703125 39.890625 \r\nQ 22.75 39.890625 18.8125 39.015625 \r\nQ 14.890625 38.140625 10.796875 36.28125 \r\nz\r\n\" id=\"DejaVuSans-53\"/>\r\n      </defs>\r\n      <g transform=\"translate(170.8 308.716562)scale(0.1 -0.1)\">\r\n       <use xlink:href=\"#DejaVuSans-49\"/>\r\n       <use x=\"63.623047\" xlink:href=\"#DejaVuSans-49\"/>\r\n       <use x=\"127.246094\" xlink:href=\"#DejaVuSans-53\"/>\r\n      </g>\r\n     </g>\r\n    </g>\r\n    <g id=\"xtick_3\">\r\n     <g id=\"line2d_3\">\r\n      <g>\r\n       <use style=\"stroke:#000000;stroke-width:0.8;\" x=\"275.034659\" xlink:href=\"#m7ea194ee28\" y=\"294.118125\"/>\r\n      </g>\r\n     </g>\r\n     <g id=\"text_3\">\r\n      <!-- 120 -->\r\n      <defs>\r\n       <path d=\"M 19.1875 8.296875 \r\nL 53.609375 8.296875 \r\nL 53.609375 0 \r\nL 7.328125 0 \r\nL 7.328125 8.296875 \r\nQ 12.9375 14.109375 22.625 23.890625 \r\nQ 32.328125 33.6875 34.8125 36.53125 \r\nQ 39.546875 41.84375 41.421875 45.53125 \r\nQ 43.3125 49.21875 43.3125 52.78125 \r\nQ 43.3125 58.59375 39.234375 62.25 \r\nQ 35.15625 65.921875 28.609375 65.921875 \r\nQ 23.96875 65.921875 18.8125 64.3125 \r\nQ 13.671875 62.703125 7.8125 59.421875 \r\nL 7.8125 69.390625 \r\nQ 13.765625 71.78125 18.9375 73 \r\nQ 24.125 74.21875 28.421875 74.21875 \r\nQ 39.75 74.21875 46.484375 68.546875 \r\nQ 53.21875 62.890625 53.21875 53.421875 \r\nQ 53.21875 48.921875 51.53125 44.890625 \r\nQ 49.859375 40.875 45.40625 35.40625 \r\nQ 44.1875 33.984375 37.640625 27.21875 \r\nQ 31.109375 20.453125 19.1875 8.296875 \r\nz\r\n\" id=\"DejaVuSans-50\"/>\r\n      </defs>\r\n      <g transform=\"translate(265.490909 308.716562)scale(0.1 -0.1)\">\r\n       <use xlink:href=\"#DejaVuSans-49\"/>\r\n       <use x=\"63.623047\" xlink:href=\"#DejaVuSans-50\"/>\r\n       <use x=\"127.246094\" xlink:href=\"#DejaVuSans-48\"/>\r\n      </g>\r\n     </g>\r\n    </g>\r\n    <g id=\"xtick_4\">\r\n     <g id=\"line2d_4\">\r\n      <g>\r\n       <use style=\"stroke:#000000;stroke-width:0.8;\" x=\"369.725568\" xlink:href=\"#m7ea194ee28\" y=\"294.118125\"/>\r\n      </g>\r\n     </g>\r\n     <g id=\"text_4\">\r\n      <!-- 125 -->\r\n      <g transform=\"translate(360.181818 308.716562)scale(0.1 -0.1)\">\r\n       <use xlink:href=\"#DejaVuSans-49\"/>\r\n       <use x=\"63.623047\" xlink:href=\"#DejaVuSans-50\"/>\r\n       <use x=\"127.246094\" xlink:href=\"#DejaVuSans-53\"/>\r\n      </g>\r\n     </g>\r\n    </g>\r\n    <g id=\"xtick_5\">\r\n     <g id=\"line2d_5\">\r\n      <g>\r\n       <use style=\"stroke:#000000;stroke-width:0.8;\" x=\"464.416477\" xlink:href=\"#m7ea194ee28\" y=\"294.118125\"/>\r\n      </g>\r\n     </g>\r\n     <g id=\"text_5\">\r\n      <!-- 130 -->\r\n      <defs>\r\n       <path d=\"M 40.578125 39.3125 \r\nQ 47.65625 37.796875 51.625 33 \r\nQ 55.609375 28.21875 55.609375 21.1875 \r\nQ 55.609375 10.40625 48.1875 4.484375 \r\nQ 40.765625 -1.421875 27.09375 -1.421875 \r\nQ 22.515625 -1.421875 17.65625 -0.515625 \r\nQ 12.796875 0.390625 7.625 2.203125 \r\nL 7.625 11.71875 \r\nQ 11.71875 9.328125 16.59375 8.109375 \r\nQ 21.484375 6.890625 26.8125 6.890625 \r\nQ 36.078125 6.890625 40.9375 10.546875 \r\nQ 45.796875 14.203125 45.796875 21.1875 \r\nQ 45.796875 27.640625 41.28125 31.265625 \r\nQ 36.765625 34.90625 28.71875 34.90625 \r\nL 20.21875 34.90625 \r\nL 20.21875 43.015625 \r\nL 29.109375 43.015625 \r\nQ 36.375 43.015625 40.234375 45.921875 \r\nQ 44.09375 48.828125 44.09375 54.296875 \r\nQ 44.09375 59.90625 40.109375 62.90625 \r\nQ 36.140625 65.921875 28.71875 65.921875 \r\nQ 24.65625 65.921875 20.015625 65.03125 \r\nQ 15.375 64.15625 9.8125 62.3125 \r\nL 9.8125 71.09375 \r\nQ 15.4375 72.65625 20.34375 73.4375 \r\nQ 25.25 74.21875 29.59375 74.21875 \r\nQ 40.828125 74.21875 47.359375 69.109375 \r\nQ 53.90625 64.015625 53.90625 55.328125 \r\nQ 53.90625 49.265625 50.4375 45.09375 \r\nQ 46.96875 40.921875 40.578125 39.3125 \r\nz\r\n\" id=\"DejaVuSans-51\"/>\r\n      </defs>\r\n      <g transform=\"translate(454.872727 308.716562)scale(0.1 -0.1)\">\r\n       <use xlink:href=\"#DejaVuSans-49\"/>\r\n       <use x=\"63.623047\" xlink:href=\"#DejaVuSans-51\"/>\r\n       <use x=\"127.246094\" xlink:href=\"#DejaVuSans-48\"/>\r\n      </g>\r\n     </g>\r\n    </g>\r\n    <g id=\"xtick_6\">\r\n     <g id=\"line2d_6\">\r\n      <g>\r\n       <use style=\"stroke:#000000;stroke-width:0.8;\" x=\"559.107386\" xlink:href=\"#m7ea194ee28\" y=\"294.118125\"/>\r\n      </g>\r\n     </g>\r\n     <g id=\"text_6\">\r\n      <!-- 135 -->\r\n      <g transform=\"translate(549.563636 308.716562)scale(0.1 -0.1)\">\r\n       <use xlink:href=\"#DejaVuSans-49\"/>\r\n       <use x=\"63.623047\" xlink:href=\"#DejaVuSans-51\"/>\r\n       <use x=\"127.246094\" xlink:href=\"#DejaVuSans-53\"/>\r\n      </g>\r\n     </g>\r\n    </g>\r\n    <g id=\"xtick_7\">\r\n     <g id=\"line2d_7\">\r\n      <g>\r\n       <use style=\"stroke:#000000;stroke-width:0.8;\" x=\"653.798295\" xlink:href=\"#m7ea194ee28\" y=\"294.118125\"/>\r\n      </g>\r\n     </g>\r\n     <g id=\"text_7\">\r\n      <!-- 140 -->\r\n      <defs>\r\n       <path d=\"M 37.796875 64.3125 \r\nL 12.890625 25.390625 \r\nL 37.796875 25.390625 \r\nz\r\nM 35.203125 72.90625 \r\nL 47.609375 72.90625 \r\nL 47.609375 25.390625 \r\nL 58.015625 25.390625 \r\nL 58.015625 17.1875 \r\nL 47.609375 17.1875 \r\nL 47.609375 0 \r\nL 37.796875 0 \r\nL 37.796875 17.1875 \r\nL 4.890625 17.1875 \r\nL 4.890625 26.703125 \r\nz\r\n\" id=\"DejaVuSans-52\"/>\r\n      </defs>\r\n      <g transform=\"translate(644.254545 308.716562)scale(0.1 -0.1)\">\r\n       <use xlink:href=\"#DejaVuSans-49\"/>\r\n       <use x=\"63.623047\" xlink:href=\"#DejaVuSans-52\"/>\r\n       <use x=\"127.246094\" xlink:href=\"#DejaVuSans-48\"/>\r\n      </g>\r\n     </g>\r\n    </g>\r\n    <g id=\"xtick_8\">\r\n     <g id=\"line2d_8\">\r\n      <g>\r\n       <use style=\"stroke:#000000;stroke-width:0.8;\" x=\"748.489205\" xlink:href=\"#m7ea194ee28\" y=\"294.118125\"/>\r\n      </g>\r\n     </g>\r\n     <g id=\"text_8\">\r\n      <!-- 145 -->\r\n      <g transform=\"translate(738.945455 308.716562)scale(0.1 -0.1)\">\r\n       <use xlink:href=\"#DejaVuSans-49\"/>\r\n       <use x=\"63.623047\" xlink:href=\"#DejaVuSans-52\"/>\r\n       <use x=\"127.246094\" xlink:href=\"#DejaVuSans-53\"/>\r\n      </g>\r\n     </g>\r\n    </g>\r\n    <g id=\"text_9\">\r\n     <!-- Sódio[mEq/L] -->\r\n     <defs>\r\n      <path d=\"M 53.515625 70.515625 \r\nL 53.515625 60.890625 \r\nQ 47.90625 63.578125 42.921875 64.890625 \r\nQ 37.9375 66.21875 33.296875 66.21875 \r\nQ 25.25 66.21875 20.875 63.09375 \r\nQ 16.5 59.96875 16.5 54.203125 \r\nQ 16.5 49.359375 19.40625 46.890625 \r\nQ 22.3125 44.4375 30.421875 42.921875 \r\nL 36.375 41.703125 \r\nQ 47.40625 39.59375 52.65625 34.296875 \r\nQ 57.90625 29 57.90625 20.125 \r\nQ 57.90625 9.515625 50.796875 4.046875 \r\nQ 43.703125 -1.421875 29.984375 -1.421875 \r\nQ 24.8125 -1.421875 18.96875 -0.25 \r\nQ 13.140625 0.921875 6.890625 3.21875 \r\nL 6.890625 13.375 \r\nQ 12.890625 10.015625 18.65625 8.296875 \r\nQ 24.421875 6.59375 29.984375 6.59375 \r\nQ 38.421875 6.59375 43.015625 9.90625 \r\nQ 47.609375 13.234375 47.609375 19.390625 \r\nQ 47.609375 24.75 44.3125 27.78125 \r\nQ 41.015625 30.8125 33.5 32.328125 \r\nL 27.484375 33.5 \r\nQ 16.453125 35.6875 11.515625 40.375 \r\nQ 6.59375 45.0625 6.59375 53.421875 \r\nQ 6.59375 63.09375 13.40625 68.65625 \r\nQ 20.21875 74.21875 32.171875 74.21875 \r\nQ 37.3125 74.21875 42.625 73.28125 \r\nQ 47.953125 72.359375 53.515625 70.515625 \r\nz\r\n\" id=\"DejaVuSans-83\"/>\r\n      <path d=\"M 30.609375 48.390625 \r\nQ 23.390625 48.390625 19.1875 42.75 \r\nQ 14.984375 37.109375 14.984375 27.296875 \r\nQ 14.984375 17.484375 19.15625 11.84375 \r\nQ 23.34375 6.203125 30.609375 6.203125 \r\nQ 37.796875 6.203125 41.984375 11.859375 \r\nQ 46.1875 17.53125 46.1875 27.296875 \r\nQ 46.1875 37.015625 41.984375 42.703125 \r\nQ 37.796875 48.390625 30.609375 48.390625 \r\nz\r\nM 30.609375 56 \r\nQ 42.328125 56 49.015625 48.375 \r\nQ 55.71875 40.765625 55.71875 27.296875 \r\nQ 55.71875 13.875 49.015625 6.21875 \r\nQ 42.328125 -1.421875 30.609375 -1.421875 \r\nQ 18.84375 -1.421875 12.171875 6.21875 \r\nQ 5.515625 13.875 5.515625 27.296875 \r\nQ 5.515625 40.765625 12.171875 48.375 \r\nQ 18.84375 56 30.609375 56 \r\nz\r\nM 37.40625 79.984375 \r\nL 47.125 79.984375 \r\nL 31.203125 61.625 \r\nL 23.734375 61.625 \r\nz\r\n\" id=\"DejaVuSans-243\"/>\r\n      <path d=\"M 45.40625 46.390625 \r\nL 45.40625 75.984375 \r\nL 54.390625 75.984375 \r\nL 54.390625 0 \r\nL 45.40625 0 \r\nL 45.40625 8.203125 \r\nQ 42.578125 3.328125 38.25 0.953125 \r\nQ 33.9375 -1.421875 27.875 -1.421875 \r\nQ 17.96875 -1.421875 11.734375 6.484375 \r\nQ 5.515625 14.40625 5.515625 27.296875 \r\nQ 5.515625 40.1875 11.734375 48.09375 \r\nQ 17.96875 56 27.875 56 \r\nQ 33.9375 56 38.25 53.625 \r\nQ 42.578125 51.265625 45.40625 46.390625 \r\nz\r\nM 14.796875 27.296875 \r\nQ 14.796875 17.390625 18.875 11.75 \r\nQ 22.953125 6.109375 30.078125 6.109375 \r\nQ 37.203125 6.109375 41.296875 11.75 \r\nQ 45.40625 17.390625 45.40625 27.296875 \r\nQ 45.40625 37.203125 41.296875 42.84375 \r\nQ 37.203125 48.484375 30.078125 48.484375 \r\nQ 22.953125 48.484375 18.875 42.84375 \r\nQ 14.796875 37.203125 14.796875 27.296875 \r\nz\r\n\" id=\"DejaVuSans-100\"/>\r\n      <path d=\"M 9.421875 54.6875 \r\nL 18.40625 54.6875 \r\nL 18.40625 0 \r\nL 9.421875 0 \r\nz\r\nM 9.421875 75.984375 \r\nL 18.40625 75.984375 \r\nL 18.40625 64.59375 \r\nL 9.421875 64.59375 \r\nz\r\n\" id=\"DejaVuSans-105\"/>\r\n      <path d=\"M 30.609375 48.390625 \r\nQ 23.390625 48.390625 19.1875 42.75 \r\nQ 14.984375 37.109375 14.984375 27.296875 \r\nQ 14.984375 17.484375 19.15625 11.84375 \r\nQ 23.34375 6.203125 30.609375 6.203125 \r\nQ 37.796875 6.203125 41.984375 11.859375 \r\nQ 46.1875 17.53125 46.1875 27.296875 \r\nQ 46.1875 37.015625 41.984375 42.703125 \r\nQ 37.796875 48.390625 30.609375 48.390625 \r\nz\r\nM 30.609375 56 \r\nQ 42.328125 56 49.015625 48.375 \r\nQ 55.71875 40.765625 55.71875 27.296875 \r\nQ 55.71875 13.875 49.015625 6.21875 \r\nQ 42.328125 -1.421875 30.609375 -1.421875 \r\nQ 18.84375 -1.421875 12.171875 6.21875 \r\nQ 5.515625 13.875 5.515625 27.296875 \r\nQ 5.515625 40.765625 12.171875 48.375 \r\nQ 18.84375 56 30.609375 56 \r\nz\r\n\" id=\"DejaVuSans-111\"/>\r\n      <path d=\"M 8.59375 75.984375 \r\nL 29.296875 75.984375 \r\nL 29.296875 69 \r\nL 17.578125 69 \r\nL 17.578125 -6.203125 \r\nL 29.296875 -6.203125 \r\nL 29.296875 -13.1875 \r\nL 8.59375 -13.1875 \r\nz\r\n\" id=\"DejaVuSans-91\"/>\r\n      <path d=\"M 52 44.1875 \r\nQ 55.375 50.25 60.0625 53.125 \r\nQ 64.75 56 71.09375 56 \r\nQ 79.640625 56 84.28125 50.015625 \r\nQ 88.921875 44.046875 88.921875 33.015625 \r\nL 88.921875 0 \r\nL 79.890625 0 \r\nL 79.890625 32.71875 \r\nQ 79.890625 40.578125 77.09375 44.375 \r\nQ 74.3125 48.1875 68.609375 48.1875 \r\nQ 61.625 48.1875 57.5625 43.546875 \r\nQ 53.515625 38.921875 53.515625 30.90625 \r\nL 53.515625 0 \r\nL 44.484375 0 \r\nL 44.484375 32.71875 \r\nQ 44.484375 40.625 41.703125 44.40625 \r\nQ 38.921875 48.1875 33.109375 48.1875 \r\nQ 26.21875 48.1875 22.15625 43.53125 \r\nQ 18.109375 38.875 18.109375 30.90625 \r\nL 18.109375 0 \r\nL 9.078125 0 \r\nL 9.078125 54.6875 \r\nL 18.109375 54.6875 \r\nL 18.109375 46.1875 \r\nQ 21.1875 51.21875 25.484375 53.609375 \r\nQ 29.78125 56 35.6875 56 \r\nQ 41.65625 56 45.828125 52.96875 \r\nQ 50 49.953125 52 44.1875 \r\nz\r\n\" id=\"DejaVuSans-109\"/>\r\n      <path d=\"M 9.8125 72.90625 \r\nL 55.90625 72.90625 \r\nL 55.90625 64.59375 \r\nL 19.671875 64.59375 \r\nL 19.671875 43.015625 \r\nL 54.390625 43.015625 \r\nL 54.390625 34.71875 \r\nL 19.671875 34.71875 \r\nL 19.671875 8.296875 \r\nL 56.78125 8.296875 \r\nL 56.78125 0 \r\nL 9.8125 0 \r\nz\r\n\" id=\"DejaVuSans-69\"/>\r\n      <path d=\"M 14.796875 27.296875 \r\nQ 14.796875 17.390625 18.875 11.75 \r\nQ 22.953125 6.109375 30.078125 6.109375 \r\nQ 37.203125 6.109375 41.296875 11.75 \r\nQ 45.40625 17.390625 45.40625 27.296875 \r\nQ 45.40625 37.203125 41.296875 42.84375 \r\nQ 37.203125 48.484375 30.078125 48.484375 \r\nQ 22.953125 48.484375 18.875 42.84375 \r\nQ 14.796875 37.203125 14.796875 27.296875 \r\nz\r\nM 45.40625 8.203125 \r\nQ 42.578125 3.328125 38.25 0.953125 \r\nQ 33.9375 -1.421875 27.875 -1.421875 \r\nQ 17.96875 -1.421875 11.734375 6.484375 \r\nQ 5.515625 14.40625 5.515625 27.296875 \r\nQ 5.515625 40.1875 11.734375 48.09375 \r\nQ 17.96875 56 27.875 56 \r\nQ 33.9375 56 38.25 53.625 \r\nQ 42.578125 51.265625 45.40625 46.390625 \r\nL 45.40625 54.6875 \r\nL 54.390625 54.6875 \r\nL 54.390625 -20.796875 \r\nL 45.40625 -20.796875 \r\nz\r\n\" id=\"DejaVuSans-113\"/>\r\n      <path d=\"M 25.390625 72.90625 \r\nL 33.6875 72.90625 \r\nL 8.296875 -9.28125 \r\nL 0 -9.28125 \r\nz\r\n\" id=\"DejaVuSans-47\"/>\r\n      <path d=\"M 9.8125 72.90625 \r\nL 19.671875 72.90625 \r\nL 19.671875 8.296875 \r\nL 55.171875 8.296875 \r\nL 55.171875 0 \r\nL 9.8125 0 \r\nz\r\n\" id=\"DejaVuSans-76\"/>\r\n      <path d=\"M 30.421875 75.984375 \r\nL 30.421875 -13.1875 \r\nL 9.71875 -13.1875 \r\nL 9.71875 -6.203125 \r\nL 21.390625 -6.203125 \r\nL 21.390625 69 \r\nL 9.71875 69 \r\nL 9.71875 75.984375 \r\nz\r\n\" id=\"DejaVuSans-93\"/>\r\n     </defs>\r\n     <g transform=\"translate(407.311719 322.794687)scale(0.1 -0.1)\">\r\n      <use xlink:href=\"#DejaVuSans-83\"/>\r\n      <use x=\"63.476562\" xlink:href=\"#DejaVuSans-243\"/>\r\n      <use x=\"124.658203\" xlink:href=\"#DejaVuSans-100\"/>\r\n      <use x=\"188.134766\" xlink:href=\"#DejaVuSans-105\"/>\r\n      <use x=\"215.917969\" xlink:href=\"#DejaVuSans-111\"/>\r\n      <use x=\"277.099609\" xlink:href=\"#DejaVuSans-91\"/>\r\n      <use x=\"316.113281\" xlink:href=\"#DejaVuSans-109\"/>\r\n      <use x=\"413.525391\" xlink:href=\"#DejaVuSans-69\"/>\r\n      <use x=\"476.708984\" xlink:href=\"#DejaVuSans-113\"/>\r\n      <use x=\"540.185547\" xlink:href=\"#DejaVuSans-47\"/>\r\n      <use x=\"573.876953\" xlink:href=\"#DejaVuSans-76\"/>\r\n      <use x=\"629.589844\" xlink:href=\"#DejaVuSans-93\"/>\r\n     </g>\r\n    </g>\r\n   </g>\r\n   <g id=\"matplotlib.axis_2\">\r\n    <g id=\"ytick_1\">\r\n     <g id=\"line2d_9\">\r\n      <defs>\r\n       <path d=\"M 0 0 \r\nL -3.5 0 \r\n\" id=\"m773abb61b5\" style=\"stroke:#000000;stroke-width:0.8;\"/>\r\n      </defs>\r\n      <g>\r\n       <use style=\"stroke:#000000;stroke-width:0.8;\" x=\"50.14375\" xlink:href=\"#m773abb61b5\" y=\"294.118125\"/>\r\n      </g>\r\n     </g>\r\n     <g id=\"text_10\">\r\n      <!-- 0.00 -->\r\n      <defs>\r\n       <path d=\"M 10.6875 12.40625 \r\nL 21 12.40625 \r\nL 21 0 \r\nL 10.6875 0 \r\nz\r\n\" id=\"DejaVuSans-46\"/>\r\n      </defs>\r\n      <g transform=\"translate(20.878125 297.917344)scale(0.1 -0.1)\">\r\n       <use xlink:href=\"#DejaVuSans-48\"/>\r\n       <use x=\"63.623047\" xlink:href=\"#DejaVuSans-46\"/>\r\n       <use x=\"95.410156\" xlink:href=\"#DejaVuSans-48\"/>\r\n       <use x=\"159.033203\" xlink:href=\"#DejaVuSans-48\"/>\r\n      </g>\r\n     </g>\r\n    </g>\r\n    <g id=\"ytick_2\">\r\n     <g id=\"line2d_10\">\r\n      <g>\r\n       <use style=\"stroke:#000000;stroke-width:0.8;\" x=\"50.14375\" xlink:href=\"#m773abb61b5\" y=\"256.768737\"/>\r\n      </g>\r\n     </g>\r\n     <g id=\"text_11\">\r\n      <!-- 0.02 -->\r\n      <g transform=\"translate(20.878125 260.567956)scale(0.1 -0.1)\">\r\n       <use xlink:href=\"#DejaVuSans-48\"/>\r\n       <use x=\"63.623047\" xlink:href=\"#DejaVuSans-46\"/>\r\n       <use x=\"95.410156\" xlink:href=\"#DejaVuSans-48\"/>\r\n       <use x=\"159.033203\" xlink:href=\"#DejaVuSans-50\"/>\r\n      </g>\r\n     </g>\r\n    </g>\r\n    <g id=\"ytick_3\">\r\n     <g id=\"line2d_11\">\r\n      <g>\r\n       <use style=\"stroke:#000000;stroke-width:0.8;\" x=\"50.14375\" xlink:href=\"#m773abb61b5\" y=\"219.419349\"/>\r\n      </g>\r\n     </g>\r\n     <g id=\"text_12\">\r\n      <!-- 0.04 -->\r\n      <g transform=\"translate(20.878125 223.218568)scale(0.1 -0.1)\">\r\n       <use xlink:href=\"#DejaVuSans-48\"/>\r\n       <use x=\"63.623047\" xlink:href=\"#DejaVuSans-46\"/>\r\n       <use x=\"95.410156\" xlink:href=\"#DejaVuSans-48\"/>\r\n       <use x=\"159.033203\" xlink:href=\"#DejaVuSans-52\"/>\r\n      </g>\r\n     </g>\r\n    </g>\r\n    <g id=\"ytick_4\">\r\n     <g id=\"line2d_12\">\r\n      <g>\r\n       <use style=\"stroke:#000000;stroke-width:0.8;\" x=\"50.14375\" xlink:href=\"#m773abb61b5\" y=\"182.069962\"/>\r\n      </g>\r\n     </g>\r\n     <g id=\"text_13\">\r\n      <!-- 0.06 -->\r\n      <defs>\r\n       <path d=\"M 33.015625 40.375 \r\nQ 26.375 40.375 22.484375 35.828125 \r\nQ 18.609375 31.296875 18.609375 23.390625 \r\nQ 18.609375 15.53125 22.484375 10.953125 \r\nQ 26.375 6.390625 33.015625 6.390625 \r\nQ 39.65625 6.390625 43.53125 10.953125 \r\nQ 47.40625 15.53125 47.40625 23.390625 \r\nQ 47.40625 31.296875 43.53125 35.828125 \r\nQ 39.65625 40.375 33.015625 40.375 \r\nz\r\nM 52.59375 71.296875 \r\nL 52.59375 62.3125 \r\nQ 48.875 64.0625 45.09375 64.984375 \r\nQ 41.3125 65.921875 37.59375 65.921875 \r\nQ 27.828125 65.921875 22.671875 59.328125 \r\nQ 17.53125 52.734375 16.796875 39.40625 \r\nQ 19.671875 43.65625 24.015625 45.921875 \r\nQ 28.375 48.1875 33.59375 48.1875 \r\nQ 44.578125 48.1875 50.953125 41.515625 \r\nQ 57.328125 34.859375 57.328125 23.390625 \r\nQ 57.328125 12.15625 50.6875 5.359375 \r\nQ 44.046875 -1.421875 33.015625 -1.421875 \r\nQ 20.359375 -1.421875 13.671875 8.265625 \r\nQ 6.984375 17.96875 6.984375 36.375 \r\nQ 6.984375 53.65625 15.1875 63.9375 \r\nQ 23.390625 74.21875 37.203125 74.21875 \r\nQ 40.921875 74.21875 44.703125 73.484375 \r\nQ 48.484375 72.75 52.59375 71.296875 \r\nz\r\n\" id=\"DejaVuSans-54\"/>\r\n      </defs>\r\n      <g transform=\"translate(20.878125 185.86918)scale(0.1 -0.1)\">\r\n       <use xlink:href=\"#DejaVuSans-48\"/>\r\n       <use x=\"63.623047\" xlink:href=\"#DejaVuSans-46\"/>\r\n       <use x=\"95.410156\" xlink:href=\"#DejaVuSans-48\"/>\r\n       <use x=\"159.033203\" xlink:href=\"#DejaVuSans-54\"/>\r\n      </g>\r\n     </g>\r\n    </g>\r\n    <g id=\"ytick_5\">\r\n     <g id=\"line2d_13\">\r\n      <g>\r\n       <use style=\"stroke:#000000;stroke-width:0.8;\" x=\"50.14375\" xlink:href=\"#m773abb61b5\" y=\"144.720574\"/>\r\n      </g>\r\n     </g>\r\n     <g id=\"text_14\">\r\n      <!-- 0.08 -->\r\n      <defs>\r\n       <path d=\"M 31.78125 34.625 \r\nQ 24.75 34.625 20.71875 30.859375 \r\nQ 16.703125 27.09375 16.703125 20.515625 \r\nQ 16.703125 13.921875 20.71875 10.15625 \r\nQ 24.75 6.390625 31.78125 6.390625 \r\nQ 38.8125 6.390625 42.859375 10.171875 \r\nQ 46.921875 13.96875 46.921875 20.515625 \r\nQ 46.921875 27.09375 42.890625 30.859375 \r\nQ 38.875 34.625 31.78125 34.625 \r\nz\r\nM 21.921875 38.8125 \r\nQ 15.578125 40.375 12.03125 44.71875 \r\nQ 8.5 49.078125 8.5 55.328125 \r\nQ 8.5 64.0625 14.71875 69.140625 \r\nQ 20.953125 74.21875 31.78125 74.21875 \r\nQ 42.671875 74.21875 48.875 69.140625 \r\nQ 55.078125 64.0625 55.078125 55.328125 \r\nQ 55.078125 49.078125 51.53125 44.71875 \r\nQ 48 40.375 41.703125 38.8125 \r\nQ 48.828125 37.15625 52.796875 32.3125 \r\nQ 56.78125 27.484375 56.78125 20.515625 \r\nQ 56.78125 9.90625 50.3125 4.234375 \r\nQ 43.84375 -1.421875 31.78125 -1.421875 \r\nQ 19.734375 -1.421875 13.25 4.234375 \r\nQ 6.78125 9.90625 6.78125 20.515625 \r\nQ 6.78125 27.484375 10.78125 32.3125 \r\nQ 14.796875 37.15625 21.921875 38.8125 \r\nz\r\nM 18.3125 54.390625 \r\nQ 18.3125 48.734375 21.84375 45.5625 \r\nQ 25.390625 42.390625 31.78125 42.390625 \r\nQ 38.140625 42.390625 41.71875 45.5625 \r\nQ 45.3125 48.734375 45.3125 54.390625 \r\nQ 45.3125 60.0625 41.71875 63.234375 \r\nQ 38.140625 66.40625 31.78125 66.40625 \r\nQ 25.390625 66.40625 21.84375 63.234375 \r\nQ 18.3125 60.0625 18.3125 54.390625 \r\nz\r\n\" id=\"DejaVuSans-56\"/>\r\n      </defs>\r\n      <g transform=\"translate(20.878125 148.519793)scale(0.1 -0.1)\">\r\n       <use xlink:href=\"#DejaVuSans-48\"/>\r\n       <use x=\"63.623047\" xlink:href=\"#DejaVuSans-46\"/>\r\n       <use x=\"95.410156\" xlink:href=\"#DejaVuSans-48\"/>\r\n       <use x=\"159.033203\" xlink:href=\"#DejaVuSans-56\"/>\r\n      </g>\r\n     </g>\r\n    </g>\r\n    <g id=\"ytick_6\">\r\n     <g id=\"line2d_14\">\r\n      <g>\r\n       <use style=\"stroke:#000000;stroke-width:0.8;\" x=\"50.14375\" xlink:href=\"#m773abb61b5\" y=\"107.371186\"/>\r\n      </g>\r\n     </g>\r\n     <g id=\"text_15\">\r\n      <!-- 0.10 -->\r\n      <g transform=\"translate(20.878125 111.170405)scale(0.1 -0.1)\">\r\n       <use xlink:href=\"#DejaVuSans-48\"/>\r\n       <use x=\"63.623047\" xlink:href=\"#DejaVuSans-46\"/>\r\n       <use x=\"95.410156\" xlink:href=\"#DejaVuSans-49\"/>\r\n       <use x=\"159.033203\" xlink:href=\"#DejaVuSans-48\"/>\r\n      </g>\r\n     </g>\r\n    </g>\r\n    <g id=\"ytick_7\">\r\n     <g id=\"line2d_15\">\r\n      <g>\r\n       <use style=\"stroke:#000000;stroke-width:0.8;\" x=\"50.14375\" xlink:href=\"#m773abb61b5\" y=\"70.021798\"/>\r\n      </g>\r\n     </g>\r\n     <g id=\"text_16\">\r\n      <!-- 0.12 -->\r\n      <g transform=\"translate(20.878125 73.821017)scale(0.1 -0.1)\">\r\n       <use xlink:href=\"#DejaVuSans-48\"/>\r\n       <use x=\"63.623047\" xlink:href=\"#DejaVuSans-46\"/>\r\n       <use x=\"95.410156\" xlink:href=\"#DejaVuSans-49\"/>\r\n       <use x=\"159.033203\" xlink:href=\"#DejaVuSans-50\"/>\r\n      </g>\r\n     </g>\r\n    </g>\r\n    <g id=\"ytick_8\">\r\n     <g id=\"line2d_16\">\r\n      <g>\r\n       <use style=\"stroke:#000000;stroke-width:0.8;\" x=\"50.14375\" xlink:href=\"#m773abb61b5\" y=\"32.672411\"/>\r\n      </g>\r\n     </g>\r\n     <g id=\"text_17\">\r\n      <!-- 0.14 -->\r\n      <g transform=\"translate(20.878125 36.471629)scale(0.1 -0.1)\">\r\n       <use xlink:href=\"#DejaVuSans-48\"/>\r\n       <use x=\"63.623047\" xlink:href=\"#DejaVuSans-46\"/>\r\n       <use x=\"95.410156\" xlink:href=\"#DejaVuSans-49\"/>\r\n       <use x=\"159.033203\" xlink:href=\"#DejaVuSans-52\"/>\r\n      </g>\r\n     </g>\r\n    </g>\r\n    <g id=\"text_18\">\r\n     <!-- densidade -->\r\n     <defs>\r\n      <path d=\"M 56.203125 29.59375 \r\nL 56.203125 25.203125 \r\nL 14.890625 25.203125 \r\nQ 15.484375 15.921875 20.484375 11.0625 \r\nQ 25.484375 6.203125 34.421875 6.203125 \r\nQ 39.59375 6.203125 44.453125 7.46875 \r\nQ 49.3125 8.734375 54.109375 11.28125 \r\nL 54.109375 2.78125 \r\nQ 49.265625 0.734375 44.1875 -0.34375 \r\nQ 39.109375 -1.421875 33.890625 -1.421875 \r\nQ 20.796875 -1.421875 13.15625 6.1875 \r\nQ 5.515625 13.8125 5.515625 26.8125 \r\nQ 5.515625 40.234375 12.765625 48.109375 \r\nQ 20.015625 56 32.328125 56 \r\nQ 43.359375 56 49.78125 48.890625 \r\nQ 56.203125 41.796875 56.203125 29.59375 \r\nz\r\nM 47.21875 32.234375 \r\nQ 47.125 39.59375 43.09375 43.984375 \r\nQ 39.0625 48.390625 32.421875 48.390625 \r\nQ 24.90625 48.390625 20.390625 44.140625 \r\nQ 15.875 39.890625 15.1875 32.171875 \r\nz\r\n\" id=\"DejaVuSans-101\"/>\r\n      <path d=\"M 54.890625 33.015625 \r\nL 54.890625 0 \r\nL 45.90625 0 \r\nL 45.90625 32.71875 \r\nQ 45.90625 40.484375 42.875 44.328125 \r\nQ 39.84375 48.1875 33.796875 48.1875 \r\nQ 26.515625 48.1875 22.3125 43.546875 \r\nQ 18.109375 38.921875 18.109375 30.90625 \r\nL 18.109375 0 \r\nL 9.078125 0 \r\nL 9.078125 54.6875 \r\nL 18.109375 54.6875 \r\nL 18.109375 46.1875 \r\nQ 21.34375 51.125 25.703125 53.5625 \r\nQ 30.078125 56 35.796875 56 \r\nQ 45.21875 56 50.046875 50.171875 \r\nQ 54.890625 44.34375 54.890625 33.015625 \r\nz\r\n\" id=\"DejaVuSans-110\"/>\r\n      <path d=\"M 44.28125 53.078125 \r\nL 44.28125 44.578125 \r\nQ 40.484375 46.53125 36.375 47.5 \r\nQ 32.28125 48.484375 27.875 48.484375 \r\nQ 21.1875 48.484375 17.84375 46.4375 \r\nQ 14.5 44.390625 14.5 40.28125 \r\nQ 14.5 37.15625 16.890625 35.375 \r\nQ 19.28125 33.59375 26.515625 31.984375 \r\nL 29.59375 31.296875 \r\nQ 39.15625 29.25 43.1875 25.515625 \r\nQ 47.21875 21.78125 47.21875 15.09375 \r\nQ 47.21875 7.46875 41.1875 3.015625 \r\nQ 35.15625 -1.421875 24.609375 -1.421875 \r\nQ 20.21875 -1.421875 15.453125 -0.5625 \r\nQ 10.6875 0.296875 5.421875 2 \r\nL 5.421875 11.28125 \r\nQ 10.40625 8.6875 15.234375 7.390625 \r\nQ 20.0625 6.109375 24.8125 6.109375 \r\nQ 31.15625 6.109375 34.5625 8.28125 \r\nQ 37.984375 10.453125 37.984375 14.40625 \r\nQ 37.984375 18.0625 35.515625 20.015625 \r\nQ 33.0625 21.96875 24.703125 23.78125 \r\nL 21.578125 24.515625 \r\nQ 13.234375 26.265625 9.515625 29.90625 \r\nQ 5.8125 33.546875 5.8125 39.890625 \r\nQ 5.8125 47.609375 11.28125 51.796875 \r\nQ 16.75 56 26.8125 56 \r\nQ 31.78125 56 36.171875 55.265625 \r\nQ 40.578125 54.546875 44.28125 53.078125 \r\nz\r\n\" id=\"DejaVuSans-115\"/>\r\n      <path d=\"M 34.28125 27.484375 \r\nQ 23.390625 27.484375 19.1875 25 \r\nQ 14.984375 22.515625 14.984375 16.5 \r\nQ 14.984375 11.71875 18.140625 8.90625 \r\nQ 21.296875 6.109375 26.703125 6.109375 \r\nQ 34.1875 6.109375 38.703125 11.40625 \r\nQ 43.21875 16.703125 43.21875 25.484375 \r\nL 43.21875 27.484375 \r\nz\r\nM 52.203125 31.203125 \r\nL 52.203125 0 \r\nL 43.21875 0 \r\nL 43.21875 8.296875 \r\nQ 40.140625 3.328125 35.546875 0.953125 \r\nQ 30.953125 -1.421875 24.3125 -1.421875 \r\nQ 15.921875 -1.421875 10.953125 3.296875 \r\nQ 6 8.015625 6 15.921875 \r\nQ 6 25.140625 12.171875 29.828125 \r\nQ 18.359375 34.515625 30.609375 34.515625 \r\nL 43.21875 34.515625 \r\nL 43.21875 35.40625 \r\nQ 43.21875 41.609375 39.140625 45 \r\nQ 35.0625 48.390625 27.6875 48.390625 \r\nQ 23 48.390625 18.546875 47.265625 \r\nQ 14.109375 46.140625 10.015625 43.890625 \r\nL 10.015625 52.203125 \r\nQ 14.9375 54.109375 19.578125 55.046875 \r\nQ 24.21875 56 28.609375 56 \r\nQ 40.484375 56 46.34375 49.84375 \r\nQ 52.203125 43.703125 52.203125 31.203125 \r\nz\r\n\" id=\"DejaVuSans-97\"/>\r\n     </defs>\r\n     <g transform=\"translate(14.798438 184.120469)rotate(-90)scale(0.1 -0.1)\">\r\n      <use xlink:href=\"#DejaVuSans-100\"/>\r\n      <use x=\"63.476562\" xlink:href=\"#DejaVuSans-101\"/>\r\n      <use x=\"125\" xlink:href=\"#DejaVuSans-110\"/>\r\n      <use x=\"188.378906\" xlink:href=\"#DejaVuSans-115\"/>\r\n      <use x=\"240.478516\" xlink:href=\"#DejaVuSans-105\"/>\r\n      <use x=\"268.261719\" xlink:href=\"#DejaVuSans-100\"/>\r\n      <use x=\"331.738281\" xlink:href=\"#DejaVuSans-97\"/>\r\n      <use x=\"393.017578\" xlink:href=\"#DejaVuSans-100\"/>\r\n      <use x=\"456.494141\" xlink:href=\"#DejaVuSans-101\"/>\r\n     </g>\r\n    </g>\r\n   </g>\r\n   <g id=\"patch_33\">\r\n    <path d=\"M 50.14375 294.118125 \r\nL 50.14375 22.318125 \r\n\" style=\"fill:none;stroke:#000000;stroke-linecap:square;stroke-linejoin:miter;stroke-width:0.8;\"/>\r\n   </g>\r\n   <g id=\"patch_34\">\r\n    <path d=\"M 831.34375 294.118125 \r\nL 831.34375 22.318125 \r\n\" style=\"fill:none;stroke:#000000;stroke-linecap:square;stroke-linejoin:miter;stroke-width:0.8;\"/>\r\n   </g>\r\n   <g id=\"patch_35\">\r\n    <path d=\"M 50.14375 294.118125 \r\nL 831.34375 294.118125 \r\n\" style=\"fill:none;stroke:#000000;stroke-linecap:square;stroke-linejoin:miter;stroke-width:0.8;\"/>\r\n   </g>\r\n   <g id=\"patch_36\">\r\n    <path d=\"M 50.14375 22.318125 \r\nL 831.34375 22.318125 \r\n\" style=\"fill:none;stroke:#000000;stroke-linecap:square;stroke-linejoin:miter;stroke-width:0.8;\"/>\r\n   </g>\r\n   <g id=\"text_19\">\r\n    <!-- Sódio -->\r\n    <g transform=\"translate(424.11625 16.318125)scale(0.12 -0.12)\">\r\n     <use xlink:href=\"#DejaVuSans-83\"/>\r\n     <use x=\"63.476562\" xlink:href=\"#DejaVuSans-243\"/>\r\n     <use x=\"124.658203\" xlink:href=\"#DejaVuSans-100\"/>\r\n     <use x=\"188.134766\" xlink:href=\"#DejaVuSans-105\"/>\r\n     <use x=\"215.917969\" xlink:href=\"#DejaVuSans-111\"/>\r\n    </g>\r\n   </g>\r\n   <g id=\"legend_1\">\r\n    <g id=\"patch_37\">\r\n     <path d=\"M 785.98125 59.674375 \r\nL 824.34375 59.674375 \r\nQ 826.34375 59.674375 826.34375 57.674375 \r\nL 826.34375 29.318125 \r\nQ 826.34375 27.318125 824.34375 27.318125 \r\nL 785.98125 27.318125 \r\nQ 783.98125 27.318125 783.98125 29.318125 \r\nL 783.98125 57.674375 \r\nQ 783.98125 59.674375 785.98125 59.674375 \r\nz\r\n\" style=\"fill:#ffffff;opacity:0.8;stroke:#cccccc;stroke-linejoin:miter;\"/>\r\n    </g>\r\n    <g id=\"patch_38\">\r\n     <path d=\"M 787.98125 38.916562 \r\nL 807.98125 38.916562 \r\nL 807.98125 31.916562 \r\nL 787.98125 31.916562 \r\nz\r\n\" style=\"fill:#ff0000;stroke:#ffffff;stroke-linejoin:miter;\"/>\r\n    </g>\r\n    <g id=\"text_20\">\r\n     <!-- 1 -->\r\n     <g transform=\"translate(815.98125 38.916562)scale(0.1 -0.1)\">\r\n      <use xlink:href=\"#DejaVuSans-49\"/>\r\n     </g>\r\n    </g>\r\n    <g id=\"patch_39\">\r\n     <path d=\"M 787.98125 53.594687 \r\nL 807.98125 53.594687 \r\nL 807.98125 46.594687 \r\nL 787.98125 46.594687 \r\nz\r\n\" style=\"fill:#87ceeb;opacity:0.8;stroke:#ffffff;stroke-linejoin:miter;\"/>\r\n    </g>\r\n    <g id=\"text_21\">\r\n     <!-- 0 -->\r\n     <g transform=\"translate(815.98125 53.594687)scale(0.1 -0.1)\">\r\n      <use xlink:href=\"#DejaVuSans-48\"/>\r\n     </g>\r\n    </g>\r\n   </g>\r\n  </g>\r\n </g>\r\n <defs>\r\n  <clipPath id=\"p53fc4c2ae8\">\r\n   <rect height=\"271.8\" width=\"781.2\" x=\"50.14375\" y=\"22.318125\"/>\r\n  </clipPath>\r\n </defs>\r\n</svg>\r\n",
      "image/png": "[encoded data removed]"
     },
     "metadata": {
      "needs_background": "light"
     }
    }
   ],
   "source": [
    "#Histograma de sódio no sangue de sobreviventes e não sobreviventes\n",
    "faixas = np.arange(110,150,2.5)\n",
    "plt.figure(figsize=(14, 5))\n",
    "plt.hist(dead.serum_sodium, bins=faixas, density=True, color='red', edgecolor='white', linewidth=1)\n",
    "plt.hist(not_dead.serum_sodium, bins=faixas, density=True, color='skyblue', edgecolor='white', linewidth=1, alpha=0.8)\n",
    "plt.legend('10')\n",
    "plt.title('Sódio')\n",
    "plt.xlabel('Sódio[mEq/L]')\n",
    "plt.ylabel('densidade')\n",
    "plt.show()"
   ]
  },
  {
   "source": [
    "Apesar de uma boa distribuiçao dos dados, taxas de sódio menores que 135[mEq/L] podem influênciar para uma maior mortalidade."
   ],
   "cell_type": "markdown",
   "metadata": {}
  },
  {
   "cell_type": "code",
   "execution_count": 108,
   "metadata": {},
   "outputs": [
    {
     "output_type": "display_data",
     "data": {
      "text/plain": "<Figure size 1008x360 with 1 Axes>",
      "image/svg+xml": "<?xml version=\"1.0\" encoding=\"utf-8\" standalone=\"no\"?>\r\n<!DOCTYPE svg PUBLIC \"-//W3C//DTD SVG 1.1//EN\"\r\n  \"http://www.w3.org/Graphics/SVG/1.1/DTD/svg11.dtd\">\r\n<!-- Created with matplotlib (https://matplotlib.org/) -->\r\n<svg height=\"331.87875pt\" version=\"1.1\" viewBox=\"0 0 844.90625 331.87875\" width=\"844.90625pt\" xmlns=\"http://www.w3.org/2000/svg\" xmlns:xlink=\"http://www.w3.org/1999/xlink\">\r\n <defs>\r\n  <style type=\"text/css\">\r\n*{stroke-linecap:butt;stroke-linejoin:round;}\r\n  </style>\r\n </defs>\r\n <g id=\"figure_1\">\r\n  <g id=\"patch_1\">\r\n   <path d=\"M 0 331.87875 \r\nL 844.90625 331.87875 \r\nL 844.90625 0 \r\nL 0 0 \r\nz\r\n\" style=\"fill:none;\"/>\r\n  </g>\r\n  <g id=\"axes_1\">\r\n   <g id=\"patch_2\">\r\n    <path d=\"M 56.50625 294.3225 \r\nL 837.70625 294.3225 \r\nL 837.70625 22.5225 \r\nL 56.50625 22.5225 \r\nz\r\n\" style=\"fill:#ffffff;\"/>\r\n   </g>\r\n   <g id=\"patch_3\">\r\n    <path clip-path=\"url(#pe8cdd95dd2)\" d=\"M 92.015341 294.3225 \r\nL 117.378977 294.3225 \r\nL 117.378977 51.643929 \r\nL 92.015341 51.643929 \r\nz\r\n\" style=\"fill:#ff0000;stroke:#ffffff;stroke-linejoin:miter;\"/>\r\n   </g>\r\n   <g id=\"patch_4\">\r\n    <path clip-path=\"url(#pe8cdd95dd2)\" d=\"M 117.378977 294.3225 \r\nL 142.742614 294.3225 \r\nL 142.742614 164.893929 \r\nL 117.378977 164.893929 \r\nz\r\n\" style=\"fill:#ff0000;stroke:#ffffff;stroke-linejoin:miter;\"/>\r\n   </g>\r\n   <g id=\"patch_5\">\r\n    <path clip-path=\"url(#pe8cdd95dd2)\" d=\"M 142.742614 294.3225 \r\nL 168.10625 294.3225 \r\nL 168.10625 35.465357 \r\nL 142.742614 35.465357 \r\nz\r\n\" style=\"fill:#ff0000;stroke:#ffffff;stroke-linejoin:miter;\"/>\r\n   </g>\r\n   <g id=\"patch_6\">\r\n    <path clip-path=\"url(#pe8cdd95dd2)\" d=\"M 168.10625 294.3225 \r\nL 193.469886 294.3225 \r\nL 193.469886 164.893929 \r\nL 168.10625 164.893929 \r\nz\r\n\" style=\"fill:#ff0000;stroke:#ffffff;stroke-linejoin:miter;\"/>\r\n   </g>\r\n   <g id=\"patch_7\">\r\n    <path clip-path=\"url(#pe8cdd95dd2)\" d=\"M 193.469886 294.3225 \r\nL 218.833523 294.3225 \r\nL 218.833523 245.786786 \r\nL 193.469886 245.786786 \r\nz\r\n\" style=\"fill:#ff0000;stroke:#ffffff;stroke-linejoin:miter;\"/>\r\n   </g>\r\n   <g id=\"patch_8\">\r\n    <path clip-path=\"url(#pe8cdd95dd2)\" d=\"M 218.833523 294.3225 \r\nL 244.197159 294.3225 \r\nL 244.197159 213.429643 \r\nL 218.833523 213.429643 \r\nz\r\n\" style=\"fill:#ff0000;stroke:#ffffff;stroke-linejoin:miter;\"/>\r\n   </g>\r\n   <g id=\"patch_9\">\r\n    <path clip-path=\"url(#pe8cdd95dd2)\" d=\"M 244.197159 294.3225 \r\nL 269.560795 294.3225 \r\nL 269.560795 164.893929 \r\nL 244.197159 164.893929 \r\nz\r\n\" style=\"fill:#ff0000;stroke:#ffffff;stroke-linejoin:miter;\"/>\r\n   </g>\r\n   <g id=\"patch_10\">\r\n    <path clip-path=\"url(#pe8cdd95dd2)\" d=\"M 269.560795 294.3225 \r\nL 294.924432 294.3225 \r\nL 294.924432 245.786786 \r\nL 269.560795 245.786786 \r\nz\r\n\" style=\"fill:#ff0000;stroke:#ffffff;stroke-linejoin:miter;\"/>\r\n   </g>\r\n   <g id=\"patch_11\">\r\n    <path clip-path=\"url(#pe8cdd95dd2)\" d=\"M 294.924432 294.3225 \r\nL 320.288068 294.3225 \r\nL 320.288068 245.786786 \r\nL 294.924432 245.786786 \r\nz\r\n\" style=\"fill:#ff0000;stroke:#ffffff;stroke-linejoin:miter;\"/>\r\n   </g>\r\n   <g id=\"patch_12\">\r\n    <path clip-path=\"url(#pe8cdd95dd2)\" d=\"M 320.288068 294.3225 \r\nL 345.651705 294.3225 \r\nL 345.651705 245.786786 \r\nL 320.288068 245.786786 \r\nz\r\n\" style=\"fill:#ff0000;stroke:#ffffff;stroke-linejoin:miter;\"/>\r\n   </g>\r\n   <g id=\"patch_13\">\r\n    <path clip-path=\"url(#pe8cdd95dd2)\" d=\"M 345.651705 294.3225 \r\nL 371.015341 294.3225 \r\nL 371.015341 245.786786 \r\nL 345.651705 245.786786 \r\nz\r\n\" style=\"fill:#ff0000;stroke:#ffffff;stroke-linejoin:miter;\"/>\r\n   </g>\r\n   <g id=\"patch_14\">\r\n    <path clip-path=\"url(#pe8cdd95dd2)\" d=\"M 371.015341 294.3225 \r\nL 396.378977 294.3225 \r\nL 396.378977 278.143929 \r\nL 371.015341 278.143929 \r\nz\r\n\" style=\"fill:#ff0000;stroke:#ffffff;stroke-linejoin:miter;\"/>\r\n   </g>\r\n   <g id=\"patch_15\">\r\n    <path clip-path=\"url(#pe8cdd95dd2)\" d=\"M 396.378977 294.3225 \r\nL 421.742614 294.3225 \r\nL 421.742614 245.786786 \r\nL 396.378977 245.786786 \r\nz\r\n\" style=\"fill:#ff0000;stroke:#ffffff;stroke-linejoin:miter;\"/>\r\n   </g>\r\n   <g id=\"patch_16\">\r\n    <path clip-path=\"url(#pe8cdd95dd2)\" d=\"M 421.742614 294.3225 \r\nL 447.10625 294.3225 \r\nL 447.10625 278.143929 \r\nL 421.742614 278.143929 \r\nz\r\n\" style=\"fill:#ff0000;stroke:#ffffff;stroke-linejoin:miter;\"/>\r\n   </g>\r\n   <g id=\"patch_17\">\r\n    <path clip-path=\"url(#pe8cdd95dd2)\" d=\"M 447.10625 294.3225 \r\nL 472.469886 294.3225 \r\nL 472.469886 278.143929 \r\nL 447.10625 278.143929 \r\nz\r\n\" style=\"fill:#ff0000;stroke:#ffffff;stroke-linejoin:miter;\"/>\r\n   </g>\r\n   <g id=\"patch_18\">\r\n    <path clip-path=\"url(#pe8cdd95dd2)\" d=\"M 472.469886 294.3225 \r\nL 497.833523 294.3225 \r\nL 497.833523 261.965357 \r\nL 472.469886 261.965357 \r\nz\r\n\" style=\"fill:#ff0000;stroke:#ffffff;stroke-linejoin:miter;\"/>\r\n   </g>\r\n   <g id=\"patch_19\">\r\n    <path clip-path=\"url(#pe8cdd95dd2)\" d=\"M 497.833523 294.3225 \r\nL 523.197159 294.3225 \r\nL 523.197159 229.608214 \r\nL 497.833523 229.608214 \r\nz\r\n\" style=\"fill:#ff0000;stroke:#ffffff;stroke-linejoin:miter;\"/>\r\n   </g>\r\n   <g id=\"patch_20\">\r\n    <path clip-path=\"url(#pe8cdd95dd2)\" d=\"M 523.197159 294.3225 \r\nL 548.560795 294.3225 \r\nL 548.560795 261.965357 \r\nL 523.197159 261.965357 \r\nz\r\n\" style=\"fill:#ff0000;stroke:#ffffff;stroke-linejoin:miter;\"/>\r\n   </g>\r\n   <g id=\"patch_21\">\r\n    <path clip-path=\"url(#pe8cdd95dd2)\" d=\"M 548.560795 294.3225 \r\nL 573.924432 294.3225 \r\nL 573.924432 278.143929 \r\nL 548.560795 278.143929 \r\nz\r\n\" style=\"fill:#ff0000;stroke:#ffffff;stroke-linejoin:miter;\"/>\r\n   </g>\r\n   <g id=\"patch_22\">\r\n    <path clip-path=\"url(#pe8cdd95dd2)\" d=\"M 573.924432 294.3225 \r\nL 599.288068 294.3225 \r\nL 599.288068 261.965357 \r\nL 573.924432 261.965357 \r\nz\r\n\" style=\"fill:#ff0000;stroke:#ffffff;stroke-linejoin:miter;\"/>\r\n   </g>\r\n   <g id=\"patch_23\">\r\n    <path clip-path=\"url(#pe8cdd95dd2)\" d=\"M 599.288068 294.3225 \r\nL 624.651705 294.3225 \r\nL 624.651705 278.143929 \r\nL 599.288068 278.143929 \r\nz\r\n\" style=\"fill:#ff0000;stroke:#ffffff;stroke-linejoin:miter;\"/>\r\n   </g>\r\n   <g id=\"patch_24\">\r\n    <path clip-path=\"url(#pe8cdd95dd2)\" d=\"M 624.651705 294.3225 \r\nL 650.015341 294.3225 \r\nL 650.015341 278.143929 \r\nL 624.651705 278.143929 \r\nz\r\n\" style=\"fill:#ff0000;stroke:#ffffff;stroke-linejoin:miter;\"/>\r\n   </g>\r\n   <g id=\"patch_25\">\r\n    <path clip-path=\"url(#pe8cdd95dd2)\" d=\"M 650.015341 294.3225 \r\nL 675.378977 294.3225 \r\nL 675.378977 294.3225 \r\nL 650.015341 294.3225 \r\nz\r\n\" style=\"fill:#ff0000;stroke:#ffffff;stroke-linejoin:miter;\"/>\r\n   </g>\r\n   <g id=\"patch_26\">\r\n    <path clip-path=\"url(#pe8cdd95dd2)\" d=\"M 675.378977 294.3225 \r\nL 700.742614 294.3225 \r\nL 700.742614 261.965357 \r\nL 675.378977 261.965357 \r\nz\r\n\" style=\"fill:#ff0000;stroke:#ffffff;stroke-linejoin:miter;\"/>\r\n   </g>\r\n   <g id=\"patch_27\">\r\n    <path clip-path=\"url(#pe8cdd95dd2)\" d=\"M 700.742614 294.3225 \r\nL 726.10625 294.3225 \r\nL 726.10625 294.3225 \r\nL 700.742614 294.3225 \r\nz\r\n\" style=\"fill:#ff0000;stroke:#ffffff;stroke-linejoin:miter;\"/>\r\n   </g>\r\n   <g id=\"patch_28\">\r\n    <path clip-path=\"url(#pe8cdd95dd2)\" d=\"M 726.10625 294.3225 \r\nL 751.469886 294.3225 \r\nL 751.469886 294.3225 \r\nL 726.10625 294.3225 \r\nz\r\n\" style=\"fill:#ff0000;stroke:#ffffff;stroke-linejoin:miter;\"/>\r\n   </g>\r\n   <g id=\"patch_29\">\r\n    <path clip-path=\"url(#pe8cdd95dd2)\" d=\"M 751.469886 294.3225 \r\nL 776.833523 294.3225 \r\nL 776.833523 294.3225 \r\nL 751.469886 294.3225 \r\nz\r\n\" style=\"fill:#ff0000;stroke:#ffffff;stroke-linejoin:miter;\"/>\r\n   </g>\r\n   <g id=\"patch_30\">\r\n    <path clip-path=\"url(#pe8cdd95dd2)\" d=\"M 776.833523 294.3225 \r\nL 802.197159 294.3225 \r\nL 802.197159 294.3225 \r\nL 776.833523 294.3225 \r\nz\r\n\" style=\"fill:#ff0000;stroke:#ffffff;stroke-linejoin:miter;\"/>\r\n   </g>\r\n   <g id=\"patch_31\">\r\n    <path clip-path=\"url(#pe8cdd95dd2)\" d=\"M 92.015341 294.3225 \r\nL 117.378977 294.3225 \r\nL 117.378977 286.633674 \r\nL 92.015341 286.633674 \r\nz\r\n\" style=\"fill:#87ceeb;opacity:0.8;stroke:#ffffff;stroke-linejoin:miter;\"/>\r\n   </g>\r\n   <g id=\"patch_32\">\r\n    <path clip-path=\"url(#pe8cdd95dd2)\" d=\"M 117.378977 294.3225 \r\nL 142.742614 294.3225 \r\nL 142.742614 278.944848 \r\nL 117.378977 278.944848 \r\nz\r\n\" style=\"fill:#87ceeb;opacity:0.8;stroke:#ffffff;stroke-linejoin:miter;\"/>\r\n   </g>\r\n   <g id=\"patch_33\">\r\n    <path clip-path=\"url(#pe8cdd95dd2)\" d=\"M 142.742614 294.3225 \r\nL 168.10625 294.3225 \r\nL 168.10625 271.256022 \r\nL 142.742614 271.256022 \r\nz\r\n\" style=\"fill:#87ceeb;opacity:0.8;stroke:#ffffff;stroke-linejoin:miter;\"/>\r\n   </g>\r\n   <g id=\"patch_34\">\r\n    <path clip-path=\"url(#pe8cdd95dd2)\" d=\"M 168.10625 294.3225 \r\nL 193.469886 294.3225 \r\nL 193.469886 294.3225 \r\nL 168.10625 294.3225 \r\nz\r\n\" style=\"fill:#87ceeb;opacity:0.8;stroke:#ffffff;stroke-linejoin:miter;\"/>\r\n   </g>\r\n   <g id=\"patch_35\">\r\n    <path clip-path=\"url(#pe8cdd95dd2)\" d=\"M 193.469886 294.3225 \r\nL 218.833523 294.3225 \r\nL 218.833523 294.3225 \r\nL 193.469886 294.3225 \r\nz\r\n\" style=\"fill:#87ceeb;opacity:0.8;stroke:#ffffff;stroke-linejoin:miter;\"/>\r\n   </g>\r\n   <g id=\"patch_36\">\r\n    <path clip-path=\"url(#pe8cdd95dd2)\" d=\"M 218.833523 294.3225 \r\nL 244.197159 294.3225 \r\nL 244.197159 263.567196 \r\nL 218.833523 263.567196 \r\nz\r\n\" style=\"fill:#87ceeb;opacity:0.8;stroke:#ffffff;stroke-linejoin:miter;\"/>\r\n   </g>\r\n   <g id=\"patch_37\">\r\n    <path clip-path=\"url(#pe8cdd95dd2)\" d=\"M 244.197159 294.3225 \r\nL 269.560795 294.3225 \r\nL 269.560795 271.256022 \r\nL 244.197159 271.256022 \r\nz\r\n\" style=\"fill:#87ceeb;opacity:0.8;stroke:#ffffff;stroke-linejoin:miter;\"/>\r\n   </g>\r\n   <g id=\"patch_38\">\r\n    <path clip-path=\"url(#pe8cdd95dd2)\" d=\"M 269.560795 294.3225 \r\nL 294.924432 294.3225 \r\nL 294.924432 155.923632 \r\nL 269.560795 155.923632 \r\nz\r\n\" style=\"fill:#87ceeb;opacity:0.8;stroke:#ffffff;stroke-linejoin:miter;\"/>\r\n   </g>\r\n   <g id=\"patch_39\">\r\n    <path clip-path=\"url(#pe8cdd95dd2)\" d=\"M 294.924432 294.3225 \r\nL 320.288068 294.3225 \r\nL 320.288068 171.301284 \r\nL 294.924432 171.301284 \r\nz\r\n\" style=\"fill:#87ceeb;opacity:0.8;stroke:#ffffff;stroke-linejoin:miter;\"/>\r\n   </g>\r\n   <g id=\"patch_40\">\r\n    <path clip-path=\"url(#pe8cdd95dd2)\" d=\"M 320.288068 294.3225 \r\nL 345.651705 294.3225 \r\nL 345.651705 232.811892 \r\nL 320.288068 232.811892 \r\nz\r\n\" style=\"fill:#87ceeb;opacity:0.8;stroke:#ffffff;stroke-linejoin:miter;\"/>\r\n   </g>\r\n   <g id=\"patch_41\">\r\n    <path clip-path=\"url(#pe8cdd95dd2)\" d=\"M 345.651705 294.3225 \r\nL 371.015341 294.3225 \r\nL 371.015341 148.234806 \r\nL 345.651705 148.234806 \r\nz\r\n\" style=\"fill:#87ceeb;opacity:0.8;stroke:#ffffff;stroke-linejoin:miter;\"/>\r\n   </g>\r\n   <g id=\"patch_42\">\r\n    <path clip-path=\"url(#pe8cdd95dd2)\" d=\"M 371.015341 294.3225 \r\nL 396.378977 294.3225 \r\nL 396.378977 194.367762 \r\nL 371.015341 194.367762 \r\nz\r\n\" style=\"fill:#87ceeb;opacity:0.8;stroke:#ffffff;stroke-linejoin:miter;\"/>\r\n   </g>\r\n   <g id=\"patch_43\">\r\n    <path clip-path=\"url(#pe8cdd95dd2)\" d=\"M 396.378977 294.3225 \r\nL 421.742614 294.3225 \r\nL 421.742614 294.3225 \r\nL 396.378977 294.3225 \r\nz\r\n\" style=\"fill:#87ceeb;opacity:0.8;stroke:#ffffff;stroke-linejoin:miter;\"/>\r\n   </g>\r\n   <g id=\"patch_44\">\r\n    <path clip-path=\"url(#pe8cdd95dd2)\" d=\"M 421.742614 294.3225 \r\nL 447.10625 294.3225 \r\nL 447.10625 278.944848 \r\nL 421.742614 278.944848 \r\nz\r\n\" style=\"fill:#87ceeb;opacity:0.8;stroke:#ffffff;stroke-linejoin:miter;\"/>\r\n   </g>\r\n   <g id=\"patch_45\">\r\n    <path clip-path=\"url(#pe8cdd95dd2)\" d=\"M 447.10625 294.3225 \r\nL 472.469886 294.3225 \r\nL 472.469886 202.056588 \r\nL 447.10625 202.056588 \r\nz\r\n\" style=\"fill:#87ceeb;opacity:0.8;stroke:#ffffff;stroke-linejoin:miter;\"/>\r\n   </g>\r\n   <g id=\"patch_46\">\r\n    <path clip-path=\"url(#pe8cdd95dd2)\" d=\"M 472.469886 294.3225 \r\nL 497.833523 294.3225 \r\nL 497.833523 294.3225 \r\nL 472.469886 294.3225 \r\nz\r\n\" style=\"fill:#87ceeb;opacity:0.8;stroke:#ffffff;stroke-linejoin:miter;\"/>\r\n   </g>\r\n   <g id=\"patch_47\">\r\n    <path clip-path=\"url(#pe8cdd95dd2)\" d=\"M 497.833523 294.3225 \r\nL 523.197159 294.3225 \r\nL 523.197159 286.633674 \r\nL 497.833523 286.633674 \r\nz\r\n\" style=\"fill:#87ceeb;opacity:0.8;stroke:#ffffff;stroke-linejoin:miter;\"/>\r\n   </g>\r\n   <g id=\"patch_48\">\r\n    <path clip-path=\"url(#pe8cdd95dd2)\" d=\"M 523.197159 294.3225 \r\nL 548.560795 294.3225 \r\nL 548.560795 255.87837 \r\nL 523.197159 255.87837 \r\nz\r\n\" style=\"fill:#87ceeb;opacity:0.8;stroke:#ffffff;stroke-linejoin:miter;\"/>\r\n   </g>\r\n   <g id=\"patch_49\">\r\n    <path clip-path=\"url(#pe8cdd95dd2)\" d=\"M 548.560795 294.3225 \r\nL 573.924432 294.3225 \r\nL 573.924432 163.612458 \r\nL 548.560795 163.612458 \r\nz\r\n\" style=\"fill:#87ceeb;opacity:0.8;stroke:#ffffff;stroke-linejoin:miter;\"/>\r\n   </g>\r\n   <g id=\"patch_50\">\r\n    <path clip-path=\"url(#pe8cdd95dd2)\" d=\"M 573.924432 294.3225 \r\nL 599.288068 294.3225 \r\nL 599.288068 232.811892 \r\nL 573.924432 232.811892 \r\nz\r\n\" style=\"fill:#87ceeb;opacity:0.8;stroke:#ffffff;stroke-linejoin:miter;\"/>\r\n   </g>\r\n   <g id=\"patch_51\">\r\n    <path clip-path=\"url(#pe8cdd95dd2)\" d=\"M 599.288068 294.3225 \r\nL 624.651705 294.3225 \r\nL 624.651705 132.857153 \r\nL 599.288068 132.857153 \r\nz\r\n\" style=\"fill:#87ceeb;opacity:0.8;stroke:#ffffff;stroke-linejoin:miter;\"/>\r\n   </g>\r\n   <g id=\"patch_52\">\r\n    <path clip-path=\"url(#pe8cdd95dd2)\" d=\"M 624.651705 294.3225 \r\nL 650.015341 294.3225 \r\nL 650.015341 217.43424 \r\nL 624.651705 217.43424 \r\nz\r\n\" style=\"fill:#87ceeb;opacity:0.8;stroke:#ffffff;stroke-linejoin:miter;\"/>\r\n   </g>\r\n   <g id=\"patch_53\">\r\n    <path clip-path=\"url(#pe8cdd95dd2)\" d=\"M 650.015341 294.3225 \r\nL 675.378977 294.3225 \r\nL 675.378977 255.87837 \r\nL 650.015341 255.87837 \r\nz\r\n\" style=\"fill:#87ceeb;opacity:0.8;stroke:#ffffff;stroke-linejoin:miter;\"/>\r\n   </g>\r\n   <g id=\"patch_54\">\r\n    <path clip-path=\"url(#pe8cdd95dd2)\" d=\"M 675.378977 294.3225 \r\nL 700.742614 294.3225 \r\nL 700.742614 271.256022 \r\nL 675.378977 271.256022 \r\nz\r\n\" style=\"fill:#87ceeb;opacity:0.8;stroke:#ffffff;stroke-linejoin:miter;\"/>\r\n   </g>\r\n   <g id=\"patch_55\">\r\n    <path clip-path=\"url(#pe8cdd95dd2)\" d=\"M 700.742614 294.3225 \r\nL 726.10625 294.3225 \r\nL 726.10625 132.857153 \r\nL 700.742614 132.857153 \r\nz\r\n\" style=\"fill:#87ceeb;opacity:0.8;stroke:#ffffff;stroke-linejoin:miter;\"/>\r\n   </g>\r\n   <g id=\"patch_56\">\r\n    <path clip-path=\"url(#pe8cdd95dd2)\" d=\"M 726.10625 294.3225 \r\nL 751.469886 294.3225 \r\nL 751.469886 255.87837 \r\nL 726.10625 255.87837 \r\nz\r\n\" style=\"fill:#87ceeb;opacity:0.8;stroke:#ffffff;stroke-linejoin:miter;\"/>\r\n   </g>\r\n   <g id=\"patch_57\">\r\n    <path clip-path=\"url(#pe8cdd95dd2)\" d=\"M 751.469886 294.3225 \r\nL 776.833523 294.3225 \r\nL 776.833523 271.256022 \r\nL 751.469886 271.256022 \r\nz\r\n\" style=\"fill:#87ceeb;opacity:0.8;stroke:#ffffff;stroke-linejoin:miter;\"/>\r\n   </g>\r\n   <g id=\"patch_58\">\r\n    <path clip-path=\"url(#pe8cdd95dd2)\" d=\"M 776.833523 294.3225 \r\nL 802.197159 294.3225 \r\nL 802.197159 278.944848 \r\nL 776.833523 278.944848 \r\nz\r\n\" style=\"fill:#87ceeb;opacity:0.8;stroke:#ffffff;stroke-linejoin:miter;\"/>\r\n   </g>\r\n   <g id=\"matplotlib.axis_1\">\r\n    <g id=\"xtick_1\">\r\n     <g id=\"line2d_1\">\r\n      <defs>\r\n       <path d=\"M 0 0 \r\nL 0 3.5 \r\n\" id=\"m2bc2dad496\" style=\"stroke:#000000;stroke-width:0.8;\"/>\r\n      </defs>\r\n      <g>\r\n       <use style=\"stroke:#000000;stroke-width:0.8;\" x=\"81.869886\" xlink:href=\"#m2bc2dad496\" y=\"294.3225\"/>\r\n      </g>\r\n     </g>\r\n     <g id=\"text_1\">\r\n      <!-- 0 -->\r\n      <defs>\r\n       <path d=\"M 31.78125 66.40625 \r\nQ 24.171875 66.40625 20.328125 58.90625 \r\nQ 16.5 51.421875 16.5 36.375 \r\nQ 16.5 21.390625 20.328125 13.890625 \r\nQ 24.171875 6.390625 31.78125 6.390625 \r\nQ 39.453125 6.390625 43.28125 13.890625 \r\nQ 47.125 21.390625 47.125 36.375 \r\nQ 47.125 51.421875 43.28125 58.90625 \r\nQ 39.453125 66.40625 31.78125 66.40625 \r\nz\r\nM 31.78125 74.21875 \r\nQ 44.046875 74.21875 50.515625 64.515625 \r\nQ 56.984375 54.828125 56.984375 36.375 \r\nQ 56.984375 17.96875 50.515625 8.265625 \r\nQ 44.046875 -1.421875 31.78125 -1.421875 \r\nQ 19.53125 -1.421875 13.0625 8.265625 \r\nQ 6.59375 17.96875 6.59375 36.375 \r\nQ 6.59375 54.828125 13.0625 64.515625 \r\nQ 19.53125 74.21875 31.78125 74.21875 \r\nz\r\n\" id=\"DejaVuSans-48\"/>\r\n      </defs>\r\n      <g transform=\"translate(78.688636 308.920937)scale(0.1 -0.1)\">\r\n       <use xlink:href=\"#DejaVuSans-48\"/>\r\n      </g>\r\n     </g>\r\n    </g>\r\n    <g id=\"xtick_2\">\r\n     <g id=\"line2d_2\">\r\n      <g>\r\n       <use style=\"stroke:#000000;stroke-width:0.8;\" x=\"208.688068\" xlink:href=\"#m2bc2dad496\" y=\"294.3225\"/>\r\n      </g>\r\n     </g>\r\n     <g id=\"text_2\">\r\n      <!-- 50 -->\r\n      <defs>\r\n       <path d=\"M 10.796875 72.90625 \r\nL 49.515625 72.90625 \r\nL 49.515625 64.59375 \r\nL 19.828125 64.59375 \r\nL 19.828125 46.734375 \r\nQ 21.96875 47.46875 24.109375 47.828125 \r\nQ 26.265625 48.1875 28.421875 48.1875 \r\nQ 40.625 48.1875 47.75 41.5 \r\nQ 54.890625 34.8125 54.890625 23.390625 \r\nQ 54.890625 11.625 47.5625 5.09375 \r\nQ 40.234375 -1.421875 26.90625 -1.421875 \r\nQ 22.3125 -1.421875 17.546875 -0.640625 \r\nQ 12.796875 0.140625 7.71875 1.703125 \r\nL 7.71875 11.625 \r\nQ 12.109375 9.234375 16.796875 8.0625 \r\nQ 21.484375 6.890625 26.703125 6.890625 \r\nQ 35.15625 6.890625 40.078125 11.328125 \r\nQ 45.015625 15.765625 45.015625 23.390625 \r\nQ 45.015625 31 40.078125 35.4375 \r\nQ 35.15625 39.890625 26.703125 39.890625 \r\nQ 22.75 39.890625 18.8125 39.015625 \r\nQ 14.890625 38.140625 10.796875 36.28125 \r\nz\r\n\" id=\"DejaVuSans-53\"/>\r\n      </defs>\r\n      <g transform=\"translate(202.325568 308.920937)scale(0.1 -0.1)\">\r\n       <use xlink:href=\"#DejaVuSans-53\"/>\r\n       <use x=\"63.623047\" xlink:href=\"#DejaVuSans-48\"/>\r\n      </g>\r\n     </g>\r\n    </g>\r\n    <g id=\"xtick_3\">\r\n     <g id=\"line2d_3\">\r\n      <g>\r\n       <use style=\"stroke:#000000;stroke-width:0.8;\" x=\"335.50625\" xlink:href=\"#m2bc2dad496\" y=\"294.3225\"/>\r\n      </g>\r\n     </g>\r\n     <g id=\"text_3\">\r\n      <!-- 100 -->\r\n      <defs>\r\n       <path d=\"M 12.40625 8.296875 \r\nL 28.515625 8.296875 \r\nL 28.515625 63.921875 \r\nL 10.984375 60.40625 \r\nL 10.984375 69.390625 \r\nL 28.421875 72.90625 \r\nL 38.28125 72.90625 \r\nL 38.28125 8.296875 \r\nL 54.390625 8.296875 \r\nL 54.390625 0 \r\nL 12.40625 0 \r\nz\r\n\" id=\"DejaVuSans-49\"/>\r\n      </defs>\r\n      <g transform=\"translate(325.9625 308.920937)scale(0.1 -0.1)\">\r\n       <use xlink:href=\"#DejaVuSans-49\"/>\r\n       <use x=\"63.623047\" xlink:href=\"#DejaVuSans-48\"/>\r\n       <use x=\"127.246094\" xlink:href=\"#DejaVuSans-48\"/>\r\n      </g>\r\n     </g>\r\n    </g>\r\n    <g id=\"xtick_4\">\r\n     <g id=\"line2d_4\">\r\n      <g>\r\n       <use style=\"stroke:#000000;stroke-width:0.8;\" x=\"462.324432\" xlink:href=\"#m2bc2dad496\" y=\"294.3225\"/>\r\n      </g>\r\n     </g>\r\n     <g id=\"text_4\">\r\n      <!-- 150 -->\r\n      <g transform=\"translate(452.780682 308.920937)scale(0.1 -0.1)\">\r\n       <use xlink:href=\"#DejaVuSans-49\"/>\r\n       <use x=\"63.623047\" xlink:href=\"#DejaVuSans-53\"/>\r\n       <use x=\"127.246094\" xlink:href=\"#DejaVuSans-48\"/>\r\n      </g>\r\n     </g>\r\n    </g>\r\n    <g id=\"xtick_5\">\r\n     <g id=\"line2d_5\">\r\n      <g>\r\n       <use style=\"stroke:#000000;stroke-width:0.8;\" x=\"589.142614\" xlink:href=\"#m2bc2dad496\" y=\"294.3225\"/>\r\n      </g>\r\n     </g>\r\n     <g id=\"text_5\">\r\n      <!-- 200 -->\r\n      <defs>\r\n       <path d=\"M 19.1875 8.296875 \r\nL 53.609375 8.296875 \r\nL 53.609375 0 \r\nL 7.328125 0 \r\nL 7.328125 8.296875 \r\nQ 12.9375 14.109375 22.625 23.890625 \r\nQ 32.328125 33.6875 34.8125 36.53125 \r\nQ 39.546875 41.84375 41.421875 45.53125 \r\nQ 43.3125 49.21875 43.3125 52.78125 \r\nQ 43.3125 58.59375 39.234375 62.25 \r\nQ 35.15625 65.921875 28.609375 65.921875 \r\nQ 23.96875 65.921875 18.8125 64.3125 \r\nQ 13.671875 62.703125 7.8125 59.421875 \r\nL 7.8125 69.390625 \r\nQ 13.765625 71.78125 18.9375 73 \r\nQ 24.125 74.21875 28.421875 74.21875 \r\nQ 39.75 74.21875 46.484375 68.546875 \r\nQ 53.21875 62.890625 53.21875 53.421875 \r\nQ 53.21875 48.921875 51.53125 44.890625 \r\nQ 49.859375 40.875 45.40625 35.40625 \r\nQ 44.1875 33.984375 37.640625 27.21875 \r\nQ 31.109375 20.453125 19.1875 8.296875 \r\nz\r\n\" id=\"DejaVuSans-50\"/>\r\n      </defs>\r\n      <g transform=\"translate(579.598864 308.920937)scale(0.1 -0.1)\">\r\n       <use xlink:href=\"#DejaVuSans-50\"/>\r\n       <use x=\"63.623047\" xlink:href=\"#DejaVuSans-48\"/>\r\n       <use x=\"127.246094\" xlink:href=\"#DejaVuSans-48\"/>\r\n      </g>\r\n     </g>\r\n    </g>\r\n    <g id=\"xtick_6\">\r\n     <g id=\"line2d_6\">\r\n      <g>\r\n       <use style=\"stroke:#000000;stroke-width:0.8;\" x=\"715.960795\" xlink:href=\"#m2bc2dad496\" y=\"294.3225\"/>\r\n      </g>\r\n     </g>\r\n     <g id=\"text_6\">\r\n      <!-- 250 -->\r\n      <g transform=\"translate(706.417045 308.920937)scale(0.1 -0.1)\">\r\n       <use xlink:href=\"#DejaVuSans-50\"/>\r\n       <use x=\"63.623047\" xlink:href=\"#DejaVuSans-53\"/>\r\n       <use x=\"127.246094\" xlink:href=\"#DejaVuSans-48\"/>\r\n      </g>\r\n     </g>\r\n    </g>\r\n    <g id=\"text_7\">\r\n     <!-- tempo[dias] -->\r\n     <defs>\r\n      <path d=\"M 18.3125 70.21875 \r\nL 18.3125 54.6875 \r\nL 36.8125 54.6875 \r\nL 36.8125 47.703125 \r\nL 18.3125 47.703125 \r\nL 18.3125 18.015625 \r\nQ 18.3125 11.328125 20.140625 9.421875 \r\nQ 21.96875 7.515625 27.59375 7.515625 \r\nL 36.8125 7.515625 \r\nL 36.8125 0 \r\nL 27.59375 0 \r\nQ 17.1875 0 13.234375 3.875 \r\nQ 9.28125 7.765625 9.28125 18.015625 \r\nL 9.28125 47.703125 \r\nL 2.6875 47.703125 \r\nL 2.6875 54.6875 \r\nL 9.28125 54.6875 \r\nL 9.28125 70.21875 \r\nz\r\n\" id=\"DejaVuSans-116\"/>\r\n      <path d=\"M 56.203125 29.59375 \r\nL 56.203125 25.203125 \r\nL 14.890625 25.203125 \r\nQ 15.484375 15.921875 20.484375 11.0625 \r\nQ 25.484375 6.203125 34.421875 6.203125 \r\nQ 39.59375 6.203125 44.453125 7.46875 \r\nQ 49.3125 8.734375 54.109375 11.28125 \r\nL 54.109375 2.78125 \r\nQ 49.265625 0.734375 44.1875 -0.34375 \r\nQ 39.109375 -1.421875 33.890625 -1.421875 \r\nQ 20.796875 -1.421875 13.15625 6.1875 \r\nQ 5.515625 13.8125 5.515625 26.8125 \r\nQ 5.515625 40.234375 12.765625 48.109375 \r\nQ 20.015625 56 32.328125 56 \r\nQ 43.359375 56 49.78125 48.890625 \r\nQ 56.203125 41.796875 56.203125 29.59375 \r\nz\r\nM 47.21875 32.234375 \r\nQ 47.125 39.59375 43.09375 43.984375 \r\nQ 39.0625 48.390625 32.421875 48.390625 \r\nQ 24.90625 48.390625 20.390625 44.140625 \r\nQ 15.875 39.890625 15.1875 32.171875 \r\nz\r\n\" id=\"DejaVuSans-101\"/>\r\n      <path d=\"M 52 44.1875 \r\nQ 55.375 50.25 60.0625 53.125 \r\nQ 64.75 56 71.09375 56 \r\nQ 79.640625 56 84.28125 50.015625 \r\nQ 88.921875 44.046875 88.921875 33.015625 \r\nL 88.921875 0 \r\nL 79.890625 0 \r\nL 79.890625 32.71875 \r\nQ 79.890625 40.578125 77.09375 44.375 \r\nQ 74.3125 48.1875 68.609375 48.1875 \r\nQ 61.625 48.1875 57.5625 43.546875 \r\nQ 53.515625 38.921875 53.515625 30.90625 \r\nL 53.515625 0 \r\nL 44.484375 0 \r\nL 44.484375 32.71875 \r\nQ 44.484375 40.625 41.703125 44.40625 \r\nQ 38.921875 48.1875 33.109375 48.1875 \r\nQ 26.21875 48.1875 22.15625 43.53125 \r\nQ 18.109375 38.875 18.109375 30.90625 \r\nL 18.109375 0 \r\nL 9.078125 0 \r\nL 9.078125 54.6875 \r\nL 18.109375 54.6875 \r\nL 18.109375 46.1875 \r\nQ 21.1875 51.21875 25.484375 53.609375 \r\nQ 29.78125 56 35.6875 56 \r\nQ 41.65625 56 45.828125 52.96875 \r\nQ 50 49.953125 52 44.1875 \r\nz\r\n\" id=\"DejaVuSans-109\"/>\r\n      <path d=\"M 18.109375 8.203125 \r\nL 18.109375 -20.796875 \r\nL 9.078125 -20.796875 \r\nL 9.078125 54.6875 \r\nL 18.109375 54.6875 \r\nL 18.109375 46.390625 \r\nQ 20.953125 51.265625 25.265625 53.625 \r\nQ 29.59375 56 35.59375 56 \r\nQ 45.5625 56 51.78125 48.09375 \r\nQ 58.015625 40.1875 58.015625 27.296875 \r\nQ 58.015625 14.40625 51.78125 6.484375 \r\nQ 45.5625 -1.421875 35.59375 -1.421875 \r\nQ 29.59375 -1.421875 25.265625 0.953125 \r\nQ 20.953125 3.328125 18.109375 8.203125 \r\nz\r\nM 48.6875 27.296875 \r\nQ 48.6875 37.203125 44.609375 42.84375 \r\nQ 40.53125 48.484375 33.40625 48.484375 \r\nQ 26.265625 48.484375 22.1875 42.84375 \r\nQ 18.109375 37.203125 18.109375 27.296875 \r\nQ 18.109375 17.390625 22.1875 11.75 \r\nQ 26.265625 6.109375 33.40625 6.109375 \r\nQ 40.53125 6.109375 44.609375 11.75 \r\nQ 48.6875 17.390625 48.6875 27.296875 \r\nz\r\n\" id=\"DejaVuSans-112\"/>\r\n      <path d=\"M 30.609375 48.390625 \r\nQ 23.390625 48.390625 19.1875 42.75 \r\nQ 14.984375 37.109375 14.984375 27.296875 \r\nQ 14.984375 17.484375 19.15625 11.84375 \r\nQ 23.34375 6.203125 30.609375 6.203125 \r\nQ 37.796875 6.203125 41.984375 11.859375 \r\nQ 46.1875 17.53125 46.1875 27.296875 \r\nQ 46.1875 37.015625 41.984375 42.703125 \r\nQ 37.796875 48.390625 30.609375 48.390625 \r\nz\r\nM 30.609375 56 \r\nQ 42.328125 56 49.015625 48.375 \r\nQ 55.71875 40.765625 55.71875 27.296875 \r\nQ 55.71875 13.875 49.015625 6.21875 \r\nQ 42.328125 -1.421875 30.609375 -1.421875 \r\nQ 18.84375 -1.421875 12.171875 6.21875 \r\nQ 5.515625 13.875 5.515625 27.296875 \r\nQ 5.515625 40.765625 12.171875 48.375 \r\nQ 18.84375 56 30.609375 56 \r\nz\r\n\" id=\"DejaVuSans-111\"/>\r\n      <path d=\"M 8.59375 75.984375 \r\nL 29.296875 75.984375 \r\nL 29.296875 69 \r\nL 17.578125 69 \r\nL 17.578125 -6.203125 \r\nL 29.296875 -6.203125 \r\nL 29.296875 -13.1875 \r\nL 8.59375 -13.1875 \r\nz\r\n\" id=\"DejaVuSans-91\"/>\r\n      <path d=\"M 45.40625 46.390625 \r\nL 45.40625 75.984375 \r\nL 54.390625 75.984375 \r\nL 54.390625 0 \r\nL 45.40625 0 \r\nL 45.40625 8.203125 \r\nQ 42.578125 3.328125 38.25 0.953125 \r\nQ 33.9375 -1.421875 27.875 -1.421875 \r\nQ 17.96875 -1.421875 11.734375 6.484375 \r\nQ 5.515625 14.40625 5.515625 27.296875 \r\nQ 5.515625 40.1875 11.734375 48.09375 \r\nQ 17.96875 56 27.875 56 \r\nQ 33.9375 56 38.25 53.625 \r\nQ 42.578125 51.265625 45.40625 46.390625 \r\nz\r\nM 14.796875 27.296875 \r\nQ 14.796875 17.390625 18.875 11.75 \r\nQ 22.953125 6.109375 30.078125 6.109375 \r\nQ 37.203125 6.109375 41.296875 11.75 \r\nQ 45.40625 17.390625 45.40625 27.296875 \r\nQ 45.40625 37.203125 41.296875 42.84375 \r\nQ 37.203125 48.484375 30.078125 48.484375 \r\nQ 22.953125 48.484375 18.875 42.84375 \r\nQ 14.796875 37.203125 14.796875 27.296875 \r\nz\r\n\" id=\"DejaVuSans-100\"/>\r\n      <path d=\"M 9.421875 54.6875 \r\nL 18.40625 54.6875 \r\nL 18.40625 0 \r\nL 9.421875 0 \r\nz\r\nM 9.421875 75.984375 \r\nL 18.40625 75.984375 \r\nL 18.40625 64.59375 \r\nL 9.421875 64.59375 \r\nz\r\n\" id=\"DejaVuSans-105\"/>\r\n      <path d=\"M 34.28125 27.484375 \r\nQ 23.390625 27.484375 19.1875 25 \r\nQ 14.984375 22.515625 14.984375 16.5 \r\nQ 14.984375 11.71875 18.140625 8.90625 \r\nQ 21.296875 6.109375 26.703125 6.109375 \r\nQ 34.1875 6.109375 38.703125 11.40625 \r\nQ 43.21875 16.703125 43.21875 25.484375 \r\nL 43.21875 27.484375 \r\nz\r\nM 52.203125 31.203125 \r\nL 52.203125 0 \r\nL 43.21875 0 \r\nL 43.21875 8.296875 \r\nQ 40.140625 3.328125 35.546875 0.953125 \r\nQ 30.953125 -1.421875 24.3125 -1.421875 \r\nQ 15.921875 -1.421875 10.953125 3.296875 \r\nQ 6 8.015625 6 15.921875 \r\nQ 6 25.140625 12.171875 29.828125 \r\nQ 18.359375 34.515625 30.609375 34.515625 \r\nL 43.21875 34.515625 \r\nL 43.21875 35.40625 \r\nQ 43.21875 41.609375 39.140625 45 \r\nQ 35.0625 48.390625 27.6875 48.390625 \r\nQ 23 48.390625 18.546875 47.265625 \r\nQ 14.109375 46.140625 10.015625 43.890625 \r\nL 10.015625 52.203125 \r\nQ 14.9375 54.109375 19.578125 55.046875 \r\nQ 24.21875 56 28.609375 56 \r\nQ 40.484375 56 46.34375 49.84375 \r\nQ 52.203125 43.703125 52.203125 31.203125 \r\nz\r\n\" id=\"DejaVuSans-97\"/>\r\n      <path d=\"M 44.28125 53.078125 \r\nL 44.28125 44.578125 \r\nQ 40.484375 46.53125 36.375 47.5 \r\nQ 32.28125 48.484375 27.875 48.484375 \r\nQ 21.1875 48.484375 17.84375 46.4375 \r\nQ 14.5 44.390625 14.5 40.28125 \r\nQ 14.5 37.15625 16.890625 35.375 \r\nQ 19.28125 33.59375 26.515625 31.984375 \r\nL 29.59375 31.296875 \r\nQ 39.15625 29.25 43.1875 25.515625 \r\nQ 47.21875 21.78125 47.21875 15.09375 \r\nQ 47.21875 7.46875 41.1875 3.015625 \r\nQ 35.15625 -1.421875 24.609375 -1.421875 \r\nQ 20.21875 -1.421875 15.453125 -0.5625 \r\nQ 10.6875 0.296875 5.421875 2 \r\nL 5.421875 11.28125 \r\nQ 10.40625 8.6875 15.234375 7.390625 \r\nQ 20.0625 6.109375 24.8125 6.109375 \r\nQ 31.15625 6.109375 34.5625 8.28125 \r\nQ 37.984375 10.453125 37.984375 14.40625 \r\nQ 37.984375 18.0625 35.515625 20.015625 \r\nQ 33.0625 21.96875 24.703125 23.78125 \r\nL 21.578125 24.515625 \r\nQ 13.234375 26.265625 9.515625 29.90625 \r\nQ 5.8125 33.546875 5.8125 39.890625 \r\nQ 5.8125 47.609375 11.28125 51.796875 \r\nQ 16.75 56 26.8125 56 \r\nQ 31.78125 56 36.171875 55.265625 \r\nQ 40.578125 54.546875 44.28125 53.078125 \r\nz\r\n\" id=\"DejaVuSans-115\"/>\r\n      <path d=\"M 30.421875 75.984375 \r\nL 30.421875 -13.1875 \r\nL 9.71875 -13.1875 \r\nL 9.71875 -6.203125 \r\nL 21.390625 -6.203125 \r\nL 21.390625 69 \r\nL 9.71875 69 \r\nL 9.71875 75.984375 \r\nz\r\n\" id=\"DejaVuSans-93\"/>\r\n     </defs>\r\n     <g transform=\"translate(416.832031 322.599062)scale(0.1 -0.1)\">\r\n      <use xlink:href=\"#DejaVuSans-116\"/>\r\n      <use x=\"39.208984\" xlink:href=\"#DejaVuSans-101\"/>\r\n      <use x=\"100.732422\" xlink:href=\"#DejaVuSans-109\"/>\r\n      <use x=\"198.144531\" xlink:href=\"#DejaVuSans-112\"/>\r\n      <use x=\"261.621094\" xlink:href=\"#DejaVuSans-111\"/>\r\n      <use x=\"322.802734\" xlink:href=\"#DejaVuSans-91\"/>\r\n      <use x=\"361.816406\" xlink:href=\"#DejaVuSans-100\"/>\r\n      <use x=\"425.292969\" xlink:href=\"#DejaVuSans-105\"/>\r\n      <use x=\"453.076172\" xlink:href=\"#DejaVuSans-97\"/>\r\n      <use x=\"514.355469\" xlink:href=\"#DejaVuSans-115\"/>\r\n      <use x=\"566.455078\" xlink:href=\"#DejaVuSans-93\"/>\r\n     </g>\r\n    </g>\r\n   </g>\r\n   <g id=\"matplotlib.axis_2\">\r\n    <g id=\"ytick_1\">\r\n     <g id=\"line2d_7\">\r\n      <defs>\r\n       <path d=\"M 0 0 \r\nL -3.5 0 \r\n\" id=\"mb09f22ee4b\" style=\"stroke:#000000;stroke-width:0.8;\"/>\r\n      </defs>\r\n      <g>\r\n       <use style=\"stroke:#000000;stroke-width:0.8;\" x=\"56.50625\" xlink:href=\"#mb09f22ee4b\" y=\"294.3225\"/>\r\n      </g>\r\n     </g>\r\n     <g id=\"text_8\">\r\n      <!-- 0.000 -->\r\n      <defs>\r\n       <path d=\"M 10.6875 12.40625 \r\nL 21 12.40625 \r\nL 21 0 \r\nL 10.6875 0 \r\nz\r\n\" id=\"DejaVuSans-46\"/>\r\n      </defs>\r\n      <g transform=\"translate(20.878125 298.121719)scale(0.1 -0.1)\">\r\n       <use xlink:href=\"#DejaVuSans-48\"/>\r\n       <use x=\"63.623047\" xlink:href=\"#DejaVuSans-46\"/>\r\n       <use x=\"95.410156\" xlink:href=\"#DejaVuSans-48\"/>\r\n       <use x=\"159.033203\" xlink:href=\"#DejaVuSans-48\"/>\r\n       <use x=\"222.65625\" xlink:href=\"#DejaVuSans-48\"/>\r\n      </g>\r\n     </g>\r\n    </g>\r\n    <g id=\"ytick_2\">\r\n     <g id=\"line2d_8\">\r\n      <g>\r\n       <use style=\"stroke:#000000;stroke-width:0.8;\" x=\"56.50625\" xlink:href=\"#mb09f22ee4b\" y=\"263.259643\"/>\r\n      </g>\r\n     </g>\r\n     <g id=\"text_9\">\r\n      <!-- 0.002 -->\r\n      <g transform=\"translate(20.878125 267.058862)scale(0.1 -0.1)\">\r\n       <use xlink:href=\"#DejaVuSans-48\"/>\r\n       <use x=\"63.623047\" xlink:href=\"#DejaVuSans-46\"/>\r\n       <use x=\"95.410156\" xlink:href=\"#DejaVuSans-48\"/>\r\n       <use x=\"159.033203\" xlink:href=\"#DejaVuSans-48\"/>\r\n       <use x=\"222.65625\" xlink:href=\"#DejaVuSans-50\"/>\r\n      </g>\r\n     </g>\r\n    </g>\r\n    <g id=\"ytick_3\">\r\n     <g id=\"line2d_9\">\r\n      <g>\r\n       <use style=\"stroke:#000000;stroke-width:0.8;\" x=\"56.50625\" xlink:href=\"#mb09f22ee4b\" y=\"232.196786\"/>\r\n      </g>\r\n     </g>\r\n     <g id=\"text_10\">\r\n      <!-- 0.004 -->\r\n      <defs>\r\n       <path d=\"M 37.796875 64.3125 \r\nL 12.890625 25.390625 \r\nL 37.796875 25.390625 \r\nz\r\nM 35.203125 72.90625 \r\nL 47.609375 72.90625 \r\nL 47.609375 25.390625 \r\nL 58.015625 25.390625 \r\nL 58.015625 17.1875 \r\nL 47.609375 17.1875 \r\nL 47.609375 0 \r\nL 37.796875 0 \r\nL 37.796875 17.1875 \r\nL 4.890625 17.1875 \r\nL 4.890625 26.703125 \r\nz\r\n\" id=\"DejaVuSans-52\"/>\r\n      </defs>\r\n      <g transform=\"translate(20.878125 235.996004)scale(0.1 -0.1)\">\r\n       <use xlink:href=\"#DejaVuSans-48\"/>\r\n       <use x=\"63.623047\" xlink:href=\"#DejaVuSans-46\"/>\r\n       <use x=\"95.410156\" xlink:href=\"#DejaVuSans-48\"/>\r\n       <use x=\"159.033203\" xlink:href=\"#DejaVuSans-48\"/>\r\n       <use x=\"222.65625\" xlink:href=\"#DejaVuSans-52\"/>\r\n      </g>\r\n     </g>\r\n    </g>\r\n    <g id=\"ytick_4\">\r\n     <g id=\"line2d_10\">\r\n      <g>\r\n       <use style=\"stroke:#000000;stroke-width:0.8;\" x=\"56.50625\" xlink:href=\"#mb09f22ee4b\" y=\"201.133929\"/>\r\n      </g>\r\n     </g>\r\n     <g id=\"text_11\">\r\n      <!-- 0.006 -->\r\n      <defs>\r\n       <path d=\"M 33.015625 40.375 \r\nQ 26.375 40.375 22.484375 35.828125 \r\nQ 18.609375 31.296875 18.609375 23.390625 \r\nQ 18.609375 15.53125 22.484375 10.953125 \r\nQ 26.375 6.390625 33.015625 6.390625 \r\nQ 39.65625 6.390625 43.53125 10.953125 \r\nQ 47.40625 15.53125 47.40625 23.390625 \r\nQ 47.40625 31.296875 43.53125 35.828125 \r\nQ 39.65625 40.375 33.015625 40.375 \r\nz\r\nM 52.59375 71.296875 \r\nL 52.59375 62.3125 \r\nQ 48.875 64.0625 45.09375 64.984375 \r\nQ 41.3125 65.921875 37.59375 65.921875 \r\nQ 27.828125 65.921875 22.671875 59.328125 \r\nQ 17.53125 52.734375 16.796875 39.40625 \r\nQ 19.671875 43.65625 24.015625 45.921875 \r\nQ 28.375 48.1875 33.59375 48.1875 \r\nQ 44.578125 48.1875 50.953125 41.515625 \r\nQ 57.328125 34.859375 57.328125 23.390625 \r\nQ 57.328125 12.15625 50.6875 5.359375 \r\nQ 44.046875 -1.421875 33.015625 -1.421875 \r\nQ 20.359375 -1.421875 13.671875 8.265625 \r\nQ 6.984375 17.96875 6.984375 36.375 \r\nQ 6.984375 53.65625 15.1875 63.9375 \r\nQ 23.390625 74.21875 37.203125 74.21875 \r\nQ 40.921875 74.21875 44.703125 73.484375 \r\nQ 48.484375 72.75 52.59375 71.296875 \r\nz\r\n\" id=\"DejaVuSans-54\"/>\r\n      </defs>\r\n      <g transform=\"translate(20.878125 204.933147)scale(0.1 -0.1)\">\r\n       <use xlink:href=\"#DejaVuSans-48\"/>\r\n       <use x=\"63.623047\" xlink:href=\"#DejaVuSans-46\"/>\r\n       <use x=\"95.410156\" xlink:href=\"#DejaVuSans-48\"/>\r\n       <use x=\"159.033203\" xlink:href=\"#DejaVuSans-48\"/>\r\n       <use x=\"222.65625\" xlink:href=\"#DejaVuSans-54\"/>\r\n      </g>\r\n     </g>\r\n    </g>\r\n    <g id=\"ytick_5\">\r\n     <g id=\"line2d_11\">\r\n      <g>\r\n       <use style=\"stroke:#000000;stroke-width:0.8;\" x=\"56.50625\" xlink:href=\"#mb09f22ee4b\" y=\"170.071071\"/>\r\n      </g>\r\n     </g>\r\n     <g id=\"text_12\">\r\n      <!-- 0.008 -->\r\n      <defs>\r\n       <path d=\"M 31.78125 34.625 \r\nQ 24.75 34.625 20.71875 30.859375 \r\nQ 16.703125 27.09375 16.703125 20.515625 \r\nQ 16.703125 13.921875 20.71875 10.15625 \r\nQ 24.75 6.390625 31.78125 6.390625 \r\nQ 38.8125 6.390625 42.859375 10.171875 \r\nQ 46.921875 13.96875 46.921875 20.515625 \r\nQ 46.921875 27.09375 42.890625 30.859375 \r\nQ 38.875 34.625 31.78125 34.625 \r\nz\r\nM 21.921875 38.8125 \r\nQ 15.578125 40.375 12.03125 44.71875 \r\nQ 8.5 49.078125 8.5 55.328125 \r\nQ 8.5 64.0625 14.71875 69.140625 \r\nQ 20.953125 74.21875 31.78125 74.21875 \r\nQ 42.671875 74.21875 48.875 69.140625 \r\nQ 55.078125 64.0625 55.078125 55.328125 \r\nQ 55.078125 49.078125 51.53125 44.71875 \r\nQ 48 40.375 41.703125 38.8125 \r\nQ 48.828125 37.15625 52.796875 32.3125 \r\nQ 56.78125 27.484375 56.78125 20.515625 \r\nQ 56.78125 9.90625 50.3125 4.234375 \r\nQ 43.84375 -1.421875 31.78125 -1.421875 \r\nQ 19.734375 -1.421875 13.25 4.234375 \r\nQ 6.78125 9.90625 6.78125 20.515625 \r\nQ 6.78125 27.484375 10.78125 32.3125 \r\nQ 14.796875 37.15625 21.921875 38.8125 \r\nz\r\nM 18.3125 54.390625 \r\nQ 18.3125 48.734375 21.84375 45.5625 \r\nQ 25.390625 42.390625 31.78125 42.390625 \r\nQ 38.140625 42.390625 41.71875 45.5625 \r\nQ 45.3125 48.734375 45.3125 54.390625 \r\nQ 45.3125 60.0625 41.71875 63.234375 \r\nQ 38.140625 66.40625 31.78125 66.40625 \r\nQ 25.390625 66.40625 21.84375 63.234375 \r\nQ 18.3125 60.0625 18.3125 54.390625 \r\nz\r\n\" id=\"DejaVuSans-56\"/>\r\n      </defs>\r\n      <g transform=\"translate(20.878125 173.87029)scale(0.1 -0.1)\">\r\n       <use xlink:href=\"#DejaVuSans-48\"/>\r\n       <use x=\"63.623047\" xlink:href=\"#DejaVuSans-46\"/>\r\n       <use x=\"95.410156\" xlink:href=\"#DejaVuSans-48\"/>\r\n       <use x=\"159.033203\" xlink:href=\"#DejaVuSans-48\"/>\r\n       <use x=\"222.65625\" xlink:href=\"#DejaVuSans-56\"/>\r\n      </g>\r\n     </g>\r\n    </g>\r\n    <g id=\"ytick_6\">\r\n     <g id=\"line2d_12\">\r\n      <g>\r\n       <use style=\"stroke:#000000;stroke-width:0.8;\" x=\"56.50625\" xlink:href=\"#mb09f22ee4b\" y=\"139.008214\"/>\r\n      </g>\r\n     </g>\r\n     <g id=\"text_13\">\r\n      <!-- 0.010 -->\r\n      <g transform=\"translate(20.878125 142.807433)scale(0.1 -0.1)\">\r\n       <use xlink:href=\"#DejaVuSans-48\"/>\r\n       <use x=\"63.623047\" xlink:href=\"#DejaVuSans-46\"/>\r\n       <use x=\"95.410156\" xlink:href=\"#DejaVuSans-48\"/>\r\n       <use x=\"159.033203\" xlink:href=\"#DejaVuSans-49\"/>\r\n       <use x=\"222.65625\" xlink:href=\"#DejaVuSans-48\"/>\r\n      </g>\r\n     </g>\r\n    </g>\r\n    <g id=\"ytick_7\">\r\n     <g id=\"line2d_13\">\r\n      <g>\r\n       <use style=\"stroke:#000000;stroke-width:0.8;\" x=\"56.50625\" xlink:href=\"#mb09f22ee4b\" y=\"107.945357\"/>\r\n      </g>\r\n     </g>\r\n     <g id=\"text_14\">\r\n      <!-- 0.012 -->\r\n      <g transform=\"translate(20.878125 111.744576)scale(0.1 -0.1)\">\r\n       <use xlink:href=\"#DejaVuSans-48\"/>\r\n       <use x=\"63.623047\" xlink:href=\"#DejaVuSans-46\"/>\r\n       <use x=\"95.410156\" xlink:href=\"#DejaVuSans-48\"/>\r\n       <use x=\"159.033203\" xlink:href=\"#DejaVuSans-49\"/>\r\n       <use x=\"222.65625\" xlink:href=\"#DejaVuSans-50\"/>\r\n      </g>\r\n     </g>\r\n    </g>\r\n    <g id=\"ytick_8\">\r\n     <g id=\"line2d_14\">\r\n      <g>\r\n       <use style=\"stroke:#000000;stroke-width:0.8;\" x=\"56.50625\" xlink:href=\"#mb09f22ee4b\" y=\"76.8825\"/>\r\n      </g>\r\n     </g>\r\n     <g id=\"text_15\">\r\n      <!-- 0.014 -->\r\n      <g transform=\"translate(20.878125 80.681719)scale(0.1 -0.1)\">\r\n       <use xlink:href=\"#DejaVuSans-48\"/>\r\n       <use x=\"63.623047\" xlink:href=\"#DejaVuSans-46\"/>\r\n       <use x=\"95.410156\" xlink:href=\"#DejaVuSans-48\"/>\r\n       <use x=\"159.033203\" xlink:href=\"#DejaVuSans-49\"/>\r\n       <use x=\"222.65625\" xlink:href=\"#DejaVuSans-52\"/>\r\n      </g>\r\n     </g>\r\n    </g>\r\n    <g id=\"ytick_9\">\r\n     <g id=\"line2d_15\">\r\n      <g>\r\n       <use style=\"stroke:#000000;stroke-width:0.8;\" x=\"56.50625\" xlink:href=\"#mb09f22ee4b\" y=\"45.819643\"/>\r\n      </g>\r\n     </g>\r\n     <g id=\"text_16\">\r\n      <!-- 0.016 -->\r\n      <g transform=\"translate(20.878125 49.618862)scale(0.1 -0.1)\">\r\n       <use xlink:href=\"#DejaVuSans-48\"/>\r\n       <use x=\"63.623047\" xlink:href=\"#DejaVuSans-46\"/>\r\n       <use x=\"95.410156\" xlink:href=\"#DejaVuSans-48\"/>\r\n       <use x=\"159.033203\" xlink:href=\"#DejaVuSans-49\"/>\r\n       <use x=\"222.65625\" xlink:href=\"#DejaVuSans-54\"/>\r\n      </g>\r\n     </g>\r\n    </g>\r\n    <g id=\"text_17\">\r\n     <!-- densidade -->\r\n     <defs>\r\n      <path d=\"M 54.890625 33.015625 \r\nL 54.890625 0 \r\nL 45.90625 0 \r\nL 45.90625 32.71875 \r\nQ 45.90625 40.484375 42.875 44.328125 \r\nQ 39.84375 48.1875 33.796875 48.1875 \r\nQ 26.515625 48.1875 22.3125 43.546875 \r\nQ 18.109375 38.921875 18.109375 30.90625 \r\nL 18.109375 0 \r\nL 9.078125 0 \r\nL 9.078125 54.6875 \r\nL 18.109375 54.6875 \r\nL 18.109375 46.1875 \r\nQ 21.34375 51.125 25.703125 53.5625 \r\nQ 30.078125 56 35.796875 56 \r\nQ 45.21875 56 50.046875 50.171875 \r\nQ 54.890625 44.34375 54.890625 33.015625 \r\nz\r\n\" id=\"DejaVuSans-110\"/>\r\n     </defs>\r\n     <g transform=\"translate(14.798438 184.324844)rotate(-90)scale(0.1 -0.1)\">\r\n      <use xlink:href=\"#DejaVuSans-100\"/>\r\n      <use x=\"63.476562\" xlink:href=\"#DejaVuSans-101\"/>\r\n      <use x=\"125\" xlink:href=\"#DejaVuSans-110\"/>\r\n      <use x=\"188.378906\" xlink:href=\"#DejaVuSans-115\"/>\r\n      <use x=\"240.478516\" xlink:href=\"#DejaVuSans-105\"/>\r\n      <use x=\"268.261719\" xlink:href=\"#DejaVuSans-100\"/>\r\n      <use x=\"331.738281\" xlink:href=\"#DejaVuSans-97\"/>\r\n      <use x=\"393.017578\" xlink:href=\"#DejaVuSans-100\"/>\r\n      <use x=\"456.494141\" xlink:href=\"#DejaVuSans-101\"/>\r\n     </g>\r\n    </g>\r\n   </g>\r\n   <g id=\"patch_59\">\r\n    <path d=\"M 56.50625 294.3225 \r\nL 56.50625 22.5225 \r\n\" style=\"fill:none;stroke:#000000;stroke-linecap:square;stroke-linejoin:miter;stroke-width:0.8;\"/>\r\n   </g>\r\n   <g id=\"patch_60\">\r\n    <path d=\"M 837.70625 294.3225 \r\nL 837.70625 22.5225 \r\n\" style=\"fill:none;stroke:#000000;stroke-linecap:square;stroke-linejoin:miter;stroke-width:0.8;\"/>\r\n   </g>\r\n   <g id=\"patch_61\">\r\n    <path d=\"M 56.50625 294.3225 \r\nL 837.70625 294.3225 \r\n\" style=\"fill:none;stroke:#000000;stroke-linecap:square;stroke-linejoin:miter;stroke-width:0.8;\"/>\r\n   </g>\r\n   <g id=\"patch_62\">\r\n    <path d=\"M 56.50625 22.5225 \r\nL 837.70625 22.5225 \r\n\" style=\"fill:none;stroke:#000000;stroke-linecap:square;stroke-linejoin:miter;stroke-width:0.8;\"/>\r\n   </g>\r\n   <g id=\"text_18\">\r\n    <!-- Tempo sobre observação -->\r\n    <defs>\r\n     <path d=\"M -0.296875 72.90625 \r\nL 61.375 72.90625 \r\nL 61.375 64.59375 \r\nL 35.5 64.59375 \r\nL 35.5 0 \r\nL 25.59375 0 \r\nL 25.59375 64.59375 \r\nL -0.296875 64.59375 \r\nz\r\n\" id=\"DejaVuSans-84\"/>\r\n     <path id=\"DejaVuSans-32\"/>\r\n     <path d=\"M 48.6875 27.296875 \r\nQ 48.6875 37.203125 44.609375 42.84375 \r\nQ 40.53125 48.484375 33.40625 48.484375 \r\nQ 26.265625 48.484375 22.1875 42.84375 \r\nQ 18.109375 37.203125 18.109375 27.296875 \r\nQ 18.109375 17.390625 22.1875 11.75 \r\nQ 26.265625 6.109375 33.40625 6.109375 \r\nQ 40.53125 6.109375 44.609375 11.75 \r\nQ 48.6875 17.390625 48.6875 27.296875 \r\nz\r\nM 18.109375 46.390625 \r\nQ 20.953125 51.265625 25.265625 53.625 \r\nQ 29.59375 56 35.59375 56 \r\nQ 45.5625 56 51.78125 48.09375 \r\nQ 58.015625 40.1875 58.015625 27.296875 \r\nQ 58.015625 14.40625 51.78125 6.484375 \r\nQ 45.5625 -1.421875 35.59375 -1.421875 \r\nQ 29.59375 -1.421875 25.265625 0.953125 \r\nQ 20.953125 3.328125 18.109375 8.203125 \r\nL 18.109375 0 \r\nL 9.078125 0 \r\nL 9.078125 75.984375 \r\nL 18.109375 75.984375 \r\nz\r\n\" id=\"DejaVuSans-98\"/>\r\n     <path d=\"M 41.109375 46.296875 \r\nQ 39.59375 47.171875 37.8125 47.578125 \r\nQ 36.03125 48 33.890625 48 \r\nQ 26.265625 48 22.1875 43.046875 \r\nQ 18.109375 38.09375 18.109375 28.8125 \r\nL 18.109375 0 \r\nL 9.078125 0 \r\nL 9.078125 54.6875 \r\nL 18.109375 54.6875 \r\nL 18.109375 46.1875 \r\nQ 20.953125 51.171875 25.484375 53.578125 \r\nQ 30.03125 56 36.53125 56 \r\nQ 37.453125 56 38.578125 55.875 \r\nQ 39.703125 55.765625 41.0625 55.515625 \r\nz\r\n\" id=\"DejaVuSans-114\"/>\r\n     <path d=\"M 2.984375 54.6875 \r\nL 12.5 54.6875 \r\nL 29.59375 8.796875 \r\nL 46.6875 54.6875 \r\nL 56.203125 54.6875 \r\nL 35.6875 0 \r\nL 23.484375 0 \r\nz\r\n\" id=\"DejaVuSans-118\"/>\r\n     <path d=\"M 48.78125 52.59375 \r\nL 48.78125 44.1875 \r\nQ 44.96875 46.296875 41.140625 47.34375 \r\nQ 37.3125 48.390625 33.40625 48.390625 \r\nQ 24.65625 48.390625 19.8125 42.84375 \r\nQ 14.984375 37.3125 14.984375 27.296875 \r\nQ 14.984375 17.28125 19.8125 11.734375 \r\nQ 24.65625 6.203125 33.40625 6.203125 \r\nQ 37.3125 6.203125 41.140625 7.25 \r\nQ 44.96875 8.296875 48.78125 10.40625 \r\nL 48.78125 2.09375 \r\nQ 45.015625 0.34375 40.984375 -0.53125 \r\nQ 36.96875 -1.421875 32.421875 -1.421875 \r\nQ 20.0625 -1.421875 12.78125 6.34375 \r\nQ 5.515625 14.109375 5.515625 27.296875 \r\nQ 5.515625 40.671875 12.859375 48.328125 \r\nQ 20.21875 56 33.015625 56 \r\nQ 37.15625 56 41.109375 55.140625 \r\nQ 45.0625 54.296875 48.78125 52.59375 \r\nz\r\nM 36.078125 0 \r\nQ 38.765625 -3.03125 40.078125 -5.59375 \r\nQ 41.40625 -8.15625 41.40625 -10.5 \r\nQ 41.40625 -14.84375 38.46875 -17.0625 \r\nQ 35.546875 -19.28125 29.78125 -19.28125 \r\nQ 27.546875 -19.28125 25.421875 -18.984375 \r\nQ 23.296875 -18.703125 21.1875 -18.109375 \r\nL 21.1875 -11.71875 \r\nQ 22.859375 -12.546875 24.65625 -12.90625 \r\nQ 26.46875 -13.28125 28.765625 -13.28125 \r\nQ 31.640625 -13.28125 33.109375 -12.109375 \r\nQ 34.578125 -10.9375 34.578125 -8.6875 \r\nQ 34.578125 -7.234375 33.515625 -5.109375 \r\nQ 32.46875 -2.984375 30.28125 0 \r\nz\r\n\" id=\"DejaVuSans-231\"/>\r\n     <path d=\"M 34.28125 27.484375 \r\nQ 23.390625 27.484375 19.1875 25 \r\nQ 14.984375 22.515625 14.984375 16.5 \r\nQ 14.984375 11.71875 18.140625 8.90625 \r\nQ 21.296875 6.109375 26.703125 6.109375 \r\nQ 34.1875 6.109375 38.703125 11.40625 \r\nQ 43.21875 16.703125 43.21875 25.484375 \r\nL 43.21875 27.484375 \r\nz\r\nM 52.203125 31.203125 \r\nL 52.203125 0 \r\nL 43.21875 0 \r\nL 43.21875 8.296875 \r\nQ 40.140625 3.328125 35.546875 0.953125 \r\nQ 30.953125 -1.421875 24.3125 -1.421875 \r\nQ 15.921875 -1.421875 10.953125 3.296875 \r\nQ 6 8.015625 6 15.921875 \r\nQ 6 25.140625 12.171875 29.828125 \r\nQ 18.359375 34.515625 30.609375 34.515625 \r\nL 43.21875 34.515625 \r\nL 43.21875 35.40625 \r\nQ 43.21875 41.609375 39.140625 45 \r\nQ 35.0625 48.390625 27.6875 48.390625 \r\nQ 23 48.390625 18.546875 47.265625 \r\nQ 14.109375 46.140625 10.015625 43.890625 \r\nL 10.015625 52.203125 \r\nQ 14.9375 54.109375 19.578125 55.046875 \r\nQ 24.21875 56 28.609375 56 \r\nQ 40.484375 56 46.34375 49.84375 \r\nQ 52.203125 43.703125 52.203125 31.203125 \r\nz\r\nM 28.8125 66.890625 \r\nL 26.03125 69.578125 \r\nQ 24.953125 70.5625 24.140625 71.015625 \r\nQ 23.34375 71.484375 22.703125 71.484375 \r\nQ 20.84375 71.484375 19.96875 69.703125 \r\nQ 19.09375 67.921875 19 63.921875 \r\nL 12.890625 63.921875 \r\nQ 12.984375 70.515625 15.46875 74.09375 \r\nQ 17.96875 77.6875 22.40625 77.6875 \r\nQ 24.265625 77.6875 25.828125 77 \r\nQ 27.390625 76.3125 29.203125 74.703125 \r\nL 31.984375 72.015625 \r\nQ 33.0625 71.046875 33.859375 70.578125 \r\nQ 34.671875 70.125 35.296875 70.125 \r\nQ 37.15625 70.125 38.03125 71.90625 \r\nQ 38.921875 73.6875 39.015625 77.6875 \r\nL 45.125 77.6875 \r\nQ 45.015625 71.09375 42.53125 67.5 \r\nQ 40.046875 63.921875 35.59375 63.921875 \r\nQ 33.734375 63.921875 32.171875 64.59375 \r\nQ 30.609375 65.28125 28.8125 66.890625 \r\nz\r\n\" id=\"DejaVuSans-227\"/>\r\n    </defs>\r\n    <g transform=\"translate(372.362188 16.5225)scale(0.12 -0.12)\">\r\n     <use xlink:href=\"#DejaVuSans-84\"/>\r\n     <use x=\"44.083984\" xlink:href=\"#DejaVuSans-101\"/>\r\n     <use x=\"105.607422\" xlink:href=\"#DejaVuSans-109\"/>\r\n     <use x=\"203.019531\" xlink:href=\"#DejaVuSans-112\"/>\r\n     <use x=\"266.496094\" xlink:href=\"#DejaVuSans-111\"/>\r\n     <use x=\"327.677734\" xlink:href=\"#DejaVuSans-32\"/>\r\n     <use x=\"359.464844\" xlink:href=\"#DejaVuSans-115\"/>\r\n     <use x=\"411.564453\" xlink:href=\"#DejaVuSans-111\"/>\r\n     <use x=\"472.746094\" xlink:href=\"#DejaVuSans-98\"/>\r\n     <use x=\"536.222656\" xlink:href=\"#DejaVuSans-114\"/>\r\n     <use x=\"575.085938\" xlink:href=\"#DejaVuSans-101\"/>\r\n     <use x=\"636.609375\" xlink:href=\"#DejaVuSans-32\"/>\r\n     <use x=\"668.396484\" xlink:href=\"#DejaVuSans-111\"/>\r\n     <use x=\"729.578125\" xlink:href=\"#DejaVuSans-98\"/>\r\n     <use x=\"793.054688\" xlink:href=\"#DejaVuSans-115\"/>\r\n     <use x=\"845.154297\" xlink:href=\"#DejaVuSans-101\"/>\r\n     <use x=\"906.677734\" xlink:href=\"#DejaVuSans-114\"/>\r\n     <use x=\"947.791016\" xlink:href=\"#DejaVuSans-118\"/>\r\n     <use x=\"1006.970703\" xlink:href=\"#DejaVuSans-97\"/>\r\n     <use x=\"1068.25\" xlink:href=\"#DejaVuSans-231\"/>\r\n     <use x=\"1123.230469\" xlink:href=\"#DejaVuSans-227\"/>\r\n     <use x=\"1184.509766\" xlink:href=\"#DejaVuSans-111\"/>\r\n    </g>\r\n   </g>\r\n   <g id=\"legend_1\">\r\n    <g id=\"patch_63\">\r\n     <path d=\"M 792.34375 59.87875 \r\nL 830.70625 59.87875 \r\nQ 832.70625 59.87875 832.70625 57.87875 \r\nL 832.70625 29.5225 \r\nQ 832.70625 27.5225 830.70625 27.5225 \r\nL 792.34375 27.5225 \r\nQ 790.34375 27.5225 790.34375 29.5225 \r\nL 790.34375 57.87875 \r\nQ 790.34375 59.87875 792.34375 59.87875 \r\nz\r\n\" style=\"fill:#ffffff;opacity:0.8;stroke:#cccccc;stroke-linejoin:miter;\"/>\r\n    </g>\r\n    <g id=\"patch_64\">\r\n     <path d=\"M 794.34375 39.120937 \r\nL 814.34375 39.120937 \r\nL 814.34375 32.120937 \r\nL 794.34375 32.120937 \r\nz\r\n\" style=\"fill:#ff0000;stroke:#ffffff;stroke-linejoin:miter;\"/>\r\n    </g>\r\n    <g id=\"text_19\">\r\n     <!-- 1 -->\r\n     <g transform=\"translate(822.34375 39.120937)scale(0.1 -0.1)\">\r\n      <use xlink:href=\"#DejaVuSans-49\"/>\r\n     </g>\r\n    </g>\r\n    <g id=\"patch_65\">\r\n     <path d=\"M 794.34375 53.799062 \r\nL 814.34375 53.799062 \r\nL 814.34375 46.799062 \r\nL 794.34375 46.799062 \r\nz\r\n\" style=\"fill:#87ceeb;opacity:0.8;stroke:#ffffff;stroke-linejoin:miter;\"/>\r\n    </g>\r\n    <g id=\"text_20\">\r\n     <!-- 0 -->\r\n     <g transform=\"translate(822.34375 53.799062)scale(0.1 -0.1)\">\r\n      <use xlink:href=\"#DejaVuSans-48\"/>\r\n     </g>\r\n    </g>\r\n   </g>\r\n  </g>\r\n </g>\r\n <defs>\r\n  <clipPath id=\"pe8cdd95dd2\">\r\n   <rect height=\"271.8\" width=\"781.2\" x=\"56.50625\" y=\"22.5225\"/>\r\n  </clipPath>\r\n </defs>\r\n</svg>\r\n",
      "image/png": "[encoded data removed]"
     },
     "metadata": {
      "needs_background": "light"
     }
    }
   ],
   "source": [
    "#Histograma de tempo sobre cuidados médicos de sobreviventes e não sobreviventes\n",
    "faixas = np.arange(4,285,10)\n",
    "plt.figure(figsize=(14, 5))\n",
    "plt.hist(dead.time, bins=faixas, density=True, color='red', edgecolor='white', linewidth=1)\n",
    "plt.hist(not_dead.time, bins=faixas, density=True, color='skyblue', edgecolor='white', linewidth=1, alpha=0.8)\n",
    "plt.legend('10')\n",
    "plt.title('Tempo sobre observação')\n",
    "plt.xlabel('tempo[dias]')\n",
    "plt.ylabel('densidade')\n",
    "plt.show()"
   ]
  },
  {
   "source": [
    "Neste histograma, fica bem claro que os pacientes que ficaram menos tempo em observação tiveram taxas de mortalidade bem maiores em comparação ao resto."
   ],
   "cell_type": "markdown",
   "metadata": {}
  },
  {
   "cell_type": "code",
   "execution_count": 80,
   "metadata": {},
   "outputs": [],
   "source": [
    "#Resetando a formatção do dataset\n",
    "dados = pd.read_csv(filename)\n",
    "dados['age'] = dados['age'].astype('float64')\n",
    "dados['anaemia'] = dados['anaemia'].astype('category')\n",
    "dados['creatinine_phosphokinase'] = dados['creatinine_phosphokinase'].astype('float64')\n",
    "dados['diabetes'] = dados['diabetes'].astype('category')\n",
    "dados['ejection_fraction'] = dados['ejection_fraction'].astype('float64')\n",
    "dados['high_blood_pressure'] = dados['high_blood_pressure'].astype('category')\n",
    "dados['platelets'] = dados['platelets'].astype('float64')\n",
    "dados['serum_sodium'] = dados['serum_sodium'].astype('float64')\n",
    "dados['sex'] = dados['sex'].astype('category')\n",
    "dados['smoking'] = dados['smoking'].astype('category')\n",
    "dados['time'] = dados['time'].astype('float64')\n",
    "dados['DEATH_EVENT'] = dados['DEATH_EVENT'].astype('category')"
   ]
  },
  {
   "source": [
    "## Gráficos de setor"
   ],
   "cell_type": "markdown",
   "metadata": {}
  },
  {
   "source": [
    "### Diabetes x DEATH_EVENT:"
   ],
   "cell_type": "markdown",
   "metadata": {}
  },
  {
   "source": [
    "Tabela de frequências para entedermos melhor o comportamento da diabetes com o evento de morte e o gráfico de setores abaixo"
   ],
   "cell_type": "markdown",
   "metadata": {}
  },
  {
   "cell_type": "code",
   "execution_count": 93,
   "metadata": {},
   "outputs": [
    {
     "output_type": "execute_result",
     "data": {
      "text/plain": [
       "DEATH_EVENT         0         1\n",
       "diabetes                       \n",
       "0            0.678161  0.321839\n",
       "1            0.680000  0.320000\n",
       "All          0.678930  0.321070"
      ],
      "text/html": "<div>\n<style scoped>\n    .dataframe tbody tr th:only-of-type {\n        vertical-align: middle;\n    }\n\n    .dataframe tbody tr th {\n        vertical-align: top;\n    }\n\n    .dataframe thead th {\n        text-align: right;\n    }\n</style>\n<table border=\"1\" class=\"dataframe\">\n  <thead>\n    <tr style=\"text-align: right;\">\n      <th>DEATH_EVENT</th>\n      <th>0</th>\n      <th>1</th>\n    </tr>\n    <tr>\n      <th>diabetes</th>\n      <th></th>\n      <th></th>\n    </tr>\n  </thead>\n  <tbody>\n    <tr>\n      <th>0</th>\n      <td>0.678161</td>\n      <td>0.321839</td>\n    </tr>\n    <tr>\n      <th>1</th>\n      <td>0.680000</td>\n      <td>0.320000</td>\n    </tr>\n    <tr>\n      <th>All</th>\n      <td>0.678930</td>\n      <td>0.321070</td>\n    </tr>\n  </tbody>\n</table>\n</div>"
     },
     "metadata": {},
     "execution_count": 93
    }
   ],
   "source": [
    "pd.crosstab(dados.diabetes,dados.DEATH_EVENT, normalize='index', margins=True)"
   ]
  },
  {
   "cell_type": "code",
   "execution_count": 103,
   "metadata": {},
   "outputs": [
    {
     "output_type": "display_data",
     "data": {
      "application/vnd.plotly.v1+json": {
       "config": {
        "plotlyServerURL": "https://plot.ly"
       },
       "data": [
        {
         "domain": {
          "x": [
           0,
           1
          ],
          "y": [
           0,
           1
          ]
         },
         "hovertemplate": "DEATH_EVENT=%{label}<br>diabetes=%{value}<extra></extra>",
         "labels": [
          1,
          1,
          1,
          1,
          1,
          1,
          1,
          1,
          1,
          1,
          1,
          1,
          1,
          1,
          0,
          1,
          1,
          1,
          1,
          1,
          0,
          1,
          1,
          0,
          1,
          1,
          1,
          1,
          1,
          1,
          1,
          1,
          1,
          0,
          1,
          1,
          1,
          1,
          0,
          1,
          1,
          1,
          1,
          0,
          1,
          1,
          1,
          1,
          1,
          1,
          1,
          1,
          1,
          1,
          1,
          1,
          0,
          0,
          1,
          1,
          1,
          1,
          0,
          1,
          0,
          1,
          1,
          1,
          1,
          1,
          0,
          0,
          1,
          0,
          1,
          1,
          0,
          0,
          0,
          0,
          0,
          0,
          1,
          0,
          1,
          0,
          0,
          0,
          0,
          0,
          0,
          0,
          0,
          1,
          0,
          0,
          0,
          0,
          0,
          0,
          0,
          0,
          0,
          0,
          0,
          1,
          0,
          0,
          0,
          0,
          1,
          0,
          0,
          1,
          0,
          0,
          0,
          0,
          0,
          1,
          0,
          0,
          0,
          0,
          1,
          0,
          1,
          0,
          0,
          0,
          0,
          0,
          0,
          0,
          0,
          0,
          0,
          0,
          0,
          0,
          1,
          0,
          0,
          0,
          1,
          0,
          0,
          0,
          1,
          0,
          1,
          0,
          0,
          0,
          0,
          0,
          0,
          0,
          0,
          0,
          0,
          0,
          0,
          1,
          1,
          1,
          0,
          1,
          0,
          0,
          0,
          0,
          0,
          0,
          0,
          0,
          0,
          0,
          0,
          0,
          0,
          1,
          1,
          1,
          1,
          1,
          1,
          1,
          0,
          0,
          0,
          0,
          0,
          0,
          1,
          1,
          0,
          0,
          0,
          0,
          0,
          0,
          0,
          0,
          0,
          0,
          0,
          0,
          0,
          0,
          0,
          0,
          0,
          1,
          0,
          0,
          0,
          1,
          0,
          0,
          1,
          0,
          0,
          0,
          0,
          0,
          0,
          0,
          0,
          0,
          1,
          0,
          0,
          0,
          0,
          0,
          0,
          0,
          0,
          0,
          0,
          0,
          0,
          0,
          0,
          0,
          1,
          0,
          0,
          0,
          0,
          0,
          0,
          0,
          0,
          0,
          0,
          0,
          0,
          0,
          0,
          0,
          1,
          0,
          0,
          0,
          1,
          0,
          0,
          0,
          0,
          0,
          0,
          0,
          0,
          0,
          0,
          0,
          0,
          0,
          0,
          0,
          0,
          0,
          0,
          0,
          0,
          0,
          0,
          0,
          0,
          0,
          0,
          0,
          0,
          0,
          0,
          0,
          0
         ],
         "legendgroup": "",
         "name": "",
         "showlegend": true,
         "type": "pie",
         "values": [
          0,
          0,
          0,
          0,
          1,
          0,
          0,
          1,
          0,
          0,
          0,
          0,
          0,
          0,
          0,
          0,
          0,
          0,
          0,
          1,
          0,
          1,
          0,
          1,
          1,
          1,
          0,
          1,
          0,
          1,
          1,
          0,
          1,
          1,
          1,
          1,
          1,
          1,
          1,
          1,
          0,
          1,
          1,
          1,
          1,
          1,
          0,
          1,
          0,
          0,
          0,
          0,
          1,
          1,
          1,
          0,
          0,
          0,
          0,
          1,
          1,
          0,
          0,
          0,
          0,
          0,
          1,
          0,
          0,
          1,
          0,
          1,
          0,
          1,
          0,
          0,
          0,
          1,
          1,
          0,
          0,
          0,
          1,
          0,
          1,
          0,
          0,
          1,
          1,
          0,
          1,
          1,
          0,
          0,
          1,
          0,
          1,
          0,
          1,
          1,
          0,
          0,
          0,
          0,
          0,
          0,
          0,
          1,
          0,
          1,
          0,
          0,
          1,
          0,
          1,
          0,
          1,
          0,
          1,
          0,
          0,
          1,
          1,
          0,
          0,
          0,
          1,
          1,
          0,
          1,
          0,
          1,
          0,
          0,
          0,
          0,
          1,
          0,
          1,
          0,
          0,
          0,
          1,
          0,
          0,
          0,
          0,
          0,
          0,
          0,
          0,
          1,
          0,
          1,
          0,
          1,
          0,
          0,
          0,
          0,
          0,
          0,
          0,
          1,
          1,
          1,
          0,
          1,
          1,
          0,
          1,
          0,
          0,
          0,
          1,
          0,
          0,
          0,
          1,
          0,
          1,
          1,
          1,
          0,
          0,
          1,
          0,
          1,
          1,
          0,
          1,
          0,
          1,
          1,
          0,
          0,
          1,
          0,
          1,
          1,
          0,
          1,
          0,
          0,
          0,
          1,
          0,
          0,
          1,
          1,
          1,
          0,
          0,
          1,
          0,
          0,
          0,
          0,
          1,
          1,
          0,
          0,
          0,
          0,
          1,
          1,
          0,
          0,
          0,
          0,
          0,
          0,
          0,
          0,
          0,
          0,
          0,
          0,
          1,
          0,
          1,
          1,
          0,
          0,
          1,
          1,
          0,
          0,
          0,
          1,
          0,
          1,
          0,
          1,
          0,
          1,
          0,
          1,
          1,
          0,
          0,
          0,
          1,
          1,
          1,
          0,
          0,
          1,
          1,
          1,
          1,
          1,
          0,
          0,
          1,
          0,
          0,
          1,
          1,
          1,
          1,
          0,
          0,
          0,
          0,
          1,
          0,
          1,
          1,
          0,
          1,
          0,
          1,
          1,
          1,
          0,
          1,
          0,
          0
         ]
        }
       ],
       "layout": {
        "legend": {
         "tracegroupgap": 0
        },
        "template": {
         "data": {
          "bar": [
           {
            "error_x": {
             "color": "#2a3f5f"
            },
            "error_y": {
             "color": "#2a3f5f"
            },
            "marker": {
             "line": {
              "color": "#E5ECF6",
              "width": 0.5
             }
            },
            "type": "bar"
           }
          ],
          "barpolar": [
           {
            "marker": {
             "line": {
              "color": "#E5ECF6",
              "width": 0.5
             }
            },
            "type": "barpolar"
           }
          ],
          "carpet": [
           {
            "aaxis": {
             "endlinecolor": "#2a3f5f",
             "gridcolor": "white",
             "linecolor": "white",
             "minorgridcolor": "white",
             "startlinecolor": "#2a3f5f"
            },
            "baxis": {
             "endlinecolor": "#2a3f5f",
             "gridcolor": "white",
             "linecolor": "white",
             "minorgridcolor": "white",
             "startlinecolor": "#2a3f5f"
            },
            "type": "carpet"
           }
          ],
          "choropleth": [
           {
            "colorbar": {
             "outlinewidth": 0,
             "ticks": ""
            },
            "type": "choropleth"
           }
          ],
          "contour": [
           {
            "colorbar": {
             "outlinewidth": 0,
             "ticks": ""
            },
            "colorscale": [
             [
              0,
              "#0d0887"
             ],
             [
              0.1111111111111111,
              "#46039f"
             ],
             [
              0.2222222222222222,
              "#7201a8"
             ],
             [
              0.3333333333333333,
              "#9c179e"
             ],
             [
              0.4444444444444444,
              "#bd3786"
             ],
             [
              0.5555555555555556,
              "#d8576b"
             ],
             [
              0.6666666666666666,
              "#ed7953"
             ],
             [
              0.7777777777777778,
              "#fb9f3a"
             ],
             [
              0.8888888888888888,
              "#fdca26"
             ],
             [
              1,
              "#f0f921"
             ]
            ],
            "type": "contour"
           }
          ],
          "contourcarpet": [
           {
            "colorbar": {
             "outlinewidth": 0,
             "ticks": ""
            },
            "type": "contourcarpet"
           }
          ],
          "heatmap": [
           {
            "colorbar": {
             "outlinewidth": 0,
             "ticks": ""
            },
            "colorscale": [
             [
              0,
              "#0d0887"
             ],
             [
              0.1111111111111111,
              "#46039f"
             ],
             [
              0.2222222222222222,
              "#7201a8"
             ],
             [
              0.3333333333333333,
              "#9c179e"
             ],
             [
              0.4444444444444444,
              "#bd3786"
             ],
             [
              0.5555555555555556,
              "#d8576b"
             ],
             [
              0.6666666666666666,
              "#ed7953"
             ],
             [
              0.7777777777777778,
              "#fb9f3a"
             ],
             [
              0.8888888888888888,
              "#fdca26"
             ],
             [
              1,
              "#f0f921"
             ]
            ],
            "type": "heatmap"
           }
          ],
          "heatmapgl": [
           {
            "colorbar": {
             "outlinewidth": 0,
             "ticks": ""
            },
            "colorscale": [
             [
              0,
              "#0d0887"
             ],
             [
              0.1111111111111111,
              "#46039f"
             ],
             [
              0.2222222222222222,
              "#7201a8"
             ],
             [
              0.3333333333333333,
              "#9c179e"
             ],
             [
              0.4444444444444444,
              "#bd3786"
             ],
             [
              0.5555555555555556,
              "#d8576b"
             ],
             [
              0.6666666666666666,
              "#ed7953"
             ],
             [
              0.7777777777777778,
              "#fb9f3a"
             ],
             [
              0.8888888888888888,
              "#fdca26"
             ],
             [
              1,
              "#f0f921"
             ]
            ],
            "type": "heatmapgl"
           }
          ],
          "histogram": [
           {
            "marker": {
             "colorbar": {
              "outlinewidth": 0,
              "ticks": ""
             }
            },
            "type": "histogram"
           }
          ],
          "histogram2d": [
           {
            "colorbar": {
             "outlinewidth": 0,
             "ticks": ""
            },
            "colorscale": [
             [
              0,
              "#0d0887"
             ],
             [
              0.1111111111111111,
              "#46039f"
             ],
             [
              0.2222222222222222,
              "#7201a8"
             ],
             [
              0.3333333333333333,
              "#9c179e"
             ],
             [
              0.4444444444444444,
              "#bd3786"
             ],
             [
              0.5555555555555556,
              "#d8576b"
             ],
             [
              0.6666666666666666,
              "#ed7953"
             ],
             [
              0.7777777777777778,
              "#fb9f3a"
             ],
             [
              0.8888888888888888,
              "#fdca26"
             ],
             [
              1,
              "#f0f921"
             ]
            ],
            "type": "histogram2d"
           }
          ],
          "histogram2dcontour": [
           {
            "colorbar": {
             "outlinewidth": 0,
             "ticks": ""
            },
            "colorscale": [
             [
              0,
              "#0d0887"
             ],
             [
              0.1111111111111111,
              "#46039f"
             ],
             [
              0.2222222222222222,
              "#7201a8"
             ],
             [
              0.3333333333333333,
              "#9c179e"
             ],
             [
              0.4444444444444444,
              "#bd3786"
             ],
             [
              0.5555555555555556,
              "#d8576b"
             ],
             [
              0.6666666666666666,
              "#ed7953"
             ],
             [
              0.7777777777777778,
              "#fb9f3a"
             ],
             [
              0.8888888888888888,
              "#fdca26"
             ],
             [
              1,
              "#f0f921"
             ]
            ],
            "type": "histogram2dcontour"
           }
          ],
          "mesh3d": [
           {
            "colorbar": {
             "outlinewidth": 0,
             "ticks": ""
            },
            "type": "mesh3d"
           }
          ],
          "parcoords": [
           {
            "line": {
             "colorbar": {
              "outlinewidth": 0,
              "ticks": ""
             }
            },
            "type": "parcoords"
           }
          ],
          "pie": [
           {
            "automargin": true,
            "type": "pie"
           }
          ],
          "scatter": [
           {
            "marker": {
             "colorbar": {
              "outlinewidth": 0,
              "ticks": ""
             }
            },
            "type": "scatter"
           }
          ],
          "scatter3d": [
           {
            "line": {
             "colorbar": {
              "outlinewidth": 0,
              "ticks": ""
             }
            },
            "marker": {
             "colorbar": {
              "outlinewidth": 0,
              "ticks": ""
             }
            },
            "type": "scatter3d"
           }
          ],
          "scattercarpet": [
           {
            "marker": {
             "colorbar": {
              "outlinewidth": 0,
              "ticks": ""
             }
            },
            "type": "scattercarpet"
           }
          ],
          "scattergeo": [
           {
            "marker": {
             "colorbar": {
              "outlinewidth": 0,
              "ticks": ""
             }
            },
            "type": "scattergeo"
           }
          ],
          "scattergl": [
           {
            "marker": {
             "colorbar": {
              "outlinewidth": 0,
              "ticks": ""
             }
            },
            "type": "scattergl"
           }
          ],
          "scattermapbox": [
           {
            "marker": {
             "colorbar": {
              "outlinewidth": 0,
              "ticks": ""
             }
            },
            "type": "scattermapbox"
           }
          ],
          "scatterpolar": [
           {
            "marker": {
             "colorbar": {
              "outlinewidth": 0,
              "ticks": ""
             }
            },
            "type": "scatterpolar"
           }
          ],
          "scatterpolargl": [
           {
            "marker": {
             "colorbar": {
              "outlinewidth": 0,
              "ticks": ""
             }
            },
            "type": "scatterpolargl"
           }
          ],
          "scatterternary": [
           {
            "marker": {
             "colorbar": {
              "outlinewidth": 0,
              "ticks": ""
             }
            },
            "type": "scatterternary"
           }
          ],
          "surface": [
           {
            "colorbar": {
             "outlinewidth": 0,
             "ticks": ""
            },
            "colorscale": [
             [
              0,
              "#0d0887"
             ],
             [
              0.1111111111111111,
              "#46039f"
             ],
             [
              0.2222222222222222,
              "#7201a8"
             ],
             [
              0.3333333333333333,
              "#9c179e"
             ],
             [
              0.4444444444444444,
              "#bd3786"
             ],
             [
              0.5555555555555556,
              "#d8576b"
             ],
             [
              0.6666666666666666,
              "#ed7953"
             ],
             [
              0.7777777777777778,
              "#fb9f3a"
             ],
             [
              0.8888888888888888,
              "#fdca26"
             ],
             [
              1,
              "#f0f921"
             ]
            ],
            "type": "surface"
           }
          ],
          "table": [
           {
            "cells": {
             "fill": {
              "color": "#EBF0F8"
             },
             "line": {
              "color": "white"
             }
            },
            "header": {
             "fill": {
              "color": "#C8D4E3"
             },
             "line": {
              "color": "white"
             }
            },
            "type": "table"
           }
          ]
         },
         "layout": {
          "annotationdefaults": {
           "arrowcolor": "#2a3f5f",
           "arrowhead": 0,
           "arrowwidth": 1
          },
          "coloraxis": {
           "colorbar": {
            "outlinewidth": 0,
            "ticks": ""
           }
          },
          "colorscale": {
           "diverging": [
            [
             0,
             "#8e0152"
            ],
            [
             0.1,
             "#c51b7d"
            ],
            [
             0.2,
             "#de77ae"
            ],
            [
             0.3,
             "#f1b6da"
            ],
            [
             0.4,
             "#fde0ef"
            ],
            [
             0.5,
             "#f7f7f7"
            ],
            [
             0.6,
             "#e6f5d0"
            ],
            [
             0.7,
             "#b8e186"
            ],
            [
             0.8,
             "#7fbc41"
            ],
            [
             0.9,
             "#4d9221"
            ],
            [
             1,
             "#276419"
            ]
           ],
           "sequential": [
            [
             0,
             "#0d0887"
            ],
            [
             0.1111111111111111,
             "#46039f"
            ],
            [
             0.2222222222222222,
             "#7201a8"
            ],
            [
             0.3333333333333333,
             "#9c179e"
            ],
            [
             0.4444444444444444,
             "#bd3786"
            ],
            [
             0.5555555555555556,
             "#d8576b"
            ],
            [
             0.6666666666666666,
             "#ed7953"
            ],
            [
             0.7777777777777778,
             "#fb9f3a"
            ],
            [
             0.8888888888888888,
             "#fdca26"
            ],
            [
             1,
             "#f0f921"
            ]
           ],
           "sequentialminus": [
            [
             0,
             "#0d0887"
            ],
            [
             0.1111111111111111,
             "#46039f"
            ],
            [
             0.2222222222222222,
             "#7201a8"
            ],
            [
             0.3333333333333333,
             "#9c179e"
            ],
            [
             0.4444444444444444,
             "#bd3786"
            ],
            [
             0.5555555555555556,
             "#d8576b"
            ],
            [
             0.6666666666666666,
             "#ed7953"
            ],
            [
             0.7777777777777778,
             "#fb9f3a"
            ],
            [
             0.8888888888888888,
             "#fdca26"
            ],
            [
             1,
             "#f0f921"
            ]
           ]
          },
          "colorway": [
           "#636efa",
           "#EF553B",
           "#00cc96",
           "#ab63fa",
           "#FFA15A",
           "#19d3f3",
           "#FF6692",
           "#B6E880",
           "#FF97FF",
           "#FECB52"
          ],
          "font": {
           "color": "#2a3f5f"
          },
          "geo": {
           "bgcolor": "white",
           "lakecolor": "white",
           "landcolor": "#E5ECF6",
           "showlakes": true,
           "showland": true,
           "subunitcolor": "white"
          },
          "hoverlabel": {
           "align": "left"
          },
          "hovermode": "closest",
          "mapbox": {
           "style": "light"
          },
          "paper_bgcolor": "white",
          "plot_bgcolor": "#E5ECF6",
          "polar": {
           "angularaxis": {
            "gridcolor": "white",
            "linecolor": "white",
            "ticks": ""
           },
           "bgcolor": "#E5ECF6",
           "radialaxis": {
            "gridcolor": "white",
            "linecolor": "white",
            "ticks": ""
           }
          },
          "scene": {
           "xaxis": {
            "backgroundcolor": "#E5ECF6",
            "gridcolor": "white",
            "gridwidth": 2,
            "linecolor": "white",
            "showbackground": true,
            "ticks": "",
            "zerolinecolor": "white"
           },
           "yaxis": {
            "backgroundcolor": "#E5ECF6",
            "gridcolor": "white",
            "gridwidth": 2,
            "linecolor": "white",
            "showbackground": true,
            "ticks": "",
            "zerolinecolor": "white"
           },
           "zaxis": {
            "backgroundcolor": "#E5ECF6",
            "gridcolor": "white",
            "gridwidth": 2,
            "linecolor": "white",
            "showbackground": true,
            "ticks": "",
            "zerolinecolor": "white"
           }
          },
          "shapedefaults": {
           "line": {
            "color": "#2a3f5f"
           }
          },
          "ternary": {
           "aaxis": {
            "gridcolor": "white",
            "linecolor": "white",
            "ticks": ""
           },
           "baxis": {
            "gridcolor": "white",
            "linecolor": "white",
            "ticks": ""
           },
           "bgcolor": "#E5ECF6",
           "caxis": {
            "gridcolor": "white",
            "linecolor": "white",
            "ticks": ""
           }
          },
          "title": {
           "x": 0.05
          },
          "xaxis": {
           "automargin": true,
           "gridcolor": "white",
           "linecolor": "white",
           "ticks": "",
           "title": {
            "standoff": 15
           },
           "zerolinecolor": "white",
           "zerolinewidth": 2
          },
          "yaxis": {
           "automargin": true,
           "gridcolor": "white",
           "linecolor": "white",
           "ticks": "",
           "title": {
            "standoff": 15
           },
           "zerolinecolor": "white",
           "zerolinewidth": 2
          }
         }
        },
        "title": {
         "text": "Porcentagem de diabeticos em relação ao DEATH_EVENT"
        }
       }
      }
     },
     "metadata": {}
    }
   ],
   "source": [
    "px.pie(dados, values='diabetes',names='DEATH_EVENT', title='Porcentagem de diabeticos em relação ao DEATH_EVENT')\n"
   ]
  },
  {
   "source": [
    "Com este gráfico de setores, foi possível concluir que ter ou não diabetes possui um impacto moderado sobre a taxa de mortalidade."
   ],
   "cell_type": "markdown",
   "metadata": {}
  },
  {
   "source": [
    "### Ser fumante x DEATH_EVENT:"
   ],
   "cell_type": "markdown",
   "metadata": {}
  },
  {
   "source": [
    "Tabela de frequências para entedermos melhor o comportamento da fumantes com o evento de morte e o gráfico de setores abaixo"
   ],
   "cell_type": "markdown",
   "metadata": {}
  },
  {
   "cell_type": "code",
   "execution_count": 94,
   "metadata": {},
   "outputs": [
    {
     "output_type": "execute_result",
     "data": {
      "text/plain": [
       "DEATH_EVENT         0         1\n",
       "smoking                        \n",
       "0            0.674877  0.325123\n",
       "1            0.687500  0.312500\n",
       "All          0.678930  0.321070"
      ],
      "text/html": "<div>\n<style scoped>\n    .dataframe tbody tr th:only-of-type {\n        vertical-align: middle;\n    }\n\n    .dataframe tbody tr th {\n        vertical-align: top;\n    }\n\n    .dataframe thead th {\n        text-align: right;\n    }\n</style>\n<table border=\"1\" class=\"dataframe\">\n  <thead>\n    <tr style=\"text-align: right;\">\n      <th>DEATH_EVENT</th>\n      <th>0</th>\n      <th>1</th>\n    </tr>\n    <tr>\n      <th>smoking</th>\n      <th></th>\n      <th></th>\n    </tr>\n  </thead>\n  <tbody>\n    <tr>\n      <th>0</th>\n      <td>0.674877</td>\n      <td>0.325123</td>\n    </tr>\n    <tr>\n      <th>1</th>\n      <td>0.687500</td>\n      <td>0.312500</td>\n    </tr>\n    <tr>\n      <th>All</th>\n      <td>0.678930</td>\n      <td>0.321070</td>\n    </tr>\n  </tbody>\n</table>\n</div>"
     },
     "metadata": {},
     "execution_count": 94
    }
   ],
   "source": [
    "pd.crosstab(dados.smoking,dados.DEATH_EVENT, normalize='index', margins=True)"
   ]
  },
  {
   "cell_type": "code",
   "execution_count": 29,
   "metadata": {},
   "outputs": [
    {
     "output_type": "display_data",
     "data": {
      "application/vnd.plotly.v1+json": {
       "config": {
        "plotlyServerURL": "https://plot.ly"
       },
       "data": [
        {
         "domain": {
          "x": [
           0,
           1
          ],
          "y": [
           0,
           1
          ]
         },
         "hovertemplate": "DEATH_EVENT=%{label}<br>smoking=%{value}<extra></extra>",
         "labels": [
          1,
          1,
          1,
          1,
          1,
          1,
          1,
          1,
          1,
          1,
          1,
          1,
          1,
          1,
          0,
          1,
          1,
          1,
          1,
          1,
          0,
          1,
          1,
          0,
          1,
          1,
          1,
          1,
          1,
          1,
          1,
          1,
          1,
          0,
          1,
          1,
          1,
          1,
          0,
          1,
          1,
          1,
          1,
          0,
          1,
          1,
          1,
          1,
          1,
          1,
          1,
          1,
          1,
          1,
          1,
          1,
          0,
          0,
          1,
          1,
          1,
          1,
          0,
          1,
          0,
          1,
          1,
          1,
          1,
          1,
          0,
          0,
          1,
          0,
          1,
          1,
          0,
          0,
          0,
          0,
          0,
          0,
          1,
          0,
          1,
          0,
          0,
          0,
          0,
          0,
          0,
          0,
          0,
          1,
          0,
          0,
          0,
          0,
          0,
          0,
          0,
          0,
          0,
          0,
          0,
          1,
          0,
          0,
          0,
          0,
          1,
          0,
          0,
          1,
          0,
          0,
          0,
          0,
          0,
          1,
          0,
          0,
          0,
          0,
          1,
          0,
          1,
          0,
          0,
          0,
          0,
          0,
          0,
          0,
          0,
          0,
          0,
          0,
          0,
          0,
          1,
          0,
          0,
          0,
          1,
          0,
          0,
          0,
          1,
          0,
          1,
          0,
          0,
          0,
          0,
          0,
          0,
          0,
          0,
          0,
          0,
          0,
          0,
          1,
          1,
          1,
          0,
          1,
          0,
          0,
          0,
          0,
          0,
          0,
          0,
          0,
          0,
          0,
          0,
          0,
          0,
          1,
          1,
          1,
          1,
          1,
          1,
          1,
          0,
          0,
          0,
          0,
          0,
          0,
          1,
          1,
          0,
          0,
          0,
          0,
          0,
          0,
          0,
          0,
          0,
          0,
          0,
          0,
          0,
          0,
          0,
          0,
          0,
          1,
          0,
          0,
          0,
          1,
          0,
          0,
          1,
          0,
          0,
          0,
          0,
          0,
          0,
          0,
          0,
          0,
          1,
          0,
          0,
          0,
          0,
          0,
          0,
          0,
          0,
          0,
          0,
          0,
          0,
          0,
          0,
          0,
          1,
          0,
          0,
          0,
          0,
          0,
          0,
          0,
          0,
          0,
          0,
          0,
          0,
          0,
          0,
          0,
          1,
          0,
          0,
          0,
          1,
          0,
          0,
          0,
          0,
          0,
          0,
          0,
          0,
          0,
          0,
          0,
          0,
          0,
          0,
          0,
          0,
          0,
          0,
          0,
          0,
          0,
          0,
          0,
          0,
          0,
          0,
          0,
          0,
          0,
          0,
          0,
          0
         ],
         "legendgroup": "",
         "name": "",
         "showlegend": true,
         "type": "pie",
         "values": [
          0,
          0,
          1,
          0,
          0,
          1,
          0,
          1,
          0,
          1,
          1,
          1,
          0,
          0,
          0,
          0,
          0,
          0,
          0,
          0,
          0,
          0,
          1,
          0,
          0,
          1,
          0,
          1,
          0,
          1,
          0,
          0,
          0,
          0,
          0,
          0,
          0,
          0,
          0,
          0,
          1,
          1,
          1,
          0,
          0,
          1,
          0,
          1,
          0,
          0,
          0,
          0,
          0,
          0,
          1,
          0,
          1,
          1,
          1,
          1,
          0,
          0,
          1,
          0,
          0,
          1,
          0,
          1,
          0,
          0,
          1,
          1,
          1,
          1,
          1,
          1,
          1,
          0,
          1,
          0,
          0,
          1,
          0,
          0,
          0,
          0,
          0,
          0,
          0,
          0,
          1,
          0,
          0,
          0,
          0,
          0,
          0,
          0,
          0,
          0,
          0,
          0,
          1,
          1,
          0,
          1,
          0,
          0,
          1,
          1,
          1,
          1,
          0,
          0,
          0,
          0,
          0,
          0,
          0,
          0,
          1,
          0,
          0,
          0,
          0,
          0,
          0,
          0,
          1,
          0,
          1,
          0,
          0,
          1,
          1,
          0,
          0,
          0,
          0,
          0,
          0,
          0,
          0,
          0,
          1,
          1,
          1,
          0,
          0,
          0,
          0,
          0,
          1,
          1,
          0,
          0,
          0,
          1,
          0,
          1,
          0,
          1,
          1,
          0,
          0,
          0,
          1,
          0,
          0,
          0,
          1,
          1,
          1,
          0,
          1,
          1,
          1,
          0,
          0,
          1,
          0,
          1,
          1,
          0,
          1,
          0,
          0,
          0,
          0,
          0,
          0,
          0,
          0,
          1,
          0,
          0,
          0,
          0,
          0,
          1,
          0,
          0,
          0,
          1,
          1,
          0,
          0,
          0,
          0,
          0,
          1,
          1,
          1,
          0,
          0,
          0,
          0,
          0,
          0,
          0,
          0,
          1,
          1,
          0,
          0,
          0,
          1,
          0,
          0,
          0,
          0,
          1,
          0,
          1,
          1,
          0,
          0,
          0,
          0,
          1,
          0,
          1,
          1,
          0,
          0,
          0,
          0,
          0,
          1,
          0,
          0,
          0,
          0,
          0,
          0,
          1,
          0,
          0,
          0,
          1,
          0,
          0,
          0,
          0,
          0,
          1,
          1,
          0,
          0,
          0,
          1,
          0,
          0,
          0,
          1,
          0,
          0,
          0,
          0,
          0,
          0,
          1,
          1,
          1,
          0,
          0,
          0,
          0,
          0,
          0,
          0,
          0,
          1,
          1,
          1,
          0,
          0,
          1,
          1
         ]
        }
       ],
       "layout": {
        "legend": {
         "tracegroupgap": 0
        },
        "template": {
         "data": {
          "bar": [
           {
            "error_x": {
             "color": "#2a3f5f"
            },
            "error_y": {
             "color": "#2a3f5f"
            },
            "marker": {
             "line": {
              "color": "#E5ECF6",
              "width": 0.5
             }
            },
            "type": "bar"
           }
          ],
          "barpolar": [
           {
            "marker": {
             "line": {
              "color": "#E5ECF6",
              "width": 0.5
             }
            },
            "type": "barpolar"
           }
          ],
          "carpet": [
           {
            "aaxis": {
             "endlinecolor": "#2a3f5f",
             "gridcolor": "white",
             "linecolor": "white",
             "minorgridcolor": "white",
             "startlinecolor": "#2a3f5f"
            },
            "baxis": {
             "endlinecolor": "#2a3f5f",
             "gridcolor": "white",
             "linecolor": "white",
             "minorgridcolor": "white",
             "startlinecolor": "#2a3f5f"
            },
            "type": "carpet"
           }
          ],
          "choropleth": [
           {
            "colorbar": {
             "outlinewidth": 0,
             "ticks": ""
            },
            "type": "choropleth"
           }
          ],
          "contour": [
           {
            "colorbar": {
             "outlinewidth": 0,
             "ticks": ""
            },
            "colorscale": [
             [
              0,
              "#0d0887"
             ],
             [
              0.1111111111111111,
              "#46039f"
             ],
             [
              0.2222222222222222,
              "#7201a8"
             ],
             [
              0.3333333333333333,
              "#9c179e"
             ],
             [
              0.4444444444444444,
              "#bd3786"
             ],
             [
              0.5555555555555556,
              "#d8576b"
             ],
             [
              0.6666666666666666,
              "#ed7953"
             ],
             [
              0.7777777777777778,
              "#fb9f3a"
             ],
             [
              0.8888888888888888,
              "#fdca26"
             ],
             [
              1,
              "#f0f921"
             ]
            ],
            "type": "contour"
           }
          ],
          "contourcarpet": [
           {
            "colorbar": {
             "outlinewidth": 0,
             "ticks": ""
            },
            "type": "contourcarpet"
           }
          ],
          "heatmap": [
           {
            "colorbar": {
             "outlinewidth": 0,
             "ticks": ""
            },
            "colorscale": [
             [
              0,
              "#0d0887"
             ],
             [
              0.1111111111111111,
              "#46039f"
             ],
             [
              0.2222222222222222,
              "#7201a8"
             ],
             [
              0.3333333333333333,
              "#9c179e"
             ],
             [
              0.4444444444444444,
              "#bd3786"
             ],
             [
              0.5555555555555556,
              "#d8576b"
             ],
             [
              0.6666666666666666,
              "#ed7953"
             ],
             [
              0.7777777777777778,
              "#fb9f3a"
             ],
             [
              0.8888888888888888,
              "#fdca26"
             ],
             [
              1,
              "#f0f921"
             ]
            ],
            "type": "heatmap"
           }
          ],
          "heatmapgl": [
           {
            "colorbar": {
             "outlinewidth": 0,
             "ticks": ""
            },
            "colorscale": [
             [
              0,
              "#0d0887"
             ],
             [
              0.1111111111111111,
              "#46039f"
             ],
             [
              0.2222222222222222,
              "#7201a8"
             ],
             [
              0.3333333333333333,
              "#9c179e"
             ],
             [
              0.4444444444444444,
              "#bd3786"
             ],
             [
              0.5555555555555556,
              "#d8576b"
             ],
             [
              0.6666666666666666,
              "#ed7953"
             ],
             [
              0.7777777777777778,
              "#fb9f3a"
             ],
             [
              0.8888888888888888,
              "#fdca26"
             ],
             [
              1,
              "#f0f921"
             ]
            ],
            "type": "heatmapgl"
           }
          ],
          "histogram": [
           {
            "marker": {
             "colorbar": {
              "outlinewidth": 0,
              "ticks": ""
             }
            },
            "type": "histogram"
           }
          ],
          "histogram2d": [
           {
            "colorbar": {
             "outlinewidth": 0,
             "ticks": ""
            },
            "colorscale": [
             [
              0,
              "#0d0887"
             ],
             [
              0.1111111111111111,
              "#46039f"
             ],
             [
              0.2222222222222222,
              "#7201a8"
             ],
             [
              0.3333333333333333,
              "#9c179e"
             ],
             [
              0.4444444444444444,
              "#bd3786"
             ],
             [
              0.5555555555555556,
              "#d8576b"
             ],
             [
              0.6666666666666666,
              "#ed7953"
             ],
             [
              0.7777777777777778,
              "#fb9f3a"
             ],
             [
              0.8888888888888888,
              "#fdca26"
             ],
             [
              1,
              "#f0f921"
             ]
            ],
            "type": "histogram2d"
           }
          ],
          "histogram2dcontour": [
           {
            "colorbar": {
             "outlinewidth": 0,
             "ticks": ""
            },
            "colorscale": [
             [
              0,
              "#0d0887"
             ],
             [
              0.1111111111111111,
              "#46039f"
             ],
             [
              0.2222222222222222,
              "#7201a8"
             ],
             [
              0.3333333333333333,
              "#9c179e"
             ],
             [
              0.4444444444444444,
              "#bd3786"
             ],
             [
              0.5555555555555556,
              "#d8576b"
             ],
             [
              0.6666666666666666,
              "#ed7953"
             ],
             [
              0.7777777777777778,
              "#fb9f3a"
             ],
             [
              0.8888888888888888,
              "#fdca26"
             ],
             [
              1,
              "#f0f921"
             ]
            ],
            "type": "histogram2dcontour"
           }
          ],
          "mesh3d": [
           {
            "colorbar": {
             "outlinewidth": 0,
             "ticks": ""
            },
            "type": "mesh3d"
           }
          ],
          "parcoords": [
           {
            "line": {
             "colorbar": {
              "outlinewidth": 0,
              "ticks": ""
             }
            },
            "type": "parcoords"
           }
          ],
          "pie": [
           {
            "automargin": true,
            "type": "pie"
           }
          ],
          "scatter": [
           {
            "marker": {
             "colorbar": {
              "outlinewidth": 0,
              "ticks": ""
             }
            },
            "type": "scatter"
           }
          ],
          "scatter3d": [
           {
            "line": {
             "colorbar": {
              "outlinewidth": 0,
              "ticks": ""
             }
            },
            "marker": {
             "colorbar": {
              "outlinewidth": 0,
              "ticks": ""
             }
            },
            "type": "scatter3d"
           }
          ],
          "scattercarpet": [
           {
            "marker": {
             "colorbar": {
              "outlinewidth": 0,
              "ticks": ""
             }
            },
            "type": "scattercarpet"
           }
          ],
          "scattergeo": [
           {
            "marker": {
             "colorbar": {
              "outlinewidth": 0,
              "ticks": ""
             }
            },
            "type": "scattergeo"
           }
          ],
          "scattergl": [
           {
            "marker": {
             "colorbar": {
              "outlinewidth": 0,
              "ticks": ""
             }
            },
            "type": "scattergl"
           }
          ],
          "scattermapbox": [
           {
            "marker": {
             "colorbar": {
              "outlinewidth": 0,
              "ticks": ""
             }
            },
            "type": "scattermapbox"
           }
          ],
          "scatterpolar": [
           {
            "marker": {
             "colorbar": {
              "outlinewidth": 0,
              "ticks": ""
             }
            },
            "type": "scatterpolar"
           }
          ],
          "scatterpolargl": [
           {
            "marker": {
             "colorbar": {
              "outlinewidth": 0,
              "ticks": ""
             }
            },
            "type": "scatterpolargl"
           }
          ],
          "scatterternary": [
           {
            "marker": {
             "colorbar": {
              "outlinewidth": 0,
              "ticks": ""
             }
            },
            "type": "scatterternary"
           }
          ],
          "surface": [
           {
            "colorbar": {
             "outlinewidth": 0,
             "ticks": ""
            },
            "colorscale": [
             [
              0,
              "#0d0887"
             ],
             [
              0.1111111111111111,
              "#46039f"
             ],
             [
              0.2222222222222222,
              "#7201a8"
             ],
             [
              0.3333333333333333,
              "#9c179e"
             ],
             [
              0.4444444444444444,
              "#bd3786"
             ],
             [
              0.5555555555555556,
              "#d8576b"
             ],
             [
              0.6666666666666666,
              "#ed7953"
             ],
             [
              0.7777777777777778,
              "#fb9f3a"
             ],
             [
              0.8888888888888888,
              "#fdca26"
             ],
             [
              1,
              "#f0f921"
             ]
            ],
            "type": "surface"
           }
          ],
          "table": [
           {
            "cells": {
             "fill": {
              "color": "#EBF0F8"
             },
             "line": {
              "color": "white"
             }
            },
            "header": {
             "fill": {
              "color": "#C8D4E3"
             },
             "line": {
              "color": "white"
             }
            },
            "type": "table"
           }
          ]
         },
         "layout": {
          "annotationdefaults": {
           "arrowcolor": "#2a3f5f",
           "arrowhead": 0,
           "arrowwidth": 1
          },
          "coloraxis": {
           "colorbar": {
            "outlinewidth": 0,
            "ticks": ""
           }
          },
          "colorscale": {
           "diverging": [
            [
             0,
             "#8e0152"
            ],
            [
             0.1,
             "#c51b7d"
            ],
            [
             0.2,
             "#de77ae"
            ],
            [
             0.3,
             "#f1b6da"
            ],
            [
             0.4,
             "#fde0ef"
            ],
            [
             0.5,
             "#f7f7f7"
            ],
            [
             0.6,
             "#e6f5d0"
            ],
            [
             0.7,
             "#b8e186"
            ],
            [
             0.8,
             "#7fbc41"
            ],
            [
             0.9,
             "#4d9221"
            ],
            [
             1,
             "#276419"
            ]
           ],
           "sequential": [
            [
             0,
             "#0d0887"
            ],
            [
             0.1111111111111111,
             "#46039f"
            ],
            [
             0.2222222222222222,
             "#7201a8"
            ],
            [
             0.3333333333333333,
             "#9c179e"
            ],
            [
             0.4444444444444444,
             "#bd3786"
            ],
            [
             0.5555555555555556,
             "#d8576b"
            ],
            [
             0.6666666666666666,
             "#ed7953"
            ],
            [
             0.7777777777777778,
             "#fb9f3a"
            ],
            [
             0.8888888888888888,
             "#fdca26"
            ],
            [
             1,
             "#f0f921"
            ]
           ],
           "sequentialminus": [
            [
             0,
             "#0d0887"
            ],
            [
             0.1111111111111111,
             "#46039f"
            ],
            [
             0.2222222222222222,
             "#7201a8"
            ],
            [
             0.3333333333333333,
             "#9c179e"
            ],
            [
             0.4444444444444444,
             "#bd3786"
            ],
            [
             0.5555555555555556,
             "#d8576b"
            ],
            [
             0.6666666666666666,
             "#ed7953"
            ],
            [
             0.7777777777777778,
             "#fb9f3a"
            ],
            [
             0.8888888888888888,
             "#fdca26"
            ],
            [
             1,
             "#f0f921"
            ]
           ]
          },
          "colorway": [
           "#636efa",
           "#EF553B",
           "#00cc96",
           "#ab63fa",
           "#FFA15A",
           "#19d3f3",
           "#FF6692",
           "#B6E880",
           "#FF97FF",
           "#FECB52"
          ],
          "font": {
           "color": "#2a3f5f"
          },
          "geo": {
           "bgcolor": "white",
           "lakecolor": "white",
           "landcolor": "#E5ECF6",
           "showlakes": true,
           "showland": true,
           "subunitcolor": "white"
          },
          "hoverlabel": {
           "align": "left"
          },
          "hovermode": "closest",
          "mapbox": {
           "style": "light"
          },
          "paper_bgcolor": "white",
          "plot_bgcolor": "#E5ECF6",
          "polar": {
           "angularaxis": {
            "gridcolor": "white",
            "linecolor": "white",
            "ticks": ""
           },
           "bgcolor": "#E5ECF6",
           "radialaxis": {
            "gridcolor": "white",
            "linecolor": "white",
            "ticks": ""
           }
          },
          "scene": {
           "xaxis": {
            "backgroundcolor": "#E5ECF6",
            "gridcolor": "white",
            "gridwidth": 2,
            "linecolor": "white",
            "showbackground": true,
            "ticks": "",
            "zerolinecolor": "white"
           },
           "yaxis": {
            "backgroundcolor": "#E5ECF6",
            "gridcolor": "white",
            "gridwidth": 2,
            "linecolor": "white",
            "showbackground": true,
            "ticks": "",
            "zerolinecolor": "white"
           },
           "zaxis": {
            "backgroundcolor": "#E5ECF6",
            "gridcolor": "white",
            "gridwidth": 2,
            "linecolor": "white",
            "showbackground": true,
            "ticks": "",
            "zerolinecolor": "white"
           }
          },
          "shapedefaults": {
           "line": {
            "color": "#2a3f5f"
           }
          },
          "ternary": {
           "aaxis": {
            "gridcolor": "white",
            "linecolor": "white",
            "ticks": ""
           },
           "baxis": {
            "gridcolor": "white",
            "linecolor": "white",
            "ticks": ""
           },
           "bgcolor": "#E5ECF6",
           "caxis": {
            "gridcolor": "white",
            "linecolor": "white",
            "ticks": ""
           }
          },
          "title": {
           "x": 0.05
          },
          "xaxis": {
           "automargin": true,
           "gridcolor": "white",
           "linecolor": "white",
           "ticks": "",
           "title": {
            "standoff": 15
           },
           "zerolinecolor": "white",
           "zerolinewidth": 2
          },
          "yaxis": {
           "automargin": true,
           "gridcolor": "white",
           "linecolor": "white",
           "ticks": "",
           "title": {
            "standoff": 15
           },
           "zerolinecolor": "white",
           "zerolinewidth": 2
          }
         }
        },
        "title": {
         "text": "Porcentagem de fumantes em relação ao DEATH_EVENT"
        }
       }
      }
     },
     "metadata": {}
    }
   ],
   "source": [
    "px.pie(dados, values='smoking',names='DEATH_EVENT', title='Porcentagem de fumantes em relação ao DEATH_EVENT')"
   ]
  },
  {
   "source": [
    "Com este, foi possível concluir que fumar não é um habito que influência de maneira significativa nas taxas de mortalidade."
   ],
   "cell_type": "markdown",
   "metadata": {}
  },
  {
   "source": [
    "### Hipertensão x DEATH_EVENT:"
   ],
   "cell_type": "markdown",
   "metadata": {}
  },
  {
   "source": [
    "Tabela de frequências para entedermos melhor o comportamento da hipertensão com o evento de morte e o gráfico de setores abaixo"
   ],
   "cell_type": "markdown",
   "metadata": {}
  },
  {
   "cell_type": "code",
   "execution_count": 101,
   "metadata": {},
   "outputs": [
    {
     "output_type": "execute_result",
     "data": {
      "text/plain": [
       "DEATH_EVENT                 0         1\n",
       "high_blood_pressure                    \n",
       "0                    0.706186  0.293814\n",
       "1                    0.628571  0.371429\n",
       "All                  0.678930  0.321070"
      ],
      "text/html": "<div>\n<style scoped>\n    .dataframe tbody tr th:only-of-type {\n        vertical-align: middle;\n    }\n\n    .dataframe tbody tr th {\n        vertical-align: top;\n    }\n\n    .dataframe thead th {\n        text-align: right;\n    }\n</style>\n<table border=\"1\" class=\"dataframe\">\n  <thead>\n    <tr style=\"text-align: right;\">\n      <th>DEATH_EVENT</th>\n      <th>0</th>\n      <th>1</th>\n    </tr>\n    <tr>\n      <th>high_blood_pressure</th>\n      <th></th>\n      <th></th>\n    </tr>\n  </thead>\n  <tbody>\n    <tr>\n      <th>0</th>\n      <td>0.706186</td>\n      <td>0.293814</td>\n    </tr>\n    <tr>\n      <th>1</th>\n      <td>0.628571</td>\n      <td>0.371429</td>\n    </tr>\n    <tr>\n      <th>All</th>\n      <td>0.678930</td>\n      <td>0.321070</td>\n    </tr>\n  </tbody>\n</table>\n</div>"
     },
     "metadata": {},
     "execution_count": 101
    }
   ],
   "source": [
    "pd.crosstab(dados.high_blood_pressure,dados.DEATH_EVENT, normalize='index', margins=True)"
   ]
  },
  {
   "cell_type": "code",
   "execution_count": 100,
   "metadata": {},
   "outputs": [
    {
     "output_type": "display_data",
     "data": {
      "application/vnd.plotly.v1+json": {
       "config": {
        "plotlyServerURL": "https://plot.ly"
       },
       "data": [
        {
         "domain": {
          "x": [
           0,
           1
          ],
          "y": [
           0,
           1
          ]
         },
         "hovertemplate": "DEATH_EVENT=%{label}<br>high_blood_pressure=%{value}<extra></extra>",
         "labels": [
          1,
          1,
          1,
          1,
          1,
          1,
          1,
          1,
          1,
          1,
          1,
          1,
          1,
          1,
          0,
          1,
          1,
          1,
          1,
          1,
          0,
          1,
          1,
          0,
          1,
          1,
          1,
          1,
          1,
          1,
          1,
          1,
          1,
          0,
          1,
          1,
          1,
          1,
          0,
          1,
          1,
          1,
          1,
          0,
          1,
          1,
          1,
          1,
          1,
          1,
          1,
          1,
          1,
          1,
          1,
          1,
          0,
          0,
          1,
          1,
          1,
          1,
          0,
          1,
          0,
          1,
          1,
          1,
          1,
          1,
          0,
          0,
          1,
          0,
          1,
          1,
          0,
          0,
          0,
          0,
          0,
          0,
          1,
          0,
          1,
          0,
          0,
          0,
          0,
          0,
          0,
          0,
          0,
          1,
          0,
          0,
          0,
          0,
          0,
          0,
          0,
          0,
          0,
          0,
          0,
          1,
          0,
          0,
          0,
          0,
          1,
          0,
          0,
          1,
          0,
          0,
          0,
          0,
          0,
          1,
          0,
          0,
          0,
          0,
          1,
          0,
          1,
          0,
          0,
          0,
          0,
          0,
          0,
          0,
          0,
          0,
          0,
          0,
          0,
          0,
          1,
          0,
          0,
          0,
          1,
          0,
          0,
          0,
          1,
          0,
          1,
          0,
          0,
          0,
          0,
          0,
          0,
          0,
          0,
          0,
          0,
          0,
          0,
          1,
          1,
          1,
          0,
          1,
          0,
          0,
          0,
          0,
          0,
          0,
          0,
          0,
          0,
          0,
          0,
          0,
          0,
          1,
          1,
          1,
          1,
          1,
          1,
          1,
          0,
          0,
          0,
          0,
          0,
          0,
          1,
          1,
          0,
          0,
          0,
          0,
          0,
          0,
          0,
          0,
          0,
          0,
          0,
          0,
          0,
          0,
          0,
          0,
          0,
          1,
          0,
          0,
          0,
          1,
          0,
          0,
          1,
          0,
          0,
          0,
          0,
          0,
          0,
          0,
          0,
          0,
          1,
          0,
          0,
          0,
          0,
          0,
          0,
          0,
          0,
          0,
          0,
          0,
          0,
          0,
          0,
          0,
          1,
          0,
          0,
          0,
          0,
          0,
          0,
          0,
          0,
          0,
          0,
          0,
          0,
          0,
          0,
          0,
          1,
          0,
          0,
          0,
          1,
          0,
          0,
          0,
          0,
          0,
          0,
          0,
          0,
          0,
          0,
          0,
          0,
          0,
          0,
          0,
          0,
          0,
          0,
          0,
          0,
          0,
          0,
          0,
          0,
          0,
          0,
          0,
          0,
          0,
          0,
          0,
          0
         ],
         "legendgroup": "",
         "name": "",
         "showlegend": true,
         "type": "pie",
         "values": [
          1,
          0,
          0,
          0,
          0,
          1,
          0,
          0,
          0,
          1,
          1,
          1,
          0,
          1,
          1,
          0,
          0,
          0,
          1,
          0,
          1,
          1,
          1,
          0,
          1,
          0,
          1,
          1,
          0,
          0,
          1,
          0,
          1,
          0,
          1,
          0,
          0,
          1,
          0,
          0,
          1,
          1,
          1,
          1,
          0,
          0,
          1,
          1,
          1,
          0,
          1,
          1,
          0,
          1,
          0,
          0,
          0,
          0,
          1,
          1,
          1,
          1,
          0,
          0,
          0,
          0,
          0,
          0,
          0,
          0,
          0,
          0,
          0,
          0,
          0,
          0,
          1,
          0,
          1,
          1,
          0,
          0,
          0,
          1,
          1,
          0,
          1,
          1,
          1,
          1,
          0,
          0,
          0,
          0,
          1,
          1,
          1,
          0,
          1,
          0,
          0,
          1,
          0,
          0,
          1,
          1,
          0,
          0,
          0,
          0,
          0,
          0,
          0,
          0,
          1,
          0,
          1,
          0,
          1,
          0,
          1,
          1,
          0,
          1,
          0,
          0,
          1,
          0,
          1,
          0,
          1,
          0,
          1,
          1,
          0,
          0,
          0,
          0,
          0,
          1,
          0,
          0,
          0,
          1,
          1,
          0,
          0,
          0,
          0,
          1,
          1,
          1,
          1,
          0,
          1,
          0,
          0,
          0,
          0,
          1,
          1,
          0,
          0,
          0,
          0,
          1,
          0,
          0,
          0,
          1,
          0,
          0,
          1,
          0,
          1,
          0,
          0,
          0,
          0,
          0,
          0,
          0,
          0,
          1,
          0,
          0,
          0,
          0,
          1,
          1,
          0,
          0,
          0,
          0,
          1,
          0,
          1,
          0,
          1,
          0,
          0,
          1,
          1,
          1,
          0,
          0,
          0,
          0,
          0,
          1,
          1,
          1,
          0,
          1,
          1,
          1,
          1,
          1,
          0,
          1,
          0,
          0,
          0,
          0,
          0,
          0,
          0,
          1,
          0,
          0,
          0,
          0,
          0,
          0,
          0,
          1,
          1,
          0,
          0,
          0,
          1,
          0,
          0,
          1,
          0,
          0,
          0,
          0,
          0,
          0,
          1,
          0,
          1,
          1,
          1,
          1,
          0,
          1,
          0,
          0,
          0,
          0,
          0,
          0,
          0,
          0,
          0,
          0,
          0,
          0,
          1,
          0,
          0,
          0,
          0,
          1,
          0,
          0,
          0,
          0,
          0,
          0,
          0,
          0,
          0,
          0,
          0,
          0,
          0,
          0,
          0,
          0,
          0,
          0,
          1,
          0,
          0,
          0,
          0
         ]
        }
       ],
       "layout": {
        "legend": {
         "tracegroupgap": 0
        },
        "template": {
         "data": {
          "bar": [
           {
            "error_x": {
             "color": "#2a3f5f"
            },
            "error_y": {
             "color": "#2a3f5f"
            },
            "marker": {
             "line": {
              "color": "#E5ECF6",
              "width": 0.5
             }
            },
            "type": "bar"
           }
          ],
          "barpolar": [
           {
            "marker": {
             "line": {
              "color": "#E5ECF6",
              "width": 0.5
             }
            },
            "type": "barpolar"
           }
          ],
          "carpet": [
           {
            "aaxis": {
             "endlinecolor": "#2a3f5f",
             "gridcolor": "white",
             "linecolor": "white",
             "minorgridcolor": "white",
             "startlinecolor": "#2a3f5f"
            },
            "baxis": {
             "endlinecolor": "#2a3f5f",
             "gridcolor": "white",
             "linecolor": "white",
             "minorgridcolor": "white",
             "startlinecolor": "#2a3f5f"
            },
            "type": "carpet"
           }
          ],
          "choropleth": [
           {
            "colorbar": {
             "outlinewidth": 0,
             "ticks": ""
            },
            "type": "choropleth"
           }
          ],
          "contour": [
           {
            "colorbar": {
             "outlinewidth": 0,
             "ticks": ""
            },
            "colorscale": [
             [
              0,
              "#0d0887"
             ],
             [
              0.1111111111111111,
              "#46039f"
             ],
             [
              0.2222222222222222,
              "#7201a8"
             ],
             [
              0.3333333333333333,
              "#9c179e"
             ],
             [
              0.4444444444444444,
              "#bd3786"
             ],
             [
              0.5555555555555556,
              "#d8576b"
             ],
             [
              0.6666666666666666,
              "#ed7953"
             ],
             [
              0.7777777777777778,
              "#fb9f3a"
             ],
             [
              0.8888888888888888,
              "#fdca26"
             ],
             [
              1,
              "#f0f921"
             ]
            ],
            "type": "contour"
           }
          ],
          "contourcarpet": [
           {
            "colorbar": {
             "outlinewidth": 0,
             "ticks": ""
            },
            "type": "contourcarpet"
           }
          ],
          "heatmap": [
           {
            "colorbar": {
             "outlinewidth": 0,
             "ticks": ""
            },
            "colorscale": [
             [
              0,
              "#0d0887"
             ],
             [
              0.1111111111111111,
              "#46039f"
             ],
             [
              0.2222222222222222,
              "#7201a8"
             ],
             [
              0.3333333333333333,
              "#9c179e"
             ],
             [
              0.4444444444444444,
              "#bd3786"
             ],
             [
              0.5555555555555556,
              "#d8576b"
             ],
             [
              0.6666666666666666,
              "#ed7953"
             ],
             [
              0.7777777777777778,
              "#fb9f3a"
             ],
             [
              0.8888888888888888,
              "#fdca26"
             ],
             [
              1,
              "#f0f921"
             ]
            ],
            "type": "heatmap"
           }
          ],
          "heatmapgl": [
           {
            "colorbar": {
             "outlinewidth": 0,
             "ticks": ""
            },
            "colorscale": [
             [
              0,
              "#0d0887"
             ],
             [
              0.1111111111111111,
              "#46039f"
             ],
             [
              0.2222222222222222,
              "#7201a8"
             ],
             [
              0.3333333333333333,
              "#9c179e"
             ],
             [
              0.4444444444444444,
              "#bd3786"
             ],
             [
              0.5555555555555556,
              "#d8576b"
             ],
             [
              0.6666666666666666,
              "#ed7953"
             ],
             [
              0.7777777777777778,
              "#fb9f3a"
             ],
             [
              0.8888888888888888,
              "#fdca26"
             ],
             [
              1,
              "#f0f921"
             ]
            ],
            "type": "heatmapgl"
           }
          ],
          "histogram": [
           {
            "marker": {
             "colorbar": {
              "outlinewidth": 0,
              "ticks": ""
             }
            },
            "type": "histogram"
           }
          ],
          "histogram2d": [
           {
            "colorbar": {
             "outlinewidth": 0,
             "ticks": ""
            },
            "colorscale": [
             [
              0,
              "#0d0887"
             ],
             [
              0.1111111111111111,
              "#46039f"
             ],
             [
              0.2222222222222222,
              "#7201a8"
             ],
             [
              0.3333333333333333,
              "#9c179e"
             ],
             [
              0.4444444444444444,
              "#bd3786"
             ],
             [
              0.5555555555555556,
              "#d8576b"
             ],
             [
              0.6666666666666666,
              "#ed7953"
             ],
             [
              0.7777777777777778,
              "#fb9f3a"
             ],
             [
              0.8888888888888888,
              "#fdca26"
             ],
             [
              1,
              "#f0f921"
             ]
            ],
            "type": "histogram2d"
           }
          ],
          "histogram2dcontour": [
           {
            "colorbar": {
             "outlinewidth": 0,
             "ticks": ""
            },
            "colorscale": [
             [
              0,
              "#0d0887"
             ],
             [
              0.1111111111111111,
              "#46039f"
             ],
             [
              0.2222222222222222,
              "#7201a8"
             ],
             [
              0.3333333333333333,
              "#9c179e"
             ],
             [
              0.4444444444444444,
              "#bd3786"
             ],
             [
              0.5555555555555556,
              "#d8576b"
             ],
             [
              0.6666666666666666,
              "#ed7953"
             ],
             [
              0.7777777777777778,
              "#fb9f3a"
             ],
             [
              0.8888888888888888,
              "#fdca26"
             ],
             [
              1,
              "#f0f921"
             ]
            ],
            "type": "histogram2dcontour"
           }
          ],
          "mesh3d": [
           {
            "colorbar": {
             "outlinewidth": 0,
             "ticks": ""
            },
            "type": "mesh3d"
           }
          ],
          "parcoords": [
           {
            "line": {
             "colorbar": {
              "outlinewidth": 0,
              "ticks": ""
             }
            },
            "type": "parcoords"
           }
          ],
          "pie": [
           {
            "automargin": true,
            "type": "pie"
           }
          ],
          "scatter": [
           {
            "marker": {
             "colorbar": {
              "outlinewidth": 0,
              "ticks": ""
             }
            },
            "type": "scatter"
           }
          ],
          "scatter3d": [
           {
            "line": {
             "colorbar": {
              "outlinewidth": 0,
              "ticks": ""
             }
            },
            "marker": {
             "colorbar": {
              "outlinewidth": 0,
              "ticks": ""
             }
            },
            "type": "scatter3d"
           }
          ],
          "scattercarpet": [
           {
            "marker": {
             "colorbar": {
              "outlinewidth": 0,
              "ticks": ""
             }
            },
            "type": "scattercarpet"
           }
          ],
          "scattergeo": [
           {
            "marker": {
             "colorbar": {
              "outlinewidth": 0,
              "ticks": ""
             }
            },
            "type": "scattergeo"
           }
          ],
          "scattergl": [
           {
            "marker": {
             "colorbar": {
              "outlinewidth": 0,
              "ticks": ""
             }
            },
            "type": "scattergl"
           }
          ],
          "scattermapbox": [
           {
            "marker": {
             "colorbar": {
              "outlinewidth": 0,
              "ticks": ""
             }
            },
            "type": "scattermapbox"
           }
          ],
          "scatterpolar": [
           {
            "marker": {
             "colorbar": {
              "outlinewidth": 0,
              "ticks": ""
             }
            },
            "type": "scatterpolar"
           }
          ],
          "scatterpolargl": [
           {
            "marker": {
             "colorbar": {
              "outlinewidth": 0,
              "ticks": ""
             }
            },
            "type": "scatterpolargl"
           }
          ],
          "scatterternary": [
           {
            "marker": {
             "colorbar": {
              "outlinewidth": 0,
              "ticks": ""
             }
            },
            "type": "scatterternary"
           }
          ],
          "surface": [
           {
            "colorbar": {
             "outlinewidth": 0,
             "ticks": ""
            },
            "colorscale": [
             [
              0,
              "#0d0887"
             ],
             [
              0.1111111111111111,
              "#46039f"
             ],
             [
              0.2222222222222222,
              "#7201a8"
             ],
             [
              0.3333333333333333,
              "#9c179e"
             ],
             [
              0.4444444444444444,
              "#bd3786"
             ],
             [
              0.5555555555555556,
              "#d8576b"
             ],
             [
              0.6666666666666666,
              "#ed7953"
             ],
             [
              0.7777777777777778,
              "#fb9f3a"
             ],
             [
              0.8888888888888888,
              "#fdca26"
             ],
             [
              1,
              "#f0f921"
             ]
            ],
            "type": "surface"
           }
          ],
          "table": [
           {
            "cells": {
             "fill": {
              "color": "#EBF0F8"
             },
             "line": {
              "color": "white"
             }
            },
            "header": {
             "fill": {
              "color": "#C8D4E3"
             },
             "line": {
              "color": "white"
             }
            },
            "type": "table"
           }
          ]
         },
         "layout": {
          "annotationdefaults": {
           "arrowcolor": "#2a3f5f",
           "arrowhead": 0,
           "arrowwidth": 1
          },
          "coloraxis": {
           "colorbar": {
            "outlinewidth": 0,
            "ticks": ""
           }
          },
          "colorscale": {
           "diverging": [
            [
             0,
             "#8e0152"
            ],
            [
             0.1,
             "#c51b7d"
            ],
            [
             0.2,
             "#de77ae"
            ],
            [
             0.3,
             "#f1b6da"
            ],
            [
             0.4,
             "#fde0ef"
            ],
            [
             0.5,
             "#f7f7f7"
            ],
            [
             0.6,
             "#e6f5d0"
            ],
            [
             0.7,
             "#b8e186"
            ],
            [
             0.8,
             "#7fbc41"
            ],
            [
             0.9,
             "#4d9221"
            ],
            [
             1,
             "#276419"
            ]
           ],
           "sequential": [
            [
             0,
             "#0d0887"
            ],
            [
             0.1111111111111111,
             "#46039f"
            ],
            [
             0.2222222222222222,
             "#7201a8"
            ],
            [
             0.3333333333333333,
             "#9c179e"
            ],
            [
             0.4444444444444444,
             "#bd3786"
            ],
            [
             0.5555555555555556,
             "#d8576b"
            ],
            [
             0.6666666666666666,
             "#ed7953"
            ],
            [
             0.7777777777777778,
             "#fb9f3a"
            ],
            [
             0.8888888888888888,
             "#fdca26"
            ],
            [
             1,
             "#f0f921"
            ]
           ],
           "sequentialminus": [
            [
             0,
             "#0d0887"
            ],
            [
             0.1111111111111111,
             "#46039f"
            ],
            [
             0.2222222222222222,
             "#7201a8"
            ],
            [
             0.3333333333333333,
             "#9c179e"
            ],
            [
             0.4444444444444444,
             "#bd3786"
            ],
            [
             0.5555555555555556,
             "#d8576b"
            ],
            [
             0.6666666666666666,
             "#ed7953"
            ],
            [
             0.7777777777777778,
             "#fb9f3a"
            ],
            [
             0.8888888888888888,
             "#fdca26"
            ],
            [
             1,
             "#f0f921"
            ]
           ]
          },
          "colorway": [
           "#636efa",
           "#EF553B",
           "#00cc96",
           "#ab63fa",
           "#FFA15A",
           "#19d3f3",
           "#FF6692",
           "#B6E880",
           "#FF97FF",
           "#FECB52"
          ],
          "font": {
           "color": "#2a3f5f"
          },
          "geo": {
           "bgcolor": "white",
           "lakecolor": "white",
           "landcolor": "#E5ECF6",
           "showlakes": true,
           "showland": true,
           "subunitcolor": "white"
          },
          "hoverlabel": {
           "align": "left"
          },
          "hovermode": "closest",
          "mapbox": {
           "style": "light"
          },
          "paper_bgcolor": "white",
          "plot_bgcolor": "#E5ECF6",
          "polar": {
           "angularaxis": {
            "gridcolor": "white",
            "linecolor": "white",
            "ticks": ""
           },
           "bgcolor": "#E5ECF6",
           "radialaxis": {
            "gridcolor": "white",
            "linecolor": "white",
            "ticks": ""
           }
          },
          "scene": {
           "xaxis": {
            "backgroundcolor": "#E5ECF6",
            "gridcolor": "white",
            "gridwidth": 2,
            "linecolor": "white",
            "showbackground": true,
            "ticks": "",
            "zerolinecolor": "white"
           },
           "yaxis": {
            "backgroundcolor": "#E5ECF6",
            "gridcolor": "white",
            "gridwidth": 2,
            "linecolor": "white",
            "showbackground": true,
            "ticks": "",
            "zerolinecolor": "white"
           },
           "zaxis": {
            "backgroundcolor": "#E5ECF6",
            "gridcolor": "white",
            "gridwidth": 2,
            "linecolor": "white",
            "showbackground": true,
            "ticks": "",
            "zerolinecolor": "white"
           }
          },
          "shapedefaults": {
           "line": {
            "color": "#2a3f5f"
           }
          },
          "ternary": {
           "aaxis": {
            "gridcolor": "white",
            "linecolor": "white",
            "ticks": ""
           },
           "baxis": {
            "gridcolor": "white",
            "linecolor": "white",
            "ticks": ""
           },
           "bgcolor": "#E5ECF6",
           "caxis": {
            "gridcolor": "white",
            "linecolor": "white",
            "ticks": ""
           }
          },
          "title": {
           "x": 0.05
          },
          "xaxis": {
           "automargin": true,
           "gridcolor": "white",
           "linecolor": "white",
           "ticks": "",
           "title": {
            "standoff": 15
           },
           "zerolinecolor": "white",
           "zerolinewidth": 2
          },
          "yaxis": {
           "automargin": true,
           "gridcolor": "white",
           "linecolor": "white",
           "ticks": "",
           "title": {
            "standoff": 15
           },
           "zerolinecolor": "white",
           "zerolinewidth": 2
          }
         }
        },
        "title": {
         "text": "Porcentagem de hipertensos em relação ao DEATH_EVENT"
        }
       }
      }
     },
     "metadata": {}
    }
   ],
   "source": [
    "px.pie(dados, values='high_blood_pressure',names='DEATH_EVENT', title='Porcentagem de hipertensos em relação ao DEATH_EVENT')"
   ]
  },
  {
   "source": [
    "Neste gráfico de setores, foi possível analisar que há um impacto moderado da pressão alta nas taxas de mortalidade."
   ],
   "cell_type": "markdown",
   "metadata": {}
  },
  {
   "source": [
    "### Gênero x DEATH_EVENT:"
   ],
   "cell_type": "markdown",
   "metadata": {}
  },
  {
   "source": [
    "Tabela de frequências para entedermos melhor o comportamento do gênero com o evento de morte e o gráfico de setores abaixo"
   ],
   "cell_type": "markdown",
   "metadata": {}
  },
  {
   "cell_type": "code",
   "execution_count": 16,
   "metadata": {},
   "outputs": [
    {
     "output_type": "execute_result",
     "data": {
      "text/plain": [
       "DEATH_EVENT         0         1\n",
       "sex                            \n",
       "0            0.237458  0.113712\n",
       "1            0.441472  0.207358"
      ],
      "text/html": "<div>\n<style scoped>\n    .dataframe tbody tr th:only-of-type {\n        vertical-align: middle;\n    }\n\n    .dataframe tbody tr th {\n        vertical-align: top;\n    }\n\n    .dataframe thead th {\n        text-align: right;\n    }\n</style>\n<table border=\"1\" class=\"dataframe\">\n  <thead>\n    <tr style=\"text-align: right;\">\n      <th>DEATH_EVENT</th>\n      <th>0</th>\n      <th>1</th>\n    </tr>\n    <tr>\n      <th>sex</th>\n      <th></th>\n      <th></th>\n    </tr>\n  </thead>\n  <tbody>\n    <tr>\n      <th>0</th>\n      <td>0.237458</td>\n      <td>0.113712</td>\n    </tr>\n    <tr>\n      <th>1</th>\n      <td>0.441472</td>\n      <td>0.207358</td>\n    </tr>\n  </tbody>\n</table>\n</div>"
     },
     "metadata": {},
     "execution_count": 16
    }
   ],
   "source": [
    "pd.crosstab(dados.sex,dados.DEATH_EVENT, normalize=True)"
   ]
  },
  {
   "cell_type": "code",
   "execution_count": 10,
   "metadata": {},
   "outputs": [
    {
     "output_type": "display_data",
     "data": {
      "application/vnd.plotly.v1+json": {
       "config": {
        "plotlyServerURL": "https://plot.ly"
       },
       "data": [
        {
         "hole": 0.35,
         "labels": [
          "Homens - Sobreviventes",
          "Mulheres - Sobreviventes ",
          "Homem -Não Sobreviventes",
          "Mulheres - Não Sobreviventes"
         ],
         "type": "pie",
         "values": [
          132,
          71,
          62,
          34
         ]
        }
       ],
       "layout": {
        "template": {
         "data": {
          "bar": [
           {
            "error_x": {
             "color": "#2a3f5f"
            },
            "error_y": {
             "color": "#2a3f5f"
            },
            "marker": {
             "line": {
              "color": "#E5ECF6",
              "width": 0.5
             }
            },
            "type": "bar"
           }
          ],
          "barpolar": [
           {
            "marker": {
             "line": {
              "color": "#E5ECF6",
              "width": 0.5
             }
            },
            "type": "barpolar"
           }
          ],
          "carpet": [
           {
            "aaxis": {
             "endlinecolor": "#2a3f5f",
             "gridcolor": "white",
             "linecolor": "white",
             "minorgridcolor": "white",
             "startlinecolor": "#2a3f5f"
            },
            "baxis": {
             "endlinecolor": "#2a3f5f",
             "gridcolor": "white",
             "linecolor": "white",
             "minorgridcolor": "white",
             "startlinecolor": "#2a3f5f"
            },
            "type": "carpet"
           }
          ],
          "choropleth": [
           {
            "colorbar": {
             "outlinewidth": 0,
             "ticks": ""
            },
            "type": "choropleth"
           }
          ],
          "contour": [
           {
            "colorbar": {
             "outlinewidth": 0,
             "ticks": ""
            },
            "colorscale": [
             [
              0,
              "#0d0887"
             ],
             [
              0.1111111111111111,
              "#46039f"
             ],
             [
              0.2222222222222222,
              "#7201a8"
             ],
             [
              0.3333333333333333,
              "#9c179e"
             ],
             [
              0.4444444444444444,
              "#bd3786"
             ],
             [
              0.5555555555555556,
              "#d8576b"
             ],
             [
              0.6666666666666666,
              "#ed7953"
             ],
             [
              0.7777777777777778,
              "#fb9f3a"
             ],
             [
              0.8888888888888888,
              "#fdca26"
             ],
             [
              1,
              "#f0f921"
             ]
            ],
            "type": "contour"
           }
          ],
          "contourcarpet": [
           {
            "colorbar": {
             "outlinewidth": 0,
             "ticks": ""
            },
            "type": "contourcarpet"
           }
          ],
          "heatmap": [
           {
            "colorbar": {
             "outlinewidth": 0,
             "ticks": ""
            },
            "colorscale": [
             [
              0,
              "#0d0887"
             ],
             [
              0.1111111111111111,
              "#46039f"
             ],
             [
              0.2222222222222222,
              "#7201a8"
             ],
             [
              0.3333333333333333,
              "#9c179e"
             ],
             [
              0.4444444444444444,
              "#bd3786"
             ],
             [
              0.5555555555555556,
              "#d8576b"
             ],
             [
              0.6666666666666666,
              "#ed7953"
             ],
             [
              0.7777777777777778,
              "#fb9f3a"
             ],
             [
              0.8888888888888888,
              "#fdca26"
             ],
             [
              1,
              "#f0f921"
             ]
            ],
            "type": "heatmap"
           }
          ],
          "heatmapgl": [
           {
            "colorbar": {
             "outlinewidth": 0,
             "ticks": ""
            },
            "colorscale": [
             [
              0,
              "#0d0887"
             ],
             [
              0.1111111111111111,
              "#46039f"
             ],
             [
              0.2222222222222222,
              "#7201a8"
             ],
             [
              0.3333333333333333,
              "#9c179e"
             ],
             [
              0.4444444444444444,
              "#bd3786"
             ],
             [
              0.5555555555555556,
              "#d8576b"
             ],
             [
              0.6666666666666666,
              "#ed7953"
             ],
             [
              0.7777777777777778,
              "#fb9f3a"
             ],
             [
              0.8888888888888888,
              "#fdca26"
             ],
             [
              1,
              "#f0f921"
             ]
            ],
            "type": "heatmapgl"
           }
          ],
          "histogram": [
           {
            "marker": {
             "colorbar": {
              "outlinewidth": 0,
              "ticks": ""
             }
            },
            "type": "histogram"
           }
          ],
          "histogram2d": [
           {
            "colorbar": {
             "outlinewidth": 0,
             "ticks": ""
            },
            "colorscale": [
             [
              0,
              "#0d0887"
             ],
             [
              0.1111111111111111,
              "#46039f"
             ],
             [
              0.2222222222222222,
              "#7201a8"
             ],
             [
              0.3333333333333333,
              "#9c179e"
             ],
             [
              0.4444444444444444,
              "#bd3786"
             ],
             [
              0.5555555555555556,
              "#d8576b"
             ],
             [
              0.6666666666666666,
              "#ed7953"
             ],
             [
              0.7777777777777778,
              "#fb9f3a"
             ],
             [
              0.8888888888888888,
              "#fdca26"
             ],
             [
              1,
              "#f0f921"
             ]
            ],
            "type": "histogram2d"
           }
          ],
          "histogram2dcontour": [
           {
            "colorbar": {
             "outlinewidth": 0,
             "ticks": ""
            },
            "colorscale": [
             [
              0,
              "#0d0887"
             ],
             [
              0.1111111111111111,
              "#46039f"
             ],
             [
              0.2222222222222222,
              "#7201a8"
             ],
             [
              0.3333333333333333,
              "#9c179e"
             ],
             [
              0.4444444444444444,
              "#bd3786"
             ],
             [
              0.5555555555555556,
              "#d8576b"
             ],
             [
              0.6666666666666666,
              "#ed7953"
             ],
             [
              0.7777777777777778,
              "#fb9f3a"
             ],
             [
              0.8888888888888888,
              "#fdca26"
             ],
             [
              1,
              "#f0f921"
             ]
            ],
            "type": "histogram2dcontour"
           }
          ],
          "mesh3d": [
           {
            "colorbar": {
             "outlinewidth": 0,
             "ticks": ""
            },
            "type": "mesh3d"
           }
          ],
          "parcoords": [
           {
            "line": {
             "colorbar": {
              "outlinewidth": 0,
              "ticks": ""
             }
            },
            "type": "parcoords"
           }
          ],
          "pie": [
           {
            "automargin": true,
            "type": "pie"
           }
          ],
          "scatter": [
           {
            "marker": {
             "colorbar": {
              "outlinewidth": 0,
              "ticks": ""
             }
            },
            "type": "scatter"
           }
          ],
          "scatter3d": [
           {
            "line": {
             "colorbar": {
              "outlinewidth": 0,
              "ticks": ""
             }
            },
            "marker": {
             "colorbar": {
              "outlinewidth": 0,
              "ticks": ""
             }
            },
            "type": "scatter3d"
           }
          ],
          "scattercarpet": [
           {
            "marker": {
             "colorbar": {
              "outlinewidth": 0,
              "ticks": ""
             }
            },
            "type": "scattercarpet"
           }
          ],
          "scattergeo": [
           {
            "marker": {
             "colorbar": {
              "outlinewidth": 0,
              "ticks": ""
             }
            },
            "type": "scattergeo"
           }
          ],
          "scattergl": [
           {
            "marker": {
             "colorbar": {
              "outlinewidth": 0,
              "ticks": ""
             }
            },
            "type": "scattergl"
           }
          ],
          "scattermapbox": [
           {
            "marker": {
             "colorbar": {
              "outlinewidth": 0,
              "ticks": ""
             }
            },
            "type": "scattermapbox"
           }
          ],
          "scatterpolar": [
           {
            "marker": {
             "colorbar": {
              "outlinewidth": 0,
              "ticks": ""
             }
            },
            "type": "scatterpolar"
           }
          ],
          "scatterpolargl": [
           {
            "marker": {
             "colorbar": {
              "outlinewidth": 0,
              "ticks": ""
             }
            },
            "type": "scatterpolargl"
           }
          ],
          "scatterternary": [
           {
            "marker": {
             "colorbar": {
              "outlinewidth": 0,
              "ticks": ""
             }
            },
            "type": "scatterternary"
           }
          ],
          "surface": [
           {
            "colorbar": {
             "outlinewidth": 0,
             "ticks": ""
            },
            "colorscale": [
             [
              0,
              "#0d0887"
             ],
             [
              0.1111111111111111,
              "#46039f"
             ],
             [
              0.2222222222222222,
              "#7201a8"
             ],
             [
              0.3333333333333333,
              "#9c179e"
             ],
             [
              0.4444444444444444,
              "#bd3786"
             ],
             [
              0.5555555555555556,
              "#d8576b"
             ],
             [
              0.6666666666666666,
              "#ed7953"
             ],
             [
              0.7777777777777778,
              "#fb9f3a"
             ],
             [
              0.8888888888888888,
              "#fdca26"
             ],
             [
              1,
              "#f0f921"
             ]
            ],
            "type": "surface"
           }
          ],
          "table": [
           {
            "cells": {
             "fill": {
              "color": "#EBF0F8"
             },
             "line": {
              "color": "white"
             }
            },
            "header": {
             "fill": {
              "color": "#C8D4E3"
             },
             "line": {
              "color": "white"
             }
            },
            "type": "table"
           }
          ]
         },
         "layout": {
          "annotationdefaults": {
           "arrowcolor": "#2a3f5f",
           "arrowhead": 0,
           "arrowwidth": 1
          },
          "coloraxis": {
           "colorbar": {
            "outlinewidth": 0,
            "ticks": ""
           }
          },
          "colorscale": {
           "diverging": [
            [
             0,
             "#8e0152"
            ],
            [
             0.1,
             "#c51b7d"
            ],
            [
             0.2,
             "#de77ae"
            ],
            [
             0.3,
             "#f1b6da"
            ],
            [
             0.4,
             "#fde0ef"
            ],
            [
             0.5,
             "#f7f7f7"
            ],
            [
             0.6,
             "#e6f5d0"
            ],
            [
             0.7,
             "#b8e186"
            ],
            [
             0.8,
             "#7fbc41"
            ],
            [
             0.9,
             "#4d9221"
            ],
            [
             1,
             "#276419"
            ]
           ],
           "sequential": [
            [
             0,
             "#0d0887"
            ],
            [
             0.1111111111111111,
             "#46039f"
            ],
            [
             0.2222222222222222,
             "#7201a8"
            ],
            [
             0.3333333333333333,
             "#9c179e"
            ],
            [
             0.4444444444444444,
             "#bd3786"
            ],
            [
             0.5555555555555556,
             "#d8576b"
            ],
            [
             0.6666666666666666,
             "#ed7953"
            ],
            [
             0.7777777777777778,
             "#fb9f3a"
            ],
            [
             0.8888888888888888,
             "#fdca26"
            ],
            [
             1,
             "#f0f921"
            ]
           ],
           "sequentialminus": [
            [
             0,
             "#0d0887"
            ],
            [
             0.1111111111111111,
             "#46039f"
            ],
            [
             0.2222222222222222,
             "#7201a8"
            ],
            [
             0.3333333333333333,
             "#9c179e"
            ],
            [
             0.4444444444444444,
             "#bd3786"
            ],
            [
             0.5555555555555556,
             "#d8576b"
            ],
            [
             0.6666666666666666,
             "#ed7953"
            ],
            [
             0.7777777777777778,
             "#fb9f3a"
            ],
            [
             0.8888888888888888,
             "#fdca26"
            ],
            [
             1,
             "#f0f921"
            ]
           ]
          },
          "colorway": [
           "#636efa",
           "#EF553B",
           "#00cc96",
           "#ab63fa",
           "#FFA15A",
           "#19d3f3",
           "#FF6692",
           "#B6E880",
           "#FF97FF",
           "#FECB52"
          ],
          "font": {
           "color": "#2a3f5f"
          },
          "geo": {
           "bgcolor": "white",
           "lakecolor": "white",
           "landcolor": "#E5ECF6",
           "showlakes": true,
           "showland": true,
           "subunitcolor": "white"
          },
          "hoverlabel": {
           "align": "left"
          },
          "hovermode": "closest",
          "mapbox": {
           "style": "light"
          },
          "paper_bgcolor": "white",
          "plot_bgcolor": "#E5ECF6",
          "polar": {
           "angularaxis": {
            "gridcolor": "white",
            "linecolor": "white",
            "ticks": ""
           },
           "bgcolor": "#E5ECF6",
           "radialaxis": {
            "gridcolor": "white",
            "linecolor": "white",
            "ticks": ""
           }
          },
          "scene": {
           "xaxis": {
            "backgroundcolor": "#E5ECF6",
            "gridcolor": "white",
            "gridwidth": 2,
            "linecolor": "white",
            "showbackground": true,
            "ticks": "",
            "zerolinecolor": "white"
           },
           "yaxis": {
            "backgroundcolor": "#E5ECF6",
            "gridcolor": "white",
            "gridwidth": 2,
            "linecolor": "white",
            "showbackground": true,
            "ticks": "",
            "zerolinecolor": "white"
           },
           "zaxis": {
            "backgroundcolor": "#E5ECF6",
            "gridcolor": "white",
            "gridwidth": 2,
            "linecolor": "white",
            "showbackground": true,
            "ticks": "",
            "zerolinecolor": "white"
           }
          },
          "shapedefaults": {
           "line": {
            "color": "#2a3f5f"
           }
          },
          "ternary": {
           "aaxis": {
            "gridcolor": "white",
            "linecolor": "white",
            "ticks": ""
           },
           "baxis": {
            "gridcolor": "white",
            "linecolor": "white",
            "ticks": ""
           },
           "bgcolor": "#E5ECF6",
           "caxis": {
            "gridcolor": "white",
            "linecolor": "white",
            "ticks": ""
           }
          },
          "title": {
           "x": 0.05
          },
          "xaxis": {
           "automargin": true,
           "gridcolor": "white",
           "linecolor": "white",
           "ticks": "",
           "title": {
            "standoff": 15
           },
           "zerolinecolor": "white",
           "zerolinewidth": 2
          },
          "yaxis": {
           "automargin": true,
           "gridcolor": "white",
           "linecolor": "white",
           "ticks": "",
           "title": {
            "standoff": 15
           },
           "zerolinecolor": "white",
           "zerolinewidth": 2
          }
         }
        },
        "title": {
         "text": "Análise do Gênero - Taxa de mortalidade"
        }
       }
      }
     },
     "metadata": {}
    }
   ],
   "source": [
    "m = dados[dados[\"sex\"]==1]\n",
    "f = dados[dados[\"sex\"]==0]\n",
    "\n",
    "labels = ['Homens - Sobreviventes','Mulheres - Sobreviventes ', \"Homem -Não Sobreviventes\", \"Mulheres - Não Sobreviventes\"]\n",
    "values = [len(m[dados[\"DEATH_EVENT\"]==0]),len(f[dados[\"DEATH_EVENT\"]==0]), len(m[dados[\"DEATH_EVENT\"]==1])\n",
    "         ,len(f[dados[\"DEATH_EVENT\"]==1])]\n",
    "fig = go.Figure(data=[go.Pie(labels=labels, values=values, hole=0.35)])\n",
    "fig.update_layout(\n",
    "    title_text=\"Análise do Gênero - Taxa de mortalidade\")\n",
    "fig.show()"
   ]
  },
  {
   "source": [
    "Neste gráfico de setores, foi possível analisar que a taxa de mortalidade entre os dois sexos é bem proxima, assim não o classificando para ser um fator decisivo para a morte da pessoa."
   ],
   "cell_type": "markdown",
   "metadata": {}
  },
  {
   "source": [
    "# Preditor"
   ],
   "cell_type": "markdown",
   "metadata": {}
  },
  {
   "source": [
    "### Divisão entre dados de treino e dados de teste"
   ],
   "cell_type": "markdown",
   "metadata": {}
  },
  {
   "cell_type": "code",
   "execution_count": 74,
   "metadata": {},
   "outputs": [],
   "source": [
    "Features = ['time','ejection_fraction','serum_creatinine']\n",
    "x = dados[Features]\n",
    "y = dados[\"DEATH_EVENT\"]\n",
    "x_train,x_test,y_train,y_test = train_test_split(x,y, test_size=0.2, random_state=2)"
   ]
  },
  {
   "source": [
    "## Regressão Logística:\n",
    "\n",
    "Esta é uma técnica semelhante ao modelo de regressão linear, porém na logística a variável resposta é binária. Esta é normalmente utilizada quando a variável dependente é categórica, de natureza dicotômica ou binária. Já as independentes podem ou não ser categóricas. Este modelo é utilizado quando a variável resposta é qualitativa com dois resultados possíveis (Exemplo: Para prever se um e-mail é spam, é ou não é um spam 1 ou 0). No caso utilizado em nosso projeto, a variável resposta é uma booleana, onde foi possível prever o evento de morte devido a alguma falha cardíaca. Como em nosso modelo só há duas respostas possíveis, morte ou não morte, esta técnica é coerente com o que queremos prever."
   ],
   "cell_type": "markdown",
   "metadata": {}
  },
  {
   "source": [
    "### Simulação e teste de precisão"
   ],
   "cell_type": "markdown",
   "metadata": {}
  },
  {
   "cell_type": "code",
   "execution_count": 75,
   "metadata": {},
   "outputs": [],
   "source": [
    "log = LogisticRegression()\n",
    "log =log.fit(x_train, y_train)\n",
    "log_pred = log.predict(x_test)\n",
    "log_pres = accuracy_score(y_test, log_pred)"
   ]
  },
  {
   "cell_type": "code",
   "execution_count": 87,
   "metadata": {},
   "outputs": [
    {
     "output_type": "display_data",
     "data": {
      "text/plain": "    Test  Pred\n179    0     0\n221    0     0\n226    0     0\n7      1     0\n173    0     0",
      "text/html": "<div>\n<style scoped>\n    .dataframe tbody tr th:only-of-type {\n        vertical-align: middle;\n    }\n\n    .dataframe tbody tr th {\n        vertical-align: top;\n    }\n\n    .dataframe thead th {\n        text-align: right;\n    }\n</style>\n<table border=\"1\" class=\"dataframe\">\n  <thead>\n    <tr style=\"text-align: right;\">\n      <th></th>\n      <th>Test</th>\n      <th>Pred</th>\n    </tr>\n  </thead>\n  <tbody>\n    <tr>\n      <th>179</th>\n      <td>0</td>\n      <td>0</td>\n    </tr>\n    <tr>\n      <th>221</th>\n      <td>0</td>\n      <td>0</td>\n    </tr>\n    <tr>\n      <th>226</th>\n      <td>0</td>\n      <td>0</td>\n    </tr>\n    <tr>\n      <th>7</th>\n      <td>1</td>\n      <td>0</td>\n    </tr>\n    <tr>\n      <th>173</th>\n      <td>0</td>\n      <td>0</td>\n    </tr>\n  </tbody>\n</table>\n</div>"
     },
     "metadata": {}
    }
   ],
   "source": [
    "res = {}\n",
    "res = pd.DataFrame(res)\n",
    "res['Test'] = pd.Series(y_test)\n",
    "res['Pred'] = log_pred\n",
    "display(res.head(5))"
   ]
  },
  {
   "source": [
    "## Árvore de Decisão:\n",
    "\n",
    "Uma árvore de decisão é um mapa dos possíveis resultados de uma série de escolhas relacionadas. Permite uma comparação de possíveis ações com base em seus custos, probabilidades e benefícios. Podem ser usadas tanto para conduzir diálogos informais quanto para mapear um algoritmo que prevê a melhor escolha. Uma árvore de decisão geralmente começa com um único nó, que se divide em possíveis resultados. Cada um desses resultados leva a nós adicionais, que se ramificam em outras possibilidades. Assim, cria-se uma forma de árvore. Este modelo que é mais utilizado em inferência indutiva foi utilizado em nosso projeto com o intuito de avaliar as 12 características ($features$) em relação ao evento de morte."
   ],
   "cell_type": "markdown",
   "metadata": {}
  },
  {
   "cell_type": "code",
   "execution_count": 35,
   "metadata": {},
   "outputs": [],
   "source": [
    "Features = ['age', 'anaemia', 'creatinine_phosphokinase', 'diabetes', 'ejection_fraction', 'high_blood_pressure', 'platelets', 'serum_creatinine', 'serum_sodium', 'sex', 'smoking','time']\n",
    "x = dados[Features]\n",
    "y = dados[\"DEATH_EVENT\"]\n",
    "x_train,x_test,y_train,y_test = train_test_split(x,y, test_size=0.2, random_state=2)\n",
    "\n",
    "tree = DecisionTreeClassifier()\n",
    "tree = tree.fit(x_train, y_train)\n",
    "tree_pred = tree.predict(x_test)\n",
    "tree_pres = accuracy_score(y_test, tree_pred)"
   ]
  },
  {
   "cell_type": "code",
   "execution_count": 90,
   "metadata": {},
   "outputs": [
    {
     "output_type": "display_data",
     "data": {
      "text/plain": "<Figure size 432x288 with 1 Axes>",
      "image/svg+xml": "<?xml version=\"1.0\" encoding=\"utf-8\" standalone=\"no\"?>\r\n<!DOCTYPE svg PUBLIC \"-//W3C//DTD SVG 1.1//EN\"\r\n  \"http://www.w3.org/Graphics/SVG/1.1/DTD/svg11.dtd\">\r\n<!-- Created with matplotlib (https://matplotlib.org/) -->\r\n<svg height=\"231.84pt\" version=\"1.1\" viewBox=\"0 0 349.2 231.84\" width=\"349.2pt\" xmlns=\"http://www.w3.org/2000/svg\" xmlns:xlink=\"http://www.w3.org/1999/xlink\">\r\n <defs>\r\n  <style type=\"text/css\">\r\n*{stroke-linecap:butt;stroke-linejoin:round;}\r\n  </style>\r\n </defs>\r\n <g id=\"figure_1\">\r\n  <g id=\"patch_1\">\r\n   <path d=\"M 0 231.84 \r\nL 349.2 231.84 \r\nL 349.2 0 \r\nL 0 0 \r\nz\r\n\" style=\"fill:none;\"/>\r\n  </g>\r\n  <g id=\"axes_1\">\r\n   <g id=\"patch_2\">\r\n    <path d=\"M 241.930713 208.311685 \r\nQ 244.162371 201.644547 246.74891 193.917191 \r\n\" style=\"fill:none;stroke:#000000;stroke-linecap:round;\"/>\r\n    <path d=\"M 242.247336 207.995854 \r\nL 241.930713 208.311685 \r\nL 241.868022 207.868887 \r\n\" style=\"fill:none;stroke:#000000;stroke-linecap:round;\"/>\r\n   </g>\r\n   <g id=\"text_1\">\r\n    <g id=\"patch_3\">\r\n     <path d=\"M 236.257551 215.771687 \r\nL 243.951145 215.771687 \r\nL 243.951145 211.764312 \r\nL 236.257551 211.764312 \r\nz\r\n\" style=\"fill:#ffffff;stroke:#000000;stroke-linejoin:miter;\"/>\r\n    </g>\r\n    <!-- gini = 0.0 -->\r\n    <defs>\r\n     <path d=\"M 45.40625 27.984375 \r\nQ 45.40625 37.75 41.375 43.109375 \r\nQ 37.359375 48.484375 30.078125 48.484375 \r\nQ 22.859375 48.484375 18.828125 43.109375 \r\nQ 14.796875 37.75 14.796875 27.984375 \r\nQ 14.796875 18.265625 18.828125 12.890625 \r\nQ 22.859375 7.515625 30.078125 7.515625 \r\nQ 37.359375 7.515625 41.375 12.890625 \r\nQ 45.40625 18.265625 45.40625 27.984375 \r\nz\r\nM 54.390625 6.78125 \r\nQ 54.390625 -7.171875 48.1875 -13.984375 \r\nQ 42 -20.796875 29.203125 -20.796875 \r\nQ 24.46875 -20.796875 20.265625 -20.09375 \r\nQ 16.0625 -19.390625 12.109375 -17.921875 \r\nL 12.109375 -9.1875 \r\nQ 16.0625 -11.328125 19.921875 -12.34375 \r\nQ 23.78125 -13.375 27.78125 -13.375 \r\nQ 36.625 -13.375 41.015625 -8.765625 \r\nQ 45.40625 -4.15625 45.40625 5.171875 \r\nL 45.40625 9.625 \r\nQ 42.625 4.78125 38.28125 2.390625 \r\nQ 33.9375 0 27.875 0 \r\nQ 17.828125 0 11.671875 7.65625 \r\nQ 5.515625 15.328125 5.515625 27.984375 \r\nQ 5.515625 40.671875 11.671875 48.328125 \r\nQ 17.828125 56 27.875 56 \r\nQ 33.9375 56 38.28125 53.609375 \r\nQ 42.625 51.21875 45.40625 46.390625 \r\nL 45.40625 54.6875 \r\nL 54.390625 54.6875 \r\nz\r\n\" id=\"DejaVuSans-103\"/>\r\n     <path d=\"M 9.421875 54.6875 \r\nL 18.40625 54.6875 \r\nL 18.40625 0 \r\nL 9.421875 0 \r\nz\r\nM 9.421875 75.984375 \r\nL 18.40625 75.984375 \r\nL 18.40625 64.59375 \r\nL 9.421875 64.59375 \r\nz\r\n\" id=\"DejaVuSans-105\"/>\r\n     <path d=\"M 54.890625 33.015625 \r\nL 54.890625 0 \r\nL 45.90625 0 \r\nL 45.90625 32.71875 \r\nQ 45.90625 40.484375 42.875 44.328125 \r\nQ 39.84375 48.1875 33.796875 48.1875 \r\nQ 26.515625 48.1875 22.3125 43.546875 \r\nQ 18.109375 38.921875 18.109375 30.90625 \r\nL 18.109375 0 \r\nL 9.078125 0 \r\nL 9.078125 54.6875 \r\nL 18.109375 54.6875 \r\nL 18.109375 46.1875 \r\nQ 21.34375 51.125 25.703125 53.5625 \r\nQ 30.078125 56 35.796875 56 \r\nQ 45.21875 56 50.046875 50.171875 \r\nQ 54.890625 44.34375 54.890625 33.015625 \r\nz\r\n\" id=\"DejaVuSans-110\"/>\r\n     <path id=\"DejaVuSans-32\"/>\r\n     <path d=\"M 10.59375 45.40625 \r\nL 73.1875 45.40625 \r\nL 73.1875 37.203125 \r\nL 10.59375 37.203125 \r\nz\r\nM 10.59375 25.484375 \r\nL 73.1875 25.484375 \r\nL 73.1875 17.1875 \r\nL 10.59375 17.1875 \r\nz\r\n\" id=\"DejaVuSans-61\"/>\r\n     <path d=\"M 31.78125 66.40625 \r\nQ 24.171875 66.40625 20.328125 58.90625 \r\nQ 16.5 51.421875 16.5 36.375 \r\nQ 16.5 21.390625 20.328125 13.890625 \r\nQ 24.171875 6.390625 31.78125 6.390625 \r\nQ 39.453125 6.390625 43.28125 13.890625 \r\nQ 47.125 21.390625 47.125 36.375 \r\nQ 47.125 51.421875 43.28125 58.90625 \r\nQ 39.453125 66.40625 31.78125 66.40625 \r\nz\r\nM 31.78125 74.21875 \r\nQ 44.046875 74.21875 50.515625 64.515625 \r\nQ 56.984375 54.828125 56.984375 36.375 \r\nQ 56.984375 17.96875 50.515625 8.265625 \r\nQ 44.046875 -1.421875 31.78125 -1.421875 \r\nQ 19.53125 -1.421875 13.0625 8.265625 \r\nQ 6.59375 17.96875 6.59375 36.375 \r\nQ 6.59375 54.828125 13.0625 64.515625 \r\nQ 19.53125 74.21875 31.78125 74.21875 \r\nz\r\n\" id=\"DejaVuSans-48\"/>\r\n     <path d=\"M 10.6875 12.40625 \r\nL 21 12.40625 \r\nL 21 0 \r\nL 10.6875 0 \r\nz\r\n\" id=\"DejaVuSans-46\"/>\r\n    </defs>\r\n    <g transform=\"translate(237.660285 212.924156)scale(0.01 -0.01)\">\r\n     <use xlink:href=\"#DejaVuSans-103\"/>\r\n     <use x=\"63.476562\" xlink:href=\"#DejaVuSans-105\"/>\r\n     <use x=\"91.259766\" xlink:href=\"#DejaVuSans-110\"/>\r\n     <use x=\"154.638672\" xlink:href=\"#DejaVuSans-105\"/>\r\n     <use x=\"182.421875\" xlink:href=\"#DejaVuSans-32\"/>\r\n     <use x=\"214.208984\" xlink:href=\"#DejaVuSans-61\"/>\r\n     <use x=\"297.998047\" xlink:href=\"#DejaVuSans-32\"/>\r\n     <use x=\"329.785156\" xlink:href=\"#DejaVuSans-48\"/>\r\n     <use x=\"393.408203\" xlink:href=\"#DejaVuSans-46\"/>\r\n     <use x=\"425.195312\" xlink:href=\"#DejaVuSans-48\"/>\r\n    </g>\r\n    <!-- samples = 1 -->\r\n    <defs>\r\n     <path d=\"M 44.28125 53.078125 \r\nL 44.28125 44.578125 \r\nQ 40.484375 46.53125 36.375 47.5 \r\nQ 32.28125 48.484375 27.875 48.484375 \r\nQ 21.1875 48.484375 17.84375 46.4375 \r\nQ 14.5 44.390625 14.5 40.28125 \r\nQ 14.5 37.15625 16.890625 35.375 \r\nQ 19.28125 33.59375 26.515625 31.984375 \r\nL 29.59375 31.296875 \r\nQ 39.15625 29.25 43.1875 25.515625 \r\nQ 47.21875 21.78125 47.21875 15.09375 \r\nQ 47.21875 7.46875 41.1875 3.015625 \r\nQ 35.15625 -1.421875 24.609375 -1.421875 \r\nQ 20.21875 -1.421875 15.453125 -0.5625 \r\nQ 10.6875 0.296875 5.421875 2 \r\nL 5.421875 11.28125 \r\nQ 10.40625 8.6875 15.234375 7.390625 \r\nQ 20.0625 6.109375 24.8125 6.109375 \r\nQ 31.15625 6.109375 34.5625 8.28125 \r\nQ 37.984375 10.453125 37.984375 14.40625 \r\nQ 37.984375 18.0625 35.515625 20.015625 \r\nQ 33.0625 21.96875 24.703125 23.78125 \r\nL 21.578125 24.515625 \r\nQ 13.234375 26.265625 9.515625 29.90625 \r\nQ 5.8125 33.546875 5.8125 39.890625 \r\nQ 5.8125 47.609375 11.28125 51.796875 \r\nQ 16.75 56 26.8125 56 \r\nQ 31.78125 56 36.171875 55.265625 \r\nQ 40.578125 54.546875 44.28125 53.078125 \r\nz\r\n\" id=\"DejaVuSans-115\"/>\r\n     <path d=\"M 34.28125 27.484375 \r\nQ 23.390625 27.484375 19.1875 25 \r\nQ 14.984375 22.515625 14.984375 16.5 \r\nQ 14.984375 11.71875 18.140625 8.90625 \r\nQ 21.296875 6.109375 26.703125 6.109375 \r\nQ 34.1875 6.109375 38.703125 11.40625 \r\nQ 43.21875 16.703125 43.21875 25.484375 \r\nL 43.21875 27.484375 \r\nz\r\nM 52.203125 31.203125 \r\nL 52.203125 0 \r\nL 43.21875 0 \r\nL 43.21875 8.296875 \r\nQ 40.140625 3.328125 35.546875 0.953125 \r\nQ 30.953125 -1.421875 24.3125 -1.421875 \r\nQ 15.921875 -1.421875 10.953125 3.296875 \r\nQ 6 8.015625 6 15.921875 \r\nQ 6 25.140625 12.171875 29.828125 \r\nQ 18.359375 34.515625 30.609375 34.515625 \r\nL 43.21875 34.515625 \r\nL 43.21875 35.40625 \r\nQ 43.21875 41.609375 39.140625 45 \r\nQ 35.0625 48.390625 27.6875 48.390625 \r\nQ 23 48.390625 18.546875 47.265625 \r\nQ 14.109375 46.140625 10.015625 43.890625 \r\nL 10.015625 52.203125 \r\nQ 14.9375 54.109375 19.578125 55.046875 \r\nQ 24.21875 56 28.609375 56 \r\nQ 40.484375 56 46.34375 49.84375 \r\nQ 52.203125 43.703125 52.203125 31.203125 \r\nz\r\n\" id=\"DejaVuSans-97\"/>\r\n     <path d=\"M 52 44.1875 \r\nQ 55.375 50.25 60.0625 53.125 \r\nQ 64.75 56 71.09375 56 \r\nQ 79.640625 56 84.28125 50.015625 \r\nQ 88.921875 44.046875 88.921875 33.015625 \r\nL 88.921875 0 \r\nL 79.890625 0 \r\nL 79.890625 32.71875 \r\nQ 79.890625 40.578125 77.09375 44.375 \r\nQ 74.3125 48.1875 68.609375 48.1875 \r\nQ 61.625 48.1875 57.5625 43.546875 \r\nQ 53.515625 38.921875 53.515625 30.90625 \r\nL 53.515625 0 \r\nL 44.484375 0 \r\nL 44.484375 32.71875 \r\nQ 44.484375 40.625 41.703125 44.40625 \r\nQ 38.921875 48.1875 33.109375 48.1875 \r\nQ 26.21875 48.1875 22.15625 43.53125 \r\nQ 18.109375 38.875 18.109375 30.90625 \r\nL 18.109375 0 \r\nL 9.078125 0 \r\nL 9.078125 54.6875 \r\nL 18.109375 54.6875 \r\nL 18.109375 46.1875 \r\nQ 21.1875 51.21875 25.484375 53.609375 \r\nQ 29.78125 56 35.6875 56 \r\nQ 41.65625 56 45.828125 52.96875 \r\nQ 50 49.953125 52 44.1875 \r\nz\r\n\" id=\"DejaVuSans-109\"/>\r\n     <path d=\"M 18.109375 8.203125 \r\nL 18.109375 -20.796875 \r\nL 9.078125 -20.796875 \r\nL 9.078125 54.6875 \r\nL 18.109375 54.6875 \r\nL 18.109375 46.390625 \r\nQ 20.953125 51.265625 25.265625 53.625 \r\nQ 29.59375 56 35.59375 56 \r\nQ 45.5625 56 51.78125 48.09375 \r\nQ 58.015625 40.1875 58.015625 27.296875 \r\nQ 58.015625 14.40625 51.78125 6.484375 \r\nQ 45.5625 -1.421875 35.59375 -1.421875 \r\nQ 29.59375 -1.421875 25.265625 0.953125 \r\nQ 20.953125 3.328125 18.109375 8.203125 \r\nz\r\nM 48.6875 27.296875 \r\nQ 48.6875 37.203125 44.609375 42.84375 \r\nQ 40.53125 48.484375 33.40625 48.484375 \r\nQ 26.265625 48.484375 22.1875 42.84375 \r\nQ 18.109375 37.203125 18.109375 27.296875 \r\nQ 18.109375 17.390625 22.1875 11.75 \r\nQ 26.265625 6.109375 33.40625 6.109375 \r\nQ 40.53125 6.109375 44.609375 11.75 \r\nQ 48.6875 17.390625 48.6875 27.296875 \r\nz\r\n\" id=\"DejaVuSans-112\"/>\r\n     <path d=\"M 9.421875 75.984375 \r\nL 18.40625 75.984375 \r\nL 18.40625 0 \r\nL 9.421875 0 \r\nz\r\n\" id=\"DejaVuSans-108\"/>\r\n     <path d=\"M 56.203125 29.59375 \r\nL 56.203125 25.203125 \r\nL 14.890625 25.203125 \r\nQ 15.484375 15.921875 20.484375 11.0625 \r\nQ 25.484375 6.203125 34.421875 6.203125 \r\nQ 39.59375 6.203125 44.453125 7.46875 \r\nQ 49.3125 8.734375 54.109375 11.28125 \r\nL 54.109375 2.78125 \r\nQ 49.265625 0.734375 44.1875 -0.34375 \r\nQ 39.109375 -1.421875 33.890625 -1.421875 \r\nQ 20.796875 -1.421875 13.15625 6.1875 \r\nQ 5.515625 13.8125 5.515625 26.8125 \r\nQ 5.515625 40.234375 12.765625 48.109375 \r\nQ 20.015625 56 32.328125 56 \r\nQ 43.359375 56 49.78125 48.890625 \r\nQ 56.203125 41.796875 56.203125 29.59375 \r\nz\r\nM 47.21875 32.234375 \r\nQ 47.125 39.59375 43.09375 43.984375 \r\nQ 39.0625 48.390625 32.421875 48.390625 \r\nQ 24.90625 48.390625 20.390625 44.140625 \r\nQ 15.875 39.890625 15.1875 32.171875 \r\nz\r\n\" id=\"DejaVuSans-101\"/>\r\n     <path d=\"M 12.40625 8.296875 \r\nL 28.515625 8.296875 \r\nL 28.515625 63.921875 \r\nL 10.984375 60.40625 \r\nL 10.984375 69.390625 \r\nL 28.421875 72.90625 \r\nL 38.28125 72.90625 \r\nL 38.28125 8.296875 \r\nL 54.390625 8.296875 \r\nL 54.390625 0 \r\nL 12.40625 0 \r\nz\r\n\" id=\"DejaVuSans-49\"/>\r\n    </defs>\r\n    <g transform=\"translate(236.971067 214.043937)scale(0.01 -0.01)\">\r\n     <use xlink:href=\"#DejaVuSans-115\"/>\r\n     <use x=\"52.099609\" xlink:href=\"#DejaVuSans-97\"/>\r\n     <use x=\"113.378906\" xlink:href=\"#DejaVuSans-109\"/>\r\n     <use x=\"210.791016\" xlink:href=\"#DejaVuSans-112\"/>\r\n     <use x=\"274.267578\" xlink:href=\"#DejaVuSans-108\"/>\r\n     <use x=\"302.050781\" xlink:href=\"#DejaVuSans-101\"/>\r\n     <use x=\"363.574219\" xlink:href=\"#DejaVuSans-115\"/>\r\n     <use x=\"415.673828\" xlink:href=\"#DejaVuSans-32\"/>\r\n     <use x=\"447.460938\" xlink:href=\"#DejaVuSans-61\"/>\r\n     <use x=\"531.25\" xlink:href=\"#DejaVuSans-32\"/>\r\n     <use x=\"563.037109\" xlink:href=\"#DejaVuSans-49\"/>\r\n    </g>\r\n    <!-- value = [1, 0] -->\r\n    <defs>\r\n     <path d=\"M 2.984375 54.6875 \r\nL 12.5 54.6875 \r\nL 29.59375 8.796875 \r\nL 46.6875 54.6875 \r\nL 56.203125 54.6875 \r\nL 35.6875 0 \r\nL 23.484375 0 \r\nz\r\n\" id=\"DejaVuSans-118\"/>\r\n     <path d=\"M 8.5 21.578125 \r\nL 8.5 54.6875 \r\nL 17.484375 54.6875 \r\nL 17.484375 21.921875 \r\nQ 17.484375 14.15625 20.5 10.265625 \r\nQ 23.53125 6.390625 29.59375 6.390625 \r\nQ 36.859375 6.390625 41.078125 11.03125 \r\nQ 45.3125 15.671875 45.3125 23.6875 \r\nL 45.3125 54.6875 \r\nL 54.296875 54.6875 \r\nL 54.296875 0 \r\nL 45.3125 0 \r\nL 45.3125 8.40625 \r\nQ 42.046875 3.421875 37.71875 1 \r\nQ 33.40625 -1.421875 27.6875 -1.421875 \r\nQ 18.265625 -1.421875 13.375 4.4375 \r\nQ 8.5 10.296875 8.5 21.578125 \r\nz\r\nM 31.109375 56 \r\nz\r\n\" id=\"DejaVuSans-117\"/>\r\n     <path d=\"M 8.59375 75.984375 \r\nL 29.296875 75.984375 \r\nL 29.296875 69 \r\nL 17.578125 69 \r\nL 17.578125 -6.203125 \r\nL 29.296875 -6.203125 \r\nL 29.296875 -13.1875 \r\nL 8.59375 -13.1875 \r\nz\r\n\" id=\"DejaVuSans-91\"/>\r\n     <path d=\"M 11.71875 12.40625 \r\nL 22.015625 12.40625 \r\nL 22.015625 4 \r\nL 14.015625 -11.625 \r\nL 7.71875 -11.625 \r\nL 11.71875 4 \r\nz\r\n\" id=\"DejaVuSans-44\"/>\r\n     <path d=\"M 30.421875 75.984375 \r\nL 30.421875 -13.1875 \r\nL 9.71875 -13.1875 \r\nL 9.71875 -6.203125 \r\nL 21.390625 -6.203125 \r\nL 21.390625 69 \r\nL 9.71875 69 \r\nL 9.71875 75.984375 \r\nz\r\n\" id=\"DejaVuSans-93\"/>\r\n    </defs>\r\n    <g transform=\"translate(236.657551 215.163719)scale(0.01 -0.01)\">\r\n     <use xlink:href=\"#DejaVuSans-118\"/>\r\n     <use x=\"59.179688\" xlink:href=\"#DejaVuSans-97\"/>\r\n     <use x=\"120.458984\" xlink:href=\"#DejaVuSans-108\"/>\r\n     <use x=\"148.242188\" xlink:href=\"#DejaVuSans-117\"/>\r\n     <use x=\"211.621094\" xlink:href=\"#DejaVuSans-101\"/>\r\n     <use x=\"273.144531\" xlink:href=\"#DejaVuSans-32\"/>\r\n     <use x=\"304.931641\" xlink:href=\"#DejaVuSans-61\"/>\r\n     <use x=\"388.720703\" xlink:href=\"#DejaVuSans-32\"/>\r\n     <use x=\"420.507812\" xlink:href=\"#DejaVuSans-91\"/>\r\n     <use x=\"459.521484\" xlink:href=\"#DejaVuSans-49\"/>\r\n     <use x=\"523.144531\" xlink:href=\"#DejaVuSans-44\"/>\r\n     <use x=\"554.931641\" xlink:href=\"#DejaVuSans-32\"/>\r\n     <use x=\"586.71875\" xlink:href=\"#DejaVuSans-48\"/>\r\n     <use x=\"650.341797\" xlink:href=\"#DejaVuSans-93\"/>\r\n    </g>\r\n   </g>\r\n   <g id=\"patch_4\">\r\n    <path d=\"M 252.834504 208.311685 \r\nQ 250.602846 201.644547 248.016307 193.917191 \r\n\" style=\"fill:none;stroke:#000000;stroke-linecap:round;\"/>\r\n    <path d=\"M 252.897196 207.868887 \r\nL 252.834504 208.311685 \r\nL 252.517881 207.995854 \r\n\" style=\"fill:none;stroke:#000000;stroke-linecap:round;\"/>\r\n   </g>\r\n   <g id=\"text_2\">\r\n    <g id=\"patch_5\">\r\n     <path d=\"M 250.814073 215.771687 \r\nL 258.507666 215.771687 \r\nL 258.507666 211.764312 \r\nL 250.814073 211.764312 \r\nz\r\n\" style=\"fill:#ffffff;stroke:#000000;stroke-linejoin:miter;\"/>\r\n    </g>\r\n    <!-- gini = 0.0 -->\r\n    <g transform=\"translate(252.216807 212.924156)scale(0.01 -0.01)\">\r\n     <use xlink:href=\"#DejaVuSans-103\"/>\r\n     <use x=\"63.476562\" xlink:href=\"#DejaVuSans-105\"/>\r\n     <use x=\"91.259766\" xlink:href=\"#DejaVuSans-110\"/>\r\n     <use x=\"154.638672\" xlink:href=\"#DejaVuSans-105\"/>\r\n     <use x=\"182.421875\" xlink:href=\"#DejaVuSans-32\"/>\r\n     <use x=\"214.208984\" xlink:href=\"#DejaVuSans-61\"/>\r\n     <use x=\"297.998047\" xlink:href=\"#DejaVuSans-32\"/>\r\n     <use x=\"329.785156\" xlink:href=\"#DejaVuSans-48\"/>\r\n     <use x=\"393.408203\" xlink:href=\"#DejaVuSans-46\"/>\r\n     <use x=\"425.195312\" xlink:href=\"#DejaVuSans-48\"/>\r\n    </g>\r\n    <!-- samples = 1 -->\r\n    <g transform=\"translate(251.527588 214.043937)scale(0.01 -0.01)\">\r\n     <use xlink:href=\"#DejaVuSans-115\"/>\r\n     <use x=\"52.099609\" xlink:href=\"#DejaVuSans-97\"/>\r\n     <use x=\"113.378906\" xlink:href=\"#DejaVuSans-109\"/>\r\n     <use x=\"210.791016\" xlink:href=\"#DejaVuSans-112\"/>\r\n     <use x=\"274.267578\" xlink:href=\"#DejaVuSans-108\"/>\r\n     <use x=\"302.050781\" xlink:href=\"#DejaVuSans-101\"/>\r\n     <use x=\"363.574219\" xlink:href=\"#DejaVuSans-115\"/>\r\n     <use x=\"415.673828\" xlink:href=\"#DejaVuSans-32\"/>\r\n     <use x=\"447.460938\" xlink:href=\"#DejaVuSans-61\"/>\r\n     <use x=\"531.25\" xlink:href=\"#DejaVuSans-32\"/>\r\n     <use x=\"563.037109\" xlink:href=\"#DejaVuSans-49\"/>\r\n    </g>\r\n    <!-- value = [0, 1] -->\r\n    <g transform=\"translate(251.214073 215.163719)scale(0.01 -0.01)\">\r\n     <use xlink:href=\"#DejaVuSans-118\"/>\r\n     <use x=\"59.179688\" xlink:href=\"#DejaVuSans-97\"/>\r\n     <use x=\"120.458984\" xlink:href=\"#DejaVuSans-108\"/>\r\n     <use x=\"148.242188\" xlink:href=\"#DejaVuSans-117\"/>\r\n     <use x=\"211.621094\" xlink:href=\"#DejaVuSans-101\"/>\r\n     <use x=\"273.144531\" xlink:href=\"#DejaVuSans-32\"/>\r\n     <use x=\"304.931641\" xlink:href=\"#DejaVuSans-61\"/>\r\n     <use x=\"388.720703\" xlink:href=\"#DejaVuSans-32\"/>\r\n     <use x=\"420.507812\" xlink:href=\"#DejaVuSans-91\"/>\r\n     <use x=\"459.521484\" xlink:href=\"#DejaVuSans-48\"/>\r\n     <use x=\"523.144531\" xlink:href=\"#DejaVuSans-44\"/>\r\n     <use x=\"554.931641\" xlink:href=\"#DejaVuSans-32\"/>\r\n     <use x=\"586.71875\" xlink:href=\"#DejaVuSans-49\"/>\r\n     <use x=\"650.341797\" xlink:href=\"#DejaVuSans-93\"/>\r\n    </g>\r\n   </g>\r\n   <g id=\"patch_6\">\r\n    <path d=\"M 118.200278 186.567685 \r\nQ 120.431936 179.900547 123.018475 172.173191 \r\n\" style=\"fill:none;stroke:#000000;stroke-linecap:round;\"/>\r\n    <path d=\"M 118.516902 186.251854 \r\nL 118.200278 186.567685 \r\nL 118.137587 186.124887 \r\n\" style=\"fill:none;stroke:#000000;stroke-linecap:round;\"/>\r\n   </g>\r\n   <g id=\"text_3\">\r\n    <g id=\"patch_7\">\r\n     <path d=\"M 112.527116 194.027687 \r\nL 120.22071 194.027687 \r\nL 120.22071 190.020312 \r\nL 112.527116 190.020312 \r\nz\r\n\" style=\"fill:#ffffff;stroke:#000000;stroke-linejoin:miter;\"/>\r\n    </g>\r\n    <!-- gini = 0.0 -->\r\n    <g transform=\"translate(113.929851 191.180156)scale(0.01 -0.01)\">\r\n     <use xlink:href=\"#DejaVuSans-103\"/>\r\n     <use x=\"63.476562\" xlink:href=\"#DejaVuSans-105\"/>\r\n     <use x=\"91.259766\" xlink:href=\"#DejaVuSans-110\"/>\r\n     <use x=\"154.638672\" xlink:href=\"#DejaVuSans-105\"/>\r\n     <use x=\"182.421875\" xlink:href=\"#DejaVuSans-32\"/>\r\n     <use x=\"214.208984\" xlink:href=\"#DejaVuSans-61\"/>\r\n     <use x=\"297.998047\" xlink:href=\"#DejaVuSans-32\"/>\r\n     <use x=\"329.785156\" xlink:href=\"#DejaVuSans-48\"/>\r\n     <use x=\"393.408203\" xlink:href=\"#DejaVuSans-46\"/>\r\n     <use x=\"425.195312\" xlink:href=\"#DejaVuSans-48\"/>\r\n    </g>\r\n    <!-- samples = 1 -->\r\n    <g transform=\"translate(113.240632 192.299937)scale(0.01 -0.01)\">\r\n     <use xlink:href=\"#DejaVuSans-115\"/>\r\n     <use x=\"52.099609\" xlink:href=\"#DejaVuSans-97\"/>\r\n     <use x=\"113.378906\" xlink:href=\"#DejaVuSans-109\"/>\r\n     <use x=\"210.791016\" xlink:href=\"#DejaVuSans-112\"/>\r\n     <use x=\"274.267578\" xlink:href=\"#DejaVuSans-108\"/>\r\n     <use x=\"302.050781\" xlink:href=\"#DejaVuSans-101\"/>\r\n     <use x=\"363.574219\" xlink:href=\"#DejaVuSans-115\"/>\r\n     <use x=\"415.673828\" xlink:href=\"#DejaVuSans-32\"/>\r\n     <use x=\"447.460938\" xlink:href=\"#DejaVuSans-61\"/>\r\n     <use x=\"531.25\" xlink:href=\"#DejaVuSans-32\"/>\r\n     <use x=\"563.037109\" xlink:href=\"#DejaVuSans-49\"/>\r\n    </g>\r\n    <!-- value = [1, 0] -->\r\n    <g transform=\"translate(112.927116 193.419719)scale(0.01 -0.01)\">\r\n     <use xlink:href=\"#DejaVuSans-118\"/>\r\n     <use x=\"59.179688\" xlink:href=\"#DejaVuSans-97\"/>\r\n     <use x=\"120.458984\" xlink:href=\"#DejaVuSans-108\"/>\r\n     <use x=\"148.242188\" xlink:href=\"#DejaVuSans-117\"/>\r\n     <use x=\"211.621094\" xlink:href=\"#DejaVuSans-101\"/>\r\n     <use x=\"273.144531\" xlink:href=\"#DejaVuSans-32\"/>\r\n     <use x=\"304.931641\" xlink:href=\"#DejaVuSans-61\"/>\r\n     <use x=\"388.720703\" xlink:href=\"#DejaVuSans-32\"/>\r\n     <use x=\"420.507812\" xlink:href=\"#DejaVuSans-91\"/>\r\n     <use x=\"459.521484\" xlink:href=\"#DejaVuSans-49\"/>\r\n     <use x=\"523.144531\" xlink:href=\"#DejaVuSans-44\"/>\r\n     <use x=\"554.931641\" xlink:href=\"#DejaVuSans-32\"/>\r\n     <use x=\"586.71875\" xlink:href=\"#DejaVuSans-48\"/>\r\n     <use x=\"650.341797\" xlink:href=\"#DejaVuSans-93\"/>\r\n    </g>\r\n   </g>\r\n   <g id=\"patch_8\">\r\n    <path d=\"M 129.10407 186.567685 \r\nQ 126.872412 179.900547 124.285872 172.173191 \r\n\" style=\"fill:none;stroke:#000000;stroke-linecap:round;\"/>\r\n    <path d=\"M 129.166761 186.124887 \r\nL 129.10407 186.567685 \r\nL 128.787446 186.251854 \r\n\" style=\"fill:none;stroke:#000000;stroke-linecap:round;\"/>\r\n   </g>\r\n   <g id=\"text_4\">\r\n    <g id=\"patch_9\">\r\n     <path d=\"M 127.083638 194.027687 \r\nL 134.777232 194.027687 \r\nL 134.777232 190.020312 \r\nL 127.083638 190.020312 \r\nz\r\n\" style=\"fill:#ffffff;stroke:#000000;stroke-linejoin:miter;\"/>\r\n    </g>\r\n    <!-- gini = 0.0 -->\r\n    <g transform=\"translate(128.486372 191.180156)scale(0.01 -0.01)\">\r\n     <use xlink:href=\"#DejaVuSans-103\"/>\r\n     <use x=\"63.476562\" xlink:href=\"#DejaVuSans-105\"/>\r\n     <use x=\"91.259766\" xlink:href=\"#DejaVuSans-110\"/>\r\n     <use x=\"154.638672\" xlink:href=\"#DejaVuSans-105\"/>\r\n     <use x=\"182.421875\" xlink:href=\"#DejaVuSans-32\"/>\r\n     <use x=\"214.208984\" xlink:href=\"#DejaVuSans-61\"/>\r\n     <use x=\"297.998047\" xlink:href=\"#DejaVuSans-32\"/>\r\n     <use x=\"329.785156\" xlink:href=\"#DejaVuSans-48\"/>\r\n     <use x=\"393.408203\" xlink:href=\"#DejaVuSans-46\"/>\r\n     <use x=\"425.195312\" xlink:href=\"#DejaVuSans-48\"/>\r\n    </g>\r\n    <!-- samples = 2 -->\r\n    <defs>\r\n     <path d=\"M 19.1875 8.296875 \r\nL 53.609375 8.296875 \r\nL 53.609375 0 \r\nL 7.328125 0 \r\nL 7.328125 8.296875 \r\nQ 12.9375 14.109375 22.625 23.890625 \r\nQ 32.328125 33.6875 34.8125 36.53125 \r\nQ 39.546875 41.84375 41.421875 45.53125 \r\nQ 43.3125 49.21875 43.3125 52.78125 \r\nQ 43.3125 58.59375 39.234375 62.25 \r\nQ 35.15625 65.921875 28.609375 65.921875 \r\nQ 23.96875 65.921875 18.8125 64.3125 \r\nQ 13.671875 62.703125 7.8125 59.421875 \r\nL 7.8125 69.390625 \r\nQ 13.765625 71.78125 18.9375 73 \r\nQ 24.125 74.21875 28.421875 74.21875 \r\nQ 39.75 74.21875 46.484375 68.546875 \r\nQ 53.21875 62.890625 53.21875 53.421875 \r\nQ 53.21875 48.921875 51.53125 44.890625 \r\nQ 49.859375 40.875 45.40625 35.40625 \r\nQ 44.1875 33.984375 37.640625 27.21875 \r\nQ 31.109375 20.453125 19.1875 8.296875 \r\nz\r\n\" id=\"DejaVuSans-50\"/>\r\n    </defs>\r\n    <g transform=\"translate(127.797154 192.299937)scale(0.01 -0.01)\">\r\n     <use xlink:href=\"#DejaVuSans-115\"/>\r\n     <use x=\"52.099609\" xlink:href=\"#DejaVuSans-97\"/>\r\n     <use x=\"113.378906\" xlink:href=\"#DejaVuSans-109\"/>\r\n     <use x=\"210.791016\" xlink:href=\"#DejaVuSans-112\"/>\r\n     <use x=\"274.267578\" xlink:href=\"#DejaVuSans-108\"/>\r\n     <use x=\"302.050781\" xlink:href=\"#DejaVuSans-101\"/>\r\n     <use x=\"363.574219\" xlink:href=\"#DejaVuSans-115\"/>\r\n     <use x=\"415.673828\" xlink:href=\"#DejaVuSans-32\"/>\r\n     <use x=\"447.460938\" xlink:href=\"#DejaVuSans-61\"/>\r\n     <use x=\"531.25\" xlink:href=\"#DejaVuSans-32\"/>\r\n     <use x=\"563.037109\" xlink:href=\"#DejaVuSans-50\"/>\r\n    </g>\r\n    <!-- value = [0, 2] -->\r\n    <g transform=\"translate(127.483638 193.419719)scale(0.01 -0.01)\">\r\n     <use xlink:href=\"#DejaVuSans-118\"/>\r\n     <use x=\"59.179688\" xlink:href=\"#DejaVuSans-97\"/>\r\n     <use x=\"120.458984\" xlink:href=\"#DejaVuSans-108\"/>\r\n     <use x=\"148.242188\" xlink:href=\"#DejaVuSans-117\"/>\r\n     <use x=\"211.621094\" xlink:href=\"#DejaVuSans-101\"/>\r\n     <use x=\"273.144531\" xlink:href=\"#DejaVuSans-32\"/>\r\n     <use x=\"304.931641\" xlink:href=\"#DejaVuSans-61\"/>\r\n     <use x=\"388.720703\" xlink:href=\"#DejaVuSans-32\"/>\r\n     <use x=\"420.507812\" xlink:href=\"#DejaVuSans-91\"/>\r\n     <use x=\"459.521484\" xlink:href=\"#DejaVuSans-48\"/>\r\n     <use x=\"523.144531\" xlink:href=\"#DejaVuSans-44\"/>\r\n     <use x=\"554.931641\" xlink:href=\"#DejaVuSans-32\"/>\r\n     <use x=\"586.71875\" xlink:href=\"#DejaVuSans-50\"/>\r\n     <use x=\"650.341797\" xlink:href=\"#DejaVuSans-93\"/>\r\n    </g>\r\n   </g>\r\n   <g id=\"patch_10\">\r\n    <path d=\"M 147.313322 186.567685 \r\nQ 149.54498 179.900547 152.131519 172.173191 \r\n\" style=\"fill:none;stroke:#000000;stroke-linecap:round;\"/>\r\n    <path d=\"M 147.629945 186.251854 \r\nL 147.313322 186.567685 \r\nL 147.25063 186.124887 \r\n\" style=\"fill:none;stroke:#000000;stroke-linecap:round;\"/>\r\n   </g>\r\n   <g id=\"text_5\">\r\n    <g id=\"patch_11\">\r\n     <path d=\"M 141.64016 194.027687 \r\nL 149.333753 194.027687 \r\nL 149.333753 190.020312 \r\nL 141.64016 190.020312 \r\nz\r\n\" style=\"fill:#ffffff;stroke:#000000;stroke-linejoin:miter;\"/>\r\n    </g>\r\n    <!-- gini = 0.0 -->\r\n    <g transform=\"translate(143.042894 191.180156)scale(0.01 -0.01)\">\r\n     <use xlink:href=\"#DejaVuSans-103\"/>\r\n     <use x=\"63.476562\" xlink:href=\"#DejaVuSans-105\"/>\r\n     <use x=\"91.259766\" xlink:href=\"#DejaVuSans-110\"/>\r\n     <use x=\"154.638672\" xlink:href=\"#DejaVuSans-105\"/>\r\n     <use x=\"182.421875\" xlink:href=\"#DejaVuSans-32\"/>\r\n     <use x=\"214.208984\" xlink:href=\"#DejaVuSans-61\"/>\r\n     <use x=\"297.998047\" xlink:href=\"#DejaVuSans-32\"/>\r\n     <use x=\"329.785156\" xlink:href=\"#DejaVuSans-48\"/>\r\n     <use x=\"393.408203\" xlink:href=\"#DejaVuSans-46\"/>\r\n     <use x=\"425.195312\" xlink:href=\"#DejaVuSans-48\"/>\r\n    </g>\r\n    <!-- samples = 1 -->\r\n    <g transform=\"translate(142.353675 192.299937)scale(0.01 -0.01)\">\r\n     <use xlink:href=\"#DejaVuSans-115\"/>\r\n     <use x=\"52.099609\" xlink:href=\"#DejaVuSans-97\"/>\r\n     <use x=\"113.378906\" xlink:href=\"#DejaVuSans-109\"/>\r\n     <use x=\"210.791016\" xlink:href=\"#DejaVuSans-112\"/>\r\n     <use x=\"274.267578\" xlink:href=\"#DejaVuSans-108\"/>\r\n     <use x=\"302.050781\" xlink:href=\"#DejaVuSans-101\"/>\r\n     <use x=\"363.574219\" xlink:href=\"#DejaVuSans-115\"/>\r\n     <use x=\"415.673828\" xlink:href=\"#DejaVuSans-32\"/>\r\n     <use x=\"447.460938\" xlink:href=\"#DejaVuSans-61\"/>\r\n     <use x=\"531.25\" xlink:href=\"#DejaVuSans-32\"/>\r\n     <use x=\"563.037109\" xlink:href=\"#DejaVuSans-49\"/>\r\n    </g>\r\n    <!-- value = [1, 0] -->\r\n    <g transform=\"translate(142.04016 193.419719)scale(0.01 -0.01)\">\r\n     <use xlink:href=\"#DejaVuSans-118\"/>\r\n     <use x=\"59.179688\" xlink:href=\"#DejaVuSans-97\"/>\r\n     <use x=\"120.458984\" xlink:href=\"#DejaVuSans-108\"/>\r\n     <use x=\"148.242188\" xlink:href=\"#DejaVuSans-117\"/>\r\n     <use x=\"211.621094\" xlink:href=\"#DejaVuSans-101\"/>\r\n     <use x=\"273.144531\" xlink:href=\"#DejaVuSans-32\"/>\r\n     <use x=\"304.931641\" xlink:href=\"#DejaVuSans-61\"/>\r\n     <use x=\"388.720703\" xlink:href=\"#DejaVuSans-32\"/>\r\n     <use x=\"420.507812\" xlink:href=\"#DejaVuSans-91\"/>\r\n     <use x=\"459.521484\" xlink:href=\"#DejaVuSans-49\"/>\r\n     <use x=\"523.144531\" xlink:href=\"#DejaVuSans-44\"/>\r\n     <use x=\"554.931641\" xlink:href=\"#DejaVuSans-32\"/>\r\n     <use x=\"586.71875\" xlink:href=\"#DejaVuSans-48\"/>\r\n     <use x=\"650.341797\" xlink:href=\"#DejaVuSans-93\"/>\r\n    </g>\r\n   </g>\r\n   <g id=\"patch_12\">\r\n    <path d=\"M 158.217113 186.567685 \r\nQ 155.985455 179.900547 153.398916 172.173191 \r\n\" style=\"fill:none;stroke:#000000;stroke-linecap:round;\"/>\r\n    <path d=\"M 158.279804 186.124887 \r\nL 158.217113 186.567685 \r\nL 157.90049 186.251854 \r\n\" style=\"fill:none;stroke:#000000;stroke-linecap:round;\"/>\r\n   </g>\r\n   <g id=\"text_6\">\r\n    <g id=\"patch_13\">\r\n     <path d=\"M 156.196681 194.027687 \r\nL 163.890275 194.027687 \r\nL 163.890275 190.020312 \r\nL 156.196681 190.020312 \r\nz\r\n\" style=\"fill:#ffffff;stroke:#000000;stroke-linejoin:miter;\"/>\r\n    </g>\r\n    <!-- gini = 0.0 -->\r\n    <g transform=\"translate(157.599416 191.180156)scale(0.01 -0.01)\">\r\n     <use xlink:href=\"#DejaVuSans-103\"/>\r\n     <use x=\"63.476562\" xlink:href=\"#DejaVuSans-105\"/>\r\n     <use x=\"91.259766\" xlink:href=\"#DejaVuSans-110\"/>\r\n     <use x=\"154.638672\" xlink:href=\"#DejaVuSans-105\"/>\r\n     <use x=\"182.421875\" xlink:href=\"#DejaVuSans-32\"/>\r\n     <use x=\"214.208984\" xlink:href=\"#DejaVuSans-61\"/>\r\n     <use x=\"297.998047\" xlink:href=\"#DejaVuSans-32\"/>\r\n     <use x=\"329.785156\" xlink:href=\"#DejaVuSans-48\"/>\r\n     <use x=\"393.408203\" xlink:href=\"#DejaVuSans-46\"/>\r\n     <use x=\"425.195312\" xlink:href=\"#DejaVuSans-48\"/>\r\n    </g>\r\n    <!-- samples = 2 -->\r\n    <g transform=\"translate(156.910197 192.299937)scale(0.01 -0.01)\">\r\n     <use xlink:href=\"#DejaVuSans-115\"/>\r\n     <use x=\"52.099609\" xlink:href=\"#DejaVuSans-97\"/>\r\n     <use x=\"113.378906\" xlink:href=\"#DejaVuSans-109\"/>\r\n     <use x=\"210.791016\" xlink:href=\"#DejaVuSans-112\"/>\r\n     <use x=\"274.267578\" xlink:href=\"#DejaVuSans-108\"/>\r\n     <use x=\"302.050781\" xlink:href=\"#DejaVuSans-101\"/>\r\n     <use x=\"363.574219\" xlink:href=\"#DejaVuSans-115\"/>\r\n     <use x=\"415.673828\" xlink:href=\"#DejaVuSans-32\"/>\r\n     <use x=\"447.460938\" xlink:href=\"#DejaVuSans-61\"/>\r\n     <use x=\"531.25\" xlink:href=\"#DejaVuSans-32\"/>\r\n     <use x=\"563.037109\" xlink:href=\"#DejaVuSans-50\"/>\r\n    </g>\r\n    <!-- value = [0, 2] -->\r\n    <g transform=\"translate(156.596681 193.419719)scale(0.01 -0.01)\">\r\n     <use xlink:href=\"#DejaVuSans-118\"/>\r\n     <use x=\"59.179688\" xlink:href=\"#DejaVuSans-97\"/>\r\n     <use x=\"120.458984\" xlink:href=\"#DejaVuSans-108\"/>\r\n     <use x=\"148.242188\" xlink:href=\"#DejaVuSans-117\"/>\r\n     <use x=\"211.621094\" xlink:href=\"#DejaVuSans-101\"/>\r\n     <use x=\"273.144531\" xlink:href=\"#DejaVuSans-32\"/>\r\n     <use x=\"304.931641\" xlink:href=\"#DejaVuSans-61\"/>\r\n     <use x=\"388.720703\" xlink:href=\"#DejaVuSans-32\"/>\r\n     <use x=\"420.507812\" xlink:href=\"#DejaVuSans-91\"/>\r\n     <use x=\"459.521484\" xlink:href=\"#DejaVuSans-48\"/>\r\n     <use x=\"523.144531\" xlink:href=\"#DejaVuSans-44\"/>\r\n     <use x=\"554.931641\" xlink:href=\"#DejaVuSans-32\"/>\r\n     <use x=\"586.71875\" xlink:href=\"#DejaVuSans-50\"/>\r\n     <use x=\"650.341797\" xlink:href=\"#DejaVuSans-93\"/>\r\n    </g>\r\n   </g>\r\n   <g id=\"patch_14\">\r\n    <path d=\"M 234.652452 186.567685 \r\nQ 236.88411 179.900547 239.470649 172.173191 \r\n\" style=\"fill:none;stroke:#000000;stroke-linecap:round;\"/>\r\n    <path d=\"M 234.969076 186.251854 \r\nL 234.652452 186.567685 \r\nL 234.589761 186.124887 \r\n\" style=\"fill:none;stroke:#000000;stroke-linecap:round;\"/>\r\n   </g>\r\n   <g id=\"text_7\">\r\n    <g id=\"patch_15\">\r\n     <path d=\"M 228.661165 194.027687 \r\nL 236.991009 194.027687 \r\nL 236.991009 190.020312 \r\nL 228.661165 190.020312 \r\nz\r\n\" style=\"fill:#ffffff;stroke:#000000;stroke-linejoin:miter;\"/>\r\n    </g>\r\n    <!-- gini = 0.0 -->\r\n    <g transform=\"translate(230.382024 191.180156)scale(0.01 -0.01)\">\r\n     <use xlink:href=\"#DejaVuSans-103\"/>\r\n     <use x=\"63.476562\" xlink:href=\"#DejaVuSans-105\"/>\r\n     <use x=\"91.259766\" xlink:href=\"#DejaVuSans-110\"/>\r\n     <use x=\"154.638672\" xlink:href=\"#DejaVuSans-105\"/>\r\n     <use x=\"182.421875\" xlink:href=\"#DejaVuSans-32\"/>\r\n     <use x=\"214.208984\" xlink:href=\"#DejaVuSans-61\"/>\r\n     <use x=\"297.998047\" xlink:href=\"#DejaVuSans-32\"/>\r\n     <use x=\"329.785156\" xlink:href=\"#DejaVuSans-48\"/>\r\n     <use x=\"393.408203\" xlink:href=\"#DejaVuSans-46\"/>\r\n     <use x=\"425.195312\" xlink:href=\"#DejaVuSans-48\"/>\r\n    </g>\r\n    <!-- samples = 12 -->\r\n    <g transform=\"translate(229.374681 192.299937)scale(0.01 -0.01)\">\r\n     <use xlink:href=\"#DejaVuSans-115\"/>\r\n     <use x=\"52.099609\" xlink:href=\"#DejaVuSans-97\"/>\r\n     <use x=\"113.378906\" xlink:href=\"#DejaVuSans-109\"/>\r\n     <use x=\"210.791016\" xlink:href=\"#DejaVuSans-112\"/>\r\n     <use x=\"274.267578\" xlink:href=\"#DejaVuSans-108\"/>\r\n     <use x=\"302.050781\" xlink:href=\"#DejaVuSans-101\"/>\r\n     <use x=\"363.574219\" xlink:href=\"#DejaVuSans-115\"/>\r\n     <use x=\"415.673828\" xlink:href=\"#DejaVuSans-32\"/>\r\n     <use x=\"447.460938\" xlink:href=\"#DejaVuSans-61\"/>\r\n     <use x=\"531.25\" xlink:href=\"#DejaVuSans-32\"/>\r\n     <use x=\"563.037109\" xlink:href=\"#DejaVuSans-49\"/>\r\n     <use x=\"626.660156\" xlink:href=\"#DejaVuSans-50\"/>\r\n    </g>\r\n    <!-- value = [12, 0] -->\r\n    <g transform=\"translate(229.061165 193.419719)scale(0.01 -0.01)\">\r\n     <use xlink:href=\"#DejaVuSans-118\"/>\r\n     <use x=\"59.179688\" xlink:href=\"#DejaVuSans-97\"/>\r\n     <use x=\"120.458984\" xlink:href=\"#DejaVuSans-108\"/>\r\n     <use x=\"148.242188\" xlink:href=\"#DejaVuSans-117\"/>\r\n     <use x=\"211.621094\" xlink:href=\"#DejaVuSans-101\"/>\r\n     <use x=\"273.144531\" xlink:href=\"#DejaVuSans-32\"/>\r\n     <use x=\"304.931641\" xlink:href=\"#DejaVuSans-61\"/>\r\n     <use x=\"388.720703\" xlink:href=\"#DejaVuSans-32\"/>\r\n     <use x=\"420.507812\" xlink:href=\"#DejaVuSans-91\"/>\r\n     <use x=\"459.521484\" xlink:href=\"#DejaVuSans-49\"/>\r\n     <use x=\"523.144531\" xlink:href=\"#DejaVuSans-50\"/>\r\n     <use x=\"586.767578\" xlink:href=\"#DejaVuSans-44\"/>\r\n     <use x=\"618.554688\" xlink:href=\"#DejaVuSans-32\"/>\r\n     <use x=\"650.341797\" xlink:href=\"#DejaVuSans-48\"/>\r\n     <use x=\"713.964844\" xlink:href=\"#DejaVuSans-93\"/>\r\n    </g>\r\n   </g>\r\n   <g id=\"patch_16\">\r\n    <path d=\"M 245.368105 186.005617 \r\nQ 243.231224 179.621628 240.739462 172.177422 \r\n\" style=\"fill:none;stroke:#000000;stroke-linecap:round;\"/>\r\n    <path d=\"M 245.430797 185.562819 \r\nL 245.368105 186.005617 \r\nL 245.051482 185.689785 \r\n\" style=\"fill:none;stroke:#000000;stroke-linecap:round;\"/>\r\n   </g>\r\n   <g id=\"text_8\">\r\n    <g id=\"patch_17\">\r\n     <path d=\"M 241.271593 194.587578 \r\nL 253.493624 194.587578 \r\nL 253.493624 189.460422 \r\nL 241.271593 189.460422 \r\nz\r\n\" style=\"fill:#ffffff;stroke:#000000;stroke-linejoin:miter;\"/>\r\n    </g>\r\n    <!-- platelets &lt;= 308000.0 -->\r\n    <defs>\r\n     <path d=\"M 18.3125 70.21875 \r\nL 18.3125 54.6875 \r\nL 36.8125 54.6875 \r\nL 36.8125 47.703125 \r\nL 18.3125 47.703125 \r\nL 18.3125 18.015625 \r\nQ 18.3125 11.328125 20.140625 9.421875 \r\nQ 21.96875 7.515625 27.59375 7.515625 \r\nL 36.8125 7.515625 \r\nL 36.8125 0 \r\nL 27.59375 0 \r\nQ 17.1875 0 13.234375 3.875 \r\nQ 9.28125 7.765625 9.28125 18.015625 \r\nL 9.28125 47.703125 \r\nL 2.6875 47.703125 \r\nL 2.6875 54.6875 \r\nL 9.28125 54.6875 \r\nL 9.28125 70.21875 \r\nz\r\n\" id=\"DejaVuSans-116\"/>\r\n     <path d=\"M 73.1875 49.21875 \r\nL 22.796875 31.296875 \r\nL 73.1875 13.484375 \r\nL 73.1875 4.59375 \r\nL 10.59375 27.296875 \r\nL 10.59375 35.40625 \r\nL 73.1875 58.109375 \r\nz\r\n\" id=\"DejaVuSans-60\"/>\r\n     <path d=\"M 40.578125 39.3125 \r\nQ 47.65625 37.796875 51.625 33 \r\nQ 55.609375 28.21875 55.609375 21.1875 \r\nQ 55.609375 10.40625 48.1875 4.484375 \r\nQ 40.765625 -1.421875 27.09375 -1.421875 \r\nQ 22.515625 -1.421875 17.65625 -0.515625 \r\nQ 12.796875 0.390625 7.625 2.203125 \r\nL 7.625 11.71875 \r\nQ 11.71875 9.328125 16.59375 8.109375 \r\nQ 21.484375 6.890625 26.8125 6.890625 \r\nQ 36.078125 6.890625 40.9375 10.546875 \r\nQ 45.796875 14.203125 45.796875 21.1875 \r\nQ 45.796875 27.640625 41.28125 31.265625 \r\nQ 36.765625 34.90625 28.71875 34.90625 \r\nL 20.21875 34.90625 \r\nL 20.21875 43.015625 \r\nL 29.109375 43.015625 \r\nQ 36.375 43.015625 40.234375 45.921875 \r\nQ 44.09375 48.828125 44.09375 54.296875 \r\nQ 44.09375 59.90625 40.109375 62.90625 \r\nQ 36.140625 65.921875 28.71875 65.921875 \r\nQ 24.65625 65.921875 20.015625 65.03125 \r\nQ 15.375 64.15625 9.8125 62.3125 \r\nL 9.8125 71.09375 \r\nQ 15.4375 72.65625 20.34375 73.4375 \r\nQ 25.25 74.21875 29.59375 74.21875 \r\nQ 40.828125 74.21875 47.359375 69.109375 \r\nQ 53.90625 64.015625 53.90625 55.328125 \r\nQ 53.90625 49.265625 50.4375 45.09375 \r\nQ 46.96875 40.921875 40.578125 39.3125 \r\nz\r\n\" id=\"DejaVuSans-51\"/>\r\n     <path d=\"M 31.78125 34.625 \r\nQ 24.75 34.625 20.71875 30.859375 \r\nQ 16.703125 27.09375 16.703125 20.515625 \r\nQ 16.703125 13.921875 20.71875 10.15625 \r\nQ 24.75 6.390625 31.78125 6.390625 \r\nQ 38.8125 6.390625 42.859375 10.171875 \r\nQ 46.921875 13.96875 46.921875 20.515625 \r\nQ 46.921875 27.09375 42.890625 30.859375 \r\nQ 38.875 34.625 31.78125 34.625 \r\nz\r\nM 21.921875 38.8125 \r\nQ 15.578125 40.375 12.03125 44.71875 \r\nQ 8.5 49.078125 8.5 55.328125 \r\nQ 8.5 64.0625 14.71875 69.140625 \r\nQ 20.953125 74.21875 31.78125 74.21875 \r\nQ 42.671875 74.21875 48.875 69.140625 \r\nQ 55.078125 64.0625 55.078125 55.328125 \r\nQ 55.078125 49.078125 51.53125 44.71875 \r\nQ 48 40.375 41.703125 38.8125 \r\nQ 48.828125 37.15625 52.796875 32.3125 \r\nQ 56.78125 27.484375 56.78125 20.515625 \r\nQ 56.78125 9.90625 50.3125 4.234375 \r\nQ 43.84375 -1.421875 31.78125 -1.421875 \r\nQ 19.734375 -1.421875 13.25 4.234375 \r\nQ 6.78125 9.90625 6.78125 20.515625 \r\nQ 6.78125 27.484375 10.78125 32.3125 \r\nQ 14.796875 37.15625 21.921875 38.8125 \r\nz\r\nM 18.3125 54.390625 \r\nQ 18.3125 48.734375 21.84375 45.5625 \r\nQ 25.390625 42.390625 31.78125 42.390625 \r\nQ 38.140625 42.390625 41.71875 45.5625 \r\nQ 45.3125 48.734375 45.3125 54.390625 \r\nQ 45.3125 60.0625 41.71875 63.234375 \r\nQ 38.140625 66.40625 31.78125 66.40625 \r\nQ 25.390625 66.40625 21.84375 63.234375 \r\nQ 18.3125 60.0625 18.3125 54.390625 \r\nz\r\n\" id=\"DejaVuSans-56\"/>\r\n    </defs>\r\n    <g transform=\"translate(241.671593 190.620266)scale(0.01 -0.01)\">\r\n     <use xlink:href=\"#DejaVuSans-112\"/>\r\n     <use x=\"63.476562\" xlink:href=\"#DejaVuSans-108\"/>\r\n     <use x=\"91.259766\" xlink:href=\"#DejaVuSans-97\"/>\r\n     <use x=\"152.539062\" xlink:href=\"#DejaVuSans-116\"/>\r\n     <use x=\"191.748047\" xlink:href=\"#DejaVuSans-101\"/>\r\n     <use x=\"253.271484\" xlink:href=\"#DejaVuSans-108\"/>\r\n     <use x=\"281.054688\" xlink:href=\"#DejaVuSans-101\"/>\r\n     <use x=\"342.578125\" xlink:href=\"#DejaVuSans-116\"/>\r\n     <use x=\"381.787109\" xlink:href=\"#DejaVuSans-115\"/>\r\n     <use x=\"433.886719\" xlink:href=\"#DejaVuSans-32\"/>\r\n     <use x=\"465.673828\" xlink:href=\"#DejaVuSans-60\"/>\r\n     <use x=\"549.462891\" xlink:href=\"#DejaVuSans-61\"/>\r\n     <use x=\"633.251953\" xlink:href=\"#DejaVuSans-32\"/>\r\n     <use x=\"665.039062\" xlink:href=\"#DejaVuSans-51\"/>\r\n     <use x=\"728.662109\" xlink:href=\"#DejaVuSans-48\"/>\r\n     <use x=\"792.285156\" xlink:href=\"#DejaVuSans-56\"/>\r\n     <use x=\"855.908203\" xlink:href=\"#DejaVuSans-48\"/>\r\n     <use x=\"919.53125\" xlink:href=\"#DejaVuSans-48\"/>\r\n     <use x=\"983.154297\" xlink:href=\"#DejaVuSans-48\"/>\r\n     <use x=\"1046.777344\" xlink:href=\"#DejaVuSans-46\"/>\r\n     <use x=\"1078.564453\" xlink:href=\"#DejaVuSans-48\"/>\r\n    </g>\r\n    <!-- gini = 0.5 -->\r\n    <defs>\r\n     <path d=\"M 10.796875 72.90625 \r\nL 49.515625 72.90625 \r\nL 49.515625 64.59375 \r\nL 19.828125 64.59375 \r\nL 19.828125 46.734375 \r\nQ 21.96875 47.46875 24.109375 47.828125 \r\nQ 26.265625 48.1875 28.421875 48.1875 \r\nQ 40.625 48.1875 47.75 41.5 \r\nQ 54.890625 34.8125 54.890625 23.390625 \r\nQ 54.890625 11.625 47.5625 5.09375 \r\nQ 40.234375 -1.421875 26.90625 -1.421875 \r\nQ 22.3125 -1.421875 17.546875 -0.640625 \r\nQ 12.796875 0.140625 7.71875 1.703125 \r\nL 7.71875 11.625 \r\nQ 12.109375 9.234375 16.796875 8.0625 \r\nQ 21.484375 6.890625 26.703125 6.890625 \r\nQ 35.15625 6.890625 40.078125 11.328125 \r\nQ 45.015625 15.765625 45.015625 23.390625 \r\nQ 45.015625 31 40.078125 35.4375 \r\nQ 35.15625 39.890625 26.703125 39.890625 \r\nQ 22.75 39.890625 18.8125 39.015625 \r\nQ 14.890625 38.140625 10.796875 36.28125 \r\nz\r\n\" id=\"DejaVuSans-53\"/>\r\n    </defs>\r\n    <g transform=\"translate(244.938546 191.740047)scale(0.01 -0.01)\">\r\n     <use xlink:href=\"#DejaVuSans-103\"/>\r\n     <use x=\"63.476562\" xlink:href=\"#DejaVuSans-105\"/>\r\n     <use x=\"91.259766\" xlink:href=\"#DejaVuSans-110\"/>\r\n     <use x=\"154.638672\" xlink:href=\"#DejaVuSans-105\"/>\r\n     <use x=\"182.421875\" xlink:href=\"#DejaVuSans-32\"/>\r\n     <use x=\"214.208984\" xlink:href=\"#DejaVuSans-61\"/>\r\n     <use x=\"297.998047\" xlink:href=\"#DejaVuSans-32\"/>\r\n     <use x=\"329.785156\" xlink:href=\"#DejaVuSans-48\"/>\r\n     <use x=\"393.408203\" xlink:href=\"#DejaVuSans-46\"/>\r\n     <use x=\"425.195312\" xlink:href=\"#DejaVuSans-53\"/>\r\n    </g>\r\n    <!-- samples = 2 -->\r\n    <g transform=\"translate(244.249327 192.859828)scale(0.01 -0.01)\">\r\n     <use xlink:href=\"#DejaVuSans-115\"/>\r\n     <use x=\"52.099609\" xlink:href=\"#DejaVuSans-97\"/>\r\n     <use x=\"113.378906\" xlink:href=\"#DejaVuSans-109\"/>\r\n     <use x=\"210.791016\" xlink:href=\"#DejaVuSans-112\"/>\r\n     <use x=\"274.267578\" xlink:href=\"#DejaVuSans-108\"/>\r\n     <use x=\"302.050781\" xlink:href=\"#DejaVuSans-101\"/>\r\n     <use x=\"363.574219\" xlink:href=\"#DejaVuSans-115\"/>\r\n     <use x=\"415.673828\" xlink:href=\"#DejaVuSans-32\"/>\r\n     <use x=\"447.460938\" xlink:href=\"#DejaVuSans-61\"/>\r\n     <use x=\"531.25\" xlink:href=\"#DejaVuSans-32\"/>\r\n     <use x=\"563.037109\" xlink:href=\"#DejaVuSans-50\"/>\r\n    </g>\r\n    <!-- value = [1, 1] -->\r\n    <g transform=\"translate(243.935812 193.979609)scale(0.01 -0.01)\">\r\n     <use xlink:href=\"#DejaVuSans-118\"/>\r\n     <use x=\"59.179688\" xlink:href=\"#DejaVuSans-97\"/>\r\n     <use x=\"120.458984\" xlink:href=\"#DejaVuSans-108\"/>\r\n     <use x=\"148.242188\" xlink:href=\"#DejaVuSans-117\"/>\r\n     <use x=\"211.621094\" xlink:href=\"#DejaVuSans-101\"/>\r\n     <use x=\"273.144531\" xlink:href=\"#DejaVuSans-32\"/>\r\n     <use x=\"304.931641\" xlink:href=\"#DejaVuSans-61\"/>\r\n     <use x=\"388.720703\" xlink:href=\"#DejaVuSans-32\"/>\r\n     <use x=\"420.507812\" xlink:href=\"#DejaVuSans-91\"/>\r\n     <use x=\"459.521484\" xlink:href=\"#DejaVuSans-49\"/>\r\n     <use x=\"523.144531\" xlink:href=\"#DejaVuSans-44\"/>\r\n     <use x=\"554.931641\" xlink:href=\"#DejaVuSans-32\"/>\r\n     <use x=\"586.71875\" xlink:href=\"#DejaVuSans-49\"/>\r\n     <use x=\"650.341797\" xlink:href=\"#DejaVuSans-93\"/>\r\n    </g>\r\n   </g>\r\n   <g id=\"patch_18\">\r\n    <path d=\"M 271.043756 186.567685 \r\nQ 273.275414 179.900547 275.861954 172.173191 \r\n\" style=\"fill:none;stroke:#000000;stroke-linecap:round;\"/>\r\n    <path d=\"M 271.36038 186.251854 \r\nL 271.043756 186.567685 \r\nL 270.981065 186.124887 \r\n\" style=\"fill:none;stroke:#000000;stroke-linecap:round;\"/>\r\n   </g>\r\n   <g id=\"text_9\">\r\n    <g id=\"patch_19\">\r\n     <path d=\"M 265.370594 194.027687 \r\nL 273.064188 194.027687 \r\nL 273.064188 190.020312 \r\nL 265.370594 190.020312 \r\nz\r\n\" style=\"fill:#ffffff;stroke:#000000;stroke-linejoin:miter;\"/>\r\n    </g>\r\n    <!-- gini = 0.0 -->\r\n    <g transform=\"translate(266.773329 191.180156)scale(0.01 -0.01)\">\r\n     <use xlink:href=\"#DejaVuSans-103\"/>\r\n     <use x=\"63.476562\" xlink:href=\"#DejaVuSans-105\"/>\r\n     <use x=\"91.259766\" xlink:href=\"#DejaVuSans-110\"/>\r\n     <use x=\"154.638672\" xlink:href=\"#DejaVuSans-105\"/>\r\n     <use x=\"182.421875\" xlink:href=\"#DejaVuSans-32\"/>\r\n     <use x=\"214.208984\" xlink:href=\"#DejaVuSans-61\"/>\r\n     <use x=\"297.998047\" xlink:href=\"#DejaVuSans-32\"/>\r\n     <use x=\"329.785156\" xlink:href=\"#DejaVuSans-48\"/>\r\n     <use x=\"393.408203\" xlink:href=\"#DejaVuSans-46\"/>\r\n     <use x=\"425.195312\" xlink:href=\"#DejaVuSans-48\"/>\r\n    </g>\r\n    <!-- samples = 2 -->\r\n    <g transform=\"translate(266.08411 192.299937)scale(0.01 -0.01)\">\r\n     <use xlink:href=\"#DejaVuSans-115\"/>\r\n     <use x=\"52.099609\" xlink:href=\"#DejaVuSans-97\"/>\r\n     <use x=\"113.378906\" xlink:href=\"#DejaVuSans-109\"/>\r\n     <use x=\"210.791016\" xlink:href=\"#DejaVuSans-112\"/>\r\n     <use x=\"274.267578\" xlink:href=\"#DejaVuSans-108\"/>\r\n     <use x=\"302.050781\" xlink:href=\"#DejaVuSans-101\"/>\r\n     <use x=\"363.574219\" xlink:href=\"#DejaVuSans-115\"/>\r\n     <use x=\"415.673828\" xlink:href=\"#DejaVuSans-32\"/>\r\n     <use x=\"447.460938\" xlink:href=\"#DejaVuSans-61\"/>\r\n     <use x=\"531.25\" xlink:href=\"#DejaVuSans-32\"/>\r\n     <use x=\"563.037109\" xlink:href=\"#DejaVuSans-50\"/>\r\n    </g>\r\n    <!-- value = [0, 2] -->\r\n    <g transform=\"translate(265.770594 193.419719)scale(0.01 -0.01)\">\r\n     <use xlink:href=\"#DejaVuSans-118\"/>\r\n     <use x=\"59.179688\" xlink:href=\"#DejaVuSans-97\"/>\r\n     <use x=\"120.458984\" xlink:href=\"#DejaVuSans-108\"/>\r\n     <use x=\"148.242188\" xlink:href=\"#DejaVuSans-117\"/>\r\n     <use x=\"211.621094\" xlink:href=\"#DejaVuSans-101\"/>\r\n     <use x=\"273.144531\" xlink:href=\"#DejaVuSans-32\"/>\r\n     <use x=\"304.931641\" xlink:href=\"#DejaVuSans-61\"/>\r\n     <use x=\"388.720703\" xlink:href=\"#DejaVuSans-32\"/>\r\n     <use x=\"420.507812\" xlink:href=\"#DejaVuSans-91\"/>\r\n     <use x=\"459.521484\" xlink:href=\"#DejaVuSans-48\"/>\r\n     <use x=\"523.144531\" xlink:href=\"#DejaVuSans-44\"/>\r\n     <use x=\"554.931641\" xlink:href=\"#DejaVuSans-32\"/>\r\n     <use x=\"586.71875\" xlink:href=\"#DejaVuSans-50\"/>\r\n     <use x=\"650.341797\" xlink:href=\"#DejaVuSans-93\"/>\r\n    </g>\r\n   </g>\r\n   <g id=\"patch_20\">\r\n    <path d=\"M 281.947548 186.567685 \r\nQ 279.71589 179.900547 277.129351 172.173191 \r\n\" style=\"fill:none;stroke:#000000;stroke-linecap:round;\"/>\r\n    <path d=\"M 282.010239 186.124887 \r\nL 281.947548 186.567685 \r\nL 281.630924 186.251854 \r\n\" style=\"fill:none;stroke:#000000;stroke-linecap:round;\"/>\r\n   </g>\r\n   <g id=\"text_10\">\r\n    <g id=\"patch_21\">\r\n     <path d=\"M 279.927116 194.027687 \r\nL 287.62071 194.027687 \r\nL 287.62071 190.020312 \r\nL 279.927116 190.020312 \r\nz\r\n\" style=\"fill:#ffffff;stroke:#000000;stroke-linejoin:miter;\"/>\r\n    </g>\r\n    <!-- gini = 0.0 -->\r\n    <g transform=\"translate(281.329851 191.180156)scale(0.01 -0.01)\">\r\n     <use xlink:href=\"#DejaVuSans-103\"/>\r\n     <use x=\"63.476562\" xlink:href=\"#DejaVuSans-105\"/>\r\n     <use x=\"91.259766\" xlink:href=\"#DejaVuSans-110\"/>\r\n     <use x=\"154.638672\" xlink:href=\"#DejaVuSans-105\"/>\r\n     <use x=\"182.421875\" xlink:href=\"#DejaVuSans-32\"/>\r\n     <use x=\"214.208984\" xlink:href=\"#DejaVuSans-61\"/>\r\n     <use x=\"297.998047\" xlink:href=\"#DejaVuSans-32\"/>\r\n     <use x=\"329.785156\" xlink:href=\"#DejaVuSans-48\"/>\r\n     <use x=\"393.408203\" xlink:href=\"#DejaVuSans-46\"/>\r\n     <use x=\"425.195312\" xlink:href=\"#DejaVuSans-48\"/>\r\n    </g>\r\n    <!-- samples = 4 -->\r\n    <defs>\r\n     <path d=\"M 37.796875 64.3125 \r\nL 12.890625 25.390625 \r\nL 37.796875 25.390625 \r\nz\r\nM 35.203125 72.90625 \r\nL 47.609375 72.90625 \r\nL 47.609375 25.390625 \r\nL 58.015625 25.390625 \r\nL 58.015625 17.1875 \r\nL 47.609375 17.1875 \r\nL 47.609375 0 \r\nL 37.796875 0 \r\nL 37.796875 17.1875 \r\nL 4.890625 17.1875 \r\nL 4.890625 26.703125 \r\nz\r\n\" id=\"DejaVuSans-52\"/>\r\n    </defs>\r\n    <g transform=\"translate(280.640632 192.299937)scale(0.01 -0.01)\">\r\n     <use xlink:href=\"#DejaVuSans-115\"/>\r\n     <use x=\"52.099609\" xlink:href=\"#DejaVuSans-97\"/>\r\n     <use x=\"113.378906\" xlink:href=\"#DejaVuSans-109\"/>\r\n     <use x=\"210.791016\" xlink:href=\"#DejaVuSans-112\"/>\r\n     <use x=\"274.267578\" xlink:href=\"#DejaVuSans-108\"/>\r\n     <use x=\"302.050781\" xlink:href=\"#DejaVuSans-101\"/>\r\n     <use x=\"363.574219\" xlink:href=\"#DejaVuSans-115\"/>\r\n     <use x=\"415.673828\" xlink:href=\"#DejaVuSans-32\"/>\r\n     <use x=\"447.460938\" xlink:href=\"#DejaVuSans-61\"/>\r\n     <use x=\"531.25\" xlink:href=\"#DejaVuSans-32\"/>\r\n     <use x=\"563.037109\" xlink:href=\"#DejaVuSans-52\"/>\r\n    </g>\r\n    <!-- value = [4, 0] -->\r\n    <g transform=\"translate(280.327116 193.419719)scale(0.01 -0.01)\">\r\n     <use xlink:href=\"#DejaVuSans-118\"/>\r\n     <use x=\"59.179688\" xlink:href=\"#DejaVuSans-97\"/>\r\n     <use x=\"120.458984\" xlink:href=\"#DejaVuSans-108\"/>\r\n     <use x=\"148.242188\" xlink:href=\"#DejaVuSans-117\"/>\r\n     <use x=\"211.621094\" xlink:href=\"#DejaVuSans-101\"/>\r\n     <use x=\"273.144531\" xlink:href=\"#DejaVuSans-32\"/>\r\n     <use x=\"304.931641\" xlink:href=\"#DejaVuSans-61\"/>\r\n     <use x=\"388.720703\" xlink:href=\"#DejaVuSans-32\"/>\r\n     <use x=\"420.507812\" xlink:href=\"#DejaVuSans-91\"/>\r\n     <use x=\"459.521484\" xlink:href=\"#DejaVuSans-52\"/>\r\n     <use x=\"523.144531\" xlink:href=\"#DejaVuSans-44\"/>\r\n     <use x=\"554.931641\" xlink:href=\"#DejaVuSans-32\"/>\r\n     <use x=\"586.71875\" xlink:href=\"#DejaVuSans-48\"/>\r\n     <use x=\"650.341797\" xlink:href=\"#DejaVuSans-93\"/>\r\n    </g>\r\n   </g>\r\n   <g id=\"patch_22\">\r\n    <path d=\"M 81.808974 164.823685 \r\nQ 84.040632 158.156547 86.627171 150.429191 \r\n\" style=\"fill:none;stroke:#000000;stroke-linecap:round;\"/>\r\n    <path d=\"M 82.125597 164.507854 \r\nL 81.808974 164.823685 \r\nL 81.746283 164.380887 \r\n\" style=\"fill:none;stroke:#000000;stroke-linecap:round;\"/>\r\n   </g>\r\n   <g id=\"text_11\">\r\n    <g id=\"patch_23\">\r\n     <path d=\"M 76.135812 172.283687 \r\nL 83.829406 172.283687 \r\nL 83.829406 168.276312 \r\nL 76.135812 168.276312 \r\nz\r\n\" style=\"fill:#ffffff;stroke:#000000;stroke-linejoin:miter;\"/>\r\n    </g>\r\n    <!-- gini = 0.0 -->\r\n    <g transform=\"translate(77.538546 169.436156)scale(0.01 -0.01)\">\r\n     <use xlink:href=\"#DejaVuSans-103\"/>\r\n     <use x=\"63.476562\" xlink:href=\"#DejaVuSans-105\"/>\r\n     <use x=\"91.259766\" xlink:href=\"#DejaVuSans-110\"/>\r\n     <use x=\"154.638672\" xlink:href=\"#DejaVuSans-105\"/>\r\n     <use x=\"182.421875\" xlink:href=\"#DejaVuSans-32\"/>\r\n     <use x=\"214.208984\" xlink:href=\"#DejaVuSans-61\"/>\r\n     <use x=\"297.998047\" xlink:href=\"#DejaVuSans-32\"/>\r\n     <use x=\"329.785156\" xlink:href=\"#DejaVuSans-48\"/>\r\n     <use x=\"393.408203\" xlink:href=\"#DejaVuSans-46\"/>\r\n     <use x=\"425.195312\" xlink:href=\"#DejaVuSans-48\"/>\r\n    </g>\r\n    <!-- samples = 2 -->\r\n    <g transform=\"translate(76.849327 170.555937)scale(0.01 -0.01)\">\r\n     <use xlink:href=\"#DejaVuSans-115\"/>\r\n     <use x=\"52.099609\" xlink:href=\"#DejaVuSans-97\"/>\r\n     <use x=\"113.378906\" xlink:href=\"#DejaVuSans-109\"/>\r\n     <use x=\"210.791016\" xlink:href=\"#DejaVuSans-112\"/>\r\n     <use x=\"274.267578\" xlink:href=\"#DejaVuSans-108\"/>\r\n     <use x=\"302.050781\" xlink:href=\"#DejaVuSans-101\"/>\r\n     <use x=\"363.574219\" xlink:href=\"#DejaVuSans-115\"/>\r\n     <use x=\"415.673828\" xlink:href=\"#DejaVuSans-32\"/>\r\n     <use x=\"447.460938\" xlink:href=\"#DejaVuSans-61\"/>\r\n     <use x=\"531.25\" xlink:href=\"#DejaVuSans-32\"/>\r\n     <use x=\"563.037109\" xlink:href=\"#DejaVuSans-50\"/>\r\n    </g>\r\n    <!-- value = [2, 0] -->\r\n    <g transform=\"translate(76.535812 171.675719)scale(0.01 -0.01)\">\r\n     <use xlink:href=\"#DejaVuSans-118\"/>\r\n     <use x=\"59.179688\" xlink:href=\"#DejaVuSans-97\"/>\r\n     <use x=\"120.458984\" xlink:href=\"#DejaVuSans-108\"/>\r\n     <use x=\"148.242188\" xlink:href=\"#DejaVuSans-117\"/>\r\n     <use x=\"211.621094\" xlink:href=\"#DejaVuSans-101\"/>\r\n     <use x=\"273.144531\" xlink:href=\"#DejaVuSans-32\"/>\r\n     <use x=\"304.931641\" xlink:href=\"#DejaVuSans-61\"/>\r\n     <use x=\"388.720703\" xlink:href=\"#DejaVuSans-32\"/>\r\n     <use x=\"420.507812\" xlink:href=\"#DejaVuSans-91\"/>\r\n     <use x=\"459.521484\" xlink:href=\"#DejaVuSans-50\"/>\r\n     <use x=\"523.144531\" xlink:href=\"#DejaVuSans-44\"/>\r\n     <use x=\"554.931641\" xlink:href=\"#DejaVuSans-32\"/>\r\n     <use x=\"586.71875\" xlink:href=\"#DejaVuSans-48\"/>\r\n     <use x=\"650.341797\" xlink:href=\"#DejaVuSans-93\"/>\r\n    </g>\r\n   </g>\r\n   <g id=\"patch_24\">\r\n    <path d=\"M 92.712765 164.823685 \r\nQ 90.481107 158.156547 87.894568 150.429191 \r\n\" style=\"fill:none;stroke:#000000;stroke-linecap:round;\"/>\r\n    <path d=\"M 92.775457 164.380887 \r\nL 92.712765 164.823685 \r\nL 92.396142 164.507854 \r\n\" style=\"fill:none;stroke:#000000;stroke-linecap:round;\"/>\r\n   </g>\r\n   <g id=\"text_12\">\r\n    <g id=\"patch_25\">\r\n     <path d=\"M 90.692334 172.283687 \r\nL 98.385927 172.283687 \r\nL 98.385927 168.276312 \r\nL 90.692334 168.276312 \r\nz\r\n\" style=\"fill:#ffffff;stroke:#000000;stroke-linejoin:miter;\"/>\r\n    </g>\r\n    <!-- gini = 0.0 -->\r\n    <g transform=\"translate(92.095068 169.436156)scale(0.01 -0.01)\">\r\n     <use xlink:href=\"#DejaVuSans-103\"/>\r\n     <use x=\"63.476562\" xlink:href=\"#DejaVuSans-105\"/>\r\n     <use x=\"91.259766\" xlink:href=\"#DejaVuSans-110\"/>\r\n     <use x=\"154.638672\" xlink:href=\"#DejaVuSans-105\"/>\r\n     <use x=\"182.421875\" xlink:href=\"#DejaVuSans-32\"/>\r\n     <use x=\"214.208984\" xlink:href=\"#DejaVuSans-61\"/>\r\n     <use x=\"297.998047\" xlink:href=\"#DejaVuSans-32\"/>\r\n     <use x=\"329.785156\" xlink:href=\"#DejaVuSans-48\"/>\r\n     <use x=\"393.408203\" xlink:href=\"#DejaVuSans-46\"/>\r\n     <use x=\"425.195312\" xlink:href=\"#DejaVuSans-48\"/>\r\n    </g>\r\n    <!-- samples = 4 -->\r\n    <g transform=\"translate(91.405849 170.555937)scale(0.01 -0.01)\">\r\n     <use xlink:href=\"#DejaVuSans-115\"/>\r\n     <use x=\"52.099609\" xlink:href=\"#DejaVuSans-97\"/>\r\n     <use x=\"113.378906\" xlink:href=\"#DejaVuSans-109\"/>\r\n     <use x=\"210.791016\" xlink:href=\"#DejaVuSans-112\"/>\r\n     <use x=\"274.267578\" xlink:href=\"#DejaVuSans-108\"/>\r\n     <use x=\"302.050781\" xlink:href=\"#DejaVuSans-101\"/>\r\n     <use x=\"363.574219\" xlink:href=\"#DejaVuSans-115\"/>\r\n     <use x=\"415.673828\" xlink:href=\"#DejaVuSans-32\"/>\r\n     <use x=\"447.460938\" xlink:href=\"#DejaVuSans-61\"/>\r\n     <use x=\"531.25\" xlink:href=\"#DejaVuSans-32\"/>\r\n     <use x=\"563.037109\" xlink:href=\"#DejaVuSans-52\"/>\r\n    </g>\r\n    <!-- value = [0, 4] -->\r\n    <g transform=\"translate(91.092334 171.675719)scale(0.01 -0.01)\">\r\n     <use xlink:href=\"#DejaVuSans-118\"/>\r\n     <use x=\"59.179688\" xlink:href=\"#DejaVuSans-97\"/>\r\n     <use x=\"120.458984\" xlink:href=\"#DejaVuSans-108\"/>\r\n     <use x=\"148.242188\" xlink:href=\"#DejaVuSans-117\"/>\r\n     <use x=\"211.621094\" xlink:href=\"#DejaVuSans-101\"/>\r\n     <use x=\"273.144531\" xlink:href=\"#DejaVuSans-32\"/>\r\n     <use x=\"304.931641\" xlink:href=\"#DejaVuSans-61\"/>\r\n     <use x=\"388.720703\" xlink:href=\"#DejaVuSans-32\"/>\r\n     <use x=\"420.507812\" xlink:href=\"#DejaVuSans-91\"/>\r\n     <use x=\"459.521484\" xlink:href=\"#DejaVuSans-48\"/>\r\n     <use x=\"523.144531\" xlink:href=\"#DejaVuSans-44\"/>\r\n     <use x=\"554.931641\" xlink:href=\"#DejaVuSans-32\"/>\r\n     <use x=\"586.71875\" xlink:href=\"#DejaVuSans-52\"/>\r\n     <use x=\"650.341797\" xlink:href=\"#DejaVuSans-93\"/>\r\n    </g>\r\n   </g>\r\n   <g id=\"patch_26\">\r\n    <path d=\"M 110.922017 164.823685 \r\nQ 113.153675 158.156547 115.740215 150.429191 \r\n\" style=\"fill:none;stroke:#000000;stroke-linecap:round;\"/>\r\n    <path d=\"M 111.238641 164.507854 \r\nL 110.922017 164.823685 \r\nL 110.859326 164.380887 \r\n\" style=\"fill:none;stroke:#000000;stroke-linecap:round;\"/>\r\n   </g>\r\n   <g id=\"text_13\">\r\n    <g id=\"patch_27\">\r\n     <path d=\"M 104.93073 172.283687 \r\nL 113.260574 172.283687 \r\nL 113.260574 168.276312 \r\nL 104.93073 168.276312 \r\nz\r\n\" style=\"fill:#ffffff;stroke:#000000;stroke-linejoin:miter;\"/>\r\n    </g>\r\n    <!-- gini = 0.0 -->\r\n    <g transform=\"translate(106.65159 169.436156)scale(0.01 -0.01)\">\r\n     <use xlink:href=\"#DejaVuSans-103\"/>\r\n     <use x=\"63.476562\" xlink:href=\"#DejaVuSans-105\"/>\r\n     <use x=\"91.259766\" xlink:href=\"#DejaVuSans-110\"/>\r\n     <use x=\"154.638672\" xlink:href=\"#DejaVuSans-105\"/>\r\n     <use x=\"182.421875\" xlink:href=\"#DejaVuSans-32\"/>\r\n     <use x=\"214.208984\" xlink:href=\"#DejaVuSans-61\"/>\r\n     <use x=\"297.998047\" xlink:href=\"#DejaVuSans-32\"/>\r\n     <use x=\"329.785156\" xlink:href=\"#DejaVuSans-48\"/>\r\n     <use x=\"393.408203\" xlink:href=\"#DejaVuSans-46\"/>\r\n     <use x=\"425.195312\" xlink:href=\"#DejaVuSans-48\"/>\r\n    </g>\r\n    <!-- samples = 11 -->\r\n    <g transform=\"translate(105.644246 170.555937)scale(0.01 -0.01)\">\r\n     <use xlink:href=\"#DejaVuSans-115\"/>\r\n     <use x=\"52.099609\" xlink:href=\"#DejaVuSans-97\"/>\r\n     <use x=\"113.378906\" xlink:href=\"#DejaVuSans-109\"/>\r\n     <use x=\"210.791016\" xlink:href=\"#DejaVuSans-112\"/>\r\n     <use x=\"274.267578\" xlink:href=\"#DejaVuSans-108\"/>\r\n     <use x=\"302.050781\" xlink:href=\"#DejaVuSans-101\"/>\r\n     <use x=\"363.574219\" xlink:href=\"#DejaVuSans-115\"/>\r\n     <use x=\"415.673828\" xlink:href=\"#DejaVuSans-32\"/>\r\n     <use x=\"447.460938\" xlink:href=\"#DejaVuSans-61\"/>\r\n     <use x=\"531.25\" xlink:href=\"#DejaVuSans-32\"/>\r\n     <use x=\"563.037109\" xlink:href=\"#DejaVuSans-49\"/>\r\n     <use x=\"626.660156\" xlink:href=\"#DejaVuSans-49\"/>\r\n    </g>\r\n    <!-- value = [0, 11] -->\r\n    <g transform=\"translate(105.33073 171.675719)scale(0.01 -0.01)\">\r\n     <use xlink:href=\"#DejaVuSans-118\"/>\r\n     <use x=\"59.179688\" xlink:href=\"#DejaVuSans-97\"/>\r\n     <use x=\"120.458984\" xlink:href=\"#DejaVuSans-108\"/>\r\n     <use x=\"148.242188\" xlink:href=\"#DejaVuSans-117\"/>\r\n     <use x=\"211.621094\" xlink:href=\"#DejaVuSans-101\"/>\r\n     <use x=\"273.144531\" xlink:href=\"#DejaVuSans-32\"/>\r\n     <use x=\"304.931641\" xlink:href=\"#DejaVuSans-61\"/>\r\n     <use x=\"388.720703\" xlink:href=\"#DejaVuSans-32\"/>\r\n     <use x=\"420.507812\" xlink:href=\"#DejaVuSans-91\"/>\r\n     <use x=\"459.521484\" xlink:href=\"#DejaVuSans-48\"/>\r\n     <use x=\"523.144531\" xlink:href=\"#DejaVuSans-44\"/>\r\n     <use x=\"554.931641\" xlink:href=\"#DejaVuSans-32\"/>\r\n     <use x=\"586.71875\" xlink:href=\"#DejaVuSans-49\"/>\r\n     <use x=\"650.341797\" xlink:href=\"#DejaVuSans-49\"/>\r\n     <use x=\"713.964844\" xlink:href=\"#DejaVuSans-93\"/>\r\n    </g>\r\n   </g>\r\n   <g id=\"patch_28\">\r\n    <path d=\"M 121.623446 164.21912 \r\nQ 119.492873 157.853977 117.00742 150.428618 \r\n\" style=\"fill:none;stroke:#000000;stroke-linecap:round;\"/>\r\n    <path d=\"M 121.686137 163.776322 \r\nL 121.623446 164.21912 \r\nL 121.306822 163.903288 \r\n\" style=\"fill:none;stroke:#000000;stroke-linecap:round;\"/>\r\n   </g>\r\n   <g id=\"text_14\">\r\n    <g id=\"patch_29\">\r\n     <path d=\"M 113.837565 172.857484 \r\nL 133.466783 172.857484 \r\nL 133.466783 167.674703 \r\nL 113.837565 167.674703 \r\nz\r\n\" style=\"fill:#ffffff;stroke:#000000;stroke-linejoin:miter;\"/>\r\n    </g>\r\n    <!-- creatinine_phosphokinase &lt;= 3310.0 -->\r\n    <defs>\r\n     <path d=\"M 48.78125 52.59375 \r\nL 48.78125 44.1875 \r\nQ 44.96875 46.296875 41.140625 47.34375 \r\nQ 37.3125 48.390625 33.40625 48.390625 \r\nQ 24.65625 48.390625 19.8125 42.84375 \r\nQ 14.984375 37.3125 14.984375 27.296875 \r\nQ 14.984375 17.28125 19.8125 11.734375 \r\nQ 24.65625 6.203125 33.40625 6.203125 \r\nQ 37.3125 6.203125 41.140625 7.25 \r\nQ 44.96875 8.296875 48.78125 10.40625 \r\nL 48.78125 2.09375 \r\nQ 45.015625 0.34375 40.984375 -0.53125 \r\nQ 36.96875 -1.421875 32.421875 -1.421875 \r\nQ 20.0625 -1.421875 12.78125 6.34375 \r\nQ 5.515625 14.109375 5.515625 27.296875 \r\nQ 5.515625 40.671875 12.859375 48.328125 \r\nQ 20.21875 56 33.015625 56 \r\nQ 37.15625 56 41.109375 55.140625 \r\nQ 45.0625 54.296875 48.78125 52.59375 \r\nz\r\n\" id=\"DejaVuSans-99\"/>\r\n     <path d=\"M 41.109375 46.296875 \r\nQ 39.59375 47.171875 37.8125 47.578125 \r\nQ 36.03125 48 33.890625 48 \r\nQ 26.265625 48 22.1875 43.046875 \r\nQ 18.109375 38.09375 18.109375 28.8125 \r\nL 18.109375 0 \r\nL 9.078125 0 \r\nL 9.078125 54.6875 \r\nL 18.109375 54.6875 \r\nL 18.109375 46.1875 \r\nQ 20.953125 51.171875 25.484375 53.578125 \r\nQ 30.03125 56 36.53125 56 \r\nQ 37.453125 56 38.578125 55.875 \r\nQ 39.703125 55.765625 41.0625 55.515625 \r\nz\r\n\" id=\"DejaVuSans-114\"/>\r\n     <path d=\"M 50.984375 -16.609375 \r\nL 50.984375 -23.578125 \r\nL -0.984375 -23.578125 \r\nL -0.984375 -16.609375 \r\nz\r\n\" id=\"DejaVuSans-95\"/>\r\n     <path d=\"M 54.890625 33.015625 \r\nL 54.890625 0 \r\nL 45.90625 0 \r\nL 45.90625 32.71875 \r\nQ 45.90625 40.484375 42.875 44.328125 \r\nQ 39.84375 48.1875 33.796875 48.1875 \r\nQ 26.515625 48.1875 22.3125 43.546875 \r\nQ 18.109375 38.921875 18.109375 30.90625 \r\nL 18.109375 0 \r\nL 9.078125 0 \r\nL 9.078125 75.984375 \r\nL 18.109375 75.984375 \r\nL 18.109375 46.1875 \r\nQ 21.34375 51.125 25.703125 53.5625 \r\nQ 30.078125 56 35.796875 56 \r\nQ 45.21875 56 50.046875 50.171875 \r\nQ 54.890625 44.34375 54.890625 33.015625 \r\nz\r\n\" id=\"DejaVuSans-104\"/>\r\n     <path d=\"M 30.609375 48.390625 \r\nQ 23.390625 48.390625 19.1875 42.75 \r\nQ 14.984375 37.109375 14.984375 27.296875 \r\nQ 14.984375 17.484375 19.15625 11.84375 \r\nQ 23.34375 6.203125 30.609375 6.203125 \r\nQ 37.796875 6.203125 41.984375 11.859375 \r\nQ 46.1875 17.53125 46.1875 27.296875 \r\nQ 46.1875 37.015625 41.984375 42.703125 \r\nQ 37.796875 48.390625 30.609375 48.390625 \r\nz\r\nM 30.609375 56 \r\nQ 42.328125 56 49.015625 48.375 \r\nQ 55.71875 40.765625 55.71875 27.296875 \r\nQ 55.71875 13.875 49.015625 6.21875 \r\nQ 42.328125 -1.421875 30.609375 -1.421875 \r\nQ 18.84375 -1.421875 12.171875 6.21875 \r\nQ 5.515625 13.875 5.515625 27.296875 \r\nQ 5.515625 40.765625 12.171875 48.375 \r\nQ 18.84375 56 30.609375 56 \r\nz\r\n\" id=\"DejaVuSans-111\"/>\r\n     <path d=\"M 9.078125 75.984375 \r\nL 18.109375 75.984375 \r\nL 18.109375 31.109375 \r\nL 44.921875 54.6875 \r\nL 56.390625 54.6875 \r\nL 27.390625 29.109375 \r\nL 57.625 0 \r\nL 45.90625 0 \r\nL 18.109375 26.703125 \r\nL 18.109375 0 \r\nL 9.078125 0 \r\nz\r\n\" id=\"DejaVuSans-107\"/>\r\n    </defs>\r\n    <g transform=\"translate(114.237565 168.862359)scale(0.01 -0.01)\">\r\n     <use xlink:href=\"#DejaVuSans-99\"/>\r\n     <use x=\"54.980469\" xlink:href=\"#DejaVuSans-114\"/>\r\n     <use x=\"93.84375\" xlink:href=\"#DejaVuSans-101\"/>\r\n     <use x=\"155.367188\" xlink:href=\"#DejaVuSans-97\"/>\r\n     <use x=\"216.646484\" xlink:href=\"#DejaVuSans-116\"/>\r\n     <use x=\"255.855469\" xlink:href=\"#DejaVuSans-105\"/>\r\n     <use x=\"283.638672\" xlink:href=\"#DejaVuSans-110\"/>\r\n     <use x=\"347.017578\" xlink:href=\"#DejaVuSans-105\"/>\r\n     <use x=\"374.800781\" xlink:href=\"#DejaVuSans-110\"/>\r\n     <use x=\"438.179688\" xlink:href=\"#DejaVuSans-101\"/>\r\n     <use x=\"499.703125\" xlink:href=\"#DejaVuSans-95\"/>\r\n     <use x=\"549.703125\" xlink:href=\"#DejaVuSans-112\"/>\r\n     <use x=\"613.179688\" xlink:href=\"#DejaVuSans-104\"/>\r\n     <use x=\"676.558594\" xlink:href=\"#DejaVuSans-111\"/>\r\n     <use x=\"737.740234\" xlink:href=\"#DejaVuSans-115\"/>\r\n     <use x=\"789.839844\" xlink:href=\"#DejaVuSans-112\"/>\r\n     <use x=\"853.316406\" xlink:href=\"#DejaVuSans-104\"/>\r\n     <use x=\"916.695312\" xlink:href=\"#DejaVuSans-111\"/>\r\n     <use x=\"977.876953\" xlink:href=\"#DejaVuSans-107\"/>\r\n     <use x=\"1035.787109\" xlink:href=\"#DejaVuSans-105\"/>\r\n     <use x=\"1063.570312\" xlink:href=\"#DejaVuSans-110\"/>\r\n     <use x=\"1126.949219\" xlink:href=\"#DejaVuSans-97\"/>\r\n     <use x=\"1188.228516\" xlink:href=\"#DejaVuSans-115\"/>\r\n     <use x=\"1240.328125\" xlink:href=\"#DejaVuSans-101\"/>\r\n     <use x=\"1301.851562\" xlink:href=\"#DejaVuSans-32\"/>\r\n     <use x=\"1333.638672\" xlink:href=\"#DejaVuSans-60\"/>\r\n     <use x=\"1417.427734\" xlink:href=\"#DejaVuSans-61\"/>\r\n     <use x=\"1501.216797\" xlink:href=\"#DejaVuSans-32\"/>\r\n     <use x=\"1533.003906\" xlink:href=\"#DejaVuSans-51\"/>\r\n     <use x=\"1596.626953\" xlink:href=\"#DejaVuSans-51\"/>\r\n     <use x=\"1660.25\" xlink:href=\"#DejaVuSans-49\"/>\r\n     <use x=\"1723.873047\" xlink:href=\"#DejaVuSans-48\"/>\r\n     <use x=\"1787.496094\" xlink:href=\"#DejaVuSans-46\"/>\r\n     <use x=\"1819.283203\" xlink:href=\"#DejaVuSans-48\"/>\r\n    </g>\r\n    <!-- gini = 0.444 -->\r\n    <g transform=\"translate(120.571861 170.009953)scale(0.01 -0.01)\">\r\n     <use xlink:href=\"#DejaVuSans-103\"/>\r\n     <use x=\"63.476562\" xlink:href=\"#DejaVuSans-105\"/>\r\n     <use x=\"91.259766\" xlink:href=\"#DejaVuSans-110\"/>\r\n     <use x=\"154.638672\" xlink:href=\"#DejaVuSans-105\"/>\r\n     <use x=\"182.421875\" xlink:href=\"#DejaVuSans-32\"/>\r\n     <use x=\"214.208984\" xlink:href=\"#DejaVuSans-61\"/>\r\n     <use x=\"297.998047\" xlink:href=\"#DejaVuSans-32\"/>\r\n     <use x=\"329.785156\" xlink:href=\"#DejaVuSans-48\"/>\r\n     <use x=\"393.408203\" xlink:href=\"#DejaVuSans-46\"/>\r\n     <use x=\"425.195312\" xlink:href=\"#DejaVuSans-52\"/>\r\n     <use x=\"488.818359\" xlink:href=\"#DejaVuSans-52\"/>\r\n     <use x=\"552.441406\" xlink:href=\"#DejaVuSans-52\"/>\r\n    </g>\r\n    <!-- samples = 3 -->\r\n    <g transform=\"translate(120.518893 171.129734)scale(0.01 -0.01)\">\r\n     <use xlink:href=\"#DejaVuSans-115\"/>\r\n     <use x=\"52.099609\" xlink:href=\"#DejaVuSans-97\"/>\r\n     <use x=\"113.378906\" xlink:href=\"#DejaVuSans-109\"/>\r\n     <use x=\"210.791016\" xlink:href=\"#DejaVuSans-112\"/>\r\n     <use x=\"274.267578\" xlink:href=\"#DejaVuSans-108\"/>\r\n     <use x=\"302.050781\" xlink:href=\"#DejaVuSans-101\"/>\r\n     <use x=\"363.574219\" xlink:href=\"#DejaVuSans-115\"/>\r\n     <use x=\"415.673828\" xlink:href=\"#DejaVuSans-32\"/>\r\n     <use x=\"447.460938\" xlink:href=\"#DejaVuSans-61\"/>\r\n     <use x=\"531.25\" xlink:href=\"#DejaVuSans-32\"/>\r\n     <use x=\"563.037109\" xlink:href=\"#DejaVuSans-51\"/>\r\n    </g>\r\n    <!-- value = [1, 2] -->\r\n    <g transform=\"translate(120.205377 172.249516)scale(0.01 -0.01)\">\r\n     <use xlink:href=\"#DejaVuSans-118\"/>\r\n     <use x=\"59.179688\" xlink:href=\"#DejaVuSans-97\"/>\r\n     <use x=\"120.458984\" xlink:href=\"#DejaVuSans-108\"/>\r\n     <use x=\"148.242188\" xlink:href=\"#DejaVuSans-117\"/>\r\n     <use x=\"211.621094\" xlink:href=\"#DejaVuSans-101\"/>\r\n     <use x=\"273.144531\" xlink:href=\"#DejaVuSans-32\"/>\r\n     <use x=\"304.931641\" xlink:href=\"#DejaVuSans-61\"/>\r\n     <use x=\"388.720703\" xlink:href=\"#DejaVuSans-32\"/>\r\n     <use x=\"420.507812\" xlink:href=\"#DejaVuSans-91\"/>\r\n     <use x=\"459.521484\" xlink:href=\"#DejaVuSans-49\"/>\r\n     <use x=\"523.144531\" xlink:href=\"#DejaVuSans-44\"/>\r\n     <use x=\"554.931641\" xlink:href=\"#DejaVuSans-32\"/>\r\n     <use x=\"586.71875\" xlink:href=\"#DejaVuSans-50\"/>\r\n     <use x=\"650.341797\" xlink:href=\"#DejaVuSans-93\"/>\r\n    </g>\r\n   </g>\r\n   <g id=\"patch_30\">\r\n    <path d=\"M 140.035061 164.823685 \r\nQ 142.266719 158.156547 144.853258 150.429191 \r\n\" style=\"fill:none;stroke:#000000;stroke-linecap:round;\"/>\r\n    <path d=\"M 140.351684 164.507854 \r\nL 140.035061 164.823685 \r\nL 139.97237 164.380887 \r\n\" style=\"fill:none;stroke:#000000;stroke-linecap:round;\"/>\r\n   </g>\r\n   <g id=\"text_15\">\r\n    <g id=\"patch_31\">\r\n     <path d=\"M 134.361899 172.283687 \r\nL 142.055493 172.283687 \r\nL 142.055493 168.276312 \r\nL 134.361899 168.276312 \r\nz\r\n\" style=\"fill:#ffffff;stroke:#000000;stroke-linejoin:miter;\"/>\r\n    </g>\r\n    <!-- gini = 0.0 -->\r\n    <g transform=\"translate(135.764633 169.436156)scale(0.01 -0.01)\">\r\n     <use xlink:href=\"#DejaVuSans-103\"/>\r\n     <use x=\"63.476562\" xlink:href=\"#DejaVuSans-105\"/>\r\n     <use x=\"91.259766\" xlink:href=\"#DejaVuSans-110\"/>\r\n     <use x=\"154.638672\" xlink:href=\"#DejaVuSans-105\"/>\r\n     <use x=\"182.421875\" xlink:href=\"#DejaVuSans-32\"/>\r\n     <use x=\"214.208984\" xlink:href=\"#DejaVuSans-61\"/>\r\n     <use x=\"297.998047\" xlink:href=\"#DejaVuSans-32\"/>\r\n     <use x=\"329.785156\" xlink:href=\"#DejaVuSans-48\"/>\r\n     <use x=\"393.408203\" xlink:href=\"#DejaVuSans-46\"/>\r\n     <use x=\"425.195312\" xlink:href=\"#DejaVuSans-48\"/>\r\n    </g>\r\n    <!-- samples = 3 -->\r\n    <g transform=\"translate(135.075414 170.555937)scale(0.01 -0.01)\">\r\n     <use xlink:href=\"#DejaVuSans-115\"/>\r\n     <use x=\"52.099609\" xlink:href=\"#DejaVuSans-97\"/>\r\n     <use x=\"113.378906\" xlink:href=\"#DejaVuSans-109\"/>\r\n     <use x=\"210.791016\" xlink:href=\"#DejaVuSans-112\"/>\r\n     <use x=\"274.267578\" xlink:href=\"#DejaVuSans-108\"/>\r\n     <use x=\"302.050781\" xlink:href=\"#DejaVuSans-101\"/>\r\n     <use x=\"363.574219\" xlink:href=\"#DejaVuSans-115\"/>\r\n     <use x=\"415.673828\" xlink:href=\"#DejaVuSans-32\"/>\r\n     <use x=\"447.460938\" xlink:href=\"#DejaVuSans-61\"/>\r\n     <use x=\"531.25\" xlink:href=\"#DejaVuSans-32\"/>\r\n     <use x=\"563.037109\" xlink:href=\"#DejaVuSans-51\"/>\r\n    </g>\r\n    <!-- value = [3, 0] -->\r\n    <g transform=\"translate(134.761899 171.675719)scale(0.01 -0.01)\">\r\n     <use xlink:href=\"#DejaVuSans-118\"/>\r\n     <use x=\"59.179688\" xlink:href=\"#DejaVuSans-97\"/>\r\n     <use x=\"120.458984\" xlink:href=\"#DejaVuSans-108\"/>\r\n     <use x=\"148.242188\" xlink:href=\"#DejaVuSans-117\"/>\r\n     <use x=\"211.621094\" xlink:href=\"#DejaVuSans-101\"/>\r\n     <use x=\"273.144531\" xlink:href=\"#DejaVuSans-32\"/>\r\n     <use x=\"304.931641\" xlink:href=\"#DejaVuSans-61\"/>\r\n     <use x=\"388.720703\" xlink:href=\"#DejaVuSans-32\"/>\r\n     <use x=\"420.507812\" xlink:href=\"#DejaVuSans-91\"/>\r\n     <use x=\"459.521484\" xlink:href=\"#DejaVuSans-51\"/>\r\n     <use x=\"523.144531\" xlink:href=\"#DejaVuSans-44\"/>\r\n     <use x=\"554.931641\" xlink:href=\"#DejaVuSans-32\"/>\r\n     <use x=\"586.71875\" xlink:href=\"#DejaVuSans-48\"/>\r\n     <use x=\"650.341797\" xlink:href=\"#DejaVuSans-93\"/>\r\n    </g>\r\n   </g>\r\n   <g id=\"patch_32\">\r\n    <path d=\"M 150.750714 164.261617 \r\nQ 148.613833 157.877628 146.122071 150.433422 \r\n\" style=\"fill:none;stroke:#000000;stroke-linecap:round;\"/>\r\n    <path d=\"M 150.813405 163.818819 \r\nL 150.750714 164.261617 \r\nL 150.434091 163.945785 \r\n\" style=\"fill:none;stroke:#000000;stroke-linecap:round;\"/>\r\n   </g>\r\n   <g id=\"text_16\">\r\n    <g id=\"patch_33\">\r\n     <path d=\"M 148.918421 172.843578 \r\nL 156.612014 172.843578 \r\nL 156.612014 167.716422 \r\nL 148.918421 167.716422 \r\nz\r\n\" style=\"fill:#ffffff;stroke:#000000;stroke-linejoin:miter;\"/>\r\n    </g>\r\n    <!-- age &lt;= 50.0 -->\r\n    <g transform=\"translate(149.564671 168.876266)scale(0.01 -0.01)\">\r\n     <use xlink:href=\"#DejaVuSans-97\"/>\r\n     <use x=\"61.279297\" xlink:href=\"#DejaVuSans-103\"/>\r\n     <use x=\"124.755859\" xlink:href=\"#DejaVuSans-101\"/>\r\n     <use x=\"186.279297\" xlink:href=\"#DejaVuSans-32\"/>\r\n     <use x=\"218.066406\" xlink:href=\"#DejaVuSans-60\"/>\r\n     <use x=\"301.855469\" xlink:href=\"#DejaVuSans-61\"/>\r\n     <use x=\"385.644531\" xlink:href=\"#DejaVuSans-32\"/>\r\n     <use x=\"417.431641\" xlink:href=\"#DejaVuSans-53\"/>\r\n     <use x=\"481.054688\" xlink:href=\"#DejaVuSans-48\"/>\r\n     <use x=\"544.677734\" xlink:href=\"#DejaVuSans-46\"/>\r\n     <use x=\"576.464844\" xlink:href=\"#DejaVuSans-48\"/>\r\n    </g>\r\n    <!-- gini = 0.444 -->\r\n    <g transform=\"translate(149.684905 169.996047)scale(0.01 -0.01)\">\r\n     <use xlink:href=\"#DejaVuSans-103\"/>\r\n     <use x=\"63.476562\" xlink:href=\"#DejaVuSans-105\"/>\r\n     <use x=\"91.259766\" xlink:href=\"#DejaVuSans-110\"/>\r\n     <use x=\"154.638672\" xlink:href=\"#DejaVuSans-105\"/>\r\n     <use x=\"182.421875\" xlink:href=\"#DejaVuSans-32\"/>\r\n     <use x=\"214.208984\" xlink:href=\"#DejaVuSans-61\"/>\r\n     <use x=\"297.998047\" xlink:href=\"#DejaVuSans-32\"/>\r\n     <use x=\"329.785156\" xlink:href=\"#DejaVuSans-48\"/>\r\n     <use x=\"393.408203\" xlink:href=\"#DejaVuSans-46\"/>\r\n     <use x=\"425.195312\" xlink:href=\"#DejaVuSans-52\"/>\r\n     <use x=\"488.818359\" xlink:href=\"#DejaVuSans-52\"/>\r\n     <use x=\"552.441406\" xlink:href=\"#DejaVuSans-52\"/>\r\n    </g>\r\n    <!-- samples = 3 -->\r\n    <g transform=\"translate(149.631936 171.115828)scale(0.01 -0.01)\">\r\n     <use xlink:href=\"#DejaVuSans-115\"/>\r\n     <use x=\"52.099609\" xlink:href=\"#DejaVuSans-97\"/>\r\n     <use x=\"113.378906\" xlink:href=\"#DejaVuSans-109\"/>\r\n     <use x=\"210.791016\" xlink:href=\"#DejaVuSans-112\"/>\r\n     <use x=\"274.267578\" xlink:href=\"#DejaVuSans-108\"/>\r\n     <use x=\"302.050781\" xlink:href=\"#DejaVuSans-101\"/>\r\n     <use x=\"363.574219\" xlink:href=\"#DejaVuSans-115\"/>\r\n     <use x=\"415.673828\" xlink:href=\"#DejaVuSans-32\"/>\r\n     <use x=\"447.460938\" xlink:href=\"#DejaVuSans-61\"/>\r\n     <use x=\"531.25\" xlink:href=\"#DejaVuSans-32\"/>\r\n     <use x=\"563.037109\" xlink:href=\"#DejaVuSans-51\"/>\r\n    </g>\r\n    <!-- value = [1, 2] -->\r\n    <g transform=\"translate(149.318421 172.235609)scale(0.01 -0.01)\">\r\n     <use xlink:href=\"#DejaVuSans-118\"/>\r\n     <use x=\"59.179688\" xlink:href=\"#DejaVuSans-97\"/>\r\n     <use x=\"120.458984\" xlink:href=\"#DejaVuSans-108\"/>\r\n     <use x=\"148.242188\" xlink:href=\"#DejaVuSans-117\"/>\r\n     <use x=\"211.621094\" xlink:href=\"#DejaVuSans-101\"/>\r\n     <use x=\"273.144531\" xlink:href=\"#DejaVuSans-32\"/>\r\n     <use x=\"304.931641\" xlink:href=\"#DejaVuSans-61\"/>\r\n     <use x=\"388.720703\" xlink:href=\"#DejaVuSans-32\"/>\r\n     <use x=\"420.507812\" xlink:href=\"#DejaVuSans-91\"/>\r\n     <use x=\"459.521484\" xlink:href=\"#DejaVuSans-49\"/>\r\n     <use x=\"523.144531\" xlink:href=\"#DejaVuSans-44\"/>\r\n     <use x=\"554.931641\" xlink:href=\"#DejaVuSans-32\"/>\r\n     <use x=\"586.71875\" xlink:href=\"#DejaVuSans-50\"/>\r\n     <use x=\"650.341797\" xlink:href=\"#DejaVuSans-93\"/>\r\n    </g>\r\n   </g>\r\n   <g id=\"patch_34\">\r\n    <path d=\"M 198.261148 164.823685 \r\nQ 200.492806 158.156547 203.079345 150.429191 \r\n\" style=\"fill:none;stroke:#000000;stroke-linecap:round;\"/>\r\n    <path d=\"M 198.577771 164.507854 \r\nL 198.261148 164.823685 \r\nL 198.198457 164.380887 \r\n\" style=\"fill:none;stroke:#000000;stroke-linecap:round;\"/>\r\n   </g>\r\n   <g id=\"text_17\">\r\n    <g id=\"patch_35\">\r\n     <path d=\"M 192.587986 172.283687 \r\nL 200.281579 172.283687 \r\nL 200.281579 168.276312 \r\nL 192.587986 168.276312 \r\nz\r\n\" style=\"fill:#ffffff;stroke:#000000;stroke-linejoin:miter;\"/>\r\n    </g>\r\n    <!-- gini = 0.0 -->\r\n    <g transform=\"translate(193.99072 169.436156)scale(0.01 -0.01)\">\r\n     <use xlink:href=\"#DejaVuSans-103\"/>\r\n     <use x=\"63.476562\" xlink:href=\"#DejaVuSans-105\"/>\r\n     <use x=\"91.259766\" xlink:href=\"#DejaVuSans-110\"/>\r\n     <use x=\"154.638672\" xlink:href=\"#DejaVuSans-105\"/>\r\n     <use x=\"182.421875\" xlink:href=\"#DejaVuSans-32\"/>\r\n     <use x=\"214.208984\" xlink:href=\"#DejaVuSans-61\"/>\r\n     <use x=\"297.998047\" xlink:href=\"#DejaVuSans-32\"/>\r\n     <use x=\"329.785156\" xlink:href=\"#DejaVuSans-48\"/>\r\n     <use x=\"393.408203\" xlink:href=\"#DejaVuSans-46\"/>\r\n     <use x=\"425.195312\" xlink:href=\"#DejaVuSans-48\"/>\r\n    </g>\r\n    <!-- samples = 1 -->\r\n    <g transform=\"translate(193.301501 170.555937)scale(0.01 -0.01)\">\r\n     <use xlink:href=\"#DejaVuSans-115\"/>\r\n     <use x=\"52.099609\" xlink:href=\"#DejaVuSans-97\"/>\r\n     <use x=\"113.378906\" xlink:href=\"#DejaVuSans-109\"/>\r\n     <use x=\"210.791016\" xlink:href=\"#DejaVuSans-112\"/>\r\n     <use x=\"274.267578\" xlink:href=\"#DejaVuSans-108\"/>\r\n     <use x=\"302.050781\" xlink:href=\"#DejaVuSans-101\"/>\r\n     <use x=\"363.574219\" xlink:href=\"#DejaVuSans-115\"/>\r\n     <use x=\"415.673828\" xlink:href=\"#DejaVuSans-32\"/>\r\n     <use x=\"447.460938\" xlink:href=\"#DejaVuSans-61\"/>\r\n     <use x=\"531.25\" xlink:href=\"#DejaVuSans-32\"/>\r\n     <use x=\"563.037109\" xlink:href=\"#DejaVuSans-49\"/>\r\n    </g>\r\n    <!-- value = [0, 1] -->\r\n    <g transform=\"translate(192.987986 171.675719)scale(0.01 -0.01)\">\r\n     <use xlink:href=\"#DejaVuSans-118\"/>\r\n     <use x=\"59.179688\" xlink:href=\"#DejaVuSans-97\"/>\r\n     <use x=\"120.458984\" xlink:href=\"#DejaVuSans-108\"/>\r\n     <use x=\"148.242188\" xlink:href=\"#DejaVuSans-117\"/>\r\n     <use x=\"211.621094\" xlink:href=\"#DejaVuSans-101\"/>\r\n     <use x=\"273.144531\" xlink:href=\"#DejaVuSans-32\"/>\r\n     <use x=\"304.931641\" xlink:href=\"#DejaVuSans-61\"/>\r\n     <use x=\"388.720703\" xlink:href=\"#DejaVuSans-32\"/>\r\n     <use x=\"420.507812\" xlink:href=\"#DejaVuSans-91\"/>\r\n     <use x=\"459.521484\" xlink:href=\"#DejaVuSans-48\"/>\r\n     <use x=\"523.144531\" xlink:href=\"#DejaVuSans-44\"/>\r\n     <use x=\"554.931641\" xlink:href=\"#DejaVuSans-32\"/>\r\n     <use x=\"586.71875\" xlink:href=\"#DejaVuSans-49\"/>\r\n     <use x=\"650.341797\" xlink:href=\"#DejaVuSans-93\"/>\r\n    </g>\r\n   </g>\r\n   <g id=\"patch_36\">\r\n    <path d=\"M 209.164939 164.823685 \r\nQ 206.933281 158.156547 204.346742 150.429191 \r\n\" style=\"fill:none;stroke:#000000;stroke-linecap:round;\"/>\r\n    <path d=\"M 209.22763 164.380887 \r\nL 209.164939 164.823685 \r\nL 208.848316 164.507854 \r\n\" style=\"fill:none;stroke:#000000;stroke-linecap:round;\"/>\r\n   </g>\r\n   <g id=\"text_18\">\r\n    <g id=\"patch_37\">\r\n     <path d=\"M 207.144507 172.283687 \r\nL 214.838101 172.283687 \r\nL 214.838101 168.276312 \r\nL 207.144507 168.276312 \r\nz\r\n\" style=\"fill:#ffffff;stroke:#000000;stroke-linejoin:miter;\"/>\r\n    </g>\r\n    <!-- gini = 0.0 -->\r\n    <g transform=\"translate(208.547242 169.436156)scale(0.01 -0.01)\">\r\n     <use xlink:href=\"#DejaVuSans-103\"/>\r\n     <use x=\"63.476562\" xlink:href=\"#DejaVuSans-105\"/>\r\n     <use x=\"91.259766\" xlink:href=\"#DejaVuSans-110\"/>\r\n     <use x=\"154.638672\" xlink:href=\"#DejaVuSans-105\"/>\r\n     <use x=\"182.421875\" xlink:href=\"#DejaVuSans-32\"/>\r\n     <use x=\"214.208984\" xlink:href=\"#DejaVuSans-61\"/>\r\n     <use x=\"297.998047\" xlink:href=\"#DejaVuSans-32\"/>\r\n     <use x=\"329.785156\" xlink:href=\"#DejaVuSans-48\"/>\r\n     <use x=\"393.408203\" xlink:href=\"#DejaVuSans-46\"/>\r\n     <use x=\"425.195312\" xlink:href=\"#DejaVuSans-48\"/>\r\n    </g>\r\n    <!-- samples = 2 -->\r\n    <g transform=\"translate(207.858023 170.555937)scale(0.01 -0.01)\">\r\n     <use xlink:href=\"#DejaVuSans-115\"/>\r\n     <use x=\"52.099609\" xlink:href=\"#DejaVuSans-97\"/>\r\n     <use x=\"113.378906\" xlink:href=\"#DejaVuSans-109\"/>\r\n     <use x=\"210.791016\" xlink:href=\"#DejaVuSans-112\"/>\r\n     <use x=\"274.267578\" xlink:href=\"#DejaVuSans-108\"/>\r\n     <use x=\"302.050781\" xlink:href=\"#DejaVuSans-101\"/>\r\n     <use x=\"363.574219\" xlink:href=\"#DejaVuSans-115\"/>\r\n     <use x=\"415.673828\" xlink:href=\"#DejaVuSans-32\"/>\r\n     <use x=\"447.460938\" xlink:href=\"#DejaVuSans-61\"/>\r\n     <use x=\"531.25\" xlink:href=\"#DejaVuSans-32\"/>\r\n     <use x=\"563.037109\" xlink:href=\"#DejaVuSans-50\"/>\r\n    </g>\r\n    <!-- value = [2, 0] -->\r\n    <g transform=\"translate(207.544507 171.675719)scale(0.01 -0.01)\">\r\n     <use xlink:href=\"#DejaVuSans-118\"/>\r\n     <use x=\"59.179688\" xlink:href=\"#DejaVuSans-97\"/>\r\n     <use x=\"120.458984\" xlink:href=\"#DejaVuSans-108\"/>\r\n     <use x=\"148.242188\" xlink:href=\"#DejaVuSans-117\"/>\r\n     <use x=\"211.621094\" xlink:href=\"#DejaVuSans-101\"/>\r\n     <use x=\"273.144531\" xlink:href=\"#DejaVuSans-32\"/>\r\n     <use x=\"304.931641\" xlink:href=\"#DejaVuSans-61\"/>\r\n     <use x=\"388.720703\" xlink:href=\"#DejaVuSans-32\"/>\r\n     <use x=\"420.507812\" xlink:href=\"#DejaVuSans-91\"/>\r\n     <use x=\"459.521484\" xlink:href=\"#DejaVuSans-50\"/>\r\n     <use x=\"523.144531\" xlink:href=\"#DejaVuSans-44\"/>\r\n     <use x=\"554.931641\" xlink:href=\"#DejaVuSans-32\"/>\r\n     <use x=\"586.71875\" xlink:href=\"#DejaVuSans-48\"/>\r\n     <use x=\"650.341797\" xlink:href=\"#DejaVuSans-93\"/>\r\n    </g>\r\n   </g>\r\n   <g id=\"patch_38\">\r\n    <path d=\"M 227.374191 164.823685 \r\nQ 229.605849 158.156547 232.192388 150.429191 \r\n\" style=\"fill:none;stroke:#000000;stroke-linecap:round;\"/>\r\n    <path d=\"M 227.690815 164.507854 \r\nL 227.374191 164.823685 \r\nL 227.3115 164.380887 \r\n\" style=\"fill:none;stroke:#000000;stroke-linecap:round;\"/>\r\n   </g>\r\n   <g id=\"text_19\">\r\n    <g id=\"patch_39\">\r\n     <path d=\"M 221.064779 172.283687 \r\nL 230.030873 172.283687 \r\nL 230.030873 168.276312 \r\nL 221.064779 168.276312 \r\nz\r\n\" style=\"fill:#ffffff;stroke:#000000;stroke-linejoin:miter;\"/>\r\n    </g>\r\n    <!-- gini = 0.0 -->\r\n    <g transform=\"translate(223.103764 169.436156)scale(0.01 -0.01)\">\r\n     <use xlink:href=\"#DejaVuSans-103\"/>\r\n     <use x=\"63.476562\" xlink:href=\"#DejaVuSans-105\"/>\r\n     <use x=\"91.259766\" xlink:href=\"#DejaVuSans-110\"/>\r\n     <use x=\"154.638672\" xlink:href=\"#DejaVuSans-105\"/>\r\n     <use x=\"182.421875\" xlink:href=\"#DejaVuSans-32\"/>\r\n     <use x=\"214.208984\" xlink:href=\"#DejaVuSans-61\"/>\r\n     <use x=\"297.998047\" xlink:href=\"#DejaVuSans-32\"/>\r\n     <use x=\"329.785156\" xlink:href=\"#DejaVuSans-48\"/>\r\n     <use x=\"393.408203\" xlink:href=\"#DejaVuSans-46\"/>\r\n     <use x=\"425.195312\" xlink:href=\"#DejaVuSans-48\"/>\r\n    </g>\r\n    <!-- samples = 102 -->\r\n    <g transform=\"translate(221.778295 170.555937)scale(0.01 -0.01)\">\r\n     <use xlink:href=\"#DejaVuSans-115\"/>\r\n     <use x=\"52.099609\" xlink:href=\"#DejaVuSans-97\"/>\r\n     <use x=\"113.378906\" xlink:href=\"#DejaVuSans-109\"/>\r\n     <use x=\"210.791016\" xlink:href=\"#DejaVuSans-112\"/>\r\n     <use x=\"274.267578\" xlink:href=\"#DejaVuSans-108\"/>\r\n     <use x=\"302.050781\" xlink:href=\"#DejaVuSans-101\"/>\r\n     <use x=\"363.574219\" xlink:href=\"#DejaVuSans-115\"/>\r\n     <use x=\"415.673828\" xlink:href=\"#DejaVuSans-32\"/>\r\n     <use x=\"447.460938\" xlink:href=\"#DejaVuSans-61\"/>\r\n     <use x=\"531.25\" xlink:href=\"#DejaVuSans-32\"/>\r\n     <use x=\"563.037109\" xlink:href=\"#DejaVuSans-49\"/>\r\n     <use x=\"626.660156\" xlink:href=\"#DejaVuSans-48\"/>\r\n     <use x=\"690.283203\" xlink:href=\"#DejaVuSans-50\"/>\r\n    </g>\r\n    <!-- value = [102, 0] -->\r\n    <g transform=\"translate(221.464779 171.675719)scale(0.01 -0.01)\">\r\n     <use xlink:href=\"#DejaVuSans-118\"/>\r\n     <use x=\"59.179688\" xlink:href=\"#DejaVuSans-97\"/>\r\n     <use x=\"120.458984\" xlink:href=\"#DejaVuSans-108\"/>\r\n     <use x=\"148.242188\" xlink:href=\"#DejaVuSans-117\"/>\r\n     <use x=\"211.621094\" xlink:href=\"#DejaVuSans-101\"/>\r\n     <use x=\"273.144531\" xlink:href=\"#DejaVuSans-32\"/>\r\n     <use x=\"304.931641\" xlink:href=\"#DejaVuSans-61\"/>\r\n     <use x=\"388.720703\" xlink:href=\"#DejaVuSans-32\"/>\r\n     <use x=\"420.507812\" xlink:href=\"#DejaVuSans-91\"/>\r\n     <use x=\"459.521484\" xlink:href=\"#DejaVuSans-49\"/>\r\n     <use x=\"523.144531\" xlink:href=\"#DejaVuSans-48\"/>\r\n     <use x=\"586.767578\" xlink:href=\"#DejaVuSans-50\"/>\r\n     <use x=\"650.390625\" xlink:href=\"#DejaVuSans-44\"/>\r\n     <use x=\"682.177734\" xlink:href=\"#DejaVuSans-32\"/>\r\n     <use x=\"713.964844\" xlink:href=\"#DejaVuSans-48\"/>\r\n     <use x=\"777.587891\" xlink:href=\"#DejaVuSans-93\"/>\r\n    </g>\r\n   </g>\r\n   <g id=\"patch_40\">\r\n    <path d=\"M 238.07562 164.21912 \r\nQ 235.945047 157.853977 233.459594 150.428618 \r\n\" style=\"fill:none;stroke:#000000;stroke-linecap:round;\"/>\r\n    <path d=\"M 238.138311 163.776322 \r\nL 238.07562 164.21912 \r\nL 237.758996 163.903288 \r\n\" style=\"fill:none;stroke:#000000;stroke-linecap:round;\"/>\r\n   </g>\r\n   <g id=\"text_20\">\r\n    <g id=\"patch_41\">\r\n     <path d=\"M 233.277785 172.857484 \r\nL 246.93091 172.857484 \r\nL 246.93091 167.674703 \r\nL 233.277785 167.674703 \r\nz\r\n\" style=\"fill:#ffffff;stroke:#000000;stroke-linejoin:miter;\"/>\r\n    </g>\r\n    <!-- ejection_fraction &lt;= 55.0 -->\r\n    <defs>\r\n     <path d=\"M 9.421875 54.6875 \r\nL 18.40625 54.6875 \r\nL 18.40625 -0.984375 \r\nQ 18.40625 -11.421875 14.421875 -16.109375 \r\nQ 10.453125 -20.796875 1.609375 -20.796875 \r\nL -1.8125 -20.796875 \r\nL -1.8125 -13.1875 \r\nL 0.59375 -13.1875 \r\nQ 5.71875 -13.1875 7.5625 -10.8125 \r\nQ 9.421875 -8.453125 9.421875 -0.984375 \r\nz\r\nM 9.421875 75.984375 \r\nL 18.40625 75.984375 \r\nL 18.40625 64.59375 \r\nL 9.421875 64.59375 \r\nz\r\n\" id=\"DejaVuSans-106\"/>\r\n     <path d=\"M 37.109375 75.984375 \r\nL 37.109375 68.5 \r\nL 28.515625 68.5 \r\nQ 23.6875 68.5 21.796875 66.546875 \r\nQ 19.921875 64.59375 19.921875 59.515625 \r\nL 19.921875 54.6875 \r\nL 34.71875 54.6875 \r\nL 34.71875 47.703125 \r\nL 19.921875 47.703125 \r\nL 19.921875 0 \r\nL 10.890625 0 \r\nL 10.890625 47.703125 \r\nL 2.296875 47.703125 \r\nL 2.296875 54.6875 \r\nL 10.890625 54.6875 \r\nL 10.890625 58.5 \r\nQ 10.890625 67.625 15.140625 71.796875 \r\nQ 19.390625 75.984375 28.609375 75.984375 \r\nz\r\n\" id=\"DejaVuSans-102\"/>\r\n    </defs>\r\n    <g transform=\"translate(233.677785 168.862359)scale(0.01 -0.01)\">\r\n     <use xlink:href=\"#DejaVuSans-101\"/>\r\n     <use x=\"61.523438\" xlink:href=\"#DejaVuSans-106\"/>\r\n     <use x=\"89.306641\" xlink:href=\"#DejaVuSans-101\"/>\r\n     <use x=\"150.830078\" xlink:href=\"#DejaVuSans-99\"/>\r\n     <use x=\"205.810547\" xlink:href=\"#DejaVuSans-116\"/>\r\n     <use x=\"245.019531\" xlink:href=\"#DejaVuSans-105\"/>\r\n     <use x=\"272.802734\" xlink:href=\"#DejaVuSans-111\"/>\r\n     <use x=\"333.984375\" xlink:href=\"#DejaVuSans-110\"/>\r\n     <use x=\"397.363281\" xlink:href=\"#DejaVuSans-95\"/>\r\n     <use x=\"447.363281\" xlink:href=\"#DejaVuSans-102\"/>\r\n     <use x=\"482.568359\" xlink:href=\"#DejaVuSans-114\"/>\r\n     <use x=\"523.681641\" xlink:href=\"#DejaVuSans-97\"/>\r\n     <use x=\"584.960938\" xlink:href=\"#DejaVuSans-99\"/>\r\n     <use x=\"639.941406\" xlink:href=\"#DejaVuSans-116\"/>\r\n     <use x=\"679.150391\" xlink:href=\"#DejaVuSans-105\"/>\r\n     <use x=\"706.933594\" xlink:href=\"#DejaVuSans-111\"/>\r\n     <use x=\"768.115234\" xlink:href=\"#DejaVuSans-110\"/>\r\n     <use x=\"831.494141\" xlink:href=\"#DejaVuSans-32\"/>\r\n     <use x=\"863.28125\" xlink:href=\"#DejaVuSans-60\"/>\r\n     <use x=\"947.070312\" xlink:href=\"#DejaVuSans-61\"/>\r\n     <use x=\"1030.859375\" xlink:href=\"#DejaVuSans-32\"/>\r\n     <use x=\"1062.646484\" xlink:href=\"#DejaVuSans-53\"/>\r\n     <use x=\"1126.269531\" xlink:href=\"#DejaVuSans-53\"/>\r\n     <use x=\"1189.892578\" xlink:href=\"#DejaVuSans-46\"/>\r\n     <use x=\"1221.679688\" xlink:href=\"#DejaVuSans-48\"/>\r\n    </g>\r\n    <!-- gini = 0.133 -->\r\n    <g transform=\"translate(237.024035 170.009953)scale(0.01 -0.01)\">\r\n     <use xlink:href=\"#DejaVuSans-103\"/>\r\n     <use x=\"63.476562\" xlink:href=\"#DejaVuSans-105\"/>\r\n     <use x=\"91.259766\" xlink:href=\"#DejaVuSans-110\"/>\r\n     <use x=\"154.638672\" xlink:href=\"#DejaVuSans-105\"/>\r\n     <use x=\"182.421875\" xlink:href=\"#DejaVuSans-32\"/>\r\n     <use x=\"214.208984\" xlink:href=\"#DejaVuSans-61\"/>\r\n     <use x=\"297.998047\" xlink:href=\"#DejaVuSans-32\"/>\r\n     <use x=\"329.785156\" xlink:href=\"#DejaVuSans-48\"/>\r\n     <use x=\"393.408203\" xlink:href=\"#DejaVuSans-46\"/>\r\n     <use x=\"425.195312\" xlink:href=\"#DejaVuSans-49\"/>\r\n     <use x=\"488.818359\" xlink:href=\"#DejaVuSans-51\"/>\r\n     <use x=\"552.441406\" xlink:href=\"#DejaVuSans-51\"/>\r\n    </g>\r\n    <!-- samples = 14 -->\r\n    <g transform=\"translate(236.652942 171.129734)scale(0.01 -0.01)\">\r\n     <use xlink:href=\"#DejaVuSans-115\"/>\r\n     <use x=\"52.099609\" xlink:href=\"#DejaVuSans-97\"/>\r\n     <use x=\"113.378906\" xlink:href=\"#DejaVuSans-109\"/>\r\n     <use x=\"210.791016\" xlink:href=\"#DejaVuSans-112\"/>\r\n     <use x=\"274.267578\" xlink:href=\"#DejaVuSans-108\"/>\r\n     <use x=\"302.050781\" xlink:href=\"#DejaVuSans-101\"/>\r\n     <use x=\"363.574219\" xlink:href=\"#DejaVuSans-115\"/>\r\n     <use x=\"415.673828\" xlink:href=\"#DejaVuSans-32\"/>\r\n     <use x=\"447.460938\" xlink:href=\"#DejaVuSans-61\"/>\r\n     <use x=\"531.25\" xlink:href=\"#DejaVuSans-32\"/>\r\n     <use x=\"563.037109\" xlink:href=\"#DejaVuSans-49\"/>\r\n     <use x=\"626.660156\" xlink:href=\"#DejaVuSans-52\"/>\r\n    </g>\r\n    <!-- value = [13, 1] -->\r\n    <g transform=\"translate(236.339426 172.249516)scale(0.01 -0.01)\">\r\n     <use xlink:href=\"#DejaVuSans-118\"/>\r\n     <use x=\"59.179688\" xlink:href=\"#DejaVuSans-97\"/>\r\n     <use x=\"120.458984\" xlink:href=\"#DejaVuSans-108\"/>\r\n     <use x=\"148.242188\" xlink:href=\"#DejaVuSans-117\"/>\r\n     <use x=\"211.621094\" xlink:href=\"#DejaVuSans-101\"/>\r\n     <use x=\"273.144531\" xlink:href=\"#DejaVuSans-32\"/>\r\n     <use x=\"304.931641\" xlink:href=\"#DejaVuSans-61\"/>\r\n     <use x=\"388.720703\" xlink:href=\"#DejaVuSans-32\"/>\r\n     <use x=\"420.507812\" xlink:href=\"#DejaVuSans-91\"/>\r\n     <use x=\"459.521484\" xlink:href=\"#DejaVuSans-49\"/>\r\n     <use x=\"523.144531\" xlink:href=\"#DejaVuSans-51\"/>\r\n     <use x=\"586.767578\" xlink:href=\"#DejaVuSans-44\"/>\r\n     <use x=\"618.554688\" xlink:href=\"#DejaVuSans-32\"/>\r\n     <use x=\"650.341797\" xlink:href=\"#DejaVuSans-49\"/>\r\n     <use x=\"713.964844\" xlink:href=\"#DejaVuSans-93\"/>\r\n    </g>\r\n   </g>\r\n   <g id=\"patch_42\">\r\n    <path d=\"M 278.510156 164.261617 \r\nQ 280.647036 157.877628 283.138798 150.433422 \r\n\" style=\"fill:none;stroke:#000000;stroke-linecap:round;\"/>\r\n    <path d=\"M 278.826779 163.945785 \r\nL 278.510156 164.261617 \r\nL 278.447464 163.818819 \r\n\" style=\"fill:none;stroke:#000000;stroke-linecap:round;\"/>\r\n   </g>\r\n   <g id=\"text_21\">\r\n    <g id=\"patch_43\">\r\n     <path d=\"M 272.648855 172.843578 \r\nL 280.342449 172.843578 \r\nL 280.342449 167.716422 \r\nL 272.648855 167.716422 \r\nz\r\n\" style=\"fill:#ffffff;stroke:#000000;stroke-linejoin:miter;\"/>\r\n    </g>\r\n    <!-- time &lt;= 86.0 -->\r\n    <defs>\r\n     <path d=\"M 33.015625 40.375 \r\nQ 26.375 40.375 22.484375 35.828125 \r\nQ 18.609375 31.296875 18.609375 23.390625 \r\nQ 18.609375 15.53125 22.484375 10.953125 \r\nQ 26.375 6.390625 33.015625 6.390625 \r\nQ 39.65625 6.390625 43.53125 10.953125 \r\nQ 47.40625 15.53125 47.40625 23.390625 \r\nQ 47.40625 31.296875 43.53125 35.828125 \r\nQ 39.65625 40.375 33.015625 40.375 \r\nz\r\nM 52.59375 71.296875 \r\nL 52.59375 62.3125 \r\nQ 48.875 64.0625 45.09375 64.984375 \r\nQ 41.3125 65.921875 37.59375 65.921875 \r\nQ 27.828125 65.921875 22.671875 59.328125 \r\nQ 17.53125 52.734375 16.796875 39.40625 \r\nQ 19.671875 43.65625 24.015625 45.921875 \r\nQ 28.375 48.1875 33.59375 48.1875 \r\nQ 44.578125 48.1875 50.953125 41.515625 \r\nQ 57.328125 34.859375 57.328125 23.390625 \r\nQ 57.328125 12.15625 50.6875 5.359375 \r\nQ 44.046875 -1.421875 33.015625 -1.421875 \r\nQ 20.359375 -1.421875 13.671875 8.265625 \r\nQ 6.984375 17.96875 6.984375 36.375 \r\nQ 6.984375 53.65625 15.1875 63.9375 \r\nQ 23.390625 74.21875 37.203125 74.21875 \r\nQ 40.921875 74.21875 44.703125 73.484375 \r\nQ 48.484375 72.75 52.59375 71.296875 \r\nz\r\n\" id=\"DejaVuSans-54\"/>\r\n    </defs>\r\n    <g transform=\"translate(273.09698 168.876266)scale(0.01 -0.01)\">\r\n     <use xlink:href=\"#DejaVuSans-116\"/>\r\n     <use x=\"39.208984\" xlink:href=\"#DejaVuSans-105\"/>\r\n     <use x=\"66.992188\" xlink:href=\"#DejaVuSans-109\"/>\r\n     <use x=\"164.404297\" xlink:href=\"#DejaVuSans-101\"/>\r\n     <use x=\"225.927734\" xlink:href=\"#DejaVuSans-32\"/>\r\n     <use x=\"257.714844\" xlink:href=\"#DejaVuSans-60\"/>\r\n     <use x=\"341.503906\" xlink:href=\"#DejaVuSans-61\"/>\r\n     <use x=\"425.292969\" xlink:href=\"#DejaVuSans-32\"/>\r\n     <use x=\"457.080078\" xlink:href=\"#DejaVuSans-56\"/>\r\n     <use x=\"520.703125\" xlink:href=\"#DejaVuSans-54\"/>\r\n     <use x=\"584.326172\" xlink:href=\"#DejaVuSans-46\"/>\r\n     <use x=\"616.113281\" xlink:href=\"#DejaVuSans-48\"/>\r\n    </g>\r\n    <!-- gini = 0.444 -->\r\n    <g transform=\"translate(273.41534 169.996047)scale(0.01 -0.01)\">\r\n     <use xlink:href=\"#DejaVuSans-103\"/>\r\n     <use x=\"63.476562\" xlink:href=\"#DejaVuSans-105\"/>\r\n     <use x=\"91.259766\" xlink:href=\"#DejaVuSans-110\"/>\r\n     <use x=\"154.638672\" xlink:href=\"#DejaVuSans-105\"/>\r\n     <use x=\"182.421875\" xlink:href=\"#DejaVuSans-32\"/>\r\n     <use x=\"214.208984\" xlink:href=\"#DejaVuSans-61\"/>\r\n     <use x=\"297.998047\" xlink:href=\"#DejaVuSans-32\"/>\r\n     <use x=\"329.785156\" xlink:href=\"#DejaVuSans-48\"/>\r\n     <use x=\"393.408203\" xlink:href=\"#DejaVuSans-46\"/>\r\n     <use x=\"425.195312\" xlink:href=\"#DejaVuSans-52\"/>\r\n     <use x=\"488.818359\" xlink:href=\"#DejaVuSans-52\"/>\r\n     <use x=\"552.441406\" xlink:href=\"#DejaVuSans-52\"/>\r\n    </g>\r\n    <!-- samples = 6 -->\r\n    <g transform=\"translate(273.362371 171.115828)scale(0.01 -0.01)\">\r\n     <use xlink:href=\"#DejaVuSans-115\"/>\r\n     <use x=\"52.099609\" xlink:href=\"#DejaVuSans-97\"/>\r\n     <use x=\"113.378906\" xlink:href=\"#DejaVuSans-109\"/>\r\n     <use x=\"210.791016\" xlink:href=\"#DejaVuSans-112\"/>\r\n     <use x=\"274.267578\" xlink:href=\"#DejaVuSans-108\"/>\r\n     <use x=\"302.050781\" xlink:href=\"#DejaVuSans-101\"/>\r\n     <use x=\"363.574219\" xlink:href=\"#DejaVuSans-115\"/>\r\n     <use x=\"415.673828\" xlink:href=\"#DejaVuSans-32\"/>\r\n     <use x=\"447.460938\" xlink:href=\"#DejaVuSans-61\"/>\r\n     <use x=\"531.25\" xlink:href=\"#DejaVuSans-32\"/>\r\n     <use x=\"563.037109\" xlink:href=\"#DejaVuSans-54\"/>\r\n    </g>\r\n    <!-- value = [4, 2] -->\r\n    <g transform=\"translate(273.048855 172.235609)scale(0.01 -0.01)\">\r\n     <use xlink:href=\"#DejaVuSans-118\"/>\r\n     <use x=\"59.179688\" xlink:href=\"#DejaVuSans-97\"/>\r\n     <use x=\"120.458984\" xlink:href=\"#DejaVuSans-108\"/>\r\n     <use x=\"148.242188\" xlink:href=\"#DejaVuSans-117\"/>\r\n     <use x=\"211.621094\" xlink:href=\"#DejaVuSans-101\"/>\r\n     <use x=\"273.144531\" xlink:href=\"#DejaVuSans-32\"/>\r\n     <use x=\"304.931641\" xlink:href=\"#DejaVuSans-61\"/>\r\n     <use x=\"388.720703\" xlink:href=\"#DejaVuSans-32\"/>\r\n     <use x=\"420.507812\" xlink:href=\"#DejaVuSans-91\"/>\r\n     <use x=\"459.521484\" xlink:href=\"#DejaVuSans-52\"/>\r\n     <use x=\"523.144531\" xlink:href=\"#DejaVuSans-44\"/>\r\n     <use x=\"554.931641\" xlink:href=\"#DejaVuSans-32\"/>\r\n     <use x=\"586.71875\" xlink:href=\"#DejaVuSans-50\"/>\r\n     <use x=\"650.341797\" xlink:href=\"#DejaVuSans-93\"/>\r\n    </g>\r\n   </g>\r\n   <g id=\"patch_44\">\r\n    <path d=\"M 289.225809 164.823685 \r\nQ 286.994151 158.156547 284.407612 150.429191 \r\n\" style=\"fill:none;stroke:#000000;stroke-linecap:round;\"/>\r\n    <path d=\"M 289.2885 164.380887 \r\nL 289.225809 164.823685 \r\nL 288.909185 164.507854 \r\n\" style=\"fill:none;stroke:#000000;stroke-linecap:round;\"/>\r\n   </g>\r\n   <g id=\"text_22\">\r\n    <g id=\"patch_45\">\r\n     <path d=\"M 287.205377 172.283687 \r\nL 294.898971 172.283687 \r\nL 294.898971 168.276312 \r\nL 287.205377 168.276312 \r\nz\r\n\" style=\"fill:#ffffff;stroke:#000000;stroke-linejoin:miter;\"/>\r\n    </g>\r\n    <!-- gini = 0.0 -->\r\n    <g transform=\"translate(288.608111 169.436156)scale(0.01 -0.01)\">\r\n     <use xlink:href=\"#DejaVuSans-103\"/>\r\n     <use x=\"63.476562\" xlink:href=\"#DejaVuSans-105\"/>\r\n     <use x=\"91.259766\" xlink:href=\"#DejaVuSans-110\"/>\r\n     <use x=\"154.638672\" xlink:href=\"#DejaVuSans-105\"/>\r\n     <use x=\"182.421875\" xlink:href=\"#DejaVuSans-32\"/>\r\n     <use x=\"214.208984\" xlink:href=\"#DejaVuSans-61\"/>\r\n     <use x=\"297.998047\" xlink:href=\"#DejaVuSans-32\"/>\r\n     <use x=\"329.785156\" xlink:href=\"#DejaVuSans-48\"/>\r\n     <use x=\"393.408203\" xlink:href=\"#DejaVuSans-46\"/>\r\n     <use x=\"425.195312\" xlink:href=\"#DejaVuSans-48\"/>\r\n    </g>\r\n    <!-- samples = 2 -->\r\n    <g transform=\"translate(287.918893 170.555937)scale(0.01 -0.01)\">\r\n     <use xlink:href=\"#DejaVuSans-115\"/>\r\n     <use x=\"52.099609\" xlink:href=\"#DejaVuSans-97\"/>\r\n     <use x=\"113.378906\" xlink:href=\"#DejaVuSans-109\"/>\r\n     <use x=\"210.791016\" xlink:href=\"#DejaVuSans-112\"/>\r\n     <use x=\"274.267578\" xlink:href=\"#DejaVuSans-108\"/>\r\n     <use x=\"302.050781\" xlink:href=\"#DejaVuSans-101\"/>\r\n     <use x=\"363.574219\" xlink:href=\"#DejaVuSans-115\"/>\r\n     <use x=\"415.673828\" xlink:href=\"#DejaVuSans-32\"/>\r\n     <use x=\"447.460938\" xlink:href=\"#DejaVuSans-61\"/>\r\n     <use x=\"531.25\" xlink:href=\"#DejaVuSans-32\"/>\r\n     <use x=\"563.037109\" xlink:href=\"#DejaVuSans-50\"/>\r\n    </g>\r\n    <!-- value = [0, 2] -->\r\n    <g transform=\"translate(287.605377 171.675719)scale(0.01 -0.01)\">\r\n     <use xlink:href=\"#DejaVuSans-118\"/>\r\n     <use x=\"59.179688\" xlink:href=\"#DejaVuSans-97\"/>\r\n     <use x=\"120.458984\" xlink:href=\"#DejaVuSans-108\"/>\r\n     <use x=\"148.242188\" xlink:href=\"#DejaVuSans-117\"/>\r\n     <use x=\"211.621094\" xlink:href=\"#DejaVuSans-101\"/>\r\n     <use x=\"273.144531\" xlink:href=\"#DejaVuSans-32\"/>\r\n     <use x=\"304.931641\" xlink:href=\"#DejaVuSans-61\"/>\r\n     <use x=\"388.720703\" xlink:href=\"#DejaVuSans-32\"/>\r\n     <use x=\"420.507812\" xlink:href=\"#DejaVuSans-91\"/>\r\n     <use x=\"459.521484\" xlink:href=\"#DejaVuSans-48\"/>\r\n     <use x=\"523.144531\" xlink:href=\"#DejaVuSans-44\"/>\r\n     <use x=\"554.931641\" xlink:href=\"#DejaVuSans-32\"/>\r\n     <use x=\"586.71875\" xlink:href=\"#DejaVuSans-50\"/>\r\n     <use x=\"650.341797\" xlink:href=\"#DejaVuSans-93\"/>\r\n    </g>\r\n   </g>\r\n   <g id=\"patch_46\">\r\n    <path d=\"M 321.991583 164.823685 \r\nQ 324.223241 158.156547 326.80978 150.429191 \r\n\" style=\"fill:none;stroke:#000000;stroke-linecap:round;\"/>\r\n    <path d=\"M 322.308206 164.507854 \r\nL 321.991583 164.823685 \r\nL 321.928891 164.380887 \r\n\" style=\"fill:none;stroke:#000000;stroke-linecap:round;\"/>\r\n   </g>\r\n   <g id=\"text_23\">\r\n    <g id=\"patch_47\">\r\n     <path d=\"M 316.318421 172.283687 \r\nL 324.012014 172.283687 \r\nL 324.012014 168.276312 \r\nL 316.318421 168.276312 \r\nz\r\n\" style=\"fill:#ffffff;stroke:#000000;stroke-linejoin:miter;\"/>\r\n    </g>\r\n    <!-- gini = 0.0 -->\r\n    <g transform=\"translate(317.721155 169.436156)scale(0.01 -0.01)\">\r\n     <use xlink:href=\"#DejaVuSans-103\"/>\r\n     <use x=\"63.476562\" xlink:href=\"#DejaVuSans-105\"/>\r\n     <use x=\"91.259766\" xlink:href=\"#DejaVuSans-110\"/>\r\n     <use x=\"154.638672\" xlink:href=\"#DejaVuSans-105\"/>\r\n     <use x=\"182.421875\" xlink:href=\"#DejaVuSans-32\"/>\r\n     <use x=\"214.208984\" xlink:href=\"#DejaVuSans-61\"/>\r\n     <use x=\"297.998047\" xlink:href=\"#DejaVuSans-32\"/>\r\n     <use x=\"329.785156\" xlink:href=\"#DejaVuSans-48\"/>\r\n     <use x=\"393.408203\" xlink:href=\"#DejaVuSans-46\"/>\r\n     <use x=\"425.195312\" xlink:href=\"#DejaVuSans-48\"/>\r\n    </g>\r\n    <!-- samples = 3 -->\r\n    <g transform=\"translate(317.031936 170.555937)scale(0.01 -0.01)\">\r\n     <use xlink:href=\"#DejaVuSans-115\"/>\r\n     <use x=\"52.099609\" xlink:href=\"#DejaVuSans-97\"/>\r\n     <use x=\"113.378906\" xlink:href=\"#DejaVuSans-109\"/>\r\n     <use x=\"210.791016\" xlink:href=\"#DejaVuSans-112\"/>\r\n     <use x=\"274.267578\" xlink:href=\"#DejaVuSans-108\"/>\r\n     <use x=\"302.050781\" xlink:href=\"#DejaVuSans-101\"/>\r\n     <use x=\"363.574219\" xlink:href=\"#DejaVuSans-115\"/>\r\n     <use x=\"415.673828\" xlink:href=\"#DejaVuSans-32\"/>\r\n     <use x=\"447.460938\" xlink:href=\"#DejaVuSans-61\"/>\r\n     <use x=\"531.25\" xlink:href=\"#DejaVuSans-32\"/>\r\n     <use x=\"563.037109\" xlink:href=\"#DejaVuSans-51\"/>\r\n    </g>\r\n    <!-- value = [0, 3] -->\r\n    <g transform=\"translate(316.718421 171.675719)scale(0.01 -0.01)\">\r\n     <use xlink:href=\"#DejaVuSans-118\"/>\r\n     <use x=\"59.179688\" xlink:href=\"#DejaVuSans-97\"/>\r\n     <use x=\"120.458984\" xlink:href=\"#DejaVuSans-108\"/>\r\n     <use x=\"148.242188\" xlink:href=\"#DejaVuSans-117\"/>\r\n     <use x=\"211.621094\" xlink:href=\"#DejaVuSans-101\"/>\r\n     <use x=\"273.144531\" xlink:href=\"#DejaVuSans-32\"/>\r\n     <use x=\"304.931641\" xlink:href=\"#DejaVuSans-61\"/>\r\n     <use x=\"388.720703\" xlink:href=\"#DejaVuSans-32\"/>\r\n     <use x=\"420.507812\" xlink:href=\"#DejaVuSans-91\"/>\r\n     <use x=\"459.521484\" xlink:href=\"#DejaVuSans-48\"/>\r\n     <use x=\"523.144531\" xlink:href=\"#DejaVuSans-44\"/>\r\n     <use x=\"554.931641\" xlink:href=\"#DejaVuSans-32\"/>\r\n     <use x=\"586.71875\" xlink:href=\"#DejaVuSans-51\"/>\r\n     <use x=\"650.341797\" xlink:href=\"#DejaVuSans-93\"/>\r\n    </g>\r\n   </g>\r\n   <g id=\"patch_48\">\r\n    <path d=\"M 332.895374 164.823685 \r\nQ 330.663716 158.156547 328.077177 150.429191 \r\n\" style=\"fill:none;stroke:#000000;stroke-linecap:round;\"/>\r\n    <path d=\"M 332.958065 164.380887 \r\nL 332.895374 164.823685 \r\nL 332.578751 164.507854 \r\n\" style=\"fill:none;stroke:#000000;stroke-linecap:round;\"/>\r\n   </g>\r\n   <g id=\"text_24\">\r\n    <g id=\"patch_49\">\r\n     <path d=\"M 330.874942 172.283687 \r\nL 338.568536 172.283687 \r\nL 338.568536 168.276312 \r\nL 330.874942 168.276312 \r\nz\r\n\" style=\"fill:#ffffff;stroke:#000000;stroke-linejoin:miter;\"/>\r\n    </g>\r\n    <!-- gini = 0.0 -->\r\n    <g transform=\"translate(332.277677 169.436156)scale(0.01 -0.01)\">\r\n     <use xlink:href=\"#DejaVuSans-103\"/>\r\n     <use x=\"63.476562\" xlink:href=\"#DejaVuSans-105\"/>\r\n     <use x=\"91.259766\" xlink:href=\"#DejaVuSans-110\"/>\r\n     <use x=\"154.638672\" xlink:href=\"#DejaVuSans-105\"/>\r\n     <use x=\"182.421875\" xlink:href=\"#DejaVuSans-32\"/>\r\n     <use x=\"214.208984\" xlink:href=\"#DejaVuSans-61\"/>\r\n     <use x=\"297.998047\" xlink:href=\"#DejaVuSans-32\"/>\r\n     <use x=\"329.785156\" xlink:href=\"#DejaVuSans-48\"/>\r\n     <use x=\"393.408203\" xlink:href=\"#DejaVuSans-46\"/>\r\n     <use x=\"425.195312\" xlink:href=\"#DejaVuSans-48\"/>\r\n    </g>\r\n    <!-- samples = 1 -->\r\n    <g transform=\"translate(331.588458 170.555937)scale(0.01 -0.01)\">\r\n     <use xlink:href=\"#DejaVuSans-115\"/>\r\n     <use x=\"52.099609\" xlink:href=\"#DejaVuSans-97\"/>\r\n     <use x=\"113.378906\" xlink:href=\"#DejaVuSans-109\"/>\r\n     <use x=\"210.791016\" xlink:href=\"#DejaVuSans-112\"/>\r\n     <use x=\"274.267578\" xlink:href=\"#DejaVuSans-108\"/>\r\n     <use x=\"302.050781\" xlink:href=\"#DejaVuSans-101\"/>\r\n     <use x=\"363.574219\" xlink:href=\"#DejaVuSans-115\"/>\r\n     <use x=\"415.673828\" xlink:href=\"#DejaVuSans-32\"/>\r\n     <use x=\"447.460938\" xlink:href=\"#DejaVuSans-61\"/>\r\n     <use x=\"531.25\" xlink:href=\"#DejaVuSans-32\"/>\r\n     <use x=\"563.037109\" xlink:href=\"#DejaVuSans-49\"/>\r\n    </g>\r\n    <!-- value = [1, 0] -->\r\n    <g transform=\"translate(331.274942 171.675719)scale(0.01 -0.01)\">\r\n     <use xlink:href=\"#DejaVuSans-118\"/>\r\n     <use x=\"59.179688\" xlink:href=\"#DejaVuSans-97\"/>\r\n     <use x=\"120.458984\" xlink:href=\"#DejaVuSans-108\"/>\r\n     <use x=\"148.242188\" xlink:href=\"#DejaVuSans-117\"/>\r\n     <use x=\"211.621094\" xlink:href=\"#DejaVuSans-101\"/>\r\n     <use x=\"273.144531\" xlink:href=\"#DejaVuSans-32\"/>\r\n     <use x=\"304.931641\" xlink:href=\"#DejaVuSans-61\"/>\r\n     <use x=\"388.720703\" xlink:href=\"#DejaVuSans-32\"/>\r\n     <use x=\"420.507812\" xlink:href=\"#DejaVuSans-91\"/>\r\n     <use x=\"459.521484\" xlink:href=\"#DejaVuSans-49\"/>\r\n     <use x=\"523.144531\" xlink:href=\"#DejaVuSans-44\"/>\r\n     <use x=\"554.931641\" xlink:href=\"#DejaVuSans-32\"/>\r\n     <use x=\"586.71875\" xlink:href=\"#DejaVuSans-48\"/>\r\n     <use x=\"650.341797\" xlink:href=\"#DejaVuSans-93\"/>\r\n    </g>\r\n   </g>\r\n   <g id=\"patch_50\">\r\n    <path d=\"M 91.073621 142.840651 \r\nQ 95.57817 136.11192 100.704682 128.454125 \r\n\" style=\"fill:none;stroke:#000000;stroke-linecap:round;\"/>\r\n    <path d=\"M 91.462338 142.619518 \r\nL 91.073621 142.840651 \r\nL 91.129945 142.396998 \r\n\" style=\"fill:none;stroke:#000000;stroke-linecap:round;\"/>\r\n   </g>\r\n   <g id=\"text_25\">\r\n    <g id=\"patch_51\">\r\n     <path d=\"M 80.265713 151.113484 \r\nL 94.256026 151.113484 \r\nL 94.256026 145.930703 \r\nL 80.265713 145.930703 \r\nz\r\n\" style=\"fill:#ffffff;stroke:#000000;stroke-linejoin:miter;\"/>\r\n    </g>\r\n    <!-- serum_creatinine &lt;= 1.25 -->\r\n    <g transform=\"translate(80.665713 147.118359)scale(0.01 -0.01)\">\r\n     <use xlink:href=\"#DejaVuSans-115\"/>\r\n     <use x=\"52.099609\" xlink:href=\"#DejaVuSans-101\"/>\r\n     <use x=\"113.623047\" xlink:href=\"#DejaVuSans-114\"/>\r\n     <use x=\"154.736328\" xlink:href=\"#DejaVuSans-117\"/>\r\n     <use x=\"218.115234\" xlink:href=\"#DejaVuSans-109\"/>\r\n     <use x=\"315.527344\" xlink:href=\"#DejaVuSans-95\"/>\r\n     <use x=\"365.527344\" xlink:href=\"#DejaVuSans-99\"/>\r\n     <use x=\"420.507812\" xlink:href=\"#DejaVuSans-114\"/>\r\n     <use x=\"459.371094\" xlink:href=\"#DejaVuSans-101\"/>\r\n     <use x=\"520.894531\" xlink:href=\"#DejaVuSans-97\"/>\r\n     <use x=\"582.173828\" xlink:href=\"#DejaVuSans-116\"/>\r\n     <use x=\"621.382812\" xlink:href=\"#DejaVuSans-105\"/>\r\n     <use x=\"649.166016\" xlink:href=\"#DejaVuSans-110\"/>\r\n     <use x=\"712.544922\" xlink:href=\"#DejaVuSans-105\"/>\r\n     <use x=\"740.328125\" xlink:href=\"#DejaVuSans-110\"/>\r\n     <use x=\"803.707031\" xlink:href=\"#DejaVuSans-101\"/>\r\n     <use x=\"865.230469\" xlink:href=\"#DejaVuSans-32\"/>\r\n     <use x=\"897.017578\" xlink:href=\"#DejaVuSans-60\"/>\r\n     <use x=\"980.806641\" xlink:href=\"#DejaVuSans-61\"/>\r\n     <use x=\"1064.595703\" xlink:href=\"#DejaVuSans-32\"/>\r\n     <use x=\"1096.382812\" xlink:href=\"#DejaVuSans-49\"/>\r\n     <use x=\"1160.005859\" xlink:href=\"#DejaVuSans-46\"/>\r\n     <use x=\"1191.792969\" xlink:href=\"#DejaVuSans-50\"/>\r\n     <use x=\"1255.416016\" xlink:href=\"#DejaVuSans-53\"/>\r\n    </g>\r\n    <!-- gini = 0.444 -->\r\n    <g transform=\"translate(84.180557 148.265953)scale(0.01 -0.01)\">\r\n     <use xlink:href=\"#DejaVuSans-103\"/>\r\n     <use x=\"63.476562\" xlink:href=\"#DejaVuSans-105\"/>\r\n     <use x=\"91.259766\" xlink:href=\"#DejaVuSans-110\"/>\r\n     <use x=\"154.638672\" xlink:href=\"#DejaVuSans-105\"/>\r\n     <use x=\"182.421875\" xlink:href=\"#DejaVuSans-32\"/>\r\n     <use x=\"214.208984\" xlink:href=\"#DejaVuSans-61\"/>\r\n     <use x=\"297.998047\" xlink:href=\"#DejaVuSans-32\"/>\r\n     <use x=\"329.785156\" xlink:href=\"#DejaVuSans-48\"/>\r\n     <use x=\"393.408203\" xlink:href=\"#DejaVuSans-46\"/>\r\n     <use x=\"425.195312\" xlink:href=\"#DejaVuSans-52\"/>\r\n     <use x=\"488.818359\" xlink:href=\"#DejaVuSans-52\"/>\r\n     <use x=\"552.441406\" xlink:href=\"#DejaVuSans-52\"/>\r\n    </g>\r\n    <!-- samples = 6 -->\r\n    <g transform=\"translate(84.127588 149.385734)scale(0.01 -0.01)\">\r\n     <use xlink:href=\"#DejaVuSans-115\"/>\r\n     <use x=\"52.099609\" xlink:href=\"#DejaVuSans-97\"/>\r\n     <use x=\"113.378906\" xlink:href=\"#DejaVuSans-109\"/>\r\n     <use x=\"210.791016\" xlink:href=\"#DejaVuSans-112\"/>\r\n     <use x=\"274.267578\" xlink:href=\"#DejaVuSans-108\"/>\r\n     <use x=\"302.050781\" xlink:href=\"#DejaVuSans-101\"/>\r\n     <use x=\"363.574219\" xlink:href=\"#DejaVuSans-115\"/>\r\n     <use x=\"415.673828\" xlink:href=\"#DejaVuSans-32\"/>\r\n     <use x=\"447.460938\" xlink:href=\"#DejaVuSans-61\"/>\r\n     <use x=\"531.25\" xlink:href=\"#DejaVuSans-32\"/>\r\n     <use x=\"563.037109\" xlink:href=\"#DejaVuSans-54\"/>\r\n    </g>\r\n    <!-- value = [2, 4] -->\r\n    <g transform=\"translate(83.814073 150.505516)scale(0.01 -0.01)\">\r\n     <use xlink:href=\"#DejaVuSans-118\"/>\r\n     <use x=\"59.179688\" xlink:href=\"#DejaVuSans-97\"/>\r\n     <use x=\"120.458984\" xlink:href=\"#DejaVuSans-108\"/>\r\n     <use x=\"148.242188\" xlink:href=\"#DejaVuSans-117\"/>\r\n     <use x=\"211.621094\" xlink:href=\"#DejaVuSans-101\"/>\r\n     <use x=\"273.144531\" xlink:href=\"#DejaVuSans-32\"/>\r\n     <use x=\"304.931641\" xlink:href=\"#DejaVuSans-61\"/>\r\n     <use x=\"388.720703\" xlink:href=\"#DejaVuSans-32\"/>\r\n     <use x=\"420.507812\" xlink:href=\"#DejaVuSans-91\"/>\r\n     <use x=\"459.521484\" xlink:href=\"#DejaVuSans-50\"/>\r\n     <use x=\"523.144531\" xlink:href=\"#DejaVuSans-44\"/>\r\n     <use x=\"554.931641\" xlink:href=\"#DejaVuSans-32\"/>\r\n     <use x=\"586.71875\" xlink:href=\"#DejaVuSans-52\"/>\r\n     <use x=\"650.341797\" xlink:href=\"#DejaVuSans-93\"/>\r\n    </g>\r\n   </g>\r\n   <g id=\"patch_52\">\r\n    <path d=\"M 112.561161 142.840651 \r\nQ 108.056612 136.11192 102.930101 128.454125 \r\n\" style=\"fill:none;stroke:#000000;stroke-linecap:round;\"/>\r\n    <path d=\"M 112.504837 142.396998 \r\nL 112.561161 142.840651 \r\nL 112.172445 142.619518 \r\n\" style=\"fill:none;stroke:#000000;stroke-linecap:round;\"/>\r\n   </g>\r\n   <g id=\"text_26\">\r\n    <g id=\"patch_53\">\r\n     <path d=\"M 106.559304 151.113484 \r\nL 126.188522 151.113484 \r\nL 126.188522 145.930703 \r\nL 106.559304 145.930703 \r\nz\r\n\" style=\"fill:#ffffff;stroke:#000000;stroke-linejoin:miter;\"/>\r\n    </g>\r\n    <!-- creatinine_phosphokinase &lt;= 1755.5 -->\r\n    <defs>\r\n     <path d=\"M 8.203125 72.90625 \r\nL 55.078125 72.90625 \r\nL 55.078125 68.703125 \r\nL 28.609375 0 \r\nL 18.3125 0 \r\nL 43.21875 64.59375 \r\nL 8.203125 64.59375 \r\nz\r\n\" id=\"DejaVuSans-55\"/>\r\n    </defs>\r\n    <g transform=\"translate(106.959304 147.118359)scale(0.01 -0.01)\">\r\n     <use xlink:href=\"#DejaVuSans-99\"/>\r\n     <use x=\"54.980469\" xlink:href=\"#DejaVuSans-114\"/>\r\n     <use x=\"93.84375\" xlink:href=\"#DejaVuSans-101\"/>\r\n     <use x=\"155.367188\" xlink:href=\"#DejaVuSans-97\"/>\r\n     <use x=\"216.646484\" xlink:href=\"#DejaVuSans-116\"/>\r\n     <use x=\"255.855469\" xlink:href=\"#DejaVuSans-105\"/>\r\n     <use x=\"283.638672\" xlink:href=\"#DejaVuSans-110\"/>\r\n     <use x=\"347.017578\" xlink:href=\"#DejaVuSans-105\"/>\r\n     <use x=\"374.800781\" xlink:href=\"#DejaVuSans-110\"/>\r\n     <use x=\"438.179688\" xlink:href=\"#DejaVuSans-101\"/>\r\n     <use x=\"499.703125\" xlink:href=\"#DejaVuSans-95\"/>\r\n     <use x=\"549.703125\" xlink:href=\"#DejaVuSans-112\"/>\r\n     <use x=\"613.179688\" xlink:href=\"#DejaVuSans-104\"/>\r\n     <use x=\"676.558594\" xlink:href=\"#DejaVuSans-111\"/>\r\n     <use x=\"737.740234\" xlink:href=\"#DejaVuSans-115\"/>\r\n     <use x=\"789.839844\" xlink:href=\"#DejaVuSans-112\"/>\r\n     <use x=\"853.316406\" xlink:href=\"#DejaVuSans-104\"/>\r\n     <use x=\"916.695312\" xlink:href=\"#DejaVuSans-111\"/>\r\n     <use x=\"977.876953\" xlink:href=\"#DejaVuSans-107\"/>\r\n     <use x=\"1035.787109\" xlink:href=\"#DejaVuSans-105\"/>\r\n     <use x=\"1063.570312\" xlink:href=\"#DejaVuSans-110\"/>\r\n     <use x=\"1126.949219\" xlink:href=\"#DejaVuSans-97\"/>\r\n     <use x=\"1188.228516\" xlink:href=\"#DejaVuSans-115\"/>\r\n     <use x=\"1240.328125\" xlink:href=\"#DejaVuSans-101\"/>\r\n     <use x=\"1301.851562\" xlink:href=\"#DejaVuSans-32\"/>\r\n     <use x=\"1333.638672\" xlink:href=\"#DejaVuSans-60\"/>\r\n     <use x=\"1417.427734\" xlink:href=\"#DejaVuSans-61\"/>\r\n     <use x=\"1501.216797\" xlink:href=\"#DejaVuSans-32\"/>\r\n     <use x=\"1533.003906\" xlink:href=\"#DejaVuSans-49\"/>\r\n     <use x=\"1596.626953\" xlink:href=\"#DejaVuSans-55\"/>\r\n     <use x=\"1660.25\" xlink:href=\"#DejaVuSans-53\"/>\r\n     <use x=\"1723.873047\" xlink:href=\"#DejaVuSans-53\"/>\r\n     <use x=\"1787.496094\" xlink:href=\"#DejaVuSans-46\"/>\r\n     <use x=\"1819.283203\" xlink:href=\"#DejaVuSans-53\"/>\r\n    </g>\r\n    <!-- gini = 0.133 -->\r\n    <g transform=\"translate(113.293601 148.265953)scale(0.01 -0.01)\">\r\n     <use xlink:href=\"#DejaVuSans-103\"/>\r\n     <use x=\"63.476562\" xlink:href=\"#DejaVuSans-105\"/>\r\n     <use x=\"91.259766\" xlink:href=\"#DejaVuSans-110\"/>\r\n     <use x=\"154.638672\" xlink:href=\"#DejaVuSans-105\"/>\r\n     <use x=\"182.421875\" xlink:href=\"#DejaVuSans-32\"/>\r\n     <use x=\"214.208984\" xlink:href=\"#DejaVuSans-61\"/>\r\n     <use x=\"297.998047\" xlink:href=\"#DejaVuSans-32\"/>\r\n     <use x=\"329.785156\" xlink:href=\"#DejaVuSans-48\"/>\r\n     <use x=\"393.408203\" xlink:href=\"#DejaVuSans-46\"/>\r\n     <use x=\"425.195312\" xlink:href=\"#DejaVuSans-49\"/>\r\n     <use x=\"488.818359\" xlink:href=\"#DejaVuSans-51\"/>\r\n     <use x=\"552.441406\" xlink:href=\"#DejaVuSans-51\"/>\r\n    </g>\r\n    <!-- samples = 14 -->\r\n    <g transform=\"translate(112.922507 149.385734)scale(0.01 -0.01)\">\r\n     <use xlink:href=\"#DejaVuSans-115\"/>\r\n     <use x=\"52.099609\" xlink:href=\"#DejaVuSans-97\"/>\r\n     <use x=\"113.378906\" xlink:href=\"#DejaVuSans-109\"/>\r\n     <use x=\"210.791016\" xlink:href=\"#DejaVuSans-112\"/>\r\n     <use x=\"274.267578\" xlink:href=\"#DejaVuSans-108\"/>\r\n     <use x=\"302.050781\" xlink:href=\"#DejaVuSans-101\"/>\r\n     <use x=\"363.574219\" xlink:href=\"#DejaVuSans-115\"/>\r\n     <use x=\"415.673828\" xlink:href=\"#DejaVuSans-32\"/>\r\n     <use x=\"447.460938\" xlink:href=\"#DejaVuSans-61\"/>\r\n     <use x=\"531.25\" xlink:href=\"#DejaVuSans-32\"/>\r\n     <use x=\"563.037109\" xlink:href=\"#DejaVuSans-49\"/>\r\n     <use x=\"626.660156\" xlink:href=\"#DejaVuSans-52\"/>\r\n    </g>\r\n    <!-- value = [1, 13] -->\r\n    <g transform=\"translate(112.608991 150.505516)scale(0.01 -0.01)\">\r\n     <use xlink:href=\"#DejaVuSans-118\"/>\r\n     <use x=\"59.179688\" xlink:href=\"#DejaVuSans-97\"/>\r\n     <use x=\"120.458984\" xlink:href=\"#DejaVuSans-108\"/>\r\n     <use x=\"148.242188\" xlink:href=\"#DejaVuSans-117\"/>\r\n     <use x=\"211.621094\" xlink:href=\"#DejaVuSans-101\"/>\r\n     <use x=\"273.144531\" xlink:href=\"#DejaVuSans-32\"/>\r\n     <use x=\"304.931641\" xlink:href=\"#DejaVuSans-61\"/>\r\n     <use x=\"388.720703\" xlink:href=\"#DejaVuSans-32\"/>\r\n     <use x=\"420.507812\" xlink:href=\"#DejaVuSans-91\"/>\r\n     <use x=\"459.521484\" xlink:href=\"#DejaVuSans-49\"/>\r\n     <use x=\"523.144531\" xlink:href=\"#DejaVuSans-44\"/>\r\n     <use x=\"554.931641\" xlink:href=\"#DejaVuSans-32\"/>\r\n     <use x=\"586.71875\" xlink:href=\"#DejaVuSans-49\"/>\r\n     <use x=\"650.341797\" xlink:href=\"#DejaVuSans-51\"/>\r\n     <use x=\"713.964844\" xlink:href=\"#DejaVuSans-93\"/>\r\n    </g>\r\n   </g>\r\n   <g id=\"patch_54\">\r\n    <path d=\"M 147.50146 142.517617 \r\nQ 149.638341 136.133628 152.130103 128.689422 \r\n\" style=\"fill:none;stroke:#000000;stroke-linecap:round;\"/>\r\n    <path d=\"M 147.818083 142.201785 \r\nL 147.50146 142.517617 \r\nL 147.438769 142.074819 \r\n\" style=\"fill:none;stroke:#000000;stroke-linecap:round;\"/>\r\n   </g>\r\n   <g id=\"text_27\">\r\n    <g id=\"patch_55\">\r\n     <path d=\"M 141.37016 151.099578 \r\nL 149.603753 151.099578 \r\nL 149.603753 145.972422 \r\nL 141.37016 145.972422 \r\nz\r\n\" style=\"fill:#ffffff;stroke:#000000;stroke-linejoin:miter;\"/>\r\n    </g>\r\n    <!-- time &lt;= 210.5 -->\r\n    <g transform=\"translate(141.77016 147.132266)scale(0.01 -0.01)\">\r\n     <use xlink:href=\"#DejaVuSans-116\"/>\r\n     <use x=\"39.208984\" xlink:href=\"#DejaVuSans-105\"/>\r\n     <use x=\"66.992188\" xlink:href=\"#DejaVuSans-109\"/>\r\n     <use x=\"164.404297\" xlink:href=\"#DejaVuSans-101\"/>\r\n     <use x=\"225.927734\" xlink:href=\"#DejaVuSans-32\"/>\r\n     <use x=\"257.714844\" xlink:href=\"#DejaVuSans-60\"/>\r\n     <use x=\"341.503906\" xlink:href=\"#DejaVuSans-61\"/>\r\n     <use x=\"425.292969\" xlink:href=\"#DejaVuSans-32\"/>\r\n     <use x=\"457.080078\" xlink:href=\"#DejaVuSans-50\"/>\r\n     <use x=\"520.703125\" xlink:href=\"#DejaVuSans-49\"/>\r\n     <use x=\"584.326172\" xlink:href=\"#DejaVuSans-48\"/>\r\n     <use x=\"647.949219\" xlink:href=\"#DejaVuSans-46\"/>\r\n     <use x=\"679.736328\" xlink:href=\"#DejaVuSans-53\"/>\r\n    </g>\r\n    <!-- gini = 0.444 -->\r\n    <g transform=\"translate(142.406644 148.252047)scale(0.01 -0.01)\">\r\n     <use xlink:href=\"#DejaVuSans-103\"/>\r\n     <use x=\"63.476562\" xlink:href=\"#DejaVuSans-105\"/>\r\n     <use x=\"91.259766\" xlink:href=\"#DejaVuSans-110\"/>\r\n     <use x=\"154.638672\" xlink:href=\"#DejaVuSans-105\"/>\r\n     <use x=\"182.421875\" xlink:href=\"#DejaVuSans-32\"/>\r\n     <use x=\"214.208984\" xlink:href=\"#DejaVuSans-61\"/>\r\n     <use x=\"297.998047\" xlink:href=\"#DejaVuSans-32\"/>\r\n     <use x=\"329.785156\" xlink:href=\"#DejaVuSans-48\"/>\r\n     <use x=\"393.408203\" xlink:href=\"#DejaVuSans-46\"/>\r\n     <use x=\"425.195312\" xlink:href=\"#DejaVuSans-52\"/>\r\n     <use x=\"488.818359\" xlink:href=\"#DejaVuSans-52\"/>\r\n     <use x=\"552.441406\" xlink:href=\"#DejaVuSans-52\"/>\r\n    </g>\r\n    <!-- samples = 6 -->\r\n    <g transform=\"translate(142.353675 149.371828)scale(0.01 -0.01)\">\r\n     <use xlink:href=\"#DejaVuSans-115\"/>\r\n     <use x=\"52.099609\" xlink:href=\"#DejaVuSans-97\"/>\r\n     <use x=\"113.378906\" xlink:href=\"#DejaVuSans-109\"/>\r\n     <use x=\"210.791016\" xlink:href=\"#DejaVuSans-112\"/>\r\n     <use x=\"274.267578\" xlink:href=\"#DejaVuSans-108\"/>\r\n     <use x=\"302.050781\" xlink:href=\"#DejaVuSans-101\"/>\r\n     <use x=\"363.574219\" xlink:href=\"#DejaVuSans-115\"/>\r\n     <use x=\"415.673828\" xlink:href=\"#DejaVuSans-32\"/>\r\n     <use x=\"447.460938\" xlink:href=\"#DejaVuSans-61\"/>\r\n     <use x=\"531.25\" xlink:href=\"#DejaVuSans-32\"/>\r\n     <use x=\"563.037109\" xlink:href=\"#DejaVuSans-54\"/>\r\n    </g>\r\n    <!-- value = [4, 2] -->\r\n    <g transform=\"translate(142.04016 150.491609)scale(0.01 -0.01)\">\r\n     <use xlink:href=\"#DejaVuSans-118\"/>\r\n     <use x=\"59.179688\" xlink:href=\"#DejaVuSans-97\"/>\r\n     <use x=\"120.458984\" xlink:href=\"#DejaVuSans-108\"/>\r\n     <use x=\"148.242188\" xlink:href=\"#DejaVuSans-117\"/>\r\n     <use x=\"211.621094\" xlink:href=\"#DejaVuSans-101\"/>\r\n     <use x=\"273.144531\" xlink:href=\"#DejaVuSans-32\"/>\r\n     <use x=\"304.931641\" xlink:href=\"#DejaVuSans-61\"/>\r\n     <use x=\"388.720703\" xlink:href=\"#DejaVuSans-32\"/>\r\n     <use x=\"420.507812\" xlink:href=\"#DejaVuSans-91\"/>\r\n     <use x=\"459.521484\" xlink:href=\"#DejaVuSans-52\"/>\r\n     <use x=\"523.144531\" xlink:href=\"#DejaVuSans-44\"/>\r\n     <use x=\"554.931641\" xlink:href=\"#DejaVuSans-32\"/>\r\n     <use x=\"586.71875\" xlink:href=\"#DejaVuSans-50\"/>\r\n     <use x=\"650.341797\" xlink:href=\"#DejaVuSans-93\"/>\r\n    </g>\r\n   </g>\r\n   <g id=\"patch_56\">\r\n    <path d=\"M 158.217113 143.079685 \r\nQ 155.985455 136.412547 153.398916 128.685191 \r\n\" style=\"fill:none;stroke:#000000;stroke-linecap:round;\"/>\r\n    <path d=\"M 158.279804 142.636887 \r\nL 158.217113 143.079685 \r\nL 157.90049 142.763854 \r\n\" style=\"fill:none;stroke:#000000;stroke-linecap:round;\"/>\r\n   </g>\r\n   <g id=\"text_28\">\r\n    <g id=\"patch_57\">\r\n     <path d=\"M 156.196681 150.539687 \r\nL 163.890275 150.539687 \r\nL 163.890275 146.532312 \r\nL 156.196681 146.532312 \r\nz\r\n\" style=\"fill:#ffffff;stroke:#000000;stroke-linejoin:miter;\"/>\r\n    </g>\r\n    <!-- gini = 0.0 -->\r\n    <g transform=\"translate(157.599416 147.692156)scale(0.01 -0.01)\">\r\n     <use xlink:href=\"#DejaVuSans-103\"/>\r\n     <use x=\"63.476562\" xlink:href=\"#DejaVuSans-105\"/>\r\n     <use x=\"91.259766\" xlink:href=\"#DejaVuSans-110\"/>\r\n     <use x=\"154.638672\" xlink:href=\"#DejaVuSans-105\"/>\r\n     <use x=\"182.421875\" xlink:href=\"#DejaVuSans-32\"/>\r\n     <use x=\"214.208984\" xlink:href=\"#DejaVuSans-61\"/>\r\n     <use x=\"297.998047\" xlink:href=\"#DejaVuSans-32\"/>\r\n     <use x=\"329.785156\" xlink:href=\"#DejaVuSans-48\"/>\r\n     <use x=\"393.408203\" xlink:href=\"#DejaVuSans-46\"/>\r\n     <use x=\"425.195312\" xlink:href=\"#DejaVuSans-48\"/>\r\n    </g>\r\n    <!-- samples = 3 -->\r\n    <g transform=\"translate(156.910197 148.811937)scale(0.01 -0.01)\">\r\n     <use xlink:href=\"#DejaVuSans-115\"/>\r\n     <use x=\"52.099609\" xlink:href=\"#DejaVuSans-97\"/>\r\n     <use x=\"113.378906\" xlink:href=\"#DejaVuSans-109\"/>\r\n     <use x=\"210.791016\" xlink:href=\"#DejaVuSans-112\"/>\r\n     <use x=\"274.267578\" xlink:href=\"#DejaVuSans-108\"/>\r\n     <use x=\"302.050781\" xlink:href=\"#DejaVuSans-101\"/>\r\n     <use x=\"363.574219\" xlink:href=\"#DejaVuSans-115\"/>\r\n     <use x=\"415.673828\" xlink:href=\"#DejaVuSans-32\"/>\r\n     <use x=\"447.460938\" xlink:href=\"#DejaVuSans-61\"/>\r\n     <use x=\"531.25\" xlink:href=\"#DejaVuSans-32\"/>\r\n     <use x=\"563.037109\" xlink:href=\"#DejaVuSans-51\"/>\r\n    </g>\r\n    <!-- value = [0, 3] -->\r\n    <g transform=\"translate(156.596681 149.931719)scale(0.01 -0.01)\">\r\n     <use xlink:href=\"#DejaVuSans-118\"/>\r\n     <use x=\"59.179688\" xlink:href=\"#DejaVuSans-97\"/>\r\n     <use x=\"120.458984\" xlink:href=\"#DejaVuSans-108\"/>\r\n     <use x=\"148.242188\" xlink:href=\"#DejaVuSans-117\"/>\r\n     <use x=\"211.621094\" xlink:href=\"#DejaVuSans-101\"/>\r\n     <use x=\"273.144531\" xlink:href=\"#DejaVuSans-32\"/>\r\n     <use x=\"304.931641\" xlink:href=\"#DejaVuSans-61\"/>\r\n     <use x=\"388.720703\" xlink:href=\"#DejaVuSans-32\"/>\r\n     <use x=\"420.507812\" xlink:href=\"#DejaVuSans-91\"/>\r\n     <use x=\"459.521484\" xlink:href=\"#DejaVuSans-48\"/>\r\n     <use x=\"523.144531\" xlink:href=\"#DejaVuSans-44\"/>\r\n     <use x=\"554.931641\" xlink:href=\"#DejaVuSans-32\"/>\r\n     <use x=\"586.71875\" xlink:href=\"#DejaVuSans-51\"/>\r\n     <use x=\"650.341797\" xlink:href=\"#DejaVuSans-93\"/>\r\n    </g>\r\n   </g>\r\n   <g id=\"patch_58\">\r\n    <path d=\"M 176.426365 143.079685 \r\nQ 178.658023 136.412547 181.244562 128.685191 \r\n\" style=\"fill:none;stroke:#000000;stroke-linecap:round;\"/>\r\n    <path d=\"M 176.742989 142.763854 \r\nL 176.426365 143.079685 \r\nL 176.363674 142.636887 \r\n\" style=\"fill:none;stroke:#000000;stroke-linecap:round;\"/>\r\n   </g>\r\n   <g id=\"text_29\">\r\n    <g id=\"patch_59\">\r\n     <path d=\"M 170.753203 150.539687 \r\nL 178.446797 150.539687 \r\nL 178.446797 146.532312 \r\nL 170.753203 146.532312 \r\nz\r\n\" style=\"fill:#ffffff;stroke:#000000;stroke-linejoin:miter;\"/>\r\n    </g>\r\n    <!-- gini = 0.0 -->\r\n    <g transform=\"translate(172.155937 147.692156)scale(0.01 -0.01)\">\r\n     <use xlink:href=\"#DejaVuSans-103\"/>\r\n     <use x=\"63.476562\" xlink:href=\"#DejaVuSans-105\"/>\r\n     <use x=\"91.259766\" xlink:href=\"#DejaVuSans-110\"/>\r\n     <use x=\"154.638672\" xlink:href=\"#DejaVuSans-105\"/>\r\n     <use x=\"182.421875\" xlink:href=\"#DejaVuSans-32\"/>\r\n     <use x=\"214.208984\" xlink:href=\"#DejaVuSans-61\"/>\r\n     <use x=\"297.998047\" xlink:href=\"#DejaVuSans-32\"/>\r\n     <use x=\"329.785156\" xlink:href=\"#DejaVuSans-48\"/>\r\n     <use x=\"393.408203\" xlink:href=\"#DejaVuSans-46\"/>\r\n     <use x=\"425.195312\" xlink:href=\"#DejaVuSans-48\"/>\r\n    </g>\r\n    <!-- samples = 1 -->\r\n    <g transform=\"translate(171.466719 148.811937)scale(0.01 -0.01)\">\r\n     <use xlink:href=\"#DejaVuSans-115\"/>\r\n     <use x=\"52.099609\" xlink:href=\"#DejaVuSans-97\"/>\r\n     <use x=\"113.378906\" xlink:href=\"#DejaVuSans-109\"/>\r\n     <use x=\"210.791016\" xlink:href=\"#DejaVuSans-112\"/>\r\n     <use x=\"274.267578\" xlink:href=\"#DejaVuSans-108\"/>\r\n     <use x=\"302.050781\" xlink:href=\"#DejaVuSans-101\"/>\r\n     <use x=\"363.574219\" xlink:href=\"#DejaVuSans-115\"/>\r\n     <use x=\"415.673828\" xlink:href=\"#DejaVuSans-32\"/>\r\n     <use x=\"447.460938\" xlink:href=\"#DejaVuSans-61\"/>\r\n     <use x=\"531.25\" xlink:href=\"#DejaVuSans-32\"/>\r\n     <use x=\"563.037109\" xlink:href=\"#DejaVuSans-49\"/>\r\n    </g>\r\n    <!-- value = [0, 1] -->\r\n    <g transform=\"translate(171.153203 149.931719)scale(0.01 -0.01)\">\r\n     <use xlink:href=\"#DejaVuSans-118\"/>\r\n     <use x=\"59.179688\" xlink:href=\"#DejaVuSans-97\"/>\r\n     <use x=\"120.458984\" xlink:href=\"#DejaVuSans-108\"/>\r\n     <use x=\"148.242188\" xlink:href=\"#DejaVuSans-117\"/>\r\n     <use x=\"211.621094\" xlink:href=\"#DejaVuSans-101\"/>\r\n     <use x=\"273.144531\" xlink:href=\"#DejaVuSans-32\"/>\r\n     <use x=\"304.931641\" xlink:href=\"#DejaVuSans-61\"/>\r\n     <use x=\"388.720703\" xlink:href=\"#DejaVuSans-32\"/>\r\n     <use x=\"420.507812\" xlink:href=\"#DejaVuSans-91\"/>\r\n     <use x=\"459.521484\" xlink:href=\"#DejaVuSans-48\"/>\r\n     <use x=\"523.144531\" xlink:href=\"#DejaVuSans-44\"/>\r\n     <use x=\"554.931641\" xlink:href=\"#DejaVuSans-32\"/>\r\n     <use x=\"586.71875\" xlink:href=\"#DejaVuSans-49\"/>\r\n     <use x=\"650.341797\" xlink:href=\"#DejaVuSans-93\"/>\r\n    </g>\r\n   </g>\r\n   <g id=\"patch_60\">\r\n    <path d=\"M 187.330157 143.079685 \r\nQ 185.098499 136.412547 182.511959 128.685191 \r\n\" style=\"fill:none;stroke:#000000;stroke-linecap:round;\"/>\r\n    <path d=\"M 187.392848 142.636887 \r\nL 187.330157 143.079685 \r\nL 187.013533 142.763854 \r\n\" style=\"fill:none;stroke:#000000;stroke-linecap:round;\"/>\r\n   </g>\r\n   <g id=\"text_30\">\r\n    <g id=\"patch_61\">\r\n     <path d=\"M 185.309725 150.539687 \r\nL 193.003319 150.539687 \r\nL 193.003319 146.532312 \r\nL 185.309725 146.532312 \r\nz\r\n\" style=\"fill:#ffffff;stroke:#000000;stroke-linejoin:miter;\"/>\r\n    </g>\r\n    <!-- gini = 0.0 -->\r\n    <g transform=\"translate(186.712459 147.692156)scale(0.01 -0.01)\">\r\n     <use xlink:href=\"#DejaVuSans-103\"/>\r\n     <use x=\"63.476562\" xlink:href=\"#DejaVuSans-105\"/>\r\n     <use x=\"91.259766\" xlink:href=\"#DejaVuSans-110\"/>\r\n     <use x=\"154.638672\" xlink:href=\"#DejaVuSans-105\"/>\r\n     <use x=\"182.421875\" xlink:href=\"#DejaVuSans-32\"/>\r\n     <use x=\"214.208984\" xlink:href=\"#DejaVuSans-61\"/>\r\n     <use x=\"297.998047\" xlink:href=\"#DejaVuSans-32\"/>\r\n     <use x=\"329.785156\" xlink:href=\"#DejaVuSans-48\"/>\r\n     <use x=\"393.408203\" xlink:href=\"#DejaVuSans-46\"/>\r\n     <use x=\"425.195312\" xlink:href=\"#DejaVuSans-48\"/>\r\n    </g>\r\n    <!-- samples = 2 -->\r\n    <g transform=\"translate(186.02324 148.811937)scale(0.01 -0.01)\">\r\n     <use xlink:href=\"#DejaVuSans-115\"/>\r\n     <use x=\"52.099609\" xlink:href=\"#DejaVuSans-97\"/>\r\n     <use x=\"113.378906\" xlink:href=\"#DejaVuSans-109\"/>\r\n     <use x=\"210.791016\" xlink:href=\"#DejaVuSans-112\"/>\r\n     <use x=\"274.267578\" xlink:href=\"#DejaVuSans-108\"/>\r\n     <use x=\"302.050781\" xlink:href=\"#DejaVuSans-101\"/>\r\n     <use x=\"363.574219\" xlink:href=\"#DejaVuSans-115\"/>\r\n     <use x=\"415.673828\" xlink:href=\"#DejaVuSans-32\"/>\r\n     <use x=\"447.460938\" xlink:href=\"#DejaVuSans-61\"/>\r\n     <use x=\"531.25\" xlink:href=\"#DejaVuSans-32\"/>\r\n     <use x=\"563.037109\" xlink:href=\"#DejaVuSans-50\"/>\r\n    </g>\r\n    <!-- value = [2, 0] -->\r\n    <g transform=\"translate(185.709725 149.931719)scale(0.01 -0.01)\">\r\n     <use xlink:href=\"#DejaVuSans-118\"/>\r\n     <use x=\"59.179688\" xlink:href=\"#DejaVuSans-97\"/>\r\n     <use x=\"120.458984\" xlink:href=\"#DejaVuSans-108\"/>\r\n     <use x=\"148.242188\" xlink:href=\"#DejaVuSans-117\"/>\r\n     <use x=\"211.621094\" xlink:href=\"#DejaVuSans-101\"/>\r\n     <use x=\"273.144531\" xlink:href=\"#DejaVuSans-32\"/>\r\n     <use x=\"304.931641\" xlink:href=\"#DejaVuSans-61\"/>\r\n     <use x=\"388.720703\" xlink:href=\"#DejaVuSans-32\"/>\r\n     <use x=\"420.507812\" xlink:href=\"#DejaVuSans-91\"/>\r\n     <use x=\"459.521484\" xlink:href=\"#DejaVuSans-50\"/>\r\n     <use x=\"523.144531\" xlink:href=\"#DejaVuSans-44\"/>\r\n     <use x=\"554.931641\" xlink:href=\"#DejaVuSans-32\"/>\r\n     <use x=\"586.71875\" xlink:href=\"#DejaVuSans-48\"/>\r\n     <use x=\"650.341797\" xlink:href=\"#DejaVuSans-93\"/>\r\n    </g>\r\n   </g>\r\n   <g id=\"patch_62\">\r\n    <path d=\"M 207.500086 142.879055 \r\nQ 212.016231 136.133003 217.154339 128.457885 \r\n\" style=\"fill:none;stroke:#000000;stroke-linecap:round;\"/>\r\n    <path d=\"M 207.888802 142.657923 \r\nL 207.500086 142.879055 \r\nL 207.55641 142.435402 \r\n\" style=\"fill:none;stroke:#000000;stroke-linecap:round;\"/>\r\n   </g>\r\n   <g id=\"text_31\">\r\n    <g id=\"patch_63\">\r\n     <path d=\"M 199.866247 151.099578 \r\nL 207.55984 151.099578 \r\nL 207.55984 145.972422 \r\nL 199.866247 145.972422 \r\nz\r\n\" style=\"fill:#ffffff;stroke:#000000;stroke-linejoin:miter;\"/>\r\n    </g>\r\n    <!-- sex &lt;= 0.5 -->\r\n    <defs>\r\n     <path d=\"M 54.890625 54.6875 \r\nL 35.109375 28.078125 \r\nL 55.90625 0 \r\nL 45.3125 0 \r\nL 29.390625 21.484375 \r\nL 13.484375 0 \r\nL 2.875 0 \r\nL 24.125 28.609375 \r\nL 4.6875 54.6875 \r\nL 15.28125 54.6875 \r\nL 29.78125 35.203125 \r\nL 44.28125 54.6875 \r\nz\r\n\" id=\"DejaVuSans-120\"/>\r\n    </defs>\r\n    <g transform=\"translate(200.906793 147.132266)scale(0.01 -0.01)\">\r\n     <use xlink:href=\"#DejaVuSans-115\"/>\r\n     <use x=\"52.099609\" xlink:href=\"#DejaVuSans-101\"/>\r\n     <use x=\"111.873047\" xlink:href=\"#DejaVuSans-120\"/>\r\n     <use x=\"171.052734\" xlink:href=\"#DejaVuSans-32\"/>\r\n     <use x=\"202.839844\" xlink:href=\"#DejaVuSans-60\"/>\r\n     <use x=\"286.628906\" xlink:href=\"#DejaVuSans-61\"/>\r\n     <use x=\"370.417969\" xlink:href=\"#DejaVuSans-32\"/>\r\n     <use x=\"402.205078\" xlink:href=\"#DejaVuSans-48\"/>\r\n     <use x=\"465.828125\" xlink:href=\"#DejaVuSans-46\"/>\r\n     <use x=\"497.615234\" xlink:href=\"#DejaVuSans-53\"/>\r\n    </g>\r\n    <!-- gini = 0.444 -->\r\n    <g transform=\"translate(200.632731 148.252047)scale(0.01 -0.01)\">\r\n     <use xlink:href=\"#DejaVuSans-103\"/>\r\n     <use x=\"63.476562\" xlink:href=\"#DejaVuSans-105\"/>\r\n     <use x=\"91.259766\" xlink:href=\"#DejaVuSans-110\"/>\r\n     <use x=\"154.638672\" xlink:href=\"#DejaVuSans-105\"/>\r\n     <use x=\"182.421875\" xlink:href=\"#DejaVuSans-32\"/>\r\n     <use x=\"214.208984\" xlink:href=\"#DejaVuSans-61\"/>\r\n     <use x=\"297.998047\" xlink:href=\"#DejaVuSans-32\"/>\r\n     <use x=\"329.785156\" xlink:href=\"#DejaVuSans-48\"/>\r\n     <use x=\"393.408203\" xlink:href=\"#DejaVuSans-46\"/>\r\n     <use x=\"425.195312\" xlink:href=\"#DejaVuSans-52\"/>\r\n     <use x=\"488.818359\" xlink:href=\"#DejaVuSans-52\"/>\r\n     <use x=\"552.441406\" xlink:href=\"#DejaVuSans-52\"/>\r\n    </g>\r\n    <!-- samples = 3 -->\r\n    <g transform=\"translate(200.579762 149.371828)scale(0.01 -0.01)\">\r\n     <use xlink:href=\"#DejaVuSans-115\"/>\r\n     <use x=\"52.099609\" xlink:href=\"#DejaVuSans-97\"/>\r\n     <use x=\"113.378906\" xlink:href=\"#DejaVuSans-109\"/>\r\n     <use x=\"210.791016\" xlink:href=\"#DejaVuSans-112\"/>\r\n     <use x=\"274.267578\" xlink:href=\"#DejaVuSans-108\"/>\r\n     <use x=\"302.050781\" xlink:href=\"#DejaVuSans-101\"/>\r\n     <use x=\"363.574219\" xlink:href=\"#DejaVuSans-115\"/>\r\n     <use x=\"415.673828\" xlink:href=\"#DejaVuSans-32\"/>\r\n     <use x=\"447.460938\" xlink:href=\"#DejaVuSans-61\"/>\r\n     <use x=\"531.25\" xlink:href=\"#DejaVuSans-32\"/>\r\n     <use x=\"563.037109\" xlink:href=\"#DejaVuSans-51\"/>\r\n    </g>\r\n    <!-- value = [2, 1] -->\r\n    <g transform=\"translate(200.266247 150.491609)scale(0.01 -0.01)\">\r\n     <use xlink:href=\"#DejaVuSans-118\"/>\r\n     <use x=\"59.179688\" xlink:href=\"#DejaVuSans-97\"/>\r\n     <use x=\"120.458984\" xlink:href=\"#DejaVuSans-108\"/>\r\n     <use x=\"148.242188\" xlink:href=\"#DejaVuSans-117\"/>\r\n     <use x=\"211.621094\" xlink:href=\"#DejaVuSans-101\"/>\r\n     <use x=\"273.144531\" xlink:href=\"#DejaVuSans-32\"/>\r\n     <use x=\"304.931641\" xlink:href=\"#DejaVuSans-61\"/>\r\n     <use x=\"388.720703\" xlink:href=\"#DejaVuSans-32\"/>\r\n     <use x=\"420.507812\" xlink:href=\"#DejaVuSans-91\"/>\r\n     <use x=\"459.521484\" xlink:href=\"#DejaVuSans-50\"/>\r\n     <use x=\"523.144531\" xlink:href=\"#DejaVuSans-44\"/>\r\n     <use x=\"554.931641\" xlink:href=\"#DejaVuSans-32\"/>\r\n     <use x=\"586.71875\" xlink:href=\"#DejaVuSans-49\"/>\r\n     <use x=\"650.341797\" xlink:href=\"#DejaVuSans-93\"/>\r\n    </g>\r\n   </g>\r\n   <g id=\"patch_64\">\r\n    <path d=\"M 229.013335 142.840651 \r\nQ 224.508786 136.11192 219.382275 128.454125 \r\n\" style=\"fill:none;stroke:#000000;stroke-linecap:round;\"/>\r\n    <path d=\"M 228.957011 142.396998 \r\nL 229.013335 142.840651 \r\nL 228.624619 142.619518 \r\n\" style=\"fill:none;stroke:#000000;stroke-linecap:round;\"/>\r\n   </g>\r\n   <g id=\"text_32\">\r\n    <g id=\"patch_65\">\r\n     <path d=\"M 225.830931 151.113484 \r\nL 239.821243 151.113484 \r\nL 239.821243 145.930703 \r\nL 225.830931 145.930703 \r\nz\r\n\" style=\"fill:#ffffff;stroke:#000000;stroke-linejoin:miter;\"/>\r\n    </g>\r\n    <!-- serum_creatinine &lt;= 1.25 -->\r\n    <g transform=\"translate(226.230931 147.118359)scale(0.01 -0.01)\">\r\n     <use xlink:href=\"#DejaVuSans-115\"/>\r\n     <use x=\"52.099609\" xlink:href=\"#DejaVuSans-101\"/>\r\n     <use x=\"113.623047\" xlink:href=\"#DejaVuSans-114\"/>\r\n     <use x=\"154.736328\" xlink:href=\"#DejaVuSans-117\"/>\r\n     <use x=\"218.115234\" xlink:href=\"#DejaVuSans-109\"/>\r\n     <use x=\"315.527344\" xlink:href=\"#DejaVuSans-95\"/>\r\n     <use x=\"365.527344\" xlink:href=\"#DejaVuSans-99\"/>\r\n     <use x=\"420.507812\" xlink:href=\"#DejaVuSans-114\"/>\r\n     <use x=\"459.371094\" xlink:href=\"#DejaVuSans-101\"/>\r\n     <use x=\"520.894531\" xlink:href=\"#DejaVuSans-97\"/>\r\n     <use x=\"582.173828\" xlink:href=\"#DejaVuSans-116\"/>\r\n     <use x=\"621.382812\" xlink:href=\"#DejaVuSans-105\"/>\r\n     <use x=\"649.166016\" xlink:href=\"#DejaVuSans-110\"/>\r\n     <use x=\"712.544922\" xlink:href=\"#DejaVuSans-105\"/>\r\n     <use x=\"740.328125\" xlink:href=\"#DejaVuSans-110\"/>\r\n     <use x=\"803.707031\" xlink:href=\"#DejaVuSans-101\"/>\r\n     <use x=\"865.230469\" xlink:href=\"#DejaVuSans-32\"/>\r\n     <use x=\"897.017578\" xlink:href=\"#DejaVuSans-60\"/>\r\n     <use x=\"980.806641\" xlink:href=\"#DejaVuSans-61\"/>\r\n     <use x=\"1064.595703\" xlink:href=\"#DejaVuSans-32\"/>\r\n     <use x=\"1096.382812\" xlink:href=\"#DejaVuSans-49\"/>\r\n     <use x=\"1160.005859\" xlink:href=\"#DejaVuSans-46\"/>\r\n     <use x=\"1191.792969\" xlink:href=\"#DejaVuSans-50\"/>\r\n     <use x=\"1255.416016\" xlink:href=\"#DejaVuSans-53\"/>\r\n    </g>\r\n    <!-- gini = 0.017 -->\r\n    <g transform=\"translate(229.745774 148.265953)scale(0.01 -0.01)\">\r\n     <use xlink:href=\"#DejaVuSans-103\"/>\r\n     <use x=\"63.476562\" xlink:href=\"#DejaVuSans-105\"/>\r\n     <use x=\"91.259766\" xlink:href=\"#DejaVuSans-110\"/>\r\n     <use x=\"154.638672\" xlink:href=\"#DejaVuSans-105\"/>\r\n     <use x=\"182.421875\" xlink:href=\"#DejaVuSans-32\"/>\r\n     <use x=\"214.208984\" xlink:href=\"#DejaVuSans-61\"/>\r\n     <use x=\"297.998047\" xlink:href=\"#DejaVuSans-32\"/>\r\n     <use x=\"329.785156\" xlink:href=\"#DejaVuSans-48\"/>\r\n     <use x=\"393.408203\" xlink:href=\"#DejaVuSans-46\"/>\r\n     <use x=\"425.195312\" xlink:href=\"#DejaVuSans-48\"/>\r\n     <use x=\"488.818359\" xlink:href=\"#DejaVuSans-49\"/>\r\n     <use x=\"552.441406\" xlink:href=\"#DejaVuSans-55\"/>\r\n    </g>\r\n    <!-- samples = 116 -->\r\n    <g transform=\"translate(229.056556 149.385734)scale(0.01 -0.01)\">\r\n     <use xlink:href=\"#DejaVuSans-115\"/>\r\n     <use x=\"52.099609\" xlink:href=\"#DejaVuSans-97\"/>\r\n     <use x=\"113.378906\" xlink:href=\"#DejaVuSans-109\"/>\r\n     <use x=\"210.791016\" xlink:href=\"#DejaVuSans-112\"/>\r\n     <use x=\"274.267578\" xlink:href=\"#DejaVuSans-108\"/>\r\n     <use x=\"302.050781\" xlink:href=\"#DejaVuSans-101\"/>\r\n     <use x=\"363.574219\" xlink:href=\"#DejaVuSans-115\"/>\r\n     <use x=\"415.673828\" xlink:href=\"#DejaVuSans-32\"/>\r\n     <use x=\"447.460938\" xlink:href=\"#DejaVuSans-61\"/>\r\n     <use x=\"531.25\" xlink:href=\"#DejaVuSans-32\"/>\r\n     <use x=\"563.037109\" xlink:href=\"#DejaVuSans-49\"/>\r\n     <use x=\"626.660156\" xlink:href=\"#DejaVuSans-49\"/>\r\n     <use x=\"690.283203\" xlink:href=\"#DejaVuSans-54\"/>\r\n    </g>\r\n    <!-- value = [115, 1] -->\r\n    <g transform=\"translate(228.74304 150.505516)scale(0.01 -0.01)\">\r\n     <use xlink:href=\"#DejaVuSans-118\"/>\r\n     <use x=\"59.179688\" xlink:href=\"#DejaVuSans-97\"/>\r\n     <use x=\"120.458984\" xlink:href=\"#DejaVuSans-108\"/>\r\n     <use x=\"148.242188\" xlink:href=\"#DejaVuSans-117\"/>\r\n     <use x=\"211.621094\" xlink:href=\"#DejaVuSans-101\"/>\r\n     <use x=\"273.144531\" xlink:href=\"#DejaVuSans-32\"/>\r\n     <use x=\"304.931641\" xlink:href=\"#DejaVuSans-61\"/>\r\n     <use x=\"388.720703\" xlink:href=\"#DejaVuSans-32\"/>\r\n     <use x=\"420.507812\" xlink:href=\"#DejaVuSans-91\"/>\r\n     <use x=\"459.521484\" xlink:href=\"#DejaVuSans-49\"/>\r\n     <use x=\"523.144531\" xlink:href=\"#DejaVuSans-49\"/>\r\n     <use x=\"586.767578\" xlink:href=\"#DejaVuSans-53\"/>\r\n     <use x=\"650.390625\" xlink:href=\"#DejaVuSans-44\"/>\r\n     <use x=\"682.177734\" xlink:href=\"#DejaVuSans-32\"/>\r\n     <use x=\"713.964844\" xlink:href=\"#DejaVuSans-49\"/>\r\n     <use x=\"777.587891\" xlink:href=\"#DejaVuSans-93\"/>\r\n    </g>\r\n   </g>\r\n   <g id=\"patch_66\">\r\n    <path d=\"M 271.043756 143.079685 \r\nQ 273.275414 136.412547 275.861954 128.685191 \r\n\" style=\"fill:none;stroke:#000000;stroke-linecap:round;\"/>\r\n    <path d=\"M 271.36038 142.763854 \r\nL 271.043756 143.079685 \r\nL 270.981065 142.636887 \r\n\" style=\"fill:none;stroke:#000000;stroke-linecap:round;\"/>\r\n   </g>\r\n   <g id=\"text_33\">\r\n    <g id=\"patch_67\">\r\n     <path d=\"M 265.370594 150.539687 \r\nL 273.064188 150.539687 \r\nL 273.064188 146.532312 \r\nL 265.370594 146.532312 \r\nz\r\n\" style=\"fill:#ffffff;stroke:#000000;stroke-linejoin:miter;\"/>\r\n    </g>\r\n    <!-- gini = 0.0 -->\r\n    <g transform=\"translate(266.773329 147.692156)scale(0.01 -0.01)\">\r\n     <use xlink:href=\"#DejaVuSans-103\"/>\r\n     <use x=\"63.476562\" xlink:href=\"#DejaVuSans-105\"/>\r\n     <use x=\"91.259766\" xlink:href=\"#DejaVuSans-110\"/>\r\n     <use x=\"154.638672\" xlink:href=\"#DejaVuSans-105\"/>\r\n     <use x=\"182.421875\" xlink:href=\"#DejaVuSans-32\"/>\r\n     <use x=\"214.208984\" xlink:href=\"#DejaVuSans-61\"/>\r\n     <use x=\"297.998047\" xlink:href=\"#DejaVuSans-32\"/>\r\n     <use x=\"329.785156\" xlink:href=\"#DejaVuSans-48\"/>\r\n     <use x=\"393.408203\" xlink:href=\"#DejaVuSans-46\"/>\r\n     <use x=\"425.195312\" xlink:href=\"#DejaVuSans-48\"/>\r\n    </g>\r\n    <!-- samples = 4 -->\r\n    <g transform=\"translate(266.08411 148.811937)scale(0.01 -0.01)\">\r\n     <use xlink:href=\"#DejaVuSans-115\"/>\r\n     <use x=\"52.099609\" xlink:href=\"#DejaVuSans-97\"/>\r\n     <use x=\"113.378906\" xlink:href=\"#DejaVuSans-109\"/>\r\n     <use x=\"210.791016\" xlink:href=\"#DejaVuSans-112\"/>\r\n     <use x=\"274.267578\" xlink:href=\"#DejaVuSans-108\"/>\r\n     <use x=\"302.050781\" xlink:href=\"#DejaVuSans-101\"/>\r\n     <use x=\"363.574219\" xlink:href=\"#DejaVuSans-115\"/>\r\n     <use x=\"415.673828\" xlink:href=\"#DejaVuSans-32\"/>\r\n     <use x=\"447.460938\" xlink:href=\"#DejaVuSans-61\"/>\r\n     <use x=\"531.25\" xlink:href=\"#DejaVuSans-32\"/>\r\n     <use x=\"563.037109\" xlink:href=\"#DejaVuSans-52\"/>\r\n    </g>\r\n    <!-- value = [0, 4] -->\r\n    <g transform=\"translate(265.770594 149.931719)scale(0.01 -0.01)\">\r\n     <use xlink:href=\"#DejaVuSans-118\"/>\r\n     <use x=\"59.179688\" xlink:href=\"#DejaVuSans-97\"/>\r\n     <use x=\"120.458984\" xlink:href=\"#DejaVuSans-108\"/>\r\n     <use x=\"148.242188\" xlink:href=\"#DejaVuSans-117\"/>\r\n     <use x=\"211.621094\" xlink:href=\"#DejaVuSans-101\"/>\r\n     <use x=\"273.144531\" xlink:href=\"#DejaVuSans-32\"/>\r\n     <use x=\"304.931641\" xlink:href=\"#DejaVuSans-61\"/>\r\n     <use x=\"388.720703\" xlink:href=\"#DejaVuSans-32\"/>\r\n     <use x=\"420.507812\" xlink:href=\"#DejaVuSans-91\"/>\r\n     <use x=\"459.521484\" xlink:href=\"#DejaVuSans-48\"/>\r\n     <use x=\"523.144531\" xlink:href=\"#DejaVuSans-44\"/>\r\n     <use x=\"554.931641\" xlink:href=\"#DejaVuSans-32\"/>\r\n     <use x=\"586.71875\" xlink:href=\"#DejaVuSans-52\"/>\r\n     <use x=\"650.341797\" xlink:href=\"#DejaVuSans-93\"/>\r\n    </g>\r\n   </g>\r\n   <g id=\"patch_68\">\r\n    <path d=\"M 281.75941 142.517617 \r\nQ 279.622529 136.133628 277.130767 128.689422 \r\n\" style=\"fill:none;stroke:#000000;stroke-linecap:round;\"/>\r\n    <path d=\"M 281.822101 142.074819 \r\nL 281.75941 142.517617 \r\nL 281.442786 142.201785 \r\n\" style=\"fill:none;stroke:#000000;stroke-linecap:round;\"/>\r\n   </g>\r\n   <g id=\"text_34\">\r\n    <g id=\"patch_69\">\r\n     <path d=\"M 277.662897 151.099578 \r\nL 289.884929 151.099578 \r\nL 289.884929 145.972422 \r\nL 277.662897 145.972422 \r\nz\r\n\" style=\"fill:#ffffff;stroke:#000000;stroke-linejoin:miter;\"/>\r\n    </g>\r\n    <!-- platelets &lt;= 321500.0 -->\r\n    <g transform=\"translate(278.062897 147.132266)scale(0.01 -0.01)\">\r\n     <use xlink:href=\"#DejaVuSans-112\"/>\r\n     <use x=\"63.476562\" xlink:href=\"#DejaVuSans-108\"/>\r\n     <use x=\"91.259766\" xlink:href=\"#DejaVuSans-97\"/>\r\n     <use x=\"152.539062\" xlink:href=\"#DejaVuSans-116\"/>\r\n     <use x=\"191.748047\" xlink:href=\"#DejaVuSans-101\"/>\r\n     <use x=\"253.271484\" xlink:href=\"#DejaVuSans-108\"/>\r\n     <use x=\"281.054688\" xlink:href=\"#DejaVuSans-101\"/>\r\n     <use x=\"342.578125\" xlink:href=\"#DejaVuSans-116\"/>\r\n     <use x=\"381.787109\" xlink:href=\"#DejaVuSans-115\"/>\r\n     <use x=\"433.886719\" xlink:href=\"#DejaVuSans-32\"/>\r\n     <use x=\"465.673828\" xlink:href=\"#DejaVuSans-60\"/>\r\n     <use x=\"549.462891\" xlink:href=\"#DejaVuSans-61\"/>\r\n     <use x=\"633.251953\" xlink:href=\"#DejaVuSans-32\"/>\r\n     <use x=\"665.039062\" xlink:href=\"#DejaVuSans-51\"/>\r\n     <use x=\"728.662109\" xlink:href=\"#DejaVuSans-50\"/>\r\n     <use x=\"792.285156\" xlink:href=\"#DejaVuSans-49\"/>\r\n     <use x=\"855.908203\" xlink:href=\"#DejaVuSans-53\"/>\r\n     <use x=\"919.53125\" xlink:href=\"#DejaVuSans-48\"/>\r\n     <use x=\"983.154297\" xlink:href=\"#DejaVuSans-48\"/>\r\n     <use x=\"1046.777344\" xlink:href=\"#DejaVuSans-46\"/>\r\n     <use x=\"1078.564453\" xlink:href=\"#DejaVuSans-48\"/>\r\n    </g>\r\n    <!-- gini = 0.5 -->\r\n    <g transform=\"translate(281.329851 148.252047)scale(0.01 -0.01)\">\r\n     <use xlink:href=\"#DejaVuSans-103\"/>\r\n     <use x=\"63.476562\" xlink:href=\"#DejaVuSans-105\"/>\r\n     <use x=\"91.259766\" xlink:href=\"#DejaVuSans-110\"/>\r\n     <use x=\"154.638672\" xlink:href=\"#DejaVuSans-105\"/>\r\n     <use x=\"182.421875\" xlink:href=\"#DejaVuSans-32\"/>\r\n     <use x=\"214.208984\" xlink:href=\"#DejaVuSans-61\"/>\r\n     <use x=\"297.998047\" xlink:href=\"#DejaVuSans-32\"/>\r\n     <use x=\"329.785156\" xlink:href=\"#DejaVuSans-48\"/>\r\n     <use x=\"393.408203\" xlink:href=\"#DejaVuSans-46\"/>\r\n     <use x=\"425.195312\" xlink:href=\"#DejaVuSans-53\"/>\r\n    </g>\r\n    <!-- samples = 8 -->\r\n    <g transform=\"translate(280.640632 149.371828)scale(0.01 -0.01)\">\r\n     <use xlink:href=\"#DejaVuSans-115\"/>\r\n     <use x=\"52.099609\" xlink:href=\"#DejaVuSans-97\"/>\r\n     <use x=\"113.378906\" xlink:href=\"#DejaVuSans-109\"/>\r\n     <use x=\"210.791016\" xlink:href=\"#DejaVuSans-112\"/>\r\n     <use x=\"274.267578\" xlink:href=\"#DejaVuSans-108\"/>\r\n     <use x=\"302.050781\" xlink:href=\"#DejaVuSans-101\"/>\r\n     <use x=\"363.574219\" xlink:href=\"#DejaVuSans-115\"/>\r\n     <use x=\"415.673828\" xlink:href=\"#DejaVuSans-32\"/>\r\n     <use x=\"447.460938\" xlink:href=\"#DejaVuSans-61\"/>\r\n     <use x=\"531.25\" xlink:href=\"#DejaVuSans-32\"/>\r\n     <use x=\"563.037109\" xlink:href=\"#DejaVuSans-56\"/>\r\n    </g>\r\n    <!-- value = [4, 4] -->\r\n    <g transform=\"translate(280.327116 150.491609)scale(0.01 -0.01)\">\r\n     <use xlink:href=\"#DejaVuSans-118\"/>\r\n     <use x=\"59.179688\" xlink:href=\"#DejaVuSans-97\"/>\r\n     <use x=\"120.458984\" xlink:href=\"#DejaVuSans-108\"/>\r\n     <use x=\"148.242188\" xlink:href=\"#DejaVuSans-117\"/>\r\n     <use x=\"211.621094\" xlink:href=\"#DejaVuSans-101\"/>\r\n     <use x=\"273.144531\" xlink:href=\"#DejaVuSans-32\"/>\r\n     <use x=\"304.931641\" xlink:href=\"#DejaVuSans-61\"/>\r\n     <use x=\"388.720703\" xlink:href=\"#DejaVuSans-32\"/>\r\n     <use x=\"420.507812\" xlink:href=\"#DejaVuSans-91\"/>\r\n     <use x=\"459.521484\" xlink:href=\"#DejaVuSans-52\"/>\r\n     <use x=\"523.144531\" xlink:href=\"#DejaVuSans-44\"/>\r\n     <use x=\"554.931641\" xlink:href=\"#DejaVuSans-32\"/>\r\n     <use x=\"586.71875\" xlink:href=\"#DejaVuSans-52\"/>\r\n     <use x=\"650.341797\" xlink:href=\"#DejaVuSans-93\"/>\r\n    </g>\r\n   </g>\r\n   <g id=\"patch_70\">\r\n    <path d=\"M 314.713322 143.079685 \r\nQ 316.94498 136.412547 319.531519 128.685191 \r\n\" style=\"fill:none;stroke:#000000;stroke-linecap:round;\"/>\r\n    <path d=\"M 315.029945 142.763854 \r\nL 314.713322 143.079685 \r\nL 314.65063 142.636887 \r\n\" style=\"fill:none;stroke:#000000;stroke-linecap:round;\"/>\r\n   </g>\r\n   <g id=\"text_35\">\r\n    <g id=\"patch_71\">\r\n     <path d=\"M 309.04016 150.539687 \r\nL 316.733753 150.539687 \r\nL 316.733753 146.532312 \r\nL 309.04016 146.532312 \r\nz\r\n\" style=\"fill:#ffffff;stroke:#000000;stroke-linejoin:miter;\"/>\r\n    </g>\r\n    <!-- gini = 0.0 -->\r\n    <g transform=\"translate(310.442894 147.692156)scale(0.01 -0.01)\">\r\n     <use xlink:href=\"#DejaVuSans-103\"/>\r\n     <use x=\"63.476562\" xlink:href=\"#DejaVuSans-105\"/>\r\n     <use x=\"91.259766\" xlink:href=\"#DejaVuSans-110\"/>\r\n     <use x=\"154.638672\" xlink:href=\"#DejaVuSans-105\"/>\r\n     <use x=\"182.421875\" xlink:href=\"#DejaVuSans-32\"/>\r\n     <use x=\"214.208984\" xlink:href=\"#DejaVuSans-61\"/>\r\n     <use x=\"297.998047\" xlink:href=\"#DejaVuSans-32\"/>\r\n     <use x=\"329.785156\" xlink:href=\"#DejaVuSans-48\"/>\r\n     <use x=\"393.408203\" xlink:href=\"#DejaVuSans-46\"/>\r\n     <use x=\"425.195312\" xlink:href=\"#DejaVuSans-48\"/>\r\n    </g>\r\n    <!-- samples = 2 -->\r\n    <g transform=\"translate(309.753675 148.811937)scale(0.01 -0.01)\">\r\n     <use xlink:href=\"#DejaVuSans-115\"/>\r\n     <use x=\"52.099609\" xlink:href=\"#DejaVuSans-97\"/>\r\n     <use x=\"113.378906\" xlink:href=\"#DejaVuSans-109\"/>\r\n     <use x=\"210.791016\" xlink:href=\"#DejaVuSans-112\"/>\r\n     <use x=\"274.267578\" xlink:href=\"#DejaVuSans-108\"/>\r\n     <use x=\"302.050781\" xlink:href=\"#DejaVuSans-101\"/>\r\n     <use x=\"363.574219\" xlink:href=\"#DejaVuSans-115\"/>\r\n     <use x=\"415.673828\" xlink:href=\"#DejaVuSans-32\"/>\r\n     <use x=\"447.460938\" xlink:href=\"#DejaVuSans-61\"/>\r\n     <use x=\"531.25\" xlink:href=\"#DejaVuSans-32\"/>\r\n     <use x=\"563.037109\" xlink:href=\"#DejaVuSans-50\"/>\r\n    </g>\r\n    <!-- value = [2, 0] -->\r\n    <g transform=\"translate(309.44016 149.931719)scale(0.01 -0.01)\">\r\n     <use xlink:href=\"#DejaVuSans-118\"/>\r\n     <use x=\"59.179688\" xlink:href=\"#DejaVuSans-97\"/>\r\n     <use x=\"120.458984\" xlink:href=\"#DejaVuSans-108\"/>\r\n     <use x=\"148.242188\" xlink:href=\"#DejaVuSans-117\"/>\r\n     <use x=\"211.621094\" xlink:href=\"#DejaVuSans-101\"/>\r\n     <use x=\"273.144531\" xlink:href=\"#DejaVuSans-32\"/>\r\n     <use x=\"304.931641\" xlink:href=\"#DejaVuSans-61\"/>\r\n     <use x=\"388.720703\" xlink:href=\"#DejaVuSans-32\"/>\r\n     <use x=\"420.507812\" xlink:href=\"#DejaVuSans-91\"/>\r\n     <use x=\"459.521484\" xlink:href=\"#DejaVuSans-50\"/>\r\n     <use x=\"523.144531\" xlink:href=\"#DejaVuSans-44\"/>\r\n     <use x=\"554.931641\" xlink:href=\"#DejaVuSans-32\"/>\r\n     <use x=\"586.71875\" xlink:href=\"#DejaVuSans-48\"/>\r\n     <use x=\"650.341797\" xlink:href=\"#DejaVuSans-93\"/>\r\n    </g>\r\n   </g>\r\n   <g id=\"patch_72\">\r\n    <path d=\"M 325.428975 142.517617 \r\nQ 323.292094 136.133628 320.800332 128.689422 \r\n\" style=\"fill:none;stroke:#000000;stroke-linecap:round;\"/>\r\n    <path d=\"M 325.491666 142.074819 \r\nL 325.428975 142.517617 \r\nL 325.112351 142.201785 \r\n\" style=\"fill:none;stroke:#000000;stroke-linecap:round;\"/>\r\n   </g>\r\n   <g id=\"text_36\">\r\n    <g id=\"patch_73\">\r\n     <path d=\"M 322.940588 151.099578 \r\nL 331.946369 151.099578 \r\nL 331.946369 145.972422 \r\nL 322.940588 145.972422 \r\nz\r\n\" style=\"fill:#ffffff;stroke:#000000;stroke-linejoin:miter;\"/>\r\n    </g>\r\n    <!-- diabetes &lt;= 0.5 -->\r\n    <defs>\r\n     <path d=\"M 45.40625 46.390625 \r\nL 45.40625 75.984375 \r\nL 54.390625 75.984375 \r\nL 54.390625 0 \r\nL 45.40625 0 \r\nL 45.40625 8.203125 \r\nQ 42.578125 3.328125 38.25 0.953125 \r\nQ 33.9375 -1.421875 27.875 -1.421875 \r\nQ 17.96875 -1.421875 11.734375 6.484375 \r\nQ 5.515625 14.40625 5.515625 27.296875 \r\nQ 5.515625 40.1875 11.734375 48.09375 \r\nQ 17.96875 56 27.875 56 \r\nQ 33.9375 56 38.25 53.625 \r\nQ 42.578125 51.265625 45.40625 46.390625 \r\nz\r\nM 14.796875 27.296875 \r\nQ 14.796875 17.390625 18.875 11.75 \r\nQ 22.953125 6.109375 30.078125 6.109375 \r\nQ 37.203125 6.109375 41.296875 11.75 \r\nQ 45.40625 17.390625 45.40625 27.296875 \r\nQ 45.40625 37.203125 41.296875 42.84375 \r\nQ 37.203125 48.484375 30.078125 48.484375 \r\nQ 22.953125 48.484375 18.875 42.84375 \r\nQ 14.796875 37.203125 14.796875 27.296875 \r\nz\r\n\" id=\"DejaVuSans-100\"/>\r\n     <path d=\"M 48.6875 27.296875 \r\nQ 48.6875 37.203125 44.609375 42.84375 \r\nQ 40.53125 48.484375 33.40625 48.484375 \r\nQ 26.265625 48.484375 22.1875 42.84375 \r\nQ 18.109375 37.203125 18.109375 27.296875 \r\nQ 18.109375 17.390625 22.1875 11.75 \r\nQ 26.265625 6.109375 33.40625 6.109375 \r\nQ 40.53125 6.109375 44.609375 11.75 \r\nQ 48.6875 17.390625 48.6875 27.296875 \r\nz\r\nM 18.109375 46.390625 \r\nQ 20.953125 51.265625 25.265625 53.625 \r\nQ 29.59375 56 35.59375 56 \r\nQ 45.5625 56 51.78125 48.09375 \r\nQ 58.015625 40.1875 58.015625 27.296875 \r\nQ 58.015625 14.40625 51.78125 6.484375 \r\nQ 45.5625 -1.421875 35.59375 -1.421875 \r\nQ 29.59375 -1.421875 25.265625 0.953125 \r\nQ 20.953125 3.328125 18.109375 8.203125 \r\nL 18.109375 0 \r\nL 9.078125 0 \r\nL 9.078125 75.984375 \r\nL 18.109375 75.984375 \r\nz\r\n\" id=\"DejaVuSans-98\"/>\r\n    </defs>\r\n    <g transform=\"translate(323.340588 147.132266)scale(0.01 -0.01)\">\r\n     <use xlink:href=\"#DejaVuSans-100\"/>\r\n     <use x=\"63.476562\" xlink:href=\"#DejaVuSans-105\"/>\r\n     <use x=\"91.259766\" xlink:href=\"#DejaVuSans-97\"/>\r\n     <use x=\"152.539062\" xlink:href=\"#DejaVuSans-98\"/>\r\n     <use x=\"216.015625\" xlink:href=\"#DejaVuSans-101\"/>\r\n     <use x=\"277.539062\" xlink:href=\"#DejaVuSans-116\"/>\r\n     <use x=\"316.748047\" xlink:href=\"#DejaVuSans-101\"/>\r\n     <use x=\"378.271484\" xlink:href=\"#DejaVuSans-115\"/>\r\n     <use x=\"430.371094\" xlink:href=\"#DejaVuSans-32\"/>\r\n     <use x=\"462.158203\" xlink:href=\"#DejaVuSans-60\"/>\r\n     <use x=\"545.947266\" xlink:href=\"#DejaVuSans-61\"/>\r\n     <use x=\"629.736328\" xlink:href=\"#DejaVuSans-32\"/>\r\n     <use x=\"661.523438\" xlink:href=\"#DejaVuSans-48\"/>\r\n     <use x=\"725.146484\" xlink:href=\"#DejaVuSans-46\"/>\r\n     <use x=\"756.933594\" xlink:href=\"#DejaVuSans-53\"/>\r\n    </g>\r\n    <!-- gini = 0.375 -->\r\n    <g transform=\"translate(324.363166 148.252047)scale(0.01 -0.01)\">\r\n     <use xlink:href=\"#DejaVuSans-103\"/>\r\n     <use x=\"63.476562\" xlink:href=\"#DejaVuSans-105\"/>\r\n     <use x=\"91.259766\" xlink:href=\"#DejaVuSans-110\"/>\r\n     <use x=\"154.638672\" xlink:href=\"#DejaVuSans-105\"/>\r\n     <use x=\"182.421875\" xlink:href=\"#DejaVuSans-32\"/>\r\n     <use x=\"214.208984\" xlink:href=\"#DejaVuSans-61\"/>\r\n     <use x=\"297.998047\" xlink:href=\"#DejaVuSans-32\"/>\r\n     <use x=\"329.785156\" xlink:href=\"#DejaVuSans-48\"/>\r\n     <use x=\"393.408203\" xlink:href=\"#DejaVuSans-46\"/>\r\n     <use x=\"425.195312\" xlink:href=\"#DejaVuSans-51\"/>\r\n     <use x=\"488.818359\" xlink:href=\"#DejaVuSans-55\"/>\r\n     <use x=\"552.441406\" xlink:href=\"#DejaVuSans-53\"/>\r\n    </g>\r\n    <!-- samples = 4 -->\r\n    <g transform=\"translate(324.310197 149.371828)scale(0.01 -0.01)\">\r\n     <use xlink:href=\"#DejaVuSans-115\"/>\r\n     <use x=\"52.099609\" xlink:href=\"#DejaVuSans-97\"/>\r\n     <use x=\"113.378906\" xlink:href=\"#DejaVuSans-109\"/>\r\n     <use x=\"210.791016\" xlink:href=\"#DejaVuSans-112\"/>\r\n     <use x=\"274.267578\" xlink:href=\"#DejaVuSans-108\"/>\r\n     <use x=\"302.050781\" xlink:href=\"#DejaVuSans-101\"/>\r\n     <use x=\"363.574219\" xlink:href=\"#DejaVuSans-115\"/>\r\n     <use x=\"415.673828\" xlink:href=\"#DejaVuSans-32\"/>\r\n     <use x=\"447.460938\" xlink:href=\"#DejaVuSans-61\"/>\r\n     <use x=\"531.25\" xlink:href=\"#DejaVuSans-32\"/>\r\n     <use x=\"563.037109\" xlink:href=\"#DejaVuSans-52\"/>\r\n    </g>\r\n    <!-- value = [1, 3] -->\r\n    <g transform=\"translate(323.996681 150.491609)scale(0.01 -0.01)\">\r\n     <use xlink:href=\"#DejaVuSans-118\"/>\r\n     <use x=\"59.179688\" xlink:href=\"#DejaVuSans-97\"/>\r\n     <use x=\"120.458984\" xlink:href=\"#DejaVuSans-108\"/>\r\n     <use x=\"148.242188\" xlink:href=\"#DejaVuSans-117\"/>\r\n     <use x=\"211.621094\" xlink:href=\"#DejaVuSans-101\"/>\r\n     <use x=\"273.144531\" xlink:href=\"#DejaVuSans-32\"/>\r\n     <use x=\"304.931641\" xlink:href=\"#DejaVuSans-61\"/>\r\n     <use x=\"388.720703\" xlink:href=\"#DejaVuSans-32\"/>\r\n     <use x=\"420.507812\" xlink:href=\"#DejaVuSans-91\"/>\r\n     <use x=\"459.521484\" xlink:href=\"#DejaVuSans-49\"/>\r\n     <use x=\"523.144531\" xlink:href=\"#DejaVuSans-44\"/>\r\n     <use x=\"554.931641\" xlink:href=\"#DejaVuSans-32\"/>\r\n     <use x=\"586.71875\" xlink:href=\"#DejaVuSans-51\"/>\r\n     <use x=\"650.341797\" xlink:href=\"#DejaVuSans-93\"/>\r\n    </g>\r\n   </g>\r\n   <g id=\"patch_74\">\r\n    <path d=\"M 30.861148 121.335685 \r\nQ 33.092806 114.668547 35.679345 106.941191 \r\n\" style=\"fill:none;stroke:#000000;stroke-linecap:round;\"/>\r\n    <path d=\"M 31.177771 121.019854 \r\nL 30.861148 121.335685 \r\nL 30.798457 120.892887 \r\n\" style=\"fill:none;stroke:#000000;stroke-linecap:round;\"/>\r\n   </g>\r\n   <g id=\"text_37\">\r\n    <g id=\"patch_75\">\r\n     <path d=\"M 25.187986 128.795687 \r\nL 32.881579 128.795687 \r\nL 32.881579 124.788312 \r\nL 25.187986 124.788312 \r\nz\r\n\" style=\"fill:#ffffff;stroke:#000000;stroke-linejoin:miter;\"/>\r\n    </g>\r\n    <!-- gini = 0.0 -->\r\n    <g transform=\"translate(26.59072 125.948156)scale(0.01 -0.01)\">\r\n     <use xlink:href=\"#DejaVuSans-103\"/>\r\n     <use x=\"63.476562\" xlink:href=\"#DejaVuSans-105\"/>\r\n     <use x=\"91.259766\" xlink:href=\"#DejaVuSans-110\"/>\r\n     <use x=\"154.638672\" xlink:href=\"#DejaVuSans-105\"/>\r\n     <use x=\"182.421875\" xlink:href=\"#DejaVuSans-32\"/>\r\n     <use x=\"214.208984\" xlink:href=\"#DejaVuSans-61\"/>\r\n     <use x=\"297.998047\" xlink:href=\"#DejaVuSans-32\"/>\r\n     <use x=\"329.785156\" xlink:href=\"#DejaVuSans-48\"/>\r\n     <use x=\"393.408203\" xlink:href=\"#DejaVuSans-46\"/>\r\n     <use x=\"425.195312\" xlink:href=\"#DejaVuSans-48\"/>\r\n    </g>\r\n    <!-- samples = 2 -->\r\n    <g transform=\"translate(25.901501 127.067937)scale(0.01 -0.01)\">\r\n     <use xlink:href=\"#DejaVuSans-115\"/>\r\n     <use x=\"52.099609\" xlink:href=\"#DejaVuSans-97\"/>\r\n     <use x=\"113.378906\" xlink:href=\"#DejaVuSans-109\"/>\r\n     <use x=\"210.791016\" xlink:href=\"#DejaVuSans-112\"/>\r\n     <use x=\"274.267578\" xlink:href=\"#DejaVuSans-108\"/>\r\n     <use x=\"302.050781\" xlink:href=\"#DejaVuSans-101\"/>\r\n     <use x=\"363.574219\" xlink:href=\"#DejaVuSans-115\"/>\r\n     <use x=\"415.673828\" xlink:href=\"#DejaVuSans-32\"/>\r\n     <use x=\"447.460938\" xlink:href=\"#DejaVuSans-61\"/>\r\n     <use x=\"531.25\" xlink:href=\"#DejaVuSans-32\"/>\r\n     <use x=\"563.037109\" xlink:href=\"#DejaVuSans-50\"/>\r\n    </g>\r\n    <!-- value = [0, 2] -->\r\n    <g transform=\"translate(25.587986 128.187719)scale(0.01 -0.01)\">\r\n     <use xlink:href=\"#DejaVuSans-118\"/>\r\n     <use x=\"59.179688\" xlink:href=\"#DejaVuSans-97\"/>\r\n     <use x=\"120.458984\" xlink:href=\"#DejaVuSans-108\"/>\r\n     <use x=\"148.242188\" xlink:href=\"#DejaVuSans-117\"/>\r\n     <use x=\"211.621094\" xlink:href=\"#DejaVuSans-101\"/>\r\n     <use x=\"273.144531\" xlink:href=\"#DejaVuSans-32\"/>\r\n     <use x=\"304.931641\" xlink:href=\"#DejaVuSans-61\"/>\r\n     <use x=\"388.720703\" xlink:href=\"#DejaVuSans-32\"/>\r\n     <use x=\"420.507812\" xlink:href=\"#DejaVuSans-91\"/>\r\n     <use x=\"459.521484\" xlink:href=\"#DejaVuSans-48\"/>\r\n     <use x=\"523.144531\" xlink:href=\"#DejaVuSans-44\"/>\r\n     <use x=\"554.931641\" xlink:href=\"#DejaVuSans-32\"/>\r\n     <use x=\"586.71875\" xlink:href=\"#DejaVuSans-50\"/>\r\n     <use x=\"650.341797\" xlink:href=\"#DejaVuSans-93\"/>\r\n    </g>\r\n   </g>\r\n   <g id=\"patch_76\">\r\n    <path d=\"M 41.764939 121.335685 \r\nQ 39.533281 114.668547 36.946742 106.941191 \r\n\" style=\"fill:none;stroke:#000000;stroke-linecap:round;\"/>\r\n    <path d=\"M 41.82763 120.892887 \r\nL 41.764939 121.335685 \r\nL 41.448316 121.019854 \r\n\" style=\"fill:none;stroke:#000000;stroke-linecap:round;\"/>\r\n   </g>\r\n   <g id=\"text_38\">\r\n    <g id=\"patch_77\">\r\n     <path d=\"M 39.744507 128.795687 \r\nL 47.438101 128.795687 \r\nL 47.438101 124.788312 \r\nL 39.744507 124.788312 \r\nz\r\n\" style=\"fill:#ffffff;stroke:#000000;stroke-linejoin:miter;\"/>\r\n    </g>\r\n    <!-- gini = 0.0 -->\r\n    <g transform=\"translate(41.147242 125.948156)scale(0.01 -0.01)\">\r\n     <use xlink:href=\"#DejaVuSans-103\"/>\r\n     <use x=\"63.476562\" xlink:href=\"#DejaVuSans-105\"/>\r\n     <use x=\"91.259766\" xlink:href=\"#DejaVuSans-110\"/>\r\n     <use x=\"154.638672\" xlink:href=\"#DejaVuSans-105\"/>\r\n     <use x=\"182.421875\" xlink:href=\"#DejaVuSans-32\"/>\r\n     <use x=\"214.208984\" xlink:href=\"#DejaVuSans-61\"/>\r\n     <use x=\"297.998047\" xlink:href=\"#DejaVuSans-32\"/>\r\n     <use x=\"329.785156\" xlink:href=\"#DejaVuSans-48\"/>\r\n     <use x=\"393.408203\" xlink:href=\"#DejaVuSans-46\"/>\r\n     <use x=\"425.195312\" xlink:href=\"#DejaVuSans-48\"/>\r\n    </g>\r\n    <!-- samples = 1 -->\r\n    <g transform=\"translate(40.458023 127.067937)scale(0.01 -0.01)\">\r\n     <use xlink:href=\"#DejaVuSans-115\"/>\r\n     <use x=\"52.099609\" xlink:href=\"#DejaVuSans-97\"/>\r\n     <use x=\"113.378906\" xlink:href=\"#DejaVuSans-109\"/>\r\n     <use x=\"210.791016\" xlink:href=\"#DejaVuSans-112\"/>\r\n     <use x=\"274.267578\" xlink:href=\"#DejaVuSans-108\"/>\r\n     <use x=\"302.050781\" xlink:href=\"#DejaVuSans-101\"/>\r\n     <use x=\"363.574219\" xlink:href=\"#DejaVuSans-115\"/>\r\n     <use x=\"415.673828\" xlink:href=\"#DejaVuSans-32\"/>\r\n     <use x=\"447.460938\" xlink:href=\"#DejaVuSans-61\"/>\r\n     <use x=\"531.25\" xlink:href=\"#DejaVuSans-32\"/>\r\n     <use x=\"563.037109\" xlink:href=\"#DejaVuSans-49\"/>\r\n    </g>\r\n    <!-- value = [1, 0] -->\r\n    <g transform=\"translate(40.144507 128.187719)scale(0.01 -0.01)\">\r\n     <use xlink:href=\"#DejaVuSans-118\"/>\r\n     <use x=\"59.179688\" xlink:href=\"#DejaVuSans-97\"/>\r\n     <use x=\"120.458984\" xlink:href=\"#DejaVuSans-108\"/>\r\n     <use x=\"148.242188\" xlink:href=\"#DejaVuSans-117\"/>\r\n     <use x=\"211.621094\" xlink:href=\"#DejaVuSans-101\"/>\r\n     <use x=\"273.144531\" xlink:href=\"#DejaVuSans-32\"/>\r\n     <use x=\"304.931641\" xlink:href=\"#DejaVuSans-61\"/>\r\n     <use x=\"388.720703\" xlink:href=\"#DejaVuSans-32\"/>\r\n     <use x=\"420.507812\" xlink:href=\"#DejaVuSans-91\"/>\r\n     <use x=\"459.521484\" xlink:href=\"#DejaVuSans-49\"/>\r\n     <use x=\"523.144531\" xlink:href=\"#DejaVuSans-44\"/>\r\n     <use x=\"554.931641\" xlink:href=\"#DejaVuSans-32\"/>\r\n     <use x=\"586.71875\" xlink:href=\"#DejaVuSans-48\"/>\r\n     <use x=\"650.341797\" xlink:href=\"#DejaVuSans-93\"/>\r\n    </g>\r\n   </g>\r\n   <g id=\"patch_78\">\r\n    <path d=\"M 59.974191 121.335685 \r\nQ 62.205849 114.668547 64.792388 106.941191 \r\n\" style=\"fill:none;stroke:#000000;stroke-linecap:round;\"/>\r\n    <path d=\"M 60.290815 121.019854 \r\nL 59.974191 121.335685 \r\nL 59.9115 120.892887 \r\n\" style=\"fill:none;stroke:#000000;stroke-linecap:round;\"/>\r\n   </g>\r\n   <g id=\"text_39\">\r\n    <g id=\"patch_79\">\r\n     <path d=\"M 54.301029 128.795687 \r\nL 61.994623 128.795687 \r\nL 61.994623 124.788312 \r\nL 54.301029 124.788312 \r\nz\r\n\" style=\"fill:#ffffff;stroke:#000000;stroke-linejoin:miter;\"/>\r\n    </g>\r\n    <!-- gini = 0.0 -->\r\n    <g transform=\"translate(55.703764 125.948156)scale(0.01 -0.01)\">\r\n     <use xlink:href=\"#DejaVuSans-103\"/>\r\n     <use x=\"63.476562\" xlink:href=\"#DejaVuSans-105\"/>\r\n     <use x=\"91.259766\" xlink:href=\"#DejaVuSans-110\"/>\r\n     <use x=\"154.638672\" xlink:href=\"#DejaVuSans-105\"/>\r\n     <use x=\"182.421875\" xlink:href=\"#DejaVuSans-32\"/>\r\n     <use x=\"214.208984\" xlink:href=\"#DejaVuSans-61\"/>\r\n     <use x=\"297.998047\" xlink:href=\"#DejaVuSans-32\"/>\r\n     <use x=\"329.785156\" xlink:href=\"#DejaVuSans-48\"/>\r\n     <use x=\"393.408203\" xlink:href=\"#DejaVuSans-46\"/>\r\n     <use x=\"425.195312\" xlink:href=\"#DejaVuSans-48\"/>\r\n    </g>\r\n    <!-- samples = 1 -->\r\n    <g transform=\"translate(55.014545 127.067937)scale(0.01 -0.01)\">\r\n     <use xlink:href=\"#DejaVuSans-115\"/>\r\n     <use x=\"52.099609\" xlink:href=\"#DejaVuSans-97\"/>\r\n     <use x=\"113.378906\" xlink:href=\"#DejaVuSans-109\"/>\r\n     <use x=\"210.791016\" xlink:href=\"#DejaVuSans-112\"/>\r\n     <use x=\"274.267578\" xlink:href=\"#DejaVuSans-108\"/>\r\n     <use x=\"302.050781\" xlink:href=\"#DejaVuSans-101\"/>\r\n     <use x=\"363.574219\" xlink:href=\"#DejaVuSans-115\"/>\r\n     <use x=\"415.673828\" xlink:href=\"#DejaVuSans-32\"/>\r\n     <use x=\"447.460938\" xlink:href=\"#DejaVuSans-61\"/>\r\n     <use x=\"531.25\" xlink:href=\"#DejaVuSans-32\"/>\r\n     <use x=\"563.037109\" xlink:href=\"#DejaVuSans-49\"/>\r\n    </g>\r\n    <!-- value = [0, 1] -->\r\n    <g transform=\"translate(54.701029 128.187719)scale(0.01 -0.01)\">\r\n     <use xlink:href=\"#DejaVuSans-118\"/>\r\n     <use x=\"59.179688\" xlink:href=\"#DejaVuSans-97\"/>\r\n     <use x=\"120.458984\" xlink:href=\"#DejaVuSans-108\"/>\r\n     <use x=\"148.242188\" xlink:href=\"#DejaVuSans-117\"/>\r\n     <use x=\"211.621094\" xlink:href=\"#DejaVuSans-101\"/>\r\n     <use x=\"273.144531\" xlink:href=\"#DejaVuSans-32\"/>\r\n     <use x=\"304.931641\" xlink:href=\"#DejaVuSans-61\"/>\r\n     <use x=\"388.720703\" xlink:href=\"#DejaVuSans-32\"/>\r\n     <use x=\"420.507812\" xlink:href=\"#DejaVuSans-91\"/>\r\n     <use x=\"459.521484\" xlink:href=\"#DejaVuSans-48\"/>\r\n     <use x=\"523.144531\" xlink:href=\"#DejaVuSans-44\"/>\r\n     <use x=\"554.931641\" xlink:href=\"#DejaVuSans-32\"/>\r\n     <use x=\"586.71875\" xlink:href=\"#DejaVuSans-49\"/>\r\n     <use x=\"650.341797\" xlink:href=\"#DejaVuSans-93\"/>\r\n    </g>\r\n   </g>\r\n   <g id=\"patch_80\">\r\n    <path d=\"M 70.877983 121.335685 \r\nQ 68.646325 114.668547 66.059785 106.941191 \r\n\" style=\"fill:none;stroke:#000000;stroke-linecap:round;\"/>\r\n    <path d=\"M 70.940674 120.892887 \r\nL 70.877983 121.335685 \r\nL 70.561359 121.019854 \r\n\" style=\"fill:none;stroke:#000000;stroke-linecap:round;\"/>\r\n   </g>\r\n   <g id=\"text_40\">\r\n    <g id=\"patch_81\">\r\n     <path d=\"M 68.857551 128.795687 \r\nL 76.551145 128.795687 \r\nL 76.551145 124.788312 \r\nL 68.857551 124.788312 \r\nz\r\n\" style=\"fill:#ffffff;stroke:#000000;stroke-linejoin:miter;\"/>\r\n    </g>\r\n    <!-- gini = 0.0 -->\r\n    <g transform=\"translate(70.260285 125.948156)scale(0.01 -0.01)\">\r\n     <use xlink:href=\"#DejaVuSans-103\"/>\r\n     <use x=\"63.476562\" xlink:href=\"#DejaVuSans-105\"/>\r\n     <use x=\"91.259766\" xlink:href=\"#DejaVuSans-110\"/>\r\n     <use x=\"154.638672\" xlink:href=\"#DejaVuSans-105\"/>\r\n     <use x=\"182.421875\" xlink:href=\"#DejaVuSans-32\"/>\r\n     <use x=\"214.208984\" xlink:href=\"#DejaVuSans-61\"/>\r\n     <use x=\"297.998047\" xlink:href=\"#DejaVuSans-32\"/>\r\n     <use x=\"329.785156\" xlink:href=\"#DejaVuSans-48\"/>\r\n     <use x=\"393.408203\" xlink:href=\"#DejaVuSans-46\"/>\r\n     <use x=\"425.195312\" xlink:href=\"#DejaVuSans-48\"/>\r\n    </g>\r\n    <!-- samples = 1 -->\r\n    <g transform=\"translate(69.571067 127.067937)scale(0.01 -0.01)\">\r\n     <use xlink:href=\"#DejaVuSans-115\"/>\r\n     <use x=\"52.099609\" xlink:href=\"#DejaVuSans-97\"/>\r\n     <use x=\"113.378906\" xlink:href=\"#DejaVuSans-109\"/>\r\n     <use x=\"210.791016\" xlink:href=\"#DejaVuSans-112\"/>\r\n     <use x=\"274.267578\" xlink:href=\"#DejaVuSans-108\"/>\r\n     <use x=\"302.050781\" xlink:href=\"#DejaVuSans-101\"/>\r\n     <use x=\"363.574219\" xlink:href=\"#DejaVuSans-115\"/>\r\n     <use x=\"415.673828\" xlink:href=\"#DejaVuSans-32\"/>\r\n     <use x=\"447.460938\" xlink:href=\"#DejaVuSans-61\"/>\r\n     <use x=\"531.25\" xlink:href=\"#DejaVuSans-32\"/>\r\n     <use x=\"563.037109\" xlink:href=\"#DejaVuSans-49\"/>\r\n    </g>\r\n    <!-- value = [1, 0] -->\r\n    <g transform=\"translate(69.257551 128.187719)scale(0.01 -0.01)\">\r\n     <use xlink:href=\"#DejaVuSans-118\"/>\r\n     <use x=\"59.179688\" xlink:href=\"#DejaVuSans-97\"/>\r\n     <use x=\"120.458984\" xlink:href=\"#DejaVuSans-108\"/>\r\n     <use x=\"148.242188\" xlink:href=\"#DejaVuSans-117\"/>\r\n     <use x=\"211.621094\" xlink:href=\"#DejaVuSans-101\"/>\r\n     <use x=\"273.144531\" xlink:href=\"#DejaVuSans-32\"/>\r\n     <use x=\"304.931641\" xlink:href=\"#DejaVuSans-61\"/>\r\n     <use x=\"388.720703\" xlink:href=\"#DejaVuSans-32\"/>\r\n     <use x=\"420.507812\" xlink:href=\"#DejaVuSans-91\"/>\r\n     <use x=\"459.521484\" xlink:href=\"#DejaVuSans-49\"/>\r\n     <use x=\"523.144531\" xlink:href=\"#DejaVuSans-44\"/>\r\n     <use x=\"554.931641\" xlink:href=\"#DejaVuSans-32\"/>\r\n     <use x=\"586.71875\" xlink:href=\"#DejaVuSans-48\"/>\r\n     <use x=\"650.341797\" xlink:href=\"#DejaVuSans-93\"/>\r\n    </g>\r\n   </g>\r\n   <g id=\"patch_82\">\r\n    <path d=\"M 89.087235 121.335685 \r\nQ 91.318893 114.668547 93.905432 106.941191 \r\n\" style=\"fill:none;stroke:#000000;stroke-linecap:round;\"/>\r\n    <path d=\"M 89.403858 121.019854 \r\nL 89.087235 121.335685 \r\nL 89.024543 120.892887 \r\n\" style=\"fill:none;stroke:#000000;stroke-linecap:round;\"/>\r\n   </g>\r\n   <g id=\"text_41\">\r\n    <g id=\"patch_83\">\r\n     <path d=\"M 83.095948 128.795687 \r\nL 91.425791 128.795687 \r\nL 91.425791 124.788312 \r\nL 83.095948 124.788312 \r\nz\r\n\" style=\"fill:#ffffff;stroke:#000000;stroke-linejoin:miter;\"/>\r\n    </g>\r\n    <!-- gini = 0.0 -->\r\n    <g transform=\"translate(84.816807 125.948156)scale(0.01 -0.01)\">\r\n     <use xlink:href=\"#DejaVuSans-103\"/>\r\n     <use x=\"63.476562\" xlink:href=\"#DejaVuSans-105\"/>\r\n     <use x=\"91.259766\" xlink:href=\"#DejaVuSans-110\"/>\r\n     <use x=\"154.638672\" xlink:href=\"#DejaVuSans-105\"/>\r\n     <use x=\"182.421875\" xlink:href=\"#DejaVuSans-32\"/>\r\n     <use x=\"214.208984\" xlink:href=\"#DejaVuSans-61\"/>\r\n     <use x=\"297.998047\" xlink:href=\"#DejaVuSans-32\"/>\r\n     <use x=\"329.785156\" xlink:href=\"#DejaVuSans-48\"/>\r\n     <use x=\"393.408203\" xlink:href=\"#DejaVuSans-46\"/>\r\n     <use x=\"425.195312\" xlink:href=\"#DejaVuSans-48\"/>\r\n    </g>\r\n    <!-- samples = 24 -->\r\n    <g transform=\"translate(83.809463 127.067937)scale(0.01 -0.01)\">\r\n     <use xlink:href=\"#DejaVuSans-115\"/>\r\n     <use x=\"52.099609\" xlink:href=\"#DejaVuSans-97\"/>\r\n     <use x=\"113.378906\" xlink:href=\"#DejaVuSans-109\"/>\r\n     <use x=\"210.791016\" xlink:href=\"#DejaVuSans-112\"/>\r\n     <use x=\"274.267578\" xlink:href=\"#DejaVuSans-108\"/>\r\n     <use x=\"302.050781\" xlink:href=\"#DejaVuSans-101\"/>\r\n     <use x=\"363.574219\" xlink:href=\"#DejaVuSans-115\"/>\r\n     <use x=\"415.673828\" xlink:href=\"#DejaVuSans-32\"/>\r\n     <use x=\"447.460938\" xlink:href=\"#DejaVuSans-61\"/>\r\n     <use x=\"531.25\" xlink:href=\"#DejaVuSans-32\"/>\r\n     <use x=\"563.037109\" xlink:href=\"#DejaVuSans-50\"/>\r\n     <use x=\"626.660156\" xlink:href=\"#DejaVuSans-52\"/>\r\n    </g>\r\n    <!-- value = [0, 24] -->\r\n    <g transform=\"translate(83.495948 128.187719)scale(0.01 -0.01)\">\r\n     <use xlink:href=\"#DejaVuSans-118\"/>\r\n     <use x=\"59.179688\" xlink:href=\"#DejaVuSans-97\"/>\r\n     <use x=\"120.458984\" xlink:href=\"#DejaVuSans-108\"/>\r\n     <use x=\"148.242188\" xlink:href=\"#DejaVuSans-117\"/>\r\n     <use x=\"211.621094\" xlink:href=\"#DejaVuSans-101\"/>\r\n     <use x=\"273.144531\" xlink:href=\"#DejaVuSans-32\"/>\r\n     <use x=\"304.931641\" xlink:href=\"#DejaVuSans-61\"/>\r\n     <use x=\"388.720703\" xlink:href=\"#DejaVuSans-32\"/>\r\n     <use x=\"420.507812\" xlink:href=\"#DejaVuSans-91\"/>\r\n     <use x=\"459.521484\" xlink:href=\"#DejaVuSans-48\"/>\r\n     <use x=\"523.144531\" xlink:href=\"#DejaVuSans-44\"/>\r\n     <use x=\"554.931641\" xlink:href=\"#DejaVuSans-32\"/>\r\n     <use x=\"586.71875\" xlink:href=\"#DejaVuSans-50\"/>\r\n     <use x=\"650.341797\" xlink:href=\"#DejaVuSans-52\"/>\r\n     <use x=\"713.964844\" xlink:href=\"#DejaVuSans-93\"/>\r\n    </g>\r\n   </g>\r\n   <g id=\"patch_84\">\r\n    <path d=\"M 99.788663 120.73112 \r\nQ 97.658091 114.365977 95.172637 106.940618 \r\n\" style=\"fill:none;stroke:#000000;stroke-linecap:round;\"/>\r\n    <path d=\"M 99.851354 120.288322 \r\nL 99.788663 120.73112 \r\nL 99.47204 120.415288 \r\n\" style=\"fill:none;stroke:#000000;stroke-linecap:round;\"/>\r\n   </g>\r\n   <g id=\"text_42\">\r\n    <g id=\"patch_85\">\r\n     <path d=\"M 92.320907 129.369484 \r\nL 111.313876 129.369484 \r\nL 111.313876 124.186703 \r\nL 92.320907 124.186703 \r\nz\r\n\" style=\"fill:#ffffff;stroke:#000000;stroke-linejoin:miter;\"/>\r\n    </g>\r\n    <!-- creatinine_phosphokinase &lt;= 159.5 -->\r\n    <defs>\r\n     <path d=\"M 10.984375 1.515625 \r\nL 10.984375 10.5 \r\nQ 14.703125 8.734375 18.5 7.8125 \r\nQ 22.3125 6.890625 25.984375 6.890625 \r\nQ 35.75 6.890625 40.890625 13.453125 \r\nQ 46.046875 20.015625 46.78125 33.40625 \r\nQ 43.953125 29.203125 39.59375 26.953125 \r\nQ 35.25 24.703125 29.984375 24.703125 \r\nQ 19.046875 24.703125 12.671875 31.3125 \r\nQ 6.296875 37.9375 6.296875 49.421875 \r\nQ 6.296875 60.640625 12.9375 67.421875 \r\nQ 19.578125 74.21875 30.609375 74.21875 \r\nQ 43.265625 74.21875 49.921875 64.515625 \r\nQ 56.59375 54.828125 56.59375 36.375 \r\nQ 56.59375 19.140625 48.40625 8.859375 \r\nQ 40.234375 -1.421875 26.421875 -1.421875 \r\nQ 22.703125 -1.421875 18.890625 -0.6875 \r\nQ 15.09375 0.046875 10.984375 1.515625 \r\nz\r\nM 30.609375 32.421875 \r\nQ 37.25 32.421875 41.125 36.953125 \r\nQ 45.015625 41.5 45.015625 49.421875 \r\nQ 45.015625 57.28125 41.125 61.84375 \r\nQ 37.25 66.40625 30.609375 66.40625 \r\nQ 23.96875 66.40625 20.09375 61.84375 \r\nQ 16.21875 57.28125 16.21875 49.421875 \r\nQ 16.21875 41.5 20.09375 36.953125 \r\nQ 23.96875 32.421875 30.609375 32.421875 \r\nz\r\n\" id=\"DejaVuSans-57\"/>\r\n    </defs>\r\n    <g transform=\"translate(92.720907 125.374359)scale(0.01 -0.01)\">\r\n     <use xlink:href=\"#DejaVuSans-99\"/>\r\n     <use x=\"54.980469\" xlink:href=\"#DejaVuSans-114\"/>\r\n     <use x=\"93.84375\" xlink:href=\"#DejaVuSans-101\"/>\r\n     <use x=\"155.367188\" xlink:href=\"#DejaVuSans-97\"/>\r\n     <use x=\"216.646484\" xlink:href=\"#DejaVuSans-116\"/>\r\n     <use x=\"255.855469\" xlink:href=\"#DejaVuSans-105\"/>\r\n     <use x=\"283.638672\" xlink:href=\"#DejaVuSans-110\"/>\r\n     <use x=\"347.017578\" xlink:href=\"#DejaVuSans-105\"/>\r\n     <use x=\"374.800781\" xlink:href=\"#DejaVuSans-110\"/>\r\n     <use x=\"438.179688\" xlink:href=\"#DejaVuSans-101\"/>\r\n     <use x=\"499.703125\" xlink:href=\"#DejaVuSans-95\"/>\r\n     <use x=\"549.703125\" xlink:href=\"#DejaVuSans-112\"/>\r\n     <use x=\"613.179688\" xlink:href=\"#DejaVuSans-104\"/>\r\n     <use x=\"676.558594\" xlink:href=\"#DejaVuSans-111\"/>\r\n     <use x=\"737.740234\" xlink:href=\"#DejaVuSans-115\"/>\r\n     <use x=\"789.839844\" xlink:href=\"#DejaVuSans-112\"/>\r\n     <use x=\"853.316406\" xlink:href=\"#DejaVuSans-104\"/>\r\n     <use x=\"916.695312\" xlink:href=\"#DejaVuSans-111\"/>\r\n     <use x=\"977.876953\" xlink:href=\"#DejaVuSans-107\"/>\r\n     <use x=\"1035.787109\" xlink:href=\"#DejaVuSans-105\"/>\r\n     <use x=\"1063.570312\" xlink:href=\"#DejaVuSans-110\"/>\r\n     <use x=\"1126.949219\" xlink:href=\"#DejaVuSans-97\"/>\r\n     <use x=\"1188.228516\" xlink:href=\"#DejaVuSans-115\"/>\r\n     <use x=\"1240.328125\" xlink:href=\"#DejaVuSans-101\"/>\r\n     <use x=\"1301.851562\" xlink:href=\"#DejaVuSans-32\"/>\r\n     <use x=\"1333.638672\" xlink:href=\"#DejaVuSans-60\"/>\r\n     <use x=\"1417.427734\" xlink:href=\"#DejaVuSans-61\"/>\r\n     <use x=\"1501.216797\" xlink:href=\"#DejaVuSans-32\"/>\r\n     <use x=\"1533.003906\" xlink:href=\"#DejaVuSans-49\"/>\r\n     <use x=\"1596.626953\" xlink:href=\"#DejaVuSans-53\"/>\r\n     <use x=\"1660.25\" xlink:href=\"#DejaVuSans-57\"/>\r\n     <use x=\"1723.873047\" xlink:href=\"#DejaVuSans-46\"/>\r\n     <use x=\"1755.660156\" xlink:href=\"#DejaVuSans-53\"/>\r\n    </g>\r\n    <!-- gini = 0.255 -->\r\n    <g transform=\"translate(98.737079 126.521953)scale(0.01 -0.01)\">\r\n     <use xlink:href=\"#DejaVuSans-103\"/>\r\n     <use x=\"63.476562\" xlink:href=\"#DejaVuSans-105\"/>\r\n     <use x=\"91.259766\" xlink:href=\"#DejaVuSans-110\"/>\r\n     <use x=\"154.638672\" xlink:href=\"#DejaVuSans-105\"/>\r\n     <use x=\"182.421875\" xlink:href=\"#DejaVuSans-32\"/>\r\n     <use x=\"214.208984\" xlink:href=\"#DejaVuSans-61\"/>\r\n     <use x=\"297.998047\" xlink:href=\"#DejaVuSans-32\"/>\r\n     <use x=\"329.785156\" xlink:href=\"#DejaVuSans-48\"/>\r\n     <use x=\"393.408203\" xlink:href=\"#DejaVuSans-46\"/>\r\n     <use x=\"425.195312\" xlink:href=\"#DejaVuSans-50\"/>\r\n     <use x=\"488.818359\" xlink:href=\"#DejaVuSans-53\"/>\r\n     <use x=\"552.441406\" xlink:href=\"#DejaVuSans-53\"/>\r\n    </g>\r\n    <!-- samples = 20 -->\r\n    <g transform=\"translate(98.365985 127.641734)scale(0.01 -0.01)\">\r\n     <use xlink:href=\"#DejaVuSans-115\"/>\r\n     <use x=\"52.099609\" xlink:href=\"#DejaVuSans-97\"/>\r\n     <use x=\"113.378906\" xlink:href=\"#DejaVuSans-109\"/>\r\n     <use x=\"210.791016\" xlink:href=\"#DejaVuSans-112\"/>\r\n     <use x=\"274.267578\" xlink:href=\"#DejaVuSans-108\"/>\r\n     <use x=\"302.050781\" xlink:href=\"#DejaVuSans-101\"/>\r\n     <use x=\"363.574219\" xlink:href=\"#DejaVuSans-115\"/>\r\n     <use x=\"415.673828\" xlink:href=\"#DejaVuSans-32\"/>\r\n     <use x=\"447.460938\" xlink:href=\"#DejaVuSans-61\"/>\r\n     <use x=\"531.25\" xlink:href=\"#DejaVuSans-32\"/>\r\n     <use x=\"563.037109\" xlink:href=\"#DejaVuSans-50\"/>\r\n     <use x=\"626.660156\" xlink:href=\"#DejaVuSans-48\"/>\r\n    </g>\r\n    <!-- value = [3, 17] -->\r\n    <g transform=\"translate(98.052469 128.761516)scale(0.01 -0.01)\">\r\n     <use xlink:href=\"#DejaVuSans-118\"/>\r\n     <use x=\"59.179688\" xlink:href=\"#DejaVuSans-97\"/>\r\n     <use x=\"120.458984\" xlink:href=\"#DejaVuSans-108\"/>\r\n     <use x=\"148.242188\" xlink:href=\"#DejaVuSans-117\"/>\r\n     <use x=\"211.621094\" xlink:href=\"#DejaVuSans-101\"/>\r\n     <use x=\"273.144531\" xlink:href=\"#DejaVuSans-32\"/>\r\n     <use x=\"304.931641\" xlink:href=\"#DejaVuSans-61\"/>\r\n     <use x=\"388.720703\" xlink:href=\"#DejaVuSans-32\"/>\r\n     <use x=\"420.507812\" xlink:href=\"#DejaVuSans-91\"/>\r\n     <use x=\"459.521484\" xlink:href=\"#DejaVuSans-51\"/>\r\n     <use x=\"523.144531\" xlink:href=\"#DejaVuSans-44\"/>\r\n     <use x=\"554.931641\" xlink:href=\"#DejaVuSans-32\"/>\r\n     <use x=\"586.71875\" xlink:href=\"#DejaVuSans-49\"/>\r\n     <use x=\"650.341797\" xlink:href=\"#DejaVuSans-55\"/>\r\n     <use x=\"713.964844\" xlink:href=\"#DejaVuSans-93\"/>\r\n    </g>\r\n   </g>\r\n   <g id=\"patch_86\">\r\n    <path d=\"M 154.779721 120.773617 \r\nQ 156.916602 114.389628 159.408364 106.945422 \r\n\" style=\"fill:none;stroke:#000000;stroke-linecap:round;\"/>\r\n    <path d=\"M 155.096344 120.457785 \r\nL 154.779721 120.773617 \r\nL 154.71703 120.330819 \r\n\" style=\"fill:none;stroke:#000000;stroke-linecap:round;\"/>\r\n   </g>\r\n   <g id=\"text_43\">\r\n    <g id=\"patch_87\">\r\n     <path d=\"M 148.298108 129.355578 \r\nL 157.232327 129.355578 \r\nL 157.232327 124.228422 \r\nL 148.298108 124.228422 \r\nz\r\n\" style=\"fill:#ffffff;stroke:#000000;stroke-linejoin:miter;\"/>\r\n    </g>\r\n    <!-- smoking &lt;= 0.5 -->\r\n    <g transform=\"translate(148.698108 125.388266)scale(0.01 -0.01)\">\r\n     <use xlink:href=\"#DejaVuSans-115\"/>\r\n     <use x=\"52.099609\" xlink:href=\"#DejaVuSans-109\"/>\r\n     <use x=\"149.511719\" xlink:href=\"#DejaVuSans-111\"/>\r\n     <use x=\"210.693359\" xlink:href=\"#DejaVuSans-107\"/>\r\n     <use x=\"268.603516\" xlink:href=\"#DejaVuSans-105\"/>\r\n     <use x=\"296.386719\" xlink:href=\"#DejaVuSans-110\"/>\r\n     <use x=\"359.765625\" xlink:href=\"#DejaVuSans-103\"/>\r\n     <use x=\"423.242188\" xlink:href=\"#DejaVuSans-32\"/>\r\n     <use x=\"455.029297\" xlink:href=\"#DejaVuSans-60\"/>\r\n     <use x=\"538.818359\" xlink:href=\"#DejaVuSans-61\"/>\r\n     <use x=\"622.607422\" xlink:href=\"#DejaVuSans-32\"/>\r\n     <use x=\"654.394531\" xlink:href=\"#DejaVuSans-48\"/>\r\n     <use x=\"718.017578\" xlink:href=\"#DejaVuSans-46\"/>\r\n     <use x=\"749.804688\" xlink:href=\"#DejaVuSans-53\"/>\r\n    </g>\r\n    <!-- gini = 0.494 -->\r\n    <g transform=\"translate(149.684905 126.508047)scale(0.01 -0.01)\">\r\n     <use xlink:href=\"#DejaVuSans-103\"/>\r\n     <use x=\"63.476562\" xlink:href=\"#DejaVuSans-105\"/>\r\n     <use x=\"91.259766\" xlink:href=\"#DejaVuSans-110\"/>\r\n     <use x=\"154.638672\" xlink:href=\"#DejaVuSans-105\"/>\r\n     <use x=\"182.421875\" xlink:href=\"#DejaVuSans-32\"/>\r\n     <use x=\"214.208984\" xlink:href=\"#DejaVuSans-61\"/>\r\n     <use x=\"297.998047\" xlink:href=\"#DejaVuSans-32\"/>\r\n     <use x=\"329.785156\" xlink:href=\"#DejaVuSans-48\"/>\r\n     <use x=\"393.408203\" xlink:href=\"#DejaVuSans-46\"/>\r\n     <use x=\"425.195312\" xlink:href=\"#DejaVuSans-52\"/>\r\n     <use x=\"488.818359\" xlink:href=\"#DejaVuSans-57\"/>\r\n     <use x=\"552.441406\" xlink:href=\"#DejaVuSans-52\"/>\r\n    </g>\r\n    <!-- samples = 9 -->\r\n    <g transform=\"translate(149.631936 127.627828)scale(0.01 -0.01)\">\r\n     <use xlink:href=\"#DejaVuSans-115\"/>\r\n     <use x=\"52.099609\" xlink:href=\"#DejaVuSans-97\"/>\r\n     <use x=\"113.378906\" xlink:href=\"#DejaVuSans-109\"/>\r\n     <use x=\"210.791016\" xlink:href=\"#DejaVuSans-112\"/>\r\n     <use x=\"274.267578\" xlink:href=\"#DejaVuSans-108\"/>\r\n     <use x=\"302.050781\" xlink:href=\"#DejaVuSans-101\"/>\r\n     <use x=\"363.574219\" xlink:href=\"#DejaVuSans-115\"/>\r\n     <use x=\"415.673828\" xlink:href=\"#DejaVuSans-32\"/>\r\n     <use x=\"447.460938\" xlink:href=\"#DejaVuSans-61\"/>\r\n     <use x=\"531.25\" xlink:href=\"#DejaVuSans-32\"/>\r\n     <use x=\"563.037109\" xlink:href=\"#DejaVuSans-57\"/>\r\n    </g>\r\n    <!-- value = [4, 5] -->\r\n    <g transform=\"translate(149.318421 128.747609)scale(0.01 -0.01)\">\r\n     <use xlink:href=\"#DejaVuSans-118\"/>\r\n     <use x=\"59.179688\" xlink:href=\"#DejaVuSans-97\"/>\r\n     <use x=\"120.458984\" xlink:href=\"#DejaVuSans-108\"/>\r\n     <use x=\"148.242188\" xlink:href=\"#DejaVuSans-117\"/>\r\n     <use x=\"211.621094\" xlink:href=\"#DejaVuSans-101\"/>\r\n     <use x=\"273.144531\" xlink:href=\"#DejaVuSans-32\"/>\r\n     <use x=\"304.931641\" xlink:href=\"#DejaVuSans-61\"/>\r\n     <use x=\"388.720703\" xlink:href=\"#DejaVuSans-32\"/>\r\n     <use x=\"420.507812\" xlink:href=\"#DejaVuSans-91\"/>\r\n     <use x=\"459.521484\" xlink:href=\"#DejaVuSans-52\"/>\r\n     <use x=\"523.144531\" xlink:href=\"#DejaVuSans-44\"/>\r\n     <use x=\"554.931641\" xlink:href=\"#DejaVuSans-32\"/>\r\n     <use x=\"586.71875\" xlink:href=\"#DejaVuSans-53\"/>\r\n     <use x=\"650.341797\" xlink:href=\"#DejaVuSans-93\"/>\r\n    </g>\r\n   </g>\r\n   <g id=\"patch_88\">\r\n    <path d=\"M 165.495374 121.335685 \r\nQ 163.263716 114.668547 160.677177 106.941191 \r\n\" style=\"fill:none;stroke:#000000;stroke-linecap:round;\"/>\r\n    <path d=\"M 165.558065 120.892887 \r\nL 165.495374 121.335685 \r\nL 165.178751 121.019854 \r\n\" style=\"fill:none;stroke:#000000;stroke-linecap:round;\"/>\r\n   </g>\r\n   <g id=\"text_44\">\r\n    <g id=\"patch_89\">\r\n     <path d=\"M 163.474942 128.795687 \r\nL 171.168536 128.795687 \r\nL 171.168536 124.788312 \r\nL 163.474942 124.788312 \r\nz\r\n\" style=\"fill:#ffffff;stroke:#000000;stroke-linejoin:miter;\"/>\r\n    </g>\r\n    <!-- gini = 0.0 -->\r\n    <g transform=\"translate(164.877677 125.948156)scale(0.01 -0.01)\">\r\n     <use xlink:href=\"#DejaVuSans-103\"/>\r\n     <use x=\"63.476562\" xlink:href=\"#DejaVuSans-105\"/>\r\n     <use x=\"91.259766\" xlink:href=\"#DejaVuSans-110\"/>\r\n     <use x=\"154.638672\" xlink:href=\"#DejaVuSans-105\"/>\r\n     <use x=\"182.421875\" xlink:href=\"#DejaVuSans-32\"/>\r\n     <use x=\"214.208984\" xlink:href=\"#DejaVuSans-61\"/>\r\n     <use x=\"297.998047\" xlink:href=\"#DejaVuSans-32\"/>\r\n     <use x=\"329.785156\" xlink:href=\"#DejaVuSans-48\"/>\r\n     <use x=\"393.408203\" xlink:href=\"#DejaVuSans-46\"/>\r\n     <use x=\"425.195312\" xlink:href=\"#DejaVuSans-48\"/>\r\n    </g>\r\n    <!-- samples = 4 -->\r\n    <g transform=\"translate(164.188458 127.067937)scale(0.01 -0.01)\">\r\n     <use xlink:href=\"#DejaVuSans-115\"/>\r\n     <use x=\"52.099609\" xlink:href=\"#DejaVuSans-97\"/>\r\n     <use x=\"113.378906\" xlink:href=\"#DejaVuSans-109\"/>\r\n     <use x=\"210.791016\" xlink:href=\"#DejaVuSans-112\"/>\r\n     <use x=\"274.267578\" xlink:href=\"#DejaVuSans-108\"/>\r\n     <use x=\"302.050781\" xlink:href=\"#DejaVuSans-101\"/>\r\n     <use x=\"363.574219\" xlink:href=\"#DejaVuSans-115\"/>\r\n     <use x=\"415.673828\" xlink:href=\"#DejaVuSans-32\"/>\r\n     <use x=\"447.460938\" xlink:href=\"#DejaVuSans-61\"/>\r\n     <use x=\"531.25\" xlink:href=\"#DejaVuSans-32\"/>\r\n     <use x=\"563.037109\" xlink:href=\"#DejaVuSans-52\"/>\r\n    </g>\r\n    <!-- value = [4, 0] -->\r\n    <g transform=\"translate(163.874942 128.187719)scale(0.01 -0.01)\">\r\n     <use xlink:href=\"#DejaVuSans-118\"/>\r\n     <use x=\"59.179688\" xlink:href=\"#DejaVuSans-97\"/>\r\n     <use x=\"120.458984\" xlink:href=\"#DejaVuSans-108\"/>\r\n     <use x=\"148.242188\" xlink:href=\"#DejaVuSans-117\"/>\r\n     <use x=\"211.621094\" xlink:href=\"#DejaVuSans-101\"/>\r\n     <use x=\"273.144531\" xlink:href=\"#DejaVuSans-32\"/>\r\n     <use x=\"304.931641\" xlink:href=\"#DejaVuSans-61\"/>\r\n     <use x=\"388.720703\" xlink:href=\"#DejaVuSans-32\"/>\r\n     <use x=\"420.507812\" xlink:href=\"#DejaVuSans-91\"/>\r\n     <use x=\"459.521484\" xlink:href=\"#DejaVuSans-52\"/>\r\n     <use x=\"523.144531\" xlink:href=\"#DejaVuSans-44\"/>\r\n     <use x=\"554.931641\" xlink:href=\"#DejaVuSans-32\"/>\r\n     <use x=\"586.71875\" xlink:href=\"#DejaVuSans-48\"/>\r\n     <use x=\"650.341797\" xlink:href=\"#DejaVuSans-93\"/>\r\n    </g>\r\n   </g>\r\n   <g id=\"patch_90\">\r\n    <path d=\"M 186.44527 121.334375 \r\nQ 192.259009 114.386895 198.790255 106.581985 \r\n\" style=\"fill:none;stroke:#000000;stroke-linecap:round;\"/>\r\n    <path d=\"M 186.855354 121.155964 \r\nL 186.44527 121.334375 \r\nL 186.548591 120.899261 \r\n\" style=\"fill:none;stroke:#000000;stroke-linecap:round;\"/>\r\n   </g>\r\n   <g id=\"text_45\">\r\n    <g id=\"patch_91\">\r\n     <path d=\"M 175.767245 129.355578 \r\nL 187.989276 129.355578 \r\nL 187.989276 124.228422 \r\nL 175.767245 124.228422 \r\nz\r\n\" style=\"fill:#ffffff;stroke:#000000;stroke-linejoin:miter;\"/>\r\n    </g>\r\n    <!-- platelets &lt;= 218000.0 -->\r\n    <g transform=\"translate(176.167245 125.388266)scale(0.01 -0.01)\">\r\n     <use xlink:href=\"#DejaVuSans-112\"/>\r\n     <use x=\"63.476562\" xlink:href=\"#DejaVuSans-108\"/>\r\n     <use x=\"91.259766\" xlink:href=\"#DejaVuSans-97\"/>\r\n     <use x=\"152.539062\" xlink:href=\"#DejaVuSans-116\"/>\r\n     <use x=\"191.748047\" xlink:href=\"#DejaVuSans-101\"/>\r\n     <use x=\"253.271484\" xlink:href=\"#DejaVuSans-108\"/>\r\n     <use x=\"281.054688\" xlink:href=\"#DejaVuSans-101\"/>\r\n     <use x=\"342.578125\" xlink:href=\"#DejaVuSans-116\"/>\r\n     <use x=\"381.787109\" xlink:href=\"#DejaVuSans-115\"/>\r\n     <use x=\"433.886719\" xlink:href=\"#DejaVuSans-32\"/>\r\n     <use x=\"465.673828\" xlink:href=\"#DejaVuSans-60\"/>\r\n     <use x=\"549.462891\" xlink:href=\"#DejaVuSans-61\"/>\r\n     <use x=\"633.251953\" xlink:href=\"#DejaVuSans-32\"/>\r\n     <use x=\"665.039062\" xlink:href=\"#DejaVuSans-50\"/>\r\n     <use x=\"728.662109\" xlink:href=\"#DejaVuSans-49\"/>\r\n     <use x=\"792.285156\" xlink:href=\"#DejaVuSans-56\"/>\r\n     <use x=\"855.908203\" xlink:href=\"#DejaVuSans-48\"/>\r\n     <use x=\"919.53125\" xlink:href=\"#DejaVuSans-48\"/>\r\n     <use x=\"983.154297\" xlink:href=\"#DejaVuSans-48\"/>\r\n     <use x=\"1046.777344\" xlink:href=\"#DejaVuSans-46\"/>\r\n     <use x=\"1078.564453\" xlink:href=\"#DejaVuSans-48\"/>\r\n    </g>\r\n    <!-- gini = 0.444 -->\r\n    <g transform=\"translate(178.797948 126.508047)scale(0.01 -0.01)\">\r\n     <use xlink:href=\"#DejaVuSans-103\"/>\r\n     <use x=\"63.476562\" xlink:href=\"#DejaVuSans-105\"/>\r\n     <use x=\"91.259766\" xlink:href=\"#DejaVuSans-110\"/>\r\n     <use x=\"154.638672\" xlink:href=\"#DejaVuSans-105\"/>\r\n     <use x=\"182.421875\" xlink:href=\"#DejaVuSans-32\"/>\r\n     <use x=\"214.208984\" xlink:href=\"#DejaVuSans-61\"/>\r\n     <use x=\"297.998047\" xlink:href=\"#DejaVuSans-32\"/>\r\n     <use x=\"329.785156\" xlink:href=\"#DejaVuSans-48\"/>\r\n     <use x=\"393.408203\" xlink:href=\"#DejaVuSans-46\"/>\r\n     <use x=\"425.195312\" xlink:href=\"#DejaVuSans-52\"/>\r\n     <use x=\"488.818359\" xlink:href=\"#DejaVuSans-52\"/>\r\n     <use x=\"552.441406\" xlink:href=\"#DejaVuSans-52\"/>\r\n    </g>\r\n    <!-- samples = 3 -->\r\n    <g transform=\"translate(178.74498 127.627828)scale(0.01 -0.01)\">\r\n     <use xlink:href=\"#DejaVuSans-115\"/>\r\n     <use x=\"52.099609\" xlink:href=\"#DejaVuSans-97\"/>\r\n     <use x=\"113.378906\" xlink:href=\"#DejaVuSans-109\"/>\r\n     <use x=\"210.791016\" xlink:href=\"#DejaVuSans-112\"/>\r\n     <use x=\"274.267578\" xlink:href=\"#DejaVuSans-108\"/>\r\n     <use x=\"302.050781\" xlink:href=\"#DejaVuSans-101\"/>\r\n     <use x=\"363.574219\" xlink:href=\"#DejaVuSans-115\"/>\r\n     <use x=\"415.673828\" xlink:href=\"#DejaVuSans-32\"/>\r\n     <use x=\"447.460938\" xlink:href=\"#DejaVuSans-61\"/>\r\n     <use x=\"531.25\" xlink:href=\"#DejaVuSans-32\"/>\r\n     <use x=\"563.037109\" xlink:href=\"#DejaVuSans-51\"/>\r\n    </g>\r\n    <!-- value = [2, 1] -->\r\n    <g transform=\"translate(178.431464 128.747609)scale(0.01 -0.01)\">\r\n     <use xlink:href=\"#DejaVuSans-118\"/>\r\n     <use x=\"59.179688\" xlink:href=\"#DejaVuSans-97\"/>\r\n     <use x=\"120.458984\" xlink:href=\"#DejaVuSans-108\"/>\r\n     <use x=\"148.242188\" xlink:href=\"#DejaVuSans-117\"/>\r\n     <use x=\"211.621094\" xlink:href=\"#DejaVuSans-101\"/>\r\n     <use x=\"273.144531\" xlink:href=\"#DejaVuSans-32\"/>\r\n     <use x=\"304.931641\" xlink:href=\"#DejaVuSans-61\"/>\r\n     <use x=\"388.720703\" xlink:href=\"#DejaVuSans-32\"/>\r\n     <use x=\"420.507812\" xlink:href=\"#DejaVuSans-91\"/>\r\n     <use x=\"459.521484\" xlink:href=\"#DejaVuSans-50\"/>\r\n     <use x=\"523.144531\" xlink:href=\"#DejaVuSans-44\"/>\r\n     <use x=\"554.931641\" xlink:href=\"#DejaVuSans-32\"/>\r\n     <use x=\"586.71875\" xlink:href=\"#DejaVuSans-49\"/>\r\n     <use x=\"650.341797\" xlink:href=\"#DejaVuSans-93\"/>\r\n    </g>\r\n   </g>\r\n   <g id=\"patch_92\">\r\n    <path d=\"M 213.702556 121.334375 \r\nQ 207.888817 114.386895 201.357571 106.581985 \r\n\" style=\"fill:none;stroke:#000000;stroke-linecap:round;\"/>\r\n    <path d=\"M 213.599235 120.899261 \r\nL 213.702556 121.334375 \r\nL 213.292472 121.155964 \r\n\" style=\"fill:none;stroke:#000000;stroke-linecap:round;\"/>\r\n   </g>\r\n   <g id=\"text_46\">\r\n    <g id=\"patch_93\">\r\n     <path d=\"M 212.476675 129.355578 \r\nL 224.062456 129.355578 \r\nL 224.062456 124.228422 \r\nL 212.476675 124.228422 \r\nz\r\n\" style=\"fill:#ffffff;stroke:#000000;stroke-linejoin:miter;\"/>\r\n    </g>\r\n    <!-- platelets &lt;= 90000.0 -->\r\n    <g transform=\"translate(212.876675 125.388266)scale(0.01 -0.01)\">\r\n     <use xlink:href=\"#DejaVuSans-112\"/>\r\n     <use x=\"63.476562\" xlink:href=\"#DejaVuSans-108\"/>\r\n     <use x=\"91.259766\" xlink:href=\"#DejaVuSans-97\"/>\r\n     <use x=\"152.539062\" xlink:href=\"#DejaVuSans-116\"/>\r\n     <use x=\"191.748047\" xlink:href=\"#DejaVuSans-101\"/>\r\n     <use x=\"253.271484\" xlink:href=\"#DejaVuSans-108\"/>\r\n     <use x=\"281.054688\" xlink:href=\"#DejaVuSans-101\"/>\r\n     <use x=\"342.578125\" xlink:href=\"#DejaVuSans-116\"/>\r\n     <use x=\"381.787109\" xlink:href=\"#DejaVuSans-115\"/>\r\n     <use x=\"433.886719\" xlink:href=\"#DejaVuSans-32\"/>\r\n     <use x=\"465.673828\" xlink:href=\"#DejaVuSans-60\"/>\r\n     <use x=\"549.462891\" xlink:href=\"#DejaVuSans-61\"/>\r\n     <use x=\"633.251953\" xlink:href=\"#DejaVuSans-32\"/>\r\n     <use x=\"665.039062\" xlink:href=\"#DejaVuSans-57\"/>\r\n     <use x=\"728.662109\" xlink:href=\"#DejaVuSans-48\"/>\r\n     <use x=\"792.285156\" xlink:href=\"#DejaVuSans-48\"/>\r\n     <use x=\"855.908203\" xlink:href=\"#DejaVuSans-48\"/>\r\n     <use x=\"919.53125\" xlink:href=\"#DejaVuSans-48\"/>\r\n     <use x=\"983.154297\" xlink:href=\"#DejaVuSans-46\"/>\r\n     <use x=\"1014.941406\" xlink:href=\"#DejaVuSans-48\"/>\r\n    </g>\r\n    <!-- gini = 0.033 -->\r\n    <g transform=\"translate(215.189253 126.508047)scale(0.01 -0.01)\">\r\n     <use xlink:href=\"#DejaVuSans-103\"/>\r\n     <use x=\"63.476562\" xlink:href=\"#DejaVuSans-105\"/>\r\n     <use x=\"91.259766\" xlink:href=\"#DejaVuSans-110\"/>\r\n     <use x=\"154.638672\" xlink:href=\"#DejaVuSans-105\"/>\r\n     <use x=\"182.421875\" xlink:href=\"#DejaVuSans-32\"/>\r\n     <use x=\"214.208984\" xlink:href=\"#DejaVuSans-61\"/>\r\n     <use x=\"297.998047\" xlink:href=\"#DejaVuSans-32\"/>\r\n     <use x=\"329.785156\" xlink:href=\"#DejaVuSans-48\"/>\r\n     <use x=\"393.408203\" xlink:href=\"#DejaVuSans-46\"/>\r\n     <use x=\"425.195312\" xlink:href=\"#DejaVuSans-48\"/>\r\n     <use x=\"488.818359\" xlink:href=\"#DejaVuSans-51\"/>\r\n     <use x=\"552.441406\" xlink:href=\"#DejaVuSans-51\"/>\r\n    </g>\r\n    <!-- samples = 119 -->\r\n    <g transform=\"translate(214.500034 127.627828)scale(0.01 -0.01)\">\r\n     <use xlink:href=\"#DejaVuSans-115\"/>\r\n     <use x=\"52.099609\" xlink:href=\"#DejaVuSans-97\"/>\r\n     <use x=\"113.378906\" xlink:href=\"#DejaVuSans-109\"/>\r\n     <use x=\"210.791016\" xlink:href=\"#DejaVuSans-112\"/>\r\n     <use x=\"274.267578\" xlink:href=\"#DejaVuSans-108\"/>\r\n     <use x=\"302.050781\" xlink:href=\"#DejaVuSans-101\"/>\r\n     <use x=\"363.574219\" xlink:href=\"#DejaVuSans-115\"/>\r\n     <use x=\"415.673828\" xlink:href=\"#DejaVuSans-32\"/>\r\n     <use x=\"447.460938\" xlink:href=\"#DejaVuSans-61\"/>\r\n     <use x=\"531.25\" xlink:href=\"#DejaVuSans-32\"/>\r\n     <use x=\"563.037109\" xlink:href=\"#DejaVuSans-49\"/>\r\n     <use x=\"626.660156\" xlink:href=\"#DejaVuSans-49\"/>\r\n     <use x=\"690.283203\" xlink:href=\"#DejaVuSans-57\"/>\r\n    </g>\r\n    <!-- value = [117, 2] -->\r\n    <g transform=\"translate(214.186518 128.747609)scale(0.01 -0.01)\">\r\n     <use xlink:href=\"#DejaVuSans-118\"/>\r\n     <use x=\"59.179688\" xlink:href=\"#DejaVuSans-97\"/>\r\n     <use x=\"120.458984\" xlink:href=\"#DejaVuSans-108\"/>\r\n     <use x=\"148.242188\" xlink:href=\"#DejaVuSans-117\"/>\r\n     <use x=\"211.621094\" xlink:href=\"#DejaVuSans-101\"/>\r\n     <use x=\"273.144531\" xlink:href=\"#DejaVuSans-32\"/>\r\n     <use x=\"304.931641\" xlink:href=\"#DejaVuSans-61\"/>\r\n     <use x=\"388.720703\" xlink:href=\"#DejaVuSans-32\"/>\r\n     <use x=\"420.507812\" xlink:href=\"#DejaVuSans-91\"/>\r\n     <use x=\"459.521484\" xlink:href=\"#DejaVuSans-49\"/>\r\n     <use x=\"523.144531\" xlink:href=\"#DejaVuSans-49\"/>\r\n     <use x=\"586.767578\" xlink:href=\"#DejaVuSans-55\"/>\r\n     <use x=\"650.390625\" xlink:href=\"#DejaVuSans-44\"/>\r\n     <use x=\"682.177734\" xlink:href=\"#DejaVuSans-32\"/>\r\n     <use x=\"713.964844\" xlink:href=\"#DejaVuSans-50\"/>\r\n     <use x=\"777.587891\" xlink:href=\"#DejaVuSans-93\"/>\r\n    </g>\r\n   </g>\r\n   <g id=\"patch_94\">\r\n    <path d=\"M 234.652452 121.335685 \r\nQ 236.88411 114.668547 239.470649 106.941191 \r\n\" style=\"fill:none;stroke:#000000;stroke-linecap:round;\"/>\r\n    <path d=\"M 234.969076 121.019854 \r\nL 234.652452 121.335685 \r\nL 234.589761 120.892887 \r\n\" style=\"fill:none;stroke:#000000;stroke-linecap:round;\"/>\r\n   </g>\r\n   <g id=\"text_47\">\r\n    <g id=\"patch_95\">\r\n     <path d=\"M 228.97929 128.795687 \r\nL 236.672884 128.795687 \r\nL 236.672884 124.788312 \r\nL 228.97929 124.788312 \r\nz\r\n\" style=\"fill:#ffffff;stroke:#000000;stroke-linejoin:miter;\"/>\r\n    </g>\r\n    <!-- gini = 0.0 -->\r\n    <g transform=\"translate(230.382024 125.948156)scale(0.01 -0.01)\">\r\n     <use xlink:href=\"#DejaVuSans-103\"/>\r\n     <use x=\"63.476562\" xlink:href=\"#DejaVuSans-105\"/>\r\n     <use x=\"91.259766\" xlink:href=\"#DejaVuSans-110\"/>\r\n     <use x=\"154.638672\" xlink:href=\"#DejaVuSans-105\"/>\r\n     <use x=\"182.421875\" xlink:href=\"#DejaVuSans-32\"/>\r\n     <use x=\"214.208984\" xlink:href=\"#DejaVuSans-61\"/>\r\n     <use x=\"297.998047\" xlink:href=\"#DejaVuSans-32\"/>\r\n     <use x=\"329.785156\" xlink:href=\"#DejaVuSans-48\"/>\r\n     <use x=\"393.408203\" xlink:href=\"#DejaVuSans-46\"/>\r\n     <use x=\"425.195312\" xlink:href=\"#DejaVuSans-48\"/>\r\n    </g>\r\n    <!-- samples = 4 -->\r\n    <g transform=\"translate(229.692806 127.067937)scale(0.01 -0.01)\">\r\n     <use xlink:href=\"#DejaVuSans-115\"/>\r\n     <use x=\"52.099609\" xlink:href=\"#DejaVuSans-97\"/>\r\n     <use x=\"113.378906\" xlink:href=\"#DejaVuSans-109\"/>\r\n     <use x=\"210.791016\" xlink:href=\"#DejaVuSans-112\"/>\r\n     <use x=\"274.267578\" xlink:href=\"#DejaVuSans-108\"/>\r\n     <use x=\"302.050781\" xlink:href=\"#DejaVuSans-101\"/>\r\n     <use x=\"363.574219\" xlink:href=\"#DejaVuSans-115\"/>\r\n     <use x=\"415.673828\" xlink:href=\"#DejaVuSans-32\"/>\r\n     <use x=\"447.460938\" xlink:href=\"#DejaVuSans-61\"/>\r\n     <use x=\"531.25\" xlink:href=\"#DejaVuSans-32\"/>\r\n     <use x=\"563.037109\" xlink:href=\"#DejaVuSans-52\"/>\r\n    </g>\r\n    <!-- value = [0, 4] -->\r\n    <g transform=\"translate(229.37929 128.187719)scale(0.01 -0.01)\">\r\n     <use xlink:href=\"#DejaVuSans-118\"/>\r\n     <use x=\"59.179688\" xlink:href=\"#DejaVuSans-97\"/>\r\n     <use x=\"120.458984\" xlink:href=\"#DejaVuSans-108\"/>\r\n     <use x=\"148.242188\" xlink:href=\"#DejaVuSans-117\"/>\r\n     <use x=\"211.621094\" xlink:href=\"#DejaVuSans-101\"/>\r\n     <use x=\"273.144531\" xlink:href=\"#DejaVuSans-32\"/>\r\n     <use x=\"304.931641\" xlink:href=\"#DejaVuSans-61\"/>\r\n     <use x=\"388.720703\" xlink:href=\"#DejaVuSans-32\"/>\r\n     <use x=\"420.507812\" xlink:href=\"#DejaVuSans-91\"/>\r\n     <use x=\"459.521484\" xlink:href=\"#DejaVuSans-48\"/>\r\n     <use x=\"523.144531\" xlink:href=\"#DejaVuSans-44\"/>\r\n     <use x=\"554.931641\" xlink:href=\"#DejaVuSans-32\"/>\r\n     <use x=\"586.71875\" xlink:href=\"#DejaVuSans-52\"/>\r\n     <use x=\"650.341797\" xlink:href=\"#DejaVuSans-93\"/>\r\n    </g>\r\n   </g>\r\n   <g id=\"patch_96\">\r\n    <path d=\"M 245.556244 121.335685 \r\nQ 243.324586 114.668547 240.738046 106.941191 \r\n\" style=\"fill:none;stroke:#000000;stroke-linecap:round;\"/>\r\n    <path d=\"M 245.618935 120.892887 \r\nL 245.556244 121.335685 \r\nL 245.23962 121.019854 \r\n\" style=\"fill:none;stroke:#000000;stroke-linecap:round;\"/>\r\n   </g>\r\n   <g id=\"text_48\">\r\n    <g id=\"patch_97\">\r\n     <path d=\"M 243.535812 128.795687 \r\nL 251.229406 128.795687 \r\nL 251.229406 124.788312 \r\nL 243.535812 124.788312 \r\nz\r\n\" style=\"fill:#ffffff;stroke:#000000;stroke-linejoin:miter;\"/>\r\n    </g>\r\n    <!-- gini = 0.0 -->\r\n    <g transform=\"translate(244.938546 125.948156)scale(0.01 -0.01)\">\r\n     <use xlink:href=\"#DejaVuSans-103\"/>\r\n     <use x=\"63.476562\" xlink:href=\"#DejaVuSans-105\"/>\r\n     <use x=\"91.259766\" xlink:href=\"#DejaVuSans-110\"/>\r\n     <use x=\"154.638672\" xlink:href=\"#DejaVuSans-105\"/>\r\n     <use x=\"182.421875\" xlink:href=\"#DejaVuSans-32\"/>\r\n     <use x=\"214.208984\" xlink:href=\"#DejaVuSans-61\"/>\r\n     <use x=\"297.998047\" xlink:href=\"#DejaVuSans-32\"/>\r\n     <use x=\"329.785156\" xlink:href=\"#DejaVuSans-48\"/>\r\n     <use x=\"393.408203\" xlink:href=\"#DejaVuSans-46\"/>\r\n     <use x=\"425.195312\" xlink:href=\"#DejaVuSans-48\"/>\r\n    </g>\r\n    <!-- samples = 1 -->\r\n    <g transform=\"translate(244.249327 127.067937)scale(0.01 -0.01)\">\r\n     <use xlink:href=\"#DejaVuSans-115\"/>\r\n     <use x=\"52.099609\" xlink:href=\"#DejaVuSans-97\"/>\r\n     <use x=\"113.378906\" xlink:href=\"#DejaVuSans-109\"/>\r\n     <use x=\"210.791016\" xlink:href=\"#DejaVuSans-112\"/>\r\n     <use x=\"274.267578\" xlink:href=\"#DejaVuSans-108\"/>\r\n     <use x=\"302.050781\" xlink:href=\"#DejaVuSans-101\"/>\r\n     <use x=\"363.574219\" xlink:href=\"#DejaVuSans-115\"/>\r\n     <use x=\"415.673828\" xlink:href=\"#DejaVuSans-32\"/>\r\n     <use x=\"447.460938\" xlink:href=\"#DejaVuSans-61\"/>\r\n     <use x=\"531.25\" xlink:href=\"#DejaVuSans-32\"/>\r\n     <use x=\"563.037109\" xlink:href=\"#DejaVuSans-49\"/>\r\n    </g>\r\n    <!-- value = [1, 0] -->\r\n    <g transform=\"translate(243.935812 128.187719)scale(0.01 -0.01)\">\r\n     <use xlink:href=\"#DejaVuSans-118\"/>\r\n     <use x=\"59.179688\" xlink:href=\"#DejaVuSans-97\"/>\r\n     <use x=\"120.458984\" xlink:href=\"#DejaVuSans-108\"/>\r\n     <use x=\"148.242188\" xlink:href=\"#DejaVuSans-117\"/>\r\n     <use x=\"211.621094\" xlink:href=\"#DejaVuSans-101\"/>\r\n     <use x=\"273.144531\" xlink:href=\"#DejaVuSans-32\"/>\r\n     <use x=\"304.931641\" xlink:href=\"#DejaVuSans-61\"/>\r\n     <use x=\"388.720703\" xlink:href=\"#DejaVuSans-32\"/>\r\n     <use x=\"420.507812\" xlink:href=\"#DejaVuSans-91\"/>\r\n     <use x=\"459.521484\" xlink:href=\"#DejaVuSans-49\"/>\r\n     <use x=\"523.144531\" xlink:href=\"#DejaVuSans-44\"/>\r\n     <use x=\"554.931641\" xlink:href=\"#DejaVuSans-32\"/>\r\n     <use x=\"586.71875\" xlink:href=\"#DejaVuSans-48\"/>\r\n     <use x=\"650.341797\" xlink:href=\"#DejaVuSans-93\"/>\r\n    </g>\r\n   </g>\r\n   <g id=\"patch_98\">\r\n    <path d=\"M 278.52438 120.73112 \r\nQ 280.654953 114.365977 283.140406 106.940618 \r\n\" style=\"fill:none;stroke:#000000;stroke-linecap:round;\"/>\r\n    <path d=\"M 278.841004 120.415288 \r\nL 278.52438 120.73112 \r\nL 278.461689 120.288322 \r\n\" style=\"fill:none;stroke:#000000;stroke-linecap:round;\"/>\r\n   </g>\r\n   <g id=\"text_49\">\r\n    <g id=\"patch_99\">\r\n     <path d=\"M 269.66909 129.369484 \r\nL 283.322215 129.369484 \r\nL 283.322215 124.186703 \r\nL 269.66909 124.186703 \r\nz\r\n\" style=\"fill:#ffffff;stroke:#000000;stroke-linejoin:miter;\"/>\r\n    </g>\r\n    <!-- ejection_fraction &lt;= 22.5 -->\r\n    <g transform=\"translate(270.06909 125.374359)scale(0.01 -0.01)\">\r\n     <use xlink:href=\"#DejaVuSans-101\"/>\r\n     <use x=\"61.523438\" xlink:href=\"#DejaVuSans-106\"/>\r\n     <use x=\"89.306641\" xlink:href=\"#DejaVuSans-101\"/>\r\n     <use x=\"150.830078\" xlink:href=\"#DejaVuSans-99\"/>\r\n     <use x=\"205.810547\" xlink:href=\"#DejaVuSans-116\"/>\r\n     <use x=\"245.019531\" xlink:href=\"#DejaVuSans-105\"/>\r\n     <use x=\"272.802734\" xlink:href=\"#DejaVuSans-111\"/>\r\n     <use x=\"333.984375\" xlink:href=\"#DejaVuSans-110\"/>\r\n     <use x=\"397.363281\" xlink:href=\"#DejaVuSans-95\"/>\r\n     <use x=\"447.363281\" xlink:href=\"#DejaVuSans-102\"/>\r\n     <use x=\"482.568359\" xlink:href=\"#DejaVuSans-114\"/>\r\n     <use x=\"523.681641\" xlink:href=\"#DejaVuSans-97\"/>\r\n     <use x=\"584.960938\" xlink:href=\"#DejaVuSans-99\"/>\r\n     <use x=\"639.941406\" xlink:href=\"#DejaVuSans-116\"/>\r\n     <use x=\"679.150391\" xlink:href=\"#DejaVuSans-105\"/>\r\n     <use x=\"706.933594\" xlink:href=\"#DejaVuSans-111\"/>\r\n     <use x=\"768.115234\" xlink:href=\"#DejaVuSans-110\"/>\r\n     <use x=\"831.494141\" xlink:href=\"#DejaVuSans-32\"/>\r\n     <use x=\"863.28125\" xlink:href=\"#DejaVuSans-60\"/>\r\n     <use x=\"947.070312\" xlink:href=\"#DejaVuSans-61\"/>\r\n     <use x=\"1030.859375\" xlink:href=\"#DejaVuSans-32\"/>\r\n     <use x=\"1062.646484\" xlink:href=\"#DejaVuSans-50\"/>\r\n     <use x=\"1126.269531\" xlink:href=\"#DejaVuSans-50\"/>\r\n     <use x=\"1189.892578\" xlink:href=\"#DejaVuSans-46\"/>\r\n     <use x=\"1221.679688\" xlink:href=\"#DejaVuSans-53\"/>\r\n    </g>\r\n    <!-- gini = 0.444 -->\r\n    <g transform=\"translate(273.41534 126.521953)scale(0.01 -0.01)\">\r\n     <use xlink:href=\"#DejaVuSans-103\"/>\r\n     <use x=\"63.476562\" xlink:href=\"#DejaVuSans-105\"/>\r\n     <use x=\"91.259766\" xlink:href=\"#DejaVuSans-110\"/>\r\n     <use x=\"154.638672\" xlink:href=\"#DejaVuSans-105\"/>\r\n     <use x=\"182.421875\" xlink:href=\"#DejaVuSans-32\"/>\r\n     <use x=\"214.208984\" xlink:href=\"#DejaVuSans-61\"/>\r\n     <use x=\"297.998047\" xlink:href=\"#DejaVuSans-32\"/>\r\n     <use x=\"329.785156\" xlink:href=\"#DejaVuSans-48\"/>\r\n     <use x=\"393.408203\" xlink:href=\"#DejaVuSans-46\"/>\r\n     <use x=\"425.195312\" xlink:href=\"#DejaVuSans-52\"/>\r\n     <use x=\"488.818359\" xlink:href=\"#DejaVuSans-52\"/>\r\n     <use x=\"552.441406\" xlink:href=\"#DejaVuSans-52\"/>\r\n    </g>\r\n    <!-- samples = 12 -->\r\n    <g transform=\"translate(273.044246 127.641734)scale(0.01 -0.01)\">\r\n     <use xlink:href=\"#DejaVuSans-115\"/>\r\n     <use x=\"52.099609\" xlink:href=\"#DejaVuSans-97\"/>\r\n     <use x=\"113.378906\" xlink:href=\"#DejaVuSans-109\"/>\r\n     <use x=\"210.791016\" xlink:href=\"#DejaVuSans-112\"/>\r\n     <use x=\"274.267578\" xlink:href=\"#DejaVuSans-108\"/>\r\n     <use x=\"302.050781\" xlink:href=\"#DejaVuSans-101\"/>\r\n     <use x=\"363.574219\" xlink:href=\"#DejaVuSans-115\"/>\r\n     <use x=\"415.673828\" xlink:href=\"#DejaVuSans-32\"/>\r\n     <use x=\"447.460938\" xlink:href=\"#DejaVuSans-61\"/>\r\n     <use x=\"531.25\" xlink:href=\"#DejaVuSans-32\"/>\r\n     <use x=\"563.037109\" xlink:href=\"#DejaVuSans-49\"/>\r\n     <use x=\"626.660156\" xlink:href=\"#DejaVuSans-50\"/>\r\n    </g>\r\n    <!-- value = [4, 8] -->\r\n    <g transform=\"translate(273.048855 128.761516)scale(0.01 -0.01)\">\r\n     <use xlink:href=\"#DejaVuSans-118\"/>\r\n     <use x=\"59.179688\" xlink:href=\"#DejaVuSans-97\"/>\r\n     <use x=\"120.458984\" xlink:href=\"#DejaVuSans-108\"/>\r\n     <use x=\"148.242188\" xlink:href=\"#DejaVuSans-117\"/>\r\n     <use x=\"211.621094\" xlink:href=\"#DejaVuSans-101\"/>\r\n     <use x=\"273.144531\" xlink:href=\"#DejaVuSans-32\"/>\r\n     <use x=\"304.931641\" xlink:href=\"#DejaVuSans-61\"/>\r\n     <use x=\"388.720703\" xlink:href=\"#DejaVuSans-32\"/>\r\n     <use x=\"420.507812\" xlink:href=\"#DejaVuSans-91\"/>\r\n     <use x=\"459.521484\" xlink:href=\"#DejaVuSans-52\"/>\r\n     <use x=\"523.144531\" xlink:href=\"#DejaVuSans-44\"/>\r\n     <use x=\"554.931641\" xlink:href=\"#DejaVuSans-32\"/>\r\n     <use x=\"586.71875\" xlink:href=\"#DejaVuSans-56\"/>\r\n     <use x=\"650.341797\" xlink:href=\"#DejaVuSans-93\"/>\r\n    </g>\r\n   </g>\r\n   <g id=\"patch_100\">\r\n    <path d=\"M 289.225809 121.335685 \r\nQ 286.994151 114.668547 284.407612 106.941191 \r\n\" style=\"fill:none;stroke:#000000;stroke-linecap:round;\"/>\r\n    <path d=\"M 289.2885 120.892887 \r\nL 289.225809 121.335685 \r\nL 288.909185 121.019854 \r\n\" style=\"fill:none;stroke:#000000;stroke-linecap:round;\"/>\r\n   </g>\r\n   <g id=\"text_50\">\r\n    <g id=\"patch_101\">\r\n     <path d=\"M 287.205377 128.795687 \r\nL 294.898971 128.795687 \r\nL 294.898971 124.788312 \r\nL 287.205377 124.788312 \r\nz\r\n\" style=\"fill:#ffffff;stroke:#000000;stroke-linejoin:miter;\"/>\r\n    </g>\r\n    <!-- gini = 0.0 -->\r\n    <g transform=\"translate(288.608111 125.948156)scale(0.01 -0.01)\">\r\n     <use xlink:href=\"#DejaVuSans-103\"/>\r\n     <use x=\"63.476562\" xlink:href=\"#DejaVuSans-105\"/>\r\n     <use x=\"91.259766\" xlink:href=\"#DejaVuSans-110\"/>\r\n     <use x=\"154.638672\" xlink:href=\"#DejaVuSans-105\"/>\r\n     <use x=\"182.421875\" xlink:href=\"#DejaVuSans-32\"/>\r\n     <use x=\"214.208984\" xlink:href=\"#DejaVuSans-61\"/>\r\n     <use x=\"297.998047\" xlink:href=\"#DejaVuSans-32\"/>\r\n     <use x=\"329.785156\" xlink:href=\"#DejaVuSans-48\"/>\r\n     <use x=\"393.408203\" xlink:href=\"#DejaVuSans-46\"/>\r\n     <use x=\"425.195312\" xlink:href=\"#DejaVuSans-48\"/>\r\n    </g>\r\n    <!-- samples = 5 -->\r\n    <g transform=\"translate(287.918893 127.067937)scale(0.01 -0.01)\">\r\n     <use xlink:href=\"#DejaVuSans-115\"/>\r\n     <use x=\"52.099609\" xlink:href=\"#DejaVuSans-97\"/>\r\n     <use x=\"113.378906\" xlink:href=\"#DejaVuSans-109\"/>\r\n     <use x=\"210.791016\" xlink:href=\"#DejaVuSans-112\"/>\r\n     <use x=\"274.267578\" xlink:href=\"#DejaVuSans-108\"/>\r\n     <use x=\"302.050781\" xlink:href=\"#DejaVuSans-101\"/>\r\n     <use x=\"363.574219\" xlink:href=\"#DejaVuSans-115\"/>\r\n     <use x=\"415.673828\" xlink:href=\"#DejaVuSans-32\"/>\r\n     <use x=\"447.460938\" xlink:href=\"#DejaVuSans-61\"/>\r\n     <use x=\"531.25\" xlink:href=\"#DejaVuSans-32\"/>\r\n     <use x=\"563.037109\" xlink:href=\"#DejaVuSans-53\"/>\r\n    </g>\r\n    <!-- value = [0, 5] -->\r\n    <g transform=\"translate(287.605377 128.187719)scale(0.01 -0.01)\">\r\n     <use xlink:href=\"#DejaVuSans-118\"/>\r\n     <use x=\"59.179688\" xlink:href=\"#DejaVuSans-97\"/>\r\n     <use x=\"120.458984\" xlink:href=\"#DejaVuSans-108\"/>\r\n     <use x=\"148.242188\" xlink:href=\"#DejaVuSans-117\"/>\r\n     <use x=\"211.621094\" xlink:href=\"#DejaVuSans-101\"/>\r\n     <use x=\"273.144531\" xlink:href=\"#DejaVuSans-32\"/>\r\n     <use x=\"304.931641\" xlink:href=\"#DejaVuSans-61\"/>\r\n     <use x=\"388.720703\" xlink:href=\"#DejaVuSans-32\"/>\r\n     <use x=\"420.507812\" xlink:href=\"#DejaVuSans-91\"/>\r\n     <use x=\"459.521484\" xlink:href=\"#DejaVuSans-48\"/>\r\n     <use x=\"523.144531\" xlink:href=\"#DejaVuSans-44\"/>\r\n     <use x=\"554.931641\" xlink:href=\"#DejaVuSans-32\"/>\r\n     <use x=\"586.71875\" xlink:href=\"#DejaVuSans-53\"/>\r\n     <use x=\"650.341797\" xlink:href=\"#DejaVuSans-93\"/>\r\n    </g>\r\n   </g>\r\n   <g id=\"patch_102\">\r\n    <path d=\"M 307.435061 121.335685 \r\nQ 309.666719 114.668547 312.253258 106.941191 \r\n\" style=\"fill:none;stroke:#000000;stroke-linecap:round;\"/>\r\n    <path d=\"M 307.751684 121.019854 \r\nL 307.435061 121.335685 \r\nL 307.37237 120.892887 \r\n\" style=\"fill:none;stroke:#000000;stroke-linecap:round;\"/>\r\n   </g>\r\n   <g id=\"text_51\">\r\n    <g id=\"patch_103\">\r\n     <path d=\"M 301.443774 128.795687 \r\nL 309.773618 128.795687 \r\nL 309.773618 124.788312 \r\nL 301.443774 124.788312 \r\nz\r\n\" style=\"fill:#ffffff;stroke:#000000;stroke-linejoin:miter;\"/>\r\n    </g>\r\n    <!-- gini = 0.0 -->\r\n    <g transform=\"translate(303.164633 125.948156)scale(0.01 -0.01)\">\r\n     <use xlink:href=\"#DejaVuSans-103\"/>\r\n     <use x=\"63.476562\" xlink:href=\"#DejaVuSans-105\"/>\r\n     <use x=\"91.259766\" xlink:href=\"#DejaVuSans-110\"/>\r\n     <use x=\"154.638672\" xlink:href=\"#DejaVuSans-105\"/>\r\n     <use x=\"182.421875\" xlink:href=\"#DejaVuSans-32\"/>\r\n     <use x=\"214.208984\" xlink:href=\"#DejaVuSans-61\"/>\r\n     <use x=\"297.998047\" xlink:href=\"#DejaVuSans-32\"/>\r\n     <use x=\"329.785156\" xlink:href=\"#DejaVuSans-48\"/>\r\n     <use x=\"393.408203\" xlink:href=\"#DejaVuSans-46\"/>\r\n     <use x=\"425.195312\" xlink:href=\"#DejaVuSans-48\"/>\r\n    </g>\r\n    <!-- samples = 10 -->\r\n    <g transform=\"translate(302.157289 127.067937)scale(0.01 -0.01)\">\r\n     <use xlink:href=\"#DejaVuSans-115\"/>\r\n     <use x=\"52.099609\" xlink:href=\"#DejaVuSans-97\"/>\r\n     <use x=\"113.378906\" xlink:href=\"#DejaVuSans-109\"/>\r\n     <use x=\"210.791016\" xlink:href=\"#DejaVuSans-112\"/>\r\n     <use x=\"274.267578\" xlink:href=\"#DejaVuSans-108\"/>\r\n     <use x=\"302.050781\" xlink:href=\"#DejaVuSans-101\"/>\r\n     <use x=\"363.574219\" xlink:href=\"#DejaVuSans-115\"/>\r\n     <use x=\"415.673828\" xlink:href=\"#DejaVuSans-32\"/>\r\n     <use x=\"447.460938\" xlink:href=\"#DejaVuSans-61\"/>\r\n     <use x=\"531.25\" xlink:href=\"#DejaVuSans-32\"/>\r\n     <use x=\"563.037109\" xlink:href=\"#DejaVuSans-49\"/>\r\n     <use x=\"626.660156\" xlink:href=\"#DejaVuSans-48\"/>\r\n    </g>\r\n    <!-- value = [10, 0] -->\r\n    <g transform=\"translate(301.843774 128.187719)scale(0.01 -0.01)\">\r\n     <use xlink:href=\"#DejaVuSans-118\"/>\r\n     <use x=\"59.179688\" xlink:href=\"#DejaVuSans-97\"/>\r\n     <use x=\"120.458984\" xlink:href=\"#DejaVuSans-108\"/>\r\n     <use x=\"148.242188\" xlink:href=\"#DejaVuSans-117\"/>\r\n     <use x=\"211.621094\" xlink:href=\"#DejaVuSans-101\"/>\r\n     <use x=\"273.144531\" xlink:href=\"#DejaVuSans-32\"/>\r\n     <use x=\"304.931641\" xlink:href=\"#DejaVuSans-61\"/>\r\n     <use x=\"388.720703\" xlink:href=\"#DejaVuSans-32\"/>\r\n     <use x=\"420.507812\" xlink:href=\"#DejaVuSans-91\"/>\r\n     <use x=\"459.521484\" xlink:href=\"#DejaVuSans-49\"/>\r\n     <use x=\"523.144531\" xlink:href=\"#DejaVuSans-48\"/>\r\n     <use x=\"586.767578\" xlink:href=\"#DejaVuSans-44\"/>\r\n     <use x=\"618.554688\" xlink:href=\"#DejaVuSans-32\"/>\r\n     <use x=\"650.341797\" xlink:href=\"#DejaVuSans-48\"/>\r\n     <use x=\"713.964844\" xlink:href=\"#DejaVuSans-93\"/>\r\n    </g>\r\n   </g>\r\n   <g id=\"patch_104\">\r\n    <path d=\"M 318.136489 120.73112 \r\nQ 316.005917 114.365977 313.520463 106.940618 \r\n\" style=\"fill:none;stroke:#000000;stroke-linecap:round;\"/>\r\n    <path d=\"M 318.19918 120.288322 \r\nL 318.136489 120.73112 \r\nL 317.819866 120.415288 \r\n\" style=\"fill:none;stroke:#000000;stroke-linecap:round;\"/>\r\n   </g>\r\n   <g id=\"text_52\">\r\n    <g id=\"patch_105\">\r\n     <path d=\"M 310.668733 129.369484 \r\nL 329.661702 129.369484 \r\nL 329.661702 124.186703 \r\nL 310.668733 124.186703 \r\nz\r\n\" style=\"fill:#ffffff;stroke:#000000;stroke-linejoin:miter;\"/>\r\n    </g>\r\n    <!-- creatinine_phosphokinase &lt;= 167.5 -->\r\n    <g transform=\"translate(311.068733 125.374359)scale(0.01 -0.01)\">\r\n     <use xlink:href=\"#DejaVuSans-99\"/>\r\n     <use x=\"54.980469\" xlink:href=\"#DejaVuSans-114\"/>\r\n     <use x=\"93.84375\" xlink:href=\"#DejaVuSans-101\"/>\r\n     <use x=\"155.367188\" xlink:href=\"#DejaVuSans-97\"/>\r\n     <use x=\"216.646484\" xlink:href=\"#DejaVuSans-116\"/>\r\n     <use x=\"255.855469\" xlink:href=\"#DejaVuSans-105\"/>\r\n     <use x=\"283.638672\" xlink:href=\"#DejaVuSans-110\"/>\r\n     <use x=\"347.017578\" xlink:href=\"#DejaVuSans-105\"/>\r\n     <use x=\"374.800781\" xlink:href=\"#DejaVuSans-110\"/>\r\n     <use x=\"438.179688\" xlink:href=\"#DejaVuSans-101\"/>\r\n     <use x=\"499.703125\" xlink:href=\"#DejaVuSans-95\"/>\r\n     <use x=\"549.703125\" xlink:href=\"#DejaVuSans-112\"/>\r\n     <use x=\"613.179688\" xlink:href=\"#DejaVuSans-104\"/>\r\n     <use x=\"676.558594\" xlink:href=\"#DejaVuSans-111\"/>\r\n     <use x=\"737.740234\" xlink:href=\"#DejaVuSans-115\"/>\r\n     <use x=\"789.839844\" xlink:href=\"#DejaVuSans-112\"/>\r\n     <use x=\"853.316406\" xlink:href=\"#DejaVuSans-104\"/>\r\n     <use x=\"916.695312\" xlink:href=\"#DejaVuSans-111\"/>\r\n     <use x=\"977.876953\" xlink:href=\"#DejaVuSans-107\"/>\r\n     <use x=\"1035.787109\" xlink:href=\"#DejaVuSans-105\"/>\r\n     <use x=\"1063.570312\" xlink:href=\"#DejaVuSans-110\"/>\r\n     <use x=\"1126.949219\" xlink:href=\"#DejaVuSans-97\"/>\r\n     <use x=\"1188.228516\" xlink:href=\"#DejaVuSans-115\"/>\r\n     <use x=\"1240.328125\" xlink:href=\"#DejaVuSans-101\"/>\r\n     <use x=\"1301.851562\" xlink:href=\"#DejaVuSans-32\"/>\r\n     <use x=\"1333.638672\" xlink:href=\"#DejaVuSans-60\"/>\r\n     <use x=\"1417.427734\" xlink:href=\"#DejaVuSans-61\"/>\r\n     <use x=\"1501.216797\" xlink:href=\"#DejaVuSans-32\"/>\r\n     <use x=\"1533.003906\" xlink:href=\"#DejaVuSans-49\"/>\r\n     <use x=\"1596.626953\" xlink:href=\"#DejaVuSans-54\"/>\r\n     <use x=\"1660.25\" xlink:href=\"#DejaVuSans-55\"/>\r\n     <use x=\"1723.873047\" xlink:href=\"#DejaVuSans-46\"/>\r\n     <use x=\"1755.660156\" xlink:href=\"#DejaVuSans-53\"/>\r\n    </g>\r\n    <!-- gini = 0.5 -->\r\n    <g transform=\"translate(317.721155 126.521953)scale(0.01 -0.01)\">\r\n     <use xlink:href=\"#DejaVuSans-103\"/>\r\n     <use x=\"63.476562\" xlink:href=\"#DejaVuSans-105\"/>\r\n     <use x=\"91.259766\" xlink:href=\"#DejaVuSans-110\"/>\r\n     <use x=\"154.638672\" xlink:href=\"#DejaVuSans-105\"/>\r\n     <use x=\"182.421875\" xlink:href=\"#DejaVuSans-32\"/>\r\n     <use x=\"214.208984\" xlink:href=\"#DejaVuSans-61\"/>\r\n     <use x=\"297.998047\" xlink:href=\"#DejaVuSans-32\"/>\r\n     <use x=\"329.785156\" xlink:href=\"#DejaVuSans-48\"/>\r\n     <use x=\"393.408203\" xlink:href=\"#DejaVuSans-46\"/>\r\n     <use x=\"425.195312\" xlink:href=\"#DejaVuSans-53\"/>\r\n    </g>\r\n    <!-- samples = 6 -->\r\n    <g transform=\"translate(317.031936 127.641734)scale(0.01 -0.01)\">\r\n     <use xlink:href=\"#DejaVuSans-115\"/>\r\n     <use x=\"52.099609\" xlink:href=\"#DejaVuSans-97\"/>\r\n     <use x=\"113.378906\" xlink:href=\"#DejaVuSans-109\"/>\r\n     <use x=\"210.791016\" xlink:href=\"#DejaVuSans-112\"/>\r\n     <use x=\"274.267578\" xlink:href=\"#DejaVuSans-108\"/>\r\n     <use x=\"302.050781\" xlink:href=\"#DejaVuSans-101\"/>\r\n     <use x=\"363.574219\" xlink:href=\"#DejaVuSans-115\"/>\r\n     <use x=\"415.673828\" xlink:href=\"#DejaVuSans-32\"/>\r\n     <use x=\"447.460938\" xlink:href=\"#DejaVuSans-61\"/>\r\n     <use x=\"531.25\" xlink:href=\"#DejaVuSans-32\"/>\r\n     <use x=\"563.037109\" xlink:href=\"#DejaVuSans-54\"/>\r\n    </g>\r\n    <!-- value = [3, 3] -->\r\n    <g transform=\"translate(316.718421 128.761516)scale(0.01 -0.01)\">\r\n     <use xlink:href=\"#DejaVuSans-118\"/>\r\n     <use x=\"59.179688\" xlink:href=\"#DejaVuSans-97\"/>\r\n     <use x=\"120.458984\" xlink:href=\"#DejaVuSans-108\"/>\r\n     <use x=\"148.242188\" xlink:href=\"#DejaVuSans-117\"/>\r\n     <use x=\"211.621094\" xlink:href=\"#DejaVuSans-101\"/>\r\n     <use x=\"273.144531\" xlink:href=\"#DejaVuSans-32\"/>\r\n     <use x=\"304.931641\" xlink:href=\"#DejaVuSans-61\"/>\r\n     <use x=\"388.720703\" xlink:href=\"#DejaVuSans-32\"/>\r\n     <use x=\"420.507812\" xlink:href=\"#DejaVuSans-91\"/>\r\n     <use x=\"459.521484\" xlink:href=\"#DejaVuSans-51\"/>\r\n     <use x=\"523.144531\" xlink:href=\"#DejaVuSans-44\"/>\r\n     <use x=\"554.931641\" xlink:href=\"#DejaVuSans-32\"/>\r\n     <use x=\"586.71875\" xlink:href=\"#DejaVuSans-51\"/>\r\n     <use x=\"650.341797\" xlink:href=\"#DejaVuSans-93\"/>\r\n    </g>\r\n   </g>\r\n   <g id=\"patch_106\">\r\n    <path d=\"M 23.582887 99.591685 \r\nQ 25.814545 92.924547 28.401084 85.197191 \r\n\" style=\"fill:none;stroke:#000000;stroke-linecap:round;\"/>\r\n    <path d=\"M 23.89951 99.275854 \r\nL 23.582887 99.591685 \r\nL 23.520196 99.148887 \r\n\" style=\"fill:none;stroke:#000000;stroke-linecap:round;\"/>\r\n   </g>\r\n   <g id=\"text_53\">\r\n    <g id=\"patch_107\">\r\n     <path d=\"M 17.909725 107.051687 \r\nL 25.603319 107.051687 \r\nL 25.603319 103.044312 \r\nL 17.909725 103.044312 \r\nz\r\n\" style=\"fill:#ffffff;stroke:#000000;stroke-linejoin:miter;\"/>\r\n    </g>\r\n    <!-- gini = 0.0 -->\r\n    <g transform=\"translate(19.312459 104.204156)scale(0.01 -0.01)\">\r\n     <use xlink:href=\"#DejaVuSans-103\"/>\r\n     <use x=\"63.476562\" xlink:href=\"#DejaVuSans-105\"/>\r\n     <use x=\"91.259766\" xlink:href=\"#DejaVuSans-110\"/>\r\n     <use x=\"154.638672\" xlink:href=\"#DejaVuSans-105\"/>\r\n     <use x=\"182.421875\" xlink:href=\"#DejaVuSans-32\"/>\r\n     <use x=\"214.208984\" xlink:href=\"#DejaVuSans-61\"/>\r\n     <use x=\"297.998047\" xlink:href=\"#DejaVuSans-32\"/>\r\n     <use x=\"329.785156\" xlink:href=\"#DejaVuSans-48\"/>\r\n     <use x=\"393.408203\" xlink:href=\"#DejaVuSans-46\"/>\r\n     <use x=\"425.195312\" xlink:href=\"#DejaVuSans-48\"/>\r\n    </g>\r\n    <!-- samples = 4 -->\r\n    <g transform=\"translate(18.62324 105.323937)scale(0.01 -0.01)\">\r\n     <use xlink:href=\"#DejaVuSans-115\"/>\r\n     <use x=\"52.099609\" xlink:href=\"#DejaVuSans-97\"/>\r\n     <use x=\"113.378906\" xlink:href=\"#DejaVuSans-109\"/>\r\n     <use x=\"210.791016\" xlink:href=\"#DejaVuSans-112\"/>\r\n     <use x=\"274.267578\" xlink:href=\"#DejaVuSans-108\"/>\r\n     <use x=\"302.050781\" xlink:href=\"#DejaVuSans-101\"/>\r\n     <use x=\"363.574219\" xlink:href=\"#DejaVuSans-115\"/>\r\n     <use x=\"415.673828\" xlink:href=\"#DejaVuSans-32\"/>\r\n     <use x=\"447.460938\" xlink:href=\"#DejaVuSans-61\"/>\r\n     <use x=\"531.25\" xlink:href=\"#DejaVuSans-32\"/>\r\n     <use x=\"563.037109\" xlink:href=\"#DejaVuSans-52\"/>\r\n    </g>\r\n    <!-- value = [4, 0] -->\r\n    <g transform=\"translate(18.309725 106.443719)scale(0.01 -0.01)\">\r\n     <use xlink:href=\"#DejaVuSans-118\"/>\r\n     <use x=\"59.179688\" xlink:href=\"#DejaVuSans-97\"/>\r\n     <use x=\"120.458984\" xlink:href=\"#DejaVuSans-108\"/>\r\n     <use x=\"148.242188\" xlink:href=\"#DejaVuSans-117\"/>\r\n     <use x=\"211.621094\" xlink:href=\"#DejaVuSans-101\"/>\r\n     <use x=\"273.144531\" xlink:href=\"#DejaVuSans-32\"/>\r\n     <use x=\"304.931641\" xlink:href=\"#DejaVuSans-61\"/>\r\n     <use x=\"388.720703\" xlink:href=\"#DejaVuSans-32\"/>\r\n     <use x=\"420.507812\" xlink:href=\"#DejaVuSans-91\"/>\r\n     <use x=\"459.521484\" xlink:href=\"#DejaVuSans-52\"/>\r\n     <use x=\"523.144531\" xlink:href=\"#DejaVuSans-44\"/>\r\n     <use x=\"554.931641\" xlink:href=\"#DejaVuSans-32\"/>\r\n     <use x=\"586.71875\" xlink:href=\"#DejaVuSans-48\"/>\r\n     <use x=\"650.341797\" xlink:href=\"#DejaVuSans-93\"/>\r\n    </g>\r\n   </g>\r\n   <g id=\"patch_108\">\r\n    <path d=\"M 34.284315 98.98712 \r\nQ 32.153743 92.621977 29.668289 85.196618 \r\n\" style=\"fill:none;stroke:#000000;stroke-linecap:round;\"/>\r\n    <path d=\"M 34.347006 98.544322 \r\nL 34.284315 98.98712 \r\nL 33.967692 98.671288 \r\n\" style=\"fill:none;stroke:#000000;stroke-linecap:round;\"/>\r\n   </g>\r\n   <g id=\"text_54\">\r\n    <g id=\"patch_109\">\r\n     <path d=\"M 26.816559 107.625484 \r\nL 45.809528 107.625484 \r\nL 45.809528 102.442703 \r\nL 26.816559 102.442703 \r\nz\r\n\" style=\"fill:#ffffff;stroke:#000000;stroke-linejoin:miter;\"/>\r\n    </g>\r\n    <!-- creatinine_phosphokinase &lt;= 101.5 -->\r\n    <g transform=\"translate(27.216559 103.630359)scale(0.01 -0.01)\">\r\n     <use xlink:href=\"#DejaVuSans-99\"/>\r\n     <use x=\"54.980469\" xlink:href=\"#DejaVuSans-114\"/>\r\n     <use x=\"93.84375\" xlink:href=\"#DejaVuSans-101\"/>\r\n     <use x=\"155.367188\" xlink:href=\"#DejaVuSans-97\"/>\r\n     <use x=\"216.646484\" xlink:href=\"#DejaVuSans-116\"/>\r\n     <use x=\"255.855469\" xlink:href=\"#DejaVuSans-105\"/>\r\n     <use x=\"283.638672\" xlink:href=\"#DejaVuSans-110\"/>\r\n     <use x=\"347.017578\" xlink:href=\"#DejaVuSans-105\"/>\r\n     <use x=\"374.800781\" xlink:href=\"#DejaVuSans-110\"/>\r\n     <use x=\"438.179688\" xlink:href=\"#DejaVuSans-101\"/>\r\n     <use x=\"499.703125\" xlink:href=\"#DejaVuSans-95\"/>\r\n     <use x=\"549.703125\" xlink:href=\"#DejaVuSans-112\"/>\r\n     <use x=\"613.179688\" xlink:href=\"#DejaVuSans-104\"/>\r\n     <use x=\"676.558594\" xlink:href=\"#DejaVuSans-111\"/>\r\n     <use x=\"737.740234\" xlink:href=\"#DejaVuSans-115\"/>\r\n     <use x=\"789.839844\" xlink:href=\"#DejaVuSans-112\"/>\r\n     <use x=\"853.316406\" xlink:href=\"#DejaVuSans-104\"/>\r\n     <use x=\"916.695312\" xlink:href=\"#DejaVuSans-111\"/>\r\n     <use x=\"977.876953\" xlink:href=\"#DejaVuSans-107\"/>\r\n     <use x=\"1035.787109\" xlink:href=\"#DejaVuSans-105\"/>\r\n     <use x=\"1063.570312\" xlink:href=\"#DejaVuSans-110\"/>\r\n     <use x=\"1126.949219\" xlink:href=\"#DejaVuSans-97\"/>\r\n     <use x=\"1188.228516\" xlink:href=\"#DejaVuSans-115\"/>\r\n     <use x=\"1240.328125\" xlink:href=\"#DejaVuSans-101\"/>\r\n     <use x=\"1301.851562\" xlink:href=\"#DejaVuSans-32\"/>\r\n     <use x=\"1333.638672\" xlink:href=\"#DejaVuSans-60\"/>\r\n     <use x=\"1417.427734\" xlink:href=\"#DejaVuSans-61\"/>\r\n     <use x=\"1501.216797\" xlink:href=\"#DejaVuSans-32\"/>\r\n     <use x=\"1533.003906\" xlink:href=\"#DejaVuSans-49\"/>\r\n     <use x=\"1596.626953\" xlink:href=\"#DejaVuSans-48\"/>\r\n     <use x=\"1660.25\" xlink:href=\"#DejaVuSans-49\"/>\r\n     <use x=\"1723.873047\" xlink:href=\"#DejaVuSans-46\"/>\r\n     <use x=\"1755.660156\" xlink:href=\"#DejaVuSans-53\"/>\r\n    </g>\r\n    <!-- gini = 0.444 -->\r\n    <g transform=\"translate(33.232731 104.777953)scale(0.01 -0.01)\">\r\n     <use xlink:href=\"#DejaVuSans-103\"/>\r\n     <use x=\"63.476562\" xlink:href=\"#DejaVuSans-105\"/>\r\n     <use x=\"91.259766\" xlink:href=\"#DejaVuSans-110\"/>\r\n     <use x=\"154.638672\" xlink:href=\"#DejaVuSans-105\"/>\r\n     <use x=\"182.421875\" xlink:href=\"#DejaVuSans-32\"/>\r\n     <use x=\"214.208984\" xlink:href=\"#DejaVuSans-61\"/>\r\n     <use x=\"297.998047\" xlink:href=\"#DejaVuSans-32\"/>\r\n     <use x=\"329.785156\" xlink:href=\"#DejaVuSans-48\"/>\r\n     <use x=\"393.408203\" xlink:href=\"#DejaVuSans-46\"/>\r\n     <use x=\"425.195312\" xlink:href=\"#DejaVuSans-52\"/>\r\n     <use x=\"488.818359\" xlink:href=\"#DejaVuSans-52\"/>\r\n     <use x=\"552.441406\" xlink:href=\"#DejaVuSans-52\"/>\r\n    </g>\r\n    <!-- samples = 3 -->\r\n    <g transform=\"translate(33.179762 105.897734)scale(0.01 -0.01)\">\r\n     <use xlink:href=\"#DejaVuSans-115\"/>\r\n     <use x=\"52.099609\" xlink:href=\"#DejaVuSans-97\"/>\r\n     <use x=\"113.378906\" xlink:href=\"#DejaVuSans-109\"/>\r\n     <use x=\"210.791016\" xlink:href=\"#DejaVuSans-112\"/>\r\n     <use x=\"274.267578\" xlink:href=\"#DejaVuSans-108\"/>\r\n     <use x=\"302.050781\" xlink:href=\"#DejaVuSans-101\"/>\r\n     <use x=\"363.574219\" xlink:href=\"#DejaVuSans-115\"/>\r\n     <use x=\"415.673828\" xlink:href=\"#DejaVuSans-32\"/>\r\n     <use x=\"447.460938\" xlink:href=\"#DejaVuSans-61\"/>\r\n     <use x=\"531.25\" xlink:href=\"#DejaVuSans-32\"/>\r\n     <use x=\"563.037109\" xlink:href=\"#DejaVuSans-51\"/>\r\n    </g>\r\n    <!-- value = [1, 2] -->\r\n    <g transform=\"translate(32.866247 107.017516)scale(0.01 -0.01)\">\r\n     <use xlink:href=\"#DejaVuSans-118\"/>\r\n     <use x=\"59.179688\" xlink:href=\"#DejaVuSans-97\"/>\r\n     <use x=\"120.458984\" xlink:href=\"#DejaVuSans-108\"/>\r\n     <use x=\"148.242188\" xlink:href=\"#DejaVuSans-117\"/>\r\n     <use x=\"211.621094\" xlink:href=\"#DejaVuSans-101\"/>\r\n     <use x=\"273.144531\" xlink:href=\"#DejaVuSans-32\"/>\r\n     <use x=\"304.931641\" xlink:href=\"#DejaVuSans-61\"/>\r\n     <use x=\"388.720703\" xlink:href=\"#DejaVuSans-32\"/>\r\n     <use x=\"420.507812\" xlink:href=\"#DejaVuSans-91\"/>\r\n     <use x=\"459.521484\" xlink:href=\"#DejaVuSans-49\"/>\r\n     <use x=\"523.144531\" xlink:href=\"#DejaVuSans-44\"/>\r\n     <use x=\"554.931641\" xlink:href=\"#DejaVuSans-32\"/>\r\n     <use x=\"586.71875\" xlink:href=\"#DejaVuSans-50\"/>\r\n     <use x=\"650.341797\" xlink:href=\"#DejaVuSans-93\"/>\r\n    </g>\r\n   </g>\r\n   <g id=\"patch_110\">\r\n    <path d=\"M 69.238839 99.352651 \r\nQ 73.743388 92.62392 78.869899 84.966125 \r\n\" style=\"fill:none;stroke:#000000;stroke-linecap:round;\"/>\r\n    <path d=\"M 69.627555 99.131518 \r\nL 69.238839 99.352651 \r\nL 69.295163 98.908998 \r\n\" style=\"fill:none;stroke:#000000;stroke-linecap:round;\"/>\r\n   </g>\r\n   <g id=\"text_55\">\r\n    <g id=\"patch_111\">\r\n     <path d=\"M 55.929603 107.625484 \r\nL 74.922571 107.625484 \r\nL 74.922571 102.442703 \r\nL 55.929603 102.442703 \r\nz\r\n\" style=\"fill:#ffffff;stroke:#000000;stroke-linejoin:miter;\"/>\r\n    </g>\r\n    <!-- creatinine_phosphokinase &lt;= 594.5 -->\r\n    <g transform=\"translate(56.329603 103.630359)scale(0.01 -0.01)\">\r\n     <use xlink:href=\"#DejaVuSans-99\"/>\r\n     <use x=\"54.980469\" xlink:href=\"#DejaVuSans-114\"/>\r\n     <use x=\"93.84375\" xlink:href=\"#DejaVuSans-101\"/>\r\n     <use x=\"155.367188\" xlink:href=\"#DejaVuSans-97\"/>\r\n     <use x=\"216.646484\" xlink:href=\"#DejaVuSans-116\"/>\r\n     <use x=\"255.855469\" xlink:href=\"#DejaVuSans-105\"/>\r\n     <use x=\"283.638672\" xlink:href=\"#DejaVuSans-110\"/>\r\n     <use x=\"347.017578\" xlink:href=\"#DejaVuSans-105\"/>\r\n     <use x=\"374.800781\" xlink:href=\"#DejaVuSans-110\"/>\r\n     <use x=\"438.179688\" xlink:href=\"#DejaVuSans-101\"/>\r\n     <use x=\"499.703125\" xlink:href=\"#DejaVuSans-95\"/>\r\n     <use x=\"549.703125\" xlink:href=\"#DejaVuSans-112\"/>\r\n     <use x=\"613.179688\" xlink:href=\"#DejaVuSans-104\"/>\r\n     <use x=\"676.558594\" xlink:href=\"#DejaVuSans-111\"/>\r\n     <use x=\"737.740234\" xlink:href=\"#DejaVuSans-115\"/>\r\n     <use x=\"789.839844\" xlink:href=\"#DejaVuSans-112\"/>\r\n     <use x=\"853.316406\" xlink:href=\"#DejaVuSans-104\"/>\r\n     <use x=\"916.695312\" xlink:href=\"#DejaVuSans-111\"/>\r\n     <use x=\"977.876953\" xlink:href=\"#DejaVuSans-107\"/>\r\n     <use x=\"1035.787109\" xlink:href=\"#DejaVuSans-105\"/>\r\n     <use x=\"1063.570312\" xlink:href=\"#DejaVuSans-110\"/>\r\n     <use x=\"1126.949219\" xlink:href=\"#DejaVuSans-97\"/>\r\n     <use x=\"1188.228516\" xlink:href=\"#DejaVuSans-115\"/>\r\n     <use x=\"1240.328125\" xlink:href=\"#DejaVuSans-101\"/>\r\n     <use x=\"1301.851562\" xlink:href=\"#DejaVuSans-32\"/>\r\n     <use x=\"1333.638672\" xlink:href=\"#DejaVuSans-60\"/>\r\n     <use x=\"1417.427734\" xlink:href=\"#DejaVuSans-61\"/>\r\n     <use x=\"1501.216797\" xlink:href=\"#DejaVuSans-32\"/>\r\n     <use x=\"1533.003906\" xlink:href=\"#DejaVuSans-53\"/>\r\n     <use x=\"1596.626953\" xlink:href=\"#DejaVuSans-57\"/>\r\n     <use x=\"1660.25\" xlink:href=\"#DejaVuSans-52\"/>\r\n     <use x=\"1723.873047\" xlink:href=\"#DejaVuSans-46\"/>\r\n     <use x=\"1755.660156\" xlink:href=\"#DejaVuSans-53\"/>\r\n    </g>\r\n    <!-- gini = 0.5 -->\r\n    <g transform=\"translate(62.982024 104.777953)scale(0.01 -0.01)\">\r\n     <use xlink:href=\"#DejaVuSans-103\"/>\r\n     <use x=\"63.476562\" xlink:href=\"#DejaVuSans-105\"/>\r\n     <use x=\"91.259766\" xlink:href=\"#DejaVuSans-110\"/>\r\n     <use x=\"154.638672\" xlink:href=\"#DejaVuSans-105\"/>\r\n     <use x=\"182.421875\" xlink:href=\"#DejaVuSans-32\"/>\r\n     <use x=\"214.208984\" xlink:href=\"#DejaVuSans-61\"/>\r\n     <use x=\"297.998047\" xlink:href=\"#DejaVuSans-32\"/>\r\n     <use x=\"329.785156\" xlink:href=\"#DejaVuSans-48\"/>\r\n     <use x=\"393.408203\" xlink:href=\"#DejaVuSans-46\"/>\r\n     <use x=\"425.195312\" xlink:href=\"#DejaVuSans-53\"/>\r\n    </g>\r\n    <!-- samples = 2 -->\r\n    <g transform=\"translate(62.292806 105.897734)scale(0.01 -0.01)\">\r\n     <use xlink:href=\"#DejaVuSans-115\"/>\r\n     <use x=\"52.099609\" xlink:href=\"#DejaVuSans-97\"/>\r\n     <use x=\"113.378906\" xlink:href=\"#DejaVuSans-109\"/>\r\n     <use x=\"210.791016\" xlink:href=\"#DejaVuSans-112\"/>\r\n     <use x=\"274.267578\" xlink:href=\"#DejaVuSans-108\"/>\r\n     <use x=\"302.050781\" xlink:href=\"#DejaVuSans-101\"/>\r\n     <use x=\"363.574219\" xlink:href=\"#DejaVuSans-115\"/>\r\n     <use x=\"415.673828\" xlink:href=\"#DejaVuSans-32\"/>\r\n     <use x=\"447.460938\" xlink:href=\"#DejaVuSans-61\"/>\r\n     <use x=\"531.25\" xlink:href=\"#DejaVuSans-32\"/>\r\n     <use x=\"563.037109\" xlink:href=\"#DejaVuSans-50\"/>\r\n    </g>\r\n    <!-- value = [1, 1] -->\r\n    <g transform=\"translate(61.97929 107.017516)scale(0.01 -0.01)\">\r\n     <use xlink:href=\"#DejaVuSans-118\"/>\r\n     <use x=\"59.179688\" xlink:href=\"#DejaVuSans-97\"/>\r\n     <use x=\"120.458984\" xlink:href=\"#DejaVuSans-108\"/>\r\n     <use x=\"148.242188\" xlink:href=\"#DejaVuSans-117\"/>\r\n     <use x=\"211.621094\" xlink:href=\"#DejaVuSans-101\"/>\r\n     <use x=\"273.144531\" xlink:href=\"#DejaVuSans-32\"/>\r\n     <use x=\"304.931641\" xlink:href=\"#DejaVuSans-61\"/>\r\n     <use x=\"388.720703\" xlink:href=\"#DejaVuSans-32\"/>\r\n     <use x=\"420.507812\" xlink:href=\"#DejaVuSans-91\"/>\r\n     <use x=\"459.521484\" xlink:href=\"#DejaVuSans-49\"/>\r\n     <use x=\"523.144531\" xlink:href=\"#DejaVuSans-44\"/>\r\n     <use x=\"554.931641\" xlink:href=\"#DejaVuSans-32\"/>\r\n     <use x=\"586.71875\" xlink:href=\"#DejaVuSans-49\"/>\r\n     <use x=\"650.341797\" xlink:href=\"#DejaVuSans-93\"/>\r\n    </g>\r\n   </g>\r\n   <g id=\"patch_112\">\r\n    <path d=\"M 90.752088 99.391055 \r\nQ 86.235943 92.645003 81.097835 84.969885 \r\n\" style=\"fill:none;stroke:#000000;stroke-linecap:round;\"/>\r\n    <path d=\"M 90.695764 98.947402 \r\nL 90.752088 99.391055 \r\nL 90.363372 99.169923 \r\n\" style=\"fill:none;stroke:#000000;stroke-linecap:round;\"/>\r\n   </g>\r\n   <g id=\"text_56\">\r\n    <g id=\"patch_113\">\r\n     <path d=\"M 90.03624 107.611578 \r\nL 99.042021 107.611578 \r\nL 99.042021 102.484422 \r\nL 90.03624 102.484422 \r\nz\r\n\" style=\"fill:#ffffff;stroke:#000000;stroke-linejoin:miter;\"/>\r\n    </g>\r\n    <!-- diabetes &lt;= 0.5 -->\r\n    <g transform=\"translate(90.43624 103.644266)scale(0.01 -0.01)\">\r\n     <use xlink:href=\"#DejaVuSans-100\"/>\r\n     <use x=\"63.476562\" xlink:href=\"#DejaVuSans-105\"/>\r\n     <use x=\"91.259766\" xlink:href=\"#DejaVuSans-97\"/>\r\n     <use x=\"152.539062\" xlink:href=\"#DejaVuSans-98\"/>\r\n     <use x=\"216.015625\" xlink:href=\"#DejaVuSans-101\"/>\r\n     <use x=\"277.539062\" xlink:href=\"#DejaVuSans-116\"/>\r\n     <use x=\"316.748047\" xlink:href=\"#DejaVuSans-101\"/>\r\n     <use x=\"378.271484\" xlink:href=\"#DejaVuSans-115\"/>\r\n     <use x=\"430.371094\" xlink:href=\"#DejaVuSans-32\"/>\r\n     <use x=\"462.158203\" xlink:href=\"#DejaVuSans-60\"/>\r\n     <use x=\"545.947266\" xlink:href=\"#DejaVuSans-61\"/>\r\n     <use x=\"629.736328\" xlink:href=\"#DejaVuSans-32\"/>\r\n     <use x=\"661.523438\" xlink:href=\"#DejaVuSans-48\"/>\r\n     <use x=\"725.146484\" xlink:href=\"#DejaVuSans-46\"/>\r\n     <use x=\"756.933594\" xlink:href=\"#DejaVuSans-53\"/>\r\n    </g>\r\n    <!-- gini = 0.127 -->\r\n    <g transform=\"translate(91.458818 104.764047)scale(0.01 -0.01)\">\r\n     <use xlink:href=\"#DejaVuSans-103\"/>\r\n     <use x=\"63.476562\" xlink:href=\"#DejaVuSans-105\"/>\r\n     <use x=\"91.259766\" xlink:href=\"#DejaVuSans-110\"/>\r\n     <use x=\"154.638672\" xlink:href=\"#DejaVuSans-105\"/>\r\n     <use x=\"182.421875\" xlink:href=\"#DejaVuSans-32\"/>\r\n     <use x=\"214.208984\" xlink:href=\"#DejaVuSans-61\"/>\r\n     <use x=\"297.998047\" xlink:href=\"#DejaVuSans-32\"/>\r\n     <use x=\"329.785156\" xlink:href=\"#DejaVuSans-48\"/>\r\n     <use x=\"393.408203\" xlink:href=\"#DejaVuSans-46\"/>\r\n     <use x=\"425.195312\" xlink:href=\"#DejaVuSans-49\"/>\r\n     <use x=\"488.818359\" xlink:href=\"#DejaVuSans-50\"/>\r\n     <use x=\"552.441406\" xlink:href=\"#DejaVuSans-55\"/>\r\n    </g>\r\n    <!-- samples = 44 -->\r\n    <g transform=\"translate(91.087724 105.883828)scale(0.01 -0.01)\">\r\n     <use xlink:href=\"#DejaVuSans-115\"/>\r\n     <use x=\"52.099609\" xlink:href=\"#DejaVuSans-97\"/>\r\n     <use x=\"113.378906\" xlink:href=\"#DejaVuSans-109\"/>\r\n     <use x=\"210.791016\" xlink:href=\"#DejaVuSans-112\"/>\r\n     <use x=\"274.267578\" xlink:href=\"#DejaVuSans-108\"/>\r\n     <use x=\"302.050781\" xlink:href=\"#DejaVuSans-101\"/>\r\n     <use x=\"363.574219\" xlink:href=\"#DejaVuSans-115\"/>\r\n     <use x=\"415.673828\" xlink:href=\"#DejaVuSans-32\"/>\r\n     <use x=\"447.460938\" xlink:href=\"#DejaVuSans-61\"/>\r\n     <use x=\"531.25\" xlink:href=\"#DejaVuSans-32\"/>\r\n     <use x=\"563.037109\" xlink:href=\"#DejaVuSans-52\"/>\r\n     <use x=\"626.660156\" xlink:href=\"#DejaVuSans-52\"/>\r\n    </g>\r\n    <!-- value = [3, 41] -->\r\n    <g transform=\"translate(90.774209 107.003609)scale(0.01 -0.01)\">\r\n     <use xlink:href=\"#DejaVuSans-118\"/>\r\n     <use x=\"59.179688\" xlink:href=\"#DejaVuSans-97\"/>\r\n     <use x=\"120.458984\" xlink:href=\"#DejaVuSans-108\"/>\r\n     <use x=\"148.242188\" xlink:href=\"#DejaVuSans-117\"/>\r\n     <use x=\"211.621094\" xlink:href=\"#DejaVuSans-101\"/>\r\n     <use x=\"273.144531\" xlink:href=\"#DejaVuSans-32\"/>\r\n     <use x=\"304.931641\" xlink:href=\"#DejaVuSans-61\"/>\r\n     <use x=\"388.720703\" xlink:href=\"#DejaVuSans-32\"/>\r\n     <use x=\"420.507812\" xlink:href=\"#DejaVuSans-91\"/>\r\n     <use x=\"459.521484\" xlink:href=\"#DejaVuSans-51\"/>\r\n     <use x=\"523.144531\" xlink:href=\"#DejaVuSans-44\"/>\r\n     <use x=\"554.931641\" xlink:href=\"#DejaVuSans-32\"/>\r\n     <use x=\"586.71875\" xlink:href=\"#DejaVuSans-52\"/>\r\n     <use x=\"650.341797\" xlink:href=\"#DejaVuSans-49\"/>\r\n     <use x=\"713.964844\" xlink:href=\"#DejaVuSans-93\"/>\r\n    </g>\r\n   </g>\r\n   <g id=\"patch_114\">\r\n    <path d=\"M 165.012058 99.650267 \r\nQ 171.478675 92.625107 178.702483 84.777353 \r\n\" style=\"fill:none;stroke:#000000;stroke-linecap:round;\"/>\r\n    <path d=\"M 165.43011 99.491417 \r\nL 165.012058 99.650267 \r\nL 165.13581 99.220516 \r\n\" style=\"fill:none;stroke:#000000;stroke-linecap:round;\"/>\r\n   </g>\r\n   <g id=\"text_57\">\r\n    <g id=\"patch_115\">\r\n     <path d=\"M 152.557697 107.625484 \r\nL 167.52926 107.625484 \r\nL 167.52926 102.442703 \r\nL 152.557697 102.442703 \r\nz\r\n\" style=\"fill:#ffffff;stroke:#000000;stroke-linejoin:miter;\"/>\r\n    </g>\r\n    <!-- high_blood_pressure &lt;= 0.5 -->\r\n    <g transform=\"translate(152.957697 103.630359)scale(0.01 -0.01)\">\r\n     <use xlink:href=\"#DejaVuSans-104\"/>\r\n     <use x=\"63.378906\" xlink:href=\"#DejaVuSans-105\"/>\r\n     <use x=\"91.162109\" xlink:href=\"#DejaVuSans-103\"/>\r\n     <use x=\"154.638672\" xlink:href=\"#DejaVuSans-104\"/>\r\n     <use x=\"218.017578\" xlink:href=\"#DejaVuSans-95\"/>\r\n     <use x=\"268.017578\" xlink:href=\"#DejaVuSans-98\"/>\r\n     <use x=\"331.494141\" xlink:href=\"#DejaVuSans-108\"/>\r\n     <use x=\"359.277344\" xlink:href=\"#DejaVuSans-111\"/>\r\n     <use x=\"420.458984\" xlink:href=\"#DejaVuSans-111\"/>\r\n     <use x=\"481.640625\" xlink:href=\"#DejaVuSans-100\"/>\r\n     <use x=\"545.117188\" xlink:href=\"#DejaVuSans-95\"/>\r\n     <use x=\"595.117188\" xlink:href=\"#DejaVuSans-112\"/>\r\n     <use x=\"658.59375\" xlink:href=\"#DejaVuSans-114\"/>\r\n     <use x=\"697.457031\" xlink:href=\"#DejaVuSans-101\"/>\r\n     <use x=\"758.980469\" xlink:href=\"#DejaVuSans-115\"/>\r\n     <use x=\"811.080078\" xlink:href=\"#DejaVuSans-115\"/>\r\n     <use x=\"863.179688\" xlink:href=\"#DejaVuSans-117\"/>\r\n     <use x=\"926.558594\" xlink:href=\"#DejaVuSans-114\"/>\r\n     <use x=\"965.421875\" xlink:href=\"#DejaVuSans-101\"/>\r\n     <use x=\"1026.945312\" xlink:href=\"#DejaVuSans-32\"/>\r\n     <use x=\"1058.732422\" xlink:href=\"#DejaVuSans-60\"/>\r\n     <use x=\"1142.521484\" xlink:href=\"#DejaVuSans-61\"/>\r\n     <use x=\"1226.310547\" xlink:href=\"#DejaVuSans-32\"/>\r\n     <use x=\"1258.097656\" xlink:href=\"#DejaVuSans-48\"/>\r\n     <use x=\"1321.720703\" xlink:href=\"#DejaVuSans-46\"/>\r\n     <use x=\"1353.507812\" xlink:href=\"#DejaVuSans-53\"/>\r\n    </g>\r\n    <!-- gini = 0.473 -->\r\n    <g transform=\"translate(156.963166 104.777953)scale(0.01 -0.01)\">\r\n     <use xlink:href=\"#DejaVuSans-103\"/>\r\n     <use x=\"63.476562\" xlink:href=\"#DejaVuSans-105\"/>\r\n     <use x=\"91.259766\" xlink:href=\"#DejaVuSans-110\"/>\r\n     <use x=\"154.638672\" xlink:href=\"#DejaVuSans-105\"/>\r\n     <use x=\"182.421875\" xlink:href=\"#DejaVuSans-32\"/>\r\n     <use x=\"214.208984\" xlink:href=\"#DejaVuSans-61\"/>\r\n     <use x=\"297.998047\" xlink:href=\"#DejaVuSans-32\"/>\r\n     <use x=\"329.785156\" xlink:href=\"#DejaVuSans-48\"/>\r\n     <use x=\"393.408203\" xlink:href=\"#DejaVuSans-46\"/>\r\n     <use x=\"425.195312\" xlink:href=\"#DejaVuSans-52\"/>\r\n     <use x=\"488.818359\" xlink:href=\"#DejaVuSans-55\"/>\r\n     <use x=\"552.441406\" xlink:href=\"#DejaVuSans-51\"/>\r\n    </g>\r\n    <!-- samples = 13 -->\r\n    <g transform=\"translate(156.592072 105.897734)scale(0.01 -0.01)\">\r\n     <use xlink:href=\"#DejaVuSans-115\"/>\r\n     <use x=\"52.099609\" xlink:href=\"#DejaVuSans-97\"/>\r\n     <use x=\"113.378906\" xlink:href=\"#DejaVuSans-109\"/>\r\n     <use x=\"210.791016\" xlink:href=\"#DejaVuSans-112\"/>\r\n     <use x=\"274.267578\" xlink:href=\"#DejaVuSans-108\"/>\r\n     <use x=\"302.050781\" xlink:href=\"#DejaVuSans-101\"/>\r\n     <use x=\"363.574219\" xlink:href=\"#DejaVuSans-115\"/>\r\n     <use x=\"415.673828\" xlink:href=\"#DejaVuSans-32\"/>\r\n     <use x=\"447.460938\" xlink:href=\"#DejaVuSans-61\"/>\r\n     <use x=\"531.25\" xlink:href=\"#DejaVuSans-32\"/>\r\n     <use x=\"563.037109\" xlink:href=\"#DejaVuSans-49\"/>\r\n     <use x=\"626.660156\" xlink:href=\"#DejaVuSans-51\"/>\r\n    </g>\r\n    <!-- value = [8, 5] -->\r\n    <g transform=\"translate(156.596681 107.017516)scale(0.01 -0.01)\">\r\n     <use xlink:href=\"#DejaVuSans-118\"/>\r\n     <use x=\"59.179688\" xlink:href=\"#DejaVuSans-97\"/>\r\n     <use x=\"120.458984\" xlink:href=\"#DejaVuSans-108\"/>\r\n     <use x=\"148.242188\" xlink:href=\"#DejaVuSans-117\"/>\r\n     <use x=\"211.621094\" xlink:href=\"#DejaVuSans-101\"/>\r\n     <use x=\"273.144531\" xlink:href=\"#DejaVuSans-32\"/>\r\n     <use x=\"304.931641\" xlink:href=\"#DejaVuSans-61\"/>\r\n     <use x=\"388.720703\" xlink:href=\"#DejaVuSans-32\"/>\r\n     <use x=\"420.507812\" xlink:href=\"#DejaVuSans-91\"/>\r\n     <use x=\"459.521484\" xlink:href=\"#DejaVuSans-56\"/>\r\n     <use x=\"523.144531\" xlink:href=\"#DejaVuSans-44\"/>\r\n     <use x=\"554.931641\" xlink:href=\"#DejaVuSans-32\"/>\r\n     <use x=\"586.71875\" xlink:href=\"#DejaVuSans-53\"/>\r\n     <use x=\"650.341797\" xlink:href=\"#DejaVuSans-93\"/>\r\n    </g>\r\n   </g>\r\n   <g id=\"patch_116\">\r\n    <path d=\"M 195.105333 99.650267 \r\nQ 188.638717 92.625107 181.414908 84.777353 \r\n\" style=\"fill:none;stroke:#000000;stroke-linecap:round;\"/>\r\n    <path d=\"M 194.981582 99.220516 \r\nL 195.105333 99.650267 \r\nL 194.687282 99.491417 \r\n\" style=\"fill:none;stroke:#000000;stroke-linecap:round;\"/>\r\n   </g>\r\n   <g id=\"text_58\">\r\n    <g id=\"patch_117\">\r\n     <path d=\"M 193.078757 107.625484 \r\nL 207.069069 107.625484 \r\nL 207.069069 102.442703 \r\nL 193.078757 102.442703 \r\nz\r\n\" style=\"fill:#ffffff;stroke:#000000;stroke-linejoin:miter;\"/>\r\n    </g>\r\n    <!-- serum_creatinine &lt;= 0.65 -->\r\n    <g transform=\"translate(193.478757 103.630359)scale(0.01 -0.01)\">\r\n     <use xlink:href=\"#DejaVuSans-115\"/>\r\n     <use x=\"52.099609\" xlink:href=\"#DejaVuSans-101\"/>\r\n     <use x=\"113.623047\" xlink:href=\"#DejaVuSans-114\"/>\r\n     <use x=\"154.736328\" xlink:href=\"#DejaVuSans-117\"/>\r\n     <use x=\"218.115234\" xlink:href=\"#DejaVuSans-109\"/>\r\n     <use x=\"315.527344\" xlink:href=\"#DejaVuSans-95\"/>\r\n     <use x=\"365.527344\" xlink:href=\"#DejaVuSans-99\"/>\r\n     <use x=\"420.507812\" xlink:href=\"#DejaVuSans-114\"/>\r\n     <use x=\"459.371094\" xlink:href=\"#DejaVuSans-101\"/>\r\n     <use x=\"520.894531\" xlink:href=\"#DejaVuSans-97\"/>\r\n     <use x=\"582.173828\" xlink:href=\"#DejaVuSans-116\"/>\r\n     <use x=\"621.382812\" xlink:href=\"#DejaVuSans-105\"/>\r\n     <use x=\"649.166016\" xlink:href=\"#DejaVuSans-110\"/>\r\n     <use x=\"712.544922\" xlink:href=\"#DejaVuSans-105\"/>\r\n     <use x=\"740.328125\" xlink:href=\"#DejaVuSans-110\"/>\r\n     <use x=\"803.707031\" xlink:href=\"#DejaVuSans-101\"/>\r\n     <use x=\"865.230469\" xlink:href=\"#DejaVuSans-32\"/>\r\n     <use x=\"897.017578\" xlink:href=\"#DejaVuSans-60\"/>\r\n     <use x=\"980.806641\" xlink:href=\"#DejaVuSans-61\"/>\r\n     <use x=\"1064.595703\" xlink:href=\"#DejaVuSans-32\"/>\r\n     <use x=\"1096.382812\" xlink:href=\"#DejaVuSans-48\"/>\r\n     <use x=\"1160.005859\" xlink:href=\"#DejaVuSans-46\"/>\r\n     <use x=\"1191.792969\" xlink:href=\"#DejaVuSans-54\"/>\r\n     <use x=\"1255.416016\" xlink:href=\"#DejaVuSans-53\"/>\r\n    </g>\r\n    <!-- gini = 0.048 -->\r\n    <g transform=\"translate(196.993601 104.777953)scale(0.01 -0.01)\">\r\n     <use xlink:href=\"#DejaVuSans-103\"/>\r\n     <use x=\"63.476562\" xlink:href=\"#DejaVuSans-105\"/>\r\n     <use x=\"91.259766\" xlink:href=\"#DejaVuSans-110\"/>\r\n     <use x=\"154.638672\" xlink:href=\"#DejaVuSans-105\"/>\r\n     <use x=\"182.421875\" xlink:href=\"#DejaVuSans-32\"/>\r\n     <use x=\"214.208984\" xlink:href=\"#DejaVuSans-61\"/>\r\n     <use x=\"297.998047\" xlink:href=\"#DejaVuSans-32\"/>\r\n     <use x=\"329.785156\" xlink:href=\"#DejaVuSans-48\"/>\r\n     <use x=\"393.408203\" xlink:href=\"#DejaVuSans-46\"/>\r\n     <use x=\"425.195312\" xlink:href=\"#DejaVuSans-48\"/>\r\n     <use x=\"488.818359\" xlink:href=\"#DejaVuSans-52\"/>\r\n     <use x=\"552.441406\" xlink:href=\"#DejaVuSans-56\"/>\r\n    </g>\r\n    <!-- samples = 122 -->\r\n    <g transform=\"translate(196.304382 105.897734)scale(0.01 -0.01)\">\r\n     <use xlink:href=\"#DejaVuSans-115\"/>\r\n     <use x=\"52.099609\" xlink:href=\"#DejaVuSans-97\"/>\r\n     <use x=\"113.378906\" xlink:href=\"#DejaVuSans-109\"/>\r\n     <use x=\"210.791016\" xlink:href=\"#DejaVuSans-112\"/>\r\n     <use x=\"274.267578\" xlink:href=\"#DejaVuSans-108\"/>\r\n     <use x=\"302.050781\" xlink:href=\"#DejaVuSans-101\"/>\r\n     <use x=\"363.574219\" xlink:href=\"#DejaVuSans-115\"/>\r\n     <use x=\"415.673828\" xlink:href=\"#DejaVuSans-32\"/>\r\n     <use x=\"447.460938\" xlink:href=\"#DejaVuSans-61\"/>\r\n     <use x=\"531.25\" xlink:href=\"#DejaVuSans-32\"/>\r\n     <use x=\"563.037109\" xlink:href=\"#DejaVuSans-49\"/>\r\n     <use x=\"626.660156\" xlink:href=\"#DejaVuSans-50\"/>\r\n     <use x=\"690.283203\" xlink:href=\"#DejaVuSans-50\"/>\r\n    </g>\r\n    <!-- value = [119, 3] -->\r\n    <g transform=\"translate(195.990866 107.017516)scale(0.01 -0.01)\">\r\n     <use xlink:href=\"#DejaVuSans-118\"/>\r\n     <use x=\"59.179688\" xlink:href=\"#DejaVuSans-97\"/>\r\n     <use x=\"120.458984\" xlink:href=\"#DejaVuSans-108\"/>\r\n     <use x=\"148.242188\" xlink:href=\"#DejaVuSans-117\"/>\r\n     <use x=\"211.621094\" xlink:href=\"#DejaVuSans-101\"/>\r\n     <use x=\"273.144531\" xlink:href=\"#DejaVuSans-32\"/>\r\n     <use x=\"304.931641\" xlink:href=\"#DejaVuSans-61\"/>\r\n     <use x=\"388.720703\" xlink:href=\"#DejaVuSans-32\"/>\r\n     <use x=\"420.507812\" xlink:href=\"#DejaVuSans-91\"/>\r\n     <use x=\"459.521484\" xlink:href=\"#DejaVuSans-49\"/>\r\n     <use x=\"523.144531\" xlink:href=\"#DejaVuSans-49\"/>\r\n     <use x=\"586.767578\" xlink:href=\"#DejaVuSans-57\"/>\r\n     <use x=\"650.390625\" xlink:href=\"#DejaVuSans-44\"/>\r\n     <use x=\"682.177734\" xlink:href=\"#DejaVuSans-32\"/>\r\n     <use x=\"713.964844\" xlink:href=\"#DejaVuSans-51\"/>\r\n     <use x=\"777.587891\" xlink:href=\"#DejaVuSans-93\"/>\r\n    </g>\r\n   </g>\r\n   <g id=\"patch_118\">\r\n    <path d=\"M 242.118851 99.029617 \r\nQ 244.255732 92.645628 246.747494 85.201422 \r\n\" style=\"fill:none;stroke:#000000;stroke-linecap:round;\"/>\r\n    <path d=\"M 242.435475 98.713785 \r\nL 242.118851 99.029617 \r\nL 242.05616 98.586819 \r\n\" style=\"fill:none;stroke:#000000;stroke-linecap:round;\"/>\r\n   </g>\r\n   <g id=\"text_59\">\r\n    <g id=\"patch_119\">\r\n     <path d=\"M 235.583723 107.611578 \r\nL 244.624973 107.611578 \r\nL 244.624973 102.484422 \r\nL 235.583723 102.484422 \r\nz\r\n\" style=\"fill:#ffffff;stroke:#000000;stroke-linejoin:miter;\"/>\r\n    </g>\r\n    <!-- anaemia &lt;= 0.5 -->\r\n    <g transform=\"translate(235.983723 103.644266)scale(0.01 -0.01)\">\r\n     <use xlink:href=\"#DejaVuSans-97\"/>\r\n     <use x=\"61.279297\" xlink:href=\"#DejaVuSans-110\"/>\r\n     <use x=\"124.658203\" xlink:href=\"#DejaVuSans-97\"/>\r\n     <use x=\"185.9375\" xlink:href=\"#DejaVuSans-101\"/>\r\n     <use x=\"247.460938\" xlink:href=\"#DejaVuSans-109\"/>\r\n     <use x=\"344.873047\" xlink:href=\"#DejaVuSans-105\"/>\r\n     <use x=\"372.65625\" xlink:href=\"#DejaVuSans-97\"/>\r\n     <use x=\"433.935547\" xlink:href=\"#DejaVuSans-32\"/>\r\n     <use x=\"465.722656\" xlink:href=\"#DejaVuSans-60\"/>\r\n     <use x=\"549.511719\" xlink:href=\"#DejaVuSans-61\"/>\r\n     <use x=\"633.300781\" xlink:href=\"#DejaVuSans-32\"/>\r\n     <use x=\"665.087891\" xlink:href=\"#DejaVuSans-48\"/>\r\n     <use x=\"728.710938\" xlink:href=\"#DejaVuSans-46\"/>\r\n     <use x=\"760.498047\" xlink:href=\"#DejaVuSans-53\"/>\r\n    </g>\r\n    <!-- gini = 0.32 -->\r\n    <g transform=\"translate(237.34216 104.764047)scale(0.01 -0.01)\">\r\n     <use xlink:href=\"#DejaVuSans-103\"/>\r\n     <use x=\"63.476562\" xlink:href=\"#DejaVuSans-105\"/>\r\n     <use x=\"91.259766\" xlink:href=\"#DejaVuSans-110\"/>\r\n     <use x=\"154.638672\" xlink:href=\"#DejaVuSans-105\"/>\r\n     <use x=\"182.421875\" xlink:href=\"#DejaVuSans-32\"/>\r\n     <use x=\"214.208984\" xlink:href=\"#DejaVuSans-61\"/>\r\n     <use x=\"297.998047\" xlink:href=\"#DejaVuSans-32\"/>\r\n     <use x=\"329.785156\" xlink:href=\"#DejaVuSans-48\"/>\r\n     <use x=\"393.408203\" xlink:href=\"#DejaVuSans-46\"/>\r\n     <use x=\"425.195312\" xlink:href=\"#DejaVuSans-51\"/>\r\n     <use x=\"488.818359\" xlink:href=\"#DejaVuSans-50\"/>\r\n    </g>\r\n    <!-- samples = 5 -->\r\n    <g transform=\"translate(236.971067 105.883828)scale(0.01 -0.01)\">\r\n     <use xlink:href=\"#DejaVuSans-115\"/>\r\n     <use x=\"52.099609\" xlink:href=\"#DejaVuSans-97\"/>\r\n     <use x=\"113.378906\" xlink:href=\"#DejaVuSans-109\"/>\r\n     <use x=\"210.791016\" xlink:href=\"#DejaVuSans-112\"/>\r\n     <use x=\"274.267578\" xlink:href=\"#DejaVuSans-108\"/>\r\n     <use x=\"302.050781\" xlink:href=\"#DejaVuSans-101\"/>\r\n     <use x=\"363.574219\" xlink:href=\"#DejaVuSans-115\"/>\r\n     <use x=\"415.673828\" xlink:href=\"#DejaVuSans-32\"/>\r\n     <use x=\"447.460938\" xlink:href=\"#DejaVuSans-61\"/>\r\n     <use x=\"531.25\" xlink:href=\"#DejaVuSans-32\"/>\r\n     <use x=\"563.037109\" xlink:href=\"#DejaVuSans-53\"/>\r\n    </g>\r\n    <!-- value = [1, 4] -->\r\n    <g transform=\"translate(236.657551 107.003609)scale(0.01 -0.01)\">\r\n     <use xlink:href=\"#DejaVuSans-118\"/>\r\n     <use x=\"59.179688\" xlink:href=\"#DejaVuSans-97\"/>\r\n     <use x=\"120.458984\" xlink:href=\"#DejaVuSans-108\"/>\r\n     <use x=\"148.242188\" xlink:href=\"#DejaVuSans-117\"/>\r\n     <use x=\"211.621094\" xlink:href=\"#DejaVuSans-101\"/>\r\n     <use x=\"273.144531\" xlink:href=\"#DejaVuSans-32\"/>\r\n     <use x=\"304.931641\" xlink:href=\"#DejaVuSans-61\"/>\r\n     <use x=\"388.720703\" xlink:href=\"#DejaVuSans-32\"/>\r\n     <use x=\"420.507812\" xlink:href=\"#DejaVuSans-91\"/>\r\n     <use x=\"459.521484\" xlink:href=\"#DejaVuSans-49\"/>\r\n     <use x=\"523.144531\" xlink:href=\"#DejaVuSans-44\"/>\r\n     <use x=\"554.931641\" xlink:href=\"#DejaVuSans-32\"/>\r\n     <use x=\"586.71875\" xlink:href=\"#DejaVuSans-52\"/>\r\n     <use x=\"650.341797\" xlink:href=\"#DejaVuSans-93\"/>\r\n    </g>\r\n   </g>\r\n   <g id=\"patch_120\">\r\n    <path d=\"M 252.834504 99.591685 \r\nQ 250.602846 92.924547 248.016307 85.197191 \r\n\" style=\"fill:none;stroke:#000000;stroke-linecap:round;\"/>\r\n    <path d=\"M 252.897196 99.148887 \r\nL 252.834504 99.591685 \r\nL 252.517881 99.275854 \r\n\" style=\"fill:none;stroke:#000000;stroke-linecap:round;\"/>\r\n   </g>\r\n   <g id=\"text_60\">\r\n    <g id=\"patch_121\">\r\n     <path d=\"M 250.814073 107.051687 \r\nL 258.507666 107.051687 \r\nL 258.507666 103.044312 \r\nL 250.814073 103.044312 \r\nz\r\n\" style=\"fill:#ffffff;stroke:#000000;stroke-linejoin:miter;\"/>\r\n    </g>\r\n    <!-- gini = 0.0 -->\r\n    <g transform=\"translate(252.216807 104.204156)scale(0.01 -0.01)\">\r\n     <use xlink:href=\"#DejaVuSans-103\"/>\r\n     <use x=\"63.476562\" xlink:href=\"#DejaVuSans-105\"/>\r\n     <use x=\"91.259766\" xlink:href=\"#DejaVuSans-110\"/>\r\n     <use x=\"154.638672\" xlink:href=\"#DejaVuSans-105\"/>\r\n     <use x=\"182.421875\" xlink:href=\"#DejaVuSans-32\"/>\r\n     <use x=\"214.208984\" xlink:href=\"#DejaVuSans-61\"/>\r\n     <use x=\"297.998047\" xlink:href=\"#DejaVuSans-32\"/>\r\n     <use x=\"329.785156\" xlink:href=\"#DejaVuSans-48\"/>\r\n     <use x=\"393.408203\" xlink:href=\"#DejaVuSans-46\"/>\r\n     <use x=\"425.195312\" xlink:href=\"#DejaVuSans-48\"/>\r\n    </g>\r\n    <!-- samples = 3 -->\r\n    <g transform=\"translate(251.527588 105.323937)scale(0.01 -0.01)\">\r\n     <use xlink:href=\"#DejaVuSans-115\"/>\r\n     <use x=\"52.099609\" xlink:href=\"#DejaVuSans-97\"/>\r\n     <use x=\"113.378906\" xlink:href=\"#DejaVuSans-109\"/>\r\n     <use x=\"210.791016\" xlink:href=\"#DejaVuSans-112\"/>\r\n     <use x=\"274.267578\" xlink:href=\"#DejaVuSans-108\"/>\r\n     <use x=\"302.050781\" xlink:href=\"#DejaVuSans-101\"/>\r\n     <use x=\"363.574219\" xlink:href=\"#DejaVuSans-115\"/>\r\n     <use x=\"415.673828\" xlink:href=\"#DejaVuSans-32\"/>\r\n     <use x=\"447.460938\" xlink:href=\"#DejaVuSans-61\"/>\r\n     <use x=\"531.25\" xlink:href=\"#DejaVuSans-32\"/>\r\n     <use x=\"563.037109\" xlink:href=\"#DejaVuSans-51\"/>\r\n    </g>\r\n    <!-- value = [3, 0] -->\r\n    <g transform=\"translate(251.214073 106.443719)scale(0.01 -0.01)\">\r\n     <use xlink:href=\"#DejaVuSans-118\"/>\r\n     <use x=\"59.179688\" xlink:href=\"#DejaVuSans-97\"/>\r\n     <use x=\"120.458984\" xlink:href=\"#DejaVuSans-108\"/>\r\n     <use x=\"148.242188\" xlink:href=\"#DejaVuSans-117\"/>\r\n     <use x=\"211.621094\" xlink:href=\"#DejaVuSans-101\"/>\r\n     <use x=\"273.144531\" xlink:href=\"#DejaVuSans-32\"/>\r\n     <use x=\"304.931641\" xlink:href=\"#DejaVuSans-61\"/>\r\n     <use x=\"388.720703\" xlink:href=\"#DejaVuSans-32\"/>\r\n     <use x=\"420.507812\" xlink:href=\"#DejaVuSans-91\"/>\r\n     <use x=\"459.521484\" xlink:href=\"#DejaVuSans-51\"/>\r\n     <use x=\"523.144531\" xlink:href=\"#DejaVuSans-44\"/>\r\n     <use x=\"554.931641\" xlink:href=\"#DejaVuSans-32\"/>\r\n     <use x=\"586.71875\" xlink:href=\"#DejaVuSans-48\"/>\r\n     <use x=\"650.341797\" xlink:href=\"#DejaVuSans-93\"/>\r\n    </g>\r\n   </g>\r\n   <g id=\"patch_122\">\r\n    <path d=\"M 271.043756 99.591685 \r\nQ 273.275414 92.924547 275.861954 85.197191 \r\n\" style=\"fill:none;stroke:#000000;stroke-linecap:round;\"/>\r\n    <path d=\"M 271.36038 99.275854 \r\nL 271.043756 99.591685 \r\nL 270.981065 99.148887 \r\n\" style=\"fill:none;stroke:#000000;stroke-linecap:round;\"/>\r\n   </g>\r\n   <g id=\"text_61\">\r\n    <g id=\"patch_123\">\r\n     <path d=\"M 265.370594 107.051687 \r\nL 273.064188 107.051687 \r\nL 273.064188 103.044312 \r\nL 265.370594 103.044312 \r\nz\r\n\" style=\"fill:#ffffff;stroke:#000000;stroke-linejoin:miter;\"/>\r\n    </g>\r\n    <!-- gini = 0.0 -->\r\n    <g transform=\"translate(266.773329 104.204156)scale(0.01 -0.01)\">\r\n     <use xlink:href=\"#DejaVuSans-103\"/>\r\n     <use x=\"63.476562\" xlink:href=\"#DejaVuSans-105\"/>\r\n     <use x=\"91.259766\" xlink:href=\"#DejaVuSans-110\"/>\r\n     <use x=\"154.638672\" xlink:href=\"#DejaVuSans-105\"/>\r\n     <use x=\"182.421875\" xlink:href=\"#DejaVuSans-32\"/>\r\n     <use x=\"214.208984\" xlink:href=\"#DejaVuSans-61\"/>\r\n     <use x=\"297.998047\" xlink:href=\"#DejaVuSans-32\"/>\r\n     <use x=\"329.785156\" xlink:href=\"#DejaVuSans-48\"/>\r\n     <use x=\"393.408203\" xlink:href=\"#DejaVuSans-46\"/>\r\n     <use x=\"425.195312\" xlink:href=\"#DejaVuSans-48\"/>\r\n    </g>\r\n    <!-- samples = 2 -->\r\n    <g transform=\"translate(266.08411 105.323937)scale(0.01 -0.01)\">\r\n     <use xlink:href=\"#DejaVuSans-115\"/>\r\n     <use x=\"52.099609\" xlink:href=\"#DejaVuSans-97\"/>\r\n     <use x=\"113.378906\" xlink:href=\"#DejaVuSans-109\"/>\r\n     <use x=\"210.791016\" xlink:href=\"#DejaVuSans-112\"/>\r\n     <use x=\"274.267578\" xlink:href=\"#DejaVuSans-108\"/>\r\n     <use x=\"302.050781\" xlink:href=\"#DejaVuSans-101\"/>\r\n     <use x=\"363.574219\" xlink:href=\"#DejaVuSans-115\"/>\r\n     <use x=\"415.673828\" xlink:href=\"#DejaVuSans-32\"/>\r\n     <use x=\"447.460938\" xlink:href=\"#DejaVuSans-61\"/>\r\n     <use x=\"531.25\" xlink:href=\"#DejaVuSans-32\"/>\r\n     <use x=\"563.037109\" xlink:href=\"#DejaVuSans-50\"/>\r\n    </g>\r\n    <!-- value = [2, 0] -->\r\n    <g transform=\"translate(265.770594 106.443719)scale(0.01 -0.01)\">\r\n     <use xlink:href=\"#DejaVuSans-118\"/>\r\n     <use x=\"59.179688\" xlink:href=\"#DejaVuSans-97\"/>\r\n     <use x=\"120.458984\" xlink:href=\"#DejaVuSans-108\"/>\r\n     <use x=\"148.242188\" xlink:href=\"#DejaVuSans-117\"/>\r\n     <use x=\"211.621094\" xlink:href=\"#DejaVuSans-101\"/>\r\n     <use x=\"273.144531\" xlink:href=\"#DejaVuSans-32\"/>\r\n     <use x=\"304.931641\" xlink:href=\"#DejaVuSans-61\"/>\r\n     <use x=\"388.720703\" xlink:href=\"#DejaVuSans-32\"/>\r\n     <use x=\"420.507812\" xlink:href=\"#DejaVuSans-91\"/>\r\n     <use x=\"459.521484\" xlink:href=\"#DejaVuSans-50\"/>\r\n     <use x=\"523.144531\" xlink:href=\"#DejaVuSans-44\"/>\r\n     <use x=\"554.931641\" xlink:href=\"#DejaVuSans-32\"/>\r\n     <use x=\"586.71875\" xlink:href=\"#DejaVuSans-48\"/>\r\n     <use x=\"650.341797\" xlink:href=\"#DejaVuSans-93\"/>\r\n    </g>\r\n   </g>\r\n   <g id=\"patch_124\">\r\n    <path d=\"M 281.745185 98.98712 \r\nQ 279.614612 92.621977 277.129159 85.196618 \r\n\" style=\"fill:none;stroke:#000000;stroke-linecap:round;\"/>\r\n    <path d=\"M 281.807876 98.544322 \r\nL 281.745185 98.98712 \r\nL 281.428561 98.671288 \r\n\" style=\"fill:none;stroke:#000000;stroke-linecap:round;\"/>\r\n   </g>\r\n   <g id=\"text_62\">\r\n    <g id=\"patch_125\">\r\n     <path d=\"M 276.947351 107.625484 \r\nL 290.600476 107.625484 \r\nL 290.600476 102.442703 \r\nL 276.947351 102.442703 \r\nz\r\n\" style=\"fill:#ffffff;stroke:#000000;stroke-linejoin:miter;\"/>\r\n    </g>\r\n    <!-- ejection_fraction &lt;= 27.5 -->\r\n    <g transform=\"translate(277.347351 103.630359)scale(0.01 -0.01)\">\r\n     <use xlink:href=\"#DejaVuSans-101\"/>\r\n     <use x=\"61.523438\" xlink:href=\"#DejaVuSans-106\"/>\r\n     <use x=\"89.306641\" xlink:href=\"#DejaVuSans-101\"/>\r\n     <use x=\"150.830078\" xlink:href=\"#DejaVuSans-99\"/>\r\n     <use x=\"205.810547\" xlink:href=\"#DejaVuSans-116\"/>\r\n     <use x=\"245.019531\" xlink:href=\"#DejaVuSans-105\"/>\r\n     <use x=\"272.802734\" xlink:href=\"#DejaVuSans-111\"/>\r\n     <use x=\"333.984375\" xlink:href=\"#DejaVuSans-110\"/>\r\n     <use x=\"397.363281\" xlink:href=\"#DejaVuSans-95\"/>\r\n     <use x=\"447.363281\" xlink:href=\"#DejaVuSans-102\"/>\r\n     <use x=\"482.568359\" xlink:href=\"#DejaVuSans-114\"/>\r\n     <use x=\"523.681641\" xlink:href=\"#DejaVuSans-97\"/>\r\n     <use x=\"584.960938\" xlink:href=\"#DejaVuSans-99\"/>\r\n     <use x=\"639.941406\" xlink:href=\"#DejaVuSans-116\"/>\r\n     <use x=\"679.150391\" xlink:href=\"#DejaVuSans-105\"/>\r\n     <use x=\"706.933594\" xlink:href=\"#DejaVuSans-111\"/>\r\n     <use x=\"768.115234\" xlink:href=\"#DejaVuSans-110\"/>\r\n     <use x=\"831.494141\" xlink:href=\"#DejaVuSans-32\"/>\r\n     <use x=\"863.28125\" xlink:href=\"#DejaVuSans-60\"/>\r\n     <use x=\"947.070312\" xlink:href=\"#DejaVuSans-61\"/>\r\n     <use x=\"1030.859375\" xlink:href=\"#DejaVuSans-32\"/>\r\n     <use x=\"1062.646484\" xlink:href=\"#DejaVuSans-50\"/>\r\n     <use x=\"1126.269531\" xlink:href=\"#DejaVuSans-55\"/>\r\n     <use x=\"1189.892578\" xlink:href=\"#DejaVuSans-46\"/>\r\n     <use x=\"1221.679688\" xlink:href=\"#DejaVuSans-53\"/>\r\n    </g>\r\n    <!-- gini = 0.36 -->\r\n    <g transform=\"translate(281.011726 104.777953)scale(0.01 -0.01)\">\r\n     <use xlink:href=\"#DejaVuSans-103\"/>\r\n     <use x=\"63.476562\" xlink:href=\"#DejaVuSans-105\"/>\r\n     <use x=\"91.259766\" xlink:href=\"#DejaVuSans-110\"/>\r\n     <use x=\"154.638672\" xlink:href=\"#DejaVuSans-105\"/>\r\n     <use x=\"182.421875\" xlink:href=\"#DejaVuSans-32\"/>\r\n     <use x=\"214.208984\" xlink:href=\"#DejaVuSans-61\"/>\r\n     <use x=\"297.998047\" xlink:href=\"#DejaVuSans-32\"/>\r\n     <use x=\"329.785156\" xlink:href=\"#DejaVuSans-48\"/>\r\n     <use x=\"393.408203\" xlink:href=\"#DejaVuSans-46\"/>\r\n     <use x=\"425.195312\" xlink:href=\"#DejaVuSans-51\"/>\r\n     <use x=\"488.818359\" xlink:href=\"#DejaVuSans-54\"/>\r\n    </g>\r\n    <!-- samples = 17 -->\r\n    <g transform=\"translate(280.322507 105.897734)scale(0.01 -0.01)\">\r\n     <use xlink:href=\"#DejaVuSans-115\"/>\r\n     <use x=\"52.099609\" xlink:href=\"#DejaVuSans-97\"/>\r\n     <use x=\"113.378906\" xlink:href=\"#DejaVuSans-109\"/>\r\n     <use x=\"210.791016\" xlink:href=\"#DejaVuSans-112\"/>\r\n     <use x=\"274.267578\" xlink:href=\"#DejaVuSans-108\"/>\r\n     <use x=\"302.050781\" xlink:href=\"#DejaVuSans-101\"/>\r\n     <use x=\"363.574219\" xlink:href=\"#DejaVuSans-115\"/>\r\n     <use x=\"415.673828\" xlink:href=\"#DejaVuSans-32\"/>\r\n     <use x=\"447.460938\" xlink:href=\"#DejaVuSans-61\"/>\r\n     <use x=\"531.25\" xlink:href=\"#DejaVuSans-32\"/>\r\n     <use x=\"563.037109\" xlink:href=\"#DejaVuSans-49\"/>\r\n     <use x=\"626.660156\" xlink:href=\"#DejaVuSans-55\"/>\r\n    </g>\r\n    <!-- value = [4, 13] -->\r\n    <g transform=\"translate(280.008991 107.017516)scale(0.01 -0.01)\">\r\n     <use xlink:href=\"#DejaVuSans-118\"/>\r\n     <use x=\"59.179688\" xlink:href=\"#DejaVuSans-97\"/>\r\n     <use x=\"120.458984\" xlink:href=\"#DejaVuSans-108\"/>\r\n     <use x=\"148.242188\" xlink:href=\"#DejaVuSans-117\"/>\r\n     <use x=\"211.621094\" xlink:href=\"#DejaVuSans-101\"/>\r\n     <use x=\"273.144531\" xlink:href=\"#DejaVuSans-32\"/>\r\n     <use x=\"304.931641\" xlink:href=\"#DejaVuSans-61\"/>\r\n     <use x=\"388.720703\" xlink:href=\"#DejaVuSans-32\"/>\r\n     <use x=\"420.507812\" xlink:href=\"#DejaVuSans-91\"/>\r\n     <use x=\"459.521484\" xlink:href=\"#DejaVuSans-52\"/>\r\n     <use x=\"523.144531\" xlink:href=\"#DejaVuSans-44\"/>\r\n     <use x=\"554.931641\" xlink:href=\"#DejaVuSans-32\"/>\r\n     <use x=\"586.71875\" xlink:href=\"#DejaVuSans-49\"/>\r\n     <use x=\"650.341797\" xlink:href=\"#DejaVuSans-51\"/>\r\n     <use x=\"713.964844\" xlink:href=\"#DejaVuSans-93\"/>\r\n    </g>\r\n   </g>\r\n   <g id=\"patch_126\">\r\n    <path d=\"M 314.90146 99.029617 \r\nQ 317.038341 92.645628 319.530103 85.201422 \r\n\" style=\"fill:none;stroke:#000000;stroke-linecap:round;\"/>\r\n    <path d=\"M 315.218083 98.713785 \r\nL 314.90146 99.029617 \r\nL 314.838769 98.586819 \r\n\" style=\"fill:none;stroke:#000000;stroke-linecap:round;\"/>\r\n   </g>\r\n   <g id=\"text_63\">\r\n    <g id=\"patch_127\">\r\n     <path d=\"M 308.722035 107.611578 \r\nL 317.051878 107.611578 \r\nL 317.051878 102.484422 \r\nL 308.722035 102.484422 \r\nz\r\n\" style=\"fill:#ffffff;stroke:#000000;stroke-linejoin:miter;\"/>\r\n    </g>\r\n    <!-- age &lt;= 71.0 -->\r\n    <g transform=\"translate(309.68641 103.644266)scale(0.01 -0.01)\">\r\n     <use xlink:href=\"#DejaVuSans-97\"/>\r\n     <use x=\"61.279297\" xlink:href=\"#DejaVuSans-103\"/>\r\n     <use x=\"124.755859\" xlink:href=\"#DejaVuSans-101\"/>\r\n     <use x=\"186.279297\" xlink:href=\"#DejaVuSans-32\"/>\r\n     <use x=\"218.066406\" xlink:href=\"#DejaVuSans-60\"/>\r\n     <use x=\"301.855469\" xlink:href=\"#DejaVuSans-61\"/>\r\n     <use x=\"385.644531\" xlink:href=\"#DejaVuSans-32\"/>\r\n     <use x=\"417.431641\" xlink:href=\"#DejaVuSans-55\"/>\r\n     <use x=\"481.054688\" xlink:href=\"#DejaVuSans-49\"/>\r\n     <use x=\"544.677734\" xlink:href=\"#DejaVuSans-46\"/>\r\n     <use x=\"576.464844\" xlink:href=\"#DejaVuSans-48\"/>\r\n    </g>\r\n    <!-- gini = 0.305 -->\r\n    <g transform=\"translate(309.806644 104.764047)scale(0.01 -0.01)\">\r\n     <use xlink:href=\"#DejaVuSans-103\"/>\r\n     <use x=\"63.476562\" xlink:href=\"#DejaVuSans-105\"/>\r\n     <use x=\"91.259766\" xlink:href=\"#DejaVuSans-110\"/>\r\n     <use x=\"154.638672\" xlink:href=\"#DejaVuSans-105\"/>\r\n     <use x=\"182.421875\" xlink:href=\"#DejaVuSans-32\"/>\r\n     <use x=\"214.208984\" xlink:href=\"#DejaVuSans-61\"/>\r\n     <use x=\"297.998047\" xlink:href=\"#DejaVuSans-32\"/>\r\n     <use x=\"329.785156\" xlink:href=\"#DejaVuSans-48\"/>\r\n     <use x=\"393.408203\" xlink:href=\"#DejaVuSans-46\"/>\r\n     <use x=\"425.195312\" xlink:href=\"#DejaVuSans-51\"/>\r\n     <use x=\"488.818359\" xlink:href=\"#DejaVuSans-48\"/>\r\n     <use x=\"552.441406\" xlink:href=\"#DejaVuSans-53\"/>\r\n    </g>\r\n    <!-- samples = 16 -->\r\n    <g transform=\"translate(309.43555 105.883828)scale(0.01 -0.01)\">\r\n     <use xlink:href=\"#DejaVuSans-115\"/>\r\n     <use x=\"52.099609\" xlink:href=\"#DejaVuSans-97\"/>\r\n     <use x=\"113.378906\" xlink:href=\"#DejaVuSans-109\"/>\r\n     <use x=\"210.791016\" xlink:href=\"#DejaVuSans-112\"/>\r\n     <use x=\"274.267578\" xlink:href=\"#DejaVuSans-108\"/>\r\n     <use x=\"302.050781\" xlink:href=\"#DejaVuSans-101\"/>\r\n     <use x=\"363.574219\" xlink:href=\"#DejaVuSans-115\"/>\r\n     <use x=\"415.673828\" xlink:href=\"#DejaVuSans-32\"/>\r\n     <use x=\"447.460938\" xlink:href=\"#DejaVuSans-61\"/>\r\n     <use x=\"531.25\" xlink:href=\"#DejaVuSans-32\"/>\r\n     <use x=\"563.037109\" xlink:href=\"#DejaVuSans-49\"/>\r\n     <use x=\"626.660156\" xlink:href=\"#DejaVuSans-54\"/>\r\n    </g>\r\n    <!-- value = [13, 3] -->\r\n    <g transform=\"translate(309.122035 107.003609)scale(0.01 -0.01)\">\r\n     <use xlink:href=\"#DejaVuSans-118\"/>\r\n     <use x=\"59.179688\" xlink:href=\"#DejaVuSans-97\"/>\r\n     <use x=\"120.458984\" xlink:href=\"#DejaVuSans-108\"/>\r\n     <use x=\"148.242188\" xlink:href=\"#DejaVuSans-117\"/>\r\n     <use x=\"211.621094\" xlink:href=\"#DejaVuSans-101\"/>\r\n     <use x=\"273.144531\" xlink:href=\"#DejaVuSans-32\"/>\r\n     <use x=\"304.931641\" xlink:href=\"#DejaVuSans-61\"/>\r\n     <use x=\"388.720703\" xlink:href=\"#DejaVuSans-32\"/>\r\n     <use x=\"420.507812\" xlink:href=\"#DejaVuSans-91\"/>\r\n     <use x=\"459.521484\" xlink:href=\"#DejaVuSans-49\"/>\r\n     <use x=\"523.144531\" xlink:href=\"#DejaVuSans-51\"/>\r\n     <use x=\"586.767578\" xlink:href=\"#DejaVuSans-44\"/>\r\n     <use x=\"618.554688\" xlink:href=\"#DejaVuSans-32\"/>\r\n     <use x=\"650.341797\" xlink:href=\"#DejaVuSans-51\"/>\r\n     <use x=\"713.964844\" xlink:href=\"#DejaVuSans-93\"/>\r\n    </g>\r\n   </g>\r\n   <g id=\"patch_128\">\r\n    <path d=\"M 325.617113 99.591685 \r\nQ 323.385455 92.924547 320.798916 85.197191 \r\n\" style=\"fill:none;stroke:#000000;stroke-linecap:round;\"/>\r\n    <path d=\"M 325.679804 99.148887 \r\nL 325.617113 99.591685 \r\nL 325.30049 99.275854 \r\n\" style=\"fill:none;stroke:#000000;stroke-linecap:round;\"/>\r\n   </g>\r\n   <g id=\"text_64\">\r\n    <g id=\"patch_129\">\r\n     <path d=\"M 323.596681 107.051687 \r\nL 331.290275 107.051687 \r\nL 331.290275 103.044312 \r\nL 323.596681 103.044312 \r\nz\r\n\" style=\"fill:#ffffff;stroke:#000000;stroke-linejoin:miter;\"/>\r\n    </g>\r\n    <!-- gini = 0.0 -->\r\n    <g transform=\"translate(324.999416 104.204156)scale(0.01 -0.01)\">\r\n     <use xlink:href=\"#DejaVuSans-103\"/>\r\n     <use x=\"63.476562\" xlink:href=\"#DejaVuSans-105\"/>\r\n     <use x=\"91.259766\" xlink:href=\"#DejaVuSans-110\"/>\r\n     <use x=\"154.638672\" xlink:href=\"#DejaVuSans-105\"/>\r\n     <use x=\"182.421875\" xlink:href=\"#DejaVuSans-32\"/>\r\n     <use x=\"214.208984\" xlink:href=\"#DejaVuSans-61\"/>\r\n     <use x=\"297.998047\" xlink:href=\"#DejaVuSans-32\"/>\r\n     <use x=\"329.785156\" xlink:href=\"#DejaVuSans-48\"/>\r\n     <use x=\"393.408203\" xlink:href=\"#DejaVuSans-46\"/>\r\n     <use x=\"425.195312\" xlink:href=\"#DejaVuSans-48\"/>\r\n    </g>\r\n    <!-- samples = 2 -->\r\n    <g transform=\"translate(324.310197 105.323937)scale(0.01 -0.01)\">\r\n     <use xlink:href=\"#DejaVuSans-115\"/>\r\n     <use x=\"52.099609\" xlink:href=\"#DejaVuSans-97\"/>\r\n     <use x=\"113.378906\" xlink:href=\"#DejaVuSans-109\"/>\r\n     <use x=\"210.791016\" xlink:href=\"#DejaVuSans-112\"/>\r\n     <use x=\"274.267578\" xlink:href=\"#DejaVuSans-108\"/>\r\n     <use x=\"302.050781\" xlink:href=\"#DejaVuSans-101\"/>\r\n     <use x=\"363.574219\" xlink:href=\"#DejaVuSans-115\"/>\r\n     <use x=\"415.673828\" xlink:href=\"#DejaVuSans-32\"/>\r\n     <use x=\"447.460938\" xlink:href=\"#DejaVuSans-61\"/>\r\n     <use x=\"531.25\" xlink:href=\"#DejaVuSans-32\"/>\r\n     <use x=\"563.037109\" xlink:href=\"#DejaVuSans-50\"/>\r\n    </g>\r\n    <!-- value = [0, 2] -->\r\n    <g transform=\"translate(323.996681 106.443719)scale(0.01 -0.01)\">\r\n     <use xlink:href=\"#DejaVuSans-118\"/>\r\n     <use x=\"59.179688\" xlink:href=\"#DejaVuSans-97\"/>\r\n     <use x=\"120.458984\" xlink:href=\"#DejaVuSans-108\"/>\r\n     <use x=\"148.242188\" xlink:href=\"#DejaVuSans-117\"/>\r\n     <use x=\"211.621094\" xlink:href=\"#DejaVuSans-101\"/>\r\n     <use x=\"273.144531\" xlink:href=\"#DejaVuSans-32\"/>\r\n     <use x=\"304.931641\" xlink:href=\"#DejaVuSans-61\"/>\r\n     <use x=\"388.720703\" xlink:href=\"#DejaVuSans-32\"/>\r\n     <use x=\"420.507812\" xlink:href=\"#DejaVuSans-91\"/>\r\n     <use x=\"459.521484\" xlink:href=\"#DejaVuSans-48\"/>\r\n     <use x=\"523.144531\" xlink:href=\"#DejaVuSans-44\"/>\r\n     <use x=\"554.931641\" xlink:href=\"#DejaVuSans-32\"/>\r\n     <use x=\"586.71875\" xlink:href=\"#DejaVuSans-50\"/>\r\n     <use x=\"650.341797\" xlink:href=\"#DejaVuSans-93\"/>\r\n    </g>\r\n   </g>\r\n   <g id=\"patch_130\">\r\n    <path d=\"M 16.304626 77.847685 \r\nQ 18.536284 71.180547 21.122823 63.453191 \r\n\" style=\"fill:none;stroke:#000000;stroke-linecap:round;\"/>\r\n    <path d=\"M 16.621249 77.531854 \r\nL 16.304626 77.847685 \r\nL 16.241935 77.404887 \r\n\" style=\"fill:none;stroke:#000000;stroke-linecap:round;\"/>\r\n   </g>\r\n   <g id=\"text_65\">\r\n    <g id=\"patch_131\">\r\n     <path d=\"M 10.631464 85.307687 \r\nL 18.325058 85.307687 \r\nL 18.325058 81.300312 \r\nL 10.631464 81.300312 \r\nz\r\n\" style=\"fill:#ffffff;stroke:#000000;stroke-linejoin:miter;\"/>\r\n    </g>\r\n    <!-- gini = 0.0 -->\r\n    <g transform=\"translate(12.034198 82.460156)scale(0.01 -0.01)\">\r\n     <use xlink:href=\"#DejaVuSans-103\"/>\r\n     <use x=\"63.476562\" xlink:href=\"#DejaVuSans-105\"/>\r\n     <use x=\"91.259766\" xlink:href=\"#DejaVuSans-110\"/>\r\n     <use x=\"154.638672\" xlink:href=\"#DejaVuSans-105\"/>\r\n     <use x=\"182.421875\" xlink:href=\"#DejaVuSans-32\"/>\r\n     <use x=\"214.208984\" xlink:href=\"#DejaVuSans-61\"/>\r\n     <use x=\"297.998047\" xlink:href=\"#DejaVuSans-32\"/>\r\n     <use x=\"329.785156\" xlink:href=\"#DejaVuSans-48\"/>\r\n     <use x=\"393.408203\" xlink:href=\"#DejaVuSans-46\"/>\r\n     <use x=\"425.195312\" xlink:href=\"#DejaVuSans-48\"/>\r\n    </g>\r\n    <!-- samples = 5 -->\r\n    <g transform=\"translate(11.34498 83.579937)scale(0.01 -0.01)\">\r\n     <use xlink:href=\"#DejaVuSans-115\"/>\r\n     <use x=\"52.099609\" xlink:href=\"#DejaVuSans-97\"/>\r\n     <use x=\"113.378906\" xlink:href=\"#DejaVuSans-109\"/>\r\n     <use x=\"210.791016\" xlink:href=\"#DejaVuSans-112\"/>\r\n     <use x=\"274.267578\" xlink:href=\"#DejaVuSans-108\"/>\r\n     <use x=\"302.050781\" xlink:href=\"#DejaVuSans-101\"/>\r\n     <use x=\"363.574219\" xlink:href=\"#DejaVuSans-115\"/>\r\n     <use x=\"415.673828\" xlink:href=\"#DejaVuSans-32\"/>\r\n     <use x=\"447.460938\" xlink:href=\"#DejaVuSans-61\"/>\r\n     <use x=\"531.25\" xlink:href=\"#DejaVuSans-32\"/>\r\n     <use x=\"563.037109\" xlink:href=\"#DejaVuSans-53\"/>\r\n    </g>\r\n    <!-- value = [0, 5] -->\r\n    <g transform=\"translate(11.031464 84.699719)scale(0.01 -0.01)\">\r\n     <use xlink:href=\"#DejaVuSans-118\"/>\r\n     <use x=\"59.179688\" xlink:href=\"#DejaVuSans-97\"/>\r\n     <use x=\"120.458984\" xlink:href=\"#DejaVuSans-108\"/>\r\n     <use x=\"148.242188\" xlink:href=\"#DejaVuSans-117\"/>\r\n     <use x=\"211.621094\" xlink:href=\"#DejaVuSans-101\"/>\r\n     <use x=\"273.144531\" xlink:href=\"#DejaVuSans-32\"/>\r\n     <use x=\"304.931641\" xlink:href=\"#DejaVuSans-61\"/>\r\n     <use x=\"388.720703\" xlink:href=\"#DejaVuSans-32\"/>\r\n     <use x=\"420.507812\" xlink:href=\"#DejaVuSans-91\"/>\r\n     <use x=\"459.521484\" xlink:href=\"#DejaVuSans-48\"/>\r\n     <use x=\"523.144531\" xlink:href=\"#DejaVuSans-44\"/>\r\n     <use x=\"554.931641\" xlink:href=\"#DejaVuSans-32\"/>\r\n     <use x=\"586.71875\" xlink:href=\"#DejaVuSans-53\"/>\r\n     <use x=\"650.341797\" xlink:href=\"#DejaVuSans-93\"/>\r\n    </g>\r\n   </g>\r\n   <g id=\"patch_132\">\r\n    <path d=\"M 27.006054 77.24312 \r\nQ 24.875482 70.877977 22.390028 63.452618 \r\n\" style=\"fill:none;stroke:#000000;stroke-linecap:round;\"/>\r\n    <path d=\"M 27.068746 76.800322 \r\nL 27.006054 77.24312 \r\nL 26.689431 76.927288 \r\n\" style=\"fill:none;stroke:#000000;stroke-linecap:round;\"/>\r\n   </g>\r\n   <g id=\"text_66\">\r\n    <g id=\"patch_133\">\r\n     <path d=\"M 22.393376 85.881484 \r\nL 35.676189 85.881484 \r\nL 35.676189 80.698703 \r\nL 22.393376 80.698703 \r\nz\r\n\" style=\"fill:#ffffff;stroke:#000000;stroke-linejoin:miter;\"/>\r\n    </g>\r\n    <!-- serum_sodium &lt;= 138.5 -->\r\n    <g transform=\"translate(22.793376 81.886359)scale(0.01 -0.01)\">\r\n     <use xlink:href=\"#DejaVuSans-115\"/>\r\n     <use x=\"52.099609\" xlink:href=\"#DejaVuSans-101\"/>\r\n     <use x=\"113.623047\" xlink:href=\"#DejaVuSans-114\"/>\r\n     <use x=\"154.736328\" xlink:href=\"#DejaVuSans-117\"/>\r\n     <use x=\"218.115234\" xlink:href=\"#DejaVuSans-109\"/>\r\n     <use x=\"315.527344\" xlink:href=\"#DejaVuSans-95\"/>\r\n     <use x=\"365.527344\" xlink:href=\"#DejaVuSans-115\"/>\r\n     <use x=\"417.626953\" xlink:href=\"#DejaVuSans-111\"/>\r\n     <use x=\"478.808594\" xlink:href=\"#DejaVuSans-100\"/>\r\n     <use x=\"542.285156\" xlink:href=\"#DejaVuSans-105\"/>\r\n     <use x=\"570.068359\" xlink:href=\"#DejaVuSans-117\"/>\r\n     <use x=\"633.447266\" xlink:href=\"#DejaVuSans-109\"/>\r\n     <use x=\"730.859375\" xlink:href=\"#DejaVuSans-32\"/>\r\n     <use x=\"762.646484\" xlink:href=\"#DejaVuSans-60\"/>\r\n     <use x=\"846.435547\" xlink:href=\"#DejaVuSans-61\"/>\r\n     <use x=\"930.224609\" xlink:href=\"#DejaVuSans-32\"/>\r\n     <use x=\"962.011719\" xlink:href=\"#DejaVuSans-49\"/>\r\n     <use x=\"1025.634766\" xlink:href=\"#DejaVuSans-51\"/>\r\n     <use x=\"1089.257812\" xlink:href=\"#DejaVuSans-56\"/>\r\n     <use x=\"1152.880859\" xlink:href=\"#DejaVuSans-46\"/>\r\n     <use x=\"1184.667969\" xlink:href=\"#DejaVuSans-53\"/>\r\n    </g>\r\n    <!-- gini = 0.408 -->\r\n    <g transform=\"translate(25.95447 83.033953)scale(0.01 -0.01)\">\r\n     <use xlink:href=\"#DejaVuSans-103\"/>\r\n     <use x=\"63.476562\" xlink:href=\"#DejaVuSans-105\"/>\r\n     <use x=\"91.259766\" xlink:href=\"#DejaVuSans-110\"/>\r\n     <use x=\"154.638672\" xlink:href=\"#DejaVuSans-105\"/>\r\n     <use x=\"182.421875\" xlink:href=\"#DejaVuSans-32\"/>\r\n     <use x=\"214.208984\" xlink:href=\"#DejaVuSans-61\"/>\r\n     <use x=\"297.998047\" xlink:href=\"#DejaVuSans-32\"/>\r\n     <use x=\"329.785156\" xlink:href=\"#DejaVuSans-48\"/>\r\n     <use x=\"393.408203\" xlink:href=\"#DejaVuSans-46\"/>\r\n     <use x=\"425.195312\" xlink:href=\"#DejaVuSans-52\"/>\r\n     <use x=\"488.818359\" xlink:href=\"#DejaVuSans-48\"/>\r\n     <use x=\"552.441406\" xlink:href=\"#DejaVuSans-56\"/>\r\n    </g>\r\n    <!-- samples = 7 -->\r\n    <g transform=\"translate(25.901501 84.153734)scale(0.01 -0.01)\">\r\n     <use xlink:href=\"#DejaVuSans-115\"/>\r\n     <use x=\"52.099609\" xlink:href=\"#DejaVuSans-97\"/>\r\n     <use x=\"113.378906\" xlink:href=\"#DejaVuSans-109\"/>\r\n     <use x=\"210.791016\" xlink:href=\"#DejaVuSans-112\"/>\r\n     <use x=\"274.267578\" xlink:href=\"#DejaVuSans-108\"/>\r\n     <use x=\"302.050781\" xlink:href=\"#DejaVuSans-101\"/>\r\n     <use x=\"363.574219\" xlink:href=\"#DejaVuSans-115\"/>\r\n     <use x=\"415.673828\" xlink:href=\"#DejaVuSans-32\"/>\r\n     <use x=\"447.460938\" xlink:href=\"#DejaVuSans-61\"/>\r\n     <use x=\"531.25\" xlink:href=\"#DejaVuSans-32\"/>\r\n     <use x=\"563.037109\" xlink:href=\"#DejaVuSans-55\"/>\r\n    </g>\r\n    <!-- value = [5, 2] -->\r\n    <g transform=\"translate(25.587986 85.273516)scale(0.01 -0.01)\">\r\n     <use xlink:href=\"#DejaVuSans-118\"/>\r\n     <use x=\"59.179688\" xlink:href=\"#DejaVuSans-97\"/>\r\n     <use x=\"120.458984\" xlink:href=\"#DejaVuSans-108\"/>\r\n     <use x=\"148.242188\" xlink:href=\"#DejaVuSans-117\"/>\r\n     <use x=\"211.621094\" xlink:href=\"#DejaVuSans-101\"/>\r\n     <use x=\"273.144531\" xlink:href=\"#DejaVuSans-32\"/>\r\n     <use x=\"304.931641\" xlink:href=\"#DejaVuSans-61\"/>\r\n     <use x=\"388.720703\" xlink:href=\"#DejaVuSans-32\"/>\r\n     <use x=\"420.507812\" xlink:href=\"#DejaVuSans-91\"/>\r\n     <use x=\"459.521484\" xlink:href=\"#DejaVuSans-53\"/>\r\n     <use x=\"523.144531\" xlink:href=\"#DejaVuSans-44\"/>\r\n     <use x=\"554.931641\" xlink:href=\"#DejaVuSans-32\"/>\r\n     <use x=\"586.71875\" xlink:href=\"#DejaVuSans-50\"/>\r\n     <use x=\"650.341797\" xlink:href=\"#DejaVuSans-93\"/>\r\n    </g>\r\n   </g>\r\n   <g id=\"patch_134\">\r\n    <path d=\"M 82.011337 77.24312 \r\nQ 84.141909 70.877977 86.627363 63.452618 \r\n\" style=\"fill:none;stroke:#000000;stroke-linecap:round;\"/>\r\n    <path d=\"M 82.32796 76.927288 \r\nL 82.011337 77.24312 \r\nL 81.948646 76.800322 \r\n\" style=\"fill:none;stroke:#000000;stroke-linecap:round;\"/>\r\n   </g>\r\n   <g id=\"text_67\">\r\n    <g id=\"patch_135\">\r\n     <path d=\"M 73.305577 85.881484 \r\nL 86.65964 85.881484 \r\nL 86.65964 80.698703 \r\nL 73.305577 80.698703 \r\nz\r\n\" style=\"fill:#ffffff;stroke:#000000;stroke-linejoin:miter;\"/>\r\n    </g>\r\n    <!-- serum_creatinine &lt;= 0.7 -->\r\n    <g transform=\"translate(73.705577 81.886359)scale(0.01 -0.01)\">\r\n     <use xlink:href=\"#DejaVuSans-115\"/>\r\n     <use x=\"52.099609\" xlink:href=\"#DejaVuSans-101\"/>\r\n     <use x=\"113.623047\" xlink:href=\"#DejaVuSans-114\"/>\r\n     <use x=\"154.736328\" xlink:href=\"#DejaVuSans-117\"/>\r\n     <use x=\"218.115234\" xlink:href=\"#DejaVuSans-109\"/>\r\n     <use x=\"315.527344\" xlink:href=\"#DejaVuSans-95\"/>\r\n     <use x=\"365.527344\" xlink:href=\"#DejaVuSans-99\"/>\r\n     <use x=\"420.507812\" xlink:href=\"#DejaVuSans-114\"/>\r\n     <use x=\"459.371094\" xlink:href=\"#DejaVuSans-101\"/>\r\n     <use x=\"520.894531\" xlink:href=\"#DejaVuSans-97\"/>\r\n     <use x=\"582.173828\" xlink:href=\"#DejaVuSans-116\"/>\r\n     <use x=\"621.382812\" xlink:href=\"#DejaVuSans-105\"/>\r\n     <use x=\"649.166016\" xlink:href=\"#DejaVuSans-110\"/>\r\n     <use x=\"712.544922\" xlink:href=\"#DejaVuSans-105\"/>\r\n     <use x=\"740.328125\" xlink:href=\"#DejaVuSans-110\"/>\r\n     <use x=\"803.707031\" xlink:href=\"#DejaVuSans-101\"/>\r\n     <use x=\"865.230469\" xlink:href=\"#DejaVuSans-32\"/>\r\n     <use x=\"897.017578\" xlink:href=\"#DejaVuSans-60\"/>\r\n     <use x=\"980.806641\" xlink:href=\"#DejaVuSans-61\"/>\r\n     <use x=\"1064.595703\" xlink:href=\"#DejaVuSans-32\"/>\r\n     <use x=\"1096.382812\" xlink:href=\"#DejaVuSans-48\"/>\r\n     <use x=\"1160.005859\" xlink:href=\"#DejaVuSans-46\"/>\r\n     <use x=\"1191.792969\" xlink:href=\"#DejaVuSans-55\"/>\r\n    </g>\r\n    <!-- gini = 0.159 -->\r\n    <g transform=\"translate(76.902296 83.033953)scale(0.01 -0.01)\">\r\n     <use xlink:href=\"#DejaVuSans-103\"/>\r\n     <use x=\"63.476562\" xlink:href=\"#DejaVuSans-105\"/>\r\n     <use x=\"91.259766\" xlink:href=\"#DejaVuSans-110\"/>\r\n     <use x=\"154.638672\" xlink:href=\"#DejaVuSans-105\"/>\r\n     <use x=\"182.421875\" xlink:href=\"#DejaVuSans-32\"/>\r\n     <use x=\"214.208984\" xlink:href=\"#DejaVuSans-61\"/>\r\n     <use x=\"297.998047\" xlink:href=\"#DejaVuSans-32\"/>\r\n     <use x=\"329.785156\" xlink:href=\"#DejaVuSans-48\"/>\r\n     <use x=\"393.408203\" xlink:href=\"#DejaVuSans-46\"/>\r\n     <use x=\"425.195312\" xlink:href=\"#DejaVuSans-49\"/>\r\n     <use x=\"488.818359\" xlink:href=\"#DejaVuSans-53\"/>\r\n     <use x=\"552.441406\" xlink:href=\"#DejaVuSans-57\"/>\r\n    </g>\r\n    <!-- samples = 46 -->\r\n    <g transform=\"translate(76.531202 84.153734)scale(0.01 -0.01)\">\r\n     <use xlink:href=\"#DejaVuSans-115\"/>\r\n     <use x=\"52.099609\" xlink:href=\"#DejaVuSans-97\"/>\r\n     <use x=\"113.378906\" xlink:href=\"#DejaVuSans-109\"/>\r\n     <use x=\"210.791016\" xlink:href=\"#DejaVuSans-112\"/>\r\n     <use x=\"274.267578\" xlink:href=\"#DejaVuSans-108\"/>\r\n     <use x=\"302.050781\" xlink:href=\"#DejaVuSans-101\"/>\r\n     <use x=\"363.574219\" xlink:href=\"#DejaVuSans-115\"/>\r\n     <use x=\"415.673828\" xlink:href=\"#DejaVuSans-32\"/>\r\n     <use x=\"447.460938\" xlink:href=\"#DejaVuSans-61\"/>\r\n     <use x=\"531.25\" xlink:href=\"#DejaVuSans-32\"/>\r\n     <use x=\"563.037109\" xlink:href=\"#DejaVuSans-52\"/>\r\n     <use x=\"626.660156\" xlink:href=\"#DejaVuSans-54\"/>\r\n    </g>\r\n    <!-- value = [4, 42] -->\r\n    <g transform=\"translate(76.217687 85.273516)scale(0.01 -0.01)\">\r\n     <use xlink:href=\"#DejaVuSans-118\"/>\r\n     <use x=\"59.179688\" xlink:href=\"#DejaVuSans-97\"/>\r\n     <use x=\"120.458984\" xlink:href=\"#DejaVuSans-108\"/>\r\n     <use x=\"148.242188\" xlink:href=\"#DejaVuSans-117\"/>\r\n     <use x=\"211.621094\" xlink:href=\"#DejaVuSans-101\"/>\r\n     <use x=\"273.144531\" xlink:href=\"#DejaVuSans-32\"/>\r\n     <use x=\"304.931641\" xlink:href=\"#DejaVuSans-61\"/>\r\n     <use x=\"388.720703\" xlink:href=\"#DejaVuSans-32\"/>\r\n     <use x=\"420.507812\" xlink:href=\"#DejaVuSans-91\"/>\r\n     <use x=\"459.521484\" xlink:href=\"#DejaVuSans-52\"/>\r\n     <use x=\"523.144531\" xlink:href=\"#DejaVuSans-44\"/>\r\n     <use x=\"554.931641\" xlink:href=\"#DejaVuSans-32\"/>\r\n     <use x=\"586.71875\" xlink:href=\"#DejaVuSans-52\"/>\r\n     <use x=\"650.341797\" xlink:href=\"#DejaVuSans-50\"/>\r\n     <use x=\"713.964844\" xlink:href=\"#DejaVuSans-93\"/>\r\n    </g>\r\n   </g>\r\n   <g id=\"patch_136\">\r\n    <path d=\"M 92.712765 77.847685 \r\nQ 90.481107 71.180547 87.894568 63.453191 \r\n\" style=\"fill:none;stroke:#000000;stroke-linecap:round;\"/>\r\n    <path d=\"M 92.775457 77.404887 \r\nL 92.712765 77.847685 \r\nL 92.396142 77.531854 \r\n\" style=\"fill:none;stroke:#000000;stroke-linecap:round;\"/>\r\n   </g>\r\n   <g id=\"text_68\">\r\n    <g id=\"patch_137\">\r\n     <path d=\"M 90.692334 85.307687 \r\nL 98.385927 85.307687 \r\nL 98.385927 81.300312 \r\nL 90.692334 81.300312 \r\nz\r\n\" style=\"fill:#ffffff;stroke:#000000;stroke-linejoin:miter;\"/>\r\n    </g>\r\n    <!-- gini = 0.0 -->\r\n    <g transform=\"translate(92.095068 82.460156)scale(0.01 -0.01)\">\r\n     <use xlink:href=\"#DejaVuSans-103\"/>\r\n     <use x=\"63.476562\" xlink:href=\"#DejaVuSans-105\"/>\r\n     <use x=\"91.259766\" xlink:href=\"#DejaVuSans-110\"/>\r\n     <use x=\"154.638672\" xlink:href=\"#DejaVuSans-105\"/>\r\n     <use x=\"182.421875\" xlink:href=\"#DejaVuSans-32\"/>\r\n     <use x=\"214.208984\" xlink:href=\"#DejaVuSans-61\"/>\r\n     <use x=\"297.998047\" xlink:href=\"#DejaVuSans-32\"/>\r\n     <use x=\"329.785156\" xlink:href=\"#DejaVuSans-48\"/>\r\n     <use x=\"393.408203\" xlink:href=\"#DejaVuSans-46\"/>\r\n     <use x=\"425.195312\" xlink:href=\"#DejaVuSans-48\"/>\r\n    </g>\r\n    <!-- samples = 1 -->\r\n    <g transform=\"translate(91.405849 83.579937)scale(0.01 -0.01)\">\r\n     <use xlink:href=\"#DejaVuSans-115\"/>\r\n     <use x=\"52.099609\" xlink:href=\"#DejaVuSans-97\"/>\r\n     <use x=\"113.378906\" xlink:href=\"#DejaVuSans-109\"/>\r\n     <use x=\"210.791016\" xlink:href=\"#DejaVuSans-112\"/>\r\n     <use x=\"274.267578\" xlink:href=\"#DejaVuSans-108\"/>\r\n     <use x=\"302.050781\" xlink:href=\"#DejaVuSans-101\"/>\r\n     <use x=\"363.574219\" xlink:href=\"#DejaVuSans-115\"/>\r\n     <use x=\"415.673828\" xlink:href=\"#DejaVuSans-32\"/>\r\n     <use x=\"447.460938\" xlink:href=\"#DejaVuSans-61\"/>\r\n     <use x=\"531.25\" xlink:href=\"#DejaVuSans-32\"/>\r\n     <use x=\"563.037109\" xlink:href=\"#DejaVuSans-49\"/>\r\n    </g>\r\n    <!-- value = [1, 0] -->\r\n    <g transform=\"translate(91.092334 84.699719)scale(0.01 -0.01)\">\r\n     <use xlink:href=\"#DejaVuSans-118\"/>\r\n     <use x=\"59.179688\" xlink:href=\"#DejaVuSans-97\"/>\r\n     <use x=\"120.458984\" xlink:href=\"#DejaVuSans-108\"/>\r\n     <use x=\"148.242188\" xlink:href=\"#DejaVuSans-117\"/>\r\n     <use x=\"211.621094\" xlink:href=\"#DejaVuSans-101\"/>\r\n     <use x=\"273.144531\" xlink:href=\"#DejaVuSans-32\"/>\r\n     <use x=\"304.931641\" xlink:href=\"#DejaVuSans-61\"/>\r\n     <use x=\"388.720703\" xlink:href=\"#DejaVuSans-32\"/>\r\n     <use x=\"420.507812\" xlink:href=\"#DejaVuSans-91\"/>\r\n     <use x=\"459.521484\" xlink:href=\"#DejaVuSans-49\"/>\r\n     <use x=\"523.144531\" xlink:href=\"#DejaVuSans-44\"/>\r\n     <use x=\"554.931641\" xlink:href=\"#DejaVuSans-32\"/>\r\n     <use x=\"586.71875\" xlink:href=\"#DejaVuSans-48\"/>\r\n     <use x=\"650.341797\" xlink:href=\"#DejaVuSans-93\"/>\r\n    </g>\r\n   </g>\r\n   <g id=\"patch_138\">\r\n    <path d=\"M 187.481758 78.50906 \r\nQ 199.290615 70.881108 212.038613 62.646516 \r\n\" style=\"fill:none;stroke:#000000;stroke-linecap:round;\"/>\r\n    <path d=\"M 187.926275 78.46002 \r\nL 187.481758 78.50906 \r\nL 187.709237 78.124023 \r\n\" style=\"fill:none;stroke:#000000;stroke-linecap:round;\"/>\r\n   </g>\r\n   <g id=\"text_69\">\r\n    <g id=\"patch_139\">\r\n     <path d=\"M 173.232133 85.881484 \r\nL 186.885258 85.881484 \r\nL 186.885258 80.698703 \r\nL 173.232133 80.698703 \r\nz\r\n\" style=\"fill:#ffffff;stroke:#000000;stroke-linejoin:miter;\"/>\r\n    </g>\r\n    <!-- ejection_fraction &lt;= 27.5 -->\r\n    <g transform=\"translate(173.632133 81.886359)scale(0.01 -0.01)\">\r\n     <use xlink:href=\"#DejaVuSans-101\"/>\r\n     <use x=\"61.523438\" xlink:href=\"#DejaVuSans-106\"/>\r\n     <use x=\"89.306641\" xlink:href=\"#DejaVuSans-101\"/>\r\n     <use x=\"150.830078\" xlink:href=\"#DejaVuSans-99\"/>\r\n     <use x=\"205.810547\" xlink:href=\"#DejaVuSans-116\"/>\r\n     <use x=\"245.019531\" xlink:href=\"#DejaVuSans-105\"/>\r\n     <use x=\"272.802734\" xlink:href=\"#DejaVuSans-111\"/>\r\n     <use x=\"333.984375\" xlink:href=\"#DejaVuSans-110\"/>\r\n     <use x=\"397.363281\" xlink:href=\"#DejaVuSans-95\"/>\r\n     <use x=\"447.363281\" xlink:href=\"#DejaVuSans-102\"/>\r\n     <use x=\"482.568359\" xlink:href=\"#DejaVuSans-114\"/>\r\n     <use x=\"523.681641\" xlink:href=\"#DejaVuSans-97\"/>\r\n     <use x=\"584.960938\" xlink:href=\"#DejaVuSans-99\"/>\r\n     <use x=\"639.941406\" xlink:href=\"#DejaVuSans-116\"/>\r\n     <use x=\"679.150391\" xlink:href=\"#DejaVuSans-105\"/>\r\n     <use x=\"706.933594\" xlink:href=\"#DejaVuSans-111\"/>\r\n     <use x=\"768.115234\" xlink:href=\"#DejaVuSans-110\"/>\r\n     <use x=\"831.494141\" xlink:href=\"#DejaVuSans-32\"/>\r\n     <use x=\"863.28125\" xlink:href=\"#DejaVuSans-60\"/>\r\n     <use x=\"947.070312\" xlink:href=\"#DejaVuSans-61\"/>\r\n     <use x=\"1030.859375\" xlink:href=\"#DejaVuSans-32\"/>\r\n     <use x=\"1062.646484\" xlink:href=\"#DejaVuSans-50\"/>\r\n     <use x=\"1126.269531\" xlink:href=\"#DejaVuSans-55\"/>\r\n     <use x=\"1189.892578\" xlink:href=\"#DejaVuSans-46\"/>\r\n     <use x=\"1221.679688\" xlink:href=\"#DejaVuSans-53\"/>\r\n    </g>\r\n    <!-- gini = 0.111 -->\r\n    <g transform=\"translate(176.978383 83.033953)scale(0.01 -0.01)\">\r\n     <use xlink:href=\"#DejaVuSans-103\"/>\r\n     <use x=\"63.476562\" xlink:href=\"#DejaVuSans-105\"/>\r\n     <use x=\"91.259766\" xlink:href=\"#DejaVuSans-110\"/>\r\n     <use x=\"154.638672\" xlink:href=\"#DejaVuSans-105\"/>\r\n     <use x=\"182.421875\" xlink:href=\"#DejaVuSans-32\"/>\r\n     <use x=\"214.208984\" xlink:href=\"#DejaVuSans-61\"/>\r\n     <use x=\"297.998047\" xlink:href=\"#DejaVuSans-32\"/>\r\n     <use x=\"329.785156\" xlink:href=\"#DejaVuSans-48\"/>\r\n     <use x=\"393.408203\" xlink:href=\"#DejaVuSans-46\"/>\r\n     <use x=\"425.195312\" xlink:href=\"#DejaVuSans-49\"/>\r\n     <use x=\"488.818359\" xlink:href=\"#DejaVuSans-49\"/>\r\n     <use x=\"552.441406\" xlink:href=\"#DejaVuSans-49\"/>\r\n    </g>\r\n    <!-- samples = 135 -->\r\n    <g transform=\"translate(176.289164 84.153734)scale(0.01 -0.01)\">\r\n     <use xlink:href=\"#DejaVuSans-115\"/>\r\n     <use x=\"52.099609\" xlink:href=\"#DejaVuSans-97\"/>\r\n     <use x=\"113.378906\" xlink:href=\"#DejaVuSans-109\"/>\r\n     <use x=\"210.791016\" xlink:href=\"#DejaVuSans-112\"/>\r\n     <use x=\"274.267578\" xlink:href=\"#DejaVuSans-108\"/>\r\n     <use x=\"302.050781\" xlink:href=\"#DejaVuSans-101\"/>\r\n     <use x=\"363.574219\" xlink:href=\"#DejaVuSans-115\"/>\r\n     <use x=\"415.673828\" xlink:href=\"#DejaVuSans-32\"/>\r\n     <use x=\"447.460938\" xlink:href=\"#DejaVuSans-61\"/>\r\n     <use x=\"531.25\" xlink:href=\"#DejaVuSans-32\"/>\r\n     <use x=\"563.037109\" xlink:href=\"#DejaVuSans-49\"/>\r\n     <use x=\"626.660156\" xlink:href=\"#DejaVuSans-51\"/>\r\n     <use x=\"690.283203\" xlink:href=\"#DejaVuSans-53\"/>\r\n    </g>\r\n    <!-- value = [127, 8] -->\r\n    <g transform=\"translate(175.975649 85.273516)scale(0.01 -0.01)\">\r\n     <use xlink:href=\"#DejaVuSans-118\"/>\r\n     <use x=\"59.179688\" xlink:href=\"#DejaVuSans-97\"/>\r\n     <use x=\"120.458984\" xlink:href=\"#DejaVuSans-108\"/>\r\n     <use x=\"148.242188\" xlink:href=\"#DejaVuSans-117\"/>\r\n     <use x=\"211.621094\" xlink:href=\"#DejaVuSans-101\"/>\r\n     <use x=\"273.144531\" xlink:href=\"#DejaVuSans-32\"/>\r\n     <use x=\"304.931641\" xlink:href=\"#DejaVuSans-61\"/>\r\n     <use x=\"388.720703\" xlink:href=\"#DejaVuSans-32\"/>\r\n     <use x=\"420.507812\" xlink:href=\"#DejaVuSans-91\"/>\r\n     <use x=\"459.521484\" xlink:href=\"#DejaVuSans-49\"/>\r\n     <use x=\"523.144531\" xlink:href=\"#DejaVuSans-50\"/>\r\n     <use x=\"586.767578\" xlink:href=\"#DejaVuSans-55\"/>\r\n     <use x=\"650.390625\" xlink:href=\"#DejaVuSans-44\"/>\r\n     <use x=\"682.177734\" xlink:href=\"#DejaVuSans-32\"/>\r\n     <use x=\"713.964844\" xlink:href=\"#DejaVuSans-56\"/>\r\n     <use x=\"777.587891\" xlink:href=\"#DejaVuSans-93\"/>\r\n    </g>\r\n   </g>\r\n   <g id=\"patch_140\">\r\n    <path d=\"M 239.959546 78.50906 \r\nQ 228.15069 70.881108 215.402691 62.646516 \r\n\" style=\"fill:none;stroke:#000000;stroke-linecap:round;\"/>\r\n    <path d=\"M 239.732068 78.124023 \r\nL 239.959546 78.50906 \r\nL 239.515029 78.46002 \r\n\" style=\"fill:none;stroke:#000000;stroke-linecap:round;\"/>\r\n   </g>\r\n   <g id=\"text_70\">\r\n    <g id=\"patch_141\">\r\n     <path d=\"M 240.741202 85.881484 \r\nL 254.024015 85.881484 \r\nL 254.024015 80.698703 \r\nL 240.741202 80.698703 \r\nz\r\n\" style=\"fill:#ffffff;stroke:#000000;stroke-linejoin:miter;\"/>\r\n    </g>\r\n    <!-- serum_sodium &lt;= 135.5 -->\r\n    <g transform=\"translate(241.141202 81.886359)scale(0.01 -0.01)\">\r\n     <use xlink:href=\"#DejaVuSans-115\"/>\r\n     <use x=\"52.099609\" xlink:href=\"#DejaVuSans-101\"/>\r\n     <use x=\"113.623047\" xlink:href=\"#DejaVuSans-114\"/>\r\n     <use x=\"154.736328\" xlink:href=\"#DejaVuSans-117\"/>\r\n     <use x=\"218.115234\" xlink:href=\"#DejaVuSans-109\"/>\r\n     <use x=\"315.527344\" xlink:href=\"#DejaVuSans-95\"/>\r\n     <use x=\"365.527344\" xlink:href=\"#DejaVuSans-115\"/>\r\n     <use x=\"417.626953\" xlink:href=\"#DejaVuSans-111\"/>\r\n     <use x=\"478.808594\" xlink:href=\"#DejaVuSans-100\"/>\r\n     <use x=\"542.285156\" xlink:href=\"#DejaVuSans-105\"/>\r\n     <use x=\"570.068359\" xlink:href=\"#DejaVuSans-117\"/>\r\n     <use x=\"633.447266\" xlink:href=\"#DejaVuSans-109\"/>\r\n     <use x=\"730.859375\" xlink:href=\"#DejaVuSans-32\"/>\r\n     <use x=\"762.646484\" xlink:href=\"#DejaVuSans-60\"/>\r\n     <use x=\"846.435547\" xlink:href=\"#DejaVuSans-61\"/>\r\n     <use x=\"930.224609\" xlink:href=\"#DejaVuSans-32\"/>\r\n     <use x=\"962.011719\" xlink:href=\"#DejaVuSans-49\"/>\r\n     <use x=\"1025.634766\" xlink:href=\"#DejaVuSans-51\"/>\r\n     <use x=\"1089.257812\" xlink:href=\"#DejaVuSans-53\"/>\r\n     <use x=\"1152.880859\" xlink:href=\"#DejaVuSans-46\"/>\r\n     <use x=\"1184.667969\" xlink:href=\"#DejaVuSans-53\"/>\r\n    </g>\r\n    <!-- gini = 0.5 -->\r\n    <g transform=\"translate(244.938546 83.033953)scale(0.01 -0.01)\">\r\n     <use xlink:href=\"#DejaVuSans-103\"/>\r\n     <use x=\"63.476562\" xlink:href=\"#DejaVuSans-105\"/>\r\n     <use x=\"91.259766\" xlink:href=\"#DejaVuSans-110\"/>\r\n     <use x=\"154.638672\" xlink:href=\"#DejaVuSans-105\"/>\r\n     <use x=\"182.421875\" xlink:href=\"#DejaVuSans-32\"/>\r\n     <use x=\"214.208984\" xlink:href=\"#DejaVuSans-61\"/>\r\n     <use x=\"297.998047\" xlink:href=\"#DejaVuSans-32\"/>\r\n     <use x=\"329.785156\" xlink:href=\"#DejaVuSans-48\"/>\r\n     <use x=\"393.408203\" xlink:href=\"#DejaVuSans-46\"/>\r\n     <use x=\"425.195312\" xlink:href=\"#DejaVuSans-53\"/>\r\n    </g>\r\n    <!-- samples = 8 -->\r\n    <g transform=\"translate(244.249327 84.153734)scale(0.01 -0.01)\">\r\n     <use xlink:href=\"#DejaVuSans-115\"/>\r\n     <use x=\"52.099609\" xlink:href=\"#DejaVuSans-97\"/>\r\n     <use x=\"113.378906\" xlink:href=\"#DejaVuSans-109\"/>\r\n     <use x=\"210.791016\" xlink:href=\"#DejaVuSans-112\"/>\r\n     <use x=\"274.267578\" xlink:href=\"#DejaVuSans-108\"/>\r\n     <use x=\"302.050781\" xlink:href=\"#DejaVuSans-101\"/>\r\n     <use x=\"363.574219\" xlink:href=\"#DejaVuSans-115\"/>\r\n     <use x=\"415.673828\" xlink:href=\"#DejaVuSans-32\"/>\r\n     <use x=\"447.460938\" xlink:href=\"#DejaVuSans-61\"/>\r\n     <use x=\"531.25\" xlink:href=\"#DejaVuSans-32\"/>\r\n     <use x=\"563.037109\" xlink:href=\"#DejaVuSans-56\"/>\r\n    </g>\r\n    <!-- value = [4, 4] -->\r\n    <g transform=\"translate(243.935812 85.273516)scale(0.01 -0.01)\">\r\n     <use xlink:href=\"#DejaVuSans-118\"/>\r\n     <use x=\"59.179688\" xlink:href=\"#DejaVuSans-97\"/>\r\n     <use x=\"120.458984\" xlink:href=\"#DejaVuSans-108\"/>\r\n     <use x=\"148.242188\" xlink:href=\"#DejaVuSans-117\"/>\r\n     <use x=\"211.621094\" xlink:href=\"#DejaVuSans-101\"/>\r\n     <use x=\"273.144531\" xlink:href=\"#DejaVuSans-32\"/>\r\n     <use x=\"304.931641\" xlink:href=\"#DejaVuSans-61\"/>\r\n     <use x=\"388.720703\" xlink:href=\"#DejaVuSans-32\"/>\r\n     <use x=\"420.507812\" xlink:href=\"#DejaVuSans-91\"/>\r\n     <use x=\"459.521484\" xlink:href=\"#DejaVuSans-52\"/>\r\n     <use x=\"523.144531\" xlink:href=\"#DejaVuSans-44\"/>\r\n     <use x=\"554.931641\" xlink:href=\"#DejaVuSans-32\"/>\r\n     <use x=\"586.71875\" xlink:href=\"#DejaVuSans-52\"/>\r\n     <use x=\"650.341797\" xlink:href=\"#DejaVuSans-93\"/>\r\n    </g>\r\n   </g>\r\n   <g id=\"patch_142\">\r\n    <path d=\"M 281.822697 77.999103 \r\nQ 288.971946 70.879579 296.91341 62.971133 \r\n\" style=\"fill:none;stroke:#000000;stroke-linecap:round;\"/>\r\n    <path d=\"M 282.247255 77.858566 \r\nL 281.822697 77.999103 \r\nL 281.965002 77.575135 \r\n\" style=\"fill:none;stroke:#000000;stroke-linecap:round;\"/>\r\n   </g>\r\n   <g id=\"text_71\">\r\n    <g id=\"patch_143\">\r\n     <path d=\"M 267.317293 85.881484 \r\nL 285.674012 85.881484 \r\nL 285.674012 80.698703 \r\nL 267.317293 80.698703 \r\nz\r\n\" style=\"fill:#ffffff;stroke:#000000;stroke-linejoin:miter;\"/>\r\n    </g>\r\n    <!-- creatinine_phosphokinase &lt;= 62.5 -->\r\n    <g transform=\"translate(267.717293 81.886359)scale(0.01 -0.01)\">\r\n     <use xlink:href=\"#DejaVuSans-99\"/>\r\n     <use x=\"54.980469\" xlink:href=\"#DejaVuSans-114\"/>\r\n     <use x=\"93.84375\" xlink:href=\"#DejaVuSans-101\"/>\r\n     <use x=\"155.367188\" xlink:href=\"#DejaVuSans-97\"/>\r\n     <use x=\"216.646484\" xlink:href=\"#DejaVuSans-116\"/>\r\n     <use x=\"255.855469\" xlink:href=\"#DejaVuSans-105\"/>\r\n     <use x=\"283.638672\" xlink:href=\"#DejaVuSans-110\"/>\r\n     <use x=\"347.017578\" xlink:href=\"#DejaVuSans-105\"/>\r\n     <use x=\"374.800781\" xlink:href=\"#DejaVuSans-110\"/>\r\n     <use x=\"438.179688\" xlink:href=\"#DejaVuSans-101\"/>\r\n     <use x=\"499.703125\" xlink:href=\"#DejaVuSans-95\"/>\r\n     <use x=\"549.703125\" xlink:href=\"#DejaVuSans-112\"/>\r\n     <use x=\"613.179688\" xlink:href=\"#DejaVuSans-104\"/>\r\n     <use x=\"676.558594\" xlink:href=\"#DejaVuSans-111\"/>\r\n     <use x=\"737.740234\" xlink:href=\"#DejaVuSans-115\"/>\r\n     <use x=\"789.839844\" xlink:href=\"#DejaVuSans-112\"/>\r\n     <use x=\"853.316406\" xlink:href=\"#DejaVuSans-104\"/>\r\n     <use x=\"916.695312\" xlink:href=\"#DejaVuSans-111\"/>\r\n     <use x=\"977.876953\" xlink:href=\"#DejaVuSans-107\"/>\r\n     <use x=\"1035.787109\" xlink:href=\"#DejaVuSans-105\"/>\r\n     <use x=\"1063.570312\" xlink:href=\"#DejaVuSans-110\"/>\r\n     <use x=\"1126.949219\" xlink:href=\"#DejaVuSans-97\"/>\r\n     <use x=\"1188.228516\" xlink:href=\"#DejaVuSans-115\"/>\r\n     <use x=\"1240.328125\" xlink:href=\"#DejaVuSans-101\"/>\r\n     <use x=\"1301.851562\" xlink:href=\"#DejaVuSans-32\"/>\r\n     <use x=\"1333.638672\" xlink:href=\"#DejaVuSans-60\"/>\r\n     <use x=\"1417.427734\" xlink:href=\"#DejaVuSans-61\"/>\r\n     <use x=\"1501.216797\" xlink:href=\"#DejaVuSans-32\"/>\r\n     <use x=\"1533.003906\" xlink:href=\"#DejaVuSans-54\"/>\r\n     <use x=\"1596.626953\" xlink:href=\"#DejaVuSans-50\"/>\r\n     <use x=\"1660.25\" xlink:href=\"#DejaVuSans-46\"/>\r\n     <use x=\"1692.037109\" xlink:href=\"#DejaVuSans-53\"/>\r\n    </g>\r\n    <!-- gini = 0.432 -->\r\n    <g transform=\"translate(273.41534 83.033953)scale(0.01 -0.01)\">\r\n     <use xlink:href=\"#DejaVuSans-103\"/>\r\n     <use x=\"63.476562\" xlink:href=\"#DejaVuSans-105\"/>\r\n     <use x=\"91.259766\" xlink:href=\"#DejaVuSans-110\"/>\r\n     <use x=\"154.638672\" xlink:href=\"#DejaVuSans-105\"/>\r\n     <use x=\"182.421875\" xlink:href=\"#DejaVuSans-32\"/>\r\n     <use x=\"214.208984\" xlink:href=\"#DejaVuSans-61\"/>\r\n     <use x=\"297.998047\" xlink:href=\"#DejaVuSans-32\"/>\r\n     <use x=\"329.785156\" xlink:href=\"#DejaVuSans-48\"/>\r\n     <use x=\"393.408203\" xlink:href=\"#DejaVuSans-46\"/>\r\n     <use x=\"425.195312\" xlink:href=\"#DejaVuSans-52\"/>\r\n     <use x=\"488.818359\" xlink:href=\"#DejaVuSans-51\"/>\r\n     <use x=\"552.441406\" xlink:href=\"#DejaVuSans-50\"/>\r\n    </g>\r\n    <!-- samples = 19 -->\r\n    <g transform=\"translate(273.044246 84.153734)scale(0.01 -0.01)\">\r\n     <use xlink:href=\"#DejaVuSans-115\"/>\r\n     <use x=\"52.099609\" xlink:href=\"#DejaVuSans-97\"/>\r\n     <use x=\"113.378906\" xlink:href=\"#DejaVuSans-109\"/>\r\n     <use x=\"210.791016\" xlink:href=\"#DejaVuSans-112\"/>\r\n     <use x=\"274.267578\" xlink:href=\"#DejaVuSans-108\"/>\r\n     <use x=\"302.050781\" xlink:href=\"#DejaVuSans-101\"/>\r\n     <use x=\"363.574219\" xlink:href=\"#DejaVuSans-115\"/>\r\n     <use x=\"415.673828\" xlink:href=\"#DejaVuSans-32\"/>\r\n     <use x=\"447.460938\" xlink:href=\"#DejaVuSans-61\"/>\r\n     <use x=\"531.25\" xlink:href=\"#DejaVuSans-32\"/>\r\n     <use x=\"563.037109\" xlink:href=\"#DejaVuSans-49\"/>\r\n     <use x=\"626.660156\" xlink:href=\"#DejaVuSans-57\"/>\r\n    </g>\r\n    <!-- value = [6, 13] -->\r\n    <g transform=\"translate(272.73073 85.273516)scale(0.01 -0.01)\">\r\n     <use xlink:href=\"#DejaVuSans-118\"/>\r\n     <use x=\"59.179688\" xlink:href=\"#DejaVuSans-97\"/>\r\n     <use x=\"120.458984\" xlink:href=\"#DejaVuSans-108\"/>\r\n     <use x=\"148.242188\" xlink:href=\"#DejaVuSans-117\"/>\r\n     <use x=\"211.621094\" xlink:href=\"#DejaVuSans-101\"/>\r\n     <use x=\"273.144531\" xlink:href=\"#DejaVuSans-32\"/>\r\n     <use x=\"304.931641\" xlink:href=\"#DejaVuSans-61\"/>\r\n     <use x=\"388.720703\" xlink:href=\"#DejaVuSans-32\"/>\r\n     <use x=\"420.507812\" xlink:href=\"#DejaVuSans-91\"/>\r\n     <use x=\"459.521484\" xlink:href=\"#DejaVuSans-54\"/>\r\n     <use x=\"523.144531\" xlink:href=\"#DejaVuSans-44\"/>\r\n     <use x=\"554.931641\" xlink:href=\"#DejaVuSans-32\"/>\r\n     <use x=\"586.71875\" xlink:href=\"#DejaVuSans-49\"/>\r\n     <use x=\"650.341797\" xlink:href=\"#DejaVuSans-51\"/>\r\n     <use x=\"713.964844\" xlink:href=\"#DejaVuSans-93\"/>\r\n    </g>\r\n   </g>\r\n   <g id=\"patch_144\">\r\n    <path d=\"M 314.838172 77.999103 \r\nQ 307.688923 70.879579 299.74746 62.971133 \r\n\" style=\"fill:none;stroke:#000000;stroke-linecap:round;\"/>\r\n    <path d=\"M 314.695867 77.575135 \r\nL 314.838172 77.999103 \r\nL 314.413614 77.858566 \r\n\" style=\"fill:none;stroke:#000000;stroke-linecap:round;\"/>\r\n   </g>\r\n   <g id=\"text_72\">\r\n    <g id=\"patch_145\">\r\n     <path d=\"M 313.170061 85.881484 \r\nL 327.160374 85.881484 \r\nL 327.160374 80.698703 \r\nL 313.170061 80.698703 \r\nz\r\n\" style=\"fill:#ffffff;stroke:#000000;stroke-linejoin:miter;\"/>\r\n    </g>\r\n    <!-- serum_creatinine &lt;= 3.55 -->\r\n    <g transform=\"translate(313.570061 81.886359)scale(0.01 -0.01)\">\r\n     <use xlink:href=\"#DejaVuSans-115\"/>\r\n     <use x=\"52.099609\" xlink:href=\"#DejaVuSans-101\"/>\r\n     <use x=\"113.623047\" xlink:href=\"#DejaVuSans-114\"/>\r\n     <use x=\"154.736328\" xlink:href=\"#DejaVuSans-117\"/>\r\n     <use x=\"218.115234\" xlink:href=\"#DejaVuSans-109\"/>\r\n     <use x=\"315.527344\" xlink:href=\"#DejaVuSans-95\"/>\r\n     <use x=\"365.527344\" xlink:href=\"#DejaVuSans-99\"/>\r\n     <use x=\"420.507812\" xlink:href=\"#DejaVuSans-114\"/>\r\n     <use x=\"459.371094\" xlink:href=\"#DejaVuSans-101\"/>\r\n     <use x=\"520.894531\" xlink:href=\"#DejaVuSans-97\"/>\r\n     <use x=\"582.173828\" xlink:href=\"#DejaVuSans-116\"/>\r\n     <use x=\"621.382812\" xlink:href=\"#DejaVuSans-105\"/>\r\n     <use x=\"649.166016\" xlink:href=\"#DejaVuSans-110\"/>\r\n     <use x=\"712.544922\" xlink:href=\"#DejaVuSans-105\"/>\r\n     <use x=\"740.328125\" xlink:href=\"#DejaVuSans-110\"/>\r\n     <use x=\"803.707031\" xlink:href=\"#DejaVuSans-101\"/>\r\n     <use x=\"865.230469\" xlink:href=\"#DejaVuSans-32\"/>\r\n     <use x=\"897.017578\" xlink:href=\"#DejaVuSans-60\"/>\r\n     <use x=\"980.806641\" xlink:href=\"#DejaVuSans-61\"/>\r\n     <use x=\"1064.595703\" xlink:href=\"#DejaVuSans-32\"/>\r\n     <use x=\"1096.382812\" xlink:href=\"#DejaVuSans-51\"/>\r\n     <use x=\"1160.005859\" xlink:href=\"#DejaVuSans-46\"/>\r\n     <use x=\"1191.792969\" xlink:href=\"#DejaVuSans-53\"/>\r\n     <use x=\"1255.416016\" xlink:href=\"#DejaVuSans-53\"/>\r\n    </g>\r\n    <!-- gini = 0.401 -->\r\n    <g transform=\"translate(317.084905 83.033953)scale(0.01 -0.01)\">\r\n     <use xlink:href=\"#DejaVuSans-103\"/>\r\n     <use x=\"63.476562\" xlink:href=\"#DejaVuSans-105\"/>\r\n     <use x=\"91.259766\" xlink:href=\"#DejaVuSans-110\"/>\r\n     <use x=\"154.638672\" xlink:href=\"#DejaVuSans-105\"/>\r\n     <use x=\"182.421875\" xlink:href=\"#DejaVuSans-32\"/>\r\n     <use x=\"214.208984\" xlink:href=\"#DejaVuSans-61\"/>\r\n     <use x=\"297.998047\" xlink:href=\"#DejaVuSans-32\"/>\r\n     <use x=\"329.785156\" xlink:href=\"#DejaVuSans-48\"/>\r\n     <use x=\"393.408203\" xlink:href=\"#DejaVuSans-46\"/>\r\n     <use x=\"425.195312\" xlink:href=\"#DejaVuSans-52\"/>\r\n     <use x=\"488.818359\" xlink:href=\"#DejaVuSans-48\"/>\r\n     <use x=\"552.441406\" xlink:href=\"#DejaVuSans-49\"/>\r\n    </g>\r\n    <!-- samples = 18 -->\r\n    <g transform=\"translate(316.713811 84.153734)scale(0.01 -0.01)\">\r\n     <use xlink:href=\"#DejaVuSans-115\"/>\r\n     <use x=\"52.099609\" xlink:href=\"#DejaVuSans-97\"/>\r\n     <use x=\"113.378906\" xlink:href=\"#DejaVuSans-109\"/>\r\n     <use x=\"210.791016\" xlink:href=\"#DejaVuSans-112\"/>\r\n     <use x=\"274.267578\" xlink:href=\"#DejaVuSans-108\"/>\r\n     <use x=\"302.050781\" xlink:href=\"#DejaVuSans-101\"/>\r\n     <use x=\"363.574219\" xlink:href=\"#DejaVuSans-115\"/>\r\n     <use x=\"415.673828\" xlink:href=\"#DejaVuSans-32\"/>\r\n     <use x=\"447.460938\" xlink:href=\"#DejaVuSans-61\"/>\r\n     <use x=\"531.25\" xlink:href=\"#DejaVuSans-32\"/>\r\n     <use x=\"563.037109\" xlink:href=\"#DejaVuSans-49\"/>\r\n     <use x=\"626.660156\" xlink:href=\"#DejaVuSans-56\"/>\r\n    </g>\r\n    <!-- value = [13, 5] -->\r\n    <g transform=\"translate(316.400296 85.273516)scale(0.01 -0.01)\">\r\n     <use xlink:href=\"#DejaVuSans-118\"/>\r\n     <use x=\"59.179688\" xlink:href=\"#DejaVuSans-97\"/>\r\n     <use x=\"120.458984\" xlink:href=\"#DejaVuSans-108\"/>\r\n     <use x=\"148.242188\" xlink:href=\"#DejaVuSans-117\"/>\r\n     <use x=\"211.621094\" xlink:href=\"#DejaVuSans-101\"/>\r\n     <use x=\"273.144531\" xlink:href=\"#DejaVuSans-32\"/>\r\n     <use x=\"304.931641\" xlink:href=\"#DejaVuSans-61\"/>\r\n     <use x=\"388.720703\" xlink:href=\"#DejaVuSans-32\"/>\r\n     <use x=\"420.507812\" xlink:href=\"#DejaVuSans-91\"/>\r\n     <use x=\"459.521484\" xlink:href=\"#DejaVuSans-49\"/>\r\n     <use x=\"523.144531\" xlink:href=\"#DejaVuSans-51\"/>\r\n     <use x=\"586.767578\" xlink:href=\"#DejaVuSans-44\"/>\r\n     <use x=\"618.554688\" xlink:href=\"#DejaVuSans-32\"/>\r\n     <use x=\"650.341797\" xlink:href=\"#DejaVuSans-53\"/>\r\n     <use x=\"713.964844\" xlink:href=\"#DejaVuSans-93\"/>\r\n    </g>\r\n   </g>\r\n   <g id=\"patch_146\">\r\n    <path d=\"M 29.030927 56.73056 \r\nQ 40.470739 49.135728 52.842001 40.92251 \r\n\" style=\"fill:none;stroke:#000000;stroke-linecap:round;\"/>\r\n    <path d=\"M 29.474793 56.675942 \r\nL 29.030927 56.73056 \r\nL 29.253553 56.342696 \r\n\" style=\"fill:none;stroke:#000000;stroke-linecap:round;\"/>\r\n   </g>\r\n   <g id=\"text_73\">\r\n    <g id=\"patch_147\">\r\n     <path d=\"M 15.115115 64.137484 \r\nL 28.397928 64.137484 \r\nL 28.397928 58.954703 \r\nL 15.115115 58.954703 \r\nz\r\n\" style=\"fill:#ffffff;stroke:#000000;stroke-linejoin:miter;\"/>\r\n    </g>\r\n    <!-- serum_sodium &lt;= 134.5 -->\r\n    <g transform=\"translate(15.515115 60.142359)scale(0.01 -0.01)\">\r\n     <use xlink:href=\"#DejaVuSans-115\"/>\r\n     <use x=\"52.099609\" xlink:href=\"#DejaVuSans-101\"/>\r\n     <use x=\"113.623047\" xlink:href=\"#DejaVuSans-114\"/>\r\n     <use x=\"154.736328\" xlink:href=\"#DejaVuSans-117\"/>\r\n     <use x=\"218.115234\" xlink:href=\"#DejaVuSans-109\"/>\r\n     <use x=\"315.527344\" xlink:href=\"#DejaVuSans-95\"/>\r\n     <use x=\"365.527344\" xlink:href=\"#DejaVuSans-115\"/>\r\n     <use x=\"417.626953\" xlink:href=\"#DejaVuSans-111\"/>\r\n     <use x=\"478.808594\" xlink:href=\"#DejaVuSans-100\"/>\r\n     <use x=\"542.285156\" xlink:href=\"#DejaVuSans-105\"/>\r\n     <use x=\"570.068359\" xlink:href=\"#DejaVuSans-117\"/>\r\n     <use x=\"633.447266\" xlink:href=\"#DejaVuSans-109\"/>\r\n     <use x=\"730.859375\" xlink:href=\"#DejaVuSans-32\"/>\r\n     <use x=\"762.646484\" xlink:href=\"#DejaVuSans-60\"/>\r\n     <use x=\"846.435547\" xlink:href=\"#DejaVuSans-61\"/>\r\n     <use x=\"930.224609\" xlink:href=\"#DejaVuSans-32\"/>\r\n     <use x=\"962.011719\" xlink:href=\"#DejaVuSans-49\"/>\r\n     <use x=\"1025.634766\" xlink:href=\"#DejaVuSans-51\"/>\r\n     <use x=\"1089.257812\" xlink:href=\"#DejaVuSans-52\"/>\r\n     <use x=\"1152.880859\" xlink:href=\"#DejaVuSans-46\"/>\r\n     <use x=\"1184.667969\" xlink:href=\"#DejaVuSans-53\"/>\r\n    </g>\r\n    <!-- gini = 0.486 -->\r\n    <g transform=\"translate(18.676209 61.289953)scale(0.01 -0.01)\">\r\n     <use xlink:href=\"#DejaVuSans-103\"/>\r\n     <use x=\"63.476562\" xlink:href=\"#DejaVuSans-105\"/>\r\n     <use x=\"91.259766\" xlink:href=\"#DejaVuSans-110\"/>\r\n     <use x=\"154.638672\" xlink:href=\"#DejaVuSans-105\"/>\r\n     <use x=\"182.421875\" xlink:href=\"#DejaVuSans-32\"/>\r\n     <use x=\"214.208984\" xlink:href=\"#DejaVuSans-61\"/>\r\n     <use x=\"297.998047\" xlink:href=\"#DejaVuSans-32\"/>\r\n     <use x=\"329.785156\" xlink:href=\"#DejaVuSans-48\"/>\r\n     <use x=\"393.408203\" xlink:href=\"#DejaVuSans-46\"/>\r\n     <use x=\"425.195312\" xlink:href=\"#DejaVuSans-52\"/>\r\n     <use x=\"488.818359\" xlink:href=\"#DejaVuSans-56\"/>\r\n     <use x=\"552.441406\" xlink:href=\"#DejaVuSans-54\"/>\r\n    </g>\r\n    <!-- samples = 12 -->\r\n    <g transform=\"translate(18.305115 62.409734)scale(0.01 -0.01)\">\r\n     <use xlink:href=\"#DejaVuSans-115\"/>\r\n     <use x=\"52.099609\" xlink:href=\"#DejaVuSans-97\"/>\r\n     <use x=\"113.378906\" xlink:href=\"#DejaVuSans-109\"/>\r\n     <use x=\"210.791016\" xlink:href=\"#DejaVuSans-112\"/>\r\n     <use x=\"274.267578\" xlink:href=\"#DejaVuSans-108\"/>\r\n     <use x=\"302.050781\" xlink:href=\"#DejaVuSans-101\"/>\r\n     <use x=\"363.574219\" xlink:href=\"#DejaVuSans-115\"/>\r\n     <use x=\"415.673828\" xlink:href=\"#DejaVuSans-32\"/>\r\n     <use x=\"447.460938\" xlink:href=\"#DejaVuSans-61\"/>\r\n     <use x=\"531.25\" xlink:href=\"#DejaVuSans-32\"/>\r\n     <use x=\"563.037109\" xlink:href=\"#DejaVuSans-49\"/>\r\n     <use x=\"626.660156\" xlink:href=\"#DejaVuSans-50\"/>\r\n    </g>\r\n    <!-- value = [5, 7] -->\r\n    <g transform=\"translate(18.309725 63.529516)scale(0.01 -0.01)\">\r\n     <use xlink:href=\"#DejaVuSans-118\"/>\r\n     <use x=\"59.179688\" xlink:href=\"#DejaVuSans-97\"/>\r\n     <use x=\"120.458984\" xlink:href=\"#DejaVuSans-108\"/>\r\n     <use x=\"148.242188\" xlink:href=\"#DejaVuSans-117\"/>\r\n     <use x=\"211.621094\" xlink:href=\"#DejaVuSans-101\"/>\r\n     <use x=\"273.144531\" xlink:href=\"#DejaVuSans-32\"/>\r\n     <use x=\"304.931641\" xlink:href=\"#DejaVuSans-61\"/>\r\n     <use x=\"388.720703\" xlink:href=\"#DejaVuSans-32\"/>\r\n     <use x=\"420.507812\" xlink:href=\"#DejaVuSans-91\"/>\r\n     <use x=\"459.521484\" xlink:href=\"#DejaVuSans-53\"/>\r\n     <use x=\"523.144531\" xlink:href=\"#DejaVuSans-44\"/>\r\n     <use x=\"554.931641\" xlink:href=\"#DejaVuSans-32\"/>\r\n     <use x=\"586.71875\" xlink:href=\"#DejaVuSans-55\"/>\r\n     <use x=\"650.341797\" xlink:href=\"#DejaVuSans-93\"/>\r\n    </g>\r\n   </g>\r\n   <g id=\"patch_148\">\r\n    <path d=\"M 79.986464 56.73056 \r\nQ 68.546653 49.135728 56.175391 40.92251 \r\n\" style=\"fill:none;stroke:#000000;stroke-linecap:round;\"/>\r\n    <path d=\"M 79.763838 56.342696 \r\nL 79.986464 56.73056 \r\nL 79.542598 56.675942 \r\n\" style=\"fill:none;stroke:#000000;stroke-linecap:round;\"/>\r\n   </g>\r\n   <g id=\"text_74\">\r\n    <g id=\"patch_149\">\r\n     <path d=\"M 80.434307 64.137484 \r\nL 94.087432 64.137484 \r\nL 94.087432 58.954703 \r\nL 80.434307 58.954703 \r\nz\r\n\" style=\"fill:#ffffff;stroke:#000000;stroke-linejoin:miter;\"/>\r\n    </g>\r\n    <!-- ejection_fraction &lt;= 72.5 -->\r\n    <g transform=\"translate(80.834307 60.142359)scale(0.01 -0.01)\">\r\n     <use xlink:href=\"#DejaVuSans-101\"/>\r\n     <use x=\"61.523438\" xlink:href=\"#DejaVuSans-106\"/>\r\n     <use x=\"89.306641\" xlink:href=\"#DejaVuSans-101\"/>\r\n     <use x=\"150.830078\" xlink:href=\"#DejaVuSans-99\"/>\r\n     <use x=\"205.810547\" xlink:href=\"#DejaVuSans-116\"/>\r\n     <use x=\"245.019531\" xlink:href=\"#DejaVuSans-105\"/>\r\n     <use x=\"272.802734\" xlink:href=\"#DejaVuSans-111\"/>\r\n     <use x=\"333.984375\" xlink:href=\"#DejaVuSans-110\"/>\r\n     <use x=\"397.363281\" xlink:href=\"#DejaVuSans-95\"/>\r\n     <use x=\"447.363281\" xlink:href=\"#DejaVuSans-102\"/>\r\n     <use x=\"482.568359\" xlink:href=\"#DejaVuSans-114\"/>\r\n     <use x=\"523.681641\" xlink:href=\"#DejaVuSans-97\"/>\r\n     <use x=\"584.960938\" xlink:href=\"#DejaVuSans-99\"/>\r\n     <use x=\"639.941406\" xlink:href=\"#DejaVuSans-116\"/>\r\n     <use x=\"679.150391\" xlink:href=\"#DejaVuSans-105\"/>\r\n     <use x=\"706.933594\" xlink:href=\"#DejaVuSans-111\"/>\r\n     <use x=\"768.115234\" xlink:href=\"#DejaVuSans-110\"/>\r\n     <use x=\"831.494141\" xlink:href=\"#DejaVuSans-32\"/>\r\n     <use x=\"863.28125\" xlink:href=\"#DejaVuSans-60\"/>\r\n     <use x=\"947.070312\" xlink:href=\"#DejaVuSans-61\"/>\r\n     <use x=\"1030.859375\" xlink:href=\"#DejaVuSans-32\"/>\r\n     <use x=\"1062.646484\" xlink:href=\"#DejaVuSans-55\"/>\r\n     <use x=\"1126.269531\" xlink:href=\"#DejaVuSans-50\"/>\r\n     <use x=\"1189.892578\" xlink:href=\"#DejaVuSans-46\"/>\r\n     <use x=\"1221.679688\" xlink:href=\"#DejaVuSans-53\"/>\r\n    </g>\r\n    <!-- gini = 0.19 -->\r\n    <g transform=\"translate(84.498682 61.289953)scale(0.01 -0.01)\">\r\n     <use xlink:href=\"#DejaVuSans-103\"/>\r\n     <use x=\"63.476562\" xlink:href=\"#DejaVuSans-105\"/>\r\n     <use x=\"91.259766\" xlink:href=\"#DejaVuSans-110\"/>\r\n     <use x=\"154.638672\" xlink:href=\"#DejaVuSans-105\"/>\r\n     <use x=\"182.421875\" xlink:href=\"#DejaVuSans-32\"/>\r\n     <use x=\"214.208984\" xlink:href=\"#DejaVuSans-61\"/>\r\n     <use x=\"297.998047\" xlink:href=\"#DejaVuSans-32\"/>\r\n     <use x=\"329.785156\" xlink:href=\"#DejaVuSans-48\"/>\r\n     <use x=\"393.408203\" xlink:href=\"#DejaVuSans-46\"/>\r\n     <use x=\"425.195312\" xlink:href=\"#DejaVuSans-49\"/>\r\n     <use x=\"488.818359\" xlink:href=\"#DejaVuSans-57\"/>\r\n    </g>\r\n    <!-- samples = 47 -->\r\n    <g transform=\"translate(83.809463 62.409734)scale(0.01 -0.01)\">\r\n     <use xlink:href=\"#DejaVuSans-115\"/>\r\n     <use x=\"52.099609\" xlink:href=\"#DejaVuSans-97\"/>\r\n     <use x=\"113.378906\" xlink:href=\"#DejaVuSans-109\"/>\r\n     <use x=\"210.791016\" xlink:href=\"#DejaVuSans-112\"/>\r\n     <use x=\"274.267578\" xlink:href=\"#DejaVuSans-108\"/>\r\n     <use x=\"302.050781\" xlink:href=\"#DejaVuSans-101\"/>\r\n     <use x=\"363.574219\" xlink:href=\"#DejaVuSans-115\"/>\r\n     <use x=\"415.673828\" xlink:href=\"#DejaVuSans-32\"/>\r\n     <use x=\"447.460938\" xlink:href=\"#DejaVuSans-61\"/>\r\n     <use x=\"531.25\" xlink:href=\"#DejaVuSans-32\"/>\r\n     <use x=\"563.037109\" xlink:href=\"#DejaVuSans-52\"/>\r\n     <use x=\"626.660156\" xlink:href=\"#DejaVuSans-55\"/>\r\n    </g>\r\n    <!-- value = [5, 42] -->\r\n    <g transform=\"translate(83.495948 63.529516)scale(0.01 -0.01)\">\r\n     <use xlink:href=\"#DejaVuSans-118\"/>\r\n     <use x=\"59.179688\" xlink:href=\"#DejaVuSans-97\"/>\r\n     <use x=\"120.458984\" xlink:href=\"#DejaVuSans-108\"/>\r\n     <use x=\"148.242188\" xlink:href=\"#DejaVuSans-117\"/>\r\n     <use x=\"211.621094\" xlink:href=\"#DejaVuSans-101\"/>\r\n     <use x=\"273.144531\" xlink:href=\"#DejaVuSans-32\"/>\r\n     <use x=\"304.931641\" xlink:href=\"#DejaVuSans-61\"/>\r\n     <use x=\"388.720703\" xlink:href=\"#DejaVuSans-32\"/>\r\n     <use x=\"420.507812\" xlink:href=\"#DejaVuSans-91\"/>\r\n     <use x=\"459.521484\" xlink:href=\"#DejaVuSans-53\"/>\r\n     <use x=\"523.144531\" xlink:href=\"#DejaVuSans-44\"/>\r\n     <use x=\"554.931641\" xlink:href=\"#DejaVuSans-32\"/>\r\n     <use x=\"586.71875\" xlink:href=\"#DejaVuSans-52\"/>\r\n     <use x=\"650.341797\" xlink:href=\"#DejaVuSans-50\"/>\r\n     <use x=\"713.964844\" xlink:href=\"#DejaVuSans-93\"/>\r\n    </g>\r\n   </g>\r\n   <g id=\"patch_150\">\r\n    <path d=\"M 221.793519 57.410683 \r\nQ 237.524373 49.325289 254.249603 40.728803 \r\n\" style=\"fill:none;stroke:#000000;stroke-linecap:round;\"/>\r\n    <path d=\"M 222.240705 57.405708 \r\nL 221.793519 57.410683 \r\nL 222.057851 57.049949 \r\n\" style=\"fill:none;stroke:#000000;stroke-linecap:round;\"/>\r\n   </g>\r\n   <g id=\"text_75\">\r\n    <g id=\"patch_151\">\r\n     <path d=\"M 208.91948 64.123578 \r\nL 218.521824 64.123578 \r\nL 218.521824 58.996422 \r\nL 208.91948 58.996422 \r\nz\r\n\" style=\"fill:#ffffff;stroke:#000000;stroke-linejoin:miter;\"/>\r\n    </g>\r\n    <!-- age &lt;= 79.0 -->\r\n    <g transform=\"translate(210.520105 60.156266)scale(0.01 -0.01)\">\r\n     <use xlink:href=\"#DejaVuSans-97\"/>\r\n     <use x=\"61.279297\" xlink:href=\"#DejaVuSans-103\"/>\r\n     <use x=\"124.755859\" xlink:href=\"#DejaVuSans-101\"/>\r\n     <use x=\"186.279297\" xlink:href=\"#DejaVuSans-32\"/>\r\n     <use x=\"218.066406\" xlink:href=\"#DejaVuSans-60\"/>\r\n     <use x=\"301.855469\" xlink:href=\"#DejaVuSans-61\"/>\r\n     <use x=\"385.644531\" xlink:href=\"#DejaVuSans-32\"/>\r\n     <use x=\"417.431641\" xlink:href=\"#DejaVuSans-55\"/>\r\n     <use x=\"481.054688\" xlink:href=\"#DejaVuSans-57\"/>\r\n     <use x=\"544.677734\" xlink:href=\"#DejaVuSans-46\"/>\r\n     <use x=\"576.464844\" xlink:href=\"#DejaVuSans-48\"/>\r\n    </g>\r\n    <!-- gini = 0.154 -->\r\n    <g transform=\"translate(210.64034 61.276047)scale(0.01 -0.01)\">\r\n     <use xlink:href=\"#DejaVuSans-103\"/>\r\n     <use x=\"63.476562\" xlink:href=\"#DejaVuSans-105\"/>\r\n     <use x=\"91.259766\" xlink:href=\"#DejaVuSans-110\"/>\r\n     <use x=\"154.638672\" xlink:href=\"#DejaVuSans-105\"/>\r\n     <use x=\"182.421875\" xlink:href=\"#DejaVuSans-32\"/>\r\n     <use x=\"214.208984\" xlink:href=\"#DejaVuSans-61\"/>\r\n     <use x=\"297.998047\" xlink:href=\"#DejaVuSans-32\"/>\r\n     <use x=\"329.785156\" xlink:href=\"#DejaVuSans-48\"/>\r\n     <use x=\"393.408203\" xlink:href=\"#DejaVuSans-46\"/>\r\n     <use x=\"425.195312\" xlink:href=\"#DejaVuSans-49\"/>\r\n     <use x=\"488.818359\" xlink:href=\"#DejaVuSans-53\"/>\r\n     <use x=\"552.441406\" xlink:href=\"#DejaVuSans-52\"/>\r\n    </g>\r\n    <!-- samples = 143 -->\r\n    <g transform=\"translate(209.951121 62.395828)scale(0.01 -0.01)\">\r\n     <use xlink:href=\"#DejaVuSans-115\"/>\r\n     <use x=\"52.099609\" xlink:href=\"#DejaVuSans-97\"/>\r\n     <use x=\"113.378906\" xlink:href=\"#DejaVuSans-109\"/>\r\n     <use x=\"210.791016\" xlink:href=\"#DejaVuSans-112\"/>\r\n     <use x=\"274.267578\" xlink:href=\"#DejaVuSans-108\"/>\r\n     <use x=\"302.050781\" xlink:href=\"#DejaVuSans-101\"/>\r\n     <use x=\"363.574219\" xlink:href=\"#DejaVuSans-115\"/>\r\n     <use x=\"415.673828\" xlink:href=\"#DejaVuSans-32\"/>\r\n     <use x=\"447.460938\" xlink:href=\"#DejaVuSans-61\"/>\r\n     <use x=\"531.25\" xlink:href=\"#DejaVuSans-32\"/>\r\n     <use x=\"563.037109\" xlink:href=\"#DejaVuSans-49\"/>\r\n     <use x=\"626.660156\" xlink:href=\"#DejaVuSans-52\"/>\r\n     <use x=\"690.283203\" xlink:href=\"#DejaVuSans-51\"/>\r\n    </g>\r\n    <!-- value = [131, 12] -->\r\n    <g transform=\"translate(209.31948 63.515609)scale(0.01 -0.01)\">\r\n     <use xlink:href=\"#DejaVuSans-118\"/>\r\n     <use x=\"59.179688\" xlink:href=\"#DejaVuSans-97\"/>\r\n     <use x=\"120.458984\" xlink:href=\"#DejaVuSans-108\"/>\r\n     <use x=\"148.242188\" xlink:href=\"#DejaVuSans-117\"/>\r\n     <use x=\"211.621094\" xlink:href=\"#DejaVuSans-101\"/>\r\n     <use x=\"273.144531\" xlink:href=\"#DejaVuSans-32\"/>\r\n     <use x=\"304.931641\" xlink:href=\"#DejaVuSans-61\"/>\r\n     <use x=\"388.720703\" xlink:href=\"#DejaVuSans-32\"/>\r\n     <use x=\"420.507812\" xlink:href=\"#DejaVuSans-91\"/>\r\n     <use x=\"459.521484\" xlink:href=\"#DejaVuSans-49\"/>\r\n     <use x=\"523.144531\" xlink:href=\"#DejaVuSans-51\"/>\r\n     <use x=\"586.767578\" xlink:href=\"#DejaVuSans-49\"/>\r\n     <use x=\"650.390625\" xlink:href=\"#DejaVuSans-44\"/>\r\n     <use x=\"682.177734\" xlink:href=\"#DejaVuSans-32\"/>\r\n     <use x=\"713.964844\" xlink:href=\"#DejaVuSans-49\"/>\r\n     <use x=\"777.587891\" xlink:href=\"#DejaVuSans-50\"/>\r\n     <use x=\"841.210938\" xlink:href=\"#DejaVuSans-93\"/>\r\n    </g>\r\n   </g>\r\n   <g id=\"patch_152\">\r\n    <path d=\"M 289.521362 57.032285 \r\nQ 274.161104 49.137372 257.80647 40.731366 \r\n\" style=\"fill:none;stroke:#000000;stroke-linecap:round;\"/>\r\n    <path d=\"M 289.25703 56.671552 \r\nL 289.521362 57.032285 \r\nL 289.074176 57.027311 \r\n\" style=\"fill:none;stroke:#000000;stroke-linecap:round;\"/>\r\n   </g>\r\n   <g id=\"text_76\">\r\n    <g id=\"patch_153\">\r\n     <path d=\"M 291.503872 64.137484 \r\nL 305.156997 64.137484 \r\nL 305.156997 58.954703 \r\nL 291.503872 58.954703 \r\nz\r\n\" style=\"fill:#ffffff;stroke:#000000;stroke-linejoin:miter;\"/>\r\n    </g>\r\n    <!-- ejection_fraction &lt;= 32.5 -->\r\n    <g transform=\"translate(291.903872 60.142359)scale(0.01 -0.01)\">\r\n     <use xlink:href=\"#DejaVuSans-101\"/>\r\n     <use x=\"61.523438\" xlink:href=\"#DejaVuSans-106\"/>\r\n     <use x=\"89.306641\" xlink:href=\"#DejaVuSans-101\"/>\r\n     <use x=\"150.830078\" xlink:href=\"#DejaVuSans-99\"/>\r\n     <use x=\"205.810547\" xlink:href=\"#DejaVuSans-116\"/>\r\n     <use x=\"245.019531\" xlink:href=\"#DejaVuSans-105\"/>\r\n     <use x=\"272.802734\" xlink:href=\"#DejaVuSans-111\"/>\r\n     <use x=\"333.984375\" xlink:href=\"#DejaVuSans-110\"/>\r\n     <use x=\"397.363281\" xlink:href=\"#DejaVuSans-95\"/>\r\n     <use x=\"447.363281\" xlink:href=\"#DejaVuSans-102\"/>\r\n     <use x=\"482.568359\" xlink:href=\"#DejaVuSans-114\"/>\r\n     <use x=\"523.681641\" xlink:href=\"#DejaVuSans-97\"/>\r\n     <use x=\"584.960938\" xlink:href=\"#DejaVuSans-99\"/>\r\n     <use x=\"639.941406\" xlink:href=\"#DejaVuSans-116\"/>\r\n     <use x=\"679.150391\" xlink:href=\"#DejaVuSans-105\"/>\r\n     <use x=\"706.933594\" xlink:href=\"#DejaVuSans-111\"/>\r\n     <use x=\"768.115234\" xlink:href=\"#DejaVuSans-110\"/>\r\n     <use x=\"831.494141\" xlink:href=\"#DejaVuSans-32\"/>\r\n     <use x=\"863.28125\" xlink:href=\"#DejaVuSans-60\"/>\r\n     <use x=\"947.070312\" xlink:href=\"#DejaVuSans-61\"/>\r\n     <use x=\"1030.859375\" xlink:href=\"#DejaVuSans-32\"/>\r\n     <use x=\"1062.646484\" xlink:href=\"#DejaVuSans-51\"/>\r\n     <use x=\"1126.269531\" xlink:href=\"#DejaVuSans-50\"/>\r\n     <use x=\"1189.892578\" xlink:href=\"#DejaVuSans-46\"/>\r\n     <use x=\"1221.679688\" xlink:href=\"#DejaVuSans-53\"/>\r\n    </g>\r\n    <!-- gini = 0.5 -->\r\n    <g transform=\"translate(295.886372 61.289953)scale(0.01 -0.01)\">\r\n     <use xlink:href=\"#DejaVuSans-103\"/>\r\n     <use x=\"63.476562\" xlink:href=\"#DejaVuSans-105\"/>\r\n     <use x=\"91.259766\" xlink:href=\"#DejaVuSans-110\"/>\r\n     <use x=\"154.638672\" xlink:href=\"#DejaVuSans-105\"/>\r\n     <use x=\"182.421875\" xlink:href=\"#DejaVuSans-32\"/>\r\n     <use x=\"214.208984\" xlink:href=\"#DejaVuSans-61\"/>\r\n     <use x=\"297.998047\" xlink:href=\"#DejaVuSans-32\"/>\r\n     <use x=\"329.785156\" xlink:href=\"#DejaVuSans-48\"/>\r\n     <use x=\"393.408203\" xlink:href=\"#DejaVuSans-46\"/>\r\n     <use x=\"425.195312\" xlink:href=\"#DejaVuSans-53\"/>\r\n    </g>\r\n    <!-- samples = 37 -->\r\n    <g transform=\"translate(294.879029 62.409734)scale(0.01 -0.01)\">\r\n     <use xlink:href=\"#DejaVuSans-115\"/>\r\n     <use x=\"52.099609\" xlink:href=\"#DejaVuSans-97\"/>\r\n     <use x=\"113.378906\" xlink:href=\"#DejaVuSans-109\"/>\r\n     <use x=\"210.791016\" xlink:href=\"#DejaVuSans-112\"/>\r\n     <use x=\"274.267578\" xlink:href=\"#DejaVuSans-108\"/>\r\n     <use x=\"302.050781\" xlink:href=\"#DejaVuSans-101\"/>\r\n     <use x=\"363.574219\" xlink:href=\"#DejaVuSans-115\"/>\r\n     <use x=\"415.673828\" xlink:href=\"#DejaVuSans-32\"/>\r\n     <use x=\"447.460938\" xlink:href=\"#DejaVuSans-61\"/>\r\n     <use x=\"531.25\" xlink:href=\"#DejaVuSans-32\"/>\r\n     <use x=\"563.037109\" xlink:href=\"#DejaVuSans-51\"/>\r\n     <use x=\"626.660156\" xlink:href=\"#DejaVuSans-55\"/>\r\n    </g>\r\n    <!-- value = [19, 18] -->\r\n    <g transform=\"translate(294.247388 63.529516)scale(0.01 -0.01)\">\r\n     <use xlink:href=\"#DejaVuSans-118\"/>\r\n     <use x=\"59.179688\" xlink:href=\"#DejaVuSans-97\"/>\r\n     <use x=\"120.458984\" xlink:href=\"#DejaVuSans-108\"/>\r\n     <use x=\"148.242188\" xlink:href=\"#DejaVuSans-117\"/>\r\n     <use x=\"211.621094\" xlink:href=\"#DejaVuSans-101\"/>\r\n     <use x=\"273.144531\" xlink:href=\"#DejaVuSans-32\"/>\r\n     <use x=\"304.931641\" xlink:href=\"#DejaVuSans-61\"/>\r\n     <use x=\"388.720703\" xlink:href=\"#DejaVuSans-32\"/>\r\n     <use x=\"420.507812\" xlink:href=\"#DejaVuSans-91\"/>\r\n     <use x=\"459.521484\" xlink:href=\"#DejaVuSans-49\"/>\r\n     <use x=\"523.144531\" xlink:href=\"#DejaVuSans-57\"/>\r\n     <use x=\"586.767578\" xlink:href=\"#DejaVuSans-44\"/>\r\n     <use x=\"618.554688\" xlink:href=\"#DejaVuSans-32\"/>\r\n     <use x=\"650.341797\" xlink:href=\"#DejaVuSans-49\"/>\r\n     <use x=\"713.964844\" xlink:href=\"#DejaVuSans-56\"/>\r\n     <use x=\"777.587891\" xlink:href=\"#DejaVuSans-93\"/>\r\n    </g>\r\n   </g>\r\n   <g id=\"patch_154\">\r\n    <path d=\"M 67.550814 37.001468 \r\nQ 109.885487 27.865506 153.313036 18.493698 \r\n\" style=\"fill:none;stroke:#000000;stroke-linecap:round;\"/>\r\n    <path d=\"M 67.984002 37.112589 \r\nL 67.550814 37.001468 \r\nL 67.899623 36.72159 \r\n\" style=\"fill:none;stroke:#000000;stroke-linecap:round;\"/>\r\n   </g>\r\n   <g id=\"text_77\">\r\n    <g id=\"patch_155\">\r\n     <path d=\"M 45.012211 42.393484 \r\nL 64.00518 42.393484 \r\nL 64.00518 37.210703 \r\nL 45.012211 37.210703 \r\nz\r\n\" style=\"fill:#ffffff;stroke:#000000;stroke-linejoin:miter;\"/>\r\n    </g>\r\n    <!-- creatinine_phosphokinase &lt;= 109.5 -->\r\n    <g transform=\"translate(45.412211 38.398359)scale(0.01 -0.01)\">\r\n     <use xlink:href=\"#DejaVuSans-99\"/>\r\n     <use x=\"54.980469\" xlink:href=\"#DejaVuSans-114\"/>\r\n     <use x=\"93.84375\" xlink:href=\"#DejaVuSans-101\"/>\r\n     <use x=\"155.367188\" xlink:href=\"#DejaVuSans-97\"/>\r\n     <use x=\"216.646484\" xlink:href=\"#DejaVuSans-116\"/>\r\n     <use x=\"255.855469\" xlink:href=\"#DejaVuSans-105\"/>\r\n     <use x=\"283.638672\" xlink:href=\"#DejaVuSans-110\"/>\r\n     <use x=\"347.017578\" xlink:href=\"#DejaVuSans-105\"/>\r\n     <use x=\"374.800781\" xlink:href=\"#DejaVuSans-110\"/>\r\n     <use x=\"438.179688\" xlink:href=\"#DejaVuSans-101\"/>\r\n     <use x=\"499.703125\" xlink:href=\"#DejaVuSans-95\"/>\r\n     <use x=\"549.703125\" xlink:href=\"#DejaVuSans-112\"/>\r\n     <use x=\"613.179688\" xlink:href=\"#DejaVuSans-104\"/>\r\n     <use x=\"676.558594\" xlink:href=\"#DejaVuSans-111\"/>\r\n     <use x=\"737.740234\" xlink:href=\"#DejaVuSans-115\"/>\r\n     <use x=\"789.839844\" xlink:href=\"#DejaVuSans-112\"/>\r\n     <use x=\"853.316406\" xlink:href=\"#DejaVuSans-104\"/>\r\n     <use x=\"916.695312\" xlink:href=\"#DejaVuSans-111\"/>\r\n     <use x=\"977.876953\" xlink:href=\"#DejaVuSans-107\"/>\r\n     <use x=\"1035.787109\" xlink:href=\"#DejaVuSans-105\"/>\r\n     <use x=\"1063.570312\" xlink:href=\"#DejaVuSans-110\"/>\r\n     <use x=\"1126.949219\" xlink:href=\"#DejaVuSans-97\"/>\r\n     <use x=\"1188.228516\" xlink:href=\"#DejaVuSans-115\"/>\r\n     <use x=\"1240.328125\" xlink:href=\"#DejaVuSans-101\"/>\r\n     <use x=\"1301.851562\" xlink:href=\"#DejaVuSans-32\"/>\r\n     <use x=\"1333.638672\" xlink:href=\"#DejaVuSans-60\"/>\r\n     <use x=\"1417.427734\" xlink:href=\"#DejaVuSans-61\"/>\r\n     <use x=\"1501.216797\" xlink:href=\"#DejaVuSans-32\"/>\r\n     <use x=\"1533.003906\" xlink:href=\"#DejaVuSans-49\"/>\r\n     <use x=\"1596.626953\" xlink:href=\"#DejaVuSans-48\"/>\r\n     <use x=\"1660.25\" xlink:href=\"#DejaVuSans-57\"/>\r\n     <use x=\"1723.873047\" xlink:href=\"#DejaVuSans-46\"/>\r\n     <use x=\"1755.660156\" xlink:href=\"#DejaVuSans-53\"/>\r\n    </g>\r\n    <!-- gini = 0.282 -->\r\n    <g transform=\"translate(51.428383 39.545953)scale(0.01 -0.01)\">\r\n     <use xlink:href=\"#DejaVuSans-103\"/>\r\n     <use x=\"63.476562\" xlink:href=\"#DejaVuSans-105\"/>\r\n     <use x=\"91.259766\" xlink:href=\"#DejaVuSans-110\"/>\r\n     <use x=\"154.638672\" xlink:href=\"#DejaVuSans-105\"/>\r\n     <use x=\"182.421875\" xlink:href=\"#DejaVuSans-32\"/>\r\n     <use x=\"214.208984\" xlink:href=\"#DejaVuSans-61\"/>\r\n     <use x=\"297.998047\" xlink:href=\"#DejaVuSans-32\"/>\r\n     <use x=\"329.785156\" xlink:href=\"#DejaVuSans-48\"/>\r\n     <use x=\"393.408203\" xlink:href=\"#DejaVuSans-46\"/>\r\n     <use x=\"425.195312\" xlink:href=\"#DejaVuSans-50\"/>\r\n     <use x=\"488.818359\" xlink:href=\"#DejaVuSans-56\"/>\r\n     <use x=\"552.441406\" xlink:href=\"#DejaVuSans-50\"/>\r\n    </g>\r\n    <!-- samples = 59 -->\r\n    <g transform=\"translate(51.057289 40.665734)scale(0.01 -0.01)\">\r\n     <use xlink:href=\"#DejaVuSans-115\"/>\r\n     <use x=\"52.099609\" xlink:href=\"#DejaVuSans-97\"/>\r\n     <use x=\"113.378906\" xlink:href=\"#DejaVuSans-109\"/>\r\n     <use x=\"210.791016\" xlink:href=\"#DejaVuSans-112\"/>\r\n     <use x=\"274.267578\" xlink:href=\"#DejaVuSans-108\"/>\r\n     <use x=\"302.050781\" xlink:href=\"#DejaVuSans-101\"/>\r\n     <use x=\"363.574219\" xlink:href=\"#DejaVuSans-115\"/>\r\n     <use x=\"415.673828\" xlink:href=\"#DejaVuSans-32\"/>\r\n     <use x=\"447.460938\" xlink:href=\"#DejaVuSans-61\"/>\r\n     <use x=\"531.25\" xlink:href=\"#DejaVuSans-32\"/>\r\n     <use x=\"563.037109\" xlink:href=\"#DejaVuSans-53\"/>\r\n     <use x=\"626.660156\" xlink:href=\"#DejaVuSans-57\"/>\r\n    </g>\r\n    <!-- value = [10, 49] -->\r\n    <g transform=\"translate(50.425649 41.785516)scale(0.01 -0.01)\">\r\n     <use xlink:href=\"#DejaVuSans-118\"/>\r\n     <use x=\"59.179688\" xlink:href=\"#DejaVuSans-97\"/>\r\n     <use x=\"120.458984\" xlink:href=\"#DejaVuSans-108\"/>\r\n     <use x=\"148.242188\" xlink:href=\"#DejaVuSans-117\"/>\r\n     <use x=\"211.621094\" xlink:href=\"#DejaVuSans-101\"/>\r\n     <use x=\"273.144531\" xlink:href=\"#DejaVuSans-32\"/>\r\n     <use x=\"304.931641\" xlink:href=\"#DejaVuSans-61\"/>\r\n     <use x=\"388.720703\" xlink:href=\"#DejaVuSans-32\"/>\r\n     <use x=\"420.507812\" xlink:href=\"#DejaVuSans-91\"/>\r\n     <use x=\"459.521484\" xlink:href=\"#DejaVuSans-49\"/>\r\n     <use x=\"523.144531\" xlink:href=\"#DejaVuSans-48\"/>\r\n     <use x=\"586.767578\" xlink:href=\"#DejaVuSans-44\"/>\r\n     <use x=\"618.554688\" xlink:href=\"#DejaVuSans-32\"/>\r\n     <use x=\"650.341797\" xlink:href=\"#DejaVuSans-52\"/>\r\n     <use x=\"713.964844\" xlink:href=\"#DejaVuSans-57\"/>\r\n     <use x=\"777.587891\" xlink:href=\"#DejaVuSans-93\"/>\r\n    </g>\r\n   </g>\r\n   <g id=\"patch_156\">\r\n    <path d=\"M 245.483777 37.541052 \r\nQ 201.89857 28.135221 157.220488 18.493543 \r\n\" style=\"fill:none;stroke:#000000;stroke-linecap:round;\"/>\r\n    <path d=\"M 245.134968 37.261174 \r\nL 245.483777 37.541052 \r\nL 245.050589 37.652173 \r\n\" style=\"fill:none;stroke:#000000;stroke-linecap:round;\"/>\r\n   </g>\r\n   <g id=\"text_78\">\r\n    <g id=\"patch_157\">\r\n     <path d=\"M 249.030387 42.393484 \r\nL 263.0207 42.393484 \r\nL 263.0207 37.210703 \r\nL 249.030387 37.210703 \r\nz\r\n\" style=\"fill:#ffffff;stroke:#000000;stroke-linejoin:miter;\"/>\r\n    </g>\r\n    <!-- serum_creatinine &lt;= 1.45 -->\r\n    <g transform=\"translate(249.430387 38.398359)scale(0.01 -0.01)\">\r\n     <use xlink:href=\"#DejaVuSans-115\"/>\r\n     <use x=\"52.099609\" xlink:href=\"#DejaVuSans-101\"/>\r\n     <use x=\"113.623047\" xlink:href=\"#DejaVuSans-114\"/>\r\n     <use x=\"154.736328\" xlink:href=\"#DejaVuSans-117\"/>\r\n     <use x=\"218.115234\" xlink:href=\"#DejaVuSans-109\"/>\r\n     <use x=\"315.527344\" xlink:href=\"#DejaVuSans-95\"/>\r\n     <use x=\"365.527344\" xlink:href=\"#DejaVuSans-99\"/>\r\n     <use x=\"420.507812\" xlink:href=\"#DejaVuSans-114\"/>\r\n     <use x=\"459.371094\" xlink:href=\"#DejaVuSans-101\"/>\r\n     <use x=\"520.894531\" xlink:href=\"#DejaVuSans-97\"/>\r\n     <use x=\"582.173828\" xlink:href=\"#DejaVuSans-116\"/>\r\n     <use x=\"621.382812\" xlink:href=\"#DejaVuSans-105\"/>\r\n     <use x=\"649.166016\" xlink:href=\"#DejaVuSans-110\"/>\r\n     <use x=\"712.544922\" xlink:href=\"#DejaVuSans-105\"/>\r\n     <use x=\"740.328125\" xlink:href=\"#DejaVuSans-110\"/>\r\n     <use x=\"803.707031\" xlink:href=\"#DejaVuSans-101\"/>\r\n     <use x=\"865.230469\" xlink:href=\"#DejaVuSans-32\"/>\r\n     <use x=\"897.017578\" xlink:href=\"#DejaVuSans-60\"/>\r\n     <use x=\"980.806641\" xlink:href=\"#DejaVuSans-61\"/>\r\n     <use x=\"1064.595703\" xlink:href=\"#DejaVuSans-32\"/>\r\n     <use x=\"1096.382812\" xlink:href=\"#DejaVuSans-49\"/>\r\n     <use x=\"1160.005859\" xlink:href=\"#DejaVuSans-46\"/>\r\n     <use x=\"1191.792969\" xlink:href=\"#DejaVuSans-52\"/>\r\n     <use x=\"1255.416016\" xlink:href=\"#DejaVuSans-53\"/>\r\n    </g>\r\n    <!-- gini = 0.278 -->\r\n    <g transform=\"translate(252.945231 39.545953)scale(0.01 -0.01)\">\r\n     <use xlink:href=\"#DejaVuSans-103\"/>\r\n     <use x=\"63.476562\" xlink:href=\"#DejaVuSans-105\"/>\r\n     <use x=\"91.259766\" xlink:href=\"#DejaVuSans-110\"/>\r\n     <use x=\"154.638672\" xlink:href=\"#DejaVuSans-105\"/>\r\n     <use x=\"182.421875\" xlink:href=\"#DejaVuSans-32\"/>\r\n     <use x=\"214.208984\" xlink:href=\"#DejaVuSans-61\"/>\r\n     <use x=\"297.998047\" xlink:href=\"#DejaVuSans-32\"/>\r\n     <use x=\"329.785156\" xlink:href=\"#DejaVuSans-48\"/>\r\n     <use x=\"393.408203\" xlink:href=\"#DejaVuSans-46\"/>\r\n     <use x=\"425.195312\" xlink:href=\"#DejaVuSans-50\"/>\r\n     <use x=\"488.818359\" xlink:href=\"#DejaVuSans-55\"/>\r\n     <use x=\"552.441406\" xlink:href=\"#DejaVuSans-56\"/>\r\n    </g>\r\n    <!-- samples = 180 -->\r\n    <g transform=\"translate(252.256012 40.665734)scale(0.01 -0.01)\">\r\n     <use xlink:href=\"#DejaVuSans-115\"/>\r\n     <use x=\"52.099609\" xlink:href=\"#DejaVuSans-97\"/>\r\n     <use x=\"113.378906\" xlink:href=\"#DejaVuSans-109\"/>\r\n     <use x=\"210.791016\" xlink:href=\"#DejaVuSans-112\"/>\r\n     <use x=\"274.267578\" xlink:href=\"#DejaVuSans-108\"/>\r\n     <use x=\"302.050781\" xlink:href=\"#DejaVuSans-101\"/>\r\n     <use x=\"363.574219\" xlink:href=\"#DejaVuSans-115\"/>\r\n     <use x=\"415.673828\" xlink:href=\"#DejaVuSans-32\"/>\r\n     <use x=\"447.460938\" xlink:href=\"#DejaVuSans-61\"/>\r\n     <use x=\"531.25\" xlink:href=\"#DejaVuSans-32\"/>\r\n     <use x=\"563.037109\" xlink:href=\"#DejaVuSans-49\"/>\r\n     <use x=\"626.660156\" xlink:href=\"#DejaVuSans-56\"/>\r\n     <use x=\"690.283203\" xlink:href=\"#DejaVuSans-48\"/>\r\n    </g>\r\n    <!-- value = [150, 30] -->\r\n    <g transform=\"translate(251.624372 41.785516)scale(0.01 -0.01)\">\r\n     <use xlink:href=\"#DejaVuSans-118\"/>\r\n     <use x=\"59.179688\" xlink:href=\"#DejaVuSans-97\"/>\r\n     <use x=\"120.458984\" xlink:href=\"#DejaVuSans-108\"/>\r\n     <use x=\"148.242188\" xlink:href=\"#DejaVuSans-117\"/>\r\n     <use x=\"211.621094\" xlink:href=\"#DejaVuSans-101\"/>\r\n     <use x=\"273.144531\" xlink:href=\"#DejaVuSans-32\"/>\r\n     <use x=\"304.931641\" xlink:href=\"#DejaVuSans-61\"/>\r\n     <use x=\"388.720703\" xlink:href=\"#DejaVuSans-32\"/>\r\n     <use x=\"420.507812\" xlink:href=\"#DejaVuSans-91\"/>\r\n     <use x=\"459.521484\" xlink:href=\"#DejaVuSans-49\"/>\r\n     <use x=\"523.144531\" xlink:href=\"#DejaVuSans-53\"/>\r\n     <use x=\"586.767578\" xlink:href=\"#DejaVuSans-48\"/>\r\n     <use x=\"650.390625\" xlink:href=\"#DejaVuSans-44\"/>\r\n     <use x=\"682.177734\" xlink:href=\"#DejaVuSans-32\"/>\r\n     <use x=\"713.964844\" xlink:href=\"#DejaVuSans-51\"/>\r\n     <use x=\"777.587891\" xlink:href=\"#DejaVuSans-48\"/>\r\n     <use x=\"841.210938\" xlink:href=\"#DejaVuSans-93\"/>\r\n    </g>\r\n   </g>\r\n   <g id=\"text_79\">\r\n    <g id=\"patch_158\">\r\n     <path d=\"M 150.465948 20.635578 \r\nL 160.068291 20.635578 \r\nL 160.068291 15.508422 \r\nL 150.465948 15.508422 \r\nz\r\n\" style=\"fill:#ffffff;stroke:#000000;stroke-linejoin:miter;\"/>\r\n    </g>\r\n    <!-- time &lt;= 67.5 -->\r\n    <g transform=\"translate(151.868448 16.668266)scale(0.01 -0.01)\">\r\n     <use xlink:href=\"#DejaVuSans-116\"/>\r\n     <use x=\"39.208984\" xlink:href=\"#DejaVuSans-105\"/>\r\n     <use x=\"66.992188\" xlink:href=\"#DejaVuSans-109\"/>\r\n     <use x=\"164.404297\" xlink:href=\"#DejaVuSans-101\"/>\r\n     <use x=\"225.927734\" xlink:href=\"#DejaVuSans-32\"/>\r\n     <use x=\"257.714844\" xlink:href=\"#DejaVuSans-60\"/>\r\n     <use x=\"341.503906\" xlink:href=\"#DejaVuSans-61\"/>\r\n     <use x=\"425.292969\" xlink:href=\"#DejaVuSans-32\"/>\r\n     <use x=\"457.080078\" xlink:href=\"#DejaVuSans-54\"/>\r\n     <use x=\"520.703125\" xlink:href=\"#DejaVuSans-55\"/>\r\n     <use x=\"584.326172\" xlink:href=\"#DejaVuSans-46\"/>\r\n     <use x=\"616.113281\" xlink:href=\"#DejaVuSans-53\"/>\r\n    </g>\r\n    <!-- gini = 0.443 -->\r\n    <g transform=\"translate(152.186807 17.788047)scale(0.01 -0.01)\">\r\n     <use xlink:href=\"#DejaVuSans-103\"/>\r\n     <use x=\"63.476562\" xlink:href=\"#DejaVuSans-105\"/>\r\n     <use x=\"91.259766\" xlink:href=\"#DejaVuSans-110\"/>\r\n     <use x=\"154.638672\" xlink:href=\"#DejaVuSans-105\"/>\r\n     <use x=\"182.421875\" xlink:href=\"#DejaVuSans-32\"/>\r\n     <use x=\"214.208984\" xlink:href=\"#DejaVuSans-61\"/>\r\n     <use x=\"297.998047\" xlink:href=\"#DejaVuSans-32\"/>\r\n     <use x=\"329.785156\" xlink:href=\"#DejaVuSans-48\"/>\r\n     <use x=\"393.408203\" xlink:href=\"#DejaVuSans-46\"/>\r\n     <use x=\"425.195312\" xlink:href=\"#DejaVuSans-52\"/>\r\n     <use x=\"488.818359\" xlink:href=\"#DejaVuSans-52\"/>\r\n     <use x=\"552.441406\" xlink:href=\"#DejaVuSans-51\"/>\r\n    </g>\r\n    <!-- samples = 239 -->\r\n    <g transform=\"translate(151.497588 18.907828)scale(0.01 -0.01)\">\r\n     <use xlink:href=\"#DejaVuSans-115\"/>\r\n     <use x=\"52.099609\" xlink:href=\"#DejaVuSans-97\"/>\r\n     <use x=\"113.378906\" xlink:href=\"#DejaVuSans-109\"/>\r\n     <use x=\"210.791016\" xlink:href=\"#DejaVuSans-112\"/>\r\n     <use x=\"274.267578\" xlink:href=\"#DejaVuSans-108\"/>\r\n     <use x=\"302.050781\" xlink:href=\"#DejaVuSans-101\"/>\r\n     <use x=\"363.574219\" xlink:href=\"#DejaVuSans-115\"/>\r\n     <use x=\"415.673828\" xlink:href=\"#DejaVuSans-32\"/>\r\n     <use x=\"447.460938\" xlink:href=\"#DejaVuSans-61\"/>\r\n     <use x=\"531.25\" xlink:href=\"#DejaVuSans-32\"/>\r\n     <use x=\"563.037109\" xlink:href=\"#DejaVuSans-50\"/>\r\n     <use x=\"626.660156\" xlink:href=\"#DejaVuSans-51\"/>\r\n     <use x=\"690.283203\" xlink:href=\"#DejaVuSans-57\"/>\r\n    </g>\r\n    <!-- value = [160, 79] -->\r\n    <g transform=\"translate(150.865948 20.027609)scale(0.01 -0.01)\">\r\n     <use xlink:href=\"#DejaVuSans-118\"/>\r\n     <use x=\"59.179688\" xlink:href=\"#DejaVuSans-97\"/>\r\n     <use x=\"120.458984\" xlink:href=\"#DejaVuSans-108\"/>\r\n     <use x=\"148.242188\" xlink:href=\"#DejaVuSans-117\"/>\r\n     <use x=\"211.621094\" xlink:href=\"#DejaVuSans-101\"/>\r\n     <use x=\"273.144531\" xlink:href=\"#DejaVuSans-32\"/>\r\n     <use x=\"304.931641\" xlink:href=\"#DejaVuSans-61\"/>\r\n     <use x=\"388.720703\" xlink:href=\"#DejaVuSans-32\"/>\r\n     <use x=\"420.507812\" xlink:href=\"#DejaVuSans-91\"/>\r\n     <use x=\"459.521484\" xlink:href=\"#DejaVuSans-49\"/>\r\n     <use x=\"523.144531\" xlink:href=\"#DejaVuSans-54\"/>\r\n     <use x=\"586.767578\" xlink:href=\"#DejaVuSans-48\"/>\r\n     <use x=\"650.390625\" xlink:href=\"#DejaVuSans-44\"/>\r\n     <use x=\"682.177734\" xlink:href=\"#DejaVuSans-32\"/>\r\n     <use x=\"713.964844\" xlink:href=\"#DejaVuSans-55\"/>\r\n     <use x=\"777.587891\" xlink:href=\"#DejaVuSans-57\"/>\r\n     <use x=\"841.210938\" xlink:href=\"#DejaVuSans-93\"/>\r\n    </g>\r\n   </g>\r\n  </g>\r\n </g>\r\n</svg>\r\n",
      "image/png": "[encoded data removed]"
     },
     "metadata": {
      "needs_background": "light"
     }
    }
   ],
   "source": [
    "plot_tree(decision_tree= tree.fit(x_train, y_train), feature_names= Features)\n",
    "plt.show()"
   ]
  },
  {
   "cell_type": "code",
   "execution_count": 88,
   "metadata": {},
   "outputs": [
    {
     "output_type": "display_data",
     "data": {
      "text/plain": "    Test  Pred\n179    0     0\n221    0     0\n226    0     1\n7      1     1\n173    0     0",
      "text/html": "<div>\n<style scoped>\n    .dataframe tbody tr th:only-of-type {\n        vertical-align: middle;\n    }\n\n    .dataframe tbody tr th {\n        vertical-align: top;\n    }\n\n    .dataframe thead th {\n        text-align: right;\n    }\n</style>\n<table border=\"1\" class=\"dataframe\">\n  <thead>\n    <tr style=\"text-align: right;\">\n      <th></th>\n      <th>Test</th>\n      <th>Pred</th>\n    </tr>\n  </thead>\n  <tbody>\n    <tr>\n      <th>179</th>\n      <td>0</td>\n      <td>0</td>\n    </tr>\n    <tr>\n      <th>221</th>\n      <td>0</td>\n      <td>0</td>\n    </tr>\n    <tr>\n      <th>226</th>\n      <td>0</td>\n      <td>1</td>\n    </tr>\n    <tr>\n      <th>7</th>\n      <td>1</td>\n      <td>1</td>\n    </tr>\n    <tr>\n      <th>173</th>\n      <td>0</td>\n      <td>0</td>\n    </tr>\n  </tbody>\n</table>\n</div>"
     },
     "metadata": {}
    }
   ],
   "source": [
    "res = {}\n",
    "res = pd.DataFrame(res)\n",
    "res['Test'] = pd.Series(y_test)\n",
    "res['Pred'] = tree_pred\n",
    "display(res.head(5))"
   ]
  },
  {
   "source": [
    "## Cross-validation:\n",
    "\n",
    "Esta é uma técnica utilizada em sua maioria na validação de modelos de aprendizado de máquina em uma amostra de dados limitada, machine learning. Em resumo, a validação cruzada é uma técnica que avalia a capacidade de generalização de um modelo, a partir de um conjunto de dados. Assim, neste busca-se estimar o quão preciso é este modelo na prática, ou seja, a sua precisão em um novo conjunto de dados. Portanto, este foi utilizado em nosso projeto, por possuir uma pequena amostra de n = 300, foi utilizado este modelo, pois ele evita que o modelo de validação fique menos preciso."
   ],
   "cell_type": "markdown",
   "metadata": {}
  },
  {
   "source": [
    "### Logistic:"
   ],
   "cell_type": "markdown",
   "metadata": {}
  },
  {
   "cell_type": "code",
   "execution_count": 34,
   "metadata": {},
   "outputs": [
    {
     "output_type": "stream",
     "name": "stdout",
     "text": [
      "0.8833333333333332\n"
     ]
    }
   ],
   "source": [
    "cv_results_log = cross_validate(log, x_test, y_test, cv=10)\n",
    "print(np.mean(cv_results_log['test_score']))"
   ]
  },
  {
   "source": [
    "### Tree:"
   ],
   "cell_type": "markdown",
   "metadata": {}
  },
  {
   "cell_type": "code",
   "execution_count": 36,
   "metadata": {},
   "outputs": [
    {
     "output_type": "stream",
     "name": "stdout",
     "text": [
      "0.7833333333333334\n"
     ]
    }
   ],
   "source": [
    "cv_results_tree = cross_validate(tree, x_test, y_test, cv=10)\n",
    "print(np.mean(cv_results_tree['test_score']))"
   ]
  }
 ]
}