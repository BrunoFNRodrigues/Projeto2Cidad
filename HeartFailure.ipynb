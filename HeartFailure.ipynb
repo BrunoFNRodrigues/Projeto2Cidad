{
 "metadata": {
  "language_info": {
   "codemirror_mode": {
    "name": "ipython",
    "version": 3
   },
   "file_extension": ".py",
   "mimetype": "text/x-python",
   "name": "python",
   "nbconvert_exporter": "python",
   "pygments_lexer": "ipython3",
   "version": "3.7.4-final"
  },
  "orig_nbformat": 2,
  "kernelspec": {
   "name": "python3",
   "display_name": "Python 3"
  }
 },
 "nbformat": 4,
 "nbformat_minor": 2,
 "cells": [
  {
   "source": [
    "# Projeto 2 - Ciência dos Dados\n",
    "\n",
    "\n"
   ],
   "cell_type": "markdown",
   "metadata": {}
  },
  {
   "source": [
    "Nome: Bruno Freitas do Nascimento Rodrigues\n",
    "\n",
    "Nome: Paulo Augusto dos Passos Oliveira"
   ],
   "cell_type": "markdown",
   "metadata": {}
  },
  {
   "source": [
    "___\n",
    "# Introdução:\n",
    "Doenças cardíacas são uma das principais causas de mortes no mundo, e estas são responsáveis pela morte de aproximadamente 18 milhões de pessoas por ano. Em conjunto destas informações há também características que contribuem para o óbito do paciente (fumar, diabetes, quantidade de sódio no sangue etc.). Tendo isto em vista, nosso objetivo foi entender qual é a importância que cada um destes fatores tem em relação ao óbito. A fim de realizar uma análise de dados sobre a incidência de morte em casos de infarto, nós geraramos modelos para predizer o quanto as características (features) abaixo, afetam de maneira significativa o evento de morte. E por fim, com base nas características (features), foi possível fazer um modelo de predição para o evento de morte. "
   ],
   "cell_type": "markdown",
   "metadata": {}
  },
  {
   "source": [
    "___\n",
    "Importando Bibliotecas necessárias:"
   ],
   "cell_type": "markdown",
   "metadata": {}
  },
  {
   "cell_type": "code",
   "execution_count": 9,
   "metadata": {},
   "outputs": [],
   "source": [
    "%matplotlib inline\n",
    "import pandas as pd\n",
    "import matplotlib.pyplot as plt\n",
    "import numpy as np\n",
    "import os\n",
    "import re\n",
    "import plotly.graph_objects as go\n",
    "import plotly.express as px \n",
    "from IPython.display import display\n",
    "from sklearn.model_selection import train_test_split, cross_validate\n",
    "from sklearn.metrics import confusion_matrix, accuracy_score\n",
    "from sklearn.linear_model import LogisticRegression\n",
    "from sklearn.ensemble import RandomForestClassifier\n",
    "from sklearn.tree import DecisionTreeClassifier, plot_tree"
   ]
  },
  {
   "source": [
    "Checando se dataset foi encontrado:"
   ],
   "cell_type": "markdown",
   "metadata": {}
  },
  {
   "cell_type": "code",
   "execution_count": 10,
   "metadata": {},
   "outputs": [
    {
     "output_type": "stream",
     "name": "stdout",
     "text": [
      "O arquivo heart_failure.csv foi encontrado, tudo certo para prosseguir!\n"
     ]
    }
   ],
   "source": [
    "filename = 'heart_failure.csv'\n",
    "if filename in os.listdir():\n",
    "    print(f'O arquivo {filename} foi encontrado, tudo certo para prosseguir!')\n",
    "else:\n",
    "    print(f'Não encontrei o arquivo {filename} aqui no diretório {os.getcwd()}, será que você não baixou o arquivo?')"
   ]
  },
  {
   "source": [
    "### Para tal, iremos utilizar um dataset contendo as informações de 300 casos da BMC Medical Informatics and Decision Making, que contém 13 colunas contendo informações relevantes, estas que estão escritas abaixo:"
   ],
   "cell_type": "markdown",
   "metadata": {}
  },
  {
   "source": [
    "## Descrição das colunas do conjunto de dados:\n",
    "\n",
    "** age**: idade da pessoa em anos.<br>\n",
    "** anamia**: se a pessoa está animica ou não (booleana).<br>\n",
    "** creatinine_phosphokinase**: contidade de Creatinofosfoquinase presente no sangue em microgramas por litro (mcg/L).<br>\n",
    "** diabetes**: se a pessoa é diabética ou não (booleana).<br>\n",
    "** ejection_fraction**: porcetagem do sangue deixa o coração a após a contração.<br>\n",
    "** high_blood_pressure**: se a pessoa tem hipertensão ou não (booleana).<br>\n",
    "** platelets**: quantidade de plaquetas no sangue em kiloplaquetas por mililitro (kplaquetas/mL).<br>\n",
    "** serum_creatinine**: quantidade de creatinina no sangue em miligramas por decilitro (mg/dL).<br>\n",
    "** serum_sodium**: quantidade de sódio no sangue em miliequivalentes por litro (mEq/L).<br>\n",
    "** sex**: sexo da pessoa dividido em feminino e masculino, sendo 0=feminino e 1=masculino (binário).<br>\n",
    "** smoking**: se a pessoa fuma ou não (booleana).<br>\n",
    "** time**: tempo de acompanhamento após a falha cardíaca em dias.<br>\n",
    "** DEATH_EVENT**: se a pessoa foi a óbito ou não (booleana)."
   ],
   "cell_type": "markdown",
   "metadata": {}
  },
  {
   "source": [
    "** Configuração do arquivo: **"
   ],
   "cell_type": "markdown",
   "metadata": {}
  },
  {
   "cell_type": "code",
   "execution_count": 11,
   "metadata": {},
   "outputs": [
    {
     "output_type": "execute_result",
     "data": {
      "text/plain": [
       "    age  anaemia  creatinine_phosphokinase  diabetes  ejection_fraction  \\\n",
       "0  75.0        0                       582         0                 20   \n",
       "1  55.0        0                      7861         0                 38   \n",
       "2  65.0        0                       146         0                 20   \n",
       "3  50.0        1                       111         0                 20   \n",
       "4  65.0        1                       160         1                 20   \n",
       "\n",
       "   high_blood_pressure  platelets  serum_creatinine  serum_sodium  sex  \\\n",
       "0                    1  265000.00               1.9           130    1   \n",
       "1                    0  263358.03               1.1           136    1   \n",
       "2                    0  162000.00               1.3           129    1   \n",
       "3                    0  210000.00               1.9           137    1   \n",
       "4                    0  327000.00               2.7           116    0   \n",
       "\n",
       "   smoking  time  DEATH_EVENT  \n",
       "0        0     4            1  \n",
       "1        0     6            1  \n",
       "2        1     7            1  \n",
       "3        0     7            1  \n",
       "4        0     8            1  "
      ],
      "text/html": "<div>\n<style scoped>\n    .dataframe tbody tr th:only-of-type {\n        vertical-align: middle;\n    }\n\n    .dataframe tbody tr th {\n        vertical-align: top;\n    }\n\n    .dataframe thead th {\n        text-align: right;\n    }\n</style>\n<table border=\"1\" class=\"dataframe\">\n  <thead>\n    <tr style=\"text-align: right;\">\n      <th></th>\n      <th>age</th>\n      <th>anaemia</th>\n      <th>creatinine_phosphokinase</th>\n      <th>diabetes</th>\n      <th>ejection_fraction</th>\n      <th>high_blood_pressure</th>\n      <th>platelets</th>\n      <th>serum_creatinine</th>\n      <th>serum_sodium</th>\n      <th>sex</th>\n      <th>smoking</th>\n      <th>time</th>\n      <th>DEATH_EVENT</th>\n    </tr>\n  </thead>\n  <tbody>\n    <tr>\n      <td>0</td>\n      <td>75.0</td>\n      <td>0</td>\n      <td>582</td>\n      <td>0</td>\n      <td>20</td>\n      <td>1</td>\n      <td>265000.00</td>\n      <td>1.9</td>\n      <td>130</td>\n      <td>1</td>\n      <td>0</td>\n      <td>4</td>\n      <td>1</td>\n    </tr>\n    <tr>\n      <td>1</td>\n      <td>55.0</td>\n      <td>0</td>\n      <td>7861</td>\n      <td>0</td>\n      <td>38</td>\n      <td>0</td>\n      <td>263358.03</td>\n      <td>1.1</td>\n      <td>136</td>\n      <td>1</td>\n      <td>0</td>\n      <td>6</td>\n      <td>1</td>\n    </tr>\n    <tr>\n      <td>2</td>\n      <td>65.0</td>\n      <td>0</td>\n      <td>146</td>\n      <td>0</td>\n      <td>20</td>\n      <td>0</td>\n      <td>162000.00</td>\n      <td>1.3</td>\n      <td>129</td>\n      <td>1</td>\n      <td>1</td>\n      <td>7</td>\n      <td>1</td>\n    </tr>\n    <tr>\n      <td>3</td>\n      <td>50.0</td>\n      <td>1</td>\n      <td>111</td>\n      <td>0</td>\n      <td>20</td>\n      <td>0</td>\n      <td>210000.00</td>\n      <td>1.9</td>\n      <td>137</td>\n      <td>1</td>\n      <td>0</td>\n      <td>7</td>\n      <td>1</td>\n    </tr>\n    <tr>\n      <td>4</td>\n      <td>65.0</td>\n      <td>1</td>\n      <td>160</td>\n      <td>1</td>\n      <td>20</td>\n      <td>0</td>\n      <td>327000.00</td>\n      <td>2.7</td>\n      <td>116</td>\n      <td>0</td>\n      <td>0</td>\n      <td>8</td>\n      <td>1</td>\n    </tr>\n  </tbody>\n</table>\n</div>"
     },
     "metadata": {},
     "execution_count": 11
    }
   ],
   "source": [
    "dados = pd.read_csv(filename)\n",
    "dados.head(5)"
   ]
  },
  {
   "cell_type": "code",
   "execution_count": 12,
   "metadata": {},
   "outputs": [],
   "source": [
    "#Assegurando que todas as gategorias sejam intrepetadas corretamente\n",
    "dados['age'] = dados['age'].astype('float64')\n",
    "dados['anaemia'] = dados['anaemia'].astype('category')\n",
    "dados['creatinine_phosphokinase'] = dados['creatinine_phosphokinase'].astype('float64')\n",
    "dados['diabetes'] = dados['diabetes'].astype('category')\n",
    "dados['ejection_fraction'] = dados['ejection_fraction'].astype('float64')\n",
    "dados['high_blood_pressure'] = dados['high_blood_pressure'].astype('category')\n",
    "dados['platelets'] = dados['platelets'].astype('float64')\n",
    "dados['serum_sodium'] = dados['serum_sodium'].astype('float64')\n",
    "dados['sex'] = dados['sex'].astype('category')\n",
    "dados['smoking'] = dados['smoking'].astype('category')\n",
    "dados['time'] = dados['time'].astype('float64')\n",
    "dados['DEATH_EVENT'] = dados['DEATH_EVENT'].astype('category')"
   ]
  },
  {
   "cell_type": "code",
   "execution_count": 13,
   "metadata": {},
   "outputs": [],
   "source": [
    "#Motificando os parametros 0 e 1 para sim e não\n",
    "dados.anaemia.cat.categories = ['não', 'sim']\n",
    "dados.diabetes.cat.categories = ['não', 'sim']\n",
    "dados.high_blood_pressure.cat.categories = ['não', 'sim']\n",
    "dados.sex.cat.categories = ['M', 'F']\n",
    "dados.smoking.cat.categories = ['não', 'sim']\n",
    "dados.DEATH_EVENT.cat.categories = ['não', 'sim']\n",
    "\n",
    "\n",
    "dados.anaemia = pd.Categorical(dados.anaemia, categories=['não', 'sim'], ordered=False)\n",
    "dados.diabetes = pd.Categorical(dados.diabetes, categories=['não', 'sim'], ordered=False)\n",
    "dados.high_blood_pressure = pd.Categorical(dados.high_blood_pressure, categories=['não', 'sim'], ordered=False)\n",
    "dados.smoking = pd.Categorical(dados.smoking, categories=['não', 'sim'], ordered=False)\n",
    "dados.DEATH_EVENT = pd.Categorical(dados.DEATH_EVENT, categories=['não', 'sim'], ordered=False)"
   ]
  },
  {
   "source": [
    "### Observando a nossa variável alvo (death event), foi possível concluir que ela é qualitativa e com base nisso, cruzamos ela com as variáveis quantitativas e assim construímos sete histogramas."
   ],
   "cell_type": "markdown",
   "metadata": {}
  },
  {
   "source": [
    "## Histogramas\n",
    "\n",
    "Análise comparattiva de histogramas das features entre caso DEATH_EVENT = True e DEATH_EVENT = False"
   ],
   "cell_type": "markdown",
   "metadata": {}
  },
  {
   "cell_type": "code",
   "execution_count": 14,
   "metadata": {},
   "outputs": [],
   "source": [
    "#Divisão entre sobreviventes e mortos\n",
    "dead = dados[dados[\"DEATH_EVENT\"]=='sim']\n",
    "not_dead = dados[dados[\"DEATH_EVENT\"]=='não']"
   ]
  },
  {
   "cell_type": "code",
   "execution_count": 15,
   "metadata": {},
   "outputs": [
    {
     "output_type": "display_data",
     "data": {
      "text/plain": "<Figure size 1008x360 with 1 Axes>",
      "image/svg+xml": "<?xml version=\"1.0\" encoding=\"utf-8\" standalone=\"no\"?>\r\n<!DOCTYPE svg PUBLIC \"-//W3C//DTD SVG 1.1//EN\"\r\n  \"http://www.w3.org/Graphics/SVG/1.1/DTD/svg11.dtd\">\r\n<!-- Created with matplotlib (https://matplotlib.org/) -->\r\n<svg height=\"331.674375pt\" version=\"1.1\" viewBox=\"0 0 844.90625 331.674375\" width=\"844.90625pt\" xmlns=\"http://www.w3.org/2000/svg\" xmlns:xlink=\"http://www.w3.org/1999/xlink\">\r\n <defs>\r\n  <style type=\"text/css\">\r\n*{stroke-linecap:butt;stroke-linejoin:round;}\r\n  </style>\r\n </defs>\r\n <g id=\"figure_1\">\r\n  <g id=\"patch_1\">\r\n   <path d=\"M 0 331.674375 \r\nL 844.90625 331.674375 \r\nL 844.90625 0 \r\nL 0 0 \r\nz\r\n\" style=\"fill:none;\"/>\r\n  </g>\r\n  <g id=\"axes_1\">\r\n   <g id=\"patch_2\">\r\n    <path d=\"M 56.50625 294.118125 \r\nL 837.70625 294.118125 \r\nL 837.70625 22.318125 \r\nL 56.50625 22.318125 \r\nz\r\n\" style=\"fill:#ffffff;\"/>\r\n   </g>\r\n   <g id=\"patch_3\">\r\n    <path clip-path=\"url(#p440620e335)\" d=\"M 92.015341 294.118125 \r\nL 163.033523 294.118125 \r\nL 163.033523 279.992319 \r\nL 92.015341 279.992319 \r\nz\r\n\" style=\"fill:#ff0000;stroke:#ffffff;stroke-linejoin:miter;\"/>\r\n   </g>\r\n   <g id=\"patch_4\">\r\n    <path clip-path=\"url(#p440620e335)\" d=\"M 163.033523 294.118125 \r\nL 234.051705 294.118125 \r\nL 234.051705 152.86006 \r\nL 163.033523 152.86006 \r\nz\r\n\" style=\"fill:#ff0000;stroke:#ffffff;stroke-linejoin:miter;\"/>\r\n   </g>\r\n   <g id=\"patch_5\">\r\n    <path clip-path=\"url(#p440620e335)\" d=\"M 234.051705 294.118125 \r\nL 305.069886 294.118125 \r\nL 305.069886 138.734254 \r\nL 234.051705 138.734254 \r\nz\r\n\" style=\"fill:#ff0000;stroke:#ffffff;stroke-linejoin:miter;\"/>\r\n   </g>\r\n   <g id=\"patch_6\">\r\n    <path clip-path=\"url(#p440620e335)\" d=\"M 305.069886 294.118125 \r\nL 376.088068 294.118125 \r\nL 376.088068 166.985867 \r\nL 305.069886 166.985867 \r\nz\r\n\" style=\"fill:#ff0000;stroke:#ffffff;stroke-linejoin:miter;\"/>\r\n   </g>\r\n   <g id=\"patch_7\">\r\n    <path clip-path=\"url(#p440620e335)\" d=\"M 376.088068 294.118125 \r\nL 447.10625 294.118125 \r\nL 447.10625 82.231028 \r\nL 376.088068 82.231028 \r\nz\r\n\" style=\"fill:#ff0000;stroke:#ffffff;stroke-linejoin:miter;\"/>\r\n   </g>\r\n   <g id=\"patch_8\">\r\n    <path clip-path=\"url(#p440620e335)\" d=\"M 447.10625 294.118125 \r\nL 518.124432 294.118125 \r\nL 518.124432 124.608448 \r\nL 447.10625 124.608448 \r\nz\r\n\" style=\"fill:#ff0000;stroke:#ffffff;stroke-linejoin:miter;\"/>\r\n   </g>\r\n   <g id=\"patch_9\">\r\n    <path clip-path=\"url(#p440620e335)\" d=\"M 518.124432 294.118125 \r\nL 589.142614 294.118125 \r\nL 589.142614 110.482641 \r\nL 518.124432 110.482641 \r\nz\r\n\" style=\"fill:#ff0000;stroke:#ffffff;stroke-linejoin:miter;\"/>\r\n   </g>\r\n   <g id=\"patch_10\">\r\n    <path clip-path=\"url(#p440620e335)\" d=\"M 589.142614 294.118125 \r\nL 660.160795 294.118125 \r\nL 660.160795 195.23748 \r\nL 589.142614 195.23748 \r\nz\r\n\" style=\"fill:#ff0000;stroke:#ffffff;stroke-linejoin:miter;\"/>\r\n   </g>\r\n   <g id=\"patch_11\">\r\n    <path clip-path=\"url(#p440620e335)\" d=\"M 660.160795 294.118125 \r\nL 731.178977 294.118125 \r\nL 731.178977 181.111673 \r\nL 660.160795 181.111673 \r\nz\r\n\" style=\"fill:#ff0000;stroke:#ffffff;stroke-linejoin:miter;\"/>\r\n   </g>\r\n   <g id=\"patch_12\">\r\n    <path clip-path=\"url(#p440620e335)\" d=\"M 731.178977 294.118125 \r\nL 802.197159 294.118125 \r\nL 802.197159 195.23748 \r\nL 731.178977 195.23748 \r\nz\r\n\" style=\"fill:#ff0000;stroke:#ffffff;stroke-linejoin:miter;\"/>\r\n   </g>\r\n   <g id=\"patch_13\">\r\n    <path clip-path=\"url(#p440620e335)\" d=\"M 92.015341 294.118125 \r\nL 163.033523 294.118125 \r\nL 163.033523 184.103839 \r\nL 92.015341 184.103839 \r\nz\r\n\" style=\"fill:#87ceeb;opacity:0.8;stroke:#ffffff;stroke-linejoin:miter;\"/>\r\n   </g>\r\n   <g id=\"patch_14\">\r\n    <path clip-path=\"url(#p440620e335)\" d=\"M 163.033523 294.118125 \r\nL 234.051705 294.118125 \r\nL 234.051705 171.160982 \r\nL 163.033523 171.160982 \r\nz\r\n\" style=\"fill:#87ceeb;opacity:0.8;stroke:#ffffff;stroke-linejoin:miter;\"/>\r\n   </g>\r\n   <g id=\"patch_15\">\r\n    <path clip-path=\"url(#p440620e335)\" d=\"M 234.051705 294.118125 \r\nL 305.069886 294.118125 \r\nL 305.069886 54.675268 \r\nL 234.051705 54.675268 \r\nz\r\n\" style=\"fill:#87ceeb;opacity:0.8;stroke:#ffffff;stroke-linejoin:miter;\"/>\r\n   </g>\r\n   <g id=\"patch_16\">\r\n    <path clip-path=\"url(#p440620e335)\" d=\"M 305.069886 294.118125 \r\nL 376.088068 294.118125 \r\nL 376.088068 132.332411 \r\nL 305.069886 132.332411 \r\nz\r\n\" style=\"fill:#87ceeb;opacity:0.8;stroke:#ffffff;stroke-linejoin:miter;\"/>\r\n   </g>\r\n   <g id=\"patch_17\">\r\n    <path clip-path=\"url(#p440620e335)\" d=\"M 376.088068 294.118125 \r\nL 447.10625 294.118125 \r\nL 447.10625 35.260982 \r\nL 376.088068 35.260982 \r\nz\r\n\" style=\"fill:#87ceeb;opacity:0.8;stroke:#ffffff;stroke-linejoin:miter;\"/>\r\n   </g>\r\n   <g id=\"patch_18\">\r\n    <path clip-path=\"url(#p440620e335)\" d=\"M 447.10625 294.118125 \r\nL 518.124432 294.118125 \r\nL 518.124432 125.860982 \r\nL 447.10625 125.860982 \r\nz\r\n\" style=\"fill:#87ceeb;opacity:0.8;stroke:#ffffff;stroke-linejoin:miter;\"/>\r\n   </g>\r\n   <g id=\"patch_19\">\r\n    <path clip-path=\"url(#p440620e335)\" d=\"M 518.124432 294.118125 \r\nL 589.142614 294.118125 \r\nL 589.142614 145.275268 \r\nL 518.124432 145.275268 \r\nz\r\n\" style=\"fill:#87ceeb;opacity:0.8;stroke:#ffffff;stroke-linejoin:miter;\"/>\r\n   </g>\r\n   <g id=\"patch_20\">\r\n    <path clip-path=\"url(#p440620e335)\" d=\"M 589.142614 294.118125 \r\nL 660.160795 294.118125 \r\nL 660.160795 235.875268 \r\nL 589.142614 235.875268 \r\nz\r\n\" style=\"fill:#87ceeb;opacity:0.8;stroke:#ffffff;stroke-linejoin:miter;\"/>\r\n   </g>\r\n   <g id=\"patch_21\">\r\n    <path clip-path=\"url(#p440620e335)\" d=\"M 660.160795 294.118125 \r\nL 731.178977 294.118125 \r\nL 731.178977 274.703839 \r\nL 660.160795 274.703839 \r\nz\r\n\" style=\"fill:#87ceeb;opacity:0.8;stroke:#ffffff;stroke-linejoin:miter;\"/>\r\n   </g>\r\n   <g id=\"patch_22\">\r\n    <path clip-path=\"url(#p440620e335)\" d=\"M 731.178977 294.118125 \r\nL 802.197159 294.118125 \r\nL 802.197159 268.232411 \r\nL 731.178977 268.232411 \r\nz\r\n\" style=\"fill:#87ceeb;opacity:0.8;stroke:#ffffff;stroke-linejoin:miter;\"/>\r\n   </g>\r\n   <g id=\"matplotlib.axis_1\">\r\n    <g id=\"xtick_1\">\r\n     <g id=\"line2d_1\">\r\n      <defs>\r\n       <path d=\"M 0 0 \r\nL 0 3.5 \r\n\" id=\"m6e23c47875\" style=\"stroke:#000000;stroke-width:0.8;\"/>\r\n      </defs>\r\n      <g>\r\n       <use style=\"stroke:#000000;stroke-width:0.8;\" x=\"92.015341\" xlink:href=\"#m6e23c47875\" y=\"294.118125\"/>\r\n      </g>\r\n     </g>\r\n     <g id=\"text_1\">\r\n      <!-- 40 -->\r\n      <defs>\r\n       <path d=\"M 37.796875 64.3125 \r\nL 12.890625 25.390625 \r\nL 37.796875 25.390625 \r\nz\r\nM 35.203125 72.90625 \r\nL 47.609375 72.90625 \r\nL 47.609375 25.390625 \r\nL 58.015625 25.390625 \r\nL 58.015625 17.1875 \r\nL 47.609375 17.1875 \r\nL 47.609375 0 \r\nL 37.796875 0 \r\nL 37.796875 17.1875 \r\nL 4.890625 17.1875 \r\nL 4.890625 26.703125 \r\nz\r\n\" id=\"DejaVuSans-52\"/>\r\n       <path d=\"M 31.78125 66.40625 \r\nQ 24.171875 66.40625 20.328125 58.90625 \r\nQ 16.5 51.421875 16.5 36.375 \r\nQ 16.5 21.390625 20.328125 13.890625 \r\nQ 24.171875 6.390625 31.78125 6.390625 \r\nQ 39.453125 6.390625 43.28125 13.890625 \r\nQ 47.125 21.390625 47.125 36.375 \r\nQ 47.125 51.421875 43.28125 58.90625 \r\nQ 39.453125 66.40625 31.78125 66.40625 \r\nz\r\nM 31.78125 74.21875 \r\nQ 44.046875 74.21875 50.515625 64.515625 \r\nQ 56.984375 54.828125 56.984375 36.375 \r\nQ 56.984375 17.96875 50.515625 8.265625 \r\nQ 44.046875 -1.421875 31.78125 -1.421875 \r\nQ 19.53125 -1.421875 13.0625 8.265625 \r\nQ 6.59375 17.96875 6.59375 36.375 \r\nQ 6.59375 54.828125 13.0625 64.515625 \r\nQ 19.53125 74.21875 31.78125 74.21875 \r\nz\r\n\" id=\"DejaVuSans-48\"/>\r\n      </defs>\r\n      <g transform=\"translate(85.652841 308.716563)scale(0.1 -0.1)\">\r\n       <use xlink:href=\"#DejaVuSans-52\"/>\r\n       <use x=\"63.623047\" xlink:href=\"#DejaVuSans-48\"/>\r\n      </g>\r\n     </g>\r\n    </g>\r\n    <g id=\"xtick_2\">\r\n     <g id=\"line2d_2\">\r\n      <g>\r\n       <use style=\"stroke:#000000;stroke-width:0.8;\" x=\"234.051705\" xlink:href=\"#m6e23c47875\" y=\"294.118125\"/>\r\n      </g>\r\n     </g>\r\n     <g id=\"text_2\">\r\n      <!-- 50 -->\r\n      <defs>\r\n       <path d=\"M 10.796875 72.90625 \r\nL 49.515625 72.90625 \r\nL 49.515625 64.59375 \r\nL 19.828125 64.59375 \r\nL 19.828125 46.734375 \r\nQ 21.96875 47.46875 24.109375 47.828125 \r\nQ 26.265625 48.1875 28.421875 48.1875 \r\nQ 40.625 48.1875 47.75 41.5 \r\nQ 54.890625 34.8125 54.890625 23.390625 \r\nQ 54.890625 11.625 47.5625 5.09375 \r\nQ 40.234375 -1.421875 26.90625 -1.421875 \r\nQ 22.3125 -1.421875 17.546875 -0.640625 \r\nQ 12.796875 0.140625 7.71875 1.703125 \r\nL 7.71875 11.625 \r\nQ 12.109375 9.234375 16.796875 8.0625 \r\nQ 21.484375 6.890625 26.703125 6.890625 \r\nQ 35.15625 6.890625 40.078125 11.328125 \r\nQ 45.015625 15.765625 45.015625 23.390625 \r\nQ 45.015625 31 40.078125 35.4375 \r\nQ 35.15625 39.890625 26.703125 39.890625 \r\nQ 22.75 39.890625 18.8125 39.015625 \r\nQ 14.890625 38.140625 10.796875 36.28125 \r\nz\r\n\" id=\"DejaVuSans-53\"/>\r\n      </defs>\r\n      <g transform=\"translate(227.689205 308.716563)scale(0.1 -0.1)\">\r\n       <use xlink:href=\"#DejaVuSans-53\"/>\r\n       <use x=\"63.623047\" xlink:href=\"#DejaVuSans-48\"/>\r\n      </g>\r\n     </g>\r\n    </g>\r\n    <g id=\"xtick_3\">\r\n     <g id=\"line2d_3\">\r\n      <g>\r\n       <use style=\"stroke:#000000;stroke-width:0.8;\" x=\"376.088068\" xlink:href=\"#m6e23c47875\" y=\"294.118125\"/>\r\n      </g>\r\n     </g>\r\n     <g id=\"text_3\">\r\n      <!-- 60 -->\r\n      <defs>\r\n       <path d=\"M 33.015625 40.375 \r\nQ 26.375 40.375 22.484375 35.828125 \r\nQ 18.609375 31.296875 18.609375 23.390625 \r\nQ 18.609375 15.53125 22.484375 10.953125 \r\nQ 26.375 6.390625 33.015625 6.390625 \r\nQ 39.65625 6.390625 43.53125 10.953125 \r\nQ 47.40625 15.53125 47.40625 23.390625 \r\nQ 47.40625 31.296875 43.53125 35.828125 \r\nQ 39.65625 40.375 33.015625 40.375 \r\nz\r\nM 52.59375 71.296875 \r\nL 52.59375 62.3125 \r\nQ 48.875 64.0625 45.09375 64.984375 \r\nQ 41.3125 65.921875 37.59375 65.921875 \r\nQ 27.828125 65.921875 22.671875 59.328125 \r\nQ 17.53125 52.734375 16.796875 39.40625 \r\nQ 19.671875 43.65625 24.015625 45.921875 \r\nQ 28.375 48.1875 33.59375 48.1875 \r\nQ 44.578125 48.1875 50.953125 41.515625 \r\nQ 57.328125 34.859375 57.328125 23.390625 \r\nQ 57.328125 12.15625 50.6875 5.359375 \r\nQ 44.046875 -1.421875 33.015625 -1.421875 \r\nQ 20.359375 -1.421875 13.671875 8.265625 \r\nQ 6.984375 17.96875 6.984375 36.375 \r\nQ 6.984375 53.65625 15.1875 63.9375 \r\nQ 23.390625 74.21875 37.203125 74.21875 \r\nQ 40.921875 74.21875 44.703125 73.484375 \r\nQ 48.484375 72.75 52.59375 71.296875 \r\nz\r\n\" id=\"DejaVuSans-54\"/>\r\n      </defs>\r\n      <g transform=\"translate(369.725568 308.716563)scale(0.1 -0.1)\">\r\n       <use xlink:href=\"#DejaVuSans-54\"/>\r\n       <use x=\"63.623047\" xlink:href=\"#DejaVuSans-48\"/>\r\n      </g>\r\n     </g>\r\n    </g>\r\n    <g id=\"xtick_4\">\r\n     <g id=\"line2d_4\">\r\n      <g>\r\n       <use style=\"stroke:#000000;stroke-width:0.8;\" x=\"518.124432\" xlink:href=\"#m6e23c47875\" y=\"294.118125\"/>\r\n      </g>\r\n     </g>\r\n     <g id=\"text_4\">\r\n      <!-- 70 -->\r\n      <defs>\r\n       <path d=\"M 8.203125 72.90625 \r\nL 55.078125 72.90625 \r\nL 55.078125 68.703125 \r\nL 28.609375 0 \r\nL 18.3125 0 \r\nL 43.21875 64.59375 \r\nL 8.203125 64.59375 \r\nz\r\n\" id=\"DejaVuSans-55\"/>\r\n      </defs>\r\n      <g transform=\"translate(511.761932 308.716563)scale(0.1 -0.1)\">\r\n       <use xlink:href=\"#DejaVuSans-55\"/>\r\n       <use x=\"63.623047\" xlink:href=\"#DejaVuSans-48\"/>\r\n      </g>\r\n     </g>\r\n    </g>\r\n    <g id=\"xtick_5\">\r\n     <g id=\"line2d_5\">\r\n      <g>\r\n       <use style=\"stroke:#000000;stroke-width:0.8;\" x=\"660.160795\" xlink:href=\"#m6e23c47875\" y=\"294.118125\"/>\r\n      </g>\r\n     </g>\r\n     <g id=\"text_5\">\r\n      <!-- 80 -->\r\n      <defs>\r\n       <path d=\"M 31.78125 34.625 \r\nQ 24.75 34.625 20.71875 30.859375 \r\nQ 16.703125 27.09375 16.703125 20.515625 \r\nQ 16.703125 13.921875 20.71875 10.15625 \r\nQ 24.75 6.390625 31.78125 6.390625 \r\nQ 38.8125 6.390625 42.859375 10.171875 \r\nQ 46.921875 13.96875 46.921875 20.515625 \r\nQ 46.921875 27.09375 42.890625 30.859375 \r\nQ 38.875 34.625 31.78125 34.625 \r\nz\r\nM 21.921875 38.8125 \r\nQ 15.578125 40.375 12.03125 44.71875 \r\nQ 8.5 49.078125 8.5 55.328125 \r\nQ 8.5 64.0625 14.71875 69.140625 \r\nQ 20.953125 74.21875 31.78125 74.21875 \r\nQ 42.671875 74.21875 48.875 69.140625 \r\nQ 55.078125 64.0625 55.078125 55.328125 \r\nQ 55.078125 49.078125 51.53125 44.71875 \r\nQ 48 40.375 41.703125 38.8125 \r\nQ 48.828125 37.15625 52.796875 32.3125 \r\nQ 56.78125 27.484375 56.78125 20.515625 \r\nQ 56.78125 9.90625 50.3125 4.234375 \r\nQ 43.84375 -1.421875 31.78125 -1.421875 \r\nQ 19.734375 -1.421875 13.25 4.234375 \r\nQ 6.78125 9.90625 6.78125 20.515625 \r\nQ 6.78125 27.484375 10.78125 32.3125 \r\nQ 14.796875 37.15625 21.921875 38.8125 \r\nz\r\nM 18.3125 54.390625 \r\nQ 18.3125 48.734375 21.84375 45.5625 \r\nQ 25.390625 42.390625 31.78125 42.390625 \r\nQ 38.140625 42.390625 41.71875 45.5625 \r\nQ 45.3125 48.734375 45.3125 54.390625 \r\nQ 45.3125 60.0625 41.71875 63.234375 \r\nQ 38.140625 66.40625 31.78125 66.40625 \r\nQ 25.390625 66.40625 21.84375 63.234375 \r\nQ 18.3125 60.0625 18.3125 54.390625 \r\nz\r\n\" id=\"DejaVuSans-56\"/>\r\n      </defs>\r\n      <g transform=\"translate(653.798295 308.716563)scale(0.1 -0.1)\">\r\n       <use xlink:href=\"#DejaVuSans-56\"/>\r\n       <use x=\"63.623047\" xlink:href=\"#DejaVuSans-48\"/>\r\n      </g>\r\n     </g>\r\n    </g>\r\n    <g id=\"xtick_6\">\r\n     <g id=\"line2d_6\">\r\n      <g>\r\n       <use style=\"stroke:#000000;stroke-width:0.8;\" x=\"802.197159\" xlink:href=\"#m6e23c47875\" y=\"294.118125\"/>\r\n      </g>\r\n     </g>\r\n     <g id=\"text_6\">\r\n      <!-- 90 -->\r\n      <defs>\r\n       <path d=\"M 10.984375 1.515625 \r\nL 10.984375 10.5 \r\nQ 14.703125 8.734375 18.5 7.8125 \r\nQ 22.3125 6.890625 25.984375 6.890625 \r\nQ 35.75 6.890625 40.890625 13.453125 \r\nQ 46.046875 20.015625 46.78125 33.40625 \r\nQ 43.953125 29.203125 39.59375 26.953125 \r\nQ 35.25 24.703125 29.984375 24.703125 \r\nQ 19.046875 24.703125 12.671875 31.3125 \r\nQ 6.296875 37.9375 6.296875 49.421875 \r\nQ 6.296875 60.640625 12.9375 67.421875 \r\nQ 19.578125 74.21875 30.609375 74.21875 \r\nQ 43.265625 74.21875 49.921875 64.515625 \r\nQ 56.59375 54.828125 56.59375 36.375 \r\nQ 56.59375 19.140625 48.40625 8.859375 \r\nQ 40.234375 -1.421875 26.421875 -1.421875 \r\nQ 22.703125 -1.421875 18.890625 -0.6875 \r\nQ 15.09375 0.046875 10.984375 1.515625 \r\nz\r\nM 30.609375 32.421875 \r\nQ 37.25 32.421875 41.125 36.953125 \r\nQ 45.015625 41.5 45.015625 49.421875 \r\nQ 45.015625 57.28125 41.125 61.84375 \r\nQ 37.25 66.40625 30.609375 66.40625 \r\nQ 23.96875 66.40625 20.09375 61.84375 \r\nQ 16.21875 57.28125 16.21875 49.421875 \r\nQ 16.21875 41.5 20.09375 36.953125 \r\nQ 23.96875 32.421875 30.609375 32.421875 \r\nz\r\n\" id=\"DejaVuSans-57\"/>\r\n      </defs>\r\n      <g transform=\"translate(795.834659 308.716563)scale(0.1 -0.1)\">\r\n       <use xlink:href=\"#DejaVuSans-57\"/>\r\n       <use x=\"63.623047\" xlink:href=\"#DejaVuSans-48\"/>\r\n      </g>\r\n     </g>\r\n    </g>\r\n    <g id=\"text_7\">\r\n     <!-- idade[anos] -->\r\n     <defs>\r\n      <path d=\"M 9.421875 54.6875 \r\nL 18.40625 54.6875 \r\nL 18.40625 0 \r\nL 9.421875 0 \r\nz\r\nM 9.421875 75.984375 \r\nL 18.40625 75.984375 \r\nL 18.40625 64.59375 \r\nL 9.421875 64.59375 \r\nz\r\n\" id=\"DejaVuSans-105\"/>\r\n      <path d=\"M 45.40625 46.390625 \r\nL 45.40625 75.984375 \r\nL 54.390625 75.984375 \r\nL 54.390625 0 \r\nL 45.40625 0 \r\nL 45.40625 8.203125 \r\nQ 42.578125 3.328125 38.25 0.953125 \r\nQ 33.9375 -1.421875 27.875 -1.421875 \r\nQ 17.96875 -1.421875 11.734375 6.484375 \r\nQ 5.515625 14.40625 5.515625 27.296875 \r\nQ 5.515625 40.1875 11.734375 48.09375 \r\nQ 17.96875 56 27.875 56 \r\nQ 33.9375 56 38.25 53.625 \r\nQ 42.578125 51.265625 45.40625 46.390625 \r\nz\r\nM 14.796875 27.296875 \r\nQ 14.796875 17.390625 18.875 11.75 \r\nQ 22.953125 6.109375 30.078125 6.109375 \r\nQ 37.203125 6.109375 41.296875 11.75 \r\nQ 45.40625 17.390625 45.40625 27.296875 \r\nQ 45.40625 37.203125 41.296875 42.84375 \r\nQ 37.203125 48.484375 30.078125 48.484375 \r\nQ 22.953125 48.484375 18.875 42.84375 \r\nQ 14.796875 37.203125 14.796875 27.296875 \r\nz\r\n\" id=\"DejaVuSans-100\"/>\r\n      <path d=\"M 34.28125 27.484375 \r\nQ 23.390625 27.484375 19.1875 25 \r\nQ 14.984375 22.515625 14.984375 16.5 \r\nQ 14.984375 11.71875 18.140625 8.90625 \r\nQ 21.296875 6.109375 26.703125 6.109375 \r\nQ 34.1875 6.109375 38.703125 11.40625 \r\nQ 43.21875 16.703125 43.21875 25.484375 \r\nL 43.21875 27.484375 \r\nz\r\nM 52.203125 31.203125 \r\nL 52.203125 0 \r\nL 43.21875 0 \r\nL 43.21875 8.296875 \r\nQ 40.140625 3.328125 35.546875 0.953125 \r\nQ 30.953125 -1.421875 24.3125 -1.421875 \r\nQ 15.921875 -1.421875 10.953125 3.296875 \r\nQ 6 8.015625 6 15.921875 \r\nQ 6 25.140625 12.171875 29.828125 \r\nQ 18.359375 34.515625 30.609375 34.515625 \r\nL 43.21875 34.515625 \r\nL 43.21875 35.40625 \r\nQ 43.21875 41.609375 39.140625 45 \r\nQ 35.0625 48.390625 27.6875 48.390625 \r\nQ 23 48.390625 18.546875 47.265625 \r\nQ 14.109375 46.140625 10.015625 43.890625 \r\nL 10.015625 52.203125 \r\nQ 14.9375 54.109375 19.578125 55.046875 \r\nQ 24.21875 56 28.609375 56 \r\nQ 40.484375 56 46.34375 49.84375 \r\nQ 52.203125 43.703125 52.203125 31.203125 \r\nz\r\n\" id=\"DejaVuSans-97\"/>\r\n      <path d=\"M 56.203125 29.59375 \r\nL 56.203125 25.203125 \r\nL 14.890625 25.203125 \r\nQ 15.484375 15.921875 20.484375 11.0625 \r\nQ 25.484375 6.203125 34.421875 6.203125 \r\nQ 39.59375 6.203125 44.453125 7.46875 \r\nQ 49.3125 8.734375 54.109375 11.28125 \r\nL 54.109375 2.78125 \r\nQ 49.265625 0.734375 44.1875 -0.34375 \r\nQ 39.109375 -1.421875 33.890625 -1.421875 \r\nQ 20.796875 -1.421875 13.15625 6.1875 \r\nQ 5.515625 13.8125 5.515625 26.8125 \r\nQ 5.515625 40.234375 12.765625 48.109375 \r\nQ 20.015625 56 32.328125 56 \r\nQ 43.359375 56 49.78125 48.890625 \r\nQ 56.203125 41.796875 56.203125 29.59375 \r\nz\r\nM 47.21875 32.234375 \r\nQ 47.125 39.59375 43.09375 43.984375 \r\nQ 39.0625 48.390625 32.421875 48.390625 \r\nQ 24.90625 48.390625 20.390625 44.140625 \r\nQ 15.875 39.890625 15.1875 32.171875 \r\nz\r\n\" id=\"DejaVuSans-101\"/>\r\n      <path d=\"M 8.59375 75.984375 \r\nL 29.296875 75.984375 \r\nL 29.296875 69 \r\nL 17.578125 69 \r\nL 17.578125 -6.203125 \r\nL 29.296875 -6.203125 \r\nL 29.296875 -13.1875 \r\nL 8.59375 -13.1875 \r\nz\r\n\" id=\"DejaVuSans-91\"/>\r\n      <path d=\"M 54.890625 33.015625 \r\nL 54.890625 0 \r\nL 45.90625 0 \r\nL 45.90625 32.71875 \r\nQ 45.90625 40.484375 42.875 44.328125 \r\nQ 39.84375 48.1875 33.796875 48.1875 \r\nQ 26.515625 48.1875 22.3125 43.546875 \r\nQ 18.109375 38.921875 18.109375 30.90625 \r\nL 18.109375 0 \r\nL 9.078125 0 \r\nL 9.078125 54.6875 \r\nL 18.109375 54.6875 \r\nL 18.109375 46.1875 \r\nQ 21.34375 51.125 25.703125 53.5625 \r\nQ 30.078125 56 35.796875 56 \r\nQ 45.21875 56 50.046875 50.171875 \r\nQ 54.890625 44.34375 54.890625 33.015625 \r\nz\r\n\" id=\"DejaVuSans-110\"/>\r\n      <path d=\"M 30.609375 48.390625 \r\nQ 23.390625 48.390625 19.1875 42.75 \r\nQ 14.984375 37.109375 14.984375 27.296875 \r\nQ 14.984375 17.484375 19.15625 11.84375 \r\nQ 23.34375 6.203125 30.609375 6.203125 \r\nQ 37.796875 6.203125 41.984375 11.859375 \r\nQ 46.1875 17.53125 46.1875 27.296875 \r\nQ 46.1875 37.015625 41.984375 42.703125 \r\nQ 37.796875 48.390625 30.609375 48.390625 \r\nz\r\nM 30.609375 56 \r\nQ 42.328125 56 49.015625 48.375 \r\nQ 55.71875 40.765625 55.71875 27.296875 \r\nQ 55.71875 13.875 49.015625 6.21875 \r\nQ 42.328125 -1.421875 30.609375 -1.421875 \r\nQ 18.84375 -1.421875 12.171875 6.21875 \r\nQ 5.515625 13.875 5.515625 27.296875 \r\nQ 5.515625 40.765625 12.171875 48.375 \r\nQ 18.84375 56 30.609375 56 \r\nz\r\n\" id=\"DejaVuSans-111\"/>\r\n      <path d=\"M 44.28125 53.078125 \r\nL 44.28125 44.578125 \r\nQ 40.484375 46.53125 36.375 47.5 \r\nQ 32.28125 48.484375 27.875 48.484375 \r\nQ 21.1875 48.484375 17.84375 46.4375 \r\nQ 14.5 44.390625 14.5 40.28125 \r\nQ 14.5 37.15625 16.890625 35.375 \r\nQ 19.28125 33.59375 26.515625 31.984375 \r\nL 29.59375 31.296875 \r\nQ 39.15625 29.25 43.1875 25.515625 \r\nQ 47.21875 21.78125 47.21875 15.09375 \r\nQ 47.21875 7.46875 41.1875 3.015625 \r\nQ 35.15625 -1.421875 24.609375 -1.421875 \r\nQ 20.21875 -1.421875 15.453125 -0.5625 \r\nQ 10.6875 0.296875 5.421875 2 \r\nL 5.421875 11.28125 \r\nQ 10.40625 8.6875 15.234375 7.390625 \r\nQ 20.0625 6.109375 24.8125 6.109375 \r\nQ 31.15625 6.109375 34.5625 8.28125 \r\nQ 37.984375 10.453125 37.984375 14.40625 \r\nQ 37.984375 18.0625 35.515625 20.015625 \r\nQ 33.0625 21.96875 24.703125 23.78125 \r\nL 21.578125 24.515625 \r\nQ 13.234375 26.265625 9.515625 29.90625 \r\nQ 5.8125 33.546875 5.8125 39.890625 \r\nQ 5.8125 47.609375 11.28125 51.796875 \r\nQ 16.75 56 26.8125 56 \r\nQ 31.78125 56 36.171875 55.265625 \r\nQ 40.578125 54.546875 44.28125 53.078125 \r\nz\r\n\" id=\"DejaVuSans-115\"/>\r\n      <path d=\"M 30.421875 75.984375 \r\nL 30.421875 -13.1875 \r\nL 9.71875 -13.1875 \r\nL 9.71875 -6.203125 \r\nL 21.390625 -6.203125 \r\nL 21.390625 69 \r\nL 9.71875 69 \r\nL 9.71875 75.984375 \r\nz\r\n\" id=\"DejaVuSans-93\"/>\r\n     </defs>\r\n     <g transform=\"translate(417.429688 322.394687)scale(0.1 -0.1)\">\r\n      <use xlink:href=\"#DejaVuSans-105\"/>\r\n      <use x=\"27.783203\" xlink:href=\"#DejaVuSans-100\"/>\r\n      <use x=\"91.259766\" xlink:href=\"#DejaVuSans-97\"/>\r\n      <use x=\"152.539062\" xlink:href=\"#DejaVuSans-100\"/>\r\n      <use x=\"216.015625\" xlink:href=\"#DejaVuSans-101\"/>\r\n      <use x=\"277.539062\" xlink:href=\"#DejaVuSans-91\"/>\r\n      <use x=\"316.552734\" xlink:href=\"#DejaVuSans-97\"/>\r\n      <use x=\"377.832031\" xlink:href=\"#DejaVuSans-110\"/>\r\n      <use x=\"441.210938\" xlink:href=\"#DejaVuSans-111\"/>\r\n      <use x=\"502.392578\" xlink:href=\"#DejaVuSans-115\"/>\r\n      <use x=\"554.492188\" xlink:href=\"#DejaVuSans-93\"/>\r\n     </g>\r\n    </g>\r\n   </g>\r\n   <g id=\"matplotlib.axis_2\">\r\n    <g id=\"ytick_1\">\r\n     <g id=\"line2d_7\">\r\n      <defs>\r\n       <path d=\"M 0 0 \r\nL -3.5 0 \r\n\" id=\"mf55210e1b4\" style=\"stroke:#000000;stroke-width:0.8;\"/>\r\n      </defs>\r\n      <g>\r\n       <use style=\"stroke:#000000;stroke-width:0.8;\" x=\"56.50625\" xlink:href=\"#mf55210e1b4\" y=\"294.118125\"/>\r\n      </g>\r\n     </g>\r\n     <g id=\"text_8\">\r\n      <!-- 0.000 -->\r\n      <defs>\r\n       <path d=\"M 10.6875 12.40625 \r\nL 21 12.40625 \r\nL 21 0 \r\nL 10.6875 0 \r\nz\r\n\" id=\"DejaVuSans-46\"/>\r\n      </defs>\r\n      <g transform=\"translate(20.878125 297.917344)scale(0.1 -0.1)\">\r\n       <use xlink:href=\"#DejaVuSans-48\"/>\r\n       <use x=\"63.623047\" xlink:href=\"#DejaVuSans-46\"/>\r\n       <use x=\"95.410156\" xlink:href=\"#DejaVuSans-48\"/>\r\n       <use x=\"159.033203\" xlink:href=\"#DejaVuSans-48\"/>\r\n       <use x=\"222.65625\" xlink:href=\"#DejaVuSans-48\"/>\r\n      </g>\r\n     </g>\r\n    </g>\r\n    <g id=\"ytick_2\">\r\n     <g id=\"line2d_8\">\r\n      <g>\r\n       <use style=\"stroke:#000000;stroke-width:0.8;\" x=\"56.50625\" xlink:href=\"#mf55210e1b4\" y=\"261.275625\"/>\r\n      </g>\r\n     </g>\r\n     <g id=\"text_9\">\r\n      <!-- 0.005 -->\r\n      <g transform=\"translate(20.878125 265.074844)scale(0.1 -0.1)\">\r\n       <use xlink:href=\"#DejaVuSans-48\"/>\r\n       <use x=\"63.623047\" xlink:href=\"#DejaVuSans-46\"/>\r\n       <use x=\"95.410156\" xlink:href=\"#DejaVuSans-48\"/>\r\n       <use x=\"159.033203\" xlink:href=\"#DejaVuSans-48\"/>\r\n       <use x=\"222.65625\" xlink:href=\"#DejaVuSans-53\"/>\r\n      </g>\r\n     </g>\r\n    </g>\r\n    <g id=\"ytick_3\">\r\n     <g id=\"line2d_9\">\r\n      <g>\r\n       <use style=\"stroke:#000000;stroke-width:0.8;\" x=\"56.50625\" xlink:href=\"#mf55210e1b4\" y=\"228.433125\"/>\r\n      </g>\r\n     </g>\r\n     <g id=\"text_10\">\r\n      <!-- 0.010 -->\r\n      <defs>\r\n       <path d=\"M 12.40625 8.296875 \r\nL 28.515625 8.296875 \r\nL 28.515625 63.921875 \r\nL 10.984375 60.40625 \r\nL 10.984375 69.390625 \r\nL 28.421875 72.90625 \r\nL 38.28125 72.90625 \r\nL 38.28125 8.296875 \r\nL 54.390625 8.296875 \r\nL 54.390625 0 \r\nL 12.40625 0 \r\nz\r\n\" id=\"DejaVuSans-49\"/>\r\n      </defs>\r\n      <g transform=\"translate(20.878125 232.232344)scale(0.1 -0.1)\">\r\n       <use xlink:href=\"#DejaVuSans-48\"/>\r\n       <use x=\"63.623047\" xlink:href=\"#DejaVuSans-46\"/>\r\n       <use x=\"95.410156\" xlink:href=\"#DejaVuSans-48\"/>\r\n       <use x=\"159.033203\" xlink:href=\"#DejaVuSans-49\"/>\r\n       <use x=\"222.65625\" xlink:href=\"#DejaVuSans-48\"/>\r\n      </g>\r\n     </g>\r\n    </g>\r\n    <g id=\"ytick_4\">\r\n     <g id=\"line2d_10\">\r\n      <g>\r\n       <use style=\"stroke:#000000;stroke-width:0.8;\" x=\"56.50625\" xlink:href=\"#mf55210e1b4\" y=\"195.590625\"/>\r\n      </g>\r\n     </g>\r\n     <g id=\"text_11\">\r\n      <!-- 0.015 -->\r\n      <g transform=\"translate(20.878125 199.389844)scale(0.1 -0.1)\">\r\n       <use xlink:href=\"#DejaVuSans-48\"/>\r\n       <use x=\"63.623047\" xlink:href=\"#DejaVuSans-46\"/>\r\n       <use x=\"95.410156\" xlink:href=\"#DejaVuSans-48\"/>\r\n       <use x=\"159.033203\" xlink:href=\"#DejaVuSans-49\"/>\r\n       <use x=\"222.65625\" xlink:href=\"#DejaVuSans-53\"/>\r\n      </g>\r\n     </g>\r\n    </g>\r\n    <g id=\"ytick_5\">\r\n     <g id=\"line2d_11\">\r\n      <g>\r\n       <use style=\"stroke:#000000;stroke-width:0.8;\" x=\"56.50625\" xlink:href=\"#mf55210e1b4\" y=\"162.748125\"/>\r\n      </g>\r\n     </g>\r\n     <g id=\"text_12\">\r\n      <!-- 0.020 -->\r\n      <defs>\r\n       <path d=\"M 19.1875 8.296875 \r\nL 53.609375 8.296875 \r\nL 53.609375 0 \r\nL 7.328125 0 \r\nL 7.328125 8.296875 \r\nQ 12.9375 14.109375 22.625 23.890625 \r\nQ 32.328125 33.6875 34.8125 36.53125 \r\nQ 39.546875 41.84375 41.421875 45.53125 \r\nQ 43.3125 49.21875 43.3125 52.78125 \r\nQ 43.3125 58.59375 39.234375 62.25 \r\nQ 35.15625 65.921875 28.609375 65.921875 \r\nQ 23.96875 65.921875 18.8125 64.3125 \r\nQ 13.671875 62.703125 7.8125 59.421875 \r\nL 7.8125 69.390625 \r\nQ 13.765625 71.78125 18.9375 73 \r\nQ 24.125 74.21875 28.421875 74.21875 \r\nQ 39.75 74.21875 46.484375 68.546875 \r\nQ 53.21875 62.890625 53.21875 53.421875 \r\nQ 53.21875 48.921875 51.53125 44.890625 \r\nQ 49.859375 40.875 45.40625 35.40625 \r\nQ 44.1875 33.984375 37.640625 27.21875 \r\nQ 31.109375 20.453125 19.1875 8.296875 \r\nz\r\n\" id=\"DejaVuSans-50\"/>\r\n      </defs>\r\n      <g transform=\"translate(20.878125 166.547344)scale(0.1 -0.1)\">\r\n       <use xlink:href=\"#DejaVuSans-48\"/>\r\n       <use x=\"63.623047\" xlink:href=\"#DejaVuSans-46\"/>\r\n       <use x=\"95.410156\" xlink:href=\"#DejaVuSans-48\"/>\r\n       <use x=\"159.033203\" xlink:href=\"#DejaVuSans-50\"/>\r\n       <use x=\"222.65625\" xlink:href=\"#DejaVuSans-48\"/>\r\n      </g>\r\n     </g>\r\n    </g>\r\n    <g id=\"ytick_6\">\r\n     <g id=\"line2d_12\">\r\n      <g>\r\n       <use style=\"stroke:#000000;stroke-width:0.8;\" x=\"56.50625\" xlink:href=\"#mf55210e1b4\" y=\"129.905625\"/>\r\n      </g>\r\n     </g>\r\n     <g id=\"text_13\">\r\n      <!-- 0.025 -->\r\n      <g transform=\"translate(20.878125 133.704844)scale(0.1 -0.1)\">\r\n       <use xlink:href=\"#DejaVuSans-48\"/>\r\n       <use x=\"63.623047\" xlink:href=\"#DejaVuSans-46\"/>\r\n       <use x=\"95.410156\" xlink:href=\"#DejaVuSans-48\"/>\r\n       <use x=\"159.033203\" xlink:href=\"#DejaVuSans-50\"/>\r\n       <use x=\"222.65625\" xlink:href=\"#DejaVuSans-53\"/>\r\n      </g>\r\n     </g>\r\n    </g>\r\n    <g id=\"ytick_7\">\r\n     <g id=\"line2d_13\">\r\n      <g>\r\n       <use style=\"stroke:#000000;stroke-width:0.8;\" x=\"56.50625\" xlink:href=\"#mf55210e1b4\" y=\"97.063125\"/>\r\n      </g>\r\n     </g>\r\n     <g id=\"text_14\">\r\n      <!-- 0.030 -->\r\n      <defs>\r\n       <path d=\"M 40.578125 39.3125 \r\nQ 47.65625 37.796875 51.625 33 \r\nQ 55.609375 28.21875 55.609375 21.1875 \r\nQ 55.609375 10.40625 48.1875 4.484375 \r\nQ 40.765625 -1.421875 27.09375 -1.421875 \r\nQ 22.515625 -1.421875 17.65625 -0.515625 \r\nQ 12.796875 0.390625 7.625 2.203125 \r\nL 7.625 11.71875 \r\nQ 11.71875 9.328125 16.59375 8.109375 \r\nQ 21.484375 6.890625 26.8125 6.890625 \r\nQ 36.078125 6.890625 40.9375 10.546875 \r\nQ 45.796875 14.203125 45.796875 21.1875 \r\nQ 45.796875 27.640625 41.28125 31.265625 \r\nQ 36.765625 34.90625 28.71875 34.90625 \r\nL 20.21875 34.90625 \r\nL 20.21875 43.015625 \r\nL 29.109375 43.015625 \r\nQ 36.375 43.015625 40.234375 45.921875 \r\nQ 44.09375 48.828125 44.09375 54.296875 \r\nQ 44.09375 59.90625 40.109375 62.90625 \r\nQ 36.140625 65.921875 28.71875 65.921875 \r\nQ 24.65625 65.921875 20.015625 65.03125 \r\nQ 15.375 64.15625 9.8125 62.3125 \r\nL 9.8125 71.09375 \r\nQ 15.4375 72.65625 20.34375 73.4375 \r\nQ 25.25 74.21875 29.59375 74.21875 \r\nQ 40.828125 74.21875 47.359375 69.109375 \r\nQ 53.90625 64.015625 53.90625 55.328125 \r\nQ 53.90625 49.265625 50.4375 45.09375 \r\nQ 46.96875 40.921875 40.578125 39.3125 \r\nz\r\n\" id=\"DejaVuSans-51\"/>\r\n      </defs>\r\n      <g transform=\"translate(20.878125 100.862344)scale(0.1 -0.1)\">\r\n       <use xlink:href=\"#DejaVuSans-48\"/>\r\n       <use x=\"63.623047\" xlink:href=\"#DejaVuSans-46\"/>\r\n       <use x=\"95.410156\" xlink:href=\"#DejaVuSans-48\"/>\r\n       <use x=\"159.033203\" xlink:href=\"#DejaVuSans-51\"/>\r\n       <use x=\"222.65625\" xlink:href=\"#DejaVuSans-48\"/>\r\n      </g>\r\n     </g>\r\n    </g>\r\n    <g id=\"ytick_8\">\r\n     <g id=\"line2d_14\">\r\n      <g>\r\n       <use style=\"stroke:#000000;stroke-width:0.8;\" x=\"56.50625\" xlink:href=\"#mf55210e1b4\" y=\"64.220625\"/>\r\n      </g>\r\n     </g>\r\n     <g id=\"text_15\">\r\n      <!-- 0.035 -->\r\n      <g transform=\"translate(20.878125 68.019844)scale(0.1 -0.1)\">\r\n       <use xlink:href=\"#DejaVuSans-48\"/>\r\n       <use x=\"63.623047\" xlink:href=\"#DejaVuSans-46\"/>\r\n       <use x=\"95.410156\" xlink:href=\"#DejaVuSans-48\"/>\r\n       <use x=\"159.033203\" xlink:href=\"#DejaVuSans-51\"/>\r\n       <use x=\"222.65625\" xlink:href=\"#DejaVuSans-53\"/>\r\n      </g>\r\n     </g>\r\n    </g>\r\n    <g id=\"ytick_9\">\r\n     <g id=\"line2d_15\">\r\n      <g>\r\n       <use style=\"stroke:#000000;stroke-width:0.8;\" x=\"56.50625\" xlink:href=\"#mf55210e1b4\" y=\"31.378125\"/>\r\n      </g>\r\n     </g>\r\n     <g id=\"text_16\">\r\n      <!-- 0.040 -->\r\n      <g transform=\"translate(20.878125 35.177344)scale(0.1 -0.1)\">\r\n       <use xlink:href=\"#DejaVuSans-48\"/>\r\n       <use x=\"63.623047\" xlink:href=\"#DejaVuSans-46\"/>\r\n       <use x=\"95.410156\" xlink:href=\"#DejaVuSans-48\"/>\r\n       <use x=\"159.033203\" xlink:href=\"#DejaVuSans-52\"/>\r\n       <use x=\"222.65625\" xlink:href=\"#DejaVuSans-48\"/>\r\n      </g>\r\n     </g>\r\n    </g>\r\n    <g id=\"text_17\">\r\n     <!-- densidade -->\r\n     <g transform=\"translate(14.798438 184.120469)rotate(-90)scale(0.1 -0.1)\">\r\n      <use xlink:href=\"#DejaVuSans-100\"/>\r\n      <use x=\"63.476562\" xlink:href=\"#DejaVuSans-101\"/>\r\n      <use x=\"125\" xlink:href=\"#DejaVuSans-110\"/>\r\n      <use x=\"188.378906\" xlink:href=\"#DejaVuSans-115\"/>\r\n      <use x=\"240.478516\" xlink:href=\"#DejaVuSans-105\"/>\r\n      <use x=\"268.261719\" xlink:href=\"#DejaVuSans-100\"/>\r\n      <use x=\"331.738281\" xlink:href=\"#DejaVuSans-97\"/>\r\n      <use x=\"393.017578\" xlink:href=\"#DejaVuSans-100\"/>\r\n      <use x=\"456.494141\" xlink:href=\"#DejaVuSans-101\"/>\r\n     </g>\r\n    </g>\r\n   </g>\r\n   <g id=\"patch_23\">\r\n    <path d=\"M 56.50625 294.118125 \r\nL 56.50625 22.318125 \r\n\" style=\"fill:none;stroke:#000000;stroke-linecap:square;stroke-linejoin:miter;stroke-width:0.8;\"/>\r\n   </g>\r\n   <g id=\"patch_24\">\r\n    <path d=\"M 837.70625 294.118125 \r\nL 837.70625 22.318125 \r\n\" style=\"fill:none;stroke:#000000;stroke-linecap:square;stroke-linejoin:miter;stroke-width:0.8;\"/>\r\n   </g>\r\n   <g id=\"patch_25\">\r\n    <path d=\"M 56.50625 294.118125 \r\nL 837.70625 294.118125 \r\n\" style=\"fill:none;stroke:#000000;stroke-linecap:square;stroke-linejoin:miter;stroke-width:0.8;\"/>\r\n   </g>\r\n   <g id=\"patch_26\">\r\n    <path d=\"M 56.50625 22.318125 \r\nL 837.70625 22.318125 \r\n\" style=\"fill:none;stroke:#000000;stroke-linecap:square;stroke-linejoin:miter;stroke-width:0.8;\"/>\r\n   </g>\r\n   <g id=\"text_18\">\r\n    <!-- Idade -->\r\n    <defs>\r\n     <path d=\"M 9.8125 72.90625 \r\nL 19.671875 72.90625 \r\nL 19.671875 0 \r\nL 9.8125 0 \r\nz\r\n\" id=\"DejaVuSans-73\"/>\r\n    </defs>\r\n    <g transform=\"translate(430.349375 16.318125)scale(0.12 -0.12)\">\r\n     <use xlink:href=\"#DejaVuSans-73\"/>\r\n     <use x=\"29.492188\" xlink:href=\"#DejaVuSans-100\"/>\r\n     <use x=\"92.96875\" xlink:href=\"#DejaVuSans-97\"/>\r\n     <use x=\"154.248047\" xlink:href=\"#DejaVuSans-100\"/>\r\n     <use x=\"217.724609\" xlink:href=\"#DejaVuSans-101\"/>\r\n    </g>\r\n   </g>\r\n   <g id=\"legend_1\">\r\n    <g id=\"patch_27\">\r\n     <path d=\"M 792.34375 59.674375 \r\nL 830.70625 59.674375 \r\nQ 832.70625 59.674375 832.70625 57.674375 \r\nL 832.70625 29.318125 \r\nQ 832.70625 27.318125 830.70625 27.318125 \r\nL 792.34375 27.318125 \r\nQ 790.34375 27.318125 790.34375 29.318125 \r\nL 790.34375 57.674375 \r\nQ 790.34375 59.674375 792.34375 59.674375 \r\nz\r\n\" style=\"fill:#ffffff;opacity:0.8;stroke:#cccccc;stroke-linejoin:miter;\"/>\r\n    </g>\r\n    <g id=\"patch_28\">\r\n     <path d=\"M 794.34375 38.916562 \r\nL 814.34375 38.916562 \r\nL 814.34375 31.916562 \r\nL 794.34375 31.916562 \r\nz\r\n\" style=\"fill:#ff0000;stroke:#ffffff;stroke-linejoin:miter;\"/>\r\n    </g>\r\n    <g id=\"text_19\">\r\n     <!-- 1 -->\r\n     <g transform=\"translate(822.34375 38.916562)scale(0.1 -0.1)\">\r\n      <use xlink:href=\"#DejaVuSans-49\"/>\r\n     </g>\r\n    </g>\r\n    <g id=\"patch_29\">\r\n     <path d=\"M 794.34375 53.594688 \r\nL 814.34375 53.594688 \r\nL 814.34375 46.594688 \r\nL 794.34375 46.594688 \r\nz\r\n\" style=\"fill:#87ceeb;opacity:0.8;stroke:#ffffff;stroke-linejoin:miter;\"/>\r\n    </g>\r\n    <g id=\"text_20\">\r\n     <!-- 0 -->\r\n     <g transform=\"translate(822.34375 53.594688)scale(0.1 -0.1)\">\r\n      <use xlink:href=\"#DejaVuSans-48\"/>\r\n     </g>\r\n    </g>\r\n   </g>\r\n  </g>\r\n </g>\r\n <defs>\r\n  <clipPath id=\"p440620e335\">\r\n   <rect height=\"271.8\" width=\"781.2\" x=\"56.50625\" y=\"22.318125\"/>\r\n  </clipPath>\r\n </defs>\r\n</svg>\r\n",
      "image/png": "[encoded data removed]"
     },
     "metadata": {
      "needs_background": "light"
     }
    }
   ],
   "source": [
    "#Histograma da idade dos sobreviventes e não sobreviventes\n",
    "faixas = np.arange(40,95,5)\n",
    "plt.figure(figsize=(14, 5))\n",
    "plt.hist(dead.age, bins=faixas, density=True, color='red', edgecolor='white', linewidth=1)\n",
    "plt.hist(not_dead.age, bins=faixas, density=True, color='skyblue', edgecolor='white', linewidth=1, alpha=0.8)\n",
    "plt.legend('10')\n",
    "plt.title('Idade')\n",
    "plt.xlabel('idade[anos]')\n",
    "plt.ylabel('densidade')\n",
    "plt.show()"
   ]
  },
  {
   "source": [
    "O histograma mostra que a idade não aparenta ser um fator determininante para a sobrevivência, tendo um pouco de influência para idades mais altas."
   ],
   "cell_type": "markdown",
   "metadata": {}
  },
  {
   "cell_type": "code",
   "execution_count": 16,
   "metadata": {},
   "outputs": [
    {
     "output_type": "display_data",
     "data": {
      "text/plain": "<Figure size 1008x360 with 1 Axes>",
      "image/svg+xml": "<?xml version=\"1.0\" encoding=\"utf-8\" standalone=\"no\"?>\r\n<!DOCTYPE svg PUBLIC \"-//W3C//DTD SVG 1.1//EN\"\r\n  \"http://www.w3.org/Graphics/SVG/1.1/DTD/svg11.dtd\">\r\n<!-- Created with matplotlib (https://matplotlib.org/) -->\r\n<svg height=\"332.049062pt\" version=\"1.1\" viewBox=\"0 0 851.26875 332.049062\" width=\"851.26875pt\" xmlns=\"http://www.w3.org/2000/svg\" xmlns:xlink=\"http://www.w3.org/1999/xlink\">\r\n <defs>\r\n  <style type=\"text/css\">\r\n*{stroke-linecap:butt;stroke-linejoin:round;}\r\n  </style>\r\n </defs>\r\n <g id=\"figure_1\">\r\n  <g id=\"patch_1\">\r\n   <path d=\"M 0 332.049062 \r\nL 851.26875 332.049062 \r\nL 851.26875 0 \r\nL 0 0 \r\nz\r\n\" style=\"fill:none;\"/>\r\n  </g>\r\n  <g id=\"axes_1\">\r\n   <g id=\"patch_2\">\r\n    <path d=\"M 62.86875 294.3225 \r\nL 844.06875 294.3225 \r\nL 844.06875 22.5225 \r\nL 62.86875 22.5225 \r\nz\r\n\" style=\"fill:#ffffff;\"/>\r\n   </g>\r\n   <g id=\"patch_3\">\r\n    <path clip-path=\"url(#p82d2ecf237)\" d=\"M 98.377841 294.3225 \r\nL 145.723295 294.3225 \r\nL 145.723295 35.465357 \r\nL 98.377841 35.465357 \r\nz\r\n\" style=\"fill:#ff0000;stroke:#ffffff;stroke-linejoin:miter;\"/>\r\n   </g>\r\n   <g id=\"patch_4\">\r\n    <path clip-path=\"url(#p82d2ecf237)\" d=\"M 145.723295 294.3225 \r\nL 193.06875 294.3225 \r\nL 193.06875 175.862452 \r\nL 145.723295 175.862452 \r\nz\r\n\" style=\"fill:#ff0000;stroke:#ffffff;stroke-linejoin:miter;\"/>\r\n   </g>\r\n   <g id=\"patch_5\">\r\n    <path clip-path=\"url(#p82d2ecf237)\" d=\"M 193.06875 294.3225 \r\nL 240.414205 294.3225 \r\nL 240.414205 285.547682 \r\nL 193.06875 285.547682 \r\nz\r\n\" style=\"fill:#ff0000;stroke:#ffffff;stroke-linejoin:miter;\"/>\r\n   </g>\r\n   <g id=\"patch_6\">\r\n    <path clip-path=\"url(#p82d2ecf237)\" d=\"M 240.414205 294.3225 \r\nL 287.759659 294.3225 \r\nL 287.759659 285.547682 \r\nL 240.414205 285.547682 \r\nz\r\n\" style=\"fill:#ff0000;stroke:#ffffff;stroke-linejoin:miter;\"/>\r\n   </g>\r\n   <g id=\"patch_7\">\r\n    <path clip-path=\"url(#p82d2ecf237)\" d=\"M 287.759659 294.3225 \r\nL 335.105114 294.3225 \r\nL 335.105114 285.547682 \r\nL 287.759659 285.547682 \r\nz\r\n\" style=\"fill:#ff0000;stroke:#ffffff;stroke-linejoin:miter;\"/>\r\n   </g>\r\n   <g id=\"patch_8\">\r\n    <path clip-path=\"url(#p82d2ecf237)\" d=\"M 335.105114 294.3225 \r\nL 382.450568 294.3225 \r\nL 382.450568 294.3225 \r\nL 335.105114 294.3225 \r\nz\r\n\" style=\"fill:#ff0000;stroke:#ffffff;stroke-linejoin:miter;\"/>\r\n   </g>\r\n   <g id=\"patch_9\">\r\n    <path clip-path=\"url(#p82d2ecf237)\" d=\"M 382.450568 294.3225 \r\nL 429.796023 294.3225 \r\nL 429.796023 294.3225 \r\nL 382.450568 294.3225 \r\nz\r\n\" style=\"fill:#ff0000;stroke:#ffffff;stroke-linejoin:miter;\"/>\r\n   </g>\r\n   <g id=\"patch_10\">\r\n    <path clip-path=\"url(#p82d2ecf237)\" d=\"M 429.796023 294.3225 \r\nL 477.141477 294.3225 \r\nL 477.141477 289.935091 \r\nL 429.796023 289.935091 \r\nz\r\n\" style=\"fill:#ff0000;stroke:#ffffff;stroke-linejoin:miter;\"/>\r\n   </g>\r\n   <g id=\"patch_11\">\r\n    <path clip-path=\"url(#p82d2ecf237)\" d=\"M 477.141477 294.3225 \r\nL 524.486932 294.3225 \r\nL 524.486932 294.3225 \r\nL 477.141477 294.3225 \r\nz\r\n\" style=\"fill:#ff0000;stroke:#ffffff;stroke-linejoin:miter;\"/>\r\n   </g>\r\n   <g id=\"patch_12\">\r\n    <path clip-path=\"url(#p82d2ecf237)\" d=\"M 524.486932 294.3225 \r\nL 571.832386 294.3225 \r\nL 571.832386 294.3225 \r\nL 524.486932 294.3225 \r\nz\r\n\" style=\"fill:#ff0000;stroke:#ffffff;stroke-linejoin:miter;\"/>\r\n   </g>\r\n   <g id=\"patch_13\">\r\n    <path clip-path=\"url(#p82d2ecf237)\" d=\"M 571.832386 294.3225 \r\nL 619.177841 294.3225 \r\nL 619.177841 294.3225 \r\nL 571.832386 294.3225 \r\nz\r\n\" style=\"fill:#ff0000;stroke:#ffffff;stroke-linejoin:miter;\"/>\r\n   </g>\r\n   <g id=\"patch_14\">\r\n    <path clip-path=\"url(#p82d2ecf237)\" d=\"M 619.177841 294.3225 \r\nL 666.523295 294.3225 \r\nL 666.523295 289.935091 \r\nL 619.177841 289.935091 \r\nz\r\n\" style=\"fill:#ff0000;stroke:#ffffff;stroke-linejoin:miter;\"/>\r\n   </g>\r\n   <g id=\"patch_15\">\r\n    <path clip-path=\"url(#p82d2ecf237)\" d=\"M 666.523295 294.3225 \r\nL 713.86875 294.3225 \r\nL 713.86875 294.3225 \r\nL 666.523295 294.3225 \r\nz\r\n\" style=\"fill:#ff0000;stroke:#ffffff;stroke-linejoin:miter;\"/>\r\n   </g>\r\n   <g id=\"patch_16\">\r\n    <path clip-path=\"url(#p82d2ecf237)\" d=\"M 713.86875 294.3225 \r\nL 761.214205 294.3225 \r\nL 761.214205 294.3225 \r\nL 713.86875 294.3225 \r\nz\r\n\" style=\"fill:#ff0000;stroke:#ffffff;stroke-linejoin:miter;\"/>\r\n   </g>\r\n   <g id=\"patch_17\">\r\n    <path clip-path=\"url(#p82d2ecf237)\" d=\"M 761.214205 294.3225 \r\nL 808.559659 294.3225 \r\nL 808.559659 294.3225 \r\nL 761.214205 294.3225 \r\nz\r\n\" style=\"fill:#ff0000;stroke:#ffffff;stroke-linejoin:miter;\"/>\r\n   </g>\r\n   <g id=\"patch_18\">\r\n    <path clip-path=\"url(#p82d2ecf237)\" d=\"M 98.377841 294.3225 \r\nL 145.723295 294.3225 \r\nL 145.723295 40.371475 \r\nL 98.377841 40.371475 \r\nz\r\n\" style=\"fill:#87ceeb;opacity:0.8;stroke:#ffffff;stroke-linejoin:miter;\"/>\r\n   </g>\r\n   <g id=\"patch_19\">\r\n    <path clip-path=\"url(#p82d2ecf237)\" d=\"M 145.723295 294.3225 \r\nL 193.06875 294.3225 \r\nL 193.06875 186.647265 \r\nL 145.723295 186.647265 \r\nz\r\n\" style=\"fill:#87ceeb;opacity:0.8;stroke:#ffffff;stroke-linejoin:miter;\"/>\r\n   </g>\r\n   <g id=\"patch_20\">\r\n    <path clip-path=\"url(#p82d2ecf237)\" d=\"M 193.06875 294.3225 \r\nL 240.414205 294.3225 \r\nL 240.414205 282.132851 \r\nL 193.06875 282.132851 \r\nz\r\n\" style=\"fill:#87ceeb;opacity:0.8;stroke:#ffffff;stroke-linejoin:miter;\"/>\r\n   </g>\r\n   <g id=\"patch_21\">\r\n    <path clip-path=\"url(#p82d2ecf237)\" d=\"M 240.414205 294.3225 \r\nL 287.759659 294.3225 \r\nL 287.759659 278.069634 \r\nL 240.414205 278.069634 \r\nz\r\n\" style=\"fill:#87ceeb;opacity:0.8;stroke:#ffffff;stroke-linejoin:miter;\"/>\r\n   </g>\r\n   <g id=\"patch_22\">\r\n    <path clip-path=\"url(#p82d2ecf237)\" d=\"M 287.759659 294.3225 \r\nL 335.105114 294.3225 \r\nL 335.105114 284.164459 \r\nL 287.759659 284.164459 \r\nz\r\n\" style=\"fill:#87ceeb;opacity:0.8;stroke:#ffffff;stroke-linejoin:miter;\"/>\r\n   </g>\r\n   <g id=\"patch_23\">\r\n    <path clip-path=\"url(#p82d2ecf237)\" d=\"M 335.105114 294.3225 \r\nL 382.450568 294.3225 \r\nL 382.450568 288.227675 \r\nL 335.105114 288.227675 \r\nz\r\n\" style=\"fill:#87ceeb;opacity:0.8;stroke:#ffffff;stroke-linejoin:miter;\"/>\r\n   </g>\r\n   <g id=\"patch_24\">\r\n    <path clip-path=\"url(#p82d2ecf237)\" d=\"M 382.450568 294.3225 \r\nL 429.796023 294.3225 \r\nL 429.796023 294.3225 \r\nL 382.450568 294.3225 \r\nz\r\n\" style=\"fill:#87ceeb;opacity:0.8;stroke:#ffffff;stroke-linejoin:miter;\"/>\r\n   </g>\r\n   <g id=\"patch_25\">\r\n    <path clip-path=\"url(#p82d2ecf237)\" d=\"M 429.796023 294.3225 \r\nL 477.141477 294.3225 \r\nL 477.141477 292.290892 \r\nL 429.796023 292.290892 \r\nz\r\n\" style=\"fill:#87ceeb;opacity:0.8;stroke:#ffffff;stroke-linejoin:miter;\"/>\r\n   </g>\r\n   <g id=\"patch_26\">\r\n    <path clip-path=\"url(#p82d2ecf237)\" d=\"M 477.141477 294.3225 \r\nL 524.486932 294.3225 \r\nL 524.486932 294.3225 \r\nL 477.141477 294.3225 \r\nz\r\n\" style=\"fill:#87ceeb;opacity:0.8;stroke:#ffffff;stroke-linejoin:miter;\"/>\r\n   </g>\r\n   <g id=\"patch_27\">\r\n    <path clip-path=\"url(#p82d2ecf237)\" d=\"M 524.486932 294.3225 \r\nL 571.832386 294.3225 \r\nL 571.832386 292.290892 \r\nL 524.486932 292.290892 \r\nz\r\n\" style=\"fill:#87ceeb;opacity:0.8;stroke:#ffffff;stroke-linejoin:miter;\"/>\r\n   </g>\r\n   <g id=\"patch_28\">\r\n    <path clip-path=\"url(#p82d2ecf237)\" d=\"M 571.832386 294.3225 \r\nL 619.177841 294.3225 \r\nL 619.177841 292.290892 \r\nL 571.832386 292.290892 \r\nz\r\n\" style=\"fill:#87ceeb;opacity:0.8;stroke:#ffffff;stroke-linejoin:miter;\"/>\r\n   </g>\r\n   <g id=\"patch_29\">\r\n    <path clip-path=\"url(#p82d2ecf237)\" d=\"M 619.177841 294.3225 \r\nL 666.523295 294.3225 \r\nL 666.523295 294.3225 \r\nL 619.177841 294.3225 \r\nz\r\n\" style=\"fill:#87ceeb;opacity:0.8;stroke:#ffffff;stroke-linejoin:miter;\"/>\r\n   </g>\r\n   <g id=\"patch_30\">\r\n    <path clip-path=\"url(#p82d2ecf237)\" d=\"M 666.523295 294.3225 \r\nL 713.86875 294.3225 \r\nL 713.86875 294.3225 \r\nL 666.523295 294.3225 \r\nz\r\n\" style=\"fill:#87ceeb;opacity:0.8;stroke:#ffffff;stroke-linejoin:miter;\"/>\r\n   </g>\r\n   <g id=\"patch_31\">\r\n    <path clip-path=\"url(#p82d2ecf237)\" d=\"M 713.86875 294.3225 \r\nL 761.214205 294.3225 \r\nL 761.214205 294.3225 \r\nL 713.86875 294.3225 \r\nz\r\n\" style=\"fill:#87ceeb;opacity:0.8;stroke:#ffffff;stroke-linejoin:miter;\"/>\r\n   </g>\r\n   <g id=\"patch_32\">\r\n    <path clip-path=\"url(#p82d2ecf237)\" d=\"M 761.214205 294.3225 \r\nL 808.559659 294.3225 \r\nL 808.559659 294.3225 \r\nL 761.214205 294.3225 \r\nz\r\n\" style=\"fill:#87ceeb;opacity:0.8;stroke:#ffffff;stroke-linejoin:miter;\"/>\r\n   </g>\r\n   <g id=\"matplotlib.axis_1\">\r\n    <g id=\"xtick_1\">\r\n     <g id=\"line2d_1\">\r\n      <defs>\r\n       <path d=\"M 0 0 \r\nL 0 3.5 \r\n\" id=\"ma99121016d\" style=\"stroke:#000000;stroke-width:0.8;\"/>\r\n      </defs>\r\n      <g>\r\n       <use style=\"stroke:#000000;stroke-width:0.8;\" x=\"96.19995\" xlink:href=\"#ma99121016d\" y=\"294.3225\"/>\r\n      </g>\r\n     </g>\r\n     <g id=\"text_1\">\r\n      <!-- 0 -->\r\n      <defs>\r\n       <path d=\"M 31.78125 66.40625 \r\nQ 24.171875 66.40625 20.328125 58.90625 \r\nQ 16.5 51.421875 16.5 36.375 \r\nQ 16.5 21.390625 20.328125 13.890625 \r\nQ 24.171875 6.390625 31.78125 6.390625 \r\nQ 39.453125 6.390625 43.28125 13.890625 \r\nQ 47.125 21.390625 47.125 36.375 \r\nQ 47.125 51.421875 43.28125 58.90625 \r\nQ 39.453125 66.40625 31.78125 66.40625 \r\nz\r\nM 31.78125 74.21875 \r\nQ 44.046875 74.21875 50.515625 64.515625 \r\nQ 56.984375 54.828125 56.984375 36.375 \r\nQ 56.984375 17.96875 50.515625 8.265625 \r\nQ 44.046875 -1.421875 31.78125 -1.421875 \r\nQ 19.53125 -1.421875 13.0625 8.265625 \r\nQ 6.59375 17.96875 6.59375 36.375 \r\nQ 6.59375 54.828125 13.0625 64.515625 \r\nQ 19.53125 74.21875 31.78125 74.21875 \r\nz\r\n\" id=\"DejaVuSans-48\"/>\r\n      </defs>\r\n      <g transform=\"translate(93.0187 308.920937)scale(0.1 -0.1)\">\r\n       <use xlink:href=\"#DejaVuSans-48\"/>\r\n      </g>\r\n     </g>\r\n    </g>\r\n    <g id=\"xtick_2\">\r\n     <g id=\"line2d_2\">\r\n      <g>\r\n       <use style=\"stroke:#000000;stroke-width:0.8;\" x=\"190.890859\" xlink:href=\"#ma99121016d\" y=\"294.3225\"/>\r\n      </g>\r\n     </g>\r\n     <g id=\"text_2\">\r\n      <!-- 1000 -->\r\n      <defs>\r\n       <path d=\"M 12.40625 8.296875 \r\nL 28.515625 8.296875 \r\nL 28.515625 63.921875 \r\nL 10.984375 60.40625 \r\nL 10.984375 69.390625 \r\nL 28.421875 72.90625 \r\nL 38.28125 72.90625 \r\nL 38.28125 8.296875 \r\nL 54.390625 8.296875 \r\nL 54.390625 0 \r\nL 12.40625 0 \r\nz\r\n\" id=\"DejaVuSans-49\"/>\r\n      </defs>\r\n      <g transform=\"translate(178.165859 308.920937)scale(0.1 -0.1)\">\r\n       <use xlink:href=\"#DejaVuSans-49\"/>\r\n       <use x=\"63.623047\" xlink:href=\"#DejaVuSans-48\"/>\r\n       <use x=\"127.246094\" xlink:href=\"#DejaVuSans-48\"/>\r\n       <use x=\"190.869141\" xlink:href=\"#DejaVuSans-48\"/>\r\n      </g>\r\n     </g>\r\n    </g>\r\n    <g id=\"xtick_3\">\r\n     <g id=\"line2d_3\">\r\n      <g>\r\n       <use style=\"stroke:#000000;stroke-width:0.8;\" x=\"285.581768\" xlink:href=\"#ma99121016d\" y=\"294.3225\"/>\r\n      </g>\r\n     </g>\r\n     <g id=\"text_3\">\r\n      <!-- 2000 -->\r\n      <defs>\r\n       <path d=\"M 19.1875 8.296875 \r\nL 53.609375 8.296875 \r\nL 53.609375 0 \r\nL 7.328125 0 \r\nL 7.328125 8.296875 \r\nQ 12.9375 14.109375 22.625 23.890625 \r\nQ 32.328125 33.6875 34.8125 36.53125 \r\nQ 39.546875 41.84375 41.421875 45.53125 \r\nQ 43.3125 49.21875 43.3125 52.78125 \r\nQ 43.3125 58.59375 39.234375 62.25 \r\nQ 35.15625 65.921875 28.609375 65.921875 \r\nQ 23.96875 65.921875 18.8125 64.3125 \r\nQ 13.671875 62.703125 7.8125 59.421875 \r\nL 7.8125 69.390625 \r\nQ 13.765625 71.78125 18.9375 73 \r\nQ 24.125 74.21875 28.421875 74.21875 \r\nQ 39.75 74.21875 46.484375 68.546875 \r\nQ 53.21875 62.890625 53.21875 53.421875 \r\nQ 53.21875 48.921875 51.53125 44.890625 \r\nQ 49.859375 40.875 45.40625 35.40625 \r\nQ 44.1875 33.984375 37.640625 27.21875 \r\nQ 31.109375 20.453125 19.1875 8.296875 \r\nz\r\n\" id=\"DejaVuSans-50\"/>\r\n      </defs>\r\n      <g transform=\"translate(272.856768 308.920937)scale(0.1 -0.1)\">\r\n       <use xlink:href=\"#DejaVuSans-50\"/>\r\n       <use x=\"63.623047\" xlink:href=\"#DejaVuSans-48\"/>\r\n       <use x=\"127.246094\" xlink:href=\"#DejaVuSans-48\"/>\r\n       <use x=\"190.869141\" xlink:href=\"#DejaVuSans-48\"/>\r\n      </g>\r\n     </g>\r\n    </g>\r\n    <g id=\"xtick_4\">\r\n     <g id=\"line2d_4\">\r\n      <g>\r\n       <use style=\"stroke:#000000;stroke-width:0.8;\" x=\"380.272677\" xlink:href=\"#ma99121016d\" y=\"294.3225\"/>\r\n      </g>\r\n     </g>\r\n     <g id=\"text_4\">\r\n      <!-- 3000 -->\r\n      <defs>\r\n       <path d=\"M 40.578125 39.3125 \r\nQ 47.65625 37.796875 51.625 33 \r\nQ 55.609375 28.21875 55.609375 21.1875 \r\nQ 55.609375 10.40625 48.1875 4.484375 \r\nQ 40.765625 -1.421875 27.09375 -1.421875 \r\nQ 22.515625 -1.421875 17.65625 -0.515625 \r\nQ 12.796875 0.390625 7.625 2.203125 \r\nL 7.625 11.71875 \r\nQ 11.71875 9.328125 16.59375 8.109375 \r\nQ 21.484375 6.890625 26.8125 6.890625 \r\nQ 36.078125 6.890625 40.9375 10.546875 \r\nQ 45.796875 14.203125 45.796875 21.1875 \r\nQ 45.796875 27.640625 41.28125 31.265625 \r\nQ 36.765625 34.90625 28.71875 34.90625 \r\nL 20.21875 34.90625 \r\nL 20.21875 43.015625 \r\nL 29.109375 43.015625 \r\nQ 36.375 43.015625 40.234375 45.921875 \r\nQ 44.09375 48.828125 44.09375 54.296875 \r\nQ 44.09375 59.90625 40.109375 62.90625 \r\nQ 36.140625 65.921875 28.71875 65.921875 \r\nQ 24.65625 65.921875 20.015625 65.03125 \r\nQ 15.375 64.15625 9.8125 62.3125 \r\nL 9.8125 71.09375 \r\nQ 15.4375 72.65625 20.34375 73.4375 \r\nQ 25.25 74.21875 29.59375 74.21875 \r\nQ 40.828125 74.21875 47.359375 69.109375 \r\nQ 53.90625 64.015625 53.90625 55.328125 \r\nQ 53.90625 49.265625 50.4375 45.09375 \r\nQ 46.96875 40.921875 40.578125 39.3125 \r\nz\r\n\" id=\"DejaVuSans-51\"/>\r\n      </defs>\r\n      <g transform=\"translate(367.547677 308.920937)scale(0.1 -0.1)\">\r\n       <use xlink:href=\"#DejaVuSans-51\"/>\r\n       <use x=\"63.623047\" xlink:href=\"#DejaVuSans-48\"/>\r\n       <use x=\"127.246094\" xlink:href=\"#DejaVuSans-48\"/>\r\n       <use x=\"190.869141\" xlink:href=\"#DejaVuSans-48\"/>\r\n      </g>\r\n     </g>\r\n    </g>\r\n    <g id=\"xtick_5\">\r\n     <g id=\"line2d_5\">\r\n      <g>\r\n       <use style=\"stroke:#000000;stroke-width:0.8;\" x=\"474.963586\" xlink:href=\"#ma99121016d\" y=\"294.3225\"/>\r\n      </g>\r\n     </g>\r\n     <g id=\"text_5\">\r\n      <!-- 4000 -->\r\n      <defs>\r\n       <path d=\"M 37.796875 64.3125 \r\nL 12.890625 25.390625 \r\nL 37.796875 25.390625 \r\nz\r\nM 35.203125 72.90625 \r\nL 47.609375 72.90625 \r\nL 47.609375 25.390625 \r\nL 58.015625 25.390625 \r\nL 58.015625 17.1875 \r\nL 47.609375 17.1875 \r\nL 47.609375 0 \r\nL 37.796875 0 \r\nL 37.796875 17.1875 \r\nL 4.890625 17.1875 \r\nL 4.890625 26.703125 \r\nz\r\n\" id=\"DejaVuSans-52\"/>\r\n      </defs>\r\n      <g transform=\"translate(462.238586 308.920937)scale(0.1 -0.1)\">\r\n       <use xlink:href=\"#DejaVuSans-52\"/>\r\n       <use x=\"63.623047\" xlink:href=\"#DejaVuSans-48\"/>\r\n       <use x=\"127.246094\" xlink:href=\"#DejaVuSans-48\"/>\r\n       <use x=\"190.869141\" xlink:href=\"#DejaVuSans-48\"/>\r\n      </g>\r\n     </g>\r\n    </g>\r\n    <g id=\"xtick_6\">\r\n     <g id=\"line2d_6\">\r\n      <g>\r\n       <use style=\"stroke:#000000;stroke-width:0.8;\" x=\"569.654495\" xlink:href=\"#ma99121016d\" y=\"294.3225\"/>\r\n      </g>\r\n     </g>\r\n     <g id=\"text_6\">\r\n      <!-- 5000 -->\r\n      <defs>\r\n       <path d=\"M 10.796875 72.90625 \r\nL 49.515625 72.90625 \r\nL 49.515625 64.59375 \r\nL 19.828125 64.59375 \r\nL 19.828125 46.734375 \r\nQ 21.96875 47.46875 24.109375 47.828125 \r\nQ 26.265625 48.1875 28.421875 48.1875 \r\nQ 40.625 48.1875 47.75 41.5 \r\nQ 54.890625 34.8125 54.890625 23.390625 \r\nQ 54.890625 11.625 47.5625 5.09375 \r\nQ 40.234375 -1.421875 26.90625 -1.421875 \r\nQ 22.3125 -1.421875 17.546875 -0.640625 \r\nQ 12.796875 0.140625 7.71875 1.703125 \r\nL 7.71875 11.625 \r\nQ 12.109375 9.234375 16.796875 8.0625 \r\nQ 21.484375 6.890625 26.703125 6.890625 \r\nQ 35.15625 6.890625 40.078125 11.328125 \r\nQ 45.015625 15.765625 45.015625 23.390625 \r\nQ 45.015625 31 40.078125 35.4375 \r\nQ 35.15625 39.890625 26.703125 39.890625 \r\nQ 22.75 39.890625 18.8125 39.015625 \r\nQ 14.890625 38.140625 10.796875 36.28125 \r\nz\r\n\" id=\"DejaVuSans-53\"/>\r\n      </defs>\r\n      <g transform=\"translate(556.929495 308.920937)scale(0.1 -0.1)\">\r\n       <use xlink:href=\"#DejaVuSans-53\"/>\r\n       <use x=\"63.623047\" xlink:href=\"#DejaVuSans-48\"/>\r\n       <use x=\"127.246094\" xlink:href=\"#DejaVuSans-48\"/>\r\n       <use x=\"190.869141\" xlink:href=\"#DejaVuSans-48\"/>\r\n      </g>\r\n     </g>\r\n    </g>\r\n    <g id=\"xtick_7\">\r\n     <g id=\"line2d_7\">\r\n      <g>\r\n       <use style=\"stroke:#000000;stroke-width:0.8;\" x=\"664.345405\" xlink:href=\"#ma99121016d\" y=\"294.3225\"/>\r\n      </g>\r\n     </g>\r\n     <g id=\"text_7\">\r\n      <!-- 6000 -->\r\n      <defs>\r\n       <path d=\"M 33.015625 40.375 \r\nQ 26.375 40.375 22.484375 35.828125 \r\nQ 18.609375 31.296875 18.609375 23.390625 \r\nQ 18.609375 15.53125 22.484375 10.953125 \r\nQ 26.375 6.390625 33.015625 6.390625 \r\nQ 39.65625 6.390625 43.53125 10.953125 \r\nQ 47.40625 15.53125 47.40625 23.390625 \r\nQ 47.40625 31.296875 43.53125 35.828125 \r\nQ 39.65625 40.375 33.015625 40.375 \r\nz\r\nM 52.59375 71.296875 \r\nL 52.59375 62.3125 \r\nQ 48.875 64.0625 45.09375 64.984375 \r\nQ 41.3125 65.921875 37.59375 65.921875 \r\nQ 27.828125 65.921875 22.671875 59.328125 \r\nQ 17.53125 52.734375 16.796875 39.40625 \r\nQ 19.671875 43.65625 24.015625 45.921875 \r\nQ 28.375 48.1875 33.59375 48.1875 \r\nQ 44.578125 48.1875 50.953125 41.515625 \r\nQ 57.328125 34.859375 57.328125 23.390625 \r\nQ 57.328125 12.15625 50.6875 5.359375 \r\nQ 44.046875 -1.421875 33.015625 -1.421875 \r\nQ 20.359375 -1.421875 13.671875 8.265625 \r\nQ 6.984375 17.96875 6.984375 36.375 \r\nQ 6.984375 53.65625 15.1875 63.9375 \r\nQ 23.390625 74.21875 37.203125 74.21875 \r\nQ 40.921875 74.21875 44.703125 73.484375 \r\nQ 48.484375 72.75 52.59375 71.296875 \r\nz\r\n\" id=\"DejaVuSans-54\"/>\r\n      </defs>\r\n      <g transform=\"translate(651.620405 308.920937)scale(0.1 -0.1)\">\r\n       <use xlink:href=\"#DejaVuSans-54\"/>\r\n       <use x=\"63.623047\" xlink:href=\"#DejaVuSans-48\"/>\r\n       <use x=\"127.246094\" xlink:href=\"#DejaVuSans-48\"/>\r\n       <use x=\"190.869141\" xlink:href=\"#DejaVuSans-48\"/>\r\n      </g>\r\n     </g>\r\n    </g>\r\n    <g id=\"xtick_8\">\r\n     <g id=\"line2d_8\">\r\n      <g>\r\n       <use style=\"stroke:#000000;stroke-width:0.8;\" x=\"759.036314\" xlink:href=\"#ma99121016d\" y=\"294.3225\"/>\r\n      </g>\r\n     </g>\r\n     <g id=\"text_8\">\r\n      <!-- 7000 -->\r\n      <defs>\r\n       <path d=\"M 8.203125 72.90625 \r\nL 55.078125 72.90625 \r\nL 55.078125 68.703125 \r\nL 28.609375 0 \r\nL 18.3125 0 \r\nL 43.21875 64.59375 \r\nL 8.203125 64.59375 \r\nz\r\n\" id=\"DejaVuSans-55\"/>\r\n      </defs>\r\n      <g transform=\"translate(746.311314 308.920937)scale(0.1 -0.1)\">\r\n       <use xlink:href=\"#DejaVuSans-55\"/>\r\n       <use x=\"63.623047\" xlink:href=\"#DejaVuSans-48\"/>\r\n       <use x=\"127.246094\" xlink:href=\"#DejaVuSans-48\"/>\r\n       <use x=\"190.869141\" xlink:href=\"#DejaVuSans-48\"/>\r\n      </g>\r\n     </g>\r\n    </g>\r\n    <g id=\"text_9\">\r\n     <!-- concentração[mcg/L] -->\r\n     <defs>\r\n      <path d=\"M 48.78125 52.59375 \r\nL 48.78125 44.1875 \r\nQ 44.96875 46.296875 41.140625 47.34375 \r\nQ 37.3125 48.390625 33.40625 48.390625 \r\nQ 24.65625 48.390625 19.8125 42.84375 \r\nQ 14.984375 37.3125 14.984375 27.296875 \r\nQ 14.984375 17.28125 19.8125 11.734375 \r\nQ 24.65625 6.203125 33.40625 6.203125 \r\nQ 37.3125 6.203125 41.140625 7.25 \r\nQ 44.96875 8.296875 48.78125 10.40625 \r\nL 48.78125 2.09375 \r\nQ 45.015625 0.34375 40.984375 -0.53125 \r\nQ 36.96875 -1.421875 32.421875 -1.421875 \r\nQ 20.0625 -1.421875 12.78125 6.34375 \r\nQ 5.515625 14.109375 5.515625 27.296875 \r\nQ 5.515625 40.671875 12.859375 48.328125 \r\nQ 20.21875 56 33.015625 56 \r\nQ 37.15625 56 41.109375 55.140625 \r\nQ 45.0625 54.296875 48.78125 52.59375 \r\nz\r\n\" id=\"DejaVuSans-99\"/>\r\n      <path d=\"M 30.609375 48.390625 \r\nQ 23.390625 48.390625 19.1875 42.75 \r\nQ 14.984375 37.109375 14.984375 27.296875 \r\nQ 14.984375 17.484375 19.15625 11.84375 \r\nQ 23.34375 6.203125 30.609375 6.203125 \r\nQ 37.796875 6.203125 41.984375 11.859375 \r\nQ 46.1875 17.53125 46.1875 27.296875 \r\nQ 46.1875 37.015625 41.984375 42.703125 \r\nQ 37.796875 48.390625 30.609375 48.390625 \r\nz\r\nM 30.609375 56 \r\nQ 42.328125 56 49.015625 48.375 \r\nQ 55.71875 40.765625 55.71875 27.296875 \r\nQ 55.71875 13.875 49.015625 6.21875 \r\nQ 42.328125 -1.421875 30.609375 -1.421875 \r\nQ 18.84375 -1.421875 12.171875 6.21875 \r\nQ 5.515625 13.875 5.515625 27.296875 \r\nQ 5.515625 40.765625 12.171875 48.375 \r\nQ 18.84375 56 30.609375 56 \r\nz\r\n\" id=\"DejaVuSans-111\"/>\r\n      <path d=\"M 54.890625 33.015625 \r\nL 54.890625 0 \r\nL 45.90625 0 \r\nL 45.90625 32.71875 \r\nQ 45.90625 40.484375 42.875 44.328125 \r\nQ 39.84375 48.1875 33.796875 48.1875 \r\nQ 26.515625 48.1875 22.3125 43.546875 \r\nQ 18.109375 38.921875 18.109375 30.90625 \r\nL 18.109375 0 \r\nL 9.078125 0 \r\nL 9.078125 54.6875 \r\nL 18.109375 54.6875 \r\nL 18.109375 46.1875 \r\nQ 21.34375 51.125 25.703125 53.5625 \r\nQ 30.078125 56 35.796875 56 \r\nQ 45.21875 56 50.046875 50.171875 \r\nQ 54.890625 44.34375 54.890625 33.015625 \r\nz\r\n\" id=\"DejaVuSans-110\"/>\r\n      <path d=\"M 56.203125 29.59375 \r\nL 56.203125 25.203125 \r\nL 14.890625 25.203125 \r\nQ 15.484375 15.921875 20.484375 11.0625 \r\nQ 25.484375 6.203125 34.421875 6.203125 \r\nQ 39.59375 6.203125 44.453125 7.46875 \r\nQ 49.3125 8.734375 54.109375 11.28125 \r\nL 54.109375 2.78125 \r\nQ 49.265625 0.734375 44.1875 -0.34375 \r\nQ 39.109375 -1.421875 33.890625 -1.421875 \r\nQ 20.796875 -1.421875 13.15625 6.1875 \r\nQ 5.515625 13.8125 5.515625 26.8125 \r\nQ 5.515625 40.234375 12.765625 48.109375 \r\nQ 20.015625 56 32.328125 56 \r\nQ 43.359375 56 49.78125 48.890625 \r\nQ 56.203125 41.796875 56.203125 29.59375 \r\nz\r\nM 47.21875 32.234375 \r\nQ 47.125 39.59375 43.09375 43.984375 \r\nQ 39.0625 48.390625 32.421875 48.390625 \r\nQ 24.90625 48.390625 20.390625 44.140625 \r\nQ 15.875 39.890625 15.1875 32.171875 \r\nz\r\n\" id=\"DejaVuSans-101\"/>\r\n      <path d=\"M 18.3125 70.21875 \r\nL 18.3125 54.6875 \r\nL 36.8125 54.6875 \r\nL 36.8125 47.703125 \r\nL 18.3125 47.703125 \r\nL 18.3125 18.015625 \r\nQ 18.3125 11.328125 20.140625 9.421875 \r\nQ 21.96875 7.515625 27.59375 7.515625 \r\nL 36.8125 7.515625 \r\nL 36.8125 0 \r\nL 27.59375 0 \r\nQ 17.1875 0 13.234375 3.875 \r\nQ 9.28125 7.765625 9.28125 18.015625 \r\nL 9.28125 47.703125 \r\nL 2.6875 47.703125 \r\nL 2.6875 54.6875 \r\nL 9.28125 54.6875 \r\nL 9.28125 70.21875 \r\nz\r\n\" id=\"DejaVuSans-116\"/>\r\n      <path d=\"M 41.109375 46.296875 \r\nQ 39.59375 47.171875 37.8125 47.578125 \r\nQ 36.03125 48 33.890625 48 \r\nQ 26.265625 48 22.1875 43.046875 \r\nQ 18.109375 38.09375 18.109375 28.8125 \r\nL 18.109375 0 \r\nL 9.078125 0 \r\nL 9.078125 54.6875 \r\nL 18.109375 54.6875 \r\nL 18.109375 46.1875 \r\nQ 20.953125 51.171875 25.484375 53.578125 \r\nQ 30.03125 56 36.53125 56 \r\nQ 37.453125 56 38.578125 55.875 \r\nQ 39.703125 55.765625 41.0625 55.515625 \r\nz\r\n\" id=\"DejaVuSans-114\"/>\r\n      <path d=\"M 34.28125 27.484375 \r\nQ 23.390625 27.484375 19.1875 25 \r\nQ 14.984375 22.515625 14.984375 16.5 \r\nQ 14.984375 11.71875 18.140625 8.90625 \r\nQ 21.296875 6.109375 26.703125 6.109375 \r\nQ 34.1875 6.109375 38.703125 11.40625 \r\nQ 43.21875 16.703125 43.21875 25.484375 \r\nL 43.21875 27.484375 \r\nz\r\nM 52.203125 31.203125 \r\nL 52.203125 0 \r\nL 43.21875 0 \r\nL 43.21875 8.296875 \r\nQ 40.140625 3.328125 35.546875 0.953125 \r\nQ 30.953125 -1.421875 24.3125 -1.421875 \r\nQ 15.921875 -1.421875 10.953125 3.296875 \r\nQ 6 8.015625 6 15.921875 \r\nQ 6 25.140625 12.171875 29.828125 \r\nQ 18.359375 34.515625 30.609375 34.515625 \r\nL 43.21875 34.515625 \r\nL 43.21875 35.40625 \r\nQ 43.21875 41.609375 39.140625 45 \r\nQ 35.0625 48.390625 27.6875 48.390625 \r\nQ 23 48.390625 18.546875 47.265625 \r\nQ 14.109375 46.140625 10.015625 43.890625 \r\nL 10.015625 52.203125 \r\nQ 14.9375 54.109375 19.578125 55.046875 \r\nQ 24.21875 56 28.609375 56 \r\nQ 40.484375 56 46.34375 49.84375 \r\nQ 52.203125 43.703125 52.203125 31.203125 \r\nz\r\n\" id=\"DejaVuSans-97\"/>\r\n      <path d=\"M 48.78125 52.59375 \r\nL 48.78125 44.1875 \r\nQ 44.96875 46.296875 41.140625 47.34375 \r\nQ 37.3125 48.390625 33.40625 48.390625 \r\nQ 24.65625 48.390625 19.8125 42.84375 \r\nQ 14.984375 37.3125 14.984375 27.296875 \r\nQ 14.984375 17.28125 19.8125 11.734375 \r\nQ 24.65625 6.203125 33.40625 6.203125 \r\nQ 37.3125 6.203125 41.140625 7.25 \r\nQ 44.96875 8.296875 48.78125 10.40625 \r\nL 48.78125 2.09375 \r\nQ 45.015625 0.34375 40.984375 -0.53125 \r\nQ 36.96875 -1.421875 32.421875 -1.421875 \r\nQ 20.0625 -1.421875 12.78125 6.34375 \r\nQ 5.515625 14.109375 5.515625 27.296875 \r\nQ 5.515625 40.671875 12.859375 48.328125 \r\nQ 20.21875 56 33.015625 56 \r\nQ 37.15625 56 41.109375 55.140625 \r\nQ 45.0625 54.296875 48.78125 52.59375 \r\nz\r\nM 36.078125 0 \r\nQ 38.765625 -3.03125 40.078125 -5.59375 \r\nQ 41.40625 -8.15625 41.40625 -10.5 \r\nQ 41.40625 -14.84375 38.46875 -17.0625 \r\nQ 35.546875 -19.28125 29.78125 -19.28125 \r\nQ 27.546875 -19.28125 25.421875 -18.984375 \r\nQ 23.296875 -18.703125 21.1875 -18.109375 \r\nL 21.1875 -11.71875 \r\nQ 22.859375 -12.546875 24.65625 -12.90625 \r\nQ 26.46875 -13.28125 28.765625 -13.28125 \r\nQ 31.640625 -13.28125 33.109375 -12.109375 \r\nQ 34.578125 -10.9375 34.578125 -8.6875 \r\nQ 34.578125 -7.234375 33.515625 -5.109375 \r\nQ 32.46875 -2.984375 30.28125 0 \r\nz\r\n\" id=\"DejaVuSans-231\"/>\r\n      <path d=\"M 34.28125 27.484375 \r\nQ 23.390625 27.484375 19.1875 25 \r\nQ 14.984375 22.515625 14.984375 16.5 \r\nQ 14.984375 11.71875 18.140625 8.90625 \r\nQ 21.296875 6.109375 26.703125 6.109375 \r\nQ 34.1875 6.109375 38.703125 11.40625 \r\nQ 43.21875 16.703125 43.21875 25.484375 \r\nL 43.21875 27.484375 \r\nz\r\nM 52.203125 31.203125 \r\nL 52.203125 0 \r\nL 43.21875 0 \r\nL 43.21875 8.296875 \r\nQ 40.140625 3.328125 35.546875 0.953125 \r\nQ 30.953125 -1.421875 24.3125 -1.421875 \r\nQ 15.921875 -1.421875 10.953125 3.296875 \r\nQ 6 8.015625 6 15.921875 \r\nQ 6 25.140625 12.171875 29.828125 \r\nQ 18.359375 34.515625 30.609375 34.515625 \r\nL 43.21875 34.515625 \r\nL 43.21875 35.40625 \r\nQ 43.21875 41.609375 39.140625 45 \r\nQ 35.0625 48.390625 27.6875 48.390625 \r\nQ 23 48.390625 18.546875 47.265625 \r\nQ 14.109375 46.140625 10.015625 43.890625 \r\nL 10.015625 52.203125 \r\nQ 14.9375 54.109375 19.578125 55.046875 \r\nQ 24.21875 56 28.609375 56 \r\nQ 40.484375 56 46.34375 49.84375 \r\nQ 52.203125 43.703125 52.203125 31.203125 \r\nz\r\nM 28.8125 66.890625 \r\nL 26.03125 69.578125 \r\nQ 24.953125 70.5625 24.140625 71.015625 \r\nQ 23.34375 71.484375 22.703125 71.484375 \r\nQ 20.84375 71.484375 19.96875 69.703125 \r\nQ 19.09375 67.921875 19 63.921875 \r\nL 12.890625 63.921875 \r\nQ 12.984375 70.515625 15.46875 74.09375 \r\nQ 17.96875 77.6875 22.40625 77.6875 \r\nQ 24.265625 77.6875 25.828125 77 \r\nQ 27.390625 76.3125 29.203125 74.703125 \r\nL 31.984375 72.015625 \r\nQ 33.0625 71.046875 33.859375 70.578125 \r\nQ 34.671875 70.125 35.296875 70.125 \r\nQ 37.15625 70.125 38.03125 71.90625 \r\nQ 38.921875 73.6875 39.015625 77.6875 \r\nL 45.125 77.6875 \r\nQ 45.015625 71.09375 42.53125 67.5 \r\nQ 40.046875 63.921875 35.59375 63.921875 \r\nQ 33.734375 63.921875 32.171875 64.59375 \r\nQ 30.609375 65.28125 28.8125 66.890625 \r\nz\r\n\" id=\"DejaVuSans-227\"/>\r\n      <path d=\"M 8.59375 75.984375 \r\nL 29.296875 75.984375 \r\nL 29.296875 69 \r\nL 17.578125 69 \r\nL 17.578125 -6.203125 \r\nL 29.296875 -6.203125 \r\nL 29.296875 -13.1875 \r\nL 8.59375 -13.1875 \r\nz\r\n\" id=\"DejaVuSans-91\"/>\r\n      <path d=\"M 52 44.1875 \r\nQ 55.375 50.25 60.0625 53.125 \r\nQ 64.75 56 71.09375 56 \r\nQ 79.640625 56 84.28125 50.015625 \r\nQ 88.921875 44.046875 88.921875 33.015625 \r\nL 88.921875 0 \r\nL 79.890625 0 \r\nL 79.890625 32.71875 \r\nQ 79.890625 40.578125 77.09375 44.375 \r\nQ 74.3125 48.1875 68.609375 48.1875 \r\nQ 61.625 48.1875 57.5625 43.546875 \r\nQ 53.515625 38.921875 53.515625 30.90625 \r\nL 53.515625 0 \r\nL 44.484375 0 \r\nL 44.484375 32.71875 \r\nQ 44.484375 40.625 41.703125 44.40625 \r\nQ 38.921875 48.1875 33.109375 48.1875 \r\nQ 26.21875 48.1875 22.15625 43.53125 \r\nQ 18.109375 38.875 18.109375 30.90625 \r\nL 18.109375 0 \r\nL 9.078125 0 \r\nL 9.078125 54.6875 \r\nL 18.109375 54.6875 \r\nL 18.109375 46.1875 \r\nQ 21.1875 51.21875 25.484375 53.609375 \r\nQ 29.78125 56 35.6875 56 \r\nQ 41.65625 56 45.828125 52.96875 \r\nQ 50 49.953125 52 44.1875 \r\nz\r\n\" id=\"DejaVuSans-109\"/>\r\n      <path d=\"M 45.40625 27.984375 \r\nQ 45.40625 37.75 41.375 43.109375 \r\nQ 37.359375 48.484375 30.078125 48.484375 \r\nQ 22.859375 48.484375 18.828125 43.109375 \r\nQ 14.796875 37.75 14.796875 27.984375 \r\nQ 14.796875 18.265625 18.828125 12.890625 \r\nQ 22.859375 7.515625 30.078125 7.515625 \r\nQ 37.359375 7.515625 41.375 12.890625 \r\nQ 45.40625 18.265625 45.40625 27.984375 \r\nz\r\nM 54.390625 6.78125 \r\nQ 54.390625 -7.171875 48.1875 -13.984375 \r\nQ 42 -20.796875 29.203125 -20.796875 \r\nQ 24.46875 -20.796875 20.265625 -20.09375 \r\nQ 16.0625 -19.390625 12.109375 -17.921875 \r\nL 12.109375 -9.1875 \r\nQ 16.0625 -11.328125 19.921875 -12.34375 \r\nQ 23.78125 -13.375 27.78125 -13.375 \r\nQ 36.625 -13.375 41.015625 -8.765625 \r\nQ 45.40625 -4.15625 45.40625 5.171875 \r\nL 45.40625 9.625 \r\nQ 42.625 4.78125 38.28125 2.390625 \r\nQ 33.9375 0 27.875 0 \r\nQ 17.828125 0 11.671875 7.65625 \r\nQ 5.515625 15.328125 5.515625 27.984375 \r\nQ 5.515625 40.671875 11.671875 48.328125 \r\nQ 17.828125 56 27.875 56 \r\nQ 33.9375 56 38.28125 53.609375 \r\nQ 42.625 51.21875 45.40625 46.390625 \r\nL 45.40625 54.6875 \r\nL 54.390625 54.6875 \r\nz\r\n\" id=\"DejaVuSans-103\"/>\r\n      <path d=\"M 25.390625 72.90625 \r\nL 33.6875 72.90625 \r\nL 8.296875 -9.28125 \r\nL 0 -9.28125 \r\nz\r\n\" id=\"DejaVuSans-47\"/>\r\n      <path d=\"M 9.8125 72.90625 \r\nL 19.671875 72.90625 \r\nL 19.671875 8.296875 \r\nL 55.171875 8.296875 \r\nL 55.171875 0 \r\nL 9.8125 0 \r\nz\r\n\" id=\"DejaVuSans-76\"/>\r\n      <path d=\"M 30.421875 75.984375 \r\nL 30.421875 -13.1875 \r\nL 9.71875 -13.1875 \r\nL 9.71875 -6.203125 \r\nL 21.390625 -6.203125 \r\nL 21.390625 69 \r\nL 9.71875 69 \r\nL 9.71875 75.984375 \r\nz\r\n\" id=\"DejaVuSans-93\"/>\r\n     </defs>\r\n     <g transform=\"translate(400.378906 322.769375)scale(0.1 -0.1)\">\r\n      <use xlink:href=\"#DejaVuSans-99\"/>\r\n      <use x=\"54.980469\" xlink:href=\"#DejaVuSans-111\"/>\r\n      <use x=\"116.162109\" xlink:href=\"#DejaVuSans-110\"/>\r\n      <use x=\"179.541016\" xlink:href=\"#DejaVuSans-99\"/>\r\n      <use x=\"234.521484\" xlink:href=\"#DejaVuSans-101\"/>\r\n      <use x=\"296.044922\" xlink:href=\"#DejaVuSans-110\"/>\r\n      <use x=\"359.423828\" xlink:href=\"#DejaVuSans-116\"/>\r\n      <use x=\"398.632812\" xlink:href=\"#DejaVuSans-114\"/>\r\n      <use x=\"439.746094\" xlink:href=\"#DejaVuSans-97\"/>\r\n      <use x=\"501.025391\" xlink:href=\"#DejaVuSans-231\"/>\r\n      <use x=\"556.005859\" xlink:href=\"#DejaVuSans-227\"/>\r\n      <use x=\"617.285156\" xlink:href=\"#DejaVuSans-111\"/>\r\n      <use x=\"678.466797\" xlink:href=\"#DejaVuSans-91\"/>\r\n      <use x=\"717.480469\" xlink:href=\"#DejaVuSans-109\"/>\r\n      <use x=\"814.892578\" xlink:href=\"#DejaVuSans-99\"/>\r\n      <use x=\"869.873047\" xlink:href=\"#DejaVuSans-103\"/>\r\n      <use x=\"933.349609\" xlink:href=\"#DejaVuSans-47\"/>\r\n      <use x=\"967.041016\" xlink:href=\"#DejaVuSans-76\"/>\r\n      <use x=\"1022.753906\" xlink:href=\"#DejaVuSans-93\"/>\r\n     </g>\r\n    </g>\r\n   </g>\r\n   <g id=\"matplotlib.axis_2\">\r\n    <g id=\"ytick_1\">\r\n     <g id=\"line2d_9\">\r\n      <defs>\r\n       <path d=\"M 0 0 \r\nL -3.5 0 \r\n\" id=\"m72b5f64ba2\" style=\"stroke:#000000;stroke-width:0.8;\"/>\r\n      </defs>\r\n      <g>\r\n       <use style=\"stroke:#000000;stroke-width:0.8;\" x=\"62.86875\" xlink:href=\"#m72b5f64ba2\" y=\"294.3225\"/>\r\n      </g>\r\n     </g>\r\n     <g id=\"text_10\">\r\n      <!-- 0.0000 -->\r\n      <defs>\r\n       <path d=\"M 10.6875 12.40625 \r\nL 21 12.40625 \r\nL 21 0 \r\nL 10.6875 0 \r\nz\r\n\" id=\"DejaVuSans-46\"/>\r\n      </defs>\r\n      <g transform=\"translate(20.878125 298.121719)scale(0.1 -0.1)\">\r\n       <use xlink:href=\"#DejaVuSans-48\"/>\r\n       <use x=\"63.623047\" xlink:href=\"#DejaVuSans-46\"/>\r\n       <use x=\"95.410156\" xlink:href=\"#DejaVuSans-48\"/>\r\n       <use x=\"159.033203\" xlink:href=\"#DejaVuSans-48\"/>\r\n       <use x=\"222.65625\" xlink:href=\"#DejaVuSans-48\"/>\r\n       <use x=\"286.279297\" xlink:href=\"#DejaVuSans-48\"/>\r\n      </g>\r\n     </g>\r\n    </g>\r\n    <g id=\"ytick_2\">\r\n     <g id=\"line2d_10\">\r\n      <g>\r\n       <use style=\"stroke:#000000;stroke-width:0.8;\" x=\"62.86875\" xlink:href=\"#m72b5f64ba2\" y=\"253.080854\"/>\r\n      </g>\r\n     </g>\r\n     <g id=\"text_11\">\r\n      <!-- 0.0002 -->\r\n      <g transform=\"translate(20.878125 256.880072)scale(0.1 -0.1)\">\r\n       <use xlink:href=\"#DejaVuSans-48\"/>\r\n       <use x=\"63.623047\" xlink:href=\"#DejaVuSans-46\"/>\r\n       <use x=\"95.410156\" xlink:href=\"#DejaVuSans-48\"/>\r\n       <use x=\"159.033203\" xlink:href=\"#DejaVuSans-48\"/>\r\n       <use x=\"222.65625\" xlink:href=\"#DejaVuSans-48\"/>\r\n       <use x=\"286.279297\" xlink:href=\"#DejaVuSans-50\"/>\r\n      </g>\r\n     </g>\r\n    </g>\r\n    <g id=\"ytick_3\">\r\n     <g id=\"line2d_11\">\r\n      <g>\r\n       <use style=\"stroke:#000000;stroke-width:0.8;\" x=\"62.86875\" xlink:href=\"#m72b5f64ba2\" y=\"211.839207\"/>\r\n      </g>\r\n     </g>\r\n     <g id=\"text_12\">\r\n      <!-- 0.0004 -->\r\n      <g transform=\"translate(20.878125 215.638426)scale(0.1 -0.1)\">\r\n       <use xlink:href=\"#DejaVuSans-48\"/>\r\n       <use x=\"63.623047\" xlink:href=\"#DejaVuSans-46\"/>\r\n       <use x=\"95.410156\" xlink:href=\"#DejaVuSans-48\"/>\r\n       <use x=\"159.033203\" xlink:href=\"#DejaVuSans-48\"/>\r\n       <use x=\"222.65625\" xlink:href=\"#DejaVuSans-48\"/>\r\n       <use x=\"286.279297\" xlink:href=\"#DejaVuSans-52\"/>\r\n      </g>\r\n     </g>\r\n    </g>\r\n    <g id=\"ytick_4\">\r\n     <g id=\"line2d_12\">\r\n      <g>\r\n       <use style=\"stroke:#000000;stroke-width:0.8;\" x=\"62.86875\" xlink:href=\"#m72b5f64ba2\" y=\"170.597561\"/>\r\n      </g>\r\n     </g>\r\n     <g id=\"text_13\">\r\n      <!-- 0.0006 -->\r\n      <g transform=\"translate(20.878125 174.396779)scale(0.1 -0.1)\">\r\n       <use xlink:href=\"#DejaVuSans-48\"/>\r\n       <use x=\"63.623047\" xlink:href=\"#DejaVuSans-46\"/>\r\n       <use x=\"95.410156\" xlink:href=\"#DejaVuSans-48\"/>\r\n       <use x=\"159.033203\" xlink:href=\"#DejaVuSans-48\"/>\r\n       <use x=\"222.65625\" xlink:href=\"#DejaVuSans-48\"/>\r\n       <use x=\"286.279297\" xlink:href=\"#DejaVuSans-54\"/>\r\n      </g>\r\n     </g>\r\n    </g>\r\n    <g id=\"ytick_5\">\r\n     <g id=\"line2d_13\">\r\n      <g>\r\n       <use style=\"stroke:#000000;stroke-width:0.8;\" x=\"62.86875\" xlink:href=\"#m72b5f64ba2\" y=\"129.355914\"/>\r\n      </g>\r\n     </g>\r\n     <g id=\"text_14\">\r\n      <!-- 0.0008 -->\r\n      <defs>\r\n       <path d=\"M 31.78125 34.625 \r\nQ 24.75 34.625 20.71875 30.859375 \r\nQ 16.703125 27.09375 16.703125 20.515625 \r\nQ 16.703125 13.921875 20.71875 10.15625 \r\nQ 24.75 6.390625 31.78125 6.390625 \r\nQ 38.8125 6.390625 42.859375 10.171875 \r\nQ 46.921875 13.96875 46.921875 20.515625 \r\nQ 46.921875 27.09375 42.890625 30.859375 \r\nQ 38.875 34.625 31.78125 34.625 \r\nz\r\nM 21.921875 38.8125 \r\nQ 15.578125 40.375 12.03125 44.71875 \r\nQ 8.5 49.078125 8.5 55.328125 \r\nQ 8.5 64.0625 14.71875 69.140625 \r\nQ 20.953125 74.21875 31.78125 74.21875 \r\nQ 42.671875 74.21875 48.875 69.140625 \r\nQ 55.078125 64.0625 55.078125 55.328125 \r\nQ 55.078125 49.078125 51.53125 44.71875 \r\nQ 48 40.375 41.703125 38.8125 \r\nQ 48.828125 37.15625 52.796875 32.3125 \r\nQ 56.78125 27.484375 56.78125 20.515625 \r\nQ 56.78125 9.90625 50.3125 4.234375 \r\nQ 43.84375 -1.421875 31.78125 -1.421875 \r\nQ 19.734375 -1.421875 13.25 4.234375 \r\nQ 6.78125 9.90625 6.78125 20.515625 \r\nQ 6.78125 27.484375 10.78125 32.3125 \r\nQ 14.796875 37.15625 21.921875 38.8125 \r\nz\r\nM 18.3125 54.390625 \r\nQ 18.3125 48.734375 21.84375 45.5625 \r\nQ 25.390625 42.390625 31.78125 42.390625 \r\nQ 38.140625 42.390625 41.71875 45.5625 \r\nQ 45.3125 48.734375 45.3125 54.390625 \r\nQ 45.3125 60.0625 41.71875 63.234375 \r\nQ 38.140625 66.40625 31.78125 66.40625 \r\nQ 25.390625 66.40625 21.84375 63.234375 \r\nQ 18.3125 60.0625 18.3125 54.390625 \r\nz\r\n\" id=\"DejaVuSans-56\"/>\r\n      </defs>\r\n      <g transform=\"translate(20.878125 133.155133)scale(0.1 -0.1)\">\r\n       <use xlink:href=\"#DejaVuSans-48\"/>\r\n       <use x=\"63.623047\" xlink:href=\"#DejaVuSans-46\"/>\r\n       <use x=\"95.410156\" xlink:href=\"#DejaVuSans-48\"/>\r\n       <use x=\"159.033203\" xlink:href=\"#DejaVuSans-48\"/>\r\n       <use x=\"222.65625\" xlink:href=\"#DejaVuSans-48\"/>\r\n       <use x=\"286.279297\" xlink:href=\"#DejaVuSans-56\"/>\r\n      </g>\r\n     </g>\r\n    </g>\r\n    <g id=\"ytick_6\">\r\n     <g id=\"line2d_14\">\r\n      <g>\r\n       <use style=\"stroke:#000000;stroke-width:0.8;\" x=\"62.86875\" xlink:href=\"#m72b5f64ba2\" y=\"88.114268\"/>\r\n      </g>\r\n     </g>\r\n     <g id=\"text_15\">\r\n      <!-- 0.0010 -->\r\n      <g transform=\"translate(20.878125 91.913486)scale(0.1 -0.1)\">\r\n       <use xlink:href=\"#DejaVuSans-48\"/>\r\n       <use x=\"63.623047\" xlink:href=\"#DejaVuSans-46\"/>\r\n       <use x=\"95.410156\" xlink:href=\"#DejaVuSans-48\"/>\r\n       <use x=\"159.033203\" xlink:href=\"#DejaVuSans-48\"/>\r\n       <use x=\"222.65625\" xlink:href=\"#DejaVuSans-49\"/>\r\n       <use x=\"286.279297\" xlink:href=\"#DejaVuSans-48\"/>\r\n      </g>\r\n     </g>\r\n    </g>\r\n    <g id=\"ytick_7\">\r\n     <g id=\"line2d_15\">\r\n      <g>\r\n       <use style=\"stroke:#000000;stroke-width:0.8;\" x=\"62.86875\" xlink:href=\"#m72b5f64ba2\" y=\"46.872621\"/>\r\n      </g>\r\n     </g>\r\n     <g id=\"text_16\">\r\n      <!-- 0.0012 -->\r\n      <g transform=\"translate(20.878125 50.67184)scale(0.1 -0.1)\">\r\n       <use xlink:href=\"#DejaVuSans-48\"/>\r\n       <use x=\"63.623047\" xlink:href=\"#DejaVuSans-46\"/>\r\n       <use x=\"95.410156\" xlink:href=\"#DejaVuSans-48\"/>\r\n       <use x=\"159.033203\" xlink:href=\"#DejaVuSans-48\"/>\r\n       <use x=\"222.65625\" xlink:href=\"#DejaVuSans-49\"/>\r\n       <use x=\"286.279297\" xlink:href=\"#DejaVuSans-50\"/>\r\n      </g>\r\n     </g>\r\n    </g>\r\n    <g id=\"text_17\">\r\n     <!-- densidade -->\r\n     <defs>\r\n      <path d=\"M 45.40625 46.390625 \r\nL 45.40625 75.984375 \r\nL 54.390625 75.984375 \r\nL 54.390625 0 \r\nL 45.40625 0 \r\nL 45.40625 8.203125 \r\nQ 42.578125 3.328125 38.25 0.953125 \r\nQ 33.9375 -1.421875 27.875 -1.421875 \r\nQ 17.96875 -1.421875 11.734375 6.484375 \r\nQ 5.515625 14.40625 5.515625 27.296875 \r\nQ 5.515625 40.1875 11.734375 48.09375 \r\nQ 17.96875 56 27.875 56 \r\nQ 33.9375 56 38.25 53.625 \r\nQ 42.578125 51.265625 45.40625 46.390625 \r\nz\r\nM 14.796875 27.296875 \r\nQ 14.796875 17.390625 18.875 11.75 \r\nQ 22.953125 6.109375 30.078125 6.109375 \r\nQ 37.203125 6.109375 41.296875 11.75 \r\nQ 45.40625 17.390625 45.40625 27.296875 \r\nQ 45.40625 37.203125 41.296875 42.84375 \r\nQ 37.203125 48.484375 30.078125 48.484375 \r\nQ 22.953125 48.484375 18.875 42.84375 \r\nQ 14.796875 37.203125 14.796875 27.296875 \r\nz\r\n\" id=\"DejaVuSans-100\"/>\r\n      <path d=\"M 44.28125 53.078125 \r\nL 44.28125 44.578125 \r\nQ 40.484375 46.53125 36.375 47.5 \r\nQ 32.28125 48.484375 27.875 48.484375 \r\nQ 21.1875 48.484375 17.84375 46.4375 \r\nQ 14.5 44.390625 14.5 40.28125 \r\nQ 14.5 37.15625 16.890625 35.375 \r\nQ 19.28125 33.59375 26.515625 31.984375 \r\nL 29.59375 31.296875 \r\nQ 39.15625 29.25 43.1875 25.515625 \r\nQ 47.21875 21.78125 47.21875 15.09375 \r\nQ 47.21875 7.46875 41.1875 3.015625 \r\nQ 35.15625 -1.421875 24.609375 -1.421875 \r\nQ 20.21875 -1.421875 15.453125 -0.5625 \r\nQ 10.6875 0.296875 5.421875 2 \r\nL 5.421875 11.28125 \r\nQ 10.40625 8.6875 15.234375 7.390625 \r\nQ 20.0625 6.109375 24.8125 6.109375 \r\nQ 31.15625 6.109375 34.5625 8.28125 \r\nQ 37.984375 10.453125 37.984375 14.40625 \r\nQ 37.984375 18.0625 35.515625 20.015625 \r\nQ 33.0625 21.96875 24.703125 23.78125 \r\nL 21.578125 24.515625 \r\nQ 13.234375 26.265625 9.515625 29.90625 \r\nQ 5.8125 33.546875 5.8125 39.890625 \r\nQ 5.8125 47.609375 11.28125 51.796875 \r\nQ 16.75 56 26.8125 56 \r\nQ 31.78125 56 36.171875 55.265625 \r\nQ 40.578125 54.546875 44.28125 53.078125 \r\nz\r\n\" id=\"DejaVuSans-115\"/>\r\n      <path d=\"M 9.421875 54.6875 \r\nL 18.40625 54.6875 \r\nL 18.40625 0 \r\nL 9.421875 0 \r\nz\r\nM 9.421875 75.984375 \r\nL 18.40625 75.984375 \r\nL 18.40625 64.59375 \r\nL 9.421875 64.59375 \r\nz\r\n\" id=\"DejaVuSans-105\"/>\r\n     </defs>\r\n     <g transform=\"translate(14.798438 184.324844)rotate(-90)scale(0.1 -0.1)\">\r\n      <use xlink:href=\"#DejaVuSans-100\"/>\r\n      <use x=\"63.476562\" xlink:href=\"#DejaVuSans-101\"/>\r\n      <use x=\"125\" xlink:href=\"#DejaVuSans-110\"/>\r\n      <use x=\"188.378906\" xlink:href=\"#DejaVuSans-115\"/>\r\n      <use x=\"240.478516\" xlink:href=\"#DejaVuSans-105\"/>\r\n      <use x=\"268.261719\" xlink:href=\"#DejaVuSans-100\"/>\r\n      <use x=\"331.738281\" xlink:href=\"#DejaVuSans-97\"/>\r\n      <use x=\"393.017578\" xlink:href=\"#DejaVuSans-100\"/>\r\n      <use x=\"456.494141\" xlink:href=\"#DejaVuSans-101\"/>\r\n     </g>\r\n    </g>\r\n   </g>\r\n   <g id=\"patch_33\">\r\n    <path d=\"M 62.86875 294.3225 \r\nL 62.86875 22.5225 \r\n\" style=\"fill:none;stroke:#000000;stroke-linecap:square;stroke-linejoin:miter;stroke-width:0.8;\"/>\r\n   </g>\r\n   <g id=\"patch_34\">\r\n    <path d=\"M 844.06875 294.3225 \r\nL 844.06875 22.5225 \r\n\" style=\"fill:none;stroke:#000000;stroke-linecap:square;stroke-linejoin:miter;stroke-width:0.8;\"/>\r\n   </g>\r\n   <g id=\"patch_35\">\r\n    <path d=\"M 62.86875 294.3225 \r\nL 844.06875 294.3225 \r\n\" style=\"fill:none;stroke:#000000;stroke-linecap:square;stroke-linejoin:miter;stroke-width:0.8;\"/>\r\n   </g>\r\n   <g id=\"patch_36\">\r\n    <path d=\"M 62.86875 22.5225 \r\nL 844.06875 22.5225 \r\n\" style=\"fill:none;stroke:#000000;stroke-linecap:square;stroke-linejoin:miter;stroke-width:0.8;\"/>\r\n   </g>\r\n   <g id=\"text_18\">\r\n    <!-- Concentração de Creatinofosfoquinase no sangue -->\r\n    <defs>\r\n     <path d=\"M 64.40625 67.28125 \r\nL 64.40625 56.890625 \r\nQ 59.421875 61.53125 53.78125 63.8125 \r\nQ 48.140625 66.109375 41.796875 66.109375 \r\nQ 29.296875 66.109375 22.65625 58.46875 \r\nQ 16.015625 50.828125 16.015625 36.375 \r\nQ 16.015625 21.96875 22.65625 14.328125 \r\nQ 29.296875 6.6875 41.796875 6.6875 \r\nQ 48.140625 6.6875 53.78125 8.984375 \r\nQ 59.421875 11.28125 64.40625 15.921875 \r\nL 64.40625 5.609375 \r\nQ 59.234375 2.09375 53.4375 0.328125 \r\nQ 47.65625 -1.421875 41.21875 -1.421875 \r\nQ 24.65625 -1.421875 15.125 8.703125 \r\nQ 5.609375 18.84375 5.609375 36.375 \r\nQ 5.609375 53.953125 15.125 64.078125 \r\nQ 24.65625 74.21875 41.21875 74.21875 \r\nQ 47.75 74.21875 53.53125 72.484375 \r\nQ 59.328125 70.75 64.40625 67.28125 \r\nz\r\n\" id=\"DejaVuSans-67\"/>\r\n     <path id=\"DejaVuSans-32\"/>\r\n     <path d=\"M 37.109375 75.984375 \r\nL 37.109375 68.5 \r\nL 28.515625 68.5 \r\nQ 23.6875 68.5 21.796875 66.546875 \r\nQ 19.921875 64.59375 19.921875 59.515625 \r\nL 19.921875 54.6875 \r\nL 34.71875 54.6875 \r\nL 34.71875 47.703125 \r\nL 19.921875 47.703125 \r\nL 19.921875 0 \r\nL 10.890625 0 \r\nL 10.890625 47.703125 \r\nL 2.296875 47.703125 \r\nL 2.296875 54.6875 \r\nL 10.890625 54.6875 \r\nL 10.890625 58.5 \r\nQ 10.890625 67.625 15.140625 71.796875 \r\nQ 19.390625 75.984375 28.609375 75.984375 \r\nz\r\n\" id=\"DejaVuSans-102\"/>\r\n     <path d=\"M 14.796875 27.296875 \r\nQ 14.796875 17.390625 18.875 11.75 \r\nQ 22.953125 6.109375 30.078125 6.109375 \r\nQ 37.203125 6.109375 41.296875 11.75 \r\nQ 45.40625 17.390625 45.40625 27.296875 \r\nQ 45.40625 37.203125 41.296875 42.84375 \r\nQ 37.203125 48.484375 30.078125 48.484375 \r\nQ 22.953125 48.484375 18.875 42.84375 \r\nQ 14.796875 37.203125 14.796875 27.296875 \r\nz\r\nM 45.40625 8.203125 \r\nQ 42.578125 3.328125 38.25 0.953125 \r\nQ 33.9375 -1.421875 27.875 -1.421875 \r\nQ 17.96875 -1.421875 11.734375 6.484375 \r\nQ 5.515625 14.40625 5.515625 27.296875 \r\nQ 5.515625 40.1875 11.734375 48.09375 \r\nQ 17.96875 56 27.875 56 \r\nQ 33.9375 56 38.25 53.625 \r\nQ 42.578125 51.265625 45.40625 46.390625 \r\nL 45.40625 54.6875 \r\nL 54.390625 54.6875 \r\nL 54.390625 -20.796875 \r\nL 45.40625 -20.796875 \r\nz\r\n\" id=\"DejaVuSans-113\"/>\r\n     <path d=\"M 8.5 21.578125 \r\nL 8.5 54.6875 \r\nL 17.484375 54.6875 \r\nL 17.484375 21.921875 \r\nQ 17.484375 14.15625 20.5 10.265625 \r\nQ 23.53125 6.390625 29.59375 6.390625 \r\nQ 36.859375 6.390625 41.078125 11.03125 \r\nQ 45.3125 15.671875 45.3125 23.6875 \r\nL 45.3125 54.6875 \r\nL 54.296875 54.6875 \r\nL 54.296875 0 \r\nL 45.3125 0 \r\nL 45.3125 8.40625 \r\nQ 42.046875 3.421875 37.71875 1 \r\nQ 33.40625 -1.421875 27.6875 -1.421875 \r\nQ 18.265625 -1.421875 13.375 4.4375 \r\nQ 8.5 10.296875 8.5 21.578125 \r\nz\r\nM 31.109375 56 \r\nz\r\n\" id=\"DejaVuSans-117\"/>\r\n    </defs>\r\n    <g transform=\"translate(303.574687 16.5225)scale(0.12 -0.12)\">\r\n     <use xlink:href=\"#DejaVuSans-67\"/>\r\n     <use x=\"69.824219\" xlink:href=\"#DejaVuSans-111\"/>\r\n     <use x=\"131.005859\" xlink:href=\"#DejaVuSans-110\"/>\r\n     <use x=\"194.384766\" xlink:href=\"#DejaVuSans-99\"/>\r\n     <use x=\"249.365234\" xlink:href=\"#DejaVuSans-101\"/>\r\n     <use x=\"310.888672\" xlink:href=\"#DejaVuSans-110\"/>\r\n     <use x=\"374.267578\" xlink:href=\"#DejaVuSans-116\"/>\r\n     <use x=\"413.476562\" xlink:href=\"#DejaVuSans-114\"/>\r\n     <use x=\"454.589844\" xlink:href=\"#DejaVuSans-97\"/>\r\n     <use x=\"515.869141\" xlink:href=\"#DejaVuSans-231\"/>\r\n     <use x=\"570.849609\" xlink:href=\"#DejaVuSans-227\"/>\r\n     <use x=\"632.128906\" xlink:href=\"#DejaVuSans-111\"/>\r\n     <use x=\"693.310547\" xlink:href=\"#DejaVuSans-32\"/>\r\n     <use x=\"725.097656\" xlink:href=\"#DejaVuSans-100\"/>\r\n     <use x=\"788.574219\" xlink:href=\"#DejaVuSans-101\"/>\r\n     <use x=\"850.097656\" xlink:href=\"#DejaVuSans-32\"/>\r\n     <use x=\"881.884766\" xlink:href=\"#DejaVuSans-67\"/>\r\n     <use x=\"951.708984\" xlink:href=\"#DejaVuSans-114\"/>\r\n     <use x=\"992.791016\" xlink:href=\"#DejaVuSans-101\"/>\r\n     <use x=\"1054.314453\" xlink:href=\"#DejaVuSans-97\"/>\r\n     <use x=\"1115.59375\" xlink:href=\"#DejaVuSans-116\"/>\r\n     <use x=\"1154.802734\" xlink:href=\"#DejaVuSans-105\"/>\r\n     <use x=\"1182.585938\" xlink:href=\"#DejaVuSans-110\"/>\r\n     <use x=\"1245.964844\" xlink:href=\"#DejaVuSans-111\"/>\r\n     <use x=\"1307.146484\" xlink:href=\"#DejaVuSans-102\"/>\r\n     <use x=\"1342.351562\" xlink:href=\"#DejaVuSans-111\"/>\r\n     <use x=\"1403.533203\" xlink:href=\"#DejaVuSans-115\"/>\r\n     <use x=\"1455.632812\" xlink:href=\"#DejaVuSans-102\"/>\r\n     <use x=\"1490.837891\" xlink:href=\"#DejaVuSans-111\"/>\r\n     <use x=\"1552.019531\" xlink:href=\"#DejaVuSans-113\"/>\r\n     <use x=\"1615.496094\" xlink:href=\"#DejaVuSans-117\"/>\r\n     <use x=\"1678.875\" xlink:href=\"#DejaVuSans-105\"/>\r\n     <use x=\"1706.658203\" xlink:href=\"#DejaVuSans-110\"/>\r\n     <use x=\"1770.037109\" xlink:href=\"#DejaVuSans-97\"/>\r\n     <use x=\"1831.316406\" xlink:href=\"#DejaVuSans-115\"/>\r\n     <use x=\"1883.416016\" xlink:href=\"#DejaVuSans-101\"/>\r\n     <use x=\"1944.939453\" xlink:href=\"#DejaVuSans-32\"/>\r\n     <use x=\"1976.726562\" xlink:href=\"#DejaVuSans-110\"/>\r\n     <use x=\"2040.105469\" xlink:href=\"#DejaVuSans-111\"/>\r\n     <use x=\"2101.287109\" xlink:href=\"#DejaVuSans-32\"/>\r\n     <use x=\"2133.074219\" xlink:href=\"#DejaVuSans-115\"/>\r\n     <use x=\"2185.173828\" xlink:href=\"#DejaVuSans-97\"/>\r\n     <use x=\"2246.453125\" xlink:href=\"#DejaVuSans-110\"/>\r\n     <use x=\"2309.832031\" xlink:href=\"#DejaVuSans-103\"/>\r\n     <use x=\"2373.308594\" xlink:href=\"#DejaVuSans-117\"/>\r\n     <use x=\"2436.6875\" xlink:href=\"#DejaVuSans-101\"/>\r\n    </g>\r\n   </g>\r\n   <g id=\"legend_1\">\r\n    <g id=\"patch_37\">\r\n     <path d=\"M 798.70625 59.87875 \r\nL 837.06875 59.87875 \r\nQ 839.06875 59.87875 839.06875 57.87875 \r\nL 839.06875 29.5225 \r\nQ 839.06875 27.5225 837.06875 27.5225 \r\nL 798.70625 27.5225 \r\nQ 796.70625 27.5225 796.70625 29.5225 \r\nL 796.70625 57.87875 \r\nQ 796.70625 59.87875 798.70625 59.87875 \r\nz\r\n\" style=\"fill:#ffffff;opacity:0.8;stroke:#cccccc;stroke-linejoin:miter;\"/>\r\n    </g>\r\n    <g id=\"patch_38\">\r\n     <path d=\"M 800.70625 39.120937 \r\nL 820.70625 39.120937 \r\nL 820.70625 32.120937 \r\nL 800.70625 32.120937 \r\nz\r\n\" style=\"fill:#ff0000;stroke:#ffffff;stroke-linejoin:miter;\"/>\r\n    </g>\r\n    <g id=\"text_19\">\r\n     <!-- 1 -->\r\n     <g transform=\"translate(828.70625 39.120937)scale(0.1 -0.1)\">\r\n      <use xlink:href=\"#DejaVuSans-49\"/>\r\n     </g>\r\n    </g>\r\n    <g id=\"patch_39\">\r\n     <path d=\"M 800.70625 53.799062 \r\nL 820.70625 53.799062 \r\nL 820.70625 46.799062 \r\nL 800.70625 46.799062 \r\nz\r\n\" style=\"fill:#87ceeb;opacity:0.8;stroke:#ffffff;stroke-linejoin:miter;\"/>\r\n    </g>\r\n    <g id=\"text_20\">\r\n     <!-- 0 -->\r\n     <g transform=\"translate(828.70625 53.799062)scale(0.1 -0.1)\">\r\n      <use xlink:href=\"#DejaVuSans-48\"/>\r\n     </g>\r\n    </g>\r\n   </g>\r\n  </g>\r\n </g>\r\n <defs>\r\n  <clipPath id=\"p82d2ecf237\">\r\n   <rect height=\"271.8\" width=\"781.2\" x=\"62.86875\" y=\"22.5225\"/>\r\n  </clipPath>\r\n </defs>\r\n</svg>\r\n",
      "image/png": "[encoded data removed]"
     },
     "metadata": {
      "needs_background": "light"
     }
    }
   ],
   "source": [
    "#Histograma da idade dos sobreviventes e não sobreviventes\n",
    "faixas = np.arange(23,7861,500)\n",
    "plt.figure(figsize=(14, 5))\n",
    "plt.hist(dead.creatinine_phosphokinase, bins=faixas, density=True, color='red', edgecolor='white', linewidth=1)\n",
    "plt.hist(not_dead.creatinine_phosphokinase, bins=faixas, density=True, color='skyblue', edgecolor='white', linewidth=1, alpha=0.8)\n",
    "plt.legend('10')\n",
    "plt.title('Concentração de Creatinofosfoquinase no sangue')\n",
    "plt.xlabel('concentração[mcg/L]')\n",
    "plt.ylabel('densidade')\n",
    "plt.show()"
   ]
  },
  {
   "source": [
    "Com este histograma foi possível compreender que as taxas de concentração de creatinofosfoquinase não interferem de maneira expressiva nas taxas de mortalidade.\n"
   ],
   "cell_type": "markdown",
   "metadata": {}
  },
  {
   "source": [],
   "cell_type": "markdown",
   "metadata": {}
  },
  {
   "cell_type": "code",
   "execution_count": 17,
   "metadata": {},
   "outputs": [
    {
     "output_type": "display_data",
     "data": {
      "text/plain": "<Figure size 1008x360 with 1 Axes>",
      "image/svg+xml": "<?xml version=\"1.0\" encoding=\"utf-8\" standalone=\"no\"?>\r\n<!DOCTYPE svg PUBLIC \"-//W3C//DTD SVG 1.1//EN\"\r\n  \"http://www.w3.org/Graphics/SVG/1.1/DTD/svg11.dtd\">\r\n<!-- Created with matplotlib (https://matplotlib.org/) -->\r\n<svg height=\"331.9525pt\" version=\"1.1\" viewBox=\"0 0 838.54375 331.9525\" width=\"838.54375pt\" xmlns=\"http://www.w3.org/2000/svg\" xmlns:xlink=\"http://www.w3.org/1999/xlink\">\r\n <defs>\r\n  <style type=\"text/css\">\r\n*{stroke-linecap:butt;stroke-linejoin:round;}\r\n  </style>\r\n </defs>\r\n <g id=\"figure_1\">\r\n  <g id=\"patch_1\">\r\n   <path d=\"M 0 331.9525 \r\nL 838.54375 331.9525 \r\nL 838.54375 0 \r\nL 0 0 \r\nz\r\n\" style=\"fill:none;\"/>\r\n  </g>\r\n  <g id=\"axes_1\">\r\n   <g id=\"patch_2\">\r\n    <path d=\"M 50.14375 294.118125 \r\nL 831.34375 294.118125 \r\nL 831.34375 22.318125 \r\nL 50.14375 22.318125 \r\nz\r\n\" style=\"fill:#ffffff;\"/>\r\n   </g>\r\n   <g id=\"patch_3\">\r\n    <path clip-path=\"url(#p07a5bf4386)\" d=\"M 85.652841 294.118125 \r\nL 140.282212 294.118125 \r\nL 140.282212 261.600001 \r\nL 85.652841 261.600001 \r\nz\r\n\" style=\"fill:#ff0000;stroke:#ffffff;stroke-linejoin:miter;\"/>\r\n   </g>\r\n   <g id=\"patch_4\">\r\n    <path clip-path=\"url(#p07a5bf4386)\" d=\"M 140.282212 294.118125 \r\nL 194.911582 294.118125 \r\nL 194.911582 164.04563 \r\nL 140.282212 164.04563 \r\nz\r\n\" style=\"fill:#ff0000;stroke:#ffffff;stroke-linejoin:miter;\"/>\r\n   </g>\r\n   <g id=\"patch_5\">\r\n    <path clip-path=\"url(#p07a5bf4386)\" d=\"M 194.911582 294.118125 \r\nL 249.540953 294.118125 \r\nL 249.540953 147.786568 \r\nL 194.911582 147.786568 \r\nz\r\n\" style=\"fill:#ff0000;stroke:#ffffff;stroke-linejoin:miter;\"/>\r\n   </g>\r\n   <g id=\"patch_6\">\r\n    <path clip-path=\"url(#p07a5bf4386)\" d=\"M 249.540953 294.118125 \r\nL 304.170323 294.118125 \r\nL 304.170323 188.434223 \r\nL 249.540953 188.434223 \r\nz\r\n\" style=\"fill:#ff0000;stroke:#ffffff;stroke-linejoin:miter;\"/>\r\n   </g>\r\n   <g id=\"patch_7\">\r\n    <path clip-path=\"url(#p07a5bf4386)\" d=\"M 304.170323 294.118125 \r\nL 358.799694 294.118125 \r\nL 358.799694 115.268445 \r\nL 304.170323 115.268445 \r\nz\r\n\" style=\"fill:#ff0000;stroke:#ffffff;stroke-linejoin:miter;\"/>\r\n   </g>\r\n   <g id=\"patch_8\">\r\n    <path clip-path=\"url(#p07a5bf4386)\" d=\"M 358.799694 294.118125 \r\nL 413.429065 294.118125 \r\nL 413.429065 261.600001 \r\nL 358.799694 261.600001 \r\nz\r\n\" style=\"fill:#ff0000;stroke:#ffffff;stroke-linejoin:miter;\"/>\r\n   </g>\r\n   <g id=\"patch_9\">\r\n    <path clip-path=\"url(#p07a5bf4386)\" d=\"M 413.429065 294.118125 \r\nL 468.058435 294.118125 \r\nL 468.058435 253.47047 \r\nL 413.429065 253.47047 \r\nz\r\n\" style=\"fill:#ff0000;stroke:#ffffff;stroke-linejoin:miter;\"/>\r\n   </g>\r\n   <g id=\"patch_10\">\r\n    <path clip-path=\"url(#p07a5bf4386)\" d=\"M 468.058435 294.118125 \r\nL 522.687806 294.118125 \r\nL 522.687806 245.340939 \r\nL 468.058435 245.340939 \r\nz\r\n\" style=\"fill:#ff0000;stroke:#ffffff;stroke-linejoin:miter;\"/>\r\n   </g>\r\n   <g id=\"patch_11\">\r\n    <path clip-path=\"url(#p07a5bf4386)\" d=\"M 522.687806 294.118125 \r\nL 577.317177 294.118125 \r\nL 577.317177 285.988594 \r\nL 522.687806 285.988594 \r\nz\r\n\" style=\"fill:#ff0000;stroke:#ffffff;stroke-linejoin:miter;\"/>\r\n   </g>\r\n   <g id=\"patch_12\">\r\n    <path clip-path=\"url(#p07a5bf4386)\" d=\"M 577.317177 294.118125 \r\nL 631.946547 294.118125 \r\nL 631.946547 253.47047 \r\nL 577.317177 253.47047 \r\nz\r\n\" style=\"fill:#ff0000;stroke:#ffffff;stroke-linejoin:miter;\"/>\r\n   </g>\r\n   <g id=\"patch_13\">\r\n    <path clip-path=\"url(#p07a5bf4386)\" d=\"M 631.946547 294.118125 \r\nL 686.575918 294.118125 \r\nL 686.575918 285.988594 \r\nL 631.946547 285.988594 \r\nz\r\n\" style=\"fill:#ff0000;stroke:#ffffff;stroke-linejoin:miter;\"/>\r\n   </g>\r\n   <g id=\"patch_14\">\r\n    <path clip-path=\"url(#p07a5bf4386)\" d=\"M 686.575918 294.118125 \r\nL 741.205288 294.118125 \r\nL 741.205288 285.988594 \r\nL 686.575918 285.988594 \r\nz\r\n\" style=\"fill:#ff0000;stroke:#ffffff;stroke-linejoin:miter;\"/>\r\n   </g>\r\n   <g id=\"patch_15\">\r\n    <path clip-path=\"url(#p07a5bf4386)\" d=\"M 741.205288 294.118125 \r\nL 795.834659 294.118125 \r\nL 795.834659 294.118125 \r\nL 741.205288 294.118125 \r\nz\r\n\" style=\"fill:#ff0000;stroke:#ffffff;stroke-linejoin:miter;\"/>\r\n   </g>\r\n   <g id=\"patch_16\">\r\n    <path clip-path=\"url(#p07a5bf4386)\" d=\"M 85.652841 294.118125 \r\nL 140.282212 294.118125 \r\nL 140.282212 290.254586 \r\nL 85.652841 290.254586 \r\nz\r\n\" style=\"fill:#87ceeb;opacity:0.8;stroke:#ffffff;stroke-linejoin:miter;\"/>\r\n   </g>\r\n   <g id=\"patch_17\">\r\n    <path clip-path=\"url(#p07a5bf4386)\" d=\"M 140.282212 294.118125 \r\nL 194.911582 294.118125 \r\nL 194.911582 286.391046 \r\nL 140.282212 286.391046 \r\nz\r\n\" style=\"fill:#87ceeb;opacity:0.8;stroke:#ffffff;stroke-linejoin:miter;\"/>\r\n   </g>\r\n   <g id=\"patch_18\">\r\n    <path clip-path=\"url(#p07a5bf4386)\" d=\"M 194.911582 294.118125 \r\nL 249.540953 294.118125 \r\nL 249.540953 224.574415 \r\nL 194.911582 224.574415 \r\nz\r\n\" style=\"fill:#87ceeb;opacity:0.8;stroke:#ffffff;stroke-linejoin:miter;\"/>\r\n   </g>\r\n   <g id=\"patch_19\">\r\n    <path clip-path=\"url(#p07a5bf4386)\" d=\"M 249.540953 294.118125 \r\nL 304.170323 294.118125 \r\nL 304.170323 212.983797 \r\nL 249.540953 212.983797 \r\nz\r\n\" style=\"fill:#87ceeb;opacity:0.8;stroke:#ffffff;stroke-linejoin:miter;\"/>\r\n   </g>\r\n   <g id=\"patch_20\">\r\n    <path clip-path=\"url(#p07a5bf4386)\" d=\"M 304.170323 294.118125 \r\nL 358.799694 294.118125 \r\nL 358.799694 35.260982 \r\nL 304.170323 35.260982 \r\nz\r\n\" style=\"fill:#87ceeb;opacity:0.8;stroke:#ffffff;stroke-linejoin:miter;\"/>\r\n   </g>\r\n   <g id=\"patch_21\">\r\n    <path clip-path=\"url(#p07a5bf4386)\" d=\"M 358.799694 294.118125 \r\nL 413.429065 294.118125 \r\nL 413.429065 166.621323 \r\nL 358.799694 166.621323 \r\nz\r\n\" style=\"fill:#87ceeb;opacity:0.8;stroke:#ffffff;stroke-linejoin:miter;\"/>\r\n   </g>\r\n   <g id=\"patch_22\">\r\n    <path clip-path=\"url(#p07a5bf4386)\" d=\"M 413.429065 294.118125 \r\nL 468.058435 294.118125 \r\nL 468.058435 236.165033 \r\nL 413.429065 236.165033 \r\nz\r\n\" style=\"fill:#87ceeb;opacity:0.8;stroke:#ffffff;stroke-linejoin:miter;\"/>\r\n   </g>\r\n   <g id=\"patch_23\">\r\n    <path clip-path=\"url(#p07a5bf4386)\" d=\"M 468.058435 294.118125 \r\nL 522.687806 294.118125 \r\nL 522.687806 236.165033 \r\nL 468.058435 236.165033 \r\nz\r\n\" style=\"fill:#87ceeb;opacity:0.8;stroke:#ffffff;stroke-linejoin:miter;\"/>\r\n   </g>\r\n   <g id=\"patch_24\">\r\n    <path clip-path=\"url(#p07a5bf4386)\" d=\"M 522.687806 294.118125 \r\nL 577.317177 294.118125 \r\nL 577.317177 286.391046 \r\nL 522.687806 286.391046 \r\nz\r\n\" style=\"fill:#87ceeb;opacity:0.8;stroke:#ffffff;stroke-linejoin:miter;\"/>\r\n   </g>\r\n   <g id=\"patch_25\">\r\n    <path clip-path=\"url(#p07a5bf4386)\" d=\"M 577.317177 294.118125 \r\nL 631.946547 294.118125 \r\nL 631.946547 185.939021 \r\nL 577.317177 185.939021 \r\nz\r\n\" style=\"fill:#87ceeb;opacity:0.8;stroke:#ffffff;stroke-linejoin:miter;\"/>\r\n   </g>\r\n   <g id=\"patch_26\">\r\n    <path clip-path=\"url(#p07a5bf4386)\" d=\"M 631.946547 294.118125 \r\nL 686.575918 294.118125 \r\nL 686.575918 294.118125 \r\nL 631.946547 294.118125 \r\nz\r\n\" style=\"fill:#87ceeb;opacity:0.8;stroke:#ffffff;stroke-linejoin:miter;\"/>\r\n   </g>\r\n   <g id=\"patch_27\">\r\n    <path clip-path=\"url(#p07a5bf4386)\" d=\"M 686.575918 294.118125 \r\nL 741.205288 294.118125 \r\nL 741.205288 294.118125 \r\nL 686.575918 294.118125 \r\nz\r\n\" style=\"fill:#87ceeb;opacity:0.8;stroke:#ffffff;stroke-linejoin:miter;\"/>\r\n   </g>\r\n   <g id=\"patch_28\">\r\n    <path clip-path=\"url(#p07a5bf4386)\" d=\"M 741.205288 294.118125 \r\nL 795.834659 294.118125 \r\nL 795.834659 294.118125 \r\nL 741.205288 294.118125 \r\nz\r\n\" style=\"fill:#87ceeb;opacity:0.8;stroke:#ffffff;stroke-linejoin:miter;\"/>\r\n   </g>\r\n   <g id=\"matplotlib.axis_1\">\r\n    <g id=\"xtick_1\">\r\n     <g id=\"line2d_1\">\r\n      <defs>\r\n       <path d=\"M 0 0 \r\nL 0 3.5 \r\n\" id=\"m1d5cbacd4a\" style=\"stroke:#000000;stroke-width:0.8;\"/>\r\n      </defs>\r\n      <g>\r\n       <use style=\"stroke:#000000;stroke-width:0.8;\" x=\"151.208086\" xlink:href=\"#m1d5cbacd4a\" y=\"294.118125\"/>\r\n      </g>\r\n     </g>\r\n     <g id=\"text_1\">\r\n      <!-- 20 -->\r\n      <defs>\r\n       <path d=\"M 19.1875 8.296875 \r\nL 53.609375 8.296875 \r\nL 53.609375 0 \r\nL 7.328125 0 \r\nL 7.328125 8.296875 \r\nQ 12.9375 14.109375 22.625 23.890625 \r\nQ 32.328125 33.6875 34.8125 36.53125 \r\nQ 39.546875 41.84375 41.421875 45.53125 \r\nQ 43.3125 49.21875 43.3125 52.78125 \r\nQ 43.3125 58.59375 39.234375 62.25 \r\nQ 35.15625 65.921875 28.609375 65.921875 \r\nQ 23.96875 65.921875 18.8125 64.3125 \r\nQ 13.671875 62.703125 7.8125 59.421875 \r\nL 7.8125 69.390625 \r\nQ 13.765625 71.78125 18.9375 73 \r\nQ 24.125 74.21875 28.421875 74.21875 \r\nQ 39.75 74.21875 46.484375 68.546875 \r\nQ 53.21875 62.890625 53.21875 53.421875 \r\nQ 53.21875 48.921875 51.53125 44.890625 \r\nQ 49.859375 40.875 45.40625 35.40625 \r\nQ 44.1875 33.984375 37.640625 27.21875 \r\nQ 31.109375 20.453125 19.1875 8.296875 \r\nz\r\n\" id=\"DejaVuSans-50\"/>\r\n       <path d=\"M 31.78125 66.40625 \r\nQ 24.171875 66.40625 20.328125 58.90625 \r\nQ 16.5 51.421875 16.5 36.375 \r\nQ 16.5 21.390625 20.328125 13.890625 \r\nQ 24.171875 6.390625 31.78125 6.390625 \r\nQ 39.453125 6.390625 43.28125 13.890625 \r\nQ 47.125 21.390625 47.125 36.375 \r\nQ 47.125 51.421875 43.28125 58.90625 \r\nQ 39.453125 66.40625 31.78125 66.40625 \r\nz\r\nM 31.78125 74.21875 \r\nQ 44.046875 74.21875 50.515625 64.515625 \r\nQ 56.984375 54.828125 56.984375 36.375 \r\nQ 56.984375 17.96875 50.515625 8.265625 \r\nQ 44.046875 -1.421875 31.78125 -1.421875 \r\nQ 19.53125 -1.421875 13.0625 8.265625 \r\nQ 6.59375 17.96875 6.59375 36.375 \r\nQ 6.59375 54.828125 13.0625 64.515625 \r\nQ 19.53125 74.21875 31.78125 74.21875 \r\nz\r\n\" id=\"DejaVuSans-48\"/>\r\n      </defs>\r\n      <g transform=\"translate(144.845586 308.716563)scale(0.1 -0.1)\">\r\n       <use xlink:href=\"#DejaVuSans-50\"/>\r\n       <use x=\"63.623047\" xlink:href=\"#DejaVuSans-48\"/>\r\n      </g>\r\n     </g>\r\n    </g>\r\n    <g id=\"xtick_2\">\r\n     <g id=\"line2d_2\">\r\n      <g>\r\n       <use style=\"stroke:#000000;stroke-width:0.8;\" x=\"260.466827\" xlink:href=\"#m1d5cbacd4a\" y=\"294.118125\"/>\r\n      </g>\r\n     </g>\r\n     <g id=\"text_2\">\r\n      <!-- 30 -->\r\n      <defs>\r\n       <path d=\"M 40.578125 39.3125 \r\nQ 47.65625 37.796875 51.625 33 \r\nQ 55.609375 28.21875 55.609375 21.1875 \r\nQ 55.609375 10.40625 48.1875 4.484375 \r\nQ 40.765625 -1.421875 27.09375 -1.421875 \r\nQ 22.515625 -1.421875 17.65625 -0.515625 \r\nQ 12.796875 0.390625 7.625 2.203125 \r\nL 7.625 11.71875 \r\nQ 11.71875 9.328125 16.59375 8.109375 \r\nQ 21.484375 6.890625 26.8125 6.890625 \r\nQ 36.078125 6.890625 40.9375 10.546875 \r\nQ 45.796875 14.203125 45.796875 21.1875 \r\nQ 45.796875 27.640625 41.28125 31.265625 \r\nQ 36.765625 34.90625 28.71875 34.90625 \r\nL 20.21875 34.90625 \r\nL 20.21875 43.015625 \r\nL 29.109375 43.015625 \r\nQ 36.375 43.015625 40.234375 45.921875 \r\nQ 44.09375 48.828125 44.09375 54.296875 \r\nQ 44.09375 59.90625 40.109375 62.90625 \r\nQ 36.140625 65.921875 28.71875 65.921875 \r\nQ 24.65625 65.921875 20.015625 65.03125 \r\nQ 15.375 64.15625 9.8125 62.3125 \r\nL 9.8125 71.09375 \r\nQ 15.4375 72.65625 20.34375 73.4375 \r\nQ 25.25 74.21875 29.59375 74.21875 \r\nQ 40.828125 74.21875 47.359375 69.109375 \r\nQ 53.90625 64.015625 53.90625 55.328125 \r\nQ 53.90625 49.265625 50.4375 45.09375 \r\nQ 46.96875 40.921875 40.578125 39.3125 \r\nz\r\n\" id=\"DejaVuSans-51\"/>\r\n      </defs>\r\n      <g transform=\"translate(254.104327 308.716563)scale(0.1 -0.1)\">\r\n       <use xlink:href=\"#DejaVuSans-51\"/>\r\n       <use x=\"63.623047\" xlink:href=\"#DejaVuSans-48\"/>\r\n      </g>\r\n     </g>\r\n    </g>\r\n    <g id=\"xtick_3\">\r\n     <g id=\"line2d_3\">\r\n      <g>\r\n       <use style=\"stroke:#000000;stroke-width:0.8;\" x=\"369.725568\" xlink:href=\"#m1d5cbacd4a\" y=\"294.118125\"/>\r\n      </g>\r\n     </g>\r\n     <g id=\"text_3\">\r\n      <!-- 40 -->\r\n      <defs>\r\n       <path d=\"M 37.796875 64.3125 \r\nL 12.890625 25.390625 \r\nL 37.796875 25.390625 \r\nz\r\nM 35.203125 72.90625 \r\nL 47.609375 72.90625 \r\nL 47.609375 25.390625 \r\nL 58.015625 25.390625 \r\nL 58.015625 17.1875 \r\nL 47.609375 17.1875 \r\nL 47.609375 0 \r\nL 37.796875 0 \r\nL 37.796875 17.1875 \r\nL 4.890625 17.1875 \r\nL 4.890625 26.703125 \r\nz\r\n\" id=\"DejaVuSans-52\"/>\r\n      </defs>\r\n      <g transform=\"translate(363.363068 308.716563)scale(0.1 -0.1)\">\r\n       <use xlink:href=\"#DejaVuSans-52\"/>\r\n       <use x=\"63.623047\" xlink:href=\"#DejaVuSans-48\"/>\r\n      </g>\r\n     </g>\r\n    </g>\r\n    <g id=\"xtick_4\">\r\n     <g id=\"line2d_4\">\r\n      <g>\r\n       <use style=\"stroke:#000000;stroke-width:0.8;\" x=\"478.984309\" xlink:href=\"#m1d5cbacd4a\" y=\"294.118125\"/>\r\n      </g>\r\n     </g>\r\n     <g id=\"text_4\">\r\n      <!-- 50 -->\r\n      <defs>\r\n       <path d=\"M 10.796875 72.90625 \r\nL 49.515625 72.90625 \r\nL 49.515625 64.59375 \r\nL 19.828125 64.59375 \r\nL 19.828125 46.734375 \r\nQ 21.96875 47.46875 24.109375 47.828125 \r\nQ 26.265625 48.1875 28.421875 48.1875 \r\nQ 40.625 48.1875 47.75 41.5 \r\nQ 54.890625 34.8125 54.890625 23.390625 \r\nQ 54.890625 11.625 47.5625 5.09375 \r\nQ 40.234375 -1.421875 26.90625 -1.421875 \r\nQ 22.3125 -1.421875 17.546875 -0.640625 \r\nQ 12.796875 0.140625 7.71875 1.703125 \r\nL 7.71875 11.625 \r\nQ 12.109375 9.234375 16.796875 8.0625 \r\nQ 21.484375 6.890625 26.703125 6.890625 \r\nQ 35.15625 6.890625 40.078125 11.328125 \r\nQ 45.015625 15.765625 45.015625 23.390625 \r\nQ 45.015625 31 40.078125 35.4375 \r\nQ 35.15625 39.890625 26.703125 39.890625 \r\nQ 22.75 39.890625 18.8125 39.015625 \r\nQ 14.890625 38.140625 10.796875 36.28125 \r\nz\r\n\" id=\"DejaVuSans-53\"/>\r\n      </defs>\r\n      <g transform=\"translate(472.621809 308.716563)scale(0.1 -0.1)\">\r\n       <use xlink:href=\"#DejaVuSans-53\"/>\r\n       <use x=\"63.623047\" xlink:href=\"#DejaVuSans-48\"/>\r\n      </g>\r\n     </g>\r\n    </g>\r\n    <g id=\"xtick_5\">\r\n     <g id=\"line2d_5\">\r\n      <g>\r\n       <use style=\"stroke:#000000;stroke-width:0.8;\" x=\"588.243051\" xlink:href=\"#m1d5cbacd4a\" y=\"294.118125\"/>\r\n      </g>\r\n     </g>\r\n     <g id=\"text_5\">\r\n      <!-- 60 -->\r\n      <defs>\r\n       <path d=\"M 33.015625 40.375 \r\nQ 26.375 40.375 22.484375 35.828125 \r\nQ 18.609375 31.296875 18.609375 23.390625 \r\nQ 18.609375 15.53125 22.484375 10.953125 \r\nQ 26.375 6.390625 33.015625 6.390625 \r\nQ 39.65625 6.390625 43.53125 10.953125 \r\nQ 47.40625 15.53125 47.40625 23.390625 \r\nQ 47.40625 31.296875 43.53125 35.828125 \r\nQ 39.65625 40.375 33.015625 40.375 \r\nz\r\nM 52.59375 71.296875 \r\nL 52.59375 62.3125 \r\nQ 48.875 64.0625 45.09375 64.984375 \r\nQ 41.3125 65.921875 37.59375 65.921875 \r\nQ 27.828125 65.921875 22.671875 59.328125 \r\nQ 17.53125 52.734375 16.796875 39.40625 \r\nQ 19.671875 43.65625 24.015625 45.921875 \r\nQ 28.375 48.1875 33.59375 48.1875 \r\nQ 44.578125 48.1875 50.953125 41.515625 \r\nQ 57.328125 34.859375 57.328125 23.390625 \r\nQ 57.328125 12.15625 50.6875 5.359375 \r\nQ 44.046875 -1.421875 33.015625 -1.421875 \r\nQ 20.359375 -1.421875 13.671875 8.265625 \r\nQ 6.984375 17.96875 6.984375 36.375 \r\nQ 6.984375 53.65625 15.1875 63.9375 \r\nQ 23.390625 74.21875 37.203125 74.21875 \r\nQ 40.921875 74.21875 44.703125 73.484375 \r\nQ 48.484375 72.75 52.59375 71.296875 \r\nz\r\n\" id=\"DejaVuSans-54\"/>\r\n      </defs>\r\n      <g transform=\"translate(581.880551 308.716563)scale(0.1 -0.1)\">\r\n       <use xlink:href=\"#DejaVuSans-54\"/>\r\n       <use x=\"63.623047\" xlink:href=\"#DejaVuSans-48\"/>\r\n      </g>\r\n     </g>\r\n    </g>\r\n    <g id=\"xtick_6\">\r\n     <g id=\"line2d_6\">\r\n      <g>\r\n       <use style=\"stroke:#000000;stroke-width:0.8;\" x=\"697.501792\" xlink:href=\"#m1d5cbacd4a\" y=\"294.118125\"/>\r\n      </g>\r\n     </g>\r\n     <g id=\"text_6\">\r\n      <!-- 70 -->\r\n      <defs>\r\n       <path d=\"M 8.203125 72.90625 \r\nL 55.078125 72.90625 \r\nL 55.078125 68.703125 \r\nL 28.609375 0 \r\nL 18.3125 0 \r\nL 43.21875 64.59375 \r\nL 8.203125 64.59375 \r\nz\r\n\" id=\"DejaVuSans-55\"/>\r\n      </defs>\r\n      <g transform=\"translate(691.139292 308.716563)scale(0.1 -0.1)\">\r\n       <use xlink:href=\"#DejaVuSans-55\"/>\r\n       <use x=\"63.623047\" xlink:href=\"#DejaVuSans-48\"/>\r\n      </g>\r\n     </g>\r\n    </g>\r\n    <g id=\"xtick_7\">\r\n     <g id=\"line2d_7\">\r\n      <g>\r\n       <use style=\"stroke:#000000;stroke-width:0.8;\" x=\"806.760533\" xlink:href=\"#m1d5cbacd4a\" y=\"294.118125\"/>\r\n      </g>\r\n     </g>\r\n     <g id=\"text_7\">\r\n      <!-- 80 -->\r\n      <defs>\r\n       <path d=\"M 31.78125 34.625 \r\nQ 24.75 34.625 20.71875 30.859375 \r\nQ 16.703125 27.09375 16.703125 20.515625 \r\nQ 16.703125 13.921875 20.71875 10.15625 \r\nQ 24.75 6.390625 31.78125 6.390625 \r\nQ 38.8125 6.390625 42.859375 10.171875 \r\nQ 46.921875 13.96875 46.921875 20.515625 \r\nQ 46.921875 27.09375 42.890625 30.859375 \r\nQ 38.875 34.625 31.78125 34.625 \r\nz\r\nM 21.921875 38.8125 \r\nQ 15.578125 40.375 12.03125 44.71875 \r\nQ 8.5 49.078125 8.5 55.328125 \r\nQ 8.5 64.0625 14.71875 69.140625 \r\nQ 20.953125 74.21875 31.78125 74.21875 \r\nQ 42.671875 74.21875 48.875 69.140625 \r\nQ 55.078125 64.0625 55.078125 55.328125 \r\nQ 55.078125 49.078125 51.53125 44.71875 \r\nQ 48 40.375 41.703125 38.8125 \r\nQ 48.828125 37.15625 52.796875 32.3125 \r\nQ 56.78125 27.484375 56.78125 20.515625 \r\nQ 56.78125 9.90625 50.3125 4.234375 \r\nQ 43.84375 -1.421875 31.78125 -1.421875 \r\nQ 19.734375 -1.421875 13.25 4.234375 \r\nQ 6.78125 9.90625 6.78125 20.515625 \r\nQ 6.78125 27.484375 10.78125 32.3125 \r\nQ 14.796875 37.15625 21.921875 38.8125 \r\nz\r\nM 18.3125 54.390625 \r\nQ 18.3125 48.734375 21.84375 45.5625 \r\nQ 25.390625 42.390625 31.78125 42.390625 \r\nQ 38.140625 42.390625 41.71875 45.5625 \r\nQ 45.3125 48.734375 45.3125 54.390625 \r\nQ 45.3125 60.0625 41.71875 63.234375 \r\nQ 38.140625 66.40625 31.78125 66.40625 \r\nQ 25.390625 66.40625 21.84375 63.234375 \r\nQ 18.3125 60.0625 18.3125 54.390625 \r\nz\r\n\" id=\"DejaVuSans-56\"/>\r\n      </defs>\r\n      <g transform=\"translate(800.398033 308.716563)scale(0.1 -0.1)\">\r\n       <use xlink:href=\"#DejaVuSans-56\"/>\r\n       <use x=\"63.623047\" xlink:href=\"#DejaVuSans-48\"/>\r\n      </g>\r\n     </g>\r\n    </g>\r\n    <g id=\"text_8\">\r\n     <!-- ejection_fraction[%] -->\r\n     <defs>\r\n      <path d=\"M 56.203125 29.59375 \r\nL 56.203125 25.203125 \r\nL 14.890625 25.203125 \r\nQ 15.484375 15.921875 20.484375 11.0625 \r\nQ 25.484375 6.203125 34.421875 6.203125 \r\nQ 39.59375 6.203125 44.453125 7.46875 \r\nQ 49.3125 8.734375 54.109375 11.28125 \r\nL 54.109375 2.78125 \r\nQ 49.265625 0.734375 44.1875 -0.34375 \r\nQ 39.109375 -1.421875 33.890625 -1.421875 \r\nQ 20.796875 -1.421875 13.15625 6.1875 \r\nQ 5.515625 13.8125 5.515625 26.8125 \r\nQ 5.515625 40.234375 12.765625 48.109375 \r\nQ 20.015625 56 32.328125 56 \r\nQ 43.359375 56 49.78125 48.890625 \r\nQ 56.203125 41.796875 56.203125 29.59375 \r\nz\r\nM 47.21875 32.234375 \r\nQ 47.125 39.59375 43.09375 43.984375 \r\nQ 39.0625 48.390625 32.421875 48.390625 \r\nQ 24.90625 48.390625 20.390625 44.140625 \r\nQ 15.875 39.890625 15.1875 32.171875 \r\nz\r\n\" id=\"DejaVuSans-101\"/>\r\n      <path d=\"M 9.421875 54.6875 \r\nL 18.40625 54.6875 \r\nL 18.40625 -0.984375 \r\nQ 18.40625 -11.421875 14.421875 -16.109375 \r\nQ 10.453125 -20.796875 1.609375 -20.796875 \r\nL -1.8125 -20.796875 \r\nL -1.8125 -13.1875 \r\nL 0.59375 -13.1875 \r\nQ 5.71875 -13.1875 7.5625 -10.8125 \r\nQ 9.421875 -8.453125 9.421875 -0.984375 \r\nz\r\nM 9.421875 75.984375 \r\nL 18.40625 75.984375 \r\nL 18.40625 64.59375 \r\nL 9.421875 64.59375 \r\nz\r\n\" id=\"DejaVuSans-106\"/>\r\n      <path d=\"M 48.78125 52.59375 \r\nL 48.78125 44.1875 \r\nQ 44.96875 46.296875 41.140625 47.34375 \r\nQ 37.3125 48.390625 33.40625 48.390625 \r\nQ 24.65625 48.390625 19.8125 42.84375 \r\nQ 14.984375 37.3125 14.984375 27.296875 \r\nQ 14.984375 17.28125 19.8125 11.734375 \r\nQ 24.65625 6.203125 33.40625 6.203125 \r\nQ 37.3125 6.203125 41.140625 7.25 \r\nQ 44.96875 8.296875 48.78125 10.40625 \r\nL 48.78125 2.09375 \r\nQ 45.015625 0.34375 40.984375 -0.53125 \r\nQ 36.96875 -1.421875 32.421875 -1.421875 \r\nQ 20.0625 -1.421875 12.78125 6.34375 \r\nQ 5.515625 14.109375 5.515625 27.296875 \r\nQ 5.515625 40.671875 12.859375 48.328125 \r\nQ 20.21875 56 33.015625 56 \r\nQ 37.15625 56 41.109375 55.140625 \r\nQ 45.0625 54.296875 48.78125 52.59375 \r\nz\r\n\" id=\"DejaVuSans-99\"/>\r\n      <path d=\"M 18.3125 70.21875 \r\nL 18.3125 54.6875 \r\nL 36.8125 54.6875 \r\nL 36.8125 47.703125 \r\nL 18.3125 47.703125 \r\nL 18.3125 18.015625 \r\nQ 18.3125 11.328125 20.140625 9.421875 \r\nQ 21.96875 7.515625 27.59375 7.515625 \r\nL 36.8125 7.515625 \r\nL 36.8125 0 \r\nL 27.59375 0 \r\nQ 17.1875 0 13.234375 3.875 \r\nQ 9.28125 7.765625 9.28125 18.015625 \r\nL 9.28125 47.703125 \r\nL 2.6875 47.703125 \r\nL 2.6875 54.6875 \r\nL 9.28125 54.6875 \r\nL 9.28125 70.21875 \r\nz\r\n\" id=\"DejaVuSans-116\"/>\r\n      <path d=\"M 9.421875 54.6875 \r\nL 18.40625 54.6875 \r\nL 18.40625 0 \r\nL 9.421875 0 \r\nz\r\nM 9.421875 75.984375 \r\nL 18.40625 75.984375 \r\nL 18.40625 64.59375 \r\nL 9.421875 64.59375 \r\nz\r\n\" id=\"DejaVuSans-105\"/>\r\n      <path d=\"M 30.609375 48.390625 \r\nQ 23.390625 48.390625 19.1875 42.75 \r\nQ 14.984375 37.109375 14.984375 27.296875 \r\nQ 14.984375 17.484375 19.15625 11.84375 \r\nQ 23.34375 6.203125 30.609375 6.203125 \r\nQ 37.796875 6.203125 41.984375 11.859375 \r\nQ 46.1875 17.53125 46.1875 27.296875 \r\nQ 46.1875 37.015625 41.984375 42.703125 \r\nQ 37.796875 48.390625 30.609375 48.390625 \r\nz\r\nM 30.609375 56 \r\nQ 42.328125 56 49.015625 48.375 \r\nQ 55.71875 40.765625 55.71875 27.296875 \r\nQ 55.71875 13.875 49.015625 6.21875 \r\nQ 42.328125 -1.421875 30.609375 -1.421875 \r\nQ 18.84375 -1.421875 12.171875 6.21875 \r\nQ 5.515625 13.875 5.515625 27.296875 \r\nQ 5.515625 40.765625 12.171875 48.375 \r\nQ 18.84375 56 30.609375 56 \r\nz\r\n\" id=\"DejaVuSans-111\"/>\r\n      <path d=\"M 54.890625 33.015625 \r\nL 54.890625 0 \r\nL 45.90625 0 \r\nL 45.90625 32.71875 \r\nQ 45.90625 40.484375 42.875 44.328125 \r\nQ 39.84375 48.1875 33.796875 48.1875 \r\nQ 26.515625 48.1875 22.3125 43.546875 \r\nQ 18.109375 38.921875 18.109375 30.90625 \r\nL 18.109375 0 \r\nL 9.078125 0 \r\nL 9.078125 54.6875 \r\nL 18.109375 54.6875 \r\nL 18.109375 46.1875 \r\nQ 21.34375 51.125 25.703125 53.5625 \r\nQ 30.078125 56 35.796875 56 \r\nQ 45.21875 56 50.046875 50.171875 \r\nQ 54.890625 44.34375 54.890625 33.015625 \r\nz\r\n\" id=\"DejaVuSans-110\"/>\r\n      <path d=\"M 50.984375 -16.609375 \r\nL 50.984375 -23.578125 \r\nL -0.984375 -23.578125 \r\nL -0.984375 -16.609375 \r\nz\r\n\" id=\"DejaVuSans-95\"/>\r\n      <path d=\"M 37.109375 75.984375 \r\nL 37.109375 68.5 \r\nL 28.515625 68.5 \r\nQ 23.6875 68.5 21.796875 66.546875 \r\nQ 19.921875 64.59375 19.921875 59.515625 \r\nL 19.921875 54.6875 \r\nL 34.71875 54.6875 \r\nL 34.71875 47.703125 \r\nL 19.921875 47.703125 \r\nL 19.921875 0 \r\nL 10.890625 0 \r\nL 10.890625 47.703125 \r\nL 2.296875 47.703125 \r\nL 2.296875 54.6875 \r\nL 10.890625 54.6875 \r\nL 10.890625 58.5 \r\nQ 10.890625 67.625 15.140625 71.796875 \r\nQ 19.390625 75.984375 28.609375 75.984375 \r\nz\r\n\" id=\"DejaVuSans-102\"/>\r\n      <path d=\"M 41.109375 46.296875 \r\nQ 39.59375 47.171875 37.8125 47.578125 \r\nQ 36.03125 48 33.890625 48 \r\nQ 26.265625 48 22.1875 43.046875 \r\nQ 18.109375 38.09375 18.109375 28.8125 \r\nL 18.109375 0 \r\nL 9.078125 0 \r\nL 9.078125 54.6875 \r\nL 18.109375 54.6875 \r\nL 18.109375 46.1875 \r\nQ 20.953125 51.171875 25.484375 53.578125 \r\nQ 30.03125 56 36.53125 56 \r\nQ 37.453125 56 38.578125 55.875 \r\nQ 39.703125 55.765625 41.0625 55.515625 \r\nz\r\n\" id=\"DejaVuSans-114\"/>\r\n      <path d=\"M 34.28125 27.484375 \r\nQ 23.390625 27.484375 19.1875 25 \r\nQ 14.984375 22.515625 14.984375 16.5 \r\nQ 14.984375 11.71875 18.140625 8.90625 \r\nQ 21.296875 6.109375 26.703125 6.109375 \r\nQ 34.1875 6.109375 38.703125 11.40625 \r\nQ 43.21875 16.703125 43.21875 25.484375 \r\nL 43.21875 27.484375 \r\nz\r\nM 52.203125 31.203125 \r\nL 52.203125 0 \r\nL 43.21875 0 \r\nL 43.21875 8.296875 \r\nQ 40.140625 3.328125 35.546875 0.953125 \r\nQ 30.953125 -1.421875 24.3125 -1.421875 \r\nQ 15.921875 -1.421875 10.953125 3.296875 \r\nQ 6 8.015625 6 15.921875 \r\nQ 6 25.140625 12.171875 29.828125 \r\nQ 18.359375 34.515625 30.609375 34.515625 \r\nL 43.21875 34.515625 \r\nL 43.21875 35.40625 \r\nQ 43.21875 41.609375 39.140625 45 \r\nQ 35.0625 48.390625 27.6875 48.390625 \r\nQ 23 48.390625 18.546875 47.265625 \r\nQ 14.109375 46.140625 10.015625 43.890625 \r\nL 10.015625 52.203125 \r\nQ 14.9375 54.109375 19.578125 55.046875 \r\nQ 24.21875 56 28.609375 56 \r\nQ 40.484375 56 46.34375 49.84375 \r\nQ 52.203125 43.703125 52.203125 31.203125 \r\nz\r\n\" id=\"DejaVuSans-97\"/>\r\n      <path d=\"M 8.59375 75.984375 \r\nL 29.296875 75.984375 \r\nL 29.296875 69 \r\nL 17.578125 69 \r\nL 17.578125 -6.203125 \r\nL 29.296875 -6.203125 \r\nL 29.296875 -13.1875 \r\nL 8.59375 -13.1875 \r\nz\r\n\" id=\"DejaVuSans-91\"/>\r\n      <path d=\"M 72.703125 32.078125 \r\nQ 68.453125 32.078125 66.03125 28.46875 \r\nQ 63.625 24.859375 63.625 18.40625 \r\nQ 63.625 12.0625 66.03125 8.421875 \r\nQ 68.453125 4.78125 72.703125 4.78125 \r\nQ 76.859375 4.78125 79.265625 8.421875 \r\nQ 81.6875 12.0625 81.6875 18.40625 \r\nQ 81.6875 24.8125 79.265625 28.4375 \r\nQ 76.859375 32.078125 72.703125 32.078125 \r\nz\r\nM 72.703125 38.28125 \r\nQ 80.421875 38.28125 84.953125 32.90625 \r\nQ 89.5 27.546875 89.5 18.40625 \r\nQ 89.5 9.28125 84.9375 3.921875 \r\nQ 80.375 -1.421875 72.703125 -1.421875 \r\nQ 64.890625 -1.421875 60.34375 3.921875 \r\nQ 55.8125 9.28125 55.8125 18.40625 \r\nQ 55.8125 27.59375 60.375 32.9375 \r\nQ 64.9375 38.28125 72.703125 38.28125 \r\nz\r\nM 22.3125 68.015625 \r\nQ 18.109375 68.015625 15.6875 64.375 \r\nQ 13.28125 60.75 13.28125 54.390625 \r\nQ 13.28125 47.953125 15.671875 44.328125 \r\nQ 18.0625 40.71875 22.3125 40.71875 \r\nQ 26.5625 40.71875 28.96875 44.328125 \r\nQ 31.390625 47.953125 31.390625 54.390625 \r\nQ 31.390625 60.6875 28.953125 64.34375 \r\nQ 26.515625 68.015625 22.3125 68.015625 \r\nz\r\nM 66.40625 74.21875 \r\nL 74.21875 74.21875 \r\nL 28.609375 -1.421875 \r\nL 20.796875 -1.421875 \r\nz\r\nM 22.3125 74.21875 \r\nQ 30.03125 74.21875 34.609375 68.875 \r\nQ 39.203125 63.53125 39.203125 54.390625 \r\nQ 39.203125 45.171875 34.640625 39.84375 \r\nQ 30.078125 34.515625 22.3125 34.515625 \r\nQ 14.546875 34.515625 10.03125 39.859375 \r\nQ 5.515625 45.21875 5.515625 54.390625 \r\nQ 5.515625 63.484375 10.046875 68.84375 \r\nQ 14.59375 74.21875 22.3125 74.21875 \r\nz\r\n\" id=\"DejaVuSans-37\"/>\r\n      <path d=\"M 30.421875 75.984375 \r\nL 30.421875 -13.1875 \r\nL 9.71875 -13.1875 \r\nL 9.71875 -6.203125 \r\nL 21.390625 -6.203125 \r\nL 21.390625 69 \r\nL 9.71875 69 \r\nL 9.71875 75.984375 \r\nz\r\n\" id=\"DejaVuSans-93\"/>\r\n     </defs>\r\n     <g transform=\"translate(390.516406 322.394687)scale(0.1 -0.1)\">\r\n      <use xlink:href=\"#DejaVuSans-101\"/>\r\n      <use x=\"61.523438\" xlink:href=\"#DejaVuSans-106\"/>\r\n      <use x=\"89.306641\" xlink:href=\"#DejaVuSans-101\"/>\r\n      <use x=\"150.830078\" xlink:href=\"#DejaVuSans-99\"/>\r\n      <use x=\"205.810547\" xlink:href=\"#DejaVuSans-116\"/>\r\n      <use x=\"245.019531\" xlink:href=\"#DejaVuSans-105\"/>\r\n      <use x=\"272.802734\" xlink:href=\"#DejaVuSans-111\"/>\r\n      <use x=\"333.984375\" xlink:href=\"#DejaVuSans-110\"/>\r\n      <use x=\"397.363281\" xlink:href=\"#DejaVuSans-95\"/>\r\n      <use x=\"447.363281\" xlink:href=\"#DejaVuSans-102\"/>\r\n      <use x=\"482.568359\" xlink:href=\"#DejaVuSans-114\"/>\r\n      <use x=\"523.681641\" xlink:href=\"#DejaVuSans-97\"/>\r\n      <use x=\"584.960938\" xlink:href=\"#DejaVuSans-99\"/>\r\n      <use x=\"639.941406\" xlink:href=\"#DejaVuSans-116\"/>\r\n      <use x=\"679.150391\" xlink:href=\"#DejaVuSans-105\"/>\r\n      <use x=\"706.933594\" xlink:href=\"#DejaVuSans-111\"/>\r\n      <use x=\"768.115234\" xlink:href=\"#DejaVuSans-110\"/>\r\n      <use x=\"831.494141\" xlink:href=\"#DejaVuSans-91\"/>\r\n      <use x=\"870.507812\" xlink:href=\"#DejaVuSans-37\"/>\r\n      <use x=\"965.527344\" xlink:href=\"#DejaVuSans-93\"/>\r\n     </g>\r\n    </g>\r\n   </g>\r\n   <g id=\"matplotlib.axis_2\">\r\n    <g id=\"ytick_1\">\r\n     <g id=\"line2d_8\">\r\n      <defs>\r\n       <path d=\"M 0 0 \r\nL -3.5 0 \r\n\" id=\"me966033c3c\" style=\"stroke:#000000;stroke-width:0.8;\"/>\r\n      </defs>\r\n      <g>\r\n       <use style=\"stroke:#000000;stroke-width:0.8;\" x=\"50.14375\" xlink:href=\"#me966033c3c\" y=\"294.118125\"/>\r\n      </g>\r\n     </g>\r\n     <g id=\"text_9\">\r\n      <!-- 0.00 -->\r\n      <defs>\r\n       <path d=\"M 10.6875 12.40625 \r\nL 21 12.40625 \r\nL 21 0 \r\nL 10.6875 0 \r\nz\r\n\" id=\"DejaVuSans-46\"/>\r\n      </defs>\r\n      <g transform=\"translate(20.878125 297.917344)scale(0.1 -0.1)\">\r\n       <use xlink:href=\"#DejaVuSans-48\"/>\r\n       <use x=\"63.623047\" xlink:href=\"#DejaVuSans-46\"/>\r\n       <use x=\"95.410156\" xlink:href=\"#DejaVuSans-48\"/>\r\n       <use x=\"159.033203\" xlink:href=\"#DejaVuSans-48\"/>\r\n      </g>\r\n     </g>\r\n    </g>\r\n    <g id=\"ytick_2\">\r\n     <g id=\"line2d_9\">\r\n      <g>\r\n       <use style=\"stroke:#000000;stroke-width:0.8;\" x=\"50.14375\" xlink:href=\"#me966033c3c\" y=\"255.096377\"/>\r\n      </g>\r\n     </g>\r\n     <g id=\"text_10\">\r\n      <!-- 0.01 -->\r\n      <defs>\r\n       <path d=\"M 12.40625 8.296875 \r\nL 28.515625 8.296875 \r\nL 28.515625 63.921875 \r\nL 10.984375 60.40625 \r\nL 10.984375 69.390625 \r\nL 28.421875 72.90625 \r\nL 38.28125 72.90625 \r\nL 38.28125 8.296875 \r\nL 54.390625 8.296875 \r\nL 54.390625 0 \r\nL 12.40625 0 \r\nz\r\n\" id=\"DejaVuSans-49\"/>\r\n      </defs>\r\n      <g transform=\"translate(20.878125 258.895595)scale(0.1 -0.1)\">\r\n       <use xlink:href=\"#DejaVuSans-48\"/>\r\n       <use x=\"63.623047\" xlink:href=\"#DejaVuSans-46\"/>\r\n       <use x=\"95.410156\" xlink:href=\"#DejaVuSans-48\"/>\r\n       <use x=\"159.033203\" xlink:href=\"#DejaVuSans-49\"/>\r\n      </g>\r\n     </g>\r\n    </g>\r\n    <g id=\"ytick_3\">\r\n     <g id=\"line2d_10\">\r\n      <g>\r\n       <use style=\"stroke:#000000;stroke-width:0.8;\" x=\"50.14375\" xlink:href=\"#me966033c3c\" y=\"216.074628\"/>\r\n      </g>\r\n     </g>\r\n     <g id=\"text_11\">\r\n      <!-- 0.02 -->\r\n      <g transform=\"translate(20.878125 219.873847)scale(0.1 -0.1)\">\r\n       <use xlink:href=\"#DejaVuSans-48\"/>\r\n       <use x=\"63.623047\" xlink:href=\"#DejaVuSans-46\"/>\r\n       <use x=\"95.410156\" xlink:href=\"#DejaVuSans-48\"/>\r\n       <use x=\"159.033203\" xlink:href=\"#DejaVuSans-50\"/>\r\n      </g>\r\n     </g>\r\n    </g>\r\n    <g id=\"ytick_4\">\r\n     <g id=\"line2d_11\">\r\n      <g>\r\n       <use style=\"stroke:#000000;stroke-width:0.8;\" x=\"50.14375\" xlink:href=\"#me966033c3c\" y=\"177.05288\"/>\r\n      </g>\r\n     </g>\r\n     <g id=\"text_12\">\r\n      <!-- 0.03 -->\r\n      <g transform=\"translate(20.878125 180.852099)scale(0.1 -0.1)\">\r\n       <use xlink:href=\"#DejaVuSans-48\"/>\r\n       <use x=\"63.623047\" xlink:href=\"#DejaVuSans-46\"/>\r\n       <use x=\"95.410156\" xlink:href=\"#DejaVuSans-48\"/>\r\n       <use x=\"159.033203\" xlink:href=\"#DejaVuSans-51\"/>\r\n      </g>\r\n     </g>\r\n    </g>\r\n    <g id=\"ytick_5\">\r\n     <g id=\"line2d_12\">\r\n      <g>\r\n       <use style=\"stroke:#000000;stroke-width:0.8;\" x=\"50.14375\" xlink:href=\"#me966033c3c\" y=\"138.031131\"/>\r\n      </g>\r\n     </g>\r\n     <g id=\"text_13\">\r\n      <!-- 0.04 -->\r\n      <g transform=\"translate(20.878125 141.83035)scale(0.1 -0.1)\">\r\n       <use xlink:href=\"#DejaVuSans-48\"/>\r\n       <use x=\"63.623047\" xlink:href=\"#DejaVuSans-46\"/>\r\n       <use x=\"95.410156\" xlink:href=\"#DejaVuSans-48\"/>\r\n       <use x=\"159.033203\" xlink:href=\"#DejaVuSans-52\"/>\r\n      </g>\r\n     </g>\r\n    </g>\r\n    <g id=\"ytick_6\">\r\n     <g id=\"line2d_13\">\r\n      <g>\r\n       <use style=\"stroke:#000000;stroke-width:0.8;\" x=\"50.14375\" xlink:href=\"#me966033c3c\" y=\"99.009383\"/>\r\n      </g>\r\n     </g>\r\n     <g id=\"text_14\">\r\n      <!-- 0.05 -->\r\n      <g transform=\"translate(20.878125 102.808602)scale(0.1 -0.1)\">\r\n       <use xlink:href=\"#DejaVuSans-48\"/>\r\n       <use x=\"63.623047\" xlink:href=\"#DejaVuSans-46\"/>\r\n       <use x=\"95.410156\" xlink:href=\"#DejaVuSans-48\"/>\r\n       <use x=\"159.033203\" xlink:href=\"#DejaVuSans-53\"/>\r\n      </g>\r\n     </g>\r\n    </g>\r\n    <g id=\"ytick_7\">\r\n     <g id=\"line2d_14\">\r\n      <g>\r\n       <use style=\"stroke:#000000;stroke-width:0.8;\" x=\"50.14375\" xlink:href=\"#me966033c3c\" y=\"59.987635\"/>\r\n      </g>\r\n     </g>\r\n     <g id=\"text_15\">\r\n      <!-- 0.06 -->\r\n      <g transform=\"translate(20.878125 63.786853)scale(0.1 -0.1)\">\r\n       <use xlink:href=\"#DejaVuSans-48\"/>\r\n       <use x=\"63.623047\" xlink:href=\"#DejaVuSans-46\"/>\r\n       <use x=\"95.410156\" xlink:href=\"#DejaVuSans-48\"/>\r\n       <use x=\"159.033203\" xlink:href=\"#DejaVuSans-54\"/>\r\n      </g>\r\n     </g>\r\n    </g>\r\n    <g id=\"text_16\">\r\n     <!-- densidade -->\r\n     <defs>\r\n      <path d=\"M 45.40625 46.390625 \r\nL 45.40625 75.984375 \r\nL 54.390625 75.984375 \r\nL 54.390625 0 \r\nL 45.40625 0 \r\nL 45.40625 8.203125 \r\nQ 42.578125 3.328125 38.25 0.953125 \r\nQ 33.9375 -1.421875 27.875 -1.421875 \r\nQ 17.96875 -1.421875 11.734375 6.484375 \r\nQ 5.515625 14.40625 5.515625 27.296875 \r\nQ 5.515625 40.1875 11.734375 48.09375 \r\nQ 17.96875 56 27.875 56 \r\nQ 33.9375 56 38.25 53.625 \r\nQ 42.578125 51.265625 45.40625 46.390625 \r\nz\r\nM 14.796875 27.296875 \r\nQ 14.796875 17.390625 18.875 11.75 \r\nQ 22.953125 6.109375 30.078125 6.109375 \r\nQ 37.203125 6.109375 41.296875 11.75 \r\nQ 45.40625 17.390625 45.40625 27.296875 \r\nQ 45.40625 37.203125 41.296875 42.84375 \r\nQ 37.203125 48.484375 30.078125 48.484375 \r\nQ 22.953125 48.484375 18.875 42.84375 \r\nQ 14.796875 37.203125 14.796875 27.296875 \r\nz\r\n\" id=\"DejaVuSans-100\"/>\r\n      <path d=\"M 44.28125 53.078125 \r\nL 44.28125 44.578125 \r\nQ 40.484375 46.53125 36.375 47.5 \r\nQ 32.28125 48.484375 27.875 48.484375 \r\nQ 21.1875 48.484375 17.84375 46.4375 \r\nQ 14.5 44.390625 14.5 40.28125 \r\nQ 14.5 37.15625 16.890625 35.375 \r\nQ 19.28125 33.59375 26.515625 31.984375 \r\nL 29.59375 31.296875 \r\nQ 39.15625 29.25 43.1875 25.515625 \r\nQ 47.21875 21.78125 47.21875 15.09375 \r\nQ 47.21875 7.46875 41.1875 3.015625 \r\nQ 35.15625 -1.421875 24.609375 -1.421875 \r\nQ 20.21875 -1.421875 15.453125 -0.5625 \r\nQ 10.6875 0.296875 5.421875 2 \r\nL 5.421875 11.28125 \r\nQ 10.40625 8.6875 15.234375 7.390625 \r\nQ 20.0625 6.109375 24.8125 6.109375 \r\nQ 31.15625 6.109375 34.5625 8.28125 \r\nQ 37.984375 10.453125 37.984375 14.40625 \r\nQ 37.984375 18.0625 35.515625 20.015625 \r\nQ 33.0625 21.96875 24.703125 23.78125 \r\nL 21.578125 24.515625 \r\nQ 13.234375 26.265625 9.515625 29.90625 \r\nQ 5.8125 33.546875 5.8125 39.890625 \r\nQ 5.8125 47.609375 11.28125 51.796875 \r\nQ 16.75 56 26.8125 56 \r\nQ 31.78125 56 36.171875 55.265625 \r\nQ 40.578125 54.546875 44.28125 53.078125 \r\nz\r\n\" id=\"DejaVuSans-115\"/>\r\n     </defs>\r\n     <g transform=\"translate(14.798438 184.120469)rotate(-90)scale(0.1 -0.1)\">\r\n      <use xlink:href=\"#DejaVuSans-100\"/>\r\n      <use x=\"63.476562\" xlink:href=\"#DejaVuSans-101\"/>\r\n      <use x=\"125\" xlink:href=\"#DejaVuSans-110\"/>\r\n      <use x=\"188.378906\" xlink:href=\"#DejaVuSans-115\"/>\r\n      <use x=\"240.478516\" xlink:href=\"#DejaVuSans-105\"/>\r\n      <use x=\"268.261719\" xlink:href=\"#DejaVuSans-100\"/>\r\n      <use x=\"331.738281\" xlink:href=\"#DejaVuSans-97\"/>\r\n      <use x=\"393.017578\" xlink:href=\"#DejaVuSans-100\"/>\r\n      <use x=\"456.494141\" xlink:href=\"#DejaVuSans-101\"/>\r\n     </g>\r\n    </g>\r\n   </g>\r\n   <g id=\"patch_29\">\r\n    <path d=\"M 50.14375 294.118125 \r\nL 50.14375 22.318125 \r\n\" style=\"fill:none;stroke:#000000;stroke-linecap:square;stroke-linejoin:miter;stroke-width:0.8;\"/>\r\n   </g>\r\n   <g id=\"patch_30\">\r\n    <path d=\"M 831.34375 294.118125 \r\nL 831.34375 22.318125 \r\n\" style=\"fill:none;stroke:#000000;stroke-linecap:square;stroke-linejoin:miter;stroke-width:0.8;\"/>\r\n   </g>\r\n   <g id=\"patch_31\">\r\n    <path d=\"M 50.14375 294.118125 \r\nL 831.34375 294.118125 \r\n\" style=\"fill:none;stroke:#000000;stroke-linecap:square;stroke-linejoin:miter;stroke-width:0.8;\"/>\r\n   </g>\r\n   <g id=\"patch_32\">\r\n    <path d=\"M 50.14375 22.318125 \r\nL 831.34375 22.318125 \r\n\" style=\"fill:none;stroke:#000000;stroke-linecap:square;stroke-linejoin:miter;stroke-width:0.8;\"/>\r\n   </g>\r\n   <g id=\"text_17\">\r\n    <!-- ejection_fraction -->\r\n    <g transform=\"translate(390.85375 16.318125)scale(0.12 -0.12)\">\r\n     <use xlink:href=\"#DejaVuSans-101\"/>\r\n     <use x=\"61.523438\" xlink:href=\"#DejaVuSans-106\"/>\r\n     <use x=\"89.306641\" xlink:href=\"#DejaVuSans-101\"/>\r\n     <use x=\"150.830078\" xlink:href=\"#DejaVuSans-99\"/>\r\n     <use x=\"205.810547\" xlink:href=\"#DejaVuSans-116\"/>\r\n     <use x=\"245.019531\" xlink:href=\"#DejaVuSans-105\"/>\r\n     <use x=\"272.802734\" xlink:href=\"#DejaVuSans-111\"/>\r\n     <use x=\"333.984375\" xlink:href=\"#DejaVuSans-110\"/>\r\n     <use x=\"397.363281\" xlink:href=\"#DejaVuSans-95\"/>\r\n     <use x=\"447.363281\" xlink:href=\"#DejaVuSans-102\"/>\r\n     <use x=\"482.568359\" xlink:href=\"#DejaVuSans-114\"/>\r\n     <use x=\"523.681641\" xlink:href=\"#DejaVuSans-97\"/>\r\n     <use x=\"584.960938\" xlink:href=\"#DejaVuSans-99\"/>\r\n     <use x=\"639.941406\" xlink:href=\"#DejaVuSans-116\"/>\r\n     <use x=\"679.150391\" xlink:href=\"#DejaVuSans-105\"/>\r\n     <use x=\"706.933594\" xlink:href=\"#DejaVuSans-111\"/>\r\n     <use x=\"768.115234\" xlink:href=\"#DejaVuSans-110\"/>\r\n    </g>\r\n   </g>\r\n   <g id=\"legend_1\">\r\n    <g id=\"patch_33\">\r\n     <path d=\"M 785.98125 59.674375 \r\nL 824.34375 59.674375 \r\nQ 826.34375 59.674375 826.34375 57.674375 \r\nL 826.34375 29.318125 \r\nQ 826.34375 27.318125 824.34375 27.318125 \r\nL 785.98125 27.318125 \r\nQ 783.98125 27.318125 783.98125 29.318125 \r\nL 783.98125 57.674375 \r\nQ 783.98125 59.674375 785.98125 59.674375 \r\nz\r\n\" style=\"fill:#ffffff;opacity:0.8;stroke:#cccccc;stroke-linejoin:miter;\"/>\r\n    </g>\r\n    <g id=\"patch_34\">\r\n     <path d=\"M 787.98125 38.916562 \r\nL 807.98125 38.916562 \r\nL 807.98125 31.916562 \r\nL 787.98125 31.916562 \r\nz\r\n\" style=\"fill:#ff0000;stroke:#ffffff;stroke-linejoin:miter;\"/>\r\n    </g>\r\n    <g id=\"text_18\">\r\n     <!-- 1 -->\r\n     <g transform=\"translate(815.98125 38.916562)scale(0.1 -0.1)\">\r\n      <use xlink:href=\"#DejaVuSans-49\"/>\r\n     </g>\r\n    </g>\r\n    <g id=\"patch_35\">\r\n     <path d=\"M 787.98125 53.594687 \r\nL 807.98125 53.594687 \r\nL 807.98125 46.594687 \r\nL 787.98125 46.594687 \r\nz\r\n\" style=\"fill:#87ceeb;opacity:0.8;stroke:#ffffff;stroke-linejoin:miter;\"/>\r\n    </g>\r\n    <g id=\"text_19\">\r\n     <!-- 0 -->\r\n     <g transform=\"translate(815.98125 53.594687)scale(0.1 -0.1)\">\r\n      <use xlink:href=\"#DejaVuSans-48\"/>\r\n     </g>\r\n    </g>\r\n   </g>\r\n  </g>\r\n </g>\r\n <defs>\r\n  <clipPath id=\"p07a5bf4386\">\r\n   <rect height=\"271.8\" width=\"781.2\" x=\"50.14375\" y=\"22.318125\"/>\r\n  </clipPath>\r\n </defs>\r\n</svg>\r\n",
      "image/png": "[encoded data removed]"
     },
     "metadata": {
      "needs_background": "light"
     }
    }
   ],
   "source": [
    "#Histograma da idade dos sobreviventes e não sobreviventes\n",
    "faixas = np.arange(14,80,5)\n",
    "plt.figure(figsize=(14, 5))\n",
    "plt.hist(dead.ejection_fraction, bins=faixas, density=True, color='red', edgecolor='white', linewidth=1)\n",
    "plt.hist(not_dead.ejection_fraction, bins=faixas, density=True, color='skyblue', edgecolor='white', linewidth=1, alpha=0.8)\n",
    "plt.legend('10')\n",
    "plt.title('ejection_fraction')\n",
    "plt.xlabel('ejection_fraction[%]')\n",
    "plt.ylabel('densidade')\n",
    "plt.show()"
   ]
  },
  {
   "source": [
    "Com este, é possível perceber que quanto menor a porcentagem de sangue que sai em relação ao que entra, maior será a probabilidade de morte.\n"
   ],
   "cell_type": "markdown",
   "metadata": {}
  },
  {
   "cell_type": "code",
   "execution_count": 18,
   "metadata": {},
   "outputs": [
    {
     "output_type": "display_data",
     "data": {
      "text/plain": "<Figure size 1008x360 with 1 Axes>",
      "image/svg+xml": "<?xml version=\"1.0\" encoding=\"utf-8\" standalone=\"no\"?>\r\n<!DOCTYPE svg PUBLIC \"-//W3C//DTD SVG 1.1//EN\"\r\n  \"http://www.w3.org/Graphics/SVG/1.1/DTD/svg11.dtd\">\r\n<!-- Created with matplotlib (https://matplotlib.org/) -->\r\n<svg height=\"331.674375pt\" version=\"1.1\" viewBox=\"0 0 857.63125 331.674375\" width=\"857.63125pt\" xmlns=\"http://www.w3.org/2000/svg\" xmlns:xlink=\"http://www.w3.org/1999/xlink\">\r\n <defs>\r\n  <style type=\"text/css\">\r\n*{stroke-linecap:butt;stroke-linejoin:round;}\r\n  </style>\r\n </defs>\r\n <g id=\"figure_1\">\r\n  <g id=\"patch_1\">\r\n   <path d=\"M 0 331.674375 \r\nL 857.63125 331.674375 \r\nL 857.63125 0 \r\nL 0 0 \r\nz\r\n\" style=\"fill:none;\"/>\r\n  </g>\r\n  <g id=\"axes_1\">\r\n   <g id=\"patch_2\">\r\n    <path d=\"M 69.23125 294.118125 \r\nL 850.43125 294.118125 \r\nL 850.43125 22.318125 \r\nL 69.23125 22.318125 \r\nz\r\n\" style=\"fill:#ffffff;\"/>\r\n   </g>\r\n   <g id=\"patch_3\">\r\n    <path clip-path=\"url(#p092ba4a81a)\" d=\"M 104.740341 294.118125 \r\nL 135.617811 294.118125 \r\nL 135.617811 294.118125 \r\nL 104.740341 294.118125 \r\nz\r\n\" style=\"fill:#ff0000;stroke:#ffffff;stroke-linejoin:miter;\"/>\r\n   </g>\r\n   <g id=\"patch_4\">\r\n    <path clip-path=\"url(#p092ba4a81a)\" d=\"M 135.617811 294.118125 \r\nL 166.495282 294.118125 \r\nL 166.495282 294.118125 \r\nL 135.617811 294.118125 \r\nz\r\n\" style=\"fill:#ff0000;stroke:#ffffff;stroke-linejoin:miter;\"/>\r\n   </g>\r\n   <g id=\"patch_5\">\r\n    <path clip-path=\"url(#p092ba4a81a)\" d=\"M 166.495282 294.118125 \r\nL 197.372752 294.118125 \r\nL 197.372752 294.118125 \r\nL 166.495282 294.118125 \r\nz\r\n\" style=\"fill:#ff0000;stroke:#ffffff;stroke-linejoin:miter;\"/>\r\n   </g>\r\n   <g id=\"patch_6\">\r\n    <path clip-path=\"url(#p092ba4a81a)\" d=\"M 197.372752 294.118125 \r\nL 228.250222 294.118125 \r\nL 228.250222 294.118125 \r\nL 197.372752 294.118125 \r\nz\r\n\" style=\"fill:#ff0000;stroke:#ffffff;stroke-linejoin:miter;\"/>\r\n   </g>\r\n   <g id=\"patch_7\">\r\n    <path clip-path=\"url(#p092ba4a81a)\" d=\"M 228.250222 294.118125 \r\nL 259.127693 294.118125 \r\nL 259.127693 294.118125 \r\nL 228.250222 294.118125 \r\nz\r\n\" style=\"fill:#ff0000;stroke:#ffffff;stroke-linejoin:miter;\"/>\r\n   </g>\r\n   <g id=\"patch_8\">\r\n    <path clip-path=\"url(#p092ba4a81a)\" d=\"M 259.127693 294.118125 \r\nL 290.005163 294.118125 \r\nL 290.005163 294.118125 \r\nL 259.127693 294.118125 \r\nz\r\n\" style=\"fill:#ff0000;stroke:#ffffff;stroke-linejoin:miter;\"/>\r\n   </g>\r\n   <g id=\"patch_9\">\r\n    <path clip-path=\"url(#p092ba4a81a)\" d=\"M 290.005163 294.118125 \r\nL 320.882633 294.118125 \r\nL 320.882633 294.118125 \r\nL 290.005163 294.118125 \r\nz\r\n\" style=\"fill:#ff0000;stroke:#ffffff;stroke-linejoin:miter;\"/>\r\n   </g>\r\n   <g id=\"patch_10\">\r\n    <path clip-path=\"url(#p092ba4a81a)\" d=\"M 320.882633 294.118125 \r\nL 351.760104 294.118125 \r\nL 351.760104 294.118125 \r\nL 320.882633 294.118125 \r\nz\r\n\" style=\"fill:#ff0000;stroke:#ffffff;stroke-linejoin:miter;\"/>\r\n   </g>\r\n   <g id=\"patch_11\">\r\n    <path clip-path=\"url(#p092ba4a81a)\" d=\"M 351.760104 294.118125 \r\nL 382.637574 294.118125 \r\nL 382.637574 99.975268 \r\nL 351.760104 99.975268 \r\nz\r\n\" style=\"fill:#ff0000;stroke:#ffffff;stroke-linejoin:miter;\"/>\r\n   </g>\r\n   <g id=\"patch_12\">\r\n    <path clip-path=\"url(#p092ba4a81a)\" d=\"M 382.637574 294.118125 \r\nL 413.515044 294.118125 \r\nL 413.515044 294.118125 \r\nL 382.637574 294.118125 \r\nz\r\n\" style=\"fill:#ff0000;stroke:#ffffff;stroke-linejoin:miter;\"/>\r\n   </g>\r\n   <g id=\"patch_13\">\r\n    <path clip-path=\"url(#p092ba4a81a)\" d=\"M 413.515044 294.118125 \r\nL 444.392515 294.118125 \r\nL 444.392515 294.118125 \r\nL 413.515044 294.118125 \r\nz\r\n\" style=\"fill:#ff0000;stroke:#ffffff;stroke-linejoin:miter;\"/>\r\n   </g>\r\n   <g id=\"patch_14\">\r\n    <path clip-path=\"url(#p092ba4a81a)\" d=\"M 444.392515 294.118125 \r\nL 475.269985 294.118125 \r\nL 475.269985 294.118125 \r\nL 444.392515 294.118125 \r\nz\r\n\" style=\"fill:#ff0000;stroke:#ffffff;stroke-linejoin:miter;\"/>\r\n   </g>\r\n   <g id=\"patch_15\">\r\n    <path clip-path=\"url(#p092ba4a81a)\" d=\"M 475.269985 294.118125 \r\nL 506.147456 294.118125 \r\nL 506.147456 294.118125 \r\nL 475.269985 294.118125 \r\nz\r\n\" style=\"fill:#ff0000;stroke:#ffffff;stroke-linejoin:miter;\"/>\r\n   </g>\r\n   <g id=\"patch_16\">\r\n    <path clip-path=\"url(#p092ba4a81a)\" d=\"M 506.147456 294.118125 \r\nL 537.024926 294.118125 \r\nL 537.024926 294.118125 \r\nL 506.147456 294.118125 \r\nz\r\n\" style=\"fill:#ff0000;stroke:#ffffff;stroke-linejoin:miter;\"/>\r\n   </g>\r\n   <g id=\"patch_17\">\r\n    <path clip-path=\"url(#p092ba4a81a)\" d=\"M 537.024926 294.118125 \r\nL 567.902396 294.118125 \r\nL 567.902396 99.975268 \r\nL 537.024926 99.975268 \r\nz\r\n\" style=\"fill:#ff0000;stroke:#ffffff;stroke-linejoin:miter;\"/>\r\n   </g>\r\n   <g id=\"patch_18\">\r\n    <path clip-path=\"url(#p092ba4a81a)\" d=\"M 567.902396 294.118125 \r\nL 598.779867 294.118125 \r\nL 598.779867 294.118125 \r\nL 567.902396 294.118125 \r\nz\r\n\" style=\"fill:#ff0000;stroke:#ffffff;stroke-linejoin:miter;\"/>\r\n   </g>\r\n   <g id=\"patch_19\">\r\n    <path clip-path=\"url(#p092ba4a81a)\" d=\"M 598.779867 294.118125 \r\nL 629.657337 294.118125 \r\nL 629.657337 294.118125 \r\nL 598.779867 294.118125 \r\nz\r\n\" style=\"fill:#ff0000;stroke:#ffffff;stroke-linejoin:miter;\"/>\r\n   </g>\r\n   <g id=\"patch_20\">\r\n    <path clip-path=\"url(#p092ba4a81a)\" d=\"M 629.657337 294.118125 \r\nL 660.534807 294.118125 \r\nL 660.534807 294.118125 \r\nL 629.657337 294.118125 \r\nz\r\n\" style=\"fill:#ff0000;stroke:#ffffff;stroke-linejoin:miter;\"/>\r\n   </g>\r\n   <g id=\"patch_21\">\r\n    <path clip-path=\"url(#p092ba4a81a)\" d=\"M 660.534807 294.118125 \r\nL 691.412278 294.118125 \r\nL 691.412278 99.975268 \r\nL 660.534807 99.975268 \r\nz\r\n\" style=\"fill:#ff0000;stroke:#ffffff;stroke-linejoin:miter;\"/>\r\n   </g>\r\n   <g id=\"patch_22\">\r\n    <path clip-path=\"url(#p092ba4a81a)\" d=\"M 691.412278 294.118125 \r\nL 722.289748 294.118125 \r\nL 722.289748 294.118125 \r\nL 691.412278 294.118125 \r\nz\r\n\" style=\"fill:#ff0000;stroke:#ffffff;stroke-linejoin:miter;\"/>\r\n   </g>\r\n   <g id=\"patch_23\">\r\n    <path clip-path=\"url(#p092ba4a81a)\" d=\"M 722.289748 294.118125 \r\nL 753.167218 294.118125 \r\nL 753.167218 99.975268 \r\nL 722.289748 99.975268 \r\nz\r\n\" style=\"fill:#ff0000;stroke:#ffffff;stroke-linejoin:miter;\"/>\r\n   </g>\r\n   <g id=\"patch_24\">\r\n    <path clip-path=\"url(#p092ba4a81a)\" d=\"M 753.167218 294.118125 \r\nL 784.044689 294.118125 \r\nL 784.044689 294.118125 \r\nL 753.167218 294.118125 \r\nz\r\n\" style=\"fill:#ff0000;stroke:#ffffff;stroke-linejoin:miter;\"/>\r\n   </g>\r\n   <g id=\"patch_25\">\r\n    <path clip-path=\"url(#p092ba4a81a)\" d=\"M 784.044689 294.118125 \r\nL 814.922159 294.118125 \r\nL 814.922159 294.118125 \r\nL 784.044689 294.118125 \r\nz\r\n\" style=\"fill:#ff0000;stroke:#ffffff;stroke-linejoin:miter;\"/>\r\n   </g>\r\n   <g id=\"patch_26\">\r\n    <path clip-path=\"url(#p092ba4a81a)\" d=\"M 104.740341 294.118125 \r\nL 135.617811 294.118125 \r\nL 135.617811 35.260982 \r\nL 104.740341 35.260982 \r\nz\r\n\" style=\"fill:#87ceeb;opacity:0.8;stroke:#ffffff;stroke-linejoin:miter;\"/>\r\n   </g>\r\n   <g id=\"patch_27\">\r\n    <path clip-path=\"url(#p092ba4a81a)\" d=\"M 135.617811 294.118125 \r\nL 166.495282 294.118125 \r\nL 166.495282 294.118125 \r\nL 135.617811 294.118125 \r\nz\r\n\" style=\"fill:#87ceeb;opacity:0.8;stroke:#ffffff;stroke-linejoin:miter;\"/>\r\n   </g>\r\n   <g id=\"patch_28\">\r\n    <path clip-path=\"url(#p092ba4a81a)\" d=\"M 166.495282 294.118125 \r\nL 197.372752 294.118125 \r\nL 197.372752 294.118125 \r\nL 166.495282 294.118125 \r\nz\r\n\" style=\"fill:#87ceeb;opacity:0.8;stroke:#ffffff;stroke-linejoin:miter;\"/>\r\n   </g>\r\n   <g id=\"patch_29\">\r\n    <path clip-path=\"url(#p092ba4a81a)\" d=\"M 197.372752 294.118125 \r\nL 228.250222 294.118125 \r\nL 228.250222 294.118125 \r\nL 197.372752 294.118125 \r\nz\r\n\" style=\"fill:#87ceeb;opacity:0.8;stroke:#ffffff;stroke-linejoin:miter;\"/>\r\n   </g>\r\n   <g id=\"patch_30\">\r\n    <path clip-path=\"url(#p092ba4a81a)\" d=\"M 228.250222 294.118125 \r\nL 259.127693 294.118125 \r\nL 259.127693 294.118125 \r\nL 228.250222 294.118125 \r\nz\r\n\" style=\"fill:#87ceeb;opacity:0.8;stroke:#ffffff;stroke-linejoin:miter;\"/>\r\n   </g>\r\n   <g id=\"patch_31\">\r\n    <path clip-path=\"url(#p092ba4a81a)\" d=\"M 259.127693 294.118125 \r\nL 290.005163 294.118125 \r\nL 290.005163 294.118125 \r\nL 259.127693 294.118125 \r\nz\r\n\" style=\"fill:#87ceeb;opacity:0.8;stroke:#ffffff;stroke-linejoin:miter;\"/>\r\n   </g>\r\n   <g id=\"patch_32\">\r\n    <path clip-path=\"url(#p092ba4a81a)\" d=\"M 290.005163 294.118125 \r\nL 320.882633 294.118125 \r\nL 320.882633 294.118125 \r\nL 290.005163 294.118125 \r\nz\r\n\" style=\"fill:#87ceeb;opacity:0.8;stroke:#ffffff;stroke-linejoin:miter;\"/>\r\n   </g>\r\n   <g id=\"patch_33\">\r\n    <path clip-path=\"url(#p092ba4a81a)\" d=\"M 320.882633 294.118125 \r\nL 351.760104 294.118125 \r\nL 351.760104 294.118125 \r\nL 320.882633 294.118125 \r\nz\r\n\" style=\"fill:#87ceeb;opacity:0.8;stroke:#ffffff;stroke-linejoin:miter;\"/>\r\n   </g>\r\n   <g id=\"patch_34\">\r\n    <path clip-path=\"url(#p092ba4a81a)\" d=\"M 351.760104 294.118125 \r\nL 382.637574 294.118125 \r\nL 382.637574 294.118125 \r\nL 351.760104 294.118125 \r\nz\r\n\" style=\"fill:#87ceeb;opacity:0.8;stroke:#ffffff;stroke-linejoin:miter;\"/>\r\n   </g>\r\n   <g id=\"patch_35\">\r\n    <path clip-path=\"url(#p092ba4a81a)\" d=\"M 382.637574 294.118125 \r\nL 413.515044 294.118125 \r\nL 413.515044 294.118125 \r\nL 382.637574 294.118125 \r\nz\r\n\" style=\"fill:#87ceeb;opacity:0.8;stroke:#ffffff;stroke-linejoin:miter;\"/>\r\n   </g>\r\n   <g id=\"patch_36\">\r\n    <path clip-path=\"url(#p092ba4a81a)\" d=\"M 413.515044 294.118125 \r\nL 444.392515 294.118125 \r\nL 444.392515 35.260982 \r\nL 413.515044 35.260982 \r\nz\r\n\" style=\"fill:#87ceeb;opacity:0.8;stroke:#ffffff;stroke-linejoin:miter;\"/>\r\n   </g>\r\n   <g id=\"patch_37\">\r\n    <path clip-path=\"url(#p092ba4a81a)\" d=\"M 444.392515 294.118125 \r\nL 475.269985 294.118125 \r\nL 475.269985 294.118125 \r\nL 444.392515 294.118125 \r\nz\r\n\" style=\"fill:#87ceeb;opacity:0.8;stroke:#ffffff;stroke-linejoin:miter;\"/>\r\n   </g>\r\n   <g id=\"patch_38\">\r\n    <path clip-path=\"url(#p092ba4a81a)\" d=\"M 475.269985 294.118125 \r\nL 506.147456 294.118125 \r\nL 506.147456 294.118125 \r\nL 475.269985 294.118125 \r\nz\r\n\" style=\"fill:#87ceeb;opacity:0.8;stroke:#ffffff;stroke-linejoin:miter;\"/>\r\n   </g>\r\n   <g id=\"patch_39\">\r\n    <path clip-path=\"url(#p092ba4a81a)\" d=\"M 506.147456 294.118125 \r\nL 537.024926 294.118125 \r\nL 537.024926 294.118125 \r\nL 506.147456 294.118125 \r\nz\r\n\" style=\"fill:#87ceeb;opacity:0.8;stroke:#ffffff;stroke-linejoin:miter;\"/>\r\n   </g>\r\n   <g id=\"patch_40\">\r\n    <path clip-path=\"url(#p092ba4a81a)\" d=\"M 537.024926 294.118125 \r\nL 567.902396 294.118125 \r\nL 567.902396 294.118125 \r\nL 537.024926 294.118125 \r\nz\r\n\" style=\"fill:#87ceeb;opacity:0.8;stroke:#ffffff;stroke-linejoin:miter;\"/>\r\n   </g>\r\n   <g id=\"patch_41\">\r\n    <path clip-path=\"url(#p092ba4a81a)\" d=\"M 567.902396 294.118125 \r\nL 598.779867 294.118125 \r\nL 598.779867 294.118125 \r\nL 567.902396 294.118125 \r\nz\r\n\" style=\"fill:#87ceeb;opacity:0.8;stroke:#ffffff;stroke-linejoin:miter;\"/>\r\n   </g>\r\n   <g id=\"patch_42\">\r\n    <path clip-path=\"url(#p092ba4a81a)\" d=\"M 598.779867 294.118125 \r\nL 629.657337 294.118125 \r\nL 629.657337 294.118125 \r\nL 598.779867 294.118125 \r\nz\r\n\" style=\"fill:#87ceeb;opacity:0.8;stroke:#ffffff;stroke-linejoin:miter;\"/>\r\n   </g>\r\n   <g id=\"patch_43\">\r\n    <path clip-path=\"url(#p092ba4a81a)\" d=\"M 629.657337 294.118125 \r\nL 660.534807 294.118125 \r\nL 660.534807 294.118125 \r\nL 629.657337 294.118125 \r\nz\r\n\" style=\"fill:#87ceeb;opacity:0.8;stroke:#ffffff;stroke-linejoin:miter;\"/>\r\n   </g>\r\n   <g id=\"patch_44\">\r\n    <path clip-path=\"url(#p092ba4a81a)\" d=\"M 660.534807 294.118125 \r\nL 691.412278 294.118125 \r\nL 691.412278 294.118125 \r\nL 660.534807 294.118125 \r\nz\r\n\" style=\"fill:#87ceeb;opacity:0.8;stroke:#ffffff;stroke-linejoin:miter;\"/>\r\n   </g>\r\n   <g id=\"patch_45\">\r\n    <path clip-path=\"url(#p092ba4a81a)\" d=\"M 691.412278 294.118125 \r\nL 722.289748 294.118125 \r\nL 722.289748 35.260982 \r\nL 691.412278 35.260982 \r\nz\r\n\" style=\"fill:#87ceeb;opacity:0.8;stroke:#ffffff;stroke-linejoin:miter;\"/>\r\n   </g>\r\n   <g id=\"patch_46\">\r\n    <path clip-path=\"url(#p092ba4a81a)\" d=\"M 722.289748 294.118125 \r\nL 753.167218 294.118125 \r\nL 753.167218 294.118125 \r\nL 722.289748 294.118125 \r\nz\r\n\" style=\"fill:#87ceeb;opacity:0.8;stroke:#ffffff;stroke-linejoin:miter;\"/>\r\n   </g>\r\n   <g id=\"patch_47\">\r\n    <path clip-path=\"url(#p092ba4a81a)\" d=\"M 753.167218 294.118125 \r\nL 784.044689 294.118125 \r\nL 784.044689 294.118125 \r\nL 753.167218 294.118125 \r\nz\r\n\" style=\"fill:#87ceeb;opacity:0.8;stroke:#ffffff;stroke-linejoin:miter;\"/>\r\n   </g>\r\n   <g id=\"patch_48\">\r\n    <path clip-path=\"url(#p092ba4a81a)\" d=\"M 784.044689 294.118125 \r\nL 814.922159 294.118125 \r\nL 814.922159 294.118125 \r\nL 784.044689 294.118125 \r\nz\r\n\" style=\"fill:#87ceeb;opacity:0.8;stroke:#ffffff;stroke-linejoin:miter;\"/>\r\n   </g>\r\n   <g id=\"matplotlib.axis_1\">\r\n    <g id=\"xtick_1\">\r\n     <g id=\"line2d_1\">\r\n      <defs>\r\n       <path d=\"M 0 0 \r\nL 0 3.5 \r\n\" id=\"m05ac00f783\" style=\"stroke:#000000;stroke-width:0.8;\"/>\r\n      </defs>\r\n      <g>\r\n       <use style=\"stroke:#000000;stroke-width:0.8;\" x=\"166.495282\" xlink:href=\"#m05ac00f783\" y=\"294.118125\"/>\r\n      </g>\r\n     </g>\r\n     <g id=\"text_1\">\r\n      <!-- 30000 -->\r\n      <defs>\r\n       <path d=\"M 40.578125 39.3125 \r\nQ 47.65625 37.796875 51.625 33 \r\nQ 55.609375 28.21875 55.609375 21.1875 \r\nQ 55.609375 10.40625 48.1875 4.484375 \r\nQ 40.765625 -1.421875 27.09375 -1.421875 \r\nQ 22.515625 -1.421875 17.65625 -0.515625 \r\nQ 12.796875 0.390625 7.625 2.203125 \r\nL 7.625 11.71875 \r\nQ 11.71875 9.328125 16.59375 8.109375 \r\nQ 21.484375 6.890625 26.8125 6.890625 \r\nQ 36.078125 6.890625 40.9375 10.546875 \r\nQ 45.796875 14.203125 45.796875 21.1875 \r\nQ 45.796875 27.640625 41.28125 31.265625 \r\nQ 36.765625 34.90625 28.71875 34.90625 \r\nL 20.21875 34.90625 \r\nL 20.21875 43.015625 \r\nL 29.109375 43.015625 \r\nQ 36.375 43.015625 40.234375 45.921875 \r\nQ 44.09375 48.828125 44.09375 54.296875 \r\nQ 44.09375 59.90625 40.109375 62.90625 \r\nQ 36.140625 65.921875 28.71875 65.921875 \r\nQ 24.65625 65.921875 20.015625 65.03125 \r\nQ 15.375 64.15625 9.8125 62.3125 \r\nL 9.8125 71.09375 \r\nQ 15.4375 72.65625 20.34375 73.4375 \r\nQ 25.25 74.21875 29.59375 74.21875 \r\nQ 40.828125 74.21875 47.359375 69.109375 \r\nQ 53.90625 64.015625 53.90625 55.328125 \r\nQ 53.90625 49.265625 50.4375 45.09375 \r\nQ 46.96875 40.921875 40.578125 39.3125 \r\nz\r\n\" id=\"DejaVuSans-51\"/>\r\n       <path d=\"M 31.78125 66.40625 \r\nQ 24.171875 66.40625 20.328125 58.90625 \r\nQ 16.5 51.421875 16.5 36.375 \r\nQ 16.5 21.390625 20.328125 13.890625 \r\nQ 24.171875 6.390625 31.78125 6.390625 \r\nQ 39.453125 6.390625 43.28125 13.890625 \r\nQ 47.125 21.390625 47.125 36.375 \r\nQ 47.125 51.421875 43.28125 58.90625 \r\nQ 39.453125 66.40625 31.78125 66.40625 \r\nz\r\nM 31.78125 74.21875 \r\nQ 44.046875 74.21875 50.515625 64.515625 \r\nQ 56.984375 54.828125 56.984375 36.375 \r\nQ 56.984375 17.96875 50.515625 8.265625 \r\nQ 44.046875 -1.421875 31.78125 -1.421875 \r\nQ 19.53125 -1.421875 13.0625 8.265625 \r\nQ 6.59375 17.96875 6.59375 36.375 \r\nQ 6.59375 54.828125 13.0625 64.515625 \r\nQ 19.53125 74.21875 31.78125 74.21875 \r\nz\r\n\" id=\"DejaVuSans-48\"/>\r\n      </defs>\r\n      <g transform=\"translate(150.589032 308.716563)scale(0.1 -0.1)\">\r\n       <use xlink:href=\"#DejaVuSans-51\"/>\r\n       <use x=\"63.623047\" xlink:href=\"#DejaVuSans-48\"/>\r\n       <use x=\"127.246094\" xlink:href=\"#DejaVuSans-48\"/>\r\n       <use x=\"190.869141\" xlink:href=\"#DejaVuSans-48\"/>\r\n       <use x=\"254.492188\" xlink:href=\"#DejaVuSans-48\"/>\r\n      </g>\r\n     </g>\r\n    </g>\r\n    <g id=\"xtick_2\">\r\n     <g id=\"line2d_2\">\r\n      <g>\r\n       <use style=\"stroke:#000000;stroke-width:0.8;\" x=\"290.005163\" xlink:href=\"#m05ac00f783\" y=\"294.118125\"/>\r\n      </g>\r\n     </g>\r\n     <g id=\"text_2\">\r\n      <!-- 40000 -->\r\n      <defs>\r\n       <path d=\"M 37.796875 64.3125 \r\nL 12.890625 25.390625 \r\nL 37.796875 25.390625 \r\nz\r\nM 35.203125 72.90625 \r\nL 47.609375 72.90625 \r\nL 47.609375 25.390625 \r\nL 58.015625 25.390625 \r\nL 58.015625 17.1875 \r\nL 47.609375 17.1875 \r\nL 47.609375 0 \r\nL 37.796875 0 \r\nL 37.796875 17.1875 \r\nL 4.890625 17.1875 \r\nL 4.890625 26.703125 \r\nz\r\n\" id=\"DejaVuSans-52\"/>\r\n      </defs>\r\n      <g transform=\"translate(274.098913 308.716563)scale(0.1 -0.1)\">\r\n       <use xlink:href=\"#DejaVuSans-52\"/>\r\n       <use x=\"63.623047\" xlink:href=\"#DejaVuSans-48\"/>\r\n       <use x=\"127.246094\" xlink:href=\"#DejaVuSans-48\"/>\r\n       <use x=\"190.869141\" xlink:href=\"#DejaVuSans-48\"/>\r\n       <use x=\"254.492188\" xlink:href=\"#DejaVuSans-48\"/>\r\n      </g>\r\n     </g>\r\n    </g>\r\n    <g id=\"xtick_3\">\r\n     <g id=\"line2d_3\">\r\n      <g>\r\n       <use style=\"stroke:#000000;stroke-width:0.8;\" x=\"413.515044\" xlink:href=\"#m05ac00f783\" y=\"294.118125\"/>\r\n      </g>\r\n     </g>\r\n     <g id=\"text_3\">\r\n      <!-- 50000 -->\r\n      <defs>\r\n       <path d=\"M 10.796875 72.90625 \r\nL 49.515625 72.90625 \r\nL 49.515625 64.59375 \r\nL 19.828125 64.59375 \r\nL 19.828125 46.734375 \r\nQ 21.96875 47.46875 24.109375 47.828125 \r\nQ 26.265625 48.1875 28.421875 48.1875 \r\nQ 40.625 48.1875 47.75 41.5 \r\nQ 54.890625 34.8125 54.890625 23.390625 \r\nQ 54.890625 11.625 47.5625 5.09375 \r\nQ 40.234375 -1.421875 26.90625 -1.421875 \r\nQ 22.3125 -1.421875 17.546875 -0.640625 \r\nQ 12.796875 0.140625 7.71875 1.703125 \r\nL 7.71875 11.625 \r\nQ 12.109375 9.234375 16.796875 8.0625 \r\nQ 21.484375 6.890625 26.703125 6.890625 \r\nQ 35.15625 6.890625 40.078125 11.328125 \r\nQ 45.015625 15.765625 45.015625 23.390625 \r\nQ 45.015625 31 40.078125 35.4375 \r\nQ 35.15625 39.890625 26.703125 39.890625 \r\nQ 22.75 39.890625 18.8125 39.015625 \r\nQ 14.890625 38.140625 10.796875 36.28125 \r\nz\r\n\" id=\"DejaVuSans-53\"/>\r\n      </defs>\r\n      <g transform=\"translate(397.608794 308.716563)scale(0.1 -0.1)\">\r\n       <use xlink:href=\"#DejaVuSans-53\"/>\r\n       <use x=\"63.623047\" xlink:href=\"#DejaVuSans-48\"/>\r\n       <use x=\"127.246094\" xlink:href=\"#DejaVuSans-48\"/>\r\n       <use x=\"190.869141\" xlink:href=\"#DejaVuSans-48\"/>\r\n       <use x=\"254.492188\" xlink:href=\"#DejaVuSans-48\"/>\r\n      </g>\r\n     </g>\r\n    </g>\r\n    <g id=\"xtick_4\">\r\n     <g id=\"line2d_4\">\r\n      <g>\r\n       <use style=\"stroke:#000000;stroke-width:0.8;\" x=\"537.024926\" xlink:href=\"#m05ac00f783\" y=\"294.118125\"/>\r\n      </g>\r\n     </g>\r\n     <g id=\"text_4\">\r\n      <!-- 60000 -->\r\n      <defs>\r\n       <path d=\"M 33.015625 40.375 \r\nQ 26.375 40.375 22.484375 35.828125 \r\nQ 18.609375 31.296875 18.609375 23.390625 \r\nQ 18.609375 15.53125 22.484375 10.953125 \r\nQ 26.375 6.390625 33.015625 6.390625 \r\nQ 39.65625 6.390625 43.53125 10.953125 \r\nQ 47.40625 15.53125 47.40625 23.390625 \r\nQ 47.40625 31.296875 43.53125 35.828125 \r\nQ 39.65625 40.375 33.015625 40.375 \r\nz\r\nM 52.59375 71.296875 \r\nL 52.59375 62.3125 \r\nQ 48.875 64.0625 45.09375 64.984375 \r\nQ 41.3125 65.921875 37.59375 65.921875 \r\nQ 27.828125 65.921875 22.671875 59.328125 \r\nQ 17.53125 52.734375 16.796875 39.40625 \r\nQ 19.671875 43.65625 24.015625 45.921875 \r\nQ 28.375 48.1875 33.59375 48.1875 \r\nQ 44.578125 48.1875 50.953125 41.515625 \r\nQ 57.328125 34.859375 57.328125 23.390625 \r\nQ 57.328125 12.15625 50.6875 5.359375 \r\nQ 44.046875 -1.421875 33.015625 -1.421875 \r\nQ 20.359375 -1.421875 13.671875 8.265625 \r\nQ 6.984375 17.96875 6.984375 36.375 \r\nQ 6.984375 53.65625 15.1875 63.9375 \r\nQ 23.390625 74.21875 37.203125 74.21875 \r\nQ 40.921875 74.21875 44.703125 73.484375 \r\nQ 48.484375 72.75 52.59375 71.296875 \r\nz\r\n\" id=\"DejaVuSans-54\"/>\r\n      </defs>\r\n      <g transform=\"translate(521.118676 308.716563)scale(0.1 -0.1)\">\r\n       <use xlink:href=\"#DejaVuSans-54\"/>\r\n       <use x=\"63.623047\" xlink:href=\"#DejaVuSans-48\"/>\r\n       <use x=\"127.246094\" xlink:href=\"#DejaVuSans-48\"/>\r\n       <use x=\"190.869141\" xlink:href=\"#DejaVuSans-48\"/>\r\n       <use x=\"254.492188\" xlink:href=\"#DejaVuSans-48\"/>\r\n      </g>\r\n     </g>\r\n    </g>\r\n    <g id=\"xtick_5\">\r\n     <g id=\"line2d_5\">\r\n      <g>\r\n       <use style=\"stroke:#000000;stroke-width:0.8;\" x=\"660.534807\" xlink:href=\"#m05ac00f783\" y=\"294.118125\"/>\r\n      </g>\r\n     </g>\r\n     <g id=\"text_5\">\r\n      <!-- 70000 -->\r\n      <defs>\r\n       <path d=\"M 8.203125 72.90625 \r\nL 55.078125 72.90625 \r\nL 55.078125 68.703125 \r\nL 28.609375 0 \r\nL 18.3125 0 \r\nL 43.21875 64.59375 \r\nL 8.203125 64.59375 \r\nz\r\n\" id=\"DejaVuSans-55\"/>\r\n      </defs>\r\n      <g transform=\"translate(644.628557 308.716563)scale(0.1 -0.1)\">\r\n       <use xlink:href=\"#DejaVuSans-55\"/>\r\n       <use x=\"63.623047\" xlink:href=\"#DejaVuSans-48\"/>\r\n       <use x=\"127.246094\" xlink:href=\"#DejaVuSans-48\"/>\r\n       <use x=\"190.869141\" xlink:href=\"#DejaVuSans-48\"/>\r\n       <use x=\"254.492188\" xlink:href=\"#DejaVuSans-48\"/>\r\n      </g>\r\n     </g>\r\n    </g>\r\n    <g id=\"xtick_6\">\r\n     <g id=\"line2d_6\">\r\n      <g>\r\n       <use style=\"stroke:#000000;stroke-width:0.8;\" x=\"784.044689\" xlink:href=\"#m05ac00f783\" y=\"294.118125\"/>\r\n      </g>\r\n     </g>\r\n     <g id=\"text_6\">\r\n      <!-- 80000 -->\r\n      <defs>\r\n       <path d=\"M 31.78125 34.625 \r\nQ 24.75 34.625 20.71875 30.859375 \r\nQ 16.703125 27.09375 16.703125 20.515625 \r\nQ 16.703125 13.921875 20.71875 10.15625 \r\nQ 24.75 6.390625 31.78125 6.390625 \r\nQ 38.8125 6.390625 42.859375 10.171875 \r\nQ 46.921875 13.96875 46.921875 20.515625 \r\nQ 46.921875 27.09375 42.890625 30.859375 \r\nQ 38.875 34.625 31.78125 34.625 \r\nz\r\nM 21.921875 38.8125 \r\nQ 15.578125 40.375 12.03125 44.71875 \r\nQ 8.5 49.078125 8.5 55.328125 \r\nQ 8.5 64.0625 14.71875 69.140625 \r\nQ 20.953125 74.21875 31.78125 74.21875 \r\nQ 42.671875 74.21875 48.875 69.140625 \r\nQ 55.078125 64.0625 55.078125 55.328125 \r\nQ 55.078125 49.078125 51.53125 44.71875 \r\nQ 48 40.375 41.703125 38.8125 \r\nQ 48.828125 37.15625 52.796875 32.3125 \r\nQ 56.78125 27.484375 56.78125 20.515625 \r\nQ 56.78125 9.90625 50.3125 4.234375 \r\nQ 43.84375 -1.421875 31.78125 -1.421875 \r\nQ 19.734375 -1.421875 13.25 4.234375 \r\nQ 6.78125 9.90625 6.78125 20.515625 \r\nQ 6.78125 27.484375 10.78125 32.3125 \r\nQ 14.796875 37.15625 21.921875 38.8125 \r\nz\r\nM 18.3125 54.390625 \r\nQ 18.3125 48.734375 21.84375 45.5625 \r\nQ 25.390625 42.390625 31.78125 42.390625 \r\nQ 38.140625 42.390625 41.71875 45.5625 \r\nQ 45.3125 48.734375 45.3125 54.390625 \r\nQ 45.3125 60.0625 41.71875 63.234375 \r\nQ 38.140625 66.40625 31.78125 66.40625 \r\nQ 25.390625 66.40625 21.84375 63.234375 \r\nQ 18.3125 60.0625 18.3125 54.390625 \r\nz\r\n\" id=\"DejaVuSans-56\"/>\r\n      </defs>\r\n      <g transform=\"translate(768.138439 308.716563)scale(0.1 -0.1)\">\r\n       <use xlink:href=\"#DejaVuSans-56\"/>\r\n       <use x=\"63.623047\" xlink:href=\"#DejaVuSans-48\"/>\r\n       <use x=\"127.246094\" xlink:href=\"#DejaVuSans-48\"/>\r\n       <use x=\"190.869141\" xlink:href=\"#DejaVuSans-48\"/>\r\n       <use x=\"254.492188\" xlink:href=\"#DejaVuSans-48\"/>\r\n      </g>\r\n     </g>\r\n    </g>\r\n    <g id=\"text_7\">\r\n     <!-- plaquetas[kplaquetas/mL] -->\r\n     <defs>\r\n      <path d=\"M 18.109375 8.203125 \r\nL 18.109375 -20.796875 \r\nL 9.078125 -20.796875 \r\nL 9.078125 54.6875 \r\nL 18.109375 54.6875 \r\nL 18.109375 46.390625 \r\nQ 20.953125 51.265625 25.265625 53.625 \r\nQ 29.59375 56 35.59375 56 \r\nQ 45.5625 56 51.78125 48.09375 \r\nQ 58.015625 40.1875 58.015625 27.296875 \r\nQ 58.015625 14.40625 51.78125 6.484375 \r\nQ 45.5625 -1.421875 35.59375 -1.421875 \r\nQ 29.59375 -1.421875 25.265625 0.953125 \r\nQ 20.953125 3.328125 18.109375 8.203125 \r\nz\r\nM 48.6875 27.296875 \r\nQ 48.6875 37.203125 44.609375 42.84375 \r\nQ 40.53125 48.484375 33.40625 48.484375 \r\nQ 26.265625 48.484375 22.1875 42.84375 \r\nQ 18.109375 37.203125 18.109375 27.296875 \r\nQ 18.109375 17.390625 22.1875 11.75 \r\nQ 26.265625 6.109375 33.40625 6.109375 \r\nQ 40.53125 6.109375 44.609375 11.75 \r\nQ 48.6875 17.390625 48.6875 27.296875 \r\nz\r\n\" id=\"DejaVuSans-112\"/>\r\n      <path d=\"M 9.421875 75.984375 \r\nL 18.40625 75.984375 \r\nL 18.40625 0 \r\nL 9.421875 0 \r\nz\r\n\" id=\"DejaVuSans-108\"/>\r\n      <path d=\"M 34.28125 27.484375 \r\nQ 23.390625 27.484375 19.1875 25 \r\nQ 14.984375 22.515625 14.984375 16.5 \r\nQ 14.984375 11.71875 18.140625 8.90625 \r\nQ 21.296875 6.109375 26.703125 6.109375 \r\nQ 34.1875 6.109375 38.703125 11.40625 \r\nQ 43.21875 16.703125 43.21875 25.484375 \r\nL 43.21875 27.484375 \r\nz\r\nM 52.203125 31.203125 \r\nL 52.203125 0 \r\nL 43.21875 0 \r\nL 43.21875 8.296875 \r\nQ 40.140625 3.328125 35.546875 0.953125 \r\nQ 30.953125 -1.421875 24.3125 -1.421875 \r\nQ 15.921875 -1.421875 10.953125 3.296875 \r\nQ 6 8.015625 6 15.921875 \r\nQ 6 25.140625 12.171875 29.828125 \r\nQ 18.359375 34.515625 30.609375 34.515625 \r\nL 43.21875 34.515625 \r\nL 43.21875 35.40625 \r\nQ 43.21875 41.609375 39.140625 45 \r\nQ 35.0625 48.390625 27.6875 48.390625 \r\nQ 23 48.390625 18.546875 47.265625 \r\nQ 14.109375 46.140625 10.015625 43.890625 \r\nL 10.015625 52.203125 \r\nQ 14.9375 54.109375 19.578125 55.046875 \r\nQ 24.21875 56 28.609375 56 \r\nQ 40.484375 56 46.34375 49.84375 \r\nQ 52.203125 43.703125 52.203125 31.203125 \r\nz\r\n\" id=\"DejaVuSans-97\"/>\r\n      <path d=\"M 14.796875 27.296875 \r\nQ 14.796875 17.390625 18.875 11.75 \r\nQ 22.953125 6.109375 30.078125 6.109375 \r\nQ 37.203125 6.109375 41.296875 11.75 \r\nQ 45.40625 17.390625 45.40625 27.296875 \r\nQ 45.40625 37.203125 41.296875 42.84375 \r\nQ 37.203125 48.484375 30.078125 48.484375 \r\nQ 22.953125 48.484375 18.875 42.84375 \r\nQ 14.796875 37.203125 14.796875 27.296875 \r\nz\r\nM 45.40625 8.203125 \r\nQ 42.578125 3.328125 38.25 0.953125 \r\nQ 33.9375 -1.421875 27.875 -1.421875 \r\nQ 17.96875 -1.421875 11.734375 6.484375 \r\nQ 5.515625 14.40625 5.515625 27.296875 \r\nQ 5.515625 40.1875 11.734375 48.09375 \r\nQ 17.96875 56 27.875 56 \r\nQ 33.9375 56 38.25 53.625 \r\nQ 42.578125 51.265625 45.40625 46.390625 \r\nL 45.40625 54.6875 \r\nL 54.390625 54.6875 \r\nL 54.390625 -20.796875 \r\nL 45.40625 -20.796875 \r\nz\r\n\" id=\"DejaVuSans-113\"/>\r\n      <path d=\"M 8.5 21.578125 \r\nL 8.5 54.6875 \r\nL 17.484375 54.6875 \r\nL 17.484375 21.921875 \r\nQ 17.484375 14.15625 20.5 10.265625 \r\nQ 23.53125 6.390625 29.59375 6.390625 \r\nQ 36.859375 6.390625 41.078125 11.03125 \r\nQ 45.3125 15.671875 45.3125 23.6875 \r\nL 45.3125 54.6875 \r\nL 54.296875 54.6875 \r\nL 54.296875 0 \r\nL 45.3125 0 \r\nL 45.3125 8.40625 \r\nQ 42.046875 3.421875 37.71875 1 \r\nQ 33.40625 -1.421875 27.6875 -1.421875 \r\nQ 18.265625 -1.421875 13.375 4.4375 \r\nQ 8.5 10.296875 8.5 21.578125 \r\nz\r\nM 31.109375 56 \r\nz\r\n\" id=\"DejaVuSans-117\"/>\r\n      <path d=\"M 56.203125 29.59375 \r\nL 56.203125 25.203125 \r\nL 14.890625 25.203125 \r\nQ 15.484375 15.921875 20.484375 11.0625 \r\nQ 25.484375 6.203125 34.421875 6.203125 \r\nQ 39.59375 6.203125 44.453125 7.46875 \r\nQ 49.3125 8.734375 54.109375 11.28125 \r\nL 54.109375 2.78125 \r\nQ 49.265625 0.734375 44.1875 -0.34375 \r\nQ 39.109375 -1.421875 33.890625 -1.421875 \r\nQ 20.796875 -1.421875 13.15625 6.1875 \r\nQ 5.515625 13.8125 5.515625 26.8125 \r\nQ 5.515625 40.234375 12.765625 48.109375 \r\nQ 20.015625 56 32.328125 56 \r\nQ 43.359375 56 49.78125 48.890625 \r\nQ 56.203125 41.796875 56.203125 29.59375 \r\nz\r\nM 47.21875 32.234375 \r\nQ 47.125 39.59375 43.09375 43.984375 \r\nQ 39.0625 48.390625 32.421875 48.390625 \r\nQ 24.90625 48.390625 20.390625 44.140625 \r\nQ 15.875 39.890625 15.1875 32.171875 \r\nz\r\n\" id=\"DejaVuSans-101\"/>\r\n      <path d=\"M 18.3125 70.21875 \r\nL 18.3125 54.6875 \r\nL 36.8125 54.6875 \r\nL 36.8125 47.703125 \r\nL 18.3125 47.703125 \r\nL 18.3125 18.015625 \r\nQ 18.3125 11.328125 20.140625 9.421875 \r\nQ 21.96875 7.515625 27.59375 7.515625 \r\nL 36.8125 7.515625 \r\nL 36.8125 0 \r\nL 27.59375 0 \r\nQ 17.1875 0 13.234375 3.875 \r\nQ 9.28125 7.765625 9.28125 18.015625 \r\nL 9.28125 47.703125 \r\nL 2.6875 47.703125 \r\nL 2.6875 54.6875 \r\nL 9.28125 54.6875 \r\nL 9.28125 70.21875 \r\nz\r\n\" id=\"DejaVuSans-116\"/>\r\n      <path d=\"M 44.28125 53.078125 \r\nL 44.28125 44.578125 \r\nQ 40.484375 46.53125 36.375 47.5 \r\nQ 32.28125 48.484375 27.875 48.484375 \r\nQ 21.1875 48.484375 17.84375 46.4375 \r\nQ 14.5 44.390625 14.5 40.28125 \r\nQ 14.5 37.15625 16.890625 35.375 \r\nQ 19.28125 33.59375 26.515625 31.984375 \r\nL 29.59375 31.296875 \r\nQ 39.15625 29.25 43.1875 25.515625 \r\nQ 47.21875 21.78125 47.21875 15.09375 \r\nQ 47.21875 7.46875 41.1875 3.015625 \r\nQ 35.15625 -1.421875 24.609375 -1.421875 \r\nQ 20.21875 -1.421875 15.453125 -0.5625 \r\nQ 10.6875 0.296875 5.421875 2 \r\nL 5.421875 11.28125 \r\nQ 10.40625 8.6875 15.234375 7.390625 \r\nQ 20.0625 6.109375 24.8125 6.109375 \r\nQ 31.15625 6.109375 34.5625 8.28125 \r\nQ 37.984375 10.453125 37.984375 14.40625 \r\nQ 37.984375 18.0625 35.515625 20.015625 \r\nQ 33.0625 21.96875 24.703125 23.78125 \r\nL 21.578125 24.515625 \r\nQ 13.234375 26.265625 9.515625 29.90625 \r\nQ 5.8125 33.546875 5.8125 39.890625 \r\nQ 5.8125 47.609375 11.28125 51.796875 \r\nQ 16.75 56 26.8125 56 \r\nQ 31.78125 56 36.171875 55.265625 \r\nQ 40.578125 54.546875 44.28125 53.078125 \r\nz\r\n\" id=\"DejaVuSans-115\"/>\r\n      <path d=\"M 8.59375 75.984375 \r\nL 29.296875 75.984375 \r\nL 29.296875 69 \r\nL 17.578125 69 \r\nL 17.578125 -6.203125 \r\nL 29.296875 -6.203125 \r\nL 29.296875 -13.1875 \r\nL 8.59375 -13.1875 \r\nz\r\n\" id=\"DejaVuSans-91\"/>\r\n      <path d=\"M 9.078125 75.984375 \r\nL 18.109375 75.984375 \r\nL 18.109375 31.109375 \r\nL 44.921875 54.6875 \r\nL 56.390625 54.6875 \r\nL 27.390625 29.109375 \r\nL 57.625 0 \r\nL 45.90625 0 \r\nL 18.109375 26.703125 \r\nL 18.109375 0 \r\nL 9.078125 0 \r\nz\r\n\" id=\"DejaVuSans-107\"/>\r\n      <path d=\"M 25.390625 72.90625 \r\nL 33.6875 72.90625 \r\nL 8.296875 -9.28125 \r\nL 0 -9.28125 \r\nz\r\n\" id=\"DejaVuSans-47\"/>\r\n      <path d=\"M 52 44.1875 \r\nQ 55.375 50.25 60.0625 53.125 \r\nQ 64.75 56 71.09375 56 \r\nQ 79.640625 56 84.28125 50.015625 \r\nQ 88.921875 44.046875 88.921875 33.015625 \r\nL 88.921875 0 \r\nL 79.890625 0 \r\nL 79.890625 32.71875 \r\nQ 79.890625 40.578125 77.09375 44.375 \r\nQ 74.3125 48.1875 68.609375 48.1875 \r\nQ 61.625 48.1875 57.5625 43.546875 \r\nQ 53.515625 38.921875 53.515625 30.90625 \r\nL 53.515625 0 \r\nL 44.484375 0 \r\nL 44.484375 32.71875 \r\nQ 44.484375 40.625 41.703125 44.40625 \r\nQ 38.921875 48.1875 33.109375 48.1875 \r\nQ 26.21875 48.1875 22.15625 43.53125 \r\nQ 18.109375 38.875 18.109375 30.90625 \r\nL 18.109375 0 \r\nL 9.078125 0 \r\nL 9.078125 54.6875 \r\nL 18.109375 54.6875 \r\nL 18.109375 46.1875 \r\nQ 21.1875 51.21875 25.484375 53.609375 \r\nQ 29.78125 56 35.6875 56 \r\nQ 41.65625 56 45.828125 52.96875 \r\nQ 50 49.953125 52 44.1875 \r\nz\r\n\" id=\"DejaVuSans-109\"/>\r\n      <path d=\"M 9.8125 72.90625 \r\nL 19.671875 72.90625 \r\nL 19.671875 8.296875 \r\nL 55.171875 8.296875 \r\nL 55.171875 0 \r\nL 9.8125 0 \r\nz\r\n\" id=\"DejaVuSans-76\"/>\r\n      <path d=\"M 30.421875 75.984375 \r\nL 30.421875 -13.1875 \r\nL 9.71875 -13.1875 \r\nL 9.71875 -6.203125 \r\nL 21.390625 -6.203125 \r\nL 21.390625 69 \r\nL 9.71875 69 \r\nL 9.71875 75.984375 \r\nz\r\n\" id=\"DejaVuSans-93\"/>\r\n     </defs>\r\n     <g transform=\"translate(394.342188 322.394687)scale(0.1 -0.1)\">\r\n      <use xlink:href=\"#DejaVuSans-112\"/>\r\n      <use x=\"63.476562\" xlink:href=\"#DejaVuSans-108\"/>\r\n      <use x=\"91.259766\" xlink:href=\"#DejaVuSans-97\"/>\r\n      <use x=\"152.539062\" xlink:href=\"#DejaVuSans-113\"/>\r\n      <use x=\"216.015625\" xlink:href=\"#DejaVuSans-117\"/>\r\n      <use x=\"279.394531\" xlink:href=\"#DejaVuSans-101\"/>\r\n      <use x=\"340.917969\" xlink:href=\"#DejaVuSans-116\"/>\r\n      <use x=\"380.126953\" xlink:href=\"#DejaVuSans-97\"/>\r\n      <use x=\"441.40625\" xlink:href=\"#DejaVuSans-115\"/>\r\n      <use x=\"493.505859\" xlink:href=\"#DejaVuSans-91\"/>\r\n      <use x=\"532.519531\" xlink:href=\"#DejaVuSans-107\"/>\r\n      <use x=\"590.429688\" xlink:href=\"#DejaVuSans-112\"/>\r\n      <use x=\"653.90625\" xlink:href=\"#DejaVuSans-108\"/>\r\n      <use x=\"681.689453\" xlink:href=\"#DejaVuSans-97\"/>\r\n      <use x=\"742.96875\" xlink:href=\"#DejaVuSans-113\"/>\r\n      <use x=\"806.445312\" xlink:href=\"#DejaVuSans-117\"/>\r\n      <use x=\"869.824219\" xlink:href=\"#DejaVuSans-101\"/>\r\n      <use x=\"931.347656\" xlink:href=\"#DejaVuSans-116\"/>\r\n      <use x=\"970.556641\" xlink:href=\"#DejaVuSans-97\"/>\r\n      <use x=\"1031.835938\" xlink:href=\"#DejaVuSans-115\"/>\r\n      <use x=\"1083.935547\" xlink:href=\"#DejaVuSans-47\"/>\r\n      <use x=\"1117.626953\" xlink:href=\"#DejaVuSans-109\"/>\r\n      <use x=\"1215.039062\" xlink:href=\"#DejaVuSans-76\"/>\r\n      <use x=\"1270.751953\" xlink:href=\"#DejaVuSans-93\"/>\r\n     </g>\r\n    </g>\r\n   </g>\r\n   <g id=\"matplotlib.axis_2\">\r\n    <g id=\"ytick_1\">\r\n     <g id=\"line2d_7\">\r\n      <defs>\r\n       <path d=\"M 0 0 \r\nL -3.5 0 \r\n\" id=\"m349a13af4a\" style=\"stroke:#000000;stroke-width:0.8;\"/>\r\n      </defs>\r\n      <g>\r\n       <use style=\"stroke:#000000;stroke-width:0.8;\" x=\"69.23125\" xlink:href=\"#m349a13af4a\" y=\"294.118125\"/>\r\n      </g>\r\n     </g>\r\n     <g id=\"text_8\">\r\n      <!-- 0.00000 -->\r\n      <defs>\r\n       <path d=\"M 10.6875 12.40625 \r\nL 21 12.40625 \r\nL 21 0 \r\nL 10.6875 0 \r\nz\r\n\" id=\"DejaVuSans-46\"/>\r\n      </defs>\r\n      <g transform=\"translate(20.878125 297.917344)scale(0.1 -0.1)\">\r\n       <use xlink:href=\"#DejaVuSans-48\"/>\r\n       <use x=\"63.623047\" xlink:href=\"#DejaVuSans-46\"/>\r\n       <use x=\"95.410156\" xlink:href=\"#DejaVuSans-48\"/>\r\n       <use x=\"159.033203\" xlink:href=\"#DejaVuSans-48\"/>\r\n       <use x=\"222.65625\" xlink:href=\"#DejaVuSans-48\"/>\r\n       <use x=\"286.279297\" xlink:href=\"#DejaVuSans-48\"/>\r\n       <use x=\"349.902344\" xlink:href=\"#DejaVuSans-48\"/>\r\n      </g>\r\n     </g>\r\n    </g>\r\n    <g id=\"ytick_2\">\r\n     <g id=\"line2d_8\">\r\n      <g>\r\n       <use style=\"stroke:#000000;stroke-width:0.8;\" x=\"69.23125\" xlink:href=\"#m349a13af4a\" y=\"255.289554\"/>\r\n      </g>\r\n     </g>\r\n     <g id=\"text_9\">\r\n      <!-- 0.00002 -->\r\n      <defs>\r\n       <path d=\"M 19.1875 8.296875 \r\nL 53.609375 8.296875 \r\nL 53.609375 0 \r\nL 7.328125 0 \r\nL 7.328125 8.296875 \r\nQ 12.9375 14.109375 22.625 23.890625 \r\nQ 32.328125 33.6875 34.8125 36.53125 \r\nQ 39.546875 41.84375 41.421875 45.53125 \r\nQ 43.3125 49.21875 43.3125 52.78125 \r\nQ 43.3125 58.59375 39.234375 62.25 \r\nQ 35.15625 65.921875 28.609375 65.921875 \r\nQ 23.96875 65.921875 18.8125 64.3125 \r\nQ 13.671875 62.703125 7.8125 59.421875 \r\nL 7.8125 69.390625 \r\nQ 13.765625 71.78125 18.9375 73 \r\nQ 24.125 74.21875 28.421875 74.21875 \r\nQ 39.75 74.21875 46.484375 68.546875 \r\nQ 53.21875 62.890625 53.21875 53.421875 \r\nQ 53.21875 48.921875 51.53125 44.890625 \r\nQ 49.859375 40.875 45.40625 35.40625 \r\nQ 44.1875 33.984375 37.640625 27.21875 \r\nQ 31.109375 20.453125 19.1875 8.296875 \r\nz\r\n\" id=\"DejaVuSans-50\"/>\r\n      </defs>\r\n      <g transform=\"translate(20.878125 259.088772)scale(0.1 -0.1)\">\r\n       <use xlink:href=\"#DejaVuSans-48\"/>\r\n       <use x=\"63.623047\" xlink:href=\"#DejaVuSans-46\"/>\r\n       <use x=\"95.410156\" xlink:href=\"#DejaVuSans-48\"/>\r\n       <use x=\"159.033203\" xlink:href=\"#DejaVuSans-48\"/>\r\n       <use x=\"222.65625\" xlink:href=\"#DejaVuSans-48\"/>\r\n       <use x=\"286.279297\" xlink:href=\"#DejaVuSans-48\"/>\r\n       <use x=\"349.902344\" xlink:href=\"#DejaVuSans-50\"/>\r\n      </g>\r\n     </g>\r\n    </g>\r\n    <g id=\"ytick_3\">\r\n     <g id=\"line2d_9\">\r\n      <g>\r\n       <use style=\"stroke:#000000;stroke-width:0.8;\" x=\"69.23125\" xlink:href=\"#m349a13af4a\" y=\"216.460982\"/>\r\n      </g>\r\n     </g>\r\n     <g id=\"text_10\">\r\n      <!-- 0.00004 -->\r\n      <g transform=\"translate(20.878125 220.260201)scale(0.1 -0.1)\">\r\n       <use xlink:href=\"#DejaVuSans-48\"/>\r\n       <use x=\"63.623047\" xlink:href=\"#DejaVuSans-46\"/>\r\n       <use x=\"95.410156\" xlink:href=\"#DejaVuSans-48\"/>\r\n       <use x=\"159.033203\" xlink:href=\"#DejaVuSans-48\"/>\r\n       <use x=\"222.65625\" xlink:href=\"#DejaVuSans-48\"/>\r\n       <use x=\"286.279297\" xlink:href=\"#DejaVuSans-48\"/>\r\n       <use x=\"349.902344\" xlink:href=\"#DejaVuSans-52\"/>\r\n      </g>\r\n     </g>\r\n    </g>\r\n    <g id=\"ytick_4\">\r\n     <g id=\"line2d_10\">\r\n      <g>\r\n       <use style=\"stroke:#000000;stroke-width:0.8;\" x=\"69.23125\" xlink:href=\"#m349a13af4a\" y=\"177.632411\"/>\r\n      </g>\r\n     </g>\r\n     <g id=\"text_11\">\r\n      <!-- 0.00006 -->\r\n      <g transform=\"translate(20.878125 181.431629)scale(0.1 -0.1)\">\r\n       <use xlink:href=\"#DejaVuSans-48\"/>\r\n       <use x=\"63.623047\" xlink:href=\"#DejaVuSans-46\"/>\r\n       <use x=\"95.410156\" xlink:href=\"#DejaVuSans-48\"/>\r\n       <use x=\"159.033203\" xlink:href=\"#DejaVuSans-48\"/>\r\n       <use x=\"222.65625\" xlink:href=\"#DejaVuSans-48\"/>\r\n       <use x=\"286.279297\" xlink:href=\"#DejaVuSans-48\"/>\r\n       <use x=\"349.902344\" xlink:href=\"#DejaVuSans-54\"/>\r\n      </g>\r\n     </g>\r\n    </g>\r\n    <g id=\"ytick_5\">\r\n     <g id=\"line2d_11\">\r\n      <g>\r\n       <use style=\"stroke:#000000;stroke-width:0.8;\" x=\"69.23125\" xlink:href=\"#m349a13af4a\" y=\"138.803839\"/>\r\n      </g>\r\n     </g>\r\n     <g id=\"text_12\">\r\n      <!-- 0.00008 -->\r\n      <g transform=\"translate(20.878125 142.603058)scale(0.1 -0.1)\">\r\n       <use xlink:href=\"#DejaVuSans-48\"/>\r\n       <use x=\"63.623047\" xlink:href=\"#DejaVuSans-46\"/>\r\n       <use x=\"95.410156\" xlink:href=\"#DejaVuSans-48\"/>\r\n       <use x=\"159.033203\" xlink:href=\"#DejaVuSans-48\"/>\r\n       <use x=\"222.65625\" xlink:href=\"#DejaVuSans-48\"/>\r\n       <use x=\"286.279297\" xlink:href=\"#DejaVuSans-48\"/>\r\n       <use x=\"349.902344\" xlink:href=\"#DejaVuSans-56\"/>\r\n      </g>\r\n     </g>\r\n    </g>\r\n    <g id=\"ytick_6\">\r\n     <g id=\"line2d_12\">\r\n      <g>\r\n       <use style=\"stroke:#000000;stroke-width:0.8;\" x=\"69.23125\" xlink:href=\"#m349a13af4a\" y=\"99.975268\"/>\r\n      </g>\r\n     </g>\r\n     <g id=\"text_13\">\r\n      <!-- 0.00010 -->\r\n      <defs>\r\n       <path d=\"M 12.40625 8.296875 \r\nL 28.515625 8.296875 \r\nL 28.515625 63.921875 \r\nL 10.984375 60.40625 \r\nL 10.984375 69.390625 \r\nL 28.421875 72.90625 \r\nL 38.28125 72.90625 \r\nL 38.28125 8.296875 \r\nL 54.390625 8.296875 \r\nL 54.390625 0 \r\nL 12.40625 0 \r\nz\r\n\" id=\"DejaVuSans-49\"/>\r\n      </defs>\r\n      <g transform=\"translate(20.878125 103.774487)scale(0.1 -0.1)\">\r\n       <use xlink:href=\"#DejaVuSans-48\"/>\r\n       <use x=\"63.623047\" xlink:href=\"#DejaVuSans-46\"/>\r\n       <use x=\"95.410156\" xlink:href=\"#DejaVuSans-48\"/>\r\n       <use x=\"159.033203\" xlink:href=\"#DejaVuSans-48\"/>\r\n       <use x=\"222.65625\" xlink:href=\"#DejaVuSans-48\"/>\r\n       <use x=\"286.279297\" xlink:href=\"#DejaVuSans-49\"/>\r\n       <use x=\"349.902344\" xlink:href=\"#DejaVuSans-48\"/>\r\n      </g>\r\n     </g>\r\n    </g>\r\n    <g id=\"ytick_7\">\r\n     <g id=\"line2d_13\">\r\n      <g>\r\n       <use style=\"stroke:#000000;stroke-width:0.8;\" x=\"69.23125\" xlink:href=\"#m349a13af4a\" y=\"61.146696\"/>\r\n      </g>\r\n     </g>\r\n     <g id=\"text_14\">\r\n      <!-- 0.00012 -->\r\n      <g transform=\"translate(20.878125 64.945915)scale(0.1 -0.1)\">\r\n       <use xlink:href=\"#DejaVuSans-48\"/>\r\n       <use x=\"63.623047\" xlink:href=\"#DejaVuSans-46\"/>\r\n       <use x=\"95.410156\" xlink:href=\"#DejaVuSans-48\"/>\r\n       <use x=\"159.033203\" xlink:href=\"#DejaVuSans-48\"/>\r\n       <use x=\"222.65625\" xlink:href=\"#DejaVuSans-48\"/>\r\n       <use x=\"286.279297\" xlink:href=\"#DejaVuSans-49\"/>\r\n       <use x=\"349.902344\" xlink:href=\"#DejaVuSans-50\"/>\r\n      </g>\r\n     </g>\r\n    </g>\r\n    <g id=\"ytick_8\">\r\n     <g id=\"line2d_14\">\r\n      <g>\r\n       <use style=\"stroke:#000000;stroke-width:0.8;\" x=\"69.23125\" xlink:href=\"#m349a13af4a\" y=\"22.318125\"/>\r\n      </g>\r\n     </g>\r\n     <g id=\"text_15\">\r\n      <!-- 0.00014 -->\r\n      <g transform=\"translate(20.878125 26.117344)scale(0.1 -0.1)\">\r\n       <use xlink:href=\"#DejaVuSans-48\"/>\r\n       <use x=\"63.623047\" xlink:href=\"#DejaVuSans-46\"/>\r\n       <use x=\"95.410156\" xlink:href=\"#DejaVuSans-48\"/>\r\n       <use x=\"159.033203\" xlink:href=\"#DejaVuSans-48\"/>\r\n       <use x=\"222.65625\" xlink:href=\"#DejaVuSans-48\"/>\r\n       <use x=\"286.279297\" xlink:href=\"#DejaVuSans-49\"/>\r\n       <use x=\"349.902344\" xlink:href=\"#DejaVuSans-52\"/>\r\n      </g>\r\n     </g>\r\n    </g>\r\n    <g id=\"text_16\">\r\n     <!-- densidade -->\r\n     <defs>\r\n      <path d=\"M 45.40625 46.390625 \r\nL 45.40625 75.984375 \r\nL 54.390625 75.984375 \r\nL 54.390625 0 \r\nL 45.40625 0 \r\nL 45.40625 8.203125 \r\nQ 42.578125 3.328125 38.25 0.953125 \r\nQ 33.9375 -1.421875 27.875 -1.421875 \r\nQ 17.96875 -1.421875 11.734375 6.484375 \r\nQ 5.515625 14.40625 5.515625 27.296875 \r\nQ 5.515625 40.1875 11.734375 48.09375 \r\nQ 17.96875 56 27.875 56 \r\nQ 33.9375 56 38.25 53.625 \r\nQ 42.578125 51.265625 45.40625 46.390625 \r\nz\r\nM 14.796875 27.296875 \r\nQ 14.796875 17.390625 18.875 11.75 \r\nQ 22.953125 6.109375 30.078125 6.109375 \r\nQ 37.203125 6.109375 41.296875 11.75 \r\nQ 45.40625 17.390625 45.40625 27.296875 \r\nQ 45.40625 37.203125 41.296875 42.84375 \r\nQ 37.203125 48.484375 30.078125 48.484375 \r\nQ 22.953125 48.484375 18.875 42.84375 \r\nQ 14.796875 37.203125 14.796875 27.296875 \r\nz\r\n\" id=\"DejaVuSans-100\"/>\r\n      <path d=\"M 54.890625 33.015625 \r\nL 54.890625 0 \r\nL 45.90625 0 \r\nL 45.90625 32.71875 \r\nQ 45.90625 40.484375 42.875 44.328125 \r\nQ 39.84375 48.1875 33.796875 48.1875 \r\nQ 26.515625 48.1875 22.3125 43.546875 \r\nQ 18.109375 38.921875 18.109375 30.90625 \r\nL 18.109375 0 \r\nL 9.078125 0 \r\nL 9.078125 54.6875 \r\nL 18.109375 54.6875 \r\nL 18.109375 46.1875 \r\nQ 21.34375 51.125 25.703125 53.5625 \r\nQ 30.078125 56 35.796875 56 \r\nQ 45.21875 56 50.046875 50.171875 \r\nQ 54.890625 44.34375 54.890625 33.015625 \r\nz\r\n\" id=\"DejaVuSans-110\"/>\r\n      <path d=\"M 9.421875 54.6875 \r\nL 18.40625 54.6875 \r\nL 18.40625 0 \r\nL 9.421875 0 \r\nz\r\nM 9.421875 75.984375 \r\nL 18.40625 75.984375 \r\nL 18.40625 64.59375 \r\nL 9.421875 64.59375 \r\nz\r\n\" id=\"DejaVuSans-105\"/>\r\n     </defs>\r\n     <g transform=\"translate(14.798438 184.120469)rotate(-90)scale(0.1 -0.1)\">\r\n      <use xlink:href=\"#DejaVuSans-100\"/>\r\n      <use x=\"63.476562\" xlink:href=\"#DejaVuSans-101\"/>\r\n      <use x=\"125\" xlink:href=\"#DejaVuSans-110\"/>\r\n      <use x=\"188.378906\" xlink:href=\"#DejaVuSans-115\"/>\r\n      <use x=\"240.478516\" xlink:href=\"#DejaVuSans-105\"/>\r\n      <use x=\"268.261719\" xlink:href=\"#DejaVuSans-100\"/>\r\n      <use x=\"331.738281\" xlink:href=\"#DejaVuSans-97\"/>\r\n      <use x=\"393.017578\" xlink:href=\"#DejaVuSans-100\"/>\r\n      <use x=\"456.494141\" xlink:href=\"#DejaVuSans-101\"/>\r\n     </g>\r\n    </g>\r\n   </g>\r\n   <g id=\"patch_49\">\r\n    <path d=\"M 69.23125 294.118125 \r\nL 69.23125 22.318125 \r\n\" style=\"fill:none;stroke:#000000;stroke-linecap:square;stroke-linejoin:miter;stroke-width:0.8;\"/>\r\n   </g>\r\n   <g id=\"patch_50\">\r\n    <path d=\"M 850.43125 294.118125 \r\nL 850.43125 22.318125 \r\n\" style=\"fill:none;stroke:#000000;stroke-linecap:square;stroke-linejoin:miter;stroke-width:0.8;\"/>\r\n   </g>\r\n   <g id=\"patch_51\">\r\n    <path d=\"M 69.23125 294.118125 \r\nL 850.43125 294.118125 \r\n\" style=\"fill:none;stroke:#000000;stroke-linecap:square;stroke-linejoin:miter;stroke-width:0.8;\"/>\r\n   </g>\r\n   <g id=\"patch_52\">\r\n    <path d=\"M 69.23125 22.318125 \r\nL 850.43125 22.318125 \r\n\" style=\"fill:none;stroke:#000000;stroke-linecap:square;stroke-linejoin:miter;stroke-width:0.8;\"/>\r\n   </g>\r\n   <g id=\"text_17\">\r\n    <!-- plaquetas -->\r\n    <g transform=\"translate(430.220313 16.318125)scale(0.12 -0.12)\">\r\n     <use xlink:href=\"#DejaVuSans-112\"/>\r\n     <use x=\"63.476562\" xlink:href=\"#DejaVuSans-108\"/>\r\n     <use x=\"91.259766\" xlink:href=\"#DejaVuSans-97\"/>\r\n     <use x=\"152.539062\" xlink:href=\"#DejaVuSans-113\"/>\r\n     <use x=\"216.015625\" xlink:href=\"#DejaVuSans-117\"/>\r\n     <use x=\"279.394531\" xlink:href=\"#DejaVuSans-101\"/>\r\n     <use x=\"340.917969\" xlink:href=\"#DejaVuSans-116\"/>\r\n     <use x=\"380.126953\" xlink:href=\"#DejaVuSans-97\"/>\r\n     <use x=\"441.40625\" xlink:href=\"#DejaVuSans-115\"/>\r\n    </g>\r\n   </g>\r\n   <g id=\"legend_1\">\r\n    <g id=\"patch_53\">\r\n     <path d=\"M 805.06875 59.674375 \r\nL 843.43125 59.674375 \r\nQ 845.43125 59.674375 845.43125 57.674375 \r\nL 845.43125 29.318125 \r\nQ 845.43125 27.318125 843.43125 27.318125 \r\nL 805.06875 27.318125 \r\nQ 803.06875 27.318125 803.06875 29.318125 \r\nL 803.06875 57.674375 \r\nQ 803.06875 59.674375 805.06875 59.674375 \r\nz\r\n\" style=\"fill:#ffffff;opacity:0.8;stroke:#cccccc;stroke-linejoin:miter;\"/>\r\n    </g>\r\n    <g id=\"patch_54\">\r\n     <path d=\"M 807.06875 38.916562 \r\nL 827.06875 38.916562 \r\nL 827.06875 31.916562 \r\nL 807.06875 31.916562 \r\nz\r\n\" style=\"fill:#ff0000;stroke:#ffffff;stroke-linejoin:miter;\"/>\r\n    </g>\r\n    <g id=\"text_18\">\r\n     <!-- 1 -->\r\n     <g transform=\"translate(835.06875 38.916562)scale(0.1 -0.1)\">\r\n      <use xlink:href=\"#DejaVuSans-49\"/>\r\n     </g>\r\n    </g>\r\n    <g id=\"patch_55\">\r\n     <path d=\"M 807.06875 53.594688 \r\nL 827.06875 53.594688 \r\nL 827.06875 46.594688 \r\nL 807.06875 46.594688 \r\nz\r\n\" style=\"fill:#87ceeb;opacity:0.8;stroke:#ffffff;stroke-linejoin:miter;\"/>\r\n    </g>\r\n    <g id=\"text_19\">\r\n     <!-- 0 -->\r\n     <g transform=\"translate(835.06875 53.594688)scale(0.1 -0.1)\">\r\n      <use xlink:href=\"#DejaVuSans-48\"/>\r\n     </g>\r\n    </g>\r\n   </g>\r\n  </g>\r\n </g>\r\n <defs>\r\n  <clipPath id=\"p092ba4a81a\">\r\n   <rect height=\"271.8\" width=\"781.2\" x=\"69.23125\" y=\"22.318125\"/>\r\n  </clipPath>\r\n </defs>\r\n</svg>\r\n",
      "image/png": "[encoded data removed]"
     },
     "metadata": {
      "needs_background": "light"
     }
    }
   ],
   "source": [
    "#Histograma de plaquetas no sangue de sobreviventes e não sobreviventes\n",
    "faixas = np.arange(25000,85000,2500)\n",
    "plt.figure(figsize=(14, 5))\n",
    "plt.hist(dead.platelets, bins=faixas, density=True, color='red', edgecolor='white', linewidth=1)\n",
    "plt.hist(not_dead.platelets, bins=faixas, density=True, color='skyblue', edgecolor='white', linewidth=1, alpha=0.8)\n",
    "plt.legend('10')\n",
    "plt.title('plaquetas')\n",
    "plt.xlabel('plaquetas[kplaquetas/mL]')\n",
    "plt.ylabel('densidade')\n",
    "plt.show()"
   ]
  },
  {
   "source": [
    "Observando o gráfico, não foi possível concluir nehuma análise concreta, uma vez que há muita dispersão e poucos focos dos valores.\n"
   ],
   "cell_type": "markdown",
   "metadata": {}
  },
  {
   "cell_type": "code",
   "execution_count": 19,
   "metadata": {},
   "outputs": [
    {
     "output_type": "display_data",
     "data": {
      "text/plain": "<Figure size 1008x360 with 1 Axes>",
      "image/svg+xml": "<?xml version=\"1.0\" encoding=\"utf-8\" standalone=\"no\"?>\r\n<!DOCTYPE svg PUBLIC \"-//W3C//DTD SVG 1.1//EN\"\r\n  \"http://www.w3.org/Graphics/SVG/1.1/DTD/svg11.dtd\">\r\n<!-- Created with matplotlib (https://matplotlib.org/) -->\r\n<svg height=\"331.674375pt\" version=\"1.1\" viewBox=\"0 0 832.18125 331.674375\" width=\"832.18125pt\" xmlns=\"http://www.w3.org/2000/svg\" xmlns:xlink=\"http://www.w3.org/1999/xlink\">\r\n <defs>\r\n  <style type=\"text/css\">\r\n*{stroke-linecap:butt;stroke-linejoin:round;}\r\n  </style>\r\n </defs>\r\n <g id=\"figure_1\">\r\n  <g id=\"patch_1\">\r\n   <path d=\"M 0 331.674375 \r\nL 832.18125 331.674375 \r\nL 832.18125 0 \r\nL 0 0 \r\nz\r\n\" style=\"fill:none;\"/>\r\n  </g>\r\n  <g id=\"axes_1\">\r\n   <g id=\"patch_2\">\r\n    <path d=\"M 43.78125 294.118125 \r\nL 824.98125 294.118125 \r\nL 824.98125 22.318125 \r\nL 43.78125 22.318125 \r\nz\r\n\" style=\"fill:#ffffff;\"/>\r\n   </g>\r\n   <g id=\"patch_3\">\r\n    <path clip-path=\"url(#p8963ecde60)\" d=\"M 79.290341 294.118125 \r\nL 121.065742 294.118125 \r\nL 121.065742 246.250514 \r\nL 79.290341 246.250514 \r\nz\r\n\" style=\"fill:#ff0000;stroke:#ffffff;stroke-linejoin:miter;\"/>\r\n   </g>\r\n   <g id=\"patch_4\">\r\n    <path clip-path=\"url(#p8963ecde60)\" d=\"M 121.065742 294.118125 \r\nL 162.841143 294.118125 \r\nL 162.841143 70.735939 \r\nL 121.065742 70.735939 \r\nz\r\n\" style=\"fill:#ff0000;stroke:#ffffff;stroke-linejoin:miter;\"/>\r\n   </g>\r\n   <g id=\"patch_5\">\r\n    <path clip-path=\"url(#p8963ecde60)\" d=\"M 162.841143 294.118125 \r\nL 204.616544 294.118125 \r\nL 204.616544 171.789785 \r\nL 162.841143 171.789785 \r\nz\r\n\" style=\"fill:#ff0000;stroke:#ffffff;stroke-linejoin:miter;\"/>\r\n   </g>\r\n   <g id=\"patch_6\">\r\n    <path clip-path=\"url(#p8963ecde60)\" d=\"M 204.616544 294.118125 \r\nL 246.391945 294.118125 \r\nL 246.391945 256.887761 \r\nL 204.616544 256.887761 \r\nz\r\n\" style=\"fill:#ff0000;stroke:#ffffff;stroke-linejoin:miter;\"/>\r\n   </g>\r\n   <g id=\"patch_7\">\r\n    <path clip-path=\"url(#p8963ecde60)\" d=\"M 246.391945 294.118125 \r\nL 288.167346 294.118125 \r\nL 288.167346 267.525008 \r\nL 246.391945 267.525008 \r\nz\r\n\" style=\"fill:#ff0000;stroke:#ffffff;stroke-linejoin:miter;\"/>\r\n   </g>\r\n   <g id=\"patch_8\">\r\n    <path clip-path=\"url(#p8963ecde60)\" d=\"M 288.167346 294.118125 \r\nL 329.942747 294.118125 \r\nL 329.942747 283.480878 \r\nL 288.167346 283.480878 \r\nz\r\n\" style=\"fill:#ff0000;stroke:#ffffff;stroke-linejoin:miter;\"/>\r\n   </g>\r\n   <g id=\"patch_9\">\r\n    <path clip-path=\"url(#p8963ecde60)\" d=\"M 329.942747 294.118125 \r\nL 371.718148 294.118125 \r\nL 371.718148 283.480878 \r\nL 329.942747 283.480878 \r\nz\r\n\" style=\"fill:#ff0000;stroke:#ffffff;stroke-linejoin:miter;\"/>\r\n   </g>\r\n   <g id=\"patch_10\">\r\n    <path clip-path=\"url(#p8963ecde60)\" d=\"M 371.718148 294.118125 \r\nL 413.493549 294.118125 \r\nL 413.493549 283.480878 \r\nL 371.718148 283.480878 \r\nz\r\n\" style=\"fill:#ff0000;stroke:#ffffff;stroke-linejoin:miter;\"/>\r\n   </g>\r\n   <g id=\"patch_11\">\r\n    <path clip-path=\"url(#p8963ecde60)\" d=\"M 413.493549 294.118125 \r\nL 455.268951 294.118125 \r\nL 455.268951 294.118125 \r\nL 413.493549 294.118125 \r\nz\r\n\" style=\"fill:#ff0000;stroke:#ffffff;stroke-linejoin:miter;\"/>\r\n   </g>\r\n   <g id=\"patch_12\">\r\n    <path clip-path=\"url(#p8963ecde60)\" d=\"M 455.268951 294.118125 \r\nL 497.044352 294.118125 \r\nL 497.044352 294.118125 \r\nL 455.268951 294.118125 \r\nz\r\n\" style=\"fill:#ff0000;stroke:#ffffff;stroke-linejoin:miter;\"/>\r\n   </g>\r\n   <g id=\"patch_13\">\r\n    <path clip-path=\"url(#p8963ecde60)\" d=\"M 497.044352 294.118125 \r\nL 538.819753 294.118125 \r\nL 538.819753 288.799502 \r\nL 497.044352 288.799502 \r\nz\r\n\" style=\"fill:#ff0000;stroke:#ffffff;stroke-linejoin:miter;\"/>\r\n   </g>\r\n   <g id=\"patch_14\">\r\n    <path clip-path=\"url(#p8963ecde60)\" d=\"M 538.819753 294.118125 \r\nL 580.595154 294.118125 \r\nL 580.595154 294.118125 \r\nL 538.819753 294.118125 \r\nz\r\n\" style=\"fill:#ff0000;stroke:#ffffff;stroke-linejoin:miter;\"/>\r\n   </g>\r\n   <g id=\"patch_15\">\r\n    <path clip-path=\"url(#p8963ecde60)\" d=\"M 580.595154 294.118125 \r\nL 622.370555 294.118125 \r\nL 622.370555 288.799502 \r\nL 580.595154 288.799502 \r\nz\r\n\" style=\"fill:#ff0000;stroke:#ffffff;stroke-linejoin:miter;\"/>\r\n   </g>\r\n   <g id=\"patch_16\">\r\n    <path clip-path=\"url(#p8963ecde60)\" d=\"M 622.370555 294.118125 \r\nL 664.145956 294.118125 \r\nL 664.145956 294.118125 \r\nL 622.370555 294.118125 \r\nz\r\n\" style=\"fill:#ff0000;stroke:#ffffff;stroke-linejoin:miter;\"/>\r\n   </g>\r\n   <g id=\"patch_17\">\r\n    <path clip-path=\"url(#p8963ecde60)\" d=\"M 664.145956 294.118125 \r\nL 705.921357 294.118125 \r\nL 705.921357 294.118125 \r\nL 664.145956 294.118125 \r\nz\r\n\" style=\"fill:#ff0000;stroke:#ffffff;stroke-linejoin:miter;\"/>\r\n   </g>\r\n   <g id=\"patch_18\">\r\n    <path clip-path=\"url(#p8963ecde60)\" d=\"M 705.921357 294.118125 \r\nL 747.696758 294.118125 \r\nL 747.696758 294.118125 \r\nL 705.921357 294.118125 \r\nz\r\n\" style=\"fill:#ff0000;stroke:#ffffff;stroke-linejoin:miter;\"/>\r\n   </g>\r\n   <g id=\"patch_19\">\r\n    <path clip-path=\"url(#p8963ecde60)\" d=\"M 747.696758 294.118125 \r\nL 789.472159 294.118125 \r\nL 789.472159 288.799502 \r\nL 747.696758 288.799502 \r\nz\r\n\" style=\"fill:#ff0000;stroke:#ffffff;stroke-linejoin:miter;\"/>\r\n   </g>\r\n   <g id=\"patch_20\">\r\n    <path clip-path=\"url(#p8963ecde60)\" d=\"M 79.290341 294.118125 \r\nL 121.065742 294.118125 \r\nL 121.065742 114.909334 \r\nL 79.290341 114.909334 \r\nz\r\n\" style=\"fill:#87ceeb;opacity:0.8;stroke:#ffffff;stroke-linejoin:miter;\"/>\r\n   </g>\r\n   <g id=\"patch_21\">\r\n    <path clip-path=\"url(#p8963ecde60)\" d=\"M 121.065742 294.118125 \r\nL 162.841143 294.118125 \r\nL 162.841143 35.260982 \r\nL 121.065742 35.260982 \r\nz\r\n\" style=\"fill:#87ceeb;opacity:0.8;stroke:#ffffff;stroke-linejoin:miter;\"/>\r\n   </g>\r\n   <g id=\"patch_22\">\r\n    <path clip-path=\"url(#p8963ecde60)\" d=\"M 162.841143 294.118125 \r\nL 204.616544 294.118125 \r\nL 204.616544 259.271971 \r\nL 162.841143 259.271971 \r\nz\r\n\" style=\"fill:#87ceeb;opacity:0.8;stroke:#ffffff;stroke-linejoin:miter;\"/>\r\n   </g>\r\n   <g id=\"patch_23\">\r\n    <path clip-path=\"url(#p8963ecde60)\" d=\"M 204.616544 294.118125 \r\nL 246.391945 294.118125 \r\nL 246.391945 281.67307 \r\nL 204.616544 281.67307 \r\nz\r\n\" style=\"fill:#87ceeb;opacity:0.8;stroke:#ffffff;stroke-linejoin:miter;\"/>\r\n   </g>\r\n   <g id=\"patch_24\">\r\n    <path clip-path=\"url(#p8963ecde60)\" d=\"M 246.391945 294.118125 \r\nL 288.167346 294.118125 \r\nL 288.167346 289.140103 \r\nL 246.391945 289.140103 \r\nz\r\n\" style=\"fill:#87ceeb;opacity:0.8;stroke:#ffffff;stroke-linejoin:miter;\"/>\r\n   </g>\r\n   <g id=\"patch_25\">\r\n    <path clip-path=\"url(#p8963ecde60)\" d=\"M 288.167346 294.118125 \r\nL 329.942747 294.118125 \r\nL 329.942747 289.140103 \r\nL 288.167346 289.140103 \r\nz\r\n\" style=\"fill:#87ceeb;opacity:0.8;stroke:#ffffff;stroke-linejoin:miter;\"/>\r\n   </g>\r\n   <g id=\"patch_26\">\r\n    <path clip-path=\"url(#p8963ecde60)\" d=\"M 329.942747 294.118125 \r\nL 371.718148 294.118125 \r\nL 371.718148 289.140103 \r\nL 329.942747 289.140103 \r\nz\r\n\" style=\"fill:#87ceeb;opacity:0.8;stroke:#ffffff;stroke-linejoin:miter;\"/>\r\n   </g>\r\n   <g id=\"patch_27\">\r\n    <path clip-path=\"url(#p8963ecde60)\" d=\"M 371.718148 294.118125 \r\nL 413.493549 294.118125 \r\nL 413.493549 294.118125 \r\nL 371.718148 294.118125 \r\nz\r\n\" style=\"fill:#87ceeb;opacity:0.8;stroke:#ffffff;stroke-linejoin:miter;\"/>\r\n   </g>\r\n   <g id=\"patch_28\">\r\n    <path clip-path=\"url(#p8963ecde60)\" d=\"M 413.493549 294.118125 \r\nL 455.268951 294.118125 \r\nL 455.268951 294.118125 \r\nL 413.493549 294.118125 \r\nz\r\n\" style=\"fill:#87ceeb;opacity:0.8;stroke:#ffffff;stroke-linejoin:miter;\"/>\r\n   </g>\r\n   <g id=\"patch_29\">\r\n    <path clip-path=\"url(#p8963ecde60)\" d=\"M 455.268951 294.118125 \r\nL 497.044352 294.118125 \r\nL 497.044352 291.629114 \r\nL 455.268951 291.629114 \r\nz\r\n\" style=\"fill:#87ceeb;opacity:0.8;stroke:#ffffff;stroke-linejoin:miter;\"/>\r\n   </g>\r\n   <g id=\"patch_30\">\r\n    <path clip-path=\"url(#p8963ecde60)\" d=\"M 497.044352 294.118125 \r\nL 538.819753 294.118125 \r\nL 538.819753 294.118125 \r\nL 497.044352 294.118125 \r\nz\r\n\" style=\"fill:#87ceeb;opacity:0.8;stroke:#ffffff;stroke-linejoin:miter;\"/>\r\n   </g>\r\n   <g id=\"patch_31\">\r\n    <path clip-path=\"url(#p8963ecde60)\" d=\"M 538.819753 294.118125 \r\nL 580.595154 294.118125 \r\nL 580.595154 291.629114 \r\nL 538.819753 291.629114 \r\nz\r\n\" style=\"fill:#87ceeb;opacity:0.8;stroke:#ffffff;stroke-linejoin:miter;\"/>\r\n   </g>\r\n   <g id=\"patch_32\">\r\n    <path clip-path=\"url(#p8963ecde60)\" d=\"M 580.595154 294.118125 \r\nL 622.370555 294.118125 \r\nL 622.370555 294.118125 \r\nL 580.595154 294.118125 \r\nz\r\n\" style=\"fill:#87ceeb;opacity:0.8;stroke:#ffffff;stroke-linejoin:miter;\"/>\r\n   </g>\r\n   <g id=\"patch_33\">\r\n    <path clip-path=\"url(#p8963ecde60)\" d=\"M 622.370555 294.118125 \r\nL 664.145956 294.118125 \r\nL 664.145956 294.118125 \r\nL 622.370555 294.118125 \r\nz\r\n\" style=\"fill:#87ceeb;opacity:0.8;stroke:#ffffff;stroke-linejoin:miter;\"/>\r\n   </g>\r\n   <g id=\"patch_34\">\r\n    <path clip-path=\"url(#p8963ecde60)\" d=\"M 664.145956 294.118125 \r\nL 705.921357 294.118125 \r\nL 705.921357 294.118125 \r\nL 664.145956 294.118125 \r\nz\r\n\" style=\"fill:#87ceeb;opacity:0.8;stroke:#ffffff;stroke-linejoin:miter;\"/>\r\n   </g>\r\n   <g id=\"patch_35\">\r\n    <path clip-path=\"url(#p8963ecde60)\" d=\"M 705.921357 294.118125 \r\nL 747.696758 294.118125 \r\nL 747.696758 294.118125 \r\nL 705.921357 294.118125 \r\nz\r\n\" style=\"fill:#87ceeb;opacity:0.8;stroke:#ffffff;stroke-linejoin:miter;\"/>\r\n   </g>\r\n   <g id=\"patch_36\">\r\n    <path clip-path=\"url(#p8963ecde60)\" d=\"M 747.696758 294.118125 \r\nL 789.472159 294.118125 \r\nL 789.472159 294.118125 \r\nL 747.696758 294.118125 \r\nz\r\n\" style=\"fill:#87ceeb;opacity:0.8;stroke:#ffffff;stroke-linejoin:miter;\"/>\r\n   </g>\r\n   <g id=\"matplotlib.axis_1\">\r\n    <g id=\"xtick_1\">\r\n     <g id=\"line2d_1\">\r\n      <defs>\r\n       <path d=\"M 0 0 \r\nL 0 3.5 \r\n\" id=\"m2d498a315f\" style=\"stroke:#000000;stroke-width:0.8;\"/>\r\n      </defs>\r\n      <g>\r\n       <use style=\"stroke:#000000;stroke-width:0.8;\" x=\"204.616544\" xlink:href=\"#m2d498a315f\" y=\"294.118125\"/>\r\n      </g>\r\n     </g>\r\n     <g id=\"text_1\">\r\n      <!-- 2 -->\r\n      <defs>\r\n       <path d=\"M 19.1875 8.296875 \r\nL 53.609375 8.296875 \r\nL 53.609375 0 \r\nL 7.328125 0 \r\nL 7.328125 8.296875 \r\nQ 12.9375 14.109375 22.625 23.890625 \r\nQ 32.328125 33.6875 34.8125 36.53125 \r\nQ 39.546875 41.84375 41.421875 45.53125 \r\nQ 43.3125 49.21875 43.3125 52.78125 \r\nQ 43.3125 58.59375 39.234375 62.25 \r\nQ 35.15625 65.921875 28.609375 65.921875 \r\nQ 23.96875 65.921875 18.8125 64.3125 \r\nQ 13.671875 62.703125 7.8125 59.421875 \r\nL 7.8125 69.390625 \r\nQ 13.765625 71.78125 18.9375 73 \r\nQ 24.125 74.21875 28.421875 74.21875 \r\nQ 39.75 74.21875 46.484375 68.546875 \r\nQ 53.21875 62.890625 53.21875 53.421875 \r\nQ 53.21875 48.921875 51.53125 44.890625 \r\nQ 49.859375 40.875 45.40625 35.40625 \r\nQ 44.1875 33.984375 37.640625 27.21875 \r\nQ 31.109375 20.453125 19.1875 8.296875 \r\nz\r\n\" id=\"DejaVuSans-50\"/>\r\n      </defs>\r\n      <g transform=\"translate(201.435294 308.716563)scale(0.1 -0.1)\">\r\n       <use xlink:href=\"#DejaVuSans-50\"/>\r\n      </g>\r\n     </g>\r\n    </g>\r\n    <g id=\"xtick_2\">\r\n     <g id=\"line2d_2\">\r\n      <g>\r\n       <use style=\"stroke:#000000;stroke-width:0.8;\" x=\"371.718148\" xlink:href=\"#m2d498a315f\" y=\"294.118125\"/>\r\n      </g>\r\n     </g>\r\n     <g id=\"text_2\">\r\n      <!-- 4 -->\r\n      <defs>\r\n       <path d=\"M 37.796875 64.3125 \r\nL 12.890625 25.390625 \r\nL 37.796875 25.390625 \r\nz\r\nM 35.203125 72.90625 \r\nL 47.609375 72.90625 \r\nL 47.609375 25.390625 \r\nL 58.015625 25.390625 \r\nL 58.015625 17.1875 \r\nL 47.609375 17.1875 \r\nL 47.609375 0 \r\nL 37.796875 0 \r\nL 37.796875 17.1875 \r\nL 4.890625 17.1875 \r\nL 4.890625 26.703125 \r\nz\r\n\" id=\"DejaVuSans-52\"/>\r\n      </defs>\r\n      <g transform=\"translate(368.536898 308.716563)scale(0.1 -0.1)\">\r\n       <use xlink:href=\"#DejaVuSans-52\"/>\r\n      </g>\r\n     </g>\r\n    </g>\r\n    <g id=\"xtick_3\">\r\n     <g id=\"line2d_3\">\r\n      <g>\r\n       <use style=\"stroke:#000000;stroke-width:0.8;\" x=\"538.819753\" xlink:href=\"#m2d498a315f\" y=\"294.118125\"/>\r\n      </g>\r\n     </g>\r\n     <g id=\"text_3\">\r\n      <!-- 6 -->\r\n      <defs>\r\n       <path d=\"M 33.015625 40.375 \r\nQ 26.375 40.375 22.484375 35.828125 \r\nQ 18.609375 31.296875 18.609375 23.390625 \r\nQ 18.609375 15.53125 22.484375 10.953125 \r\nQ 26.375 6.390625 33.015625 6.390625 \r\nQ 39.65625 6.390625 43.53125 10.953125 \r\nQ 47.40625 15.53125 47.40625 23.390625 \r\nQ 47.40625 31.296875 43.53125 35.828125 \r\nQ 39.65625 40.375 33.015625 40.375 \r\nz\r\nM 52.59375 71.296875 \r\nL 52.59375 62.3125 \r\nQ 48.875 64.0625 45.09375 64.984375 \r\nQ 41.3125 65.921875 37.59375 65.921875 \r\nQ 27.828125 65.921875 22.671875 59.328125 \r\nQ 17.53125 52.734375 16.796875 39.40625 \r\nQ 19.671875 43.65625 24.015625 45.921875 \r\nQ 28.375 48.1875 33.59375 48.1875 \r\nQ 44.578125 48.1875 50.953125 41.515625 \r\nQ 57.328125 34.859375 57.328125 23.390625 \r\nQ 57.328125 12.15625 50.6875 5.359375 \r\nQ 44.046875 -1.421875 33.015625 -1.421875 \r\nQ 20.359375 -1.421875 13.671875 8.265625 \r\nQ 6.984375 17.96875 6.984375 36.375 \r\nQ 6.984375 53.65625 15.1875 63.9375 \r\nQ 23.390625 74.21875 37.203125 74.21875 \r\nQ 40.921875 74.21875 44.703125 73.484375 \r\nQ 48.484375 72.75 52.59375 71.296875 \r\nz\r\n\" id=\"DejaVuSans-54\"/>\r\n      </defs>\r\n      <g transform=\"translate(535.638503 308.716563)scale(0.1 -0.1)\">\r\n       <use xlink:href=\"#DejaVuSans-54\"/>\r\n      </g>\r\n     </g>\r\n    </g>\r\n    <g id=\"xtick_4\">\r\n     <g id=\"line2d_4\">\r\n      <g>\r\n       <use style=\"stroke:#000000;stroke-width:0.8;\" x=\"705.921357\" xlink:href=\"#m2d498a315f\" y=\"294.118125\"/>\r\n      </g>\r\n     </g>\r\n     <g id=\"text_4\">\r\n      <!-- 8 -->\r\n      <defs>\r\n       <path d=\"M 31.78125 34.625 \r\nQ 24.75 34.625 20.71875 30.859375 \r\nQ 16.703125 27.09375 16.703125 20.515625 \r\nQ 16.703125 13.921875 20.71875 10.15625 \r\nQ 24.75 6.390625 31.78125 6.390625 \r\nQ 38.8125 6.390625 42.859375 10.171875 \r\nQ 46.921875 13.96875 46.921875 20.515625 \r\nQ 46.921875 27.09375 42.890625 30.859375 \r\nQ 38.875 34.625 31.78125 34.625 \r\nz\r\nM 21.921875 38.8125 \r\nQ 15.578125 40.375 12.03125 44.71875 \r\nQ 8.5 49.078125 8.5 55.328125 \r\nQ 8.5 64.0625 14.71875 69.140625 \r\nQ 20.953125 74.21875 31.78125 74.21875 \r\nQ 42.671875 74.21875 48.875 69.140625 \r\nQ 55.078125 64.0625 55.078125 55.328125 \r\nQ 55.078125 49.078125 51.53125 44.71875 \r\nQ 48 40.375 41.703125 38.8125 \r\nQ 48.828125 37.15625 52.796875 32.3125 \r\nQ 56.78125 27.484375 56.78125 20.515625 \r\nQ 56.78125 9.90625 50.3125 4.234375 \r\nQ 43.84375 -1.421875 31.78125 -1.421875 \r\nQ 19.734375 -1.421875 13.25 4.234375 \r\nQ 6.78125 9.90625 6.78125 20.515625 \r\nQ 6.78125 27.484375 10.78125 32.3125 \r\nQ 14.796875 37.15625 21.921875 38.8125 \r\nz\r\nM 18.3125 54.390625 \r\nQ 18.3125 48.734375 21.84375 45.5625 \r\nQ 25.390625 42.390625 31.78125 42.390625 \r\nQ 38.140625 42.390625 41.71875 45.5625 \r\nQ 45.3125 48.734375 45.3125 54.390625 \r\nQ 45.3125 60.0625 41.71875 63.234375 \r\nQ 38.140625 66.40625 31.78125 66.40625 \r\nQ 25.390625 66.40625 21.84375 63.234375 \r\nQ 18.3125 60.0625 18.3125 54.390625 \r\nz\r\n\" id=\"DejaVuSans-56\"/>\r\n      </defs>\r\n      <g transform=\"translate(702.740107 308.716563)scale(0.1 -0.1)\">\r\n       <use xlink:href=\"#DejaVuSans-56\"/>\r\n      </g>\r\n     </g>\r\n    </g>\r\n    <g id=\"text_5\">\r\n     <!-- creatinina[mg/dL] -->\r\n     <defs>\r\n      <path d=\"M 48.78125 52.59375 \r\nL 48.78125 44.1875 \r\nQ 44.96875 46.296875 41.140625 47.34375 \r\nQ 37.3125 48.390625 33.40625 48.390625 \r\nQ 24.65625 48.390625 19.8125 42.84375 \r\nQ 14.984375 37.3125 14.984375 27.296875 \r\nQ 14.984375 17.28125 19.8125 11.734375 \r\nQ 24.65625 6.203125 33.40625 6.203125 \r\nQ 37.3125 6.203125 41.140625 7.25 \r\nQ 44.96875 8.296875 48.78125 10.40625 \r\nL 48.78125 2.09375 \r\nQ 45.015625 0.34375 40.984375 -0.53125 \r\nQ 36.96875 -1.421875 32.421875 -1.421875 \r\nQ 20.0625 -1.421875 12.78125 6.34375 \r\nQ 5.515625 14.109375 5.515625 27.296875 \r\nQ 5.515625 40.671875 12.859375 48.328125 \r\nQ 20.21875 56 33.015625 56 \r\nQ 37.15625 56 41.109375 55.140625 \r\nQ 45.0625 54.296875 48.78125 52.59375 \r\nz\r\n\" id=\"DejaVuSans-99\"/>\r\n      <path d=\"M 41.109375 46.296875 \r\nQ 39.59375 47.171875 37.8125 47.578125 \r\nQ 36.03125 48 33.890625 48 \r\nQ 26.265625 48 22.1875 43.046875 \r\nQ 18.109375 38.09375 18.109375 28.8125 \r\nL 18.109375 0 \r\nL 9.078125 0 \r\nL 9.078125 54.6875 \r\nL 18.109375 54.6875 \r\nL 18.109375 46.1875 \r\nQ 20.953125 51.171875 25.484375 53.578125 \r\nQ 30.03125 56 36.53125 56 \r\nQ 37.453125 56 38.578125 55.875 \r\nQ 39.703125 55.765625 41.0625 55.515625 \r\nz\r\n\" id=\"DejaVuSans-114\"/>\r\n      <path d=\"M 56.203125 29.59375 \r\nL 56.203125 25.203125 \r\nL 14.890625 25.203125 \r\nQ 15.484375 15.921875 20.484375 11.0625 \r\nQ 25.484375 6.203125 34.421875 6.203125 \r\nQ 39.59375 6.203125 44.453125 7.46875 \r\nQ 49.3125 8.734375 54.109375 11.28125 \r\nL 54.109375 2.78125 \r\nQ 49.265625 0.734375 44.1875 -0.34375 \r\nQ 39.109375 -1.421875 33.890625 -1.421875 \r\nQ 20.796875 -1.421875 13.15625 6.1875 \r\nQ 5.515625 13.8125 5.515625 26.8125 \r\nQ 5.515625 40.234375 12.765625 48.109375 \r\nQ 20.015625 56 32.328125 56 \r\nQ 43.359375 56 49.78125 48.890625 \r\nQ 56.203125 41.796875 56.203125 29.59375 \r\nz\r\nM 47.21875 32.234375 \r\nQ 47.125 39.59375 43.09375 43.984375 \r\nQ 39.0625 48.390625 32.421875 48.390625 \r\nQ 24.90625 48.390625 20.390625 44.140625 \r\nQ 15.875 39.890625 15.1875 32.171875 \r\nz\r\n\" id=\"DejaVuSans-101\"/>\r\n      <path d=\"M 34.28125 27.484375 \r\nQ 23.390625 27.484375 19.1875 25 \r\nQ 14.984375 22.515625 14.984375 16.5 \r\nQ 14.984375 11.71875 18.140625 8.90625 \r\nQ 21.296875 6.109375 26.703125 6.109375 \r\nQ 34.1875 6.109375 38.703125 11.40625 \r\nQ 43.21875 16.703125 43.21875 25.484375 \r\nL 43.21875 27.484375 \r\nz\r\nM 52.203125 31.203125 \r\nL 52.203125 0 \r\nL 43.21875 0 \r\nL 43.21875 8.296875 \r\nQ 40.140625 3.328125 35.546875 0.953125 \r\nQ 30.953125 -1.421875 24.3125 -1.421875 \r\nQ 15.921875 -1.421875 10.953125 3.296875 \r\nQ 6 8.015625 6 15.921875 \r\nQ 6 25.140625 12.171875 29.828125 \r\nQ 18.359375 34.515625 30.609375 34.515625 \r\nL 43.21875 34.515625 \r\nL 43.21875 35.40625 \r\nQ 43.21875 41.609375 39.140625 45 \r\nQ 35.0625 48.390625 27.6875 48.390625 \r\nQ 23 48.390625 18.546875 47.265625 \r\nQ 14.109375 46.140625 10.015625 43.890625 \r\nL 10.015625 52.203125 \r\nQ 14.9375 54.109375 19.578125 55.046875 \r\nQ 24.21875 56 28.609375 56 \r\nQ 40.484375 56 46.34375 49.84375 \r\nQ 52.203125 43.703125 52.203125 31.203125 \r\nz\r\n\" id=\"DejaVuSans-97\"/>\r\n      <path d=\"M 18.3125 70.21875 \r\nL 18.3125 54.6875 \r\nL 36.8125 54.6875 \r\nL 36.8125 47.703125 \r\nL 18.3125 47.703125 \r\nL 18.3125 18.015625 \r\nQ 18.3125 11.328125 20.140625 9.421875 \r\nQ 21.96875 7.515625 27.59375 7.515625 \r\nL 36.8125 7.515625 \r\nL 36.8125 0 \r\nL 27.59375 0 \r\nQ 17.1875 0 13.234375 3.875 \r\nQ 9.28125 7.765625 9.28125 18.015625 \r\nL 9.28125 47.703125 \r\nL 2.6875 47.703125 \r\nL 2.6875 54.6875 \r\nL 9.28125 54.6875 \r\nL 9.28125 70.21875 \r\nz\r\n\" id=\"DejaVuSans-116\"/>\r\n      <path d=\"M 9.421875 54.6875 \r\nL 18.40625 54.6875 \r\nL 18.40625 0 \r\nL 9.421875 0 \r\nz\r\nM 9.421875 75.984375 \r\nL 18.40625 75.984375 \r\nL 18.40625 64.59375 \r\nL 9.421875 64.59375 \r\nz\r\n\" id=\"DejaVuSans-105\"/>\r\n      <path d=\"M 54.890625 33.015625 \r\nL 54.890625 0 \r\nL 45.90625 0 \r\nL 45.90625 32.71875 \r\nQ 45.90625 40.484375 42.875 44.328125 \r\nQ 39.84375 48.1875 33.796875 48.1875 \r\nQ 26.515625 48.1875 22.3125 43.546875 \r\nQ 18.109375 38.921875 18.109375 30.90625 \r\nL 18.109375 0 \r\nL 9.078125 0 \r\nL 9.078125 54.6875 \r\nL 18.109375 54.6875 \r\nL 18.109375 46.1875 \r\nQ 21.34375 51.125 25.703125 53.5625 \r\nQ 30.078125 56 35.796875 56 \r\nQ 45.21875 56 50.046875 50.171875 \r\nQ 54.890625 44.34375 54.890625 33.015625 \r\nz\r\n\" id=\"DejaVuSans-110\"/>\r\n      <path d=\"M 8.59375 75.984375 \r\nL 29.296875 75.984375 \r\nL 29.296875 69 \r\nL 17.578125 69 \r\nL 17.578125 -6.203125 \r\nL 29.296875 -6.203125 \r\nL 29.296875 -13.1875 \r\nL 8.59375 -13.1875 \r\nz\r\n\" id=\"DejaVuSans-91\"/>\r\n      <path d=\"M 52 44.1875 \r\nQ 55.375 50.25 60.0625 53.125 \r\nQ 64.75 56 71.09375 56 \r\nQ 79.640625 56 84.28125 50.015625 \r\nQ 88.921875 44.046875 88.921875 33.015625 \r\nL 88.921875 0 \r\nL 79.890625 0 \r\nL 79.890625 32.71875 \r\nQ 79.890625 40.578125 77.09375 44.375 \r\nQ 74.3125 48.1875 68.609375 48.1875 \r\nQ 61.625 48.1875 57.5625 43.546875 \r\nQ 53.515625 38.921875 53.515625 30.90625 \r\nL 53.515625 0 \r\nL 44.484375 0 \r\nL 44.484375 32.71875 \r\nQ 44.484375 40.625 41.703125 44.40625 \r\nQ 38.921875 48.1875 33.109375 48.1875 \r\nQ 26.21875 48.1875 22.15625 43.53125 \r\nQ 18.109375 38.875 18.109375 30.90625 \r\nL 18.109375 0 \r\nL 9.078125 0 \r\nL 9.078125 54.6875 \r\nL 18.109375 54.6875 \r\nL 18.109375 46.1875 \r\nQ 21.1875 51.21875 25.484375 53.609375 \r\nQ 29.78125 56 35.6875 56 \r\nQ 41.65625 56 45.828125 52.96875 \r\nQ 50 49.953125 52 44.1875 \r\nz\r\n\" id=\"DejaVuSans-109\"/>\r\n      <path d=\"M 45.40625 27.984375 \r\nQ 45.40625 37.75 41.375 43.109375 \r\nQ 37.359375 48.484375 30.078125 48.484375 \r\nQ 22.859375 48.484375 18.828125 43.109375 \r\nQ 14.796875 37.75 14.796875 27.984375 \r\nQ 14.796875 18.265625 18.828125 12.890625 \r\nQ 22.859375 7.515625 30.078125 7.515625 \r\nQ 37.359375 7.515625 41.375 12.890625 \r\nQ 45.40625 18.265625 45.40625 27.984375 \r\nz\r\nM 54.390625 6.78125 \r\nQ 54.390625 -7.171875 48.1875 -13.984375 \r\nQ 42 -20.796875 29.203125 -20.796875 \r\nQ 24.46875 -20.796875 20.265625 -20.09375 \r\nQ 16.0625 -19.390625 12.109375 -17.921875 \r\nL 12.109375 -9.1875 \r\nQ 16.0625 -11.328125 19.921875 -12.34375 \r\nQ 23.78125 -13.375 27.78125 -13.375 \r\nQ 36.625 -13.375 41.015625 -8.765625 \r\nQ 45.40625 -4.15625 45.40625 5.171875 \r\nL 45.40625 9.625 \r\nQ 42.625 4.78125 38.28125 2.390625 \r\nQ 33.9375 0 27.875 0 \r\nQ 17.828125 0 11.671875 7.65625 \r\nQ 5.515625 15.328125 5.515625 27.984375 \r\nQ 5.515625 40.671875 11.671875 48.328125 \r\nQ 17.828125 56 27.875 56 \r\nQ 33.9375 56 38.28125 53.609375 \r\nQ 42.625 51.21875 45.40625 46.390625 \r\nL 45.40625 54.6875 \r\nL 54.390625 54.6875 \r\nz\r\n\" id=\"DejaVuSans-103\"/>\r\n      <path d=\"M 25.390625 72.90625 \r\nL 33.6875 72.90625 \r\nL 8.296875 -9.28125 \r\nL 0 -9.28125 \r\nz\r\n\" id=\"DejaVuSans-47\"/>\r\n      <path d=\"M 45.40625 46.390625 \r\nL 45.40625 75.984375 \r\nL 54.390625 75.984375 \r\nL 54.390625 0 \r\nL 45.40625 0 \r\nL 45.40625 8.203125 \r\nQ 42.578125 3.328125 38.25 0.953125 \r\nQ 33.9375 -1.421875 27.875 -1.421875 \r\nQ 17.96875 -1.421875 11.734375 6.484375 \r\nQ 5.515625 14.40625 5.515625 27.296875 \r\nQ 5.515625 40.1875 11.734375 48.09375 \r\nQ 17.96875 56 27.875 56 \r\nQ 33.9375 56 38.25 53.625 \r\nQ 42.578125 51.265625 45.40625 46.390625 \r\nz\r\nM 14.796875 27.296875 \r\nQ 14.796875 17.390625 18.875 11.75 \r\nQ 22.953125 6.109375 30.078125 6.109375 \r\nQ 37.203125 6.109375 41.296875 11.75 \r\nQ 45.40625 17.390625 45.40625 27.296875 \r\nQ 45.40625 37.203125 41.296875 42.84375 \r\nQ 37.203125 48.484375 30.078125 48.484375 \r\nQ 22.953125 48.484375 18.875 42.84375 \r\nQ 14.796875 37.203125 14.796875 27.296875 \r\nz\r\n\" id=\"DejaVuSans-100\"/>\r\n      <path d=\"M 9.8125 72.90625 \r\nL 19.671875 72.90625 \r\nL 19.671875 8.296875 \r\nL 55.171875 8.296875 \r\nL 55.171875 0 \r\nL 9.8125 0 \r\nz\r\n\" id=\"DejaVuSans-76\"/>\r\n      <path d=\"M 30.421875 75.984375 \r\nL 30.421875 -13.1875 \r\nL 9.71875 -13.1875 \r\nL 9.71875 -6.203125 \r\nL 21.390625 -6.203125 \r\nL 21.390625 69 \r\nL 9.71875 69 \r\nL 9.71875 75.984375 \r\nz\r\n\" id=\"DejaVuSans-93\"/>\r\n     </defs>\r\n     <g transform=\"translate(389.707031 322.394687)scale(0.1 -0.1)\">\r\n      <use xlink:href=\"#DejaVuSans-99\"/>\r\n      <use x=\"54.980469\" xlink:href=\"#DejaVuSans-114\"/>\r\n      <use x=\"96.0625\" xlink:href=\"#DejaVuSans-101\"/>\r\n      <use x=\"157.585938\" xlink:href=\"#DejaVuSans-97\"/>\r\n      <use x=\"218.865234\" xlink:href=\"#DejaVuSans-116\"/>\r\n      <use x=\"258.074219\" xlink:href=\"#DejaVuSans-105\"/>\r\n      <use x=\"285.857422\" xlink:href=\"#DejaVuSans-110\"/>\r\n      <use x=\"349.236328\" xlink:href=\"#DejaVuSans-105\"/>\r\n      <use x=\"377.019531\" xlink:href=\"#DejaVuSans-110\"/>\r\n      <use x=\"440.398438\" xlink:href=\"#DejaVuSans-97\"/>\r\n      <use x=\"501.677734\" xlink:href=\"#DejaVuSans-91\"/>\r\n      <use x=\"540.691406\" xlink:href=\"#DejaVuSans-109\"/>\r\n      <use x=\"638.103516\" xlink:href=\"#DejaVuSans-103\"/>\r\n      <use x=\"701.580078\" xlink:href=\"#DejaVuSans-47\"/>\r\n      <use x=\"735.271484\" xlink:href=\"#DejaVuSans-100\"/>\r\n      <use x=\"798.748047\" xlink:href=\"#DejaVuSans-76\"/>\r\n      <use x=\"854.460938\" xlink:href=\"#DejaVuSans-93\"/>\r\n     </g>\r\n    </g>\r\n   </g>\r\n   <g id=\"matplotlib.axis_2\">\r\n    <g id=\"ytick_1\">\r\n     <g id=\"line2d_5\">\r\n      <defs>\r\n       <path d=\"M 0 0 \r\nL -3.5 0 \r\n\" id=\"m2455e6ddd5\" style=\"stroke:#000000;stroke-width:0.8;\"/>\r\n      </defs>\r\n      <g>\r\n       <use style=\"stroke:#000000;stroke-width:0.8;\" x=\"43.78125\" xlink:href=\"#m2455e6ddd5\" y=\"294.118125\"/>\r\n      </g>\r\n     </g>\r\n     <g id=\"text_6\">\r\n      <!-- 0.0 -->\r\n      <defs>\r\n       <path d=\"M 31.78125 66.40625 \r\nQ 24.171875 66.40625 20.328125 58.90625 \r\nQ 16.5 51.421875 16.5 36.375 \r\nQ 16.5 21.390625 20.328125 13.890625 \r\nQ 24.171875 6.390625 31.78125 6.390625 \r\nQ 39.453125 6.390625 43.28125 13.890625 \r\nQ 47.125 21.390625 47.125 36.375 \r\nQ 47.125 51.421875 43.28125 58.90625 \r\nQ 39.453125 66.40625 31.78125 66.40625 \r\nz\r\nM 31.78125 74.21875 \r\nQ 44.046875 74.21875 50.515625 64.515625 \r\nQ 56.984375 54.828125 56.984375 36.375 \r\nQ 56.984375 17.96875 50.515625 8.265625 \r\nQ 44.046875 -1.421875 31.78125 -1.421875 \r\nQ 19.53125 -1.421875 13.0625 8.265625 \r\nQ 6.59375 17.96875 6.59375 36.375 \r\nQ 6.59375 54.828125 13.0625 64.515625 \r\nQ 19.53125 74.21875 31.78125 74.21875 \r\nz\r\n\" id=\"DejaVuSans-48\"/>\r\n       <path d=\"M 10.6875 12.40625 \r\nL 21 12.40625 \r\nL 21 0 \r\nL 10.6875 0 \r\nz\r\n\" id=\"DejaVuSans-46\"/>\r\n      </defs>\r\n      <g transform=\"translate(20.878125 297.917344)scale(0.1 -0.1)\">\r\n       <use xlink:href=\"#DejaVuSans-48\"/>\r\n       <use x=\"63.623047\" xlink:href=\"#DejaVuSans-46\"/>\r\n       <use x=\"95.410156\" xlink:href=\"#DejaVuSans-48\"/>\r\n      </g>\r\n     </g>\r\n    </g>\r\n    <g id=\"ytick_2\">\r\n     <g id=\"line2d_6\">\r\n      <g>\r\n       <use style=\"stroke:#000000;stroke-width:0.8;\" x=\"43.78125\" xlink:href=\"#m2455e6ddd5\" y=\"243.591202\"/>\r\n      </g>\r\n     </g>\r\n     <g id=\"text_7\">\r\n      <!-- 0.2 -->\r\n      <g transform=\"translate(20.878125 247.390421)scale(0.1 -0.1)\">\r\n       <use xlink:href=\"#DejaVuSans-48\"/>\r\n       <use x=\"63.623047\" xlink:href=\"#DejaVuSans-46\"/>\r\n       <use x=\"95.410156\" xlink:href=\"#DejaVuSans-50\"/>\r\n      </g>\r\n     </g>\r\n    </g>\r\n    <g id=\"ytick_3\">\r\n     <g id=\"line2d_7\">\r\n      <g>\r\n       <use style=\"stroke:#000000;stroke-width:0.8;\" x=\"43.78125\" xlink:href=\"#m2455e6ddd5\" y=\"193.064279\"/>\r\n      </g>\r\n     </g>\r\n     <g id=\"text_8\">\r\n      <!-- 0.4 -->\r\n      <g transform=\"translate(20.878125 196.863498)scale(0.1 -0.1)\">\r\n       <use xlink:href=\"#DejaVuSans-48\"/>\r\n       <use x=\"63.623047\" xlink:href=\"#DejaVuSans-46\"/>\r\n       <use x=\"95.410156\" xlink:href=\"#DejaVuSans-52\"/>\r\n      </g>\r\n     </g>\r\n    </g>\r\n    <g id=\"ytick_4\">\r\n     <g id=\"line2d_8\">\r\n      <g>\r\n       <use style=\"stroke:#000000;stroke-width:0.8;\" x=\"43.78125\" xlink:href=\"#m2455e6ddd5\" y=\"142.537356\"/>\r\n      </g>\r\n     </g>\r\n     <g id=\"text_9\">\r\n      <!-- 0.6 -->\r\n      <g transform=\"translate(20.878125 146.336575)scale(0.1 -0.1)\">\r\n       <use xlink:href=\"#DejaVuSans-48\"/>\r\n       <use x=\"63.623047\" xlink:href=\"#DejaVuSans-46\"/>\r\n       <use x=\"95.410156\" xlink:href=\"#DejaVuSans-54\"/>\r\n      </g>\r\n     </g>\r\n    </g>\r\n    <g id=\"ytick_5\">\r\n     <g id=\"line2d_9\">\r\n      <g>\r\n       <use style=\"stroke:#000000;stroke-width:0.8;\" x=\"43.78125\" xlink:href=\"#m2455e6ddd5\" y=\"92.010433\"/>\r\n      </g>\r\n     </g>\r\n     <g id=\"text_10\">\r\n      <!-- 0.8 -->\r\n      <g transform=\"translate(20.878125 95.809651)scale(0.1 -0.1)\">\r\n       <use xlink:href=\"#DejaVuSans-48\"/>\r\n       <use x=\"63.623047\" xlink:href=\"#DejaVuSans-46\"/>\r\n       <use x=\"95.410156\" xlink:href=\"#DejaVuSans-56\"/>\r\n      </g>\r\n     </g>\r\n    </g>\r\n    <g id=\"ytick_6\">\r\n     <g id=\"line2d_10\">\r\n      <g>\r\n       <use style=\"stroke:#000000;stroke-width:0.8;\" x=\"43.78125\" xlink:href=\"#m2455e6ddd5\" y=\"41.48351\"/>\r\n      </g>\r\n     </g>\r\n     <g id=\"text_11\">\r\n      <!-- 1.0 -->\r\n      <defs>\r\n       <path d=\"M 12.40625 8.296875 \r\nL 28.515625 8.296875 \r\nL 28.515625 63.921875 \r\nL 10.984375 60.40625 \r\nL 10.984375 69.390625 \r\nL 28.421875 72.90625 \r\nL 38.28125 72.90625 \r\nL 38.28125 8.296875 \r\nL 54.390625 8.296875 \r\nL 54.390625 0 \r\nL 12.40625 0 \r\nz\r\n\" id=\"DejaVuSans-49\"/>\r\n      </defs>\r\n      <g transform=\"translate(20.878125 45.282728)scale(0.1 -0.1)\">\r\n       <use xlink:href=\"#DejaVuSans-49\"/>\r\n       <use x=\"63.623047\" xlink:href=\"#DejaVuSans-46\"/>\r\n       <use x=\"95.410156\" xlink:href=\"#DejaVuSans-48\"/>\r\n      </g>\r\n     </g>\r\n    </g>\r\n    <g id=\"text_12\">\r\n     <!-- densidade -->\r\n     <defs>\r\n      <path d=\"M 44.28125 53.078125 \r\nL 44.28125 44.578125 \r\nQ 40.484375 46.53125 36.375 47.5 \r\nQ 32.28125 48.484375 27.875 48.484375 \r\nQ 21.1875 48.484375 17.84375 46.4375 \r\nQ 14.5 44.390625 14.5 40.28125 \r\nQ 14.5 37.15625 16.890625 35.375 \r\nQ 19.28125 33.59375 26.515625 31.984375 \r\nL 29.59375 31.296875 \r\nQ 39.15625 29.25 43.1875 25.515625 \r\nQ 47.21875 21.78125 47.21875 15.09375 \r\nQ 47.21875 7.46875 41.1875 3.015625 \r\nQ 35.15625 -1.421875 24.609375 -1.421875 \r\nQ 20.21875 -1.421875 15.453125 -0.5625 \r\nQ 10.6875 0.296875 5.421875 2 \r\nL 5.421875 11.28125 \r\nQ 10.40625 8.6875 15.234375 7.390625 \r\nQ 20.0625 6.109375 24.8125 6.109375 \r\nQ 31.15625 6.109375 34.5625 8.28125 \r\nQ 37.984375 10.453125 37.984375 14.40625 \r\nQ 37.984375 18.0625 35.515625 20.015625 \r\nQ 33.0625 21.96875 24.703125 23.78125 \r\nL 21.578125 24.515625 \r\nQ 13.234375 26.265625 9.515625 29.90625 \r\nQ 5.8125 33.546875 5.8125 39.890625 \r\nQ 5.8125 47.609375 11.28125 51.796875 \r\nQ 16.75 56 26.8125 56 \r\nQ 31.78125 56 36.171875 55.265625 \r\nQ 40.578125 54.546875 44.28125 53.078125 \r\nz\r\n\" id=\"DejaVuSans-115\"/>\r\n     </defs>\r\n     <g transform=\"translate(14.798438 184.120469)rotate(-90)scale(0.1 -0.1)\">\r\n      <use xlink:href=\"#DejaVuSans-100\"/>\r\n      <use x=\"63.476562\" xlink:href=\"#DejaVuSans-101\"/>\r\n      <use x=\"125\" xlink:href=\"#DejaVuSans-110\"/>\r\n      <use x=\"188.378906\" xlink:href=\"#DejaVuSans-115\"/>\r\n      <use x=\"240.478516\" xlink:href=\"#DejaVuSans-105\"/>\r\n      <use x=\"268.261719\" xlink:href=\"#DejaVuSans-100\"/>\r\n      <use x=\"331.738281\" xlink:href=\"#DejaVuSans-97\"/>\r\n      <use x=\"393.017578\" xlink:href=\"#DejaVuSans-100\"/>\r\n      <use x=\"456.494141\" xlink:href=\"#DejaVuSans-101\"/>\r\n     </g>\r\n    </g>\r\n   </g>\r\n   <g id=\"patch_37\">\r\n    <path d=\"M 43.78125 294.118125 \r\nL 43.78125 22.318125 \r\n\" style=\"fill:none;stroke:#000000;stroke-linecap:square;stroke-linejoin:miter;stroke-width:0.8;\"/>\r\n   </g>\r\n   <g id=\"patch_38\">\r\n    <path d=\"M 824.98125 294.118125 \r\nL 824.98125 22.318125 \r\n\" style=\"fill:none;stroke:#000000;stroke-linecap:square;stroke-linejoin:miter;stroke-width:0.8;\"/>\r\n   </g>\r\n   <g id=\"patch_39\">\r\n    <path d=\"M 43.78125 294.118125 \r\nL 824.98125 294.118125 \r\n\" style=\"fill:none;stroke:#000000;stroke-linecap:square;stroke-linejoin:miter;stroke-width:0.8;\"/>\r\n   </g>\r\n   <g id=\"patch_40\">\r\n    <path d=\"M 43.78125 22.318125 \r\nL 824.98125 22.318125 \r\n\" style=\"fill:none;stroke:#000000;stroke-linecap:square;stroke-linejoin:miter;stroke-width:0.8;\"/>\r\n   </g>\r\n   <g id=\"text_13\">\r\n    <!-- Creatinina -->\r\n    <defs>\r\n     <path d=\"M 64.40625 67.28125 \r\nL 64.40625 56.890625 \r\nQ 59.421875 61.53125 53.78125 63.8125 \r\nQ 48.140625 66.109375 41.796875 66.109375 \r\nQ 29.296875 66.109375 22.65625 58.46875 \r\nQ 16.015625 50.828125 16.015625 36.375 \r\nQ 16.015625 21.96875 22.65625 14.328125 \r\nQ 29.296875 6.6875 41.796875 6.6875 \r\nQ 48.140625 6.6875 53.78125 8.984375 \r\nQ 59.421875 11.28125 64.40625 15.921875 \r\nL 64.40625 5.609375 \r\nQ 59.234375 2.09375 53.4375 0.328125 \r\nQ 47.65625 -1.421875 41.21875 -1.421875 \r\nQ 24.65625 -1.421875 15.125 8.703125 \r\nQ 5.609375 18.84375 5.609375 36.375 \r\nQ 5.609375 53.953125 15.125 64.078125 \r\nQ 24.65625 74.21875 41.21875 74.21875 \r\nQ 47.75 74.21875 53.53125 72.484375 \r\nQ 59.328125 70.75 64.40625 67.28125 \r\nz\r\n\" id=\"DejaVuSans-67\"/>\r\n    </defs>\r\n    <g transform=\"translate(403.390313 16.318125)scale(0.12 -0.12)\">\r\n     <use xlink:href=\"#DejaVuSans-67\"/>\r\n     <use x=\"69.824219\" xlink:href=\"#DejaVuSans-114\"/>\r\n     <use x=\"110.90625\" xlink:href=\"#DejaVuSans-101\"/>\r\n     <use x=\"172.429688\" xlink:href=\"#DejaVuSans-97\"/>\r\n     <use x=\"233.708984\" xlink:href=\"#DejaVuSans-116\"/>\r\n     <use x=\"272.917969\" xlink:href=\"#DejaVuSans-105\"/>\r\n     <use x=\"300.701172\" xlink:href=\"#DejaVuSans-110\"/>\r\n     <use x=\"364.080078\" xlink:href=\"#DejaVuSans-105\"/>\r\n     <use x=\"391.863281\" xlink:href=\"#DejaVuSans-110\"/>\r\n     <use x=\"455.242188\" xlink:href=\"#DejaVuSans-97\"/>\r\n    </g>\r\n   </g>\r\n   <g id=\"legend_1\">\r\n    <g id=\"patch_41\">\r\n     <path d=\"M 779.61875 59.674375 \r\nL 817.98125 59.674375 \r\nQ 819.98125 59.674375 819.98125 57.674375 \r\nL 819.98125 29.318125 \r\nQ 819.98125 27.318125 817.98125 27.318125 \r\nL 779.61875 27.318125 \r\nQ 777.61875 27.318125 777.61875 29.318125 \r\nL 777.61875 57.674375 \r\nQ 777.61875 59.674375 779.61875 59.674375 \r\nz\r\n\" style=\"fill:#ffffff;opacity:0.8;stroke:#cccccc;stroke-linejoin:miter;\"/>\r\n    </g>\r\n    <g id=\"patch_42\">\r\n     <path d=\"M 781.61875 38.916562 \r\nL 801.61875 38.916562 \r\nL 801.61875 31.916562 \r\nL 781.61875 31.916562 \r\nz\r\n\" style=\"fill:#ff0000;stroke:#ffffff;stroke-linejoin:miter;\"/>\r\n    </g>\r\n    <g id=\"text_14\">\r\n     <!-- 1 -->\r\n     <g transform=\"translate(809.61875 38.916562)scale(0.1 -0.1)\">\r\n      <use xlink:href=\"#DejaVuSans-49\"/>\r\n     </g>\r\n    </g>\r\n    <g id=\"patch_43\">\r\n     <path d=\"M 781.61875 53.594688 \r\nL 801.61875 53.594688 \r\nL 801.61875 46.594688 \r\nL 781.61875 46.594688 \r\nz\r\n\" style=\"fill:#87ceeb;opacity:0.8;stroke:#ffffff;stroke-linejoin:miter;\"/>\r\n    </g>\r\n    <g id=\"text_15\">\r\n     <!-- 0 -->\r\n     <g transform=\"translate(809.61875 53.594688)scale(0.1 -0.1)\">\r\n      <use xlink:href=\"#DejaVuSans-48\"/>\r\n     </g>\r\n    </g>\r\n   </g>\r\n  </g>\r\n </g>\r\n <defs>\r\n  <clipPath id=\"p8963ecde60\">\r\n   <rect height=\"271.8\" width=\"781.2\" x=\"43.78125\" y=\"22.318125\"/>\r\n  </clipPath>\r\n </defs>\r\n</svg>\r\n",
      "image/png": "[encoded data removed]"
     },
     "metadata": {
      "needs_background": "light"
     }
    }
   ],
   "source": [
    "#Histograma de cretinina no sangue de sobreviventes e não sobreviventes\n",
    "faixas = np.arange(0.5,9.5,0.5)\n",
    "plt.figure(figsize=(14, 5))\n",
    "plt.hist(dead.serum_creatinine, bins=faixas, density=True, color='red', edgecolor='white', linewidth=1)\n",
    "plt.hist(not_dead.serum_creatinine, bins=faixas, density=True, color='skyblue', edgecolor='white', linewidth=1, alpha=0.8)\n",
    "plt.legend('10')\n",
    "plt.title('Creatinina')\n",
    "plt.xlabel('creatinina[mg/dL]')\n",
    "plt.ylabel('densidade')\n",
    "plt.show()\n"
   ]
  },
  {
   "source": [
    "Com este gráfico, foi possível concluir que taixas de creatina[mg/dL] maiores que 1.5[mg/dL] influênciam na taxa de sobrevivência."
   ],
   "cell_type": "markdown",
   "metadata": {}
  },
  {
   "cell_type": "code",
   "execution_count": 20,
   "metadata": {},
   "outputs": [
    {
     "output_type": "display_data",
     "data": {
      "text/plain": "<Figure size 1008x360 with 1 Axes>",
      "image/svg+xml": "<?xml version=\"1.0\" encoding=\"utf-8\" standalone=\"no\"?>\r\n<!DOCTYPE svg PUBLIC \"-//W3C//DTD SVG 1.1//EN\"\r\n  \"http://www.w3.org/Graphics/SVG/1.1/DTD/svg11.dtd\">\r\n<!-- Created with matplotlib (https://matplotlib.org/) -->\r\n<svg height=\"332.074375pt\" version=\"1.1\" viewBox=\"0 0 838.54375 332.074375\" width=\"838.54375pt\" xmlns=\"http://www.w3.org/2000/svg\" xmlns:xlink=\"http://www.w3.org/1999/xlink\">\r\n <defs>\r\n  <style type=\"text/css\">\r\n*{stroke-linecap:butt;stroke-linejoin:round;}\r\n  </style>\r\n </defs>\r\n <g id=\"figure_1\">\r\n  <g id=\"patch_1\">\r\n   <path d=\"M 0 332.074375 \r\nL 838.54375 332.074375 \r\nL 838.54375 0 \r\nL 0 0 \r\nz\r\n\" style=\"fill:none;\"/>\r\n  </g>\r\n  <g id=\"axes_1\">\r\n   <g id=\"patch_2\">\r\n    <path d=\"M 50.14375 294.118125 \r\nL 831.34375 294.118125 \r\nL 831.34375 22.318125 \r\nL 50.14375 22.318125 \r\nz\r\n\" style=\"fill:#ffffff;\"/>\r\n   </g>\r\n   <g id=\"patch_3\">\r\n    <path clip-path=\"url(#p36309a167b)\" d=\"M 85.652841 294.118125 \r\nL 132.998295 294.118125 \r\nL 132.998295 294.118125 \r\nL 85.652841 294.118125 \r\nz\r\n\" style=\"fill:#ff0000;stroke:#ffffff;stroke-linejoin:miter;\"/>\r\n   </g>\r\n   <g id=\"patch_4\">\r\n    <path clip-path=\"url(#p36309a167b)\" d=\"M 132.998295 294.118125 \r\nL 180.34375 294.118125 \r\nL 180.34375 294.118125 \r\nL 132.998295 294.118125 \r\nz\r\n\" style=\"fill:#ff0000;stroke:#ffffff;stroke-linejoin:miter;\"/>\r\n   </g>\r\n   <g id=\"patch_5\">\r\n    <path clip-path=\"url(#p36309a167b)\" d=\"M 180.34375 294.118125 \r\nL 227.689205 294.118125 \r\nL 227.689205 286.337003 \r\nL 180.34375 286.337003 \r\nz\r\n\" style=\"fill:#ff0000;stroke:#ffffff;stroke-linejoin:miter;\"/>\r\n   </g>\r\n   <g id=\"patch_6\">\r\n    <path clip-path=\"url(#p36309a167b)\" d=\"M 227.689205 294.118125 \r\nL 275.034659 294.118125 \r\nL 275.034659 294.118125 \r\nL 227.689205 294.118125 \r\nz\r\n\" style=\"fill:#ff0000;stroke:#ffffff;stroke-linejoin:miter;\"/>\r\n   </g>\r\n   <g id=\"patch_7\">\r\n    <path clip-path=\"url(#p36309a167b)\" d=\"M 275.034659 294.118125 \r\nL 322.380114 294.118125 \r\nL 322.380114 286.337003 \r\nL 275.034659 286.337003 \r\nz\r\n\" style=\"fill:#ff0000;stroke:#ffffff;stroke-linejoin:miter;\"/>\r\n   </g>\r\n   <g id=\"patch_8\">\r\n    <path clip-path=\"url(#p36309a167b)\" d=\"M 322.380114 294.118125 \r\nL 369.725568 294.118125 \r\nL 369.725568 286.337003 \r\nL 322.380114 286.337003 \r\nz\r\n\" style=\"fill:#ff0000;stroke:#ffffff;stroke-linejoin:miter;\"/>\r\n   </g>\r\n   <g id=\"patch_9\">\r\n    <path clip-path=\"url(#p36309a167b)\" d=\"M 369.725568 294.118125 \r\nL 417.071023 294.118125 \r\nL 417.071023 270.774758 \r\nL 369.725568 270.774758 \r\nz\r\n\" style=\"fill:#ff0000;stroke:#ffffff;stroke-linejoin:miter;\"/>\r\n   </g>\r\n   <g id=\"patch_10\">\r\n    <path clip-path=\"url(#p36309a167b)\" d=\"M 417.071023 294.118125 \r\nL 464.416477 294.118125 \r\nL 464.416477 270.774758 \r\nL 417.071023 270.774758 \r\nz\r\n\" style=\"fill:#ff0000;stroke:#ffffff;stroke-linejoin:miter;\"/>\r\n   </g>\r\n   <g id=\"patch_11\">\r\n    <path clip-path=\"url(#p36309a167b)\" d=\"M 464.416477 294.118125 \r\nL 511.761932 294.118125 \r\nL 511.761932 185.182411 \r\nL 464.416477 185.182411 \r\nz\r\n\" style=\"fill:#ff0000;stroke:#ffffff;stroke-linejoin:miter;\"/>\r\n   </g>\r\n   <g id=\"patch_12\">\r\n    <path clip-path=\"url(#p36309a167b)\" d=\"M 511.761932 294.118125 \r\nL 559.107386 294.118125 \r\nL 559.107386 146.276798 \r\nL 511.761932 146.276798 \r\nz\r\n\" style=\"fill:#ff0000;stroke:#ffffff;stroke-linejoin:miter;\"/>\r\n   </g>\r\n   <g id=\"patch_13\">\r\n    <path clip-path=\"url(#p36309a167b)\" d=\"M 559.107386 294.118125 \r\nL 606.452841 294.118125 \r\nL 606.452841 107.371186 \r\nL 559.107386 107.371186 \r\nz\r\n\" style=\"fill:#ff0000;stroke:#ffffff;stroke-linejoin:miter;\"/>\r\n   </g>\r\n   <g id=\"patch_14\">\r\n    <path clip-path=\"url(#p36309a167b)\" d=\"M 606.452841 294.118125 \r\nL 653.798295 294.118125 \r\nL 653.798295 200.744656 \r\nL 606.452841 200.744656 \r\nz\r\n\" style=\"fill:#ff0000;stroke:#ffffff;stroke-linejoin:miter;\"/>\r\n   </g>\r\n   <g id=\"patch_15\">\r\n    <path clip-path=\"url(#p36309a167b)\" d=\"M 653.798295 294.118125 \r\nL 701.14375 294.118125 \r\nL 701.14375 200.744656 \r\nL 653.798295 200.744656 \r\nz\r\n\" style=\"fill:#ff0000;stroke:#ffffff;stroke-linejoin:miter;\"/>\r\n   </g>\r\n   <g id=\"patch_16\">\r\n    <path clip-path=\"url(#p36309a167b)\" d=\"M 701.14375 294.118125 \r\nL 748.489205 294.118125 \r\nL 748.489205 278.55588 \r\nL 701.14375 278.55588 \r\nz\r\n\" style=\"fill:#ff0000;stroke:#ffffff;stroke-linejoin:miter;\"/>\r\n   </g>\r\n   <g id=\"patch_17\">\r\n    <path clip-path=\"url(#p36309a167b)\" d=\"M 748.489205 294.118125 \r\nL 795.834659 294.118125 \r\nL 795.834659 262.993635 \r\nL 748.489205 262.993635 \r\nz\r\n\" style=\"fill:#ff0000;stroke:#ffffff;stroke-linejoin:miter;\"/>\r\n   </g>\r\n   <g id=\"patch_18\">\r\n    <path clip-path=\"url(#p36309a167b)\" d=\"M 85.652841 294.118125 \r\nL 132.998295 294.118125 \r\nL 132.998295 294.118125 \r\nL 85.652841 294.118125 \r\nz\r\n\" style=\"fill:#87ceeb;opacity:0.8;stroke:#ffffff;stroke-linejoin:miter;\"/>\r\n   </g>\r\n   <g id=\"patch_19\">\r\n    <path clip-path=\"url(#p36309a167b)\" d=\"M 132.998295 294.118125 \r\nL 180.34375 294.118125 \r\nL 180.34375 290.420166 \r\nL 132.998295 290.420166 \r\nz\r\n\" style=\"fill:#87ceeb;opacity:0.8;stroke:#ffffff;stroke-linejoin:miter;\"/>\r\n   </g>\r\n   <g id=\"patch_20\">\r\n    <path clip-path=\"url(#p36309a167b)\" d=\"M 180.34375 294.118125 \r\nL 227.689205 294.118125 \r\nL 227.689205 294.118125 \r\nL 180.34375 294.118125 \r\nz\r\n\" style=\"fill:#87ceeb;opacity:0.8;stroke:#ffffff;stroke-linejoin:miter;\"/>\r\n   </g>\r\n   <g id=\"patch_21\">\r\n    <path clip-path=\"url(#p36309a167b)\" d=\"M 227.689205 294.118125 \r\nL 275.034659 294.118125 \r\nL 275.034659 294.118125 \r\nL 227.689205 294.118125 \r\nz\r\n\" style=\"fill:#87ceeb;opacity:0.8;stroke:#ffffff;stroke-linejoin:miter;\"/>\r\n   </g>\r\n   <g id=\"patch_22\">\r\n    <path clip-path=\"url(#p36309a167b)\" d=\"M 275.034659 294.118125 \r\nL 322.380114 294.118125 \r\nL 322.380114 294.118125 \r\nL 275.034659 294.118125 \r\nz\r\n\" style=\"fill:#87ceeb;opacity:0.8;stroke:#ffffff;stroke-linejoin:miter;\"/>\r\n   </g>\r\n   <g id=\"patch_23\">\r\n    <path clip-path=\"url(#p36309a167b)\" d=\"M 322.380114 294.118125 \r\nL 369.725568 294.118125 \r\nL 369.725568 294.118125 \r\nL 322.380114 294.118125 \r\nz\r\n\" style=\"fill:#87ceeb;opacity:0.8;stroke:#ffffff;stroke-linejoin:miter;\"/>\r\n   </g>\r\n   <g id=\"patch_24\">\r\n    <path clip-path=\"url(#p36309a167b)\" d=\"M 369.725568 294.118125 \r\nL 417.071023 294.118125 \r\nL 417.071023 286.722207 \r\nL 369.725568 286.722207 \r\nz\r\n\" style=\"fill:#87ceeb;opacity:0.8;stroke:#ffffff;stroke-linejoin:miter;\"/>\r\n   </g>\r\n   <g id=\"patch_25\">\r\n    <path clip-path=\"url(#p36309a167b)\" d=\"M 417.071023 294.118125 \r\nL 464.416477 294.118125 \r\nL 464.416477 290.420166 \r\nL 417.071023 290.420166 \r\nz\r\n\" style=\"fill:#87ceeb;opacity:0.8;stroke:#ffffff;stroke-linejoin:miter;\"/>\r\n   </g>\r\n   <g id=\"patch_26\">\r\n    <path clip-path=\"url(#p36309a167b)\" d=\"M 464.416477 294.118125 \r\nL 511.761932 294.118125 \r\nL 511.761932 242.346696 \r\nL 464.416477 242.346696 \r\nz\r\n\" style=\"fill:#87ceeb;opacity:0.8;stroke:#ffffff;stroke-linejoin:miter;\"/>\r\n   </g>\r\n   <g id=\"patch_27\">\r\n    <path clip-path=\"url(#p36309a167b)\" d=\"M 511.761932 294.118125 \r\nL 559.107386 294.118125 \r\nL 559.107386 209.065064 \r\nL 511.761932 209.065064 \r\nz\r\n\" style=\"fill:#87ceeb;opacity:0.8;stroke:#ffffff;stroke-linejoin:miter;\"/>\r\n   </g>\r\n   <g id=\"patch_28\">\r\n    <path clip-path=\"url(#p36309a167b)\" d=\"M 559.107386 294.118125 \r\nL 606.452841 294.118125 \r\nL 606.452841 35.260982 \r\nL 559.107386 35.260982 \r\nz\r\n\" style=\"fill:#87ceeb;opacity:0.8;stroke:#ffffff;stroke-linejoin:miter;\"/>\r\n   </g>\r\n   <g id=\"patch_29\">\r\n    <path clip-path=\"url(#p36309a167b)\" d=\"M 606.452841 294.118125 \r\nL 653.798295 294.118125 \r\nL 653.798295 172.085472 \r\nL 606.452841 172.085472 \r\nz\r\n\" style=\"fill:#87ceeb;opacity:0.8;stroke:#ffffff;stroke-linejoin:miter;\"/>\r\n   </g>\r\n   <g id=\"patch_30\">\r\n    <path clip-path=\"url(#p36309a167b)\" d=\"M 653.798295 294.118125 \r\nL 701.14375 294.118125 \r\nL 701.14375 124.012003 \r\nL 653.798295 124.012003 \r\nz\r\n\" style=\"fill:#87ceeb;opacity:0.8;stroke:#ffffff;stroke-linejoin:miter;\"/>\r\n   </g>\r\n   <g id=\"patch_31\">\r\n    <path clip-path=\"url(#p36309a167b)\" d=\"M 701.14375 294.118125 \r\nL 748.489205 294.118125 \r\nL 748.489205 271.93037 \r\nL 701.14375 271.93037 \r\nz\r\n\" style=\"fill:#87ceeb;opacity:0.8;stroke:#ffffff;stroke-linejoin:miter;\"/>\r\n   </g>\r\n   <g id=\"patch_32\">\r\n    <path clip-path=\"url(#p36309a167b)\" d=\"M 748.489205 294.118125 \r\nL 795.834659 294.118125 \r\nL 795.834659 271.93037 \r\nL 748.489205 271.93037 \r\nz\r\n\" style=\"fill:#87ceeb;opacity:0.8;stroke:#ffffff;stroke-linejoin:miter;\"/>\r\n   </g>\r\n   <g id=\"matplotlib.axis_1\">\r\n    <g id=\"xtick_1\">\r\n     <g id=\"line2d_1\">\r\n      <defs>\r\n       <path d=\"M 0 0 \r\nL 0 3.5 \r\n\" id=\"mcf5887b0b8\" style=\"stroke:#000000;stroke-width:0.8;\"/>\r\n      </defs>\r\n      <g>\r\n       <use style=\"stroke:#000000;stroke-width:0.8;\" x=\"85.652841\" xlink:href=\"#mcf5887b0b8\" y=\"294.118125\"/>\r\n      </g>\r\n     </g>\r\n     <g id=\"text_1\">\r\n      <!-- 110 -->\r\n      <defs>\r\n       <path d=\"M 12.40625 8.296875 \r\nL 28.515625 8.296875 \r\nL 28.515625 63.921875 \r\nL 10.984375 60.40625 \r\nL 10.984375 69.390625 \r\nL 28.421875 72.90625 \r\nL 38.28125 72.90625 \r\nL 38.28125 8.296875 \r\nL 54.390625 8.296875 \r\nL 54.390625 0 \r\nL 12.40625 0 \r\nz\r\n\" id=\"DejaVuSans-49\"/>\r\n       <path d=\"M 31.78125 66.40625 \r\nQ 24.171875 66.40625 20.328125 58.90625 \r\nQ 16.5 51.421875 16.5 36.375 \r\nQ 16.5 21.390625 20.328125 13.890625 \r\nQ 24.171875 6.390625 31.78125 6.390625 \r\nQ 39.453125 6.390625 43.28125 13.890625 \r\nQ 47.125 21.390625 47.125 36.375 \r\nQ 47.125 51.421875 43.28125 58.90625 \r\nQ 39.453125 66.40625 31.78125 66.40625 \r\nz\r\nM 31.78125 74.21875 \r\nQ 44.046875 74.21875 50.515625 64.515625 \r\nQ 56.984375 54.828125 56.984375 36.375 \r\nQ 56.984375 17.96875 50.515625 8.265625 \r\nQ 44.046875 -1.421875 31.78125 -1.421875 \r\nQ 19.53125 -1.421875 13.0625 8.265625 \r\nQ 6.59375 17.96875 6.59375 36.375 \r\nQ 6.59375 54.828125 13.0625 64.515625 \r\nQ 19.53125 74.21875 31.78125 74.21875 \r\nz\r\n\" id=\"DejaVuSans-48\"/>\r\n      </defs>\r\n      <g transform=\"translate(76.109091 308.716562)scale(0.1 -0.1)\">\r\n       <use xlink:href=\"#DejaVuSans-49\"/>\r\n       <use x=\"63.623047\" xlink:href=\"#DejaVuSans-49\"/>\r\n       <use x=\"127.246094\" xlink:href=\"#DejaVuSans-48\"/>\r\n      </g>\r\n     </g>\r\n    </g>\r\n    <g id=\"xtick_2\">\r\n     <g id=\"line2d_2\">\r\n      <g>\r\n       <use style=\"stroke:#000000;stroke-width:0.8;\" x=\"180.34375\" xlink:href=\"#mcf5887b0b8\" y=\"294.118125\"/>\r\n      </g>\r\n     </g>\r\n     <g id=\"text_2\">\r\n      <!-- 115 -->\r\n      <defs>\r\n       <path d=\"M 10.796875 72.90625 \r\nL 49.515625 72.90625 \r\nL 49.515625 64.59375 \r\nL 19.828125 64.59375 \r\nL 19.828125 46.734375 \r\nQ 21.96875 47.46875 24.109375 47.828125 \r\nQ 26.265625 48.1875 28.421875 48.1875 \r\nQ 40.625 48.1875 47.75 41.5 \r\nQ 54.890625 34.8125 54.890625 23.390625 \r\nQ 54.890625 11.625 47.5625 5.09375 \r\nQ 40.234375 -1.421875 26.90625 -1.421875 \r\nQ 22.3125 -1.421875 17.546875 -0.640625 \r\nQ 12.796875 0.140625 7.71875 1.703125 \r\nL 7.71875 11.625 \r\nQ 12.109375 9.234375 16.796875 8.0625 \r\nQ 21.484375 6.890625 26.703125 6.890625 \r\nQ 35.15625 6.890625 40.078125 11.328125 \r\nQ 45.015625 15.765625 45.015625 23.390625 \r\nQ 45.015625 31 40.078125 35.4375 \r\nQ 35.15625 39.890625 26.703125 39.890625 \r\nQ 22.75 39.890625 18.8125 39.015625 \r\nQ 14.890625 38.140625 10.796875 36.28125 \r\nz\r\n\" id=\"DejaVuSans-53\"/>\r\n      </defs>\r\n      <g transform=\"translate(170.8 308.716562)scale(0.1 -0.1)\">\r\n       <use xlink:href=\"#DejaVuSans-49\"/>\r\n       <use x=\"63.623047\" xlink:href=\"#DejaVuSans-49\"/>\r\n       <use x=\"127.246094\" xlink:href=\"#DejaVuSans-53\"/>\r\n      </g>\r\n     </g>\r\n    </g>\r\n    <g id=\"xtick_3\">\r\n     <g id=\"line2d_3\">\r\n      <g>\r\n       <use style=\"stroke:#000000;stroke-width:0.8;\" x=\"275.034659\" xlink:href=\"#mcf5887b0b8\" y=\"294.118125\"/>\r\n      </g>\r\n     </g>\r\n     <g id=\"text_3\">\r\n      <!-- 120 -->\r\n      <defs>\r\n       <path d=\"M 19.1875 8.296875 \r\nL 53.609375 8.296875 \r\nL 53.609375 0 \r\nL 7.328125 0 \r\nL 7.328125 8.296875 \r\nQ 12.9375 14.109375 22.625 23.890625 \r\nQ 32.328125 33.6875 34.8125 36.53125 \r\nQ 39.546875 41.84375 41.421875 45.53125 \r\nQ 43.3125 49.21875 43.3125 52.78125 \r\nQ 43.3125 58.59375 39.234375 62.25 \r\nQ 35.15625 65.921875 28.609375 65.921875 \r\nQ 23.96875 65.921875 18.8125 64.3125 \r\nQ 13.671875 62.703125 7.8125 59.421875 \r\nL 7.8125 69.390625 \r\nQ 13.765625 71.78125 18.9375 73 \r\nQ 24.125 74.21875 28.421875 74.21875 \r\nQ 39.75 74.21875 46.484375 68.546875 \r\nQ 53.21875 62.890625 53.21875 53.421875 \r\nQ 53.21875 48.921875 51.53125 44.890625 \r\nQ 49.859375 40.875 45.40625 35.40625 \r\nQ 44.1875 33.984375 37.640625 27.21875 \r\nQ 31.109375 20.453125 19.1875 8.296875 \r\nz\r\n\" id=\"DejaVuSans-50\"/>\r\n      </defs>\r\n      <g transform=\"translate(265.490909 308.716562)scale(0.1 -0.1)\">\r\n       <use xlink:href=\"#DejaVuSans-49\"/>\r\n       <use x=\"63.623047\" xlink:href=\"#DejaVuSans-50\"/>\r\n       <use x=\"127.246094\" xlink:href=\"#DejaVuSans-48\"/>\r\n      </g>\r\n     </g>\r\n    </g>\r\n    <g id=\"xtick_4\">\r\n     <g id=\"line2d_4\">\r\n      <g>\r\n       <use style=\"stroke:#000000;stroke-width:0.8;\" x=\"369.725568\" xlink:href=\"#mcf5887b0b8\" y=\"294.118125\"/>\r\n      </g>\r\n     </g>\r\n     <g id=\"text_4\">\r\n      <!-- 125 -->\r\n      <g transform=\"translate(360.181818 308.716562)scale(0.1 -0.1)\">\r\n       <use xlink:href=\"#DejaVuSans-49\"/>\r\n       <use x=\"63.623047\" xlink:href=\"#DejaVuSans-50\"/>\r\n       <use x=\"127.246094\" xlink:href=\"#DejaVuSans-53\"/>\r\n      </g>\r\n     </g>\r\n    </g>\r\n    <g id=\"xtick_5\">\r\n     <g id=\"line2d_5\">\r\n      <g>\r\n       <use style=\"stroke:#000000;stroke-width:0.8;\" x=\"464.416477\" xlink:href=\"#mcf5887b0b8\" y=\"294.118125\"/>\r\n      </g>\r\n     </g>\r\n     <g id=\"text_5\">\r\n      <!-- 130 -->\r\n      <defs>\r\n       <path d=\"M 40.578125 39.3125 \r\nQ 47.65625 37.796875 51.625 33 \r\nQ 55.609375 28.21875 55.609375 21.1875 \r\nQ 55.609375 10.40625 48.1875 4.484375 \r\nQ 40.765625 -1.421875 27.09375 -1.421875 \r\nQ 22.515625 -1.421875 17.65625 -0.515625 \r\nQ 12.796875 0.390625 7.625 2.203125 \r\nL 7.625 11.71875 \r\nQ 11.71875 9.328125 16.59375 8.109375 \r\nQ 21.484375 6.890625 26.8125 6.890625 \r\nQ 36.078125 6.890625 40.9375 10.546875 \r\nQ 45.796875 14.203125 45.796875 21.1875 \r\nQ 45.796875 27.640625 41.28125 31.265625 \r\nQ 36.765625 34.90625 28.71875 34.90625 \r\nL 20.21875 34.90625 \r\nL 20.21875 43.015625 \r\nL 29.109375 43.015625 \r\nQ 36.375 43.015625 40.234375 45.921875 \r\nQ 44.09375 48.828125 44.09375 54.296875 \r\nQ 44.09375 59.90625 40.109375 62.90625 \r\nQ 36.140625 65.921875 28.71875 65.921875 \r\nQ 24.65625 65.921875 20.015625 65.03125 \r\nQ 15.375 64.15625 9.8125 62.3125 \r\nL 9.8125 71.09375 \r\nQ 15.4375 72.65625 20.34375 73.4375 \r\nQ 25.25 74.21875 29.59375 74.21875 \r\nQ 40.828125 74.21875 47.359375 69.109375 \r\nQ 53.90625 64.015625 53.90625 55.328125 \r\nQ 53.90625 49.265625 50.4375 45.09375 \r\nQ 46.96875 40.921875 40.578125 39.3125 \r\nz\r\n\" id=\"DejaVuSans-51\"/>\r\n      </defs>\r\n      <g transform=\"translate(454.872727 308.716562)scale(0.1 -0.1)\">\r\n       <use xlink:href=\"#DejaVuSans-49\"/>\r\n       <use x=\"63.623047\" xlink:href=\"#DejaVuSans-51\"/>\r\n       <use x=\"127.246094\" xlink:href=\"#DejaVuSans-48\"/>\r\n      </g>\r\n     </g>\r\n    </g>\r\n    <g id=\"xtick_6\">\r\n     <g id=\"line2d_6\">\r\n      <g>\r\n       <use style=\"stroke:#000000;stroke-width:0.8;\" x=\"559.107386\" xlink:href=\"#mcf5887b0b8\" y=\"294.118125\"/>\r\n      </g>\r\n     </g>\r\n     <g id=\"text_6\">\r\n      <!-- 135 -->\r\n      <g transform=\"translate(549.563636 308.716562)scale(0.1 -0.1)\">\r\n       <use xlink:href=\"#DejaVuSans-49\"/>\r\n       <use x=\"63.623047\" xlink:href=\"#DejaVuSans-51\"/>\r\n       <use x=\"127.246094\" xlink:href=\"#DejaVuSans-53\"/>\r\n      </g>\r\n     </g>\r\n    </g>\r\n    <g id=\"xtick_7\">\r\n     <g id=\"line2d_7\">\r\n      <g>\r\n       <use style=\"stroke:#000000;stroke-width:0.8;\" x=\"653.798295\" xlink:href=\"#mcf5887b0b8\" y=\"294.118125\"/>\r\n      </g>\r\n     </g>\r\n     <g id=\"text_7\">\r\n      <!-- 140 -->\r\n      <defs>\r\n       <path d=\"M 37.796875 64.3125 \r\nL 12.890625 25.390625 \r\nL 37.796875 25.390625 \r\nz\r\nM 35.203125 72.90625 \r\nL 47.609375 72.90625 \r\nL 47.609375 25.390625 \r\nL 58.015625 25.390625 \r\nL 58.015625 17.1875 \r\nL 47.609375 17.1875 \r\nL 47.609375 0 \r\nL 37.796875 0 \r\nL 37.796875 17.1875 \r\nL 4.890625 17.1875 \r\nL 4.890625 26.703125 \r\nz\r\n\" id=\"DejaVuSans-52\"/>\r\n      </defs>\r\n      <g transform=\"translate(644.254545 308.716562)scale(0.1 -0.1)\">\r\n       <use xlink:href=\"#DejaVuSans-49\"/>\r\n       <use x=\"63.623047\" xlink:href=\"#DejaVuSans-52\"/>\r\n       <use x=\"127.246094\" xlink:href=\"#DejaVuSans-48\"/>\r\n      </g>\r\n     </g>\r\n    </g>\r\n    <g id=\"xtick_8\">\r\n     <g id=\"line2d_8\">\r\n      <g>\r\n       <use style=\"stroke:#000000;stroke-width:0.8;\" x=\"748.489205\" xlink:href=\"#mcf5887b0b8\" y=\"294.118125\"/>\r\n      </g>\r\n     </g>\r\n     <g id=\"text_8\">\r\n      <!-- 145 -->\r\n      <g transform=\"translate(738.945455 308.716562)scale(0.1 -0.1)\">\r\n       <use xlink:href=\"#DejaVuSans-49\"/>\r\n       <use x=\"63.623047\" xlink:href=\"#DejaVuSans-52\"/>\r\n       <use x=\"127.246094\" xlink:href=\"#DejaVuSans-53\"/>\r\n      </g>\r\n     </g>\r\n    </g>\r\n    <g id=\"text_9\">\r\n     <!-- Sódio[mEq/L] -->\r\n     <defs>\r\n      <path d=\"M 53.515625 70.515625 \r\nL 53.515625 60.890625 \r\nQ 47.90625 63.578125 42.921875 64.890625 \r\nQ 37.9375 66.21875 33.296875 66.21875 \r\nQ 25.25 66.21875 20.875 63.09375 \r\nQ 16.5 59.96875 16.5 54.203125 \r\nQ 16.5 49.359375 19.40625 46.890625 \r\nQ 22.3125 44.4375 30.421875 42.921875 \r\nL 36.375 41.703125 \r\nQ 47.40625 39.59375 52.65625 34.296875 \r\nQ 57.90625 29 57.90625 20.125 \r\nQ 57.90625 9.515625 50.796875 4.046875 \r\nQ 43.703125 -1.421875 29.984375 -1.421875 \r\nQ 24.8125 -1.421875 18.96875 -0.25 \r\nQ 13.140625 0.921875 6.890625 3.21875 \r\nL 6.890625 13.375 \r\nQ 12.890625 10.015625 18.65625 8.296875 \r\nQ 24.421875 6.59375 29.984375 6.59375 \r\nQ 38.421875 6.59375 43.015625 9.90625 \r\nQ 47.609375 13.234375 47.609375 19.390625 \r\nQ 47.609375 24.75 44.3125 27.78125 \r\nQ 41.015625 30.8125 33.5 32.328125 \r\nL 27.484375 33.5 \r\nQ 16.453125 35.6875 11.515625 40.375 \r\nQ 6.59375 45.0625 6.59375 53.421875 \r\nQ 6.59375 63.09375 13.40625 68.65625 \r\nQ 20.21875 74.21875 32.171875 74.21875 \r\nQ 37.3125 74.21875 42.625 73.28125 \r\nQ 47.953125 72.359375 53.515625 70.515625 \r\nz\r\n\" id=\"DejaVuSans-83\"/>\r\n      <path d=\"M 30.609375 48.390625 \r\nQ 23.390625 48.390625 19.1875 42.75 \r\nQ 14.984375 37.109375 14.984375 27.296875 \r\nQ 14.984375 17.484375 19.15625 11.84375 \r\nQ 23.34375 6.203125 30.609375 6.203125 \r\nQ 37.796875 6.203125 41.984375 11.859375 \r\nQ 46.1875 17.53125 46.1875 27.296875 \r\nQ 46.1875 37.015625 41.984375 42.703125 \r\nQ 37.796875 48.390625 30.609375 48.390625 \r\nz\r\nM 30.609375 56 \r\nQ 42.328125 56 49.015625 48.375 \r\nQ 55.71875 40.765625 55.71875 27.296875 \r\nQ 55.71875 13.875 49.015625 6.21875 \r\nQ 42.328125 -1.421875 30.609375 -1.421875 \r\nQ 18.84375 -1.421875 12.171875 6.21875 \r\nQ 5.515625 13.875 5.515625 27.296875 \r\nQ 5.515625 40.765625 12.171875 48.375 \r\nQ 18.84375 56 30.609375 56 \r\nz\r\nM 37.40625 79.984375 \r\nL 47.125 79.984375 \r\nL 31.203125 61.625 \r\nL 23.734375 61.625 \r\nz\r\n\" id=\"DejaVuSans-243\"/>\r\n      <path d=\"M 45.40625 46.390625 \r\nL 45.40625 75.984375 \r\nL 54.390625 75.984375 \r\nL 54.390625 0 \r\nL 45.40625 0 \r\nL 45.40625 8.203125 \r\nQ 42.578125 3.328125 38.25 0.953125 \r\nQ 33.9375 -1.421875 27.875 -1.421875 \r\nQ 17.96875 -1.421875 11.734375 6.484375 \r\nQ 5.515625 14.40625 5.515625 27.296875 \r\nQ 5.515625 40.1875 11.734375 48.09375 \r\nQ 17.96875 56 27.875 56 \r\nQ 33.9375 56 38.25 53.625 \r\nQ 42.578125 51.265625 45.40625 46.390625 \r\nz\r\nM 14.796875 27.296875 \r\nQ 14.796875 17.390625 18.875 11.75 \r\nQ 22.953125 6.109375 30.078125 6.109375 \r\nQ 37.203125 6.109375 41.296875 11.75 \r\nQ 45.40625 17.390625 45.40625 27.296875 \r\nQ 45.40625 37.203125 41.296875 42.84375 \r\nQ 37.203125 48.484375 30.078125 48.484375 \r\nQ 22.953125 48.484375 18.875 42.84375 \r\nQ 14.796875 37.203125 14.796875 27.296875 \r\nz\r\n\" id=\"DejaVuSans-100\"/>\r\n      <path d=\"M 9.421875 54.6875 \r\nL 18.40625 54.6875 \r\nL 18.40625 0 \r\nL 9.421875 0 \r\nz\r\nM 9.421875 75.984375 \r\nL 18.40625 75.984375 \r\nL 18.40625 64.59375 \r\nL 9.421875 64.59375 \r\nz\r\n\" id=\"DejaVuSans-105\"/>\r\n      <path d=\"M 30.609375 48.390625 \r\nQ 23.390625 48.390625 19.1875 42.75 \r\nQ 14.984375 37.109375 14.984375 27.296875 \r\nQ 14.984375 17.484375 19.15625 11.84375 \r\nQ 23.34375 6.203125 30.609375 6.203125 \r\nQ 37.796875 6.203125 41.984375 11.859375 \r\nQ 46.1875 17.53125 46.1875 27.296875 \r\nQ 46.1875 37.015625 41.984375 42.703125 \r\nQ 37.796875 48.390625 30.609375 48.390625 \r\nz\r\nM 30.609375 56 \r\nQ 42.328125 56 49.015625 48.375 \r\nQ 55.71875 40.765625 55.71875 27.296875 \r\nQ 55.71875 13.875 49.015625 6.21875 \r\nQ 42.328125 -1.421875 30.609375 -1.421875 \r\nQ 18.84375 -1.421875 12.171875 6.21875 \r\nQ 5.515625 13.875 5.515625 27.296875 \r\nQ 5.515625 40.765625 12.171875 48.375 \r\nQ 18.84375 56 30.609375 56 \r\nz\r\n\" id=\"DejaVuSans-111\"/>\r\n      <path d=\"M 8.59375 75.984375 \r\nL 29.296875 75.984375 \r\nL 29.296875 69 \r\nL 17.578125 69 \r\nL 17.578125 -6.203125 \r\nL 29.296875 -6.203125 \r\nL 29.296875 -13.1875 \r\nL 8.59375 -13.1875 \r\nz\r\n\" id=\"DejaVuSans-91\"/>\r\n      <path d=\"M 52 44.1875 \r\nQ 55.375 50.25 60.0625 53.125 \r\nQ 64.75 56 71.09375 56 \r\nQ 79.640625 56 84.28125 50.015625 \r\nQ 88.921875 44.046875 88.921875 33.015625 \r\nL 88.921875 0 \r\nL 79.890625 0 \r\nL 79.890625 32.71875 \r\nQ 79.890625 40.578125 77.09375 44.375 \r\nQ 74.3125 48.1875 68.609375 48.1875 \r\nQ 61.625 48.1875 57.5625 43.546875 \r\nQ 53.515625 38.921875 53.515625 30.90625 \r\nL 53.515625 0 \r\nL 44.484375 0 \r\nL 44.484375 32.71875 \r\nQ 44.484375 40.625 41.703125 44.40625 \r\nQ 38.921875 48.1875 33.109375 48.1875 \r\nQ 26.21875 48.1875 22.15625 43.53125 \r\nQ 18.109375 38.875 18.109375 30.90625 \r\nL 18.109375 0 \r\nL 9.078125 0 \r\nL 9.078125 54.6875 \r\nL 18.109375 54.6875 \r\nL 18.109375 46.1875 \r\nQ 21.1875 51.21875 25.484375 53.609375 \r\nQ 29.78125 56 35.6875 56 \r\nQ 41.65625 56 45.828125 52.96875 \r\nQ 50 49.953125 52 44.1875 \r\nz\r\n\" id=\"DejaVuSans-109\"/>\r\n      <path d=\"M 9.8125 72.90625 \r\nL 55.90625 72.90625 \r\nL 55.90625 64.59375 \r\nL 19.671875 64.59375 \r\nL 19.671875 43.015625 \r\nL 54.390625 43.015625 \r\nL 54.390625 34.71875 \r\nL 19.671875 34.71875 \r\nL 19.671875 8.296875 \r\nL 56.78125 8.296875 \r\nL 56.78125 0 \r\nL 9.8125 0 \r\nz\r\n\" id=\"DejaVuSans-69\"/>\r\n      <path d=\"M 14.796875 27.296875 \r\nQ 14.796875 17.390625 18.875 11.75 \r\nQ 22.953125 6.109375 30.078125 6.109375 \r\nQ 37.203125 6.109375 41.296875 11.75 \r\nQ 45.40625 17.390625 45.40625 27.296875 \r\nQ 45.40625 37.203125 41.296875 42.84375 \r\nQ 37.203125 48.484375 30.078125 48.484375 \r\nQ 22.953125 48.484375 18.875 42.84375 \r\nQ 14.796875 37.203125 14.796875 27.296875 \r\nz\r\nM 45.40625 8.203125 \r\nQ 42.578125 3.328125 38.25 0.953125 \r\nQ 33.9375 -1.421875 27.875 -1.421875 \r\nQ 17.96875 -1.421875 11.734375 6.484375 \r\nQ 5.515625 14.40625 5.515625 27.296875 \r\nQ 5.515625 40.1875 11.734375 48.09375 \r\nQ 17.96875 56 27.875 56 \r\nQ 33.9375 56 38.25 53.625 \r\nQ 42.578125 51.265625 45.40625 46.390625 \r\nL 45.40625 54.6875 \r\nL 54.390625 54.6875 \r\nL 54.390625 -20.796875 \r\nL 45.40625 -20.796875 \r\nz\r\n\" id=\"DejaVuSans-113\"/>\r\n      <path d=\"M 25.390625 72.90625 \r\nL 33.6875 72.90625 \r\nL 8.296875 -9.28125 \r\nL 0 -9.28125 \r\nz\r\n\" id=\"DejaVuSans-47\"/>\r\n      <path d=\"M 9.8125 72.90625 \r\nL 19.671875 72.90625 \r\nL 19.671875 8.296875 \r\nL 55.171875 8.296875 \r\nL 55.171875 0 \r\nL 9.8125 0 \r\nz\r\n\" id=\"DejaVuSans-76\"/>\r\n      <path d=\"M 30.421875 75.984375 \r\nL 30.421875 -13.1875 \r\nL 9.71875 -13.1875 \r\nL 9.71875 -6.203125 \r\nL 21.390625 -6.203125 \r\nL 21.390625 69 \r\nL 9.71875 69 \r\nL 9.71875 75.984375 \r\nz\r\n\" id=\"DejaVuSans-93\"/>\r\n     </defs>\r\n     <g transform=\"translate(407.311719 322.794687)scale(0.1 -0.1)\">\r\n      <use xlink:href=\"#DejaVuSans-83\"/>\r\n      <use x=\"63.476562\" xlink:href=\"#DejaVuSans-243\"/>\r\n      <use x=\"124.658203\" xlink:href=\"#DejaVuSans-100\"/>\r\n      <use x=\"188.134766\" xlink:href=\"#DejaVuSans-105\"/>\r\n      <use x=\"215.917969\" xlink:href=\"#DejaVuSans-111\"/>\r\n      <use x=\"277.099609\" xlink:href=\"#DejaVuSans-91\"/>\r\n      <use x=\"316.113281\" xlink:href=\"#DejaVuSans-109\"/>\r\n      <use x=\"413.525391\" xlink:href=\"#DejaVuSans-69\"/>\r\n      <use x=\"476.708984\" xlink:href=\"#DejaVuSans-113\"/>\r\n      <use x=\"540.185547\" xlink:href=\"#DejaVuSans-47\"/>\r\n      <use x=\"573.876953\" xlink:href=\"#DejaVuSans-76\"/>\r\n      <use x=\"629.589844\" xlink:href=\"#DejaVuSans-93\"/>\r\n     </g>\r\n    </g>\r\n   </g>\r\n   <g id=\"matplotlib.axis_2\">\r\n    <g id=\"ytick_1\">\r\n     <g id=\"line2d_9\">\r\n      <defs>\r\n       <path d=\"M 0 0 \r\nL -3.5 0 \r\n\" id=\"mf76e5b47e7\" style=\"stroke:#000000;stroke-width:0.8;\"/>\r\n      </defs>\r\n      <g>\r\n       <use style=\"stroke:#000000;stroke-width:0.8;\" x=\"50.14375\" xlink:href=\"#mf76e5b47e7\" y=\"294.118125\"/>\r\n      </g>\r\n     </g>\r\n     <g id=\"text_10\">\r\n      <!-- 0.00 -->\r\n      <defs>\r\n       <path d=\"M 10.6875 12.40625 \r\nL 21 12.40625 \r\nL 21 0 \r\nL 10.6875 0 \r\nz\r\n\" id=\"DejaVuSans-46\"/>\r\n      </defs>\r\n      <g transform=\"translate(20.878125 297.917344)scale(0.1 -0.1)\">\r\n       <use xlink:href=\"#DejaVuSans-48\"/>\r\n       <use x=\"63.623047\" xlink:href=\"#DejaVuSans-46\"/>\r\n       <use x=\"95.410156\" xlink:href=\"#DejaVuSans-48\"/>\r\n       <use x=\"159.033203\" xlink:href=\"#DejaVuSans-48\"/>\r\n      </g>\r\n     </g>\r\n    </g>\r\n    <g id=\"ytick_2\">\r\n     <g id=\"line2d_10\">\r\n      <g>\r\n       <use style=\"stroke:#000000;stroke-width:0.8;\" x=\"50.14375\" xlink:href=\"#mf76e5b47e7\" y=\"256.768737\"/>\r\n      </g>\r\n     </g>\r\n     <g id=\"text_11\">\r\n      <!-- 0.02 -->\r\n      <g transform=\"translate(20.878125 260.567956)scale(0.1 -0.1)\">\r\n       <use xlink:href=\"#DejaVuSans-48\"/>\r\n       <use x=\"63.623047\" xlink:href=\"#DejaVuSans-46\"/>\r\n       <use x=\"95.410156\" xlink:href=\"#DejaVuSans-48\"/>\r\n       <use x=\"159.033203\" xlink:href=\"#DejaVuSans-50\"/>\r\n      </g>\r\n     </g>\r\n    </g>\r\n    <g id=\"ytick_3\">\r\n     <g id=\"line2d_11\">\r\n      <g>\r\n       <use style=\"stroke:#000000;stroke-width:0.8;\" x=\"50.14375\" xlink:href=\"#mf76e5b47e7\" y=\"219.419349\"/>\r\n      </g>\r\n     </g>\r\n     <g id=\"text_12\">\r\n      <!-- 0.04 -->\r\n      <g transform=\"translate(20.878125 223.218568)scale(0.1 -0.1)\">\r\n       <use xlink:href=\"#DejaVuSans-48\"/>\r\n       <use x=\"63.623047\" xlink:href=\"#DejaVuSans-46\"/>\r\n       <use x=\"95.410156\" xlink:href=\"#DejaVuSans-48\"/>\r\n       <use x=\"159.033203\" xlink:href=\"#DejaVuSans-52\"/>\r\n      </g>\r\n     </g>\r\n    </g>\r\n    <g id=\"ytick_4\">\r\n     <g id=\"line2d_12\">\r\n      <g>\r\n       <use style=\"stroke:#000000;stroke-width:0.8;\" x=\"50.14375\" xlink:href=\"#mf76e5b47e7\" y=\"182.069962\"/>\r\n      </g>\r\n     </g>\r\n     <g id=\"text_13\">\r\n      <!-- 0.06 -->\r\n      <defs>\r\n       <path d=\"M 33.015625 40.375 \r\nQ 26.375 40.375 22.484375 35.828125 \r\nQ 18.609375 31.296875 18.609375 23.390625 \r\nQ 18.609375 15.53125 22.484375 10.953125 \r\nQ 26.375 6.390625 33.015625 6.390625 \r\nQ 39.65625 6.390625 43.53125 10.953125 \r\nQ 47.40625 15.53125 47.40625 23.390625 \r\nQ 47.40625 31.296875 43.53125 35.828125 \r\nQ 39.65625 40.375 33.015625 40.375 \r\nz\r\nM 52.59375 71.296875 \r\nL 52.59375 62.3125 \r\nQ 48.875 64.0625 45.09375 64.984375 \r\nQ 41.3125 65.921875 37.59375 65.921875 \r\nQ 27.828125 65.921875 22.671875 59.328125 \r\nQ 17.53125 52.734375 16.796875 39.40625 \r\nQ 19.671875 43.65625 24.015625 45.921875 \r\nQ 28.375 48.1875 33.59375 48.1875 \r\nQ 44.578125 48.1875 50.953125 41.515625 \r\nQ 57.328125 34.859375 57.328125 23.390625 \r\nQ 57.328125 12.15625 50.6875 5.359375 \r\nQ 44.046875 -1.421875 33.015625 -1.421875 \r\nQ 20.359375 -1.421875 13.671875 8.265625 \r\nQ 6.984375 17.96875 6.984375 36.375 \r\nQ 6.984375 53.65625 15.1875 63.9375 \r\nQ 23.390625 74.21875 37.203125 74.21875 \r\nQ 40.921875 74.21875 44.703125 73.484375 \r\nQ 48.484375 72.75 52.59375 71.296875 \r\nz\r\n\" id=\"DejaVuSans-54\"/>\r\n      </defs>\r\n      <g transform=\"translate(20.878125 185.86918)scale(0.1 -0.1)\">\r\n       <use xlink:href=\"#DejaVuSans-48\"/>\r\n       <use x=\"63.623047\" xlink:href=\"#DejaVuSans-46\"/>\r\n       <use x=\"95.410156\" xlink:href=\"#DejaVuSans-48\"/>\r\n       <use x=\"159.033203\" xlink:href=\"#DejaVuSans-54\"/>\r\n      </g>\r\n     </g>\r\n    </g>\r\n    <g id=\"ytick_5\">\r\n     <g id=\"line2d_13\">\r\n      <g>\r\n       <use style=\"stroke:#000000;stroke-width:0.8;\" x=\"50.14375\" xlink:href=\"#mf76e5b47e7\" y=\"144.720574\"/>\r\n      </g>\r\n     </g>\r\n     <g id=\"text_14\">\r\n      <!-- 0.08 -->\r\n      <defs>\r\n       <path d=\"M 31.78125 34.625 \r\nQ 24.75 34.625 20.71875 30.859375 \r\nQ 16.703125 27.09375 16.703125 20.515625 \r\nQ 16.703125 13.921875 20.71875 10.15625 \r\nQ 24.75 6.390625 31.78125 6.390625 \r\nQ 38.8125 6.390625 42.859375 10.171875 \r\nQ 46.921875 13.96875 46.921875 20.515625 \r\nQ 46.921875 27.09375 42.890625 30.859375 \r\nQ 38.875 34.625 31.78125 34.625 \r\nz\r\nM 21.921875 38.8125 \r\nQ 15.578125 40.375 12.03125 44.71875 \r\nQ 8.5 49.078125 8.5 55.328125 \r\nQ 8.5 64.0625 14.71875 69.140625 \r\nQ 20.953125 74.21875 31.78125 74.21875 \r\nQ 42.671875 74.21875 48.875 69.140625 \r\nQ 55.078125 64.0625 55.078125 55.328125 \r\nQ 55.078125 49.078125 51.53125 44.71875 \r\nQ 48 40.375 41.703125 38.8125 \r\nQ 48.828125 37.15625 52.796875 32.3125 \r\nQ 56.78125 27.484375 56.78125 20.515625 \r\nQ 56.78125 9.90625 50.3125 4.234375 \r\nQ 43.84375 -1.421875 31.78125 -1.421875 \r\nQ 19.734375 -1.421875 13.25 4.234375 \r\nQ 6.78125 9.90625 6.78125 20.515625 \r\nQ 6.78125 27.484375 10.78125 32.3125 \r\nQ 14.796875 37.15625 21.921875 38.8125 \r\nz\r\nM 18.3125 54.390625 \r\nQ 18.3125 48.734375 21.84375 45.5625 \r\nQ 25.390625 42.390625 31.78125 42.390625 \r\nQ 38.140625 42.390625 41.71875 45.5625 \r\nQ 45.3125 48.734375 45.3125 54.390625 \r\nQ 45.3125 60.0625 41.71875 63.234375 \r\nQ 38.140625 66.40625 31.78125 66.40625 \r\nQ 25.390625 66.40625 21.84375 63.234375 \r\nQ 18.3125 60.0625 18.3125 54.390625 \r\nz\r\n\" id=\"DejaVuSans-56\"/>\r\n      </defs>\r\n      <g transform=\"translate(20.878125 148.519793)scale(0.1 -0.1)\">\r\n       <use xlink:href=\"#DejaVuSans-48\"/>\r\n       <use x=\"63.623047\" xlink:href=\"#DejaVuSans-46\"/>\r\n       <use x=\"95.410156\" xlink:href=\"#DejaVuSans-48\"/>\r\n       <use x=\"159.033203\" xlink:href=\"#DejaVuSans-56\"/>\r\n      </g>\r\n     </g>\r\n    </g>\r\n    <g id=\"ytick_6\">\r\n     <g id=\"line2d_14\">\r\n      <g>\r\n       <use style=\"stroke:#000000;stroke-width:0.8;\" x=\"50.14375\" xlink:href=\"#mf76e5b47e7\" y=\"107.371186\"/>\r\n      </g>\r\n     </g>\r\n     <g id=\"text_15\">\r\n      <!-- 0.10 -->\r\n      <g transform=\"translate(20.878125 111.170405)scale(0.1 -0.1)\">\r\n       <use xlink:href=\"#DejaVuSans-48\"/>\r\n       <use x=\"63.623047\" xlink:href=\"#DejaVuSans-46\"/>\r\n       <use x=\"95.410156\" xlink:href=\"#DejaVuSans-49\"/>\r\n       <use x=\"159.033203\" xlink:href=\"#DejaVuSans-48\"/>\r\n      </g>\r\n     </g>\r\n    </g>\r\n    <g id=\"ytick_7\">\r\n     <g id=\"line2d_15\">\r\n      <g>\r\n       <use style=\"stroke:#000000;stroke-width:0.8;\" x=\"50.14375\" xlink:href=\"#mf76e5b47e7\" y=\"70.021798\"/>\r\n      </g>\r\n     </g>\r\n     <g id=\"text_16\">\r\n      <!-- 0.12 -->\r\n      <g transform=\"translate(20.878125 73.821017)scale(0.1 -0.1)\">\r\n       <use xlink:href=\"#DejaVuSans-48\"/>\r\n       <use x=\"63.623047\" xlink:href=\"#DejaVuSans-46\"/>\r\n       <use x=\"95.410156\" xlink:href=\"#DejaVuSans-49\"/>\r\n       <use x=\"159.033203\" xlink:href=\"#DejaVuSans-50\"/>\r\n      </g>\r\n     </g>\r\n    </g>\r\n    <g id=\"ytick_8\">\r\n     <g id=\"line2d_16\">\r\n      <g>\r\n       <use style=\"stroke:#000000;stroke-width:0.8;\" x=\"50.14375\" xlink:href=\"#mf76e5b47e7\" y=\"32.672411\"/>\r\n      </g>\r\n     </g>\r\n     <g id=\"text_17\">\r\n      <!-- 0.14 -->\r\n      <g transform=\"translate(20.878125 36.471629)scale(0.1 -0.1)\">\r\n       <use xlink:href=\"#DejaVuSans-48\"/>\r\n       <use x=\"63.623047\" xlink:href=\"#DejaVuSans-46\"/>\r\n       <use x=\"95.410156\" xlink:href=\"#DejaVuSans-49\"/>\r\n       <use x=\"159.033203\" xlink:href=\"#DejaVuSans-52\"/>\r\n      </g>\r\n     </g>\r\n    </g>\r\n    <g id=\"text_18\">\r\n     <!-- densidade -->\r\n     <defs>\r\n      <path d=\"M 56.203125 29.59375 \r\nL 56.203125 25.203125 \r\nL 14.890625 25.203125 \r\nQ 15.484375 15.921875 20.484375 11.0625 \r\nQ 25.484375 6.203125 34.421875 6.203125 \r\nQ 39.59375 6.203125 44.453125 7.46875 \r\nQ 49.3125 8.734375 54.109375 11.28125 \r\nL 54.109375 2.78125 \r\nQ 49.265625 0.734375 44.1875 -0.34375 \r\nQ 39.109375 -1.421875 33.890625 -1.421875 \r\nQ 20.796875 -1.421875 13.15625 6.1875 \r\nQ 5.515625 13.8125 5.515625 26.8125 \r\nQ 5.515625 40.234375 12.765625 48.109375 \r\nQ 20.015625 56 32.328125 56 \r\nQ 43.359375 56 49.78125 48.890625 \r\nQ 56.203125 41.796875 56.203125 29.59375 \r\nz\r\nM 47.21875 32.234375 \r\nQ 47.125 39.59375 43.09375 43.984375 \r\nQ 39.0625 48.390625 32.421875 48.390625 \r\nQ 24.90625 48.390625 20.390625 44.140625 \r\nQ 15.875 39.890625 15.1875 32.171875 \r\nz\r\n\" id=\"DejaVuSans-101\"/>\r\n      <path d=\"M 54.890625 33.015625 \r\nL 54.890625 0 \r\nL 45.90625 0 \r\nL 45.90625 32.71875 \r\nQ 45.90625 40.484375 42.875 44.328125 \r\nQ 39.84375 48.1875 33.796875 48.1875 \r\nQ 26.515625 48.1875 22.3125 43.546875 \r\nQ 18.109375 38.921875 18.109375 30.90625 \r\nL 18.109375 0 \r\nL 9.078125 0 \r\nL 9.078125 54.6875 \r\nL 18.109375 54.6875 \r\nL 18.109375 46.1875 \r\nQ 21.34375 51.125 25.703125 53.5625 \r\nQ 30.078125 56 35.796875 56 \r\nQ 45.21875 56 50.046875 50.171875 \r\nQ 54.890625 44.34375 54.890625 33.015625 \r\nz\r\n\" id=\"DejaVuSans-110\"/>\r\n      <path d=\"M 44.28125 53.078125 \r\nL 44.28125 44.578125 \r\nQ 40.484375 46.53125 36.375 47.5 \r\nQ 32.28125 48.484375 27.875 48.484375 \r\nQ 21.1875 48.484375 17.84375 46.4375 \r\nQ 14.5 44.390625 14.5 40.28125 \r\nQ 14.5 37.15625 16.890625 35.375 \r\nQ 19.28125 33.59375 26.515625 31.984375 \r\nL 29.59375 31.296875 \r\nQ 39.15625 29.25 43.1875 25.515625 \r\nQ 47.21875 21.78125 47.21875 15.09375 \r\nQ 47.21875 7.46875 41.1875 3.015625 \r\nQ 35.15625 -1.421875 24.609375 -1.421875 \r\nQ 20.21875 -1.421875 15.453125 -0.5625 \r\nQ 10.6875 0.296875 5.421875 2 \r\nL 5.421875 11.28125 \r\nQ 10.40625 8.6875 15.234375 7.390625 \r\nQ 20.0625 6.109375 24.8125 6.109375 \r\nQ 31.15625 6.109375 34.5625 8.28125 \r\nQ 37.984375 10.453125 37.984375 14.40625 \r\nQ 37.984375 18.0625 35.515625 20.015625 \r\nQ 33.0625 21.96875 24.703125 23.78125 \r\nL 21.578125 24.515625 \r\nQ 13.234375 26.265625 9.515625 29.90625 \r\nQ 5.8125 33.546875 5.8125 39.890625 \r\nQ 5.8125 47.609375 11.28125 51.796875 \r\nQ 16.75 56 26.8125 56 \r\nQ 31.78125 56 36.171875 55.265625 \r\nQ 40.578125 54.546875 44.28125 53.078125 \r\nz\r\n\" id=\"DejaVuSans-115\"/>\r\n      <path d=\"M 34.28125 27.484375 \r\nQ 23.390625 27.484375 19.1875 25 \r\nQ 14.984375 22.515625 14.984375 16.5 \r\nQ 14.984375 11.71875 18.140625 8.90625 \r\nQ 21.296875 6.109375 26.703125 6.109375 \r\nQ 34.1875 6.109375 38.703125 11.40625 \r\nQ 43.21875 16.703125 43.21875 25.484375 \r\nL 43.21875 27.484375 \r\nz\r\nM 52.203125 31.203125 \r\nL 52.203125 0 \r\nL 43.21875 0 \r\nL 43.21875 8.296875 \r\nQ 40.140625 3.328125 35.546875 0.953125 \r\nQ 30.953125 -1.421875 24.3125 -1.421875 \r\nQ 15.921875 -1.421875 10.953125 3.296875 \r\nQ 6 8.015625 6 15.921875 \r\nQ 6 25.140625 12.171875 29.828125 \r\nQ 18.359375 34.515625 30.609375 34.515625 \r\nL 43.21875 34.515625 \r\nL 43.21875 35.40625 \r\nQ 43.21875 41.609375 39.140625 45 \r\nQ 35.0625 48.390625 27.6875 48.390625 \r\nQ 23 48.390625 18.546875 47.265625 \r\nQ 14.109375 46.140625 10.015625 43.890625 \r\nL 10.015625 52.203125 \r\nQ 14.9375 54.109375 19.578125 55.046875 \r\nQ 24.21875 56 28.609375 56 \r\nQ 40.484375 56 46.34375 49.84375 \r\nQ 52.203125 43.703125 52.203125 31.203125 \r\nz\r\n\" id=\"DejaVuSans-97\"/>\r\n     </defs>\r\n     <g transform=\"translate(14.798438 184.120469)rotate(-90)scale(0.1 -0.1)\">\r\n      <use xlink:href=\"#DejaVuSans-100\"/>\r\n      <use x=\"63.476562\" xlink:href=\"#DejaVuSans-101\"/>\r\n      <use x=\"125\" xlink:href=\"#DejaVuSans-110\"/>\r\n      <use x=\"188.378906\" xlink:href=\"#DejaVuSans-115\"/>\r\n      <use x=\"240.478516\" xlink:href=\"#DejaVuSans-105\"/>\r\n      <use x=\"268.261719\" xlink:href=\"#DejaVuSans-100\"/>\r\n      <use x=\"331.738281\" xlink:href=\"#DejaVuSans-97\"/>\r\n      <use x=\"393.017578\" xlink:href=\"#DejaVuSans-100\"/>\r\n      <use x=\"456.494141\" xlink:href=\"#DejaVuSans-101\"/>\r\n     </g>\r\n    </g>\r\n   </g>\r\n   <g id=\"patch_33\">\r\n    <path d=\"M 50.14375 294.118125 \r\nL 50.14375 22.318125 \r\n\" style=\"fill:none;stroke:#000000;stroke-linecap:square;stroke-linejoin:miter;stroke-width:0.8;\"/>\r\n   </g>\r\n   <g id=\"patch_34\">\r\n    <path d=\"M 831.34375 294.118125 \r\nL 831.34375 22.318125 \r\n\" style=\"fill:none;stroke:#000000;stroke-linecap:square;stroke-linejoin:miter;stroke-width:0.8;\"/>\r\n   </g>\r\n   <g id=\"patch_35\">\r\n    <path d=\"M 50.14375 294.118125 \r\nL 831.34375 294.118125 \r\n\" style=\"fill:none;stroke:#000000;stroke-linecap:square;stroke-linejoin:miter;stroke-width:0.8;\"/>\r\n   </g>\r\n   <g id=\"patch_36\">\r\n    <path d=\"M 50.14375 22.318125 \r\nL 831.34375 22.318125 \r\n\" style=\"fill:none;stroke:#000000;stroke-linecap:square;stroke-linejoin:miter;stroke-width:0.8;\"/>\r\n   </g>\r\n   <g id=\"text_19\">\r\n    <!-- Sódio -->\r\n    <g transform=\"translate(424.11625 16.318125)scale(0.12 -0.12)\">\r\n     <use xlink:href=\"#DejaVuSans-83\"/>\r\n     <use x=\"63.476562\" xlink:href=\"#DejaVuSans-243\"/>\r\n     <use x=\"124.658203\" xlink:href=\"#DejaVuSans-100\"/>\r\n     <use x=\"188.134766\" xlink:href=\"#DejaVuSans-105\"/>\r\n     <use x=\"215.917969\" xlink:href=\"#DejaVuSans-111\"/>\r\n    </g>\r\n   </g>\r\n   <g id=\"legend_1\">\r\n    <g id=\"patch_37\">\r\n     <path d=\"M 785.98125 59.674375 \r\nL 824.34375 59.674375 \r\nQ 826.34375 59.674375 826.34375 57.674375 \r\nL 826.34375 29.318125 \r\nQ 826.34375 27.318125 824.34375 27.318125 \r\nL 785.98125 27.318125 \r\nQ 783.98125 27.318125 783.98125 29.318125 \r\nL 783.98125 57.674375 \r\nQ 783.98125 59.674375 785.98125 59.674375 \r\nz\r\n\" style=\"fill:#ffffff;opacity:0.8;stroke:#cccccc;stroke-linejoin:miter;\"/>\r\n    </g>\r\n    <g id=\"patch_38\">\r\n     <path d=\"M 787.98125 38.916562 \r\nL 807.98125 38.916562 \r\nL 807.98125 31.916562 \r\nL 787.98125 31.916562 \r\nz\r\n\" style=\"fill:#ff0000;stroke:#ffffff;stroke-linejoin:miter;\"/>\r\n    </g>\r\n    <g id=\"text_20\">\r\n     <!-- 1 -->\r\n     <g transform=\"translate(815.98125 38.916562)scale(0.1 -0.1)\">\r\n      <use xlink:href=\"#DejaVuSans-49\"/>\r\n     </g>\r\n    </g>\r\n    <g id=\"patch_39\">\r\n     <path d=\"M 787.98125 53.594687 \r\nL 807.98125 53.594687 \r\nL 807.98125 46.594687 \r\nL 787.98125 46.594687 \r\nz\r\n\" style=\"fill:#87ceeb;opacity:0.8;stroke:#ffffff;stroke-linejoin:miter;\"/>\r\n    </g>\r\n    <g id=\"text_21\">\r\n     <!-- 0 -->\r\n     <g transform=\"translate(815.98125 53.594687)scale(0.1 -0.1)\">\r\n      <use xlink:href=\"#DejaVuSans-48\"/>\r\n     </g>\r\n    </g>\r\n   </g>\r\n  </g>\r\n </g>\r\n <defs>\r\n  <clipPath id=\"p36309a167b\">\r\n   <rect height=\"271.8\" width=\"781.2\" x=\"50.14375\" y=\"22.318125\"/>\r\n  </clipPath>\r\n </defs>\r\n</svg>\r\n",
      "image/png": "[encoded data removed]"
     },
     "metadata": {
      "needs_background": "light"
     }
    }
   ],
   "source": [
    "#Histograma de sódio no sangue de sobreviventes e não sobreviventes\n",
    "faixas = np.arange(110,150,2.5)\n",
    "plt.figure(figsize=(14, 5))\n",
    "plt.hist(dead.serum_sodium, bins=faixas, density=True, color='red', edgecolor='white', linewidth=1)\n",
    "plt.hist(not_dead.serum_sodium, bins=faixas, density=True, color='skyblue', edgecolor='white', linewidth=1, alpha=0.8)\n",
    "plt.legend('10')\n",
    "plt.title('Sódio')\n",
    "plt.xlabel('Sódio[mEq/L]')\n",
    "plt.ylabel('densidade')\n",
    "plt.show()"
   ]
  },
  {
   "source": [
    "Apesar de uma boa distribuiçao dos dados, taxas de sódio menores que 135[mEq/L] podem influênciar para uma maior mortalidade."
   ],
   "cell_type": "markdown",
   "metadata": {}
  },
  {
   "cell_type": "code",
   "execution_count": 21,
   "metadata": {},
   "outputs": [
    {
     "output_type": "display_data",
     "data": {
      "text/plain": "<Figure size 1008x360 with 1 Axes>",
      "image/svg+xml": "<?xml version=\"1.0\" encoding=\"utf-8\" standalone=\"no\"?>\r\n<!DOCTYPE svg PUBLIC \"-//W3C//DTD SVG 1.1//EN\"\r\n  \"http://www.w3.org/Graphics/SVG/1.1/DTD/svg11.dtd\">\r\n<!-- Created with matplotlib (https://matplotlib.org/) -->\r\n<svg height=\"331.87875pt\" version=\"1.1\" viewBox=\"0 0 844.90625 331.87875\" width=\"844.90625pt\" xmlns=\"http://www.w3.org/2000/svg\" xmlns:xlink=\"http://www.w3.org/1999/xlink\">\r\n <defs>\r\n  <style type=\"text/css\">\r\n*{stroke-linecap:butt;stroke-linejoin:round;}\r\n  </style>\r\n </defs>\r\n <g id=\"figure_1\">\r\n  <g id=\"patch_1\">\r\n   <path d=\"M 0 331.87875 \r\nL 844.90625 331.87875 \r\nL 844.90625 0 \r\nL 0 0 \r\nz\r\n\" style=\"fill:none;\"/>\r\n  </g>\r\n  <g id=\"axes_1\">\r\n   <g id=\"patch_2\">\r\n    <path d=\"M 56.50625 294.3225 \r\nL 837.70625 294.3225 \r\nL 837.70625 22.5225 \r\nL 56.50625 22.5225 \r\nz\r\n\" style=\"fill:#ffffff;\"/>\r\n   </g>\r\n   <g id=\"patch_3\">\r\n    <path clip-path=\"url(#p842fc43b2b)\" d=\"M 92.015341 294.3225 \r\nL 117.378977 294.3225 \r\nL 117.378977 51.643929 \r\nL 92.015341 51.643929 \r\nz\r\n\" style=\"fill:#ff0000;stroke:#ffffff;stroke-linejoin:miter;\"/>\r\n   </g>\r\n   <g id=\"patch_4\">\r\n    <path clip-path=\"url(#p842fc43b2b)\" d=\"M 117.378977 294.3225 \r\nL 142.742614 294.3225 \r\nL 142.742614 164.893929 \r\nL 117.378977 164.893929 \r\nz\r\n\" style=\"fill:#ff0000;stroke:#ffffff;stroke-linejoin:miter;\"/>\r\n   </g>\r\n   <g id=\"patch_5\">\r\n    <path clip-path=\"url(#p842fc43b2b)\" d=\"M 142.742614 294.3225 \r\nL 168.10625 294.3225 \r\nL 168.10625 35.465357 \r\nL 142.742614 35.465357 \r\nz\r\n\" style=\"fill:#ff0000;stroke:#ffffff;stroke-linejoin:miter;\"/>\r\n   </g>\r\n   <g id=\"patch_6\">\r\n    <path clip-path=\"url(#p842fc43b2b)\" d=\"M 168.10625 294.3225 \r\nL 193.469886 294.3225 \r\nL 193.469886 164.893929 \r\nL 168.10625 164.893929 \r\nz\r\n\" style=\"fill:#ff0000;stroke:#ffffff;stroke-linejoin:miter;\"/>\r\n   </g>\r\n   <g id=\"patch_7\">\r\n    <path clip-path=\"url(#p842fc43b2b)\" d=\"M 193.469886 294.3225 \r\nL 218.833523 294.3225 \r\nL 218.833523 245.786786 \r\nL 193.469886 245.786786 \r\nz\r\n\" style=\"fill:#ff0000;stroke:#ffffff;stroke-linejoin:miter;\"/>\r\n   </g>\r\n   <g id=\"patch_8\">\r\n    <path clip-path=\"url(#p842fc43b2b)\" d=\"M 218.833523 294.3225 \r\nL 244.197159 294.3225 \r\nL 244.197159 213.429643 \r\nL 218.833523 213.429643 \r\nz\r\n\" style=\"fill:#ff0000;stroke:#ffffff;stroke-linejoin:miter;\"/>\r\n   </g>\r\n   <g id=\"patch_9\">\r\n    <path clip-path=\"url(#p842fc43b2b)\" d=\"M 244.197159 294.3225 \r\nL 269.560795 294.3225 \r\nL 269.560795 164.893929 \r\nL 244.197159 164.893929 \r\nz\r\n\" style=\"fill:#ff0000;stroke:#ffffff;stroke-linejoin:miter;\"/>\r\n   </g>\r\n   <g id=\"patch_10\">\r\n    <path clip-path=\"url(#p842fc43b2b)\" d=\"M 269.560795 294.3225 \r\nL 294.924432 294.3225 \r\nL 294.924432 245.786786 \r\nL 269.560795 245.786786 \r\nz\r\n\" style=\"fill:#ff0000;stroke:#ffffff;stroke-linejoin:miter;\"/>\r\n   </g>\r\n   <g id=\"patch_11\">\r\n    <path clip-path=\"url(#p842fc43b2b)\" d=\"M 294.924432 294.3225 \r\nL 320.288068 294.3225 \r\nL 320.288068 245.786786 \r\nL 294.924432 245.786786 \r\nz\r\n\" style=\"fill:#ff0000;stroke:#ffffff;stroke-linejoin:miter;\"/>\r\n   </g>\r\n   <g id=\"patch_12\">\r\n    <path clip-path=\"url(#p842fc43b2b)\" d=\"M 320.288068 294.3225 \r\nL 345.651705 294.3225 \r\nL 345.651705 245.786786 \r\nL 320.288068 245.786786 \r\nz\r\n\" style=\"fill:#ff0000;stroke:#ffffff;stroke-linejoin:miter;\"/>\r\n   </g>\r\n   <g id=\"patch_13\">\r\n    <path clip-path=\"url(#p842fc43b2b)\" d=\"M 345.651705 294.3225 \r\nL 371.015341 294.3225 \r\nL 371.015341 245.786786 \r\nL 345.651705 245.786786 \r\nz\r\n\" style=\"fill:#ff0000;stroke:#ffffff;stroke-linejoin:miter;\"/>\r\n   </g>\r\n   <g id=\"patch_14\">\r\n    <path clip-path=\"url(#p842fc43b2b)\" d=\"M 371.015341 294.3225 \r\nL 396.378977 294.3225 \r\nL 396.378977 278.143929 \r\nL 371.015341 278.143929 \r\nz\r\n\" style=\"fill:#ff0000;stroke:#ffffff;stroke-linejoin:miter;\"/>\r\n   </g>\r\n   <g id=\"patch_15\">\r\n    <path clip-path=\"url(#p842fc43b2b)\" d=\"M 396.378977 294.3225 \r\nL 421.742614 294.3225 \r\nL 421.742614 245.786786 \r\nL 396.378977 245.786786 \r\nz\r\n\" style=\"fill:#ff0000;stroke:#ffffff;stroke-linejoin:miter;\"/>\r\n   </g>\r\n   <g id=\"patch_16\">\r\n    <path clip-path=\"url(#p842fc43b2b)\" d=\"M 421.742614 294.3225 \r\nL 447.10625 294.3225 \r\nL 447.10625 278.143929 \r\nL 421.742614 278.143929 \r\nz\r\n\" style=\"fill:#ff0000;stroke:#ffffff;stroke-linejoin:miter;\"/>\r\n   </g>\r\n   <g id=\"patch_17\">\r\n    <path clip-path=\"url(#p842fc43b2b)\" d=\"M 447.10625 294.3225 \r\nL 472.469886 294.3225 \r\nL 472.469886 278.143929 \r\nL 447.10625 278.143929 \r\nz\r\n\" style=\"fill:#ff0000;stroke:#ffffff;stroke-linejoin:miter;\"/>\r\n   </g>\r\n   <g id=\"patch_18\">\r\n    <path clip-path=\"url(#p842fc43b2b)\" d=\"M 472.469886 294.3225 \r\nL 497.833523 294.3225 \r\nL 497.833523 261.965357 \r\nL 472.469886 261.965357 \r\nz\r\n\" style=\"fill:#ff0000;stroke:#ffffff;stroke-linejoin:miter;\"/>\r\n   </g>\r\n   <g id=\"patch_19\">\r\n    <path clip-path=\"url(#p842fc43b2b)\" d=\"M 497.833523 294.3225 \r\nL 523.197159 294.3225 \r\nL 523.197159 229.608214 \r\nL 497.833523 229.608214 \r\nz\r\n\" style=\"fill:#ff0000;stroke:#ffffff;stroke-linejoin:miter;\"/>\r\n   </g>\r\n   <g id=\"patch_20\">\r\n    <path clip-path=\"url(#p842fc43b2b)\" d=\"M 523.197159 294.3225 \r\nL 548.560795 294.3225 \r\nL 548.560795 261.965357 \r\nL 523.197159 261.965357 \r\nz\r\n\" style=\"fill:#ff0000;stroke:#ffffff;stroke-linejoin:miter;\"/>\r\n   </g>\r\n   <g id=\"patch_21\">\r\n    <path clip-path=\"url(#p842fc43b2b)\" d=\"M 548.560795 294.3225 \r\nL 573.924432 294.3225 \r\nL 573.924432 278.143929 \r\nL 548.560795 278.143929 \r\nz\r\n\" style=\"fill:#ff0000;stroke:#ffffff;stroke-linejoin:miter;\"/>\r\n   </g>\r\n   <g id=\"patch_22\">\r\n    <path clip-path=\"url(#p842fc43b2b)\" d=\"M 573.924432 294.3225 \r\nL 599.288068 294.3225 \r\nL 599.288068 261.965357 \r\nL 573.924432 261.965357 \r\nz\r\n\" style=\"fill:#ff0000;stroke:#ffffff;stroke-linejoin:miter;\"/>\r\n   </g>\r\n   <g id=\"patch_23\">\r\n    <path clip-path=\"url(#p842fc43b2b)\" d=\"M 599.288068 294.3225 \r\nL 624.651705 294.3225 \r\nL 624.651705 278.143929 \r\nL 599.288068 278.143929 \r\nz\r\n\" style=\"fill:#ff0000;stroke:#ffffff;stroke-linejoin:miter;\"/>\r\n   </g>\r\n   <g id=\"patch_24\">\r\n    <path clip-path=\"url(#p842fc43b2b)\" d=\"M 624.651705 294.3225 \r\nL 650.015341 294.3225 \r\nL 650.015341 278.143929 \r\nL 624.651705 278.143929 \r\nz\r\n\" style=\"fill:#ff0000;stroke:#ffffff;stroke-linejoin:miter;\"/>\r\n   </g>\r\n   <g id=\"patch_25\">\r\n    <path clip-path=\"url(#p842fc43b2b)\" d=\"M 650.015341 294.3225 \r\nL 675.378977 294.3225 \r\nL 675.378977 294.3225 \r\nL 650.015341 294.3225 \r\nz\r\n\" style=\"fill:#ff0000;stroke:#ffffff;stroke-linejoin:miter;\"/>\r\n   </g>\r\n   <g id=\"patch_26\">\r\n    <path clip-path=\"url(#p842fc43b2b)\" d=\"M 675.378977 294.3225 \r\nL 700.742614 294.3225 \r\nL 700.742614 261.965357 \r\nL 675.378977 261.965357 \r\nz\r\n\" style=\"fill:#ff0000;stroke:#ffffff;stroke-linejoin:miter;\"/>\r\n   </g>\r\n   <g id=\"patch_27\">\r\n    <path clip-path=\"url(#p842fc43b2b)\" d=\"M 700.742614 294.3225 \r\nL 726.10625 294.3225 \r\nL 726.10625 294.3225 \r\nL 700.742614 294.3225 \r\nz\r\n\" style=\"fill:#ff0000;stroke:#ffffff;stroke-linejoin:miter;\"/>\r\n   </g>\r\n   <g id=\"patch_28\">\r\n    <path clip-path=\"url(#p842fc43b2b)\" d=\"M 726.10625 294.3225 \r\nL 751.469886 294.3225 \r\nL 751.469886 294.3225 \r\nL 726.10625 294.3225 \r\nz\r\n\" style=\"fill:#ff0000;stroke:#ffffff;stroke-linejoin:miter;\"/>\r\n   </g>\r\n   <g id=\"patch_29\">\r\n    <path clip-path=\"url(#p842fc43b2b)\" d=\"M 751.469886 294.3225 \r\nL 776.833523 294.3225 \r\nL 776.833523 294.3225 \r\nL 751.469886 294.3225 \r\nz\r\n\" style=\"fill:#ff0000;stroke:#ffffff;stroke-linejoin:miter;\"/>\r\n   </g>\r\n   <g id=\"patch_30\">\r\n    <path clip-path=\"url(#p842fc43b2b)\" d=\"M 776.833523 294.3225 \r\nL 802.197159 294.3225 \r\nL 802.197159 294.3225 \r\nL 776.833523 294.3225 \r\nz\r\n\" style=\"fill:#ff0000;stroke:#ffffff;stroke-linejoin:miter;\"/>\r\n   </g>\r\n   <g id=\"patch_31\">\r\n    <path clip-path=\"url(#p842fc43b2b)\" d=\"M 92.015341 294.3225 \r\nL 117.378977 294.3225 \r\nL 117.378977 286.633674 \r\nL 92.015341 286.633674 \r\nz\r\n\" style=\"fill:#87ceeb;opacity:0.8;stroke:#ffffff;stroke-linejoin:miter;\"/>\r\n   </g>\r\n   <g id=\"patch_32\">\r\n    <path clip-path=\"url(#p842fc43b2b)\" d=\"M 117.378977 294.3225 \r\nL 142.742614 294.3225 \r\nL 142.742614 278.944848 \r\nL 117.378977 278.944848 \r\nz\r\n\" style=\"fill:#87ceeb;opacity:0.8;stroke:#ffffff;stroke-linejoin:miter;\"/>\r\n   </g>\r\n   <g id=\"patch_33\">\r\n    <path clip-path=\"url(#p842fc43b2b)\" d=\"M 142.742614 294.3225 \r\nL 168.10625 294.3225 \r\nL 168.10625 271.256022 \r\nL 142.742614 271.256022 \r\nz\r\n\" style=\"fill:#87ceeb;opacity:0.8;stroke:#ffffff;stroke-linejoin:miter;\"/>\r\n   </g>\r\n   <g id=\"patch_34\">\r\n    <path clip-path=\"url(#p842fc43b2b)\" d=\"M 168.10625 294.3225 \r\nL 193.469886 294.3225 \r\nL 193.469886 294.3225 \r\nL 168.10625 294.3225 \r\nz\r\n\" style=\"fill:#87ceeb;opacity:0.8;stroke:#ffffff;stroke-linejoin:miter;\"/>\r\n   </g>\r\n   <g id=\"patch_35\">\r\n    <path clip-path=\"url(#p842fc43b2b)\" d=\"M 193.469886 294.3225 \r\nL 218.833523 294.3225 \r\nL 218.833523 294.3225 \r\nL 193.469886 294.3225 \r\nz\r\n\" style=\"fill:#87ceeb;opacity:0.8;stroke:#ffffff;stroke-linejoin:miter;\"/>\r\n   </g>\r\n   <g id=\"patch_36\">\r\n    <path clip-path=\"url(#p842fc43b2b)\" d=\"M 218.833523 294.3225 \r\nL 244.197159 294.3225 \r\nL 244.197159 263.567196 \r\nL 218.833523 263.567196 \r\nz\r\n\" style=\"fill:#87ceeb;opacity:0.8;stroke:#ffffff;stroke-linejoin:miter;\"/>\r\n   </g>\r\n   <g id=\"patch_37\">\r\n    <path clip-path=\"url(#p842fc43b2b)\" d=\"M 244.197159 294.3225 \r\nL 269.560795 294.3225 \r\nL 269.560795 271.256022 \r\nL 244.197159 271.256022 \r\nz\r\n\" style=\"fill:#87ceeb;opacity:0.8;stroke:#ffffff;stroke-linejoin:miter;\"/>\r\n   </g>\r\n   <g id=\"patch_38\">\r\n    <path clip-path=\"url(#p842fc43b2b)\" d=\"M 269.560795 294.3225 \r\nL 294.924432 294.3225 \r\nL 294.924432 155.923632 \r\nL 269.560795 155.923632 \r\nz\r\n\" style=\"fill:#87ceeb;opacity:0.8;stroke:#ffffff;stroke-linejoin:miter;\"/>\r\n   </g>\r\n   <g id=\"patch_39\">\r\n    <path clip-path=\"url(#p842fc43b2b)\" d=\"M 294.924432 294.3225 \r\nL 320.288068 294.3225 \r\nL 320.288068 171.301284 \r\nL 294.924432 171.301284 \r\nz\r\n\" style=\"fill:#87ceeb;opacity:0.8;stroke:#ffffff;stroke-linejoin:miter;\"/>\r\n   </g>\r\n   <g id=\"patch_40\">\r\n    <path clip-path=\"url(#p842fc43b2b)\" d=\"M 320.288068 294.3225 \r\nL 345.651705 294.3225 \r\nL 345.651705 232.811892 \r\nL 320.288068 232.811892 \r\nz\r\n\" style=\"fill:#87ceeb;opacity:0.8;stroke:#ffffff;stroke-linejoin:miter;\"/>\r\n   </g>\r\n   <g id=\"patch_41\">\r\n    <path clip-path=\"url(#p842fc43b2b)\" d=\"M 345.651705 294.3225 \r\nL 371.015341 294.3225 \r\nL 371.015341 148.234806 \r\nL 345.651705 148.234806 \r\nz\r\n\" style=\"fill:#87ceeb;opacity:0.8;stroke:#ffffff;stroke-linejoin:miter;\"/>\r\n   </g>\r\n   <g id=\"patch_42\">\r\n    <path clip-path=\"url(#p842fc43b2b)\" d=\"M 371.015341 294.3225 \r\nL 396.378977 294.3225 \r\nL 396.378977 194.367762 \r\nL 371.015341 194.367762 \r\nz\r\n\" style=\"fill:#87ceeb;opacity:0.8;stroke:#ffffff;stroke-linejoin:miter;\"/>\r\n   </g>\r\n   <g id=\"patch_43\">\r\n    <path clip-path=\"url(#p842fc43b2b)\" d=\"M 396.378977 294.3225 \r\nL 421.742614 294.3225 \r\nL 421.742614 294.3225 \r\nL 396.378977 294.3225 \r\nz\r\n\" style=\"fill:#87ceeb;opacity:0.8;stroke:#ffffff;stroke-linejoin:miter;\"/>\r\n   </g>\r\n   <g id=\"patch_44\">\r\n    <path clip-path=\"url(#p842fc43b2b)\" d=\"M 421.742614 294.3225 \r\nL 447.10625 294.3225 \r\nL 447.10625 278.944848 \r\nL 421.742614 278.944848 \r\nz\r\n\" style=\"fill:#87ceeb;opacity:0.8;stroke:#ffffff;stroke-linejoin:miter;\"/>\r\n   </g>\r\n   <g id=\"patch_45\">\r\n    <path clip-path=\"url(#p842fc43b2b)\" d=\"M 447.10625 294.3225 \r\nL 472.469886 294.3225 \r\nL 472.469886 202.056588 \r\nL 447.10625 202.056588 \r\nz\r\n\" style=\"fill:#87ceeb;opacity:0.8;stroke:#ffffff;stroke-linejoin:miter;\"/>\r\n   </g>\r\n   <g id=\"patch_46\">\r\n    <path clip-path=\"url(#p842fc43b2b)\" d=\"M 472.469886 294.3225 \r\nL 497.833523 294.3225 \r\nL 497.833523 294.3225 \r\nL 472.469886 294.3225 \r\nz\r\n\" style=\"fill:#87ceeb;opacity:0.8;stroke:#ffffff;stroke-linejoin:miter;\"/>\r\n   </g>\r\n   <g id=\"patch_47\">\r\n    <path clip-path=\"url(#p842fc43b2b)\" d=\"M 497.833523 294.3225 \r\nL 523.197159 294.3225 \r\nL 523.197159 286.633674 \r\nL 497.833523 286.633674 \r\nz\r\n\" style=\"fill:#87ceeb;opacity:0.8;stroke:#ffffff;stroke-linejoin:miter;\"/>\r\n   </g>\r\n   <g id=\"patch_48\">\r\n    <path clip-path=\"url(#p842fc43b2b)\" d=\"M 523.197159 294.3225 \r\nL 548.560795 294.3225 \r\nL 548.560795 255.87837 \r\nL 523.197159 255.87837 \r\nz\r\n\" style=\"fill:#87ceeb;opacity:0.8;stroke:#ffffff;stroke-linejoin:miter;\"/>\r\n   </g>\r\n   <g id=\"patch_49\">\r\n    <path clip-path=\"url(#p842fc43b2b)\" d=\"M 548.560795 294.3225 \r\nL 573.924432 294.3225 \r\nL 573.924432 163.612458 \r\nL 548.560795 163.612458 \r\nz\r\n\" style=\"fill:#87ceeb;opacity:0.8;stroke:#ffffff;stroke-linejoin:miter;\"/>\r\n   </g>\r\n   <g id=\"patch_50\">\r\n    <path clip-path=\"url(#p842fc43b2b)\" d=\"M 573.924432 294.3225 \r\nL 599.288068 294.3225 \r\nL 599.288068 232.811892 \r\nL 573.924432 232.811892 \r\nz\r\n\" style=\"fill:#87ceeb;opacity:0.8;stroke:#ffffff;stroke-linejoin:miter;\"/>\r\n   </g>\r\n   <g id=\"patch_51\">\r\n    <path clip-path=\"url(#p842fc43b2b)\" d=\"M 599.288068 294.3225 \r\nL 624.651705 294.3225 \r\nL 624.651705 132.857153 \r\nL 599.288068 132.857153 \r\nz\r\n\" style=\"fill:#87ceeb;opacity:0.8;stroke:#ffffff;stroke-linejoin:miter;\"/>\r\n   </g>\r\n   <g id=\"patch_52\">\r\n    <path clip-path=\"url(#p842fc43b2b)\" d=\"M 624.651705 294.3225 \r\nL 650.015341 294.3225 \r\nL 650.015341 217.43424 \r\nL 624.651705 217.43424 \r\nz\r\n\" style=\"fill:#87ceeb;opacity:0.8;stroke:#ffffff;stroke-linejoin:miter;\"/>\r\n   </g>\r\n   <g id=\"patch_53\">\r\n    <path clip-path=\"url(#p842fc43b2b)\" d=\"M 650.015341 294.3225 \r\nL 675.378977 294.3225 \r\nL 675.378977 255.87837 \r\nL 650.015341 255.87837 \r\nz\r\n\" style=\"fill:#87ceeb;opacity:0.8;stroke:#ffffff;stroke-linejoin:miter;\"/>\r\n   </g>\r\n   <g id=\"patch_54\">\r\n    <path clip-path=\"url(#p842fc43b2b)\" d=\"M 675.378977 294.3225 \r\nL 700.742614 294.3225 \r\nL 700.742614 271.256022 \r\nL 675.378977 271.256022 \r\nz\r\n\" style=\"fill:#87ceeb;opacity:0.8;stroke:#ffffff;stroke-linejoin:miter;\"/>\r\n   </g>\r\n   <g id=\"patch_55\">\r\n    <path clip-path=\"url(#p842fc43b2b)\" d=\"M 700.742614 294.3225 \r\nL 726.10625 294.3225 \r\nL 726.10625 132.857153 \r\nL 700.742614 132.857153 \r\nz\r\n\" style=\"fill:#87ceeb;opacity:0.8;stroke:#ffffff;stroke-linejoin:miter;\"/>\r\n   </g>\r\n   <g id=\"patch_56\">\r\n    <path clip-path=\"url(#p842fc43b2b)\" d=\"M 726.10625 294.3225 \r\nL 751.469886 294.3225 \r\nL 751.469886 255.87837 \r\nL 726.10625 255.87837 \r\nz\r\n\" style=\"fill:#87ceeb;opacity:0.8;stroke:#ffffff;stroke-linejoin:miter;\"/>\r\n   </g>\r\n   <g id=\"patch_57\">\r\n    <path clip-path=\"url(#p842fc43b2b)\" d=\"M 751.469886 294.3225 \r\nL 776.833523 294.3225 \r\nL 776.833523 271.256022 \r\nL 751.469886 271.256022 \r\nz\r\n\" style=\"fill:#87ceeb;opacity:0.8;stroke:#ffffff;stroke-linejoin:miter;\"/>\r\n   </g>\r\n   <g id=\"patch_58\">\r\n    <path clip-path=\"url(#p842fc43b2b)\" d=\"M 776.833523 294.3225 \r\nL 802.197159 294.3225 \r\nL 802.197159 278.944848 \r\nL 776.833523 278.944848 \r\nz\r\n\" style=\"fill:#87ceeb;opacity:0.8;stroke:#ffffff;stroke-linejoin:miter;\"/>\r\n   </g>\r\n   <g id=\"matplotlib.axis_1\">\r\n    <g id=\"xtick_1\">\r\n     <g id=\"line2d_1\">\r\n      <defs>\r\n       <path d=\"M 0 0 \r\nL 0 3.5 \r\n\" id=\"m01f7a47914\" style=\"stroke:#000000;stroke-width:0.8;\"/>\r\n      </defs>\r\n      <g>\r\n       <use style=\"stroke:#000000;stroke-width:0.8;\" x=\"81.869886\" xlink:href=\"#m01f7a47914\" y=\"294.3225\"/>\r\n      </g>\r\n     </g>\r\n     <g id=\"text_1\">\r\n      <!-- 0 -->\r\n      <defs>\r\n       <path d=\"M 31.78125 66.40625 \r\nQ 24.171875 66.40625 20.328125 58.90625 \r\nQ 16.5 51.421875 16.5 36.375 \r\nQ 16.5 21.390625 20.328125 13.890625 \r\nQ 24.171875 6.390625 31.78125 6.390625 \r\nQ 39.453125 6.390625 43.28125 13.890625 \r\nQ 47.125 21.390625 47.125 36.375 \r\nQ 47.125 51.421875 43.28125 58.90625 \r\nQ 39.453125 66.40625 31.78125 66.40625 \r\nz\r\nM 31.78125 74.21875 \r\nQ 44.046875 74.21875 50.515625 64.515625 \r\nQ 56.984375 54.828125 56.984375 36.375 \r\nQ 56.984375 17.96875 50.515625 8.265625 \r\nQ 44.046875 -1.421875 31.78125 -1.421875 \r\nQ 19.53125 -1.421875 13.0625 8.265625 \r\nQ 6.59375 17.96875 6.59375 36.375 \r\nQ 6.59375 54.828125 13.0625 64.515625 \r\nQ 19.53125 74.21875 31.78125 74.21875 \r\nz\r\n\" id=\"DejaVuSans-48\"/>\r\n      </defs>\r\n      <g transform=\"translate(78.688636 308.920937)scale(0.1 -0.1)\">\r\n       <use xlink:href=\"#DejaVuSans-48\"/>\r\n      </g>\r\n     </g>\r\n    </g>\r\n    <g id=\"xtick_2\">\r\n     <g id=\"line2d_2\">\r\n      <g>\r\n       <use style=\"stroke:#000000;stroke-width:0.8;\" x=\"208.688068\" xlink:href=\"#m01f7a47914\" y=\"294.3225\"/>\r\n      </g>\r\n     </g>\r\n     <g id=\"text_2\">\r\n      <!-- 50 -->\r\n      <defs>\r\n       <path d=\"M 10.796875 72.90625 \r\nL 49.515625 72.90625 \r\nL 49.515625 64.59375 \r\nL 19.828125 64.59375 \r\nL 19.828125 46.734375 \r\nQ 21.96875 47.46875 24.109375 47.828125 \r\nQ 26.265625 48.1875 28.421875 48.1875 \r\nQ 40.625 48.1875 47.75 41.5 \r\nQ 54.890625 34.8125 54.890625 23.390625 \r\nQ 54.890625 11.625 47.5625 5.09375 \r\nQ 40.234375 -1.421875 26.90625 -1.421875 \r\nQ 22.3125 -1.421875 17.546875 -0.640625 \r\nQ 12.796875 0.140625 7.71875 1.703125 \r\nL 7.71875 11.625 \r\nQ 12.109375 9.234375 16.796875 8.0625 \r\nQ 21.484375 6.890625 26.703125 6.890625 \r\nQ 35.15625 6.890625 40.078125 11.328125 \r\nQ 45.015625 15.765625 45.015625 23.390625 \r\nQ 45.015625 31 40.078125 35.4375 \r\nQ 35.15625 39.890625 26.703125 39.890625 \r\nQ 22.75 39.890625 18.8125 39.015625 \r\nQ 14.890625 38.140625 10.796875 36.28125 \r\nz\r\n\" id=\"DejaVuSans-53\"/>\r\n      </defs>\r\n      <g transform=\"translate(202.325568 308.920937)scale(0.1 -0.1)\">\r\n       <use xlink:href=\"#DejaVuSans-53\"/>\r\n       <use x=\"63.623047\" xlink:href=\"#DejaVuSans-48\"/>\r\n      </g>\r\n     </g>\r\n    </g>\r\n    <g id=\"xtick_3\">\r\n     <g id=\"line2d_3\">\r\n      <g>\r\n       <use style=\"stroke:#000000;stroke-width:0.8;\" x=\"335.50625\" xlink:href=\"#m01f7a47914\" y=\"294.3225\"/>\r\n      </g>\r\n     </g>\r\n     <g id=\"text_3\">\r\n      <!-- 100 -->\r\n      <defs>\r\n       <path d=\"M 12.40625 8.296875 \r\nL 28.515625 8.296875 \r\nL 28.515625 63.921875 \r\nL 10.984375 60.40625 \r\nL 10.984375 69.390625 \r\nL 28.421875 72.90625 \r\nL 38.28125 72.90625 \r\nL 38.28125 8.296875 \r\nL 54.390625 8.296875 \r\nL 54.390625 0 \r\nL 12.40625 0 \r\nz\r\n\" id=\"DejaVuSans-49\"/>\r\n      </defs>\r\n      <g transform=\"translate(325.9625 308.920937)scale(0.1 -0.1)\">\r\n       <use xlink:href=\"#DejaVuSans-49\"/>\r\n       <use x=\"63.623047\" xlink:href=\"#DejaVuSans-48\"/>\r\n       <use x=\"127.246094\" xlink:href=\"#DejaVuSans-48\"/>\r\n      </g>\r\n     </g>\r\n    </g>\r\n    <g id=\"xtick_4\">\r\n     <g id=\"line2d_4\">\r\n      <g>\r\n       <use style=\"stroke:#000000;stroke-width:0.8;\" x=\"462.324432\" xlink:href=\"#m01f7a47914\" y=\"294.3225\"/>\r\n      </g>\r\n     </g>\r\n     <g id=\"text_4\">\r\n      <!-- 150 -->\r\n      <g transform=\"translate(452.780682 308.920937)scale(0.1 -0.1)\">\r\n       <use xlink:href=\"#DejaVuSans-49\"/>\r\n       <use x=\"63.623047\" xlink:href=\"#DejaVuSans-53\"/>\r\n       <use x=\"127.246094\" xlink:href=\"#DejaVuSans-48\"/>\r\n      </g>\r\n     </g>\r\n    </g>\r\n    <g id=\"xtick_5\">\r\n     <g id=\"line2d_5\">\r\n      <g>\r\n       <use style=\"stroke:#000000;stroke-width:0.8;\" x=\"589.142614\" xlink:href=\"#m01f7a47914\" y=\"294.3225\"/>\r\n      </g>\r\n     </g>\r\n     <g id=\"text_5\">\r\n      <!-- 200 -->\r\n      <defs>\r\n       <path d=\"M 19.1875 8.296875 \r\nL 53.609375 8.296875 \r\nL 53.609375 0 \r\nL 7.328125 0 \r\nL 7.328125 8.296875 \r\nQ 12.9375 14.109375 22.625 23.890625 \r\nQ 32.328125 33.6875 34.8125 36.53125 \r\nQ 39.546875 41.84375 41.421875 45.53125 \r\nQ 43.3125 49.21875 43.3125 52.78125 \r\nQ 43.3125 58.59375 39.234375 62.25 \r\nQ 35.15625 65.921875 28.609375 65.921875 \r\nQ 23.96875 65.921875 18.8125 64.3125 \r\nQ 13.671875 62.703125 7.8125 59.421875 \r\nL 7.8125 69.390625 \r\nQ 13.765625 71.78125 18.9375 73 \r\nQ 24.125 74.21875 28.421875 74.21875 \r\nQ 39.75 74.21875 46.484375 68.546875 \r\nQ 53.21875 62.890625 53.21875 53.421875 \r\nQ 53.21875 48.921875 51.53125 44.890625 \r\nQ 49.859375 40.875 45.40625 35.40625 \r\nQ 44.1875 33.984375 37.640625 27.21875 \r\nQ 31.109375 20.453125 19.1875 8.296875 \r\nz\r\n\" id=\"DejaVuSans-50\"/>\r\n      </defs>\r\n      <g transform=\"translate(579.598864 308.920937)scale(0.1 -0.1)\">\r\n       <use xlink:href=\"#DejaVuSans-50\"/>\r\n       <use x=\"63.623047\" xlink:href=\"#DejaVuSans-48\"/>\r\n       <use x=\"127.246094\" xlink:href=\"#DejaVuSans-48\"/>\r\n      </g>\r\n     </g>\r\n    </g>\r\n    <g id=\"xtick_6\">\r\n     <g id=\"line2d_6\">\r\n      <g>\r\n       <use style=\"stroke:#000000;stroke-width:0.8;\" x=\"715.960795\" xlink:href=\"#m01f7a47914\" y=\"294.3225\"/>\r\n      </g>\r\n     </g>\r\n     <g id=\"text_6\">\r\n      <!-- 250 -->\r\n      <g transform=\"translate(706.417045 308.920937)scale(0.1 -0.1)\">\r\n       <use xlink:href=\"#DejaVuSans-50\"/>\r\n       <use x=\"63.623047\" xlink:href=\"#DejaVuSans-53\"/>\r\n       <use x=\"127.246094\" xlink:href=\"#DejaVuSans-48\"/>\r\n      </g>\r\n     </g>\r\n    </g>\r\n    <g id=\"text_7\">\r\n     <!-- tempo[dias] -->\r\n     <defs>\r\n      <path d=\"M 18.3125 70.21875 \r\nL 18.3125 54.6875 \r\nL 36.8125 54.6875 \r\nL 36.8125 47.703125 \r\nL 18.3125 47.703125 \r\nL 18.3125 18.015625 \r\nQ 18.3125 11.328125 20.140625 9.421875 \r\nQ 21.96875 7.515625 27.59375 7.515625 \r\nL 36.8125 7.515625 \r\nL 36.8125 0 \r\nL 27.59375 0 \r\nQ 17.1875 0 13.234375 3.875 \r\nQ 9.28125 7.765625 9.28125 18.015625 \r\nL 9.28125 47.703125 \r\nL 2.6875 47.703125 \r\nL 2.6875 54.6875 \r\nL 9.28125 54.6875 \r\nL 9.28125 70.21875 \r\nz\r\n\" id=\"DejaVuSans-116\"/>\r\n      <path d=\"M 56.203125 29.59375 \r\nL 56.203125 25.203125 \r\nL 14.890625 25.203125 \r\nQ 15.484375 15.921875 20.484375 11.0625 \r\nQ 25.484375 6.203125 34.421875 6.203125 \r\nQ 39.59375 6.203125 44.453125 7.46875 \r\nQ 49.3125 8.734375 54.109375 11.28125 \r\nL 54.109375 2.78125 \r\nQ 49.265625 0.734375 44.1875 -0.34375 \r\nQ 39.109375 -1.421875 33.890625 -1.421875 \r\nQ 20.796875 -1.421875 13.15625 6.1875 \r\nQ 5.515625 13.8125 5.515625 26.8125 \r\nQ 5.515625 40.234375 12.765625 48.109375 \r\nQ 20.015625 56 32.328125 56 \r\nQ 43.359375 56 49.78125 48.890625 \r\nQ 56.203125 41.796875 56.203125 29.59375 \r\nz\r\nM 47.21875 32.234375 \r\nQ 47.125 39.59375 43.09375 43.984375 \r\nQ 39.0625 48.390625 32.421875 48.390625 \r\nQ 24.90625 48.390625 20.390625 44.140625 \r\nQ 15.875 39.890625 15.1875 32.171875 \r\nz\r\n\" id=\"DejaVuSans-101\"/>\r\n      <path d=\"M 52 44.1875 \r\nQ 55.375 50.25 60.0625 53.125 \r\nQ 64.75 56 71.09375 56 \r\nQ 79.640625 56 84.28125 50.015625 \r\nQ 88.921875 44.046875 88.921875 33.015625 \r\nL 88.921875 0 \r\nL 79.890625 0 \r\nL 79.890625 32.71875 \r\nQ 79.890625 40.578125 77.09375 44.375 \r\nQ 74.3125 48.1875 68.609375 48.1875 \r\nQ 61.625 48.1875 57.5625 43.546875 \r\nQ 53.515625 38.921875 53.515625 30.90625 \r\nL 53.515625 0 \r\nL 44.484375 0 \r\nL 44.484375 32.71875 \r\nQ 44.484375 40.625 41.703125 44.40625 \r\nQ 38.921875 48.1875 33.109375 48.1875 \r\nQ 26.21875 48.1875 22.15625 43.53125 \r\nQ 18.109375 38.875 18.109375 30.90625 \r\nL 18.109375 0 \r\nL 9.078125 0 \r\nL 9.078125 54.6875 \r\nL 18.109375 54.6875 \r\nL 18.109375 46.1875 \r\nQ 21.1875 51.21875 25.484375 53.609375 \r\nQ 29.78125 56 35.6875 56 \r\nQ 41.65625 56 45.828125 52.96875 \r\nQ 50 49.953125 52 44.1875 \r\nz\r\n\" id=\"DejaVuSans-109\"/>\r\n      <path d=\"M 18.109375 8.203125 \r\nL 18.109375 -20.796875 \r\nL 9.078125 -20.796875 \r\nL 9.078125 54.6875 \r\nL 18.109375 54.6875 \r\nL 18.109375 46.390625 \r\nQ 20.953125 51.265625 25.265625 53.625 \r\nQ 29.59375 56 35.59375 56 \r\nQ 45.5625 56 51.78125 48.09375 \r\nQ 58.015625 40.1875 58.015625 27.296875 \r\nQ 58.015625 14.40625 51.78125 6.484375 \r\nQ 45.5625 -1.421875 35.59375 -1.421875 \r\nQ 29.59375 -1.421875 25.265625 0.953125 \r\nQ 20.953125 3.328125 18.109375 8.203125 \r\nz\r\nM 48.6875 27.296875 \r\nQ 48.6875 37.203125 44.609375 42.84375 \r\nQ 40.53125 48.484375 33.40625 48.484375 \r\nQ 26.265625 48.484375 22.1875 42.84375 \r\nQ 18.109375 37.203125 18.109375 27.296875 \r\nQ 18.109375 17.390625 22.1875 11.75 \r\nQ 26.265625 6.109375 33.40625 6.109375 \r\nQ 40.53125 6.109375 44.609375 11.75 \r\nQ 48.6875 17.390625 48.6875 27.296875 \r\nz\r\n\" id=\"DejaVuSans-112\"/>\r\n      <path d=\"M 30.609375 48.390625 \r\nQ 23.390625 48.390625 19.1875 42.75 \r\nQ 14.984375 37.109375 14.984375 27.296875 \r\nQ 14.984375 17.484375 19.15625 11.84375 \r\nQ 23.34375 6.203125 30.609375 6.203125 \r\nQ 37.796875 6.203125 41.984375 11.859375 \r\nQ 46.1875 17.53125 46.1875 27.296875 \r\nQ 46.1875 37.015625 41.984375 42.703125 \r\nQ 37.796875 48.390625 30.609375 48.390625 \r\nz\r\nM 30.609375 56 \r\nQ 42.328125 56 49.015625 48.375 \r\nQ 55.71875 40.765625 55.71875 27.296875 \r\nQ 55.71875 13.875 49.015625 6.21875 \r\nQ 42.328125 -1.421875 30.609375 -1.421875 \r\nQ 18.84375 -1.421875 12.171875 6.21875 \r\nQ 5.515625 13.875 5.515625 27.296875 \r\nQ 5.515625 40.765625 12.171875 48.375 \r\nQ 18.84375 56 30.609375 56 \r\nz\r\n\" id=\"DejaVuSans-111\"/>\r\n      <path d=\"M 8.59375 75.984375 \r\nL 29.296875 75.984375 \r\nL 29.296875 69 \r\nL 17.578125 69 \r\nL 17.578125 -6.203125 \r\nL 29.296875 -6.203125 \r\nL 29.296875 -13.1875 \r\nL 8.59375 -13.1875 \r\nz\r\n\" id=\"DejaVuSans-91\"/>\r\n      <path d=\"M 45.40625 46.390625 \r\nL 45.40625 75.984375 \r\nL 54.390625 75.984375 \r\nL 54.390625 0 \r\nL 45.40625 0 \r\nL 45.40625 8.203125 \r\nQ 42.578125 3.328125 38.25 0.953125 \r\nQ 33.9375 -1.421875 27.875 -1.421875 \r\nQ 17.96875 -1.421875 11.734375 6.484375 \r\nQ 5.515625 14.40625 5.515625 27.296875 \r\nQ 5.515625 40.1875 11.734375 48.09375 \r\nQ 17.96875 56 27.875 56 \r\nQ 33.9375 56 38.25 53.625 \r\nQ 42.578125 51.265625 45.40625 46.390625 \r\nz\r\nM 14.796875 27.296875 \r\nQ 14.796875 17.390625 18.875 11.75 \r\nQ 22.953125 6.109375 30.078125 6.109375 \r\nQ 37.203125 6.109375 41.296875 11.75 \r\nQ 45.40625 17.390625 45.40625 27.296875 \r\nQ 45.40625 37.203125 41.296875 42.84375 \r\nQ 37.203125 48.484375 30.078125 48.484375 \r\nQ 22.953125 48.484375 18.875 42.84375 \r\nQ 14.796875 37.203125 14.796875 27.296875 \r\nz\r\n\" id=\"DejaVuSans-100\"/>\r\n      <path d=\"M 9.421875 54.6875 \r\nL 18.40625 54.6875 \r\nL 18.40625 0 \r\nL 9.421875 0 \r\nz\r\nM 9.421875 75.984375 \r\nL 18.40625 75.984375 \r\nL 18.40625 64.59375 \r\nL 9.421875 64.59375 \r\nz\r\n\" id=\"DejaVuSans-105\"/>\r\n      <path d=\"M 34.28125 27.484375 \r\nQ 23.390625 27.484375 19.1875 25 \r\nQ 14.984375 22.515625 14.984375 16.5 \r\nQ 14.984375 11.71875 18.140625 8.90625 \r\nQ 21.296875 6.109375 26.703125 6.109375 \r\nQ 34.1875 6.109375 38.703125 11.40625 \r\nQ 43.21875 16.703125 43.21875 25.484375 \r\nL 43.21875 27.484375 \r\nz\r\nM 52.203125 31.203125 \r\nL 52.203125 0 \r\nL 43.21875 0 \r\nL 43.21875 8.296875 \r\nQ 40.140625 3.328125 35.546875 0.953125 \r\nQ 30.953125 -1.421875 24.3125 -1.421875 \r\nQ 15.921875 -1.421875 10.953125 3.296875 \r\nQ 6 8.015625 6 15.921875 \r\nQ 6 25.140625 12.171875 29.828125 \r\nQ 18.359375 34.515625 30.609375 34.515625 \r\nL 43.21875 34.515625 \r\nL 43.21875 35.40625 \r\nQ 43.21875 41.609375 39.140625 45 \r\nQ 35.0625 48.390625 27.6875 48.390625 \r\nQ 23 48.390625 18.546875 47.265625 \r\nQ 14.109375 46.140625 10.015625 43.890625 \r\nL 10.015625 52.203125 \r\nQ 14.9375 54.109375 19.578125 55.046875 \r\nQ 24.21875 56 28.609375 56 \r\nQ 40.484375 56 46.34375 49.84375 \r\nQ 52.203125 43.703125 52.203125 31.203125 \r\nz\r\n\" id=\"DejaVuSans-97\"/>\r\n      <path d=\"M 44.28125 53.078125 \r\nL 44.28125 44.578125 \r\nQ 40.484375 46.53125 36.375 47.5 \r\nQ 32.28125 48.484375 27.875 48.484375 \r\nQ 21.1875 48.484375 17.84375 46.4375 \r\nQ 14.5 44.390625 14.5 40.28125 \r\nQ 14.5 37.15625 16.890625 35.375 \r\nQ 19.28125 33.59375 26.515625 31.984375 \r\nL 29.59375 31.296875 \r\nQ 39.15625 29.25 43.1875 25.515625 \r\nQ 47.21875 21.78125 47.21875 15.09375 \r\nQ 47.21875 7.46875 41.1875 3.015625 \r\nQ 35.15625 -1.421875 24.609375 -1.421875 \r\nQ 20.21875 -1.421875 15.453125 -0.5625 \r\nQ 10.6875 0.296875 5.421875 2 \r\nL 5.421875 11.28125 \r\nQ 10.40625 8.6875 15.234375 7.390625 \r\nQ 20.0625 6.109375 24.8125 6.109375 \r\nQ 31.15625 6.109375 34.5625 8.28125 \r\nQ 37.984375 10.453125 37.984375 14.40625 \r\nQ 37.984375 18.0625 35.515625 20.015625 \r\nQ 33.0625 21.96875 24.703125 23.78125 \r\nL 21.578125 24.515625 \r\nQ 13.234375 26.265625 9.515625 29.90625 \r\nQ 5.8125 33.546875 5.8125 39.890625 \r\nQ 5.8125 47.609375 11.28125 51.796875 \r\nQ 16.75 56 26.8125 56 \r\nQ 31.78125 56 36.171875 55.265625 \r\nQ 40.578125 54.546875 44.28125 53.078125 \r\nz\r\n\" id=\"DejaVuSans-115\"/>\r\n      <path d=\"M 30.421875 75.984375 \r\nL 30.421875 -13.1875 \r\nL 9.71875 -13.1875 \r\nL 9.71875 -6.203125 \r\nL 21.390625 -6.203125 \r\nL 21.390625 69 \r\nL 9.71875 69 \r\nL 9.71875 75.984375 \r\nz\r\n\" id=\"DejaVuSans-93\"/>\r\n     </defs>\r\n     <g transform=\"translate(416.832031 322.599062)scale(0.1 -0.1)\">\r\n      <use xlink:href=\"#DejaVuSans-116\"/>\r\n      <use x=\"39.208984\" xlink:href=\"#DejaVuSans-101\"/>\r\n      <use x=\"100.732422\" xlink:href=\"#DejaVuSans-109\"/>\r\n      <use x=\"198.144531\" xlink:href=\"#DejaVuSans-112\"/>\r\n      <use x=\"261.621094\" xlink:href=\"#DejaVuSans-111\"/>\r\n      <use x=\"322.802734\" xlink:href=\"#DejaVuSans-91\"/>\r\n      <use x=\"361.816406\" xlink:href=\"#DejaVuSans-100\"/>\r\n      <use x=\"425.292969\" xlink:href=\"#DejaVuSans-105\"/>\r\n      <use x=\"453.076172\" xlink:href=\"#DejaVuSans-97\"/>\r\n      <use x=\"514.355469\" xlink:href=\"#DejaVuSans-115\"/>\r\n      <use x=\"566.455078\" xlink:href=\"#DejaVuSans-93\"/>\r\n     </g>\r\n    </g>\r\n   </g>\r\n   <g id=\"matplotlib.axis_2\">\r\n    <g id=\"ytick_1\">\r\n     <g id=\"line2d_7\">\r\n      <defs>\r\n       <path d=\"M 0 0 \r\nL -3.5 0 \r\n\" id=\"m30a96d7f6c\" style=\"stroke:#000000;stroke-width:0.8;\"/>\r\n      </defs>\r\n      <g>\r\n       <use style=\"stroke:#000000;stroke-width:0.8;\" x=\"56.50625\" xlink:href=\"#m30a96d7f6c\" y=\"294.3225\"/>\r\n      </g>\r\n     </g>\r\n     <g id=\"text_8\">\r\n      <!-- 0.000 -->\r\n      <defs>\r\n       <path d=\"M 10.6875 12.40625 \r\nL 21 12.40625 \r\nL 21 0 \r\nL 10.6875 0 \r\nz\r\n\" id=\"DejaVuSans-46\"/>\r\n      </defs>\r\n      <g transform=\"translate(20.878125 298.121719)scale(0.1 -0.1)\">\r\n       <use xlink:href=\"#DejaVuSans-48\"/>\r\n       <use x=\"63.623047\" xlink:href=\"#DejaVuSans-46\"/>\r\n       <use x=\"95.410156\" xlink:href=\"#DejaVuSans-48\"/>\r\n       <use x=\"159.033203\" xlink:href=\"#DejaVuSans-48\"/>\r\n       <use x=\"222.65625\" xlink:href=\"#DejaVuSans-48\"/>\r\n      </g>\r\n     </g>\r\n    </g>\r\n    <g id=\"ytick_2\">\r\n     <g id=\"line2d_8\">\r\n      <g>\r\n       <use style=\"stroke:#000000;stroke-width:0.8;\" x=\"56.50625\" xlink:href=\"#m30a96d7f6c\" y=\"263.259643\"/>\r\n      </g>\r\n     </g>\r\n     <g id=\"text_9\">\r\n      <!-- 0.002 -->\r\n      <g transform=\"translate(20.878125 267.058862)scale(0.1 -0.1)\">\r\n       <use xlink:href=\"#DejaVuSans-48\"/>\r\n       <use x=\"63.623047\" xlink:href=\"#DejaVuSans-46\"/>\r\n       <use x=\"95.410156\" xlink:href=\"#DejaVuSans-48\"/>\r\n       <use x=\"159.033203\" xlink:href=\"#DejaVuSans-48\"/>\r\n       <use x=\"222.65625\" xlink:href=\"#DejaVuSans-50\"/>\r\n      </g>\r\n     </g>\r\n    </g>\r\n    <g id=\"ytick_3\">\r\n     <g id=\"line2d_9\">\r\n      <g>\r\n       <use style=\"stroke:#000000;stroke-width:0.8;\" x=\"56.50625\" xlink:href=\"#m30a96d7f6c\" y=\"232.196786\"/>\r\n      </g>\r\n     </g>\r\n     <g id=\"text_10\">\r\n      <!-- 0.004 -->\r\n      <defs>\r\n       <path d=\"M 37.796875 64.3125 \r\nL 12.890625 25.390625 \r\nL 37.796875 25.390625 \r\nz\r\nM 35.203125 72.90625 \r\nL 47.609375 72.90625 \r\nL 47.609375 25.390625 \r\nL 58.015625 25.390625 \r\nL 58.015625 17.1875 \r\nL 47.609375 17.1875 \r\nL 47.609375 0 \r\nL 37.796875 0 \r\nL 37.796875 17.1875 \r\nL 4.890625 17.1875 \r\nL 4.890625 26.703125 \r\nz\r\n\" id=\"DejaVuSans-52\"/>\r\n      </defs>\r\n      <g transform=\"translate(20.878125 235.996004)scale(0.1 -0.1)\">\r\n       <use xlink:href=\"#DejaVuSans-48\"/>\r\n       <use x=\"63.623047\" xlink:href=\"#DejaVuSans-46\"/>\r\n       <use x=\"95.410156\" xlink:href=\"#DejaVuSans-48\"/>\r\n       <use x=\"159.033203\" xlink:href=\"#DejaVuSans-48\"/>\r\n       <use x=\"222.65625\" xlink:href=\"#DejaVuSans-52\"/>\r\n      </g>\r\n     </g>\r\n    </g>\r\n    <g id=\"ytick_4\">\r\n     <g id=\"line2d_10\">\r\n      <g>\r\n       <use style=\"stroke:#000000;stroke-width:0.8;\" x=\"56.50625\" xlink:href=\"#m30a96d7f6c\" y=\"201.133929\"/>\r\n      </g>\r\n     </g>\r\n     <g id=\"text_11\">\r\n      <!-- 0.006 -->\r\n      <defs>\r\n       <path d=\"M 33.015625 40.375 \r\nQ 26.375 40.375 22.484375 35.828125 \r\nQ 18.609375 31.296875 18.609375 23.390625 \r\nQ 18.609375 15.53125 22.484375 10.953125 \r\nQ 26.375 6.390625 33.015625 6.390625 \r\nQ 39.65625 6.390625 43.53125 10.953125 \r\nQ 47.40625 15.53125 47.40625 23.390625 \r\nQ 47.40625 31.296875 43.53125 35.828125 \r\nQ 39.65625 40.375 33.015625 40.375 \r\nz\r\nM 52.59375 71.296875 \r\nL 52.59375 62.3125 \r\nQ 48.875 64.0625 45.09375 64.984375 \r\nQ 41.3125 65.921875 37.59375 65.921875 \r\nQ 27.828125 65.921875 22.671875 59.328125 \r\nQ 17.53125 52.734375 16.796875 39.40625 \r\nQ 19.671875 43.65625 24.015625 45.921875 \r\nQ 28.375 48.1875 33.59375 48.1875 \r\nQ 44.578125 48.1875 50.953125 41.515625 \r\nQ 57.328125 34.859375 57.328125 23.390625 \r\nQ 57.328125 12.15625 50.6875 5.359375 \r\nQ 44.046875 -1.421875 33.015625 -1.421875 \r\nQ 20.359375 -1.421875 13.671875 8.265625 \r\nQ 6.984375 17.96875 6.984375 36.375 \r\nQ 6.984375 53.65625 15.1875 63.9375 \r\nQ 23.390625 74.21875 37.203125 74.21875 \r\nQ 40.921875 74.21875 44.703125 73.484375 \r\nQ 48.484375 72.75 52.59375 71.296875 \r\nz\r\n\" id=\"DejaVuSans-54\"/>\r\n      </defs>\r\n      <g transform=\"translate(20.878125 204.933147)scale(0.1 -0.1)\">\r\n       <use xlink:href=\"#DejaVuSans-48\"/>\r\n       <use x=\"63.623047\" xlink:href=\"#DejaVuSans-46\"/>\r\n       <use x=\"95.410156\" xlink:href=\"#DejaVuSans-48\"/>\r\n       <use x=\"159.033203\" xlink:href=\"#DejaVuSans-48\"/>\r\n       <use x=\"222.65625\" xlink:href=\"#DejaVuSans-54\"/>\r\n      </g>\r\n     </g>\r\n    </g>\r\n    <g id=\"ytick_5\">\r\n     <g id=\"line2d_11\">\r\n      <g>\r\n       <use style=\"stroke:#000000;stroke-width:0.8;\" x=\"56.50625\" xlink:href=\"#m30a96d7f6c\" y=\"170.071071\"/>\r\n      </g>\r\n     </g>\r\n     <g id=\"text_12\">\r\n      <!-- 0.008 -->\r\n      <defs>\r\n       <path d=\"M 31.78125 34.625 \r\nQ 24.75 34.625 20.71875 30.859375 \r\nQ 16.703125 27.09375 16.703125 20.515625 \r\nQ 16.703125 13.921875 20.71875 10.15625 \r\nQ 24.75 6.390625 31.78125 6.390625 \r\nQ 38.8125 6.390625 42.859375 10.171875 \r\nQ 46.921875 13.96875 46.921875 20.515625 \r\nQ 46.921875 27.09375 42.890625 30.859375 \r\nQ 38.875 34.625 31.78125 34.625 \r\nz\r\nM 21.921875 38.8125 \r\nQ 15.578125 40.375 12.03125 44.71875 \r\nQ 8.5 49.078125 8.5 55.328125 \r\nQ 8.5 64.0625 14.71875 69.140625 \r\nQ 20.953125 74.21875 31.78125 74.21875 \r\nQ 42.671875 74.21875 48.875 69.140625 \r\nQ 55.078125 64.0625 55.078125 55.328125 \r\nQ 55.078125 49.078125 51.53125 44.71875 \r\nQ 48 40.375 41.703125 38.8125 \r\nQ 48.828125 37.15625 52.796875 32.3125 \r\nQ 56.78125 27.484375 56.78125 20.515625 \r\nQ 56.78125 9.90625 50.3125 4.234375 \r\nQ 43.84375 -1.421875 31.78125 -1.421875 \r\nQ 19.734375 -1.421875 13.25 4.234375 \r\nQ 6.78125 9.90625 6.78125 20.515625 \r\nQ 6.78125 27.484375 10.78125 32.3125 \r\nQ 14.796875 37.15625 21.921875 38.8125 \r\nz\r\nM 18.3125 54.390625 \r\nQ 18.3125 48.734375 21.84375 45.5625 \r\nQ 25.390625 42.390625 31.78125 42.390625 \r\nQ 38.140625 42.390625 41.71875 45.5625 \r\nQ 45.3125 48.734375 45.3125 54.390625 \r\nQ 45.3125 60.0625 41.71875 63.234375 \r\nQ 38.140625 66.40625 31.78125 66.40625 \r\nQ 25.390625 66.40625 21.84375 63.234375 \r\nQ 18.3125 60.0625 18.3125 54.390625 \r\nz\r\n\" id=\"DejaVuSans-56\"/>\r\n      </defs>\r\n      <g transform=\"translate(20.878125 173.87029)scale(0.1 -0.1)\">\r\n       <use xlink:href=\"#DejaVuSans-48\"/>\r\n       <use x=\"63.623047\" xlink:href=\"#DejaVuSans-46\"/>\r\n       <use x=\"95.410156\" xlink:href=\"#DejaVuSans-48\"/>\r\n       <use x=\"159.033203\" xlink:href=\"#DejaVuSans-48\"/>\r\n       <use x=\"222.65625\" xlink:href=\"#DejaVuSans-56\"/>\r\n      </g>\r\n     </g>\r\n    </g>\r\n    <g id=\"ytick_6\">\r\n     <g id=\"line2d_12\">\r\n      <g>\r\n       <use style=\"stroke:#000000;stroke-width:0.8;\" x=\"56.50625\" xlink:href=\"#m30a96d7f6c\" y=\"139.008214\"/>\r\n      </g>\r\n     </g>\r\n     <g id=\"text_13\">\r\n      <!-- 0.010 -->\r\n      <g transform=\"translate(20.878125 142.807433)scale(0.1 -0.1)\">\r\n       <use xlink:href=\"#DejaVuSans-48\"/>\r\n       <use x=\"63.623047\" xlink:href=\"#DejaVuSans-46\"/>\r\n       <use x=\"95.410156\" xlink:href=\"#DejaVuSans-48\"/>\r\n       <use x=\"159.033203\" xlink:href=\"#DejaVuSans-49\"/>\r\n       <use x=\"222.65625\" xlink:href=\"#DejaVuSans-48\"/>\r\n      </g>\r\n     </g>\r\n    </g>\r\n    <g id=\"ytick_7\">\r\n     <g id=\"line2d_13\">\r\n      <g>\r\n       <use style=\"stroke:#000000;stroke-width:0.8;\" x=\"56.50625\" xlink:href=\"#m30a96d7f6c\" y=\"107.945357\"/>\r\n      </g>\r\n     </g>\r\n     <g id=\"text_14\">\r\n      <!-- 0.012 -->\r\n      <g transform=\"translate(20.878125 111.744576)scale(0.1 -0.1)\">\r\n       <use xlink:href=\"#DejaVuSans-48\"/>\r\n       <use x=\"63.623047\" xlink:href=\"#DejaVuSans-46\"/>\r\n       <use x=\"95.410156\" xlink:href=\"#DejaVuSans-48\"/>\r\n       <use x=\"159.033203\" xlink:href=\"#DejaVuSans-49\"/>\r\n       <use x=\"222.65625\" xlink:href=\"#DejaVuSans-50\"/>\r\n      </g>\r\n     </g>\r\n    </g>\r\n    <g id=\"ytick_8\">\r\n     <g id=\"line2d_14\">\r\n      <g>\r\n       <use style=\"stroke:#000000;stroke-width:0.8;\" x=\"56.50625\" xlink:href=\"#m30a96d7f6c\" y=\"76.8825\"/>\r\n      </g>\r\n     </g>\r\n     <g id=\"text_15\">\r\n      <!-- 0.014 -->\r\n      <g transform=\"translate(20.878125 80.681719)scale(0.1 -0.1)\">\r\n       <use xlink:href=\"#DejaVuSans-48\"/>\r\n       <use x=\"63.623047\" xlink:href=\"#DejaVuSans-46\"/>\r\n       <use x=\"95.410156\" xlink:href=\"#DejaVuSans-48\"/>\r\n       <use x=\"159.033203\" xlink:href=\"#DejaVuSans-49\"/>\r\n       <use x=\"222.65625\" xlink:href=\"#DejaVuSans-52\"/>\r\n      </g>\r\n     </g>\r\n    </g>\r\n    <g id=\"ytick_9\">\r\n     <g id=\"line2d_15\">\r\n      <g>\r\n       <use style=\"stroke:#000000;stroke-width:0.8;\" x=\"56.50625\" xlink:href=\"#m30a96d7f6c\" y=\"45.819643\"/>\r\n      </g>\r\n     </g>\r\n     <g id=\"text_16\">\r\n      <!-- 0.016 -->\r\n      <g transform=\"translate(20.878125 49.618862)scale(0.1 -0.1)\">\r\n       <use xlink:href=\"#DejaVuSans-48\"/>\r\n       <use x=\"63.623047\" xlink:href=\"#DejaVuSans-46\"/>\r\n       <use x=\"95.410156\" xlink:href=\"#DejaVuSans-48\"/>\r\n       <use x=\"159.033203\" xlink:href=\"#DejaVuSans-49\"/>\r\n       <use x=\"222.65625\" xlink:href=\"#DejaVuSans-54\"/>\r\n      </g>\r\n     </g>\r\n    </g>\r\n    <g id=\"text_17\">\r\n     <!-- densidade -->\r\n     <defs>\r\n      <path d=\"M 54.890625 33.015625 \r\nL 54.890625 0 \r\nL 45.90625 0 \r\nL 45.90625 32.71875 \r\nQ 45.90625 40.484375 42.875 44.328125 \r\nQ 39.84375 48.1875 33.796875 48.1875 \r\nQ 26.515625 48.1875 22.3125 43.546875 \r\nQ 18.109375 38.921875 18.109375 30.90625 \r\nL 18.109375 0 \r\nL 9.078125 0 \r\nL 9.078125 54.6875 \r\nL 18.109375 54.6875 \r\nL 18.109375 46.1875 \r\nQ 21.34375 51.125 25.703125 53.5625 \r\nQ 30.078125 56 35.796875 56 \r\nQ 45.21875 56 50.046875 50.171875 \r\nQ 54.890625 44.34375 54.890625 33.015625 \r\nz\r\n\" id=\"DejaVuSans-110\"/>\r\n     </defs>\r\n     <g transform=\"translate(14.798438 184.324844)rotate(-90)scale(0.1 -0.1)\">\r\n      <use xlink:href=\"#DejaVuSans-100\"/>\r\n      <use x=\"63.476562\" xlink:href=\"#DejaVuSans-101\"/>\r\n      <use x=\"125\" xlink:href=\"#DejaVuSans-110\"/>\r\n      <use x=\"188.378906\" xlink:href=\"#DejaVuSans-115\"/>\r\n      <use x=\"240.478516\" xlink:href=\"#DejaVuSans-105\"/>\r\n      <use x=\"268.261719\" xlink:href=\"#DejaVuSans-100\"/>\r\n      <use x=\"331.738281\" xlink:href=\"#DejaVuSans-97\"/>\r\n      <use x=\"393.017578\" xlink:href=\"#DejaVuSans-100\"/>\r\n      <use x=\"456.494141\" xlink:href=\"#DejaVuSans-101\"/>\r\n     </g>\r\n    </g>\r\n   </g>\r\n   <g id=\"patch_59\">\r\n    <path d=\"M 56.50625 294.3225 \r\nL 56.50625 22.5225 \r\n\" style=\"fill:none;stroke:#000000;stroke-linecap:square;stroke-linejoin:miter;stroke-width:0.8;\"/>\r\n   </g>\r\n   <g id=\"patch_60\">\r\n    <path d=\"M 837.70625 294.3225 \r\nL 837.70625 22.5225 \r\n\" style=\"fill:none;stroke:#000000;stroke-linecap:square;stroke-linejoin:miter;stroke-width:0.8;\"/>\r\n   </g>\r\n   <g id=\"patch_61\">\r\n    <path d=\"M 56.50625 294.3225 \r\nL 837.70625 294.3225 \r\n\" style=\"fill:none;stroke:#000000;stroke-linecap:square;stroke-linejoin:miter;stroke-width:0.8;\"/>\r\n   </g>\r\n   <g id=\"patch_62\">\r\n    <path d=\"M 56.50625 22.5225 \r\nL 837.70625 22.5225 \r\n\" style=\"fill:none;stroke:#000000;stroke-linecap:square;stroke-linejoin:miter;stroke-width:0.8;\"/>\r\n   </g>\r\n   <g id=\"text_18\">\r\n    <!-- Tempo sobre observação -->\r\n    <defs>\r\n     <path d=\"M -0.296875 72.90625 \r\nL 61.375 72.90625 \r\nL 61.375 64.59375 \r\nL 35.5 64.59375 \r\nL 35.5 0 \r\nL 25.59375 0 \r\nL 25.59375 64.59375 \r\nL -0.296875 64.59375 \r\nz\r\n\" id=\"DejaVuSans-84\"/>\r\n     <path id=\"DejaVuSans-32\"/>\r\n     <path d=\"M 48.6875 27.296875 \r\nQ 48.6875 37.203125 44.609375 42.84375 \r\nQ 40.53125 48.484375 33.40625 48.484375 \r\nQ 26.265625 48.484375 22.1875 42.84375 \r\nQ 18.109375 37.203125 18.109375 27.296875 \r\nQ 18.109375 17.390625 22.1875 11.75 \r\nQ 26.265625 6.109375 33.40625 6.109375 \r\nQ 40.53125 6.109375 44.609375 11.75 \r\nQ 48.6875 17.390625 48.6875 27.296875 \r\nz\r\nM 18.109375 46.390625 \r\nQ 20.953125 51.265625 25.265625 53.625 \r\nQ 29.59375 56 35.59375 56 \r\nQ 45.5625 56 51.78125 48.09375 \r\nQ 58.015625 40.1875 58.015625 27.296875 \r\nQ 58.015625 14.40625 51.78125 6.484375 \r\nQ 45.5625 -1.421875 35.59375 -1.421875 \r\nQ 29.59375 -1.421875 25.265625 0.953125 \r\nQ 20.953125 3.328125 18.109375 8.203125 \r\nL 18.109375 0 \r\nL 9.078125 0 \r\nL 9.078125 75.984375 \r\nL 18.109375 75.984375 \r\nz\r\n\" id=\"DejaVuSans-98\"/>\r\n     <path d=\"M 41.109375 46.296875 \r\nQ 39.59375 47.171875 37.8125 47.578125 \r\nQ 36.03125 48 33.890625 48 \r\nQ 26.265625 48 22.1875 43.046875 \r\nQ 18.109375 38.09375 18.109375 28.8125 \r\nL 18.109375 0 \r\nL 9.078125 0 \r\nL 9.078125 54.6875 \r\nL 18.109375 54.6875 \r\nL 18.109375 46.1875 \r\nQ 20.953125 51.171875 25.484375 53.578125 \r\nQ 30.03125 56 36.53125 56 \r\nQ 37.453125 56 38.578125 55.875 \r\nQ 39.703125 55.765625 41.0625 55.515625 \r\nz\r\n\" id=\"DejaVuSans-114\"/>\r\n     <path d=\"M 2.984375 54.6875 \r\nL 12.5 54.6875 \r\nL 29.59375 8.796875 \r\nL 46.6875 54.6875 \r\nL 56.203125 54.6875 \r\nL 35.6875 0 \r\nL 23.484375 0 \r\nz\r\n\" id=\"DejaVuSans-118\"/>\r\n     <path d=\"M 48.78125 52.59375 \r\nL 48.78125 44.1875 \r\nQ 44.96875 46.296875 41.140625 47.34375 \r\nQ 37.3125 48.390625 33.40625 48.390625 \r\nQ 24.65625 48.390625 19.8125 42.84375 \r\nQ 14.984375 37.3125 14.984375 27.296875 \r\nQ 14.984375 17.28125 19.8125 11.734375 \r\nQ 24.65625 6.203125 33.40625 6.203125 \r\nQ 37.3125 6.203125 41.140625 7.25 \r\nQ 44.96875 8.296875 48.78125 10.40625 \r\nL 48.78125 2.09375 \r\nQ 45.015625 0.34375 40.984375 -0.53125 \r\nQ 36.96875 -1.421875 32.421875 -1.421875 \r\nQ 20.0625 -1.421875 12.78125 6.34375 \r\nQ 5.515625 14.109375 5.515625 27.296875 \r\nQ 5.515625 40.671875 12.859375 48.328125 \r\nQ 20.21875 56 33.015625 56 \r\nQ 37.15625 56 41.109375 55.140625 \r\nQ 45.0625 54.296875 48.78125 52.59375 \r\nz\r\nM 36.078125 0 \r\nQ 38.765625 -3.03125 40.078125 -5.59375 \r\nQ 41.40625 -8.15625 41.40625 -10.5 \r\nQ 41.40625 -14.84375 38.46875 -17.0625 \r\nQ 35.546875 -19.28125 29.78125 -19.28125 \r\nQ 27.546875 -19.28125 25.421875 -18.984375 \r\nQ 23.296875 -18.703125 21.1875 -18.109375 \r\nL 21.1875 -11.71875 \r\nQ 22.859375 -12.546875 24.65625 -12.90625 \r\nQ 26.46875 -13.28125 28.765625 -13.28125 \r\nQ 31.640625 -13.28125 33.109375 -12.109375 \r\nQ 34.578125 -10.9375 34.578125 -8.6875 \r\nQ 34.578125 -7.234375 33.515625 -5.109375 \r\nQ 32.46875 -2.984375 30.28125 0 \r\nz\r\n\" id=\"DejaVuSans-231\"/>\r\n     <path d=\"M 34.28125 27.484375 \r\nQ 23.390625 27.484375 19.1875 25 \r\nQ 14.984375 22.515625 14.984375 16.5 \r\nQ 14.984375 11.71875 18.140625 8.90625 \r\nQ 21.296875 6.109375 26.703125 6.109375 \r\nQ 34.1875 6.109375 38.703125 11.40625 \r\nQ 43.21875 16.703125 43.21875 25.484375 \r\nL 43.21875 27.484375 \r\nz\r\nM 52.203125 31.203125 \r\nL 52.203125 0 \r\nL 43.21875 0 \r\nL 43.21875 8.296875 \r\nQ 40.140625 3.328125 35.546875 0.953125 \r\nQ 30.953125 -1.421875 24.3125 -1.421875 \r\nQ 15.921875 -1.421875 10.953125 3.296875 \r\nQ 6 8.015625 6 15.921875 \r\nQ 6 25.140625 12.171875 29.828125 \r\nQ 18.359375 34.515625 30.609375 34.515625 \r\nL 43.21875 34.515625 \r\nL 43.21875 35.40625 \r\nQ 43.21875 41.609375 39.140625 45 \r\nQ 35.0625 48.390625 27.6875 48.390625 \r\nQ 23 48.390625 18.546875 47.265625 \r\nQ 14.109375 46.140625 10.015625 43.890625 \r\nL 10.015625 52.203125 \r\nQ 14.9375 54.109375 19.578125 55.046875 \r\nQ 24.21875 56 28.609375 56 \r\nQ 40.484375 56 46.34375 49.84375 \r\nQ 52.203125 43.703125 52.203125 31.203125 \r\nz\r\nM 28.8125 66.890625 \r\nL 26.03125 69.578125 \r\nQ 24.953125 70.5625 24.140625 71.015625 \r\nQ 23.34375 71.484375 22.703125 71.484375 \r\nQ 20.84375 71.484375 19.96875 69.703125 \r\nQ 19.09375 67.921875 19 63.921875 \r\nL 12.890625 63.921875 \r\nQ 12.984375 70.515625 15.46875 74.09375 \r\nQ 17.96875 77.6875 22.40625 77.6875 \r\nQ 24.265625 77.6875 25.828125 77 \r\nQ 27.390625 76.3125 29.203125 74.703125 \r\nL 31.984375 72.015625 \r\nQ 33.0625 71.046875 33.859375 70.578125 \r\nQ 34.671875 70.125 35.296875 70.125 \r\nQ 37.15625 70.125 38.03125 71.90625 \r\nQ 38.921875 73.6875 39.015625 77.6875 \r\nL 45.125 77.6875 \r\nQ 45.015625 71.09375 42.53125 67.5 \r\nQ 40.046875 63.921875 35.59375 63.921875 \r\nQ 33.734375 63.921875 32.171875 64.59375 \r\nQ 30.609375 65.28125 28.8125 66.890625 \r\nz\r\n\" id=\"DejaVuSans-227\"/>\r\n    </defs>\r\n    <g transform=\"translate(371.225 16.5225)scale(0.12 -0.12)\">\r\n     <use xlink:href=\"#DejaVuSans-84\"/>\r\n     <use x=\"60.818359\" xlink:href=\"#DejaVuSans-101\"/>\r\n     <use x=\"122.341797\" xlink:href=\"#DejaVuSans-109\"/>\r\n     <use x=\"219.753906\" xlink:href=\"#DejaVuSans-112\"/>\r\n     <use x=\"283.230469\" xlink:href=\"#DejaVuSans-111\"/>\r\n     <use x=\"344.412109\" xlink:href=\"#DejaVuSans-32\"/>\r\n     <use x=\"376.199219\" xlink:href=\"#DejaVuSans-115\"/>\r\n     <use x=\"428.298828\" xlink:href=\"#DejaVuSans-111\"/>\r\n     <use x=\"489.480469\" xlink:href=\"#DejaVuSans-98\"/>\r\n     <use x=\"552.957031\" xlink:href=\"#DejaVuSans-114\"/>\r\n     <use x=\"594.039062\" xlink:href=\"#DejaVuSans-101\"/>\r\n     <use x=\"655.5625\" xlink:href=\"#DejaVuSans-32\"/>\r\n     <use x=\"687.349609\" xlink:href=\"#DejaVuSans-111\"/>\r\n     <use x=\"748.53125\" xlink:href=\"#DejaVuSans-98\"/>\r\n     <use x=\"812.007812\" xlink:href=\"#DejaVuSans-115\"/>\r\n     <use x=\"864.107422\" xlink:href=\"#DejaVuSans-101\"/>\r\n     <use x=\"925.630859\" xlink:href=\"#DejaVuSans-114\"/>\r\n     <use x=\"966.744141\" xlink:href=\"#DejaVuSans-118\"/>\r\n     <use x=\"1025.923828\" xlink:href=\"#DejaVuSans-97\"/>\r\n     <use x=\"1087.203125\" xlink:href=\"#DejaVuSans-231\"/>\r\n     <use x=\"1142.183594\" xlink:href=\"#DejaVuSans-227\"/>\r\n     <use x=\"1203.462891\" xlink:href=\"#DejaVuSans-111\"/>\r\n    </g>\r\n   </g>\r\n   <g id=\"legend_1\">\r\n    <g id=\"patch_63\">\r\n     <path d=\"M 792.34375 59.87875 \r\nL 830.70625 59.87875 \r\nQ 832.70625 59.87875 832.70625 57.87875 \r\nL 832.70625 29.5225 \r\nQ 832.70625 27.5225 830.70625 27.5225 \r\nL 792.34375 27.5225 \r\nQ 790.34375 27.5225 790.34375 29.5225 \r\nL 790.34375 57.87875 \r\nQ 790.34375 59.87875 792.34375 59.87875 \r\nz\r\n\" style=\"fill:#ffffff;opacity:0.8;stroke:#cccccc;stroke-linejoin:miter;\"/>\r\n    </g>\r\n    <g id=\"patch_64\">\r\n     <path d=\"M 794.34375 39.120937 \r\nL 814.34375 39.120937 \r\nL 814.34375 32.120937 \r\nL 794.34375 32.120937 \r\nz\r\n\" style=\"fill:#ff0000;stroke:#ffffff;stroke-linejoin:miter;\"/>\r\n    </g>\r\n    <g id=\"text_19\">\r\n     <!-- 1 -->\r\n     <g transform=\"translate(822.34375 39.120937)scale(0.1 -0.1)\">\r\n      <use xlink:href=\"#DejaVuSans-49\"/>\r\n     </g>\r\n    </g>\r\n    <g id=\"patch_65\">\r\n     <path d=\"M 794.34375 53.799062 \r\nL 814.34375 53.799062 \r\nL 814.34375 46.799062 \r\nL 794.34375 46.799062 \r\nz\r\n\" style=\"fill:#87ceeb;opacity:0.8;stroke:#ffffff;stroke-linejoin:miter;\"/>\r\n    </g>\r\n    <g id=\"text_20\">\r\n     <!-- 0 -->\r\n     <g transform=\"translate(822.34375 53.799062)scale(0.1 -0.1)\">\r\n      <use xlink:href=\"#DejaVuSans-48\"/>\r\n     </g>\r\n    </g>\r\n   </g>\r\n  </g>\r\n </g>\r\n <defs>\r\n  <clipPath id=\"p842fc43b2b\">\r\n   <rect height=\"271.8\" width=\"781.2\" x=\"56.50625\" y=\"22.5225\"/>\r\n  </clipPath>\r\n </defs>\r\n</svg>\r\n",
      "image/png": "[encoded data removed]"
     },
     "metadata": {
      "needs_background": "light"
     }
    }
   ],
   "source": [
    "#Histograma de tempo sobre cuidados médicos de sobreviventes e não sobreviventes\n",
    "faixas = np.arange(4,285,10)\n",
    "plt.figure(figsize=(14, 5))\n",
    "plt.hist(dead.time, bins=faixas, density=True, color='red', edgecolor='white', linewidth=1)\n",
    "plt.hist(not_dead.time, bins=faixas, density=True, color='skyblue', edgecolor='white', linewidth=1, alpha=0.8)\n",
    "plt.legend('10')\n",
    "plt.title('Tempo sobre observação')\n",
    "plt.xlabel('tempo[dias]')\n",
    "plt.ylabel('densidade')\n",
    "plt.show()"
   ]
  },
  {
   "source": [
    "Neste histograma, fica bem claro que os pacientes que ficaram menos tempo em observação tiveram taxas de mortalidade bem maiores em comparação ao resto."
   ],
   "cell_type": "markdown",
   "metadata": {}
  },
  {
   "cell_type": "code",
   "execution_count": 22,
   "metadata": {},
   "outputs": [],
   "source": [
    "#Resetando a formatção do dataset\n",
    "dados = pd.read_csv(filename)\n",
    "dados['age'] = dados['age'].astype('float64')\n",
    "dados['anaemia'] = dados['anaemia'].astype('category')\n",
    "dados['creatinine_phosphokinase'] = dados['creatinine_phosphokinase'].astype('float64')\n",
    "dados['diabetes'] = dados['diabetes'].astype('category')\n",
    "dados['ejection_fraction'] = dados['ejection_fraction'].astype('float64')\n",
    "dados['high_blood_pressure'] = dados['high_blood_pressure'].astype('category')\n",
    "dados['platelets'] = dados['platelets'].astype('float64')\n",
    "dados['serum_sodium'] = dados['serum_sodium'].astype('float64')\n",
    "dados['sex'] = dados['sex'].astype('category')\n",
    "dados['smoking'] = dados['smoking'].astype('category')\n",
    "dados['time'] = dados['time'].astype('float64')\n",
    "dados['DEATH_EVENT'] = dados['DEATH_EVENT'].astype('category')"
   ]
  },
  {
   "source": [
    "### Abaixo cruzamos a nossa variável alvo agora com as variáveis qualitativas, e assim geramos quatro gráficos de setor e quatro tabelas de frequência."
   ],
   "cell_type": "markdown",
   "metadata": {}
  },
  {
   "source": [
    "## Gráficos de setor"
   ],
   "cell_type": "markdown",
   "metadata": {}
  },
  {
   "source": [
    "### Diabetes x DEATH_EVENT:"
   ],
   "cell_type": "markdown",
   "metadata": {}
  },
  {
   "source": [
    "Tabela de frequências para entedermos melhor o comportamento da diabetes com o evento de morte e o gráfico de setores abaixo"
   ],
   "cell_type": "markdown",
   "metadata": {}
  },
  {
   "cell_type": "code",
   "execution_count": 23,
   "metadata": {},
   "outputs": [
    {
     "output_type": "execute_result",
     "data": {
      "text/plain": [
       "DEATH_EVENT         0         1\n",
       "diabetes                       \n",
       "0            0.678161  0.321839\n",
       "1            0.680000  0.320000\n",
       "All          0.678930  0.321070"
      ],
      "text/html": "<div>\n<style scoped>\n    .dataframe tbody tr th:only-of-type {\n        vertical-align: middle;\n    }\n\n    .dataframe tbody tr th {\n        vertical-align: top;\n    }\n\n    .dataframe thead th {\n        text-align: right;\n    }\n</style>\n<table border=\"1\" class=\"dataframe\">\n  <thead>\n    <tr style=\"text-align: right;\">\n      <th>DEATH_EVENT</th>\n      <th>0</th>\n      <th>1</th>\n    </tr>\n    <tr>\n      <th>diabetes</th>\n      <th></th>\n      <th></th>\n    </tr>\n  </thead>\n  <tbody>\n    <tr>\n      <td>0</td>\n      <td>0.678161</td>\n      <td>0.321839</td>\n    </tr>\n    <tr>\n      <td>1</td>\n      <td>0.680000</td>\n      <td>0.320000</td>\n    </tr>\n    <tr>\n      <td>All</td>\n      <td>0.678930</td>\n      <td>0.321070</td>\n    </tr>\n  </tbody>\n</table>\n</div>"
     },
     "metadata": {},
     "execution_count": 23
    }
   ],
   "source": [
    "pd.crosstab(dados.diabetes,dados.DEATH_EVENT, normalize='index', margins=True)"
   ]
  },
  {
   "cell_type": "code",
   "execution_count": 24,
   "metadata": {},
   "outputs": [
    {
     "output_type": "display_data",
     "data": {
      "application/vnd.plotly.v1+json": {
       "config": {
        "plotlyServerURL": "https://plot.ly"
       },
       "data": [
        {
         "domain": {
          "x": [
           0,
           1
          ],
          "y": [
           0,
           1
          ]
         },
         "hovertemplate": "DEATH_EVENT=%{label}<br>diabetes=%{value}<extra></extra>",
         "labels": [
          1,
          1,
          1,
          1,
          1,
          1,
          1,
          1,
          1,
          1,
          1,
          1,
          1,
          1,
          0,
          1,
          1,
          1,
          1,
          1,
          0,
          1,
          1,
          0,
          1,
          1,
          1,
          1,
          1,
          1,
          1,
          1,
          1,
          0,
          1,
          1,
          1,
          1,
          0,
          1,
          1,
          1,
          1,
          0,
          1,
          1,
          1,
          1,
          1,
          1,
          1,
          1,
          1,
          1,
          1,
          1,
          0,
          0,
          1,
          1,
          1,
          1,
          0,
          1,
          0,
          1,
          1,
          1,
          1,
          1,
          0,
          0,
          1,
          0,
          1,
          1,
          0,
          0,
          0,
          0,
          0,
          0,
          1,
          0,
          1,
          0,
          0,
          0,
          0,
          0,
          0,
          0,
          0,
          1,
          0,
          0,
          0,
          0,
          0,
          0,
          0,
          0,
          0,
          0,
          0,
          1,
          0,
          0,
          0,
          0,
          1,
          0,
          0,
          1,
          0,
          0,
          0,
          0,
          0,
          1,
          0,
          0,
          0,
          0,
          1,
          0,
          1,
          0,
          0,
          0,
          0,
          0,
          0,
          0,
          0,
          0,
          0,
          0,
          0,
          0,
          1,
          0,
          0,
          0,
          1,
          0,
          0,
          0,
          1,
          0,
          1,
          0,
          0,
          0,
          0,
          0,
          0,
          0,
          0,
          0,
          0,
          0,
          0,
          1,
          1,
          1,
          0,
          1,
          0,
          0,
          0,
          0,
          0,
          0,
          0,
          0,
          0,
          0,
          0,
          0,
          0,
          1,
          1,
          1,
          1,
          1,
          1,
          1,
          0,
          0,
          0,
          0,
          0,
          0,
          1,
          1,
          0,
          0,
          0,
          0,
          0,
          0,
          0,
          0,
          0,
          0,
          0,
          0,
          0,
          0,
          0,
          0,
          0,
          1,
          0,
          0,
          0,
          1,
          0,
          0,
          1,
          0,
          0,
          0,
          0,
          0,
          0,
          0,
          0,
          0,
          1,
          0,
          0,
          0,
          0,
          0,
          0,
          0,
          0,
          0,
          0,
          0,
          0,
          0,
          0,
          0,
          1,
          0,
          0,
          0,
          0,
          0,
          0,
          0,
          0,
          0,
          0,
          0,
          0,
          0,
          0,
          0,
          1,
          0,
          0,
          0,
          1,
          0,
          0,
          0,
          0,
          0,
          0,
          0,
          0,
          0,
          0,
          0,
          0,
          0,
          0,
          0,
          0,
          0,
          0,
          0,
          0,
          0,
          0,
          0,
          0,
          0,
          0,
          0,
          0,
          0,
          0,
          0,
          0
         ],
         "legendgroup": "",
         "name": "",
         "showlegend": true,
         "type": "pie",
         "values": [
          0,
          0,
          0,
          0,
          1,
          0,
          0,
          1,
          0,
          0,
          0,
          0,
          0,
          0,
          0,
          0,
          0,
          0,
          0,
          1,
          0,
          1,
          0,
          1,
          1,
          1,
          0,
          1,
          0,
          1,
          1,
          0,
          1,
          1,
          1,
          1,
          1,
          1,
          1,
          1,
          0,
          1,
          1,
          1,
          1,
          1,
          0,
          1,
          0,
          0,
          0,
          0,
          1,
          1,
          1,
          0,
          0,
          0,
          0,
          1,
          1,
          0,
          0,
          0,
          0,
          0,
          1,
          0,
          0,
          1,
          0,
          1,
          0,
          1,
          0,
          0,
          0,
          1,
          1,
          0,
          0,
          0,
          1,
          0,
          1,
          0,
          0,
          1,
          1,
          0,
          1,
          1,
          0,
          0,
          1,
          0,
          1,
          0,
          1,
          1,
          0,
          0,
          0,
          0,
          0,
          0,
          0,
          1,
          0,
          1,
          0,
          0,
          1,
          0,
          1,
          0,
          1,
          0,
          1,
          0,
          0,
          1,
          1,
          0,
          0,
          0,
          1,
          1,
          0,
          1,
          0,
          1,
          0,
          0,
          0,
          0,
          1,
          0,
          1,
          0,
          0,
          0,
          1,
          0,
          0,
          0,
          0,
          0,
          0,
          0,
          0,
          1,
          0,
          1,
          0,
          1,
          0,
          0,
          0,
          0,
          0,
          0,
          0,
          1,
          1,
          1,
          0,
          1,
          1,
          0,
          1,
          0,
          0,
          0,
          1,
          0,
          0,
          0,
          1,
          0,
          1,
          1,
          1,
          0,
          0,
          1,
          0,
          1,
          1,
          0,
          1,
          0,
          1,
          1,
          0,
          0,
          1,
          0,
          1,
          1,
          0,
          1,
          0,
          0,
          0,
          1,
          0,
          0,
          1,
          1,
          1,
          0,
          0,
          1,
          0,
          0,
          0,
          0,
          1,
          1,
          0,
          0,
          0,
          0,
          1,
          1,
          0,
          0,
          0,
          0,
          0,
          0,
          0,
          0,
          0,
          0,
          0,
          0,
          1,
          0,
          1,
          1,
          0,
          0,
          1,
          1,
          0,
          0,
          0,
          1,
          0,
          1,
          0,
          1,
          0,
          1,
          0,
          1,
          1,
          0,
          0,
          0,
          1,
          1,
          1,
          0,
          0,
          1,
          1,
          1,
          1,
          1,
          0,
          0,
          1,
          0,
          0,
          1,
          1,
          1,
          1,
          0,
          0,
          0,
          0,
          1,
          0,
          1,
          1,
          0,
          1,
          0,
          1,
          1,
          1,
          0,
          1,
          0,
          0
         ]
        }
       ],
       "layout": {
        "legend": {
         "tracegroupgap": 0
        },
        "template": {
         "data": {
          "bar": [
           {
            "error_x": {
             "color": "#2a3f5f"
            },
            "error_y": {
             "color": "#2a3f5f"
            },
            "marker": {
             "line": {
              "color": "#E5ECF6",
              "width": 0.5
             }
            },
            "type": "bar"
           }
          ],
          "barpolar": [
           {
            "marker": {
             "line": {
              "color": "#E5ECF6",
              "width": 0.5
             }
            },
            "type": "barpolar"
           }
          ],
          "carpet": [
           {
            "aaxis": {
             "endlinecolor": "#2a3f5f",
             "gridcolor": "white",
             "linecolor": "white",
             "minorgridcolor": "white",
             "startlinecolor": "#2a3f5f"
            },
            "baxis": {
             "endlinecolor": "#2a3f5f",
             "gridcolor": "white",
             "linecolor": "white",
             "minorgridcolor": "white",
             "startlinecolor": "#2a3f5f"
            },
            "type": "carpet"
           }
          ],
          "choropleth": [
           {
            "colorbar": {
             "outlinewidth": 0,
             "ticks": ""
            },
            "type": "choropleth"
           }
          ],
          "contour": [
           {
            "colorbar": {
             "outlinewidth": 0,
             "ticks": ""
            },
            "colorscale": [
             [
              0,
              "#0d0887"
             ],
             [
              0.1111111111111111,
              "#46039f"
             ],
             [
              0.2222222222222222,
              "#7201a8"
             ],
             [
              0.3333333333333333,
              "#9c179e"
             ],
             [
              0.4444444444444444,
              "#bd3786"
             ],
             [
              0.5555555555555556,
              "#d8576b"
             ],
             [
              0.6666666666666666,
              "#ed7953"
             ],
             [
              0.7777777777777778,
              "#fb9f3a"
             ],
             [
              0.8888888888888888,
              "#fdca26"
             ],
             [
              1,
              "#f0f921"
             ]
            ],
            "type": "contour"
           }
          ],
          "contourcarpet": [
           {
            "colorbar": {
             "outlinewidth": 0,
             "ticks": ""
            },
            "type": "contourcarpet"
           }
          ],
          "heatmap": [
           {
            "colorbar": {
             "outlinewidth": 0,
             "ticks": ""
            },
            "colorscale": [
             [
              0,
              "#0d0887"
             ],
             [
              0.1111111111111111,
              "#46039f"
             ],
             [
              0.2222222222222222,
              "#7201a8"
             ],
             [
              0.3333333333333333,
              "#9c179e"
             ],
             [
              0.4444444444444444,
              "#bd3786"
             ],
             [
              0.5555555555555556,
              "#d8576b"
             ],
             [
              0.6666666666666666,
              "#ed7953"
             ],
             [
              0.7777777777777778,
              "#fb9f3a"
             ],
             [
              0.8888888888888888,
              "#fdca26"
             ],
             [
              1,
              "#f0f921"
             ]
            ],
            "type": "heatmap"
           }
          ],
          "heatmapgl": [
           {
            "colorbar": {
             "outlinewidth": 0,
             "ticks": ""
            },
            "colorscale": [
             [
              0,
              "#0d0887"
             ],
             [
              0.1111111111111111,
              "#46039f"
             ],
             [
              0.2222222222222222,
              "#7201a8"
             ],
             [
              0.3333333333333333,
              "#9c179e"
             ],
             [
              0.4444444444444444,
              "#bd3786"
             ],
             [
              0.5555555555555556,
              "#d8576b"
             ],
             [
              0.6666666666666666,
              "#ed7953"
             ],
             [
              0.7777777777777778,
              "#fb9f3a"
             ],
             [
              0.8888888888888888,
              "#fdca26"
             ],
             [
              1,
              "#f0f921"
             ]
            ],
            "type": "heatmapgl"
           }
          ],
          "histogram": [
           {
            "marker": {
             "colorbar": {
              "outlinewidth": 0,
              "ticks": ""
             }
            },
            "type": "histogram"
           }
          ],
          "histogram2d": [
           {
            "colorbar": {
             "outlinewidth": 0,
             "ticks": ""
            },
            "colorscale": [
             [
              0,
              "#0d0887"
             ],
             [
              0.1111111111111111,
              "#46039f"
             ],
             [
              0.2222222222222222,
              "#7201a8"
             ],
             [
              0.3333333333333333,
              "#9c179e"
             ],
             [
              0.4444444444444444,
              "#bd3786"
             ],
             [
              0.5555555555555556,
              "#d8576b"
             ],
             [
              0.6666666666666666,
              "#ed7953"
             ],
             [
              0.7777777777777778,
              "#fb9f3a"
             ],
             [
              0.8888888888888888,
              "#fdca26"
             ],
             [
              1,
              "#f0f921"
             ]
            ],
            "type": "histogram2d"
           }
          ],
          "histogram2dcontour": [
           {
            "colorbar": {
             "outlinewidth": 0,
             "ticks": ""
            },
            "colorscale": [
             [
              0,
              "#0d0887"
             ],
             [
              0.1111111111111111,
              "#46039f"
             ],
             [
              0.2222222222222222,
              "#7201a8"
             ],
             [
              0.3333333333333333,
              "#9c179e"
             ],
             [
              0.4444444444444444,
              "#bd3786"
             ],
             [
              0.5555555555555556,
              "#d8576b"
             ],
             [
              0.6666666666666666,
              "#ed7953"
             ],
             [
              0.7777777777777778,
              "#fb9f3a"
             ],
             [
              0.8888888888888888,
              "#fdca26"
             ],
             [
              1,
              "#f0f921"
             ]
            ],
            "type": "histogram2dcontour"
           }
          ],
          "mesh3d": [
           {
            "colorbar": {
             "outlinewidth": 0,
             "ticks": ""
            },
            "type": "mesh3d"
           }
          ],
          "parcoords": [
           {
            "line": {
             "colorbar": {
              "outlinewidth": 0,
              "ticks": ""
             }
            },
            "type": "parcoords"
           }
          ],
          "pie": [
           {
            "automargin": true,
            "type": "pie"
           }
          ],
          "scatter": [
           {
            "marker": {
             "colorbar": {
              "outlinewidth": 0,
              "ticks": ""
             }
            },
            "type": "scatter"
           }
          ],
          "scatter3d": [
           {
            "line": {
             "colorbar": {
              "outlinewidth": 0,
              "ticks": ""
             }
            },
            "marker": {
             "colorbar": {
              "outlinewidth": 0,
              "ticks": ""
             }
            },
            "type": "scatter3d"
           }
          ],
          "scattercarpet": [
           {
            "marker": {
             "colorbar": {
              "outlinewidth": 0,
              "ticks": ""
             }
            },
            "type": "scattercarpet"
           }
          ],
          "scattergeo": [
           {
            "marker": {
             "colorbar": {
              "outlinewidth": 0,
              "ticks": ""
             }
            },
            "type": "scattergeo"
           }
          ],
          "scattergl": [
           {
            "marker": {
             "colorbar": {
              "outlinewidth": 0,
              "ticks": ""
             }
            },
            "type": "scattergl"
           }
          ],
          "scattermapbox": [
           {
            "marker": {
             "colorbar": {
              "outlinewidth": 0,
              "ticks": ""
             }
            },
            "type": "scattermapbox"
           }
          ],
          "scatterpolar": [
           {
            "marker": {
             "colorbar": {
              "outlinewidth": 0,
              "ticks": ""
             }
            },
            "type": "scatterpolar"
           }
          ],
          "scatterpolargl": [
           {
            "marker": {
             "colorbar": {
              "outlinewidth": 0,
              "ticks": ""
             }
            },
            "type": "scatterpolargl"
           }
          ],
          "scatterternary": [
           {
            "marker": {
             "colorbar": {
              "outlinewidth": 0,
              "ticks": ""
             }
            },
            "type": "scatterternary"
           }
          ],
          "surface": [
           {
            "colorbar": {
             "outlinewidth": 0,
             "ticks": ""
            },
            "colorscale": [
             [
              0,
              "#0d0887"
             ],
             [
              0.1111111111111111,
              "#46039f"
             ],
             [
              0.2222222222222222,
              "#7201a8"
             ],
             [
              0.3333333333333333,
              "#9c179e"
             ],
             [
              0.4444444444444444,
              "#bd3786"
             ],
             [
              0.5555555555555556,
              "#d8576b"
             ],
             [
              0.6666666666666666,
              "#ed7953"
             ],
             [
              0.7777777777777778,
              "#fb9f3a"
             ],
             [
              0.8888888888888888,
              "#fdca26"
             ],
             [
              1,
              "#f0f921"
             ]
            ],
            "type": "surface"
           }
          ],
          "table": [
           {
            "cells": {
             "fill": {
              "color": "#EBF0F8"
             },
             "line": {
              "color": "white"
             }
            },
            "header": {
             "fill": {
              "color": "#C8D4E3"
             },
             "line": {
              "color": "white"
             }
            },
            "type": "table"
           }
          ]
         },
         "layout": {
          "annotationdefaults": {
           "arrowcolor": "#2a3f5f",
           "arrowhead": 0,
           "arrowwidth": 1
          },
          "coloraxis": {
           "colorbar": {
            "outlinewidth": 0,
            "ticks": ""
           }
          },
          "colorscale": {
           "diverging": [
            [
             0,
             "#8e0152"
            ],
            [
             0.1,
             "#c51b7d"
            ],
            [
             0.2,
             "#de77ae"
            ],
            [
             0.3,
             "#f1b6da"
            ],
            [
             0.4,
             "#fde0ef"
            ],
            [
             0.5,
             "#f7f7f7"
            ],
            [
             0.6,
             "#e6f5d0"
            ],
            [
             0.7,
             "#b8e186"
            ],
            [
             0.8,
             "#7fbc41"
            ],
            [
             0.9,
             "#4d9221"
            ],
            [
             1,
             "#276419"
            ]
           ],
           "sequential": [
            [
             0,
             "#0d0887"
            ],
            [
             0.1111111111111111,
             "#46039f"
            ],
            [
             0.2222222222222222,
             "#7201a8"
            ],
            [
             0.3333333333333333,
             "#9c179e"
            ],
            [
             0.4444444444444444,
             "#bd3786"
            ],
            [
             0.5555555555555556,
             "#d8576b"
            ],
            [
             0.6666666666666666,
             "#ed7953"
            ],
            [
             0.7777777777777778,
             "#fb9f3a"
            ],
            [
             0.8888888888888888,
             "#fdca26"
            ],
            [
             1,
             "#f0f921"
            ]
           ],
           "sequentialminus": [
            [
             0,
             "#0d0887"
            ],
            [
             0.1111111111111111,
             "#46039f"
            ],
            [
             0.2222222222222222,
             "#7201a8"
            ],
            [
             0.3333333333333333,
             "#9c179e"
            ],
            [
             0.4444444444444444,
             "#bd3786"
            ],
            [
             0.5555555555555556,
             "#d8576b"
            ],
            [
             0.6666666666666666,
             "#ed7953"
            ],
            [
             0.7777777777777778,
             "#fb9f3a"
            ],
            [
             0.8888888888888888,
             "#fdca26"
            ],
            [
             1,
             "#f0f921"
            ]
           ]
          },
          "colorway": [
           "#636efa",
           "#EF553B",
           "#00cc96",
           "#ab63fa",
           "#FFA15A",
           "#19d3f3",
           "#FF6692",
           "#B6E880",
           "#FF97FF",
           "#FECB52"
          ],
          "font": {
           "color": "#2a3f5f"
          },
          "geo": {
           "bgcolor": "white",
           "lakecolor": "white",
           "landcolor": "#E5ECF6",
           "showlakes": true,
           "showland": true,
           "subunitcolor": "white"
          },
          "hoverlabel": {
           "align": "left"
          },
          "hovermode": "closest",
          "mapbox": {
           "style": "light"
          },
          "paper_bgcolor": "white",
          "plot_bgcolor": "#E5ECF6",
          "polar": {
           "angularaxis": {
            "gridcolor": "white",
            "linecolor": "white",
            "ticks": ""
           },
           "bgcolor": "#E5ECF6",
           "radialaxis": {
            "gridcolor": "white",
            "linecolor": "white",
            "ticks": ""
           }
          },
          "scene": {
           "xaxis": {
            "backgroundcolor": "#E5ECF6",
            "gridcolor": "white",
            "gridwidth": 2,
            "linecolor": "white",
            "showbackground": true,
            "ticks": "",
            "zerolinecolor": "white"
           },
           "yaxis": {
            "backgroundcolor": "#E5ECF6",
            "gridcolor": "white",
            "gridwidth": 2,
            "linecolor": "white",
            "showbackground": true,
            "ticks": "",
            "zerolinecolor": "white"
           },
           "zaxis": {
            "backgroundcolor": "#E5ECF6",
            "gridcolor": "white",
            "gridwidth": 2,
            "linecolor": "white",
            "showbackground": true,
            "ticks": "",
            "zerolinecolor": "white"
           }
          },
          "shapedefaults": {
           "line": {
            "color": "#2a3f5f"
           }
          },
          "ternary": {
           "aaxis": {
            "gridcolor": "white",
            "linecolor": "white",
            "ticks": ""
           },
           "baxis": {
            "gridcolor": "white",
            "linecolor": "white",
            "ticks": ""
           },
           "bgcolor": "#E5ECF6",
           "caxis": {
            "gridcolor": "white",
            "linecolor": "white",
            "ticks": ""
           }
          },
          "title": {
           "x": 0.05
          },
          "xaxis": {
           "automargin": true,
           "gridcolor": "white",
           "linecolor": "white",
           "ticks": "",
           "title": {
            "standoff": 15
           },
           "zerolinecolor": "white",
           "zerolinewidth": 2
          },
          "yaxis": {
           "automargin": true,
           "gridcolor": "white",
           "linecolor": "white",
           "ticks": "",
           "title": {
            "standoff": 15
           },
           "zerolinecolor": "white",
           "zerolinewidth": 2
          }
         }
        },
        "title": {
         "text": "Porcentagem de diabeticos em relação ao DEATH_EVENT"
        }
       }
      }
     },
     "metadata": {}
    }
   ],
   "source": [
    "px.pie(dados, values='diabetes',names='DEATH_EVENT', title='Porcentagem de diabeticos em relação ao DEATH_EVENT')\n"
   ]
  },
  {
   "source": [
    "Com este gráfico de setores, foi possível concluir que ter ou não diabetes possui um impacto moderado sobre a taxa de mortalidade."
   ],
   "cell_type": "markdown",
   "metadata": {}
  },
  {
   "source": [
    "### Ser fumante x DEATH_EVENT:"
   ],
   "cell_type": "markdown",
   "metadata": {}
  },
  {
   "source": [
    "Tabela de frequências para entedermos melhor o comportamento da fumantes com o evento de morte e o gráfico de setores abaixo"
   ],
   "cell_type": "markdown",
   "metadata": {}
  },
  {
   "cell_type": "code",
   "execution_count": 25,
   "metadata": {},
   "outputs": [
    {
     "output_type": "execute_result",
     "data": {
      "text/plain": [
       "DEATH_EVENT         0         1\n",
       "smoking                        \n",
       "0            0.674877  0.325123\n",
       "1            0.687500  0.312500\n",
       "All          0.678930  0.321070"
      ],
      "text/html": "<div>\n<style scoped>\n    .dataframe tbody tr th:only-of-type {\n        vertical-align: middle;\n    }\n\n    .dataframe tbody tr th {\n        vertical-align: top;\n    }\n\n    .dataframe thead th {\n        text-align: right;\n    }\n</style>\n<table border=\"1\" class=\"dataframe\">\n  <thead>\n    <tr style=\"text-align: right;\">\n      <th>DEATH_EVENT</th>\n      <th>0</th>\n      <th>1</th>\n    </tr>\n    <tr>\n      <th>smoking</th>\n      <th></th>\n      <th></th>\n    </tr>\n  </thead>\n  <tbody>\n    <tr>\n      <td>0</td>\n      <td>0.674877</td>\n      <td>0.325123</td>\n    </tr>\n    <tr>\n      <td>1</td>\n      <td>0.687500</td>\n      <td>0.312500</td>\n    </tr>\n    <tr>\n      <td>All</td>\n      <td>0.678930</td>\n      <td>0.321070</td>\n    </tr>\n  </tbody>\n</table>\n</div>"
     },
     "metadata": {},
     "execution_count": 25
    }
   ],
   "source": [
    "pd.crosstab(dados.smoking,dados.DEATH_EVENT, normalize='index', margins=True)"
   ]
  },
  {
   "cell_type": "code",
   "execution_count": 26,
   "metadata": {},
   "outputs": [
    {
     "output_type": "display_data",
     "data": {
      "application/vnd.plotly.v1+json": {
       "config": {
        "plotlyServerURL": "https://plot.ly"
       },
       "data": [
        {
         "domain": {
          "x": [
           0,
           1
          ],
          "y": [
           0,
           1
          ]
         },
         "hovertemplate": "DEATH_EVENT=%{label}<br>smoking=%{value}<extra></extra>",
         "labels": [
          1,
          1,
          1,
          1,
          1,
          1,
          1,
          1,
          1,
          1,
          1,
          1,
          1,
          1,
          0,
          1,
          1,
          1,
          1,
          1,
          0,
          1,
          1,
          0,
          1,
          1,
          1,
          1,
          1,
          1,
          1,
          1,
          1,
          0,
          1,
          1,
          1,
          1,
          0,
          1,
          1,
          1,
          1,
          0,
          1,
          1,
          1,
          1,
          1,
          1,
          1,
          1,
          1,
          1,
          1,
          1,
          0,
          0,
          1,
          1,
          1,
          1,
          0,
          1,
          0,
          1,
          1,
          1,
          1,
          1,
          0,
          0,
          1,
          0,
          1,
          1,
          0,
          0,
          0,
          0,
          0,
          0,
          1,
          0,
          1,
          0,
          0,
          0,
          0,
          0,
          0,
          0,
          0,
          1,
          0,
          0,
          0,
          0,
          0,
          0,
          0,
          0,
          0,
          0,
          0,
          1,
          0,
          0,
          0,
          0,
          1,
          0,
          0,
          1,
          0,
          0,
          0,
          0,
          0,
          1,
          0,
          0,
          0,
          0,
          1,
          0,
          1,
          0,
          0,
          0,
          0,
          0,
          0,
          0,
          0,
          0,
          0,
          0,
          0,
          0,
          1,
          0,
          0,
          0,
          1,
          0,
          0,
          0,
          1,
          0,
          1,
          0,
          0,
          0,
          0,
          0,
          0,
          0,
          0,
          0,
          0,
          0,
          0,
          1,
          1,
          1,
          0,
          1,
          0,
          0,
          0,
          0,
          0,
          0,
          0,
          0,
          0,
          0,
          0,
          0,
          0,
          1,
          1,
          1,
          1,
          1,
          1,
          1,
          0,
          0,
          0,
          0,
          0,
          0,
          1,
          1,
          0,
          0,
          0,
          0,
          0,
          0,
          0,
          0,
          0,
          0,
          0,
          0,
          0,
          0,
          0,
          0,
          0,
          1,
          0,
          0,
          0,
          1,
          0,
          0,
          1,
          0,
          0,
          0,
          0,
          0,
          0,
          0,
          0,
          0,
          1,
          0,
          0,
          0,
          0,
          0,
          0,
          0,
          0,
          0,
          0,
          0,
          0,
          0,
          0,
          0,
          1,
          0,
          0,
          0,
          0,
          0,
          0,
          0,
          0,
          0,
          0,
          0,
          0,
          0,
          0,
          0,
          1,
          0,
          0,
          0,
          1,
          0,
          0,
          0,
          0,
          0,
          0,
          0,
          0,
          0,
          0,
          0,
          0,
          0,
          0,
          0,
          0,
          0,
          0,
          0,
          0,
          0,
          0,
          0,
          0,
          0,
          0,
          0,
          0,
          0,
          0,
          0,
          0
         ],
         "legendgroup": "",
         "name": "",
         "showlegend": true,
         "type": "pie",
         "values": [
          0,
          0,
          1,
          0,
          0,
          1,
          0,
          1,
          0,
          1,
          1,
          1,
          0,
          0,
          0,
          0,
          0,
          0,
          0,
          0,
          0,
          0,
          1,
          0,
          0,
          1,
          0,
          1,
          0,
          1,
          0,
          0,
          0,
          0,
          0,
          0,
          0,
          0,
          0,
          0,
          1,
          1,
          1,
          0,
          0,
          1,
          0,
          1,
          0,
          0,
          0,
          0,
          0,
          0,
          1,
          0,
          1,
          1,
          1,
          1,
          0,
          0,
          1,
          0,
          0,
          1,
          0,
          1,
          0,
          0,
          1,
          1,
          1,
          1,
          1,
          1,
          1,
          0,
          1,
          0,
          0,
          1,
          0,
          0,
          0,
          0,
          0,
          0,
          0,
          0,
          1,
          0,
          0,
          0,
          0,
          0,
          0,
          0,
          0,
          0,
          0,
          0,
          1,
          1,
          0,
          1,
          0,
          0,
          1,
          1,
          1,
          1,
          0,
          0,
          0,
          0,
          0,
          0,
          0,
          0,
          1,
          0,
          0,
          0,
          0,
          0,
          0,
          0,
          1,
          0,
          1,
          0,
          0,
          1,
          1,
          0,
          0,
          0,
          0,
          0,
          0,
          0,
          0,
          0,
          1,
          1,
          1,
          0,
          0,
          0,
          0,
          0,
          1,
          1,
          0,
          0,
          0,
          1,
          0,
          1,
          0,
          1,
          1,
          0,
          0,
          0,
          1,
          0,
          0,
          0,
          1,
          1,
          1,
          0,
          1,
          1,
          1,
          0,
          0,
          1,
          0,
          1,
          1,
          0,
          1,
          0,
          0,
          0,
          0,
          0,
          0,
          0,
          0,
          1,
          0,
          0,
          0,
          0,
          0,
          1,
          0,
          0,
          0,
          1,
          1,
          0,
          0,
          0,
          0,
          0,
          1,
          1,
          1,
          0,
          0,
          0,
          0,
          0,
          0,
          0,
          0,
          1,
          1,
          0,
          0,
          0,
          1,
          0,
          0,
          0,
          0,
          1,
          0,
          1,
          1,
          0,
          0,
          0,
          0,
          1,
          0,
          1,
          1,
          0,
          0,
          0,
          0,
          0,
          1,
          0,
          0,
          0,
          0,
          0,
          0,
          1,
          0,
          0,
          0,
          1,
          0,
          0,
          0,
          0,
          0,
          1,
          1,
          0,
          0,
          0,
          1,
          0,
          0,
          0,
          1,
          0,
          0,
          0,
          0,
          0,
          0,
          1,
          1,
          1,
          0,
          0,
          0,
          0,
          0,
          0,
          0,
          0,
          1,
          1,
          1,
          0,
          0,
          1,
          1
         ]
        }
       ],
       "layout": {
        "legend": {
         "tracegroupgap": 0
        },
        "template": {
         "data": {
          "bar": [
           {
            "error_x": {
             "color": "#2a3f5f"
            },
            "error_y": {
             "color": "#2a3f5f"
            },
            "marker": {
             "line": {
              "color": "#E5ECF6",
              "width": 0.5
             }
            },
            "type": "bar"
           }
          ],
          "barpolar": [
           {
            "marker": {
             "line": {
              "color": "#E5ECF6",
              "width": 0.5
             }
            },
            "type": "barpolar"
           }
          ],
          "carpet": [
           {
            "aaxis": {
             "endlinecolor": "#2a3f5f",
             "gridcolor": "white",
             "linecolor": "white",
             "minorgridcolor": "white",
             "startlinecolor": "#2a3f5f"
            },
            "baxis": {
             "endlinecolor": "#2a3f5f",
             "gridcolor": "white",
             "linecolor": "white",
             "minorgridcolor": "white",
             "startlinecolor": "#2a3f5f"
            },
            "type": "carpet"
           }
          ],
          "choropleth": [
           {
            "colorbar": {
             "outlinewidth": 0,
             "ticks": ""
            },
            "type": "choropleth"
           }
          ],
          "contour": [
           {
            "colorbar": {
             "outlinewidth": 0,
             "ticks": ""
            },
            "colorscale": [
             [
              0,
              "#0d0887"
             ],
             [
              0.1111111111111111,
              "#46039f"
             ],
             [
              0.2222222222222222,
              "#7201a8"
             ],
             [
              0.3333333333333333,
              "#9c179e"
             ],
             [
              0.4444444444444444,
              "#bd3786"
             ],
             [
              0.5555555555555556,
              "#d8576b"
             ],
             [
              0.6666666666666666,
              "#ed7953"
             ],
             [
              0.7777777777777778,
              "#fb9f3a"
             ],
             [
              0.8888888888888888,
              "#fdca26"
             ],
             [
              1,
              "#f0f921"
             ]
            ],
            "type": "contour"
           }
          ],
          "contourcarpet": [
           {
            "colorbar": {
             "outlinewidth": 0,
             "ticks": ""
            },
            "type": "contourcarpet"
           }
          ],
          "heatmap": [
           {
            "colorbar": {
             "outlinewidth": 0,
             "ticks": ""
            },
            "colorscale": [
             [
              0,
              "#0d0887"
             ],
             [
              0.1111111111111111,
              "#46039f"
             ],
             [
              0.2222222222222222,
              "#7201a8"
             ],
             [
              0.3333333333333333,
              "#9c179e"
             ],
             [
              0.4444444444444444,
              "#bd3786"
             ],
             [
              0.5555555555555556,
              "#d8576b"
             ],
             [
              0.6666666666666666,
              "#ed7953"
             ],
             [
              0.7777777777777778,
              "#fb9f3a"
             ],
             [
              0.8888888888888888,
              "#fdca26"
             ],
             [
              1,
              "#f0f921"
             ]
            ],
            "type": "heatmap"
           }
          ],
          "heatmapgl": [
           {
            "colorbar": {
             "outlinewidth": 0,
             "ticks": ""
            },
            "colorscale": [
             [
              0,
              "#0d0887"
             ],
             [
              0.1111111111111111,
              "#46039f"
             ],
             [
              0.2222222222222222,
              "#7201a8"
             ],
             [
              0.3333333333333333,
              "#9c179e"
             ],
             [
              0.4444444444444444,
              "#bd3786"
             ],
             [
              0.5555555555555556,
              "#d8576b"
             ],
             [
              0.6666666666666666,
              "#ed7953"
             ],
             [
              0.7777777777777778,
              "#fb9f3a"
             ],
             [
              0.8888888888888888,
              "#fdca26"
             ],
             [
              1,
              "#f0f921"
             ]
            ],
            "type": "heatmapgl"
           }
          ],
          "histogram": [
           {
            "marker": {
             "colorbar": {
              "outlinewidth": 0,
              "ticks": ""
             }
            },
            "type": "histogram"
           }
          ],
          "histogram2d": [
           {
            "colorbar": {
             "outlinewidth": 0,
             "ticks": ""
            },
            "colorscale": [
             [
              0,
              "#0d0887"
             ],
             [
              0.1111111111111111,
              "#46039f"
             ],
             [
              0.2222222222222222,
              "#7201a8"
             ],
             [
              0.3333333333333333,
              "#9c179e"
             ],
             [
              0.4444444444444444,
              "#bd3786"
             ],
             [
              0.5555555555555556,
              "#d8576b"
             ],
             [
              0.6666666666666666,
              "#ed7953"
             ],
             [
              0.7777777777777778,
              "#fb9f3a"
             ],
             [
              0.8888888888888888,
              "#fdca26"
             ],
             [
              1,
              "#f0f921"
             ]
            ],
            "type": "histogram2d"
           }
          ],
          "histogram2dcontour": [
           {
            "colorbar": {
             "outlinewidth": 0,
             "ticks": ""
            },
            "colorscale": [
             [
              0,
              "#0d0887"
             ],
             [
              0.1111111111111111,
              "#46039f"
             ],
             [
              0.2222222222222222,
              "#7201a8"
             ],
             [
              0.3333333333333333,
              "#9c179e"
             ],
             [
              0.4444444444444444,
              "#bd3786"
             ],
             [
              0.5555555555555556,
              "#d8576b"
             ],
             [
              0.6666666666666666,
              "#ed7953"
             ],
             [
              0.7777777777777778,
              "#fb9f3a"
             ],
             [
              0.8888888888888888,
              "#fdca26"
             ],
             [
              1,
              "#f0f921"
             ]
            ],
            "type": "histogram2dcontour"
           }
          ],
          "mesh3d": [
           {
            "colorbar": {
             "outlinewidth": 0,
             "ticks": ""
            },
            "type": "mesh3d"
           }
          ],
          "parcoords": [
           {
            "line": {
             "colorbar": {
              "outlinewidth": 0,
              "ticks": ""
             }
            },
            "type": "parcoords"
           }
          ],
          "pie": [
           {
            "automargin": true,
            "type": "pie"
           }
          ],
          "scatter": [
           {
            "marker": {
             "colorbar": {
              "outlinewidth": 0,
              "ticks": ""
             }
            },
            "type": "scatter"
           }
          ],
          "scatter3d": [
           {
            "line": {
             "colorbar": {
              "outlinewidth": 0,
              "ticks": ""
             }
            },
            "marker": {
             "colorbar": {
              "outlinewidth": 0,
              "ticks": ""
             }
            },
            "type": "scatter3d"
           }
          ],
          "scattercarpet": [
           {
            "marker": {
             "colorbar": {
              "outlinewidth": 0,
              "ticks": ""
             }
            },
            "type": "scattercarpet"
           }
          ],
          "scattergeo": [
           {
            "marker": {
             "colorbar": {
              "outlinewidth": 0,
              "ticks": ""
             }
            },
            "type": "scattergeo"
           }
          ],
          "scattergl": [
           {
            "marker": {
             "colorbar": {
              "outlinewidth": 0,
              "ticks": ""
             }
            },
            "type": "scattergl"
           }
          ],
          "scattermapbox": [
           {
            "marker": {
             "colorbar": {
              "outlinewidth": 0,
              "ticks": ""
             }
            },
            "type": "scattermapbox"
           }
          ],
          "scatterpolar": [
           {
            "marker": {
             "colorbar": {
              "outlinewidth": 0,
              "ticks": ""
             }
            },
            "type": "scatterpolar"
           }
          ],
          "scatterpolargl": [
           {
            "marker": {
             "colorbar": {
              "outlinewidth": 0,
              "ticks": ""
             }
            },
            "type": "scatterpolargl"
           }
          ],
          "scatterternary": [
           {
            "marker": {
             "colorbar": {
              "outlinewidth": 0,
              "ticks": ""
             }
            },
            "type": "scatterternary"
           }
          ],
          "surface": [
           {
            "colorbar": {
             "outlinewidth": 0,
             "ticks": ""
            },
            "colorscale": [
             [
              0,
              "#0d0887"
             ],
             [
              0.1111111111111111,
              "#46039f"
             ],
             [
              0.2222222222222222,
              "#7201a8"
             ],
             [
              0.3333333333333333,
              "#9c179e"
             ],
             [
              0.4444444444444444,
              "#bd3786"
             ],
             [
              0.5555555555555556,
              "#d8576b"
             ],
             [
              0.6666666666666666,
              "#ed7953"
             ],
             [
              0.7777777777777778,
              "#fb9f3a"
             ],
             [
              0.8888888888888888,
              "#fdca26"
             ],
             [
              1,
              "#f0f921"
             ]
            ],
            "type": "surface"
           }
          ],
          "table": [
           {
            "cells": {
             "fill": {
              "color": "#EBF0F8"
             },
             "line": {
              "color": "white"
             }
            },
            "header": {
             "fill": {
              "color": "#C8D4E3"
             },
             "line": {
              "color": "white"
             }
            },
            "type": "table"
           }
          ]
         },
         "layout": {
          "annotationdefaults": {
           "arrowcolor": "#2a3f5f",
           "arrowhead": 0,
           "arrowwidth": 1
          },
          "coloraxis": {
           "colorbar": {
            "outlinewidth": 0,
            "ticks": ""
           }
          },
          "colorscale": {
           "diverging": [
            [
             0,
             "#8e0152"
            ],
            [
             0.1,
             "#c51b7d"
            ],
            [
             0.2,
             "#de77ae"
            ],
            [
             0.3,
             "#f1b6da"
            ],
            [
             0.4,
             "#fde0ef"
            ],
            [
             0.5,
             "#f7f7f7"
            ],
            [
             0.6,
             "#e6f5d0"
            ],
            [
             0.7,
             "#b8e186"
            ],
            [
             0.8,
             "#7fbc41"
            ],
            [
             0.9,
             "#4d9221"
            ],
            [
             1,
             "#276419"
            ]
           ],
           "sequential": [
            [
             0,
             "#0d0887"
            ],
            [
             0.1111111111111111,
             "#46039f"
            ],
            [
             0.2222222222222222,
             "#7201a8"
            ],
            [
             0.3333333333333333,
             "#9c179e"
            ],
            [
             0.4444444444444444,
             "#bd3786"
            ],
            [
             0.5555555555555556,
             "#d8576b"
            ],
            [
             0.6666666666666666,
             "#ed7953"
            ],
            [
             0.7777777777777778,
             "#fb9f3a"
            ],
            [
             0.8888888888888888,
             "#fdca26"
            ],
            [
             1,
             "#f0f921"
            ]
           ],
           "sequentialminus": [
            [
             0,
             "#0d0887"
            ],
            [
             0.1111111111111111,
             "#46039f"
            ],
            [
             0.2222222222222222,
             "#7201a8"
            ],
            [
             0.3333333333333333,
             "#9c179e"
            ],
            [
             0.4444444444444444,
             "#bd3786"
            ],
            [
             0.5555555555555556,
             "#d8576b"
            ],
            [
             0.6666666666666666,
             "#ed7953"
            ],
            [
             0.7777777777777778,
             "#fb9f3a"
            ],
            [
             0.8888888888888888,
             "#fdca26"
            ],
            [
             1,
             "#f0f921"
            ]
           ]
          },
          "colorway": [
           "#636efa",
           "#EF553B",
           "#00cc96",
           "#ab63fa",
           "#FFA15A",
           "#19d3f3",
           "#FF6692",
           "#B6E880",
           "#FF97FF",
           "#FECB52"
          ],
          "font": {
           "color": "#2a3f5f"
          },
          "geo": {
           "bgcolor": "white",
           "lakecolor": "white",
           "landcolor": "#E5ECF6",
           "showlakes": true,
           "showland": true,
           "subunitcolor": "white"
          },
          "hoverlabel": {
           "align": "left"
          },
          "hovermode": "closest",
          "mapbox": {
           "style": "light"
          },
          "paper_bgcolor": "white",
          "plot_bgcolor": "#E5ECF6",
          "polar": {
           "angularaxis": {
            "gridcolor": "white",
            "linecolor": "white",
            "ticks": ""
           },
           "bgcolor": "#E5ECF6",
           "radialaxis": {
            "gridcolor": "white",
            "linecolor": "white",
            "ticks": ""
           }
          },
          "scene": {
           "xaxis": {
            "backgroundcolor": "#E5ECF6",
            "gridcolor": "white",
            "gridwidth": 2,
            "linecolor": "white",
            "showbackground": true,
            "ticks": "",
            "zerolinecolor": "white"
           },
           "yaxis": {
            "backgroundcolor": "#E5ECF6",
            "gridcolor": "white",
            "gridwidth": 2,
            "linecolor": "white",
            "showbackground": true,
            "ticks": "",
            "zerolinecolor": "white"
           },
           "zaxis": {
            "backgroundcolor": "#E5ECF6",
            "gridcolor": "white",
            "gridwidth": 2,
            "linecolor": "white",
            "showbackground": true,
            "ticks": "",
            "zerolinecolor": "white"
           }
          },
          "shapedefaults": {
           "line": {
            "color": "#2a3f5f"
           }
          },
          "ternary": {
           "aaxis": {
            "gridcolor": "white",
            "linecolor": "white",
            "ticks": ""
           },
           "baxis": {
            "gridcolor": "white",
            "linecolor": "white",
            "ticks": ""
           },
           "bgcolor": "#E5ECF6",
           "caxis": {
            "gridcolor": "white",
            "linecolor": "white",
            "ticks": ""
           }
          },
          "title": {
           "x": 0.05
          },
          "xaxis": {
           "automargin": true,
           "gridcolor": "white",
           "linecolor": "white",
           "ticks": "",
           "title": {
            "standoff": 15
           },
           "zerolinecolor": "white",
           "zerolinewidth": 2
          },
          "yaxis": {
           "automargin": true,
           "gridcolor": "white",
           "linecolor": "white",
           "ticks": "",
           "title": {
            "standoff": 15
           },
           "zerolinecolor": "white",
           "zerolinewidth": 2
          }
         }
        },
        "title": {
         "text": "Porcentagem de fumantes em relação ao DEATH_EVENT"
        }
       }
      }
     },
     "metadata": {}
    }
   ],
   "source": [
    "px.pie(dados, values='smoking',names='DEATH_EVENT', title='Porcentagem de fumantes em relação ao DEATH_EVENT')"
   ]
  },
  {
   "source": [
    "Com este, foi possível concluir que fumar não é um habito que influência de maneira significativa nas taxas de mortalidade."
   ],
   "cell_type": "markdown",
   "metadata": {}
  },
  {
   "source": [
    "### Hipertensão x DEATH_EVENT:"
   ],
   "cell_type": "markdown",
   "metadata": {}
  },
  {
   "source": [
    "Tabela de frequências para entedermos melhor o comportamento da hipertensão com o evento de morte e o gráfico de setores abaixo"
   ],
   "cell_type": "markdown",
   "metadata": {}
  },
  {
   "cell_type": "code",
   "execution_count": 27,
   "metadata": {},
   "outputs": [
    {
     "output_type": "execute_result",
     "data": {
      "text/plain": [
       "DEATH_EVENT                 0         1\n",
       "high_blood_pressure                    \n",
       "0                    0.706186  0.293814\n",
       "1                    0.628571  0.371429\n",
       "All                  0.678930  0.321070"
      ],
      "text/html": "<div>\n<style scoped>\n    .dataframe tbody tr th:only-of-type {\n        vertical-align: middle;\n    }\n\n    .dataframe tbody tr th {\n        vertical-align: top;\n    }\n\n    .dataframe thead th {\n        text-align: right;\n    }\n</style>\n<table border=\"1\" class=\"dataframe\">\n  <thead>\n    <tr style=\"text-align: right;\">\n      <th>DEATH_EVENT</th>\n      <th>0</th>\n      <th>1</th>\n    </tr>\n    <tr>\n      <th>high_blood_pressure</th>\n      <th></th>\n      <th></th>\n    </tr>\n  </thead>\n  <tbody>\n    <tr>\n      <td>0</td>\n      <td>0.706186</td>\n      <td>0.293814</td>\n    </tr>\n    <tr>\n      <td>1</td>\n      <td>0.628571</td>\n      <td>0.371429</td>\n    </tr>\n    <tr>\n      <td>All</td>\n      <td>0.678930</td>\n      <td>0.321070</td>\n    </tr>\n  </tbody>\n</table>\n</div>"
     },
     "metadata": {},
     "execution_count": 27
    }
   ],
   "source": [
    "pd.crosstab(dados.high_blood_pressure,dados.DEATH_EVENT, normalize='index', margins=True)"
   ]
  },
  {
   "cell_type": "code",
   "execution_count": 28,
   "metadata": {},
   "outputs": [
    {
     "output_type": "display_data",
     "data": {
      "application/vnd.plotly.v1+json": {
       "config": {
        "plotlyServerURL": "https://plot.ly"
       },
       "data": [
        {
         "domain": {
          "x": [
           0,
           1
          ],
          "y": [
           0,
           1
          ]
         },
         "hovertemplate": "DEATH_EVENT=%{label}<br>high_blood_pressure=%{value}<extra></extra>",
         "labels": [
          1,
          1,
          1,
          1,
          1,
          1,
          1,
          1,
          1,
          1,
          1,
          1,
          1,
          1,
          0,
          1,
          1,
          1,
          1,
          1,
          0,
          1,
          1,
          0,
          1,
          1,
          1,
          1,
          1,
          1,
          1,
          1,
          1,
          0,
          1,
          1,
          1,
          1,
          0,
          1,
          1,
          1,
          1,
          0,
          1,
          1,
          1,
          1,
          1,
          1,
          1,
          1,
          1,
          1,
          1,
          1,
          0,
          0,
          1,
          1,
          1,
          1,
          0,
          1,
          0,
          1,
          1,
          1,
          1,
          1,
          0,
          0,
          1,
          0,
          1,
          1,
          0,
          0,
          0,
          0,
          0,
          0,
          1,
          0,
          1,
          0,
          0,
          0,
          0,
          0,
          0,
          0,
          0,
          1,
          0,
          0,
          0,
          0,
          0,
          0,
          0,
          0,
          0,
          0,
          0,
          1,
          0,
          0,
          0,
          0,
          1,
          0,
          0,
          1,
          0,
          0,
          0,
          0,
          0,
          1,
          0,
          0,
          0,
          0,
          1,
          0,
          1,
          0,
          0,
          0,
          0,
          0,
          0,
          0,
          0,
          0,
          0,
          0,
          0,
          0,
          1,
          0,
          0,
          0,
          1,
          0,
          0,
          0,
          1,
          0,
          1,
          0,
          0,
          0,
          0,
          0,
          0,
          0,
          0,
          0,
          0,
          0,
          0,
          1,
          1,
          1,
          0,
          1,
          0,
          0,
          0,
          0,
          0,
          0,
          0,
          0,
          0,
          0,
          0,
          0,
          0,
          1,
          1,
          1,
          1,
          1,
          1,
          1,
          0,
          0,
          0,
          0,
          0,
          0,
          1,
          1,
          0,
          0,
          0,
          0,
          0,
          0,
          0,
          0,
          0,
          0,
          0,
          0,
          0,
          0,
          0,
          0,
          0,
          1,
          0,
          0,
          0,
          1,
          0,
          0,
          1,
          0,
          0,
          0,
          0,
          0,
          0,
          0,
          0,
          0,
          1,
          0,
          0,
          0,
          0,
          0,
          0,
          0,
          0,
          0,
          0,
          0,
          0,
          0,
          0,
          0,
          1,
          0,
          0,
          0,
          0,
          0,
          0,
          0,
          0,
          0,
          0,
          0,
          0,
          0,
          0,
          0,
          1,
          0,
          0,
          0,
          1,
          0,
          0,
          0,
          0,
          0,
          0,
          0,
          0,
          0,
          0,
          0,
          0,
          0,
          0,
          0,
          0,
          0,
          0,
          0,
          0,
          0,
          0,
          0,
          0,
          0,
          0,
          0,
          0,
          0,
          0,
          0,
          0
         ],
         "legendgroup": "",
         "name": "",
         "showlegend": true,
         "type": "pie",
         "values": [
          1,
          0,
          0,
          0,
          0,
          1,
          0,
          0,
          0,
          1,
          1,
          1,
          0,
          1,
          1,
          0,
          0,
          0,
          1,
          0,
          1,
          1,
          1,
          0,
          1,
          0,
          1,
          1,
          0,
          0,
          1,
          0,
          1,
          0,
          1,
          0,
          0,
          1,
          0,
          0,
          1,
          1,
          1,
          1,
          0,
          0,
          1,
          1,
          1,
          0,
          1,
          1,
          0,
          1,
          0,
          0,
          0,
          0,
          1,
          1,
          1,
          1,
          0,
          0,
          0,
          0,
          0,
          0,
          0,
          0,
          0,
          0,
          0,
          0,
          0,
          0,
          1,
          0,
          1,
          1,
          0,
          0,
          0,
          1,
          1,
          0,
          1,
          1,
          1,
          1,
          0,
          0,
          0,
          0,
          1,
          1,
          1,
          0,
          1,
          0,
          0,
          1,
          0,
          0,
          1,
          1,
          0,
          0,
          0,
          0,
          0,
          0,
          0,
          0,
          1,
          0,
          1,
          0,
          1,
          0,
          1,
          1,
          0,
          1,
          0,
          0,
          1,
          0,
          1,
          0,
          1,
          0,
          1,
          1,
          0,
          0,
          0,
          0,
          0,
          1,
          0,
          0,
          0,
          1,
          1,
          0,
          0,
          0,
          0,
          1,
          1,
          1,
          1,
          0,
          1,
          0,
          0,
          0,
          0,
          1,
          1,
          0,
          0,
          0,
          0,
          1,
          0,
          0,
          0,
          1,
          0,
          0,
          1,
          0,
          1,
          0,
          0,
          0,
          0,
          0,
          0,
          0,
          0,
          1,
          0,
          0,
          0,
          0,
          1,
          1,
          0,
          0,
          0,
          0,
          1,
          0,
          1,
          0,
          1,
          0,
          0,
          1,
          1,
          1,
          0,
          0,
          0,
          0,
          0,
          1,
          1,
          1,
          0,
          1,
          1,
          1,
          1,
          1,
          0,
          1,
          0,
          0,
          0,
          0,
          0,
          0,
          0,
          1,
          0,
          0,
          0,
          0,
          0,
          0,
          0,
          1,
          1,
          0,
          0,
          0,
          1,
          0,
          0,
          1,
          0,
          0,
          0,
          0,
          0,
          0,
          1,
          0,
          1,
          1,
          1,
          1,
          0,
          1,
          0,
          0,
          0,
          0,
          0,
          0,
          0,
          0,
          0,
          0,
          0,
          0,
          1,
          0,
          0,
          0,
          0,
          1,
          0,
          0,
          0,
          0,
          0,
          0,
          0,
          0,
          0,
          0,
          0,
          0,
          0,
          0,
          0,
          0,
          0,
          0,
          1,
          0,
          0,
          0,
          0
         ]
        }
       ],
       "layout": {
        "legend": {
         "tracegroupgap": 0
        },
        "template": {
         "data": {
          "bar": [
           {
            "error_x": {
             "color": "#2a3f5f"
            },
            "error_y": {
             "color": "#2a3f5f"
            },
            "marker": {
             "line": {
              "color": "#E5ECF6",
              "width": 0.5
             }
            },
            "type": "bar"
           }
          ],
          "barpolar": [
           {
            "marker": {
             "line": {
              "color": "#E5ECF6",
              "width": 0.5
             }
            },
            "type": "barpolar"
           }
          ],
          "carpet": [
           {
            "aaxis": {
             "endlinecolor": "#2a3f5f",
             "gridcolor": "white",
             "linecolor": "white",
             "minorgridcolor": "white",
             "startlinecolor": "#2a3f5f"
            },
            "baxis": {
             "endlinecolor": "#2a3f5f",
             "gridcolor": "white",
             "linecolor": "white",
             "minorgridcolor": "white",
             "startlinecolor": "#2a3f5f"
            },
            "type": "carpet"
           }
          ],
          "choropleth": [
           {
            "colorbar": {
             "outlinewidth": 0,
             "ticks": ""
            },
            "type": "choropleth"
           }
          ],
          "contour": [
           {
            "colorbar": {
             "outlinewidth": 0,
             "ticks": ""
            },
            "colorscale": [
             [
              0,
              "#0d0887"
             ],
             [
              0.1111111111111111,
              "#46039f"
             ],
             [
              0.2222222222222222,
              "#7201a8"
             ],
             [
              0.3333333333333333,
              "#9c179e"
             ],
             [
              0.4444444444444444,
              "#bd3786"
             ],
             [
              0.5555555555555556,
              "#d8576b"
             ],
             [
              0.6666666666666666,
              "#ed7953"
             ],
             [
              0.7777777777777778,
              "#fb9f3a"
             ],
             [
              0.8888888888888888,
              "#fdca26"
             ],
             [
              1,
              "#f0f921"
             ]
            ],
            "type": "contour"
           }
          ],
          "contourcarpet": [
           {
            "colorbar": {
             "outlinewidth": 0,
             "ticks": ""
            },
            "type": "contourcarpet"
           }
          ],
          "heatmap": [
           {
            "colorbar": {
             "outlinewidth": 0,
             "ticks": ""
            },
            "colorscale": [
             [
              0,
              "#0d0887"
             ],
             [
              0.1111111111111111,
              "#46039f"
             ],
             [
              0.2222222222222222,
              "#7201a8"
             ],
             [
              0.3333333333333333,
              "#9c179e"
             ],
             [
              0.4444444444444444,
              "#bd3786"
             ],
             [
              0.5555555555555556,
              "#d8576b"
             ],
             [
              0.6666666666666666,
              "#ed7953"
             ],
             [
              0.7777777777777778,
              "#fb9f3a"
             ],
             [
              0.8888888888888888,
              "#fdca26"
             ],
             [
              1,
              "#f0f921"
             ]
            ],
            "type": "heatmap"
           }
          ],
          "heatmapgl": [
           {
            "colorbar": {
             "outlinewidth": 0,
             "ticks": ""
            },
            "colorscale": [
             [
              0,
              "#0d0887"
             ],
             [
              0.1111111111111111,
              "#46039f"
             ],
             [
              0.2222222222222222,
              "#7201a8"
             ],
             [
              0.3333333333333333,
              "#9c179e"
             ],
             [
              0.4444444444444444,
              "#bd3786"
             ],
             [
              0.5555555555555556,
              "#d8576b"
             ],
             [
              0.6666666666666666,
              "#ed7953"
             ],
             [
              0.7777777777777778,
              "#fb9f3a"
             ],
             [
              0.8888888888888888,
              "#fdca26"
             ],
             [
              1,
              "#f0f921"
             ]
            ],
            "type": "heatmapgl"
           }
          ],
          "histogram": [
           {
            "marker": {
             "colorbar": {
              "outlinewidth": 0,
              "ticks": ""
             }
            },
            "type": "histogram"
           }
          ],
          "histogram2d": [
           {
            "colorbar": {
             "outlinewidth": 0,
             "ticks": ""
            },
            "colorscale": [
             [
              0,
              "#0d0887"
             ],
             [
              0.1111111111111111,
              "#46039f"
             ],
             [
              0.2222222222222222,
              "#7201a8"
             ],
             [
              0.3333333333333333,
              "#9c179e"
             ],
             [
              0.4444444444444444,
              "#bd3786"
             ],
             [
              0.5555555555555556,
              "#d8576b"
             ],
             [
              0.6666666666666666,
              "#ed7953"
             ],
             [
              0.7777777777777778,
              "#fb9f3a"
             ],
             [
              0.8888888888888888,
              "#fdca26"
             ],
             [
              1,
              "#f0f921"
             ]
            ],
            "type": "histogram2d"
           }
          ],
          "histogram2dcontour": [
           {
            "colorbar": {
             "outlinewidth": 0,
             "ticks": ""
            },
            "colorscale": [
             [
              0,
              "#0d0887"
             ],
             [
              0.1111111111111111,
              "#46039f"
             ],
             [
              0.2222222222222222,
              "#7201a8"
             ],
             [
              0.3333333333333333,
              "#9c179e"
             ],
             [
              0.4444444444444444,
              "#bd3786"
             ],
             [
              0.5555555555555556,
              "#d8576b"
             ],
             [
              0.6666666666666666,
              "#ed7953"
             ],
             [
              0.7777777777777778,
              "#fb9f3a"
             ],
             [
              0.8888888888888888,
              "#fdca26"
             ],
             [
              1,
              "#f0f921"
             ]
            ],
            "type": "histogram2dcontour"
           }
          ],
          "mesh3d": [
           {
            "colorbar": {
             "outlinewidth": 0,
             "ticks": ""
            },
            "type": "mesh3d"
           }
          ],
          "parcoords": [
           {
            "line": {
             "colorbar": {
              "outlinewidth": 0,
              "ticks": ""
             }
            },
            "type": "parcoords"
           }
          ],
          "pie": [
           {
            "automargin": true,
            "type": "pie"
           }
          ],
          "scatter": [
           {
            "marker": {
             "colorbar": {
              "outlinewidth": 0,
              "ticks": ""
             }
            },
            "type": "scatter"
           }
          ],
          "scatter3d": [
           {
            "line": {
             "colorbar": {
              "outlinewidth": 0,
              "ticks": ""
             }
            },
            "marker": {
             "colorbar": {
              "outlinewidth": 0,
              "ticks": ""
             }
            },
            "type": "scatter3d"
           }
          ],
          "scattercarpet": [
           {
            "marker": {
             "colorbar": {
              "outlinewidth": 0,
              "ticks": ""
             }
            },
            "type": "scattercarpet"
           }
          ],
          "scattergeo": [
           {
            "marker": {
             "colorbar": {
              "outlinewidth": 0,
              "ticks": ""
             }
            },
            "type": "scattergeo"
           }
          ],
          "scattergl": [
           {
            "marker": {
             "colorbar": {
              "outlinewidth": 0,
              "ticks": ""
             }
            },
            "type": "scattergl"
           }
          ],
          "scattermapbox": [
           {
            "marker": {
             "colorbar": {
              "outlinewidth": 0,
              "ticks": ""
             }
            },
            "type": "scattermapbox"
           }
          ],
          "scatterpolar": [
           {
            "marker": {
             "colorbar": {
              "outlinewidth": 0,
              "ticks": ""
             }
            },
            "type": "scatterpolar"
           }
          ],
          "scatterpolargl": [
           {
            "marker": {
             "colorbar": {
              "outlinewidth": 0,
              "ticks": ""
             }
            },
            "type": "scatterpolargl"
           }
          ],
          "scatterternary": [
           {
            "marker": {
             "colorbar": {
              "outlinewidth": 0,
              "ticks": ""
             }
            },
            "type": "scatterternary"
           }
          ],
          "surface": [
           {
            "colorbar": {
             "outlinewidth": 0,
             "ticks": ""
            },
            "colorscale": [
             [
              0,
              "#0d0887"
             ],
             [
              0.1111111111111111,
              "#46039f"
             ],
             [
              0.2222222222222222,
              "#7201a8"
             ],
             [
              0.3333333333333333,
              "#9c179e"
             ],
             [
              0.4444444444444444,
              "#bd3786"
             ],
             [
              0.5555555555555556,
              "#d8576b"
             ],
             [
              0.6666666666666666,
              "#ed7953"
             ],
             [
              0.7777777777777778,
              "#fb9f3a"
             ],
             [
              0.8888888888888888,
              "#fdca26"
             ],
             [
              1,
              "#f0f921"
             ]
            ],
            "type": "surface"
           }
          ],
          "table": [
           {
            "cells": {
             "fill": {
              "color": "#EBF0F8"
             },
             "line": {
              "color": "white"
             }
            },
            "header": {
             "fill": {
              "color": "#C8D4E3"
             },
             "line": {
              "color": "white"
             }
            },
            "type": "table"
           }
          ]
         },
         "layout": {
          "annotationdefaults": {
           "arrowcolor": "#2a3f5f",
           "arrowhead": 0,
           "arrowwidth": 1
          },
          "coloraxis": {
           "colorbar": {
            "outlinewidth": 0,
            "ticks": ""
           }
          },
          "colorscale": {
           "diverging": [
            [
             0,
             "#8e0152"
            ],
            [
             0.1,
             "#c51b7d"
            ],
            [
             0.2,
             "#de77ae"
            ],
            [
             0.3,
             "#f1b6da"
            ],
            [
             0.4,
             "#fde0ef"
            ],
            [
             0.5,
             "#f7f7f7"
            ],
            [
             0.6,
             "#e6f5d0"
            ],
            [
             0.7,
             "#b8e186"
            ],
            [
             0.8,
             "#7fbc41"
            ],
            [
             0.9,
             "#4d9221"
            ],
            [
             1,
             "#276419"
            ]
           ],
           "sequential": [
            [
             0,
             "#0d0887"
            ],
            [
             0.1111111111111111,
             "#46039f"
            ],
            [
             0.2222222222222222,
             "#7201a8"
            ],
            [
             0.3333333333333333,
             "#9c179e"
            ],
            [
             0.4444444444444444,
             "#bd3786"
            ],
            [
             0.5555555555555556,
             "#d8576b"
            ],
            [
             0.6666666666666666,
             "#ed7953"
            ],
            [
             0.7777777777777778,
             "#fb9f3a"
            ],
            [
             0.8888888888888888,
             "#fdca26"
            ],
            [
             1,
             "#f0f921"
            ]
           ],
           "sequentialminus": [
            [
             0,
             "#0d0887"
            ],
            [
             0.1111111111111111,
             "#46039f"
            ],
            [
             0.2222222222222222,
             "#7201a8"
            ],
            [
             0.3333333333333333,
             "#9c179e"
            ],
            [
             0.4444444444444444,
             "#bd3786"
            ],
            [
             0.5555555555555556,
             "#d8576b"
            ],
            [
             0.6666666666666666,
             "#ed7953"
            ],
            [
             0.7777777777777778,
             "#fb9f3a"
            ],
            [
             0.8888888888888888,
             "#fdca26"
            ],
            [
             1,
             "#f0f921"
            ]
           ]
          },
          "colorway": [
           "#636efa",
           "#EF553B",
           "#00cc96",
           "#ab63fa",
           "#FFA15A",
           "#19d3f3",
           "#FF6692",
           "#B6E880",
           "#FF97FF",
           "#FECB52"
          ],
          "font": {
           "color": "#2a3f5f"
          },
          "geo": {
           "bgcolor": "white",
           "lakecolor": "white",
           "landcolor": "#E5ECF6",
           "showlakes": true,
           "showland": true,
           "subunitcolor": "white"
          },
          "hoverlabel": {
           "align": "left"
          },
          "hovermode": "closest",
          "mapbox": {
           "style": "light"
          },
          "paper_bgcolor": "white",
          "plot_bgcolor": "#E5ECF6",
          "polar": {
           "angularaxis": {
            "gridcolor": "white",
            "linecolor": "white",
            "ticks": ""
           },
           "bgcolor": "#E5ECF6",
           "radialaxis": {
            "gridcolor": "white",
            "linecolor": "white",
            "ticks": ""
           }
          },
          "scene": {
           "xaxis": {
            "backgroundcolor": "#E5ECF6",
            "gridcolor": "white",
            "gridwidth": 2,
            "linecolor": "white",
            "showbackground": true,
            "ticks": "",
            "zerolinecolor": "white"
           },
           "yaxis": {
            "backgroundcolor": "#E5ECF6",
            "gridcolor": "white",
            "gridwidth": 2,
            "linecolor": "white",
            "showbackground": true,
            "ticks": "",
            "zerolinecolor": "white"
           },
           "zaxis": {
            "backgroundcolor": "#E5ECF6",
            "gridcolor": "white",
            "gridwidth": 2,
            "linecolor": "white",
            "showbackground": true,
            "ticks": "",
            "zerolinecolor": "white"
           }
          },
          "shapedefaults": {
           "line": {
            "color": "#2a3f5f"
           }
          },
          "ternary": {
           "aaxis": {
            "gridcolor": "white",
            "linecolor": "white",
            "ticks": ""
           },
           "baxis": {
            "gridcolor": "white",
            "linecolor": "white",
            "ticks": ""
           },
           "bgcolor": "#E5ECF6",
           "caxis": {
            "gridcolor": "white",
            "linecolor": "white",
            "ticks": ""
           }
          },
          "title": {
           "x": 0.05
          },
          "xaxis": {
           "automargin": true,
           "gridcolor": "white",
           "linecolor": "white",
           "ticks": "",
           "title": {
            "standoff": 15
           },
           "zerolinecolor": "white",
           "zerolinewidth": 2
          },
          "yaxis": {
           "automargin": true,
           "gridcolor": "white",
           "linecolor": "white",
           "ticks": "",
           "title": {
            "standoff": 15
           },
           "zerolinecolor": "white",
           "zerolinewidth": 2
          }
         }
        },
        "title": {
         "text": "Porcentagem de hipertensos em relação ao DEATH_EVENT"
        }
       }
      }
     },
     "metadata": {}
    }
   ],
   "source": [
    "px.pie(dados, values='high_blood_pressure',names='DEATH_EVENT', title='Porcentagem de hipertensos em relação ao DEATH_EVENT')"
   ]
  },
  {
   "source": [
    "Neste gráfico de setores, foi possível analisar que há um impacto moderado da pressão alta nas taxas de mortalidade."
   ],
   "cell_type": "markdown",
   "metadata": {}
  },
  {
   "source": [
    "### Gênero x DEATH_EVENT:"
   ],
   "cell_type": "markdown",
   "metadata": {}
  },
  {
   "source": [
    "Tabela de frequências para entedermos melhor o comportamento do gênero com o evento de morte e o gráfico de setores abaixo"
   ],
   "cell_type": "markdown",
   "metadata": {}
  },
  {
   "cell_type": "code",
   "execution_count": 29,
   "metadata": {},
   "outputs": [
    {
     "output_type": "execute_result",
     "data": {
      "text/plain": [
       "DEATH_EVENT         0         1\n",
       "sex                            \n",
       "0            0.237458  0.113712\n",
       "1            0.441472  0.207358"
      ],
      "text/html": "<div>\n<style scoped>\n    .dataframe tbody tr th:only-of-type {\n        vertical-align: middle;\n    }\n\n    .dataframe tbody tr th {\n        vertical-align: top;\n    }\n\n    .dataframe thead th {\n        text-align: right;\n    }\n</style>\n<table border=\"1\" class=\"dataframe\">\n  <thead>\n    <tr style=\"text-align: right;\">\n      <th>DEATH_EVENT</th>\n      <th>0</th>\n      <th>1</th>\n    </tr>\n    <tr>\n      <th>sex</th>\n      <th></th>\n      <th></th>\n    </tr>\n  </thead>\n  <tbody>\n    <tr>\n      <td>0</td>\n      <td>0.237458</td>\n      <td>0.113712</td>\n    </tr>\n    <tr>\n      <td>1</td>\n      <td>0.441472</td>\n      <td>0.207358</td>\n    </tr>\n  </tbody>\n</table>\n</div>"
     },
     "metadata": {},
     "execution_count": 29
    }
   ],
   "source": [
    "pd.crosstab(dados.sex,dados.DEATH_EVENT, normalize=True)"
   ]
  },
  {
   "cell_type": "code",
   "execution_count": 30,
   "metadata": {},
   "outputs": [
    {
     "output_type": "display_data",
     "data": {
      "application/vnd.plotly.v1+json": {
       "config": {
        "plotlyServerURL": "https://plot.ly"
       },
       "data": [
        {
         "hole": 0.35,
         "labels": [
          "Homens - Sobreviventes",
          "Mulheres - Sobreviventes ",
          "Homem -Não Sobreviventes",
          "Mulheres - Não Sobreviventes"
         ],
         "type": "pie",
         "values": [
          132,
          71,
          62,
          34
         ]
        }
       ],
       "layout": {
        "template": {
         "data": {
          "bar": [
           {
            "error_x": {
             "color": "#2a3f5f"
            },
            "error_y": {
             "color": "#2a3f5f"
            },
            "marker": {
             "line": {
              "color": "#E5ECF6",
              "width": 0.5
             }
            },
            "type": "bar"
           }
          ],
          "barpolar": [
           {
            "marker": {
             "line": {
              "color": "#E5ECF6",
              "width": 0.5
             }
            },
            "type": "barpolar"
           }
          ],
          "carpet": [
           {
            "aaxis": {
             "endlinecolor": "#2a3f5f",
             "gridcolor": "white",
             "linecolor": "white",
             "minorgridcolor": "white",
             "startlinecolor": "#2a3f5f"
            },
            "baxis": {
             "endlinecolor": "#2a3f5f",
             "gridcolor": "white",
             "linecolor": "white",
             "minorgridcolor": "white",
             "startlinecolor": "#2a3f5f"
            },
            "type": "carpet"
           }
          ],
          "choropleth": [
           {
            "colorbar": {
             "outlinewidth": 0,
             "ticks": ""
            },
            "type": "choropleth"
           }
          ],
          "contour": [
           {
            "colorbar": {
             "outlinewidth": 0,
             "ticks": ""
            },
            "colorscale": [
             [
              0,
              "#0d0887"
             ],
             [
              0.1111111111111111,
              "#46039f"
             ],
             [
              0.2222222222222222,
              "#7201a8"
             ],
             [
              0.3333333333333333,
              "#9c179e"
             ],
             [
              0.4444444444444444,
              "#bd3786"
             ],
             [
              0.5555555555555556,
              "#d8576b"
             ],
             [
              0.6666666666666666,
              "#ed7953"
             ],
             [
              0.7777777777777778,
              "#fb9f3a"
             ],
             [
              0.8888888888888888,
              "#fdca26"
             ],
             [
              1,
              "#f0f921"
             ]
            ],
            "type": "contour"
           }
          ],
          "contourcarpet": [
           {
            "colorbar": {
             "outlinewidth": 0,
             "ticks": ""
            },
            "type": "contourcarpet"
           }
          ],
          "heatmap": [
           {
            "colorbar": {
             "outlinewidth": 0,
             "ticks": ""
            },
            "colorscale": [
             [
              0,
              "#0d0887"
             ],
             [
              0.1111111111111111,
              "#46039f"
             ],
             [
              0.2222222222222222,
              "#7201a8"
             ],
             [
              0.3333333333333333,
              "#9c179e"
             ],
             [
              0.4444444444444444,
              "#bd3786"
             ],
             [
              0.5555555555555556,
              "#d8576b"
             ],
             [
              0.6666666666666666,
              "#ed7953"
             ],
             [
              0.7777777777777778,
              "#fb9f3a"
             ],
             [
              0.8888888888888888,
              "#fdca26"
             ],
             [
              1,
              "#f0f921"
             ]
            ],
            "type": "heatmap"
           }
          ],
          "heatmapgl": [
           {
            "colorbar": {
             "outlinewidth": 0,
             "ticks": ""
            },
            "colorscale": [
             [
              0,
              "#0d0887"
             ],
             [
              0.1111111111111111,
              "#46039f"
             ],
             [
              0.2222222222222222,
              "#7201a8"
             ],
             [
              0.3333333333333333,
              "#9c179e"
             ],
             [
              0.4444444444444444,
              "#bd3786"
             ],
             [
              0.5555555555555556,
              "#d8576b"
             ],
             [
              0.6666666666666666,
              "#ed7953"
             ],
             [
              0.7777777777777778,
              "#fb9f3a"
             ],
             [
              0.8888888888888888,
              "#fdca26"
             ],
             [
              1,
              "#f0f921"
             ]
            ],
            "type": "heatmapgl"
           }
          ],
          "histogram": [
           {
            "marker": {
             "colorbar": {
              "outlinewidth": 0,
              "ticks": ""
             }
            },
            "type": "histogram"
           }
          ],
          "histogram2d": [
           {
            "colorbar": {
             "outlinewidth": 0,
             "ticks": ""
            },
            "colorscale": [
             [
              0,
              "#0d0887"
             ],
             [
              0.1111111111111111,
              "#46039f"
             ],
             [
              0.2222222222222222,
              "#7201a8"
             ],
             [
              0.3333333333333333,
              "#9c179e"
             ],
             [
              0.4444444444444444,
              "#bd3786"
             ],
             [
              0.5555555555555556,
              "#d8576b"
             ],
             [
              0.6666666666666666,
              "#ed7953"
             ],
             [
              0.7777777777777778,
              "#fb9f3a"
             ],
             [
              0.8888888888888888,
              "#fdca26"
             ],
             [
              1,
              "#f0f921"
             ]
            ],
            "type": "histogram2d"
           }
          ],
          "histogram2dcontour": [
           {
            "colorbar": {
             "outlinewidth": 0,
             "ticks": ""
            },
            "colorscale": [
             [
              0,
              "#0d0887"
             ],
             [
              0.1111111111111111,
              "#46039f"
             ],
             [
              0.2222222222222222,
              "#7201a8"
             ],
             [
              0.3333333333333333,
              "#9c179e"
             ],
             [
              0.4444444444444444,
              "#bd3786"
             ],
             [
              0.5555555555555556,
              "#d8576b"
             ],
             [
              0.6666666666666666,
              "#ed7953"
             ],
             [
              0.7777777777777778,
              "#fb9f3a"
             ],
             [
              0.8888888888888888,
              "#fdca26"
             ],
             [
              1,
              "#f0f921"
             ]
            ],
            "type": "histogram2dcontour"
           }
          ],
          "mesh3d": [
           {
            "colorbar": {
             "outlinewidth": 0,
             "ticks": ""
            },
            "type": "mesh3d"
           }
          ],
          "parcoords": [
           {
            "line": {
             "colorbar": {
              "outlinewidth": 0,
              "ticks": ""
             }
            },
            "type": "parcoords"
           }
          ],
          "pie": [
           {
            "automargin": true,
            "type": "pie"
           }
          ],
          "scatter": [
           {
            "marker": {
             "colorbar": {
              "outlinewidth": 0,
              "ticks": ""
             }
            },
            "type": "scatter"
           }
          ],
          "scatter3d": [
           {
            "line": {
             "colorbar": {
              "outlinewidth": 0,
              "ticks": ""
             }
            },
            "marker": {
             "colorbar": {
              "outlinewidth": 0,
              "ticks": ""
             }
            },
            "type": "scatter3d"
           }
          ],
          "scattercarpet": [
           {
            "marker": {
             "colorbar": {
              "outlinewidth": 0,
              "ticks": ""
             }
            },
            "type": "scattercarpet"
           }
          ],
          "scattergeo": [
           {
            "marker": {
             "colorbar": {
              "outlinewidth": 0,
              "ticks": ""
             }
            },
            "type": "scattergeo"
           }
          ],
          "scattergl": [
           {
            "marker": {
             "colorbar": {
              "outlinewidth": 0,
              "ticks": ""
             }
            },
            "type": "scattergl"
           }
          ],
          "scattermapbox": [
           {
            "marker": {
             "colorbar": {
              "outlinewidth": 0,
              "ticks": ""
             }
            },
            "type": "scattermapbox"
           }
          ],
          "scatterpolar": [
           {
            "marker": {
             "colorbar": {
              "outlinewidth": 0,
              "ticks": ""
             }
            },
            "type": "scatterpolar"
           }
          ],
          "scatterpolargl": [
           {
            "marker": {
             "colorbar": {
              "outlinewidth": 0,
              "ticks": ""
             }
            },
            "type": "scatterpolargl"
           }
          ],
          "scatterternary": [
           {
            "marker": {
             "colorbar": {
              "outlinewidth": 0,
              "ticks": ""
             }
            },
            "type": "scatterternary"
           }
          ],
          "surface": [
           {
            "colorbar": {
             "outlinewidth": 0,
             "ticks": ""
            },
            "colorscale": [
             [
              0,
              "#0d0887"
             ],
             [
              0.1111111111111111,
              "#46039f"
             ],
             [
              0.2222222222222222,
              "#7201a8"
             ],
             [
              0.3333333333333333,
              "#9c179e"
             ],
             [
              0.4444444444444444,
              "#bd3786"
             ],
             [
              0.5555555555555556,
              "#d8576b"
             ],
             [
              0.6666666666666666,
              "#ed7953"
             ],
             [
              0.7777777777777778,
              "#fb9f3a"
             ],
             [
              0.8888888888888888,
              "#fdca26"
             ],
             [
              1,
              "#f0f921"
             ]
            ],
            "type": "surface"
           }
          ],
          "table": [
           {
            "cells": {
             "fill": {
              "color": "#EBF0F8"
             },
             "line": {
              "color": "white"
             }
            },
            "header": {
             "fill": {
              "color": "#C8D4E3"
             },
             "line": {
              "color": "white"
             }
            },
            "type": "table"
           }
          ]
         },
         "layout": {
          "annotationdefaults": {
           "arrowcolor": "#2a3f5f",
           "arrowhead": 0,
           "arrowwidth": 1
          },
          "coloraxis": {
           "colorbar": {
            "outlinewidth": 0,
            "ticks": ""
           }
          },
          "colorscale": {
           "diverging": [
            [
             0,
             "#8e0152"
            ],
            [
             0.1,
             "#c51b7d"
            ],
            [
             0.2,
             "#de77ae"
            ],
            [
             0.3,
             "#f1b6da"
            ],
            [
             0.4,
             "#fde0ef"
            ],
            [
             0.5,
             "#f7f7f7"
            ],
            [
             0.6,
             "#e6f5d0"
            ],
            [
             0.7,
             "#b8e186"
            ],
            [
             0.8,
             "#7fbc41"
            ],
            [
             0.9,
             "#4d9221"
            ],
            [
             1,
             "#276419"
            ]
           ],
           "sequential": [
            [
             0,
             "#0d0887"
            ],
            [
             0.1111111111111111,
             "#46039f"
            ],
            [
             0.2222222222222222,
             "#7201a8"
            ],
            [
             0.3333333333333333,
             "#9c179e"
            ],
            [
             0.4444444444444444,
             "#bd3786"
            ],
            [
             0.5555555555555556,
             "#d8576b"
            ],
            [
             0.6666666666666666,
             "#ed7953"
            ],
            [
             0.7777777777777778,
             "#fb9f3a"
            ],
            [
             0.8888888888888888,
             "#fdca26"
            ],
            [
             1,
             "#f0f921"
            ]
           ],
           "sequentialminus": [
            [
             0,
             "#0d0887"
            ],
            [
             0.1111111111111111,
             "#46039f"
            ],
            [
             0.2222222222222222,
             "#7201a8"
            ],
            [
             0.3333333333333333,
             "#9c179e"
            ],
            [
             0.4444444444444444,
             "#bd3786"
            ],
            [
             0.5555555555555556,
             "#d8576b"
            ],
            [
             0.6666666666666666,
             "#ed7953"
            ],
            [
             0.7777777777777778,
             "#fb9f3a"
            ],
            [
             0.8888888888888888,
             "#fdca26"
            ],
            [
             1,
             "#f0f921"
            ]
           ]
          },
          "colorway": [
           "#636efa",
           "#EF553B",
           "#00cc96",
           "#ab63fa",
           "#FFA15A",
           "#19d3f3",
           "#FF6692",
           "#B6E880",
           "#FF97FF",
           "#FECB52"
          ],
          "font": {
           "color": "#2a3f5f"
          },
          "geo": {
           "bgcolor": "white",
           "lakecolor": "white",
           "landcolor": "#E5ECF6",
           "showlakes": true,
           "showland": true,
           "subunitcolor": "white"
          },
          "hoverlabel": {
           "align": "left"
          },
          "hovermode": "closest",
          "mapbox": {
           "style": "light"
          },
          "paper_bgcolor": "white",
          "plot_bgcolor": "#E5ECF6",
          "polar": {
           "angularaxis": {
            "gridcolor": "white",
            "linecolor": "white",
            "ticks": ""
           },
           "bgcolor": "#E5ECF6",
           "radialaxis": {
            "gridcolor": "white",
            "linecolor": "white",
            "ticks": ""
           }
          },
          "scene": {
           "xaxis": {
            "backgroundcolor": "#E5ECF6",
            "gridcolor": "white",
            "gridwidth": 2,
            "linecolor": "white",
            "showbackground": true,
            "ticks": "",
            "zerolinecolor": "white"
           },
           "yaxis": {
            "backgroundcolor": "#E5ECF6",
            "gridcolor": "white",
            "gridwidth": 2,
            "linecolor": "white",
            "showbackground": true,
            "ticks": "",
            "zerolinecolor": "white"
           },
           "zaxis": {
            "backgroundcolor": "#E5ECF6",
            "gridcolor": "white",
            "gridwidth": 2,
            "linecolor": "white",
            "showbackground": true,
            "ticks": "",
            "zerolinecolor": "white"
           }
          },
          "shapedefaults": {
           "line": {
            "color": "#2a3f5f"
           }
          },
          "ternary": {
           "aaxis": {
            "gridcolor": "white",
            "linecolor": "white",
            "ticks": ""
           },
           "baxis": {
            "gridcolor": "white",
            "linecolor": "white",
            "ticks": ""
           },
           "bgcolor": "#E5ECF6",
           "caxis": {
            "gridcolor": "white",
            "linecolor": "white",
            "ticks": ""
           }
          },
          "title": {
           "x": 0.05
          },
          "xaxis": {
           "automargin": true,
           "gridcolor": "white",
           "linecolor": "white",
           "ticks": "",
           "title": {
            "standoff": 15
           },
           "zerolinecolor": "white",
           "zerolinewidth": 2
          },
          "yaxis": {
           "automargin": true,
           "gridcolor": "white",
           "linecolor": "white",
           "ticks": "",
           "title": {
            "standoff": 15
           },
           "zerolinecolor": "white",
           "zerolinewidth": 2
          }
         }
        },
        "title": {
         "text": "Análise do Gênero - Taxa de mortalidade"
        }
       }
      }
     },
     "metadata": {}
    }
   ],
   "source": [
    "m = dados[dados[\"sex\"]==1]\n",
    "f = dados[dados[\"sex\"]==0]\n",
    "\n",
    "labels = ['Homens - Sobreviventes','Mulheres - Sobreviventes ', \"Homem -Não Sobreviventes\", \"Mulheres - Não Sobreviventes\"]\n",
    "values = [len(m[dados[\"DEATH_EVENT\"]==0]),len(f[dados[\"DEATH_EVENT\"]==0]), len(m[dados[\"DEATH_EVENT\"]==1])\n",
    "         ,len(f[dados[\"DEATH_EVENT\"]==1])]\n",
    "fig = go.Figure(data=[go.Pie(labels=labels, values=values, hole=0.35)])\n",
    "fig.update_layout(\n",
    "    title_text=\"Análise do Gênero - Taxa de mortalidade\")\n",
    "fig.show()"
   ]
  },
  {
   "source": [
    "Neste gráfico de setores, foi possível analisar que a taxa de mortalidade entre os dois sexos é bem proxima, assim não o classificando para ser um fator decisivo para a morte da pessoa."
   ],
   "cell_type": "markdown",
   "metadata": {}
  },
  {
   "source": [
    "# Preditor\n",
    "### Agora, nesta etapa foi feita a modelagem utilizando os métodos de regressão logística e arvore de decisão, e também foi feita a simulção."
   ],
   "cell_type": "markdown",
   "metadata": {}
  },
  {
   "source": [
    "### Divisão entre dados de treino e dados de teste"
   ],
   "cell_type": "markdown",
   "metadata": {}
  },
  {
   "cell_type": "code",
   "execution_count": 54,
   "metadata": {},
   "outputs": [],
   "source": [
    "Features = ['time','ejection_fraction','serum_creatinine']\n",
    "x = dados[Features]\n",
    "y = dados[\"DEATH_EVENT\"]\n",
    "x_train,x_test,y_train,y_test = train_test_split(x,y, test_size=0.2, random_state=2)"
   ]
  },
  {
   "source": [
    "## Regressão Logística:\n",
    "\n",
    "Esta é uma técnica semelhante ao modelo de regressão linear, porém na logística a variável resposta é binária. Esta é normalmente utilizada quando a variável dependente é categórica, de natureza dicotômica ou binária. Já as independentes podem ou não ser categóricas. Este modelo é utilizado quando a variável resposta é qualitativa com dois resultados possíveis (Exemplo: Para prever se um e-mail é spam, é ou não é um spam 1 ou 0). No caso utilizado em nosso projeto, a variável resposta é uma booleana, onde foi possível prever o evento de morte devido a alguma falha cardíaca. Como em nosso modelo só há duas respostas possíveis, morte ou não morte, esta técnica é coerente com o que queremos prever."
   ],
   "cell_type": "markdown",
   "metadata": {}
  },
  {
   "source": [
    "### Simulação e teste de precisão"
   ],
   "cell_type": "markdown",
   "metadata": {}
  },
  {
   "cell_type": "code",
   "execution_count": 55,
   "metadata": {},
   "outputs": [],
   "source": [
    "log = LogisticRegression()\n",
    "log =log.fit(x_train, y_train)\n",
    "log_pred = log.predict(x_test)\n",
    "log_pres = accuracy_score(y_test, log_pred)"
   ]
  },
  {
   "cell_type": "code",
   "execution_count": 56,
   "metadata": {},
   "outputs": [
    {
     "output_type": "display_data",
     "data": {
      "text/plain": "    Test  Pred\n179    0     0\n221    0     0\n226    0     0\n7      1     0\n173    0     0",
      "text/html": "<div>\n<style scoped>\n    .dataframe tbody tr th:only-of-type {\n        vertical-align: middle;\n    }\n\n    .dataframe tbody tr th {\n        vertical-align: top;\n    }\n\n    .dataframe thead th {\n        text-align: right;\n    }\n</style>\n<table border=\"1\" class=\"dataframe\">\n  <thead>\n    <tr style=\"text-align: right;\">\n      <th></th>\n      <th>Test</th>\n      <th>Pred</th>\n    </tr>\n  </thead>\n  <tbody>\n    <tr>\n      <td>179</td>\n      <td>0</td>\n      <td>0</td>\n    </tr>\n    <tr>\n      <td>221</td>\n      <td>0</td>\n      <td>0</td>\n    </tr>\n    <tr>\n      <td>226</td>\n      <td>0</td>\n      <td>0</td>\n    </tr>\n    <tr>\n      <td>7</td>\n      <td>1</td>\n      <td>0</td>\n    </tr>\n    <tr>\n      <td>173</td>\n      <td>0</td>\n      <td>0</td>\n    </tr>\n  </tbody>\n</table>\n</div>"
     },
     "metadata": {}
    }
   ],
   "source": [
    "res = {}\n",
    "res = pd.DataFrame(res)\n",
    "res['Test'] = pd.Series(y_test)\n",
    "res['Pred'] = log_pred\n",
    "display(res.head(5))"
   ]
  },
  {
   "source": [
    "## Árvore de Decisão:\n",
    "\n",
    "Uma árvore de decisão é um mapa dos possíveis resultados de uma série de escolhas relacionadas. Permite uma comparação de possíveis ações com base em seus custos, probabilidades e benefícios. Podem ser usadas tanto para conduzir diálogos informais quanto para mapear um algoritmo que prevê a melhor escolha. Uma árvore de decisão geralmente começa com um único nó, que se divide em possíveis resultados. Cada um desses resultados leva a nós adicionais, que se ramificam em outras possibilidades. Assim, cria-se uma forma de árvore. Este modelo que é mais utilizado em inferência indutiva foi utilizado em nosso projeto com o intuito de avaliar as 12 características ($features$) em relação ao evento de morte."
   ],
   "cell_type": "markdown",
   "metadata": {}
  },
  {
   "cell_type": "code",
   "execution_count": 57,
   "metadata": {},
   "outputs": [],
   "source": [
    "Features = ['age', 'anaemia', 'creatinine_phosphokinase', 'diabetes', 'ejection_fraction', 'high_blood_pressure', 'platelets', 'serum_creatinine', 'serum_sodium', 'sex', 'smoking','time']\n",
    "x = dados[Features]\n",
    "y = dados[\"DEATH_EVENT\"]\n",
    "x_train,x_test,y_train,y_test = train_test_split(x,y, test_size=0.2, random_state=2)\n",
    "\n",
    "tree = DecisionTreeClassifier()\n",
    "tree = tree.fit(x_train, y_train)\n",
    "tree_pred = tree.predict(x_test)\n",
    "tree_pres = accuracy_score(y_test, tree_pred)"
   ]
  },
  {
   "cell_type": "code",
   "execution_count": 58,
   "metadata": {},
   "outputs": [
    {
     "output_type": "display_data",
     "data": {
      "text/plain": "<Figure size 432x288 with 1 Axes>",
      "image/svg+xml": "<?xml version=\"1.0\" encoding=\"utf-8\" standalone=\"no\"?>\r\n<!DOCTYPE svg PUBLIC \"-//W3C//DTD SVG 1.1//EN\"\r\n  \"http://www.w3.org/Graphics/SVG/1.1/DTD/svg11.dtd\">\r\n<!-- Created with matplotlib (https://matplotlib.org/) -->\r\n<svg height=\"231.84pt\" version=\"1.1\" viewBox=\"0 0 349.2 231.84\" width=\"349.2pt\" xmlns=\"http://www.w3.org/2000/svg\" xmlns:xlink=\"http://www.w3.org/1999/xlink\">\r\n <defs>\r\n  <style type=\"text/css\">\r\n*{stroke-linecap:butt;stroke-linejoin:round;}\r\n  </style>\r\n </defs>\r\n <g id=\"figure_1\">\r\n  <g id=\"patch_1\">\r\n   <path d=\"M 0 231.84 \r\nL 349.2 231.84 \r\nL 349.2 0 \r\nL 0 0 \r\nz\r\n\" style=\"fill:none;\"/>\r\n  </g>\r\n  <g id=\"axes_1\">\r\n   <g id=\"patch_2\">\r\n    <path d=\"M 236.907389 208.400369 \r\nQ 239.104097 201.694979 241.648874 193.927116 \r\n\" style=\"fill:none;stroke:#000000;stroke-linecap:round;\"/>\r\n    <path d=\"M 237.221979 208.082512 \r\nL 236.907389 208.400369 \r\nL 236.841858 207.957983 \r\n\" style=\"fill:none;stroke:#000000;stroke-linecap:round;\"/>\r\n   </g>\r\n   <g id=\"text_1\">\r\n    <g id=\"patch_3\">\r\n     <path d=\"M 231.402139 215.671687 \r\nL 238.895733 215.671687 \r\nL 238.895733 211.864312 \r\nL 231.402139 211.864312 \r\nz\r\n\" style=\"fill:#ffffff;stroke:#000000;stroke-linejoin:miter;\"/>\r\n    </g>\r\n    <!-- gini = 0.0 -->\r\n    <defs>\r\n     <path d=\"M 45.40625 27.984375 \r\nQ 45.40625 37.75 41.375 43.109375 \r\nQ 37.359375 48.484375 30.078125 48.484375 \r\nQ 22.859375 48.484375 18.828125 43.109375 \r\nQ 14.796875 37.75 14.796875 27.984375 \r\nQ 14.796875 18.265625 18.828125 12.890625 \r\nQ 22.859375 7.515625 30.078125 7.515625 \r\nQ 37.359375 7.515625 41.375 12.890625 \r\nQ 45.40625 18.265625 45.40625 27.984375 \r\nz\r\nM 54.390625 6.78125 \r\nQ 54.390625 -7.171875 48.1875 -13.984375 \r\nQ 42 -20.796875 29.203125 -20.796875 \r\nQ 24.46875 -20.796875 20.265625 -20.09375 \r\nQ 16.0625 -19.390625 12.109375 -17.921875 \r\nL 12.109375 -9.1875 \r\nQ 16.0625 -11.328125 19.921875 -12.34375 \r\nQ 23.78125 -13.375 27.78125 -13.375 \r\nQ 36.625 -13.375 41.015625 -8.765625 \r\nQ 45.40625 -4.15625 45.40625 5.171875 \r\nL 45.40625 9.625 \r\nQ 42.625 4.78125 38.28125 2.390625 \r\nQ 33.9375 0 27.875 0 \r\nQ 17.828125 0 11.671875 7.65625 \r\nQ 5.515625 15.328125 5.515625 27.984375 \r\nQ 5.515625 40.671875 11.671875 48.328125 \r\nQ 17.828125 56 27.875 56 \r\nQ 33.9375 56 38.28125 53.609375 \r\nQ 42.625 51.21875 45.40625 46.390625 \r\nL 45.40625 54.6875 \r\nL 54.390625 54.6875 \r\nz\r\n\" id=\"DejaVuSans-103\"/>\r\n     <path d=\"M 9.421875 54.6875 \r\nL 18.40625 54.6875 \r\nL 18.40625 0 \r\nL 9.421875 0 \r\nz\r\nM 9.421875 75.984375 \r\nL 18.40625 75.984375 \r\nL 18.40625 64.59375 \r\nL 9.421875 64.59375 \r\nz\r\n\" id=\"DejaVuSans-105\"/>\r\n     <path d=\"M 54.890625 33.015625 \r\nL 54.890625 0 \r\nL 45.90625 0 \r\nL 45.90625 32.71875 \r\nQ 45.90625 40.484375 42.875 44.328125 \r\nQ 39.84375 48.1875 33.796875 48.1875 \r\nQ 26.515625 48.1875 22.3125 43.546875 \r\nQ 18.109375 38.921875 18.109375 30.90625 \r\nL 18.109375 0 \r\nL 9.078125 0 \r\nL 9.078125 54.6875 \r\nL 18.109375 54.6875 \r\nL 18.109375 46.1875 \r\nQ 21.34375 51.125 25.703125 53.5625 \r\nQ 30.078125 56 35.796875 56 \r\nQ 45.21875 56 50.046875 50.171875 \r\nQ 54.890625 44.34375 54.890625 33.015625 \r\nz\r\n\" id=\"DejaVuSans-110\"/>\r\n     <path id=\"DejaVuSans-32\"/>\r\n     <path d=\"M 10.59375 45.40625 \r\nL 73.1875 45.40625 \r\nL 73.1875 37.203125 \r\nL 10.59375 37.203125 \r\nz\r\nM 10.59375 25.484375 \r\nL 73.1875 25.484375 \r\nL 73.1875 17.1875 \r\nL 10.59375 17.1875 \r\nz\r\n\" id=\"DejaVuSans-61\"/>\r\n     <path d=\"M 31.78125 66.40625 \r\nQ 24.171875 66.40625 20.328125 58.90625 \r\nQ 16.5 51.421875 16.5 36.375 \r\nQ 16.5 21.390625 20.328125 13.890625 \r\nQ 24.171875 6.390625 31.78125 6.390625 \r\nQ 39.453125 6.390625 43.28125 13.890625 \r\nQ 47.125 21.390625 47.125 36.375 \r\nQ 47.125 51.421875 43.28125 58.90625 \r\nQ 39.453125 66.40625 31.78125 66.40625 \r\nz\r\nM 31.78125 74.21875 \r\nQ 44.046875 74.21875 50.515625 64.515625 \r\nQ 56.984375 54.828125 56.984375 36.375 \r\nQ 56.984375 17.96875 50.515625 8.265625 \r\nQ 44.046875 -1.421875 31.78125 -1.421875 \r\nQ 19.53125 -1.421875 13.0625 8.265625 \r\nQ 6.59375 17.96875 6.59375 36.375 \r\nQ 6.59375 54.828125 13.0625 64.515625 \r\nQ 19.53125 74.21875 31.78125 74.21875 \r\nz\r\n\" id=\"DejaVuSans-48\"/>\r\n     <path d=\"M 10.6875 12.40625 \r\nL 21 12.40625 \r\nL 21 0 \r\nL 10.6875 0 \r\nz\r\n\" id=\"DejaVuSans-46\"/>\r\n    </defs>\r\n    <g transform=\"translate(232.704874 212.924156)scale(0.01 -0.01)\">\r\n     <use xlink:href=\"#DejaVuSans-103\"/>\r\n     <use x=\"63.476562\" xlink:href=\"#DejaVuSans-105\"/>\r\n     <use x=\"91.259766\" xlink:href=\"#DejaVuSans-110\"/>\r\n     <use x=\"154.638672\" xlink:href=\"#DejaVuSans-105\"/>\r\n     <use x=\"182.421875\" xlink:href=\"#DejaVuSans-32\"/>\r\n     <use x=\"214.208984\" xlink:href=\"#DejaVuSans-61\"/>\r\n     <use x=\"297.998047\" xlink:href=\"#DejaVuSans-32\"/>\r\n     <use x=\"329.785156\" xlink:href=\"#DejaVuSans-48\"/>\r\n     <use x=\"393.408203\" xlink:href=\"#DejaVuSans-46\"/>\r\n     <use x=\"425.195312\" xlink:href=\"#DejaVuSans-48\"/>\r\n    </g>\r\n    <!-- samples = 1 -->\r\n    <defs>\r\n     <path d=\"M 44.28125 53.078125 \r\nL 44.28125 44.578125 \r\nQ 40.484375 46.53125 36.375 47.5 \r\nQ 32.28125 48.484375 27.875 48.484375 \r\nQ 21.1875 48.484375 17.84375 46.4375 \r\nQ 14.5 44.390625 14.5 40.28125 \r\nQ 14.5 37.15625 16.890625 35.375 \r\nQ 19.28125 33.59375 26.515625 31.984375 \r\nL 29.59375 31.296875 \r\nQ 39.15625 29.25 43.1875 25.515625 \r\nQ 47.21875 21.78125 47.21875 15.09375 \r\nQ 47.21875 7.46875 41.1875 3.015625 \r\nQ 35.15625 -1.421875 24.609375 -1.421875 \r\nQ 20.21875 -1.421875 15.453125 -0.5625 \r\nQ 10.6875 0.296875 5.421875 2 \r\nL 5.421875 11.28125 \r\nQ 10.40625 8.6875 15.234375 7.390625 \r\nQ 20.0625 6.109375 24.8125 6.109375 \r\nQ 31.15625 6.109375 34.5625 8.28125 \r\nQ 37.984375 10.453125 37.984375 14.40625 \r\nQ 37.984375 18.0625 35.515625 20.015625 \r\nQ 33.0625 21.96875 24.703125 23.78125 \r\nL 21.578125 24.515625 \r\nQ 13.234375 26.265625 9.515625 29.90625 \r\nQ 5.8125 33.546875 5.8125 39.890625 \r\nQ 5.8125 47.609375 11.28125 51.796875 \r\nQ 16.75 56 26.8125 56 \r\nQ 31.78125 56 36.171875 55.265625 \r\nQ 40.578125 54.546875 44.28125 53.078125 \r\nz\r\n\" id=\"DejaVuSans-115\"/>\r\n     <path d=\"M 34.28125 27.484375 \r\nQ 23.390625 27.484375 19.1875 25 \r\nQ 14.984375 22.515625 14.984375 16.5 \r\nQ 14.984375 11.71875 18.140625 8.90625 \r\nQ 21.296875 6.109375 26.703125 6.109375 \r\nQ 34.1875 6.109375 38.703125 11.40625 \r\nQ 43.21875 16.703125 43.21875 25.484375 \r\nL 43.21875 27.484375 \r\nz\r\nM 52.203125 31.203125 \r\nL 52.203125 0 \r\nL 43.21875 0 \r\nL 43.21875 8.296875 \r\nQ 40.140625 3.328125 35.546875 0.953125 \r\nQ 30.953125 -1.421875 24.3125 -1.421875 \r\nQ 15.921875 -1.421875 10.953125 3.296875 \r\nQ 6 8.015625 6 15.921875 \r\nQ 6 25.140625 12.171875 29.828125 \r\nQ 18.359375 34.515625 30.609375 34.515625 \r\nL 43.21875 34.515625 \r\nL 43.21875 35.40625 \r\nQ 43.21875 41.609375 39.140625 45 \r\nQ 35.0625 48.390625 27.6875 48.390625 \r\nQ 23 48.390625 18.546875 47.265625 \r\nQ 14.109375 46.140625 10.015625 43.890625 \r\nL 10.015625 52.203125 \r\nQ 14.9375 54.109375 19.578125 55.046875 \r\nQ 24.21875 56 28.609375 56 \r\nQ 40.484375 56 46.34375 49.84375 \r\nQ 52.203125 43.703125 52.203125 31.203125 \r\nz\r\n\" id=\"DejaVuSans-97\"/>\r\n     <path d=\"M 52 44.1875 \r\nQ 55.375 50.25 60.0625 53.125 \r\nQ 64.75 56 71.09375 56 \r\nQ 79.640625 56 84.28125 50.015625 \r\nQ 88.921875 44.046875 88.921875 33.015625 \r\nL 88.921875 0 \r\nL 79.890625 0 \r\nL 79.890625 32.71875 \r\nQ 79.890625 40.578125 77.09375 44.375 \r\nQ 74.3125 48.1875 68.609375 48.1875 \r\nQ 61.625 48.1875 57.5625 43.546875 \r\nQ 53.515625 38.921875 53.515625 30.90625 \r\nL 53.515625 0 \r\nL 44.484375 0 \r\nL 44.484375 32.71875 \r\nQ 44.484375 40.625 41.703125 44.40625 \r\nQ 38.921875 48.1875 33.109375 48.1875 \r\nQ 26.21875 48.1875 22.15625 43.53125 \r\nQ 18.109375 38.875 18.109375 30.90625 \r\nL 18.109375 0 \r\nL 9.078125 0 \r\nL 9.078125 54.6875 \r\nL 18.109375 54.6875 \r\nL 18.109375 46.1875 \r\nQ 21.1875 51.21875 25.484375 53.609375 \r\nQ 29.78125 56 35.6875 56 \r\nQ 41.65625 56 45.828125 52.96875 \r\nQ 50 49.953125 52 44.1875 \r\nz\r\n\" id=\"DejaVuSans-109\"/>\r\n     <path d=\"M 18.109375 8.203125 \r\nL 18.109375 -20.796875 \r\nL 9.078125 -20.796875 \r\nL 9.078125 54.6875 \r\nL 18.109375 54.6875 \r\nL 18.109375 46.390625 \r\nQ 20.953125 51.265625 25.265625 53.625 \r\nQ 29.59375 56 35.59375 56 \r\nQ 45.5625 56 51.78125 48.09375 \r\nQ 58.015625 40.1875 58.015625 27.296875 \r\nQ 58.015625 14.40625 51.78125 6.484375 \r\nQ 45.5625 -1.421875 35.59375 -1.421875 \r\nQ 29.59375 -1.421875 25.265625 0.953125 \r\nQ 20.953125 3.328125 18.109375 8.203125 \r\nz\r\nM 48.6875 27.296875 \r\nQ 48.6875 37.203125 44.609375 42.84375 \r\nQ 40.53125 48.484375 33.40625 48.484375 \r\nQ 26.265625 48.484375 22.1875 42.84375 \r\nQ 18.109375 37.203125 18.109375 27.296875 \r\nQ 18.109375 17.390625 22.1875 11.75 \r\nQ 26.265625 6.109375 33.40625 6.109375 \r\nQ 40.53125 6.109375 44.609375 11.75 \r\nQ 48.6875 17.390625 48.6875 27.296875 \r\nz\r\n\" id=\"DejaVuSans-112\"/>\r\n     <path d=\"M 9.421875 75.984375 \r\nL 18.40625 75.984375 \r\nL 18.40625 0 \r\nL 9.421875 0 \r\nz\r\n\" id=\"DejaVuSans-108\"/>\r\n     <path d=\"M 56.203125 29.59375 \r\nL 56.203125 25.203125 \r\nL 14.890625 25.203125 \r\nQ 15.484375 15.921875 20.484375 11.0625 \r\nQ 25.484375 6.203125 34.421875 6.203125 \r\nQ 39.59375 6.203125 44.453125 7.46875 \r\nQ 49.3125 8.734375 54.109375 11.28125 \r\nL 54.109375 2.78125 \r\nQ 49.265625 0.734375 44.1875 -0.34375 \r\nQ 39.109375 -1.421875 33.890625 -1.421875 \r\nQ 20.796875 -1.421875 13.15625 6.1875 \r\nQ 5.515625 13.8125 5.515625 26.8125 \r\nQ 5.515625 40.234375 12.765625 48.109375 \r\nQ 20.015625 56 32.328125 56 \r\nQ 43.359375 56 49.78125 48.890625 \r\nQ 56.203125 41.796875 56.203125 29.59375 \r\nz\r\nM 47.21875 32.234375 \r\nQ 47.125 39.59375 43.09375 43.984375 \r\nQ 39.0625 48.390625 32.421875 48.390625 \r\nQ 24.90625 48.390625 20.390625 44.140625 \r\nQ 15.875 39.890625 15.1875 32.171875 \r\nz\r\n\" id=\"DejaVuSans-101\"/>\r\n     <path d=\"M 12.40625 8.296875 \r\nL 28.515625 8.296875 \r\nL 28.515625 63.921875 \r\nL 10.984375 60.40625 \r\nL 10.984375 69.390625 \r\nL 28.421875 72.90625 \r\nL 38.28125 72.90625 \r\nL 38.28125 8.296875 \r\nL 54.390625 8.296875 \r\nL 54.390625 0 \r\nL 12.40625 0 \r\nz\r\n\" id=\"DejaVuSans-49\"/>\r\n    </defs>\r\n    <g transform=\"translate(232.015655 214.043937)scale(0.01 -0.01)\">\r\n     <use xlink:href=\"#DejaVuSans-115\"/>\r\n     <use x=\"52.099609\" xlink:href=\"#DejaVuSans-97\"/>\r\n     <use x=\"113.378906\" xlink:href=\"#DejaVuSans-109\"/>\r\n     <use x=\"210.791016\" xlink:href=\"#DejaVuSans-112\"/>\r\n     <use x=\"274.267578\" xlink:href=\"#DejaVuSans-108\"/>\r\n     <use x=\"302.050781\" xlink:href=\"#DejaVuSans-101\"/>\r\n     <use x=\"363.574219\" xlink:href=\"#DejaVuSans-115\"/>\r\n     <use x=\"415.673828\" xlink:href=\"#DejaVuSans-32\"/>\r\n     <use x=\"447.460938\" xlink:href=\"#DejaVuSans-61\"/>\r\n     <use x=\"531.25\" xlink:href=\"#DejaVuSans-32\"/>\r\n     <use x=\"563.037109\" xlink:href=\"#DejaVuSans-49\"/>\r\n    </g>\r\n    <!-- value = [0, 1] -->\r\n    <defs>\r\n     <path d=\"M 2.984375 54.6875 \r\nL 12.5 54.6875 \r\nL 29.59375 8.796875 \r\nL 46.6875 54.6875 \r\nL 56.203125 54.6875 \r\nL 35.6875 0 \r\nL 23.484375 0 \r\nz\r\n\" id=\"DejaVuSans-118\"/>\r\n     <path d=\"M 8.5 21.578125 \r\nL 8.5 54.6875 \r\nL 17.484375 54.6875 \r\nL 17.484375 21.921875 \r\nQ 17.484375 14.15625 20.5 10.265625 \r\nQ 23.53125 6.390625 29.59375 6.390625 \r\nQ 36.859375 6.390625 41.078125 11.03125 \r\nQ 45.3125 15.671875 45.3125 23.6875 \r\nL 45.3125 54.6875 \r\nL 54.296875 54.6875 \r\nL 54.296875 0 \r\nL 45.3125 0 \r\nL 45.3125 8.40625 \r\nQ 42.046875 3.421875 37.71875 1 \r\nQ 33.40625 -1.421875 27.6875 -1.421875 \r\nQ 18.265625 -1.421875 13.375 4.4375 \r\nQ 8.5 10.296875 8.5 21.578125 \r\nz\r\nM 31.109375 56 \r\nz\r\n\" id=\"DejaVuSans-117\"/>\r\n     <path d=\"M 8.59375 75.984375 \r\nL 29.296875 75.984375 \r\nL 29.296875 69 \r\nL 17.578125 69 \r\nL 17.578125 -6.203125 \r\nL 29.296875 -6.203125 \r\nL 29.296875 -13.1875 \r\nL 8.59375 -13.1875 \r\nz\r\n\" id=\"DejaVuSans-91\"/>\r\n     <path d=\"M 11.71875 12.40625 \r\nL 22.015625 12.40625 \r\nL 22.015625 4 \r\nL 14.015625 -11.625 \r\nL 7.71875 -11.625 \r\nL 11.71875 4 \r\nz\r\n\" id=\"DejaVuSans-44\"/>\r\n     <path d=\"M 30.421875 75.984375 \r\nL 30.421875 -13.1875 \r\nL 9.71875 -13.1875 \r\nL 9.71875 -6.203125 \r\nL 21.390625 -6.203125 \r\nL 21.390625 69 \r\nL 9.71875 69 \r\nL 9.71875 75.984375 \r\nz\r\n\" id=\"DejaVuSans-93\"/>\r\n    </defs>\r\n    <g transform=\"translate(231.702139 215.163719)scale(0.01 -0.01)\">\r\n     <use xlink:href=\"#DejaVuSans-118\"/>\r\n     <use x=\"59.179688\" xlink:href=\"#DejaVuSans-97\"/>\r\n     <use x=\"120.458984\" xlink:href=\"#DejaVuSans-108\"/>\r\n     <use x=\"148.242188\" xlink:href=\"#DejaVuSans-117\"/>\r\n     <use x=\"211.621094\" xlink:href=\"#DejaVuSans-101\"/>\r\n     <use x=\"273.144531\" xlink:href=\"#DejaVuSans-32\"/>\r\n     <use x=\"304.931641\" xlink:href=\"#DejaVuSans-61\"/>\r\n     <use x=\"388.720703\" xlink:href=\"#DejaVuSans-32\"/>\r\n     <use x=\"420.507812\" xlink:href=\"#DejaVuSans-91\"/>\r\n     <use x=\"459.521484\" xlink:href=\"#DejaVuSans-48\"/>\r\n     <use x=\"523.144531\" xlink:href=\"#DejaVuSans-44\"/>\r\n     <use x=\"554.931641\" xlink:href=\"#DejaVuSans-32\"/>\r\n     <use x=\"586.71875\" xlink:href=\"#DejaVuSans-49\"/>\r\n     <use x=\"650.341797\" xlink:href=\"#DejaVuSans-93\"/>\r\n    </g>\r\n   </g>\r\n   <g id=\"patch_4\">\r\n    <path d=\"M 247.637291 208.400369 \r\nQ 245.440584 201.694979 242.895807 193.927116 \r\n\" style=\"fill:none;stroke:#000000;stroke-linecap:round;\"/>\r\n    <path d=\"M 247.702823 207.957983 \r\nL 247.637291 208.400369 \r\nL 247.322702 208.082512 \r\n\" style=\"fill:none;stroke:#000000;stroke-linecap:round;\"/>\r\n   </g>\r\n   <g id=\"text_2\">\r\n    <g id=\"patch_5\">\r\n     <path d=\"M 245.648948 215.671687 \r\nL 253.142542 215.671687 \r\nL 253.142542 211.864312 \r\nL 245.648948 211.864312 \r\nz\r\n\" style=\"fill:#ffffff;stroke:#000000;stroke-linejoin:miter;\"/>\r\n    </g>\r\n    <!-- gini = 0.0 -->\r\n    <g transform=\"translate(246.951682 212.924156)scale(0.01 -0.01)\">\r\n     <use xlink:href=\"#DejaVuSans-103\"/>\r\n     <use x=\"63.476562\" xlink:href=\"#DejaVuSans-105\"/>\r\n     <use x=\"91.259766\" xlink:href=\"#DejaVuSans-110\"/>\r\n     <use x=\"154.638672\" xlink:href=\"#DejaVuSans-105\"/>\r\n     <use x=\"182.421875\" xlink:href=\"#DejaVuSans-32\"/>\r\n     <use x=\"214.208984\" xlink:href=\"#DejaVuSans-61\"/>\r\n     <use x=\"297.998047\" xlink:href=\"#DejaVuSans-32\"/>\r\n     <use x=\"329.785156\" xlink:href=\"#DejaVuSans-48\"/>\r\n     <use x=\"393.408203\" xlink:href=\"#DejaVuSans-46\"/>\r\n     <use x=\"425.195312\" xlink:href=\"#DejaVuSans-48\"/>\r\n    </g>\r\n    <!-- samples = 1 -->\r\n    <g transform=\"translate(246.262463 214.043937)scale(0.01 -0.01)\">\r\n     <use xlink:href=\"#DejaVuSans-115\"/>\r\n     <use x=\"52.099609\" xlink:href=\"#DejaVuSans-97\"/>\r\n     <use x=\"113.378906\" xlink:href=\"#DejaVuSans-109\"/>\r\n     <use x=\"210.791016\" xlink:href=\"#DejaVuSans-112\"/>\r\n     <use x=\"274.267578\" xlink:href=\"#DejaVuSans-108\"/>\r\n     <use x=\"302.050781\" xlink:href=\"#DejaVuSans-101\"/>\r\n     <use x=\"363.574219\" xlink:href=\"#DejaVuSans-115\"/>\r\n     <use x=\"415.673828\" xlink:href=\"#DejaVuSans-32\"/>\r\n     <use x=\"447.460938\" xlink:href=\"#DejaVuSans-61\"/>\r\n     <use x=\"531.25\" xlink:href=\"#DejaVuSans-32\"/>\r\n     <use x=\"563.037109\" xlink:href=\"#DejaVuSans-49\"/>\r\n    </g>\r\n    <!-- value = [1, 0] -->\r\n    <g transform=\"translate(245.948948 215.163719)scale(0.01 -0.01)\">\r\n     <use xlink:href=\"#DejaVuSans-118\"/>\r\n     <use x=\"59.179688\" xlink:href=\"#DejaVuSans-97\"/>\r\n     <use x=\"120.458984\" xlink:href=\"#DejaVuSans-108\"/>\r\n     <use x=\"148.242188\" xlink:href=\"#DejaVuSans-117\"/>\r\n     <use x=\"211.621094\" xlink:href=\"#DejaVuSans-101\"/>\r\n     <use x=\"273.144531\" xlink:href=\"#DejaVuSans-32\"/>\r\n     <use x=\"304.931641\" xlink:href=\"#DejaVuSans-61\"/>\r\n     <use x=\"388.720703\" xlink:href=\"#DejaVuSans-32\"/>\r\n     <use x=\"420.507812\" xlink:href=\"#DejaVuSans-91\"/>\r\n     <use x=\"459.521484\" xlink:href=\"#DejaVuSans-49\"/>\r\n     <use x=\"523.144531\" xlink:href=\"#DejaVuSans-44\"/>\r\n     <use x=\"554.931641\" xlink:href=\"#DejaVuSans-32\"/>\r\n     <use x=\"586.71875\" xlink:href=\"#DejaVuSans-48\"/>\r\n     <use x=\"650.341797\" xlink:href=\"#DejaVuSans-93\"/>\r\n    </g>\r\n   </g>\r\n   <g id=\"patch_6\">\r\n    <path d=\"M 301.018028 208.400369 \r\nQ 303.214735 201.694979 305.759512 193.927116 \r\n\" style=\"fill:none;stroke:#000000;stroke-linecap:round;\"/>\r\n    <path d=\"M 301.332618 208.082512 \r\nL 301.018028 208.400369 \r\nL 300.952496 207.957983 \r\n\" style=\"fill:none;stroke:#000000;stroke-linecap:round;\"/>\r\n   </g>\r\n   <g id=\"text_3\">\r\n    <g id=\"patch_7\">\r\n     <path d=\"M 295.512778 215.671687 \r\nL 303.006371 215.671687 \r\nL 303.006371 211.864312 \r\nL 295.512778 211.864312 \r\nz\r\n\" style=\"fill:#ffffff;stroke:#000000;stroke-linejoin:miter;\"/>\r\n    </g>\r\n    <!-- gini = 0.0 -->\r\n    <g transform=\"translate(296.815512 212.924156)scale(0.01 -0.01)\">\r\n     <use xlink:href=\"#DejaVuSans-103\"/>\r\n     <use x=\"63.476562\" xlink:href=\"#DejaVuSans-105\"/>\r\n     <use x=\"91.259766\" xlink:href=\"#DejaVuSans-110\"/>\r\n     <use x=\"154.638672\" xlink:href=\"#DejaVuSans-105\"/>\r\n     <use x=\"182.421875\" xlink:href=\"#DejaVuSans-32\"/>\r\n     <use x=\"214.208984\" xlink:href=\"#DejaVuSans-61\"/>\r\n     <use x=\"297.998047\" xlink:href=\"#DejaVuSans-32\"/>\r\n     <use x=\"329.785156\" xlink:href=\"#DejaVuSans-48\"/>\r\n     <use x=\"393.408203\" xlink:href=\"#DejaVuSans-46\"/>\r\n     <use x=\"425.195312\" xlink:href=\"#DejaVuSans-48\"/>\r\n    </g>\r\n    <!-- samples = 4 -->\r\n    <defs>\r\n     <path d=\"M 37.796875 64.3125 \r\nL 12.890625 25.390625 \r\nL 37.796875 25.390625 \r\nz\r\nM 35.203125 72.90625 \r\nL 47.609375 72.90625 \r\nL 47.609375 25.390625 \r\nL 58.015625 25.390625 \r\nL 58.015625 17.1875 \r\nL 47.609375 17.1875 \r\nL 47.609375 0 \r\nL 37.796875 0 \r\nL 37.796875 17.1875 \r\nL 4.890625 17.1875 \r\nL 4.890625 26.703125 \r\nz\r\n\" id=\"DejaVuSans-52\"/>\r\n    </defs>\r\n    <g transform=\"translate(296.126293 214.043937)scale(0.01 -0.01)\">\r\n     <use xlink:href=\"#DejaVuSans-115\"/>\r\n     <use x=\"52.099609\" xlink:href=\"#DejaVuSans-97\"/>\r\n     <use x=\"113.378906\" xlink:href=\"#DejaVuSans-109\"/>\r\n     <use x=\"210.791016\" xlink:href=\"#DejaVuSans-112\"/>\r\n     <use x=\"274.267578\" xlink:href=\"#DejaVuSans-108\"/>\r\n     <use x=\"302.050781\" xlink:href=\"#DejaVuSans-101\"/>\r\n     <use x=\"363.574219\" xlink:href=\"#DejaVuSans-115\"/>\r\n     <use x=\"415.673828\" xlink:href=\"#DejaVuSans-32\"/>\r\n     <use x=\"447.460938\" xlink:href=\"#DejaVuSans-61\"/>\r\n     <use x=\"531.25\" xlink:href=\"#DejaVuSans-32\"/>\r\n     <use x=\"563.037109\" xlink:href=\"#DejaVuSans-52\"/>\r\n    </g>\r\n    <!-- value = [0, 4] -->\r\n    <g transform=\"translate(295.812778 215.163719)scale(0.01 -0.01)\">\r\n     <use xlink:href=\"#DejaVuSans-118\"/>\r\n     <use x=\"59.179688\" xlink:href=\"#DejaVuSans-97\"/>\r\n     <use x=\"120.458984\" xlink:href=\"#DejaVuSans-108\"/>\r\n     <use x=\"148.242188\" xlink:href=\"#DejaVuSans-117\"/>\r\n     <use x=\"211.621094\" xlink:href=\"#DejaVuSans-101\"/>\r\n     <use x=\"273.144531\" xlink:href=\"#DejaVuSans-32\"/>\r\n     <use x=\"304.931641\" xlink:href=\"#DejaVuSans-61\"/>\r\n     <use x=\"388.720703\" xlink:href=\"#DejaVuSans-32\"/>\r\n     <use x=\"420.507812\" xlink:href=\"#DejaVuSans-91\"/>\r\n     <use x=\"459.521484\" xlink:href=\"#DejaVuSans-48\"/>\r\n     <use x=\"523.144531\" xlink:href=\"#DejaVuSans-44\"/>\r\n     <use x=\"554.931641\" xlink:href=\"#DejaVuSans-32\"/>\r\n     <use x=\"586.71875\" xlink:href=\"#DejaVuSans-52\"/>\r\n     <use x=\"650.341797\" xlink:href=\"#DejaVuSans-93\"/>\r\n    </g>\r\n   </g>\r\n   <g id=\"patch_8\">\r\n    <path d=\"M 311.74793 208.400369 \r\nQ 309.551222 201.694979 307.006446 193.927116 \r\n\" style=\"fill:none;stroke:#000000;stroke-linecap:round;\"/>\r\n    <path d=\"M 311.813462 207.957983 \r\nL 311.74793 208.400369 \r\nL 311.43334 208.082512 \r\n\" style=\"fill:none;stroke:#000000;stroke-linecap:round;\"/>\r\n   </g>\r\n   <g id=\"text_4\">\r\n    <g id=\"patch_9\">\r\n     <path d=\"M 309.759586 215.671687 \r\nL 317.25318 215.671687 \r\nL 317.25318 211.864312 \r\nL 309.759586 211.864312 \r\nz\r\n\" style=\"fill:#ffffff;stroke:#000000;stroke-linejoin:miter;\"/>\r\n    </g>\r\n    <!-- gini = 0.0 -->\r\n    <g transform=\"translate(311.06232 212.924156)scale(0.01 -0.01)\">\r\n     <use xlink:href=\"#DejaVuSans-103\"/>\r\n     <use x=\"63.476562\" xlink:href=\"#DejaVuSans-105\"/>\r\n     <use x=\"91.259766\" xlink:href=\"#DejaVuSans-110\"/>\r\n     <use x=\"154.638672\" xlink:href=\"#DejaVuSans-105\"/>\r\n     <use x=\"182.421875\" xlink:href=\"#DejaVuSans-32\"/>\r\n     <use x=\"214.208984\" xlink:href=\"#DejaVuSans-61\"/>\r\n     <use x=\"297.998047\" xlink:href=\"#DejaVuSans-32\"/>\r\n     <use x=\"329.785156\" xlink:href=\"#DejaVuSans-48\"/>\r\n     <use x=\"393.408203\" xlink:href=\"#DejaVuSans-46\"/>\r\n     <use x=\"425.195312\" xlink:href=\"#DejaVuSans-48\"/>\r\n    </g>\r\n    <!-- samples = 1 -->\r\n    <g transform=\"translate(310.373102 214.043937)scale(0.01 -0.01)\">\r\n     <use xlink:href=\"#DejaVuSans-115\"/>\r\n     <use x=\"52.099609\" xlink:href=\"#DejaVuSans-97\"/>\r\n     <use x=\"113.378906\" xlink:href=\"#DejaVuSans-109\"/>\r\n     <use x=\"210.791016\" xlink:href=\"#DejaVuSans-112\"/>\r\n     <use x=\"274.267578\" xlink:href=\"#DejaVuSans-108\"/>\r\n     <use x=\"302.050781\" xlink:href=\"#DejaVuSans-101\"/>\r\n     <use x=\"363.574219\" xlink:href=\"#DejaVuSans-115\"/>\r\n     <use x=\"415.673828\" xlink:href=\"#DejaVuSans-32\"/>\r\n     <use x=\"447.460938\" xlink:href=\"#DejaVuSans-61\"/>\r\n     <use x=\"531.25\" xlink:href=\"#DejaVuSans-32\"/>\r\n     <use x=\"563.037109\" xlink:href=\"#DejaVuSans-49\"/>\r\n    </g>\r\n    <!-- value = [1, 0] -->\r\n    <g transform=\"translate(310.059586 215.163719)scale(0.01 -0.01)\">\r\n     <use xlink:href=\"#DejaVuSans-118\"/>\r\n     <use x=\"59.179688\" xlink:href=\"#DejaVuSans-97\"/>\r\n     <use x=\"120.458984\" xlink:href=\"#DejaVuSans-108\"/>\r\n     <use x=\"148.242188\" xlink:href=\"#DejaVuSans-117\"/>\r\n     <use x=\"211.621094\" xlink:href=\"#DejaVuSans-101\"/>\r\n     <use x=\"273.144531\" xlink:href=\"#DejaVuSans-32\"/>\r\n     <use x=\"304.931641\" xlink:href=\"#DejaVuSans-61\"/>\r\n     <use x=\"388.720703\" xlink:href=\"#DejaVuSans-32\"/>\r\n     <use x=\"420.507812\" xlink:href=\"#DejaVuSans-91\"/>\r\n     <use x=\"459.521484\" xlink:href=\"#DejaVuSans-49\"/>\r\n     <use x=\"523.144531\" xlink:href=\"#DejaVuSans-44\"/>\r\n     <use x=\"554.931641\" xlink:href=\"#DejaVuSans-32\"/>\r\n     <use x=\"586.71875\" xlink:href=\"#DejaVuSans-48\"/>\r\n     <use x=\"650.341797\" xlink:href=\"#DejaVuSans-93\"/>\r\n    </g>\r\n   </g>\r\n   <g id=\"patch_10\">\r\n    <path d=\"M 115.809517 186.656369 \r\nQ 118.006224 179.950979 120.551001 172.183116 \r\n\" style=\"fill:none;stroke:#000000;stroke-linecap:round;\"/>\r\n    <path d=\"M 116.124107 186.338512 \r\nL 115.809517 186.656369 \r\nL 115.743985 186.213983 \r\n\" style=\"fill:none;stroke:#000000;stroke-linecap:round;\"/>\r\n   </g>\r\n   <g id=\"text_5\">\r\n    <g id=\"patch_11\">\r\n     <path d=\"M 110.304267 193.927687 \r\nL 117.797861 193.927687 \r\nL 117.797861 190.120312 \r\nL 110.304267 190.120312 \r\nz\r\n\" style=\"fill:#ffffff;stroke:#000000;stroke-linejoin:miter;\"/>\r\n    </g>\r\n    <!-- gini = 0.0 -->\r\n    <g transform=\"translate(111.607001 191.180156)scale(0.01 -0.01)\">\r\n     <use xlink:href=\"#DejaVuSans-103\"/>\r\n     <use x=\"63.476562\" xlink:href=\"#DejaVuSans-105\"/>\r\n     <use x=\"91.259766\" xlink:href=\"#DejaVuSans-110\"/>\r\n     <use x=\"154.638672\" xlink:href=\"#DejaVuSans-105\"/>\r\n     <use x=\"182.421875\" xlink:href=\"#DejaVuSans-32\"/>\r\n     <use x=\"214.208984\" xlink:href=\"#DejaVuSans-61\"/>\r\n     <use x=\"297.998047\" xlink:href=\"#DejaVuSans-32\"/>\r\n     <use x=\"329.785156\" xlink:href=\"#DejaVuSans-48\"/>\r\n     <use x=\"393.408203\" xlink:href=\"#DejaVuSans-46\"/>\r\n     <use x=\"425.195312\" xlink:href=\"#DejaVuSans-48\"/>\r\n    </g>\r\n    <!-- samples = 1 -->\r\n    <g transform=\"translate(110.917783 192.299937)scale(0.01 -0.01)\">\r\n     <use xlink:href=\"#DejaVuSans-115\"/>\r\n     <use x=\"52.099609\" xlink:href=\"#DejaVuSans-97\"/>\r\n     <use x=\"113.378906\" xlink:href=\"#DejaVuSans-109\"/>\r\n     <use x=\"210.791016\" xlink:href=\"#DejaVuSans-112\"/>\r\n     <use x=\"274.267578\" xlink:href=\"#DejaVuSans-108\"/>\r\n     <use x=\"302.050781\" xlink:href=\"#DejaVuSans-101\"/>\r\n     <use x=\"363.574219\" xlink:href=\"#DejaVuSans-115\"/>\r\n     <use x=\"415.673828\" xlink:href=\"#DejaVuSans-32\"/>\r\n     <use x=\"447.460938\" xlink:href=\"#DejaVuSans-61\"/>\r\n     <use x=\"531.25\" xlink:href=\"#DejaVuSans-32\"/>\r\n     <use x=\"563.037109\" xlink:href=\"#DejaVuSans-49\"/>\r\n    </g>\r\n    <!-- value = [1, 0] -->\r\n    <g transform=\"translate(110.604267 193.419719)scale(0.01 -0.01)\">\r\n     <use xlink:href=\"#DejaVuSans-118\"/>\r\n     <use x=\"59.179688\" xlink:href=\"#DejaVuSans-97\"/>\r\n     <use x=\"120.458984\" xlink:href=\"#DejaVuSans-108\"/>\r\n     <use x=\"148.242188\" xlink:href=\"#DejaVuSans-117\"/>\r\n     <use x=\"211.621094\" xlink:href=\"#DejaVuSans-101\"/>\r\n     <use x=\"273.144531\" xlink:href=\"#DejaVuSans-32\"/>\r\n     <use x=\"304.931641\" xlink:href=\"#DejaVuSans-61\"/>\r\n     <use x=\"388.720703\" xlink:href=\"#DejaVuSans-32\"/>\r\n     <use x=\"420.507812\" xlink:href=\"#DejaVuSans-91\"/>\r\n     <use x=\"459.521484\" xlink:href=\"#DejaVuSans-49\"/>\r\n     <use x=\"523.144531\" xlink:href=\"#DejaVuSans-44\"/>\r\n     <use x=\"554.931641\" xlink:href=\"#DejaVuSans-32\"/>\r\n     <use x=\"586.71875\" xlink:href=\"#DejaVuSans-48\"/>\r\n     <use x=\"650.341797\" xlink:href=\"#DejaVuSans-93\"/>\r\n    </g>\r\n   </g>\r\n   <g id=\"patch_12\">\r\n    <path d=\"M 126.539419 186.656369 \r\nQ 124.342712 179.950979 121.797935 172.183116 \r\n\" style=\"fill:none;stroke:#000000;stroke-linecap:round;\"/>\r\n    <path d=\"M 126.604951 186.213983 \r\nL 126.539419 186.656369 \r\nL 126.224829 186.338512 \r\n\" style=\"fill:none;stroke:#000000;stroke-linecap:round;\"/>\r\n   </g>\r\n   <g id=\"text_6\">\r\n    <g id=\"patch_13\">\r\n     <path d=\"M 124.551075 193.927687 \r\nL 132.044669 193.927687 \r\nL 132.044669 190.120312 \r\nL 124.551075 190.120312 \r\nz\r\n\" style=\"fill:#ffffff;stroke:#000000;stroke-linejoin:miter;\"/>\r\n    </g>\r\n    <!-- gini = 0.0 -->\r\n    <g transform=\"translate(125.85381 191.180156)scale(0.01 -0.01)\">\r\n     <use xlink:href=\"#DejaVuSans-103\"/>\r\n     <use x=\"63.476562\" xlink:href=\"#DejaVuSans-105\"/>\r\n     <use x=\"91.259766\" xlink:href=\"#DejaVuSans-110\"/>\r\n     <use x=\"154.638672\" xlink:href=\"#DejaVuSans-105\"/>\r\n     <use x=\"182.421875\" xlink:href=\"#DejaVuSans-32\"/>\r\n     <use x=\"214.208984\" xlink:href=\"#DejaVuSans-61\"/>\r\n     <use x=\"297.998047\" xlink:href=\"#DejaVuSans-32\"/>\r\n     <use x=\"329.785156\" xlink:href=\"#DejaVuSans-48\"/>\r\n     <use x=\"393.408203\" xlink:href=\"#DejaVuSans-46\"/>\r\n     <use x=\"425.195312\" xlink:href=\"#DejaVuSans-48\"/>\r\n    </g>\r\n    <!-- samples = 2 -->\r\n    <defs>\r\n     <path d=\"M 19.1875 8.296875 \r\nL 53.609375 8.296875 \r\nL 53.609375 0 \r\nL 7.328125 0 \r\nL 7.328125 8.296875 \r\nQ 12.9375 14.109375 22.625 23.890625 \r\nQ 32.328125 33.6875 34.8125 36.53125 \r\nQ 39.546875 41.84375 41.421875 45.53125 \r\nQ 43.3125 49.21875 43.3125 52.78125 \r\nQ 43.3125 58.59375 39.234375 62.25 \r\nQ 35.15625 65.921875 28.609375 65.921875 \r\nQ 23.96875 65.921875 18.8125 64.3125 \r\nQ 13.671875 62.703125 7.8125 59.421875 \r\nL 7.8125 69.390625 \r\nQ 13.765625 71.78125 18.9375 73 \r\nQ 24.125 74.21875 28.421875 74.21875 \r\nQ 39.75 74.21875 46.484375 68.546875 \r\nQ 53.21875 62.890625 53.21875 53.421875 \r\nQ 53.21875 48.921875 51.53125 44.890625 \r\nQ 49.859375 40.875 45.40625 35.40625 \r\nQ 44.1875 33.984375 37.640625 27.21875 \r\nQ 31.109375 20.453125 19.1875 8.296875 \r\nz\r\n\" id=\"DejaVuSans-50\"/>\r\n    </defs>\r\n    <g transform=\"translate(125.164591 192.299937)scale(0.01 -0.01)\">\r\n     <use xlink:href=\"#DejaVuSans-115\"/>\r\n     <use x=\"52.099609\" xlink:href=\"#DejaVuSans-97\"/>\r\n     <use x=\"113.378906\" xlink:href=\"#DejaVuSans-109\"/>\r\n     <use x=\"210.791016\" xlink:href=\"#DejaVuSans-112\"/>\r\n     <use x=\"274.267578\" xlink:href=\"#DejaVuSans-108\"/>\r\n     <use x=\"302.050781\" xlink:href=\"#DejaVuSans-101\"/>\r\n     <use x=\"363.574219\" xlink:href=\"#DejaVuSans-115\"/>\r\n     <use x=\"415.673828\" xlink:href=\"#DejaVuSans-32\"/>\r\n     <use x=\"447.460938\" xlink:href=\"#DejaVuSans-61\"/>\r\n     <use x=\"531.25\" xlink:href=\"#DejaVuSans-32\"/>\r\n     <use x=\"563.037109\" xlink:href=\"#DejaVuSans-50\"/>\r\n    </g>\r\n    <!-- value = [0, 2] -->\r\n    <g transform=\"translate(124.851075 193.419719)scale(0.01 -0.01)\">\r\n     <use xlink:href=\"#DejaVuSans-118\"/>\r\n     <use x=\"59.179688\" xlink:href=\"#DejaVuSans-97\"/>\r\n     <use x=\"120.458984\" xlink:href=\"#DejaVuSans-108\"/>\r\n     <use x=\"148.242188\" xlink:href=\"#DejaVuSans-117\"/>\r\n     <use x=\"211.621094\" xlink:href=\"#DejaVuSans-101\"/>\r\n     <use x=\"273.144531\" xlink:href=\"#DejaVuSans-32\"/>\r\n     <use x=\"304.931641\" xlink:href=\"#DejaVuSans-61\"/>\r\n     <use x=\"388.720703\" xlink:href=\"#DejaVuSans-32\"/>\r\n     <use x=\"420.507812\" xlink:href=\"#DejaVuSans-91\"/>\r\n     <use x=\"459.521484\" xlink:href=\"#DejaVuSans-48\"/>\r\n     <use x=\"523.144531\" xlink:href=\"#DejaVuSans-44\"/>\r\n     <use x=\"554.931641\" xlink:href=\"#DejaVuSans-32\"/>\r\n     <use x=\"586.71875\" xlink:href=\"#DejaVuSans-50\"/>\r\n     <use x=\"650.341797\" xlink:href=\"#DejaVuSans-93\"/>\r\n    </g>\r\n   </g>\r\n   <g id=\"patch_14\">\r\n    <path d=\"M 144.303134 186.656369 \r\nQ 146.499841 179.950979 149.044618 172.183116 \r\n\" style=\"fill:none;stroke:#000000;stroke-linecap:round;\"/>\r\n    <path d=\"M 144.617724 186.338512 \r\nL 144.303134 186.656369 \r\nL 144.237602 186.213983 \r\n\" style=\"fill:none;stroke:#000000;stroke-linecap:round;\"/>\r\n   </g>\r\n   <g id=\"text_7\">\r\n    <g id=\"patch_15\">\r\n     <path d=\"M 138.797884 193.927687 \r\nL 146.291478 193.927687 \r\nL 146.291478 190.120312 \r\nL 138.797884 190.120312 \r\nz\r\n\" style=\"fill:#ffffff;stroke:#000000;stroke-linejoin:miter;\"/>\r\n    </g>\r\n    <!-- gini = 0.0 -->\r\n    <g transform=\"translate(140.100618 191.180156)scale(0.01 -0.01)\">\r\n     <use xlink:href=\"#DejaVuSans-103\"/>\r\n     <use x=\"63.476562\" xlink:href=\"#DejaVuSans-105\"/>\r\n     <use x=\"91.259766\" xlink:href=\"#DejaVuSans-110\"/>\r\n     <use x=\"154.638672\" xlink:href=\"#DejaVuSans-105\"/>\r\n     <use x=\"182.421875\" xlink:href=\"#DejaVuSans-32\"/>\r\n     <use x=\"214.208984\" xlink:href=\"#DejaVuSans-61\"/>\r\n     <use x=\"297.998047\" xlink:href=\"#DejaVuSans-32\"/>\r\n     <use x=\"329.785156\" xlink:href=\"#DejaVuSans-48\"/>\r\n     <use x=\"393.408203\" xlink:href=\"#DejaVuSans-46\"/>\r\n     <use x=\"425.195312\" xlink:href=\"#DejaVuSans-48\"/>\r\n    </g>\r\n    <!-- samples = 1 -->\r\n    <g transform=\"translate(139.4114 192.299937)scale(0.01 -0.01)\">\r\n     <use xlink:href=\"#DejaVuSans-115\"/>\r\n     <use x=\"52.099609\" xlink:href=\"#DejaVuSans-97\"/>\r\n     <use x=\"113.378906\" xlink:href=\"#DejaVuSans-109\"/>\r\n     <use x=\"210.791016\" xlink:href=\"#DejaVuSans-112\"/>\r\n     <use x=\"274.267578\" xlink:href=\"#DejaVuSans-108\"/>\r\n     <use x=\"302.050781\" xlink:href=\"#DejaVuSans-101\"/>\r\n     <use x=\"363.574219\" xlink:href=\"#DejaVuSans-115\"/>\r\n     <use x=\"415.673828\" xlink:href=\"#DejaVuSans-32\"/>\r\n     <use x=\"447.460938\" xlink:href=\"#DejaVuSans-61\"/>\r\n     <use x=\"531.25\" xlink:href=\"#DejaVuSans-32\"/>\r\n     <use x=\"563.037109\" xlink:href=\"#DejaVuSans-49\"/>\r\n    </g>\r\n    <!-- value = [1, 0] -->\r\n    <g transform=\"translate(139.097884 193.419719)scale(0.01 -0.01)\">\r\n     <use xlink:href=\"#DejaVuSans-118\"/>\r\n     <use x=\"59.179688\" xlink:href=\"#DejaVuSans-97\"/>\r\n     <use x=\"120.458984\" xlink:href=\"#DejaVuSans-108\"/>\r\n     <use x=\"148.242188\" xlink:href=\"#DejaVuSans-117\"/>\r\n     <use x=\"211.621094\" xlink:href=\"#DejaVuSans-101\"/>\r\n     <use x=\"273.144531\" xlink:href=\"#DejaVuSans-32\"/>\r\n     <use x=\"304.931641\" xlink:href=\"#DejaVuSans-61\"/>\r\n     <use x=\"388.720703\" xlink:href=\"#DejaVuSans-32\"/>\r\n     <use x=\"420.507812\" xlink:href=\"#DejaVuSans-91\"/>\r\n     <use x=\"459.521484\" xlink:href=\"#DejaVuSans-49\"/>\r\n     <use x=\"523.144531\" xlink:href=\"#DejaVuSans-44\"/>\r\n     <use x=\"554.931641\" xlink:href=\"#DejaVuSans-32\"/>\r\n     <use x=\"586.71875\" xlink:href=\"#DejaVuSans-48\"/>\r\n     <use x=\"650.341797\" xlink:href=\"#DejaVuSans-93\"/>\r\n    </g>\r\n   </g>\r\n   <g id=\"patch_16\">\r\n    <path d=\"M 155.033036 186.656369 \r\nQ 152.836329 179.950979 150.291552 172.183116 \r\n\" style=\"fill:none;stroke:#000000;stroke-linecap:round;\"/>\r\n    <path d=\"M 155.098568 186.213983 \r\nL 155.033036 186.656369 \r\nL 154.718446 186.338512 \r\n\" style=\"fill:none;stroke:#000000;stroke-linecap:round;\"/>\r\n   </g>\r\n   <g id=\"text_8\">\r\n    <g id=\"patch_17\">\r\n     <path d=\"M 153.044692 193.927687 \r\nL 160.538286 193.927687 \r\nL 160.538286 190.120312 \r\nL 153.044692 190.120312 \r\nz\r\n\" style=\"fill:#ffffff;stroke:#000000;stroke-linejoin:miter;\"/>\r\n    </g>\r\n    <!-- gini = 0.0 -->\r\n    <g transform=\"translate(154.347427 191.180156)scale(0.01 -0.01)\">\r\n     <use xlink:href=\"#DejaVuSans-103\"/>\r\n     <use x=\"63.476562\" xlink:href=\"#DejaVuSans-105\"/>\r\n     <use x=\"91.259766\" xlink:href=\"#DejaVuSans-110\"/>\r\n     <use x=\"154.638672\" xlink:href=\"#DejaVuSans-105\"/>\r\n     <use x=\"182.421875\" xlink:href=\"#DejaVuSans-32\"/>\r\n     <use x=\"214.208984\" xlink:href=\"#DejaVuSans-61\"/>\r\n     <use x=\"297.998047\" xlink:href=\"#DejaVuSans-32\"/>\r\n     <use x=\"329.785156\" xlink:href=\"#DejaVuSans-48\"/>\r\n     <use x=\"393.408203\" xlink:href=\"#DejaVuSans-46\"/>\r\n     <use x=\"425.195312\" xlink:href=\"#DejaVuSans-48\"/>\r\n    </g>\r\n    <!-- samples = 2 -->\r\n    <g transform=\"translate(153.658208 192.299937)scale(0.01 -0.01)\">\r\n     <use xlink:href=\"#DejaVuSans-115\"/>\r\n     <use x=\"52.099609\" xlink:href=\"#DejaVuSans-97\"/>\r\n     <use x=\"113.378906\" xlink:href=\"#DejaVuSans-109\"/>\r\n     <use x=\"210.791016\" xlink:href=\"#DejaVuSans-112\"/>\r\n     <use x=\"274.267578\" xlink:href=\"#DejaVuSans-108\"/>\r\n     <use x=\"302.050781\" xlink:href=\"#DejaVuSans-101\"/>\r\n     <use x=\"363.574219\" xlink:href=\"#DejaVuSans-115\"/>\r\n     <use x=\"415.673828\" xlink:href=\"#DejaVuSans-32\"/>\r\n     <use x=\"447.460938\" xlink:href=\"#DejaVuSans-61\"/>\r\n     <use x=\"531.25\" xlink:href=\"#DejaVuSans-32\"/>\r\n     <use x=\"563.037109\" xlink:href=\"#DejaVuSans-50\"/>\r\n    </g>\r\n    <!-- value = [0, 2] -->\r\n    <g transform=\"translate(153.344692 193.419719)scale(0.01 -0.01)\">\r\n     <use xlink:href=\"#DejaVuSans-118\"/>\r\n     <use x=\"59.179688\" xlink:href=\"#DejaVuSans-97\"/>\r\n     <use x=\"120.458984\" xlink:href=\"#DejaVuSans-108\"/>\r\n     <use x=\"148.242188\" xlink:href=\"#DejaVuSans-117\"/>\r\n     <use x=\"211.621094\" xlink:href=\"#DejaVuSans-101\"/>\r\n     <use x=\"273.144531\" xlink:href=\"#DejaVuSans-32\"/>\r\n     <use x=\"304.931641\" xlink:href=\"#DejaVuSans-61\"/>\r\n     <use x=\"388.720703\" xlink:href=\"#DejaVuSans-32\"/>\r\n     <use x=\"420.507812\" xlink:href=\"#DejaVuSans-91\"/>\r\n     <use x=\"459.521484\" xlink:href=\"#DejaVuSans-48\"/>\r\n     <use x=\"523.144531\" xlink:href=\"#DejaVuSans-44\"/>\r\n     <use x=\"554.931641\" xlink:href=\"#DejaVuSans-32\"/>\r\n     <use x=\"586.71875\" xlink:href=\"#DejaVuSans-50\"/>\r\n     <use x=\"650.341797\" xlink:href=\"#DejaVuSans-93\"/>\r\n    </g>\r\n   </g>\r\n   <g id=\"patch_18\">\r\n    <path d=\"M 229.783985 186.656369 \r\nQ 231.980693 179.950979 234.525469 172.183116 \r\n\" style=\"fill:none;stroke:#000000;stroke-linecap:round;\"/>\r\n    <path d=\"M 230.098575 186.338512 \r\nL 229.783985 186.656369 \r\nL 229.718453 186.213983 \r\n\" style=\"fill:none;stroke:#000000;stroke-linecap:round;\"/>\r\n   </g>\r\n   <g id=\"text_9\">\r\n    <g id=\"patch_19\">\r\n     <path d=\"M 223.96061 193.927687 \r\nL 232.090454 193.927687 \r\nL 232.090454 190.120312 \r\nL 223.96061 190.120312 \r\nz\r\n\" style=\"fill:#ffffff;stroke:#000000;stroke-linejoin:miter;\"/>\r\n    </g>\r\n    <!-- gini = 0.0 -->\r\n    <g transform=\"translate(225.581469 191.180156)scale(0.01 -0.01)\">\r\n     <use xlink:href=\"#DejaVuSans-103\"/>\r\n     <use x=\"63.476562\" xlink:href=\"#DejaVuSans-105\"/>\r\n     <use x=\"91.259766\" xlink:href=\"#DejaVuSans-110\"/>\r\n     <use x=\"154.638672\" xlink:href=\"#DejaVuSans-105\"/>\r\n     <use x=\"182.421875\" xlink:href=\"#DejaVuSans-32\"/>\r\n     <use x=\"214.208984\" xlink:href=\"#DejaVuSans-61\"/>\r\n     <use x=\"297.998047\" xlink:href=\"#DejaVuSans-32\"/>\r\n     <use x=\"329.785156\" xlink:href=\"#DejaVuSans-48\"/>\r\n     <use x=\"393.408203\" xlink:href=\"#DejaVuSans-46\"/>\r\n     <use x=\"425.195312\" xlink:href=\"#DejaVuSans-48\"/>\r\n    </g>\r\n    <!-- samples = 12 -->\r\n    <g transform=\"translate(224.574126 192.299937)scale(0.01 -0.01)\">\r\n     <use xlink:href=\"#DejaVuSans-115\"/>\r\n     <use x=\"52.099609\" xlink:href=\"#DejaVuSans-97\"/>\r\n     <use x=\"113.378906\" xlink:href=\"#DejaVuSans-109\"/>\r\n     <use x=\"210.791016\" xlink:href=\"#DejaVuSans-112\"/>\r\n     <use x=\"274.267578\" xlink:href=\"#DejaVuSans-108\"/>\r\n     <use x=\"302.050781\" xlink:href=\"#DejaVuSans-101\"/>\r\n     <use x=\"363.574219\" xlink:href=\"#DejaVuSans-115\"/>\r\n     <use x=\"415.673828\" xlink:href=\"#DejaVuSans-32\"/>\r\n     <use x=\"447.460938\" xlink:href=\"#DejaVuSans-61\"/>\r\n     <use x=\"531.25\" xlink:href=\"#DejaVuSans-32\"/>\r\n     <use x=\"563.037109\" xlink:href=\"#DejaVuSans-49\"/>\r\n     <use x=\"626.660156\" xlink:href=\"#DejaVuSans-50\"/>\r\n    </g>\r\n    <!-- value = [12, 0] -->\r\n    <g transform=\"translate(224.26061 193.419719)scale(0.01 -0.01)\">\r\n     <use xlink:href=\"#DejaVuSans-118\"/>\r\n     <use x=\"59.179688\" xlink:href=\"#DejaVuSans-97\"/>\r\n     <use x=\"120.458984\" xlink:href=\"#DejaVuSans-108\"/>\r\n     <use x=\"148.242188\" xlink:href=\"#DejaVuSans-117\"/>\r\n     <use x=\"211.621094\" xlink:href=\"#DejaVuSans-101\"/>\r\n     <use x=\"273.144531\" xlink:href=\"#DejaVuSans-32\"/>\r\n     <use x=\"304.931641\" xlink:href=\"#DejaVuSans-61\"/>\r\n     <use x=\"388.720703\" xlink:href=\"#DejaVuSans-32\"/>\r\n     <use x=\"420.507812\" xlink:href=\"#DejaVuSans-91\"/>\r\n     <use x=\"459.521484\" xlink:href=\"#DejaVuSans-49\"/>\r\n     <use x=\"523.144531\" xlink:href=\"#DejaVuSans-50\"/>\r\n     <use x=\"586.767578\" xlink:href=\"#DejaVuSans-44\"/>\r\n     <use x=\"618.554688\" xlink:href=\"#DejaVuSans-32\"/>\r\n     <use x=\"650.341797\" xlink:href=\"#DejaVuSans-48\"/>\r\n     <use x=\"713.964844\" xlink:href=\"#DejaVuSans-93\"/>\r\n    </g>\r\n   </g>\r\n   <g id=\"patch_20\">\r\n    <path d=\"M 240.317152 186.055839 \r\nQ 238.218851 179.650833 235.772481 172.183354 \r\n\" style=\"fill:none;stroke:#000000;stroke-linecap:round;\"/>\r\n    <path d=\"M 240.382684 185.613453 \r\nL 240.317152 186.055839 \r\nL 240.002562 185.737982 \r\n\" style=\"fill:none;stroke:#000000;stroke-linecap:round;\"/>\r\n   </g>\r\n   <g id=\"text_10\">\r\n    <g id=\"patch_21\">\r\n     <path d=\"M 232.864762 194.501484 \r\nL 251.679919 194.501484 \r\nL 251.679919 189.518703 \r\nL 232.864762 189.518703 \r\nz\r\n\" style=\"fill:#ffffff;stroke:#000000;stroke-linejoin:miter;\"/>\r\n    </g>\r\n    <!-- creatinine_phosphokinase &lt;= 409.0 -->\r\n    <defs>\r\n     <path d=\"M 48.78125 52.59375 \r\nL 48.78125 44.1875 \r\nQ 44.96875 46.296875 41.140625 47.34375 \r\nQ 37.3125 48.390625 33.40625 48.390625 \r\nQ 24.65625 48.390625 19.8125 42.84375 \r\nQ 14.984375 37.3125 14.984375 27.296875 \r\nQ 14.984375 17.28125 19.8125 11.734375 \r\nQ 24.65625 6.203125 33.40625 6.203125 \r\nQ 37.3125 6.203125 41.140625 7.25 \r\nQ 44.96875 8.296875 48.78125 10.40625 \r\nL 48.78125 2.09375 \r\nQ 45.015625 0.34375 40.984375 -0.53125 \r\nQ 36.96875 -1.421875 32.421875 -1.421875 \r\nQ 20.0625 -1.421875 12.78125 6.34375 \r\nQ 5.515625 14.109375 5.515625 27.296875 \r\nQ 5.515625 40.671875 12.859375 48.328125 \r\nQ 20.21875 56 33.015625 56 \r\nQ 37.15625 56 41.109375 55.140625 \r\nQ 45.0625 54.296875 48.78125 52.59375 \r\nz\r\n\" id=\"DejaVuSans-99\"/>\r\n     <path d=\"M 41.109375 46.296875 \r\nQ 39.59375 47.171875 37.8125 47.578125 \r\nQ 36.03125 48 33.890625 48 \r\nQ 26.265625 48 22.1875 43.046875 \r\nQ 18.109375 38.09375 18.109375 28.8125 \r\nL 18.109375 0 \r\nL 9.078125 0 \r\nL 9.078125 54.6875 \r\nL 18.109375 54.6875 \r\nL 18.109375 46.1875 \r\nQ 20.953125 51.171875 25.484375 53.578125 \r\nQ 30.03125 56 36.53125 56 \r\nQ 37.453125 56 38.578125 55.875 \r\nQ 39.703125 55.765625 41.0625 55.515625 \r\nz\r\n\" id=\"DejaVuSans-114\"/>\r\n     <path d=\"M 18.3125 70.21875 \r\nL 18.3125 54.6875 \r\nL 36.8125 54.6875 \r\nL 36.8125 47.703125 \r\nL 18.3125 47.703125 \r\nL 18.3125 18.015625 \r\nQ 18.3125 11.328125 20.140625 9.421875 \r\nQ 21.96875 7.515625 27.59375 7.515625 \r\nL 36.8125 7.515625 \r\nL 36.8125 0 \r\nL 27.59375 0 \r\nQ 17.1875 0 13.234375 3.875 \r\nQ 9.28125 7.765625 9.28125 18.015625 \r\nL 9.28125 47.703125 \r\nL 2.6875 47.703125 \r\nL 2.6875 54.6875 \r\nL 9.28125 54.6875 \r\nL 9.28125 70.21875 \r\nz\r\n\" id=\"DejaVuSans-116\"/>\r\n     <path d=\"M 50.984375 -16.609375 \r\nL 50.984375 -23.578125 \r\nL -0.984375 -23.578125 \r\nL -0.984375 -16.609375 \r\nz\r\n\" id=\"DejaVuSans-95\"/>\r\n     <path d=\"M 54.890625 33.015625 \r\nL 54.890625 0 \r\nL 45.90625 0 \r\nL 45.90625 32.71875 \r\nQ 45.90625 40.484375 42.875 44.328125 \r\nQ 39.84375 48.1875 33.796875 48.1875 \r\nQ 26.515625 48.1875 22.3125 43.546875 \r\nQ 18.109375 38.921875 18.109375 30.90625 \r\nL 18.109375 0 \r\nL 9.078125 0 \r\nL 9.078125 75.984375 \r\nL 18.109375 75.984375 \r\nL 18.109375 46.1875 \r\nQ 21.34375 51.125 25.703125 53.5625 \r\nQ 30.078125 56 35.796875 56 \r\nQ 45.21875 56 50.046875 50.171875 \r\nQ 54.890625 44.34375 54.890625 33.015625 \r\nz\r\n\" id=\"DejaVuSans-104\"/>\r\n     <path d=\"M 30.609375 48.390625 \r\nQ 23.390625 48.390625 19.1875 42.75 \r\nQ 14.984375 37.109375 14.984375 27.296875 \r\nQ 14.984375 17.484375 19.15625 11.84375 \r\nQ 23.34375 6.203125 30.609375 6.203125 \r\nQ 37.796875 6.203125 41.984375 11.859375 \r\nQ 46.1875 17.53125 46.1875 27.296875 \r\nQ 46.1875 37.015625 41.984375 42.703125 \r\nQ 37.796875 48.390625 30.609375 48.390625 \r\nz\r\nM 30.609375 56 \r\nQ 42.328125 56 49.015625 48.375 \r\nQ 55.71875 40.765625 55.71875 27.296875 \r\nQ 55.71875 13.875 49.015625 6.21875 \r\nQ 42.328125 -1.421875 30.609375 -1.421875 \r\nQ 18.84375 -1.421875 12.171875 6.21875 \r\nQ 5.515625 13.875 5.515625 27.296875 \r\nQ 5.515625 40.765625 12.171875 48.375 \r\nQ 18.84375 56 30.609375 56 \r\nz\r\n\" id=\"DejaVuSans-111\"/>\r\n     <path d=\"M 9.078125 75.984375 \r\nL 18.109375 75.984375 \r\nL 18.109375 31.109375 \r\nL 44.921875 54.6875 \r\nL 56.390625 54.6875 \r\nL 27.390625 29.109375 \r\nL 57.625 0 \r\nL 45.90625 0 \r\nL 18.109375 26.703125 \r\nL 18.109375 0 \r\nL 9.078125 0 \r\nz\r\n\" id=\"DejaVuSans-107\"/>\r\n     <path d=\"M 73.1875 49.21875 \r\nL 22.796875 31.296875 \r\nL 73.1875 13.484375 \r\nL 73.1875 4.59375 \r\nL 10.59375 27.296875 \r\nL 10.59375 35.40625 \r\nL 73.1875 58.109375 \r\nz\r\n\" id=\"DejaVuSans-60\"/>\r\n     <path d=\"M 10.984375 1.515625 \r\nL 10.984375 10.5 \r\nQ 14.703125 8.734375 18.5 7.8125 \r\nQ 22.3125 6.890625 25.984375 6.890625 \r\nQ 35.75 6.890625 40.890625 13.453125 \r\nQ 46.046875 20.015625 46.78125 33.40625 \r\nQ 43.953125 29.203125 39.59375 26.953125 \r\nQ 35.25 24.703125 29.984375 24.703125 \r\nQ 19.046875 24.703125 12.671875 31.3125 \r\nQ 6.296875 37.9375 6.296875 49.421875 \r\nQ 6.296875 60.640625 12.9375 67.421875 \r\nQ 19.578125 74.21875 30.609375 74.21875 \r\nQ 43.265625 74.21875 49.921875 64.515625 \r\nQ 56.59375 54.828125 56.59375 36.375 \r\nQ 56.59375 19.140625 48.40625 8.859375 \r\nQ 40.234375 -1.421875 26.421875 -1.421875 \r\nQ 22.703125 -1.421875 18.890625 -0.6875 \r\nQ 15.09375 0.046875 10.984375 1.515625 \r\nz\r\nM 30.609375 32.421875 \r\nQ 37.25 32.421875 41.125 36.953125 \r\nQ 45.015625 41.5 45.015625 49.421875 \r\nQ 45.015625 57.28125 41.125 61.84375 \r\nQ 37.25 66.40625 30.609375 66.40625 \r\nQ 23.96875 66.40625 20.09375 61.84375 \r\nQ 16.21875 57.28125 16.21875 49.421875 \r\nQ 16.21875 41.5 20.09375 36.953125 \r\nQ 23.96875 32.421875 30.609375 32.421875 \r\nz\r\n\" id=\"DejaVuSans-57\"/>\r\n    </defs>\r\n    <g transform=\"translate(233.164762 190.606359)scale(0.01 -0.01)\">\r\n     <use xlink:href=\"#DejaVuSans-99\"/>\r\n     <use x=\"54.980469\" xlink:href=\"#DejaVuSans-114\"/>\r\n     <use x=\"96.0625\" xlink:href=\"#DejaVuSans-101\"/>\r\n     <use x=\"157.585938\" xlink:href=\"#DejaVuSans-97\"/>\r\n     <use x=\"218.865234\" xlink:href=\"#DejaVuSans-116\"/>\r\n     <use x=\"258.074219\" xlink:href=\"#DejaVuSans-105\"/>\r\n     <use x=\"285.857422\" xlink:href=\"#DejaVuSans-110\"/>\r\n     <use x=\"349.236328\" xlink:href=\"#DejaVuSans-105\"/>\r\n     <use x=\"377.019531\" xlink:href=\"#DejaVuSans-110\"/>\r\n     <use x=\"440.398438\" xlink:href=\"#DejaVuSans-101\"/>\r\n     <use x=\"501.921875\" xlink:href=\"#DejaVuSans-95\"/>\r\n     <use x=\"551.921875\" xlink:href=\"#DejaVuSans-112\"/>\r\n     <use x=\"615.398438\" xlink:href=\"#DejaVuSans-104\"/>\r\n     <use x=\"678.777344\" xlink:href=\"#DejaVuSans-111\"/>\r\n     <use x=\"739.958984\" xlink:href=\"#DejaVuSans-115\"/>\r\n     <use x=\"792.058594\" xlink:href=\"#DejaVuSans-112\"/>\r\n     <use x=\"855.535156\" xlink:href=\"#DejaVuSans-104\"/>\r\n     <use x=\"918.914062\" xlink:href=\"#DejaVuSans-111\"/>\r\n     <use x=\"980.095703\" xlink:href=\"#DejaVuSans-107\"/>\r\n     <use x=\"1038.005859\" xlink:href=\"#DejaVuSans-105\"/>\r\n     <use x=\"1065.789062\" xlink:href=\"#DejaVuSans-110\"/>\r\n     <use x=\"1129.167969\" xlink:href=\"#DejaVuSans-97\"/>\r\n     <use x=\"1190.447266\" xlink:href=\"#DejaVuSans-115\"/>\r\n     <use x=\"1242.546875\" xlink:href=\"#DejaVuSans-101\"/>\r\n     <use x=\"1304.070312\" xlink:href=\"#DejaVuSans-32\"/>\r\n     <use x=\"1335.857422\" xlink:href=\"#DejaVuSans-60\"/>\r\n     <use x=\"1419.646484\" xlink:href=\"#DejaVuSans-61\"/>\r\n     <use x=\"1503.435547\" xlink:href=\"#DejaVuSans-32\"/>\r\n     <use x=\"1535.222656\" xlink:href=\"#DejaVuSans-52\"/>\r\n     <use x=\"1598.845703\" xlink:href=\"#DejaVuSans-48\"/>\r\n     <use x=\"1662.46875\" xlink:href=\"#DejaVuSans-57\"/>\r\n     <use x=\"1726.091797\" xlink:href=\"#DejaVuSans-46\"/>\r\n     <use x=\"1757.878906\" xlink:href=\"#DejaVuSans-48\"/>\r\n    </g>\r\n    <!-- gini = 0.5 -->\r\n    <defs>\r\n     <path d=\"M 10.796875 72.90625 \r\nL 49.515625 72.90625 \r\nL 49.515625 64.59375 \r\nL 19.828125 64.59375 \r\nL 19.828125 46.734375 \r\nQ 21.96875 47.46875 24.109375 47.828125 \r\nQ 26.265625 48.1875 28.421875 48.1875 \r\nQ 40.625 48.1875 47.75 41.5 \r\nQ 54.890625 34.8125 54.890625 23.390625 \r\nQ 54.890625 11.625 47.5625 5.09375 \r\nQ 40.234375 -1.421875 26.90625 -1.421875 \r\nQ 22.3125 -1.421875 17.546875 -0.640625 \r\nQ 12.796875 0.140625 7.71875 1.703125 \r\nL 7.71875 11.625 \r\nQ 12.109375 9.234375 16.796875 8.0625 \r\nQ 21.484375 6.890625 26.703125 6.890625 \r\nQ 35.15625 6.890625 40.078125 11.328125 \r\nQ 45.015625 15.765625 45.015625 23.390625 \r\nQ 45.015625 31 40.078125 35.4375 \r\nQ 35.15625 39.890625 26.703125 39.890625 \r\nQ 22.75 39.890625 18.8125 39.015625 \r\nQ 14.890625 38.140625 10.796875 36.28125 \r\nz\r\n\" id=\"DejaVuSans-53\"/>\r\n    </defs>\r\n    <g transform=\"translate(239.828278 191.753953)scale(0.01 -0.01)\">\r\n     <use xlink:href=\"#DejaVuSans-103\"/>\r\n     <use x=\"63.476562\" xlink:href=\"#DejaVuSans-105\"/>\r\n     <use x=\"91.259766\" xlink:href=\"#DejaVuSans-110\"/>\r\n     <use x=\"154.638672\" xlink:href=\"#DejaVuSans-105\"/>\r\n     <use x=\"182.421875\" xlink:href=\"#DejaVuSans-32\"/>\r\n     <use x=\"214.208984\" xlink:href=\"#DejaVuSans-61\"/>\r\n     <use x=\"297.998047\" xlink:href=\"#DejaVuSans-32\"/>\r\n     <use x=\"329.785156\" xlink:href=\"#DejaVuSans-48\"/>\r\n     <use x=\"393.408203\" xlink:href=\"#DejaVuSans-46\"/>\r\n     <use x=\"425.195312\" xlink:href=\"#DejaVuSans-53\"/>\r\n    </g>\r\n    <!-- samples = 2 -->\r\n    <g transform=\"translate(239.139059 192.873734)scale(0.01 -0.01)\">\r\n     <use xlink:href=\"#DejaVuSans-115\"/>\r\n     <use x=\"52.099609\" xlink:href=\"#DejaVuSans-97\"/>\r\n     <use x=\"113.378906\" xlink:href=\"#DejaVuSans-109\"/>\r\n     <use x=\"210.791016\" xlink:href=\"#DejaVuSans-112\"/>\r\n     <use x=\"274.267578\" xlink:href=\"#DejaVuSans-108\"/>\r\n     <use x=\"302.050781\" xlink:href=\"#DejaVuSans-101\"/>\r\n     <use x=\"363.574219\" xlink:href=\"#DejaVuSans-115\"/>\r\n     <use x=\"415.673828\" xlink:href=\"#DejaVuSans-32\"/>\r\n     <use x=\"447.460938\" xlink:href=\"#DejaVuSans-61\"/>\r\n     <use x=\"531.25\" xlink:href=\"#DejaVuSans-32\"/>\r\n     <use x=\"563.037109\" xlink:href=\"#DejaVuSans-50\"/>\r\n    </g>\r\n    <!-- value = [1, 1] -->\r\n    <g transform=\"translate(238.825544 193.993516)scale(0.01 -0.01)\">\r\n     <use xlink:href=\"#DejaVuSans-118\"/>\r\n     <use x=\"59.179688\" xlink:href=\"#DejaVuSans-97\"/>\r\n     <use x=\"120.458984\" xlink:href=\"#DejaVuSans-108\"/>\r\n     <use x=\"148.242188\" xlink:href=\"#DejaVuSans-117\"/>\r\n     <use x=\"211.621094\" xlink:href=\"#DejaVuSans-101\"/>\r\n     <use x=\"273.144531\" xlink:href=\"#DejaVuSans-32\"/>\r\n     <use x=\"304.931641\" xlink:href=\"#DejaVuSans-61\"/>\r\n     <use x=\"388.720703\" xlink:href=\"#DejaVuSans-32\"/>\r\n     <use x=\"420.507812\" xlink:href=\"#DejaVuSans-91\"/>\r\n     <use x=\"459.521484\" xlink:href=\"#DejaVuSans-49\"/>\r\n     <use x=\"523.144531\" xlink:href=\"#DejaVuSans-44\"/>\r\n     <use x=\"554.931641\" xlink:href=\"#DejaVuSans-32\"/>\r\n     <use x=\"586.71875\" xlink:href=\"#DejaVuSans-49\"/>\r\n     <use x=\"650.341797\" xlink:href=\"#DejaVuSans-93\"/>\r\n    </g>\r\n   </g>\r\n   <g id=\"patch_22\">\r\n    <path d=\"M 293.894623 186.656369 \r\nQ 296.091331 179.950979 298.636108 172.183116 \r\n\" style=\"fill:none;stroke:#000000;stroke-linecap:round;\"/>\r\n    <path d=\"M 294.209213 186.338512 \r\nL 293.894623 186.656369 \r\nL 293.829092 186.213983 \r\n\" style=\"fill:none;stroke:#000000;stroke-linecap:round;\"/>\r\n   </g>\r\n   <g id=\"text_11\">\r\n    <g id=\"patch_23\">\r\n     <path d=\"M 288.389373 193.927687 \r\nL 295.882967 193.927687 \r\nL 295.882967 190.120312 \r\nL 288.389373 190.120312 \r\nz\r\n\" style=\"fill:#ffffff;stroke:#000000;stroke-linejoin:miter;\"/>\r\n    </g>\r\n    <!-- gini = 0.0 -->\r\n    <g transform=\"translate(289.692108 191.180156)scale(0.01 -0.01)\">\r\n     <use xlink:href=\"#DejaVuSans-103\"/>\r\n     <use x=\"63.476562\" xlink:href=\"#DejaVuSans-105\"/>\r\n     <use x=\"91.259766\" xlink:href=\"#DejaVuSans-110\"/>\r\n     <use x=\"154.638672\" xlink:href=\"#DejaVuSans-105\"/>\r\n     <use x=\"182.421875\" xlink:href=\"#DejaVuSans-32\"/>\r\n     <use x=\"214.208984\" xlink:href=\"#DejaVuSans-61\"/>\r\n     <use x=\"297.998047\" xlink:href=\"#DejaVuSans-32\"/>\r\n     <use x=\"329.785156\" xlink:href=\"#DejaVuSans-48\"/>\r\n     <use x=\"393.408203\" xlink:href=\"#DejaVuSans-46\"/>\r\n     <use x=\"425.195312\" xlink:href=\"#DejaVuSans-48\"/>\r\n    </g>\r\n    <!-- samples = 1 -->\r\n    <g transform=\"translate(289.002889 192.299937)scale(0.01 -0.01)\">\r\n     <use xlink:href=\"#DejaVuSans-115\"/>\r\n     <use x=\"52.099609\" xlink:href=\"#DejaVuSans-97\"/>\r\n     <use x=\"113.378906\" xlink:href=\"#DejaVuSans-109\"/>\r\n     <use x=\"210.791016\" xlink:href=\"#DejaVuSans-112\"/>\r\n     <use x=\"274.267578\" xlink:href=\"#DejaVuSans-108\"/>\r\n     <use x=\"302.050781\" xlink:href=\"#DejaVuSans-101\"/>\r\n     <use x=\"363.574219\" xlink:href=\"#DejaVuSans-115\"/>\r\n     <use x=\"415.673828\" xlink:href=\"#DejaVuSans-32\"/>\r\n     <use x=\"447.460938\" xlink:href=\"#DejaVuSans-61\"/>\r\n     <use x=\"531.25\" xlink:href=\"#DejaVuSans-32\"/>\r\n     <use x=\"563.037109\" xlink:href=\"#DejaVuSans-49\"/>\r\n    </g>\r\n    <!-- value = [1, 0] -->\r\n    <g transform=\"translate(288.689373 193.419719)scale(0.01 -0.01)\">\r\n     <use xlink:href=\"#DejaVuSans-118\"/>\r\n     <use x=\"59.179688\" xlink:href=\"#DejaVuSans-97\"/>\r\n     <use x=\"120.458984\" xlink:href=\"#DejaVuSans-108\"/>\r\n     <use x=\"148.242188\" xlink:href=\"#DejaVuSans-117\"/>\r\n     <use x=\"211.621094\" xlink:href=\"#DejaVuSans-101\"/>\r\n     <use x=\"273.144531\" xlink:href=\"#DejaVuSans-32\"/>\r\n     <use x=\"304.931641\" xlink:href=\"#DejaVuSans-61\"/>\r\n     <use x=\"388.720703\" xlink:href=\"#DejaVuSans-32\"/>\r\n     <use x=\"420.507812\" xlink:href=\"#DejaVuSans-91\"/>\r\n     <use x=\"459.521484\" xlink:href=\"#DejaVuSans-49\"/>\r\n     <use x=\"523.144531\" xlink:href=\"#DejaVuSans-44\"/>\r\n     <use x=\"554.931641\" xlink:href=\"#DejaVuSans-32\"/>\r\n     <use x=\"586.71875\" xlink:href=\"#DejaVuSans-48\"/>\r\n     <use x=\"650.341797\" xlink:href=\"#DejaVuSans-93\"/>\r\n    </g>\r\n   </g>\r\n   <g id=\"patch_24\">\r\n    <path d=\"M 304.42779 186.055839 \r\nQ 302.329489 179.650833 299.883119 172.183354 \r\n\" style=\"fill:none;stroke:#000000;stroke-linecap:round;\"/>\r\n    <path d=\"M 304.493322 185.613453 \r\nL 304.42779 186.055839 \r\nL 304.1132 185.737982 \r\n\" style=\"fill:none;stroke:#000000;stroke-linecap:round;\"/>\r\n   </g>\r\n   <g id=\"text_12\">\r\n    <g id=\"patch_25\">\r\n     <path d=\"M 299.158604 194.501484 \r\nL 313.607354 194.501484 \r\nL 313.607354 189.518703 \r\nL 299.158604 189.518703 \r\nz\r\n\" style=\"fill:#ffffff;stroke:#000000;stroke-linejoin:miter;\"/>\r\n    </g>\r\n    <!-- serum_creatinine &lt;= 1.965 -->\r\n    <defs>\r\n     <path d=\"M 33.015625 40.375 \r\nQ 26.375 40.375 22.484375 35.828125 \r\nQ 18.609375 31.296875 18.609375 23.390625 \r\nQ 18.609375 15.53125 22.484375 10.953125 \r\nQ 26.375 6.390625 33.015625 6.390625 \r\nQ 39.65625 6.390625 43.53125 10.953125 \r\nQ 47.40625 15.53125 47.40625 23.390625 \r\nQ 47.40625 31.296875 43.53125 35.828125 \r\nQ 39.65625 40.375 33.015625 40.375 \r\nz\r\nM 52.59375 71.296875 \r\nL 52.59375 62.3125 \r\nQ 48.875 64.0625 45.09375 64.984375 \r\nQ 41.3125 65.921875 37.59375 65.921875 \r\nQ 27.828125 65.921875 22.671875 59.328125 \r\nQ 17.53125 52.734375 16.796875 39.40625 \r\nQ 19.671875 43.65625 24.015625 45.921875 \r\nQ 28.375 48.1875 33.59375 48.1875 \r\nQ 44.578125 48.1875 50.953125 41.515625 \r\nQ 57.328125 34.859375 57.328125 23.390625 \r\nQ 57.328125 12.15625 50.6875 5.359375 \r\nQ 44.046875 -1.421875 33.015625 -1.421875 \r\nQ 20.359375 -1.421875 13.671875 8.265625 \r\nQ 6.984375 17.96875 6.984375 36.375 \r\nQ 6.984375 53.65625 15.1875 63.9375 \r\nQ 23.390625 74.21875 37.203125 74.21875 \r\nQ 40.921875 74.21875 44.703125 73.484375 \r\nQ 48.484375 72.75 52.59375 71.296875 \r\nz\r\n\" id=\"DejaVuSans-54\"/>\r\n    </defs>\r\n    <g transform=\"translate(299.458604 190.606359)scale(0.01 -0.01)\">\r\n     <use xlink:href=\"#DejaVuSans-115\"/>\r\n     <use x=\"52.099609\" xlink:href=\"#DejaVuSans-101\"/>\r\n     <use x=\"113.623047\" xlink:href=\"#DejaVuSans-114\"/>\r\n     <use x=\"154.736328\" xlink:href=\"#DejaVuSans-117\"/>\r\n     <use x=\"218.115234\" xlink:href=\"#DejaVuSans-109\"/>\r\n     <use x=\"315.527344\" xlink:href=\"#DejaVuSans-95\"/>\r\n     <use x=\"365.527344\" xlink:href=\"#DejaVuSans-99\"/>\r\n     <use x=\"420.507812\" xlink:href=\"#DejaVuSans-114\"/>\r\n     <use x=\"461.589844\" xlink:href=\"#DejaVuSans-101\"/>\r\n     <use x=\"523.113281\" xlink:href=\"#DejaVuSans-97\"/>\r\n     <use x=\"584.392578\" xlink:href=\"#DejaVuSans-116\"/>\r\n     <use x=\"623.601562\" xlink:href=\"#DejaVuSans-105\"/>\r\n     <use x=\"651.384766\" xlink:href=\"#DejaVuSans-110\"/>\r\n     <use x=\"714.763672\" xlink:href=\"#DejaVuSans-105\"/>\r\n     <use x=\"742.546875\" xlink:href=\"#DejaVuSans-110\"/>\r\n     <use x=\"805.925781\" xlink:href=\"#DejaVuSans-101\"/>\r\n     <use x=\"867.449219\" xlink:href=\"#DejaVuSans-32\"/>\r\n     <use x=\"899.236328\" xlink:href=\"#DejaVuSans-60\"/>\r\n     <use x=\"983.025391\" xlink:href=\"#DejaVuSans-61\"/>\r\n     <use x=\"1066.814453\" xlink:href=\"#DejaVuSans-32\"/>\r\n     <use x=\"1098.601562\" xlink:href=\"#DejaVuSans-49\"/>\r\n     <use x=\"1162.224609\" xlink:href=\"#DejaVuSans-46\"/>\r\n     <use x=\"1194.011719\" xlink:href=\"#DejaVuSans-57\"/>\r\n     <use x=\"1257.634766\" xlink:href=\"#DejaVuSans-54\"/>\r\n     <use x=\"1321.257812\" xlink:href=\"#DejaVuSans-53\"/>\r\n    </g>\r\n    <!-- gini = 0.32 -->\r\n    <defs>\r\n     <path d=\"M 40.578125 39.3125 \r\nQ 47.65625 37.796875 51.625 33 \r\nQ 55.609375 28.21875 55.609375 21.1875 \r\nQ 55.609375 10.40625 48.1875 4.484375 \r\nQ 40.765625 -1.421875 27.09375 -1.421875 \r\nQ 22.515625 -1.421875 17.65625 -0.515625 \r\nQ 12.796875 0.390625 7.625 2.203125 \r\nL 7.625 11.71875 \r\nQ 11.71875 9.328125 16.59375 8.109375 \r\nQ 21.484375 6.890625 26.8125 6.890625 \r\nQ 36.078125 6.890625 40.9375 10.546875 \r\nQ 45.796875 14.203125 45.796875 21.1875 \r\nQ 45.796875 27.640625 41.28125 31.265625 \r\nQ 36.765625 34.90625 28.71875 34.90625 \r\nL 20.21875 34.90625 \r\nL 20.21875 43.015625 \r\nL 29.109375 43.015625 \r\nQ 36.375 43.015625 40.234375 45.921875 \r\nQ 44.09375 48.828125 44.09375 54.296875 \r\nQ 44.09375 59.90625 40.109375 62.90625 \r\nQ 36.140625 65.921875 28.71875 65.921875 \r\nQ 24.65625 65.921875 20.015625 65.03125 \r\nQ 15.375 64.15625 9.8125 62.3125 \r\nL 9.8125 71.09375 \r\nQ 15.4375 72.65625 20.34375 73.4375 \r\nQ 25.25 74.21875 29.59375 74.21875 \r\nQ 40.828125 74.21875 47.359375 69.109375 \r\nQ 53.90625 64.015625 53.90625 55.328125 \r\nQ 53.90625 49.265625 50.4375 45.09375 \r\nQ 46.96875 40.921875 40.578125 39.3125 \r\nz\r\n\" id=\"DejaVuSans-51\"/>\r\n    </defs>\r\n    <g transform=\"translate(303.620791 191.753953)scale(0.01 -0.01)\">\r\n     <use xlink:href=\"#DejaVuSans-103\"/>\r\n     <use x=\"63.476562\" xlink:href=\"#DejaVuSans-105\"/>\r\n     <use x=\"91.259766\" xlink:href=\"#DejaVuSans-110\"/>\r\n     <use x=\"154.638672\" xlink:href=\"#DejaVuSans-105\"/>\r\n     <use x=\"182.421875\" xlink:href=\"#DejaVuSans-32\"/>\r\n     <use x=\"214.208984\" xlink:href=\"#DejaVuSans-61\"/>\r\n     <use x=\"297.998047\" xlink:href=\"#DejaVuSans-32\"/>\r\n     <use x=\"329.785156\" xlink:href=\"#DejaVuSans-48\"/>\r\n     <use x=\"393.408203\" xlink:href=\"#DejaVuSans-46\"/>\r\n     <use x=\"425.195312\" xlink:href=\"#DejaVuSans-51\"/>\r\n     <use x=\"488.818359\" xlink:href=\"#DejaVuSans-50\"/>\r\n    </g>\r\n    <!-- samples = 5 -->\r\n    <g transform=\"translate(303.249697 192.873734)scale(0.01 -0.01)\">\r\n     <use xlink:href=\"#DejaVuSans-115\"/>\r\n     <use x=\"52.099609\" xlink:href=\"#DejaVuSans-97\"/>\r\n     <use x=\"113.378906\" xlink:href=\"#DejaVuSans-109\"/>\r\n     <use x=\"210.791016\" xlink:href=\"#DejaVuSans-112\"/>\r\n     <use x=\"274.267578\" xlink:href=\"#DejaVuSans-108\"/>\r\n     <use x=\"302.050781\" xlink:href=\"#DejaVuSans-101\"/>\r\n     <use x=\"363.574219\" xlink:href=\"#DejaVuSans-115\"/>\r\n     <use x=\"415.673828\" xlink:href=\"#DejaVuSans-32\"/>\r\n     <use x=\"447.460938\" xlink:href=\"#DejaVuSans-61\"/>\r\n     <use x=\"531.25\" xlink:href=\"#DejaVuSans-32\"/>\r\n     <use x=\"563.037109\" xlink:href=\"#DejaVuSans-53\"/>\r\n    </g>\r\n    <!-- value = [1, 4] -->\r\n    <g transform=\"translate(302.936182 193.993516)scale(0.01 -0.01)\">\r\n     <use xlink:href=\"#DejaVuSans-118\"/>\r\n     <use x=\"59.179688\" xlink:href=\"#DejaVuSans-97\"/>\r\n     <use x=\"120.458984\" xlink:href=\"#DejaVuSans-108\"/>\r\n     <use x=\"148.242188\" xlink:href=\"#DejaVuSans-117\"/>\r\n     <use x=\"211.621094\" xlink:href=\"#DejaVuSans-101\"/>\r\n     <use x=\"273.144531\" xlink:href=\"#DejaVuSans-32\"/>\r\n     <use x=\"304.931641\" xlink:href=\"#DejaVuSans-61\"/>\r\n     <use x=\"388.720703\" xlink:href=\"#DejaVuSans-32\"/>\r\n     <use x=\"420.507812\" xlink:href=\"#DejaVuSans-91\"/>\r\n     <use x=\"459.521484\" xlink:href=\"#DejaVuSans-49\"/>\r\n     <use x=\"523.144531\" xlink:href=\"#DejaVuSans-44\"/>\r\n     <use x=\"554.931641\" xlink:href=\"#DejaVuSans-32\"/>\r\n     <use x=\"586.71875\" xlink:href=\"#DejaVuSans-52\"/>\r\n     <use x=\"650.341797\" xlink:href=\"#DejaVuSans-93\"/>\r\n    </g>\r\n   </g>\r\n   <g id=\"patch_26\">\r\n    <path d=\"M 80.192496 164.912369 \r\nQ 82.389203 158.206979 84.93398 150.439116 \r\n\" style=\"fill:none;stroke:#000000;stroke-linecap:round;\"/>\r\n    <path d=\"M 80.507086 164.594512 \r\nL 80.192496 164.912369 \r\nL 80.126964 164.469983 \r\n\" style=\"fill:none;stroke:#000000;stroke-linecap:round;\"/>\r\n   </g>\r\n   <g id=\"text_13\">\r\n    <g id=\"patch_27\">\r\n     <path d=\"M 74.687246 172.183687 \r\nL 82.180839 172.183687 \r\nL 82.180839 168.376312 \r\nL 74.687246 168.376312 \r\nz\r\n\" style=\"fill:#ffffff;stroke:#000000;stroke-linejoin:miter;\"/>\r\n    </g>\r\n    <!-- gini = 0.0 -->\r\n    <g transform=\"translate(75.98998 169.436156)scale(0.01 -0.01)\">\r\n     <use xlink:href=\"#DejaVuSans-103\"/>\r\n     <use x=\"63.476562\" xlink:href=\"#DejaVuSans-105\"/>\r\n     <use x=\"91.259766\" xlink:href=\"#DejaVuSans-110\"/>\r\n     <use x=\"154.638672\" xlink:href=\"#DejaVuSans-105\"/>\r\n     <use x=\"182.421875\" xlink:href=\"#DejaVuSans-32\"/>\r\n     <use x=\"214.208984\" xlink:href=\"#DejaVuSans-61\"/>\r\n     <use x=\"297.998047\" xlink:href=\"#DejaVuSans-32\"/>\r\n     <use x=\"329.785156\" xlink:href=\"#DejaVuSans-48\"/>\r\n     <use x=\"393.408203\" xlink:href=\"#DejaVuSans-46\"/>\r\n     <use x=\"425.195312\" xlink:href=\"#DejaVuSans-48\"/>\r\n    </g>\r\n    <!-- samples = 2 -->\r\n    <g transform=\"translate(75.300761 170.555937)scale(0.01 -0.01)\">\r\n     <use xlink:href=\"#DejaVuSans-115\"/>\r\n     <use x=\"52.099609\" xlink:href=\"#DejaVuSans-97\"/>\r\n     <use x=\"113.378906\" xlink:href=\"#DejaVuSans-109\"/>\r\n     <use x=\"210.791016\" xlink:href=\"#DejaVuSans-112\"/>\r\n     <use x=\"274.267578\" xlink:href=\"#DejaVuSans-108\"/>\r\n     <use x=\"302.050781\" xlink:href=\"#DejaVuSans-101\"/>\r\n     <use x=\"363.574219\" xlink:href=\"#DejaVuSans-115\"/>\r\n     <use x=\"415.673828\" xlink:href=\"#DejaVuSans-32\"/>\r\n     <use x=\"447.460938\" xlink:href=\"#DejaVuSans-61\"/>\r\n     <use x=\"531.25\" xlink:href=\"#DejaVuSans-32\"/>\r\n     <use x=\"563.037109\" xlink:href=\"#DejaVuSans-50\"/>\r\n    </g>\r\n    <!-- value = [2, 0] -->\r\n    <g transform=\"translate(74.987246 171.675719)scale(0.01 -0.01)\">\r\n     <use xlink:href=\"#DejaVuSans-118\"/>\r\n     <use x=\"59.179688\" xlink:href=\"#DejaVuSans-97\"/>\r\n     <use x=\"120.458984\" xlink:href=\"#DejaVuSans-108\"/>\r\n     <use x=\"148.242188\" xlink:href=\"#DejaVuSans-117\"/>\r\n     <use x=\"211.621094\" xlink:href=\"#DejaVuSans-101\"/>\r\n     <use x=\"273.144531\" xlink:href=\"#DejaVuSans-32\"/>\r\n     <use x=\"304.931641\" xlink:href=\"#DejaVuSans-61\"/>\r\n     <use x=\"388.720703\" xlink:href=\"#DejaVuSans-32\"/>\r\n     <use x=\"420.507812\" xlink:href=\"#DejaVuSans-91\"/>\r\n     <use x=\"459.521484\" xlink:href=\"#DejaVuSans-50\"/>\r\n     <use x=\"523.144531\" xlink:href=\"#DejaVuSans-44\"/>\r\n     <use x=\"554.931641\" xlink:href=\"#DejaVuSans-32\"/>\r\n     <use x=\"586.71875\" xlink:href=\"#DejaVuSans-48\"/>\r\n     <use x=\"650.341797\" xlink:href=\"#DejaVuSans-93\"/>\r\n    </g>\r\n   </g>\r\n   <g id=\"patch_28\">\r\n    <path d=\"M 90.922398 164.912369 \r\nQ 88.72569 158.206979 86.180914 150.439116 \r\n\" style=\"fill:none;stroke:#000000;stroke-linecap:round;\"/>\r\n    <path d=\"M 90.98793 164.469983 \r\nL 90.922398 164.912369 \r\nL 90.607808 164.594512 \r\n\" style=\"fill:none;stroke:#000000;stroke-linecap:round;\"/>\r\n   </g>\r\n   <g id=\"text_14\">\r\n    <g id=\"patch_29\">\r\n     <path d=\"M 88.934054 172.183687 \r\nL 96.427648 172.183687 \r\nL 96.427648 168.376312 \r\nL 88.934054 168.376312 \r\nz\r\n\" style=\"fill:#ffffff;stroke:#000000;stroke-linejoin:miter;\"/>\r\n    </g>\r\n    <!-- gini = 0.0 -->\r\n    <g transform=\"translate(90.236789 169.436156)scale(0.01 -0.01)\">\r\n     <use xlink:href=\"#DejaVuSans-103\"/>\r\n     <use x=\"63.476562\" xlink:href=\"#DejaVuSans-105\"/>\r\n     <use x=\"91.259766\" xlink:href=\"#DejaVuSans-110\"/>\r\n     <use x=\"154.638672\" xlink:href=\"#DejaVuSans-105\"/>\r\n     <use x=\"182.421875\" xlink:href=\"#DejaVuSans-32\"/>\r\n     <use x=\"214.208984\" xlink:href=\"#DejaVuSans-61\"/>\r\n     <use x=\"297.998047\" xlink:href=\"#DejaVuSans-32\"/>\r\n     <use x=\"329.785156\" xlink:href=\"#DejaVuSans-48\"/>\r\n     <use x=\"393.408203\" xlink:href=\"#DejaVuSans-46\"/>\r\n     <use x=\"425.195312\" xlink:href=\"#DejaVuSans-48\"/>\r\n    </g>\r\n    <!-- samples = 4 -->\r\n    <g transform=\"translate(89.54757 170.555937)scale(0.01 -0.01)\">\r\n     <use xlink:href=\"#DejaVuSans-115\"/>\r\n     <use x=\"52.099609\" xlink:href=\"#DejaVuSans-97\"/>\r\n     <use x=\"113.378906\" xlink:href=\"#DejaVuSans-109\"/>\r\n     <use x=\"210.791016\" xlink:href=\"#DejaVuSans-112\"/>\r\n     <use x=\"274.267578\" xlink:href=\"#DejaVuSans-108\"/>\r\n     <use x=\"302.050781\" xlink:href=\"#DejaVuSans-101\"/>\r\n     <use x=\"363.574219\" xlink:href=\"#DejaVuSans-115\"/>\r\n     <use x=\"415.673828\" xlink:href=\"#DejaVuSans-32\"/>\r\n     <use x=\"447.460938\" xlink:href=\"#DejaVuSans-61\"/>\r\n     <use x=\"531.25\" xlink:href=\"#DejaVuSans-32\"/>\r\n     <use x=\"563.037109\" xlink:href=\"#DejaVuSans-52\"/>\r\n    </g>\r\n    <!-- value = [0, 4] -->\r\n    <g transform=\"translate(89.234054 171.675719)scale(0.01 -0.01)\">\r\n     <use xlink:href=\"#DejaVuSans-118\"/>\r\n     <use x=\"59.179688\" xlink:href=\"#DejaVuSans-97\"/>\r\n     <use x=\"120.458984\" xlink:href=\"#DejaVuSans-108\"/>\r\n     <use x=\"148.242188\" xlink:href=\"#DejaVuSans-117\"/>\r\n     <use x=\"211.621094\" xlink:href=\"#DejaVuSans-101\"/>\r\n     <use x=\"273.144531\" xlink:href=\"#DejaVuSans-32\"/>\r\n     <use x=\"304.931641\" xlink:href=\"#DejaVuSans-61\"/>\r\n     <use x=\"388.720703\" xlink:href=\"#DejaVuSans-32\"/>\r\n     <use x=\"420.507812\" xlink:href=\"#DejaVuSans-91\"/>\r\n     <use x=\"459.521484\" xlink:href=\"#DejaVuSans-48\"/>\r\n     <use x=\"523.144531\" xlink:href=\"#DejaVuSans-44\"/>\r\n     <use x=\"554.931641\" xlink:href=\"#DejaVuSans-32\"/>\r\n     <use x=\"586.71875\" xlink:href=\"#DejaVuSans-52\"/>\r\n     <use x=\"650.341797\" xlink:href=\"#DejaVuSans-93\"/>\r\n    </g>\r\n   </g>\r\n   <g id=\"patch_30\">\r\n    <path d=\"M 108.686113 164.912369 \r\nQ 110.88282 158.206979 113.427597 150.439116 \r\n\" style=\"fill:none;stroke:#000000;stroke-linecap:round;\"/>\r\n    <path d=\"M 109.000703 164.594512 \r\nL 108.686113 164.912369 \r\nL 108.620581 164.469983 \r\n\" style=\"fill:none;stroke:#000000;stroke-linecap:round;\"/>\r\n   </g>\r\n   <g id=\"text_15\">\r\n    <g id=\"patch_31\">\r\n     <path d=\"M 102.862738 172.183687 \r\nL 110.992581 172.183687 \r\nL 110.992581 168.376312 \r\nL 102.862738 168.376312 \r\nz\r\n\" style=\"fill:#ffffff;stroke:#000000;stroke-linejoin:miter;\"/>\r\n    </g>\r\n    <!-- gini = 0.0 -->\r\n    <g transform=\"translate(104.483597 169.436156)scale(0.01 -0.01)\">\r\n     <use xlink:href=\"#DejaVuSans-103\"/>\r\n     <use x=\"63.476562\" xlink:href=\"#DejaVuSans-105\"/>\r\n     <use x=\"91.259766\" xlink:href=\"#DejaVuSans-110\"/>\r\n     <use x=\"154.638672\" xlink:href=\"#DejaVuSans-105\"/>\r\n     <use x=\"182.421875\" xlink:href=\"#DejaVuSans-32\"/>\r\n     <use x=\"214.208984\" xlink:href=\"#DejaVuSans-61\"/>\r\n     <use x=\"297.998047\" xlink:href=\"#DejaVuSans-32\"/>\r\n     <use x=\"329.785156\" xlink:href=\"#DejaVuSans-48\"/>\r\n     <use x=\"393.408203\" xlink:href=\"#DejaVuSans-46\"/>\r\n     <use x=\"425.195312\" xlink:href=\"#DejaVuSans-48\"/>\r\n    </g>\r\n    <!-- samples = 11 -->\r\n    <g transform=\"translate(103.476253 170.555937)scale(0.01 -0.01)\">\r\n     <use xlink:href=\"#DejaVuSans-115\"/>\r\n     <use x=\"52.099609\" xlink:href=\"#DejaVuSans-97\"/>\r\n     <use x=\"113.378906\" xlink:href=\"#DejaVuSans-109\"/>\r\n     <use x=\"210.791016\" xlink:href=\"#DejaVuSans-112\"/>\r\n     <use x=\"274.267578\" xlink:href=\"#DejaVuSans-108\"/>\r\n     <use x=\"302.050781\" xlink:href=\"#DejaVuSans-101\"/>\r\n     <use x=\"363.574219\" xlink:href=\"#DejaVuSans-115\"/>\r\n     <use x=\"415.673828\" xlink:href=\"#DejaVuSans-32\"/>\r\n     <use x=\"447.460938\" xlink:href=\"#DejaVuSans-61\"/>\r\n     <use x=\"531.25\" xlink:href=\"#DejaVuSans-32\"/>\r\n     <use x=\"563.037109\" xlink:href=\"#DejaVuSans-49\"/>\r\n     <use x=\"626.660156\" xlink:href=\"#DejaVuSans-49\"/>\r\n    </g>\r\n    <!-- value = [0, 11] -->\r\n    <g transform=\"translate(103.162738 171.675719)scale(0.01 -0.01)\">\r\n     <use xlink:href=\"#DejaVuSans-118\"/>\r\n     <use x=\"59.179688\" xlink:href=\"#DejaVuSans-97\"/>\r\n     <use x=\"120.458984\" xlink:href=\"#DejaVuSans-108\"/>\r\n     <use x=\"148.242188\" xlink:href=\"#DejaVuSans-117\"/>\r\n     <use x=\"211.621094\" xlink:href=\"#DejaVuSans-101\"/>\r\n     <use x=\"273.144531\" xlink:href=\"#DejaVuSans-32\"/>\r\n     <use x=\"304.931641\" xlink:href=\"#DejaVuSans-61\"/>\r\n     <use x=\"388.720703\" xlink:href=\"#DejaVuSans-32\"/>\r\n     <use x=\"420.507812\" xlink:href=\"#DejaVuSans-91\"/>\r\n     <use x=\"459.521484\" xlink:href=\"#DejaVuSans-48\"/>\r\n     <use x=\"523.144531\" xlink:href=\"#DejaVuSans-44\"/>\r\n     <use x=\"554.931641\" xlink:href=\"#DejaVuSans-32\"/>\r\n     <use x=\"586.71875\" xlink:href=\"#DejaVuSans-49\"/>\r\n     <use x=\"650.341797\" xlink:href=\"#DejaVuSans-49\"/>\r\n     <use x=\"713.964844\" xlink:href=\"#DejaVuSans-93\"/>\r\n    </g>\r\n   </g>\r\n   <g id=\"patch_32\">\r\n    <path d=\"M 119.219279 164.311839 \r\nQ 117.120979 157.906833 114.674609 150.439354 \r\n\" style=\"fill:none;stroke:#000000;stroke-linecap:round;\"/>\r\n    <path d=\"M 119.284811 163.869453 \r\nL 119.219279 164.311839 \r\nL 118.90469 163.993982 \r\n\" style=\"fill:none;stroke:#000000;stroke-linecap:round;\"/>\r\n   </g>\r\n   <g id=\"text_16\">\r\n    <g id=\"patch_33\">\r\n     <path d=\"M 111.448765 172.757484 \r\nL 130.900171 172.757484 \r\nL 130.900171 167.774703 \r\nL 111.448765 167.774703 \r\nz\r\n\" style=\"fill:#ffffff;stroke:#000000;stroke-linejoin:miter;\"/>\r\n    </g>\r\n    <!-- creatinine_phosphokinase &lt;= 3310.0 -->\r\n    <g transform=\"translate(111.748765 168.862359)scale(0.01 -0.01)\">\r\n     <use xlink:href=\"#DejaVuSans-99\"/>\r\n     <use x=\"54.980469\" xlink:href=\"#DejaVuSans-114\"/>\r\n     <use x=\"96.0625\" xlink:href=\"#DejaVuSans-101\"/>\r\n     <use x=\"157.585938\" xlink:href=\"#DejaVuSans-97\"/>\r\n     <use x=\"218.865234\" xlink:href=\"#DejaVuSans-116\"/>\r\n     <use x=\"258.074219\" xlink:href=\"#DejaVuSans-105\"/>\r\n     <use x=\"285.857422\" xlink:href=\"#DejaVuSans-110\"/>\r\n     <use x=\"349.236328\" xlink:href=\"#DejaVuSans-105\"/>\r\n     <use x=\"377.019531\" xlink:href=\"#DejaVuSans-110\"/>\r\n     <use x=\"440.398438\" xlink:href=\"#DejaVuSans-101\"/>\r\n     <use x=\"501.921875\" xlink:href=\"#DejaVuSans-95\"/>\r\n     <use x=\"551.921875\" xlink:href=\"#DejaVuSans-112\"/>\r\n     <use x=\"615.398438\" xlink:href=\"#DejaVuSans-104\"/>\r\n     <use x=\"678.777344\" xlink:href=\"#DejaVuSans-111\"/>\r\n     <use x=\"739.958984\" xlink:href=\"#DejaVuSans-115\"/>\r\n     <use x=\"792.058594\" xlink:href=\"#DejaVuSans-112\"/>\r\n     <use x=\"855.535156\" xlink:href=\"#DejaVuSans-104\"/>\r\n     <use x=\"918.914062\" xlink:href=\"#DejaVuSans-111\"/>\r\n     <use x=\"980.095703\" xlink:href=\"#DejaVuSans-107\"/>\r\n     <use x=\"1038.005859\" xlink:href=\"#DejaVuSans-105\"/>\r\n     <use x=\"1065.789062\" xlink:href=\"#DejaVuSans-110\"/>\r\n     <use x=\"1129.167969\" xlink:href=\"#DejaVuSans-97\"/>\r\n     <use x=\"1190.447266\" xlink:href=\"#DejaVuSans-115\"/>\r\n     <use x=\"1242.546875\" xlink:href=\"#DejaVuSans-101\"/>\r\n     <use x=\"1304.070312\" xlink:href=\"#DejaVuSans-32\"/>\r\n     <use x=\"1335.857422\" xlink:href=\"#DejaVuSans-60\"/>\r\n     <use x=\"1419.646484\" xlink:href=\"#DejaVuSans-61\"/>\r\n     <use x=\"1503.435547\" xlink:href=\"#DejaVuSans-32\"/>\r\n     <use x=\"1535.222656\" xlink:href=\"#DejaVuSans-51\"/>\r\n     <use x=\"1598.845703\" xlink:href=\"#DejaVuSans-51\"/>\r\n     <use x=\"1662.46875\" xlink:href=\"#DejaVuSans-49\"/>\r\n     <use x=\"1726.091797\" xlink:href=\"#DejaVuSans-48\"/>\r\n     <use x=\"1789.714844\" xlink:href=\"#DejaVuSans-46\"/>\r\n     <use x=\"1821.501953\" xlink:href=\"#DejaVuSans-48\"/>\r\n    </g>\r\n    <!-- gini = 0.444 -->\r\n    <g transform=\"translate(118.094156 170.009953)scale(0.01 -0.01)\">\r\n     <use xlink:href=\"#DejaVuSans-103\"/>\r\n     <use x=\"63.476562\" xlink:href=\"#DejaVuSans-105\"/>\r\n     <use x=\"91.259766\" xlink:href=\"#DejaVuSans-110\"/>\r\n     <use x=\"154.638672\" xlink:href=\"#DejaVuSans-105\"/>\r\n     <use x=\"182.421875\" xlink:href=\"#DejaVuSans-32\"/>\r\n     <use x=\"214.208984\" xlink:href=\"#DejaVuSans-61\"/>\r\n     <use x=\"297.998047\" xlink:href=\"#DejaVuSans-32\"/>\r\n     <use x=\"329.785156\" xlink:href=\"#DejaVuSans-48\"/>\r\n     <use x=\"393.408203\" xlink:href=\"#DejaVuSans-46\"/>\r\n     <use x=\"425.195312\" xlink:href=\"#DejaVuSans-52\"/>\r\n     <use x=\"488.818359\" xlink:href=\"#DejaVuSans-52\"/>\r\n     <use x=\"552.441406\" xlink:href=\"#DejaVuSans-52\"/>\r\n    </g>\r\n    <!-- samples = 3 -->\r\n    <g transform=\"translate(118.041187 171.129734)scale(0.01 -0.01)\">\r\n     <use xlink:href=\"#DejaVuSans-115\"/>\r\n     <use x=\"52.099609\" xlink:href=\"#DejaVuSans-97\"/>\r\n     <use x=\"113.378906\" xlink:href=\"#DejaVuSans-109\"/>\r\n     <use x=\"210.791016\" xlink:href=\"#DejaVuSans-112\"/>\r\n     <use x=\"274.267578\" xlink:href=\"#DejaVuSans-108\"/>\r\n     <use x=\"302.050781\" xlink:href=\"#DejaVuSans-101\"/>\r\n     <use x=\"363.574219\" xlink:href=\"#DejaVuSans-115\"/>\r\n     <use x=\"415.673828\" xlink:href=\"#DejaVuSans-32\"/>\r\n     <use x=\"447.460938\" xlink:href=\"#DejaVuSans-61\"/>\r\n     <use x=\"531.25\" xlink:href=\"#DejaVuSans-32\"/>\r\n     <use x=\"563.037109\" xlink:href=\"#DejaVuSans-51\"/>\r\n    </g>\r\n    <!-- value = [1, 2] -->\r\n    <g transform=\"translate(117.727671 172.249516)scale(0.01 -0.01)\">\r\n     <use xlink:href=\"#DejaVuSans-118\"/>\r\n     <use x=\"59.179688\" xlink:href=\"#DejaVuSans-97\"/>\r\n     <use x=\"120.458984\" xlink:href=\"#DejaVuSans-108\"/>\r\n     <use x=\"148.242188\" xlink:href=\"#DejaVuSans-117\"/>\r\n     <use x=\"211.621094\" xlink:href=\"#DejaVuSans-101\"/>\r\n     <use x=\"273.144531\" xlink:href=\"#DejaVuSans-32\"/>\r\n     <use x=\"304.931641\" xlink:href=\"#DejaVuSans-61\"/>\r\n     <use x=\"388.720703\" xlink:href=\"#DejaVuSans-32\"/>\r\n     <use x=\"420.507812\" xlink:href=\"#DejaVuSans-91\"/>\r\n     <use x=\"459.521484\" xlink:href=\"#DejaVuSans-49\"/>\r\n     <use x=\"523.144531\" xlink:href=\"#DejaVuSans-44\"/>\r\n     <use x=\"554.931641\" xlink:href=\"#DejaVuSans-32\"/>\r\n     <use x=\"586.71875\" xlink:href=\"#DejaVuSans-50\"/>\r\n     <use x=\"650.341797\" xlink:href=\"#DejaVuSans-93\"/>\r\n    </g>\r\n   </g>\r\n   <g id=\"patch_34\">\r\n    <path d=\"M 137.17973 164.912369 \r\nQ 139.376437 158.206979 141.921214 150.439116 \r\n\" style=\"fill:none;stroke:#000000;stroke-linecap:round;\"/>\r\n    <path d=\"M 137.49432 164.594512 \r\nL 137.17973 164.912369 \r\nL 137.114198 164.469983 \r\n\" style=\"fill:none;stroke:#000000;stroke-linecap:round;\"/>\r\n   </g>\r\n   <g id=\"text_17\">\r\n    <g id=\"patch_35\">\r\n     <path d=\"M 131.67448 172.183687 \r\nL 139.168073 172.183687 \r\nL 139.168073 168.376312 \r\nL 131.67448 168.376312 \r\nz\r\n\" style=\"fill:#ffffff;stroke:#000000;stroke-linejoin:miter;\"/>\r\n    </g>\r\n    <!-- gini = 0.0 -->\r\n    <g transform=\"translate(132.977214 169.436156)scale(0.01 -0.01)\">\r\n     <use xlink:href=\"#DejaVuSans-103\"/>\r\n     <use x=\"63.476562\" xlink:href=\"#DejaVuSans-105\"/>\r\n     <use x=\"91.259766\" xlink:href=\"#DejaVuSans-110\"/>\r\n     <use x=\"154.638672\" xlink:href=\"#DejaVuSans-105\"/>\r\n     <use x=\"182.421875\" xlink:href=\"#DejaVuSans-32\"/>\r\n     <use x=\"214.208984\" xlink:href=\"#DejaVuSans-61\"/>\r\n     <use x=\"297.998047\" xlink:href=\"#DejaVuSans-32\"/>\r\n     <use x=\"329.785156\" xlink:href=\"#DejaVuSans-48\"/>\r\n     <use x=\"393.408203\" xlink:href=\"#DejaVuSans-46\"/>\r\n     <use x=\"425.195312\" xlink:href=\"#DejaVuSans-48\"/>\r\n    </g>\r\n    <!-- samples = 3 -->\r\n    <g transform=\"translate(132.287995 170.555937)scale(0.01 -0.01)\">\r\n     <use xlink:href=\"#DejaVuSans-115\"/>\r\n     <use x=\"52.099609\" xlink:href=\"#DejaVuSans-97\"/>\r\n     <use x=\"113.378906\" xlink:href=\"#DejaVuSans-109\"/>\r\n     <use x=\"210.791016\" xlink:href=\"#DejaVuSans-112\"/>\r\n     <use x=\"274.267578\" xlink:href=\"#DejaVuSans-108\"/>\r\n     <use x=\"302.050781\" xlink:href=\"#DejaVuSans-101\"/>\r\n     <use x=\"363.574219\" xlink:href=\"#DejaVuSans-115\"/>\r\n     <use x=\"415.673828\" xlink:href=\"#DejaVuSans-32\"/>\r\n     <use x=\"447.460938\" xlink:href=\"#DejaVuSans-61\"/>\r\n     <use x=\"531.25\" xlink:href=\"#DejaVuSans-32\"/>\r\n     <use x=\"563.037109\" xlink:href=\"#DejaVuSans-51\"/>\r\n    </g>\r\n    <!-- value = [3, 0] -->\r\n    <g transform=\"translate(131.97448 171.675719)scale(0.01 -0.01)\">\r\n     <use xlink:href=\"#DejaVuSans-118\"/>\r\n     <use x=\"59.179688\" xlink:href=\"#DejaVuSans-97\"/>\r\n     <use x=\"120.458984\" xlink:href=\"#DejaVuSans-108\"/>\r\n     <use x=\"148.242188\" xlink:href=\"#DejaVuSans-117\"/>\r\n     <use x=\"211.621094\" xlink:href=\"#DejaVuSans-101\"/>\r\n     <use x=\"273.144531\" xlink:href=\"#DejaVuSans-32\"/>\r\n     <use x=\"304.931641\" xlink:href=\"#DejaVuSans-61\"/>\r\n     <use x=\"388.720703\" xlink:href=\"#DejaVuSans-32\"/>\r\n     <use x=\"420.507812\" xlink:href=\"#DejaVuSans-91\"/>\r\n     <use x=\"459.521484\" xlink:href=\"#DejaVuSans-51\"/>\r\n     <use x=\"523.144531\" xlink:href=\"#DejaVuSans-44\"/>\r\n     <use x=\"554.931641\" xlink:href=\"#DejaVuSans-32\"/>\r\n     <use x=\"586.71875\" xlink:href=\"#DejaVuSans-48\"/>\r\n     <use x=\"650.341797\" xlink:href=\"#DejaVuSans-93\"/>\r\n    </g>\r\n   </g>\r\n   <g id=\"patch_36\">\r\n    <path d=\"M 147.712897 164.311839 \r\nQ 145.614596 157.906833 143.168226 150.439354 \r\n\" style=\"fill:none;stroke:#000000;stroke-linecap:round;\"/>\r\n    <path d=\"M 147.778428 163.869453 \r\nL 147.712897 164.311839 \r\nL 147.398307 163.993982 \r\n\" style=\"fill:none;stroke:#000000;stroke-linecap:round;\"/>\r\n   </g>\r\n   <g id=\"text_18\">\r\n    <g id=\"patch_37\">\r\n     <path d=\"M 140.260507 172.757484 \r\nL 159.075663 172.757484 \r\nL 159.075663 167.774703 \r\nL 140.260507 167.774703 \r\nz\r\n\" style=\"fill:#ffffff;stroke:#000000;stroke-linejoin:miter;\"/>\r\n    </g>\r\n    <!-- creatinine_phosphokinase &lt;= 162.0 -->\r\n    <g transform=\"translate(140.560507 168.862359)scale(0.01 -0.01)\">\r\n     <use xlink:href=\"#DejaVuSans-99\"/>\r\n     <use x=\"54.980469\" xlink:href=\"#DejaVuSans-114\"/>\r\n     <use x=\"96.0625\" xlink:href=\"#DejaVuSans-101\"/>\r\n     <use x=\"157.585938\" xlink:href=\"#DejaVuSans-97\"/>\r\n     <use x=\"218.865234\" xlink:href=\"#DejaVuSans-116\"/>\r\n     <use x=\"258.074219\" xlink:href=\"#DejaVuSans-105\"/>\r\n     <use x=\"285.857422\" xlink:href=\"#DejaVuSans-110\"/>\r\n     <use x=\"349.236328\" xlink:href=\"#DejaVuSans-105\"/>\r\n     <use x=\"377.019531\" xlink:href=\"#DejaVuSans-110\"/>\r\n     <use x=\"440.398438\" xlink:href=\"#DejaVuSans-101\"/>\r\n     <use x=\"501.921875\" xlink:href=\"#DejaVuSans-95\"/>\r\n     <use x=\"551.921875\" xlink:href=\"#DejaVuSans-112\"/>\r\n     <use x=\"615.398438\" xlink:href=\"#DejaVuSans-104\"/>\r\n     <use x=\"678.777344\" xlink:href=\"#DejaVuSans-111\"/>\r\n     <use x=\"739.958984\" xlink:href=\"#DejaVuSans-115\"/>\r\n     <use x=\"792.058594\" xlink:href=\"#DejaVuSans-112\"/>\r\n     <use x=\"855.535156\" xlink:href=\"#DejaVuSans-104\"/>\r\n     <use x=\"918.914062\" xlink:href=\"#DejaVuSans-111\"/>\r\n     <use x=\"980.095703\" xlink:href=\"#DejaVuSans-107\"/>\r\n     <use x=\"1038.005859\" xlink:href=\"#DejaVuSans-105\"/>\r\n     <use x=\"1065.789062\" xlink:href=\"#DejaVuSans-110\"/>\r\n     <use x=\"1129.167969\" xlink:href=\"#DejaVuSans-97\"/>\r\n     <use x=\"1190.447266\" xlink:href=\"#DejaVuSans-115\"/>\r\n     <use x=\"1242.546875\" xlink:href=\"#DejaVuSans-101\"/>\r\n     <use x=\"1304.070312\" xlink:href=\"#DejaVuSans-32\"/>\r\n     <use x=\"1335.857422\" xlink:href=\"#DejaVuSans-60\"/>\r\n     <use x=\"1419.646484\" xlink:href=\"#DejaVuSans-61\"/>\r\n     <use x=\"1503.435547\" xlink:href=\"#DejaVuSans-32\"/>\r\n     <use x=\"1535.222656\" xlink:href=\"#DejaVuSans-49\"/>\r\n     <use x=\"1598.845703\" xlink:href=\"#DejaVuSans-54\"/>\r\n     <use x=\"1662.46875\" xlink:href=\"#DejaVuSans-50\"/>\r\n     <use x=\"1726.091797\" xlink:href=\"#DejaVuSans-46\"/>\r\n     <use x=\"1757.878906\" xlink:href=\"#DejaVuSans-48\"/>\r\n    </g>\r\n    <!-- gini = 0.444 -->\r\n    <g transform=\"translate(146.587773 170.009953)scale(0.01 -0.01)\">\r\n     <use xlink:href=\"#DejaVuSans-103\"/>\r\n     <use x=\"63.476562\" xlink:href=\"#DejaVuSans-105\"/>\r\n     <use x=\"91.259766\" xlink:href=\"#DejaVuSans-110\"/>\r\n     <use x=\"154.638672\" xlink:href=\"#DejaVuSans-105\"/>\r\n     <use x=\"182.421875\" xlink:href=\"#DejaVuSans-32\"/>\r\n     <use x=\"214.208984\" xlink:href=\"#DejaVuSans-61\"/>\r\n     <use x=\"297.998047\" xlink:href=\"#DejaVuSans-32\"/>\r\n     <use x=\"329.785156\" xlink:href=\"#DejaVuSans-48\"/>\r\n     <use x=\"393.408203\" xlink:href=\"#DejaVuSans-46\"/>\r\n     <use x=\"425.195312\" xlink:href=\"#DejaVuSans-52\"/>\r\n     <use x=\"488.818359\" xlink:href=\"#DejaVuSans-52\"/>\r\n     <use x=\"552.441406\" xlink:href=\"#DejaVuSans-52\"/>\r\n    </g>\r\n    <!-- samples = 3 -->\r\n    <g transform=\"translate(146.534804 171.129734)scale(0.01 -0.01)\">\r\n     <use xlink:href=\"#DejaVuSans-115\"/>\r\n     <use x=\"52.099609\" xlink:href=\"#DejaVuSans-97\"/>\r\n     <use x=\"113.378906\" xlink:href=\"#DejaVuSans-109\"/>\r\n     <use x=\"210.791016\" xlink:href=\"#DejaVuSans-112\"/>\r\n     <use x=\"274.267578\" xlink:href=\"#DejaVuSans-108\"/>\r\n     <use x=\"302.050781\" xlink:href=\"#DejaVuSans-101\"/>\r\n     <use x=\"363.574219\" xlink:href=\"#DejaVuSans-115\"/>\r\n     <use x=\"415.673828\" xlink:href=\"#DejaVuSans-32\"/>\r\n     <use x=\"447.460938\" xlink:href=\"#DejaVuSans-61\"/>\r\n     <use x=\"531.25\" xlink:href=\"#DejaVuSans-32\"/>\r\n     <use x=\"563.037109\" xlink:href=\"#DejaVuSans-51\"/>\r\n    </g>\r\n    <!-- value = [1, 2] -->\r\n    <g transform=\"translate(146.221288 172.249516)scale(0.01 -0.01)\">\r\n     <use xlink:href=\"#DejaVuSans-118\"/>\r\n     <use x=\"59.179688\" xlink:href=\"#DejaVuSans-97\"/>\r\n     <use x=\"120.458984\" xlink:href=\"#DejaVuSans-108\"/>\r\n     <use x=\"148.242188\" xlink:href=\"#DejaVuSans-117\"/>\r\n     <use x=\"211.621094\" xlink:href=\"#DejaVuSans-101\"/>\r\n     <use x=\"273.144531\" xlink:href=\"#DejaVuSans-32\"/>\r\n     <use x=\"304.931641\" xlink:href=\"#DejaVuSans-61\"/>\r\n     <use x=\"388.720703\" xlink:href=\"#DejaVuSans-32\"/>\r\n     <use x=\"420.507812\" xlink:href=\"#DejaVuSans-91\"/>\r\n     <use x=\"459.521484\" xlink:href=\"#DejaVuSans-49\"/>\r\n     <use x=\"523.144531\" xlink:href=\"#DejaVuSans-44\"/>\r\n     <use x=\"554.931641\" xlink:href=\"#DejaVuSans-32\"/>\r\n     <use x=\"586.71875\" xlink:href=\"#DejaVuSans-50\"/>\r\n     <use x=\"650.341797\" xlink:href=\"#DejaVuSans-93\"/>\r\n    </g>\r\n   </g>\r\n   <g id=\"patch_38\">\r\n    <path d=\"M 194.166964 164.912369 \r\nQ 196.363671 158.206979 198.908448 150.439116 \r\n\" style=\"fill:none;stroke:#000000;stroke-linecap:round;\"/>\r\n    <path d=\"M 194.481554 164.594512 \r\nL 194.166964 164.912369 \r\nL 194.101432 164.469983 \r\n\" style=\"fill:none;stroke:#000000;stroke-linecap:round;\"/>\r\n   </g>\r\n   <g id=\"text_19\">\r\n    <g id=\"patch_39\">\r\n     <path d=\"M 188.661714 172.183687 \r\nL 196.155308 172.183687 \r\nL 196.155308 168.376312 \r\nL 188.661714 168.376312 \r\nz\r\n\" style=\"fill:#ffffff;stroke:#000000;stroke-linejoin:miter;\"/>\r\n    </g>\r\n    <!-- gini = 0.0 -->\r\n    <g transform=\"translate(189.964448 169.436156)scale(0.01 -0.01)\">\r\n     <use xlink:href=\"#DejaVuSans-103\"/>\r\n     <use x=\"63.476562\" xlink:href=\"#DejaVuSans-105\"/>\r\n     <use x=\"91.259766\" xlink:href=\"#DejaVuSans-110\"/>\r\n     <use x=\"154.638672\" xlink:href=\"#DejaVuSans-105\"/>\r\n     <use x=\"182.421875\" xlink:href=\"#DejaVuSans-32\"/>\r\n     <use x=\"214.208984\" xlink:href=\"#DejaVuSans-61\"/>\r\n     <use x=\"297.998047\" xlink:href=\"#DejaVuSans-32\"/>\r\n     <use x=\"329.785156\" xlink:href=\"#DejaVuSans-48\"/>\r\n     <use x=\"393.408203\" xlink:href=\"#DejaVuSans-46\"/>\r\n     <use x=\"425.195312\" xlink:href=\"#DejaVuSans-48\"/>\r\n    </g>\r\n    <!-- samples = 1 -->\r\n    <g transform=\"translate(189.275229 170.555937)scale(0.01 -0.01)\">\r\n     <use xlink:href=\"#DejaVuSans-115\"/>\r\n     <use x=\"52.099609\" xlink:href=\"#DejaVuSans-97\"/>\r\n     <use x=\"113.378906\" xlink:href=\"#DejaVuSans-109\"/>\r\n     <use x=\"210.791016\" xlink:href=\"#DejaVuSans-112\"/>\r\n     <use x=\"274.267578\" xlink:href=\"#DejaVuSans-108\"/>\r\n     <use x=\"302.050781\" xlink:href=\"#DejaVuSans-101\"/>\r\n     <use x=\"363.574219\" xlink:href=\"#DejaVuSans-115\"/>\r\n     <use x=\"415.673828\" xlink:href=\"#DejaVuSans-32\"/>\r\n     <use x=\"447.460938\" xlink:href=\"#DejaVuSans-61\"/>\r\n     <use x=\"531.25\" xlink:href=\"#DejaVuSans-32\"/>\r\n     <use x=\"563.037109\" xlink:href=\"#DejaVuSans-49\"/>\r\n    </g>\r\n    <!-- value = [0, 1] -->\r\n    <g transform=\"translate(188.961714 171.675719)scale(0.01 -0.01)\">\r\n     <use xlink:href=\"#DejaVuSans-118\"/>\r\n     <use x=\"59.179688\" xlink:href=\"#DejaVuSans-97\"/>\r\n     <use x=\"120.458984\" xlink:href=\"#DejaVuSans-108\"/>\r\n     <use x=\"148.242188\" xlink:href=\"#DejaVuSans-117\"/>\r\n     <use x=\"211.621094\" xlink:href=\"#DejaVuSans-101\"/>\r\n     <use x=\"273.144531\" xlink:href=\"#DejaVuSans-32\"/>\r\n     <use x=\"304.931641\" xlink:href=\"#DejaVuSans-61\"/>\r\n     <use x=\"388.720703\" xlink:href=\"#DejaVuSans-32\"/>\r\n     <use x=\"420.507812\" xlink:href=\"#DejaVuSans-91\"/>\r\n     <use x=\"459.521484\" xlink:href=\"#DejaVuSans-48\"/>\r\n     <use x=\"523.144531\" xlink:href=\"#DejaVuSans-44\"/>\r\n     <use x=\"554.931641\" xlink:href=\"#DejaVuSans-32\"/>\r\n     <use x=\"586.71875\" xlink:href=\"#DejaVuSans-49\"/>\r\n     <use x=\"650.341797\" xlink:href=\"#DejaVuSans-93\"/>\r\n    </g>\r\n   </g>\r\n   <g id=\"patch_40\">\r\n    <path d=\"M 204.896866 164.912369 \r\nQ 202.700159 158.206979 200.155382 150.439116 \r\n\" style=\"fill:none;stroke:#000000;stroke-linecap:round;\"/>\r\n    <path d=\"M 204.962398 164.469983 \r\nL 204.896866 164.912369 \r\nL 204.582276 164.594512 \r\n\" style=\"fill:none;stroke:#000000;stroke-linecap:round;\"/>\r\n   </g>\r\n   <g id=\"text_20\">\r\n    <g id=\"patch_41\">\r\n     <path d=\"M 202.908522 172.183687 \r\nL 210.402116 172.183687 \r\nL 210.402116 168.376312 \r\nL 202.908522 168.376312 \r\nz\r\n\" style=\"fill:#ffffff;stroke:#000000;stroke-linejoin:miter;\"/>\r\n    </g>\r\n    <!-- gini = 0.0 -->\r\n    <g transform=\"translate(204.211257 169.436156)scale(0.01 -0.01)\">\r\n     <use xlink:href=\"#DejaVuSans-103\"/>\r\n     <use x=\"63.476562\" xlink:href=\"#DejaVuSans-105\"/>\r\n     <use x=\"91.259766\" xlink:href=\"#DejaVuSans-110\"/>\r\n     <use x=\"154.638672\" xlink:href=\"#DejaVuSans-105\"/>\r\n     <use x=\"182.421875\" xlink:href=\"#DejaVuSans-32\"/>\r\n     <use x=\"214.208984\" xlink:href=\"#DejaVuSans-61\"/>\r\n     <use x=\"297.998047\" xlink:href=\"#DejaVuSans-32\"/>\r\n     <use x=\"329.785156\" xlink:href=\"#DejaVuSans-48\"/>\r\n     <use x=\"393.408203\" xlink:href=\"#DejaVuSans-46\"/>\r\n     <use x=\"425.195312\" xlink:href=\"#DejaVuSans-48\"/>\r\n    </g>\r\n    <!-- samples = 2 -->\r\n    <g transform=\"translate(203.522038 170.555937)scale(0.01 -0.01)\">\r\n     <use xlink:href=\"#DejaVuSans-115\"/>\r\n     <use x=\"52.099609\" xlink:href=\"#DejaVuSans-97\"/>\r\n     <use x=\"113.378906\" xlink:href=\"#DejaVuSans-109\"/>\r\n     <use x=\"210.791016\" xlink:href=\"#DejaVuSans-112\"/>\r\n     <use x=\"274.267578\" xlink:href=\"#DejaVuSans-108\"/>\r\n     <use x=\"302.050781\" xlink:href=\"#DejaVuSans-101\"/>\r\n     <use x=\"363.574219\" xlink:href=\"#DejaVuSans-115\"/>\r\n     <use x=\"415.673828\" xlink:href=\"#DejaVuSans-32\"/>\r\n     <use x=\"447.460938\" xlink:href=\"#DejaVuSans-61\"/>\r\n     <use x=\"531.25\" xlink:href=\"#DejaVuSans-32\"/>\r\n     <use x=\"563.037109\" xlink:href=\"#DejaVuSans-50\"/>\r\n    </g>\r\n    <!-- value = [2, 0] -->\r\n    <g transform=\"translate(203.208522 171.675719)scale(0.01 -0.01)\">\r\n     <use xlink:href=\"#DejaVuSans-118\"/>\r\n     <use x=\"59.179688\" xlink:href=\"#DejaVuSans-97\"/>\r\n     <use x=\"120.458984\" xlink:href=\"#DejaVuSans-108\"/>\r\n     <use x=\"148.242188\" xlink:href=\"#DejaVuSans-117\"/>\r\n     <use x=\"211.621094\" xlink:href=\"#DejaVuSans-101\"/>\r\n     <use x=\"273.144531\" xlink:href=\"#DejaVuSans-32\"/>\r\n     <use x=\"304.931641\" xlink:href=\"#DejaVuSans-61\"/>\r\n     <use x=\"388.720703\" xlink:href=\"#DejaVuSans-32\"/>\r\n     <use x=\"420.507812\" xlink:href=\"#DejaVuSans-91\"/>\r\n     <use x=\"459.521484\" xlink:href=\"#DejaVuSans-50\"/>\r\n     <use x=\"523.144531\" xlink:href=\"#DejaVuSans-44\"/>\r\n     <use x=\"554.931641\" xlink:href=\"#DejaVuSans-32\"/>\r\n     <use x=\"586.71875\" xlink:href=\"#DejaVuSans-48\"/>\r\n     <use x=\"650.341797\" xlink:href=\"#DejaVuSans-93\"/>\r\n    </g>\r\n   </g>\r\n   <g id=\"patch_42\">\r\n    <path d=\"M 222.660581 164.912369 \r\nQ 224.857288 158.206979 227.402065 150.439116 \r\n\" style=\"fill:none;stroke:#000000;stroke-linecap:round;\"/>\r\n    <path d=\"M 222.975171 164.594512 \r\nL 222.660581 164.912369 \r\nL 222.595049 164.469983 \r\n\" style=\"fill:none;stroke:#000000;stroke-linecap:round;\"/>\r\n   </g>\r\n   <g id=\"text_21\">\r\n    <g id=\"patch_43\">\r\n     <path d=\"M 216.519081 172.183687 \r\nL 225.285175 172.183687 \r\nL 225.285175 168.376312 \r\nL 216.519081 168.376312 \r\nz\r\n\" style=\"fill:#ffffff;stroke:#000000;stroke-linejoin:miter;\"/>\r\n    </g>\r\n    <!-- gini = 0.0 -->\r\n    <g transform=\"translate(218.458065 169.436156)scale(0.01 -0.01)\">\r\n     <use xlink:href=\"#DejaVuSans-103\"/>\r\n     <use x=\"63.476562\" xlink:href=\"#DejaVuSans-105\"/>\r\n     <use x=\"91.259766\" xlink:href=\"#DejaVuSans-110\"/>\r\n     <use x=\"154.638672\" xlink:href=\"#DejaVuSans-105\"/>\r\n     <use x=\"182.421875\" xlink:href=\"#DejaVuSans-32\"/>\r\n     <use x=\"214.208984\" xlink:href=\"#DejaVuSans-61\"/>\r\n     <use x=\"297.998047\" xlink:href=\"#DejaVuSans-32\"/>\r\n     <use x=\"329.785156\" xlink:href=\"#DejaVuSans-48\"/>\r\n     <use x=\"393.408203\" xlink:href=\"#DejaVuSans-46\"/>\r\n     <use x=\"425.195312\" xlink:href=\"#DejaVuSans-48\"/>\r\n    </g>\r\n    <!-- samples = 102 -->\r\n    <g transform=\"translate(217.132596 170.555937)scale(0.01 -0.01)\">\r\n     <use xlink:href=\"#DejaVuSans-115\"/>\r\n     <use x=\"52.099609\" xlink:href=\"#DejaVuSans-97\"/>\r\n     <use x=\"113.378906\" xlink:href=\"#DejaVuSans-109\"/>\r\n     <use x=\"210.791016\" xlink:href=\"#DejaVuSans-112\"/>\r\n     <use x=\"274.267578\" xlink:href=\"#DejaVuSans-108\"/>\r\n     <use x=\"302.050781\" xlink:href=\"#DejaVuSans-101\"/>\r\n     <use x=\"363.574219\" xlink:href=\"#DejaVuSans-115\"/>\r\n     <use x=\"415.673828\" xlink:href=\"#DejaVuSans-32\"/>\r\n     <use x=\"447.460938\" xlink:href=\"#DejaVuSans-61\"/>\r\n     <use x=\"531.25\" xlink:href=\"#DejaVuSans-32\"/>\r\n     <use x=\"563.037109\" xlink:href=\"#DejaVuSans-49\"/>\r\n     <use x=\"626.660156\" xlink:href=\"#DejaVuSans-48\"/>\r\n     <use x=\"690.283203\" xlink:href=\"#DejaVuSans-50\"/>\r\n    </g>\r\n    <!-- value = [102, 0] -->\r\n    <g transform=\"translate(216.819081 171.675719)scale(0.01 -0.01)\">\r\n     <use xlink:href=\"#DejaVuSans-118\"/>\r\n     <use x=\"59.179688\" xlink:href=\"#DejaVuSans-97\"/>\r\n     <use x=\"120.458984\" xlink:href=\"#DejaVuSans-108\"/>\r\n     <use x=\"148.242188\" xlink:href=\"#DejaVuSans-117\"/>\r\n     <use x=\"211.621094\" xlink:href=\"#DejaVuSans-101\"/>\r\n     <use x=\"273.144531\" xlink:href=\"#DejaVuSans-32\"/>\r\n     <use x=\"304.931641\" xlink:href=\"#DejaVuSans-61\"/>\r\n     <use x=\"388.720703\" xlink:href=\"#DejaVuSans-32\"/>\r\n     <use x=\"420.507812\" xlink:href=\"#DejaVuSans-91\"/>\r\n     <use x=\"459.521484\" xlink:href=\"#DejaVuSans-49\"/>\r\n     <use x=\"523.144531\" xlink:href=\"#DejaVuSans-48\"/>\r\n     <use x=\"586.767578\" xlink:href=\"#DejaVuSans-50\"/>\r\n     <use x=\"650.390625\" xlink:href=\"#DejaVuSans-44\"/>\r\n     <use x=\"682.177734\" xlink:href=\"#DejaVuSans-32\"/>\r\n     <use x=\"713.964844\" xlink:href=\"#DejaVuSans-48\"/>\r\n     <use x=\"777.587891\" xlink:href=\"#DejaVuSans-93\"/>\r\n    </g>\r\n   </g>\r\n   <g id=\"patch_44\">\r\n    <path d=\"M 233.193748 164.311839 \r\nQ 231.095447 157.906833 228.649077 150.439354 \r\n\" style=\"fill:none;stroke:#000000;stroke-linecap:round;\"/>\r\n    <path d=\"M 233.259279 163.869453 \r\nL 233.193748 164.311839 \r\nL 232.879158 163.993982 \r\n\" style=\"fill:none;stroke:#000000;stroke-linecap:round;\"/>\r\n   </g>\r\n   <g id=\"text_22\">\r\n    <g id=\"patch_45\">\r\n     <path d=\"M 228.422374 172.757484 \r\nL 241.875499 172.757484 \r\nL 241.875499 167.774703 \r\nL 228.422374 167.774703 \r\nz\r\n\" style=\"fill:#ffffff;stroke:#000000;stroke-linejoin:miter;\"/>\r\n    </g>\r\n    <!-- ejection_fraction &lt;= 55.0 -->\r\n    <defs>\r\n     <path d=\"M 9.421875 54.6875 \r\nL 18.40625 54.6875 \r\nL 18.40625 -0.984375 \r\nQ 18.40625 -11.421875 14.421875 -16.109375 \r\nQ 10.453125 -20.796875 1.609375 -20.796875 \r\nL -1.8125 -20.796875 \r\nL -1.8125 -13.1875 \r\nL 0.59375 -13.1875 \r\nQ 5.71875 -13.1875 7.5625 -10.8125 \r\nQ 9.421875 -8.453125 9.421875 -0.984375 \r\nz\r\nM 9.421875 75.984375 \r\nL 18.40625 75.984375 \r\nL 18.40625 64.59375 \r\nL 9.421875 64.59375 \r\nz\r\n\" id=\"DejaVuSans-106\"/>\r\n     <path d=\"M 37.109375 75.984375 \r\nL 37.109375 68.5 \r\nL 28.515625 68.5 \r\nQ 23.6875 68.5 21.796875 66.546875 \r\nQ 19.921875 64.59375 19.921875 59.515625 \r\nL 19.921875 54.6875 \r\nL 34.71875 54.6875 \r\nL 34.71875 47.703125 \r\nL 19.921875 47.703125 \r\nL 19.921875 0 \r\nL 10.890625 0 \r\nL 10.890625 47.703125 \r\nL 2.296875 47.703125 \r\nL 2.296875 54.6875 \r\nL 10.890625 54.6875 \r\nL 10.890625 58.5 \r\nQ 10.890625 67.625 15.140625 71.796875 \r\nQ 19.390625 75.984375 28.609375 75.984375 \r\nz\r\n\" id=\"DejaVuSans-102\"/>\r\n    </defs>\r\n    <g transform=\"translate(228.722374 168.862359)scale(0.01 -0.01)\">\r\n     <use xlink:href=\"#DejaVuSans-101\"/>\r\n     <use x=\"61.523438\" xlink:href=\"#DejaVuSans-106\"/>\r\n     <use x=\"89.306641\" xlink:href=\"#DejaVuSans-101\"/>\r\n     <use x=\"150.830078\" xlink:href=\"#DejaVuSans-99\"/>\r\n     <use x=\"205.810547\" xlink:href=\"#DejaVuSans-116\"/>\r\n     <use x=\"245.019531\" xlink:href=\"#DejaVuSans-105\"/>\r\n     <use x=\"272.802734\" xlink:href=\"#DejaVuSans-111\"/>\r\n     <use x=\"333.984375\" xlink:href=\"#DejaVuSans-110\"/>\r\n     <use x=\"397.363281\" xlink:href=\"#DejaVuSans-95\"/>\r\n     <use x=\"447.363281\" xlink:href=\"#DejaVuSans-102\"/>\r\n     <use x=\"482.568359\" xlink:href=\"#DejaVuSans-114\"/>\r\n     <use x=\"523.681641\" xlink:href=\"#DejaVuSans-97\"/>\r\n     <use x=\"584.960938\" xlink:href=\"#DejaVuSans-99\"/>\r\n     <use x=\"639.941406\" xlink:href=\"#DejaVuSans-116\"/>\r\n     <use x=\"679.150391\" xlink:href=\"#DejaVuSans-105\"/>\r\n     <use x=\"706.933594\" xlink:href=\"#DejaVuSans-111\"/>\r\n     <use x=\"768.115234\" xlink:href=\"#DejaVuSans-110\"/>\r\n     <use x=\"831.494141\" xlink:href=\"#DejaVuSans-32\"/>\r\n     <use x=\"863.28125\" xlink:href=\"#DejaVuSans-60\"/>\r\n     <use x=\"947.070312\" xlink:href=\"#DejaVuSans-61\"/>\r\n     <use x=\"1030.859375\" xlink:href=\"#DejaVuSans-32\"/>\r\n     <use x=\"1062.646484\" xlink:href=\"#DejaVuSans-53\"/>\r\n     <use x=\"1126.269531\" xlink:href=\"#DejaVuSans-53\"/>\r\n     <use x=\"1189.892578\" xlink:href=\"#DejaVuSans-46\"/>\r\n     <use x=\"1221.679688\" xlink:href=\"#DejaVuSans-48\"/>\r\n    </g>\r\n    <!-- gini = 0.133 -->\r\n    <g transform=\"translate(232.068624 170.009953)scale(0.01 -0.01)\">\r\n     <use xlink:href=\"#DejaVuSans-103\"/>\r\n     <use x=\"63.476562\" xlink:href=\"#DejaVuSans-105\"/>\r\n     <use x=\"91.259766\" xlink:href=\"#DejaVuSans-110\"/>\r\n     <use x=\"154.638672\" xlink:href=\"#DejaVuSans-105\"/>\r\n     <use x=\"182.421875\" xlink:href=\"#DejaVuSans-32\"/>\r\n     <use x=\"214.208984\" xlink:href=\"#DejaVuSans-61\"/>\r\n     <use x=\"297.998047\" xlink:href=\"#DejaVuSans-32\"/>\r\n     <use x=\"329.785156\" xlink:href=\"#DejaVuSans-48\"/>\r\n     <use x=\"393.408203\" xlink:href=\"#DejaVuSans-46\"/>\r\n     <use x=\"425.195312\" xlink:href=\"#DejaVuSans-49\"/>\r\n     <use x=\"488.818359\" xlink:href=\"#DejaVuSans-51\"/>\r\n     <use x=\"552.441406\" xlink:href=\"#DejaVuSans-51\"/>\r\n    </g>\r\n    <!-- samples = 14 -->\r\n    <g transform=\"translate(231.69753 171.129734)scale(0.01 -0.01)\">\r\n     <use xlink:href=\"#DejaVuSans-115\"/>\r\n     <use x=\"52.099609\" xlink:href=\"#DejaVuSans-97\"/>\r\n     <use x=\"113.378906\" xlink:href=\"#DejaVuSans-109\"/>\r\n     <use x=\"210.791016\" xlink:href=\"#DejaVuSans-112\"/>\r\n     <use x=\"274.267578\" xlink:href=\"#DejaVuSans-108\"/>\r\n     <use x=\"302.050781\" xlink:href=\"#DejaVuSans-101\"/>\r\n     <use x=\"363.574219\" xlink:href=\"#DejaVuSans-115\"/>\r\n     <use x=\"415.673828\" xlink:href=\"#DejaVuSans-32\"/>\r\n     <use x=\"447.460938\" xlink:href=\"#DejaVuSans-61\"/>\r\n     <use x=\"531.25\" xlink:href=\"#DejaVuSans-32\"/>\r\n     <use x=\"563.037109\" xlink:href=\"#DejaVuSans-49\"/>\r\n     <use x=\"626.660156\" xlink:href=\"#DejaVuSans-52\"/>\r\n    </g>\r\n    <!-- value = [13, 1] -->\r\n    <g transform=\"translate(231.384014 172.249516)scale(0.01 -0.01)\">\r\n     <use xlink:href=\"#DejaVuSans-118\"/>\r\n     <use x=\"59.179688\" xlink:href=\"#DejaVuSans-97\"/>\r\n     <use x=\"120.458984\" xlink:href=\"#DejaVuSans-108\"/>\r\n     <use x=\"148.242188\" xlink:href=\"#DejaVuSans-117\"/>\r\n     <use x=\"211.621094\" xlink:href=\"#DejaVuSans-101\"/>\r\n     <use x=\"273.144531\" xlink:href=\"#DejaVuSans-32\"/>\r\n     <use x=\"304.931641\" xlink:href=\"#DejaVuSans-61\"/>\r\n     <use x=\"388.720703\" xlink:href=\"#DejaVuSans-32\"/>\r\n     <use x=\"420.507812\" xlink:href=\"#DejaVuSans-91\"/>\r\n     <use x=\"459.521484\" xlink:href=\"#DejaVuSans-49\"/>\r\n     <use x=\"523.144531\" xlink:href=\"#DejaVuSans-51\"/>\r\n     <use x=\"586.767578\" xlink:href=\"#DejaVuSans-44\"/>\r\n     <use x=\"618.554688\" xlink:href=\"#DejaVuSans-32\"/>\r\n     <use x=\"650.341797\" xlink:href=\"#DejaVuSans-49\"/>\r\n     <use x=\"713.964844\" xlink:href=\"#DejaVuSans-93\"/>\r\n    </g>\r\n   </g>\r\n   <g id=\"patch_46\">\r\n    <path d=\"M 286.771219 164.912369 \r\nQ 288.967927 158.206979 291.512703 150.439116 \r\n\" style=\"fill:none;stroke:#000000;stroke-linecap:round;\"/>\r\n    <path d=\"M 287.085809 164.594512 \r\nL 286.771219 164.912369 \r\nL 286.705687 164.469983 \r\n\" style=\"fill:none;stroke:#000000;stroke-linecap:round;\"/>\r\n   </g>\r\n   <g id=\"text_23\">\r\n    <g id=\"patch_47\">\r\n     <path d=\"M 281.265969 172.183687 \r\nL 288.759563 172.183687 \r\nL 288.759563 168.376312 \r\nL 281.265969 168.376312 \r\nz\r\n\" style=\"fill:#ffffff;stroke:#000000;stroke-linejoin:miter;\"/>\r\n    </g>\r\n    <!-- gini = 0.0 -->\r\n    <g transform=\"translate(282.568703 169.436156)scale(0.01 -0.01)\">\r\n     <use xlink:href=\"#DejaVuSans-103\"/>\r\n     <use x=\"63.476562\" xlink:href=\"#DejaVuSans-105\"/>\r\n     <use x=\"91.259766\" xlink:href=\"#DejaVuSans-110\"/>\r\n     <use x=\"154.638672\" xlink:href=\"#DejaVuSans-105\"/>\r\n     <use x=\"182.421875\" xlink:href=\"#DejaVuSans-32\"/>\r\n     <use x=\"214.208984\" xlink:href=\"#DejaVuSans-61\"/>\r\n     <use x=\"297.998047\" xlink:href=\"#DejaVuSans-32\"/>\r\n     <use x=\"329.785156\" xlink:href=\"#DejaVuSans-48\"/>\r\n     <use x=\"393.408203\" xlink:href=\"#DejaVuSans-46\"/>\r\n     <use x=\"425.195312\" xlink:href=\"#DejaVuSans-48\"/>\r\n    </g>\r\n    <!-- samples = 2 -->\r\n    <g transform=\"translate(281.879485 170.555937)scale(0.01 -0.01)\">\r\n     <use xlink:href=\"#DejaVuSans-115\"/>\r\n     <use x=\"52.099609\" xlink:href=\"#DejaVuSans-97\"/>\r\n     <use x=\"113.378906\" xlink:href=\"#DejaVuSans-109\"/>\r\n     <use x=\"210.791016\" xlink:href=\"#DejaVuSans-112\"/>\r\n     <use x=\"274.267578\" xlink:href=\"#DejaVuSans-108\"/>\r\n     <use x=\"302.050781\" xlink:href=\"#DejaVuSans-101\"/>\r\n     <use x=\"363.574219\" xlink:href=\"#DejaVuSans-115\"/>\r\n     <use x=\"415.673828\" xlink:href=\"#DejaVuSans-32\"/>\r\n     <use x=\"447.460938\" xlink:href=\"#DejaVuSans-61\"/>\r\n     <use x=\"531.25\" xlink:href=\"#DejaVuSans-32\"/>\r\n     <use x=\"563.037109\" xlink:href=\"#DejaVuSans-50\"/>\r\n    </g>\r\n    <!-- value = [2, 0] -->\r\n    <g transform=\"translate(281.565969 171.675719)scale(0.01 -0.01)\">\r\n     <use xlink:href=\"#DejaVuSans-118\"/>\r\n     <use x=\"59.179688\" xlink:href=\"#DejaVuSans-97\"/>\r\n     <use x=\"120.458984\" xlink:href=\"#DejaVuSans-108\"/>\r\n     <use x=\"148.242188\" xlink:href=\"#DejaVuSans-117\"/>\r\n     <use x=\"211.621094\" xlink:href=\"#DejaVuSans-101\"/>\r\n     <use x=\"273.144531\" xlink:href=\"#DejaVuSans-32\"/>\r\n     <use x=\"304.931641\" xlink:href=\"#DejaVuSans-61\"/>\r\n     <use x=\"388.720703\" xlink:href=\"#DejaVuSans-32\"/>\r\n     <use x=\"420.507812\" xlink:href=\"#DejaVuSans-91\"/>\r\n     <use x=\"459.521484\" xlink:href=\"#DejaVuSans-50\"/>\r\n     <use x=\"523.144531\" xlink:href=\"#DejaVuSans-44\"/>\r\n     <use x=\"554.931641\" xlink:href=\"#DejaVuSans-32\"/>\r\n     <use x=\"586.71875\" xlink:href=\"#DejaVuSans-48\"/>\r\n     <use x=\"650.341797\" xlink:href=\"#DejaVuSans-93\"/>\r\n    </g>\r\n   </g>\r\n   <g id=\"patch_48\">\r\n    <path d=\"M 297.316889 164.350005 \r\nQ 295.211694 157.923953 292.758429 150.435428 \r\n\" style=\"fill:none;stroke:#000000;stroke-linecap:round;\"/>\r\n    <path d=\"M 297.382421 163.907619 \r\nL 297.316889 164.350005 \r\nL 297.002299 164.032148 \r\n\" style=\"fill:none;stroke:#000000;stroke-linecap:round;\"/>\r\n   </g>\r\n   <g id=\"text_24\">\r\n    <g id=\"patch_49\">\r\n     <path d=\"M 293.248559 172.743578 \r\nL 305.27059 172.743578 \r\nL 305.27059 167.816422 \r\nL 293.248559 167.816422 \r\nz\r\n\" style=\"fill:#ffffff;stroke:#000000;stroke-linejoin:miter;\"/>\r\n    </g>\r\n    <!-- platelets &lt;= 202000.0 -->\r\n    <g transform=\"translate(293.548559 168.876266)scale(0.01 -0.01)\">\r\n     <use xlink:href=\"#DejaVuSans-112\"/>\r\n     <use x=\"63.476562\" xlink:href=\"#DejaVuSans-108\"/>\r\n     <use x=\"91.259766\" xlink:href=\"#DejaVuSans-97\"/>\r\n     <use x=\"152.539062\" xlink:href=\"#DejaVuSans-116\"/>\r\n     <use x=\"191.748047\" xlink:href=\"#DejaVuSans-101\"/>\r\n     <use x=\"253.271484\" xlink:href=\"#DejaVuSans-108\"/>\r\n     <use x=\"281.054688\" xlink:href=\"#DejaVuSans-101\"/>\r\n     <use x=\"342.578125\" xlink:href=\"#DejaVuSans-116\"/>\r\n     <use x=\"381.787109\" xlink:href=\"#DejaVuSans-115\"/>\r\n     <use x=\"433.886719\" xlink:href=\"#DejaVuSans-32\"/>\r\n     <use x=\"465.673828\" xlink:href=\"#DejaVuSans-60\"/>\r\n     <use x=\"549.462891\" xlink:href=\"#DejaVuSans-61\"/>\r\n     <use x=\"633.251953\" xlink:href=\"#DejaVuSans-32\"/>\r\n     <use x=\"665.039062\" xlink:href=\"#DejaVuSans-50\"/>\r\n     <use x=\"728.662109\" xlink:href=\"#DejaVuSans-48\"/>\r\n     <use x=\"792.285156\" xlink:href=\"#DejaVuSans-50\"/>\r\n     <use x=\"855.908203\" xlink:href=\"#DejaVuSans-48\"/>\r\n     <use x=\"919.53125\" xlink:href=\"#DejaVuSans-48\"/>\r\n     <use x=\"983.154297\" xlink:href=\"#DejaVuSans-48\"/>\r\n     <use x=\"1046.777344\" xlink:href=\"#DejaVuSans-46\"/>\r\n     <use x=\"1078.564453\" xlink:href=\"#DejaVuSans-48\"/>\r\n    </g>\r\n    <!-- gini = 0.444 -->\r\n    <g transform=\"translate(296.179262 169.996047)scale(0.01 -0.01)\">\r\n     <use xlink:href=\"#DejaVuSans-103\"/>\r\n     <use x=\"63.476562\" xlink:href=\"#DejaVuSans-105\"/>\r\n     <use x=\"91.259766\" xlink:href=\"#DejaVuSans-110\"/>\r\n     <use x=\"154.638672\" xlink:href=\"#DejaVuSans-105\"/>\r\n     <use x=\"182.421875\" xlink:href=\"#DejaVuSans-32\"/>\r\n     <use x=\"214.208984\" xlink:href=\"#DejaVuSans-61\"/>\r\n     <use x=\"297.998047\" xlink:href=\"#DejaVuSans-32\"/>\r\n     <use x=\"329.785156\" xlink:href=\"#DejaVuSans-48\"/>\r\n     <use x=\"393.408203\" xlink:href=\"#DejaVuSans-46\"/>\r\n     <use x=\"425.195312\" xlink:href=\"#DejaVuSans-52\"/>\r\n     <use x=\"488.818359\" xlink:href=\"#DejaVuSans-52\"/>\r\n     <use x=\"552.441406\" xlink:href=\"#DejaVuSans-52\"/>\r\n    </g>\r\n    <!-- samples = 6 -->\r\n    <g transform=\"translate(296.126293 171.115828)scale(0.01 -0.01)\">\r\n     <use xlink:href=\"#DejaVuSans-115\"/>\r\n     <use x=\"52.099609\" xlink:href=\"#DejaVuSans-97\"/>\r\n     <use x=\"113.378906\" xlink:href=\"#DejaVuSans-109\"/>\r\n     <use x=\"210.791016\" xlink:href=\"#DejaVuSans-112\"/>\r\n     <use x=\"274.267578\" xlink:href=\"#DejaVuSans-108\"/>\r\n     <use x=\"302.050781\" xlink:href=\"#DejaVuSans-101\"/>\r\n     <use x=\"363.574219\" xlink:href=\"#DejaVuSans-115\"/>\r\n     <use x=\"415.673828\" xlink:href=\"#DejaVuSans-32\"/>\r\n     <use x=\"447.460938\" xlink:href=\"#DejaVuSans-61\"/>\r\n     <use x=\"531.25\" xlink:href=\"#DejaVuSans-32\"/>\r\n     <use x=\"563.037109\" xlink:href=\"#DejaVuSans-54\"/>\r\n    </g>\r\n    <!-- value = [2, 4] -->\r\n    <g transform=\"translate(295.812778 172.235609)scale(0.01 -0.01)\">\r\n     <use xlink:href=\"#DejaVuSans-118\"/>\r\n     <use x=\"59.179688\" xlink:href=\"#DejaVuSans-97\"/>\r\n     <use x=\"120.458984\" xlink:href=\"#DejaVuSans-108\"/>\r\n     <use x=\"148.242188\" xlink:href=\"#DejaVuSans-117\"/>\r\n     <use x=\"211.621094\" xlink:href=\"#DejaVuSans-101\"/>\r\n     <use x=\"273.144531\" xlink:href=\"#DejaVuSans-32\"/>\r\n     <use x=\"304.931641\" xlink:href=\"#DejaVuSans-61\"/>\r\n     <use x=\"388.720703\" xlink:href=\"#DejaVuSans-32\"/>\r\n     <use x=\"420.507812\" xlink:href=\"#DejaVuSans-91\"/>\r\n     <use x=\"459.521484\" xlink:href=\"#DejaVuSans-50\"/>\r\n     <use x=\"523.144531\" xlink:href=\"#DejaVuSans-44\"/>\r\n     <use x=\"554.931641\" xlink:href=\"#DejaVuSans-32\"/>\r\n     <use x=\"586.71875\" xlink:href=\"#DejaVuSans-52\"/>\r\n     <use x=\"650.341797\" xlink:href=\"#DejaVuSans-93\"/>\r\n    </g>\r\n   </g>\r\n   <g id=\"patch_50\">\r\n    <path d=\"M 315.264836 164.912369 \r\nQ 317.461544 158.206979 320.00632 150.439116 \r\n\" style=\"fill:none;stroke:#000000;stroke-linecap:round;\"/>\r\n    <path d=\"M 315.579426 164.594512 \r\nL 315.264836 164.912369 \r\nL 315.199304 164.469983 \r\n\" style=\"fill:none;stroke:#000000;stroke-linecap:round;\"/>\r\n   </g>\r\n   <g id=\"text_25\">\r\n    <g id=\"patch_51\">\r\n     <path d=\"M 309.759586 172.183687 \r\nL 317.25318 172.183687 \r\nL 317.25318 168.376312 \r\nL 309.759586 168.376312 \r\nz\r\n\" style=\"fill:#ffffff;stroke:#000000;stroke-linejoin:miter;\"/>\r\n    </g>\r\n    <!-- gini = 0.0 -->\r\n    <g transform=\"translate(311.06232 169.436156)scale(0.01 -0.01)\">\r\n     <use xlink:href=\"#DejaVuSans-103\"/>\r\n     <use x=\"63.476562\" xlink:href=\"#DejaVuSans-105\"/>\r\n     <use x=\"91.259766\" xlink:href=\"#DejaVuSans-110\"/>\r\n     <use x=\"154.638672\" xlink:href=\"#DejaVuSans-105\"/>\r\n     <use x=\"182.421875\" xlink:href=\"#DejaVuSans-32\"/>\r\n     <use x=\"214.208984\" xlink:href=\"#DejaVuSans-61\"/>\r\n     <use x=\"297.998047\" xlink:href=\"#DejaVuSans-32\"/>\r\n     <use x=\"329.785156\" xlink:href=\"#DejaVuSans-48\"/>\r\n     <use x=\"393.408203\" xlink:href=\"#DejaVuSans-46\"/>\r\n     <use x=\"425.195312\" xlink:href=\"#DejaVuSans-48\"/>\r\n    </g>\r\n    <!-- samples = 1 -->\r\n    <g transform=\"translate(310.373102 170.555937)scale(0.01 -0.01)\">\r\n     <use xlink:href=\"#DejaVuSans-115\"/>\r\n     <use x=\"52.099609\" xlink:href=\"#DejaVuSans-97\"/>\r\n     <use x=\"113.378906\" xlink:href=\"#DejaVuSans-109\"/>\r\n     <use x=\"210.791016\" xlink:href=\"#DejaVuSans-112\"/>\r\n     <use x=\"274.267578\" xlink:href=\"#DejaVuSans-108\"/>\r\n     <use x=\"302.050781\" xlink:href=\"#DejaVuSans-101\"/>\r\n     <use x=\"363.574219\" xlink:href=\"#DejaVuSans-115\"/>\r\n     <use x=\"415.673828\" xlink:href=\"#DejaVuSans-32\"/>\r\n     <use x=\"447.460938\" xlink:href=\"#DejaVuSans-61\"/>\r\n     <use x=\"531.25\" xlink:href=\"#DejaVuSans-32\"/>\r\n     <use x=\"563.037109\" xlink:href=\"#DejaVuSans-49\"/>\r\n    </g>\r\n    <!-- value = [1, 0] -->\r\n    <g transform=\"translate(310.059586 171.675719)scale(0.01 -0.01)\">\r\n     <use xlink:href=\"#DejaVuSans-118\"/>\r\n     <use x=\"59.179688\" xlink:href=\"#DejaVuSans-97\"/>\r\n     <use x=\"120.458984\" xlink:href=\"#DejaVuSans-108\"/>\r\n     <use x=\"148.242188\" xlink:href=\"#DejaVuSans-117\"/>\r\n     <use x=\"211.621094\" xlink:href=\"#DejaVuSans-101\"/>\r\n     <use x=\"273.144531\" xlink:href=\"#DejaVuSans-32\"/>\r\n     <use x=\"304.931641\" xlink:href=\"#DejaVuSans-61\"/>\r\n     <use x=\"388.720703\" xlink:href=\"#DejaVuSans-32\"/>\r\n     <use x=\"420.507812\" xlink:href=\"#DejaVuSans-91\"/>\r\n     <use x=\"459.521484\" xlink:href=\"#DejaVuSans-49\"/>\r\n     <use x=\"523.144531\" xlink:href=\"#DejaVuSans-44\"/>\r\n     <use x=\"554.931641\" xlink:href=\"#DejaVuSans-32\"/>\r\n     <use x=\"586.71875\" xlink:href=\"#DejaVuSans-48\"/>\r\n     <use x=\"650.341797\" xlink:href=\"#DejaVuSans-93\"/>\r\n    </g>\r\n   </g>\r\n   <g id=\"patch_52\">\r\n    <path d=\"M 325.994738 164.912369 \r\nQ 323.798031 158.206979 321.253254 150.439116 \r\n\" style=\"fill:none;stroke:#000000;stroke-linecap:round;\"/>\r\n    <path d=\"M 326.06027 164.469983 \r\nL 325.994738 164.912369 \r\nL 325.680148 164.594512 \r\n\" style=\"fill:none;stroke:#000000;stroke-linecap:round;\"/>\r\n   </g>\r\n   <g id=\"text_26\">\r\n    <g id=\"patch_53\">\r\n     <path d=\"M 324.006395 172.183687 \r\nL 331.499988 172.183687 \r\nL 331.499988 168.376312 \r\nL 324.006395 168.376312 \r\nz\r\n\" style=\"fill:#ffffff;stroke:#000000;stroke-linejoin:miter;\"/>\r\n    </g>\r\n    <!-- gini = 0.0 -->\r\n    <g transform=\"translate(325.309129 169.436156)scale(0.01 -0.01)\">\r\n     <use xlink:href=\"#DejaVuSans-103\"/>\r\n     <use x=\"63.476562\" xlink:href=\"#DejaVuSans-105\"/>\r\n     <use x=\"91.259766\" xlink:href=\"#DejaVuSans-110\"/>\r\n     <use x=\"154.638672\" xlink:href=\"#DejaVuSans-105\"/>\r\n     <use x=\"182.421875\" xlink:href=\"#DejaVuSans-32\"/>\r\n     <use x=\"214.208984\" xlink:href=\"#DejaVuSans-61\"/>\r\n     <use x=\"297.998047\" xlink:href=\"#DejaVuSans-32\"/>\r\n     <use x=\"329.785156\" xlink:href=\"#DejaVuSans-48\"/>\r\n     <use x=\"393.408203\" xlink:href=\"#DejaVuSans-46\"/>\r\n     <use x=\"425.195312\" xlink:href=\"#DejaVuSans-48\"/>\r\n    </g>\r\n    <!-- samples = 3 -->\r\n    <g transform=\"translate(324.61991 170.555937)scale(0.01 -0.01)\">\r\n     <use xlink:href=\"#DejaVuSans-115\"/>\r\n     <use x=\"52.099609\" xlink:href=\"#DejaVuSans-97\"/>\r\n     <use x=\"113.378906\" xlink:href=\"#DejaVuSans-109\"/>\r\n     <use x=\"210.791016\" xlink:href=\"#DejaVuSans-112\"/>\r\n     <use x=\"274.267578\" xlink:href=\"#DejaVuSans-108\"/>\r\n     <use x=\"302.050781\" xlink:href=\"#DejaVuSans-101\"/>\r\n     <use x=\"363.574219\" xlink:href=\"#DejaVuSans-115\"/>\r\n     <use x=\"415.673828\" xlink:href=\"#DejaVuSans-32\"/>\r\n     <use x=\"447.460938\" xlink:href=\"#DejaVuSans-61\"/>\r\n     <use x=\"531.25\" xlink:href=\"#DejaVuSans-32\"/>\r\n     <use x=\"563.037109\" xlink:href=\"#DejaVuSans-51\"/>\r\n    </g>\r\n    <!-- value = [0, 3] -->\r\n    <g transform=\"translate(324.306395 171.675719)scale(0.01 -0.01)\">\r\n     <use xlink:href=\"#DejaVuSans-118\"/>\r\n     <use x=\"59.179688\" xlink:href=\"#DejaVuSans-97\"/>\r\n     <use x=\"120.458984\" xlink:href=\"#DejaVuSans-108\"/>\r\n     <use x=\"148.242188\" xlink:href=\"#DejaVuSans-117\"/>\r\n     <use x=\"211.621094\" xlink:href=\"#DejaVuSans-101\"/>\r\n     <use x=\"273.144531\" xlink:href=\"#DejaVuSans-32\"/>\r\n     <use x=\"304.931641\" xlink:href=\"#DejaVuSans-61\"/>\r\n     <use x=\"388.720703\" xlink:href=\"#DejaVuSans-32\"/>\r\n     <use x=\"420.507812\" xlink:href=\"#DejaVuSans-91\"/>\r\n     <use x=\"459.521484\" xlink:href=\"#DejaVuSans-48\"/>\r\n     <use x=\"523.144531\" xlink:href=\"#DejaVuSans-44\"/>\r\n     <use x=\"554.931641\" xlink:href=\"#DejaVuSans-32\"/>\r\n     <use x=\"586.71875\" xlink:href=\"#DejaVuSans-51\"/>\r\n     <use x=\"650.341797\" xlink:href=\"#DejaVuSans-93\"/>\r\n    </g>\r\n   </g>\r\n   <g id=\"patch_54\">\r\n    <path d=\"M 89.23606 142.921566 \r\nQ 93.666482 136.159694 98.709638 128.462645 \r\n\" style=\"fill:none;stroke:#000000;stroke-linecap:round;\"/>\r\n    <path d=\"M 89.622568 142.696596 \r\nL 89.23606 142.921566 \r\nL 89.287989 142.477378 \r\n\" style=\"fill:none;stroke:#000000;stroke-linecap:round;\"/>\r\n   </g>\r\n   <g id=\"text_27\">\r\n    <g id=\"patch_55\">\r\n     <path d=\"M 78.651197 151.013484 \r\nL 92.463697 151.013484 \r\nL 92.463697 146.030703 \r\nL 78.651197 146.030703 \r\nz\r\n\" style=\"fill:#ffffff;stroke:#000000;stroke-linejoin:miter;\"/>\r\n    </g>\r\n    <!-- serum_creatinine &lt;= 1.25 -->\r\n    <g transform=\"translate(78.951197 147.118359)scale(0.01 -0.01)\">\r\n     <use xlink:href=\"#DejaVuSans-115\"/>\r\n     <use x=\"52.099609\" xlink:href=\"#DejaVuSans-101\"/>\r\n     <use x=\"113.623047\" xlink:href=\"#DejaVuSans-114\"/>\r\n     <use x=\"154.736328\" xlink:href=\"#DejaVuSans-117\"/>\r\n     <use x=\"218.115234\" xlink:href=\"#DejaVuSans-109\"/>\r\n     <use x=\"315.527344\" xlink:href=\"#DejaVuSans-95\"/>\r\n     <use x=\"365.527344\" xlink:href=\"#DejaVuSans-99\"/>\r\n     <use x=\"420.507812\" xlink:href=\"#DejaVuSans-114\"/>\r\n     <use x=\"461.589844\" xlink:href=\"#DejaVuSans-101\"/>\r\n     <use x=\"523.113281\" xlink:href=\"#DejaVuSans-97\"/>\r\n     <use x=\"584.392578\" xlink:href=\"#DejaVuSans-116\"/>\r\n     <use x=\"623.601562\" xlink:href=\"#DejaVuSans-105\"/>\r\n     <use x=\"651.384766\" xlink:href=\"#DejaVuSans-110\"/>\r\n     <use x=\"714.763672\" xlink:href=\"#DejaVuSans-105\"/>\r\n     <use x=\"742.546875\" xlink:href=\"#DejaVuSans-110\"/>\r\n     <use x=\"805.925781\" xlink:href=\"#DejaVuSans-101\"/>\r\n     <use x=\"867.449219\" xlink:href=\"#DejaVuSans-32\"/>\r\n     <use x=\"899.236328\" xlink:href=\"#DejaVuSans-60\"/>\r\n     <use x=\"983.025391\" xlink:href=\"#DejaVuSans-61\"/>\r\n     <use x=\"1066.814453\" xlink:href=\"#DejaVuSans-32\"/>\r\n     <use x=\"1098.601562\" xlink:href=\"#DejaVuSans-49\"/>\r\n     <use x=\"1162.224609\" xlink:href=\"#DejaVuSans-46\"/>\r\n     <use x=\"1194.011719\" xlink:href=\"#DejaVuSans-50\"/>\r\n     <use x=\"1257.634766\" xlink:href=\"#DejaVuSans-53\"/>\r\n    </g>\r\n    <!-- gini = 0.444 -->\r\n    <g transform=\"translate(82.477134 148.265953)scale(0.01 -0.01)\">\r\n     <use xlink:href=\"#DejaVuSans-103\"/>\r\n     <use x=\"63.476562\" xlink:href=\"#DejaVuSans-105\"/>\r\n     <use x=\"91.259766\" xlink:href=\"#DejaVuSans-110\"/>\r\n     <use x=\"154.638672\" xlink:href=\"#DejaVuSans-105\"/>\r\n     <use x=\"182.421875\" xlink:href=\"#DejaVuSans-32\"/>\r\n     <use x=\"214.208984\" xlink:href=\"#DejaVuSans-61\"/>\r\n     <use x=\"297.998047\" xlink:href=\"#DejaVuSans-32\"/>\r\n     <use x=\"329.785156\" xlink:href=\"#DejaVuSans-48\"/>\r\n     <use x=\"393.408203\" xlink:href=\"#DejaVuSans-46\"/>\r\n     <use x=\"425.195312\" xlink:href=\"#DejaVuSans-52\"/>\r\n     <use x=\"488.818359\" xlink:href=\"#DejaVuSans-52\"/>\r\n     <use x=\"552.441406\" xlink:href=\"#DejaVuSans-52\"/>\r\n    </g>\r\n    <!-- samples = 6 -->\r\n    <g transform=\"translate(82.424166 149.385734)scale(0.01 -0.01)\">\r\n     <use xlink:href=\"#DejaVuSans-115\"/>\r\n     <use x=\"52.099609\" xlink:href=\"#DejaVuSans-97\"/>\r\n     <use x=\"113.378906\" xlink:href=\"#DejaVuSans-109\"/>\r\n     <use x=\"210.791016\" xlink:href=\"#DejaVuSans-112\"/>\r\n     <use x=\"274.267578\" xlink:href=\"#DejaVuSans-108\"/>\r\n     <use x=\"302.050781\" xlink:href=\"#DejaVuSans-101\"/>\r\n     <use x=\"363.574219\" xlink:href=\"#DejaVuSans-115\"/>\r\n     <use x=\"415.673828\" xlink:href=\"#DejaVuSans-32\"/>\r\n     <use x=\"447.460938\" xlink:href=\"#DejaVuSans-61\"/>\r\n     <use x=\"531.25\" xlink:href=\"#DejaVuSans-32\"/>\r\n     <use x=\"563.037109\" xlink:href=\"#DejaVuSans-54\"/>\r\n    </g>\r\n    <!-- value = [2, 4] -->\r\n    <g transform=\"translate(82.11065 150.505516)scale(0.01 -0.01)\">\r\n     <use xlink:href=\"#DejaVuSans-118\"/>\r\n     <use x=\"59.179688\" xlink:href=\"#DejaVuSans-97\"/>\r\n     <use x=\"120.458984\" xlink:href=\"#DejaVuSans-108\"/>\r\n     <use x=\"148.242188\" xlink:href=\"#DejaVuSans-117\"/>\r\n     <use x=\"211.621094\" xlink:href=\"#DejaVuSans-101\"/>\r\n     <use x=\"273.144531\" xlink:href=\"#DejaVuSans-32\"/>\r\n     <use x=\"304.931641\" xlink:href=\"#DejaVuSans-61\"/>\r\n     <use x=\"388.720703\" xlink:href=\"#DejaVuSans-32\"/>\r\n     <use x=\"420.507812\" xlink:href=\"#DejaVuSans-91\"/>\r\n     <use x=\"459.521484\" xlink:href=\"#DejaVuSans-50\"/>\r\n     <use x=\"523.144531\" xlink:href=\"#DejaVuSans-44\"/>\r\n     <use x=\"554.931641\" xlink:href=\"#DejaVuSans-32\"/>\r\n     <use x=\"586.71875\" xlink:href=\"#DejaVuSans-52\"/>\r\n     <use x=\"650.341797\" xlink:href=\"#DejaVuSans-93\"/>\r\n    </g>\r\n   </g>\r\n   <g id=\"patch_56\">\r\n    <path d=\"M 110.372451 142.921566 \r\nQ 105.942029 136.159694 100.898873 128.462645 \r\n\" style=\"fill:none;stroke:#000000;stroke-linecap:round;\"/>\r\n    <path d=\"M 110.320522 142.477378 \r\nL 110.372451 142.921566 \r\nL 109.985943 142.696596 \r\n\" style=\"fill:none;stroke:#000000;stroke-linecap:round;\"/>\r\n   </g>\r\n   <g id=\"text_28\">\r\n    <g id=\"patch_57\">\r\n     <path d=\"M 104.325361 151.013484 \r\nL 123.776767 151.013484 \r\nL 123.776767 146.030703 \r\nL 104.325361 146.030703 \r\nz\r\n\" style=\"fill:#ffffff;stroke:#000000;stroke-linejoin:miter;\"/>\r\n    </g>\r\n    <!-- creatinine_phosphokinase &lt;= 1755.5 -->\r\n    <defs>\r\n     <path d=\"M 8.203125 72.90625 \r\nL 55.078125 72.90625 \r\nL 55.078125 68.703125 \r\nL 28.609375 0 \r\nL 18.3125 0 \r\nL 43.21875 64.59375 \r\nL 8.203125 64.59375 \r\nz\r\n\" id=\"DejaVuSans-55\"/>\r\n    </defs>\r\n    <g transform=\"translate(104.625361 147.118359)scale(0.01 -0.01)\">\r\n     <use xlink:href=\"#DejaVuSans-99\"/>\r\n     <use x=\"54.980469\" xlink:href=\"#DejaVuSans-114\"/>\r\n     <use x=\"96.0625\" xlink:href=\"#DejaVuSans-101\"/>\r\n     <use x=\"157.585938\" xlink:href=\"#DejaVuSans-97\"/>\r\n     <use x=\"218.865234\" xlink:href=\"#DejaVuSans-116\"/>\r\n     <use x=\"258.074219\" xlink:href=\"#DejaVuSans-105\"/>\r\n     <use x=\"285.857422\" xlink:href=\"#DejaVuSans-110\"/>\r\n     <use x=\"349.236328\" xlink:href=\"#DejaVuSans-105\"/>\r\n     <use x=\"377.019531\" xlink:href=\"#DejaVuSans-110\"/>\r\n     <use x=\"440.398438\" xlink:href=\"#DejaVuSans-101\"/>\r\n     <use x=\"501.921875\" xlink:href=\"#DejaVuSans-95\"/>\r\n     <use x=\"551.921875\" xlink:href=\"#DejaVuSans-112\"/>\r\n     <use x=\"615.398438\" xlink:href=\"#DejaVuSans-104\"/>\r\n     <use x=\"678.777344\" xlink:href=\"#DejaVuSans-111\"/>\r\n     <use x=\"739.958984\" xlink:href=\"#DejaVuSans-115\"/>\r\n     <use x=\"792.058594\" xlink:href=\"#DejaVuSans-112\"/>\r\n     <use x=\"855.535156\" xlink:href=\"#DejaVuSans-104\"/>\r\n     <use x=\"918.914062\" xlink:href=\"#DejaVuSans-111\"/>\r\n     <use x=\"980.095703\" xlink:href=\"#DejaVuSans-107\"/>\r\n     <use x=\"1038.005859\" xlink:href=\"#DejaVuSans-105\"/>\r\n     <use x=\"1065.789062\" xlink:href=\"#DejaVuSans-110\"/>\r\n     <use x=\"1129.167969\" xlink:href=\"#DejaVuSans-97\"/>\r\n     <use x=\"1190.447266\" xlink:href=\"#DejaVuSans-115\"/>\r\n     <use x=\"1242.546875\" xlink:href=\"#DejaVuSans-101\"/>\r\n     <use x=\"1304.070312\" xlink:href=\"#DejaVuSans-32\"/>\r\n     <use x=\"1335.857422\" xlink:href=\"#DejaVuSans-60\"/>\r\n     <use x=\"1419.646484\" xlink:href=\"#DejaVuSans-61\"/>\r\n     <use x=\"1503.435547\" xlink:href=\"#DejaVuSans-32\"/>\r\n     <use x=\"1535.222656\" xlink:href=\"#DejaVuSans-49\"/>\r\n     <use x=\"1598.845703\" xlink:href=\"#DejaVuSans-55\"/>\r\n     <use x=\"1662.46875\" xlink:href=\"#DejaVuSans-53\"/>\r\n     <use x=\"1726.091797\" xlink:href=\"#DejaVuSans-53\"/>\r\n     <use x=\"1789.714844\" xlink:href=\"#DejaVuSans-46\"/>\r\n     <use x=\"1821.501953\" xlink:href=\"#DejaVuSans-53\"/>\r\n    </g>\r\n    <!-- gini = 0.133 -->\r\n    <g transform=\"translate(110.970751 148.265953)scale(0.01 -0.01)\">\r\n     <use xlink:href=\"#DejaVuSans-103\"/>\r\n     <use x=\"63.476562\" xlink:href=\"#DejaVuSans-105\"/>\r\n     <use x=\"91.259766\" xlink:href=\"#DejaVuSans-110\"/>\r\n     <use x=\"154.638672\" xlink:href=\"#DejaVuSans-105\"/>\r\n     <use x=\"182.421875\" xlink:href=\"#DejaVuSans-32\"/>\r\n     <use x=\"214.208984\" xlink:href=\"#DejaVuSans-61\"/>\r\n     <use x=\"297.998047\" xlink:href=\"#DejaVuSans-32\"/>\r\n     <use x=\"329.785156\" xlink:href=\"#DejaVuSans-48\"/>\r\n     <use x=\"393.408203\" xlink:href=\"#DejaVuSans-46\"/>\r\n     <use x=\"425.195312\" xlink:href=\"#DejaVuSans-49\"/>\r\n     <use x=\"488.818359\" xlink:href=\"#DejaVuSans-51\"/>\r\n     <use x=\"552.441406\" xlink:href=\"#DejaVuSans-51\"/>\r\n    </g>\r\n    <!-- samples = 14 -->\r\n    <g transform=\"translate(110.599658 149.385734)scale(0.01 -0.01)\">\r\n     <use xlink:href=\"#DejaVuSans-115\"/>\r\n     <use x=\"52.099609\" xlink:href=\"#DejaVuSans-97\"/>\r\n     <use x=\"113.378906\" xlink:href=\"#DejaVuSans-109\"/>\r\n     <use x=\"210.791016\" xlink:href=\"#DejaVuSans-112\"/>\r\n     <use x=\"274.267578\" xlink:href=\"#DejaVuSans-108\"/>\r\n     <use x=\"302.050781\" xlink:href=\"#DejaVuSans-101\"/>\r\n     <use x=\"363.574219\" xlink:href=\"#DejaVuSans-115\"/>\r\n     <use x=\"415.673828\" xlink:href=\"#DejaVuSans-32\"/>\r\n     <use x=\"447.460938\" xlink:href=\"#DejaVuSans-61\"/>\r\n     <use x=\"531.25\" xlink:href=\"#DejaVuSans-32\"/>\r\n     <use x=\"563.037109\" xlink:href=\"#DejaVuSans-49\"/>\r\n     <use x=\"626.660156\" xlink:href=\"#DejaVuSans-52\"/>\r\n    </g>\r\n    <!-- value = [1, 13] -->\r\n    <g transform=\"translate(110.286142 150.505516)scale(0.01 -0.01)\">\r\n     <use xlink:href=\"#DejaVuSans-118\"/>\r\n     <use x=\"59.179688\" xlink:href=\"#DejaVuSans-97\"/>\r\n     <use x=\"120.458984\" xlink:href=\"#DejaVuSans-108\"/>\r\n     <use x=\"148.242188\" xlink:href=\"#DejaVuSans-117\"/>\r\n     <use x=\"211.621094\" xlink:href=\"#DejaVuSans-101\"/>\r\n     <use x=\"273.144531\" xlink:href=\"#DejaVuSans-32\"/>\r\n     <use x=\"304.931641\" xlink:href=\"#DejaVuSans-61\"/>\r\n     <use x=\"388.720703\" xlink:href=\"#DejaVuSans-32\"/>\r\n     <use x=\"420.507812\" xlink:href=\"#DejaVuSans-91\"/>\r\n     <use x=\"459.521484\" xlink:href=\"#DejaVuSans-49\"/>\r\n     <use x=\"523.144531\" xlink:href=\"#DejaVuSans-44\"/>\r\n     <use x=\"554.931641\" xlink:href=\"#DejaVuSans-32\"/>\r\n     <use x=\"586.71875\" xlink:href=\"#DejaVuSans-49\"/>\r\n     <use x=\"650.341797\" xlink:href=\"#DejaVuSans-51\"/>\r\n     <use x=\"713.964844\" xlink:href=\"#DejaVuSans-93\"/>\r\n    </g>\r\n   </g>\r\n   <g id=\"patch_58\">\r\n    <path d=\"M 144.487366 142.606005 \r\nQ 146.592562 136.179953 149.045826 128.691428 \r\n\" style=\"fill:none;stroke:#000000;stroke-linecap:round;\"/>\r\n    <path d=\"M 144.801956 142.288148 \r\nL 144.487366 142.606005 \r\nL 144.421834 142.163619 \r\n\" style=\"fill:none;stroke:#000000;stroke-linecap:round;\"/>\r\n   </g>\r\n   <g id=\"text_29\">\r\n    <g id=\"patch_59\">\r\n     <path d=\"M 138.527884 150.999578 \r\nL 146.561478 150.999578 \r\nL 146.561478 146.072422 \r\nL 138.527884 146.072422 \r\nz\r\n\" style=\"fill:#ffffff;stroke:#000000;stroke-linejoin:miter;\"/>\r\n    </g>\r\n    <!-- time &lt;= 210.5 -->\r\n    <g transform=\"translate(138.827884 147.132266)scale(0.01 -0.01)\">\r\n     <use xlink:href=\"#DejaVuSans-116\"/>\r\n     <use x=\"39.208984\" xlink:href=\"#DejaVuSans-105\"/>\r\n     <use x=\"66.992188\" xlink:href=\"#DejaVuSans-109\"/>\r\n     <use x=\"164.404297\" xlink:href=\"#DejaVuSans-101\"/>\r\n     <use x=\"225.927734\" xlink:href=\"#DejaVuSans-32\"/>\r\n     <use x=\"257.714844\" xlink:href=\"#DejaVuSans-60\"/>\r\n     <use x=\"341.503906\" xlink:href=\"#DejaVuSans-61\"/>\r\n     <use x=\"425.292969\" xlink:href=\"#DejaVuSans-32\"/>\r\n     <use x=\"457.080078\" xlink:href=\"#DejaVuSans-50\"/>\r\n     <use x=\"520.703125\" xlink:href=\"#DejaVuSans-49\"/>\r\n     <use x=\"584.326172\" xlink:href=\"#DejaVuSans-48\"/>\r\n     <use x=\"647.949219\" xlink:href=\"#DejaVuSans-46\"/>\r\n     <use x=\"679.736328\" xlink:href=\"#DejaVuSans-53\"/>\r\n    </g>\r\n    <!-- gini = 0.444 -->\r\n    <g transform=\"translate(139.464368 148.252047)scale(0.01 -0.01)\">\r\n     <use xlink:href=\"#DejaVuSans-103\"/>\r\n     <use x=\"63.476562\" xlink:href=\"#DejaVuSans-105\"/>\r\n     <use x=\"91.259766\" xlink:href=\"#DejaVuSans-110\"/>\r\n     <use x=\"154.638672\" xlink:href=\"#DejaVuSans-105\"/>\r\n     <use x=\"182.421875\" xlink:href=\"#DejaVuSans-32\"/>\r\n     <use x=\"214.208984\" xlink:href=\"#DejaVuSans-61\"/>\r\n     <use x=\"297.998047\" xlink:href=\"#DejaVuSans-32\"/>\r\n     <use x=\"329.785156\" xlink:href=\"#DejaVuSans-48\"/>\r\n     <use x=\"393.408203\" xlink:href=\"#DejaVuSans-46\"/>\r\n     <use x=\"425.195312\" xlink:href=\"#DejaVuSans-52\"/>\r\n     <use x=\"488.818359\" xlink:href=\"#DejaVuSans-52\"/>\r\n     <use x=\"552.441406\" xlink:href=\"#DejaVuSans-52\"/>\r\n    </g>\r\n    <!-- samples = 6 -->\r\n    <g transform=\"translate(139.4114 149.371828)scale(0.01 -0.01)\">\r\n     <use xlink:href=\"#DejaVuSans-115\"/>\r\n     <use x=\"52.099609\" xlink:href=\"#DejaVuSans-97\"/>\r\n     <use x=\"113.378906\" xlink:href=\"#DejaVuSans-109\"/>\r\n     <use x=\"210.791016\" xlink:href=\"#DejaVuSans-112\"/>\r\n     <use x=\"274.267578\" xlink:href=\"#DejaVuSans-108\"/>\r\n     <use x=\"302.050781\" xlink:href=\"#DejaVuSans-101\"/>\r\n     <use x=\"363.574219\" xlink:href=\"#DejaVuSans-115\"/>\r\n     <use x=\"415.673828\" xlink:href=\"#DejaVuSans-32\"/>\r\n     <use x=\"447.460938\" xlink:href=\"#DejaVuSans-61\"/>\r\n     <use x=\"531.25\" xlink:href=\"#DejaVuSans-32\"/>\r\n     <use x=\"563.037109\" xlink:href=\"#DejaVuSans-54\"/>\r\n    </g>\r\n    <!-- value = [4, 2] -->\r\n    <g transform=\"translate(139.097884 150.491609)scale(0.01 -0.01)\">\r\n     <use xlink:href=\"#DejaVuSans-118\"/>\r\n     <use x=\"59.179688\" xlink:href=\"#DejaVuSans-97\"/>\r\n     <use x=\"120.458984\" xlink:href=\"#DejaVuSans-108\"/>\r\n     <use x=\"148.242188\" xlink:href=\"#DejaVuSans-117\"/>\r\n     <use x=\"211.621094\" xlink:href=\"#DejaVuSans-101\"/>\r\n     <use x=\"273.144531\" xlink:href=\"#DejaVuSans-32\"/>\r\n     <use x=\"304.931641\" xlink:href=\"#DejaVuSans-61\"/>\r\n     <use x=\"388.720703\" xlink:href=\"#DejaVuSans-32\"/>\r\n     <use x=\"420.507812\" xlink:href=\"#DejaVuSans-91\"/>\r\n     <use x=\"459.521484\" xlink:href=\"#DejaVuSans-52\"/>\r\n     <use x=\"523.144531\" xlink:href=\"#DejaVuSans-44\"/>\r\n     <use x=\"554.931641\" xlink:href=\"#DejaVuSans-32\"/>\r\n     <use x=\"586.71875\" xlink:href=\"#DejaVuSans-50\"/>\r\n     <use x=\"650.341797\" xlink:href=\"#DejaVuSans-93\"/>\r\n    </g>\r\n   </g>\r\n   <g id=\"patch_60\">\r\n    <path d=\"M 155.033036 143.168369 \r\nQ 152.836329 136.462979 150.291552 128.695116 \r\n\" style=\"fill:none;stroke:#000000;stroke-linecap:round;\"/>\r\n    <path d=\"M 155.098568 142.725983 \r\nL 155.033036 143.168369 \r\nL 154.718446 142.850512 \r\n\" style=\"fill:none;stroke:#000000;stroke-linecap:round;\"/>\r\n   </g>\r\n   <g id=\"text_30\">\r\n    <g id=\"patch_61\">\r\n     <path d=\"M 153.044692 150.439687 \r\nL 160.538286 150.439687 \r\nL 160.538286 146.632312 \r\nL 153.044692 146.632312 \r\nz\r\n\" style=\"fill:#ffffff;stroke:#000000;stroke-linejoin:miter;\"/>\r\n    </g>\r\n    <!-- gini = 0.0 -->\r\n    <g transform=\"translate(154.347427 147.692156)scale(0.01 -0.01)\">\r\n     <use xlink:href=\"#DejaVuSans-103\"/>\r\n     <use x=\"63.476562\" xlink:href=\"#DejaVuSans-105\"/>\r\n     <use x=\"91.259766\" xlink:href=\"#DejaVuSans-110\"/>\r\n     <use x=\"154.638672\" xlink:href=\"#DejaVuSans-105\"/>\r\n     <use x=\"182.421875\" xlink:href=\"#DejaVuSans-32\"/>\r\n     <use x=\"214.208984\" xlink:href=\"#DejaVuSans-61\"/>\r\n     <use x=\"297.998047\" xlink:href=\"#DejaVuSans-32\"/>\r\n     <use x=\"329.785156\" xlink:href=\"#DejaVuSans-48\"/>\r\n     <use x=\"393.408203\" xlink:href=\"#DejaVuSans-46\"/>\r\n     <use x=\"425.195312\" xlink:href=\"#DejaVuSans-48\"/>\r\n    </g>\r\n    <!-- samples = 3 -->\r\n    <g transform=\"translate(153.658208 148.811937)scale(0.01 -0.01)\">\r\n     <use xlink:href=\"#DejaVuSans-115\"/>\r\n     <use x=\"52.099609\" xlink:href=\"#DejaVuSans-97\"/>\r\n     <use x=\"113.378906\" xlink:href=\"#DejaVuSans-109\"/>\r\n     <use x=\"210.791016\" xlink:href=\"#DejaVuSans-112\"/>\r\n     <use x=\"274.267578\" xlink:href=\"#DejaVuSans-108\"/>\r\n     <use x=\"302.050781\" xlink:href=\"#DejaVuSans-101\"/>\r\n     <use x=\"363.574219\" xlink:href=\"#DejaVuSans-115\"/>\r\n     <use x=\"415.673828\" xlink:href=\"#DejaVuSans-32\"/>\r\n     <use x=\"447.460938\" xlink:href=\"#DejaVuSans-61\"/>\r\n     <use x=\"531.25\" xlink:href=\"#DejaVuSans-32\"/>\r\n     <use x=\"563.037109\" xlink:href=\"#DejaVuSans-51\"/>\r\n    </g>\r\n    <!-- value = [0, 3] -->\r\n    <g transform=\"translate(153.344692 149.931719)scale(0.01 -0.01)\">\r\n     <use xlink:href=\"#DejaVuSans-118\"/>\r\n     <use x=\"59.179688\" xlink:href=\"#DejaVuSans-97\"/>\r\n     <use x=\"120.458984\" xlink:href=\"#DejaVuSans-108\"/>\r\n     <use x=\"148.242188\" xlink:href=\"#DejaVuSans-117\"/>\r\n     <use x=\"211.621094\" xlink:href=\"#DejaVuSans-101\"/>\r\n     <use x=\"273.144531\" xlink:href=\"#DejaVuSans-32\"/>\r\n     <use x=\"304.931641\" xlink:href=\"#DejaVuSans-61\"/>\r\n     <use x=\"388.720703\" xlink:href=\"#DejaVuSans-32\"/>\r\n     <use x=\"420.507812\" xlink:href=\"#DejaVuSans-91\"/>\r\n     <use x=\"459.521484\" xlink:href=\"#DejaVuSans-48\"/>\r\n     <use x=\"523.144531\" xlink:href=\"#DejaVuSans-44\"/>\r\n     <use x=\"554.931641\" xlink:href=\"#DejaVuSans-32\"/>\r\n     <use x=\"586.71875\" xlink:href=\"#DejaVuSans-51\"/>\r\n     <use x=\"650.341797\" xlink:href=\"#DejaVuSans-93\"/>\r\n    </g>\r\n   </g>\r\n   <g id=\"patch_62\">\r\n    <path d=\"M 172.796751 143.168369 \r\nQ 174.993458 136.462979 177.538235 128.695116 \r\n\" style=\"fill:none;stroke:#000000;stroke-linecap:round;\"/>\r\n    <path d=\"M 173.111341 142.850512 \r\nL 172.796751 143.168369 \r\nL 172.731219 142.725983 \r\n\" style=\"fill:none;stroke:#000000;stroke-linecap:round;\"/>\r\n   </g>\r\n   <g id=\"text_31\">\r\n    <g id=\"patch_63\">\r\n     <path d=\"M 167.291501 150.439687 \r\nL 174.785095 150.439687 \r\nL 174.785095 146.632312 \r\nL 167.291501 146.632312 \r\nz\r\n\" style=\"fill:#ffffff;stroke:#000000;stroke-linejoin:miter;\"/>\r\n    </g>\r\n    <!-- gini = 0.0 -->\r\n    <g transform=\"translate(168.594235 147.692156)scale(0.01 -0.01)\">\r\n     <use xlink:href=\"#DejaVuSans-103\"/>\r\n     <use x=\"63.476562\" xlink:href=\"#DejaVuSans-105\"/>\r\n     <use x=\"91.259766\" xlink:href=\"#DejaVuSans-110\"/>\r\n     <use x=\"154.638672\" xlink:href=\"#DejaVuSans-105\"/>\r\n     <use x=\"182.421875\" xlink:href=\"#DejaVuSans-32\"/>\r\n     <use x=\"214.208984\" xlink:href=\"#DejaVuSans-61\"/>\r\n     <use x=\"297.998047\" xlink:href=\"#DejaVuSans-32\"/>\r\n     <use x=\"329.785156\" xlink:href=\"#DejaVuSans-48\"/>\r\n     <use x=\"393.408203\" xlink:href=\"#DejaVuSans-46\"/>\r\n     <use x=\"425.195312\" xlink:href=\"#DejaVuSans-48\"/>\r\n    </g>\r\n    <!-- samples = 1 -->\r\n    <g transform=\"translate(167.905017 148.811937)scale(0.01 -0.01)\">\r\n     <use xlink:href=\"#DejaVuSans-115\"/>\r\n     <use x=\"52.099609\" xlink:href=\"#DejaVuSans-97\"/>\r\n     <use x=\"113.378906\" xlink:href=\"#DejaVuSans-109\"/>\r\n     <use x=\"210.791016\" xlink:href=\"#DejaVuSans-112\"/>\r\n     <use x=\"274.267578\" xlink:href=\"#DejaVuSans-108\"/>\r\n     <use x=\"302.050781\" xlink:href=\"#DejaVuSans-101\"/>\r\n     <use x=\"363.574219\" xlink:href=\"#DejaVuSans-115\"/>\r\n     <use x=\"415.673828\" xlink:href=\"#DejaVuSans-32\"/>\r\n     <use x=\"447.460938\" xlink:href=\"#DejaVuSans-61\"/>\r\n     <use x=\"531.25\" xlink:href=\"#DejaVuSans-32\"/>\r\n     <use x=\"563.037109\" xlink:href=\"#DejaVuSans-49\"/>\r\n    </g>\r\n    <!-- value = [0, 1] -->\r\n    <g transform=\"translate(167.591501 149.931719)scale(0.01 -0.01)\">\r\n     <use xlink:href=\"#DejaVuSans-118\"/>\r\n     <use x=\"59.179688\" xlink:href=\"#DejaVuSans-97\"/>\r\n     <use x=\"120.458984\" xlink:href=\"#DejaVuSans-108\"/>\r\n     <use x=\"148.242188\" xlink:href=\"#DejaVuSans-117\"/>\r\n     <use x=\"211.621094\" xlink:href=\"#DejaVuSans-101\"/>\r\n     <use x=\"273.144531\" xlink:href=\"#DejaVuSans-32\"/>\r\n     <use x=\"304.931641\" xlink:href=\"#DejaVuSans-61\"/>\r\n     <use x=\"388.720703\" xlink:href=\"#DejaVuSans-32\"/>\r\n     <use x=\"420.507812\" xlink:href=\"#DejaVuSans-91\"/>\r\n     <use x=\"459.521484\" xlink:href=\"#DejaVuSans-48\"/>\r\n     <use x=\"523.144531\" xlink:href=\"#DejaVuSans-44\"/>\r\n     <use x=\"554.931641\" xlink:href=\"#DejaVuSans-32\"/>\r\n     <use x=\"586.71875\" xlink:href=\"#DejaVuSans-49\"/>\r\n     <use x=\"650.341797\" xlink:href=\"#DejaVuSans-93\"/>\r\n    </g>\r\n   </g>\r\n   <g id=\"patch_64\">\r\n    <path d=\"M 183.526653 143.168369 \r\nQ 181.329946 136.462979 178.785169 128.695116 \r\n\" style=\"fill:none;stroke:#000000;stroke-linecap:round;\"/>\r\n    <path d=\"M 183.592185 142.725983 \r\nL 183.526653 143.168369 \r\nL 183.212063 142.850512 \r\n\" style=\"fill:none;stroke:#000000;stroke-linecap:round;\"/>\r\n   </g>\r\n   <g id=\"text_32\">\r\n    <g id=\"patch_65\">\r\n     <path d=\"M 181.53831 150.439687 \r\nL 189.031903 150.439687 \r\nL 189.031903 146.632312 \r\nL 181.53831 146.632312 \r\nz\r\n\" style=\"fill:#ffffff;stroke:#000000;stroke-linejoin:miter;\"/>\r\n    </g>\r\n    <!-- gini = 0.0 -->\r\n    <g transform=\"translate(182.841044 147.692156)scale(0.01 -0.01)\">\r\n     <use xlink:href=\"#DejaVuSans-103\"/>\r\n     <use x=\"63.476562\" xlink:href=\"#DejaVuSans-105\"/>\r\n     <use x=\"91.259766\" xlink:href=\"#DejaVuSans-110\"/>\r\n     <use x=\"154.638672\" xlink:href=\"#DejaVuSans-105\"/>\r\n     <use x=\"182.421875\" xlink:href=\"#DejaVuSans-32\"/>\r\n     <use x=\"214.208984\" xlink:href=\"#DejaVuSans-61\"/>\r\n     <use x=\"297.998047\" xlink:href=\"#DejaVuSans-32\"/>\r\n     <use x=\"329.785156\" xlink:href=\"#DejaVuSans-48\"/>\r\n     <use x=\"393.408203\" xlink:href=\"#DejaVuSans-46\"/>\r\n     <use x=\"425.195312\" xlink:href=\"#DejaVuSans-48\"/>\r\n    </g>\r\n    <!-- samples = 2 -->\r\n    <g transform=\"translate(182.151825 148.811937)scale(0.01 -0.01)\">\r\n     <use xlink:href=\"#DejaVuSans-115\"/>\r\n     <use x=\"52.099609\" xlink:href=\"#DejaVuSans-97\"/>\r\n     <use x=\"113.378906\" xlink:href=\"#DejaVuSans-109\"/>\r\n     <use x=\"210.791016\" xlink:href=\"#DejaVuSans-112\"/>\r\n     <use x=\"274.267578\" xlink:href=\"#DejaVuSans-108\"/>\r\n     <use x=\"302.050781\" xlink:href=\"#DejaVuSans-101\"/>\r\n     <use x=\"363.574219\" xlink:href=\"#DejaVuSans-115\"/>\r\n     <use x=\"415.673828\" xlink:href=\"#DejaVuSans-32\"/>\r\n     <use x=\"447.460938\" xlink:href=\"#DejaVuSans-61\"/>\r\n     <use x=\"531.25\" xlink:href=\"#DejaVuSans-32\"/>\r\n     <use x=\"563.037109\" xlink:href=\"#DejaVuSans-50\"/>\r\n    </g>\r\n    <!-- value = [2, 0] -->\r\n    <g transform=\"translate(181.83831 149.931719)scale(0.01 -0.01)\">\r\n     <use xlink:href=\"#DejaVuSans-118\"/>\r\n     <use x=\"59.179688\" xlink:href=\"#DejaVuSans-97\"/>\r\n     <use x=\"120.458984\" xlink:href=\"#DejaVuSans-108\"/>\r\n     <use x=\"148.242188\" xlink:href=\"#DejaVuSans-117\"/>\r\n     <use x=\"211.621094\" xlink:href=\"#DejaVuSans-101\"/>\r\n     <use x=\"273.144531\" xlink:href=\"#DejaVuSans-32\"/>\r\n     <use x=\"304.931641\" xlink:href=\"#DejaVuSans-61\"/>\r\n     <use x=\"388.720703\" xlink:href=\"#DejaVuSans-32\"/>\r\n     <use x=\"420.507812\" xlink:href=\"#DejaVuSans-91\"/>\r\n     <use x=\"459.521484\" xlink:href=\"#DejaVuSans-50\"/>\r\n     <use x=\"523.144531\" xlink:href=\"#DejaVuSans-44\"/>\r\n     <use x=\"554.931641\" xlink:href=\"#DejaVuSans-32\"/>\r\n     <use x=\"586.71875\" xlink:href=\"#DejaVuSans-48\"/>\r\n     <use x=\"650.341797\" xlink:href=\"#DejaVuSans-93\"/>\r\n    </g>\r\n   </g>\r\n   <g id=\"patch_66\">\r\n    <path d=\"M 203.210528 142.921566 \r\nQ 207.64095 136.159694 212.684106 128.462645 \r\n\" style=\"fill:none;stroke:#000000;stroke-linecap:round;\"/>\r\n    <path d=\"M 203.597036 142.696596 \r\nL 203.210528 142.921566 \r\nL 203.262457 142.477378 \r\n\" style=\"fill:none;stroke:#000000;stroke-linecap:round;\"/>\r\n   </g>\r\n   <g id=\"text_33\">\r\n    <g id=\"patch_67\">\r\n     <path d=\"M 192.123946 151.013484 \r\nL 206.939884 151.013484 \r\nL 206.939884 146.030703 \r\nL 192.123946 146.030703 \r\nz\r\n\" style=\"fill:#ffffff;stroke:#000000;stroke-linejoin:miter;\"/>\r\n    </g>\r\n    <!-- high_blood_pressure &lt;= 0.5 -->\r\n    <defs>\r\n     <path d=\"M 48.6875 27.296875 \r\nQ 48.6875 37.203125 44.609375 42.84375 \r\nQ 40.53125 48.484375 33.40625 48.484375 \r\nQ 26.265625 48.484375 22.1875 42.84375 \r\nQ 18.109375 37.203125 18.109375 27.296875 \r\nQ 18.109375 17.390625 22.1875 11.75 \r\nQ 26.265625 6.109375 33.40625 6.109375 \r\nQ 40.53125 6.109375 44.609375 11.75 \r\nQ 48.6875 17.390625 48.6875 27.296875 \r\nz\r\nM 18.109375 46.390625 \r\nQ 20.953125 51.265625 25.265625 53.625 \r\nQ 29.59375 56 35.59375 56 \r\nQ 45.5625 56 51.78125 48.09375 \r\nQ 58.015625 40.1875 58.015625 27.296875 \r\nQ 58.015625 14.40625 51.78125 6.484375 \r\nQ 45.5625 -1.421875 35.59375 -1.421875 \r\nQ 29.59375 -1.421875 25.265625 0.953125 \r\nQ 20.953125 3.328125 18.109375 8.203125 \r\nL 18.109375 0 \r\nL 9.078125 0 \r\nL 9.078125 75.984375 \r\nL 18.109375 75.984375 \r\nz\r\n\" id=\"DejaVuSans-98\"/>\r\n     <path d=\"M 45.40625 46.390625 \r\nL 45.40625 75.984375 \r\nL 54.390625 75.984375 \r\nL 54.390625 0 \r\nL 45.40625 0 \r\nL 45.40625 8.203125 \r\nQ 42.578125 3.328125 38.25 0.953125 \r\nQ 33.9375 -1.421875 27.875 -1.421875 \r\nQ 17.96875 -1.421875 11.734375 6.484375 \r\nQ 5.515625 14.40625 5.515625 27.296875 \r\nQ 5.515625 40.1875 11.734375 48.09375 \r\nQ 17.96875 56 27.875 56 \r\nQ 33.9375 56 38.25 53.625 \r\nQ 42.578125 51.265625 45.40625 46.390625 \r\nz\r\nM 14.796875 27.296875 \r\nQ 14.796875 17.390625 18.875 11.75 \r\nQ 22.953125 6.109375 30.078125 6.109375 \r\nQ 37.203125 6.109375 41.296875 11.75 \r\nQ 45.40625 17.390625 45.40625 27.296875 \r\nQ 45.40625 37.203125 41.296875 42.84375 \r\nQ 37.203125 48.484375 30.078125 48.484375 \r\nQ 22.953125 48.484375 18.875 42.84375 \r\nQ 14.796875 37.203125 14.796875 27.296875 \r\nz\r\n\" id=\"DejaVuSans-100\"/>\r\n    </defs>\r\n    <g transform=\"translate(192.423946 147.118359)scale(0.01 -0.01)\">\r\n     <use xlink:href=\"#DejaVuSans-104\"/>\r\n     <use x=\"63.378906\" xlink:href=\"#DejaVuSans-105\"/>\r\n     <use x=\"91.162109\" xlink:href=\"#DejaVuSans-103\"/>\r\n     <use x=\"154.638672\" xlink:href=\"#DejaVuSans-104\"/>\r\n     <use x=\"218.017578\" xlink:href=\"#DejaVuSans-95\"/>\r\n     <use x=\"268.017578\" xlink:href=\"#DejaVuSans-98\"/>\r\n     <use x=\"331.494141\" xlink:href=\"#DejaVuSans-108\"/>\r\n     <use x=\"359.277344\" xlink:href=\"#DejaVuSans-111\"/>\r\n     <use x=\"420.458984\" xlink:href=\"#DejaVuSans-111\"/>\r\n     <use x=\"481.640625\" xlink:href=\"#DejaVuSans-100\"/>\r\n     <use x=\"545.117188\" xlink:href=\"#DejaVuSans-95\"/>\r\n     <use x=\"595.117188\" xlink:href=\"#DejaVuSans-112\"/>\r\n     <use x=\"658.59375\" xlink:href=\"#DejaVuSans-114\"/>\r\n     <use x=\"699.675781\" xlink:href=\"#DejaVuSans-101\"/>\r\n     <use x=\"761.199219\" xlink:href=\"#DejaVuSans-115\"/>\r\n     <use x=\"813.298828\" xlink:href=\"#DejaVuSans-115\"/>\r\n     <use x=\"865.398438\" xlink:href=\"#DejaVuSans-117\"/>\r\n     <use x=\"928.777344\" xlink:href=\"#DejaVuSans-114\"/>\r\n     <use x=\"969.859375\" xlink:href=\"#DejaVuSans-101\"/>\r\n     <use x=\"1031.382812\" xlink:href=\"#DejaVuSans-32\"/>\r\n     <use x=\"1063.169922\" xlink:href=\"#DejaVuSans-60\"/>\r\n     <use x=\"1146.958984\" xlink:href=\"#DejaVuSans-61\"/>\r\n     <use x=\"1230.748047\" xlink:href=\"#DejaVuSans-32\"/>\r\n     <use x=\"1262.535156\" xlink:href=\"#DejaVuSans-48\"/>\r\n     <use x=\"1326.158203\" xlink:href=\"#DejaVuSans-46\"/>\r\n     <use x=\"1357.945312\" xlink:href=\"#DejaVuSans-53\"/>\r\n    </g>\r\n    <!-- gini = 0.444 -->\r\n    <g transform=\"translate(196.451602 148.265953)scale(0.01 -0.01)\">\r\n     <use xlink:href=\"#DejaVuSans-103\"/>\r\n     <use x=\"63.476562\" xlink:href=\"#DejaVuSans-105\"/>\r\n     <use x=\"91.259766\" xlink:href=\"#DejaVuSans-110\"/>\r\n     <use x=\"154.638672\" xlink:href=\"#DejaVuSans-105\"/>\r\n     <use x=\"182.421875\" xlink:href=\"#DejaVuSans-32\"/>\r\n     <use x=\"214.208984\" xlink:href=\"#DejaVuSans-61\"/>\r\n     <use x=\"297.998047\" xlink:href=\"#DejaVuSans-32\"/>\r\n     <use x=\"329.785156\" xlink:href=\"#DejaVuSans-48\"/>\r\n     <use x=\"393.408203\" xlink:href=\"#DejaVuSans-46\"/>\r\n     <use x=\"425.195312\" xlink:href=\"#DejaVuSans-52\"/>\r\n     <use x=\"488.818359\" xlink:href=\"#DejaVuSans-52\"/>\r\n     <use x=\"552.441406\" xlink:href=\"#DejaVuSans-52\"/>\r\n    </g>\r\n    <!-- samples = 3 -->\r\n    <g transform=\"translate(196.398634 149.385734)scale(0.01 -0.01)\">\r\n     <use xlink:href=\"#DejaVuSans-115\"/>\r\n     <use x=\"52.099609\" xlink:href=\"#DejaVuSans-97\"/>\r\n     <use x=\"113.378906\" xlink:href=\"#DejaVuSans-109\"/>\r\n     <use x=\"210.791016\" xlink:href=\"#DejaVuSans-112\"/>\r\n     <use x=\"274.267578\" xlink:href=\"#DejaVuSans-108\"/>\r\n     <use x=\"302.050781\" xlink:href=\"#DejaVuSans-101\"/>\r\n     <use x=\"363.574219\" xlink:href=\"#DejaVuSans-115\"/>\r\n     <use x=\"415.673828\" xlink:href=\"#DejaVuSans-32\"/>\r\n     <use x=\"447.460938\" xlink:href=\"#DejaVuSans-61\"/>\r\n     <use x=\"531.25\" xlink:href=\"#DejaVuSans-32\"/>\r\n     <use x=\"563.037109\" xlink:href=\"#DejaVuSans-51\"/>\r\n    </g>\r\n    <!-- value = [2, 1] -->\r\n    <g transform=\"translate(196.085118 150.505516)scale(0.01 -0.01)\">\r\n     <use xlink:href=\"#DejaVuSans-118\"/>\r\n     <use x=\"59.179688\" xlink:href=\"#DejaVuSans-97\"/>\r\n     <use x=\"120.458984\" xlink:href=\"#DejaVuSans-108\"/>\r\n     <use x=\"148.242188\" xlink:href=\"#DejaVuSans-117\"/>\r\n     <use x=\"211.621094\" xlink:href=\"#DejaVuSans-101\"/>\r\n     <use x=\"273.144531\" xlink:href=\"#DejaVuSans-32\"/>\r\n     <use x=\"304.931641\" xlink:href=\"#DejaVuSans-61\"/>\r\n     <use x=\"388.720703\" xlink:href=\"#DejaVuSans-32\"/>\r\n     <use x=\"420.507812\" xlink:href=\"#DejaVuSans-91\"/>\r\n     <use x=\"459.521484\" xlink:href=\"#DejaVuSans-50\"/>\r\n     <use x=\"523.144531\" xlink:href=\"#DejaVuSans-44\"/>\r\n     <use x=\"554.931641\" xlink:href=\"#DejaVuSans-32\"/>\r\n     <use x=\"586.71875\" xlink:href=\"#DejaVuSans-49\"/>\r\n     <use x=\"650.341797\" xlink:href=\"#DejaVuSans-93\"/>\r\n    </g>\r\n   </g>\r\n   <g id=\"patch_68\">\r\n    <path d=\"M 224.346919 142.921566 \r\nQ 219.916497 136.159694 214.873341 128.462645 \r\n\" style=\"fill:none;stroke:#000000;stroke-linecap:round;\"/>\r\n    <path d=\"M 224.29499 142.477378 \r\nL 224.346919 142.921566 \r\nL 223.960411 142.696596 \r\n\" style=\"fill:none;stroke:#000000;stroke-linecap:round;\"/>\r\n   </g>\r\n   <g id=\"text_34\">\r\n    <g id=\"patch_69\">\r\n     <path d=\"M 221.119282 151.013484 \r\nL 234.931782 151.013484 \r\nL 234.931782 146.030703 \r\nL 221.119282 146.030703 \r\nz\r\n\" style=\"fill:#ffffff;stroke:#000000;stroke-linejoin:miter;\"/>\r\n    </g>\r\n    <!-- serum_creatinine &lt;= 1.25 -->\r\n    <g transform=\"translate(221.419282 147.118359)scale(0.01 -0.01)\">\r\n     <use xlink:href=\"#DejaVuSans-115\"/>\r\n     <use x=\"52.099609\" xlink:href=\"#DejaVuSans-101\"/>\r\n     <use x=\"113.623047\" xlink:href=\"#DejaVuSans-114\"/>\r\n     <use x=\"154.736328\" xlink:href=\"#DejaVuSans-117\"/>\r\n     <use x=\"218.115234\" xlink:href=\"#DejaVuSans-109\"/>\r\n     <use x=\"315.527344\" xlink:href=\"#DejaVuSans-95\"/>\r\n     <use x=\"365.527344\" xlink:href=\"#DejaVuSans-99\"/>\r\n     <use x=\"420.507812\" xlink:href=\"#DejaVuSans-114\"/>\r\n     <use x=\"461.589844\" xlink:href=\"#DejaVuSans-101\"/>\r\n     <use x=\"523.113281\" xlink:href=\"#DejaVuSans-97\"/>\r\n     <use x=\"584.392578\" xlink:href=\"#DejaVuSans-116\"/>\r\n     <use x=\"623.601562\" xlink:href=\"#DejaVuSans-105\"/>\r\n     <use x=\"651.384766\" xlink:href=\"#DejaVuSans-110\"/>\r\n     <use x=\"714.763672\" xlink:href=\"#DejaVuSans-105\"/>\r\n     <use x=\"742.546875\" xlink:href=\"#DejaVuSans-110\"/>\r\n     <use x=\"805.925781\" xlink:href=\"#DejaVuSans-101\"/>\r\n     <use x=\"867.449219\" xlink:href=\"#DejaVuSans-32\"/>\r\n     <use x=\"899.236328\" xlink:href=\"#DejaVuSans-60\"/>\r\n     <use x=\"983.025391\" xlink:href=\"#DejaVuSans-61\"/>\r\n     <use x=\"1066.814453\" xlink:href=\"#DejaVuSans-32\"/>\r\n     <use x=\"1098.601562\" xlink:href=\"#DejaVuSans-49\"/>\r\n     <use x=\"1162.224609\" xlink:href=\"#DejaVuSans-46\"/>\r\n     <use x=\"1194.011719\" xlink:href=\"#DejaVuSans-50\"/>\r\n     <use x=\"1257.634766\" xlink:href=\"#DejaVuSans-53\"/>\r\n    </g>\r\n    <!-- gini = 0.017 -->\r\n    <g transform=\"translate(224.945219 148.265953)scale(0.01 -0.01)\">\r\n     <use xlink:href=\"#DejaVuSans-103\"/>\r\n     <use x=\"63.476562\" xlink:href=\"#DejaVuSans-105\"/>\r\n     <use x=\"91.259766\" xlink:href=\"#DejaVuSans-110\"/>\r\n     <use x=\"154.638672\" xlink:href=\"#DejaVuSans-105\"/>\r\n     <use x=\"182.421875\" xlink:href=\"#DejaVuSans-32\"/>\r\n     <use x=\"214.208984\" xlink:href=\"#DejaVuSans-61\"/>\r\n     <use x=\"297.998047\" xlink:href=\"#DejaVuSans-32\"/>\r\n     <use x=\"329.785156\" xlink:href=\"#DejaVuSans-48\"/>\r\n     <use x=\"393.408203\" xlink:href=\"#DejaVuSans-46\"/>\r\n     <use x=\"425.195312\" xlink:href=\"#DejaVuSans-48\"/>\r\n     <use x=\"488.818359\" xlink:href=\"#DejaVuSans-49\"/>\r\n     <use x=\"552.441406\" xlink:href=\"#DejaVuSans-55\"/>\r\n    </g>\r\n    <!-- samples = 116 -->\r\n    <g transform=\"translate(224.256001 149.385734)scale(0.01 -0.01)\">\r\n     <use xlink:href=\"#DejaVuSans-115\"/>\r\n     <use x=\"52.099609\" xlink:href=\"#DejaVuSans-97\"/>\r\n     <use x=\"113.378906\" xlink:href=\"#DejaVuSans-109\"/>\r\n     <use x=\"210.791016\" xlink:href=\"#DejaVuSans-112\"/>\r\n     <use x=\"274.267578\" xlink:href=\"#DejaVuSans-108\"/>\r\n     <use x=\"302.050781\" xlink:href=\"#DejaVuSans-101\"/>\r\n     <use x=\"363.574219\" xlink:href=\"#DejaVuSans-115\"/>\r\n     <use x=\"415.673828\" xlink:href=\"#DejaVuSans-32\"/>\r\n     <use x=\"447.460938\" xlink:href=\"#DejaVuSans-61\"/>\r\n     <use x=\"531.25\" xlink:href=\"#DejaVuSans-32\"/>\r\n     <use x=\"563.037109\" xlink:href=\"#DejaVuSans-49\"/>\r\n     <use x=\"626.660156\" xlink:href=\"#DejaVuSans-49\"/>\r\n     <use x=\"690.283203\" xlink:href=\"#DejaVuSans-54\"/>\r\n    </g>\r\n    <!-- value = [115, 1] -->\r\n    <g transform=\"translate(223.942485 150.505516)scale(0.01 -0.01)\">\r\n     <use xlink:href=\"#DejaVuSans-118\"/>\r\n     <use x=\"59.179688\" xlink:href=\"#DejaVuSans-97\"/>\r\n     <use x=\"120.458984\" xlink:href=\"#DejaVuSans-108\"/>\r\n     <use x=\"148.242188\" xlink:href=\"#DejaVuSans-117\"/>\r\n     <use x=\"211.621094\" xlink:href=\"#DejaVuSans-101\"/>\r\n     <use x=\"273.144531\" xlink:href=\"#DejaVuSans-32\"/>\r\n     <use x=\"304.931641\" xlink:href=\"#DejaVuSans-61\"/>\r\n     <use x=\"388.720703\" xlink:href=\"#DejaVuSans-32\"/>\r\n     <use x=\"420.507812\" xlink:href=\"#DejaVuSans-91\"/>\r\n     <use x=\"459.521484\" xlink:href=\"#DejaVuSans-49\"/>\r\n     <use x=\"523.144531\" xlink:href=\"#DejaVuSans-49\"/>\r\n     <use x=\"586.767578\" xlink:href=\"#DejaVuSans-53\"/>\r\n     <use x=\"650.390625\" xlink:href=\"#DejaVuSans-44\"/>\r\n     <use x=\"682.177734\" xlink:href=\"#DejaVuSans-32\"/>\r\n     <use x=\"713.964844\" xlink:href=\"#DejaVuSans-49\"/>\r\n     <use x=\"777.587891\" xlink:href=\"#DejaVuSans-93\"/>\r\n    </g>\r\n   </g>\r\n   <g id=\"patch_70\">\r\n    <path d=\"M 279.647815 143.168369 \r\nQ 281.844522 136.462979 284.389299 128.695116 \r\n\" style=\"fill:none;stroke:#000000;stroke-linecap:round;\"/>\r\n    <path d=\"M 279.962405 142.850512 \r\nL 279.647815 143.168369 \r\nL 279.582283 142.725983 \r\n\" style=\"fill:none;stroke:#000000;stroke-linecap:round;\"/>\r\n   </g>\r\n   <g id=\"text_35\">\r\n    <g id=\"patch_71\">\r\n     <path d=\"M 274.142565 150.439687 \r\nL 281.636159 150.439687 \r\nL 281.636159 146.632312 \r\nL 274.142565 146.632312 \r\nz\r\n\" style=\"fill:#ffffff;stroke:#000000;stroke-linejoin:miter;\"/>\r\n    </g>\r\n    <!-- gini = 0.0 -->\r\n    <g transform=\"translate(275.445299 147.692156)scale(0.01 -0.01)\">\r\n     <use xlink:href=\"#DejaVuSans-103\"/>\r\n     <use x=\"63.476562\" xlink:href=\"#DejaVuSans-105\"/>\r\n     <use x=\"91.259766\" xlink:href=\"#DejaVuSans-110\"/>\r\n     <use x=\"154.638672\" xlink:href=\"#DejaVuSans-105\"/>\r\n     <use x=\"182.421875\" xlink:href=\"#DejaVuSans-32\"/>\r\n     <use x=\"214.208984\" xlink:href=\"#DejaVuSans-61\"/>\r\n     <use x=\"297.998047\" xlink:href=\"#DejaVuSans-32\"/>\r\n     <use x=\"329.785156\" xlink:href=\"#DejaVuSans-48\"/>\r\n     <use x=\"393.408203\" xlink:href=\"#DejaVuSans-46\"/>\r\n     <use x=\"425.195312\" xlink:href=\"#DejaVuSans-48\"/>\r\n    </g>\r\n    <!-- samples = 4 -->\r\n    <g transform=\"translate(274.75608 148.811937)scale(0.01 -0.01)\">\r\n     <use xlink:href=\"#DejaVuSans-115\"/>\r\n     <use x=\"52.099609\" xlink:href=\"#DejaVuSans-97\"/>\r\n     <use x=\"113.378906\" xlink:href=\"#DejaVuSans-109\"/>\r\n     <use x=\"210.791016\" xlink:href=\"#DejaVuSans-112\"/>\r\n     <use x=\"274.267578\" xlink:href=\"#DejaVuSans-108\"/>\r\n     <use x=\"302.050781\" xlink:href=\"#DejaVuSans-101\"/>\r\n     <use x=\"363.574219\" xlink:href=\"#DejaVuSans-115\"/>\r\n     <use x=\"415.673828\" xlink:href=\"#DejaVuSans-32\"/>\r\n     <use x=\"447.460938\" xlink:href=\"#DejaVuSans-61\"/>\r\n     <use x=\"531.25\" xlink:href=\"#DejaVuSans-32\"/>\r\n     <use x=\"563.037109\" xlink:href=\"#DejaVuSans-52\"/>\r\n    </g>\r\n    <!-- value = [0, 4] -->\r\n    <g transform=\"translate(274.442565 149.931719)scale(0.01 -0.01)\">\r\n     <use xlink:href=\"#DejaVuSans-118\"/>\r\n     <use x=\"59.179688\" xlink:href=\"#DejaVuSans-97\"/>\r\n     <use x=\"120.458984\" xlink:href=\"#DejaVuSans-108\"/>\r\n     <use x=\"148.242188\" xlink:href=\"#DejaVuSans-117\"/>\r\n     <use x=\"211.621094\" xlink:href=\"#DejaVuSans-101\"/>\r\n     <use x=\"273.144531\" xlink:href=\"#DejaVuSans-32\"/>\r\n     <use x=\"304.931641\" xlink:href=\"#DejaVuSans-61\"/>\r\n     <use x=\"388.720703\" xlink:href=\"#DejaVuSans-32\"/>\r\n     <use x=\"420.507812\" xlink:href=\"#DejaVuSans-91\"/>\r\n     <use x=\"459.521484\" xlink:href=\"#DejaVuSans-48\"/>\r\n     <use x=\"523.144531\" xlink:href=\"#DejaVuSans-44\"/>\r\n     <use x=\"554.931641\" xlink:href=\"#DejaVuSans-32\"/>\r\n     <use x=\"586.71875\" xlink:href=\"#DejaVuSans-52\"/>\r\n     <use x=\"650.341797\" xlink:href=\"#DejaVuSans-93\"/>\r\n    </g>\r\n   </g>\r\n   <g id=\"patch_72\">\r\n    <path d=\"M 290.193485 142.606005 \r\nQ 288.088289 136.179953 285.635025 128.691428 \r\n\" style=\"fill:none;stroke:#000000;stroke-linecap:round;\"/>\r\n    <path d=\"M 290.259017 142.163619 \r\nL 290.193485 142.606005 \r\nL 289.878895 142.288148 \r\n\" style=\"fill:none;stroke:#000000;stroke-linecap:round;\"/>\r\n   </g>\r\n   <g id=\"text_36\">\r\n    <g id=\"patch_73\">\r\n     <path d=\"M 287.715545 150.999578 \r\nL 296.556795 150.999578 \r\nL 296.556795 146.072422 \r\nL 287.715545 146.072422 \r\nz\r\n\" style=\"fill:#ffffff;stroke:#000000;stroke-linejoin:miter;\"/>\r\n    </g>\r\n    <!-- anaemia &lt;= 0.5 -->\r\n    <g transform=\"translate(288.015545 147.132266)scale(0.01 -0.01)\">\r\n     <use xlink:href=\"#DejaVuSans-97\"/>\r\n     <use x=\"61.279297\" xlink:href=\"#DejaVuSans-110\"/>\r\n     <use x=\"124.658203\" xlink:href=\"#DejaVuSans-97\"/>\r\n     <use x=\"185.9375\" xlink:href=\"#DejaVuSans-101\"/>\r\n     <use x=\"247.460938\" xlink:href=\"#DejaVuSans-109\"/>\r\n     <use x=\"344.873047\" xlink:href=\"#DejaVuSans-105\"/>\r\n     <use x=\"372.65625\" xlink:href=\"#DejaVuSans-97\"/>\r\n     <use x=\"433.935547\" xlink:href=\"#DejaVuSans-32\"/>\r\n     <use x=\"465.722656\" xlink:href=\"#DejaVuSans-60\"/>\r\n     <use x=\"549.511719\" xlink:href=\"#DejaVuSans-61\"/>\r\n     <use x=\"633.300781\" xlink:href=\"#DejaVuSans-32\"/>\r\n     <use x=\"665.087891\" xlink:href=\"#DejaVuSans-48\"/>\r\n     <use x=\"728.710938\" xlink:href=\"#DejaVuSans-46\"/>\r\n     <use x=\"760.498047\" xlink:href=\"#DejaVuSans-53\"/>\r\n    </g>\r\n    <!-- gini = 0.5 -->\r\n    <g transform=\"translate(289.692108 148.252047)scale(0.01 -0.01)\">\r\n     <use xlink:href=\"#DejaVuSans-103\"/>\r\n     <use x=\"63.476562\" xlink:href=\"#DejaVuSans-105\"/>\r\n     <use x=\"91.259766\" xlink:href=\"#DejaVuSans-110\"/>\r\n     <use x=\"154.638672\" xlink:href=\"#DejaVuSans-105\"/>\r\n     <use x=\"182.421875\" xlink:href=\"#DejaVuSans-32\"/>\r\n     <use x=\"214.208984\" xlink:href=\"#DejaVuSans-61\"/>\r\n     <use x=\"297.998047\" xlink:href=\"#DejaVuSans-32\"/>\r\n     <use x=\"329.785156\" xlink:href=\"#DejaVuSans-48\"/>\r\n     <use x=\"393.408203\" xlink:href=\"#DejaVuSans-46\"/>\r\n     <use x=\"425.195312\" xlink:href=\"#DejaVuSans-53\"/>\r\n    </g>\r\n    <!-- samples = 8 -->\r\n    <defs>\r\n     <path d=\"M 31.78125 34.625 \r\nQ 24.75 34.625 20.71875 30.859375 \r\nQ 16.703125 27.09375 16.703125 20.515625 \r\nQ 16.703125 13.921875 20.71875 10.15625 \r\nQ 24.75 6.390625 31.78125 6.390625 \r\nQ 38.8125 6.390625 42.859375 10.171875 \r\nQ 46.921875 13.96875 46.921875 20.515625 \r\nQ 46.921875 27.09375 42.890625 30.859375 \r\nQ 38.875 34.625 31.78125 34.625 \r\nz\r\nM 21.921875 38.8125 \r\nQ 15.578125 40.375 12.03125 44.71875 \r\nQ 8.5 49.078125 8.5 55.328125 \r\nQ 8.5 64.0625 14.71875 69.140625 \r\nQ 20.953125 74.21875 31.78125 74.21875 \r\nQ 42.671875 74.21875 48.875 69.140625 \r\nQ 55.078125 64.0625 55.078125 55.328125 \r\nQ 55.078125 49.078125 51.53125 44.71875 \r\nQ 48 40.375 41.703125 38.8125 \r\nQ 48.828125 37.15625 52.796875 32.3125 \r\nQ 56.78125 27.484375 56.78125 20.515625 \r\nQ 56.78125 9.90625 50.3125 4.234375 \r\nQ 43.84375 -1.421875 31.78125 -1.421875 \r\nQ 19.734375 -1.421875 13.25 4.234375 \r\nQ 6.78125 9.90625 6.78125 20.515625 \r\nQ 6.78125 27.484375 10.78125 32.3125 \r\nQ 14.796875 37.15625 21.921875 38.8125 \r\nz\r\nM 18.3125 54.390625 \r\nQ 18.3125 48.734375 21.84375 45.5625 \r\nQ 25.390625 42.390625 31.78125 42.390625 \r\nQ 38.140625 42.390625 41.71875 45.5625 \r\nQ 45.3125 48.734375 45.3125 54.390625 \r\nQ 45.3125 60.0625 41.71875 63.234375 \r\nQ 38.140625 66.40625 31.78125 66.40625 \r\nQ 25.390625 66.40625 21.84375 63.234375 \r\nQ 18.3125 60.0625 18.3125 54.390625 \r\nz\r\n\" id=\"DejaVuSans-56\"/>\r\n    </defs>\r\n    <g transform=\"translate(289.002889 149.371828)scale(0.01 -0.01)\">\r\n     <use xlink:href=\"#DejaVuSans-115\"/>\r\n     <use x=\"52.099609\" xlink:href=\"#DejaVuSans-97\"/>\r\n     <use x=\"113.378906\" xlink:href=\"#DejaVuSans-109\"/>\r\n     <use x=\"210.791016\" xlink:href=\"#DejaVuSans-112\"/>\r\n     <use x=\"274.267578\" xlink:href=\"#DejaVuSans-108\"/>\r\n     <use x=\"302.050781\" xlink:href=\"#DejaVuSans-101\"/>\r\n     <use x=\"363.574219\" xlink:href=\"#DejaVuSans-115\"/>\r\n     <use x=\"415.673828\" xlink:href=\"#DejaVuSans-32\"/>\r\n     <use x=\"447.460938\" xlink:href=\"#DejaVuSans-61\"/>\r\n     <use x=\"531.25\" xlink:href=\"#DejaVuSans-32\"/>\r\n     <use x=\"563.037109\" xlink:href=\"#DejaVuSans-56\"/>\r\n    </g>\r\n    <!-- value = [4, 4] -->\r\n    <g transform=\"translate(288.689373 150.491609)scale(0.01 -0.01)\">\r\n     <use xlink:href=\"#DejaVuSans-118\"/>\r\n     <use x=\"59.179688\" xlink:href=\"#DejaVuSans-97\"/>\r\n     <use x=\"120.458984\" xlink:href=\"#DejaVuSans-108\"/>\r\n     <use x=\"148.242188\" xlink:href=\"#DejaVuSans-117\"/>\r\n     <use x=\"211.621094\" xlink:href=\"#DejaVuSans-101\"/>\r\n     <use x=\"273.144531\" xlink:href=\"#DejaVuSans-32\"/>\r\n     <use x=\"304.931641\" xlink:href=\"#DejaVuSans-61\"/>\r\n     <use x=\"388.720703\" xlink:href=\"#DejaVuSans-32\"/>\r\n     <use x=\"420.507812\" xlink:href=\"#DejaVuSans-91\"/>\r\n     <use x=\"459.521484\" xlink:href=\"#DejaVuSans-52\"/>\r\n     <use x=\"523.144531\" xlink:href=\"#DejaVuSans-44\"/>\r\n     <use x=\"554.931641\" xlink:href=\"#DejaVuSans-32\"/>\r\n     <use x=\"586.71875\" xlink:href=\"#DejaVuSans-52\"/>\r\n     <use x=\"650.341797\" xlink:href=\"#DejaVuSans-93\"/>\r\n    </g>\r\n   </g>\r\n   <g id=\"patch_74\">\r\n    <path d=\"M 322.584976 142.567839 \r\nQ 324.683277 136.162833 327.129647 128.695354 \r\n\" style=\"fill:none;stroke:#000000;stroke-linecap:round;\"/>\r\n    <path d=\"M 322.899566 142.249982 \r\nL 322.584976 142.567839 \r\nL 322.519444 142.125453 \r\n\" style=\"fill:none;stroke:#000000;stroke-linecap:round;\"/>\r\n   </g>\r\n   <g id=\"text_37\">\r\n    <g id=\"patch_75\">\r\n     <path d=\"M 314.088381 151.013484 \r\nL 327.171193 151.013484 \r\nL 327.171193 146.030703 \r\nL 314.088381 146.030703 \r\nz\r\n\" style=\"fill:#ffffff;stroke:#000000;stroke-linejoin:miter;\"/>\r\n    </g>\r\n    <!-- serum_sodium &lt;= 133.5 -->\r\n    <g transform=\"translate(314.388381 147.118359)scale(0.01 -0.01)\">\r\n     <use xlink:href=\"#DejaVuSans-115\"/>\r\n     <use x=\"52.099609\" xlink:href=\"#DejaVuSans-101\"/>\r\n     <use x=\"113.623047\" xlink:href=\"#DejaVuSans-114\"/>\r\n     <use x=\"154.736328\" xlink:href=\"#DejaVuSans-117\"/>\r\n     <use x=\"218.115234\" xlink:href=\"#DejaVuSans-109\"/>\r\n     <use x=\"315.527344\" xlink:href=\"#DejaVuSans-95\"/>\r\n     <use x=\"365.527344\" xlink:href=\"#DejaVuSans-115\"/>\r\n     <use x=\"417.626953\" xlink:href=\"#DejaVuSans-111\"/>\r\n     <use x=\"478.808594\" xlink:href=\"#DejaVuSans-100\"/>\r\n     <use x=\"542.285156\" xlink:href=\"#DejaVuSans-105\"/>\r\n     <use x=\"570.068359\" xlink:href=\"#DejaVuSans-117\"/>\r\n     <use x=\"633.447266\" xlink:href=\"#DejaVuSans-109\"/>\r\n     <use x=\"730.859375\" xlink:href=\"#DejaVuSans-32\"/>\r\n     <use x=\"762.646484\" xlink:href=\"#DejaVuSans-60\"/>\r\n     <use x=\"846.435547\" xlink:href=\"#DejaVuSans-61\"/>\r\n     <use x=\"930.224609\" xlink:href=\"#DejaVuSans-32\"/>\r\n     <use x=\"962.011719\" xlink:href=\"#DejaVuSans-49\"/>\r\n     <use x=\"1025.634766\" xlink:href=\"#DejaVuSans-51\"/>\r\n     <use x=\"1089.257812\" xlink:href=\"#DejaVuSans-51\"/>\r\n     <use x=\"1152.880859\" xlink:href=\"#DejaVuSans-46\"/>\r\n     <use x=\"1184.667969\" xlink:href=\"#DejaVuSans-53\"/>\r\n    </g>\r\n    <!-- gini = 0.375 -->\r\n    <g transform=\"translate(317.549475 148.265953)scale(0.01 -0.01)\">\r\n     <use xlink:href=\"#DejaVuSans-103\"/>\r\n     <use x=\"63.476562\" xlink:href=\"#DejaVuSans-105\"/>\r\n     <use x=\"91.259766\" xlink:href=\"#DejaVuSans-110\"/>\r\n     <use x=\"154.638672\" xlink:href=\"#DejaVuSans-105\"/>\r\n     <use x=\"182.421875\" xlink:href=\"#DejaVuSans-32\"/>\r\n     <use x=\"214.208984\" xlink:href=\"#DejaVuSans-61\"/>\r\n     <use x=\"297.998047\" xlink:href=\"#DejaVuSans-32\"/>\r\n     <use x=\"329.785156\" xlink:href=\"#DejaVuSans-48\"/>\r\n     <use x=\"393.408203\" xlink:href=\"#DejaVuSans-46\"/>\r\n     <use x=\"425.195312\" xlink:href=\"#DejaVuSans-51\"/>\r\n     <use x=\"488.818359\" xlink:href=\"#DejaVuSans-55\"/>\r\n     <use x=\"552.441406\" xlink:href=\"#DejaVuSans-53\"/>\r\n    </g>\r\n    <!-- samples = 4 -->\r\n    <g transform=\"translate(317.496506 149.385734)scale(0.01 -0.01)\">\r\n     <use xlink:href=\"#DejaVuSans-115\"/>\r\n     <use x=\"52.099609\" xlink:href=\"#DejaVuSans-97\"/>\r\n     <use x=\"113.378906\" xlink:href=\"#DejaVuSans-109\"/>\r\n     <use x=\"210.791016\" xlink:href=\"#DejaVuSans-112\"/>\r\n     <use x=\"274.267578\" xlink:href=\"#DejaVuSans-108\"/>\r\n     <use x=\"302.050781\" xlink:href=\"#DejaVuSans-101\"/>\r\n     <use x=\"363.574219\" xlink:href=\"#DejaVuSans-115\"/>\r\n     <use x=\"415.673828\" xlink:href=\"#DejaVuSans-32\"/>\r\n     <use x=\"447.460938\" xlink:href=\"#DejaVuSans-61\"/>\r\n     <use x=\"531.25\" xlink:href=\"#DejaVuSans-32\"/>\r\n     <use x=\"563.037109\" xlink:href=\"#DejaVuSans-52\"/>\r\n    </g>\r\n    <!-- value = [1, 3] -->\r\n    <g transform=\"translate(317.18299 150.505516)scale(0.01 -0.01)\">\r\n     <use xlink:href=\"#DejaVuSans-118\"/>\r\n     <use x=\"59.179688\" xlink:href=\"#DejaVuSans-97\"/>\r\n     <use x=\"120.458984\" xlink:href=\"#DejaVuSans-108\"/>\r\n     <use x=\"148.242188\" xlink:href=\"#DejaVuSans-117\"/>\r\n     <use x=\"211.621094\" xlink:href=\"#DejaVuSans-101\"/>\r\n     <use x=\"273.144531\" xlink:href=\"#DejaVuSans-32\"/>\r\n     <use x=\"304.931641\" xlink:href=\"#DejaVuSans-61\"/>\r\n     <use x=\"388.720703\" xlink:href=\"#DejaVuSans-32\"/>\r\n     <use x=\"420.507812\" xlink:href=\"#DejaVuSans-91\"/>\r\n     <use x=\"459.521484\" xlink:href=\"#DejaVuSans-49\"/>\r\n     <use x=\"523.144531\" xlink:href=\"#DejaVuSans-44\"/>\r\n     <use x=\"554.931641\" xlink:href=\"#DejaVuSans-32\"/>\r\n     <use x=\"586.71875\" xlink:href=\"#DejaVuSans-51\"/>\r\n     <use x=\"650.341797\" xlink:href=\"#DejaVuSans-93\"/>\r\n    </g>\r\n   </g>\r\n   <g id=\"patch_76\">\r\n    <path d=\"M 333.118143 143.168369 \r\nQ 330.921435 136.462979 328.376658 128.695116 \r\n\" style=\"fill:none;stroke:#000000;stroke-linecap:round;\"/>\r\n    <path d=\"M 333.183674 142.725983 \r\nL 333.118143 143.168369 \r\nL 332.803553 142.850512 \r\n\" style=\"fill:none;stroke:#000000;stroke-linecap:round;\"/>\r\n   </g>\r\n   <g id=\"text_38\">\r\n    <g id=\"patch_77\">\r\n     <path d=\"M 331.129799 150.439687 \r\nL 338.623393 150.439687 \r\nL 338.623393 146.632312 \r\nL 331.129799 146.632312 \r\nz\r\n\" style=\"fill:#ffffff;stroke:#000000;stroke-linejoin:miter;\"/>\r\n    </g>\r\n    <!-- gini = 0.0 -->\r\n    <g transform=\"translate(332.432533 147.692156)scale(0.01 -0.01)\">\r\n     <use xlink:href=\"#DejaVuSans-103\"/>\r\n     <use x=\"63.476562\" xlink:href=\"#DejaVuSans-105\"/>\r\n     <use x=\"91.259766\" xlink:href=\"#DejaVuSans-110\"/>\r\n     <use x=\"154.638672\" xlink:href=\"#DejaVuSans-105\"/>\r\n     <use x=\"182.421875\" xlink:href=\"#DejaVuSans-32\"/>\r\n     <use x=\"214.208984\" xlink:href=\"#DejaVuSans-61\"/>\r\n     <use x=\"297.998047\" xlink:href=\"#DejaVuSans-32\"/>\r\n     <use x=\"329.785156\" xlink:href=\"#DejaVuSans-48\"/>\r\n     <use x=\"393.408203\" xlink:href=\"#DejaVuSans-46\"/>\r\n     <use x=\"425.195312\" xlink:href=\"#DejaVuSans-48\"/>\r\n    </g>\r\n    <!-- samples = 2 -->\r\n    <g transform=\"translate(331.743314 148.811937)scale(0.01 -0.01)\">\r\n     <use xlink:href=\"#DejaVuSans-115\"/>\r\n     <use x=\"52.099609\" xlink:href=\"#DejaVuSans-97\"/>\r\n     <use x=\"113.378906\" xlink:href=\"#DejaVuSans-109\"/>\r\n     <use x=\"210.791016\" xlink:href=\"#DejaVuSans-112\"/>\r\n     <use x=\"274.267578\" xlink:href=\"#DejaVuSans-108\"/>\r\n     <use x=\"302.050781\" xlink:href=\"#DejaVuSans-101\"/>\r\n     <use x=\"363.574219\" xlink:href=\"#DejaVuSans-115\"/>\r\n     <use x=\"415.673828\" xlink:href=\"#DejaVuSans-32\"/>\r\n     <use x=\"447.460938\" xlink:href=\"#DejaVuSans-61\"/>\r\n     <use x=\"531.25\" xlink:href=\"#DejaVuSans-32\"/>\r\n     <use x=\"563.037109\" xlink:href=\"#DejaVuSans-50\"/>\r\n    </g>\r\n    <!-- value = [2, 0] -->\r\n    <g transform=\"translate(331.429799 149.931719)scale(0.01 -0.01)\">\r\n     <use xlink:href=\"#DejaVuSans-118\"/>\r\n     <use x=\"59.179688\" xlink:href=\"#DejaVuSans-97\"/>\r\n     <use x=\"120.458984\" xlink:href=\"#DejaVuSans-108\"/>\r\n     <use x=\"148.242188\" xlink:href=\"#DejaVuSans-117\"/>\r\n     <use x=\"211.621094\" xlink:href=\"#DejaVuSans-101\"/>\r\n     <use x=\"273.144531\" xlink:href=\"#DejaVuSans-32\"/>\r\n     <use x=\"304.931641\" xlink:href=\"#DejaVuSans-61\"/>\r\n     <use x=\"388.720703\" xlink:href=\"#DejaVuSans-32\"/>\r\n     <use x=\"420.507812\" xlink:href=\"#DejaVuSans-91\"/>\r\n     <use x=\"459.521484\" xlink:href=\"#DejaVuSans-50\"/>\r\n     <use x=\"523.144531\" xlink:href=\"#DejaVuSans-44\"/>\r\n     <use x=\"554.931641\" xlink:href=\"#DejaVuSans-32\"/>\r\n     <use x=\"586.71875\" xlink:href=\"#DejaVuSans-48\"/>\r\n     <use x=\"650.341797\" xlink:href=\"#DejaVuSans-93\"/>\r\n    </g>\r\n   </g>\r\n   <g id=\"patch_78\">\r\n    <path d=\"M 30.328666 121.424369 \r\nQ 32.525373 114.718979 35.07015 106.951116 \r\n\" style=\"fill:none;stroke:#000000;stroke-linecap:round;\"/>\r\n    <path d=\"M 30.643256 121.106512 \r\nL 30.328666 121.424369 \r\nL 30.263134 120.981983 \r\n\" style=\"fill:none;stroke:#000000;stroke-linecap:round;\"/>\r\n   </g>\r\n   <g id=\"text_39\">\r\n    <g id=\"patch_79\">\r\n     <path d=\"M 24.823416 128.695687 \r\nL 32.31701 128.695687 \r\nL 32.31701 124.888312 \r\nL 24.823416 124.888312 \r\nz\r\n\" style=\"fill:#ffffff;stroke:#000000;stroke-linejoin:miter;\"/>\r\n    </g>\r\n    <!-- gini = 0.0 -->\r\n    <g transform=\"translate(26.12615 125.948156)scale(0.01 -0.01)\">\r\n     <use xlink:href=\"#DejaVuSans-103\"/>\r\n     <use x=\"63.476562\" xlink:href=\"#DejaVuSans-105\"/>\r\n     <use x=\"91.259766\" xlink:href=\"#DejaVuSans-110\"/>\r\n     <use x=\"154.638672\" xlink:href=\"#DejaVuSans-105\"/>\r\n     <use x=\"182.421875\" xlink:href=\"#DejaVuSans-32\"/>\r\n     <use x=\"214.208984\" xlink:href=\"#DejaVuSans-61\"/>\r\n     <use x=\"297.998047\" xlink:href=\"#DejaVuSans-32\"/>\r\n     <use x=\"329.785156\" xlink:href=\"#DejaVuSans-48\"/>\r\n     <use x=\"393.408203\" xlink:href=\"#DejaVuSans-46\"/>\r\n     <use x=\"425.195312\" xlink:href=\"#DejaVuSans-48\"/>\r\n    </g>\r\n    <!-- samples = 1 -->\r\n    <g transform=\"translate(25.436932 127.067937)scale(0.01 -0.01)\">\r\n     <use xlink:href=\"#DejaVuSans-115\"/>\r\n     <use x=\"52.099609\" xlink:href=\"#DejaVuSans-97\"/>\r\n     <use x=\"113.378906\" xlink:href=\"#DejaVuSans-109\"/>\r\n     <use x=\"210.791016\" xlink:href=\"#DejaVuSans-112\"/>\r\n     <use x=\"274.267578\" xlink:href=\"#DejaVuSans-108\"/>\r\n     <use x=\"302.050781\" xlink:href=\"#DejaVuSans-101\"/>\r\n     <use x=\"363.574219\" xlink:href=\"#DejaVuSans-115\"/>\r\n     <use x=\"415.673828\" xlink:href=\"#DejaVuSans-32\"/>\r\n     <use x=\"447.460938\" xlink:href=\"#DejaVuSans-61\"/>\r\n     <use x=\"531.25\" xlink:href=\"#DejaVuSans-32\"/>\r\n     <use x=\"563.037109\" xlink:href=\"#DejaVuSans-49\"/>\r\n    </g>\r\n    <!-- value = [1, 0] -->\r\n    <g transform=\"translate(25.123416 128.187719)scale(0.01 -0.01)\">\r\n     <use xlink:href=\"#DejaVuSans-118\"/>\r\n     <use x=\"59.179688\" xlink:href=\"#DejaVuSans-97\"/>\r\n     <use x=\"120.458984\" xlink:href=\"#DejaVuSans-108\"/>\r\n     <use x=\"148.242188\" xlink:href=\"#DejaVuSans-117\"/>\r\n     <use x=\"211.621094\" xlink:href=\"#DejaVuSans-101\"/>\r\n     <use x=\"273.144531\" xlink:href=\"#DejaVuSans-32\"/>\r\n     <use x=\"304.931641\" xlink:href=\"#DejaVuSans-61\"/>\r\n     <use x=\"388.720703\" xlink:href=\"#DejaVuSans-32\"/>\r\n     <use x=\"420.507812\" xlink:href=\"#DejaVuSans-91\"/>\r\n     <use x=\"459.521484\" xlink:href=\"#DejaVuSans-49\"/>\r\n     <use x=\"523.144531\" xlink:href=\"#DejaVuSans-44\"/>\r\n     <use x=\"554.931641\" xlink:href=\"#DejaVuSans-32\"/>\r\n     <use x=\"586.71875\" xlink:href=\"#DejaVuSans-48\"/>\r\n     <use x=\"650.341797\" xlink:href=\"#DejaVuSans-93\"/>\r\n    </g>\r\n   </g>\r\n   <g id=\"patch_80\">\r\n    <path d=\"M 41.058568 121.424369 \r\nQ 38.861861 114.718979 36.317084 106.951116 \r\n\" style=\"fill:none;stroke:#000000;stroke-linecap:round;\"/>\r\n    <path d=\"M 41.1241 120.981983 \r\nL 41.058568 121.424369 \r\nL 40.743978 121.106512 \r\n\" style=\"fill:none;stroke:#000000;stroke-linecap:round;\"/>\r\n   </g>\r\n   <g id=\"text_40\">\r\n    <g id=\"patch_81\">\r\n     <path d=\"M 39.070224 128.695687 \r\nL 46.563818 128.695687 \r\nL 46.563818 124.888312 \r\nL 39.070224 124.888312 \r\nz\r\n\" style=\"fill:#ffffff;stroke:#000000;stroke-linejoin:miter;\"/>\r\n    </g>\r\n    <!-- gini = 0.0 -->\r\n    <g transform=\"translate(40.372959 125.948156)scale(0.01 -0.01)\">\r\n     <use xlink:href=\"#DejaVuSans-103\"/>\r\n     <use x=\"63.476562\" xlink:href=\"#DejaVuSans-105\"/>\r\n     <use x=\"91.259766\" xlink:href=\"#DejaVuSans-110\"/>\r\n     <use x=\"154.638672\" xlink:href=\"#DejaVuSans-105\"/>\r\n     <use x=\"182.421875\" xlink:href=\"#DejaVuSans-32\"/>\r\n     <use x=\"214.208984\" xlink:href=\"#DejaVuSans-61\"/>\r\n     <use x=\"297.998047\" xlink:href=\"#DejaVuSans-32\"/>\r\n     <use x=\"329.785156\" xlink:href=\"#DejaVuSans-48\"/>\r\n     <use x=\"393.408203\" xlink:href=\"#DejaVuSans-46\"/>\r\n     <use x=\"425.195312\" xlink:href=\"#DejaVuSans-48\"/>\r\n    </g>\r\n    <!-- samples = 2 -->\r\n    <g transform=\"translate(39.68374 127.067937)scale(0.01 -0.01)\">\r\n     <use xlink:href=\"#DejaVuSans-115\"/>\r\n     <use x=\"52.099609\" xlink:href=\"#DejaVuSans-97\"/>\r\n     <use x=\"113.378906\" xlink:href=\"#DejaVuSans-109\"/>\r\n     <use x=\"210.791016\" xlink:href=\"#DejaVuSans-112\"/>\r\n     <use x=\"274.267578\" xlink:href=\"#DejaVuSans-108\"/>\r\n     <use x=\"302.050781\" xlink:href=\"#DejaVuSans-101\"/>\r\n     <use x=\"363.574219\" xlink:href=\"#DejaVuSans-115\"/>\r\n     <use x=\"415.673828\" xlink:href=\"#DejaVuSans-32\"/>\r\n     <use x=\"447.460938\" xlink:href=\"#DejaVuSans-61\"/>\r\n     <use x=\"531.25\" xlink:href=\"#DejaVuSans-32\"/>\r\n     <use x=\"563.037109\" xlink:href=\"#DejaVuSans-50\"/>\r\n    </g>\r\n    <!-- value = [0, 2] -->\r\n    <g transform=\"translate(39.370224 128.187719)scale(0.01 -0.01)\">\r\n     <use xlink:href=\"#DejaVuSans-118\"/>\r\n     <use x=\"59.179688\" xlink:href=\"#DejaVuSans-97\"/>\r\n     <use x=\"120.458984\" xlink:href=\"#DejaVuSans-108\"/>\r\n     <use x=\"148.242188\" xlink:href=\"#DejaVuSans-117\"/>\r\n     <use x=\"211.621094\" xlink:href=\"#DejaVuSans-101\"/>\r\n     <use x=\"273.144531\" xlink:href=\"#DejaVuSans-32\"/>\r\n     <use x=\"304.931641\" xlink:href=\"#DejaVuSans-61\"/>\r\n     <use x=\"388.720703\" xlink:href=\"#DejaVuSans-32\"/>\r\n     <use x=\"420.507812\" xlink:href=\"#DejaVuSans-91\"/>\r\n     <use x=\"459.521484\" xlink:href=\"#DejaVuSans-48\"/>\r\n     <use x=\"523.144531\" xlink:href=\"#DejaVuSans-44\"/>\r\n     <use x=\"554.931641\" xlink:href=\"#DejaVuSans-32\"/>\r\n     <use x=\"586.71875\" xlink:href=\"#DejaVuSans-50\"/>\r\n     <use x=\"650.341797\" xlink:href=\"#DejaVuSans-93\"/>\r\n    </g>\r\n   </g>\r\n   <g id=\"patch_82\">\r\n    <path d=\"M 58.822283 121.424369 \r\nQ 61.01899 114.718979 63.563767 106.951116 \r\n\" style=\"fill:none;stroke:#000000;stroke-linecap:round;\"/>\r\n    <path d=\"M 59.136873 121.106512 \r\nL 58.822283 121.424369 \r\nL 58.756751 120.981983 \r\n\" style=\"fill:none;stroke:#000000;stroke-linecap:round;\"/>\r\n   </g>\r\n   <g id=\"text_41\">\r\n    <g id=\"patch_83\">\r\n     <path d=\"M 53.317033 128.695687 \r\nL 60.810627 128.695687 \r\nL 60.810627 124.888312 \r\nL 53.317033 124.888312 \r\nz\r\n\" style=\"fill:#ffffff;stroke:#000000;stroke-linejoin:miter;\"/>\r\n    </g>\r\n    <!-- gini = 0.0 -->\r\n    <g transform=\"translate(54.619767 125.948156)scale(0.01 -0.01)\">\r\n     <use xlink:href=\"#DejaVuSans-103\"/>\r\n     <use x=\"63.476562\" xlink:href=\"#DejaVuSans-105\"/>\r\n     <use x=\"91.259766\" xlink:href=\"#DejaVuSans-110\"/>\r\n     <use x=\"154.638672\" xlink:href=\"#DejaVuSans-105\"/>\r\n     <use x=\"182.421875\" xlink:href=\"#DejaVuSans-32\"/>\r\n     <use x=\"214.208984\" xlink:href=\"#DejaVuSans-61\"/>\r\n     <use x=\"297.998047\" xlink:href=\"#DejaVuSans-32\"/>\r\n     <use x=\"329.785156\" xlink:href=\"#DejaVuSans-48\"/>\r\n     <use x=\"393.408203\" xlink:href=\"#DejaVuSans-46\"/>\r\n     <use x=\"425.195312\" xlink:href=\"#DejaVuSans-48\"/>\r\n    </g>\r\n    <!-- samples = 1 -->\r\n    <g transform=\"translate(53.930549 127.067937)scale(0.01 -0.01)\">\r\n     <use xlink:href=\"#DejaVuSans-115\"/>\r\n     <use x=\"52.099609\" xlink:href=\"#DejaVuSans-97\"/>\r\n     <use x=\"113.378906\" xlink:href=\"#DejaVuSans-109\"/>\r\n     <use x=\"210.791016\" xlink:href=\"#DejaVuSans-112\"/>\r\n     <use x=\"274.267578\" xlink:href=\"#DejaVuSans-108\"/>\r\n     <use x=\"302.050781\" xlink:href=\"#DejaVuSans-101\"/>\r\n     <use x=\"363.574219\" xlink:href=\"#DejaVuSans-115\"/>\r\n     <use x=\"415.673828\" xlink:href=\"#DejaVuSans-32\"/>\r\n     <use x=\"447.460938\" xlink:href=\"#DejaVuSans-61\"/>\r\n     <use x=\"531.25\" xlink:href=\"#DejaVuSans-32\"/>\r\n     <use x=\"563.037109\" xlink:href=\"#DejaVuSans-49\"/>\r\n    </g>\r\n    <!-- value = [1, 0] -->\r\n    <g transform=\"translate(53.617033 128.187719)scale(0.01 -0.01)\">\r\n     <use xlink:href=\"#DejaVuSans-118\"/>\r\n     <use x=\"59.179688\" xlink:href=\"#DejaVuSans-97\"/>\r\n     <use x=\"120.458984\" xlink:href=\"#DejaVuSans-108\"/>\r\n     <use x=\"148.242188\" xlink:href=\"#DejaVuSans-117\"/>\r\n     <use x=\"211.621094\" xlink:href=\"#DejaVuSans-101\"/>\r\n     <use x=\"273.144531\" xlink:href=\"#DejaVuSans-32\"/>\r\n     <use x=\"304.931641\" xlink:href=\"#DejaVuSans-61\"/>\r\n     <use x=\"388.720703\" xlink:href=\"#DejaVuSans-32\"/>\r\n     <use x=\"420.507812\" xlink:href=\"#DejaVuSans-91\"/>\r\n     <use x=\"459.521484\" xlink:href=\"#DejaVuSans-49\"/>\r\n     <use x=\"523.144531\" xlink:href=\"#DejaVuSans-44\"/>\r\n     <use x=\"554.931641\" xlink:href=\"#DejaVuSans-32\"/>\r\n     <use x=\"586.71875\" xlink:href=\"#DejaVuSans-48\"/>\r\n     <use x=\"650.341797\" xlink:href=\"#DejaVuSans-93\"/>\r\n    </g>\r\n   </g>\r\n   <g id=\"patch_84\">\r\n    <path d=\"M 69.552185 121.424369 \r\nQ 67.355478 114.718979 64.810701 106.951116 \r\n\" style=\"fill:none;stroke:#000000;stroke-linecap:round;\"/>\r\n    <path d=\"M 69.617717 120.981983 \r\nL 69.552185 121.424369 \r\nL 69.237595 121.106512 \r\n\" style=\"fill:none;stroke:#000000;stroke-linecap:round;\"/>\r\n   </g>\r\n   <g id=\"text_42\">\r\n    <g id=\"patch_85\">\r\n     <path d=\"M 67.563841 128.695687 \r\nL 75.057435 128.695687 \r\nL 75.057435 124.888312 \r\nL 67.563841 124.888312 \r\nz\r\n\" style=\"fill:#ffffff;stroke:#000000;stroke-linejoin:miter;\"/>\r\n    </g>\r\n    <!-- gini = 0.0 -->\r\n    <g transform=\"translate(68.866576 125.948156)scale(0.01 -0.01)\">\r\n     <use xlink:href=\"#DejaVuSans-103\"/>\r\n     <use x=\"63.476562\" xlink:href=\"#DejaVuSans-105\"/>\r\n     <use x=\"91.259766\" xlink:href=\"#DejaVuSans-110\"/>\r\n     <use x=\"154.638672\" xlink:href=\"#DejaVuSans-105\"/>\r\n     <use x=\"182.421875\" xlink:href=\"#DejaVuSans-32\"/>\r\n     <use x=\"214.208984\" xlink:href=\"#DejaVuSans-61\"/>\r\n     <use x=\"297.998047\" xlink:href=\"#DejaVuSans-32\"/>\r\n     <use x=\"329.785156\" xlink:href=\"#DejaVuSans-48\"/>\r\n     <use x=\"393.408203\" xlink:href=\"#DejaVuSans-46\"/>\r\n     <use x=\"425.195312\" xlink:href=\"#DejaVuSans-48\"/>\r\n    </g>\r\n    <!-- samples = 1 -->\r\n    <g transform=\"translate(68.177357 127.067937)scale(0.01 -0.01)\">\r\n     <use xlink:href=\"#DejaVuSans-115\"/>\r\n     <use x=\"52.099609\" xlink:href=\"#DejaVuSans-97\"/>\r\n     <use x=\"113.378906\" xlink:href=\"#DejaVuSans-109\"/>\r\n     <use x=\"210.791016\" xlink:href=\"#DejaVuSans-112\"/>\r\n     <use x=\"274.267578\" xlink:href=\"#DejaVuSans-108\"/>\r\n     <use x=\"302.050781\" xlink:href=\"#DejaVuSans-101\"/>\r\n     <use x=\"363.574219\" xlink:href=\"#DejaVuSans-115\"/>\r\n     <use x=\"415.673828\" xlink:href=\"#DejaVuSans-32\"/>\r\n     <use x=\"447.460938\" xlink:href=\"#DejaVuSans-61\"/>\r\n     <use x=\"531.25\" xlink:href=\"#DejaVuSans-32\"/>\r\n     <use x=\"563.037109\" xlink:href=\"#DejaVuSans-49\"/>\r\n    </g>\r\n    <!-- value = [0, 1] -->\r\n    <g transform=\"translate(67.863841 128.187719)scale(0.01 -0.01)\">\r\n     <use xlink:href=\"#DejaVuSans-118\"/>\r\n     <use x=\"59.179688\" xlink:href=\"#DejaVuSans-97\"/>\r\n     <use x=\"120.458984\" xlink:href=\"#DejaVuSans-108\"/>\r\n     <use x=\"148.242188\" xlink:href=\"#DejaVuSans-117\"/>\r\n     <use x=\"211.621094\" xlink:href=\"#DejaVuSans-101\"/>\r\n     <use x=\"273.144531\" xlink:href=\"#DejaVuSans-32\"/>\r\n     <use x=\"304.931641\" xlink:href=\"#DejaVuSans-61\"/>\r\n     <use x=\"388.720703\" xlink:href=\"#DejaVuSans-32\"/>\r\n     <use x=\"420.507812\" xlink:href=\"#DejaVuSans-91\"/>\r\n     <use x=\"459.521484\" xlink:href=\"#DejaVuSans-48\"/>\r\n     <use x=\"523.144531\" xlink:href=\"#DejaVuSans-44\"/>\r\n     <use x=\"554.931641\" xlink:href=\"#DejaVuSans-32\"/>\r\n     <use x=\"586.71875\" xlink:href=\"#DejaVuSans-49\"/>\r\n     <use x=\"650.341797\" xlink:href=\"#DejaVuSans-93\"/>\r\n    </g>\r\n   </g>\r\n   <g id=\"patch_86\">\r\n    <path d=\"M 87.3159 121.424369 \r\nQ 89.512607 114.718979 92.057384 106.951116 \r\n\" style=\"fill:none;stroke:#000000;stroke-linecap:round;\"/>\r\n    <path d=\"M 87.63049 121.106512 \r\nL 87.3159 121.424369 \r\nL 87.250368 120.981983 \r\n\" style=\"fill:none;stroke:#000000;stroke-linecap:round;\"/>\r\n   </g>\r\n   <g id=\"text_43\">\r\n    <g id=\"patch_87\">\r\n     <path d=\"M 81.492525 128.695687 \r\nL 89.622369 128.695687 \r\nL 89.622369 124.888312 \r\nL 81.492525 124.888312 \r\nz\r\n\" style=\"fill:#ffffff;stroke:#000000;stroke-linejoin:miter;\"/>\r\n    </g>\r\n    <!-- gini = 0.0 -->\r\n    <g transform=\"translate(83.113384 125.948156)scale(0.01 -0.01)\">\r\n     <use xlink:href=\"#DejaVuSans-103\"/>\r\n     <use x=\"63.476562\" xlink:href=\"#DejaVuSans-105\"/>\r\n     <use x=\"91.259766\" xlink:href=\"#DejaVuSans-110\"/>\r\n     <use x=\"154.638672\" xlink:href=\"#DejaVuSans-105\"/>\r\n     <use x=\"182.421875\" xlink:href=\"#DejaVuSans-32\"/>\r\n     <use x=\"214.208984\" xlink:href=\"#DejaVuSans-61\"/>\r\n     <use x=\"297.998047\" xlink:href=\"#DejaVuSans-32\"/>\r\n     <use x=\"329.785156\" xlink:href=\"#DejaVuSans-48\"/>\r\n     <use x=\"393.408203\" xlink:href=\"#DejaVuSans-46\"/>\r\n     <use x=\"425.195312\" xlink:href=\"#DejaVuSans-48\"/>\r\n    </g>\r\n    <!-- samples = 24 -->\r\n    <g transform=\"translate(82.106041 127.067937)scale(0.01 -0.01)\">\r\n     <use xlink:href=\"#DejaVuSans-115\"/>\r\n     <use x=\"52.099609\" xlink:href=\"#DejaVuSans-97\"/>\r\n     <use x=\"113.378906\" xlink:href=\"#DejaVuSans-109\"/>\r\n     <use x=\"210.791016\" xlink:href=\"#DejaVuSans-112\"/>\r\n     <use x=\"274.267578\" xlink:href=\"#DejaVuSans-108\"/>\r\n     <use x=\"302.050781\" xlink:href=\"#DejaVuSans-101\"/>\r\n     <use x=\"363.574219\" xlink:href=\"#DejaVuSans-115\"/>\r\n     <use x=\"415.673828\" xlink:href=\"#DejaVuSans-32\"/>\r\n     <use x=\"447.460938\" xlink:href=\"#DejaVuSans-61\"/>\r\n     <use x=\"531.25\" xlink:href=\"#DejaVuSans-32\"/>\r\n     <use x=\"563.037109\" xlink:href=\"#DejaVuSans-50\"/>\r\n     <use x=\"626.660156\" xlink:href=\"#DejaVuSans-52\"/>\r\n    </g>\r\n    <!-- value = [0, 24] -->\r\n    <g transform=\"translate(81.792525 128.187719)scale(0.01 -0.01)\">\r\n     <use xlink:href=\"#DejaVuSans-118\"/>\r\n     <use x=\"59.179688\" xlink:href=\"#DejaVuSans-97\"/>\r\n     <use x=\"120.458984\" xlink:href=\"#DejaVuSans-108\"/>\r\n     <use x=\"148.242188\" xlink:href=\"#DejaVuSans-117\"/>\r\n     <use x=\"211.621094\" xlink:href=\"#DejaVuSans-101\"/>\r\n     <use x=\"273.144531\" xlink:href=\"#DejaVuSans-32\"/>\r\n     <use x=\"304.931641\" xlink:href=\"#DejaVuSans-61\"/>\r\n     <use x=\"388.720703\" xlink:href=\"#DejaVuSans-32\"/>\r\n     <use x=\"420.507812\" xlink:href=\"#DejaVuSans-91\"/>\r\n     <use x=\"459.521484\" xlink:href=\"#DejaVuSans-48\"/>\r\n     <use x=\"523.144531\" xlink:href=\"#DejaVuSans-44\"/>\r\n     <use x=\"554.931641\" xlink:href=\"#DejaVuSans-32\"/>\r\n     <use x=\"586.71875\" xlink:href=\"#DejaVuSans-50\"/>\r\n     <use x=\"650.341797\" xlink:href=\"#DejaVuSans-52\"/>\r\n     <use x=\"713.964844\" xlink:href=\"#DejaVuSans-93\"/>\r\n    </g>\r\n   </g>\r\n   <g id=\"patch_88\">\r\n    <path d=\"M 97.849067 120.823839 \r\nQ 95.750766 114.418833 93.304396 106.951354 \r\n\" style=\"fill:none;stroke:#000000;stroke-linecap:round;\"/>\r\n    <path d=\"M 97.914598 120.381453 \r\nL 97.849067 120.823839 \r\nL 97.534477 120.505982 \r\n\" style=\"fill:none;stroke:#000000;stroke-linecap:round;\"/>\r\n   </g>\r\n   <g id=\"text_44\">\r\n    <g id=\"patch_89\">\r\n     <path d=\"M 90.396677 129.269484 \r\nL 109.211833 129.269484 \r\nL 109.211833 124.286703 \r\nL 90.396677 124.286703 \r\nz\r\n\" style=\"fill:#ffffff;stroke:#000000;stroke-linejoin:miter;\"/>\r\n    </g>\r\n    <!-- creatinine_phosphokinase &lt;= 159.5 -->\r\n    <g transform=\"translate(90.696677 125.374359)scale(0.01 -0.01)\">\r\n     <use xlink:href=\"#DejaVuSans-99\"/>\r\n     <use x=\"54.980469\" xlink:href=\"#DejaVuSans-114\"/>\r\n     <use x=\"96.0625\" xlink:href=\"#DejaVuSans-101\"/>\r\n     <use x=\"157.585938\" xlink:href=\"#DejaVuSans-97\"/>\r\n     <use x=\"218.865234\" xlink:href=\"#DejaVuSans-116\"/>\r\n     <use x=\"258.074219\" xlink:href=\"#DejaVuSans-105\"/>\r\n     <use x=\"285.857422\" xlink:href=\"#DejaVuSans-110\"/>\r\n     <use x=\"349.236328\" xlink:href=\"#DejaVuSans-105\"/>\r\n     <use x=\"377.019531\" xlink:href=\"#DejaVuSans-110\"/>\r\n     <use x=\"440.398438\" xlink:href=\"#DejaVuSans-101\"/>\r\n     <use x=\"501.921875\" xlink:href=\"#DejaVuSans-95\"/>\r\n     <use x=\"551.921875\" xlink:href=\"#DejaVuSans-112\"/>\r\n     <use x=\"615.398438\" xlink:href=\"#DejaVuSans-104\"/>\r\n     <use x=\"678.777344\" xlink:href=\"#DejaVuSans-111\"/>\r\n     <use x=\"739.958984\" xlink:href=\"#DejaVuSans-115\"/>\r\n     <use x=\"792.058594\" xlink:href=\"#DejaVuSans-112\"/>\r\n     <use x=\"855.535156\" xlink:href=\"#DejaVuSans-104\"/>\r\n     <use x=\"918.914062\" xlink:href=\"#DejaVuSans-111\"/>\r\n     <use x=\"980.095703\" xlink:href=\"#DejaVuSans-107\"/>\r\n     <use x=\"1038.005859\" xlink:href=\"#DejaVuSans-105\"/>\r\n     <use x=\"1065.789062\" xlink:href=\"#DejaVuSans-110\"/>\r\n     <use x=\"1129.167969\" xlink:href=\"#DejaVuSans-97\"/>\r\n     <use x=\"1190.447266\" xlink:href=\"#DejaVuSans-115\"/>\r\n     <use x=\"1242.546875\" xlink:href=\"#DejaVuSans-101\"/>\r\n     <use x=\"1304.070312\" xlink:href=\"#DejaVuSans-32\"/>\r\n     <use x=\"1335.857422\" xlink:href=\"#DejaVuSans-60\"/>\r\n     <use x=\"1419.646484\" xlink:href=\"#DejaVuSans-61\"/>\r\n     <use x=\"1503.435547\" xlink:href=\"#DejaVuSans-32\"/>\r\n     <use x=\"1535.222656\" xlink:href=\"#DejaVuSans-49\"/>\r\n     <use x=\"1598.845703\" xlink:href=\"#DejaVuSans-53\"/>\r\n     <use x=\"1662.46875\" xlink:href=\"#DejaVuSans-57\"/>\r\n     <use x=\"1726.091797\" xlink:href=\"#DejaVuSans-46\"/>\r\n     <use x=\"1757.878906\" xlink:href=\"#DejaVuSans-53\"/>\r\n    </g>\r\n    <!-- gini = 0.255 -->\r\n    <g transform=\"translate(96.723943 126.521953)scale(0.01 -0.01)\">\r\n     <use xlink:href=\"#DejaVuSans-103\"/>\r\n     <use x=\"63.476562\" xlink:href=\"#DejaVuSans-105\"/>\r\n     <use x=\"91.259766\" xlink:href=\"#DejaVuSans-110\"/>\r\n     <use x=\"154.638672\" xlink:href=\"#DejaVuSans-105\"/>\r\n     <use x=\"182.421875\" xlink:href=\"#DejaVuSans-32\"/>\r\n     <use x=\"214.208984\" xlink:href=\"#DejaVuSans-61\"/>\r\n     <use x=\"297.998047\" xlink:href=\"#DejaVuSans-32\"/>\r\n     <use x=\"329.785156\" xlink:href=\"#DejaVuSans-48\"/>\r\n     <use x=\"393.408203\" xlink:href=\"#DejaVuSans-46\"/>\r\n     <use x=\"425.195312\" xlink:href=\"#DejaVuSans-50\"/>\r\n     <use x=\"488.818359\" xlink:href=\"#DejaVuSans-53\"/>\r\n     <use x=\"552.441406\" xlink:href=\"#DejaVuSans-53\"/>\r\n    </g>\r\n    <!-- samples = 20 -->\r\n    <g transform=\"translate(96.352849 127.641734)scale(0.01 -0.01)\">\r\n     <use xlink:href=\"#DejaVuSans-115\"/>\r\n     <use x=\"52.099609\" xlink:href=\"#DejaVuSans-97\"/>\r\n     <use x=\"113.378906\" xlink:href=\"#DejaVuSans-109\"/>\r\n     <use x=\"210.791016\" xlink:href=\"#DejaVuSans-112\"/>\r\n     <use x=\"274.267578\" xlink:href=\"#DejaVuSans-108\"/>\r\n     <use x=\"302.050781\" xlink:href=\"#DejaVuSans-101\"/>\r\n     <use x=\"363.574219\" xlink:href=\"#DejaVuSans-115\"/>\r\n     <use x=\"415.673828\" xlink:href=\"#DejaVuSans-32\"/>\r\n     <use x=\"447.460938\" xlink:href=\"#DejaVuSans-61\"/>\r\n     <use x=\"531.25\" xlink:href=\"#DejaVuSans-32\"/>\r\n     <use x=\"563.037109\" xlink:href=\"#DejaVuSans-50\"/>\r\n     <use x=\"626.660156\" xlink:href=\"#DejaVuSans-48\"/>\r\n    </g>\r\n    <!-- value = [3, 17] -->\r\n    <g transform=\"translate(96.039333 128.761516)scale(0.01 -0.01)\">\r\n     <use xlink:href=\"#DejaVuSans-118\"/>\r\n     <use x=\"59.179688\" xlink:href=\"#DejaVuSans-97\"/>\r\n     <use x=\"120.458984\" xlink:href=\"#DejaVuSans-108\"/>\r\n     <use x=\"148.242188\" xlink:href=\"#DejaVuSans-117\"/>\r\n     <use x=\"211.621094\" xlink:href=\"#DejaVuSans-101\"/>\r\n     <use x=\"273.144531\" xlink:href=\"#DejaVuSans-32\"/>\r\n     <use x=\"304.931641\" xlink:href=\"#DejaVuSans-61\"/>\r\n     <use x=\"388.720703\" xlink:href=\"#DejaVuSans-32\"/>\r\n     <use x=\"420.507812\" xlink:href=\"#DejaVuSans-91\"/>\r\n     <use x=\"459.521484\" xlink:href=\"#DejaVuSans-51\"/>\r\n     <use x=\"523.144531\" xlink:href=\"#DejaVuSans-44\"/>\r\n     <use x=\"554.931641\" xlink:href=\"#DejaVuSans-32\"/>\r\n     <use x=\"586.71875\" xlink:href=\"#DejaVuSans-49\"/>\r\n     <use x=\"650.341797\" xlink:href=\"#DejaVuSans-55\"/>\r\n     <use x=\"713.964844\" xlink:href=\"#DejaVuSans-93\"/>\r\n    </g>\r\n   </g>\r\n   <g id=\"patch_90\">\r\n    <path d=\"M 151.61077 120.862005 \r\nQ 153.715966 114.435953 156.169231 106.947428 \r\n\" style=\"fill:none;stroke:#000000;stroke-linecap:round;\"/>\r\n    <path d=\"M 151.92536 120.544148 \r\nL 151.61077 120.862005 \r\nL 151.545239 120.419619 \r\n\" style=\"fill:none;stroke:#000000;stroke-linecap:round;\"/>\r\n   </g>\r\n   <g id=\"text_45\">\r\n    <g id=\"patch_91\">\r\n     <path d=\"M 145.300976 129.255578 \r\nL 154.035194 129.255578 \r\nL 154.035194 124.328422 \r\nL 145.300976 124.328422 \r\nz\r\n\" style=\"fill:#ffffff;stroke:#000000;stroke-linejoin:miter;\"/>\r\n    </g>\r\n    <!-- smoking &lt;= 0.5 -->\r\n    <g transform=\"translate(145.600976 125.388266)scale(0.01 -0.01)\">\r\n     <use xlink:href=\"#DejaVuSans-115\"/>\r\n     <use x=\"52.099609\" xlink:href=\"#DejaVuSans-109\"/>\r\n     <use x=\"149.511719\" xlink:href=\"#DejaVuSans-111\"/>\r\n     <use x=\"210.693359\" xlink:href=\"#DejaVuSans-107\"/>\r\n     <use x=\"268.603516\" xlink:href=\"#DejaVuSans-105\"/>\r\n     <use x=\"296.386719\" xlink:href=\"#DejaVuSans-110\"/>\r\n     <use x=\"359.765625\" xlink:href=\"#DejaVuSans-103\"/>\r\n     <use x=\"423.242188\" xlink:href=\"#DejaVuSans-32\"/>\r\n     <use x=\"455.029297\" xlink:href=\"#DejaVuSans-60\"/>\r\n     <use x=\"538.818359\" xlink:href=\"#DejaVuSans-61\"/>\r\n     <use x=\"622.607422\" xlink:href=\"#DejaVuSans-32\"/>\r\n     <use x=\"654.394531\" xlink:href=\"#DejaVuSans-48\"/>\r\n     <use x=\"718.017578\" xlink:href=\"#DejaVuSans-46\"/>\r\n     <use x=\"749.804688\" xlink:href=\"#DejaVuSans-53\"/>\r\n    </g>\r\n    <!-- gini = 0.494 -->\r\n    <g transform=\"translate(146.587773 126.508047)scale(0.01 -0.01)\">\r\n     <use xlink:href=\"#DejaVuSans-103\"/>\r\n     <use x=\"63.476562\" xlink:href=\"#DejaVuSans-105\"/>\r\n     <use x=\"91.259766\" xlink:href=\"#DejaVuSans-110\"/>\r\n     <use x=\"154.638672\" xlink:href=\"#DejaVuSans-105\"/>\r\n     <use x=\"182.421875\" xlink:href=\"#DejaVuSans-32\"/>\r\n     <use x=\"214.208984\" xlink:href=\"#DejaVuSans-61\"/>\r\n     <use x=\"297.998047\" xlink:href=\"#DejaVuSans-32\"/>\r\n     <use x=\"329.785156\" xlink:href=\"#DejaVuSans-48\"/>\r\n     <use x=\"393.408203\" xlink:href=\"#DejaVuSans-46\"/>\r\n     <use x=\"425.195312\" xlink:href=\"#DejaVuSans-52\"/>\r\n     <use x=\"488.818359\" xlink:href=\"#DejaVuSans-57\"/>\r\n     <use x=\"552.441406\" xlink:href=\"#DejaVuSans-52\"/>\r\n    </g>\r\n    <!-- samples = 9 -->\r\n    <g transform=\"translate(146.534804 127.627828)scale(0.01 -0.01)\">\r\n     <use xlink:href=\"#DejaVuSans-115\"/>\r\n     <use x=\"52.099609\" xlink:href=\"#DejaVuSans-97\"/>\r\n     <use x=\"113.378906\" xlink:href=\"#DejaVuSans-109\"/>\r\n     <use x=\"210.791016\" xlink:href=\"#DejaVuSans-112\"/>\r\n     <use x=\"274.267578\" xlink:href=\"#DejaVuSans-108\"/>\r\n     <use x=\"302.050781\" xlink:href=\"#DejaVuSans-101\"/>\r\n     <use x=\"363.574219\" xlink:href=\"#DejaVuSans-115\"/>\r\n     <use x=\"415.673828\" xlink:href=\"#DejaVuSans-32\"/>\r\n     <use x=\"447.460938\" xlink:href=\"#DejaVuSans-61\"/>\r\n     <use x=\"531.25\" xlink:href=\"#DejaVuSans-32\"/>\r\n     <use x=\"563.037109\" xlink:href=\"#DejaVuSans-57\"/>\r\n    </g>\r\n    <!-- value = [4, 5] -->\r\n    <g transform=\"translate(146.221288 128.747609)scale(0.01 -0.01)\">\r\n     <use xlink:href=\"#DejaVuSans-118\"/>\r\n     <use x=\"59.179688\" xlink:href=\"#DejaVuSans-97\"/>\r\n     <use x=\"120.458984\" xlink:href=\"#DejaVuSans-108\"/>\r\n     <use x=\"148.242188\" xlink:href=\"#DejaVuSans-117\"/>\r\n     <use x=\"211.621094\" xlink:href=\"#DejaVuSans-101\"/>\r\n     <use x=\"273.144531\" xlink:href=\"#DejaVuSans-32\"/>\r\n     <use x=\"304.931641\" xlink:href=\"#DejaVuSans-61\"/>\r\n     <use x=\"388.720703\" xlink:href=\"#DejaVuSans-32\"/>\r\n     <use x=\"420.507812\" xlink:href=\"#DejaVuSans-91\"/>\r\n     <use x=\"459.521484\" xlink:href=\"#DejaVuSans-52\"/>\r\n     <use x=\"523.144531\" xlink:href=\"#DejaVuSans-44\"/>\r\n     <use x=\"554.931641\" xlink:href=\"#DejaVuSans-32\"/>\r\n     <use x=\"586.71875\" xlink:href=\"#DejaVuSans-53\"/>\r\n     <use x=\"650.341797\" xlink:href=\"#DejaVuSans-93\"/>\r\n    </g>\r\n   </g>\r\n   <g id=\"patch_92\">\r\n    <path d=\"M 162.15644 121.424369 \r\nQ 159.959733 114.718979 157.414956 106.951116 \r\n\" style=\"fill:none;stroke:#000000;stroke-linecap:round;\"/>\r\n    <path d=\"M 162.221972 120.981983 \r\nL 162.15644 121.424369 \r\nL 161.84185 121.106512 \r\n\" style=\"fill:none;stroke:#000000;stroke-linecap:round;\"/>\r\n   </g>\r\n   <g id=\"text_46\">\r\n    <g id=\"patch_93\">\r\n     <path d=\"M 160.168097 128.695687 \r\nL 167.66169 128.695687 \r\nL 167.66169 124.888312 \r\nL 160.168097 124.888312 \r\nz\r\n\" style=\"fill:#ffffff;stroke:#000000;stroke-linejoin:miter;\"/>\r\n    </g>\r\n    <!-- gini = 0.0 -->\r\n    <g transform=\"translate(161.470831 125.948156)scale(0.01 -0.01)\">\r\n     <use xlink:href=\"#DejaVuSans-103\"/>\r\n     <use x=\"63.476562\" xlink:href=\"#DejaVuSans-105\"/>\r\n     <use x=\"91.259766\" xlink:href=\"#DejaVuSans-110\"/>\r\n     <use x=\"154.638672\" xlink:href=\"#DejaVuSans-105\"/>\r\n     <use x=\"182.421875\" xlink:href=\"#DejaVuSans-32\"/>\r\n     <use x=\"214.208984\" xlink:href=\"#DejaVuSans-61\"/>\r\n     <use x=\"297.998047\" xlink:href=\"#DejaVuSans-32\"/>\r\n     <use x=\"329.785156\" xlink:href=\"#DejaVuSans-48\"/>\r\n     <use x=\"393.408203\" xlink:href=\"#DejaVuSans-46\"/>\r\n     <use x=\"425.195312\" xlink:href=\"#DejaVuSans-48\"/>\r\n    </g>\r\n    <!-- samples = 4 -->\r\n    <g transform=\"translate(160.781612 127.067937)scale(0.01 -0.01)\">\r\n     <use xlink:href=\"#DejaVuSans-115\"/>\r\n     <use x=\"52.099609\" xlink:href=\"#DejaVuSans-97\"/>\r\n     <use x=\"113.378906\" xlink:href=\"#DejaVuSans-109\"/>\r\n     <use x=\"210.791016\" xlink:href=\"#DejaVuSans-112\"/>\r\n     <use x=\"274.267578\" xlink:href=\"#DejaVuSans-108\"/>\r\n     <use x=\"302.050781\" xlink:href=\"#DejaVuSans-101\"/>\r\n     <use x=\"363.574219\" xlink:href=\"#DejaVuSans-115\"/>\r\n     <use x=\"415.673828\" xlink:href=\"#DejaVuSans-32\"/>\r\n     <use x=\"447.460938\" xlink:href=\"#DejaVuSans-61\"/>\r\n     <use x=\"531.25\" xlink:href=\"#DejaVuSans-32\"/>\r\n     <use x=\"563.037109\" xlink:href=\"#DejaVuSans-52\"/>\r\n    </g>\r\n    <!-- value = [4, 0] -->\r\n    <g transform=\"translate(160.468097 128.187719)scale(0.01 -0.01)\">\r\n     <use xlink:href=\"#DejaVuSans-118\"/>\r\n     <use x=\"59.179688\" xlink:href=\"#DejaVuSans-97\"/>\r\n     <use x=\"120.458984\" xlink:href=\"#DejaVuSans-108\"/>\r\n     <use x=\"148.242188\" xlink:href=\"#DejaVuSans-117\"/>\r\n     <use x=\"211.621094\" xlink:href=\"#DejaVuSans-101\"/>\r\n     <use x=\"273.144531\" xlink:href=\"#DejaVuSans-32\"/>\r\n     <use x=\"304.931641\" xlink:href=\"#DejaVuSans-61\"/>\r\n     <use x=\"388.720703\" xlink:href=\"#DejaVuSans-32\"/>\r\n     <use x=\"420.507812\" xlink:href=\"#DejaVuSans-91\"/>\r\n     <use x=\"459.521484\" xlink:href=\"#DejaVuSans-52\"/>\r\n     <use x=\"523.144531\" xlink:href=\"#DejaVuSans-44\"/>\r\n     <use x=\"554.931641\" xlink:href=\"#DejaVuSans-32\"/>\r\n     <use x=\"586.71875\" xlink:href=\"#DejaVuSans-48\"/>\r\n     <use x=\"650.341797\" xlink:href=\"#DejaVuSans-93\"/>\r\n    </g>\r\n   </g>\r\n   <g id=\"patch_94\">\r\n    <path d=\"M 182.565643 121.414836 \r\nQ 188.280603 114.436931 194.703973 106.594066 \r\n\" style=\"fill:none;stroke:#000000;stroke-linecap:round;\"/>\r\n    <path d=\"M 182.97382 121.232102 \r\nL 182.565643 121.414836 \r\nL 182.664362 120.978654 \r\n\" style=\"fill:none;stroke:#000000;stroke-linecap:round;\"/>\r\n   </g>\r\n   <g id=\"text_47\">\r\n    <g id=\"patch_95\">\r\n     <path d=\"M 174.144905 129.255578 \r\nL 182.178499 129.255578 \r\nL 182.178499 124.328422 \r\nL 174.144905 124.328422 \r\nz\r\n\" style=\"fill:#ffffff;stroke:#000000;stroke-linejoin:miter;\"/>\r\n    </g>\r\n    <!-- time &lt;= 156.0 -->\r\n    <g transform=\"translate(174.444905 125.388266)scale(0.01 -0.01)\">\r\n     <use xlink:href=\"#DejaVuSans-116\"/>\r\n     <use x=\"39.208984\" xlink:href=\"#DejaVuSans-105\"/>\r\n     <use x=\"66.992188\" xlink:href=\"#DejaVuSans-109\"/>\r\n     <use x=\"164.404297\" xlink:href=\"#DejaVuSans-101\"/>\r\n     <use x=\"225.927734\" xlink:href=\"#DejaVuSans-32\"/>\r\n     <use x=\"257.714844\" xlink:href=\"#DejaVuSans-60\"/>\r\n     <use x=\"341.503906\" xlink:href=\"#DejaVuSans-61\"/>\r\n     <use x=\"425.292969\" xlink:href=\"#DejaVuSans-32\"/>\r\n     <use x=\"457.080078\" xlink:href=\"#DejaVuSans-49\"/>\r\n     <use x=\"520.703125\" xlink:href=\"#DejaVuSans-53\"/>\r\n     <use x=\"584.326172\" xlink:href=\"#DejaVuSans-54\"/>\r\n     <use x=\"647.949219\" xlink:href=\"#DejaVuSans-46\"/>\r\n     <use x=\"679.736328\" xlink:href=\"#DejaVuSans-48\"/>\r\n    </g>\r\n    <!-- gini = 0.444 -->\r\n    <g transform=\"translate(175.08139 126.508047)scale(0.01 -0.01)\">\r\n     <use xlink:href=\"#DejaVuSans-103\"/>\r\n     <use x=\"63.476562\" xlink:href=\"#DejaVuSans-105\"/>\r\n     <use x=\"91.259766\" xlink:href=\"#DejaVuSans-110\"/>\r\n     <use x=\"154.638672\" xlink:href=\"#DejaVuSans-105\"/>\r\n     <use x=\"182.421875\" xlink:href=\"#DejaVuSans-32\"/>\r\n     <use x=\"214.208984\" xlink:href=\"#DejaVuSans-61\"/>\r\n     <use x=\"297.998047\" xlink:href=\"#DejaVuSans-32\"/>\r\n     <use x=\"329.785156\" xlink:href=\"#DejaVuSans-48\"/>\r\n     <use x=\"393.408203\" xlink:href=\"#DejaVuSans-46\"/>\r\n     <use x=\"425.195312\" xlink:href=\"#DejaVuSans-52\"/>\r\n     <use x=\"488.818359\" xlink:href=\"#DejaVuSans-52\"/>\r\n     <use x=\"552.441406\" xlink:href=\"#DejaVuSans-52\"/>\r\n    </g>\r\n    <!-- samples = 3 -->\r\n    <g transform=\"translate(175.028421 127.627828)scale(0.01 -0.01)\">\r\n     <use xlink:href=\"#DejaVuSans-115\"/>\r\n     <use x=\"52.099609\" xlink:href=\"#DejaVuSans-97\"/>\r\n     <use x=\"113.378906\" xlink:href=\"#DejaVuSans-109\"/>\r\n     <use x=\"210.791016\" xlink:href=\"#DejaVuSans-112\"/>\r\n     <use x=\"274.267578\" xlink:href=\"#DejaVuSans-108\"/>\r\n     <use x=\"302.050781\" xlink:href=\"#DejaVuSans-101\"/>\r\n     <use x=\"363.574219\" xlink:href=\"#DejaVuSans-115\"/>\r\n     <use x=\"415.673828\" xlink:href=\"#DejaVuSans-32\"/>\r\n     <use x=\"447.460938\" xlink:href=\"#DejaVuSans-61\"/>\r\n     <use x=\"531.25\" xlink:href=\"#DejaVuSans-32\"/>\r\n     <use x=\"563.037109\" xlink:href=\"#DejaVuSans-51\"/>\r\n    </g>\r\n    <!-- value = [2, 1] -->\r\n    <g transform=\"translate(174.714905 128.747609)scale(0.01 -0.01)\">\r\n     <use xlink:href=\"#DejaVuSans-118\"/>\r\n     <use x=\"59.179688\" xlink:href=\"#DejaVuSans-97\"/>\r\n     <use x=\"120.458984\" xlink:href=\"#DejaVuSans-108\"/>\r\n     <use x=\"148.242188\" xlink:href=\"#DejaVuSans-117\"/>\r\n     <use x=\"211.621094\" xlink:href=\"#DejaVuSans-101\"/>\r\n     <use x=\"273.144531\" xlink:href=\"#DejaVuSans-32\"/>\r\n     <use x=\"304.931641\" xlink:href=\"#DejaVuSans-61\"/>\r\n     <use x=\"388.720703\" xlink:href=\"#DejaVuSans-32\"/>\r\n     <use x=\"420.507812\" xlink:href=\"#DejaVuSans-91\"/>\r\n     <use x=\"459.521484\" xlink:href=\"#DejaVuSans-50\"/>\r\n     <use x=\"523.144531\" xlink:href=\"#DejaVuSans-44\"/>\r\n     <use x=\"554.931641\" xlink:href=\"#DejaVuSans-32\"/>\r\n     <use x=\"586.71875\" xlink:href=\"#DejaVuSans-49\"/>\r\n     <use x=\"650.341797\" xlink:href=\"#DejaVuSans-93\"/>\r\n    </g>\r\n   </g>\r\n   <g id=\"patch_96\">\r\n    <path d=\"M 209.33912 121.371292 \r\nQ 203.64211 114.415304 197.23669 106.594355 \r\n\" style=\"fill:none;stroke:#000000;stroke-linecap:round;\"/>\r\n    <path d=\"M 209.240401 120.93511 \r\nL 209.33912 121.371292 \r\nL 208.930943 121.188559 \r\n\" style=\"fill:none;stroke:#000000;stroke-linecap:round;\"/>\r\n   </g>\r\n   <g id=\"text_48\">\r\n    <g id=\"patch_97\">\r\n     <path d=\"M 206.872473 129.269484 \r\nL 220.684973 129.269484 \r\nL 220.684973 124.286703 \r\nL 206.872473 124.286703 \r\nz\r\n\" style=\"fill:#ffffff;stroke:#000000;stroke-linejoin:miter;\"/>\r\n    </g>\r\n    <!-- serum_creatinine &lt;= 0.65 -->\r\n    <g transform=\"translate(207.172473 125.374359)scale(0.01 -0.01)\">\r\n     <use xlink:href=\"#DejaVuSans-115\"/>\r\n     <use x=\"52.099609\" xlink:href=\"#DejaVuSans-101\"/>\r\n     <use x=\"113.623047\" xlink:href=\"#DejaVuSans-114\"/>\r\n     <use x=\"154.736328\" xlink:href=\"#DejaVuSans-117\"/>\r\n     <use x=\"218.115234\" xlink:href=\"#DejaVuSans-109\"/>\r\n     <use x=\"315.527344\" xlink:href=\"#DejaVuSans-95\"/>\r\n     <use x=\"365.527344\" xlink:href=\"#DejaVuSans-99\"/>\r\n     <use x=\"420.507812\" xlink:href=\"#DejaVuSans-114\"/>\r\n     <use x=\"461.589844\" xlink:href=\"#DejaVuSans-101\"/>\r\n     <use x=\"523.113281\" xlink:href=\"#DejaVuSans-97\"/>\r\n     <use x=\"584.392578\" xlink:href=\"#DejaVuSans-116\"/>\r\n     <use x=\"623.601562\" xlink:href=\"#DejaVuSans-105\"/>\r\n     <use x=\"651.384766\" xlink:href=\"#DejaVuSans-110\"/>\r\n     <use x=\"714.763672\" xlink:href=\"#DejaVuSans-105\"/>\r\n     <use x=\"742.546875\" xlink:href=\"#DejaVuSans-110\"/>\r\n     <use x=\"805.925781\" xlink:href=\"#DejaVuSans-101\"/>\r\n     <use x=\"867.449219\" xlink:href=\"#DejaVuSans-32\"/>\r\n     <use x=\"899.236328\" xlink:href=\"#DejaVuSans-60\"/>\r\n     <use x=\"983.025391\" xlink:href=\"#DejaVuSans-61\"/>\r\n     <use x=\"1066.814453\" xlink:href=\"#DejaVuSans-32\"/>\r\n     <use x=\"1098.601562\" xlink:href=\"#DejaVuSans-48\"/>\r\n     <use x=\"1162.224609\" xlink:href=\"#DejaVuSans-46\"/>\r\n     <use x=\"1194.011719\" xlink:href=\"#DejaVuSans-54\"/>\r\n     <use x=\"1257.634766\" xlink:href=\"#DejaVuSans-53\"/>\r\n    </g>\r\n    <!-- gini = 0.033 -->\r\n    <g transform=\"translate(210.698411 126.521953)scale(0.01 -0.01)\">\r\n     <use xlink:href=\"#DejaVuSans-103\"/>\r\n     <use x=\"63.476562\" xlink:href=\"#DejaVuSans-105\"/>\r\n     <use x=\"91.259766\" xlink:href=\"#DejaVuSans-110\"/>\r\n     <use x=\"154.638672\" xlink:href=\"#DejaVuSans-105\"/>\r\n     <use x=\"182.421875\" xlink:href=\"#DejaVuSans-32\"/>\r\n     <use x=\"214.208984\" xlink:href=\"#DejaVuSans-61\"/>\r\n     <use x=\"297.998047\" xlink:href=\"#DejaVuSans-32\"/>\r\n     <use x=\"329.785156\" xlink:href=\"#DejaVuSans-48\"/>\r\n     <use x=\"393.408203\" xlink:href=\"#DejaVuSans-46\"/>\r\n     <use x=\"425.195312\" xlink:href=\"#DejaVuSans-48\"/>\r\n     <use x=\"488.818359\" xlink:href=\"#DejaVuSans-51\"/>\r\n     <use x=\"552.441406\" xlink:href=\"#DejaVuSans-51\"/>\r\n    </g>\r\n    <!-- samples = 119 -->\r\n    <g transform=\"translate(210.009192 127.641734)scale(0.01 -0.01)\">\r\n     <use xlink:href=\"#DejaVuSans-115\"/>\r\n     <use x=\"52.099609\" xlink:href=\"#DejaVuSans-97\"/>\r\n     <use x=\"113.378906\" xlink:href=\"#DejaVuSans-109\"/>\r\n     <use x=\"210.791016\" xlink:href=\"#DejaVuSans-112\"/>\r\n     <use x=\"274.267578\" xlink:href=\"#DejaVuSans-108\"/>\r\n     <use x=\"302.050781\" xlink:href=\"#DejaVuSans-101\"/>\r\n     <use x=\"363.574219\" xlink:href=\"#DejaVuSans-115\"/>\r\n     <use x=\"415.673828\" xlink:href=\"#DejaVuSans-32\"/>\r\n     <use x=\"447.460938\" xlink:href=\"#DejaVuSans-61\"/>\r\n     <use x=\"531.25\" xlink:href=\"#DejaVuSans-32\"/>\r\n     <use x=\"563.037109\" xlink:href=\"#DejaVuSans-49\"/>\r\n     <use x=\"626.660156\" xlink:href=\"#DejaVuSans-49\"/>\r\n     <use x=\"690.283203\" xlink:href=\"#DejaVuSans-57\"/>\r\n    </g>\r\n    <!-- value = [117, 2] -->\r\n    <g transform=\"translate(209.695677 128.761516)scale(0.01 -0.01)\">\r\n     <use xlink:href=\"#DejaVuSans-118\"/>\r\n     <use x=\"59.179688\" xlink:href=\"#DejaVuSans-97\"/>\r\n     <use x=\"120.458984\" xlink:href=\"#DejaVuSans-108\"/>\r\n     <use x=\"148.242188\" xlink:href=\"#DejaVuSans-117\"/>\r\n     <use x=\"211.621094\" xlink:href=\"#DejaVuSans-101\"/>\r\n     <use x=\"273.144531\" xlink:href=\"#DejaVuSans-32\"/>\r\n     <use x=\"304.931641\" xlink:href=\"#DejaVuSans-61\"/>\r\n     <use x=\"388.720703\" xlink:href=\"#DejaVuSans-32\"/>\r\n     <use x=\"420.507812\" xlink:href=\"#DejaVuSans-91\"/>\r\n     <use x=\"459.521484\" xlink:href=\"#DejaVuSans-49\"/>\r\n     <use x=\"523.144531\" xlink:href=\"#DejaVuSans-49\"/>\r\n     <use x=\"586.767578\" xlink:href=\"#DejaVuSans-55\"/>\r\n     <use x=\"650.390625\" xlink:href=\"#DejaVuSans-44\"/>\r\n     <use x=\"682.177734\" xlink:href=\"#DejaVuSans-32\"/>\r\n     <use x=\"713.964844\" xlink:href=\"#DejaVuSans-50\"/>\r\n     <use x=\"777.587891\" xlink:href=\"#DejaVuSans-93\"/>\r\n    </g>\r\n   </g>\r\n   <g id=\"patch_98\">\r\n    <path d=\"M 229.783985 121.424369 \r\nQ 231.980693 114.718979 234.525469 106.951116 \r\n\" style=\"fill:none;stroke:#000000;stroke-linecap:round;\"/>\r\n    <path d=\"M 230.098575 121.106512 \r\nL 229.783985 121.424369 \r\nL 229.718453 120.981983 \r\n\" style=\"fill:none;stroke:#000000;stroke-linecap:round;\"/>\r\n   </g>\r\n   <g id=\"text_49\">\r\n    <g id=\"patch_99\">\r\n     <path d=\"M 224.278735 128.695687 \r\nL 231.772329 128.695687 \r\nL 231.772329 124.888312 \r\nL 224.278735 124.888312 \r\nz\r\n\" style=\"fill:#ffffff;stroke:#000000;stroke-linejoin:miter;\"/>\r\n    </g>\r\n    <!-- gini = 0.0 -->\r\n    <g transform=\"translate(225.581469 125.948156)scale(0.01 -0.01)\">\r\n     <use xlink:href=\"#DejaVuSans-103\"/>\r\n     <use x=\"63.476562\" xlink:href=\"#DejaVuSans-105\"/>\r\n     <use x=\"91.259766\" xlink:href=\"#DejaVuSans-110\"/>\r\n     <use x=\"154.638672\" xlink:href=\"#DejaVuSans-105\"/>\r\n     <use x=\"182.421875\" xlink:href=\"#DejaVuSans-32\"/>\r\n     <use x=\"214.208984\" xlink:href=\"#DejaVuSans-61\"/>\r\n     <use x=\"297.998047\" xlink:href=\"#DejaVuSans-32\"/>\r\n     <use x=\"329.785156\" xlink:href=\"#DejaVuSans-48\"/>\r\n     <use x=\"393.408203\" xlink:href=\"#DejaVuSans-46\"/>\r\n     <use x=\"425.195312\" xlink:href=\"#DejaVuSans-48\"/>\r\n    </g>\r\n    <!-- samples = 4 -->\r\n    <g transform=\"translate(224.892251 127.067937)scale(0.01 -0.01)\">\r\n     <use xlink:href=\"#DejaVuSans-115\"/>\r\n     <use x=\"52.099609\" xlink:href=\"#DejaVuSans-97\"/>\r\n     <use x=\"113.378906\" xlink:href=\"#DejaVuSans-109\"/>\r\n     <use x=\"210.791016\" xlink:href=\"#DejaVuSans-112\"/>\r\n     <use x=\"274.267578\" xlink:href=\"#DejaVuSans-108\"/>\r\n     <use x=\"302.050781\" xlink:href=\"#DejaVuSans-101\"/>\r\n     <use x=\"363.574219\" xlink:href=\"#DejaVuSans-115\"/>\r\n     <use x=\"415.673828\" xlink:href=\"#DejaVuSans-32\"/>\r\n     <use x=\"447.460938\" xlink:href=\"#DejaVuSans-61\"/>\r\n     <use x=\"531.25\" xlink:href=\"#DejaVuSans-32\"/>\r\n     <use x=\"563.037109\" xlink:href=\"#DejaVuSans-52\"/>\r\n    </g>\r\n    <!-- value = [0, 4] -->\r\n    <g transform=\"translate(224.578735 128.187719)scale(0.01 -0.01)\">\r\n     <use xlink:href=\"#DejaVuSans-118\"/>\r\n     <use x=\"59.179688\" xlink:href=\"#DejaVuSans-97\"/>\r\n     <use x=\"120.458984\" xlink:href=\"#DejaVuSans-108\"/>\r\n     <use x=\"148.242188\" xlink:href=\"#DejaVuSans-117\"/>\r\n     <use x=\"211.621094\" xlink:href=\"#DejaVuSans-101\"/>\r\n     <use x=\"273.144531\" xlink:href=\"#DejaVuSans-32\"/>\r\n     <use x=\"304.931641\" xlink:href=\"#DejaVuSans-61\"/>\r\n     <use x=\"388.720703\" xlink:href=\"#DejaVuSans-32\"/>\r\n     <use x=\"420.507812\" xlink:href=\"#DejaVuSans-91\"/>\r\n     <use x=\"459.521484\" xlink:href=\"#DejaVuSans-48\"/>\r\n     <use x=\"523.144531\" xlink:href=\"#DejaVuSans-44\"/>\r\n     <use x=\"554.931641\" xlink:href=\"#DejaVuSans-32\"/>\r\n     <use x=\"586.71875\" xlink:href=\"#DejaVuSans-52\"/>\r\n     <use x=\"650.341797\" xlink:href=\"#DejaVuSans-93\"/>\r\n    </g>\r\n   </g>\r\n   <g id=\"patch_100\">\r\n    <path d=\"M 240.513887 121.424369 \r\nQ 238.31718 114.718979 235.772403 106.951116 \r\n\" style=\"fill:none;stroke:#000000;stroke-linecap:round;\"/>\r\n    <path d=\"M 240.579419 120.981983 \r\nL 240.513887 121.424369 \r\nL 240.199297 121.106512 \r\n\" style=\"fill:none;stroke:#000000;stroke-linecap:round;\"/>\r\n   </g>\r\n   <g id=\"text_50\">\r\n    <g id=\"patch_101\">\r\n     <path d=\"M 238.525544 128.695687 \r\nL 246.019137 128.695687 \r\nL 246.019137 124.888312 \r\nL 238.525544 124.888312 \r\nz\r\n\" style=\"fill:#ffffff;stroke:#000000;stroke-linejoin:miter;\"/>\r\n    </g>\r\n    <!-- gini = 0.0 -->\r\n    <g transform=\"translate(239.828278 125.948156)scale(0.01 -0.01)\">\r\n     <use xlink:href=\"#DejaVuSans-103\"/>\r\n     <use x=\"63.476562\" xlink:href=\"#DejaVuSans-105\"/>\r\n     <use x=\"91.259766\" xlink:href=\"#DejaVuSans-110\"/>\r\n     <use x=\"154.638672\" xlink:href=\"#DejaVuSans-105\"/>\r\n     <use x=\"182.421875\" xlink:href=\"#DejaVuSans-32\"/>\r\n     <use x=\"214.208984\" xlink:href=\"#DejaVuSans-61\"/>\r\n     <use x=\"297.998047\" xlink:href=\"#DejaVuSans-32\"/>\r\n     <use x=\"329.785156\" xlink:href=\"#DejaVuSans-48\"/>\r\n     <use x=\"393.408203\" xlink:href=\"#DejaVuSans-46\"/>\r\n     <use x=\"425.195312\" xlink:href=\"#DejaVuSans-48\"/>\r\n    </g>\r\n    <!-- samples = 1 -->\r\n    <g transform=\"translate(239.139059 127.067937)scale(0.01 -0.01)\">\r\n     <use xlink:href=\"#DejaVuSans-115\"/>\r\n     <use x=\"52.099609\" xlink:href=\"#DejaVuSans-97\"/>\r\n     <use x=\"113.378906\" xlink:href=\"#DejaVuSans-109\"/>\r\n     <use x=\"210.791016\" xlink:href=\"#DejaVuSans-112\"/>\r\n     <use x=\"274.267578\" xlink:href=\"#DejaVuSans-108\"/>\r\n     <use x=\"302.050781\" xlink:href=\"#DejaVuSans-101\"/>\r\n     <use x=\"363.574219\" xlink:href=\"#DejaVuSans-115\"/>\r\n     <use x=\"415.673828\" xlink:href=\"#DejaVuSans-32\"/>\r\n     <use x=\"447.460938\" xlink:href=\"#DejaVuSans-61\"/>\r\n     <use x=\"531.25\" xlink:href=\"#DejaVuSans-32\"/>\r\n     <use x=\"563.037109\" xlink:href=\"#DejaVuSans-49\"/>\r\n    </g>\r\n    <!-- value = [1, 0] -->\r\n    <g transform=\"translate(238.825544 128.187719)scale(0.01 -0.01)\">\r\n     <use xlink:href=\"#DejaVuSans-118\"/>\r\n     <use x=\"59.179688\" xlink:href=\"#DejaVuSans-97\"/>\r\n     <use x=\"120.458984\" xlink:href=\"#DejaVuSans-108\"/>\r\n     <use x=\"148.242188\" xlink:href=\"#DejaVuSans-117\"/>\r\n     <use x=\"211.621094\" xlink:href=\"#DejaVuSans-101\"/>\r\n     <use x=\"273.144531\" xlink:href=\"#DejaVuSans-32\"/>\r\n     <use x=\"304.931641\" xlink:href=\"#DejaVuSans-61\"/>\r\n     <use x=\"388.720703\" xlink:href=\"#DejaVuSans-32\"/>\r\n     <use x=\"420.507812\" xlink:href=\"#DejaVuSans-91\"/>\r\n     <use x=\"459.521484\" xlink:href=\"#DejaVuSans-49\"/>\r\n     <use x=\"523.144531\" xlink:href=\"#DejaVuSans-44\"/>\r\n     <use x=\"554.931641\" xlink:href=\"#DejaVuSans-32\"/>\r\n     <use x=\"586.71875\" xlink:href=\"#DejaVuSans-48\"/>\r\n     <use x=\"650.341797\" xlink:href=\"#DejaVuSans-93\"/>\r\n    </g>\r\n   </g>\r\n   <g id=\"patch_102\">\r\n    <path d=\"M 272.524411 121.424369 \r\nQ 274.721118 114.718979 277.265895 106.951116 \r\n\" style=\"fill:none;stroke:#000000;stroke-linecap:round;\"/>\r\n    <path d=\"M 272.839001 121.106512 \r\nL 272.524411 121.424369 \r\nL 272.458879 120.981983 \r\n\" style=\"fill:none;stroke:#000000;stroke-linecap:round;\"/>\r\n   </g>\r\n   <g id=\"text_51\">\r\n    <g id=\"patch_103\">\r\n     <path d=\"M 267.019161 128.695687 \r\nL 274.512754 128.695687 \r\nL 274.512754 124.888312 \r\nL 267.019161 124.888312 \r\nz\r\n\" style=\"fill:#ffffff;stroke:#000000;stroke-linejoin:miter;\"/>\r\n    </g>\r\n    <!-- gini = 0.0 -->\r\n    <g transform=\"translate(268.321895 125.948156)scale(0.01 -0.01)\">\r\n     <use xlink:href=\"#DejaVuSans-103\"/>\r\n     <use x=\"63.476562\" xlink:href=\"#DejaVuSans-105\"/>\r\n     <use x=\"91.259766\" xlink:href=\"#DejaVuSans-110\"/>\r\n     <use x=\"154.638672\" xlink:href=\"#DejaVuSans-105\"/>\r\n     <use x=\"182.421875\" xlink:href=\"#DejaVuSans-32\"/>\r\n     <use x=\"214.208984\" xlink:href=\"#DejaVuSans-61\"/>\r\n     <use x=\"297.998047\" xlink:href=\"#DejaVuSans-32\"/>\r\n     <use x=\"329.785156\" xlink:href=\"#DejaVuSans-48\"/>\r\n     <use x=\"393.408203\" xlink:href=\"#DejaVuSans-46\"/>\r\n     <use x=\"425.195312\" xlink:href=\"#DejaVuSans-48\"/>\r\n    </g>\r\n    <!-- samples = 5 -->\r\n    <g transform=\"translate(267.632676 127.067937)scale(0.01 -0.01)\">\r\n     <use xlink:href=\"#DejaVuSans-115\"/>\r\n     <use x=\"52.099609\" xlink:href=\"#DejaVuSans-97\"/>\r\n     <use x=\"113.378906\" xlink:href=\"#DejaVuSans-109\"/>\r\n     <use x=\"210.791016\" xlink:href=\"#DejaVuSans-112\"/>\r\n     <use x=\"274.267578\" xlink:href=\"#DejaVuSans-108\"/>\r\n     <use x=\"302.050781\" xlink:href=\"#DejaVuSans-101\"/>\r\n     <use x=\"363.574219\" xlink:href=\"#DejaVuSans-115\"/>\r\n     <use x=\"415.673828\" xlink:href=\"#DejaVuSans-32\"/>\r\n     <use x=\"447.460938\" xlink:href=\"#DejaVuSans-61\"/>\r\n     <use x=\"531.25\" xlink:href=\"#DejaVuSans-32\"/>\r\n     <use x=\"563.037109\" xlink:href=\"#DejaVuSans-53\"/>\r\n    </g>\r\n    <!-- value = [0, 5] -->\r\n    <g transform=\"translate(267.319161 128.187719)scale(0.01 -0.01)\">\r\n     <use xlink:href=\"#DejaVuSans-118\"/>\r\n     <use x=\"59.179688\" xlink:href=\"#DejaVuSans-97\"/>\r\n     <use x=\"120.458984\" xlink:href=\"#DejaVuSans-108\"/>\r\n     <use x=\"148.242188\" xlink:href=\"#DejaVuSans-117\"/>\r\n     <use x=\"211.621094\" xlink:href=\"#DejaVuSans-101\"/>\r\n     <use x=\"273.144531\" xlink:href=\"#DejaVuSans-32\"/>\r\n     <use x=\"304.931641\" xlink:href=\"#DejaVuSans-61\"/>\r\n     <use x=\"388.720703\" xlink:href=\"#DejaVuSans-32\"/>\r\n     <use x=\"420.507812\" xlink:href=\"#DejaVuSans-91\"/>\r\n     <use x=\"459.521484\" xlink:href=\"#DejaVuSans-48\"/>\r\n     <use x=\"523.144531\" xlink:href=\"#DejaVuSans-44\"/>\r\n     <use x=\"554.931641\" xlink:href=\"#DejaVuSans-32\"/>\r\n     <use x=\"586.71875\" xlink:href=\"#DejaVuSans-53\"/>\r\n     <use x=\"650.341797\" xlink:href=\"#DejaVuSans-93\"/>\r\n    </g>\r\n   </g>\r\n   <g id=\"patch_104\">\r\n    <path d=\"M 283.057577 120.823839 \r\nQ 280.959277 114.418833 278.512907 106.951354 \r\n\" style=\"fill:none;stroke:#000000;stroke-linecap:round;\"/>\r\n    <path d=\"M 283.123109 120.381453 \r\nL 283.057577 120.823839 \r\nL 282.742987 120.505982 \r\n\" style=\"fill:none;stroke:#000000;stroke-linecap:round;\"/>\r\n   </g>\r\n   <g id=\"text_52\">\r\n    <g id=\"patch_105\">\r\n     <path d=\"M 278.286203 129.269484 \r\nL 291.739328 129.269484 \r\nL 291.739328 124.286703 \r\nL 278.286203 124.286703 \r\nz\r\n\" style=\"fill:#ffffff;stroke:#000000;stroke-linejoin:miter;\"/>\r\n    </g>\r\n    <!-- ejection_fraction &lt;= 22.5 -->\r\n    <g transform=\"translate(278.586203 125.374359)scale(0.01 -0.01)\">\r\n     <use xlink:href=\"#DejaVuSans-101\"/>\r\n     <use x=\"61.523438\" xlink:href=\"#DejaVuSans-106\"/>\r\n     <use x=\"89.306641\" xlink:href=\"#DejaVuSans-101\"/>\r\n     <use x=\"150.830078\" xlink:href=\"#DejaVuSans-99\"/>\r\n     <use x=\"205.810547\" xlink:href=\"#DejaVuSans-116\"/>\r\n     <use x=\"245.019531\" xlink:href=\"#DejaVuSans-105\"/>\r\n     <use x=\"272.802734\" xlink:href=\"#DejaVuSans-111\"/>\r\n     <use x=\"333.984375\" xlink:href=\"#DejaVuSans-110\"/>\r\n     <use x=\"397.363281\" xlink:href=\"#DejaVuSans-95\"/>\r\n     <use x=\"447.363281\" xlink:href=\"#DejaVuSans-102\"/>\r\n     <use x=\"482.568359\" xlink:href=\"#DejaVuSans-114\"/>\r\n     <use x=\"523.681641\" xlink:href=\"#DejaVuSans-97\"/>\r\n     <use x=\"584.960938\" xlink:href=\"#DejaVuSans-99\"/>\r\n     <use x=\"639.941406\" xlink:href=\"#DejaVuSans-116\"/>\r\n     <use x=\"679.150391\" xlink:href=\"#DejaVuSans-105\"/>\r\n     <use x=\"706.933594\" xlink:href=\"#DejaVuSans-111\"/>\r\n     <use x=\"768.115234\" xlink:href=\"#DejaVuSans-110\"/>\r\n     <use x=\"831.494141\" xlink:href=\"#DejaVuSans-32\"/>\r\n     <use x=\"863.28125\" xlink:href=\"#DejaVuSans-60\"/>\r\n     <use x=\"947.070312\" xlink:href=\"#DejaVuSans-61\"/>\r\n     <use x=\"1030.859375\" xlink:href=\"#DejaVuSans-32\"/>\r\n     <use x=\"1062.646484\" xlink:href=\"#DejaVuSans-50\"/>\r\n     <use x=\"1126.269531\" xlink:href=\"#DejaVuSans-50\"/>\r\n     <use x=\"1189.892578\" xlink:href=\"#DejaVuSans-46\"/>\r\n     <use x=\"1221.679688\" xlink:href=\"#DejaVuSans-53\"/>\r\n    </g>\r\n    <!-- gini = 0.444 -->\r\n    <g transform=\"translate(281.932453 126.521953)scale(0.01 -0.01)\">\r\n     <use xlink:href=\"#DejaVuSans-103\"/>\r\n     <use x=\"63.476562\" xlink:href=\"#DejaVuSans-105\"/>\r\n     <use x=\"91.259766\" xlink:href=\"#DejaVuSans-110\"/>\r\n     <use x=\"154.638672\" xlink:href=\"#DejaVuSans-105\"/>\r\n     <use x=\"182.421875\" xlink:href=\"#DejaVuSans-32\"/>\r\n     <use x=\"214.208984\" xlink:href=\"#DejaVuSans-61\"/>\r\n     <use x=\"297.998047\" xlink:href=\"#DejaVuSans-32\"/>\r\n     <use x=\"329.785156\" xlink:href=\"#DejaVuSans-48\"/>\r\n     <use x=\"393.408203\" xlink:href=\"#DejaVuSans-46\"/>\r\n     <use x=\"425.195312\" xlink:href=\"#DejaVuSans-52\"/>\r\n     <use x=\"488.818359\" xlink:href=\"#DejaVuSans-52\"/>\r\n     <use x=\"552.441406\" xlink:href=\"#DejaVuSans-52\"/>\r\n    </g>\r\n    <!-- samples = 12 -->\r\n    <g transform=\"translate(281.56136 127.641734)scale(0.01 -0.01)\">\r\n     <use xlink:href=\"#DejaVuSans-115\"/>\r\n     <use x=\"52.099609\" xlink:href=\"#DejaVuSans-97\"/>\r\n     <use x=\"113.378906\" xlink:href=\"#DejaVuSans-109\"/>\r\n     <use x=\"210.791016\" xlink:href=\"#DejaVuSans-112\"/>\r\n     <use x=\"274.267578\" xlink:href=\"#DejaVuSans-108\"/>\r\n     <use x=\"302.050781\" xlink:href=\"#DejaVuSans-101\"/>\r\n     <use x=\"363.574219\" xlink:href=\"#DejaVuSans-115\"/>\r\n     <use x=\"415.673828\" xlink:href=\"#DejaVuSans-32\"/>\r\n     <use x=\"447.460938\" xlink:href=\"#DejaVuSans-61\"/>\r\n     <use x=\"531.25\" xlink:href=\"#DejaVuSans-32\"/>\r\n     <use x=\"563.037109\" xlink:href=\"#DejaVuSans-49\"/>\r\n     <use x=\"626.660156\" xlink:href=\"#DejaVuSans-50\"/>\r\n    </g>\r\n    <!-- value = [4, 8] -->\r\n    <g transform=\"translate(281.565969 128.761516)scale(0.01 -0.01)\">\r\n     <use xlink:href=\"#DejaVuSans-118\"/>\r\n     <use x=\"59.179688\" xlink:href=\"#DejaVuSans-97\"/>\r\n     <use x=\"120.458984\" xlink:href=\"#DejaVuSans-108\"/>\r\n     <use x=\"148.242188\" xlink:href=\"#DejaVuSans-117\"/>\r\n     <use x=\"211.621094\" xlink:href=\"#DejaVuSans-101\"/>\r\n     <use x=\"273.144531\" xlink:href=\"#DejaVuSans-32\"/>\r\n     <use x=\"304.931641\" xlink:href=\"#DejaVuSans-61\"/>\r\n     <use x=\"388.720703\" xlink:href=\"#DejaVuSans-32\"/>\r\n     <use x=\"420.507812\" xlink:href=\"#DejaVuSans-91\"/>\r\n     <use x=\"459.521484\" xlink:href=\"#DejaVuSans-52\"/>\r\n     <use x=\"523.144531\" xlink:href=\"#DejaVuSans-44\"/>\r\n     <use x=\"554.931641\" xlink:href=\"#DejaVuSans-32\"/>\r\n     <use x=\"586.71875\" xlink:href=\"#DejaVuSans-56\"/>\r\n     <use x=\"650.341797\" xlink:href=\"#DejaVuSans-93\"/>\r\n    </g>\r\n   </g>\r\n   <g id=\"patch_106\">\r\n    <path d=\"M 315.264836 121.424369 \r\nQ 317.461544 114.718979 320.00632 106.951116 \r\n\" style=\"fill:none;stroke:#000000;stroke-linecap:round;\"/>\r\n    <path d=\"M 315.579426 121.106512 \r\nL 315.264836 121.424369 \r\nL 315.199304 120.981983 \r\n\" style=\"fill:none;stroke:#000000;stroke-linecap:round;\"/>\r\n   </g>\r\n   <g id=\"text_53\">\r\n    <g id=\"patch_107\">\r\n     <path d=\"M 309.441461 128.695687 \r\nL 317.571305 128.695687 \r\nL 317.571305 124.888312 \r\nL 309.441461 124.888312 \r\nz\r\n\" style=\"fill:#ffffff;stroke:#000000;stroke-linejoin:miter;\"/>\r\n    </g>\r\n    <!-- gini = 0.0 -->\r\n    <g transform=\"translate(311.06232 125.948156)scale(0.01 -0.01)\">\r\n     <use xlink:href=\"#DejaVuSans-103\"/>\r\n     <use x=\"63.476562\" xlink:href=\"#DejaVuSans-105\"/>\r\n     <use x=\"91.259766\" xlink:href=\"#DejaVuSans-110\"/>\r\n     <use x=\"154.638672\" xlink:href=\"#DejaVuSans-105\"/>\r\n     <use x=\"182.421875\" xlink:href=\"#DejaVuSans-32\"/>\r\n     <use x=\"214.208984\" xlink:href=\"#DejaVuSans-61\"/>\r\n     <use x=\"297.998047\" xlink:href=\"#DejaVuSans-32\"/>\r\n     <use x=\"329.785156\" xlink:href=\"#DejaVuSans-48\"/>\r\n     <use x=\"393.408203\" xlink:href=\"#DejaVuSans-46\"/>\r\n     <use x=\"425.195312\" xlink:href=\"#DejaVuSans-48\"/>\r\n    </g>\r\n    <!-- samples = 10 -->\r\n    <g transform=\"translate(310.054977 127.067937)scale(0.01 -0.01)\">\r\n     <use xlink:href=\"#DejaVuSans-115\"/>\r\n     <use x=\"52.099609\" xlink:href=\"#DejaVuSans-97\"/>\r\n     <use x=\"113.378906\" xlink:href=\"#DejaVuSans-109\"/>\r\n     <use x=\"210.791016\" xlink:href=\"#DejaVuSans-112\"/>\r\n     <use x=\"274.267578\" xlink:href=\"#DejaVuSans-108\"/>\r\n     <use x=\"302.050781\" xlink:href=\"#DejaVuSans-101\"/>\r\n     <use x=\"363.574219\" xlink:href=\"#DejaVuSans-115\"/>\r\n     <use x=\"415.673828\" xlink:href=\"#DejaVuSans-32\"/>\r\n     <use x=\"447.460938\" xlink:href=\"#DejaVuSans-61\"/>\r\n     <use x=\"531.25\" xlink:href=\"#DejaVuSans-32\"/>\r\n     <use x=\"563.037109\" xlink:href=\"#DejaVuSans-49\"/>\r\n     <use x=\"626.660156\" xlink:href=\"#DejaVuSans-48\"/>\r\n    </g>\r\n    <!-- value = [10, 0] -->\r\n    <g transform=\"translate(309.741461 128.187719)scale(0.01 -0.01)\">\r\n     <use xlink:href=\"#DejaVuSans-118\"/>\r\n     <use x=\"59.179688\" xlink:href=\"#DejaVuSans-97\"/>\r\n     <use x=\"120.458984\" xlink:href=\"#DejaVuSans-108\"/>\r\n     <use x=\"148.242188\" xlink:href=\"#DejaVuSans-117\"/>\r\n     <use x=\"211.621094\" xlink:href=\"#DejaVuSans-101\"/>\r\n     <use x=\"273.144531\" xlink:href=\"#DejaVuSans-32\"/>\r\n     <use x=\"304.931641\" xlink:href=\"#DejaVuSans-61\"/>\r\n     <use x=\"388.720703\" xlink:href=\"#DejaVuSans-32\"/>\r\n     <use x=\"420.507812\" xlink:href=\"#DejaVuSans-91\"/>\r\n     <use x=\"459.521484\" xlink:href=\"#DejaVuSans-49\"/>\r\n     <use x=\"523.144531\" xlink:href=\"#DejaVuSans-48\"/>\r\n     <use x=\"586.767578\" xlink:href=\"#DejaVuSans-44\"/>\r\n     <use x=\"618.554688\" xlink:href=\"#DejaVuSans-32\"/>\r\n     <use x=\"650.341797\" xlink:href=\"#DejaVuSans-48\"/>\r\n     <use x=\"713.964844\" xlink:href=\"#DejaVuSans-93\"/>\r\n    </g>\r\n   </g>\r\n   <g id=\"patch_108\">\r\n    <path d=\"M 325.810506 120.862005 \r\nQ 323.705311 114.435953 321.252046 106.947428 \r\n\" style=\"fill:none;stroke:#000000;stroke-linecap:round;\"/>\r\n    <path d=\"M 325.876038 120.419619 \r\nL 325.810506 120.862005 \r\nL 325.495916 120.544148 \r\n\" style=\"fill:none;stroke:#000000;stroke-linecap:round;\"/>\r\n   </g>\r\n   <g id=\"text_54\">\r\n    <g id=\"patch_109\">\r\n     <path d=\"M 321.105926 129.255578 \r\nL 334.400457 129.255578 \r\nL 334.400457 124.328422 \r\nL 321.105926 124.328422 \r\nz\r\n\" style=\"fill:#ffffff;stroke:#000000;stroke-linejoin:miter;\"/>\r\n    </g>\r\n    <!-- platelets &lt;= 306679.016 -->\r\n    <g transform=\"translate(321.405926 125.388266)scale(0.01 -0.01)\">\r\n     <use xlink:href=\"#DejaVuSans-112\"/>\r\n     <use x=\"63.476562\" xlink:href=\"#DejaVuSans-108\"/>\r\n     <use x=\"91.259766\" xlink:href=\"#DejaVuSans-97\"/>\r\n     <use x=\"152.539062\" xlink:href=\"#DejaVuSans-116\"/>\r\n     <use x=\"191.748047\" xlink:href=\"#DejaVuSans-101\"/>\r\n     <use x=\"253.271484\" xlink:href=\"#DejaVuSans-108\"/>\r\n     <use x=\"281.054688\" xlink:href=\"#DejaVuSans-101\"/>\r\n     <use x=\"342.578125\" xlink:href=\"#DejaVuSans-116\"/>\r\n     <use x=\"381.787109\" xlink:href=\"#DejaVuSans-115\"/>\r\n     <use x=\"433.886719\" xlink:href=\"#DejaVuSans-32\"/>\r\n     <use x=\"465.673828\" xlink:href=\"#DejaVuSans-60\"/>\r\n     <use x=\"549.462891\" xlink:href=\"#DejaVuSans-61\"/>\r\n     <use x=\"633.251953\" xlink:href=\"#DejaVuSans-32\"/>\r\n     <use x=\"665.039062\" xlink:href=\"#DejaVuSans-51\"/>\r\n     <use x=\"728.662109\" xlink:href=\"#DejaVuSans-48\"/>\r\n     <use x=\"792.285156\" xlink:href=\"#DejaVuSans-54\"/>\r\n     <use x=\"855.908203\" xlink:href=\"#DejaVuSans-54\"/>\r\n     <use x=\"919.53125\" xlink:href=\"#DejaVuSans-55\"/>\r\n     <use x=\"983.154297\" xlink:href=\"#DejaVuSans-57\"/>\r\n     <use x=\"1046.777344\" xlink:href=\"#DejaVuSans-46\"/>\r\n     <use x=\"1078.564453\" xlink:href=\"#DejaVuSans-48\"/>\r\n     <use x=\"1142.1875\" xlink:href=\"#DejaVuSans-49\"/>\r\n     <use x=\"1205.810547\" xlink:href=\"#DejaVuSans-54\"/>\r\n    </g>\r\n    <!-- gini = 0.5 -->\r\n    <g transform=\"translate(325.309129 126.508047)scale(0.01 -0.01)\">\r\n     <use xlink:href=\"#DejaVuSans-103\"/>\r\n     <use x=\"63.476562\" xlink:href=\"#DejaVuSans-105\"/>\r\n     <use x=\"91.259766\" xlink:href=\"#DejaVuSans-110\"/>\r\n     <use x=\"154.638672\" xlink:href=\"#DejaVuSans-105\"/>\r\n     <use x=\"182.421875\" xlink:href=\"#DejaVuSans-32\"/>\r\n     <use x=\"214.208984\" xlink:href=\"#DejaVuSans-61\"/>\r\n     <use x=\"297.998047\" xlink:href=\"#DejaVuSans-32\"/>\r\n     <use x=\"329.785156\" xlink:href=\"#DejaVuSans-48\"/>\r\n     <use x=\"393.408203\" xlink:href=\"#DejaVuSans-46\"/>\r\n     <use x=\"425.195312\" xlink:href=\"#DejaVuSans-53\"/>\r\n    </g>\r\n    <!-- samples = 6 -->\r\n    <g transform=\"translate(324.61991 127.627828)scale(0.01 -0.01)\">\r\n     <use xlink:href=\"#DejaVuSans-115\"/>\r\n     <use x=\"52.099609\" xlink:href=\"#DejaVuSans-97\"/>\r\n     <use x=\"113.378906\" xlink:href=\"#DejaVuSans-109\"/>\r\n     <use x=\"210.791016\" xlink:href=\"#DejaVuSans-112\"/>\r\n     <use x=\"274.267578\" xlink:href=\"#DejaVuSans-108\"/>\r\n     <use x=\"302.050781\" xlink:href=\"#DejaVuSans-101\"/>\r\n     <use x=\"363.574219\" xlink:href=\"#DejaVuSans-115\"/>\r\n     <use x=\"415.673828\" xlink:href=\"#DejaVuSans-32\"/>\r\n     <use x=\"447.460938\" xlink:href=\"#DejaVuSans-61\"/>\r\n     <use x=\"531.25\" xlink:href=\"#DejaVuSans-32\"/>\r\n     <use x=\"563.037109\" xlink:href=\"#DejaVuSans-54\"/>\r\n    </g>\r\n    <!-- value = [3, 3] -->\r\n    <g transform=\"translate(324.306395 128.747609)scale(0.01 -0.01)\">\r\n     <use xlink:href=\"#DejaVuSans-118\"/>\r\n     <use x=\"59.179688\" xlink:href=\"#DejaVuSans-97\"/>\r\n     <use x=\"120.458984\" xlink:href=\"#DejaVuSans-108\"/>\r\n     <use x=\"148.242188\" xlink:href=\"#DejaVuSans-117\"/>\r\n     <use x=\"211.621094\" xlink:href=\"#DejaVuSans-101\"/>\r\n     <use x=\"273.144531\" xlink:href=\"#DejaVuSans-32\"/>\r\n     <use x=\"304.931641\" xlink:href=\"#DejaVuSans-61\"/>\r\n     <use x=\"388.720703\" xlink:href=\"#DejaVuSans-32\"/>\r\n     <use x=\"420.507812\" xlink:href=\"#DejaVuSans-91\"/>\r\n     <use x=\"459.521484\" xlink:href=\"#DejaVuSans-51\"/>\r\n     <use x=\"523.144531\" xlink:href=\"#DejaVuSans-44\"/>\r\n     <use x=\"554.931641\" xlink:href=\"#DejaVuSans-32\"/>\r\n     <use x=\"586.71875\" xlink:href=\"#DejaVuSans-51\"/>\r\n     <use x=\"650.341797\" xlink:href=\"#DejaVuSans-93\"/>\r\n    </g>\r\n   </g>\r\n   <g id=\"patch_110\">\r\n    <path d=\"M 23.205262 99.680369 \r\nQ 25.401969 92.974979 27.946746 85.207116 \r\n\" style=\"fill:none;stroke:#000000;stroke-linecap:round;\"/>\r\n    <path d=\"M 23.519852 99.362512 \r\nL 23.205262 99.680369 \r\nL 23.13973 99.237983 \r\n\" style=\"fill:none;stroke:#000000;stroke-linecap:round;\"/>\r\n   </g>\r\n   <g id=\"text_55\">\r\n    <g id=\"patch_111\">\r\n     <path d=\"M 17.700012 106.951687 \r\nL 25.193605 106.951687 \r\nL 25.193605 103.144312 \r\nL 17.700012 103.144312 \r\nz\r\n\" style=\"fill:#ffffff;stroke:#000000;stroke-linejoin:miter;\"/>\r\n    </g>\r\n    <!-- gini = 0.0 -->\r\n    <g transform=\"translate(19.002746 104.204156)scale(0.01 -0.01)\">\r\n     <use xlink:href=\"#DejaVuSans-103\"/>\r\n     <use x=\"63.476562\" xlink:href=\"#DejaVuSans-105\"/>\r\n     <use x=\"91.259766\" xlink:href=\"#DejaVuSans-110\"/>\r\n     <use x=\"154.638672\" xlink:href=\"#DejaVuSans-105\"/>\r\n     <use x=\"182.421875\" xlink:href=\"#DejaVuSans-32\"/>\r\n     <use x=\"214.208984\" xlink:href=\"#DejaVuSans-61\"/>\r\n     <use x=\"297.998047\" xlink:href=\"#DejaVuSans-32\"/>\r\n     <use x=\"329.785156\" xlink:href=\"#DejaVuSans-48\"/>\r\n     <use x=\"393.408203\" xlink:href=\"#DejaVuSans-46\"/>\r\n     <use x=\"425.195312\" xlink:href=\"#DejaVuSans-48\"/>\r\n    </g>\r\n    <!-- samples = 4 -->\r\n    <g transform=\"translate(18.313527 105.323937)scale(0.01 -0.01)\">\r\n     <use xlink:href=\"#DejaVuSans-115\"/>\r\n     <use x=\"52.099609\" xlink:href=\"#DejaVuSans-97\"/>\r\n     <use x=\"113.378906\" xlink:href=\"#DejaVuSans-109\"/>\r\n     <use x=\"210.791016\" xlink:href=\"#DejaVuSans-112\"/>\r\n     <use x=\"274.267578\" xlink:href=\"#DejaVuSans-108\"/>\r\n     <use x=\"302.050781\" xlink:href=\"#DejaVuSans-101\"/>\r\n     <use x=\"363.574219\" xlink:href=\"#DejaVuSans-115\"/>\r\n     <use x=\"415.673828\" xlink:href=\"#DejaVuSans-32\"/>\r\n     <use x=\"447.460938\" xlink:href=\"#DejaVuSans-61\"/>\r\n     <use x=\"531.25\" xlink:href=\"#DejaVuSans-32\"/>\r\n     <use x=\"563.037109\" xlink:href=\"#DejaVuSans-52\"/>\r\n    </g>\r\n    <!-- value = [4, 0] -->\r\n    <g transform=\"translate(18.000012 106.443719)scale(0.01 -0.01)\">\r\n     <use xlink:href=\"#DejaVuSans-118\"/>\r\n     <use x=\"59.179688\" xlink:href=\"#DejaVuSans-97\"/>\r\n     <use x=\"120.458984\" xlink:href=\"#DejaVuSans-108\"/>\r\n     <use x=\"148.242188\" xlink:href=\"#DejaVuSans-117\"/>\r\n     <use x=\"211.621094\" xlink:href=\"#DejaVuSans-101\"/>\r\n     <use x=\"273.144531\" xlink:href=\"#DejaVuSans-32\"/>\r\n     <use x=\"304.931641\" xlink:href=\"#DejaVuSans-61\"/>\r\n     <use x=\"388.720703\" xlink:href=\"#DejaVuSans-32\"/>\r\n     <use x=\"420.507812\" xlink:href=\"#DejaVuSans-91\"/>\r\n     <use x=\"459.521484\" xlink:href=\"#DejaVuSans-52\"/>\r\n     <use x=\"523.144531\" xlink:href=\"#DejaVuSans-44\"/>\r\n     <use x=\"554.931641\" xlink:href=\"#DejaVuSans-32\"/>\r\n     <use x=\"586.71875\" xlink:href=\"#DejaVuSans-48\"/>\r\n     <use x=\"650.341797\" xlink:href=\"#DejaVuSans-93\"/>\r\n    </g>\r\n   </g>\r\n   <g id=\"patch_112\">\r\n    <path d=\"M 33.738428 99.079839 \r\nQ 31.640128 92.674833 29.193758 85.207354 \r\n\" style=\"fill:none;stroke:#000000;stroke-linecap:round;\"/>\r\n    <path d=\"M 33.80396 98.637453 \r\nL 33.738428 99.079839 \r\nL 33.423838 98.761982 \r\n\" style=\"fill:none;stroke:#000000;stroke-linecap:round;\"/>\r\n   </g>\r\n   <g id=\"text_56\">\r\n    <g id=\"patch_113\">\r\n     <path d=\"M 28.285648 107.525484 \r\nL 43.101586 107.525484 \r\nL 43.101586 102.542703 \r\nL 28.285648 102.542703 \r\nz\r\n\" style=\"fill:#ffffff;stroke:#000000;stroke-linejoin:miter;\"/>\r\n    </g>\r\n    <!-- high_blood_pressure &lt;= 0.5 -->\r\n    <g transform=\"translate(28.585648 103.630359)scale(0.01 -0.01)\">\r\n     <use xlink:href=\"#DejaVuSans-104\"/>\r\n     <use x=\"63.378906\" xlink:href=\"#DejaVuSans-105\"/>\r\n     <use x=\"91.162109\" xlink:href=\"#DejaVuSans-103\"/>\r\n     <use x=\"154.638672\" xlink:href=\"#DejaVuSans-104\"/>\r\n     <use x=\"218.017578\" xlink:href=\"#DejaVuSans-95\"/>\r\n     <use x=\"268.017578\" xlink:href=\"#DejaVuSans-98\"/>\r\n     <use x=\"331.494141\" xlink:href=\"#DejaVuSans-108\"/>\r\n     <use x=\"359.277344\" xlink:href=\"#DejaVuSans-111\"/>\r\n     <use x=\"420.458984\" xlink:href=\"#DejaVuSans-111\"/>\r\n     <use x=\"481.640625\" xlink:href=\"#DejaVuSans-100\"/>\r\n     <use x=\"545.117188\" xlink:href=\"#DejaVuSans-95\"/>\r\n     <use x=\"595.117188\" xlink:href=\"#DejaVuSans-112\"/>\r\n     <use x=\"658.59375\" xlink:href=\"#DejaVuSans-114\"/>\r\n     <use x=\"699.675781\" xlink:href=\"#DejaVuSans-101\"/>\r\n     <use x=\"761.199219\" xlink:href=\"#DejaVuSans-115\"/>\r\n     <use x=\"813.298828\" xlink:href=\"#DejaVuSans-115\"/>\r\n     <use x=\"865.398438\" xlink:href=\"#DejaVuSans-117\"/>\r\n     <use x=\"928.777344\" xlink:href=\"#DejaVuSans-114\"/>\r\n     <use x=\"969.859375\" xlink:href=\"#DejaVuSans-101\"/>\r\n     <use x=\"1031.382812\" xlink:href=\"#DejaVuSans-32\"/>\r\n     <use x=\"1063.169922\" xlink:href=\"#DejaVuSans-60\"/>\r\n     <use x=\"1146.958984\" xlink:href=\"#DejaVuSans-61\"/>\r\n     <use x=\"1230.748047\" xlink:href=\"#DejaVuSans-32\"/>\r\n     <use x=\"1262.535156\" xlink:href=\"#DejaVuSans-48\"/>\r\n     <use x=\"1326.158203\" xlink:href=\"#DejaVuSans-46\"/>\r\n     <use x=\"1357.945312\" xlink:href=\"#DejaVuSans-53\"/>\r\n    </g>\r\n    <!-- gini = 0.444 -->\r\n    <g transform=\"translate(32.613305 104.777953)scale(0.01 -0.01)\">\r\n     <use xlink:href=\"#DejaVuSans-103\"/>\r\n     <use x=\"63.476562\" xlink:href=\"#DejaVuSans-105\"/>\r\n     <use x=\"91.259766\" xlink:href=\"#DejaVuSans-110\"/>\r\n     <use x=\"154.638672\" xlink:href=\"#DejaVuSans-105\"/>\r\n     <use x=\"182.421875\" xlink:href=\"#DejaVuSans-32\"/>\r\n     <use x=\"214.208984\" xlink:href=\"#DejaVuSans-61\"/>\r\n     <use x=\"297.998047\" xlink:href=\"#DejaVuSans-32\"/>\r\n     <use x=\"329.785156\" xlink:href=\"#DejaVuSans-48\"/>\r\n     <use x=\"393.408203\" xlink:href=\"#DejaVuSans-46\"/>\r\n     <use x=\"425.195312\" xlink:href=\"#DejaVuSans-52\"/>\r\n     <use x=\"488.818359\" xlink:href=\"#DejaVuSans-52\"/>\r\n     <use x=\"552.441406\" xlink:href=\"#DejaVuSans-52\"/>\r\n    </g>\r\n    <!-- samples = 3 -->\r\n    <g transform=\"translate(32.560336 105.897734)scale(0.01 -0.01)\">\r\n     <use xlink:href=\"#DejaVuSans-115\"/>\r\n     <use x=\"52.099609\" xlink:href=\"#DejaVuSans-97\"/>\r\n     <use x=\"113.378906\" xlink:href=\"#DejaVuSans-109\"/>\r\n     <use x=\"210.791016\" xlink:href=\"#DejaVuSans-112\"/>\r\n     <use x=\"274.267578\" xlink:href=\"#DejaVuSans-108\"/>\r\n     <use x=\"302.050781\" xlink:href=\"#DejaVuSans-101\"/>\r\n     <use x=\"363.574219\" xlink:href=\"#DejaVuSans-115\"/>\r\n     <use x=\"415.673828\" xlink:href=\"#DejaVuSans-32\"/>\r\n     <use x=\"447.460938\" xlink:href=\"#DejaVuSans-61\"/>\r\n     <use x=\"531.25\" xlink:href=\"#DejaVuSans-32\"/>\r\n     <use x=\"563.037109\" xlink:href=\"#DejaVuSans-51\"/>\r\n    </g>\r\n    <!-- value = [1, 2] -->\r\n    <g transform=\"translate(32.24682 107.017516)scale(0.01 -0.01)\">\r\n     <use xlink:href=\"#DejaVuSans-118\"/>\r\n     <use x=\"59.179688\" xlink:href=\"#DejaVuSans-97\"/>\r\n     <use x=\"120.458984\" xlink:href=\"#DejaVuSans-108\"/>\r\n     <use x=\"148.242188\" xlink:href=\"#DejaVuSans-117\"/>\r\n     <use x=\"211.621094\" xlink:href=\"#DejaVuSans-101\"/>\r\n     <use x=\"273.144531\" xlink:href=\"#DejaVuSans-32\"/>\r\n     <use x=\"304.931641\" xlink:href=\"#DejaVuSans-61\"/>\r\n     <use x=\"388.720703\" xlink:href=\"#DejaVuSans-32\"/>\r\n     <use x=\"420.507812\" xlink:href=\"#DejaVuSans-91\"/>\r\n     <use x=\"459.521484\" xlink:href=\"#DejaVuSans-49\"/>\r\n     <use x=\"523.144531\" xlink:href=\"#DejaVuSans-44\"/>\r\n     <use x=\"554.931641\" xlink:href=\"#DejaVuSans-32\"/>\r\n     <use x=\"586.71875\" xlink:href=\"#DejaVuSans-50\"/>\r\n     <use x=\"650.341797\" xlink:href=\"#DejaVuSans-93\"/>\r\n    </g>\r\n   </g>\r\n   <g id=\"patch_114\">\r\n    <path d=\"M 67.865847 99.433566 \r\nQ 72.296269 92.671694 77.339425 84.974645 \r\n\" style=\"fill:none;stroke:#000000;stroke-linecap:round;\"/>\r\n    <path d=\"M 68.252355 99.208596 \r\nL 67.865847 99.433566 \r\nL 67.917776 98.989378 \r\n\" style=\"fill:none;stroke:#000000;stroke-linecap:round;\"/>\r\n   </g>\r\n   <g id=\"text_57\">\r\n    <g id=\"patch_115\">\r\n     <path d=\"M 56.779265 107.525484 \r\nL 71.595203 107.525484 \r\nL 71.595203 102.542703 \r\nL 56.779265 102.542703 \r\nz\r\n\" style=\"fill:#ffffff;stroke:#000000;stroke-linejoin:miter;\"/>\r\n    </g>\r\n    <!-- high_blood_pressure &lt;= 0.5 -->\r\n    <g transform=\"translate(57.079265 103.630359)scale(0.01 -0.01)\">\r\n     <use xlink:href=\"#DejaVuSans-104\"/>\r\n     <use x=\"63.378906\" xlink:href=\"#DejaVuSans-105\"/>\r\n     <use x=\"91.162109\" xlink:href=\"#DejaVuSans-103\"/>\r\n     <use x=\"154.638672\" xlink:href=\"#DejaVuSans-104\"/>\r\n     <use x=\"218.017578\" xlink:href=\"#DejaVuSans-95\"/>\r\n     <use x=\"268.017578\" xlink:href=\"#DejaVuSans-98\"/>\r\n     <use x=\"331.494141\" xlink:href=\"#DejaVuSans-108\"/>\r\n     <use x=\"359.277344\" xlink:href=\"#DejaVuSans-111\"/>\r\n     <use x=\"420.458984\" xlink:href=\"#DejaVuSans-111\"/>\r\n     <use x=\"481.640625\" xlink:href=\"#DejaVuSans-100\"/>\r\n     <use x=\"545.117188\" xlink:href=\"#DejaVuSans-95\"/>\r\n     <use x=\"595.117188\" xlink:href=\"#DejaVuSans-112\"/>\r\n     <use x=\"658.59375\" xlink:href=\"#DejaVuSans-114\"/>\r\n     <use x=\"699.675781\" xlink:href=\"#DejaVuSans-101\"/>\r\n     <use x=\"761.199219\" xlink:href=\"#DejaVuSans-115\"/>\r\n     <use x=\"813.298828\" xlink:href=\"#DejaVuSans-115\"/>\r\n     <use x=\"865.398438\" xlink:href=\"#DejaVuSans-117\"/>\r\n     <use x=\"928.777344\" xlink:href=\"#DejaVuSans-114\"/>\r\n     <use x=\"969.859375\" xlink:href=\"#DejaVuSans-101\"/>\r\n     <use x=\"1031.382812\" xlink:href=\"#DejaVuSans-32\"/>\r\n     <use x=\"1063.169922\" xlink:href=\"#DejaVuSans-60\"/>\r\n     <use x=\"1146.958984\" xlink:href=\"#DejaVuSans-61\"/>\r\n     <use x=\"1230.748047\" xlink:href=\"#DejaVuSans-32\"/>\r\n     <use x=\"1262.535156\" xlink:href=\"#DejaVuSans-48\"/>\r\n     <use x=\"1326.158203\" xlink:href=\"#DejaVuSans-46\"/>\r\n     <use x=\"1357.945312\" xlink:href=\"#DejaVuSans-53\"/>\r\n    </g>\r\n    <!-- gini = 0.5 -->\r\n    <g transform=\"translate(61.743172 104.777953)scale(0.01 -0.01)\">\r\n     <use xlink:href=\"#DejaVuSans-103\"/>\r\n     <use x=\"63.476562\" xlink:href=\"#DejaVuSans-105\"/>\r\n     <use x=\"91.259766\" xlink:href=\"#DejaVuSans-110\"/>\r\n     <use x=\"154.638672\" xlink:href=\"#DejaVuSans-105\"/>\r\n     <use x=\"182.421875\" xlink:href=\"#DejaVuSans-32\"/>\r\n     <use x=\"214.208984\" xlink:href=\"#DejaVuSans-61\"/>\r\n     <use x=\"297.998047\" xlink:href=\"#DejaVuSans-32\"/>\r\n     <use x=\"329.785156\" xlink:href=\"#DejaVuSans-48\"/>\r\n     <use x=\"393.408203\" xlink:href=\"#DejaVuSans-46\"/>\r\n     <use x=\"425.195312\" xlink:href=\"#DejaVuSans-53\"/>\r\n    </g>\r\n    <!-- samples = 2 -->\r\n    <g transform=\"translate(61.053953 105.897734)scale(0.01 -0.01)\">\r\n     <use xlink:href=\"#DejaVuSans-115\"/>\r\n     <use x=\"52.099609\" xlink:href=\"#DejaVuSans-97\"/>\r\n     <use x=\"113.378906\" xlink:href=\"#DejaVuSans-109\"/>\r\n     <use x=\"210.791016\" xlink:href=\"#DejaVuSans-112\"/>\r\n     <use x=\"274.267578\" xlink:href=\"#DejaVuSans-108\"/>\r\n     <use x=\"302.050781\" xlink:href=\"#DejaVuSans-101\"/>\r\n     <use x=\"363.574219\" xlink:href=\"#DejaVuSans-115\"/>\r\n     <use x=\"415.673828\" xlink:href=\"#DejaVuSans-32\"/>\r\n     <use x=\"447.460938\" xlink:href=\"#DejaVuSans-61\"/>\r\n     <use x=\"531.25\" xlink:href=\"#DejaVuSans-32\"/>\r\n     <use x=\"563.037109\" xlink:href=\"#DejaVuSans-50\"/>\r\n    </g>\r\n    <!-- value = [1, 1] -->\r\n    <g transform=\"translate(60.740437 107.017516)scale(0.01 -0.01)\">\r\n     <use xlink:href=\"#DejaVuSans-118\"/>\r\n     <use x=\"59.179688\" xlink:href=\"#DejaVuSans-97\"/>\r\n     <use x=\"120.458984\" xlink:href=\"#DejaVuSans-108\"/>\r\n     <use x=\"148.242188\" xlink:href=\"#DejaVuSans-117\"/>\r\n     <use x=\"211.621094\" xlink:href=\"#DejaVuSans-101\"/>\r\n     <use x=\"273.144531\" xlink:href=\"#DejaVuSans-32\"/>\r\n     <use x=\"304.931641\" xlink:href=\"#DejaVuSans-61\"/>\r\n     <use x=\"388.720703\" xlink:href=\"#DejaVuSans-32\"/>\r\n     <use x=\"420.507812\" xlink:href=\"#DejaVuSans-91\"/>\r\n     <use x=\"459.521484\" xlink:href=\"#DejaVuSans-49\"/>\r\n     <use x=\"523.144531\" xlink:href=\"#DejaVuSans-44\"/>\r\n     <use x=\"554.931641\" xlink:href=\"#DejaVuSans-32\"/>\r\n     <use x=\"586.71875\" xlink:href=\"#DejaVuSans-49\"/>\r\n     <use x=\"650.341797\" xlink:href=\"#DejaVuSans-93\"/>\r\n    </g>\r\n   </g>\r\n   <g id=\"patch_116\">\r\n    <path d=\"M 89.030585 99.47683 \r\nQ 84.587377 92.695444 79.531435 84.978881 \r\n\" style=\"fill:none;stroke:#000000;stroke-linecap:round;\"/>\r\n    <path d=\"M 88.978656 99.032642 \r\nL 89.030585 99.47683 \r\nL 88.644077 99.25186 \r\n\" style=\"fill:none;stroke:#000000;stroke-linecap:round;\"/>\r\n   </g>\r\n   <g id=\"text_58\">\r\n    <g id=\"patch_117\">\r\n     <path d=\"M 88.27796 107.511578 \r\nL 97.083742 107.511578 \r\nL 97.083742 102.584422 \r\nL 88.27796 102.584422 \r\nz\r\n\" style=\"fill:#ffffff;stroke:#000000;stroke-linejoin:miter;\"/>\r\n    </g>\r\n    <!-- diabetes &lt;= 0.5 -->\r\n    <g transform=\"translate(88.57796 103.644266)scale(0.01 -0.01)\">\r\n     <use xlink:href=\"#DejaVuSans-100\"/>\r\n     <use x=\"63.476562\" xlink:href=\"#DejaVuSans-105\"/>\r\n     <use x=\"91.259766\" xlink:href=\"#DejaVuSans-97\"/>\r\n     <use x=\"152.539062\" xlink:href=\"#DejaVuSans-98\"/>\r\n     <use x=\"216.015625\" xlink:href=\"#DejaVuSans-101\"/>\r\n     <use x=\"277.539062\" xlink:href=\"#DejaVuSans-116\"/>\r\n     <use x=\"316.748047\" xlink:href=\"#DejaVuSans-101\"/>\r\n     <use x=\"378.271484\" xlink:href=\"#DejaVuSans-115\"/>\r\n     <use x=\"430.371094\" xlink:href=\"#DejaVuSans-32\"/>\r\n     <use x=\"462.158203\" xlink:href=\"#DejaVuSans-60\"/>\r\n     <use x=\"545.947266\" xlink:href=\"#DejaVuSans-61\"/>\r\n     <use x=\"629.736328\" xlink:href=\"#DejaVuSans-32\"/>\r\n     <use x=\"661.523438\" xlink:href=\"#DejaVuSans-48\"/>\r\n     <use x=\"725.146484\" xlink:href=\"#DejaVuSans-46\"/>\r\n     <use x=\"756.933594\" xlink:href=\"#DejaVuSans-53\"/>\r\n    </g>\r\n    <!-- gini = 0.127 -->\r\n    <g transform=\"translate(89.600539 104.764047)scale(0.01 -0.01)\">\r\n     <use xlink:href=\"#DejaVuSans-103\"/>\r\n     <use x=\"63.476562\" xlink:href=\"#DejaVuSans-105\"/>\r\n     <use x=\"91.259766\" xlink:href=\"#DejaVuSans-110\"/>\r\n     <use x=\"154.638672\" xlink:href=\"#DejaVuSans-105\"/>\r\n     <use x=\"182.421875\" xlink:href=\"#DejaVuSans-32\"/>\r\n     <use x=\"214.208984\" xlink:href=\"#DejaVuSans-61\"/>\r\n     <use x=\"297.998047\" xlink:href=\"#DejaVuSans-32\"/>\r\n     <use x=\"329.785156\" xlink:href=\"#DejaVuSans-48\"/>\r\n     <use x=\"393.408203\" xlink:href=\"#DejaVuSans-46\"/>\r\n     <use x=\"425.195312\" xlink:href=\"#DejaVuSans-49\"/>\r\n     <use x=\"488.818359\" xlink:href=\"#DejaVuSans-50\"/>\r\n     <use x=\"552.441406\" xlink:href=\"#DejaVuSans-55\"/>\r\n    </g>\r\n    <!-- samples = 44 -->\r\n    <g transform=\"translate(89.229445 105.883828)scale(0.01 -0.01)\">\r\n     <use xlink:href=\"#DejaVuSans-115\"/>\r\n     <use x=\"52.099609\" xlink:href=\"#DejaVuSans-97\"/>\r\n     <use x=\"113.378906\" xlink:href=\"#DejaVuSans-109\"/>\r\n     <use x=\"210.791016\" xlink:href=\"#DejaVuSans-112\"/>\r\n     <use x=\"274.267578\" xlink:href=\"#DejaVuSans-108\"/>\r\n     <use x=\"302.050781\" xlink:href=\"#DejaVuSans-101\"/>\r\n     <use x=\"363.574219\" xlink:href=\"#DejaVuSans-115\"/>\r\n     <use x=\"415.673828\" xlink:href=\"#DejaVuSans-32\"/>\r\n     <use x=\"447.460938\" xlink:href=\"#DejaVuSans-61\"/>\r\n     <use x=\"531.25\" xlink:href=\"#DejaVuSans-32\"/>\r\n     <use x=\"563.037109\" xlink:href=\"#DejaVuSans-52\"/>\r\n     <use x=\"626.660156\" xlink:href=\"#DejaVuSans-52\"/>\r\n    </g>\r\n    <!-- value = [3, 41] -->\r\n    <g transform=\"translate(88.915929 107.003609)scale(0.01 -0.01)\">\r\n     <use xlink:href=\"#DejaVuSans-118\"/>\r\n     <use x=\"59.179688\" xlink:href=\"#DejaVuSans-97\"/>\r\n     <use x=\"120.458984\" xlink:href=\"#DejaVuSans-108\"/>\r\n     <use x=\"148.242188\" xlink:href=\"#DejaVuSans-117\"/>\r\n     <use x=\"211.621094\" xlink:href=\"#DejaVuSans-101\"/>\r\n     <use x=\"273.144531\" xlink:href=\"#DejaVuSans-32\"/>\r\n     <use x=\"304.931641\" xlink:href=\"#DejaVuSans-61\"/>\r\n     <use x=\"388.720703\" xlink:href=\"#DejaVuSans-32\"/>\r\n     <use x=\"420.507812\" xlink:href=\"#DejaVuSans-91\"/>\r\n     <use x=\"459.521484\" xlink:href=\"#DejaVuSans-51\"/>\r\n     <use x=\"523.144531\" xlink:href=\"#DejaVuSans-44\"/>\r\n     <use x=\"554.931641\" xlink:href=\"#DejaVuSans-32\"/>\r\n     <use x=\"586.71875\" xlink:href=\"#DejaVuSans-52\"/>\r\n     <use x=\"650.341797\" xlink:href=\"#DejaVuSans-49\"/>\r\n     <use x=\"713.964844\" xlink:href=\"#DejaVuSans-93\"/>\r\n    </g>\r\n   </g>\r\n   <g id=\"patch_118\">\r\n    <path d=\"M 161.58645 99.725641 \r\nQ 167.940678 92.672509 175.043249 84.788725 \r\n\" style=\"fill:none;stroke:#000000;stroke-linecap:round;\"/>\r\n    <path d=\"M 162.002776 99.562325 \r\nL 161.58645 99.725641 \r\nL 161.705593 99.29459 \r\n\" style=\"fill:none;stroke:#000000;stroke-linecap:round;\"/>\r\n   </g>\r\n   <g id=\"text_59\">\r\n    <g id=\"patch_119\">\r\n     <path d=\"M 149.383521 107.525484 \r\nL 164.199458 107.525484 \r\nL 164.199458 102.542703 \r\nL 149.383521 102.542703 \r\nz\r\n\" style=\"fill:#ffffff;stroke:#000000;stroke-linejoin:miter;\"/>\r\n    </g>\r\n    <!-- high_blood_pressure &lt;= 0.5 -->\r\n    <g transform=\"translate(149.683521 103.630359)scale(0.01 -0.01)\">\r\n     <use xlink:href=\"#DejaVuSans-104\"/>\r\n     <use x=\"63.378906\" xlink:href=\"#DejaVuSans-105\"/>\r\n     <use x=\"91.162109\" xlink:href=\"#DejaVuSans-103\"/>\r\n     <use x=\"154.638672\" xlink:href=\"#DejaVuSans-104\"/>\r\n     <use x=\"218.017578\" xlink:href=\"#DejaVuSans-95\"/>\r\n     <use x=\"268.017578\" xlink:href=\"#DejaVuSans-98\"/>\r\n     <use x=\"331.494141\" xlink:href=\"#DejaVuSans-108\"/>\r\n     <use x=\"359.277344\" xlink:href=\"#DejaVuSans-111\"/>\r\n     <use x=\"420.458984\" xlink:href=\"#DejaVuSans-111\"/>\r\n     <use x=\"481.640625\" xlink:href=\"#DejaVuSans-100\"/>\r\n     <use x=\"545.117188\" xlink:href=\"#DejaVuSans-95\"/>\r\n     <use x=\"595.117188\" xlink:href=\"#DejaVuSans-112\"/>\r\n     <use x=\"658.59375\" xlink:href=\"#DejaVuSans-114\"/>\r\n     <use x=\"699.675781\" xlink:href=\"#DejaVuSans-101\"/>\r\n     <use x=\"761.199219\" xlink:href=\"#DejaVuSans-115\"/>\r\n     <use x=\"813.298828\" xlink:href=\"#DejaVuSans-115\"/>\r\n     <use x=\"865.398438\" xlink:href=\"#DejaVuSans-117\"/>\r\n     <use x=\"928.777344\" xlink:href=\"#DejaVuSans-114\"/>\r\n     <use x=\"969.859375\" xlink:href=\"#DejaVuSans-101\"/>\r\n     <use x=\"1031.382812\" xlink:href=\"#DejaVuSans-32\"/>\r\n     <use x=\"1063.169922\" xlink:href=\"#DejaVuSans-60\"/>\r\n     <use x=\"1146.958984\" xlink:href=\"#DejaVuSans-61\"/>\r\n     <use x=\"1230.748047\" xlink:href=\"#DejaVuSans-32\"/>\r\n     <use x=\"1262.535156\" xlink:href=\"#DejaVuSans-48\"/>\r\n     <use x=\"1326.158203\" xlink:href=\"#DejaVuSans-46\"/>\r\n     <use x=\"1357.945312\" xlink:href=\"#DejaVuSans-53\"/>\r\n    </g>\r\n    <!-- gini = 0.473 -->\r\n    <g transform=\"translate(153.711177 104.777953)scale(0.01 -0.01)\">\r\n     <use xlink:href=\"#DejaVuSans-103\"/>\r\n     <use x=\"63.476562\" xlink:href=\"#DejaVuSans-105\"/>\r\n     <use x=\"91.259766\" xlink:href=\"#DejaVuSans-110\"/>\r\n     <use x=\"154.638672\" xlink:href=\"#DejaVuSans-105\"/>\r\n     <use x=\"182.421875\" xlink:href=\"#DejaVuSans-32\"/>\r\n     <use x=\"214.208984\" xlink:href=\"#DejaVuSans-61\"/>\r\n     <use x=\"297.998047\" xlink:href=\"#DejaVuSans-32\"/>\r\n     <use x=\"329.785156\" xlink:href=\"#DejaVuSans-48\"/>\r\n     <use x=\"393.408203\" xlink:href=\"#DejaVuSans-46\"/>\r\n     <use x=\"425.195312\" xlink:href=\"#DejaVuSans-52\"/>\r\n     <use x=\"488.818359\" xlink:href=\"#DejaVuSans-55\"/>\r\n     <use x=\"552.441406\" xlink:href=\"#DejaVuSans-51\"/>\r\n    </g>\r\n    <!-- samples = 13 -->\r\n    <g transform=\"translate(153.340083 105.897734)scale(0.01 -0.01)\">\r\n     <use xlink:href=\"#DejaVuSans-115\"/>\r\n     <use x=\"52.099609\" xlink:href=\"#DejaVuSans-97\"/>\r\n     <use x=\"113.378906\" xlink:href=\"#DejaVuSans-109\"/>\r\n     <use x=\"210.791016\" xlink:href=\"#DejaVuSans-112\"/>\r\n     <use x=\"274.267578\" xlink:href=\"#DejaVuSans-108\"/>\r\n     <use x=\"302.050781\" xlink:href=\"#DejaVuSans-101\"/>\r\n     <use x=\"363.574219\" xlink:href=\"#DejaVuSans-115\"/>\r\n     <use x=\"415.673828\" xlink:href=\"#DejaVuSans-32\"/>\r\n     <use x=\"447.460938\" xlink:href=\"#DejaVuSans-61\"/>\r\n     <use x=\"531.25\" xlink:href=\"#DejaVuSans-32\"/>\r\n     <use x=\"563.037109\" xlink:href=\"#DejaVuSans-49\"/>\r\n     <use x=\"626.660156\" xlink:href=\"#DejaVuSans-51\"/>\r\n    </g>\r\n    <!-- value = [8, 5] -->\r\n    <g transform=\"translate(153.344692 107.017516)scale(0.01 -0.01)\">\r\n     <use xlink:href=\"#DejaVuSans-118\"/>\r\n     <use x=\"59.179688\" xlink:href=\"#DejaVuSans-97\"/>\r\n     <use x=\"120.458984\" xlink:href=\"#DejaVuSans-108\"/>\r\n     <use x=\"148.242188\" xlink:href=\"#DejaVuSans-117\"/>\r\n     <use x=\"211.621094\" xlink:href=\"#DejaVuSans-101\"/>\r\n     <use x=\"273.144531\" xlink:href=\"#DejaVuSans-32\"/>\r\n     <use x=\"304.931641\" xlink:href=\"#DejaVuSans-61\"/>\r\n     <use x=\"388.720703\" xlink:href=\"#DejaVuSans-32\"/>\r\n     <use x=\"420.507812\" xlink:href=\"#DejaVuSans-91\"/>\r\n     <use x=\"459.521484\" xlink:href=\"#DejaVuSans-56\"/>\r\n     <use x=\"523.144531\" xlink:href=\"#DejaVuSans-44\"/>\r\n     <use x=\"554.931641\" xlink:href=\"#DejaVuSans-32\"/>\r\n     <use x=\"586.71875\" xlink:href=\"#DejaVuSans-53\"/>\r\n     <use x=\"650.341797\" xlink:href=\"#DejaVuSans-93\"/>\r\n    </g>\r\n   </g>\r\n   <g id=\"patch_120\">\r\n    <path d=\"M 191.210482 99.764745 \r\nQ 184.838253 92.691633 177.717682 84.787869 \r\n\" style=\"fill:none;stroke:#000000;stroke-linecap:round;\"/>\r\n    <path d=\"M 191.091338 99.333694 \r\nL 191.210482 99.764745 \r\nL 190.794155 99.601429 \r\n\" style=\"fill:none;stroke:#000000;stroke-linecap:round;\"/>\r\n   </g>\r\n   <g id=\"text_60\">\r\n    <g id=\"patch_121\">\r\n     <path d=\"M 190.277322 107.511578 \r\nL 201.663103 107.511578 \r\nL 201.663103 102.584422 \r\nL 190.277322 102.584422 \r\nz\r\n\" style=\"fill:#ffffff;stroke:#000000;stroke-linejoin:miter;\"/>\r\n    </g>\r\n    <!-- platelets &lt;= 90000.0 -->\r\n    <g transform=\"translate(190.577322 103.644266)scale(0.01 -0.01)\">\r\n     <use xlink:href=\"#DejaVuSans-112\"/>\r\n     <use x=\"63.476562\" xlink:href=\"#DejaVuSans-108\"/>\r\n     <use x=\"91.259766\" xlink:href=\"#DejaVuSans-97\"/>\r\n     <use x=\"152.539062\" xlink:href=\"#DejaVuSans-116\"/>\r\n     <use x=\"191.748047\" xlink:href=\"#DejaVuSans-101\"/>\r\n     <use x=\"253.271484\" xlink:href=\"#DejaVuSans-108\"/>\r\n     <use x=\"281.054688\" xlink:href=\"#DejaVuSans-101\"/>\r\n     <use x=\"342.578125\" xlink:href=\"#DejaVuSans-116\"/>\r\n     <use x=\"381.787109\" xlink:href=\"#DejaVuSans-115\"/>\r\n     <use x=\"433.886719\" xlink:href=\"#DejaVuSans-32\"/>\r\n     <use x=\"465.673828\" xlink:href=\"#DejaVuSans-60\"/>\r\n     <use x=\"549.462891\" xlink:href=\"#DejaVuSans-61\"/>\r\n     <use x=\"633.251953\" xlink:href=\"#DejaVuSans-32\"/>\r\n     <use x=\"665.039062\" xlink:href=\"#DejaVuSans-57\"/>\r\n     <use x=\"728.662109\" xlink:href=\"#DejaVuSans-48\"/>\r\n     <use x=\"792.285156\" xlink:href=\"#DejaVuSans-48\"/>\r\n     <use x=\"855.908203\" xlink:href=\"#DejaVuSans-48\"/>\r\n     <use x=\"919.53125\" xlink:href=\"#DejaVuSans-48\"/>\r\n     <use x=\"983.154297\" xlink:href=\"#DejaVuSans-46\"/>\r\n     <use x=\"1014.941406\" xlink:href=\"#DejaVuSans-48\"/>\r\n    </g>\r\n    <!-- gini = 0.048 -->\r\n    <g transform=\"translate(192.8899 104.764047)scale(0.01 -0.01)\">\r\n     <use xlink:href=\"#DejaVuSans-103\"/>\r\n     <use x=\"63.476562\" xlink:href=\"#DejaVuSans-105\"/>\r\n     <use x=\"91.259766\" xlink:href=\"#DejaVuSans-110\"/>\r\n     <use x=\"154.638672\" xlink:href=\"#DejaVuSans-105\"/>\r\n     <use x=\"182.421875\" xlink:href=\"#DejaVuSans-32\"/>\r\n     <use x=\"214.208984\" xlink:href=\"#DejaVuSans-61\"/>\r\n     <use x=\"297.998047\" xlink:href=\"#DejaVuSans-32\"/>\r\n     <use x=\"329.785156\" xlink:href=\"#DejaVuSans-48\"/>\r\n     <use x=\"393.408203\" xlink:href=\"#DejaVuSans-46\"/>\r\n     <use x=\"425.195312\" xlink:href=\"#DejaVuSans-48\"/>\r\n     <use x=\"488.818359\" xlink:href=\"#DejaVuSans-52\"/>\r\n     <use x=\"552.441406\" xlink:href=\"#DejaVuSans-56\"/>\r\n    </g>\r\n    <!-- samples = 122 -->\r\n    <g transform=\"translate(192.200682 105.883828)scale(0.01 -0.01)\">\r\n     <use xlink:href=\"#DejaVuSans-115\"/>\r\n     <use x=\"52.099609\" xlink:href=\"#DejaVuSans-97\"/>\r\n     <use x=\"113.378906\" xlink:href=\"#DejaVuSans-109\"/>\r\n     <use x=\"210.791016\" xlink:href=\"#DejaVuSans-112\"/>\r\n     <use x=\"274.267578\" xlink:href=\"#DejaVuSans-108\"/>\r\n     <use x=\"302.050781\" xlink:href=\"#DejaVuSans-101\"/>\r\n     <use x=\"363.574219\" xlink:href=\"#DejaVuSans-115\"/>\r\n     <use x=\"415.673828\" xlink:href=\"#DejaVuSans-32\"/>\r\n     <use x=\"447.460938\" xlink:href=\"#DejaVuSans-61\"/>\r\n     <use x=\"531.25\" xlink:href=\"#DejaVuSans-32\"/>\r\n     <use x=\"563.037109\" xlink:href=\"#DejaVuSans-49\"/>\r\n     <use x=\"626.660156\" xlink:href=\"#DejaVuSans-50\"/>\r\n     <use x=\"690.283203\" xlink:href=\"#DejaVuSans-50\"/>\r\n    </g>\r\n    <!-- value = [119, 3] -->\r\n    <g transform=\"translate(191.887166 107.003609)scale(0.01 -0.01)\">\r\n     <use xlink:href=\"#DejaVuSans-118\"/>\r\n     <use x=\"59.179688\" xlink:href=\"#DejaVuSans-97\"/>\r\n     <use x=\"120.458984\" xlink:href=\"#DejaVuSans-108\"/>\r\n     <use x=\"148.242188\" xlink:href=\"#DejaVuSans-117\"/>\r\n     <use x=\"211.621094\" xlink:href=\"#DejaVuSans-101\"/>\r\n     <use x=\"273.144531\" xlink:href=\"#DejaVuSans-32\"/>\r\n     <use x=\"304.931641\" xlink:href=\"#DejaVuSans-61\"/>\r\n     <use x=\"388.720703\" xlink:href=\"#DejaVuSans-32\"/>\r\n     <use x=\"420.507812\" xlink:href=\"#DejaVuSans-91\"/>\r\n     <use x=\"459.521484\" xlink:href=\"#DejaVuSans-49\"/>\r\n     <use x=\"523.144531\" xlink:href=\"#DejaVuSans-49\"/>\r\n     <use x=\"586.767578\" xlink:href=\"#DejaVuSans-57\"/>\r\n     <use x=\"650.390625\" xlink:href=\"#DejaVuSans-44\"/>\r\n     <use x=\"682.177734\" xlink:href=\"#DejaVuSans-32\"/>\r\n     <use x=\"713.964844\" xlink:href=\"#DejaVuSans-51\"/>\r\n     <use x=\"777.587891\" xlink:href=\"#DejaVuSans-93\"/>\r\n    </g>\r\n   </g>\r\n   <g id=\"patch_122\">\r\n    <path d=\"M 237.091622 99.118005 \r\nQ 239.196817 92.691953 241.650082 85.203428 \r\n\" style=\"fill:none;stroke:#000000;stroke-linecap:round;\"/>\r\n    <path d=\"M 237.406211 98.800148 \r\nL 237.091622 99.118005 \r\nL 237.02609 98.675619 \r\n\" style=\"fill:none;stroke:#000000;stroke-linecap:round;\"/>\r\n   </g>\r\n   <g id=\"text_61\">\r\n    <g id=\"patch_123\">\r\n     <path d=\"M 230.728311 107.511578 \r\nL 239.569561 107.511578 \r\nL 239.569561 102.584422 \r\nL 230.728311 102.584422 \r\nz\r\n\" style=\"fill:#ffffff;stroke:#000000;stroke-linejoin:miter;\"/>\r\n    </g>\r\n    <!-- anaemia &lt;= 0.5 -->\r\n    <g transform=\"translate(231.028311 103.644266)scale(0.01 -0.01)\">\r\n     <use xlink:href=\"#DejaVuSans-97\"/>\r\n     <use x=\"61.279297\" xlink:href=\"#DejaVuSans-110\"/>\r\n     <use x=\"124.658203\" xlink:href=\"#DejaVuSans-97\"/>\r\n     <use x=\"185.9375\" xlink:href=\"#DejaVuSans-101\"/>\r\n     <use x=\"247.460938\" xlink:href=\"#DejaVuSans-109\"/>\r\n     <use x=\"344.873047\" xlink:href=\"#DejaVuSans-105\"/>\r\n     <use x=\"372.65625\" xlink:href=\"#DejaVuSans-97\"/>\r\n     <use x=\"433.935547\" xlink:href=\"#DejaVuSans-32\"/>\r\n     <use x=\"465.722656\" xlink:href=\"#DejaVuSans-60\"/>\r\n     <use x=\"549.511719\" xlink:href=\"#DejaVuSans-61\"/>\r\n     <use x=\"633.300781\" xlink:href=\"#DejaVuSans-32\"/>\r\n     <use x=\"665.087891\" xlink:href=\"#DejaVuSans-48\"/>\r\n     <use x=\"728.710938\" xlink:href=\"#DejaVuSans-46\"/>\r\n     <use x=\"760.498047\" xlink:href=\"#DejaVuSans-53\"/>\r\n    </g>\r\n    <!-- gini = 0.32 -->\r\n    <g transform=\"translate(232.386749 104.764047)scale(0.01 -0.01)\">\r\n     <use xlink:href=\"#DejaVuSans-103\"/>\r\n     <use x=\"63.476562\" xlink:href=\"#DejaVuSans-105\"/>\r\n     <use x=\"91.259766\" xlink:href=\"#DejaVuSans-110\"/>\r\n     <use x=\"154.638672\" xlink:href=\"#DejaVuSans-105\"/>\r\n     <use x=\"182.421875\" xlink:href=\"#DejaVuSans-32\"/>\r\n     <use x=\"214.208984\" xlink:href=\"#DejaVuSans-61\"/>\r\n     <use x=\"297.998047\" xlink:href=\"#DejaVuSans-32\"/>\r\n     <use x=\"329.785156\" xlink:href=\"#DejaVuSans-48\"/>\r\n     <use x=\"393.408203\" xlink:href=\"#DejaVuSans-46\"/>\r\n     <use x=\"425.195312\" xlink:href=\"#DejaVuSans-51\"/>\r\n     <use x=\"488.818359\" xlink:href=\"#DejaVuSans-50\"/>\r\n    </g>\r\n    <!-- samples = 5 -->\r\n    <g transform=\"translate(232.015655 105.883828)scale(0.01 -0.01)\">\r\n     <use xlink:href=\"#DejaVuSans-115\"/>\r\n     <use x=\"52.099609\" xlink:href=\"#DejaVuSans-97\"/>\r\n     <use x=\"113.378906\" xlink:href=\"#DejaVuSans-109\"/>\r\n     <use x=\"210.791016\" xlink:href=\"#DejaVuSans-112\"/>\r\n     <use x=\"274.267578\" xlink:href=\"#DejaVuSans-108\"/>\r\n     <use x=\"302.050781\" xlink:href=\"#DejaVuSans-101\"/>\r\n     <use x=\"363.574219\" xlink:href=\"#DejaVuSans-115\"/>\r\n     <use x=\"415.673828\" xlink:href=\"#DejaVuSans-32\"/>\r\n     <use x=\"447.460938\" xlink:href=\"#DejaVuSans-61\"/>\r\n     <use x=\"531.25\" xlink:href=\"#DejaVuSans-32\"/>\r\n     <use x=\"563.037109\" xlink:href=\"#DejaVuSans-53\"/>\r\n    </g>\r\n    <!-- value = [1, 4] -->\r\n    <g transform=\"translate(231.702139 107.003609)scale(0.01 -0.01)\">\r\n     <use xlink:href=\"#DejaVuSans-118\"/>\r\n     <use x=\"59.179688\" xlink:href=\"#DejaVuSans-97\"/>\r\n     <use x=\"120.458984\" xlink:href=\"#DejaVuSans-108\"/>\r\n     <use x=\"148.242188\" xlink:href=\"#DejaVuSans-117\"/>\r\n     <use x=\"211.621094\" xlink:href=\"#DejaVuSans-101\"/>\r\n     <use x=\"273.144531\" xlink:href=\"#DejaVuSans-32\"/>\r\n     <use x=\"304.931641\" xlink:href=\"#DejaVuSans-61\"/>\r\n     <use x=\"388.720703\" xlink:href=\"#DejaVuSans-32\"/>\r\n     <use x=\"420.507812\" xlink:href=\"#DejaVuSans-91\"/>\r\n     <use x=\"459.521484\" xlink:href=\"#DejaVuSans-49\"/>\r\n     <use x=\"523.144531\" xlink:href=\"#DejaVuSans-44\"/>\r\n     <use x=\"554.931641\" xlink:href=\"#DejaVuSans-32\"/>\r\n     <use x=\"586.71875\" xlink:href=\"#DejaVuSans-52\"/>\r\n     <use x=\"650.341797\" xlink:href=\"#DejaVuSans-93\"/>\r\n    </g>\r\n   </g>\r\n   <g id=\"patch_124\">\r\n    <path d=\"M 247.637291 99.680369 \r\nQ 245.440584 92.974979 242.895807 85.207116 \r\n\" style=\"fill:none;stroke:#000000;stroke-linecap:round;\"/>\r\n    <path d=\"M 247.702823 99.237983 \r\nL 247.637291 99.680369 \r\nL 247.322702 99.362512 \r\n\" style=\"fill:none;stroke:#000000;stroke-linecap:round;\"/>\r\n   </g>\r\n   <g id=\"text_62\">\r\n    <g id=\"patch_125\">\r\n     <path d=\"M 245.648948 106.951687 \r\nL 253.142542 106.951687 \r\nL 253.142542 103.144312 \r\nL 245.648948 103.144312 \r\nz\r\n\" style=\"fill:#ffffff;stroke:#000000;stroke-linejoin:miter;\"/>\r\n    </g>\r\n    <!-- gini = 0.0 -->\r\n    <g transform=\"translate(246.951682 104.204156)scale(0.01 -0.01)\">\r\n     <use xlink:href=\"#DejaVuSans-103\"/>\r\n     <use x=\"63.476562\" xlink:href=\"#DejaVuSans-105\"/>\r\n     <use x=\"91.259766\" xlink:href=\"#DejaVuSans-110\"/>\r\n     <use x=\"154.638672\" xlink:href=\"#DejaVuSans-105\"/>\r\n     <use x=\"182.421875\" xlink:href=\"#DejaVuSans-32\"/>\r\n     <use x=\"214.208984\" xlink:href=\"#DejaVuSans-61\"/>\r\n     <use x=\"297.998047\" xlink:href=\"#DejaVuSans-32\"/>\r\n     <use x=\"329.785156\" xlink:href=\"#DejaVuSans-48\"/>\r\n     <use x=\"393.408203\" xlink:href=\"#DejaVuSans-46\"/>\r\n     <use x=\"425.195312\" xlink:href=\"#DejaVuSans-48\"/>\r\n    </g>\r\n    <!-- samples = 3 -->\r\n    <g transform=\"translate(246.262463 105.323937)scale(0.01 -0.01)\">\r\n     <use xlink:href=\"#DejaVuSans-115\"/>\r\n     <use x=\"52.099609\" xlink:href=\"#DejaVuSans-97\"/>\r\n     <use x=\"113.378906\" xlink:href=\"#DejaVuSans-109\"/>\r\n     <use x=\"210.791016\" xlink:href=\"#DejaVuSans-112\"/>\r\n     <use x=\"274.267578\" xlink:href=\"#DejaVuSans-108\"/>\r\n     <use x=\"302.050781\" xlink:href=\"#DejaVuSans-101\"/>\r\n     <use x=\"363.574219\" xlink:href=\"#DejaVuSans-115\"/>\r\n     <use x=\"415.673828\" xlink:href=\"#DejaVuSans-32\"/>\r\n     <use x=\"447.460938\" xlink:href=\"#DejaVuSans-61\"/>\r\n     <use x=\"531.25\" xlink:href=\"#DejaVuSans-32\"/>\r\n     <use x=\"563.037109\" xlink:href=\"#DejaVuSans-51\"/>\r\n    </g>\r\n    <!-- value = [3, 0] -->\r\n    <g transform=\"translate(245.948948 106.443719)scale(0.01 -0.01)\">\r\n     <use xlink:href=\"#DejaVuSans-118\"/>\r\n     <use x=\"59.179688\" xlink:href=\"#DejaVuSans-97\"/>\r\n     <use x=\"120.458984\" xlink:href=\"#DejaVuSans-108\"/>\r\n     <use x=\"148.242188\" xlink:href=\"#DejaVuSans-117\"/>\r\n     <use x=\"211.621094\" xlink:href=\"#DejaVuSans-101\"/>\r\n     <use x=\"273.144531\" xlink:href=\"#DejaVuSans-32\"/>\r\n     <use x=\"304.931641\" xlink:href=\"#DejaVuSans-61\"/>\r\n     <use x=\"388.720703\" xlink:href=\"#DejaVuSans-32\"/>\r\n     <use x=\"420.507812\" xlink:href=\"#DejaVuSans-91\"/>\r\n     <use x=\"459.521484\" xlink:href=\"#DejaVuSans-51\"/>\r\n     <use x=\"523.144531\" xlink:href=\"#DejaVuSans-44\"/>\r\n     <use x=\"554.931641\" xlink:href=\"#DejaVuSans-32\"/>\r\n     <use x=\"586.71875\" xlink:href=\"#DejaVuSans-48\"/>\r\n     <use x=\"650.341797\" xlink:href=\"#DejaVuSans-93\"/>\r\n    </g>\r\n   </g>\r\n   <g id=\"patch_126\">\r\n    <path d=\"M 265.401006 99.680369 \r\nQ 267.597714 92.974979 270.142491 85.207116 \r\n\" style=\"fill:none;stroke:#000000;stroke-linecap:round;\"/>\r\n    <path d=\"M 265.715596 99.362512 \r\nL 265.401006 99.680369 \r\nL 265.335475 99.237983 \r\n\" style=\"fill:none;stroke:#000000;stroke-linecap:round;\"/>\r\n   </g>\r\n   <g id=\"text_63\">\r\n    <g id=\"patch_127\">\r\n     <path d=\"M 259.895756 106.951687 \r\nL 267.38935 106.951687 \r\nL 267.38935 103.144312 \r\nL 259.895756 103.144312 \r\nz\r\n\" style=\"fill:#ffffff;stroke:#000000;stroke-linejoin:miter;\"/>\r\n    </g>\r\n    <!-- gini = 0.0 -->\r\n    <g transform=\"translate(261.198491 104.204156)scale(0.01 -0.01)\">\r\n     <use xlink:href=\"#DejaVuSans-103\"/>\r\n     <use x=\"63.476562\" xlink:href=\"#DejaVuSans-105\"/>\r\n     <use x=\"91.259766\" xlink:href=\"#DejaVuSans-110\"/>\r\n     <use x=\"154.638672\" xlink:href=\"#DejaVuSans-105\"/>\r\n     <use x=\"182.421875\" xlink:href=\"#DejaVuSans-32\"/>\r\n     <use x=\"214.208984\" xlink:href=\"#DejaVuSans-61\"/>\r\n     <use x=\"297.998047\" xlink:href=\"#DejaVuSans-32\"/>\r\n     <use x=\"329.785156\" xlink:href=\"#DejaVuSans-48\"/>\r\n     <use x=\"393.408203\" xlink:href=\"#DejaVuSans-46\"/>\r\n     <use x=\"425.195312\" xlink:href=\"#DejaVuSans-48\"/>\r\n    </g>\r\n    <!-- samples = 2 -->\r\n    <g transform=\"translate(260.509272 105.323937)scale(0.01 -0.01)\">\r\n     <use xlink:href=\"#DejaVuSans-115\"/>\r\n     <use x=\"52.099609\" xlink:href=\"#DejaVuSans-97\"/>\r\n     <use x=\"113.378906\" xlink:href=\"#DejaVuSans-109\"/>\r\n     <use x=\"210.791016\" xlink:href=\"#DejaVuSans-112\"/>\r\n     <use x=\"274.267578\" xlink:href=\"#DejaVuSans-108\"/>\r\n     <use x=\"302.050781\" xlink:href=\"#DejaVuSans-101\"/>\r\n     <use x=\"363.574219\" xlink:href=\"#DejaVuSans-115\"/>\r\n     <use x=\"415.673828\" xlink:href=\"#DejaVuSans-32\"/>\r\n     <use x=\"447.460938\" xlink:href=\"#DejaVuSans-61\"/>\r\n     <use x=\"531.25\" xlink:href=\"#DejaVuSans-32\"/>\r\n     <use x=\"563.037109\" xlink:href=\"#DejaVuSans-50\"/>\r\n    </g>\r\n    <!-- value = [2, 0] -->\r\n    <g transform=\"translate(260.195756 106.443719)scale(0.01 -0.01)\">\r\n     <use xlink:href=\"#DejaVuSans-118\"/>\r\n     <use x=\"59.179688\" xlink:href=\"#DejaVuSans-97\"/>\r\n     <use x=\"120.458984\" xlink:href=\"#DejaVuSans-108\"/>\r\n     <use x=\"148.242188\" xlink:href=\"#DejaVuSans-117\"/>\r\n     <use x=\"211.621094\" xlink:href=\"#DejaVuSans-101\"/>\r\n     <use x=\"273.144531\" xlink:href=\"#DejaVuSans-32\"/>\r\n     <use x=\"304.931641\" xlink:href=\"#DejaVuSans-61\"/>\r\n     <use x=\"388.720703\" xlink:href=\"#DejaVuSans-32\"/>\r\n     <use x=\"420.507812\" xlink:href=\"#DejaVuSans-91\"/>\r\n     <use x=\"459.521484\" xlink:href=\"#DejaVuSans-50\"/>\r\n     <use x=\"523.144531\" xlink:href=\"#DejaVuSans-44\"/>\r\n     <use x=\"554.931641\" xlink:href=\"#DejaVuSans-32\"/>\r\n     <use x=\"586.71875\" xlink:href=\"#DejaVuSans-48\"/>\r\n     <use x=\"650.341797\" xlink:href=\"#DejaVuSans-93\"/>\r\n    </g>\r\n   </g>\r\n   <g id=\"patch_128\">\r\n    <path d=\"M 275.946676 99.118005 \r\nQ 273.841481 92.691953 271.388216 85.203428 \r\n\" style=\"fill:none;stroke:#000000;stroke-linecap:round;\"/>\r\n    <path d=\"M 276.012208 98.675619 \r\nL 275.946676 99.118005 \r\nL 275.632086 98.800148 \r\n\" style=\"fill:none;stroke:#000000;stroke-linecap:round;\"/>\r\n   </g>\r\n   <g id=\"text_64\">\r\n    <g id=\"patch_129\">\r\n     <path d=\"M 273.82444 107.511578 \r\nL 281.954284 107.511578 \r\nL 281.954284 102.584422 \r\nL 273.82444 102.584422 \r\nz\r\n\" style=\"fill:#ffffff;stroke:#000000;stroke-linejoin:miter;\"/>\r\n    </g>\r\n    <!-- sex &lt;= 0.5 -->\r\n    <defs>\r\n     <path d=\"M 54.890625 54.6875 \r\nL 35.109375 28.078125 \r\nL 55.90625 0 \r\nL 45.3125 0 \r\nL 29.390625 21.484375 \r\nL 13.484375 0 \r\nL 2.875 0 \r\nL 24.125 28.609375 \r\nL 4.6875 54.6875 \r\nL 15.28125 54.6875 \r\nL 29.78125 35.203125 \r\nL 44.28125 54.6875 \r\nz\r\n\" id=\"DejaVuSans-120\"/>\r\n    </defs>\r\n    <g transform=\"translate(275.07444 103.644266)scale(0.01 -0.01)\">\r\n     <use xlink:href=\"#DejaVuSans-115\"/>\r\n     <use x=\"52.099609\" xlink:href=\"#DejaVuSans-101\"/>\r\n     <use x=\"113.607422\" xlink:href=\"#DejaVuSans-120\"/>\r\n     <use x=\"172.787109\" xlink:href=\"#DejaVuSans-32\"/>\r\n     <use x=\"204.574219\" xlink:href=\"#DejaVuSans-60\"/>\r\n     <use x=\"288.363281\" xlink:href=\"#DejaVuSans-61\"/>\r\n     <use x=\"372.152344\" xlink:href=\"#DejaVuSans-32\"/>\r\n     <use x=\"403.939453\" xlink:href=\"#DejaVuSans-48\"/>\r\n     <use x=\"467.5625\" xlink:href=\"#DejaVuSans-46\"/>\r\n     <use x=\"499.349609\" xlink:href=\"#DejaVuSans-53\"/>\r\n    </g>\r\n    <!-- gini = 0.36 -->\r\n    <g transform=\"translate(275.127174 104.764047)scale(0.01 -0.01)\">\r\n     <use xlink:href=\"#DejaVuSans-103\"/>\r\n     <use x=\"63.476562\" xlink:href=\"#DejaVuSans-105\"/>\r\n     <use x=\"91.259766\" xlink:href=\"#DejaVuSans-110\"/>\r\n     <use x=\"154.638672\" xlink:href=\"#DejaVuSans-105\"/>\r\n     <use x=\"182.421875\" xlink:href=\"#DejaVuSans-32\"/>\r\n     <use x=\"214.208984\" xlink:href=\"#DejaVuSans-61\"/>\r\n     <use x=\"297.998047\" xlink:href=\"#DejaVuSans-32\"/>\r\n     <use x=\"329.785156\" xlink:href=\"#DejaVuSans-48\"/>\r\n     <use x=\"393.408203\" xlink:href=\"#DejaVuSans-46\"/>\r\n     <use x=\"425.195312\" xlink:href=\"#DejaVuSans-51\"/>\r\n     <use x=\"488.818359\" xlink:href=\"#DejaVuSans-54\"/>\r\n    </g>\r\n    <!-- samples = 17 -->\r\n    <g transform=\"translate(274.437955 105.883828)scale(0.01 -0.01)\">\r\n     <use xlink:href=\"#DejaVuSans-115\"/>\r\n     <use x=\"52.099609\" xlink:href=\"#DejaVuSans-97\"/>\r\n     <use x=\"113.378906\" xlink:href=\"#DejaVuSans-109\"/>\r\n     <use x=\"210.791016\" xlink:href=\"#DejaVuSans-112\"/>\r\n     <use x=\"274.267578\" xlink:href=\"#DejaVuSans-108\"/>\r\n     <use x=\"302.050781\" xlink:href=\"#DejaVuSans-101\"/>\r\n     <use x=\"363.574219\" xlink:href=\"#DejaVuSans-115\"/>\r\n     <use x=\"415.673828\" xlink:href=\"#DejaVuSans-32\"/>\r\n     <use x=\"447.460938\" xlink:href=\"#DejaVuSans-61\"/>\r\n     <use x=\"531.25\" xlink:href=\"#DejaVuSans-32\"/>\r\n     <use x=\"563.037109\" xlink:href=\"#DejaVuSans-49\"/>\r\n     <use x=\"626.660156\" xlink:href=\"#DejaVuSans-55\"/>\r\n    </g>\r\n    <!-- value = [4, 13] -->\r\n    <g transform=\"translate(274.12444 107.003609)scale(0.01 -0.01)\">\r\n     <use xlink:href=\"#DejaVuSans-118\"/>\r\n     <use x=\"59.179688\" xlink:href=\"#DejaVuSans-97\"/>\r\n     <use x=\"120.458984\" xlink:href=\"#DejaVuSans-108\"/>\r\n     <use x=\"148.242188\" xlink:href=\"#DejaVuSans-117\"/>\r\n     <use x=\"211.621094\" xlink:href=\"#DejaVuSans-101\"/>\r\n     <use x=\"273.144531\" xlink:href=\"#DejaVuSans-32\"/>\r\n     <use x=\"304.931641\" xlink:href=\"#DejaVuSans-61\"/>\r\n     <use x=\"388.720703\" xlink:href=\"#DejaVuSans-32\"/>\r\n     <use x=\"420.507812\" xlink:href=\"#DejaVuSans-91\"/>\r\n     <use x=\"459.521484\" xlink:href=\"#DejaVuSans-52\"/>\r\n     <use x=\"523.144531\" xlink:href=\"#DejaVuSans-44\"/>\r\n     <use x=\"554.931641\" xlink:href=\"#DejaVuSans-32\"/>\r\n     <use x=\"586.71875\" xlink:href=\"#DejaVuSans-49\"/>\r\n     <use x=\"650.341797\" xlink:href=\"#DejaVuSans-51\"/>\r\n     <use x=\"713.964844\" xlink:href=\"#DejaVuSans-93\"/>\r\n    </g>\r\n   </g>\r\n   <g id=\"patch_130\">\r\n    <path d=\"M 322.572473 99.118005 \r\nQ 324.677668 92.691953 327.130933 85.203428 \r\n\" style=\"fill:none;stroke:#000000;stroke-linecap:round;\"/>\r\n    <path d=\"M 322.887063 98.800148 \r\nL 322.572473 99.118005 \r\nL 322.506941 98.675619 \r\n\" style=\"fill:none;stroke:#000000;stroke-linecap:round;\"/>\r\n   </g>\r\n   <g id=\"text_65\">\r\n    <g id=\"patch_131\">\r\n     <path d=\"M 316.564865 107.511578 \r\nL 324.694709 107.511578 \r\nL 324.694709 102.584422 \r\nL 316.564865 102.584422 \r\nz\r\n\" style=\"fill:#ffffff;stroke:#000000;stroke-linejoin:miter;\"/>\r\n    </g>\r\n    <!-- age &lt;= 71.0 -->\r\n    <g transform=\"translate(317.42924 103.644266)scale(0.01 -0.01)\">\r\n     <use xlink:href=\"#DejaVuSans-97\"/>\r\n     <use x=\"61.279297\" xlink:href=\"#DejaVuSans-103\"/>\r\n     <use x=\"124.755859\" xlink:href=\"#DejaVuSans-101\"/>\r\n     <use x=\"186.279297\" xlink:href=\"#DejaVuSans-32\"/>\r\n     <use x=\"218.066406\" xlink:href=\"#DejaVuSans-60\"/>\r\n     <use x=\"301.855469\" xlink:href=\"#DejaVuSans-61\"/>\r\n     <use x=\"385.644531\" xlink:href=\"#DejaVuSans-32\"/>\r\n     <use x=\"417.431641\" xlink:href=\"#DejaVuSans-55\"/>\r\n     <use x=\"481.054688\" xlink:href=\"#DejaVuSans-49\"/>\r\n     <use x=\"544.677734\" xlink:href=\"#DejaVuSans-46\"/>\r\n     <use x=\"576.464844\" xlink:href=\"#DejaVuSans-48\"/>\r\n    </g>\r\n    <!-- gini = 0.305 -->\r\n    <g transform=\"translate(317.549475 104.764047)scale(0.01 -0.01)\">\r\n     <use xlink:href=\"#DejaVuSans-103\"/>\r\n     <use x=\"63.476562\" xlink:href=\"#DejaVuSans-105\"/>\r\n     <use x=\"91.259766\" xlink:href=\"#DejaVuSans-110\"/>\r\n     <use x=\"154.638672\" xlink:href=\"#DejaVuSans-105\"/>\r\n     <use x=\"182.421875\" xlink:href=\"#DejaVuSans-32\"/>\r\n     <use x=\"214.208984\" xlink:href=\"#DejaVuSans-61\"/>\r\n     <use x=\"297.998047\" xlink:href=\"#DejaVuSans-32\"/>\r\n     <use x=\"329.785156\" xlink:href=\"#DejaVuSans-48\"/>\r\n     <use x=\"393.408203\" xlink:href=\"#DejaVuSans-46\"/>\r\n     <use x=\"425.195312\" xlink:href=\"#DejaVuSans-51\"/>\r\n     <use x=\"488.818359\" xlink:href=\"#DejaVuSans-48\"/>\r\n     <use x=\"552.441406\" xlink:href=\"#DejaVuSans-53\"/>\r\n    </g>\r\n    <!-- samples = 16 -->\r\n    <g transform=\"translate(317.178381 105.883828)scale(0.01 -0.01)\">\r\n     <use xlink:href=\"#DejaVuSans-115\"/>\r\n     <use x=\"52.099609\" xlink:href=\"#DejaVuSans-97\"/>\r\n     <use x=\"113.378906\" xlink:href=\"#DejaVuSans-109\"/>\r\n     <use x=\"210.791016\" xlink:href=\"#DejaVuSans-112\"/>\r\n     <use x=\"274.267578\" xlink:href=\"#DejaVuSans-108\"/>\r\n     <use x=\"302.050781\" xlink:href=\"#DejaVuSans-101\"/>\r\n     <use x=\"363.574219\" xlink:href=\"#DejaVuSans-115\"/>\r\n     <use x=\"415.673828\" xlink:href=\"#DejaVuSans-32\"/>\r\n     <use x=\"447.460938\" xlink:href=\"#DejaVuSans-61\"/>\r\n     <use x=\"531.25\" xlink:href=\"#DejaVuSans-32\"/>\r\n     <use x=\"563.037109\" xlink:href=\"#DejaVuSans-49\"/>\r\n     <use x=\"626.660156\" xlink:href=\"#DejaVuSans-54\"/>\r\n    </g>\r\n    <!-- value = [13, 3] -->\r\n    <g transform=\"translate(316.864865 107.003609)scale(0.01 -0.01)\">\r\n     <use xlink:href=\"#DejaVuSans-118\"/>\r\n     <use x=\"59.179688\" xlink:href=\"#DejaVuSans-97\"/>\r\n     <use x=\"120.458984\" xlink:href=\"#DejaVuSans-108\"/>\r\n     <use x=\"148.242188\" xlink:href=\"#DejaVuSans-117\"/>\r\n     <use x=\"211.621094\" xlink:href=\"#DejaVuSans-101\"/>\r\n     <use x=\"273.144531\" xlink:href=\"#DejaVuSans-32\"/>\r\n     <use x=\"304.931641\" xlink:href=\"#DejaVuSans-61\"/>\r\n     <use x=\"388.720703\" xlink:href=\"#DejaVuSans-32\"/>\r\n     <use x=\"420.507812\" xlink:href=\"#DejaVuSans-91\"/>\r\n     <use x=\"459.521484\" xlink:href=\"#DejaVuSans-49\"/>\r\n     <use x=\"523.144531\" xlink:href=\"#DejaVuSans-51\"/>\r\n     <use x=\"586.767578\" xlink:href=\"#DejaVuSans-44\"/>\r\n     <use x=\"618.554688\" xlink:href=\"#DejaVuSans-32\"/>\r\n     <use x=\"650.341797\" xlink:href=\"#DejaVuSans-51\"/>\r\n     <use x=\"713.964844\" xlink:href=\"#DejaVuSans-93\"/>\r\n    </g>\r\n   </g>\r\n   <g id=\"patch_132\">\r\n    <path d=\"M 333.118143 99.680369 \r\nQ 330.921435 92.974979 328.376658 85.207116 \r\n\" style=\"fill:none;stroke:#000000;stroke-linecap:round;\"/>\r\n    <path d=\"M 333.183674 99.237983 \r\nL 333.118143 99.680369 \r\nL 332.803553 99.362512 \r\n\" style=\"fill:none;stroke:#000000;stroke-linecap:round;\"/>\r\n   </g>\r\n   <g id=\"text_66\">\r\n    <g id=\"patch_133\">\r\n     <path d=\"M 331.129799 106.951687 \r\nL 338.623393 106.951687 \r\nL 338.623393 103.144312 \r\nL 331.129799 103.144312 \r\nz\r\n\" style=\"fill:#ffffff;stroke:#000000;stroke-linejoin:miter;\"/>\r\n    </g>\r\n    <!-- gini = 0.0 -->\r\n    <g transform=\"translate(332.432533 104.204156)scale(0.01 -0.01)\">\r\n     <use xlink:href=\"#DejaVuSans-103\"/>\r\n     <use x=\"63.476562\" xlink:href=\"#DejaVuSans-105\"/>\r\n     <use x=\"91.259766\" xlink:href=\"#DejaVuSans-110\"/>\r\n     <use x=\"154.638672\" xlink:href=\"#DejaVuSans-105\"/>\r\n     <use x=\"182.421875\" xlink:href=\"#DejaVuSans-32\"/>\r\n     <use x=\"214.208984\" xlink:href=\"#DejaVuSans-61\"/>\r\n     <use x=\"297.998047\" xlink:href=\"#DejaVuSans-32\"/>\r\n     <use x=\"329.785156\" xlink:href=\"#DejaVuSans-48\"/>\r\n     <use x=\"393.408203\" xlink:href=\"#DejaVuSans-46\"/>\r\n     <use x=\"425.195312\" xlink:href=\"#DejaVuSans-48\"/>\r\n    </g>\r\n    <!-- samples = 2 -->\r\n    <g transform=\"translate(331.743314 105.323937)scale(0.01 -0.01)\">\r\n     <use xlink:href=\"#DejaVuSans-115\"/>\r\n     <use x=\"52.099609\" xlink:href=\"#DejaVuSans-97\"/>\r\n     <use x=\"113.378906\" xlink:href=\"#DejaVuSans-109\"/>\r\n     <use x=\"210.791016\" xlink:href=\"#DejaVuSans-112\"/>\r\n     <use x=\"274.267578\" xlink:href=\"#DejaVuSans-108\"/>\r\n     <use x=\"302.050781\" xlink:href=\"#DejaVuSans-101\"/>\r\n     <use x=\"363.574219\" xlink:href=\"#DejaVuSans-115\"/>\r\n     <use x=\"415.673828\" xlink:href=\"#DejaVuSans-32\"/>\r\n     <use x=\"447.460938\" xlink:href=\"#DejaVuSans-61\"/>\r\n     <use x=\"531.25\" xlink:href=\"#DejaVuSans-32\"/>\r\n     <use x=\"563.037109\" xlink:href=\"#DejaVuSans-50\"/>\r\n    </g>\r\n    <!-- value = [0, 2] -->\r\n    <g transform=\"translate(331.429799 106.443719)scale(0.01 -0.01)\">\r\n     <use xlink:href=\"#DejaVuSans-118\"/>\r\n     <use x=\"59.179688\" xlink:href=\"#DejaVuSans-97\"/>\r\n     <use x=\"120.458984\" xlink:href=\"#DejaVuSans-108\"/>\r\n     <use x=\"148.242188\" xlink:href=\"#DejaVuSans-117\"/>\r\n     <use x=\"211.621094\" xlink:href=\"#DejaVuSans-101\"/>\r\n     <use x=\"273.144531\" xlink:href=\"#DejaVuSans-32\"/>\r\n     <use x=\"304.931641\" xlink:href=\"#DejaVuSans-61\"/>\r\n     <use x=\"388.720703\" xlink:href=\"#DejaVuSans-32\"/>\r\n     <use x=\"420.507812\" xlink:href=\"#DejaVuSans-91\"/>\r\n     <use x=\"459.521484\" xlink:href=\"#DejaVuSans-48\"/>\r\n     <use x=\"523.144531\" xlink:href=\"#DejaVuSans-44\"/>\r\n     <use x=\"554.931641\" xlink:href=\"#DejaVuSans-32\"/>\r\n     <use x=\"586.71875\" xlink:href=\"#DejaVuSans-50\"/>\r\n     <use x=\"650.341797\" xlink:href=\"#DejaVuSans-93\"/>\r\n    </g>\r\n   </g>\r\n   <g id=\"patch_134\">\r\n    <path d=\"M 16.081857 77.936369 \r\nQ 18.278565 71.230979 20.823342 63.463116 \r\n\" style=\"fill:none;stroke:#000000;stroke-linecap:round;\"/>\r\n    <path d=\"M 16.396447 77.618512 \r\nL 16.081857 77.936369 \r\nL 16.016326 77.493983 \r\n\" style=\"fill:none;stroke:#000000;stroke-linecap:round;\"/>\r\n   </g>\r\n   <g id=\"text_67\">\r\n    <g id=\"patch_135\">\r\n     <path d=\"M 10.576607 85.207687 \r\nL 18.070201 85.207687 \r\nL 18.070201 81.400312 \r\nL 10.576607 81.400312 \r\nz\r\n\" style=\"fill:#ffffff;stroke:#000000;stroke-linejoin:miter;\"/>\r\n    </g>\r\n    <!-- gini = 0.0 -->\r\n    <g transform=\"translate(11.879342 82.460156)scale(0.01 -0.01)\">\r\n     <use xlink:href=\"#DejaVuSans-103\"/>\r\n     <use x=\"63.476562\" xlink:href=\"#DejaVuSans-105\"/>\r\n     <use x=\"91.259766\" xlink:href=\"#DejaVuSans-110\"/>\r\n     <use x=\"154.638672\" xlink:href=\"#DejaVuSans-105\"/>\r\n     <use x=\"182.421875\" xlink:href=\"#DejaVuSans-32\"/>\r\n     <use x=\"214.208984\" xlink:href=\"#DejaVuSans-61\"/>\r\n     <use x=\"297.998047\" xlink:href=\"#DejaVuSans-32\"/>\r\n     <use x=\"329.785156\" xlink:href=\"#DejaVuSans-48\"/>\r\n     <use x=\"393.408203\" xlink:href=\"#DejaVuSans-46\"/>\r\n     <use x=\"425.195312\" xlink:href=\"#DejaVuSans-48\"/>\r\n    </g>\r\n    <!-- samples = 5 -->\r\n    <g transform=\"translate(11.190123 83.579937)scale(0.01 -0.01)\">\r\n     <use xlink:href=\"#DejaVuSans-115\"/>\r\n     <use x=\"52.099609\" xlink:href=\"#DejaVuSans-97\"/>\r\n     <use x=\"113.378906\" xlink:href=\"#DejaVuSans-109\"/>\r\n     <use x=\"210.791016\" xlink:href=\"#DejaVuSans-112\"/>\r\n     <use x=\"274.267578\" xlink:href=\"#DejaVuSans-108\"/>\r\n     <use x=\"302.050781\" xlink:href=\"#DejaVuSans-101\"/>\r\n     <use x=\"363.574219\" xlink:href=\"#DejaVuSans-115\"/>\r\n     <use x=\"415.673828\" xlink:href=\"#DejaVuSans-32\"/>\r\n     <use x=\"447.460938\" xlink:href=\"#DejaVuSans-61\"/>\r\n     <use x=\"531.25\" xlink:href=\"#DejaVuSans-32\"/>\r\n     <use x=\"563.037109\" xlink:href=\"#DejaVuSans-53\"/>\r\n    </g>\r\n    <!-- value = [0, 5] -->\r\n    <g transform=\"translate(10.876607 84.699719)scale(0.01 -0.01)\">\r\n     <use xlink:href=\"#DejaVuSans-118\"/>\r\n     <use x=\"59.179688\" xlink:href=\"#DejaVuSans-97\"/>\r\n     <use x=\"120.458984\" xlink:href=\"#DejaVuSans-108\"/>\r\n     <use x=\"148.242188\" xlink:href=\"#DejaVuSans-117\"/>\r\n     <use x=\"211.621094\" xlink:href=\"#DejaVuSans-101\"/>\r\n     <use x=\"273.144531\" xlink:href=\"#DejaVuSans-32\"/>\r\n     <use x=\"304.931641\" xlink:href=\"#DejaVuSans-61\"/>\r\n     <use x=\"388.720703\" xlink:href=\"#DejaVuSans-32\"/>\r\n     <use x=\"420.507812\" xlink:href=\"#DejaVuSans-91\"/>\r\n     <use x=\"459.521484\" xlink:href=\"#DejaVuSans-48\"/>\r\n     <use x=\"523.144531\" xlink:href=\"#DejaVuSans-44\"/>\r\n     <use x=\"554.931641\" xlink:href=\"#DejaVuSans-32\"/>\r\n     <use x=\"586.71875\" xlink:href=\"#DejaVuSans-53\"/>\r\n     <use x=\"650.341797\" xlink:href=\"#DejaVuSans-93\"/>\r\n    </g>\r\n   </g>\r\n   <g id=\"patch_136\">\r\n    <path d=\"M 26.615024 77.335839 \r\nQ 24.516723 70.930833 22.070353 63.463354 \r\n\" style=\"fill:none;stroke:#000000;stroke-linecap:round;\"/>\r\n    <path d=\"M 26.680556 76.893453 \r\nL 26.615024 77.335839 \r\nL 26.300434 77.017982 \r\n\" style=\"fill:none;stroke:#000000;stroke-linecap:round;\"/>\r\n   </g>\r\n   <g id=\"text_68\">\r\n    <g id=\"patch_137\">\r\n     <path d=\"M 22.028807 85.781484 \r\nL 35.111619 85.781484 \r\nL 35.111619 80.798703 \r\nL 22.028807 80.798703 \r\nz\r\n\" style=\"fill:#ffffff;stroke:#000000;stroke-linejoin:miter;\"/>\r\n    </g>\r\n    <!-- serum_sodium &lt;= 138.5 -->\r\n    <g transform=\"translate(22.328807 81.886359)scale(0.01 -0.01)\">\r\n     <use xlink:href=\"#DejaVuSans-115\"/>\r\n     <use x=\"52.099609\" xlink:href=\"#DejaVuSans-101\"/>\r\n     <use x=\"113.623047\" xlink:href=\"#DejaVuSans-114\"/>\r\n     <use x=\"154.736328\" xlink:href=\"#DejaVuSans-117\"/>\r\n     <use x=\"218.115234\" xlink:href=\"#DejaVuSans-109\"/>\r\n     <use x=\"315.527344\" xlink:href=\"#DejaVuSans-95\"/>\r\n     <use x=\"365.527344\" xlink:href=\"#DejaVuSans-115\"/>\r\n     <use x=\"417.626953\" xlink:href=\"#DejaVuSans-111\"/>\r\n     <use x=\"478.808594\" xlink:href=\"#DejaVuSans-100\"/>\r\n     <use x=\"542.285156\" xlink:href=\"#DejaVuSans-105\"/>\r\n     <use x=\"570.068359\" xlink:href=\"#DejaVuSans-117\"/>\r\n     <use x=\"633.447266\" xlink:href=\"#DejaVuSans-109\"/>\r\n     <use x=\"730.859375\" xlink:href=\"#DejaVuSans-32\"/>\r\n     <use x=\"762.646484\" xlink:href=\"#DejaVuSans-60\"/>\r\n     <use x=\"846.435547\" xlink:href=\"#DejaVuSans-61\"/>\r\n     <use x=\"930.224609\" xlink:href=\"#DejaVuSans-32\"/>\r\n     <use x=\"962.011719\" xlink:href=\"#DejaVuSans-49\"/>\r\n     <use x=\"1025.634766\" xlink:href=\"#DejaVuSans-51\"/>\r\n     <use x=\"1089.257812\" xlink:href=\"#DejaVuSans-56\"/>\r\n     <use x=\"1152.880859\" xlink:href=\"#DejaVuSans-46\"/>\r\n     <use x=\"1184.667969\" xlink:href=\"#DejaVuSans-53\"/>\r\n    </g>\r\n    <!-- gini = 0.408 -->\r\n    <g transform=\"translate(25.4899 83.033953)scale(0.01 -0.01)\">\r\n     <use xlink:href=\"#DejaVuSans-103\"/>\r\n     <use x=\"63.476562\" xlink:href=\"#DejaVuSans-105\"/>\r\n     <use x=\"91.259766\" xlink:href=\"#DejaVuSans-110\"/>\r\n     <use x=\"154.638672\" xlink:href=\"#DejaVuSans-105\"/>\r\n     <use x=\"182.421875\" xlink:href=\"#DejaVuSans-32\"/>\r\n     <use x=\"214.208984\" xlink:href=\"#DejaVuSans-61\"/>\r\n     <use x=\"297.998047\" xlink:href=\"#DejaVuSans-32\"/>\r\n     <use x=\"329.785156\" xlink:href=\"#DejaVuSans-48\"/>\r\n     <use x=\"393.408203\" xlink:href=\"#DejaVuSans-46\"/>\r\n     <use x=\"425.195312\" xlink:href=\"#DejaVuSans-52\"/>\r\n     <use x=\"488.818359\" xlink:href=\"#DejaVuSans-48\"/>\r\n     <use x=\"552.441406\" xlink:href=\"#DejaVuSans-56\"/>\r\n    </g>\r\n    <!-- samples = 7 -->\r\n    <g transform=\"translate(25.436932 84.153734)scale(0.01 -0.01)\">\r\n     <use xlink:href=\"#DejaVuSans-115\"/>\r\n     <use x=\"52.099609\" xlink:href=\"#DejaVuSans-97\"/>\r\n     <use x=\"113.378906\" xlink:href=\"#DejaVuSans-109\"/>\r\n     <use x=\"210.791016\" xlink:href=\"#DejaVuSans-112\"/>\r\n     <use x=\"274.267578\" xlink:href=\"#DejaVuSans-108\"/>\r\n     <use x=\"302.050781\" xlink:href=\"#DejaVuSans-101\"/>\r\n     <use x=\"363.574219\" xlink:href=\"#DejaVuSans-115\"/>\r\n     <use x=\"415.673828\" xlink:href=\"#DejaVuSans-32\"/>\r\n     <use x=\"447.460938\" xlink:href=\"#DejaVuSans-61\"/>\r\n     <use x=\"531.25\" xlink:href=\"#DejaVuSans-32\"/>\r\n     <use x=\"563.037109\" xlink:href=\"#DejaVuSans-55\"/>\r\n    </g>\r\n    <!-- value = [5, 2] -->\r\n    <g transform=\"translate(25.123416 85.273516)scale(0.01 -0.01)\">\r\n     <use xlink:href=\"#DejaVuSans-118\"/>\r\n     <use x=\"59.179688\" xlink:href=\"#DejaVuSans-97\"/>\r\n     <use x=\"120.458984\" xlink:href=\"#DejaVuSans-108\"/>\r\n     <use x=\"148.242188\" xlink:href=\"#DejaVuSans-117\"/>\r\n     <use x=\"211.621094\" xlink:href=\"#DejaVuSans-101\"/>\r\n     <use x=\"273.144531\" xlink:href=\"#DejaVuSans-32\"/>\r\n     <use x=\"304.931641\" xlink:href=\"#DejaVuSans-61\"/>\r\n     <use x=\"388.720703\" xlink:href=\"#DejaVuSans-32\"/>\r\n     <use x=\"420.507812\" xlink:href=\"#DejaVuSans-91\"/>\r\n     <use x=\"459.521484\" xlink:href=\"#DejaVuSans-53\"/>\r\n     <use x=\"523.144531\" xlink:href=\"#DejaVuSans-44\"/>\r\n     <use x=\"554.931641\" xlink:href=\"#DejaVuSans-32\"/>\r\n     <use x=\"586.71875\" xlink:href=\"#DejaVuSans-50\"/>\r\n     <use x=\"650.341797\" xlink:href=\"#DejaVuSans-93\"/>\r\n    </g>\r\n   </g>\r\n   <g id=\"patch_138\">\r\n    <path d=\"M 80.389231 77.335839 \r\nQ 82.487532 70.930833 84.933902 63.463354 \r\n\" style=\"fill:none;stroke:#000000;stroke-linecap:round;\"/>\r\n    <path d=\"M 80.703821 77.017982 \r\nL 80.389231 77.335839 \r\nL 80.323699 76.893453 \r\n\" style=\"fill:none;stroke:#000000;stroke-linecap:round;\"/>\r\n   </g>\r\n   <g id=\"text_69\">\r\n    <g id=\"patch_139\">\r\n     <path d=\"M 71.845918 85.781484 \r\nL 85.022168 85.781484 \r\nL 85.022168 80.798703 \r\nL 71.845918 80.798703 \r\nz\r\n\" style=\"fill:#ffffff;stroke:#000000;stroke-linejoin:miter;\"/>\r\n    </g>\r\n    <!-- serum_creatinine &lt;= 0.7 -->\r\n    <g transform=\"translate(72.145918 81.886359)scale(0.01 -0.01)\">\r\n     <use xlink:href=\"#DejaVuSans-115\"/>\r\n     <use x=\"52.099609\" xlink:href=\"#DejaVuSans-101\"/>\r\n     <use x=\"113.623047\" xlink:href=\"#DejaVuSans-114\"/>\r\n     <use x=\"154.736328\" xlink:href=\"#DejaVuSans-117\"/>\r\n     <use x=\"218.115234\" xlink:href=\"#DejaVuSans-109\"/>\r\n     <use x=\"315.527344\" xlink:href=\"#DejaVuSans-95\"/>\r\n     <use x=\"365.527344\" xlink:href=\"#DejaVuSans-99\"/>\r\n     <use x=\"420.507812\" xlink:href=\"#DejaVuSans-114\"/>\r\n     <use x=\"461.589844\" xlink:href=\"#DejaVuSans-101\"/>\r\n     <use x=\"523.113281\" xlink:href=\"#DejaVuSans-97\"/>\r\n     <use x=\"584.392578\" xlink:href=\"#DejaVuSans-116\"/>\r\n     <use x=\"623.601562\" xlink:href=\"#DejaVuSans-105\"/>\r\n     <use x=\"651.384766\" xlink:href=\"#DejaVuSans-110\"/>\r\n     <use x=\"714.763672\" xlink:href=\"#DejaVuSans-105\"/>\r\n     <use x=\"742.546875\" xlink:href=\"#DejaVuSans-110\"/>\r\n     <use x=\"805.925781\" xlink:href=\"#DejaVuSans-101\"/>\r\n     <use x=\"867.449219\" xlink:href=\"#DejaVuSans-32\"/>\r\n     <use x=\"899.236328\" xlink:href=\"#DejaVuSans-60\"/>\r\n     <use x=\"983.025391\" xlink:href=\"#DejaVuSans-61\"/>\r\n     <use x=\"1066.814453\" xlink:href=\"#DejaVuSans-32\"/>\r\n     <use x=\"1098.601562\" xlink:href=\"#DejaVuSans-48\"/>\r\n     <use x=\"1162.224609\" xlink:href=\"#DejaVuSans-46\"/>\r\n     <use x=\"1194.011719\" xlink:href=\"#DejaVuSans-55\"/>\r\n    </g>\r\n    <!-- gini = 0.159 -->\r\n    <g transform=\"translate(75.35373 83.033953)scale(0.01 -0.01)\">\r\n     <use xlink:href=\"#DejaVuSans-103\"/>\r\n     <use x=\"63.476562\" xlink:href=\"#DejaVuSans-105\"/>\r\n     <use x=\"91.259766\" xlink:href=\"#DejaVuSans-110\"/>\r\n     <use x=\"154.638672\" xlink:href=\"#DejaVuSans-105\"/>\r\n     <use x=\"182.421875\" xlink:href=\"#DejaVuSans-32\"/>\r\n     <use x=\"214.208984\" xlink:href=\"#DejaVuSans-61\"/>\r\n     <use x=\"297.998047\" xlink:href=\"#DejaVuSans-32\"/>\r\n     <use x=\"329.785156\" xlink:href=\"#DejaVuSans-48\"/>\r\n     <use x=\"393.408203\" xlink:href=\"#DejaVuSans-46\"/>\r\n     <use x=\"425.195312\" xlink:href=\"#DejaVuSans-49\"/>\r\n     <use x=\"488.818359\" xlink:href=\"#DejaVuSans-53\"/>\r\n     <use x=\"552.441406\" xlink:href=\"#DejaVuSans-57\"/>\r\n    </g>\r\n    <!-- samples = 46 -->\r\n    <g transform=\"translate(74.982636 84.153734)scale(0.01 -0.01)\">\r\n     <use xlink:href=\"#DejaVuSans-115\"/>\r\n     <use x=\"52.099609\" xlink:href=\"#DejaVuSans-97\"/>\r\n     <use x=\"113.378906\" xlink:href=\"#DejaVuSans-109\"/>\r\n     <use x=\"210.791016\" xlink:href=\"#DejaVuSans-112\"/>\r\n     <use x=\"274.267578\" xlink:href=\"#DejaVuSans-108\"/>\r\n     <use x=\"302.050781\" xlink:href=\"#DejaVuSans-101\"/>\r\n     <use x=\"363.574219\" xlink:href=\"#DejaVuSans-115\"/>\r\n     <use x=\"415.673828\" xlink:href=\"#DejaVuSans-32\"/>\r\n     <use x=\"447.460938\" xlink:href=\"#DejaVuSans-61\"/>\r\n     <use x=\"531.25\" xlink:href=\"#DejaVuSans-32\"/>\r\n     <use x=\"563.037109\" xlink:href=\"#DejaVuSans-52\"/>\r\n     <use x=\"626.660156\" xlink:href=\"#DejaVuSans-54\"/>\r\n    </g>\r\n    <!-- value = [4, 42] -->\r\n    <g transform=\"translate(74.669121 85.273516)scale(0.01 -0.01)\">\r\n     <use xlink:href=\"#DejaVuSans-118\"/>\r\n     <use x=\"59.179688\" xlink:href=\"#DejaVuSans-97\"/>\r\n     <use x=\"120.458984\" xlink:href=\"#DejaVuSans-108\"/>\r\n     <use x=\"148.242188\" xlink:href=\"#DejaVuSans-117\"/>\r\n     <use x=\"211.621094\" xlink:href=\"#DejaVuSans-101\"/>\r\n     <use x=\"273.144531\" xlink:href=\"#DejaVuSans-32\"/>\r\n     <use x=\"304.931641\" xlink:href=\"#DejaVuSans-61\"/>\r\n     <use x=\"388.720703\" xlink:href=\"#DejaVuSans-32\"/>\r\n     <use x=\"420.507812\" xlink:href=\"#DejaVuSans-91\"/>\r\n     <use x=\"459.521484\" xlink:href=\"#DejaVuSans-52\"/>\r\n     <use x=\"523.144531\" xlink:href=\"#DejaVuSans-44\"/>\r\n     <use x=\"554.931641\" xlink:href=\"#DejaVuSans-32\"/>\r\n     <use x=\"586.71875\" xlink:href=\"#DejaVuSans-52\"/>\r\n     <use x=\"650.341797\" xlink:href=\"#DejaVuSans-50\"/>\r\n     <use x=\"713.964844\" xlink:href=\"#DejaVuSans-93\"/>\r\n    </g>\r\n   </g>\r\n   <g id=\"patch_140\">\r\n    <path d=\"M 90.922398 77.936369 \r\nQ 88.72569 71.230979 86.180914 63.463116 \r\n\" style=\"fill:none;stroke:#000000;stroke-linecap:round;\"/>\r\n    <path d=\"M 90.98793 77.493983 \r\nL 90.922398 77.936369 \r\nL 90.607808 77.618512 \r\n\" style=\"fill:none;stroke:#000000;stroke-linecap:round;\"/>\r\n   </g>\r\n   <g id=\"text_70\">\r\n    <g id=\"patch_141\">\r\n     <path d=\"M 88.934054 85.207687 \r\nL 96.427648 85.207687 \r\nL 96.427648 81.400312 \r\nL 88.934054 81.400312 \r\nz\r\n\" style=\"fill:#ffffff;stroke:#000000;stroke-linejoin:miter;\"/>\r\n    </g>\r\n    <!-- gini = 0.0 -->\r\n    <g transform=\"translate(90.236789 82.460156)scale(0.01 -0.01)\">\r\n     <use xlink:href=\"#DejaVuSans-103\"/>\r\n     <use x=\"63.476562\" xlink:href=\"#DejaVuSans-105\"/>\r\n     <use x=\"91.259766\" xlink:href=\"#DejaVuSans-110\"/>\r\n     <use x=\"154.638672\" xlink:href=\"#DejaVuSans-105\"/>\r\n     <use x=\"182.421875\" xlink:href=\"#DejaVuSans-32\"/>\r\n     <use x=\"214.208984\" xlink:href=\"#DejaVuSans-61\"/>\r\n     <use x=\"297.998047\" xlink:href=\"#DejaVuSans-32\"/>\r\n     <use x=\"329.785156\" xlink:href=\"#DejaVuSans-48\"/>\r\n     <use x=\"393.408203\" xlink:href=\"#DejaVuSans-46\"/>\r\n     <use x=\"425.195312\" xlink:href=\"#DejaVuSans-48\"/>\r\n    </g>\r\n    <!-- samples = 1 -->\r\n    <g transform=\"translate(89.54757 83.579937)scale(0.01 -0.01)\">\r\n     <use xlink:href=\"#DejaVuSans-115\"/>\r\n     <use x=\"52.099609\" xlink:href=\"#DejaVuSans-97\"/>\r\n     <use x=\"113.378906\" xlink:href=\"#DejaVuSans-109\"/>\r\n     <use x=\"210.791016\" xlink:href=\"#DejaVuSans-112\"/>\r\n     <use x=\"274.267578\" xlink:href=\"#DejaVuSans-108\"/>\r\n     <use x=\"302.050781\" xlink:href=\"#DejaVuSans-101\"/>\r\n     <use x=\"363.574219\" xlink:href=\"#DejaVuSans-115\"/>\r\n     <use x=\"415.673828\" xlink:href=\"#DejaVuSans-32\"/>\r\n     <use x=\"447.460938\" xlink:href=\"#DejaVuSans-61\"/>\r\n     <use x=\"531.25\" xlink:href=\"#DejaVuSans-32\"/>\r\n     <use x=\"563.037109\" xlink:href=\"#DejaVuSans-49\"/>\r\n    </g>\r\n    <!-- value = [1, 0] -->\r\n    <g transform=\"translate(89.234054 84.699719)scale(0.01 -0.01)\">\r\n     <use xlink:href=\"#DejaVuSans-118\"/>\r\n     <use x=\"59.179688\" xlink:href=\"#DejaVuSans-97\"/>\r\n     <use x=\"120.458984\" xlink:href=\"#DejaVuSans-108\"/>\r\n     <use x=\"148.242188\" xlink:href=\"#DejaVuSans-117\"/>\r\n     <use x=\"211.621094\" xlink:href=\"#DejaVuSans-101\"/>\r\n     <use x=\"273.144531\" xlink:href=\"#DejaVuSans-32\"/>\r\n     <use x=\"304.931641\" xlink:href=\"#DejaVuSans-61\"/>\r\n     <use x=\"388.720703\" xlink:href=\"#DejaVuSans-32\"/>\r\n     <use x=\"420.507812\" xlink:href=\"#DejaVuSans-91\"/>\r\n     <use x=\"459.521484\" xlink:href=\"#DejaVuSans-49\"/>\r\n     <use x=\"523.144531\" xlink:href=\"#DejaVuSans-44\"/>\r\n     <use x=\"554.931641\" xlink:href=\"#DejaVuSans-32\"/>\r\n     <use x=\"586.71875\" xlink:href=\"#DejaVuSans-48\"/>\r\n     <use x=\"650.341797\" xlink:href=\"#DejaVuSans-93\"/>\r\n    </g>\r\n   </g>\r\n   <g id=\"patch_142\">\r\n    <path d=\"M 183.537451 78.580685 \r\nQ 195.132022 70.928336 207.659716 62.660131 \r\n\" style=\"fill:none;stroke:#000000;stroke-linecap:round;\"/>\r\n    <path d=\"M 183.981464 78.527272 \r\nL 183.537451 78.580685 \r\nL 183.761128 78.193428 \r\n\" style=\"fill:none;stroke:#000000;stroke-linecap:round;\"/>\r\n   </g>\r\n   <g id=\"text_71\">\r\n    <g id=\"patch_143\">\r\n     <path d=\"M 169.654289 85.781484 \r\nL 183.107414 85.781484 \r\nL 183.107414 80.798703 \r\nL 169.654289 80.798703 \r\nz\r\n\" style=\"fill:#ffffff;stroke:#000000;stroke-linejoin:miter;\"/>\r\n    </g>\r\n    <!-- ejection_fraction &lt;= 27.5 -->\r\n    <g transform=\"translate(169.954289 81.886359)scale(0.01 -0.01)\">\r\n     <use xlink:href=\"#DejaVuSans-101\"/>\r\n     <use x=\"61.523438\" xlink:href=\"#DejaVuSans-106\"/>\r\n     <use x=\"89.306641\" xlink:href=\"#DejaVuSans-101\"/>\r\n     <use x=\"150.830078\" xlink:href=\"#DejaVuSans-99\"/>\r\n     <use x=\"205.810547\" xlink:href=\"#DejaVuSans-116\"/>\r\n     <use x=\"245.019531\" xlink:href=\"#DejaVuSans-105\"/>\r\n     <use x=\"272.802734\" xlink:href=\"#DejaVuSans-111\"/>\r\n     <use x=\"333.984375\" xlink:href=\"#DejaVuSans-110\"/>\r\n     <use x=\"397.363281\" xlink:href=\"#DejaVuSans-95\"/>\r\n     <use x=\"447.363281\" xlink:href=\"#DejaVuSans-102\"/>\r\n     <use x=\"482.568359\" xlink:href=\"#DejaVuSans-114\"/>\r\n     <use x=\"523.681641\" xlink:href=\"#DejaVuSans-97\"/>\r\n     <use x=\"584.960938\" xlink:href=\"#DejaVuSans-99\"/>\r\n     <use x=\"639.941406\" xlink:href=\"#DejaVuSans-116\"/>\r\n     <use x=\"679.150391\" xlink:href=\"#DejaVuSans-105\"/>\r\n     <use x=\"706.933594\" xlink:href=\"#DejaVuSans-111\"/>\r\n     <use x=\"768.115234\" xlink:href=\"#DejaVuSans-110\"/>\r\n     <use x=\"831.494141\" xlink:href=\"#DejaVuSans-32\"/>\r\n     <use x=\"863.28125\" xlink:href=\"#DejaVuSans-60\"/>\r\n     <use x=\"947.070312\" xlink:href=\"#DejaVuSans-61\"/>\r\n     <use x=\"1030.859375\" xlink:href=\"#DejaVuSans-32\"/>\r\n     <use x=\"1062.646484\" xlink:href=\"#DejaVuSans-50\"/>\r\n     <use x=\"1126.269531\" xlink:href=\"#DejaVuSans-55\"/>\r\n     <use x=\"1189.892578\" xlink:href=\"#DejaVuSans-46\"/>\r\n     <use x=\"1221.679688\" xlink:href=\"#DejaVuSans-53\"/>\r\n    </g>\r\n    <!-- gini = 0.111 -->\r\n    <g transform=\"translate(173.300539 83.033953)scale(0.01 -0.01)\">\r\n     <use xlink:href=\"#DejaVuSans-103\"/>\r\n     <use x=\"63.476562\" xlink:href=\"#DejaVuSans-105\"/>\r\n     <use x=\"91.259766\" xlink:href=\"#DejaVuSans-110\"/>\r\n     <use x=\"154.638672\" xlink:href=\"#DejaVuSans-105\"/>\r\n     <use x=\"182.421875\" xlink:href=\"#DejaVuSans-32\"/>\r\n     <use x=\"214.208984\" xlink:href=\"#DejaVuSans-61\"/>\r\n     <use x=\"297.998047\" xlink:href=\"#DejaVuSans-32\"/>\r\n     <use x=\"329.785156\" xlink:href=\"#DejaVuSans-48\"/>\r\n     <use x=\"393.408203\" xlink:href=\"#DejaVuSans-46\"/>\r\n     <use x=\"425.195312\" xlink:href=\"#DejaVuSans-49\"/>\r\n     <use x=\"488.818359\" xlink:href=\"#DejaVuSans-49\"/>\r\n     <use x=\"552.441406\" xlink:href=\"#DejaVuSans-49\"/>\r\n    </g>\r\n    <!-- samples = 135 -->\r\n    <g transform=\"translate(172.61132 84.153734)scale(0.01 -0.01)\">\r\n     <use xlink:href=\"#DejaVuSans-115\"/>\r\n     <use x=\"52.099609\" xlink:href=\"#DejaVuSans-97\"/>\r\n     <use x=\"113.378906\" xlink:href=\"#DejaVuSans-109\"/>\r\n     <use x=\"210.791016\" xlink:href=\"#DejaVuSans-112\"/>\r\n     <use x=\"274.267578\" xlink:href=\"#DejaVuSans-108\"/>\r\n     <use x=\"302.050781\" xlink:href=\"#DejaVuSans-101\"/>\r\n     <use x=\"363.574219\" xlink:href=\"#DejaVuSans-115\"/>\r\n     <use x=\"415.673828\" xlink:href=\"#DejaVuSans-32\"/>\r\n     <use x=\"447.460938\" xlink:href=\"#DejaVuSans-61\"/>\r\n     <use x=\"531.25\" xlink:href=\"#DejaVuSans-32\"/>\r\n     <use x=\"563.037109\" xlink:href=\"#DejaVuSans-49\"/>\r\n     <use x=\"626.660156\" xlink:href=\"#DejaVuSans-51\"/>\r\n     <use x=\"690.283203\" xlink:href=\"#DejaVuSans-53\"/>\r\n    </g>\r\n    <!-- value = [127, 8] -->\r\n    <g transform=\"translate(172.297804 85.273516)scale(0.01 -0.01)\">\r\n     <use xlink:href=\"#DejaVuSans-118\"/>\r\n     <use x=\"59.179688\" xlink:href=\"#DejaVuSans-97\"/>\r\n     <use x=\"120.458984\" xlink:href=\"#DejaVuSans-108\"/>\r\n     <use x=\"148.242188\" xlink:href=\"#DejaVuSans-117\"/>\r\n     <use x=\"211.621094\" xlink:href=\"#DejaVuSans-101\"/>\r\n     <use x=\"273.144531\" xlink:href=\"#DejaVuSans-32\"/>\r\n     <use x=\"304.931641\" xlink:href=\"#DejaVuSans-61\"/>\r\n     <use x=\"388.720703\" xlink:href=\"#DejaVuSans-32\"/>\r\n     <use x=\"420.507812\" xlink:href=\"#DejaVuSans-91\"/>\r\n     <use x=\"459.521484\" xlink:href=\"#DejaVuSans-49\"/>\r\n     <use x=\"523.144531\" xlink:href=\"#DejaVuSans-50\"/>\r\n     <use x=\"586.767578\" xlink:href=\"#DejaVuSans-55\"/>\r\n     <use x=\"650.390625\" xlink:href=\"#DejaVuSans-44\"/>\r\n     <use x=\"682.177734\" xlink:href=\"#DejaVuSans-32\"/>\r\n     <use x=\"713.964844\" xlink:href=\"#DejaVuSans-56\"/>\r\n     <use x=\"777.587891\" xlink:href=\"#DejaVuSans-93\"/>\r\n    </g>\r\n   </g>\r\n   <g id=\"patch_144\">\r\n    <path d=\"M 235.11574 78.580685 \r\nQ 223.52117 70.928336 210.993476 62.660131 \r\n\" style=\"fill:none;stroke:#000000;stroke-linecap:round;\"/>\r\n    <path d=\"M 234.892063 78.193428 \r\nL 235.11574 78.580685 \r\nL 234.671728 78.527272 \r\n\" style=\"fill:none;stroke:#000000;stroke-linecap:round;\"/>\r\n   </g>\r\n   <g id=\"text_72\">\r\n    <g id=\"patch_145\">\r\n     <path d=\"M 235.730934 85.781484 \r\nL 248.813747 85.781484 \r\nL 248.813747 80.798703 \r\nL 235.730934 80.798703 \r\nz\r\n\" style=\"fill:#ffffff;stroke:#000000;stroke-linejoin:miter;\"/>\r\n    </g>\r\n    <!-- serum_sodium &lt;= 135.5 -->\r\n    <g transform=\"translate(236.030934 81.886359)scale(0.01 -0.01)\">\r\n     <use xlink:href=\"#DejaVuSans-115\"/>\r\n     <use x=\"52.099609\" xlink:href=\"#DejaVuSans-101\"/>\r\n     <use x=\"113.623047\" xlink:href=\"#DejaVuSans-114\"/>\r\n     <use x=\"154.736328\" xlink:href=\"#DejaVuSans-117\"/>\r\n     <use x=\"218.115234\" xlink:href=\"#DejaVuSans-109\"/>\r\n     <use x=\"315.527344\" xlink:href=\"#DejaVuSans-95\"/>\r\n     <use x=\"365.527344\" xlink:href=\"#DejaVuSans-115\"/>\r\n     <use x=\"417.626953\" xlink:href=\"#DejaVuSans-111\"/>\r\n     <use x=\"478.808594\" xlink:href=\"#DejaVuSans-100\"/>\r\n     <use x=\"542.285156\" xlink:href=\"#DejaVuSans-105\"/>\r\n     <use x=\"570.068359\" xlink:href=\"#DejaVuSans-117\"/>\r\n     <use x=\"633.447266\" xlink:href=\"#DejaVuSans-109\"/>\r\n     <use x=\"730.859375\" xlink:href=\"#DejaVuSans-32\"/>\r\n     <use x=\"762.646484\" xlink:href=\"#DejaVuSans-60\"/>\r\n     <use x=\"846.435547\" xlink:href=\"#DejaVuSans-61\"/>\r\n     <use x=\"930.224609\" xlink:href=\"#DejaVuSans-32\"/>\r\n     <use x=\"962.011719\" xlink:href=\"#DejaVuSans-49\"/>\r\n     <use x=\"1025.634766\" xlink:href=\"#DejaVuSans-51\"/>\r\n     <use x=\"1089.257812\" xlink:href=\"#DejaVuSans-53\"/>\r\n     <use x=\"1152.880859\" xlink:href=\"#DejaVuSans-46\"/>\r\n     <use x=\"1184.667969\" xlink:href=\"#DejaVuSans-53\"/>\r\n    </g>\r\n    <!-- gini = 0.5 -->\r\n    <g transform=\"translate(239.828278 83.033953)scale(0.01 -0.01)\">\r\n     <use xlink:href=\"#DejaVuSans-103\"/>\r\n     <use x=\"63.476562\" xlink:href=\"#DejaVuSans-105\"/>\r\n     <use x=\"91.259766\" xlink:href=\"#DejaVuSans-110\"/>\r\n     <use x=\"154.638672\" xlink:href=\"#DejaVuSans-105\"/>\r\n     <use x=\"182.421875\" xlink:href=\"#DejaVuSans-32\"/>\r\n     <use x=\"214.208984\" xlink:href=\"#DejaVuSans-61\"/>\r\n     <use x=\"297.998047\" xlink:href=\"#DejaVuSans-32\"/>\r\n     <use x=\"329.785156\" xlink:href=\"#DejaVuSans-48\"/>\r\n     <use x=\"393.408203\" xlink:href=\"#DejaVuSans-46\"/>\r\n     <use x=\"425.195312\" xlink:href=\"#DejaVuSans-53\"/>\r\n    </g>\r\n    <!-- samples = 8 -->\r\n    <g transform=\"translate(239.139059 84.153734)scale(0.01 -0.01)\">\r\n     <use xlink:href=\"#DejaVuSans-115\"/>\r\n     <use x=\"52.099609\" xlink:href=\"#DejaVuSans-97\"/>\r\n     <use x=\"113.378906\" xlink:href=\"#DejaVuSans-109\"/>\r\n     <use x=\"210.791016\" xlink:href=\"#DejaVuSans-112\"/>\r\n     <use x=\"274.267578\" xlink:href=\"#DejaVuSans-108\"/>\r\n     <use x=\"302.050781\" xlink:href=\"#DejaVuSans-101\"/>\r\n     <use x=\"363.574219\" xlink:href=\"#DejaVuSans-115\"/>\r\n     <use x=\"415.673828\" xlink:href=\"#DejaVuSans-32\"/>\r\n     <use x=\"447.460938\" xlink:href=\"#DejaVuSans-61\"/>\r\n     <use x=\"531.25\" xlink:href=\"#DejaVuSans-32\"/>\r\n     <use x=\"563.037109\" xlink:href=\"#DejaVuSans-56\"/>\r\n    </g>\r\n    <!-- value = [4, 4] -->\r\n    <g transform=\"translate(238.825544 85.273516)scale(0.01 -0.01)\">\r\n     <use xlink:href=\"#DejaVuSans-118\"/>\r\n     <use x=\"59.179688\" xlink:href=\"#DejaVuSans-97\"/>\r\n     <use x=\"120.458984\" xlink:href=\"#DejaVuSans-108\"/>\r\n     <use x=\"148.242188\" xlink:href=\"#DejaVuSans-117\"/>\r\n     <use x=\"211.621094\" xlink:href=\"#DejaVuSans-101\"/>\r\n     <use x=\"273.144531\" xlink:href=\"#DejaVuSans-32\"/>\r\n     <use x=\"304.931641\" xlink:href=\"#DejaVuSans-61\"/>\r\n     <use x=\"388.720703\" xlink:href=\"#DejaVuSans-32\"/>\r\n     <use x=\"420.507812\" xlink:href=\"#DejaVuSans-91\"/>\r\n     <use x=\"459.521484\" xlink:href=\"#DejaVuSans-52\"/>\r\n     <use x=\"523.144531\" xlink:href=\"#DejaVuSans-44\"/>\r\n     <use x=\"554.931641\" xlink:href=\"#DejaVuSans-32\"/>\r\n     <use x=\"586.71875\" xlink:href=\"#DejaVuSans-52\"/>\r\n     <use x=\"650.341797\" xlink:href=\"#DejaVuSans-93\"/>\r\n    </g>\r\n   </g>\r\n   <g id=\"patch_146\">\r\n    <path d=\"M 277.187081 78.403923 \r\nQ 286.984308 70.92748 297.670335 62.772778 \r\n\" style=\"fill:none;stroke:#000000;stroke-linecap:round;\"/>\r\n    <path d=\"M 277.626398 78.320255 \r\nL 277.187081 78.403923 \r\nL 277.383737 78.002269 \r\n\" style=\"fill:none;stroke:#000000;stroke-linecap:round;\"/>\r\n   </g>\r\n   <g id=\"text_73\">\r\n    <g id=\"patch_147\">\r\n     <path d=\"M 261.676504 85.781484 \r\nL 279.855411 85.781484 \r\nL 279.855411 80.798703 \r\nL 261.676504 80.798703 \r\nz\r\n\" style=\"fill:#ffffff;stroke:#000000;stroke-linejoin:miter;\"/>\r\n    </g>\r\n    <!-- creatinine_phosphokinase &lt;= 62.5 -->\r\n    <g transform=\"translate(261.976504 81.886359)scale(0.01 -0.01)\">\r\n     <use xlink:href=\"#DejaVuSans-99\"/>\r\n     <use x=\"54.980469\" xlink:href=\"#DejaVuSans-114\"/>\r\n     <use x=\"96.0625\" xlink:href=\"#DejaVuSans-101\"/>\r\n     <use x=\"157.585938\" xlink:href=\"#DejaVuSans-97\"/>\r\n     <use x=\"218.865234\" xlink:href=\"#DejaVuSans-116\"/>\r\n     <use x=\"258.074219\" xlink:href=\"#DejaVuSans-105\"/>\r\n     <use x=\"285.857422\" xlink:href=\"#DejaVuSans-110\"/>\r\n     <use x=\"349.236328\" xlink:href=\"#DejaVuSans-105\"/>\r\n     <use x=\"377.019531\" xlink:href=\"#DejaVuSans-110\"/>\r\n     <use x=\"440.398438\" xlink:href=\"#DejaVuSans-101\"/>\r\n     <use x=\"501.921875\" xlink:href=\"#DejaVuSans-95\"/>\r\n     <use x=\"551.921875\" xlink:href=\"#DejaVuSans-112\"/>\r\n     <use x=\"615.398438\" xlink:href=\"#DejaVuSans-104\"/>\r\n     <use x=\"678.777344\" xlink:href=\"#DejaVuSans-111\"/>\r\n     <use x=\"739.958984\" xlink:href=\"#DejaVuSans-115\"/>\r\n     <use x=\"792.058594\" xlink:href=\"#DejaVuSans-112\"/>\r\n     <use x=\"855.535156\" xlink:href=\"#DejaVuSans-104\"/>\r\n     <use x=\"918.914062\" xlink:href=\"#DejaVuSans-111\"/>\r\n     <use x=\"980.095703\" xlink:href=\"#DejaVuSans-107\"/>\r\n     <use x=\"1038.005859\" xlink:href=\"#DejaVuSans-105\"/>\r\n     <use x=\"1065.789062\" xlink:href=\"#DejaVuSans-110\"/>\r\n     <use x=\"1129.167969\" xlink:href=\"#DejaVuSans-97\"/>\r\n     <use x=\"1190.447266\" xlink:href=\"#DejaVuSans-115\"/>\r\n     <use x=\"1242.546875\" xlink:href=\"#DejaVuSans-101\"/>\r\n     <use x=\"1304.070312\" xlink:href=\"#DejaVuSans-32\"/>\r\n     <use x=\"1335.857422\" xlink:href=\"#DejaVuSans-60\"/>\r\n     <use x=\"1419.646484\" xlink:href=\"#DejaVuSans-61\"/>\r\n     <use x=\"1503.435547\" xlink:href=\"#DejaVuSans-32\"/>\r\n     <use x=\"1535.222656\" xlink:href=\"#DejaVuSans-54\"/>\r\n     <use x=\"1598.845703\" xlink:href=\"#DejaVuSans-50\"/>\r\n     <use x=\"1662.46875\" xlink:href=\"#DejaVuSans-46\"/>\r\n     <use x=\"1694.255859\" xlink:href=\"#DejaVuSans-53\"/>\r\n    </g>\r\n    <!-- gini = 0.432 -->\r\n    <g transform=\"translate(267.685645 83.033953)scale(0.01 -0.01)\">\r\n     <use xlink:href=\"#DejaVuSans-103\"/>\r\n     <use x=\"63.476562\" xlink:href=\"#DejaVuSans-105\"/>\r\n     <use x=\"91.259766\" xlink:href=\"#DejaVuSans-110\"/>\r\n     <use x=\"154.638672\" xlink:href=\"#DejaVuSans-105\"/>\r\n     <use x=\"182.421875\" xlink:href=\"#DejaVuSans-32\"/>\r\n     <use x=\"214.208984\" xlink:href=\"#DejaVuSans-61\"/>\r\n     <use x=\"297.998047\" xlink:href=\"#DejaVuSans-32\"/>\r\n     <use x=\"329.785156\" xlink:href=\"#DejaVuSans-48\"/>\r\n     <use x=\"393.408203\" xlink:href=\"#DejaVuSans-46\"/>\r\n     <use x=\"425.195312\" xlink:href=\"#DejaVuSans-52\"/>\r\n     <use x=\"488.818359\" xlink:href=\"#DejaVuSans-51\"/>\r\n     <use x=\"552.441406\" xlink:href=\"#DejaVuSans-50\"/>\r\n    </g>\r\n    <!-- samples = 19 -->\r\n    <g transform=\"translate(267.314551 84.153734)scale(0.01 -0.01)\">\r\n     <use xlink:href=\"#DejaVuSans-115\"/>\r\n     <use x=\"52.099609\" xlink:href=\"#DejaVuSans-97\"/>\r\n     <use x=\"113.378906\" xlink:href=\"#DejaVuSans-109\"/>\r\n     <use x=\"210.791016\" xlink:href=\"#DejaVuSans-112\"/>\r\n     <use x=\"274.267578\" xlink:href=\"#DejaVuSans-108\"/>\r\n     <use x=\"302.050781\" xlink:href=\"#DejaVuSans-101\"/>\r\n     <use x=\"363.574219\" xlink:href=\"#DejaVuSans-115\"/>\r\n     <use x=\"415.673828\" xlink:href=\"#DejaVuSans-32\"/>\r\n     <use x=\"447.460938\" xlink:href=\"#DejaVuSans-61\"/>\r\n     <use x=\"531.25\" xlink:href=\"#DejaVuSans-32\"/>\r\n     <use x=\"563.037109\" xlink:href=\"#DejaVuSans-49\"/>\r\n     <use x=\"626.660156\" xlink:href=\"#DejaVuSans-57\"/>\r\n    </g>\r\n    <!-- value = [6, 13] -->\r\n    <g transform=\"translate(267.001036 85.273516)scale(0.01 -0.01)\">\r\n     <use xlink:href=\"#DejaVuSans-118\"/>\r\n     <use x=\"59.179688\" xlink:href=\"#DejaVuSans-97\"/>\r\n     <use x=\"120.458984\" xlink:href=\"#DejaVuSans-108\"/>\r\n     <use x=\"148.242188\" xlink:href=\"#DejaVuSans-117\"/>\r\n     <use x=\"211.621094\" xlink:href=\"#DejaVuSans-101\"/>\r\n     <use x=\"273.144531\" xlink:href=\"#DejaVuSans-32\"/>\r\n     <use x=\"304.931641\" xlink:href=\"#DejaVuSans-61\"/>\r\n     <use x=\"388.720703\" xlink:href=\"#DejaVuSans-32\"/>\r\n     <use x=\"420.507812\" xlink:href=\"#DejaVuSans-91\"/>\r\n     <use x=\"459.521484\" xlink:href=\"#DejaVuSans-54\"/>\r\n     <use x=\"523.144531\" xlink:href=\"#DejaVuSans-44\"/>\r\n     <use x=\"554.931641\" xlink:href=\"#DejaVuSans-32\"/>\r\n     <use x=\"586.71875\" xlink:href=\"#DejaVuSans-49\"/>\r\n     <use x=\"650.341797\" xlink:href=\"#DejaVuSans-51\"/>\r\n     <use x=\"713.964844\" xlink:href=\"#DejaVuSans-93\"/>\r\n    </g>\r\n   </g>\r\n   <g id=\"patch_148\">\r\n    <path d=\"M 321.332068 78.403923 \r\nQ 311.534841 70.92748 300.848814 62.772778 \r\n\" style=\"fill:none;stroke:#000000;stroke-linecap:round;\"/>\r\n    <path d=\"M 321.135412 78.002269 \r\nL 321.332068 78.403923 \r\nL 320.892751 78.320255 \r\n\" style=\"fill:none;stroke:#000000;stroke-linecap:round;\"/>\r\n   </g>\r\n   <g id=\"text_74\">\r\n    <g id=\"patch_149\">\r\n     <path d=\"M 320.846941 85.781484 \r\nL 334.659441 85.781484 \r\nL 334.659441 80.798703 \r\nL 320.846941 80.798703 \r\nz\r\n\" style=\"fill:#ffffff;stroke:#000000;stroke-linejoin:miter;\"/>\r\n    </g>\r\n    <!-- serum_creatinine &lt;= 3.55 -->\r\n    <g transform=\"translate(321.146941 81.886359)scale(0.01 -0.01)\">\r\n     <use xlink:href=\"#DejaVuSans-115\"/>\r\n     <use x=\"52.099609\" xlink:href=\"#DejaVuSans-101\"/>\r\n     <use x=\"113.623047\" xlink:href=\"#DejaVuSans-114\"/>\r\n     <use x=\"154.736328\" xlink:href=\"#DejaVuSans-117\"/>\r\n     <use x=\"218.115234\" xlink:href=\"#DejaVuSans-109\"/>\r\n     <use x=\"315.527344\" xlink:href=\"#DejaVuSans-95\"/>\r\n     <use x=\"365.527344\" xlink:href=\"#DejaVuSans-99\"/>\r\n     <use x=\"420.507812\" xlink:href=\"#DejaVuSans-114\"/>\r\n     <use x=\"461.589844\" xlink:href=\"#DejaVuSans-101\"/>\r\n     <use x=\"523.113281\" xlink:href=\"#DejaVuSans-97\"/>\r\n     <use x=\"584.392578\" xlink:href=\"#DejaVuSans-116\"/>\r\n     <use x=\"623.601562\" xlink:href=\"#DejaVuSans-105\"/>\r\n     <use x=\"651.384766\" xlink:href=\"#DejaVuSans-110\"/>\r\n     <use x=\"714.763672\" xlink:href=\"#DejaVuSans-105\"/>\r\n     <use x=\"742.546875\" xlink:href=\"#DejaVuSans-110\"/>\r\n     <use x=\"805.925781\" xlink:href=\"#DejaVuSans-101\"/>\r\n     <use x=\"867.449219\" xlink:href=\"#DejaVuSans-32\"/>\r\n     <use x=\"899.236328\" xlink:href=\"#DejaVuSans-60\"/>\r\n     <use x=\"983.025391\" xlink:href=\"#DejaVuSans-61\"/>\r\n     <use x=\"1066.814453\" xlink:href=\"#DejaVuSans-32\"/>\r\n     <use x=\"1098.601562\" xlink:href=\"#DejaVuSans-51\"/>\r\n     <use x=\"1162.224609\" xlink:href=\"#DejaVuSans-46\"/>\r\n     <use x=\"1194.011719\" xlink:href=\"#DejaVuSans-53\"/>\r\n     <use x=\"1257.634766\" xlink:href=\"#DejaVuSans-53\"/>\r\n    </g>\r\n    <!-- gini = 0.401 -->\r\n    <g transform=\"translate(324.672879 83.033953)scale(0.01 -0.01)\">\r\n     <use xlink:href=\"#DejaVuSans-103\"/>\r\n     <use x=\"63.476562\" xlink:href=\"#DejaVuSans-105\"/>\r\n     <use x=\"91.259766\" xlink:href=\"#DejaVuSans-110\"/>\r\n     <use x=\"154.638672\" xlink:href=\"#DejaVuSans-105\"/>\r\n     <use x=\"182.421875\" xlink:href=\"#DejaVuSans-32\"/>\r\n     <use x=\"214.208984\" xlink:href=\"#DejaVuSans-61\"/>\r\n     <use x=\"297.998047\" xlink:href=\"#DejaVuSans-32\"/>\r\n     <use x=\"329.785156\" xlink:href=\"#DejaVuSans-48\"/>\r\n     <use x=\"393.408203\" xlink:href=\"#DejaVuSans-46\"/>\r\n     <use x=\"425.195312\" xlink:href=\"#DejaVuSans-52\"/>\r\n     <use x=\"488.818359\" xlink:href=\"#DejaVuSans-48\"/>\r\n     <use x=\"552.441406\" xlink:href=\"#DejaVuSans-49\"/>\r\n    </g>\r\n    <!-- samples = 18 -->\r\n    <g transform=\"translate(324.301785 84.153734)scale(0.01 -0.01)\">\r\n     <use xlink:href=\"#DejaVuSans-115\"/>\r\n     <use x=\"52.099609\" xlink:href=\"#DejaVuSans-97\"/>\r\n     <use x=\"113.378906\" xlink:href=\"#DejaVuSans-109\"/>\r\n     <use x=\"210.791016\" xlink:href=\"#DejaVuSans-112\"/>\r\n     <use x=\"274.267578\" xlink:href=\"#DejaVuSans-108\"/>\r\n     <use x=\"302.050781\" xlink:href=\"#DejaVuSans-101\"/>\r\n     <use x=\"363.574219\" xlink:href=\"#DejaVuSans-115\"/>\r\n     <use x=\"415.673828\" xlink:href=\"#DejaVuSans-32\"/>\r\n     <use x=\"447.460938\" xlink:href=\"#DejaVuSans-61\"/>\r\n     <use x=\"531.25\" xlink:href=\"#DejaVuSans-32\"/>\r\n     <use x=\"563.037109\" xlink:href=\"#DejaVuSans-49\"/>\r\n     <use x=\"626.660156\" xlink:href=\"#DejaVuSans-56\"/>\r\n    </g>\r\n    <!-- value = [13, 5] -->\r\n    <g transform=\"translate(323.98827 85.273516)scale(0.01 -0.01)\">\r\n     <use xlink:href=\"#DejaVuSans-118\"/>\r\n     <use x=\"59.179688\" xlink:href=\"#DejaVuSans-97\"/>\r\n     <use x=\"120.458984\" xlink:href=\"#DejaVuSans-108\"/>\r\n     <use x=\"148.242188\" xlink:href=\"#DejaVuSans-117\"/>\r\n     <use x=\"211.621094\" xlink:href=\"#DejaVuSans-101\"/>\r\n     <use x=\"273.144531\" xlink:href=\"#DejaVuSans-32\"/>\r\n     <use x=\"304.931641\" xlink:href=\"#DejaVuSans-61\"/>\r\n     <use x=\"388.720703\" xlink:href=\"#DejaVuSans-32\"/>\r\n     <use x=\"420.507812\" xlink:href=\"#DejaVuSans-91\"/>\r\n     <use x=\"459.521484\" xlink:href=\"#DejaVuSans-49\"/>\r\n     <use x=\"523.144531\" xlink:href=\"#DejaVuSans-51\"/>\r\n     <use x=\"586.767578\" xlink:href=\"#DejaVuSans-44\"/>\r\n     <use x=\"618.554688\" xlink:href=\"#DejaVuSans-32\"/>\r\n     <use x=\"650.341797\" xlink:href=\"#DejaVuSans-53\"/>\r\n     <use x=\"713.964844\" xlink:href=\"#DejaVuSans-93\"/>\r\n    </g>\r\n   </g>\r\n   <g id=\"patch_150\">\r\n    <path d=\"M 28.461052 56.802047 \r\nQ 39.690083 49.185088 51.844365 40.940506 \r\n\" style=\"fill:none;stroke:#000000;stroke-linecap:round;\"/>\r\n    <path d=\"M 28.904352 56.743016 \r\nL 28.461052 56.802047 \r\nL 28.679807 56.411988 \r\n\" style=\"fill:none;stroke:#000000;stroke-linecap:round;\"/>\r\n   </g>\r\n   <g id=\"text_75\">\r\n    <g id=\"patch_151\">\r\n     <path d=\"M 14.905402 64.037484 \r\nL 27.988215 64.037484 \r\nL 27.988215 59.054703 \r\nL 14.905402 59.054703 \r\nz\r\n\" style=\"fill:#ffffff;stroke:#000000;stroke-linejoin:miter;\"/>\r\n    </g>\r\n    <!-- serum_sodium &lt;= 134.5 -->\r\n    <g transform=\"translate(15.205402 60.142359)scale(0.01 -0.01)\">\r\n     <use xlink:href=\"#DejaVuSans-115\"/>\r\n     <use x=\"52.099609\" xlink:href=\"#DejaVuSans-101\"/>\r\n     <use x=\"113.623047\" xlink:href=\"#DejaVuSans-114\"/>\r\n     <use x=\"154.736328\" xlink:href=\"#DejaVuSans-117\"/>\r\n     <use x=\"218.115234\" xlink:href=\"#DejaVuSans-109\"/>\r\n     <use x=\"315.527344\" xlink:href=\"#DejaVuSans-95\"/>\r\n     <use x=\"365.527344\" xlink:href=\"#DejaVuSans-115\"/>\r\n     <use x=\"417.626953\" xlink:href=\"#DejaVuSans-111\"/>\r\n     <use x=\"478.808594\" xlink:href=\"#DejaVuSans-100\"/>\r\n     <use x=\"542.285156\" xlink:href=\"#DejaVuSans-105\"/>\r\n     <use x=\"570.068359\" xlink:href=\"#DejaVuSans-117\"/>\r\n     <use x=\"633.447266\" xlink:href=\"#DejaVuSans-109\"/>\r\n     <use x=\"730.859375\" xlink:href=\"#DejaVuSans-32\"/>\r\n     <use x=\"762.646484\" xlink:href=\"#DejaVuSans-60\"/>\r\n     <use x=\"846.435547\" xlink:href=\"#DejaVuSans-61\"/>\r\n     <use x=\"930.224609\" xlink:href=\"#DejaVuSans-32\"/>\r\n     <use x=\"962.011719\" xlink:href=\"#DejaVuSans-49\"/>\r\n     <use x=\"1025.634766\" xlink:href=\"#DejaVuSans-51\"/>\r\n     <use x=\"1089.257812\" xlink:href=\"#DejaVuSans-52\"/>\r\n     <use x=\"1152.880859\" xlink:href=\"#DejaVuSans-46\"/>\r\n     <use x=\"1184.667969\" xlink:href=\"#DejaVuSans-53\"/>\r\n    </g>\r\n    <!-- gini = 0.486 -->\r\n    <g transform=\"translate(18.366496 61.289953)scale(0.01 -0.01)\">\r\n     <use xlink:href=\"#DejaVuSans-103\"/>\r\n     <use x=\"63.476562\" xlink:href=\"#DejaVuSans-105\"/>\r\n     <use x=\"91.259766\" xlink:href=\"#DejaVuSans-110\"/>\r\n     <use x=\"154.638672\" xlink:href=\"#DejaVuSans-105\"/>\r\n     <use x=\"182.421875\" xlink:href=\"#DejaVuSans-32\"/>\r\n     <use x=\"214.208984\" xlink:href=\"#DejaVuSans-61\"/>\r\n     <use x=\"297.998047\" xlink:href=\"#DejaVuSans-32\"/>\r\n     <use x=\"329.785156\" xlink:href=\"#DejaVuSans-48\"/>\r\n     <use x=\"393.408203\" xlink:href=\"#DejaVuSans-46\"/>\r\n     <use x=\"425.195312\" xlink:href=\"#DejaVuSans-52\"/>\r\n     <use x=\"488.818359\" xlink:href=\"#DejaVuSans-56\"/>\r\n     <use x=\"552.441406\" xlink:href=\"#DejaVuSans-54\"/>\r\n    </g>\r\n    <!-- samples = 12 -->\r\n    <g transform=\"translate(17.995402 62.409734)scale(0.01 -0.01)\">\r\n     <use xlink:href=\"#DejaVuSans-115\"/>\r\n     <use x=\"52.099609\" xlink:href=\"#DejaVuSans-97\"/>\r\n     <use x=\"113.378906\" xlink:href=\"#DejaVuSans-109\"/>\r\n     <use x=\"210.791016\" xlink:href=\"#DejaVuSans-112\"/>\r\n     <use x=\"274.267578\" xlink:href=\"#DejaVuSans-108\"/>\r\n     <use x=\"302.050781\" xlink:href=\"#DejaVuSans-101\"/>\r\n     <use x=\"363.574219\" xlink:href=\"#DejaVuSans-115\"/>\r\n     <use x=\"415.673828\" xlink:href=\"#DejaVuSans-32\"/>\r\n     <use x=\"447.460938\" xlink:href=\"#DejaVuSans-61\"/>\r\n     <use x=\"531.25\" xlink:href=\"#DejaVuSans-32\"/>\r\n     <use x=\"563.037109\" xlink:href=\"#DejaVuSans-49\"/>\r\n     <use x=\"626.660156\" xlink:href=\"#DejaVuSans-50\"/>\r\n    </g>\r\n    <!-- value = [5, 7] -->\r\n    <g transform=\"translate(18.000012 63.529516)scale(0.01 -0.01)\">\r\n     <use xlink:href=\"#DejaVuSans-118\"/>\r\n     <use x=\"59.179688\" xlink:href=\"#DejaVuSans-97\"/>\r\n     <use x=\"120.458984\" xlink:href=\"#DejaVuSans-108\"/>\r\n     <use x=\"148.242188\" xlink:href=\"#DejaVuSans-117\"/>\r\n     <use x=\"211.621094\" xlink:href=\"#DejaVuSans-101\"/>\r\n     <use x=\"273.144531\" xlink:href=\"#DejaVuSans-32\"/>\r\n     <use x=\"304.931641\" xlink:href=\"#DejaVuSans-61\"/>\r\n     <use x=\"388.720703\" xlink:href=\"#DejaVuSans-32\"/>\r\n     <use x=\"420.507812\" xlink:href=\"#DejaVuSans-91\"/>\r\n     <use x=\"459.521484\" xlink:href=\"#DejaVuSans-53\"/>\r\n     <use x=\"523.144531\" xlink:href=\"#DejaVuSans-44\"/>\r\n     <use x=\"554.931641\" xlink:href=\"#DejaVuSans-32\"/>\r\n     <use x=\"586.71875\" xlink:href=\"#DejaVuSans-55\"/>\r\n     <use x=\"650.341797\" xlink:href=\"#DejaVuSans-93\"/>\r\n    </g>\r\n   </g>\r\n   <g id=\"patch_152\">\r\n    <path d=\"M 78.543204 56.802047 \r\nQ 67.314172 49.185088 55.15989 40.940506 \r\n\" style=\"fill:none;stroke:#000000;stroke-linecap:round;\"/>\r\n    <path d=\"M 78.324449 56.411988 \r\nL 78.543204 56.802047 \r\nL 78.099903 56.743016 \r\n\" style=\"fill:none;stroke:#000000;stroke-linecap:round;\"/>\r\n   </g>\r\n   <g id=\"text_76\">\r\n    <g id=\"patch_153\">\r\n     <path d=\"M 78.830884 64.037484 \r\nL 92.284009 64.037484 \r\nL 92.284009 59.054703 \r\nL 78.830884 59.054703 \r\nz\r\n\" style=\"fill:#ffffff;stroke:#000000;stroke-linejoin:miter;\"/>\r\n    </g>\r\n    <!-- ejection_fraction &lt;= 72.5 -->\r\n    <g transform=\"translate(79.130884 60.142359)scale(0.01 -0.01)\">\r\n     <use xlink:href=\"#DejaVuSans-101\"/>\r\n     <use x=\"61.523438\" xlink:href=\"#DejaVuSans-106\"/>\r\n     <use x=\"89.306641\" xlink:href=\"#DejaVuSans-101\"/>\r\n     <use x=\"150.830078\" xlink:href=\"#DejaVuSans-99\"/>\r\n     <use x=\"205.810547\" xlink:href=\"#DejaVuSans-116\"/>\r\n     <use x=\"245.019531\" xlink:href=\"#DejaVuSans-105\"/>\r\n     <use x=\"272.802734\" xlink:href=\"#DejaVuSans-111\"/>\r\n     <use x=\"333.984375\" xlink:href=\"#DejaVuSans-110\"/>\r\n     <use x=\"397.363281\" xlink:href=\"#DejaVuSans-95\"/>\r\n     <use x=\"447.363281\" xlink:href=\"#DejaVuSans-102\"/>\r\n     <use x=\"482.568359\" xlink:href=\"#DejaVuSans-114\"/>\r\n     <use x=\"523.681641\" xlink:href=\"#DejaVuSans-97\"/>\r\n     <use x=\"584.960938\" xlink:href=\"#DejaVuSans-99\"/>\r\n     <use x=\"639.941406\" xlink:href=\"#DejaVuSans-116\"/>\r\n     <use x=\"679.150391\" xlink:href=\"#DejaVuSans-105\"/>\r\n     <use x=\"706.933594\" xlink:href=\"#DejaVuSans-111\"/>\r\n     <use x=\"768.115234\" xlink:href=\"#DejaVuSans-110\"/>\r\n     <use x=\"831.494141\" xlink:href=\"#DejaVuSans-32\"/>\r\n     <use x=\"863.28125\" xlink:href=\"#DejaVuSans-60\"/>\r\n     <use x=\"947.070312\" xlink:href=\"#DejaVuSans-61\"/>\r\n     <use x=\"1030.859375\" xlink:href=\"#DejaVuSans-32\"/>\r\n     <use x=\"1062.646484\" xlink:href=\"#DejaVuSans-55\"/>\r\n     <use x=\"1126.269531\" xlink:href=\"#DejaVuSans-50\"/>\r\n     <use x=\"1189.892578\" xlink:href=\"#DejaVuSans-46\"/>\r\n     <use x=\"1221.679688\" xlink:href=\"#DejaVuSans-53\"/>\r\n    </g>\r\n    <!-- gini = 0.19 -->\r\n    <g transform=\"translate(82.795259 61.289953)scale(0.01 -0.01)\">\r\n     <use xlink:href=\"#DejaVuSans-103\"/>\r\n     <use x=\"63.476562\" xlink:href=\"#DejaVuSans-105\"/>\r\n     <use x=\"91.259766\" xlink:href=\"#DejaVuSans-110\"/>\r\n     <use x=\"154.638672\" xlink:href=\"#DejaVuSans-105\"/>\r\n     <use x=\"182.421875\" xlink:href=\"#DejaVuSans-32\"/>\r\n     <use x=\"214.208984\" xlink:href=\"#DejaVuSans-61\"/>\r\n     <use x=\"297.998047\" xlink:href=\"#DejaVuSans-32\"/>\r\n     <use x=\"329.785156\" xlink:href=\"#DejaVuSans-48\"/>\r\n     <use x=\"393.408203\" xlink:href=\"#DejaVuSans-46\"/>\r\n     <use x=\"425.195312\" xlink:href=\"#DejaVuSans-49\"/>\r\n     <use x=\"488.818359\" xlink:href=\"#DejaVuSans-57\"/>\r\n    </g>\r\n    <!-- samples = 47 -->\r\n    <g transform=\"translate(82.106041 62.409734)scale(0.01 -0.01)\">\r\n     <use xlink:href=\"#DejaVuSans-115\"/>\r\n     <use x=\"52.099609\" xlink:href=\"#DejaVuSans-97\"/>\r\n     <use x=\"113.378906\" xlink:href=\"#DejaVuSans-109\"/>\r\n     <use x=\"210.791016\" xlink:href=\"#DejaVuSans-112\"/>\r\n     <use x=\"274.267578\" xlink:href=\"#DejaVuSans-108\"/>\r\n     <use x=\"302.050781\" xlink:href=\"#DejaVuSans-101\"/>\r\n     <use x=\"363.574219\" xlink:href=\"#DejaVuSans-115\"/>\r\n     <use x=\"415.673828\" xlink:href=\"#DejaVuSans-32\"/>\r\n     <use x=\"447.460938\" xlink:href=\"#DejaVuSans-61\"/>\r\n     <use x=\"531.25\" xlink:href=\"#DejaVuSans-32\"/>\r\n     <use x=\"563.037109\" xlink:href=\"#DejaVuSans-52\"/>\r\n     <use x=\"626.660156\" xlink:href=\"#DejaVuSans-55\"/>\r\n    </g>\r\n    <!-- value = [5, 42] -->\r\n    <g transform=\"translate(81.792525 63.529516)scale(0.01 -0.01)\">\r\n     <use xlink:href=\"#DejaVuSans-118\"/>\r\n     <use x=\"59.179688\" xlink:href=\"#DejaVuSans-97\"/>\r\n     <use x=\"120.458984\" xlink:href=\"#DejaVuSans-108\"/>\r\n     <use x=\"148.242188\" xlink:href=\"#DejaVuSans-117\"/>\r\n     <use x=\"211.621094\" xlink:href=\"#DejaVuSans-101\"/>\r\n     <use x=\"273.144531\" xlink:href=\"#DejaVuSans-32\"/>\r\n     <use x=\"304.931641\" xlink:href=\"#DejaVuSans-61\"/>\r\n     <use x=\"388.720703\" xlink:href=\"#DejaVuSans-32\"/>\r\n     <use x=\"420.507812\" xlink:href=\"#DejaVuSans-91\"/>\r\n     <use x=\"459.521484\" xlink:href=\"#DejaVuSans-53\"/>\r\n     <use x=\"523.144531\" xlink:href=\"#DejaVuSans-44\"/>\r\n     <use x=\"554.931641\" xlink:href=\"#DejaVuSans-32\"/>\r\n     <use x=\"586.71875\" xlink:href=\"#DejaVuSans-52\"/>\r\n     <use x=\"650.341797\" xlink:href=\"#DejaVuSans-50\"/>\r\n     <use x=\"713.964844\" xlink:href=\"#DejaVuSans-93\"/>\r\n    </g>\r\n   </g>\r\n   <g id=\"patch_154\">\r\n    <path d=\"M 217.332505 57.688662 \r\nQ 234.409247 49.431031 252.492521 40.686681 \r\n\" style=\"fill:none;stroke:#000000;stroke-linecap:round;\"/>\r\n    <path d=\"M 217.779679 57.694582 \r\nL 217.332505 57.688662 \r\nL 217.605545 57.334475 \r\n\" style=\"fill:none;stroke:#000000;stroke-linecap:round;\"/>\r\n   </g>\r\n   <g id=\"text_77\">\r\n    <g id=\"patch_155\">\r\n     <path d=\"M 204.625424 64.023578 \r\nL 214.027768 64.023578 \r\nL 214.027768 59.096422 \r\nL 204.625424 59.096422 \r\nz\r\n\" style=\"fill:#ffffff;stroke:#000000;stroke-linejoin:miter;\"/>\r\n    </g>\r\n    <!-- age &lt;= 79.0 -->\r\n    <g transform=\"translate(206.126049 60.156266)scale(0.01 -0.01)\">\r\n     <use xlink:href=\"#DejaVuSans-97\"/>\r\n     <use x=\"61.279297\" xlink:href=\"#DejaVuSans-103\"/>\r\n     <use x=\"124.755859\" xlink:href=\"#DejaVuSans-101\"/>\r\n     <use x=\"186.279297\" xlink:href=\"#DejaVuSans-32\"/>\r\n     <use x=\"218.066406\" xlink:href=\"#DejaVuSans-60\"/>\r\n     <use x=\"301.855469\" xlink:href=\"#DejaVuSans-61\"/>\r\n     <use x=\"385.644531\" xlink:href=\"#DejaVuSans-32\"/>\r\n     <use x=\"417.431641\" xlink:href=\"#DejaVuSans-55\"/>\r\n     <use x=\"481.054688\" xlink:href=\"#DejaVuSans-57\"/>\r\n     <use x=\"544.677734\" xlink:href=\"#DejaVuSans-46\"/>\r\n     <use x=\"576.464844\" xlink:href=\"#DejaVuSans-48\"/>\r\n    </g>\r\n    <!-- gini = 0.154 -->\r\n    <g transform=\"translate(206.246283 61.276047)scale(0.01 -0.01)\">\r\n     <use xlink:href=\"#DejaVuSans-103\"/>\r\n     <use x=\"63.476562\" xlink:href=\"#DejaVuSans-105\"/>\r\n     <use x=\"91.259766\" xlink:href=\"#DejaVuSans-110\"/>\r\n     <use x=\"154.638672\" xlink:href=\"#DejaVuSans-105\"/>\r\n     <use x=\"182.421875\" xlink:href=\"#DejaVuSans-32\"/>\r\n     <use x=\"214.208984\" xlink:href=\"#DejaVuSans-61\"/>\r\n     <use x=\"297.998047\" xlink:href=\"#DejaVuSans-32\"/>\r\n     <use x=\"329.785156\" xlink:href=\"#DejaVuSans-48\"/>\r\n     <use x=\"393.408203\" xlink:href=\"#DejaVuSans-46\"/>\r\n     <use x=\"425.195312\" xlink:href=\"#DejaVuSans-49\"/>\r\n     <use x=\"488.818359\" xlink:href=\"#DejaVuSans-53\"/>\r\n     <use x=\"552.441406\" xlink:href=\"#DejaVuSans-52\"/>\r\n    </g>\r\n    <!-- samples = 143 -->\r\n    <g transform=\"translate(205.557064 62.395828)scale(0.01 -0.01)\">\r\n     <use xlink:href=\"#DejaVuSans-115\"/>\r\n     <use x=\"52.099609\" xlink:href=\"#DejaVuSans-97\"/>\r\n     <use x=\"113.378906\" xlink:href=\"#DejaVuSans-109\"/>\r\n     <use x=\"210.791016\" xlink:href=\"#DejaVuSans-112\"/>\r\n     <use x=\"274.267578\" xlink:href=\"#DejaVuSans-108\"/>\r\n     <use x=\"302.050781\" xlink:href=\"#DejaVuSans-101\"/>\r\n     <use x=\"363.574219\" xlink:href=\"#DejaVuSans-115\"/>\r\n     <use x=\"415.673828\" xlink:href=\"#DejaVuSans-32\"/>\r\n     <use x=\"447.460938\" xlink:href=\"#DejaVuSans-61\"/>\r\n     <use x=\"531.25\" xlink:href=\"#DejaVuSans-32\"/>\r\n     <use x=\"563.037109\" xlink:href=\"#DejaVuSans-49\"/>\r\n     <use x=\"626.660156\" xlink:href=\"#DejaVuSans-52\"/>\r\n     <use x=\"690.283203\" xlink:href=\"#DejaVuSans-51\"/>\r\n    </g>\r\n    <!-- value = [131, 12] -->\r\n    <g transform=\"translate(204.925424 63.515609)scale(0.01 -0.01)\">\r\n     <use xlink:href=\"#DejaVuSans-118\"/>\r\n     <use x=\"59.179688\" xlink:href=\"#DejaVuSans-97\"/>\r\n     <use x=\"120.458984\" xlink:href=\"#DejaVuSans-108\"/>\r\n     <use x=\"148.242188\" xlink:href=\"#DejaVuSans-117\"/>\r\n     <use x=\"211.621094\" xlink:href=\"#DejaVuSans-101\"/>\r\n     <use x=\"273.144531\" xlink:href=\"#DejaVuSans-32\"/>\r\n     <use x=\"304.931641\" xlink:href=\"#DejaVuSans-61\"/>\r\n     <use x=\"388.720703\" xlink:href=\"#DejaVuSans-32\"/>\r\n     <use x=\"420.507812\" xlink:href=\"#DejaVuSans-91\"/>\r\n     <use x=\"459.521484\" xlink:href=\"#DejaVuSans-49\"/>\r\n     <use x=\"523.144531\" xlink:href=\"#DejaVuSans-51\"/>\r\n     <use x=\"586.767578\" xlink:href=\"#DejaVuSans-49\"/>\r\n     <use x=\"650.390625\" xlink:href=\"#DejaVuSans-44\"/>\r\n     <use x=\"682.177734\" xlink:href=\"#DejaVuSans-32\"/>\r\n     <use x=\"713.964844\" xlink:href=\"#DejaVuSans-49\"/>\r\n     <use x=\"777.587891\" xlink:href=\"#DejaVuSans-50\"/>\r\n     <use x=\"841.210938\" xlink:href=\"#DejaVuSans-93\"/>\r\n    </g>\r\n   </g>\r\n   <g id=\"patch_156\">\r\n    <path d=\"M 290.236812 57.196952 \r\nQ 273.669192 49.185512 256.095042 40.687354 \r\n\" style=\"fill:none;stroke:#000000;stroke-linecap:round;\"/>\r\n    <path d=\"M 289.963771 56.842765 \r\nL 290.236812 57.196952 \r\nL 289.789637 57.202872 \r\n\" style=\"fill:none;stroke:#000000;stroke-linecap:round;\"/>\r\n   </g>\r\n   <g id=\"text_78\">\r\n    <g id=\"patch_157\">\r\n     <path d=\"M 292.533012 64.037484 \r\nL 305.986137 64.037484 \r\nL 305.986137 59.054703 \r\nL 292.533012 59.054703 \r\nz\r\n\" style=\"fill:#ffffff;stroke:#000000;stroke-linejoin:miter;\"/>\r\n    </g>\r\n    <!-- ejection_fraction &lt;= 32.5 -->\r\n    <g transform=\"translate(292.833012 60.142359)scale(0.01 -0.01)\">\r\n     <use xlink:href=\"#DejaVuSans-101\"/>\r\n     <use x=\"61.523438\" xlink:href=\"#DejaVuSans-106\"/>\r\n     <use x=\"89.306641\" xlink:href=\"#DejaVuSans-101\"/>\r\n     <use x=\"150.830078\" xlink:href=\"#DejaVuSans-99\"/>\r\n     <use x=\"205.810547\" xlink:href=\"#DejaVuSans-116\"/>\r\n     <use x=\"245.019531\" xlink:href=\"#DejaVuSans-105\"/>\r\n     <use x=\"272.802734\" xlink:href=\"#DejaVuSans-111\"/>\r\n     <use x=\"333.984375\" xlink:href=\"#DejaVuSans-110\"/>\r\n     <use x=\"397.363281\" xlink:href=\"#DejaVuSans-95\"/>\r\n     <use x=\"447.363281\" xlink:href=\"#DejaVuSans-102\"/>\r\n     <use x=\"482.568359\" xlink:href=\"#DejaVuSans-114\"/>\r\n     <use x=\"523.681641\" xlink:href=\"#DejaVuSans-97\"/>\r\n     <use x=\"584.960938\" xlink:href=\"#DejaVuSans-99\"/>\r\n     <use x=\"639.941406\" xlink:href=\"#DejaVuSans-116\"/>\r\n     <use x=\"679.150391\" xlink:href=\"#DejaVuSans-105\"/>\r\n     <use x=\"706.933594\" xlink:href=\"#DejaVuSans-111\"/>\r\n     <use x=\"768.115234\" xlink:href=\"#DejaVuSans-110\"/>\r\n     <use x=\"831.494141\" xlink:href=\"#DejaVuSans-32\"/>\r\n     <use x=\"863.28125\" xlink:href=\"#DejaVuSans-60\"/>\r\n     <use x=\"947.070312\" xlink:href=\"#DejaVuSans-61\"/>\r\n     <use x=\"1030.859375\" xlink:href=\"#DejaVuSans-32\"/>\r\n     <use x=\"1062.646484\" xlink:href=\"#DejaVuSans-51\"/>\r\n     <use x=\"1126.269531\" xlink:href=\"#DejaVuSans-50\"/>\r\n     <use x=\"1189.892578\" xlink:href=\"#DejaVuSans-46\"/>\r\n     <use x=\"1221.679688\" xlink:href=\"#DejaVuSans-53\"/>\r\n    </g>\r\n    <!-- gini = 0.5 -->\r\n    <g transform=\"translate(296.815512 61.289953)scale(0.01 -0.01)\">\r\n     <use xlink:href=\"#DejaVuSans-103\"/>\r\n     <use x=\"63.476562\" xlink:href=\"#DejaVuSans-105\"/>\r\n     <use x=\"91.259766\" xlink:href=\"#DejaVuSans-110\"/>\r\n     <use x=\"154.638672\" xlink:href=\"#DejaVuSans-105\"/>\r\n     <use x=\"182.421875\" xlink:href=\"#DejaVuSans-32\"/>\r\n     <use x=\"214.208984\" xlink:href=\"#DejaVuSans-61\"/>\r\n     <use x=\"297.998047\" xlink:href=\"#DejaVuSans-32\"/>\r\n     <use x=\"329.785156\" xlink:href=\"#DejaVuSans-48\"/>\r\n     <use x=\"393.408203\" xlink:href=\"#DejaVuSans-46\"/>\r\n     <use x=\"425.195312\" xlink:href=\"#DejaVuSans-53\"/>\r\n    </g>\r\n    <!-- samples = 37 -->\r\n    <g transform=\"translate(295.808168 62.409734)scale(0.01 -0.01)\">\r\n     <use xlink:href=\"#DejaVuSans-115\"/>\r\n     <use x=\"52.099609\" xlink:href=\"#DejaVuSans-97\"/>\r\n     <use x=\"113.378906\" xlink:href=\"#DejaVuSans-109\"/>\r\n     <use x=\"210.791016\" xlink:href=\"#DejaVuSans-112\"/>\r\n     <use x=\"274.267578\" xlink:href=\"#DejaVuSans-108\"/>\r\n     <use x=\"302.050781\" xlink:href=\"#DejaVuSans-101\"/>\r\n     <use x=\"363.574219\" xlink:href=\"#DejaVuSans-115\"/>\r\n     <use x=\"415.673828\" xlink:href=\"#DejaVuSans-32\"/>\r\n     <use x=\"447.460938\" xlink:href=\"#DejaVuSans-61\"/>\r\n     <use x=\"531.25\" xlink:href=\"#DejaVuSans-32\"/>\r\n     <use x=\"563.037109\" xlink:href=\"#DejaVuSans-51\"/>\r\n     <use x=\"626.660156\" xlink:href=\"#DejaVuSans-55\"/>\r\n    </g>\r\n    <!-- value = [19, 18] -->\r\n    <g transform=\"translate(295.176528 63.529516)scale(0.01 -0.01)\">\r\n     <use xlink:href=\"#DejaVuSans-118\"/>\r\n     <use x=\"59.179688\" xlink:href=\"#DejaVuSans-97\"/>\r\n     <use x=\"120.458984\" xlink:href=\"#DejaVuSans-108\"/>\r\n     <use x=\"148.242188\" xlink:href=\"#DejaVuSans-117\"/>\r\n     <use x=\"211.621094\" xlink:href=\"#DejaVuSans-101\"/>\r\n     <use x=\"273.144531\" xlink:href=\"#DejaVuSans-32\"/>\r\n     <use x=\"304.931641\" xlink:href=\"#DejaVuSans-61\"/>\r\n     <use x=\"388.720703\" xlink:href=\"#DejaVuSans-32\"/>\r\n     <use x=\"420.507812\" xlink:href=\"#DejaVuSans-91\"/>\r\n     <use x=\"459.521484\" xlink:href=\"#DejaVuSans-49\"/>\r\n     <use x=\"523.144531\" xlink:href=\"#DejaVuSans-57\"/>\r\n     <use x=\"586.767578\" xlink:href=\"#DejaVuSans-44\"/>\r\n     <use x=\"618.554688\" xlink:href=\"#DejaVuSans-32\"/>\r\n     <use x=\"650.341797\" xlink:href=\"#DejaVuSans-49\"/>\r\n     <use x=\"713.964844\" xlink:href=\"#DejaVuSans-56\"/>\r\n     <use x=\"777.587891\" xlink:href=\"#DejaVuSans-93\"/>\r\n    </g>\r\n   </g>\r\n   <g id=\"patch_158\">\r\n    <path d=\"M 66.452588 37.011145 \r\nQ 108.65199 27.871452 151.944092 18.495099 \r\n\" style=\"fill:none;stroke:#000000;stroke-linecap:round;\"/>\r\n    <path d=\"M 66.885859 37.121942 \r\nL 66.452588 37.011145 \r\nL 66.801188 36.731006 \r\n\" style=\"fill:none;stroke:#000000;stroke-linecap:round;\"/>\r\n   </g>\r\n   <g id=\"text_79\">\r\n    <g id=\"patch_159\">\r\n     <path d=\"M 44.09455 42.293484 \r\nL 62.909706 42.293484 \r\nL 62.909706 37.310703 \r\nL 44.09455 37.310703 \r\nz\r\n\" style=\"fill:#ffffff;stroke:#000000;stroke-linejoin:miter;\"/>\r\n    </g>\r\n    <!-- creatinine_phosphokinase &lt;= 109.5 -->\r\n    <g transform=\"translate(44.39455 38.398359)scale(0.01 -0.01)\">\r\n     <use xlink:href=\"#DejaVuSans-99\"/>\r\n     <use x=\"54.980469\" xlink:href=\"#DejaVuSans-114\"/>\r\n     <use x=\"96.0625\" xlink:href=\"#DejaVuSans-101\"/>\r\n     <use x=\"157.585938\" xlink:href=\"#DejaVuSans-97\"/>\r\n     <use x=\"218.865234\" xlink:href=\"#DejaVuSans-116\"/>\r\n     <use x=\"258.074219\" xlink:href=\"#DejaVuSans-105\"/>\r\n     <use x=\"285.857422\" xlink:href=\"#DejaVuSans-110\"/>\r\n     <use x=\"349.236328\" xlink:href=\"#DejaVuSans-105\"/>\r\n     <use x=\"377.019531\" xlink:href=\"#DejaVuSans-110\"/>\r\n     <use x=\"440.398438\" xlink:href=\"#DejaVuSans-101\"/>\r\n     <use x=\"501.921875\" xlink:href=\"#DejaVuSans-95\"/>\r\n     <use x=\"551.921875\" xlink:href=\"#DejaVuSans-112\"/>\r\n     <use x=\"615.398438\" xlink:href=\"#DejaVuSans-104\"/>\r\n     <use x=\"678.777344\" xlink:href=\"#DejaVuSans-111\"/>\r\n     <use x=\"739.958984\" xlink:href=\"#DejaVuSans-115\"/>\r\n     <use x=\"792.058594\" xlink:href=\"#DejaVuSans-112\"/>\r\n     <use x=\"855.535156\" xlink:href=\"#DejaVuSans-104\"/>\r\n     <use x=\"918.914062\" xlink:href=\"#DejaVuSans-111\"/>\r\n     <use x=\"980.095703\" xlink:href=\"#DejaVuSans-107\"/>\r\n     <use x=\"1038.005859\" xlink:href=\"#DejaVuSans-105\"/>\r\n     <use x=\"1065.789062\" xlink:href=\"#DejaVuSans-110\"/>\r\n     <use x=\"1129.167969\" xlink:href=\"#DejaVuSans-97\"/>\r\n     <use x=\"1190.447266\" xlink:href=\"#DejaVuSans-115\"/>\r\n     <use x=\"1242.546875\" xlink:href=\"#DejaVuSans-101\"/>\r\n     <use x=\"1304.070312\" xlink:href=\"#DejaVuSans-32\"/>\r\n     <use x=\"1335.857422\" xlink:href=\"#DejaVuSans-60\"/>\r\n     <use x=\"1419.646484\" xlink:href=\"#DejaVuSans-61\"/>\r\n     <use x=\"1503.435547\" xlink:href=\"#DejaVuSans-32\"/>\r\n     <use x=\"1535.222656\" xlink:href=\"#DejaVuSans-49\"/>\r\n     <use x=\"1598.845703\" xlink:href=\"#DejaVuSans-48\"/>\r\n     <use x=\"1662.46875\" xlink:href=\"#DejaVuSans-57\"/>\r\n     <use x=\"1726.091797\" xlink:href=\"#DejaVuSans-46\"/>\r\n     <use x=\"1757.878906\" xlink:href=\"#DejaVuSans-53\"/>\r\n    </g>\r\n    <!-- gini = 0.282 -->\r\n    <g transform=\"translate(50.421815 39.545953)scale(0.01 -0.01)\">\r\n     <use xlink:href=\"#DejaVuSans-103\"/>\r\n     <use x=\"63.476562\" xlink:href=\"#DejaVuSans-105\"/>\r\n     <use x=\"91.259766\" xlink:href=\"#DejaVuSans-110\"/>\r\n     <use x=\"154.638672\" xlink:href=\"#DejaVuSans-105\"/>\r\n     <use x=\"182.421875\" xlink:href=\"#DejaVuSans-32\"/>\r\n     <use x=\"214.208984\" xlink:href=\"#DejaVuSans-61\"/>\r\n     <use x=\"297.998047\" xlink:href=\"#DejaVuSans-32\"/>\r\n     <use x=\"329.785156\" xlink:href=\"#DejaVuSans-48\"/>\r\n     <use x=\"393.408203\" xlink:href=\"#DejaVuSans-46\"/>\r\n     <use x=\"425.195312\" xlink:href=\"#DejaVuSans-50\"/>\r\n     <use x=\"488.818359\" xlink:href=\"#DejaVuSans-56\"/>\r\n     <use x=\"552.441406\" xlink:href=\"#DejaVuSans-50\"/>\r\n    </g>\r\n    <!-- samples = 59 -->\r\n    <g transform=\"translate(50.050721 40.665734)scale(0.01 -0.01)\">\r\n     <use xlink:href=\"#DejaVuSans-115\"/>\r\n     <use x=\"52.099609\" xlink:href=\"#DejaVuSans-97\"/>\r\n     <use x=\"113.378906\" xlink:href=\"#DejaVuSans-109\"/>\r\n     <use x=\"210.791016\" xlink:href=\"#DejaVuSans-112\"/>\r\n     <use x=\"274.267578\" xlink:href=\"#DejaVuSans-108\"/>\r\n     <use x=\"302.050781\" xlink:href=\"#DejaVuSans-101\"/>\r\n     <use x=\"363.574219\" xlink:href=\"#DejaVuSans-115\"/>\r\n     <use x=\"415.673828\" xlink:href=\"#DejaVuSans-32\"/>\r\n     <use x=\"447.460938\" xlink:href=\"#DejaVuSans-61\"/>\r\n     <use x=\"531.25\" xlink:href=\"#DejaVuSans-32\"/>\r\n     <use x=\"563.037109\" xlink:href=\"#DejaVuSans-53\"/>\r\n     <use x=\"626.660156\" xlink:href=\"#DejaVuSans-57\"/>\r\n    </g>\r\n    <!-- value = [10, 49] -->\r\n    <g transform=\"translate(49.419081 41.785516)scale(0.01 -0.01)\">\r\n     <use xlink:href=\"#DejaVuSans-118\"/>\r\n     <use x=\"59.179688\" xlink:href=\"#DejaVuSans-97\"/>\r\n     <use x=\"120.458984\" xlink:href=\"#DejaVuSans-108\"/>\r\n     <use x=\"148.242188\" xlink:href=\"#DejaVuSans-117\"/>\r\n     <use x=\"211.621094\" xlink:href=\"#DejaVuSans-101\"/>\r\n     <use x=\"273.144531\" xlink:href=\"#DejaVuSans-32\"/>\r\n     <use x=\"304.931641\" xlink:href=\"#DejaVuSans-61\"/>\r\n     <use x=\"388.720703\" xlink:href=\"#DejaVuSans-32\"/>\r\n     <use x=\"420.507812\" xlink:href=\"#DejaVuSans-91\"/>\r\n     <use x=\"459.521484\" xlink:href=\"#DejaVuSans-49\"/>\r\n     <use x=\"523.144531\" xlink:href=\"#DejaVuSans-48\"/>\r\n     <use x=\"586.767578\" xlink:href=\"#DejaVuSans-44\"/>\r\n     <use x=\"618.554688\" xlink:href=\"#DejaVuSans-32\"/>\r\n     <use x=\"650.341797\" xlink:href=\"#DejaVuSans-52\"/>\r\n     <use x=\"713.964844\" xlink:href=\"#DejaVuSans-57\"/>\r\n     <use x=\"777.587891\" xlink:href=\"#DejaVuSans-93\"/>\r\n    </g>\r\n   </g>\r\n   <g id=\"patch_160\">\r\n    <path d=\"M 243.839847 37.552002 \r\nQ 200.391602 28.14183 155.850657 18.494998 \r\n\" style=\"fill:none;stroke:#000000;stroke-linecap:round;\"/>\r\n    <path d=\"M 243.491246 37.271863 \r\nL 243.839847 37.552002 \r\nL 243.406576 37.662799 \r\n\" style=\"fill:none;stroke:#000000;stroke-linecap:round;\"/>\r\n   </g>\r\n   <g id=\"text_80\">\r\n    <g id=\"patch_161\">\r\n     <path d=\"M 247.386835 42.293484 \r\nL 261.199335 42.293484 \r\nL 261.199335 37.310703 \r\nL 247.386835 37.310703 \r\nz\r\n\" style=\"fill:#ffffff;stroke:#000000;stroke-linejoin:miter;\"/>\r\n    </g>\r\n    <!-- serum_creatinine &lt;= 1.45 -->\r\n    <g transform=\"translate(247.686835 38.398359)scale(0.01 -0.01)\">\r\n     <use xlink:href=\"#DejaVuSans-115\"/>\r\n     <use x=\"52.099609\" xlink:href=\"#DejaVuSans-101\"/>\r\n     <use x=\"113.623047\" xlink:href=\"#DejaVuSans-114\"/>\r\n     <use x=\"154.736328\" xlink:href=\"#DejaVuSans-117\"/>\r\n     <use x=\"218.115234\" xlink:href=\"#DejaVuSans-109\"/>\r\n     <use x=\"315.527344\" xlink:href=\"#DejaVuSans-95\"/>\r\n     <use x=\"365.527344\" xlink:href=\"#DejaVuSans-99\"/>\r\n     <use x=\"420.507812\" xlink:href=\"#DejaVuSans-114\"/>\r\n     <use x=\"461.589844\" xlink:href=\"#DejaVuSans-101\"/>\r\n     <use x=\"523.113281\" xlink:href=\"#DejaVuSans-97\"/>\r\n     <use x=\"584.392578\" xlink:href=\"#DejaVuSans-116\"/>\r\n     <use x=\"623.601562\" xlink:href=\"#DejaVuSans-105\"/>\r\n     <use x=\"651.384766\" xlink:href=\"#DejaVuSans-110\"/>\r\n     <use x=\"714.763672\" xlink:href=\"#DejaVuSans-105\"/>\r\n     <use x=\"742.546875\" xlink:href=\"#DejaVuSans-110\"/>\r\n     <use x=\"805.925781\" xlink:href=\"#DejaVuSans-101\"/>\r\n     <use x=\"867.449219\" xlink:href=\"#DejaVuSans-32\"/>\r\n     <use x=\"899.236328\" xlink:href=\"#DejaVuSans-60\"/>\r\n     <use x=\"983.025391\" xlink:href=\"#DejaVuSans-61\"/>\r\n     <use x=\"1066.814453\" xlink:href=\"#DejaVuSans-32\"/>\r\n     <use x=\"1098.601562\" xlink:href=\"#DejaVuSans-49\"/>\r\n     <use x=\"1162.224609\" xlink:href=\"#DejaVuSans-46\"/>\r\n     <use x=\"1194.011719\" xlink:href=\"#DejaVuSans-52\"/>\r\n     <use x=\"1257.634766\" xlink:href=\"#DejaVuSans-53\"/>\r\n    </g>\r\n    <!-- gini = 0.278 -->\r\n    <g transform=\"translate(251.212773 39.545953)scale(0.01 -0.01)\">\r\n     <use xlink:href=\"#DejaVuSans-103\"/>\r\n     <use x=\"63.476562\" xlink:href=\"#DejaVuSans-105\"/>\r\n     <use x=\"91.259766\" xlink:href=\"#DejaVuSans-110\"/>\r\n     <use x=\"154.638672\" xlink:href=\"#DejaVuSans-105\"/>\r\n     <use x=\"182.421875\" xlink:href=\"#DejaVuSans-32\"/>\r\n     <use x=\"214.208984\" xlink:href=\"#DejaVuSans-61\"/>\r\n     <use x=\"297.998047\" xlink:href=\"#DejaVuSans-32\"/>\r\n     <use x=\"329.785156\" xlink:href=\"#DejaVuSans-48\"/>\r\n     <use x=\"393.408203\" xlink:href=\"#DejaVuSans-46\"/>\r\n     <use x=\"425.195312\" xlink:href=\"#DejaVuSans-50\"/>\r\n     <use x=\"488.818359\" xlink:href=\"#DejaVuSans-55\"/>\r\n     <use x=\"552.441406\" xlink:href=\"#DejaVuSans-56\"/>\r\n    </g>\r\n    <!-- samples = 180 -->\r\n    <g transform=\"translate(250.523554 40.665734)scale(0.01 -0.01)\">\r\n     <use xlink:href=\"#DejaVuSans-115\"/>\r\n     <use x=\"52.099609\" xlink:href=\"#DejaVuSans-97\"/>\r\n     <use x=\"113.378906\" xlink:href=\"#DejaVuSans-109\"/>\r\n     <use x=\"210.791016\" xlink:href=\"#DejaVuSans-112\"/>\r\n     <use x=\"274.267578\" xlink:href=\"#DejaVuSans-108\"/>\r\n     <use x=\"302.050781\" xlink:href=\"#DejaVuSans-101\"/>\r\n     <use x=\"363.574219\" xlink:href=\"#DejaVuSans-115\"/>\r\n     <use x=\"415.673828\" xlink:href=\"#DejaVuSans-32\"/>\r\n     <use x=\"447.460938\" xlink:href=\"#DejaVuSans-61\"/>\r\n     <use x=\"531.25\" xlink:href=\"#DejaVuSans-32\"/>\r\n     <use x=\"563.037109\" xlink:href=\"#DejaVuSans-49\"/>\r\n     <use x=\"626.660156\" xlink:href=\"#DejaVuSans-56\"/>\r\n     <use x=\"690.283203\" xlink:href=\"#DejaVuSans-48\"/>\r\n    </g>\r\n    <!-- value = [150, 30] -->\r\n    <g transform=\"translate(249.891913 41.785516)scale(0.01 -0.01)\">\r\n     <use xlink:href=\"#DejaVuSans-118\"/>\r\n     <use x=\"59.179688\" xlink:href=\"#DejaVuSans-97\"/>\r\n     <use x=\"120.458984\" xlink:href=\"#DejaVuSans-108\"/>\r\n     <use x=\"148.242188\" xlink:href=\"#DejaVuSans-117\"/>\r\n     <use x=\"211.621094\" xlink:href=\"#DejaVuSans-101\"/>\r\n     <use x=\"273.144531\" xlink:href=\"#DejaVuSans-32\"/>\r\n     <use x=\"304.931641\" xlink:href=\"#DejaVuSans-61\"/>\r\n     <use x=\"388.720703\" xlink:href=\"#DejaVuSans-32\"/>\r\n     <use x=\"420.507812\" xlink:href=\"#DejaVuSans-91\"/>\r\n     <use x=\"459.521484\" xlink:href=\"#DejaVuSans-49\"/>\r\n     <use x=\"523.144531\" xlink:href=\"#DejaVuSans-53\"/>\r\n     <use x=\"586.767578\" xlink:href=\"#DejaVuSans-48\"/>\r\n     <use x=\"650.390625\" xlink:href=\"#DejaVuSans-44\"/>\r\n     <use x=\"682.177734\" xlink:href=\"#DejaVuSans-32\"/>\r\n     <use x=\"713.964844\" xlink:href=\"#DejaVuSans-51\"/>\r\n     <use x=\"777.587891\" xlink:href=\"#DejaVuSans-48\"/>\r\n     <use x=\"841.210938\" xlink:href=\"#DejaVuSans-93\"/>\r\n    </g>\r\n   </g>\r\n   <g id=\"text_81\">\r\n    <g id=\"patch_162\">\r\n     <path d=\"M 149.196435 20.535578 \r\nL 158.598778 20.535578 \r\nL 158.598778 15.608422 \r\nL 149.196435 15.608422 \r\nz\r\n\" style=\"fill:#ffffff;stroke:#000000;stroke-linejoin:miter;\"/>\r\n    </g>\r\n    <!-- time &lt;= 67.5 -->\r\n    <g transform=\"translate(150.498935 16.668266)scale(0.01 -0.01)\">\r\n     <use xlink:href=\"#DejaVuSans-116\"/>\r\n     <use x=\"39.208984\" xlink:href=\"#DejaVuSans-105\"/>\r\n     <use x=\"66.992188\" xlink:href=\"#DejaVuSans-109\"/>\r\n     <use x=\"164.404297\" xlink:href=\"#DejaVuSans-101\"/>\r\n     <use x=\"225.927734\" xlink:href=\"#DejaVuSans-32\"/>\r\n     <use x=\"257.714844\" xlink:href=\"#DejaVuSans-60\"/>\r\n     <use x=\"341.503906\" xlink:href=\"#DejaVuSans-61\"/>\r\n     <use x=\"425.292969\" xlink:href=\"#DejaVuSans-32\"/>\r\n     <use x=\"457.080078\" xlink:href=\"#DejaVuSans-54\"/>\r\n     <use x=\"520.703125\" xlink:href=\"#DejaVuSans-55\"/>\r\n     <use x=\"584.326172\" xlink:href=\"#DejaVuSans-46\"/>\r\n     <use x=\"616.113281\" xlink:href=\"#DejaVuSans-53\"/>\r\n    </g>\r\n    <!-- gini = 0.443 -->\r\n    <g transform=\"translate(150.817294 17.788047)scale(0.01 -0.01)\">\r\n     <use xlink:href=\"#DejaVuSans-103\"/>\r\n     <use x=\"63.476562\" xlink:href=\"#DejaVuSans-105\"/>\r\n     <use x=\"91.259766\" xlink:href=\"#DejaVuSans-110\"/>\r\n     <use x=\"154.638672\" xlink:href=\"#DejaVuSans-105\"/>\r\n     <use x=\"182.421875\" xlink:href=\"#DejaVuSans-32\"/>\r\n     <use x=\"214.208984\" xlink:href=\"#DejaVuSans-61\"/>\r\n     <use x=\"297.998047\" xlink:href=\"#DejaVuSans-32\"/>\r\n     <use x=\"329.785156\" xlink:href=\"#DejaVuSans-48\"/>\r\n     <use x=\"393.408203\" xlink:href=\"#DejaVuSans-46\"/>\r\n     <use x=\"425.195312\" xlink:href=\"#DejaVuSans-52\"/>\r\n     <use x=\"488.818359\" xlink:href=\"#DejaVuSans-52\"/>\r\n     <use x=\"552.441406\" xlink:href=\"#DejaVuSans-51\"/>\r\n    </g>\r\n    <!-- samples = 239 -->\r\n    <g transform=\"translate(150.128075 18.907828)scale(0.01 -0.01)\">\r\n     <use xlink:href=\"#DejaVuSans-115\"/>\r\n     <use x=\"52.099609\" xlink:href=\"#DejaVuSans-97\"/>\r\n     <use x=\"113.378906\" xlink:href=\"#DejaVuSans-109\"/>\r\n     <use x=\"210.791016\" xlink:href=\"#DejaVuSans-112\"/>\r\n     <use x=\"274.267578\" xlink:href=\"#DejaVuSans-108\"/>\r\n     <use x=\"302.050781\" xlink:href=\"#DejaVuSans-101\"/>\r\n     <use x=\"363.574219\" xlink:href=\"#DejaVuSans-115\"/>\r\n     <use x=\"415.673828\" xlink:href=\"#DejaVuSans-32\"/>\r\n     <use x=\"447.460938\" xlink:href=\"#DejaVuSans-61\"/>\r\n     <use x=\"531.25\" xlink:href=\"#DejaVuSans-32\"/>\r\n     <use x=\"563.037109\" xlink:href=\"#DejaVuSans-50\"/>\r\n     <use x=\"626.660156\" xlink:href=\"#DejaVuSans-51\"/>\r\n     <use x=\"690.283203\" xlink:href=\"#DejaVuSans-57\"/>\r\n    </g>\r\n    <!-- value = [160, 79] -->\r\n    <g transform=\"translate(149.496435 20.027609)scale(0.01 -0.01)\">\r\n     <use xlink:href=\"#DejaVuSans-118\"/>\r\n     <use x=\"59.179688\" xlink:href=\"#DejaVuSans-97\"/>\r\n     <use x=\"120.458984\" xlink:href=\"#DejaVuSans-108\"/>\r\n     <use x=\"148.242188\" xlink:href=\"#DejaVuSans-117\"/>\r\n     <use x=\"211.621094\" xlink:href=\"#DejaVuSans-101\"/>\r\n     <use x=\"273.144531\" xlink:href=\"#DejaVuSans-32\"/>\r\n     <use x=\"304.931641\" xlink:href=\"#DejaVuSans-61\"/>\r\n     <use x=\"388.720703\" xlink:href=\"#DejaVuSans-32\"/>\r\n     <use x=\"420.507812\" xlink:href=\"#DejaVuSans-91\"/>\r\n     <use x=\"459.521484\" xlink:href=\"#DejaVuSans-49\"/>\r\n     <use x=\"523.144531\" xlink:href=\"#DejaVuSans-54\"/>\r\n     <use x=\"586.767578\" xlink:href=\"#DejaVuSans-48\"/>\r\n     <use x=\"650.390625\" xlink:href=\"#DejaVuSans-44\"/>\r\n     <use x=\"682.177734\" xlink:href=\"#DejaVuSans-32\"/>\r\n     <use x=\"713.964844\" xlink:href=\"#DejaVuSans-55\"/>\r\n     <use x=\"777.587891\" xlink:href=\"#DejaVuSans-57\"/>\r\n     <use x=\"841.210938\" xlink:href=\"#DejaVuSans-93\"/>\r\n    </g>\r\n   </g>\r\n  </g>\r\n </g>\r\n</svg>\r\n",
      "image/png": "[encoded data removed]"
     },
     "metadata": {
      "needs_background": "light"
     }
    }
   ],
   "source": [
    "plot_tree(decision_tree= tree.fit(x_train, y_train), feature_names= Features)\n",
    "plt.show()"
   ]
  },
  {
   "cell_type": "code",
   "execution_count": 59,
   "metadata": {},
   "outputs": [
    {
     "output_type": "display_data",
     "data": {
      "text/plain": "    Test  Pred\n179    0     0\n221    0     0\n226    0     1\n7      1     1\n173    0     0",
      "text/html": "<div>\n<style scoped>\n    .dataframe tbody tr th:only-of-type {\n        vertical-align: middle;\n    }\n\n    .dataframe tbody tr th {\n        vertical-align: top;\n    }\n\n    .dataframe thead th {\n        text-align: right;\n    }\n</style>\n<table border=\"1\" class=\"dataframe\">\n  <thead>\n    <tr style=\"text-align: right;\">\n      <th></th>\n      <th>Test</th>\n      <th>Pred</th>\n    </tr>\n  </thead>\n  <tbody>\n    <tr>\n      <td>179</td>\n      <td>0</td>\n      <td>0</td>\n    </tr>\n    <tr>\n      <td>221</td>\n      <td>0</td>\n      <td>0</td>\n    </tr>\n    <tr>\n      <td>226</td>\n      <td>0</td>\n      <td>1</td>\n    </tr>\n    <tr>\n      <td>7</td>\n      <td>1</td>\n      <td>1</td>\n    </tr>\n    <tr>\n      <td>173</td>\n      <td>0</td>\n      <td>0</td>\n    </tr>\n  </tbody>\n</table>\n</div>"
     },
     "metadata": {}
    }
   ],
   "source": [
    "res = {}\n",
    "res = pd.DataFrame(res)\n",
    "res['Test'] = pd.Series(y_test)\n",
    "res['Pred'] = tree_pred\n",
    "display(res.head(5))"
   ]
  },
  {
   "source": [
    "# Validação:\n",
    "## Para a validação, foi utilizado o método de Cross-validation\n",
    "\n",
    "### Cross-validation:\n",
    "\n",
    "Esta é uma técnica utilizada em sua maioria na validação de modelos de aprendizado de máquina em uma amostra de dados limitada, machine learning. Em resumo, a validação cruzada é uma técnica que avalia a capacidade de generalização de um modelo, a partir de um conjunto de dados, para isso ele realiza uma troca de elementos do conjunto de teste com os do conjunto de treinamento, por um determinado número de vezes, estipulado por nós, e ao final de cada operação ele gera uma porcentagem de precisão. Assim, neste busca-se estimar o quão preciso é este modelo na prática, ou seja, a sua precisão em um novo conjunto de dados. Portanto, este foi utilizado em nosso projeto, por possuir uma pequena amostra de n = 300, foi utilizado este modelo, pois ele evita que o modelo de validação fique menos preciso."
   ],
   "cell_type": "markdown",
   "metadata": {}
  },
  {
   "source": [
    "### Resultados do modelo de regressão logística:\n"
   ],
   "cell_type": "markdown",
   "metadata": {}
  },
  {
   "cell_type": "code",
   "execution_count": 60,
   "metadata": {},
   "outputs": [
    {
     "output_type": "stream",
     "name": "stdout",
     "text": [
      "A precisão média é: 85.62%\n"
     ]
    }
   ],
   "source": [
    "cv_results_log = cross_validate(log, x_test, y_test, cv=10)\n",
    "precisão_med = np.mean(cv_results_log['test_score'])\n",
    "print( f'A precisão média é: {precisão_med*100:.2f}%')"
   ]
  },
  {
   "source": [
    "### Resultados do modelo de árvore de decisão:"
   ],
   "cell_type": "markdown",
   "metadata": {}
  },
  {
   "cell_type": "code",
   "execution_count": 63,
   "metadata": {},
   "outputs": [
    {
     "output_type": "stream",
     "name": "stdout",
     "text": [
      "A precisão média é: 85.71%\n"
     ]
    }
   ],
   "source": [
    "cv_results_tree = cross_validate(tree, x_test, y_test, cv=10)\n",
    "precisão_med2 = np.mean(cv_results_tree['test_score'])\n",
    "print( f'A precisão média é: {precisão_med2*100:.2f}%')"
   ]
  },
  {
   "source": [
    "# Conclusão:\n",
    "### Por fim, nós concluímos que a concentração de creatinina no sangue, o tempo sob observação e o quanto de sangue que entra no coração sai, são parâmetros que mais afetam a taxa de óbito, e isto foi comprovado tanto pela nossa análise exploratória, histogramas e gráficos de setor, como pela árvore de decisão. Além disso observamos que a precisão possui uma variância significativa, isto se deve ao tamanho da amostra ser pequeno."
   ],
   "cell_type": "markdown",
   "metadata": {}
  }
 ]
}